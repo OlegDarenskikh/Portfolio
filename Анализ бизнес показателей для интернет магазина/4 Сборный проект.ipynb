{
 "cells": [
  {
   "cell_type": "markdown",
   "metadata": {
    "id": "9IuwLXVZuqj3",
    "toc": true
   },
   "source": [
    "<h1>Содержание<span class=\"tocSkip\"></span></h1>\n",
    "<div class=\"toc\"><ul class=\"toc-item\"><li><span><a href=\"#Изучение-данных\" data-toc-modified-id=\"Изучение-данных-1\"><span class=\"toc-item-num\">1&nbsp;&nbsp;</span>Изучение данных</a></span><ul class=\"toc-item\"><li><span><a href=\"#Вывод\" data-toc-modified-id=\"Вывод-1.1\"><span class=\"toc-item-num\">1.1&nbsp;&nbsp;</span>Вывод</a></span></li></ul></li><li><span><a href=\"#Предобработка-данных\" data-toc-modified-id=\"Предобработка-данных-2\"><span class=\"toc-item-num\">2&nbsp;&nbsp;</span>Предобработка данных</a></span><ul class=\"toc-item\"><li><span><a href=\"#Добавление-данных-и-расчеты\" data-toc-modified-id=\"Добавление-данных-и-расчеты-2.1\"><span class=\"toc-item-num\">2.1&nbsp;&nbsp;</span>Добавление данных и расчеты</a></span></li><li><span><a href=\"#Вывод\" data-toc-modified-id=\"Вывод-2.2\"><span class=\"toc-item-num\">2.2&nbsp;&nbsp;</span>Вывод</a></span></li></ul></li><li><span><a href=\"#Исследовательский-анализ-данных\" data-toc-modified-id=\"Исследовательский-анализ-данных-3\"><span class=\"toc-item-num\">3&nbsp;&nbsp;</span>Исследовательский анализ данных</a></span><ul class=\"toc-item\"><li><span><a href=\"#Количество-игр-за-все-годы\" data-toc-modified-id=\"Количество-игр-за-все-годы-3.1\"><span class=\"toc-item-num\">3.1&nbsp;&nbsp;</span>Количество игр за все годы</a></span></li><li><span><a href=\"#Изменение-продаж-по-платформам\" data-toc-modified-id=\"Изменение-продаж-по-платформам-3.2\"><span class=\"toc-item-num\">3.2&nbsp;&nbsp;</span>Изменение продаж по платформам</a></span></li><li><span><a href=\"#Топ-платформы\" data-toc-modified-id=\"Топ-платформы-3.3\"><span class=\"toc-item-num\">3.3&nbsp;&nbsp;</span>Топ платформы</a></span></li><li><span><a href=\"#Потенциально-прибыльные-платформы\" data-toc-modified-id=\"Потенциально-прибыльные-платформы-3.4\"><span class=\"toc-item-num\">3.4&nbsp;&nbsp;</span>Потенциально прибыльные платформы</a></span></li><li><span><a href=\"#Влияние-отзывов-на-продажи\" data-toc-modified-id=\"Влияние-отзывов-на-продажи-3.5\"><span class=\"toc-item-num\">3.5&nbsp;&nbsp;</span>Влияние отзывов на продажи</a></span></li><li><span><a href=\"#Распределение-игр-по-жанрам\" data-toc-modified-id=\"Распределение-игр-по-жанрам-3.6\"><span class=\"toc-item-num\">3.6&nbsp;&nbsp;</span>Распределение игр по жанрам</a></span></li></ul></li><li><span><a href=\"#Портрет-пользователя-каждого-региона\" data-toc-modified-id=\"Портрет-пользователя-каждого-региона-4\"><span class=\"toc-item-num\">4&nbsp;&nbsp;</span>Портрет пользователя каждого региона</a></span><ul class=\"toc-item\"><li><span><a href=\"#Популярные-плаформы-в-регионах\" data-toc-modified-id=\"Популярные-плаформы-в-регионах-4.1\"><span class=\"toc-item-num\">4.1&nbsp;&nbsp;</span>Популярные плаформы в регионах</a></span></li><li><span><a href=\"#Вывод\" data-toc-modified-id=\"Вывод-4.2\"><span class=\"toc-item-num\">4.2&nbsp;&nbsp;</span>Вывод</a></span></li></ul></li><li><span><a href=\"#Проверка-гипотез\" data-toc-modified-id=\"Проверка-гипотез-5\"><span class=\"toc-item-num\">5&nbsp;&nbsp;</span>Проверка гипотез</a></span><ul class=\"toc-item\"><li><span><a href=\"#Гипотеза-1\" data-toc-modified-id=\"Гипотеза-1-5.1\"><span class=\"toc-item-num\">5.1&nbsp;&nbsp;</span>Гипотеза 1</a></span></li><li><span><a href=\"#Гипотеза-2\" data-toc-modified-id=\"Гипотеза-2-5.2\"><span class=\"toc-item-num\">5.2&nbsp;&nbsp;</span>Гипотеза 2</a></span></li><li><span><a href=\"#Выдвод\" data-toc-modified-id=\"Выдвод-5.3\"><span class=\"toc-item-num\">5.3&nbsp;&nbsp;</span>Выдвод</a></span></li></ul></li><li><span><a href=\"#Общий-вывод\" data-toc-modified-id=\"Общий-вывод-6\"><span class=\"toc-item-num\">6&nbsp;&nbsp;</span>Общий вывод</a></span></li></ul></div>"
   ]
  },
  {
   "cell_type": "markdown",
   "metadata": {
    "id": "DXAjMMWduqj6"
   },
   "source": [
    "# Анализ бизнес показателей\n"
   ]
  },
  {
   "cell_type": "markdown",
   "metadata": {},
   "source": [
    "Заказчик\n",
    "Интернет магазин по продаже компьютерных игр."
   ]
  },
  {
   "cell_type": "markdown",
   "metadata": {},
   "source": [
    "Цель проекта\n",
    "На основе данных из открытых источников, определить закономерности определяющие успешность игры.\n",
    "\n",
    "В ходе анализа необходимо проверить две гипотезы:\n",
    "* Средние пользовательские рейтинги платформ Xbox One и PC одинаковые;\n",
    "* Средние пользовательские рейтинги жанров Action и Sports разные.\n",
    "\n",
    "Исследование позволит планировать продажи на отработанных в проекте принципах."
   ]
  },
  {
   "cell_type": "markdown",
   "metadata": {},
   "source": [
    "Данные\n",
    "Открытые данные о продажах игр за 2016 год."
   ]
  },
  {
   "cell_type": "markdown",
   "metadata": {},
   "source": [
    "Ход исследования\n",
    "\n",
    "Исследование пройдёт в четыре этапа:\n",
    "\n",
    "- Изучение данных;\n",
    "- Предобработка данных, включая дополнительные расчеты;\n",
    "- Анализ данных;\n",
    "- Проверка гипотез."
   ]
  },
  {
   "cell_type": "markdown",
   "metadata": {
    "id": "F5HAJRCruqj6"
   },
   "source": [
    "## Изучение данных"
   ]
  },
  {
   "cell_type": "code",
   "execution_count": 1,
   "metadata": {},
   "outputs": [],
   "source": [
    "# импортируем библиотеки\n",
    "\n",
    "import pandas as pd\n",
    "import numpy as np\n",
    "import matplotlib.pyplot as plt\n",
    "import seaborn as sns\n",
    "import datetime as dt\n",
    "from scipy import stats as st\n",
    "from math import factorial"
   ]
  },
  {
   "cell_type": "code",
   "execution_count": 2,
   "metadata": {},
   "outputs": [],
   "source": [
    "# прочитаем файл\n",
    "\n",
    "try:\n",
    "    df = pd.read_csv('/datasets/games.csv')\n",
    "\n",
    "\n",
    "except:\n",
    "    df = pd.read_csv('games.csv')"
   ]
  },
  {
   "cell_type": "code",
   "execution_count": 3,
   "metadata": {},
   "outputs": [],
   "source": [
    "#Зададим параметр просмотра колонок в 50 (с запасом).\n",
    "\n",
    "pd.set_option('display.max_columns', 50)"
   ]
  },
  {
   "cell_type": "code",
   "execution_count": 4,
   "metadata": {},
   "outputs": [
    {
     "name": "stdout",
     "output_type": "stream",
     "text": [
      "<class 'pandas.core.frame.DataFrame'>\n",
      "RangeIndex: 16715 entries, 0 to 16714\n",
      "Data columns (total 11 columns):\n",
      " #   Column           Non-Null Count  Dtype  \n",
      "---  ------           --------------  -----  \n",
      " 0   Name             16713 non-null  object \n",
      " 1   Platform         16715 non-null  object \n",
      " 2   Year_of_Release  16446 non-null  float64\n",
      " 3   Genre            16713 non-null  object \n",
      " 4   NA_sales         16715 non-null  float64\n",
      " 5   EU_sales         16715 non-null  float64\n",
      " 6   JP_sales         16715 non-null  float64\n",
      " 7   Other_sales      16715 non-null  float64\n",
      " 8   Critic_Score     8137 non-null   float64\n",
      " 9   User_Score       10014 non-null  object \n",
      " 10  Rating           9949 non-null   object \n",
      "dtypes: float64(6), object(5)\n",
      "memory usage: 1.4+ MB\n"
     ]
    }
   ],
   "source": [
    "df.info()"
   ]
  },
  {
   "cell_type": "code",
   "execution_count": 5,
   "metadata": {},
   "outputs": [
    {
     "data": {
      "text/html": [
       "<div>\n",
       "<style scoped>\n",
       "    .dataframe tbody tr th:only-of-type {\n",
       "        vertical-align: middle;\n",
       "    }\n",
       "\n",
       "    .dataframe tbody tr th {\n",
       "        vertical-align: top;\n",
       "    }\n",
       "\n",
       "    .dataframe thead th {\n",
       "        text-align: right;\n",
       "    }\n",
       "</style>\n",
       "<table border=\"1\" class=\"dataframe\">\n",
       "  <thead>\n",
       "    <tr style=\"text-align: right;\">\n",
       "      <th></th>\n",
       "      <th>Year_of_Release</th>\n",
       "      <th>NA_sales</th>\n",
       "      <th>EU_sales</th>\n",
       "      <th>JP_sales</th>\n",
       "      <th>Other_sales</th>\n",
       "      <th>Critic_Score</th>\n",
       "    </tr>\n",
       "  </thead>\n",
       "  <tbody>\n",
       "    <tr>\n",
       "      <th>count</th>\n",
       "      <td>16446.000000</td>\n",
       "      <td>16715.000000</td>\n",
       "      <td>16715.000000</td>\n",
       "      <td>16715.000000</td>\n",
       "      <td>16715.000000</td>\n",
       "      <td>8137.000000</td>\n",
       "    </tr>\n",
       "    <tr>\n",
       "      <th>mean</th>\n",
       "      <td>2006.484616</td>\n",
       "      <td>0.263377</td>\n",
       "      <td>0.145060</td>\n",
       "      <td>0.077617</td>\n",
       "      <td>0.047342</td>\n",
       "      <td>68.967679</td>\n",
       "    </tr>\n",
       "    <tr>\n",
       "      <th>std</th>\n",
       "      <td>5.877050</td>\n",
       "      <td>0.813604</td>\n",
       "      <td>0.503339</td>\n",
       "      <td>0.308853</td>\n",
       "      <td>0.186731</td>\n",
       "      <td>13.938165</td>\n",
       "    </tr>\n",
       "    <tr>\n",
       "      <th>min</th>\n",
       "      <td>1980.000000</td>\n",
       "      <td>0.000000</td>\n",
       "      <td>0.000000</td>\n",
       "      <td>0.000000</td>\n",
       "      <td>0.000000</td>\n",
       "      <td>13.000000</td>\n",
       "    </tr>\n",
       "    <tr>\n",
       "      <th>25%</th>\n",
       "      <td>2003.000000</td>\n",
       "      <td>0.000000</td>\n",
       "      <td>0.000000</td>\n",
       "      <td>0.000000</td>\n",
       "      <td>0.000000</td>\n",
       "      <td>60.000000</td>\n",
       "    </tr>\n",
       "    <tr>\n",
       "      <th>50%</th>\n",
       "      <td>2007.000000</td>\n",
       "      <td>0.080000</td>\n",
       "      <td>0.020000</td>\n",
       "      <td>0.000000</td>\n",
       "      <td>0.010000</td>\n",
       "      <td>71.000000</td>\n",
       "    </tr>\n",
       "    <tr>\n",
       "      <th>75%</th>\n",
       "      <td>2010.000000</td>\n",
       "      <td>0.240000</td>\n",
       "      <td>0.110000</td>\n",
       "      <td>0.040000</td>\n",
       "      <td>0.030000</td>\n",
       "      <td>79.000000</td>\n",
       "    </tr>\n",
       "    <tr>\n",
       "      <th>max</th>\n",
       "      <td>2016.000000</td>\n",
       "      <td>41.360000</td>\n",
       "      <td>28.960000</td>\n",
       "      <td>10.220000</td>\n",
       "      <td>10.570000</td>\n",
       "      <td>98.000000</td>\n",
       "    </tr>\n",
       "  </tbody>\n",
       "</table>\n",
       "</div>"
      ],
      "text/plain": [
       "       Year_of_Release      NA_sales      EU_sales      JP_sales  \\\n",
       "count     16446.000000  16715.000000  16715.000000  16715.000000   \n",
       "mean       2006.484616      0.263377      0.145060      0.077617   \n",
       "std           5.877050      0.813604      0.503339      0.308853   \n",
       "min        1980.000000      0.000000      0.000000      0.000000   \n",
       "25%        2003.000000      0.000000      0.000000      0.000000   \n",
       "50%        2007.000000      0.080000      0.020000      0.000000   \n",
       "75%        2010.000000      0.240000      0.110000      0.040000   \n",
       "max        2016.000000     41.360000     28.960000     10.220000   \n",
       "\n",
       "        Other_sales  Critic_Score  \n",
       "count  16715.000000   8137.000000  \n",
       "mean       0.047342     68.967679  \n",
       "std        0.186731     13.938165  \n",
       "min        0.000000     13.000000  \n",
       "25%        0.000000     60.000000  \n",
       "50%        0.010000     71.000000  \n",
       "75%        0.030000     79.000000  \n",
       "max       10.570000     98.000000  "
      ]
     },
     "execution_count": 5,
     "metadata": {},
     "output_type": "execute_result"
    }
   ],
   "source": [
    "df.describe()"
   ]
  },
  {
   "cell_type": "code",
   "execution_count": 6,
   "metadata": {
    "scrolled": true
   },
   "outputs": [
    {
     "data": {
      "text/html": [
       "<div>\n",
       "<style scoped>\n",
       "    .dataframe tbody tr th:only-of-type {\n",
       "        vertical-align: middle;\n",
       "    }\n",
       "\n",
       "    .dataframe tbody tr th {\n",
       "        vertical-align: top;\n",
       "    }\n",
       "\n",
       "    .dataframe thead th {\n",
       "        text-align: right;\n",
       "    }\n",
       "</style>\n",
       "<table border=\"1\" class=\"dataframe\">\n",
       "  <thead>\n",
       "    <tr style=\"text-align: right;\">\n",
       "      <th></th>\n",
       "      <th>Name</th>\n",
       "      <th>Platform</th>\n",
       "      <th>Year_of_Release</th>\n",
       "      <th>Genre</th>\n",
       "      <th>NA_sales</th>\n",
       "      <th>EU_sales</th>\n",
       "      <th>JP_sales</th>\n",
       "      <th>Other_sales</th>\n",
       "      <th>Critic_Score</th>\n",
       "      <th>User_Score</th>\n",
       "      <th>Rating</th>\n",
       "    </tr>\n",
       "  </thead>\n",
       "  <tbody>\n",
       "    <tr>\n",
       "      <th>0</th>\n",
       "      <td>Wii Sports</td>\n",
       "      <td>Wii</td>\n",
       "      <td>2006.0</td>\n",
       "      <td>Sports</td>\n",
       "      <td>41.36</td>\n",
       "      <td>28.96</td>\n",
       "      <td>3.77</td>\n",
       "      <td>8.45</td>\n",
       "      <td>76.0</td>\n",
       "      <td>8</td>\n",
       "      <td>E</td>\n",
       "    </tr>\n",
       "    <tr>\n",
       "      <th>1</th>\n",
       "      <td>Super Mario Bros.</td>\n",
       "      <td>NES</td>\n",
       "      <td>1985.0</td>\n",
       "      <td>Platform</td>\n",
       "      <td>29.08</td>\n",
       "      <td>3.58</td>\n",
       "      <td>6.81</td>\n",
       "      <td>0.77</td>\n",
       "      <td>NaN</td>\n",
       "      <td>NaN</td>\n",
       "      <td>NaN</td>\n",
       "    </tr>\n",
       "    <tr>\n",
       "      <th>2</th>\n",
       "      <td>Mario Kart Wii</td>\n",
       "      <td>Wii</td>\n",
       "      <td>2008.0</td>\n",
       "      <td>Racing</td>\n",
       "      <td>15.68</td>\n",
       "      <td>12.76</td>\n",
       "      <td>3.79</td>\n",
       "      <td>3.29</td>\n",
       "      <td>82.0</td>\n",
       "      <td>8.3</td>\n",
       "      <td>E</td>\n",
       "    </tr>\n",
       "    <tr>\n",
       "      <th>3</th>\n",
       "      <td>Wii Sports Resort</td>\n",
       "      <td>Wii</td>\n",
       "      <td>2009.0</td>\n",
       "      <td>Sports</td>\n",
       "      <td>15.61</td>\n",
       "      <td>10.93</td>\n",
       "      <td>3.28</td>\n",
       "      <td>2.95</td>\n",
       "      <td>80.0</td>\n",
       "      <td>8</td>\n",
       "      <td>E</td>\n",
       "    </tr>\n",
       "    <tr>\n",
       "      <th>4</th>\n",
       "      <td>Pokemon Red/Pokemon Blue</td>\n",
       "      <td>GB</td>\n",
       "      <td>1996.0</td>\n",
       "      <td>Role-Playing</td>\n",
       "      <td>11.27</td>\n",
       "      <td>8.89</td>\n",
       "      <td>10.22</td>\n",
       "      <td>1.00</td>\n",
       "      <td>NaN</td>\n",
       "      <td>NaN</td>\n",
       "      <td>NaN</td>\n",
       "    </tr>\n",
       "    <tr>\n",
       "      <th>5</th>\n",
       "      <td>Tetris</td>\n",
       "      <td>GB</td>\n",
       "      <td>1989.0</td>\n",
       "      <td>Puzzle</td>\n",
       "      <td>23.20</td>\n",
       "      <td>2.26</td>\n",
       "      <td>4.22</td>\n",
       "      <td>0.58</td>\n",
       "      <td>NaN</td>\n",
       "      <td>NaN</td>\n",
       "      <td>NaN</td>\n",
       "    </tr>\n",
       "    <tr>\n",
       "      <th>6</th>\n",
       "      <td>New Super Mario Bros.</td>\n",
       "      <td>DS</td>\n",
       "      <td>2006.0</td>\n",
       "      <td>Platform</td>\n",
       "      <td>11.28</td>\n",
       "      <td>9.14</td>\n",
       "      <td>6.50</td>\n",
       "      <td>2.88</td>\n",
       "      <td>89.0</td>\n",
       "      <td>8.5</td>\n",
       "      <td>E</td>\n",
       "    </tr>\n",
       "    <tr>\n",
       "      <th>7</th>\n",
       "      <td>Wii Play</td>\n",
       "      <td>Wii</td>\n",
       "      <td>2006.0</td>\n",
       "      <td>Misc</td>\n",
       "      <td>13.96</td>\n",
       "      <td>9.18</td>\n",
       "      <td>2.93</td>\n",
       "      <td>2.84</td>\n",
       "      <td>58.0</td>\n",
       "      <td>6.6</td>\n",
       "      <td>E</td>\n",
       "    </tr>\n",
       "    <tr>\n",
       "      <th>8</th>\n",
       "      <td>New Super Mario Bros. Wii</td>\n",
       "      <td>Wii</td>\n",
       "      <td>2009.0</td>\n",
       "      <td>Platform</td>\n",
       "      <td>14.44</td>\n",
       "      <td>6.94</td>\n",
       "      <td>4.70</td>\n",
       "      <td>2.24</td>\n",
       "      <td>87.0</td>\n",
       "      <td>8.4</td>\n",
       "      <td>E</td>\n",
       "    </tr>\n",
       "    <tr>\n",
       "      <th>9</th>\n",
       "      <td>Duck Hunt</td>\n",
       "      <td>NES</td>\n",
       "      <td>1984.0</td>\n",
       "      <td>Shooter</td>\n",
       "      <td>26.93</td>\n",
       "      <td>0.63</td>\n",
       "      <td>0.28</td>\n",
       "      <td>0.47</td>\n",
       "      <td>NaN</td>\n",
       "      <td>NaN</td>\n",
       "      <td>NaN</td>\n",
       "    </tr>\n",
       "  </tbody>\n",
       "</table>\n",
       "</div>"
      ],
      "text/plain": [
       "                        Name Platform  Year_of_Release         Genre  \\\n",
       "0                 Wii Sports      Wii           2006.0        Sports   \n",
       "1          Super Mario Bros.      NES           1985.0      Platform   \n",
       "2             Mario Kart Wii      Wii           2008.0        Racing   \n",
       "3          Wii Sports Resort      Wii           2009.0        Sports   \n",
       "4   Pokemon Red/Pokemon Blue       GB           1996.0  Role-Playing   \n",
       "5                     Tetris       GB           1989.0        Puzzle   \n",
       "6      New Super Mario Bros.       DS           2006.0      Platform   \n",
       "7                   Wii Play      Wii           2006.0          Misc   \n",
       "8  New Super Mario Bros. Wii      Wii           2009.0      Platform   \n",
       "9                  Duck Hunt      NES           1984.0       Shooter   \n",
       "\n",
       "   NA_sales  EU_sales  JP_sales  Other_sales  Critic_Score User_Score Rating  \n",
       "0     41.36     28.96      3.77         8.45          76.0          8      E  \n",
       "1     29.08      3.58      6.81         0.77           NaN        NaN    NaN  \n",
       "2     15.68     12.76      3.79         3.29          82.0        8.3      E  \n",
       "3     15.61     10.93      3.28         2.95          80.0          8      E  \n",
       "4     11.27      8.89     10.22         1.00           NaN        NaN    NaN  \n",
       "5     23.20      2.26      4.22         0.58           NaN        NaN    NaN  \n",
       "6     11.28      9.14      6.50         2.88          89.0        8.5      E  \n",
       "7     13.96      9.18      2.93         2.84          58.0        6.6      E  \n",
       "8     14.44      6.94      4.70         2.24          87.0        8.4      E  \n",
       "9     26.93      0.63      0.28         0.47           NaN        NaN    NaN  "
      ]
     },
     "execution_count": 6,
     "metadata": {},
     "output_type": "execute_result"
    }
   ],
   "source": [
    "df.head(10)"
   ]
  },
  {
   "cell_type": "markdown",
   "metadata": {},
   "source": [
    "### Вывод"
   ]
  },
  {
   "cell_type": "markdown",
   "metadata": {},
   "source": [
    "Мы видим, что датафрейм содержит одиннадцать столбцов. Согласно документации:\n",
    "\n",
    "* `Name` - название игры\n",
    "* `Platform` - платформа\n",
    "* `Year_of_Release` - год выпуска\n",
    "* `Genre` - жанр игры\n",
    "* `NA_sales` - продажи в Северной Америке (млн. проданных копий)\n",
    "* `EU_sales` - продажи в Европе (млн. проданных копий)\n",
    "* `JP_sales` - продажи в Японии (млн. проданных копий)\n",
    "* `Other_sales` - продажи в других странах (млн. проданных копий)\n",
    "* `Critic_Score` - оценка критиков (максимум 100 баллов)\n",
    "* `User_score` - оценка пользователей (максимум 10 баллов)\n",
    "* `Rating` - возрастной рейтинг организации ESRB (англ. Entertainment Spftware Rating Board)\n",
    "\n",
    "В названиях колонок не соблюдается стиль, также в колонках разное количество данных, значит есть пропуски. Также мы видим тип данных `floaat64` в столбце `Year_of_Release` здесь надо будет поменять тип данных. Также необходимо проверить данные на дубликаты."
   ]
  },
  {
   "cell_type": "markdown",
   "metadata": {},
   "source": [
    "## Предобработка данных"
   ]
  },
  {
   "cell_type": "code",
   "execution_count": 7,
   "metadata": {},
   "outputs": [
    {
     "data": {
      "text/plain": [
       "Index(['name', 'platform', 'year_of_release', 'genre', 'na_sales', 'eu_sales',\n",
       "       'jp_sales', 'other_sales', 'critic_score', 'user_score', 'rating'],\n",
       "      dtype='object')"
      ]
     },
     "execution_count": 7,
     "metadata": {},
     "output_type": "execute_result"
    }
   ],
   "source": [
    "# Приведем названия колонок к \"Хорошему стилю\"\n",
    "\n",
    "df.columns = df.columns.str.lower()\n",
    "df.columns"
   ]
  },
  {
   "cell_type": "code",
   "execution_count": 8,
   "metadata": {},
   "outputs": [
    {
     "data": {
      "text/plain": [
       "name                  2\n",
       "platform              0\n",
       "year_of_release     269\n",
       "genre                 2\n",
       "na_sales              0\n",
       "eu_sales              0\n",
       "jp_sales              0\n",
       "other_sales           0\n",
       "critic_score       8578\n",
       "user_score         6701\n",
       "rating             6766\n",
       "dtype: int64"
      ]
     },
     "execution_count": 8,
     "metadata": {},
     "output_type": "execute_result"
    }
   ],
   "source": [
    "# Посчитаем количество пропусков в колонках\n",
    "\n",
    "df.isna().sum()"
   ]
  },
  {
   "cell_type": "code",
   "execution_count": 9,
   "metadata": {
    "scrolled": false
   },
   "outputs": [
    {
     "name": "stdout",
     "output_type": "stream",
     "text": [
      "name - 0%\n",
      "platform - 0%\n",
      "year_of_release - 2%\n",
      "genre - 0%\n",
      "na_sales - 0%\n",
      "eu_sales - 0%\n",
      "jp_sales - 0%\n",
      "other_sales - 0%\n",
      "critic_score - 51%\n",
      "user_score - 40%\n",
      "rating - 40%\n"
     ]
    },
    {
     "data": {
      "image/png": "[encoded data removed]",
      "text/plain": [
       "<Figure size 432x288 with 2 Axes>"
      ]
     },
     "metadata": {
      "needs_background": "light"
     },
     "output_type": "display_data"
    }
   ],
   "source": [
    "#С помощью этого графика оценим количество пропущенных значений в каждом столбце.\n",
    "\n",
    "cols = df.columns[:22] \n",
    "colours = ['#000099', '#ffff00'] \n",
    "sns.heatmap(df[cols].isnull(), cmap=sns.color_palette(colours))\n",
    "\n",
    "for col in df.columns:\n",
    "    pct_missing = np.mean(df[col].isnull())\n",
    "    print('{} - {}%'.format(col, round(pct_missing*100)))"
   ]
  },
  {
   "cell_type": "markdown",
   "metadata": {},
   "source": [
    "Видно, что пропуски есть в колонках year_of_release, critic_score, user_score, rating. Количество их значительное, но заполнить эти пропуски возможности нет."
   ]
  },
  {
   "cell_type": "code",
   "execution_count": 10,
   "metadata": {},
   "outputs": [
    {
     "data": {
      "text/html": [
       "<div>\n",
       "<style scoped>\n",
       "    .dataframe tbody tr th:only-of-type {\n",
       "        vertical-align: middle;\n",
       "    }\n",
       "\n",
       "    .dataframe tbody tr th {\n",
       "        vertical-align: top;\n",
       "    }\n",
       "\n",
       "    .dataframe thead th {\n",
       "        text-align: right;\n",
       "    }\n",
       "</style>\n",
       "<table border=\"1\" class=\"dataframe\">\n",
       "  <thead>\n",
       "    <tr style=\"text-align: right;\">\n",
       "      <th></th>\n",
       "      <th>name</th>\n",
       "      <th>platform</th>\n",
       "      <th>year_of_release</th>\n",
       "      <th>genre</th>\n",
       "      <th>na_sales</th>\n",
       "      <th>eu_sales</th>\n",
       "      <th>jp_sales</th>\n",
       "      <th>other_sales</th>\n",
       "      <th>critic_score</th>\n",
       "      <th>user_score</th>\n",
       "      <th>rating</th>\n",
       "    </tr>\n",
       "  </thead>\n",
       "  <tbody>\n",
       "    <tr>\n",
       "      <th>659</th>\n",
       "      <td>NaN</td>\n",
       "      <td>GEN</td>\n",
       "      <td>1993.0</td>\n",
       "      <td>NaN</td>\n",
       "      <td>1.78</td>\n",
       "      <td>0.53</td>\n",
       "      <td>0.00</td>\n",
       "      <td>0.08</td>\n",
       "      <td>NaN</td>\n",
       "      <td>NaN</td>\n",
       "      <td>NaN</td>\n",
       "    </tr>\n",
       "    <tr>\n",
       "      <th>14244</th>\n",
       "      <td>NaN</td>\n",
       "      <td>GEN</td>\n",
       "      <td>1993.0</td>\n",
       "      <td>NaN</td>\n",
       "      <td>0.00</td>\n",
       "      <td>0.00</td>\n",
       "      <td>0.03</td>\n",
       "      <td>0.00</td>\n",
       "      <td>NaN</td>\n",
       "      <td>NaN</td>\n",
       "      <td>NaN</td>\n",
       "    </tr>\n",
       "  </tbody>\n",
       "</table>\n",
       "</div>"
      ],
      "text/plain": [
       "      name platform  year_of_release genre  na_sales  eu_sales  jp_sales  \\\n",
       "659    NaN      GEN           1993.0   NaN      1.78      0.53      0.00   \n",
       "14244  NaN      GEN           1993.0   NaN      0.00      0.00      0.03   \n",
       "\n",
       "       other_sales  critic_score user_score rating  \n",
       "659           0.08           NaN        NaN    NaN  \n",
       "14244         0.00           NaN        NaN    NaN  "
      ]
     },
     "execution_count": 10,
     "metadata": {},
     "output_type": "execute_result"
    }
   ],
   "source": [
    "df[df['name'].isna()]"
   ]
  },
  {
   "cell_type": "code",
   "execution_count": 11,
   "metadata": {},
   "outputs": [],
   "source": [
    "# удалим эти \"пустые строки\"\n",
    "\n",
    "df = df.dropna(subset=['name']).reset_index(drop=True)"
   ]
  },
  {
   "cell_type": "code",
   "execution_count": 12,
   "metadata": {},
   "outputs": [],
   "source": [
    "# Также удалим строки с пропусками year_of_release, так как их 2%.\n",
    "\n",
    "df = df.dropna(subset=['year_of_release']).reset_index(drop=True)"
   ]
  },
  {
   "cell_type": "code",
   "execution_count": 13,
   "metadata": {},
   "outputs": [
    {
     "data": {
      "text/plain": [
       "array(['8', nan, '8.3', '8.5', '6.6', '8.4', '8.6', '7.7', '6.3', '7.4',\n",
       "       '8.2', '9', '7.9', '8.1', '8.7', '7.1', '3.4', '5.3', '4.8', '3.2',\n",
       "       '8.9', '6.4', '7.8', '7.5', '2.6', '7.2', '9.2', '7', '7.3', '4.3',\n",
       "       '7.6', '5.7', '5', '9.1', '6.5', 'tbd', '8.8', '6.9', '9.4', '6.8',\n",
       "       '6.1', '6.7', '5.4', '4', '4.9', '4.5', '9.3', '6.2', '4.2', '6',\n",
       "       '3.7', '4.1', '5.8', '5.6', '5.5', '4.4', '4.6', '5.9', '3.9',\n",
       "       '3.1', '2.9', '5.2', '3.3', '4.7', '5.1', '3.5', '2.5', '1.9', '3',\n",
       "       '2.7', '2.2', '2', '9.5', '2.1', '3.6', '2.8', '1.8', '3.8', '0',\n",
       "       '1.6', '9.6', '2.4', '1.7', '1.1', '0.3', '1.5', '0.7', '1.2',\n",
       "       '2.3', '0.5', '1.3', '0.2', '0.6', '1.4', '0.9', '1', '9.7'],\n",
       "      dtype=object)"
      ]
     },
     "execution_count": 13,
     "metadata": {},
     "output_type": "execute_result"
    }
   ],
   "source": [
    "df['user_score'].unique()"
   ]
  },
  {
   "cell_type": "code",
   "execution_count": 14,
   "metadata": {},
   "outputs": [
    {
     "data": {
      "text/plain": [
       "tbd    2376\n",
       "7.8     322\n",
       "8       285\n",
       "8.2     276\n",
       "8.3     252\n",
       "       ... \n",
       "0.7       2\n",
       "1.5       2\n",
       "0.6       2\n",
       "9.7       1\n",
       "0         1\n",
       "Name: user_score, Length: 96, dtype: int64"
      ]
     },
     "execution_count": 14,
     "metadata": {},
     "output_type": "execute_result"
    }
   ],
   "source": [
    "#Интересно сколько 'tbd' есть в этом столбце\n",
    "\n",
    "df['user_score'].value_counts()"
   ]
  },
  {
   "cell_type": "code",
   "execution_count": 15,
   "metadata": {},
   "outputs": [
    {
     "data": {
      "text/plain": [
       "'14.45%'"
      ]
     },
     "metadata": {},
     "output_type": "display_data"
    }
   ],
   "source": [
    "display(\"{:.2%}\".format(len(df[df['user_score'] == 'tbd']) / len(df['user_score'])))"
   ]
  },
  {
   "cell_type": "markdown",
   "metadata": {},
   "source": [
    "Сокращение TBD интересно и встречается очень часто (целых 14,5% датасета). Это аббревиатура означает To Be Determined, что дословно можно перевести будет определено. А это значит, что рейтинг пока не выставлен."
   ]
  },
  {
   "cell_type": "code",
   "execution_count": 16,
   "metadata": {
    "scrolled": false
   },
   "outputs": [],
   "source": [
    "# Заменим все значения 'tbd' в колонке 'user_score' на 'NaN'\n",
    "\n",
    "df.loc[df['user_score'] == 'tbd', 'user_score'] = np.nan"
   ]
  },
  {
   "cell_type": "code",
   "execution_count": 17,
   "metadata": {},
   "outputs": [
    {
     "data": {
      "text/plain": [
       "array([76., nan, 82., 80., 89., 58., 87., 91., 61., 97., 95., 77., 88.,\n",
       "       83., 94., 93., 85., 86., 98., 96., 90., 84., 73., 74., 78., 92.,\n",
       "       71., 72., 68., 62., 49., 67., 81., 66., 56., 79., 70., 59., 64.,\n",
       "       75., 60., 63., 69., 50., 25., 42., 44., 55., 48., 57., 29., 47.,\n",
       "       65., 54., 20., 53., 37., 38., 33., 52., 30., 32., 43., 45., 51.,\n",
       "       40., 46., 39., 34., 41., 36., 31., 27., 35., 26., 19., 28., 23.,\n",
       "       24., 21., 17., 13.])"
      ]
     },
     "execution_count": 17,
     "metadata": {},
     "output_type": "execute_result"
    }
   ],
   "source": [
    "# Проверим значения столбца 'critic_score'\n",
    "\n",
    "df['critic_score'].unique()"
   ]
  },
  {
   "cell_type": "markdown",
   "metadata": {},
   "source": [
    "В столбце 'critic_score' есть только пропуски и оценки, поэтому здесь мы ничего менять не будем."
   ]
  },
  {
   "cell_type": "code",
   "execution_count": 18,
   "metadata": {},
   "outputs": [
    {
     "data": {
      "text/plain": [
       "array(['E', nan, 'M', 'T', 'E10+', 'K-A', 'AO', 'EC', 'RP'], dtype=object)"
      ]
     },
     "execution_count": 18,
     "metadata": {},
     "output_type": "execute_result"
    }
   ],
   "source": [
    "# Посмотрим значения в столбце 'rating'\n",
    "\n",
    "df['rating'].unique()"
   ]
  },
  {
   "cell_type": "markdown",
   "metadata": {},
   "source": [
    "По данным Википедии Entertainment Software Rating Board (ESRB) — негосударственная организация, основное направление деятельности — принятие и определение рейтингов для компьютерных видеоигр и другого развлекательного программного обеспечения в США и Канаде. ESRB была основана в 1994 году ассоциацией Interactive Digital Software Association (современное название — «Entertainment Software Association»). К началу 2003 года рейтинги ESRB получили более 8000 продуктов от 350 издателей."
   ]
  },
  {
   "cell_type": "markdown",
   "metadata": {},
   "source": [
    "- E — Everyone «Для всех»: Содержание вполне подходит для возрастной категории от 6 лет. Такие игры могут понравиться и взрослым. Игры с этим рейтингом могут содержать минимальное насилие, в основном «мультяшного» характера. Первоначально K-A (\"Kids to Adults\");\n",
    "\n",
    "- M — Mature «Для взрослых»: Материалы игры не подходят для подростков младше 17 лет. Проекты с данным рейтингом могут содержать достаточно жестокое насилие, большое количество крови с расчленением, непристойные сексуальные сцены или грубую ненормативную лексику, нежелательную для младшей аудитории;\n",
    "\n",
    "- T — Teen «Подросткам»: Игра подходит для лиц от 13 лет. Проекты из данной категории могут содержать насилие, непристойные сцены, грубый юмор, в меру откровенное сексуальное содержимое, кровь или нечастое использование ненормативной лексики;\n",
    "\n",
    "- E10+ — Everyone 10+ «Для всех от 10 лет и старше»: Проекты с данным рейтингом могут содержать или немного больше мультипликационного или мягкого насилия, или несколько откровенные сцены, или минимальное количество крови;\n",
    "\n",
    "- AO — Adults Only Только для взрослых»: Содержание игры только для взрослых старше 18 лет. Продукты из данной категории могут содержать длительные сцены жестокого насилия и/или очень откровенное сексуальное содержимое, а также сцены с обнажением;\n",
    "\n",
    "- EC — Early Childhood «Для детей младшего возраста»: Игра подходит для детей от 3 лет и не содержит материалов, которые родители могли бы счесть неподходящими. Продукты, получившие данный рейтинг, изначально разрабатываются для детей и обычно представляют собой развивающие игры;\n",
    "\n",
    "- RP — Rating Pending Рейтинг ожидается.\n",
    "\n",
    "В нашем датасете есть K-A - он устарел, заменим его на E."
   ]
  },
  {
   "cell_type": "code",
   "execution_count": 19,
   "metadata": {},
   "outputs": [],
   "source": [
    "df.loc[df['rating'] == 'K-A', 'rating'] = 'E'"
   ]
  },
  {
   "cell_type": "code",
   "execution_count": 20,
   "metadata": {
    "scrolled": true
   },
   "outputs": [
    {
     "name": "stdout",
     "output_type": "stream",
     "text": [
      "<class 'pandas.core.frame.DataFrame'>\n",
      "RangeIndex: 16444 entries, 0 to 16443\n",
      "Data columns (total 11 columns):\n",
      " #   Column           Non-Null Count  Dtype  \n",
      "---  ------           --------------  -----  \n",
      " 0   name             16444 non-null  object \n",
      " 1   platform         16444 non-null  object \n",
      " 2   year_of_release  16444 non-null  float64\n",
      " 3   genre            16444 non-null  object \n",
      " 4   na_sales         16444 non-null  float64\n",
      " 5   eu_sales         16444 non-null  float64\n",
      " 6   jp_sales         16444 non-null  float64\n",
      " 7   other_sales      16444 non-null  float64\n",
      " 8   critic_score     7983 non-null   float64\n",
      " 9   user_score       7463 non-null   object \n",
      " 10  rating           9768 non-null   object \n",
      "dtypes: float64(6), object(5)\n",
      "memory usage: 1.4+ MB\n"
     ]
    }
   ],
   "source": [
    "df.info()"
   ]
  },
  {
   "cell_type": "code",
   "execution_count": 21,
   "metadata": {},
   "outputs": [],
   "source": [
    "df['year_of_release'] = df['year_of_release'].astype('int')"
   ]
  },
  {
   "cell_type": "code",
   "execution_count": 22,
   "metadata": {},
   "outputs": [
    {
     "data": {
      "text/html": [
       "<div>\n",
       "<style scoped>\n",
       "    .dataframe tbody tr th:only-of-type {\n",
       "        vertical-align: middle;\n",
       "    }\n",
       "\n",
       "    .dataframe tbody tr th {\n",
       "        vertical-align: top;\n",
       "    }\n",
       "\n",
       "    .dataframe thead th {\n",
       "        text-align: right;\n",
       "    }\n",
       "</style>\n",
       "<table border=\"1\" class=\"dataframe\">\n",
       "  <thead>\n",
       "    <tr style=\"text-align: right;\">\n",
       "      <th>year_of_release</th>\n",
       "      <th>1980</th>\n",
       "      <th>1981</th>\n",
       "      <th>1982</th>\n",
       "      <th>1983</th>\n",
       "      <th>1984</th>\n",
       "      <th>1985</th>\n",
       "      <th>1986</th>\n",
       "      <th>1987</th>\n",
       "      <th>1988</th>\n",
       "      <th>1989</th>\n",
       "      <th>1990</th>\n",
       "      <th>1991</th>\n",
       "      <th>1992</th>\n",
       "      <th>1993</th>\n",
       "      <th>1994</th>\n",
       "      <th>1995</th>\n",
       "      <th>1996</th>\n",
       "      <th>1997</th>\n",
       "      <th>1998</th>\n",
       "      <th>1999</th>\n",
       "      <th>2000</th>\n",
       "      <th>2001</th>\n",
       "      <th>2002</th>\n",
       "      <th>2003</th>\n",
       "      <th>2004</th>\n",
       "      <th>2005</th>\n",
       "      <th>2006</th>\n",
       "      <th>2007</th>\n",
       "      <th>2008</th>\n",
       "      <th>2009</th>\n",
       "      <th>2010</th>\n",
       "      <th>2011</th>\n",
       "      <th>2012</th>\n",
       "      <th>2013</th>\n",
       "      <th>2014</th>\n",
       "      <th>2015</th>\n",
       "      <th>2016</th>\n",
       "    </tr>\n",
       "  </thead>\n",
       "  <tbody>\n",
       "    <tr>\n",
       "      <th>name</th>\n",
       "      <td>9</td>\n",
       "      <td>46</td>\n",
       "      <td>36</td>\n",
       "      <td>17</td>\n",
       "      <td>14</td>\n",
       "      <td>13</td>\n",
       "      <td>21</td>\n",
       "      <td>16</td>\n",
       "      <td>14</td>\n",
       "      <td>17</td>\n",
       "      <td>16</td>\n",
       "      <td>41</td>\n",
       "      <td>41</td>\n",
       "      <td>60</td>\n",
       "      <td>120</td>\n",
       "      <td>219</td>\n",
       "      <td>256</td>\n",
       "      <td>270</td>\n",
       "      <td>347</td>\n",
       "      <td>296</td>\n",
       "      <td>202</td>\n",
       "      <td>143</td>\n",
       "      <td>174</td>\n",
       "      <td>162</td>\n",
       "      <td>164</td>\n",
       "      <td>233</td>\n",
       "      <td>328</td>\n",
       "      <td>376</td>\n",
       "      <td>446</td>\n",
       "      <td>415</td>\n",
       "      <td>456</td>\n",
       "      <td>433</td>\n",
       "      <td>298</td>\n",
       "      <td>228</td>\n",
       "      <td>236</td>\n",
       "      <td>291</td>\n",
       "      <td>222</td>\n",
       "    </tr>\n",
       "  </tbody>\n",
       "</table>\n",
       "</div>"
      ],
      "text/plain": [
       "year_of_release  1980  1981  1982  1983  1984  1985  1986  1987  1988  1989  \\\n",
       "name                9    46    36    17    14    13    21    16    14    17   \n",
       "\n",
       "year_of_release  1990  1991  1992  1993  1994  1995  1996  1997  1998  1999  \\\n",
       "name               16    41    41    60   120   219   256   270   347   296   \n",
       "\n",
       "year_of_release  2000  2001  2002  2003  2004  2005  2006  2007  2008  2009  \\\n",
       "name              202   143   174   162   164   233   328   376   446   415   \n",
       "\n",
       "year_of_release  2010  2011  2012  2013  2014  2015  2016  \n",
       "name              456   433   298   228   236   291   222  "
      ]
     },
     "execution_count": 22,
     "metadata": {},
     "output_type": "execute_result"
    }
   ],
   "source": [
    "# Проверим зависимость пропусков ретинга от даты  релиза\n",
    "\n",
    "pivot_table_year_rating = df[df['rating'].isnull()].pivot_table(columns = 'year_of_release', values = 'name', aggfunc = 'count')\n",
    "pivot_table_year_rating"
   ]
  },
  {
   "cell_type": "code",
   "execution_count": 23,
   "metadata": {
    "scrolled": false
   },
   "outputs": [
    {
     "data": {
      "text/plain": [
       "array([2006, 1985, 2008, 2009, 1996, 1989, 1984, 2005, 1999, 2007, 2010,\n",
       "       2013, 2004, 1990, 1988, 2002, 2001, 2011, 1998, 2015, 2012, 2014,\n",
       "       1992, 1997, 1993, 1994, 1982, 2016, 2003, 1986, 2000, 1995, 1991,\n",
       "       1981, 1987, 1980, 1983])"
      ]
     },
     "execution_count": 23,
     "metadata": {},
     "output_type": "execute_result"
    }
   ],
   "source": [
    "df['year_of_release'].unique()"
   ]
  },
  {
   "cell_type": "code",
   "execution_count": 24,
   "metadata": {},
   "outputs": [
    {
     "data": {
      "image/png": "[encoded data removed]",
      "text/plain": [
       "<Figure size 432x288 with 1 Axes>"
      ]
     },
     "metadata": {
      "needs_background": "light"
     },
     "output_type": "display_data"
    }
   ],
   "source": [
    "plots = df.groupby('year_of_release')['rating'].count().plot(x='year_of_release')\n",
    "plt.xlabel('Год релиза')\n",
    "plt.ylabel('Количество игр с рейтингом')\n",
    "plt.title('Игры с рейтингом ESRB по годам')\n",
    "plt.show()"
   ]
  },
  {
   "cell_type": "code",
   "execution_count": 25,
   "metadata": {
    "scrolled": true
   },
   "outputs": [
    {
     "data": {
      "text/plain": [
       "0"
      ]
     },
     "execution_count": 25,
     "metadata": {},
     "output_type": "execute_result"
    }
   ],
   "source": [
    "#Проверим датасет на дубликаты\n",
    "df.duplicated().sum()"
   ]
  },
  {
   "cell_type": "code",
   "execution_count": 26,
   "metadata": {},
   "outputs": [],
   "source": [
    "df['user_score'] = df['user_score'].astype('float')"
   ]
  },
  {
   "cell_type": "markdown",
   "metadata": {},
   "source": [
    "### Добавление данных и расчеты"
   ]
  },
  {
   "cell_type": "code",
   "execution_count": 27,
   "metadata": {},
   "outputs": [],
   "source": [
    "#добавим столбец общих продаж\n",
    "df['total_sales'] = df['na_sales'] + df['eu_sales'] + df['jp_sales'] + df['other_sales']"
   ]
  },
  {
   "cell_type": "code",
   "execution_count": 28,
   "metadata": {
    "scrolled": false
   },
   "outputs": [
    {
     "data": {
      "text/plain": [
       "array(['Wii', 'NES', 'GB', 'DS', 'X360', 'PS3', 'PS2', 'SNES', 'GBA',\n",
       "       'PS4', '3DS', 'N64', 'PS', 'XB', 'PC', '2600', 'PSP', 'XOne',\n",
       "       'WiiU', 'GC', 'GEN', 'DC', 'PSV', 'SAT', 'SCD', 'WS', 'NG', 'TG16',\n",
       "       '3DO', 'GG', 'PCFX'], dtype=object)"
      ]
     },
     "execution_count": 28,
     "metadata": {},
     "output_type": "execute_result"
    }
   ],
   "source": [
    "df['platform'].unique()"
   ]
  },
  {
   "cell_type": "code",
   "execution_count": 29,
   "metadata": {},
   "outputs": [],
   "source": [
    "#напишем функцию по определению типа платформы\n",
    "def platform_type(platform):\n",
    "    mobile = ['GB', 'DS', 'GBA', '3DS', 'PSP', 'PSV', 'GG']\n",
    "    console = ['Wii', 'NES', 'X360', 'PS3', 'PS2', 'SNES', 'PS4', 'N64', 'PS', 'WiiU', 'GC', 'GEN', 'DC', 'SAT', 'SDC', 'WS', 'NG', 'TG16', '3DO', 'PCFX']\n",
    "    pc = 'PC'\n",
    "    if platform in mobile:\n",
    "        platform_type = 'mobile'\n",
    "    elif platform in console:\n",
    "        platform_type = 'console'\n",
    "    else:\n",
    "        platform_type = 'pc'\n",
    "    return platform_type"
   ]
  },
  {
   "cell_type": "code",
   "execution_count": 30,
   "metadata": {},
   "outputs": [],
   "source": [
    "#и добавим новый столбец в наш датасет\n",
    "df['platform_type'] = df['platform'].apply(platform_type)"
   ]
  },
  {
   "cell_type": "markdown",
   "metadata": {},
   "source": [
    "### Вывод"
   ]
  },
  {
   "cell_type": "code",
   "execution_count": 31,
   "metadata": {},
   "outputs": [
    {
     "name": "stdout",
     "output_type": "stream",
     "text": [
      "<class 'pandas.core.frame.DataFrame'>\n",
      "RangeIndex: 16444 entries, 0 to 16443\n",
      "Data columns (total 13 columns):\n",
      " #   Column           Non-Null Count  Dtype  \n",
      "---  ------           --------------  -----  \n",
      " 0   name             16444 non-null  object \n",
      " 1   platform         16444 non-null  object \n",
      " 2   year_of_release  16444 non-null  int64  \n",
      " 3   genre            16444 non-null  object \n",
      " 4   na_sales         16444 non-null  float64\n",
      " 5   eu_sales         16444 non-null  float64\n",
      " 6   jp_sales         16444 non-null  float64\n",
      " 7   other_sales      16444 non-null  float64\n",
      " 8   critic_score     7983 non-null   float64\n",
      " 9   user_score       7463 non-null   float64\n",
      " 10  rating           9768 non-null   object \n",
      " 11  total_sales      16444 non-null  float64\n",
      " 12  platform_type    16444 non-null  object \n",
      "dtypes: float64(7), int64(1), object(5)\n",
      "memory usage: 1.6+ MB\n"
     ]
    }
   ],
   "source": [
    "df.info()"
   ]
  },
  {
   "cell_type": "code",
   "execution_count": 32,
   "metadata": {},
   "outputs": [
    {
     "name": "stdout",
     "output_type": "stream",
     "text": [
      "После предобработки дынных мы оставили 98.38% исходного датасета.\n"
     ]
    }
   ],
   "source": [
    "print('После предобработки дынных мы оставили',\"{:.2%}\".format(16444 / 16715), 'исходного датасета.')"
   ]
  },
  {
   "cell_type": "markdown",
   "metadata": {},
   "source": [
    "## Исследовательский анализ данных"
   ]
  },
  {
   "cell_type": "markdown",
   "metadata": {},
   "source": [
    "### Количество игр за все годы"
   ]
  },
  {
   "cell_type": "code",
   "execution_count": 33,
   "metadata": {},
   "outputs": [
    {
     "data": {
      "image/png": "[encoded data removed]",
      "text/plain": [
       "<Figure size 432x288 with 1 Axes>"
      ]
     },
     "metadata": {
      "needs_background": "light"
     },
     "output_type": "display_data"
    }
   ],
   "source": [
    "plt.plot(df.groupby('year_of_release')['name'].count(), label='Релизы')\n",
    "plt.plot(df.groupby('year_of_release')['total_sales'].sum(), label='Продажи')\n",
    "plt.legend()\n",
    "plt.xlabel('Год выпуска')\n",
    "plt.ylabel('Количество релизов')\n",
    "plt.show()"
   ]
  },
  {
   "cell_type": "markdown",
   "metadata": {},
   "source": [
    "Из графика видно, что значительный рас выхода видеоигр начинается с 2000-ого года, пик выхода видеоигр приходится на 2008 год, и после кризиса количество видеоигр, также стремительно снижается."
   ]
  },
  {
   "cell_type": "markdown",
   "metadata": {},
   "source": [
    "### Изменение продаж по платформам"
   ]
  },
  {
   "cell_type": "code",
   "execution_count": 34,
   "metadata": {
    "scrolled": true
   },
   "outputs": [
    {
     "data": {
      "text/html": [
       "<div>\n",
       "<style scoped>\n",
       "    .dataframe tbody tr th:only-of-type {\n",
       "        vertical-align: middle;\n",
       "    }\n",
       "\n",
       "    .dataframe tbody tr th {\n",
       "        vertical-align: top;\n",
       "    }\n",
       "\n",
       "    .dataframe thead th {\n",
       "        text-align: right;\n",
       "    }\n",
       "</style>\n",
       "<table border=\"1\" class=\"dataframe\">\n",
       "  <thead>\n",
       "    <tr style=\"text-align: right;\">\n",
       "      <th>platform_type</th>\n",
       "      <th>console</th>\n",
       "      <th>mobile</th>\n",
       "      <th>pc</th>\n",
       "    </tr>\n",
       "    <tr>\n",
       "      <th>year_of_release</th>\n",
       "      <th></th>\n",
       "      <th></th>\n",
       "      <th></th>\n",
       "    </tr>\n",
       "  </thead>\n",
       "  <tbody>\n",
       "    <tr>\n",
       "      <th>1980</th>\n",
       "      <td>NaN</td>\n",
       "      <td>NaN</td>\n",
       "      <td>9.0</td>\n",
       "    </tr>\n",
       "    <tr>\n",
       "      <th>1981</th>\n",
       "      <td>NaN</td>\n",
       "      <td>NaN</td>\n",
       "      <td>46.0</td>\n",
       "    </tr>\n",
       "    <tr>\n",
       "      <th>1982</th>\n",
       "      <td>NaN</td>\n",
       "      <td>NaN</td>\n",
       "      <td>36.0</td>\n",
       "    </tr>\n",
       "    <tr>\n",
       "      <th>1983</th>\n",
       "      <td>6.0</td>\n",
       "      <td>NaN</td>\n",
       "      <td>11.0</td>\n",
       "    </tr>\n",
       "    <tr>\n",
       "      <th>1984</th>\n",
       "      <td>13.0</td>\n",
       "      <td>NaN</td>\n",
       "      <td>1.0</td>\n",
       "    </tr>\n",
       "    <tr>\n",
       "      <th>1985</th>\n",
       "      <td>11.0</td>\n",
       "      <td>1.0</td>\n",
       "      <td>2.0</td>\n",
       "    </tr>\n",
       "    <tr>\n",
       "      <th>1986</th>\n",
       "      <td>19.0</td>\n",
       "      <td>NaN</td>\n",
       "      <td>2.0</td>\n",
       "    </tr>\n",
       "    <tr>\n",
       "      <th>1987</th>\n",
       "      <td>10.0</td>\n",
       "      <td>NaN</td>\n",
       "      <td>6.0</td>\n",
       "    </tr>\n",
       "    <tr>\n",
       "      <th>1988</th>\n",
       "      <td>11.0</td>\n",
       "      <td>1.0</td>\n",
       "      <td>3.0</td>\n",
       "    </tr>\n",
       "    <tr>\n",
       "      <th>1989</th>\n",
       "      <td>5.0</td>\n",
       "      <td>10.0</td>\n",
       "      <td>2.0</td>\n",
       "    </tr>\n",
       "    <tr>\n",
       "      <th>1990</th>\n",
       "      <td>13.0</td>\n",
       "      <td>3.0</td>\n",
       "      <td>NaN</td>\n",
       "    </tr>\n",
       "    <tr>\n",
       "      <th>1991</th>\n",
       "      <td>32.0</td>\n",
       "      <td>9.0</td>\n",
       "      <td>NaN</td>\n",
       "    </tr>\n",
       "    <tr>\n",
       "      <th>1992</th>\n",
       "      <td>30.0</td>\n",
       "      <td>8.0</td>\n",
       "      <td>5.0</td>\n",
       "    </tr>\n",
       "    <tr>\n",
       "      <th>1993</th>\n",
       "      <td>59.0</td>\n",
       "      <td>NaN</td>\n",
       "      <td>1.0</td>\n",
       "    </tr>\n",
       "    <tr>\n",
       "      <th>1994</th>\n",
       "      <td>107.0</td>\n",
       "      <td>3.0</td>\n",
       "      <td>11.0</td>\n",
       "    </tr>\n",
       "    <tr>\n",
       "      <th>1995</th>\n",
       "      <td>213.0</td>\n",
       "      <td>4.0</td>\n",
       "      <td>2.0</td>\n",
       "    </tr>\n",
       "    <tr>\n",
       "      <th>1996</th>\n",
       "      <td>253.0</td>\n",
       "      <td>6.0</td>\n",
       "      <td>4.0</td>\n",
       "    </tr>\n",
       "    <tr>\n",
       "      <th>1997</th>\n",
       "      <td>275.0</td>\n",
       "      <td>8.0</td>\n",
       "      <td>6.0</td>\n",
       "    </tr>\n",
       "    <tr>\n",
       "      <th>1998</th>\n",
       "      <td>363.0</td>\n",
       "      <td>8.0</td>\n",
       "      <td>8.0</td>\n",
       "    </tr>\n",
       "    <tr>\n",
       "      <th>1999</th>\n",
       "      <td>320.0</td>\n",
       "      <td>11.0</td>\n",
       "      <td>7.0</td>\n",
       "    </tr>\n",
       "    <tr>\n",
       "      <th>2000</th>\n",
       "      <td>324.0</td>\n",
       "      <td>18.0</td>\n",
       "      <td>8.0</td>\n",
       "    </tr>\n",
       "    <tr>\n",
       "      <th>2001</th>\n",
       "      <td>317.0</td>\n",
       "      <td>117.0</td>\n",
       "      <td>48.0</td>\n",
       "    </tr>\n",
       "    <tr>\n",
       "      <th>2002</th>\n",
       "      <td>454.0</td>\n",
       "      <td>198.0</td>\n",
       "      <td>177.0</td>\n",
       "    </tr>\n",
       "    <tr>\n",
       "      <th>2003</th>\n",
       "      <td>403.0</td>\n",
       "      <td>150.0</td>\n",
       "      <td>222.0</td>\n",
       "    </tr>\n",
       "    <tr>\n",
       "      <th>2004</th>\n",
       "      <td>342.0</td>\n",
       "      <td>213.0</td>\n",
       "      <td>207.0</td>\n",
       "    </tr>\n",
       "    <tr>\n",
       "      <th>2005</th>\n",
       "      <td>375.0</td>\n",
       "      <td>348.0</td>\n",
       "      <td>216.0</td>\n",
       "    </tr>\n",
       "    <tr>\n",
       "      <th>2006</th>\n",
       "      <td>463.0</td>\n",
       "      <td>429.0</td>\n",
       "      <td>114.0</td>\n",
       "    </tr>\n",
       "    <tr>\n",
       "      <th>2007</th>\n",
       "      <td>617.0</td>\n",
       "      <td>515.0</td>\n",
       "      <td>65.0</td>\n",
       "    </tr>\n",
       "    <tr>\n",
       "      <th>2008</th>\n",
       "      <td>758.0</td>\n",
       "      <td>592.0</td>\n",
       "      <td>77.0</td>\n",
       "    </tr>\n",
       "    <tr>\n",
       "      <th>2009</th>\n",
       "      <td>755.0</td>\n",
       "      <td>564.0</td>\n",
       "      <td>107.0</td>\n",
       "    </tr>\n",
       "    <tr>\n",
       "      <th>2010</th>\n",
       "      <td>654.0</td>\n",
       "      <td>511.0</td>\n",
       "      <td>90.0</td>\n",
       "    </tr>\n",
       "    <tr>\n",
       "      <th>2011</th>\n",
       "      <td>571.0</td>\n",
       "      <td>426.0</td>\n",
       "      <td>139.0</td>\n",
       "    </tr>\n",
       "    <tr>\n",
       "      <th>2012</th>\n",
       "      <td>317.0</td>\n",
       "      <td>275.0</td>\n",
       "      <td>61.0</td>\n",
       "    </tr>\n",
       "    <tr>\n",
       "      <th>2013</th>\n",
       "      <td>271.0</td>\n",
       "      <td>216.0</td>\n",
       "      <td>57.0</td>\n",
       "    </tr>\n",
       "    <tr>\n",
       "      <th>2014</th>\n",
       "      <td>283.0</td>\n",
       "      <td>190.0</td>\n",
       "      <td>108.0</td>\n",
       "    </tr>\n",
       "    <tr>\n",
       "      <th>2015</th>\n",
       "      <td>277.0</td>\n",
       "      <td>199.0</td>\n",
       "      <td>130.0</td>\n",
       "    </tr>\n",
       "    <tr>\n",
       "      <th>2016</th>\n",
       "      <td>230.0</td>\n",
       "      <td>131.0</td>\n",
       "      <td>141.0</td>\n",
       "    </tr>\n",
       "  </tbody>\n",
       "</table>\n",
       "</div>"
      ],
      "text/plain": [
       "platform_type    console  mobile     pc\n",
       "year_of_release                        \n",
       "1980                 NaN     NaN    9.0\n",
       "1981                 NaN     NaN   46.0\n",
       "1982                 NaN     NaN   36.0\n",
       "1983                 6.0     NaN   11.0\n",
       "1984                13.0     NaN    1.0\n",
       "1985                11.0     1.0    2.0\n",
       "1986                19.0     NaN    2.0\n",
       "1987                10.0     NaN    6.0\n",
       "1988                11.0     1.0    3.0\n",
       "1989                 5.0    10.0    2.0\n",
       "1990                13.0     3.0    NaN\n",
       "1991                32.0     9.0    NaN\n",
       "1992                30.0     8.0    5.0\n",
       "1993                59.0     NaN    1.0\n",
       "1994               107.0     3.0   11.0\n",
       "1995               213.0     4.0    2.0\n",
       "1996               253.0     6.0    4.0\n",
       "1997               275.0     8.0    6.0\n",
       "1998               363.0     8.0    8.0\n",
       "1999               320.0    11.0    7.0\n",
       "2000               324.0    18.0    8.0\n",
       "2001               317.0   117.0   48.0\n",
       "2002               454.0   198.0  177.0\n",
       "2003               403.0   150.0  222.0\n",
       "2004               342.0   213.0  207.0\n",
       "2005               375.0   348.0  216.0\n",
       "2006               463.0   429.0  114.0\n",
       "2007               617.0   515.0   65.0\n",
       "2008               758.0   592.0   77.0\n",
       "2009               755.0   564.0  107.0\n",
       "2010               654.0   511.0   90.0\n",
       "2011               571.0   426.0  139.0\n",
       "2012               317.0   275.0   61.0\n",
       "2013               271.0   216.0   57.0\n",
       "2014               283.0   190.0  108.0\n",
       "2015               277.0   199.0  130.0\n",
       "2016               230.0   131.0  141.0"
      ]
     },
     "execution_count": 34,
     "metadata": {},
     "output_type": "execute_result"
    }
   ],
   "source": [
    "# сводная таблица - количество релизов по годам\n",
    "platform_type_releases = df.pivot_table(index='year_of_release',\n",
    "                                        values = 'name',\n",
    "                                        columns='platform_type',\n",
    "                                        aggfunc='count')\n",
    "platform_type_releases"
   ]
  },
  {
   "cell_type": "markdown",
   "metadata": {},
   "source": [
    "Из таблицы также видно, что начиная с 1994 значительно растет количество релизов игр в год."
   ]
  },
  {
   "cell_type": "code",
   "execution_count": 35,
   "metadata": {
    "scrolled": true
   },
   "outputs": [
    {
     "data": {
      "text/html": [
       "<div>\n",
       "<style scoped>\n",
       "    .dataframe tbody tr th:only-of-type {\n",
       "        vertical-align: middle;\n",
       "    }\n",
       "\n",
       "    .dataframe tbody tr th {\n",
       "        vertical-align: top;\n",
       "    }\n",
       "\n",
       "    .dataframe thead th {\n",
       "        text-align: right;\n",
       "    }\n",
       "</style>\n",
       "<table border=\"1\" class=\"dataframe\">\n",
       "  <thead>\n",
       "    <tr style=\"text-align: right;\">\n",
       "      <th>year_of_release</th>\n",
       "      <th>1980</th>\n",
       "      <th>1981</th>\n",
       "      <th>1982</th>\n",
       "      <th>1983</th>\n",
       "      <th>1984</th>\n",
       "      <th>1985</th>\n",
       "      <th>1986</th>\n",
       "      <th>1987</th>\n",
       "      <th>1988</th>\n",
       "      <th>1989</th>\n",
       "      <th>1990</th>\n",
       "      <th>1991</th>\n",
       "      <th>1992</th>\n",
       "      <th>1993</th>\n",
       "      <th>1994</th>\n",
       "      <th>1995</th>\n",
       "      <th>1996</th>\n",
       "      <th>1997</th>\n",
       "      <th>1998</th>\n",
       "      <th>1999</th>\n",
       "      <th>2000</th>\n",
       "      <th>2001</th>\n",
       "      <th>2002</th>\n",
       "      <th>2003</th>\n",
       "      <th>2004</th>\n",
       "      <th>2005</th>\n",
       "      <th>2006</th>\n",
       "      <th>2007</th>\n",
       "      <th>2008</th>\n",
       "      <th>2009</th>\n",
       "      <th>2010</th>\n",
       "      <th>2011</th>\n",
       "      <th>2012</th>\n",
       "      <th>2013</th>\n",
       "      <th>2014</th>\n",
       "      <th>2015</th>\n",
       "      <th>2016</th>\n",
       "      <th>All</th>\n",
       "    </tr>\n",
       "    <tr>\n",
       "      <th>platform</th>\n",
       "      <th></th>\n",
       "      <th></th>\n",
       "      <th></th>\n",
       "      <th></th>\n",
       "      <th></th>\n",
       "      <th></th>\n",
       "      <th></th>\n",
       "      <th></th>\n",
       "      <th></th>\n",
       "      <th></th>\n",
       "      <th></th>\n",
       "      <th></th>\n",
       "      <th></th>\n",
       "      <th></th>\n",
       "      <th></th>\n",
       "      <th></th>\n",
       "      <th></th>\n",
       "      <th></th>\n",
       "      <th></th>\n",
       "      <th></th>\n",
       "      <th></th>\n",
       "      <th></th>\n",
       "      <th></th>\n",
       "      <th></th>\n",
       "      <th></th>\n",
       "      <th></th>\n",
       "      <th></th>\n",
       "      <th></th>\n",
       "      <th></th>\n",
       "      <th></th>\n",
       "      <th></th>\n",
       "      <th></th>\n",
       "      <th></th>\n",
       "      <th></th>\n",
       "      <th></th>\n",
       "      <th></th>\n",
       "      <th></th>\n",
       "      <th></th>\n",
       "    </tr>\n",
       "  </thead>\n",
       "  <tbody>\n",
       "    <tr>\n",
       "      <th>2600</th>\n",
       "      <td>9</td>\n",
       "      <td>46</td>\n",
       "      <td>36</td>\n",
       "      <td>11</td>\n",
       "      <td>1</td>\n",
       "      <td>1</td>\n",
       "      <td>2</td>\n",
       "      <td>6</td>\n",
       "      <td>2</td>\n",
       "      <td>2</td>\n",
       "      <td>0</td>\n",
       "      <td>0</td>\n",
       "      <td>0</td>\n",
       "      <td>0</td>\n",
       "      <td>0</td>\n",
       "      <td>0</td>\n",
       "      <td>0</td>\n",
       "      <td>0</td>\n",
       "      <td>0</td>\n",
       "      <td>0</td>\n",
       "      <td>0</td>\n",
       "      <td>0</td>\n",
       "      <td>0</td>\n",
       "      <td>0</td>\n",
       "      <td>0</td>\n",
       "      <td>0</td>\n",
       "      <td>0</td>\n",
       "      <td>0</td>\n",
       "      <td>0</td>\n",
       "      <td>0</td>\n",
       "      <td>0</td>\n",
       "      <td>0</td>\n",
       "      <td>0</td>\n",
       "      <td>0</td>\n",
       "      <td>0</td>\n",
       "      <td>0</td>\n",
       "      <td>0</td>\n",
       "      <td>116</td>\n",
       "    </tr>\n",
       "    <tr>\n",
       "      <th>3DO</th>\n",
       "      <td>0</td>\n",
       "      <td>0</td>\n",
       "      <td>0</td>\n",
       "      <td>0</td>\n",
       "      <td>0</td>\n",
       "      <td>0</td>\n",
       "      <td>0</td>\n",
       "      <td>0</td>\n",
       "      <td>0</td>\n",
       "      <td>0</td>\n",
       "      <td>0</td>\n",
       "      <td>0</td>\n",
       "      <td>0</td>\n",
       "      <td>0</td>\n",
       "      <td>1</td>\n",
       "      <td>2</td>\n",
       "      <td>0</td>\n",
       "      <td>0</td>\n",
       "      <td>0</td>\n",
       "      <td>0</td>\n",
       "      <td>0</td>\n",
       "      <td>0</td>\n",
       "      <td>0</td>\n",
       "      <td>0</td>\n",
       "      <td>0</td>\n",
       "      <td>0</td>\n",
       "      <td>0</td>\n",
       "      <td>0</td>\n",
       "      <td>0</td>\n",
       "      <td>0</td>\n",
       "      <td>0</td>\n",
       "      <td>0</td>\n",
       "      <td>0</td>\n",
       "      <td>0</td>\n",
       "      <td>0</td>\n",
       "      <td>0</td>\n",
       "      <td>0</td>\n",
       "      <td>3</td>\n",
       "    </tr>\n",
       "    <tr>\n",
       "      <th>3DS</th>\n",
       "      <td>0</td>\n",
       "      <td>0</td>\n",
       "      <td>0</td>\n",
       "      <td>0</td>\n",
       "      <td>0</td>\n",
       "      <td>0</td>\n",
       "      <td>0</td>\n",
       "      <td>0</td>\n",
       "      <td>0</td>\n",
       "      <td>0</td>\n",
       "      <td>0</td>\n",
       "      <td>0</td>\n",
       "      <td>0</td>\n",
       "      <td>0</td>\n",
       "      <td>0</td>\n",
       "      <td>0</td>\n",
       "      <td>0</td>\n",
       "      <td>0</td>\n",
       "      <td>0</td>\n",
       "      <td>0</td>\n",
       "      <td>0</td>\n",
       "      <td>0</td>\n",
       "      <td>0</td>\n",
       "      <td>0</td>\n",
       "      <td>0</td>\n",
       "      <td>0</td>\n",
       "      <td>0</td>\n",
       "      <td>0</td>\n",
       "      <td>0</td>\n",
       "      <td>0</td>\n",
       "      <td>0</td>\n",
       "      <td>116</td>\n",
       "      <td>93</td>\n",
       "      <td>91</td>\n",
       "      <td>80</td>\n",
       "      <td>86</td>\n",
       "      <td>46</td>\n",
       "      <td>512</td>\n",
       "    </tr>\n",
       "    <tr>\n",
       "      <th>DC</th>\n",
       "      <td>0</td>\n",
       "      <td>0</td>\n",
       "      <td>0</td>\n",
       "      <td>0</td>\n",
       "      <td>0</td>\n",
       "      <td>0</td>\n",
       "      <td>0</td>\n",
       "      <td>0</td>\n",
       "      <td>0</td>\n",
       "      <td>0</td>\n",
       "      <td>0</td>\n",
       "      <td>0</td>\n",
       "      <td>0</td>\n",
       "      <td>0</td>\n",
       "      <td>0</td>\n",
       "      <td>0</td>\n",
       "      <td>0</td>\n",
       "      <td>0</td>\n",
       "      <td>7</td>\n",
       "      <td>14</td>\n",
       "      <td>20</td>\n",
       "      <td>8</td>\n",
       "      <td>1</td>\n",
       "      <td>0</td>\n",
       "      <td>0</td>\n",
       "      <td>0</td>\n",
       "      <td>0</td>\n",
       "      <td>1</td>\n",
       "      <td>1</td>\n",
       "      <td>0</td>\n",
       "      <td>0</td>\n",
       "      <td>0</td>\n",
       "      <td>0</td>\n",
       "      <td>0</td>\n",
       "      <td>0</td>\n",
       "      <td>0</td>\n",
       "      <td>0</td>\n",
       "      <td>52</td>\n",
       "    </tr>\n",
       "    <tr>\n",
       "      <th>DS</th>\n",
       "      <td>0</td>\n",
       "      <td>0</td>\n",
       "      <td>0</td>\n",
       "      <td>0</td>\n",
       "      <td>0</td>\n",
       "      <td>1</td>\n",
       "      <td>0</td>\n",
       "      <td>0</td>\n",
       "      <td>0</td>\n",
       "      <td>0</td>\n",
       "      <td>0</td>\n",
       "      <td>0</td>\n",
       "      <td>0</td>\n",
       "      <td>0</td>\n",
       "      <td>0</td>\n",
       "      <td>0</td>\n",
       "      <td>0</td>\n",
       "      <td>0</td>\n",
       "      <td>0</td>\n",
       "      <td>0</td>\n",
       "      <td>0</td>\n",
       "      <td>0</td>\n",
       "      <td>0</td>\n",
       "      <td>0</td>\n",
       "      <td>23</td>\n",
       "      <td>118</td>\n",
       "      <td>201</td>\n",
       "      <td>376</td>\n",
       "      <td>492</td>\n",
       "      <td>403</td>\n",
       "      <td>323</td>\n",
       "      <td>153</td>\n",
       "      <td>23</td>\n",
       "      <td>8</td>\n",
       "      <td>0</td>\n",
       "      <td>0</td>\n",
       "      <td>0</td>\n",
       "      <td>2121</td>\n",
       "    </tr>\n",
       "    <tr>\n",
       "      <th>GB</th>\n",
       "      <td>0</td>\n",
       "      <td>0</td>\n",
       "      <td>0</td>\n",
       "      <td>0</td>\n",
       "      <td>0</td>\n",
       "      <td>0</td>\n",
       "      <td>0</td>\n",
       "      <td>0</td>\n",
       "      <td>1</td>\n",
       "      <td>10</td>\n",
       "      <td>3</td>\n",
       "      <td>9</td>\n",
       "      <td>7</td>\n",
       "      <td>0</td>\n",
       "      <td>3</td>\n",
       "      <td>4</td>\n",
       "      <td>6</td>\n",
       "      <td>8</td>\n",
       "      <td>8</td>\n",
       "      <td>11</td>\n",
       "      <td>17</td>\n",
       "      <td>10</td>\n",
       "      <td>0</td>\n",
       "      <td>0</td>\n",
       "      <td>0</td>\n",
       "      <td>0</td>\n",
       "      <td>0</td>\n",
       "      <td>0</td>\n",
       "      <td>0</td>\n",
       "      <td>0</td>\n",
       "      <td>0</td>\n",
       "      <td>0</td>\n",
       "      <td>0</td>\n",
       "      <td>0</td>\n",
       "      <td>0</td>\n",
       "      <td>0</td>\n",
       "      <td>0</td>\n",
       "      <td>97</td>\n",
       "    </tr>\n",
       "    <tr>\n",
       "      <th>GBA</th>\n",
       "      <td>0</td>\n",
       "      <td>0</td>\n",
       "      <td>0</td>\n",
       "      <td>0</td>\n",
       "      <td>0</td>\n",
       "      <td>0</td>\n",
       "      <td>0</td>\n",
       "      <td>0</td>\n",
       "      <td>0</td>\n",
       "      <td>0</td>\n",
       "      <td>0</td>\n",
       "      <td>0</td>\n",
       "      <td>0</td>\n",
       "      <td>0</td>\n",
       "      <td>0</td>\n",
       "      <td>0</td>\n",
       "      <td>0</td>\n",
       "      <td>0</td>\n",
       "      <td>0</td>\n",
       "      <td>0</td>\n",
       "      <td>1</td>\n",
       "      <td>107</td>\n",
       "      <td>198</td>\n",
       "      <td>150</td>\n",
       "      <td>175</td>\n",
       "      <td>135</td>\n",
       "      <td>39</td>\n",
       "      <td>6</td>\n",
       "      <td>0</td>\n",
       "      <td>0</td>\n",
       "      <td>0</td>\n",
       "      <td>0</td>\n",
       "      <td>0</td>\n",
       "      <td>0</td>\n",
       "      <td>0</td>\n",
       "      <td>0</td>\n",
       "      <td>0</td>\n",
       "      <td>811</td>\n",
       "    </tr>\n",
       "    <tr>\n",
       "      <th>GC</th>\n",
       "      <td>0</td>\n",
       "      <td>0</td>\n",
       "      <td>0</td>\n",
       "      <td>0</td>\n",
       "      <td>0</td>\n",
       "      <td>0</td>\n",
       "      <td>0</td>\n",
       "      <td>0</td>\n",
       "      <td>0</td>\n",
       "      <td>0</td>\n",
       "      <td>0</td>\n",
       "      <td>0</td>\n",
       "      <td>0</td>\n",
       "      <td>0</td>\n",
       "      <td>0</td>\n",
       "      <td>0</td>\n",
       "      <td>0</td>\n",
       "      <td>0</td>\n",
       "      <td>0</td>\n",
       "      <td>0</td>\n",
       "      <td>0</td>\n",
       "      <td>22</td>\n",
       "      <td>152</td>\n",
       "      <td>144</td>\n",
       "      <td>83</td>\n",
       "      <td>97</td>\n",
       "      <td>40</td>\n",
       "      <td>4</td>\n",
       "      <td>0</td>\n",
       "      <td>0</td>\n",
       "      <td>0</td>\n",
       "      <td>0</td>\n",
       "      <td>0</td>\n",
       "      <td>0</td>\n",
       "      <td>0</td>\n",
       "      <td>0</td>\n",
       "      <td>0</td>\n",
       "      <td>542</td>\n",
       "    </tr>\n",
       "    <tr>\n",
       "      <th>GEN</th>\n",
       "      <td>0</td>\n",
       "      <td>0</td>\n",
       "      <td>0</td>\n",
       "      <td>0</td>\n",
       "      <td>0</td>\n",
       "      <td>0</td>\n",
       "      <td>0</td>\n",
       "      <td>0</td>\n",
       "      <td>0</td>\n",
       "      <td>0</td>\n",
       "      <td>1</td>\n",
       "      <td>1</td>\n",
       "      <td>6</td>\n",
       "      <td>7</td>\n",
       "      <td>12</td>\n",
       "      <td>0</td>\n",
       "      <td>0</td>\n",
       "      <td>0</td>\n",
       "      <td>0</td>\n",
       "      <td>0</td>\n",
       "      <td>0</td>\n",
       "      <td>0</td>\n",
       "      <td>0</td>\n",
       "      <td>0</td>\n",
       "      <td>0</td>\n",
       "      <td>0</td>\n",
       "      <td>0</td>\n",
       "      <td>0</td>\n",
       "      <td>0</td>\n",
       "      <td>0</td>\n",
       "      <td>0</td>\n",
       "      <td>0</td>\n",
       "      <td>0</td>\n",
       "      <td>0</td>\n",
       "      <td>0</td>\n",
       "      <td>0</td>\n",
       "      <td>0</td>\n",
       "      <td>27</td>\n",
       "    </tr>\n",
       "    <tr>\n",
       "      <th>GG</th>\n",
       "      <td>0</td>\n",
       "      <td>0</td>\n",
       "      <td>0</td>\n",
       "      <td>0</td>\n",
       "      <td>0</td>\n",
       "      <td>0</td>\n",
       "      <td>0</td>\n",
       "      <td>0</td>\n",
       "      <td>0</td>\n",
       "      <td>0</td>\n",
       "      <td>0</td>\n",
       "      <td>0</td>\n",
       "      <td>1</td>\n",
       "      <td>0</td>\n",
       "      <td>0</td>\n",
       "      <td>0</td>\n",
       "      <td>0</td>\n",
       "      <td>0</td>\n",
       "      <td>0</td>\n",
       "      <td>0</td>\n",
       "      <td>0</td>\n",
       "      <td>0</td>\n",
       "      <td>0</td>\n",
       "      <td>0</td>\n",
       "      <td>0</td>\n",
       "      <td>0</td>\n",
       "      <td>0</td>\n",
       "      <td>0</td>\n",
       "      <td>0</td>\n",
       "      <td>0</td>\n",
       "      <td>0</td>\n",
       "      <td>0</td>\n",
       "      <td>0</td>\n",
       "      <td>0</td>\n",
       "      <td>0</td>\n",
       "      <td>0</td>\n",
       "      <td>0</td>\n",
       "      <td>1</td>\n",
       "    </tr>\n",
       "    <tr>\n",
       "      <th>N64</th>\n",
       "      <td>0</td>\n",
       "      <td>0</td>\n",
       "      <td>0</td>\n",
       "      <td>0</td>\n",
       "      <td>0</td>\n",
       "      <td>0</td>\n",
       "      <td>0</td>\n",
       "      <td>0</td>\n",
       "      <td>0</td>\n",
       "      <td>0</td>\n",
       "      <td>0</td>\n",
       "      <td>0</td>\n",
       "      <td>0</td>\n",
       "      <td>0</td>\n",
       "      <td>0</td>\n",
       "      <td>0</td>\n",
       "      <td>18</td>\n",
       "      <td>49</td>\n",
       "      <td>77</td>\n",
       "      <td>102</td>\n",
       "      <td>60</td>\n",
       "      <td>9</td>\n",
       "      <td>1</td>\n",
       "      <td>0</td>\n",
       "      <td>0</td>\n",
       "      <td>0</td>\n",
       "      <td>0</td>\n",
       "      <td>0</td>\n",
       "      <td>0</td>\n",
       "      <td>0</td>\n",
       "      <td>0</td>\n",
       "      <td>0</td>\n",
       "      <td>0</td>\n",
       "      <td>0</td>\n",
       "      <td>0</td>\n",
       "      <td>0</td>\n",
       "      <td>0</td>\n",
       "      <td>316</td>\n",
       "    </tr>\n",
       "    <tr>\n",
       "      <th>NES</th>\n",
       "      <td>0</td>\n",
       "      <td>0</td>\n",
       "      <td>0</td>\n",
       "      <td>6</td>\n",
       "      <td>13</td>\n",
       "      <td>11</td>\n",
       "      <td>19</td>\n",
       "      <td>10</td>\n",
       "      <td>11</td>\n",
       "      <td>5</td>\n",
       "      <td>8</td>\n",
       "      <td>7</td>\n",
       "      <td>3</td>\n",
       "      <td>4</td>\n",
       "      <td>1</td>\n",
       "      <td>0</td>\n",
       "      <td>0</td>\n",
       "      <td>0</td>\n",
       "      <td>0</td>\n",
       "      <td>0</td>\n",
       "      <td>0</td>\n",
       "      <td>0</td>\n",
       "      <td>0</td>\n",
       "      <td>0</td>\n",
       "      <td>0</td>\n",
       "      <td>0</td>\n",
       "      <td>0</td>\n",
       "      <td>0</td>\n",
       "      <td>0</td>\n",
       "      <td>0</td>\n",
       "      <td>0</td>\n",
       "      <td>0</td>\n",
       "      <td>0</td>\n",
       "      <td>0</td>\n",
       "      <td>0</td>\n",
       "      <td>0</td>\n",
       "      <td>0</td>\n",
       "      <td>98</td>\n",
       "    </tr>\n",
       "    <tr>\n",
       "      <th>NG</th>\n",
       "      <td>0</td>\n",
       "      <td>0</td>\n",
       "      <td>0</td>\n",
       "      <td>0</td>\n",
       "      <td>0</td>\n",
       "      <td>0</td>\n",
       "      <td>0</td>\n",
       "      <td>0</td>\n",
       "      <td>0</td>\n",
       "      <td>0</td>\n",
       "      <td>0</td>\n",
       "      <td>0</td>\n",
       "      <td>0</td>\n",
       "      <td>2</td>\n",
       "      <td>4</td>\n",
       "      <td>4</td>\n",
       "      <td>2</td>\n",
       "      <td>0</td>\n",
       "      <td>0</td>\n",
       "      <td>0</td>\n",
       "      <td>0</td>\n",
       "      <td>0</td>\n",
       "      <td>0</td>\n",
       "      <td>0</td>\n",
       "      <td>0</td>\n",
       "      <td>0</td>\n",
       "      <td>0</td>\n",
       "      <td>0</td>\n",
       "      <td>0</td>\n",
       "      <td>0</td>\n",
       "      <td>0</td>\n",
       "      <td>0</td>\n",
       "      <td>0</td>\n",
       "      <td>0</td>\n",
       "      <td>0</td>\n",
       "      <td>0</td>\n",
       "      <td>0</td>\n",
       "      <td>12</td>\n",
       "    </tr>\n",
       "    <tr>\n",
       "      <th>PC</th>\n",
       "      <td>0</td>\n",
       "      <td>0</td>\n",
       "      <td>0</td>\n",
       "      <td>0</td>\n",
       "      <td>0</td>\n",
       "      <td>1</td>\n",
       "      <td>0</td>\n",
       "      <td>0</td>\n",
       "      <td>1</td>\n",
       "      <td>0</td>\n",
       "      <td>0</td>\n",
       "      <td>0</td>\n",
       "      <td>5</td>\n",
       "      <td>0</td>\n",
       "      <td>6</td>\n",
       "      <td>2</td>\n",
       "      <td>4</td>\n",
       "      <td>6</td>\n",
       "      <td>8</td>\n",
       "      <td>7</td>\n",
       "      <td>7</td>\n",
       "      <td>15</td>\n",
       "      <td>19</td>\n",
       "      <td>33</td>\n",
       "      <td>30</td>\n",
       "      <td>37</td>\n",
       "      <td>52</td>\n",
       "      <td>62</td>\n",
       "      <td>76</td>\n",
       "      <td>107</td>\n",
       "      <td>90</td>\n",
       "      <td>139</td>\n",
       "      <td>61</td>\n",
       "      <td>38</td>\n",
       "      <td>47</td>\n",
       "      <td>50</td>\n",
       "      <td>54</td>\n",
       "      <td>957</td>\n",
       "    </tr>\n",
       "    <tr>\n",
       "      <th>PCFX</th>\n",
       "      <td>0</td>\n",
       "      <td>0</td>\n",
       "      <td>0</td>\n",
       "      <td>0</td>\n",
       "      <td>0</td>\n",
       "      <td>0</td>\n",
       "      <td>0</td>\n",
       "      <td>0</td>\n",
       "      <td>0</td>\n",
       "      <td>0</td>\n",
       "      <td>0</td>\n",
       "      <td>0</td>\n",
       "      <td>0</td>\n",
       "      <td>0</td>\n",
       "      <td>0</td>\n",
       "      <td>0</td>\n",
       "      <td>1</td>\n",
       "      <td>0</td>\n",
       "      <td>0</td>\n",
       "      <td>0</td>\n",
       "      <td>0</td>\n",
       "      <td>0</td>\n",
       "      <td>0</td>\n",
       "      <td>0</td>\n",
       "      <td>0</td>\n",
       "      <td>0</td>\n",
       "      <td>0</td>\n",
       "      <td>0</td>\n",
       "      <td>0</td>\n",
       "      <td>0</td>\n",
       "      <td>0</td>\n",
       "      <td>0</td>\n",
       "      <td>0</td>\n",
       "      <td>0</td>\n",
       "      <td>0</td>\n",
       "      <td>0</td>\n",
       "      <td>0</td>\n",
       "      <td>1</td>\n",
       "    </tr>\n",
       "    <tr>\n",
       "      <th>PS</th>\n",
       "      <td>0</td>\n",
       "      <td>0</td>\n",
       "      <td>0</td>\n",
       "      <td>0</td>\n",
       "      <td>0</td>\n",
       "      <td>0</td>\n",
       "      <td>0</td>\n",
       "      <td>0</td>\n",
       "      <td>0</td>\n",
       "      <td>0</td>\n",
       "      <td>0</td>\n",
       "      <td>0</td>\n",
       "      <td>0</td>\n",
       "      <td>0</td>\n",
       "      <td>17</td>\n",
       "      <td>99</td>\n",
       "      <td>164</td>\n",
       "      <td>188</td>\n",
       "      <td>248</td>\n",
       "      <td>200</td>\n",
       "      <td>160</td>\n",
       "      <td>91</td>\n",
       "      <td>20</td>\n",
       "      <td>3</td>\n",
       "      <td>0</td>\n",
       "      <td>0</td>\n",
       "      <td>0</td>\n",
       "      <td>0</td>\n",
       "      <td>0</td>\n",
       "      <td>0</td>\n",
       "      <td>0</td>\n",
       "      <td>0</td>\n",
       "      <td>0</td>\n",
       "      <td>0</td>\n",
       "      <td>0</td>\n",
       "      <td>0</td>\n",
       "      <td>0</td>\n",
       "      <td>1190</td>\n",
       "    </tr>\n",
       "    <tr>\n",
       "      <th>PS2</th>\n",
       "      <td>0</td>\n",
       "      <td>0</td>\n",
       "      <td>0</td>\n",
       "      <td>0</td>\n",
       "      <td>0</td>\n",
       "      <td>0</td>\n",
       "      <td>0</td>\n",
       "      <td>0</td>\n",
       "      <td>0</td>\n",
       "      <td>0</td>\n",
       "      <td>0</td>\n",
       "      <td>0</td>\n",
       "      <td>0</td>\n",
       "      <td>0</td>\n",
       "      <td>0</td>\n",
       "      <td>0</td>\n",
       "      <td>0</td>\n",
       "      <td>0</td>\n",
       "      <td>0</td>\n",
       "      <td>0</td>\n",
       "      <td>82</td>\n",
       "      <td>185</td>\n",
       "      <td>280</td>\n",
       "      <td>256</td>\n",
       "      <td>259</td>\n",
       "      <td>260</td>\n",
       "      <td>259</td>\n",
       "      <td>214</td>\n",
       "      <td>191</td>\n",
       "      <td>96</td>\n",
       "      <td>38</td>\n",
       "      <td>7</td>\n",
       "      <td>0</td>\n",
       "      <td>0</td>\n",
       "      <td>0</td>\n",
       "      <td>0</td>\n",
       "      <td>0</td>\n",
       "      <td>2127</td>\n",
       "    </tr>\n",
       "    <tr>\n",
       "      <th>PS3</th>\n",
       "      <td>0</td>\n",
       "      <td>0</td>\n",
       "      <td>0</td>\n",
       "      <td>0</td>\n",
       "      <td>0</td>\n",
       "      <td>0</td>\n",
       "      <td>0</td>\n",
       "      <td>0</td>\n",
       "      <td>0</td>\n",
       "      <td>0</td>\n",
       "      <td>0</td>\n",
       "      <td>0</td>\n",
       "      <td>0</td>\n",
       "      <td>0</td>\n",
       "      <td>0</td>\n",
       "      <td>0</td>\n",
       "      <td>0</td>\n",
       "      <td>0</td>\n",
       "      <td>0</td>\n",
       "      <td>0</td>\n",
       "      <td>0</td>\n",
       "      <td>0</td>\n",
       "      <td>0</td>\n",
       "      <td>0</td>\n",
       "      <td>0</td>\n",
       "      <td>0</td>\n",
       "      <td>27</td>\n",
       "      <td>90</td>\n",
       "      <td>138</td>\n",
       "      <td>162</td>\n",
       "      <td>181</td>\n",
       "      <td>215</td>\n",
       "      <td>148</td>\n",
       "      <td>126</td>\n",
       "      <td>108</td>\n",
       "      <td>73</td>\n",
       "      <td>38</td>\n",
       "      <td>1306</td>\n",
       "    </tr>\n",
       "    <tr>\n",
       "      <th>PS4</th>\n",
       "      <td>0</td>\n",
       "      <td>0</td>\n",
       "      <td>0</td>\n",
       "      <td>0</td>\n",
       "      <td>0</td>\n",
       "      <td>0</td>\n",
       "      <td>0</td>\n",
       "      <td>0</td>\n",
       "      <td>0</td>\n",
       "      <td>0</td>\n",
       "      <td>0</td>\n",
       "      <td>0</td>\n",
       "      <td>0</td>\n",
       "      <td>0</td>\n",
       "      <td>0</td>\n",
       "      <td>0</td>\n",
       "      <td>0</td>\n",
       "      <td>0</td>\n",
       "      <td>0</td>\n",
       "      <td>0</td>\n",
       "      <td>0</td>\n",
       "      <td>0</td>\n",
       "      <td>0</td>\n",
       "      <td>0</td>\n",
       "      <td>0</td>\n",
       "      <td>0</td>\n",
       "      <td>0</td>\n",
       "      <td>0</td>\n",
       "      <td>0</td>\n",
       "      <td>0</td>\n",
       "      <td>0</td>\n",
       "      <td>0</td>\n",
       "      <td>0</td>\n",
       "      <td>16</td>\n",
       "      <td>75</td>\n",
       "      <td>137</td>\n",
       "      <td>164</td>\n",
       "      <td>392</td>\n",
       "    </tr>\n",
       "    <tr>\n",
       "      <th>PSP</th>\n",
       "      <td>0</td>\n",
       "      <td>0</td>\n",
       "      <td>0</td>\n",
       "      <td>0</td>\n",
       "      <td>0</td>\n",
       "      <td>0</td>\n",
       "      <td>0</td>\n",
       "      <td>0</td>\n",
       "      <td>0</td>\n",
       "      <td>0</td>\n",
       "      <td>0</td>\n",
       "      <td>0</td>\n",
       "      <td>0</td>\n",
       "      <td>0</td>\n",
       "      <td>0</td>\n",
       "      <td>0</td>\n",
       "      <td>0</td>\n",
       "      <td>0</td>\n",
       "      <td>0</td>\n",
       "      <td>0</td>\n",
       "      <td>0</td>\n",
       "      <td>0</td>\n",
       "      <td>0</td>\n",
       "      <td>0</td>\n",
       "      <td>15</td>\n",
       "      <td>95</td>\n",
       "      <td>189</td>\n",
       "      <td>133</td>\n",
       "      <td>100</td>\n",
       "      <td>161</td>\n",
       "      <td>188</td>\n",
       "      <td>139</td>\n",
       "      <td>106</td>\n",
       "      <td>54</td>\n",
       "      <td>10</td>\n",
       "      <td>3</td>\n",
       "      <td>0</td>\n",
       "      <td>1193</td>\n",
       "    </tr>\n",
       "    <tr>\n",
       "      <th>PSV</th>\n",
       "      <td>0</td>\n",
       "      <td>0</td>\n",
       "      <td>0</td>\n",
       "      <td>0</td>\n",
       "      <td>0</td>\n",
       "      <td>0</td>\n",
       "      <td>0</td>\n",
       "      <td>0</td>\n",
       "      <td>0</td>\n",
       "      <td>0</td>\n",
       "      <td>0</td>\n",
       "      <td>0</td>\n",
       "      <td>0</td>\n",
       "      <td>0</td>\n",
       "      <td>0</td>\n",
       "      <td>0</td>\n",
       "      <td>0</td>\n",
       "      <td>0</td>\n",
       "      <td>0</td>\n",
       "      <td>0</td>\n",
       "      <td>0</td>\n",
       "      <td>0</td>\n",
       "      <td>0</td>\n",
       "      <td>0</td>\n",
       "      <td>0</td>\n",
       "      <td>0</td>\n",
       "      <td>0</td>\n",
       "      <td>0</td>\n",
       "      <td>0</td>\n",
       "      <td>0</td>\n",
       "      <td>0</td>\n",
       "      <td>18</td>\n",
       "      <td>53</td>\n",
       "      <td>63</td>\n",
       "      <td>100</td>\n",
       "      <td>110</td>\n",
       "      <td>85</td>\n",
       "      <td>429</td>\n",
       "    </tr>\n",
       "    <tr>\n",
       "      <th>SAT</th>\n",
       "      <td>0</td>\n",
       "      <td>0</td>\n",
       "      <td>0</td>\n",
       "      <td>0</td>\n",
       "      <td>0</td>\n",
       "      <td>0</td>\n",
       "      <td>0</td>\n",
       "      <td>0</td>\n",
       "      <td>0</td>\n",
       "      <td>0</td>\n",
       "      <td>0</td>\n",
       "      <td>0</td>\n",
       "      <td>0</td>\n",
       "      <td>0</td>\n",
       "      <td>19</td>\n",
       "      <td>52</td>\n",
       "      <td>38</td>\n",
       "      <td>34</td>\n",
       "      <td>29</td>\n",
       "      <td>1</td>\n",
       "      <td>0</td>\n",
       "      <td>0</td>\n",
       "      <td>0</td>\n",
       "      <td>0</td>\n",
       "      <td>0</td>\n",
       "      <td>0</td>\n",
       "      <td>0</td>\n",
       "      <td>0</td>\n",
       "      <td>0</td>\n",
       "      <td>0</td>\n",
       "      <td>0</td>\n",
       "      <td>0</td>\n",
       "      <td>0</td>\n",
       "      <td>0</td>\n",
       "      <td>0</td>\n",
       "      <td>0</td>\n",
       "      <td>0</td>\n",
       "      <td>173</td>\n",
       "    </tr>\n",
       "    <tr>\n",
       "      <th>SCD</th>\n",
       "      <td>0</td>\n",
       "      <td>0</td>\n",
       "      <td>0</td>\n",
       "      <td>0</td>\n",
       "      <td>0</td>\n",
       "      <td>0</td>\n",
       "      <td>0</td>\n",
       "      <td>0</td>\n",
       "      <td>0</td>\n",
       "      <td>0</td>\n",
       "      <td>0</td>\n",
       "      <td>0</td>\n",
       "      <td>0</td>\n",
       "      <td>1</td>\n",
       "      <td>5</td>\n",
       "      <td>0</td>\n",
       "      <td>0</td>\n",
       "      <td>0</td>\n",
       "      <td>0</td>\n",
       "      <td>0</td>\n",
       "      <td>0</td>\n",
       "      <td>0</td>\n",
       "      <td>0</td>\n",
       "      <td>0</td>\n",
       "      <td>0</td>\n",
       "      <td>0</td>\n",
       "      <td>0</td>\n",
       "      <td>0</td>\n",
       "      <td>0</td>\n",
       "      <td>0</td>\n",
       "      <td>0</td>\n",
       "      <td>0</td>\n",
       "      <td>0</td>\n",
       "      <td>0</td>\n",
       "      <td>0</td>\n",
       "      <td>0</td>\n",
       "      <td>0</td>\n",
       "      <td>6</td>\n",
       "    </tr>\n",
       "    <tr>\n",
       "      <th>SNES</th>\n",
       "      <td>0</td>\n",
       "      <td>0</td>\n",
       "      <td>0</td>\n",
       "      <td>0</td>\n",
       "      <td>0</td>\n",
       "      <td>0</td>\n",
       "      <td>0</td>\n",
       "      <td>0</td>\n",
       "      <td>0</td>\n",
       "      <td>0</td>\n",
       "      <td>4</td>\n",
       "      <td>24</td>\n",
       "      <td>21</td>\n",
       "      <td>46</td>\n",
       "      <td>53</td>\n",
       "      <td>54</td>\n",
       "      <td>30</td>\n",
       "      <td>4</td>\n",
       "      <td>2</td>\n",
       "      <td>1</td>\n",
       "      <td>0</td>\n",
       "      <td>0</td>\n",
       "      <td>0</td>\n",
       "      <td>0</td>\n",
       "      <td>0</td>\n",
       "      <td>0</td>\n",
       "      <td>0</td>\n",
       "      <td>0</td>\n",
       "      <td>0</td>\n",
       "      <td>0</td>\n",
       "      <td>0</td>\n",
       "      <td>0</td>\n",
       "      <td>0</td>\n",
       "      <td>0</td>\n",
       "      <td>0</td>\n",
       "      <td>0</td>\n",
       "      <td>0</td>\n",
       "      <td>239</td>\n",
       "    </tr>\n",
       "    <tr>\n",
       "      <th>TG16</th>\n",
       "      <td>0</td>\n",
       "      <td>0</td>\n",
       "      <td>0</td>\n",
       "      <td>0</td>\n",
       "      <td>0</td>\n",
       "      <td>0</td>\n",
       "      <td>0</td>\n",
       "      <td>0</td>\n",
       "      <td>0</td>\n",
       "      <td>0</td>\n",
       "      <td>0</td>\n",
       "      <td>0</td>\n",
       "      <td>0</td>\n",
       "      <td>0</td>\n",
       "      <td>0</td>\n",
       "      <td>2</td>\n",
       "      <td>0</td>\n",
       "      <td>0</td>\n",
       "      <td>0</td>\n",
       "      <td>0</td>\n",
       "      <td>0</td>\n",
       "      <td>0</td>\n",
       "      <td>0</td>\n",
       "      <td>0</td>\n",
       "      <td>0</td>\n",
       "      <td>0</td>\n",
       "      <td>0</td>\n",
       "      <td>0</td>\n",
       "      <td>0</td>\n",
       "      <td>0</td>\n",
       "      <td>0</td>\n",
       "      <td>0</td>\n",
       "      <td>0</td>\n",
       "      <td>0</td>\n",
       "      <td>0</td>\n",
       "      <td>0</td>\n",
       "      <td>0</td>\n",
       "      <td>2</td>\n",
       "    </tr>\n",
       "    <tr>\n",
       "      <th>WS</th>\n",
       "      <td>0</td>\n",
       "      <td>0</td>\n",
       "      <td>0</td>\n",
       "      <td>0</td>\n",
       "      <td>0</td>\n",
       "      <td>0</td>\n",
       "      <td>0</td>\n",
       "      <td>0</td>\n",
       "      <td>0</td>\n",
       "      <td>0</td>\n",
       "      <td>0</td>\n",
       "      <td>0</td>\n",
       "      <td>0</td>\n",
       "      <td>0</td>\n",
       "      <td>0</td>\n",
       "      <td>0</td>\n",
       "      <td>0</td>\n",
       "      <td>0</td>\n",
       "      <td>0</td>\n",
       "      <td>2</td>\n",
       "      <td>2</td>\n",
       "      <td>2</td>\n",
       "      <td>0</td>\n",
       "      <td>0</td>\n",
       "      <td>0</td>\n",
       "      <td>0</td>\n",
       "      <td>0</td>\n",
       "      <td>0</td>\n",
       "      <td>0</td>\n",
       "      <td>0</td>\n",
       "      <td>0</td>\n",
       "      <td>0</td>\n",
       "      <td>0</td>\n",
       "      <td>0</td>\n",
       "      <td>0</td>\n",
       "      <td>0</td>\n",
       "      <td>0</td>\n",
       "      <td>6</td>\n",
       "    </tr>\n",
       "    <tr>\n",
       "      <th>Wii</th>\n",
       "      <td>0</td>\n",
       "      <td>0</td>\n",
       "      <td>0</td>\n",
       "      <td>0</td>\n",
       "      <td>0</td>\n",
       "      <td>0</td>\n",
       "      <td>0</td>\n",
       "      <td>0</td>\n",
       "      <td>0</td>\n",
       "      <td>0</td>\n",
       "      <td>0</td>\n",
       "      <td>0</td>\n",
       "      <td>0</td>\n",
       "      <td>0</td>\n",
       "      <td>0</td>\n",
       "      <td>0</td>\n",
       "      <td>0</td>\n",
       "      <td>0</td>\n",
       "      <td>0</td>\n",
       "      <td>0</td>\n",
       "      <td>0</td>\n",
       "      <td>0</td>\n",
       "      <td>0</td>\n",
       "      <td>0</td>\n",
       "      <td>0</td>\n",
       "      <td>0</td>\n",
       "      <td>44</td>\n",
       "      <td>185</td>\n",
       "      <td>282</td>\n",
       "      <td>325</td>\n",
       "      <td>253</td>\n",
       "      <td>143</td>\n",
       "      <td>31</td>\n",
       "      <td>12</td>\n",
       "      <td>6</td>\n",
       "      <td>4</td>\n",
       "      <td>1</td>\n",
       "      <td>1286</td>\n",
       "    </tr>\n",
       "    <tr>\n",
       "      <th>WiiU</th>\n",
       "      <td>0</td>\n",
       "      <td>0</td>\n",
       "      <td>0</td>\n",
       "      <td>0</td>\n",
       "      <td>0</td>\n",
       "      <td>0</td>\n",
       "      <td>0</td>\n",
       "      <td>0</td>\n",
       "      <td>0</td>\n",
       "      <td>0</td>\n",
       "      <td>0</td>\n",
       "      <td>0</td>\n",
       "      <td>0</td>\n",
       "      <td>0</td>\n",
       "      <td>0</td>\n",
       "      <td>0</td>\n",
       "      <td>0</td>\n",
       "      <td>0</td>\n",
       "      <td>0</td>\n",
       "      <td>0</td>\n",
       "      <td>0</td>\n",
       "      <td>0</td>\n",
       "      <td>0</td>\n",
       "      <td>0</td>\n",
       "      <td>0</td>\n",
       "      <td>0</td>\n",
       "      <td>0</td>\n",
       "      <td>0</td>\n",
       "      <td>0</td>\n",
       "      <td>0</td>\n",
       "      <td>0</td>\n",
       "      <td>0</td>\n",
       "      <td>32</td>\n",
       "      <td>42</td>\n",
       "      <td>31</td>\n",
       "      <td>28</td>\n",
       "      <td>14</td>\n",
       "      <td>147</td>\n",
       "    </tr>\n",
       "    <tr>\n",
       "      <th>X360</th>\n",
       "      <td>0</td>\n",
       "      <td>0</td>\n",
       "      <td>0</td>\n",
       "      <td>0</td>\n",
       "      <td>0</td>\n",
       "      <td>0</td>\n",
       "      <td>0</td>\n",
       "      <td>0</td>\n",
       "      <td>0</td>\n",
       "      <td>0</td>\n",
       "      <td>0</td>\n",
       "      <td>0</td>\n",
       "      <td>0</td>\n",
       "      <td>0</td>\n",
       "      <td>0</td>\n",
       "      <td>0</td>\n",
       "      <td>0</td>\n",
       "      <td>0</td>\n",
       "      <td>0</td>\n",
       "      <td>0</td>\n",
       "      <td>0</td>\n",
       "      <td>0</td>\n",
       "      <td>0</td>\n",
       "      <td>0</td>\n",
       "      <td>0</td>\n",
       "      <td>18</td>\n",
       "      <td>93</td>\n",
       "      <td>123</td>\n",
       "      <td>146</td>\n",
       "      <td>172</td>\n",
       "      <td>182</td>\n",
       "      <td>206</td>\n",
       "      <td>106</td>\n",
       "      <td>75</td>\n",
       "      <td>63</td>\n",
       "      <td>35</td>\n",
       "      <td>13</td>\n",
       "      <td>1232</td>\n",
       "    </tr>\n",
       "    <tr>\n",
       "      <th>XB</th>\n",
       "      <td>0</td>\n",
       "      <td>0</td>\n",
       "      <td>0</td>\n",
       "      <td>0</td>\n",
       "      <td>0</td>\n",
       "      <td>0</td>\n",
       "      <td>0</td>\n",
       "      <td>0</td>\n",
       "      <td>0</td>\n",
       "      <td>0</td>\n",
       "      <td>0</td>\n",
       "      <td>0</td>\n",
       "      <td>0</td>\n",
       "      <td>0</td>\n",
       "      <td>0</td>\n",
       "      <td>0</td>\n",
       "      <td>0</td>\n",
       "      <td>0</td>\n",
       "      <td>0</td>\n",
       "      <td>0</td>\n",
       "      <td>1</td>\n",
       "      <td>33</td>\n",
       "      <td>158</td>\n",
       "      <td>189</td>\n",
       "      <td>177</td>\n",
       "      <td>179</td>\n",
       "      <td>62</td>\n",
       "      <td>3</td>\n",
       "      <td>1</td>\n",
       "      <td>0</td>\n",
       "      <td>0</td>\n",
       "      <td>0</td>\n",
       "      <td>0</td>\n",
       "      <td>0</td>\n",
       "      <td>0</td>\n",
       "      <td>0</td>\n",
       "      <td>0</td>\n",
       "      <td>803</td>\n",
       "    </tr>\n",
       "    <tr>\n",
       "      <th>XOne</th>\n",
       "      <td>0</td>\n",
       "      <td>0</td>\n",
       "      <td>0</td>\n",
       "      <td>0</td>\n",
       "      <td>0</td>\n",
       "      <td>0</td>\n",
       "      <td>0</td>\n",
       "      <td>0</td>\n",
       "      <td>0</td>\n",
       "      <td>0</td>\n",
       "      <td>0</td>\n",
       "      <td>0</td>\n",
       "      <td>0</td>\n",
       "      <td>0</td>\n",
       "      <td>0</td>\n",
       "      <td>0</td>\n",
       "      <td>0</td>\n",
       "      <td>0</td>\n",
       "      <td>0</td>\n",
       "      <td>0</td>\n",
       "      <td>0</td>\n",
       "      <td>0</td>\n",
       "      <td>0</td>\n",
       "      <td>0</td>\n",
       "      <td>0</td>\n",
       "      <td>0</td>\n",
       "      <td>0</td>\n",
       "      <td>0</td>\n",
       "      <td>0</td>\n",
       "      <td>0</td>\n",
       "      <td>0</td>\n",
       "      <td>0</td>\n",
       "      <td>0</td>\n",
       "      <td>19</td>\n",
       "      <td>61</td>\n",
       "      <td>80</td>\n",
       "      <td>87</td>\n",
       "      <td>247</td>\n",
       "    </tr>\n",
       "    <tr>\n",
       "      <th>All</th>\n",
       "      <td>9</td>\n",
       "      <td>46</td>\n",
       "      <td>36</td>\n",
       "      <td>17</td>\n",
       "      <td>14</td>\n",
       "      <td>14</td>\n",
       "      <td>21</td>\n",
       "      <td>16</td>\n",
       "      <td>15</td>\n",
       "      <td>17</td>\n",
       "      <td>16</td>\n",
       "      <td>41</td>\n",
       "      <td>43</td>\n",
       "      <td>60</td>\n",
       "      <td>121</td>\n",
       "      <td>219</td>\n",
       "      <td>263</td>\n",
       "      <td>289</td>\n",
       "      <td>379</td>\n",
       "      <td>338</td>\n",
       "      <td>350</td>\n",
       "      <td>482</td>\n",
       "      <td>829</td>\n",
       "      <td>775</td>\n",
       "      <td>762</td>\n",
       "      <td>939</td>\n",
       "      <td>1006</td>\n",
       "      <td>1197</td>\n",
       "      <td>1427</td>\n",
       "      <td>1426</td>\n",
       "      <td>1255</td>\n",
       "      <td>1136</td>\n",
       "      <td>653</td>\n",
       "      <td>544</td>\n",
       "      <td>581</td>\n",
       "      <td>606</td>\n",
       "      <td>502</td>\n",
       "      <td>16444</td>\n",
       "    </tr>\n",
       "  </tbody>\n",
       "</table>\n",
       "</div>"
      ],
      "text/plain": [
       "year_of_release  1980  1981  1982  1983  1984  1985  1986  1987  1988  1989  \\\n",
       "platform                                                                      \n",
       "2600                9    46    36    11     1     1     2     6     2     2   \n",
       "3DO                 0     0     0     0     0     0     0     0     0     0   \n",
       "3DS                 0     0     0     0     0     0     0     0     0     0   \n",
       "DC                  0     0     0     0     0     0     0     0     0     0   \n",
       "DS                  0     0     0     0     0     1     0     0     0     0   \n",
       "GB                  0     0     0     0     0     0     0     0     1    10   \n",
       "GBA                 0     0     0     0     0     0     0     0     0     0   \n",
       "GC                  0     0     0     0     0     0     0     0     0     0   \n",
       "GEN                 0     0     0     0     0     0     0     0     0     0   \n",
       "GG                  0     0     0     0     0     0     0     0     0     0   \n",
       "N64                 0     0     0     0     0     0     0     0     0     0   \n",
       "NES                 0     0     0     6    13    11    19    10    11     5   \n",
       "NG                  0     0     0     0     0     0     0     0     0     0   \n",
       "PC                  0     0     0     0     0     1     0     0     1     0   \n",
       "PCFX                0     0     0     0     0     0     0     0     0     0   \n",
       "PS                  0     0     0     0     0     0     0     0     0     0   \n",
       "PS2                 0     0     0     0     0     0     0     0     0     0   \n",
       "PS3                 0     0     0     0     0     0     0     0     0     0   \n",
       "PS4                 0     0     0     0     0     0     0     0     0     0   \n",
       "PSP                 0     0     0     0     0     0     0     0     0     0   \n",
       "PSV                 0     0     0     0     0     0     0     0     0     0   \n",
       "SAT                 0     0     0     0     0     0     0     0     0     0   \n",
       "SCD                 0     0     0     0     0     0     0     0     0     0   \n",
       "SNES                0     0     0     0     0     0     0     0     0     0   \n",
       "TG16                0     0     0     0     0     0     0     0     0     0   \n",
       "WS                  0     0     0     0     0     0     0     0     0     0   \n",
       "Wii                 0     0     0     0     0     0     0     0     0     0   \n",
       "WiiU                0     0     0     0     0     0     0     0     0     0   \n",
       "X360                0     0     0     0     0     0     0     0     0     0   \n",
       "XB                  0     0     0     0     0     0     0     0     0     0   \n",
       "XOne                0     0     0     0     0     0     0     0     0     0   \n",
       "All                 9    46    36    17    14    14    21    16    15    17   \n",
       "\n",
       "year_of_release  1990  1991  1992  1993  1994  1995  1996  1997  1998  1999  \\\n",
       "platform                                                                      \n",
       "2600                0     0     0     0     0     0     0     0     0     0   \n",
       "3DO                 0     0     0     0     1     2     0     0     0     0   \n",
       "3DS                 0     0     0     0     0     0     0     0     0     0   \n",
       "DC                  0     0     0     0     0     0     0     0     7    14   \n",
       "DS                  0     0     0     0     0     0     0     0     0     0   \n",
       "GB                  3     9     7     0     3     4     6     8     8    11   \n",
       "GBA                 0     0     0     0     0     0     0     0     0     0   \n",
       "GC                  0     0     0     0     0     0     0     0     0     0   \n",
       "GEN                 1     1     6     7    12     0     0     0     0     0   \n",
       "GG                  0     0     1     0     0     0     0     0     0     0   \n",
       "N64                 0     0     0     0     0     0    18    49    77   102   \n",
       "NES                 8     7     3     4     1     0     0     0     0     0   \n",
       "NG                  0     0     0     2     4     4     2     0     0     0   \n",
       "PC                  0     0     5     0     6     2     4     6     8     7   \n",
       "PCFX                0     0     0     0     0     0     1     0     0     0   \n",
       "PS                  0     0     0     0    17    99   164   188   248   200   \n",
       "PS2                 0     0     0     0     0     0     0     0     0     0   \n",
       "PS3                 0     0     0     0     0     0     0     0     0     0   \n",
       "PS4                 0     0     0     0     0     0     0     0     0     0   \n",
       "PSP                 0     0     0     0     0     0     0     0     0     0   \n",
       "PSV                 0     0     0     0     0     0     0     0     0     0   \n",
       "SAT                 0     0     0     0    19    52    38    34    29     1   \n",
       "SCD                 0     0     0     1     5     0     0     0     0     0   \n",
       "SNES                4    24    21    46    53    54    30     4     2     1   \n",
       "TG16                0     0     0     0     0     2     0     0     0     0   \n",
       "WS                  0     0     0     0     0     0     0     0     0     2   \n",
       "Wii                 0     0     0     0     0     0     0     0     0     0   \n",
       "WiiU                0     0     0     0     0     0     0     0     0     0   \n",
       "X360                0     0     0     0     0     0     0     0     0     0   \n",
       "XB                  0     0     0     0     0     0     0     0     0     0   \n",
       "XOne                0     0     0     0     0     0     0     0     0     0   \n",
       "All                16    41    43    60   121   219   263   289   379   338   \n",
       "\n",
       "year_of_release  2000  2001  2002  2003  2004  2005  2006  2007  2008  2009  \\\n",
       "platform                                                                      \n",
       "2600                0     0     0     0     0     0     0     0     0     0   \n",
       "3DO                 0     0     0     0     0     0     0     0     0     0   \n",
       "3DS                 0     0     0     0     0     0     0     0     0     0   \n",
       "DC                 20     8     1     0     0     0     0     1     1     0   \n",
       "DS                  0     0     0     0    23   118   201   376   492   403   \n",
       "GB                 17    10     0     0     0     0     0     0     0     0   \n",
       "GBA                 1   107   198   150   175   135    39     6     0     0   \n",
       "GC                  0    22   152   144    83    97    40     4     0     0   \n",
       "GEN                 0     0     0     0     0     0     0     0     0     0   \n",
       "GG                  0     0     0     0     0     0     0     0     0     0   \n",
       "N64                60     9     1     0     0     0     0     0     0     0   \n",
       "NES                 0     0     0     0     0     0     0     0     0     0   \n",
       "NG                  0     0     0     0     0     0     0     0     0     0   \n",
       "PC                  7    15    19    33    30    37    52    62    76   107   \n",
       "PCFX                0     0     0     0     0     0     0     0     0     0   \n",
       "PS                160    91    20     3     0     0     0     0     0     0   \n",
       "PS2                82   185   280   256   259   260   259   214   191    96   \n",
       "PS3                 0     0     0     0     0     0    27    90   138   162   \n",
       "PS4                 0     0     0     0     0     0     0     0     0     0   \n",
       "PSP                 0     0     0     0    15    95   189   133   100   161   \n",
       "PSV                 0     0     0     0     0     0     0     0     0     0   \n",
       "SAT                 0     0     0     0     0     0     0     0     0     0   \n",
       "SCD                 0     0     0     0     0     0     0     0     0     0   \n",
       "SNES                0     0     0     0     0     0     0     0     0     0   \n",
       "TG16                0     0     0     0     0     0     0     0     0     0   \n",
       "WS                  2     2     0     0     0     0     0     0     0     0   \n",
       "Wii                 0     0     0     0     0     0    44   185   282   325   \n",
       "WiiU                0     0     0     0     0     0     0     0     0     0   \n",
       "X360                0     0     0     0     0    18    93   123   146   172   \n",
       "XB                  1    33   158   189   177   179    62     3     1     0   \n",
       "XOne                0     0     0     0     0     0     0     0     0     0   \n",
       "All               350   482   829   775   762   939  1006  1197  1427  1426   \n",
       "\n",
       "year_of_release  2010  2011  2012  2013  2014  2015  2016    All  \n",
       "platform                                                          \n",
       "2600                0     0     0     0     0     0     0    116  \n",
       "3DO                 0     0     0     0     0     0     0      3  \n",
       "3DS                 0   116    93    91    80    86    46    512  \n",
       "DC                  0     0     0     0     0     0     0     52  \n",
       "DS                323   153    23     8     0     0     0   2121  \n",
       "GB                  0     0     0     0     0     0     0     97  \n",
       "GBA                 0     0     0     0     0     0     0    811  \n",
       "GC                  0     0     0     0     0     0     0    542  \n",
       "GEN                 0     0     0     0     0     0     0     27  \n",
       "GG                  0     0     0     0     0     0     0      1  \n",
       "N64                 0     0     0     0     0     0     0    316  \n",
       "NES                 0     0     0     0     0     0     0     98  \n",
       "NG                  0     0     0     0     0     0     0     12  \n",
       "PC                 90   139    61    38    47    50    54    957  \n",
       "PCFX                0     0     0     0     0     0     0      1  \n",
       "PS                  0     0     0     0     0     0     0   1190  \n",
       "PS2                38     7     0     0     0     0     0   2127  \n",
       "PS3               181   215   148   126   108    73    38   1306  \n",
       "PS4                 0     0     0    16    75   137   164    392  \n",
       "PSP               188   139   106    54    10     3     0   1193  \n",
       "PSV                 0    18    53    63   100   110    85    429  \n",
       "SAT                 0     0     0     0     0     0     0    173  \n",
       "SCD                 0     0     0     0     0     0     0      6  \n",
       "SNES                0     0     0     0     0     0     0    239  \n",
       "TG16                0     0     0     0     0     0     0      2  \n",
       "WS                  0     0     0     0     0     0     0      6  \n",
       "Wii               253   143    31    12     6     4     1   1286  \n",
       "WiiU                0     0    32    42    31    28    14    147  \n",
       "X360              182   206   106    75    63    35    13   1232  \n",
       "XB                  0     0     0     0     0     0     0    803  \n",
       "XOne                0     0     0    19    61    80    87    247  \n",
       "All              1255  1136   653   544   581   606   502  16444  "
      ]
     },
     "execution_count": 35,
     "metadata": {},
     "output_type": "execute_result"
    }
   ],
   "source": [
    "#построим таблицу релизов игр на платформах по годам\n",
    "games_years = df.pivot_table(index = 'platform',\n",
    "                             columns = 'year_of_release', \n",
    "                             values = 'name', \n",
    "                             aggfunc='count',\n",
    "                             fill_value=0,\n",
    "                             margins=True)\n",
    "                               \n",
    "games_years"
   ]
  },
  {
   "cell_type": "markdown",
   "metadata": {},
   "source": [
    "Такая таблица большая, но не информативная по ней невозможно понять какой период лучше подойдет для наших исследований, поэтому построю таблица по конкретным платформам, что бы можно было выделить период."
   ]
  },
  {
   "cell_type": "code",
   "execution_count": 36,
   "metadata": {
    "scrolled": false
   },
   "outputs": [
    {
     "data": {
      "image/png": "[encoded data removed]",
      "text/plain": [
       "<Figure size 1440x720 with 1 Axes>"
      ]
     },
     "metadata": {
      "needs_background": "light"
     },
     "output_type": "display_data"
    }
   ],
   "source": [
    "# построим график\n",
    "plt.figure(figsize=(20, 10))\n",
    "plt.plot(platform_type_releases['pc'], marker ='o', label='PC')\n",
    "plt.plot(platform_type_releases['mobile'], marker ='o', label='Mobile')\n",
    "plt.plot(platform_type_releases['console'], marker ='o', label='Console')\n",
    "plt.xlabel('Годы')\n",
    "plt.ylabel('Количество игр')\n",
    "plt.grid()\n",
    "plt.legend(loc='upper right')\n",
    "plt.show()"
   ]
  },
  {
   "cell_type": "code",
   "execution_count": 37,
   "metadata": {},
   "outputs": [],
   "source": [
    "#создадим таблицу для количества релизов на каждой платформе по годам\n",
    "platform_releases = df.pivot_table(index='platform', \n",
    "                                          values='total_sales', \n",
    "                                          columns = 'year_of_release',\n",
    "                                          aggfunc = 'count',\n",
    "                                          fill_value=0, \n",
    "                                          margins = True).reset_index()\n",
    "platform_releases = platform_releases[:-1]\n",
    "platform_releases = platform_releases.rename_axis('index',  axis=\"columns\")"
   ]
  },
  {
   "cell_type": "code",
   "execution_count": 38,
   "metadata": {
    "scrolled": false
   },
   "outputs": [
    {
     "data": {
      "image/png": "[encoded data removed]",
      "text/plain": [
       "<Figure size 1296x720 with 1 Axes>"
      ]
     },
     "metadata": {
      "needs_background": "light"
     },
     "output_type": "display_data"
    }
   ],
   "source": [
    "platform_releases_heatmap = platform_releases.set_index('platform')\n",
    "plt.figure(figsize=(18, 10))\n",
    "sns.heatmap(platform_releases_heatmap, annot=True, fmt=\"d\", cmap='YlGnBu', cbar=False, robust=True, linewidths=.2)\n",
    "plt.xlabel('Годы')\n",
    "plt.ylabel('Платформы')\n",
    "plt.show()"
   ]
  },
  {
   "cell_type": "markdown",
   "metadata": {},
   "source": [
    "Эта таблица неплохо показывает, что у каждой платформы есть определенный срок жизни. За первые два года продажи достигают пика, а потом постепенно снижаются. А количесвто релизов начинает стремительно расти с 1994-ого года."
   ]
  },
  {
   "cell_type": "markdown",
   "metadata": {},
   "source": [
    "### Топ платформы"
   ]
  },
  {
   "cell_type": "code",
   "execution_count": 39,
   "metadata": {
    "scrolled": false
   },
   "outputs": [
    {
     "data": {
      "text/html": [
       "<div>\n",
       "<style scoped>\n",
       "    .dataframe tbody tr th:only-of-type {\n",
       "        vertical-align: middle;\n",
       "    }\n",
       "\n",
       "    .dataframe tbody tr th {\n",
       "        vertical-align: top;\n",
       "    }\n",
       "\n",
       "    .dataframe thead th {\n",
       "        text-align: right;\n",
       "    }\n",
       "</style>\n",
       "<table border=\"1\" class=\"dataframe\">\n",
       "  <thead>\n",
       "    <tr style=\"text-align: right;\">\n",
       "      <th>index</th>\n",
       "      <th>platform</th>\n",
       "      <th>All</th>\n",
       "    </tr>\n",
       "  </thead>\n",
       "  <tbody>\n",
       "    <tr>\n",
       "      <th>16</th>\n",
       "      <td>PS2</td>\n",
       "      <td>2127</td>\n",
       "    </tr>\n",
       "    <tr>\n",
       "      <th>4</th>\n",
       "      <td>DS</td>\n",
       "      <td>2121</td>\n",
       "    </tr>\n",
       "    <tr>\n",
       "      <th>17</th>\n",
       "      <td>PS3</td>\n",
       "      <td>1306</td>\n",
       "    </tr>\n",
       "    <tr>\n",
       "      <th>26</th>\n",
       "      <td>Wii</td>\n",
       "      <td>1286</td>\n",
       "    </tr>\n",
       "    <tr>\n",
       "      <th>28</th>\n",
       "      <td>X360</td>\n",
       "      <td>1232</td>\n",
       "    </tr>\n",
       "    <tr>\n",
       "      <th>19</th>\n",
       "      <td>PSP</td>\n",
       "      <td>1193</td>\n",
       "    </tr>\n",
       "    <tr>\n",
       "      <th>15</th>\n",
       "      <td>PS</td>\n",
       "      <td>1190</td>\n",
       "    </tr>\n",
       "    <tr>\n",
       "      <th>13</th>\n",
       "      <td>PC</td>\n",
       "      <td>957</td>\n",
       "    </tr>\n",
       "    <tr>\n",
       "      <th>6</th>\n",
       "      <td>GBA</td>\n",
       "      <td>811</td>\n",
       "    </tr>\n",
       "    <tr>\n",
       "      <th>29</th>\n",
       "      <td>XB</td>\n",
       "      <td>803</td>\n",
       "    </tr>\n",
       "  </tbody>\n",
       "</table>\n",
       "</div>"
      ],
      "text/plain": [
       "index platform   All\n",
       "16         PS2  2127\n",
       "4           DS  2121\n",
       "17         PS3  1306\n",
       "26         Wii  1286\n",
       "28        X360  1232\n",
       "19         PSP  1193\n",
       "15          PS  1190\n",
       "13          PC   957\n",
       "6          GBA   811\n",
       "29          XB   803"
      ]
     },
     "execution_count": 39,
     "metadata": {},
     "output_type": "execute_result"
    }
   ],
   "source": [
    "#посмотрим ТОП платформ по количеству релизов за все время\n",
    "platform_releases[['platform', 'All']].sort_values(by='All', ascending=False).head(10)"
   ]
  },
  {
   "cell_type": "code",
   "execution_count": 40,
   "metadata": {},
   "outputs": [],
   "source": [
    "# Берем 1994 год, так как в этом году вышла PS, на которой выходило очень мног игр\n",
    "modern_releases = df[df['year_of_release'] >= 1994]"
   ]
  },
  {
   "cell_type": "code",
   "execution_count": 41,
   "metadata": {},
   "outputs": [],
   "source": [
    "top_sales = modern_releases.pivot_table(\n",
    "    index = 'year_of_release', \n",
    "    columns = 'platform', \n",
    "    values = 'total_sales', \n",
    "    aggfunc = 'sum'\n",
    "    )"
   ]
  },
  {
   "cell_type": "code",
   "execution_count": 42,
   "metadata": {},
   "outputs": [
    {
     "data": {
      "text/plain": [
       "Text(0.5, 1.0, 'Распределение продаж ТОП платформах')"
      ]
     },
     "execution_count": 42,
     "metadata": {},
     "output_type": "execute_result"
    },
    {
     "data": {
      "image/png": "[encoded data removed]",
      "text/plain": [
       "<Figure size 864x432 with 1 Axes>"
      ]
     },
     "metadata": {
      "needs_background": "light"
     },
     "output_type": "display_data"
    }
   ],
   "source": [
    "#посмотрим ТОП платформ по продажам в начаная с 1994 года\n",
    "top_sales = top_sales[['PS2', 'DS', 'PS3', 'Wii', 'X360', 'PSP', 'PS', 'PC', 'GBA', 'XB']]\n",
    "ax = top_sales.plot(xticks=top_sales.index,figsize=(12,6))\n",
    "ylab = ax.set_ylabel('Продажи, млн.копий')\n",
    "xlab = ax.set_xlabel('Годы')\n",
    "plt.title('Распределение продаж ТОП платформах')"
   ]
  },
  {
   "cell_type": "markdown",
   "metadata": {},
   "source": [
    "Этот график подтверждает, что платформы \"живут\" примерно 7-9 лет. В начале жизни, количество игр значительно увеличивается, но с серидыны количество игр сразу начинает снижаться."
   ]
  },
  {
   "cell_type": "code",
   "execution_count": 43,
   "metadata": {
    "scrolled": true
   },
   "outputs": [],
   "source": [
    "# создадим сводную таблицу для определения срока жизни платформ\n",
    "life_time = df.pivot_table(index='platform', values='year_of_release', aggfunc=['min', 'max']).reset_index()"
   ]
  },
  {
   "cell_type": "code",
   "execution_count": 44,
   "metadata": {
    "scrolled": true
   },
   "outputs": [
    {
     "data": {
      "text/html": [
       "<div>\n",
       "<style scoped>\n",
       "    .dataframe tbody tr th:only-of-type {\n",
       "        vertical-align: middle;\n",
       "    }\n",
       "\n",
       "    .dataframe tbody tr th {\n",
       "        vertical-align: top;\n",
       "    }\n",
       "\n",
       "    .dataframe thead th {\n",
       "        text-align: right;\n",
       "    }\n",
       "</style>\n",
       "<table border=\"1\" class=\"dataframe\">\n",
       "  <thead>\n",
       "    <tr style=\"text-align: right;\">\n",
       "      <th></th>\n",
       "      <th>platform</th>\n",
       "      <th>first_year</th>\n",
       "      <th>last_year</th>\n",
       "    </tr>\n",
       "  </thead>\n",
       "  <tbody>\n",
       "    <tr>\n",
       "      <th>0</th>\n",
       "      <td>2600</td>\n",
       "      <td>1980</td>\n",
       "      <td>1989</td>\n",
       "    </tr>\n",
       "    <tr>\n",
       "      <th>1</th>\n",
       "      <td>3DO</td>\n",
       "      <td>1994</td>\n",
       "      <td>1995</td>\n",
       "    </tr>\n",
       "    <tr>\n",
       "      <th>2</th>\n",
       "      <td>3DS</td>\n",
       "      <td>2011</td>\n",
       "      <td>2016</td>\n",
       "    </tr>\n",
       "    <tr>\n",
       "      <th>3</th>\n",
       "      <td>DC</td>\n",
       "      <td>1998</td>\n",
       "      <td>2008</td>\n",
       "    </tr>\n",
       "    <tr>\n",
       "      <th>4</th>\n",
       "      <td>DS</td>\n",
       "      <td>1985</td>\n",
       "      <td>2013</td>\n",
       "    </tr>\n",
       "    <tr>\n",
       "      <th>5</th>\n",
       "      <td>GB</td>\n",
       "      <td>1988</td>\n",
       "      <td>2001</td>\n",
       "    </tr>\n",
       "    <tr>\n",
       "      <th>6</th>\n",
       "      <td>GBA</td>\n",
       "      <td>2000</td>\n",
       "      <td>2007</td>\n",
       "    </tr>\n",
       "    <tr>\n",
       "      <th>7</th>\n",
       "      <td>GC</td>\n",
       "      <td>2001</td>\n",
       "      <td>2007</td>\n",
       "    </tr>\n",
       "    <tr>\n",
       "      <th>8</th>\n",
       "      <td>GEN</td>\n",
       "      <td>1990</td>\n",
       "      <td>1994</td>\n",
       "    </tr>\n",
       "    <tr>\n",
       "      <th>9</th>\n",
       "      <td>GG</td>\n",
       "      <td>1992</td>\n",
       "      <td>1992</td>\n",
       "    </tr>\n",
       "    <tr>\n",
       "      <th>10</th>\n",
       "      <td>N64</td>\n",
       "      <td>1996</td>\n",
       "      <td>2002</td>\n",
       "    </tr>\n",
       "    <tr>\n",
       "      <th>11</th>\n",
       "      <td>NES</td>\n",
       "      <td>1983</td>\n",
       "      <td>1994</td>\n",
       "    </tr>\n",
       "    <tr>\n",
       "      <th>12</th>\n",
       "      <td>NG</td>\n",
       "      <td>1993</td>\n",
       "      <td>1996</td>\n",
       "    </tr>\n",
       "    <tr>\n",
       "      <th>13</th>\n",
       "      <td>PC</td>\n",
       "      <td>1985</td>\n",
       "      <td>2016</td>\n",
       "    </tr>\n",
       "    <tr>\n",
       "      <th>14</th>\n",
       "      <td>PCFX</td>\n",
       "      <td>1996</td>\n",
       "      <td>1996</td>\n",
       "    </tr>\n",
       "    <tr>\n",
       "      <th>15</th>\n",
       "      <td>PS</td>\n",
       "      <td>1994</td>\n",
       "      <td>2003</td>\n",
       "    </tr>\n",
       "    <tr>\n",
       "      <th>16</th>\n",
       "      <td>PS2</td>\n",
       "      <td>2000</td>\n",
       "      <td>2011</td>\n",
       "    </tr>\n",
       "    <tr>\n",
       "      <th>17</th>\n",
       "      <td>PS3</td>\n",
       "      <td>2006</td>\n",
       "      <td>2016</td>\n",
       "    </tr>\n",
       "    <tr>\n",
       "      <th>18</th>\n",
       "      <td>PS4</td>\n",
       "      <td>2013</td>\n",
       "      <td>2016</td>\n",
       "    </tr>\n",
       "    <tr>\n",
       "      <th>19</th>\n",
       "      <td>PSP</td>\n",
       "      <td>2004</td>\n",
       "      <td>2015</td>\n",
       "    </tr>\n",
       "    <tr>\n",
       "      <th>20</th>\n",
       "      <td>PSV</td>\n",
       "      <td>2011</td>\n",
       "      <td>2016</td>\n",
       "    </tr>\n",
       "    <tr>\n",
       "      <th>21</th>\n",
       "      <td>SAT</td>\n",
       "      <td>1994</td>\n",
       "      <td>1999</td>\n",
       "    </tr>\n",
       "    <tr>\n",
       "      <th>22</th>\n",
       "      <td>SCD</td>\n",
       "      <td>1993</td>\n",
       "      <td>1994</td>\n",
       "    </tr>\n",
       "    <tr>\n",
       "      <th>23</th>\n",
       "      <td>SNES</td>\n",
       "      <td>1990</td>\n",
       "      <td>1999</td>\n",
       "    </tr>\n",
       "    <tr>\n",
       "      <th>24</th>\n",
       "      <td>TG16</td>\n",
       "      <td>1995</td>\n",
       "      <td>1995</td>\n",
       "    </tr>\n",
       "    <tr>\n",
       "      <th>25</th>\n",
       "      <td>WS</td>\n",
       "      <td>1999</td>\n",
       "      <td>2001</td>\n",
       "    </tr>\n",
       "    <tr>\n",
       "      <th>26</th>\n",
       "      <td>Wii</td>\n",
       "      <td>2006</td>\n",
       "      <td>2016</td>\n",
       "    </tr>\n",
       "    <tr>\n",
       "      <th>27</th>\n",
       "      <td>WiiU</td>\n",
       "      <td>2012</td>\n",
       "      <td>2016</td>\n",
       "    </tr>\n",
       "    <tr>\n",
       "      <th>28</th>\n",
       "      <td>X360</td>\n",
       "      <td>2005</td>\n",
       "      <td>2016</td>\n",
       "    </tr>\n",
       "    <tr>\n",
       "      <th>29</th>\n",
       "      <td>XB</td>\n",
       "      <td>2000</td>\n",
       "      <td>2008</td>\n",
       "    </tr>\n",
       "    <tr>\n",
       "      <th>30</th>\n",
       "      <td>XOne</td>\n",
       "      <td>2013</td>\n",
       "      <td>2016</td>\n",
       "    </tr>\n",
       "  </tbody>\n",
       "</table>\n",
       "</div>"
      ],
      "text/plain": [
       "   platform  first_year  last_year\n",
       "0      2600        1980       1989\n",
       "1       3DO        1994       1995\n",
       "2       3DS        2011       2016\n",
       "3        DC        1998       2008\n",
       "4        DS        1985       2013\n",
       "5        GB        1988       2001\n",
       "6       GBA        2000       2007\n",
       "7        GC        2001       2007\n",
       "8       GEN        1990       1994\n",
       "9        GG        1992       1992\n",
       "10      N64        1996       2002\n",
       "11      NES        1983       1994\n",
       "12       NG        1993       1996\n",
       "13       PC        1985       2016\n",
       "14     PCFX        1996       1996\n",
       "15       PS        1994       2003\n",
       "16      PS2        2000       2011\n",
       "17      PS3        2006       2016\n",
       "18      PS4        2013       2016\n",
       "19      PSP        2004       2015\n",
       "20      PSV        2011       2016\n",
       "21      SAT        1994       1999\n",
       "22      SCD        1993       1994\n",
       "23     SNES        1990       1999\n",
       "24     TG16        1995       1995\n",
       "25       WS        1999       2001\n",
       "26      Wii        2006       2016\n",
       "27     WiiU        2012       2016\n",
       "28     X360        2005       2016\n",
       "29       XB        2000       2008\n",
       "30     XOne        2013       2016"
      ]
     },
     "execution_count": 44,
     "metadata": {},
     "output_type": "execute_result"
    }
   ],
   "source": [
    "# переименуем столбцы\n",
    "life_time.set_axis(['platform', 'first_year', 'last_year'], axis='columns', inplace=True)\n",
    "life_time"
   ]
  },
  {
   "cell_type": "code",
   "execution_count": 45,
   "metadata": {
    "scrolled": true
   },
   "outputs": [
    {
     "data": {
      "text/plain": [
       "count    31.000000\n",
       "mean      8.612903\n",
       "std       6.998464\n",
       "min       1.000000\n",
       "25%       4.000000\n",
       "50%       7.000000\n",
       "75%      11.000000\n",
       "max      32.000000\n",
       "Name: length, dtype: float64"
      ]
     },
     "metadata": {},
     "output_type": "display_data"
    }
   ],
   "source": [
    "# при подсчете длины жизни добавим одиницу\n",
    "life_time['length'] = life_time.last_year - life_time.first_year + 1\n",
    "display(life_time['length'].describe())"
   ]
  },
  {
   "cell_type": "markdown",
   "metadata": {},
   "source": [
    "Эти цифры подтвержадют, что в платформы \"живут\" 8 лет."
   ]
  },
  {
   "cell_type": "code",
   "execution_count": 46,
   "metadata": {
    "scrolled": false
   },
   "outputs": [
    {
     "data": {
      "text/html": [
       "<div>\n",
       "<style scoped>\n",
       "    .dataframe tbody tr th:only-of-type {\n",
       "        vertical-align: middle;\n",
       "    }\n",
       "\n",
       "    .dataframe tbody tr th {\n",
       "        vertical-align: top;\n",
       "    }\n",
       "\n",
       "    .dataframe thead th {\n",
       "        text-align: right;\n",
       "    }\n",
       "</style>\n",
       "<table border=\"1\" class=\"dataframe\">\n",
       "  <thead>\n",
       "    <tr style=\"text-align: right;\">\n",
       "      <th></th>\n",
       "      <th>platform</th>\n",
       "      <th>first_year</th>\n",
       "      <th>last_year</th>\n",
       "      <th>length</th>\n",
       "    </tr>\n",
       "  </thead>\n",
       "  <tbody>\n",
       "    <tr>\n",
       "      <th>2</th>\n",
       "      <td>3DS</td>\n",
       "      <td>2011</td>\n",
       "      <td>2016</td>\n",
       "      <td>6</td>\n",
       "    </tr>\n",
       "    <tr>\n",
       "      <th>18</th>\n",
       "      <td>PS4</td>\n",
       "      <td>2013</td>\n",
       "      <td>2016</td>\n",
       "      <td>4</td>\n",
       "    </tr>\n",
       "    <tr>\n",
       "      <th>20</th>\n",
       "      <td>PSV</td>\n",
       "      <td>2011</td>\n",
       "      <td>2016</td>\n",
       "      <td>6</td>\n",
       "    </tr>\n",
       "    <tr>\n",
       "      <th>27</th>\n",
       "      <td>WiiU</td>\n",
       "      <td>2012</td>\n",
       "      <td>2016</td>\n",
       "      <td>5</td>\n",
       "    </tr>\n",
       "    <tr>\n",
       "      <th>30</th>\n",
       "      <td>XOne</td>\n",
       "      <td>2013</td>\n",
       "      <td>2016</td>\n",
       "      <td>4</td>\n",
       "    </tr>\n",
       "  </tbody>\n",
       "</table>\n",
       "</div>"
      ],
      "text/plain": [
       "   platform  first_year  last_year  length\n",
       "2       3DS        2011       2016       6\n",
       "18      PS4        2013       2016       4\n",
       "20      PSV        2011       2016       6\n",
       "27     WiiU        2012       2016       5\n",
       "30     XOne        2013       2016       4"
      ]
     },
     "execution_count": 46,
     "metadata": {},
     "output_type": "execute_result"
    }
   ],
   "source": [
    "#Посмотрим каккие платформы подходят нам по сроку жизни\n",
    "life_time[(life_time['length'] <= 8)&(life_time['first_year'] > 2010)]"
   ]
  },
  {
   "cell_type": "markdown",
   "metadata": {},
   "source": [
    "Отдельно здесь можно выделить PC, еще на предыдущем графике было видно, что это платформа долгожитель, и она не очень то вписывается в общие тренды платформ.Это возможно из за постоянного апргрейда железа."
   ]
  },
  {
   "cell_type": "markdown",
   "metadata": {},
   "source": [
    "Из этого можно сделать вывод, что в дальнейшем нас не интересуют платформы, у которых небыло продаж за последние годы, так как к этим платформам разработчики уже не вернутся из за возможностей новых платформ."
   ]
  },
  {
   "cell_type": "markdown",
   "metadata": {},
   "source": [
    "### Потенциально прибыльные платформы"
   ]
  },
  {
   "cell_type": "markdown",
   "metadata": {},
   "source": [
    "Для дальнейших исследований возьмем данные с 2011 года и добавимк списку важных платформ PC, но уберем платформу PSV, так как она не попала в топ-10 списка по релизам, и количество релизов на ней незначительно."
   ]
  },
  {
   "cell_type": "code",
   "execution_count": 47,
   "metadata": {},
   "outputs": [],
   "source": [
    "#Закрепим данные, с которыми будем работать в дальнейшем.\n",
    "good_df = df.query('year_of_release >= 2011 & platform in [\"3DS\", \"PS4\", \"WiiU\", \"XOne\", \"PC\"]')"
   ]
  },
  {
   "cell_type": "code",
   "execution_count": 48,
   "metadata": {},
   "outputs": [
    {
     "data": {
      "image/png": "[encoded data removed]",
      "text/plain": [
       "<Figure size 936x504 with 1 Axes>"
      ]
     },
     "metadata": {
      "needs_background": "light"
     },
     "output_type": "display_data"
    }
   ],
   "source": [
    "plt.figure(figsize=(13,7))\n",
    "\n",
    "ax = sns.boxplot(x='platform', y='total_sales', data=good_df)\n",
    "ax.set_ylim(0, 2)\n",
    "ax.set_ylabel('Продажи игр, млн. копий')\n",
    "ax.set_xlabel('Платформы')\n",
    "ax.set_title('Распределение продаж игр на лучший платформах')\n",
    "plt.show()"
   ]
  },
  {
   "cell_type": "markdown",
   "metadata": {},
   "source": [
    "Лидер продаж PS4, уверенное второе место занимает XOne, на третьем месте WiiU. Также можно выделить, что на PS4 выходит значительно больше игр, чем на остальных платформах. Ничего удивительного, на этой платформе были самые популярные игры, а также для нее делали большое количество переизданий. При этом можно увидеть, что медианное количество игр для каждой платформы не превышает количества в 250 тыс. копий."
   ]
  },
  {
   "cell_type": "markdown",
   "metadata": {},
   "source": [
    "### Влияние отзывов на продажи"
   ]
  },
  {
   "cell_type": "code",
   "execution_count": 49,
   "metadata": {},
   "outputs": [
    {
     "data": {
      "text/html": [
       "<div>\n",
       "<style scoped>\n",
       "    .dataframe tbody tr th:only-of-type {\n",
       "        vertical-align: middle;\n",
       "    }\n",
       "\n",
       "    .dataframe tbody tr th {\n",
       "        vertical-align: top;\n",
       "    }\n",
       "\n",
       "    .dataframe thead th {\n",
       "        text-align: right;\n",
       "    }\n",
       "</style>\n",
       "<table border=\"1\" class=\"dataframe\">\n",
       "  <thead>\n",
       "    <tr style=\"text-align: right;\">\n",
       "      <th></th>\n",
       "      <th>user_score</th>\n",
       "      <th>critic_score</th>\n",
       "    </tr>\n",
       "    <tr>\n",
       "      <th>platform</th>\n",
       "      <th></th>\n",
       "      <th></th>\n",
       "    </tr>\n",
       "  </thead>\n",
       "  <tbody>\n",
       "    <tr>\n",
       "      <th>3DS</th>\n",
       "      <td>6.85</td>\n",
       "      <td>67.16</td>\n",
       "    </tr>\n",
       "    <tr>\n",
       "      <th>PC</th>\n",
       "      <td>6.45</td>\n",
       "      <td>74.85</td>\n",
       "    </tr>\n",
       "    <tr>\n",
       "      <th>PS4</th>\n",
       "      <td>6.75</td>\n",
       "      <td>72.09</td>\n",
       "    </tr>\n",
       "    <tr>\n",
       "      <th>WiiU</th>\n",
       "      <td>6.90</td>\n",
       "      <td>70.73</td>\n",
       "    </tr>\n",
       "    <tr>\n",
       "      <th>XOne</th>\n",
       "      <td>6.52</td>\n",
       "      <td>73.33</td>\n",
       "    </tr>\n",
       "  </tbody>\n",
       "</table>\n",
       "</div>"
      ],
      "text/plain": [
       "          user_score  critic_score\n",
       "platform                          \n",
       "3DS             6.85         67.16\n",
       "PC              6.45         74.85\n",
       "PS4             6.75         72.09\n",
       "WiiU            6.90         70.73\n",
       "XOne            6.52         73.33"
      ]
     },
     "execution_count": 49,
     "metadata": {},
     "output_type": "execute_result"
    }
   ],
   "source": [
    "good_df.groupby('platform')[['user_score', 'critic_score']].agg('mean').round(2)"
   ]
  },
  {
   "cell_type": "code",
   "execution_count": 50,
   "metadata": {
    "scrolled": true
   },
   "outputs": [
    {
     "data": {
      "text/plain": [
       "0.22207843643390884"
      ]
     },
     "execution_count": 50,
     "metadata": {},
     "output_type": "execute_result"
    }
   ],
   "source": [
    "#Коэффециент корреляции между общими продажами и оценкой пользователей \n",
    "good_df.query('platform == \"3DS\"')['total_sales'].corr(good_df.query('platform == \"3DS\"')['user_score'])"
   ]
  },
  {
   "cell_type": "code",
   "execution_count": 51,
   "metadata": {},
   "outputs": [
    {
     "data": {
      "text/plain": [
       "0.34873973059848346"
      ]
     },
     "execution_count": 51,
     "metadata": {},
     "output_type": "execute_result"
    }
   ],
   "source": [
    "# #Коэффециент корреляции между общими продажами и оценкой критиков \n",
    "good_df.query('platform == \"3DS\"')['total_sales'].corr(good_df.query('platform == \"3DS\"')['critic_score'])"
   ]
  },
  {
   "cell_type": "code",
   "execution_count": 52,
   "metadata": {},
   "outputs": [
    {
     "data": {
      "image/png": "[encoded data removed]",
      "text/plain": [
       "<Figure size 360x360 with 1 Axes>"
      ]
     },
     "metadata": {
      "needs_background": "light"
     },
     "output_type": "display_data"
    },
    {
     "data": {
      "image/png": "[encoded data removed]",
      "text/plain": [
       "<Figure size 360x360 with 1 Axes>"
      ]
     },
     "metadata": {
      "needs_background": "light"
     },
     "output_type": "display_data"
    }
   ],
   "source": [
    "#Построим графики рассеивания\n",
    "sns.relplot(x='user_score', y='total_sales',data=good_df.query('platform == \"3DS\"'))\n",
    "plt.title('Зависимость продаж 3DS от оценок пользователей')\n",
    "sns.relplot(x='critic_score', y='total_sales',data=good_df.query('platform == \"3DS\"'))\n",
    "plt.title('Зависимость продаж 3DS от оценок критиков')\n",
    "plt.show()"
   ]
  },
  {
   "cell_type": "markdown",
   "metadata": {},
   "source": [
    "Здесь присутствует линей корреляция, чем выше оценки, тем выше продажи. Однако стоит отметить, что оценки критиков, все же, больше вляиют, значит на них стоит полагаться больше."
   ]
  },
  {
   "cell_type": "code",
   "execution_count": 53,
   "metadata": {
    "scrolled": true
   },
   "outputs": [
    {
     "name": "stdout",
     "output_type": "stream",
     "text": [
      "PS4\n",
      "Корреляция между оценкой критиков и продажами: 0.41\n",
      "Корреляция между оценкой пользователей и продажами: -0.032\n",
      "Корреляция между оценками критиков и пользователей: 0.56\n",
      "\n",
      "WiiU\n",
      "Корреляция между оценкой критиков и продажами: 0.35\n",
      "Корреляция между оценкой пользователей и продажами: 0.4\n",
      "Корреляция между оценками критиков и пользователей: 0.77\n",
      "\n",
      "XOne\n",
      "Корреляция между оценкой критиков и продажами: 0.42\n",
      "Корреляция между оценкой пользователей и продажами: -0.069\n",
      "Корреляция между оценками критиков и пользователей: 0.47\n",
      "\n",
      "PC\n",
      "Корреляция между оценкой критиков и продажами: 0.31\n",
      "Корреляция между оценкой пользователей и продажами: -0.049\n",
      "Корреляция между оценками критиков и пользователей: 0.46\n",
      "\n"
     ]
    }
   ],
   "source": [
    "for i in [\"PS4\", \"WiiU\", \"XOne\", \"PC\"]:\n",
    "    print(i)\n",
    "    corr_platform = good_df.query('platform == @i')\n",
    "    print(f'Корреляция между оценкой критиков и продажами: {corr_platform.critic_score.corr(corr_platform.total_sales):.2}')\n",
    "    print(f'Корреляция между оценкой пользователей и продажами: {corr_platform.user_score.corr(corr_platform.total_sales):.2}')\n",
    "    print(f'Корреляция между оценками критиков и пользователей: {corr_platform.critic_score.corr(corr_platform.user_score):.2}')\n",
    "    print()"
   ]
  },
  {
   "cell_type": "markdown",
   "metadata": {},
   "source": [
    "Это интересно, что платформа WiiU повторяет оценки 3DS, а вот на платформах PS4, XOne, PC корреляция между оценками пользователей и продажими обратная. Возможно это из за особенностей рынка игр в Японии, где распространены платформы WiiU и 3DS."
   ]
  },
  {
   "cell_type": "markdown",
   "metadata": {},
   "source": [
    "В остальном можно отметить, что профессиональные критики работаю очень хорошо и их оценки значительно влияют на продажи игр."
   ]
  },
  {
   "cell_type": "markdown",
   "metadata": {},
   "source": [
    "### Распределение игр по жанрам"
   ]
  },
  {
   "cell_type": "code",
   "execution_count": 54,
   "metadata": {},
   "outputs": [
    {
     "data": {
      "text/plain": [
       "Action          568\n",
       "Role-Playing    199\n",
       "Shooter         157\n",
       "Sports          141\n",
       "Misc            122\n",
       "Adventure       111\n",
       "Simulation       83\n",
       "Racing           81\n",
       "Strategy         73\n",
       "Platform         68\n",
       "Fighting         47\n",
       "Puzzle           37\n",
       "Name: genre, dtype: int64"
      ]
     },
     "execution_count": 54,
     "metadata": {},
     "output_type": "execute_result"
    }
   ],
   "source": [
    "#Посчитаем какие количество жанров\n",
    "good_df['genre'].value_counts()"
   ]
  },
  {
   "cell_type": "code",
   "execution_count": 55,
   "metadata": {
    "scrolled": false
   },
   "outputs": [
    {
     "data": {
      "text/html": [
       "<div>\n",
       "<style scoped>\n",
       "    .dataframe tbody tr th:only-of-type {\n",
       "        vertical-align: middle;\n",
       "    }\n",
       "\n",
       "    .dataframe tbody tr th {\n",
       "        vertical-align: top;\n",
       "    }\n",
       "\n",
       "    .dataframe thead th {\n",
       "        text-align: right;\n",
       "    }\n",
       "</style>\n",
       "<table border=\"1\" class=\"dataframe\">\n",
       "  <thead>\n",
       "    <tr style=\"text-align: right;\">\n",
       "      <th>platform</th>\n",
       "      <th>3DS</th>\n",
       "      <th>PC</th>\n",
       "      <th>PS4</th>\n",
       "      <th>WiiU</th>\n",
       "      <th>XOne</th>\n",
       "      <th>All</th>\n",
       "    </tr>\n",
       "    <tr>\n",
       "      <th>genre</th>\n",
       "      <th></th>\n",
       "      <th></th>\n",
       "      <th></th>\n",
       "      <th></th>\n",
       "      <th></th>\n",
       "      <th></th>\n",
       "    </tr>\n",
       "  </thead>\n",
       "  <tbody>\n",
       "    <tr>\n",
       "      <th>All</th>\n",
       "      <td>257.81</td>\n",
       "      <td>97.68</td>\n",
       "      <td>314.14</td>\n",
       "      <td>82.19</td>\n",
       "      <td>159.32</td>\n",
       "      <td>911.14</td>\n",
       "    </tr>\n",
       "    <tr>\n",
       "      <th>Action</th>\n",
       "      <td>57.84</td>\n",
       "      <td>19.54</td>\n",
       "      <td>96.10</td>\n",
       "      <td>19.07</td>\n",
       "      <td>37.31</td>\n",
       "      <td>229.86</td>\n",
       "    </tr>\n",
       "    <tr>\n",
       "      <th>Shooter</th>\n",
       "      <td>1.22</td>\n",
       "      <td>22.92</td>\n",
       "      <td>88.56</td>\n",
       "      <td>6.01</td>\n",
       "      <td>60.33</td>\n",
       "      <td>179.04</td>\n",
       "    </tr>\n",
       "    <tr>\n",
       "      <th>Role-Playing</th>\n",
       "      <td>84.20</td>\n",
       "      <td>22.68</td>\n",
       "      <td>28.99</td>\n",
       "      <td>2.89</td>\n",
       "      <td>10.55</td>\n",
       "      <td>149.31</td>\n",
       "    </tr>\n",
       "    <tr>\n",
       "      <th>Sports</th>\n",
       "      <td>6.15</td>\n",
       "      <td>5.61</td>\n",
       "      <td>55.61</td>\n",
       "      <td>3.16</td>\n",
       "      <td>26.74</td>\n",
       "      <td>97.27</td>\n",
       "    </tr>\n",
       "    <tr>\n",
       "      <th>Platform</th>\n",
       "      <td>32.53</td>\n",
       "      <td>0.32</td>\n",
       "      <td>7.69</td>\n",
       "      <td>21.53</td>\n",
       "      <td>0.93</td>\n",
       "      <td>63.00</td>\n",
       "    </tr>\n",
       "    <tr>\n",
       "      <th>Racing</th>\n",
       "      <td>14.87</td>\n",
       "      <td>2.16</td>\n",
       "      <td>12.14</td>\n",
       "      <td>7.87</td>\n",
       "      <td>9.79</td>\n",
       "      <td>46.83</td>\n",
       "    </tr>\n",
       "    <tr>\n",
       "      <th>Simulation</th>\n",
       "      <td>26.96</td>\n",
       "      <td>12.10</td>\n",
       "      <td>1.23</td>\n",
       "      <td>0.20</td>\n",
       "      <td>0.69</td>\n",
       "      <td>41.18</td>\n",
       "    </tr>\n",
       "    <tr>\n",
       "      <th>Misc</th>\n",
       "      <td>10.99</td>\n",
       "      <td>0.77</td>\n",
       "      <td>8.19</td>\n",
       "      <td>12.46</td>\n",
       "      <td>7.43</td>\n",
       "      <td>39.84</td>\n",
       "    </tr>\n",
       "    <tr>\n",
       "      <th>Fighting</th>\n",
       "      <td>10.56</td>\n",
       "      <td>0.12</td>\n",
       "      <td>8.65</td>\n",
       "      <td>6.27</td>\n",
       "      <td>2.45</td>\n",
       "      <td>28.05</td>\n",
       "    </tr>\n",
       "    <tr>\n",
       "      <th>Adventure</th>\n",
       "      <td>4.83</td>\n",
       "      <td>1.78</td>\n",
       "      <td>6.34</td>\n",
       "      <td>0.17</td>\n",
       "      <td>2.68</td>\n",
       "      <td>15.80</td>\n",
       "    </tr>\n",
       "    <tr>\n",
       "      <th>Strategy</th>\n",
       "      <td>2.09</td>\n",
       "      <td>9.14</td>\n",
       "      <td>0.62</td>\n",
       "      <td>1.24</td>\n",
       "      <td>0.42</td>\n",
       "      <td>13.51</td>\n",
       "    </tr>\n",
       "    <tr>\n",
       "      <th>Puzzle</th>\n",
       "      <td>5.57</td>\n",
       "      <td>0.54</td>\n",
       "      <td>0.02</td>\n",
       "      <td>1.32</td>\n",
       "      <td>NaN</td>\n",
       "      <td>7.45</td>\n",
       "    </tr>\n",
       "  </tbody>\n",
       "</table>\n",
       "</div>"
      ],
      "text/plain": [
       "platform         3DS     PC     PS4   WiiU    XOne     All\n",
       "genre                                                     \n",
       "All           257.81  97.68  314.14  82.19  159.32  911.14\n",
       "Action         57.84  19.54   96.10  19.07   37.31  229.86\n",
       "Shooter         1.22  22.92   88.56   6.01   60.33  179.04\n",
       "Role-Playing   84.20  22.68   28.99   2.89   10.55  149.31\n",
       "Sports          6.15   5.61   55.61   3.16   26.74   97.27\n",
       "Platform       32.53   0.32    7.69  21.53    0.93   63.00\n",
       "Racing         14.87   2.16   12.14   7.87    9.79   46.83\n",
       "Simulation     26.96  12.10    1.23   0.20    0.69   41.18\n",
       "Misc           10.99   0.77    8.19  12.46    7.43   39.84\n",
       "Fighting       10.56   0.12    8.65   6.27    2.45   28.05\n",
       "Adventure       4.83   1.78    6.34   0.17    2.68   15.80\n",
       "Strategy        2.09   9.14    0.62   1.24    0.42   13.51\n",
       "Puzzle          5.57   0.54    0.02   1.32     NaN    7.45"
      ]
     },
     "execution_count": 55,
     "metadata": {},
     "output_type": "execute_result"
    }
   ],
   "source": [
    "#Создадим сводную таблицу жанров для наших платформ\n",
    "good_df.pivot_table(\n",
    "    index = 'genre',\n",
    "    columns = 'platform',\n",
    "    values = 'total_sales',\n",
    "    aggfunc='sum',\n",
    "    margins=True\n",
    ").sort_values(\n",
    "    by='All', \n",
    "    ascending=False\n",
    ")"
   ]
  },
  {
   "cell_type": "code",
   "execution_count": 56,
   "metadata": {
    "scrolled": false
   },
   "outputs": [
    {
     "data": {
      "image/png": "[encoded data removed]",
      "text/plain": [
       "<Figure size 1080x504 with 1 Axes>"
      ]
     },
     "metadata": {
      "needs_background": "light"
     },
     "output_type": "display_data"
    }
   ],
   "source": [
    "fig, ax = plt.subplots()\n",
    "\n",
    "(good_df\n",
    " .groupby('genre')[['na_sales', 'eu_sales', 'jp_sales']]\n",
    " .agg('sum')\n",
    " .plot(kind='bar',stacked=True, ax=ax, figsize=(15, 7)))\n",
    "\n",
    "ax.set_title('Продажи по региона в разрезе жанров')\n",
    "ax.set_ylabel('Продажи, млн копий')\n",
    "ax.set_xlabel('Жанр')\n",
    "ax.grid()\n",
    "plt.show()"
   ]
  },
  {
   "cell_type": "markdown",
   "metadata": {},
   "source": [
    "Из граика видно, что игры жанра Action хорошо продаются независимо от региона, на втором месту идут игры жанра Shooter (хоть и совсем незначительное их количество продается в Японии) и на третьем месте игры жанра Role-Playing (с самой значительной долей рынка в Японии)."
   ]
  },
  {
   "cell_type": "markdown",
   "metadata": {},
   "source": [
    "## Портрет пользователя каждого региона"
   ]
  },
  {
   "cell_type": "markdown",
   "metadata": {},
   "source": [
    "### Популярные плаформы в регионах"
   ]
  },
  {
   "cell_type": "code",
   "execution_count": 57,
   "metadata": {},
   "outputs": [
    {
     "data": {
      "text/html": [
       "<style  type=\"text/css\" >\n",
       "</style><table id=\"T_f4d3d_\" ><thead>    <tr>        <th class=\"blank level0\" ></th>        <th class=\"col_heading level0 col0\" >eu_sales</th>        <th class=\"col_heading level0 col1\" >jp_sales</th>        <th class=\"col_heading level0 col2\" >na_sales</th>    </tr>    <tr>        <th class=\"index_name level0\" >platform_type</th>        <th class=\"blank\" ></th>        <th class=\"blank\" ></th>        <th class=\"blank\" ></th>    </tr></thead><tbody>\n",
       "                <tr>\n",
       "                        <th id=\"T_f4d3d_level0_row0\" class=\"row_heading level0 row0\" >console</th>\n",
       "                        <td id=\"T_f4d3d_row0_col0\" class=\"data row0 col0\" >49.50%</td>\n",
       "                        <td id=\"T_f4d3d_row0_col1\" class=\"data row0 col1\" >22.30%</td>\n",
       "                        <td id=\"T_f4d3d_row0_col2\" class=\"data row0 col2\" >41.66%</td>\n",
       "            </tr>\n",
       "            <tr>\n",
       "                        <th id=\"T_f4d3d_level0_row1\" class=\"row_heading level0 row1\" >mobile</th>\n",
       "                        <td id=\"T_f4d3d_row1_col0\" class=\"data row1 col0\" >18.25%</td>\n",
       "                        <td id=\"T_f4d3d_row1_col1\" class=\"data row1 col1\" >77.44%</td>\n",
       "                        <td id=\"T_f4d3d_row1_col2\" class=\"data row1 col2\" >23.45%</td>\n",
       "            </tr>\n",
       "            <tr>\n",
       "                        <th id=\"T_f4d3d_level0_row2\" class=\"row_heading level0 row2\" >pc</th>\n",
       "                        <td id=\"T_f4d3d_row2_col0\" class=\"data row2 col0\" >32.25%</td>\n",
       "                        <td id=\"T_f4d3d_row2_col1\" class=\"data row2 col1\" >0.26%</td>\n",
       "                        <td id=\"T_f4d3d_row2_col2\" class=\"data row2 col2\" >34.89%</td>\n",
       "            </tr>\n",
       "    </tbody></table>"
      ],
      "text/plain": [
       "<pandas.io.formats.style.Styler at 0x7fb9d2a70cd0>"
      ]
     },
     "execution_count": 57,
     "metadata": {},
     "output_type": "execute_result"
    }
   ],
   "source": [
    "#Составим сводную таблицу типов платформ для каждого региона из выбранных нами платформ\n",
    "good_df.pivot_table(\n",
    "    index = 'platform_type',\n",
    "    values = ['na_sales', 'eu_sales', 'jp_sales'],\n",
    "    aggfunc = 'sum'\n",
    ").apply(\n",
    "    lambda col: col / col.sum(),\n",
    "    axis=0\n",
    ").style.format(\"{:.2%}\")"
   ]
  },
  {
   "cell_type": "markdown",
   "metadata": {},
   "source": [
    "Интересно, что в Северной Америке все платформы имеют почти равные дли рынка, в Европе с перевесом лидируют консоли, а в Японии же держат бал мобильные платформы."
   ]
  },
  {
   "cell_type": "code",
   "execution_count": 58,
   "metadata": {},
   "outputs": [
    {
     "data": {
      "text/html": [
       "<style  type=\"text/css\" >\n",
       "</style><table id=\"T_12527_\" ><thead>    <tr>        <th class=\"blank level0\" ></th>        <th class=\"col_heading level0 col0\" >eu_sales</th>        <th class=\"col_heading level0 col1\" >jp_sales</th>        <th class=\"col_heading level0 col2\" >na_sales</th>    </tr>    <tr>        <th class=\"index_name level0\" >platform</th>        <th class=\"blank\" ></th>        <th class=\"blank\" ></th>        <th class=\"blank\" ></th>    </tr></thead><tbody>\n",
       "                <tr>\n",
       "                        <th id=\"T_12527_level0_row0\" class=\"row_heading level0 row0\" >3DS</th>\n",
       "                        <td id=\"T_12527_row0_col0\" class=\"data row0 col0\" >18.25%</td>\n",
       "                        <td id=\"T_12527_row0_col1\" class=\"data row0 col1\" >77.44%</td>\n",
       "                        <td id=\"T_12527_row0_col2\" class=\"data row0 col2\" >23.45%</td>\n",
       "            </tr>\n",
       "            <tr>\n",
       "                        <th id=\"T_12527_level0_row1\" class=\"row_heading level0 row1\" >PC</th>\n",
       "                        <td id=\"T_12527_row1_col0\" class=\"data row1 col0\" >16.89%</td>\n",
       "                        <td id=\"T_12527_row1_col1\" class=\"data row1 col1\" >0.00%</td>\n",
       "                        <td id=\"T_12527_row1_col2\" class=\"data row1 col2\" >8.48%</td>\n",
       "            </tr>\n",
       "            <tr>\n",
       "                        <th id=\"T_12527_level0_row2\" class=\"row_heading level0 row2\" >PS4</th>\n",
       "                        <td id=\"T_12527_row2_col0\" class=\"data row2 col0\" >42.02%</td>\n",
       "                        <td id=\"T_12527_row2_col1\" class=\"data row2 col1\" >12.28%</td>\n",
       "                        <td id=\"T_12527_row2_col2\" class=\"data row2 col2\" >30.85%</td>\n",
       "            </tr>\n",
       "            <tr>\n",
       "                        <th id=\"T_12527_level0_row3\" class=\"row_heading level0 row3\" >WiiU</th>\n",
       "                        <td id=\"T_12527_row3_col0\" class=\"data row3 col0\" >7.48%</td>\n",
       "                        <td id=\"T_12527_row3_col1\" class=\"data row3 col1\" >10.01%</td>\n",
       "                        <td id=\"T_12527_row3_col2\" class=\"data row3 col2\" >10.81%</td>\n",
       "            </tr>\n",
       "            <tr>\n",
       "                        <th id=\"T_12527_level0_row4\" class=\"row_heading level0 row4\" >XOne</th>\n",
       "                        <td id=\"T_12527_row4_col0\" class=\"data row4 col0\" >15.36%</td>\n",
       "                        <td id=\"T_12527_row4_col1\" class=\"data row4 col1\" >0.26%</td>\n",
       "                        <td id=\"T_12527_row4_col2\" class=\"data row4 col2\" >26.42%</td>\n",
       "            </tr>\n",
       "    </tbody></table>"
      ],
      "text/plain": [
       "<pandas.io.formats.style.Styler at 0x7fb9d25f1520>"
      ]
     },
     "execution_count": 58,
     "metadata": {},
     "output_type": "execute_result"
    }
   ],
   "source": [
    "#Посмотрим подробнее на каждую платформу\n",
    "good_df.pivot_table(\n",
    "    index = 'platform',\n",
    "    values = ['na_sales', 'eu_sales', 'jp_sales'],\n",
    "    aggfunc = 'sum'\n",
    ").apply(\n",
    "    lambda col: col / col.sum(),\n",
    "    axis=0\n",
    ").style.format(\"{:.2%}\")"
   ]
  },
  {
   "cell_type": "markdown",
   "metadata": {},
   "source": [
    "Более подробные данные, Японцы доверяют только отечественным производителям."
   ]
  },
  {
   "cell_type": "code",
   "execution_count": 59,
   "metadata": {},
   "outputs": [
    {
     "data": {
      "text/html": [
       "<style  type=\"text/css\" >\n",
       "</style><table id=\"T_1927d_\" ><thead>    <tr>        <th class=\"blank level0\" ></th>        <th class=\"col_heading level0 col0\" >eu_sales</th>        <th class=\"col_heading level0 col1\" >jp_sales</th>        <th class=\"col_heading level0 col2\" >na_sales</th>    </tr>    <tr>        <th class=\"index_name level0\" >genre</th>        <th class=\"blank\" ></th>        <th class=\"blank\" ></th>        <th class=\"blank\" ></th>    </tr></thead><tbody>\n",
       "                <tr>\n",
       "                        <th id=\"T_1927d_level0_row0\" class=\"row_heading level0 row0\" >Action</th>\n",
       "                        <td id=\"T_1927d_row0_col0\" class=\"data row0 col0\" >25.57%</td>\n",
       "                        <td id=\"T_1927d_row0_col1\" class=\"data row0 col1\" >22.86%</td>\n",
       "                        <td id=\"T_1927d_row0_col2\" class=\"data row0 col2\" >25.44%</td>\n",
       "            </tr>\n",
       "            <tr>\n",
       "                        <th id=\"T_1927d_level0_row1\" class=\"row_heading level0 row1\" >Adventure</th>\n",
       "                        <td id=\"T_1927d_row1_col0\" class=\"data row1 col0\" >1.91%</td>\n",
       "                        <td id=\"T_1927d_row1_col1\" class=\"data row1 col1\" >2.49%</td>\n",
       "                        <td id=\"T_1927d_row1_col2\" class=\"data row1 col2\" >1.30%</td>\n",
       "            </tr>\n",
       "            <tr>\n",
       "                        <th id=\"T_1927d_level0_row2\" class=\"row_heading level0 row2\" >Fighting</th>\n",
       "                        <td id=\"T_1927d_row2_col0\" class=\"data row2 col0\" >2.18%</td>\n",
       "                        <td id=\"T_1927d_row2_col1\" class=\"data row2 col1\" >3.84%</td>\n",
       "                        <td id=\"T_1927d_row2_col2\" class=\"data row2 col2\" >3.69%</td>\n",
       "            </tr>\n",
       "            <tr>\n",
       "                        <th id=\"T_1927d_level0_row3\" class=\"row_heading level0 row3\" >Misc</th>\n",
       "                        <td id=\"T_1927d_row3_col0\" class=\"data row3 col0\" >3.49%</td>\n",
       "                        <td id=\"T_1927d_row3_col1\" class=\"data row3 col1\" >6.46%</td>\n",
       "                        <td id=\"T_1927d_row3_col2\" class=\"data row3 col2\" >4.68%</td>\n",
       "            </tr>\n",
       "            <tr>\n",
       "                        <th id=\"T_1927d_level0_row4\" class=\"row_heading level0 row4\" >Platform</th>\n",
       "                        <td id=\"T_1927d_row4_col0\" class=\"data row4 col0\" >6.27%</td>\n",
       "                        <td id=\"T_1927d_row4_col1\" class=\"data row4 col1\" >8.20%</td>\n",
       "                        <td id=\"T_1927d_row4_col2\" class=\"data row4 col2\" >7.43%</td>\n",
       "            </tr>\n",
       "            <tr>\n",
       "                        <th id=\"T_1927d_level0_row5\" class=\"row_heading level0 row5\" >Puzzle</th>\n",
       "                        <td id=\"T_1927d_row5_col0\" class=\"data row5 col0\" >0.88%</td>\n",
       "                        <td id=\"T_1927d_row5_col1\" class=\"data row5 col1\" >1.55%</td>\n",
       "                        <td id=\"T_1927d_row5_col2\" class=\"data row5 col2\" >0.56%</td>\n",
       "            </tr>\n",
       "            <tr>\n",
       "                        <th id=\"T_1927d_level0_row6\" class=\"row_heading level0 row6\" >Racing</th>\n",
       "                        <td id=\"T_1927d_row6_col0\" class=\"data row6 col0\" >6.23%</td>\n",
       "                        <td id=\"T_1927d_row6_col1\" class=\"data row6 col1\" >3.42%</td>\n",
       "                        <td id=\"T_1927d_row6_col2\" class=\"data row6 col2\" >4.81%</td>\n",
       "            </tr>\n",
       "            <tr>\n",
       "                        <th id=\"T_1927d_level0_row7\" class=\"row_heading level0 row7\" >Role-Playing</th>\n",
       "                        <td id=\"T_1927d_row7_col0\" class=\"data row7 col0\" >12.40%</td>\n",
       "                        <td id=\"T_1927d_row7_col1\" class=\"data row7 col1\" >35.72%</td>\n",
       "                        <td id=\"T_1927d_row7_col2\" class=\"data row7 col2\" >14.15%</td>\n",
       "            </tr>\n",
       "            <tr>\n",
       "                        <th id=\"T_1927d_level0_row8\" class=\"row_heading level0 row8\" >Shooter</th>\n",
       "                        <td id=\"T_1927d_row8_col0\" class=\"data row8 col0\" >21.27%</td>\n",
       "                        <td id=\"T_1927d_row8_col1\" class=\"data row8 col1\" >3.63%</td>\n",
       "                        <td id=\"T_1927d_row8_col2\" class=\"data row8 col2\" >22.79%</td>\n",
       "            </tr>\n",
       "            <tr>\n",
       "                        <th id=\"T_1927d_level0_row9\" class=\"row_heading level0 row9\" >Simulation</th>\n",
       "                        <td id=\"T_1927d_row9_col0\" class=\"data row9 col0\" >5.21%</td>\n",
       "                        <td id=\"T_1927d_row9_col1\" class=\"data row9 col1\" >8.14%</td>\n",
       "                        <td id=\"T_1927d_row9_col2\" class=\"data row9 col2\" >2.96%</td>\n",
       "            </tr>\n",
       "            <tr>\n",
       "                        <th id=\"T_1927d_level0_row10\" class=\"row_heading level0 row10\" >Sports</th>\n",
       "                        <td id=\"T_1927d_row10_col0\" class=\"data row10 col0\" >12.58%</td>\n",
       "                        <td id=\"T_1927d_row10_col1\" class=\"data row10 col1\" >2.69%</td>\n",
       "                        <td id=\"T_1927d_row10_col2\" class=\"data row10 col2\" >11.03%</td>\n",
       "            </tr>\n",
       "            <tr>\n",
       "                        <th id=\"T_1927d_level0_row11\" class=\"row_heading level0 row11\" >Strategy</th>\n",
       "                        <td id=\"T_1927d_row11_col0\" class=\"data row11 col0\" >2.00%</td>\n",
       "                        <td id=\"T_1927d_row11_col1\" class=\"data row11 col1\" >1.02%</td>\n",
       "                        <td id=\"T_1927d_row11_col2\" class=\"data row11 col2\" >1.17%</td>\n",
       "            </tr>\n",
       "    </tbody></table>"
      ],
      "text/plain": [
       "<pandas.io.formats.style.Styler at 0x7fb9d2c6a790>"
      ]
     },
     "execution_count": 59,
     "metadata": {},
     "output_type": "execute_result"
    }
   ],
   "source": [
    "#построим таблицу для жанров\n",
    "good_df.pivot_table(\n",
    "    index = 'genre',\n",
    "    values = ['na_sales', 'eu_sales', 'jp_sales'],\n",
    "    aggfunc = 'sum'\n",
    ").apply(\n",
    "    lambda col: col / col.sum(),\n",
    "    axis=0\n",
    ").style.format(\"{:.2%}\")"
   ]
  },
  {
   "cell_type": "markdown",
   "metadata": {},
   "source": [
    "Таблица подтверждает предыдущий вывод, о предпочтениях в жанрах для каждого региона:\n",
    "1) Европа - Action, Shooter и Sports\n",
    "2) Япония - Role-Playing, Action, Platform\n",
    "3) Северная Америка - Action, Shooter, Role-playing"
   ]
  },
  {
   "cell_type": "code",
   "execution_count": 60,
   "metadata": {},
   "outputs": [
    {
     "data": {
      "text/html": [
       "<style  type=\"text/css\" >\n",
       "</style><table id=\"T_06af5_\" ><thead>    <tr>        <th class=\"blank level0\" ></th>        <th class=\"col_heading level0 col0\" >eu_sales</th>        <th class=\"col_heading level0 col1\" >jp_sales</th>        <th class=\"col_heading level0 col2\" >na_sales</th>    </tr>    <tr>        <th class=\"index_name level0\" >rating</th>        <th class=\"blank\" ></th>        <th class=\"blank\" ></th>        <th class=\"blank\" ></th>    </tr></thead><tbody>\n",
       "                <tr>\n",
       "                        <th id=\"T_06af5_level0_row0\" class=\"row_heading level0 row0\" >E</th>\n",
       "                        <td id=\"T_06af5_row0_col0\" class=\"data row0 col0\" >30.07%</td>\n",
       "                        <td id=\"T_06af5_row0_col1\" class=\"data row0 col1\" >53.24%</td>\n",
       "                        <td id=\"T_06af5_row0_col2\" class=\"data row0 col2\" >28.74%</td>\n",
       "            </tr>\n",
       "            <tr>\n",
       "                        <th id=\"T_06af5_level0_row1\" class=\"row_heading level0 row1\" >E10+</th>\n",
       "                        <td id=\"T_06af5_row1_col0\" class=\"data row1 col0\" >11.93%</td>\n",
       "                        <td id=\"T_06af5_row1_col1\" class=\"data row1 col1\" >14.48%</td>\n",
       "                        <td id=\"T_06af5_row1_col2\" class=\"data row1 col2\" >15.78%</td>\n",
       "            </tr>\n",
       "            <tr>\n",
       "                        <th id=\"T_06af5_level0_row2\" class=\"row_heading level0 row2\" >M</th>\n",
       "                        <td id=\"T_06af5_row2_col0\" class=\"data row2 col0\" >42.05%</td>\n",
       "                        <td id=\"T_06af5_row2_col1\" class=\"data row2 col1\" >13.30%</td>\n",
       "                        <td id=\"T_06af5_row2_col2\" class=\"data row2 col2\" >39.34%</td>\n",
       "            </tr>\n",
       "            <tr>\n",
       "                        <th id=\"T_06af5_level0_row3\" class=\"row_heading level0 row3\" >RP</th>\n",
       "                        <td id=\"T_06af5_row3_col0\" class=\"data row3 col0\" >0.01%</td>\n",
       "                        <td id=\"T_06af5_row3_col1\" class=\"data row3 col1\" >0.00%</td>\n",
       "                        <td id=\"T_06af5_row3_col2\" class=\"data row3 col2\" >0.00%</td>\n",
       "            </tr>\n",
       "            <tr>\n",
       "                        <th id=\"T_06af5_level0_row4\" class=\"row_heading level0 row4\" >T</th>\n",
       "                        <td id=\"T_06af5_row4_col0\" class=\"data row4 col0\" >15.94%</td>\n",
       "                        <td id=\"T_06af5_row4_col1\" class=\"data row4 col1\" >18.98%</td>\n",
       "                        <td id=\"T_06af5_row4_col2\" class=\"data row4 col2\" >16.14%</td>\n",
       "            </tr>\n",
       "    </tbody></table>"
      ],
      "text/plain": [
       "<pandas.io.formats.style.Styler at 0x7fb9d2c6a7c0>"
      ]
     },
     "execution_count": 60,
     "metadata": {},
     "output_type": "execute_result"
    }
   ],
   "source": [
    "#Посмотрим данные для каждого региона по рейтингу\n",
    "good_df.pivot_table(\n",
    "    index = 'rating',\n",
    "    values = ['na_sales', 'eu_sales', 'jp_sales'],\n",
    "    aggfunc = 'sum'\n",
    ").apply(\n",
    "    lambda col: col / col.sum(),\n",
    "    axis=0\n",
    ").style.format(\"{:.2%}\")"
   ]
  },
  {
   "cell_type": "markdown",
   "metadata": {},
   "source": [
    "Интересно, что в Европе и Америке большая часть игр выходит с ретингом \"для взрослых\", а в Японии значительной части игр выдается рейтинг \"для всех\"."
   ]
  },
  {
   "cell_type": "markdown",
   "metadata": {},
   "source": [
    "### Вывод"
   ]
  },
  {
   "cell_type": "markdown",
   "metadata": {},
   "source": [
    "У жанров и платформ есть региональные особенности."
   ]
  },
  {
   "cell_type": "markdown",
   "metadata": {},
   "source": [
    "В Европе и Северной Америке есть небольшие различия, но в целом картины похожи: наиболее популярны консоли, но за ними увернно держится PC. В Японии же совсем другая ситуация, пользователи отдают свои предпочтения мобильным платформам, а PC не продается совсем."
   ]
  },
  {
   "cell_type": "markdown",
   "metadata": {},
   "source": [
    "В Европе и Севрной Америке пользователи предпочитают Action и Shooter с ретингами \"М\". В Японии же снова другая ситуация это Role-Playing и Action с ретингами \"Е\"."
   ]
  },
  {
   "cell_type": "markdown",
   "metadata": {},
   "source": [
    "## Проверка гипотез"
   ]
  },
  {
   "cell_type": "markdown",
   "metadata": {},
   "source": [
    "### Гипотеза 1"
   ]
  },
  {
   "cell_type": "markdown",
   "metadata": {},
   "source": [
    "Проверим, отличаются ли средние пользовательские рейтинги платформ Xbox One и PC. Нулевая гипотеза - \"средние рейтинги не отличаются\"."
   ]
  },
  {
   "cell_type": "markdown",
   "metadata": {},
   "source": [
    "Значение критического уровня вероятности (альфа) примем равным 5%. Пропущенные значечния отфильтруем."
   ]
  },
  {
   "cell_type": "code",
   "execution_count": 61,
   "metadata": {},
   "outputs": [
    {
     "name": "stdout",
     "output_type": "stream",
     "text": [
      "p-значение: 0.6267602271422398\n",
      "Не получилось отвергнуть нулевую гипотезу\n"
     ]
    },
    {
     "data": {
      "text/html": [
       "<div>\n",
       "<style scoped>\n",
       "    .dataframe tbody tr th:only-of-type {\n",
       "        vertical-align: middle;\n",
       "    }\n",
       "\n",
       "    .dataframe tbody tr th {\n",
       "        vertical-align: top;\n",
       "    }\n",
       "\n",
       "    .dataframe thead tr th {\n",
       "        text-align: left;\n",
       "    }\n",
       "\n",
       "    .dataframe thead tr:last-of-type th {\n",
       "        text-align: right;\n",
       "    }\n",
       "</style>\n",
       "<table border=\"1\" class=\"dataframe\">\n",
       "  <thead>\n",
       "    <tr>\n",
       "      <th></th>\n",
       "      <th>count</th>\n",
       "      <th>mean</th>\n",
       "      <th>median</th>\n",
       "      <th>var</th>\n",
       "    </tr>\n",
       "    <tr>\n",
       "      <th></th>\n",
       "      <th>user_score</th>\n",
       "      <th>user_score</th>\n",
       "      <th>user_score</th>\n",
       "      <th>user_score</th>\n",
       "    </tr>\n",
       "    <tr>\n",
       "      <th>platform</th>\n",
       "      <th></th>\n",
       "      <th></th>\n",
       "      <th></th>\n",
       "      <th></th>\n",
       "    </tr>\n",
       "  </thead>\n",
       "  <tbody>\n",
       "    <tr>\n",
       "      <th>PC</th>\n",
       "      <td>307</td>\n",
       "      <td>6.451792</td>\n",
       "      <td>6.8</td>\n",
       "      <td>2.596296</td>\n",
       "    </tr>\n",
       "    <tr>\n",
       "      <th>XOne</th>\n",
       "      <td>182</td>\n",
       "      <td>6.521429</td>\n",
       "      <td>6.8</td>\n",
       "      <td>1.906997</td>\n",
       "    </tr>\n",
       "  </tbody>\n",
       "</table>\n",
       "</div>"
      ],
      "text/plain": [
       "              count       mean     median        var\n",
       "         user_score user_score user_score user_score\n",
       "platform                                            \n",
       "PC              307   6.451792        6.8   2.596296\n",
       "XOne            182   6.521429        6.8   1.906997"
      ]
     },
     "metadata": {},
     "output_type": "display_data"
    }
   ],
   "source": [
    "alpha = 0.05  # критический уровень статистической значимости\n",
    "results = st.ttest_ind(\n",
    "    good_df[(good_df.platform == \"XOne\") & (good_df.user_score.notna())]['user_score'], \n",
    "    good_df[(good_df.platform == \"PC\") & (good_df.user_score.notna())]['user_score']\n",
    ")\n",
    "\n",
    "print('p-значение:', results.pvalue)\n",
    "\n",
    "if results.pvalue < alpha:\n",
    "    print('Отвергаем нулевую гипотезу')\n",
    "else:\n",
    "    print('Не получилось отвергнуть нулевую гипотезу') \n",
    "\n",
    "display(good_df.query('platform in [\"XOne\", \"PC\"]')\n",
    "        .pivot_table(index='platform', values='user_score', aggfunc=['count', 'mean', 'median', 'var']))"
   ]
  },
  {
   "cell_type": "code",
   "execution_count": 62,
   "metadata": {},
   "outputs": [
    {
     "data": {
      "image/png": "[encoded data removed]",
      "text/plain": [
       "<Figure size 576x360 with 1 Axes>"
      ]
     },
     "metadata": {
      "needs_background": "light"
     },
     "output_type": "display_data"
    }
   ],
   "source": [
    "fig, ax = plt.subplots(figsize=(8, 5))\n",
    "ax.hist(good_df[(good_df.platform == \"XOne\") & (good_df.user_score.notna())]['user_score'], bins=10, density=True, alpha=0.5)\n",
    "ax.hist(good_df[(good_df.platform == \"PC\") & (good_df.user_score.notna())]['user_score'], bins=10, density=True, alpha=0.5)\n",
    "plt.show()"
   ]
  },
  {
   "cell_type": "markdown",
   "metadata": {},
   "source": [
    "Вероятность получить такие статистические значение мала. Оценки пользователей на этих платформах не отличаются."
   ]
  },
  {
   "cell_type": "markdown",
   "metadata": {},
   "source": [
    "### Гипотеза 2"
   ]
  },
  {
   "cell_type": "markdown",
   "metadata": {},
   "source": [
    "Проверим  отличаются ли средние пользовательские рейтинги жанров Action и Sports."
   ]
  },
  {
   "cell_type": "markdown",
   "metadata": {},
   "source": [
    "Значение критического уровня вероятности (альфа) примем равным 5%. Пропущенные значечния отфильтруем."
   ]
  },
  {
   "cell_type": "code",
   "execution_count": 63,
   "metadata": {},
   "outputs": [
    {
     "name": "stdout",
     "output_type": "stream",
     "text": [
      "p-значение: 1.1045140079317196e-12\n",
      "Отвергаем нулевую гипотезу\n"
     ]
    },
    {
     "data": {
      "text/html": [
       "<div>\n",
       "<style scoped>\n",
       "    .dataframe tbody tr th:only-of-type {\n",
       "        vertical-align: middle;\n",
       "    }\n",
       "\n",
       "    .dataframe tbody tr th {\n",
       "        vertical-align: top;\n",
       "    }\n",
       "\n",
       "    .dataframe thead tr th {\n",
       "        text-align: left;\n",
       "    }\n",
       "\n",
       "    .dataframe thead tr:last-of-type th {\n",
       "        text-align: right;\n",
       "    }\n",
       "</style>\n",
       "<table border=\"1\" class=\"dataframe\">\n",
       "  <thead>\n",
       "    <tr>\n",
       "      <th></th>\n",
       "      <th>count</th>\n",
       "      <th>mean</th>\n",
       "      <th>median</th>\n",
       "      <th>var</th>\n",
       "    </tr>\n",
       "    <tr>\n",
       "      <th></th>\n",
       "      <th>user_score</th>\n",
       "      <th>user_score</th>\n",
       "      <th>user_score</th>\n",
       "      <th>user_score</th>\n",
       "    </tr>\n",
       "    <tr>\n",
       "      <th>genre</th>\n",
       "      <th></th>\n",
       "      <th></th>\n",
       "      <th></th>\n",
       "      <th></th>\n",
       "    </tr>\n",
       "  </thead>\n",
       "  <tbody>\n",
       "    <tr>\n",
       "      <th>Action</th>\n",
       "      <td>330</td>\n",
       "      <td>6.776970</td>\n",
       "      <td>7.1</td>\n",
       "      <td>1.803845</td>\n",
       "    </tr>\n",
       "    <tr>\n",
       "      <th>Sports</th>\n",
       "      <td>111</td>\n",
       "      <td>5.653153</td>\n",
       "      <td>5.9</td>\n",
       "      <td>2.393785</td>\n",
       "    </tr>\n",
       "  </tbody>\n",
       "</table>\n",
       "</div>"
      ],
      "text/plain": [
       "            count       mean     median        var\n",
       "       user_score user_score user_score user_score\n",
       "genre                                             \n",
       "Action        330   6.776970        7.1   1.803845\n",
       "Sports        111   5.653153        5.9   2.393785"
      ]
     },
     "metadata": {},
     "output_type": "display_data"
    }
   ],
   "source": [
    "alpha = 0.05  # критический уровень статистической значимости\n",
    "results = st.ttest_ind(\n",
    "    good_df[(good_df.genre == \"Action\") & (good_df.user_score.notna())]['user_score'], \n",
    "    good_df[(good_df.genre == \"Sports\") & (good_df.user_score.notna())]['user_score']\n",
    ")\n",
    "\n",
    "print('p-значение:', results.pvalue)\n",
    "\n",
    "if results.pvalue < alpha:\n",
    "    print('Отвергаем нулевую гипотезу')\n",
    "else:\n",
    "    print('Не получилось отвергнуть нулевую гипотезу') \n",
    "    \n",
    "display(good_df.query('genre in [\"Action\", \"Sports\"]')\n",
    "        .pivot_table(index='genre', values='user_score', aggfunc=['count', 'mean', 'median', 'var']))"
   ]
  },
  {
   "cell_type": "code",
   "execution_count": 64,
   "metadata": {},
   "outputs": [
    {
     "data": {
      "image/png": "[encoded data removed]",
      "text/plain": [
       "<Figure size 576x360 with 1 Axes>"
      ]
     },
     "metadata": {
      "needs_background": "light"
     },
     "output_type": "display_data"
    }
   ],
   "source": [
    "fig, ax = plt.subplots(figsize=(8, 5))\n",
    "ax.hist(good_df[(good_df.genre == \"Action\") & (good_df.user_score.notna())]['user_score'], bins=10, density=True, alpha=0.5)\n",
    "ax.hist(good_df[(good_df.genre == \"Sports\") & (good_df.user_score.notna())]['user_score'], bins=10, density=True, alpha=0.5)\n",
    "plt.show()"
   ]
  },
  {
   "cell_type": "markdown",
   "metadata": {},
   "source": [
    "Оценки пользователей в этих жанрах отличаются."
   ]
  },
  {
   "cell_type": "markdown",
   "metadata": {},
   "source": [
    "### Выдвод"
   ]
  },
  {
   "cell_type": "markdown",
   "metadata": {},
   "source": [
    "Оценки пользователей не зависят от платформ, но сильно отличаются по жанрам. Поэтому, при принятом нами уровне статистической значимости 5%, можно сказать, что первая гипотеза верна, а вторая нет."
   ]
  },
  {
   "cell_type": "markdown",
   "metadata": {},
   "source": [
    "## Общий вывод"
   ]
  },
  {
   "cell_type": "markdown",
   "metadata": {},
   "source": [
    "На основе исторических данных за 2016 год мы выявили закономерности, определяющий успешность игр."
   ]
  },
  {
   "cell_type": "markdown",
   "metadata": {},
   "source": [
    "В ходе исследования были сделанны выводы:\n",
    "- Потенциально прибыльные платформы PS4, XOne и 3DS (но продажи на ней начинают снижаться).\n",
    "- Лучшие платформы по регионам Америка - Xbox One, Европа - PS4, Япония - 3DS.\n",
    "- Лучшие жанры по продажам Action, Shooters и Role-Playing.\n",
    "- От оценок критиков сильно зависят продажи игр, а вот оценки пользователей влияют довольно слабо."
   ]
  },
  {
   "cell_type": "markdown",
   "metadata": {},
   "source": [
    "Мы проверили 2 гипотезы, заявленные в самом начале исследования.\n",
    "И сделали выводы:\n",
    "- Средние пользовательский рейтинги XOne и PC не отличаются.\n",
    "- Средние пользовательские оценки в жанрах Action и Sports отличаются."
   ]
  }
 ],
 "metadata": {
  "ExecuteTimeLog": [
   {
    "duration": 1580,
    "start_time": "2022-07-19T07:52:03.153Z"
   },
   {
    "duration": 20,
    "start_time": "2022-07-19T07:52:16.080Z"
   },
   {
    "duration": 8,
    "start_time": "2022-07-19T07:52:58.620Z"
   },
   {
    "duration": 397,
    "start_time": "2022-07-19T07:53:09.819Z"
   },
   {
    "duration": 21,
    "start_time": "2022-07-19T07:53:22.092Z"
   },
   {
    "duration": 35,
    "start_time": "2022-07-19T07:53:52.595Z"
   },
   {
    "duration": 116,
    "start_time": "2022-07-19T07:56:16.593Z"
   },
   {
    "duration": 112,
    "start_time": "2022-07-19T07:56:32.784Z"
   },
   {
    "duration": 14,
    "start_time": "2022-07-19T07:56:33.525Z"
   },
   {
    "duration": 80,
    "start_time": "2022-07-19T07:56:47.939Z"
   },
   {
    "duration": 2,
    "start_time": "2022-07-19T07:57:45.247Z"
   },
   {
    "duration": 88,
    "start_time": "2022-07-19T08:21:05.895Z"
   },
   {
    "duration": 2,
    "start_time": "2022-07-19T08:32:49.989Z"
   },
   {
    "duration": 94,
    "start_time": "2022-07-19T08:32:50.212Z"
   },
   {
    "duration": 14,
    "start_time": "2022-07-19T08:32:50.393Z"
   },
   {
    "duration": 84,
    "start_time": "2022-07-19T08:32:50.971Z"
   },
   {
    "duration": 14,
    "start_time": "2022-07-19T08:44:43.399Z"
   },
   {
    "duration": 29,
    "start_time": "2022-07-19T08:49:53.021Z"
   },
   {
    "duration": 25,
    "start_time": "2022-07-19T08:50:30.629Z"
   },
   {
    "duration": 25,
    "start_time": "2022-07-19T08:54:17.375Z"
   },
   {
    "duration": 5,
    "start_time": "2022-07-19T08:57:49.316Z"
   },
   {
    "duration": 82,
    "start_time": "2022-07-19T08:58:56.548Z"
   },
   {
    "duration": 4,
    "start_time": "2022-07-19T08:59:14.910Z"
   },
   {
    "duration": 6,
    "start_time": "2022-07-19T09:00:00.082Z"
   },
   {
    "duration": 5,
    "start_time": "2022-07-19T09:00:11.786Z"
   },
   {
    "duration": 7,
    "start_time": "2022-07-19T09:00:41.744Z"
   },
   {
    "duration": 50,
    "start_time": "2022-07-19T09:00:53.018Z"
   },
   {
    "duration": 6,
    "start_time": "2022-07-19T09:00:57.659Z"
   },
   {
    "duration": 6,
    "start_time": "2022-07-19T09:10:24.650Z"
   },
   {
    "duration": 5,
    "start_time": "2022-07-19T09:10:29.762Z"
   },
   {
    "duration": 6,
    "start_time": "2022-07-19T09:10:35.834Z"
   },
   {
    "duration": 6,
    "start_time": "2022-07-19T09:12:15.255Z"
   },
   {
    "duration": 6,
    "start_time": "2022-07-19T11:07:33.435Z"
   },
   {
    "duration": 7,
    "start_time": "2022-07-19T11:07:51.020Z"
   },
   {
    "duration": 5,
    "start_time": "2022-07-19T11:08:04.588Z"
   },
   {
    "duration": 6,
    "start_time": "2022-07-19T11:08:08.006Z"
   },
   {
    "duration": 5,
    "start_time": "2022-07-19T11:09:00.852Z"
   },
   {
    "duration": 5,
    "start_time": "2022-07-19T11:09:25.536Z"
   },
   {
    "duration": 2,
    "start_time": "2022-07-19T11:12:17.849Z"
   },
   {
    "duration": 5,
    "start_time": "2022-07-19T11:13:45.679Z"
   },
   {
    "duration": 1359,
    "start_time": "2022-07-19T11:14:22.831Z"
   },
   {
    "duration": 5,
    "start_time": "2022-07-19T11:14:29.133Z"
   },
   {
    "duration": 9,
    "start_time": "2022-07-19T11:23:25.455Z"
   },
   {
    "duration": 4,
    "start_time": "2022-07-19T11:23:26.079Z"
   },
   {
    "duration": 8,
    "start_time": "2022-07-19T11:23:26.579Z"
   },
   {
    "duration": 5,
    "start_time": "2022-07-19T11:24:47.891Z"
   },
   {
    "duration": 9,
    "start_time": "2022-07-19T11:28:24.500Z"
   },
   {
    "duration": 9,
    "start_time": "2022-07-19T11:28:54.416Z"
   },
   {
    "duration": 8,
    "start_time": "2022-07-19T11:29:02.732Z"
   },
   {
    "duration": 10,
    "start_time": "2022-07-19T11:29:07.228Z"
   },
   {
    "duration": 10,
    "start_time": "2022-07-19T11:29:25.459Z"
   },
   {
    "duration": 10,
    "start_time": "2022-07-19T11:29:43.927Z"
   },
   {
    "duration": 1004,
    "start_time": "2022-07-19T11:29:59.817Z"
   },
   {
    "duration": 1609,
    "start_time": "2022-07-19T11:31:38.131Z"
   },
   {
    "duration": 1321,
    "start_time": "2022-07-19T11:31:59.728Z"
   },
   {
    "duration": 12,
    "start_time": "2022-07-19T11:36:25.703Z"
   },
   {
    "duration": 10,
    "start_time": "2022-07-19T11:37:14.145Z"
   },
   {
    "duration": 10,
    "start_time": "2022-07-19T11:40:15.070Z"
   },
   {
    "duration": 5,
    "start_time": "2022-07-19T11:40:36.859Z"
   },
   {
    "duration": 10,
    "start_time": "2022-07-19T11:40:41.576Z"
   },
   {
    "duration": 5,
    "start_time": "2022-07-19T11:41:20.216Z"
   },
   {
    "duration": 6,
    "start_time": "2022-07-19T11:41:39.800Z"
   },
   {
    "duration": 15,
    "start_time": "2022-07-19T11:42:33.253Z"
   },
   {
    "duration": 9,
    "start_time": "2022-07-19T11:44:09.143Z"
   },
   {
    "duration": 11,
    "start_time": "2022-07-19T11:45:41.357Z"
   },
   {
    "duration": 5,
    "start_time": "2022-07-19T11:47:02.493Z"
   },
   {
    "duration": 17,
    "start_time": "2022-07-19T11:47:56.708Z"
   },
   {
    "duration": 14,
    "start_time": "2022-07-19T11:48:08.698Z"
   },
   {
    "duration": 14,
    "start_time": "2022-07-19T11:49:57.916Z"
   },
   {
    "duration": 11,
    "start_time": "2022-07-19T11:50:20.746Z"
   },
   {
    "duration": 9,
    "start_time": "2022-07-19T11:50:40.918Z"
   },
   {
    "duration": 13,
    "start_time": "2022-07-19T11:53:39.828Z"
   },
   {
    "duration": 6,
    "start_time": "2022-07-19T12:14:41.217Z"
   },
   {
    "duration": 6,
    "start_time": "2022-07-19T12:16:15.522Z"
   },
   {
    "duration": 11,
    "start_time": "2022-07-19T12:16:41.289Z"
   },
   {
    "duration": 8,
    "start_time": "2022-07-19T12:16:45.548Z"
   },
   {
    "duration": 9,
    "start_time": "2022-07-19T12:19:23.955Z"
   },
   {
    "duration": 20,
    "start_time": "2022-07-19T12:19:24.395Z"
   },
   {
    "duration": 10,
    "start_time": "2022-07-19T12:19:25.011Z"
   },
   {
    "duration": 1680,
    "start_time": "2022-07-19T13:10:31.679Z"
   },
   {
    "duration": 14,
    "start_time": "2022-07-19T13:11:11.878Z"
   },
   {
    "duration": 6,
    "start_time": "2022-07-19T13:47:46.209Z"
   },
   {
    "duration": 6,
    "start_time": "2022-07-19T13:48:08.435Z"
   },
   {
    "duration": 8,
    "start_time": "2022-07-19T13:48:39.135Z"
   },
   {
    "duration": 63,
    "start_time": "2022-07-19T13:49:18.153Z"
   },
   {
    "duration": 17,
    "start_time": "2022-07-19T13:58:10.787Z"
   },
   {
    "duration": 36,
    "start_time": "2022-07-19T13:58:15.224Z"
   },
   {
    "duration": 52,
    "start_time": "2022-07-19T16:55:50.933Z"
   },
   {
    "duration": 1627,
    "start_time": "2022-07-19T16:56:02.007Z"
   },
   {
    "duration": 423,
    "start_time": "2022-07-19T16:56:03.638Z"
   },
   {
    "duration": 31,
    "start_time": "2022-07-19T16:56:04.063Z"
   },
   {
    "duration": 49,
    "start_time": "2022-07-19T16:56:04.098Z"
   },
   {
    "duration": 130,
    "start_time": "2022-07-19T16:56:04.149Z"
   },
   {
    "duration": 11,
    "start_time": "2022-07-19T16:56:04.281Z"
   },
   {
    "duration": 1352,
    "start_time": "2022-07-19T16:56:04.294Z"
   },
   {
    "duration": 0,
    "start_time": "2022-07-19T16:56:05.649Z"
   },
   {
    "duration": 0,
    "start_time": "2022-07-19T16:56:05.651Z"
   },
   {
    "duration": 0,
    "start_time": "2022-07-19T16:56:05.652Z"
   },
   {
    "duration": 0,
    "start_time": "2022-07-19T16:56:05.654Z"
   },
   {
    "duration": 0,
    "start_time": "2022-07-19T16:56:05.655Z"
   },
   {
    "duration": 0,
    "start_time": "2022-07-19T16:56:05.656Z"
   },
   {
    "duration": 0,
    "start_time": "2022-07-19T16:56:05.657Z"
   },
   {
    "duration": 0,
    "start_time": "2022-07-19T16:56:05.659Z"
   },
   {
    "duration": 0,
    "start_time": "2022-07-19T16:56:05.660Z"
   },
   {
    "duration": 0,
    "start_time": "2022-07-19T16:56:05.661Z"
   },
   {
    "duration": 0,
    "start_time": "2022-07-19T16:56:05.662Z"
   },
   {
    "duration": 0,
    "start_time": "2022-07-19T16:56:05.663Z"
   },
   {
    "duration": 0,
    "start_time": "2022-07-19T16:56:05.665Z"
   },
   {
    "duration": 0,
    "start_time": "2022-07-19T16:56:05.666Z"
   },
   {
    "duration": 0,
    "start_time": "2022-07-19T16:56:05.667Z"
   },
   {
    "duration": 0,
    "start_time": "2022-07-19T16:56:05.668Z"
   },
   {
    "duration": 0,
    "start_time": "2022-07-19T16:56:05.669Z"
   },
   {
    "duration": 0,
    "start_time": "2022-07-19T16:56:05.671Z"
   },
   {
    "duration": 0,
    "start_time": "2022-07-19T16:56:05.672Z"
   },
   {
    "duration": 0,
    "start_time": "2022-07-19T16:56:05.673Z"
   },
   {
    "duration": 0,
    "start_time": "2022-07-19T16:56:05.674Z"
   },
   {
    "duration": 3,
    "start_time": "2022-07-19T16:57:07.385Z"
   },
   {
    "duration": 107,
    "start_time": "2022-07-19T16:57:07.574Z"
   },
   {
    "duration": 16,
    "start_time": "2022-07-19T16:57:07.694Z"
   },
   {
    "duration": 29,
    "start_time": "2022-07-19T16:57:07.829Z"
   },
   {
    "duration": 79,
    "start_time": "2022-07-19T16:57:08.117Z"
   },
   {
    "duration": 11,
    "start_time": "2022-07-19T16:57:08.979Z"
   },
   {
    "duration": 1057,
    "start_time": "2022-07-19T16:57:09.920Z"
   },
   {
    "duration": 1120,
    "start_time": "2022-07-19T16:57:10.979Z"
   },
   {
    "duration": 43,
    "start_time": "2022-07-20T11:27:29.456Z"
   },
   {
    "duration": 1353,
    "start_time": "2022-07-20T11:27:53.092Z"
   },
   {
    "duration": 205,
    "start_time": "2022-07-20T11:27:54.447Z"
   },
   {
    "duration": 17,
    "start_time": "2022-07-20T11:27:54.657Z"
   },
   {
    "duration": 37,
    "start_time": "2022-07-20T11:27:54.676Z"
   },
   {
    "duration": 112,
    "start_time": "2022-07-20T11:27:54.715Z"
   },
   {
    "duration": 9,
    "start_time": "2022-07-20T11:27:54.829Z"
   },
   {
    "duration": 1065,
    "start_time": "2022-07-20T11:27:54.840Z"
   },
   {
    "duration": 5,
    "start_time": "2022-07-20T11:27:55.907Z"
   },
   {
    "duration": 38,
    "start_time": "2022-07-20T11:27:55.915Z"
   },
   {
    "duration": 4,
    "start_time": "2022-07-20T11:27:55.955Z"
   },
   {
    "duration": 26,
    "start_time": "2022-07-20T11:27:55.960Z"
   },
   {
    "duration": 8,
    "start_time": "2022-07-20T11:27:55.987Z"
   },
   {
    "duration": 19,
    "start_time": "2022-07-20T11:27:55.997Z"
   },
   {
    "duration": 15,
    "start_time": "2022-07-20T11:27:56.018Z"
   },
   {
    "duration": 17,
    "start_time": "2022-07-20T11:27:56.035Z"
   },
   {
    "duration": 19,
    "start_time": "2022-07-20T11:27:56.054Z"
   },
   {
    "duration": 126,
    "start_time": "2022-07-20T11:27:56.075Z"
   },
   {
    "duration": 0,
    "start_time": "2022-07-20T11:27:56.203Z"
   },
   {
    "duration": 0,
    "start_time": "2022-07-20T11:27:56.205Z"
   },
   {
    "duration": 0,
    "start_time": "2022-07-20T11:27:56.206Z"
   },
   {
    "duration": 0,
    "start_time": "2022-07-20T11:27:56.209Z"
   },
   {
    "duration": 0,
    "start_time": "2022-07-20T11:27:56.210Z"
   },
   {
    "duration": 0,
    "start_time": "2022-07-20T11:27:56.212Z"
   },
   {
    "duration": 0,
    "start_time": "2022-07-20T11:27:56.213Z"
   },
   {
    "duration": 0,
    "start_time": "2022-07-20T11:27:56.214Z"
   },
   {
    "duration": 0,
    "start_time": "2022-07-20T11:27:56.215Z"
   },
   {
    "duration": 1009,
    "start_time": "2022-07-20T11:30:26.829Z"
   },
   {
    "duration": 905,
    "start_time": "2022-07-20T11:30:35.079Z"
   },
   {
    "duration": 11,
    "start_time": "2022-07-20T11:31:26.055Z"
   },
   {
    "duration": 12,
    "start_time": "2022-07-20T11:33:39.026Z"
   },
   {
    "duration": 6,
    "start_time": "2022-07-20T11:33:39.274Z"
   },
   {
    "duration": 8,
    "start_time": "2022-07-20T11:33:39.934Z"
   },
   {
    "duration": 9,
    "start_time": "2022-07-20T11:33:46.235Z"
   },
   {
    "duration": 10,
    "start_time": "2022-07-20T11:33:46.952Z"
   },
   {
    "duration": 12,
    "start_time": "2022-07-20T11:38:51.208Z"
   },
   {
    "duration": 4,
    "start_time": "2022-07-20T11:39:02.839Z"
   },
   {
    "duration": 7,
    "start_time": "2022-07-20T11:41:20.803Z"
   },
   {
    "duration": 2,
    "start_time": "2022-07-20T11:41:29.170Z"
   },
   {
    "duration": 5,
    "start_time": "2022-07-20T11:41:45.347Z"
   },
   {
    "duration": 6,
    "start_time": "2022-07-20T11:44:39.083Z"
   },
   {
    "duration": 5,
    "start_time": "2022-07-20T11:44:51.829Z"
   },
   {
    "duration": 881,
    "start_time": "2022-07-20T11:49:03.149Z"
   },
   {
    "duration": 1044,
    "start_time": "2022-07-20T11:49:41.501Z"
   },
   {
    "duration": 5,
    "start_time": "2022-07-20T11:50:01.291Z"
   },
   {
    "duration": 6,
    "start_time": "2022-07-20T11:50:11.139Z"
   },
   {
    "duration": 928,
    "start_time": "2022-07-20T11:50:11.707Z"
   },
   {
    "duration": 5,
    "start_time": "2022-07-20T11:50:13.666Z"
   },
   {
    "duration": 5,
    "start_time": "2022-07-20T11:50:16.317Z"
   },
   {
    "duration": 8,
    "start_time": "2022-07-20T11:50:17.444Z"
   },
   {
    "duration": 2,
    "start_time": "2022-07-20T11:50:30.559Z"
   },
   {
    "duration": 5,
    "start_time": "2022-07-20T11:50:31.434Z"
   },
   {
    "duration": 8,
    "start_time": "2022-07-20T11:50:32.279Z"
   },
   {
    "duration": 1089,
    "start_time": "2022-07-20T11:50:47.193Z"
   },
   {
    "duration": 106,
    "start_time": "2022-07-20T11:50:48.284Z"
   },
   {
    "duration": 17,
    "start_time": "2022-07-20T11:50:48.392Z"
   },
   {
    "duration": 48,
    "start_time": "2022-07-20T11:50:48.411Z"
   },
   {
    "duration": 77,
    "start_time": "2022-07-20T11:50:48.461Z"
   },
   {
    "duration": 10,
    "start_time": "2022-07-20T11:50:48.553Z"
   },
   {
    "duration": 1012,
    "start_time": "2022-07-20T11:50:48.565Z"
   },
   {
    "duration": 5,
    "start_time": "2022-07-20T11:50:49.579Z"
   },
   {
    "duration": 31,
    "start_time": "2022-07-20T11:50:49.585Z"
   },
   {
    "duration": 5,
    "start_time": "2022-07-20T11:50:49.618Z"
   },
   {
    "duration": 5,
    "start_time": "2022-07-20T11:50:49.625Z"
   },
   {
    "duration": 4,
    "start_time": "2022-07-20T11:50:49.653Z"
   },
   {
    "duration": 5,
    "start_time": "2022-07-20T11:50:49.659Z"
   },
   {
    "duration": 9,
    "start_time": "2022-07-20T11:50:49.666Z"
   },
   {
    "duration": 5,
    "start_time": "2022-07-20T11:50:49.676Z"
   },
   {
    "duration": 10,
    "start_time": "2022-07-20T11:50:49.683Z"
   },
   {
    "duration": 4,
    "start_time": "2022-07-20T11:50:49.695Z"
   },
   {
    "duration": 7,
    "start_time": "2022-07-20T11:50:49.700Z"
   },
   {
    "duration": 8,
    "start_time": "2022-07-20T11:50:49.708Z"
   },
   {
    "duration": 38,
    "start_time": "2022-07-20T11:50:49.718Z"
   },
   {
    "duration": 6,
    "start_time": "2022-07-20T11:50:49.758Z"
   },
   {
    "duration": 2,
    "start_time": "2022-07-20T11:50:49.766Z"
   },
   {
    "duration": 7,
    "start_time": "2022-07-20T11:50:49.769Z"
   },
   {
    "duration": 12,
    "start_time": "2022-07-20T11:50:49.778Z"
   },
   {
    "duration": 9,
    "start_time": "2022-07-20T11:50:49.791Z"
   },
   {
    "duration": 66,
    "start_time": "2022-07-20T11:50:49.802Z"
   },
   {
    "duration": 14,
    "start_time": "2022-07-20T11:50:49.870Z"
   },
   {
    "duration": 4,
    "start_time": "2022-07-20T11:50:49.888Z"
   },
   {
    "duration": 5,
    "start_time": "2022-07-20T11:53:20.542Z"
   },
   {
    "duration": 5,
    "start_time": "2022-07-20T11:53:21.027Z"
   },
   {
    "duration": 9,
    "start_time": "2022-07-20T11:53:22.204Z"
   },
   {
    "duration": 6,
    "start_time": "2022-07-20T11:54:23.448Z"
   },
   {
    "duration": 6,
    "start_time": "2022-07-20T11:54:30.127Z"
   },
   {
    "duration": 2,
    "start_time": "2022-07-20T11:56:21.876Z"
   },
   {
    "duration": 4,
    "start_time": "2022-07-20T11:56:59.186Z"
   },
   {
    "duration": 7,
    "start_time": "2022-07-20T11:57:19.284Z"
   },
   {
    "duration": 1157,
    "start_time": "2022-07-20T11:57:38.308Z"
   },
   {
    "duration": 102,
    "start_time": "2022-07-20T11:57:39.467Z"
   },
   {
    "duration": 18,
    "start_time": "2022-07-20T11:57:39.570Z"
   },
   {
    "duration": 32,
    "start_time": "2022-07-20T11:57:39.590Z"
   },
   {
    "duration": 92,
    "start_time": "2022-07-20T11:57:39.624Z"
   },
   {
    "duration": 9,
    "start_time": "2022-07-20T11:57:39.717Z"
   },
   {
    "duration": 1088,
    "start_time": "2022-07-20T11:57:39.727Z"
   },
   {
    "duration": 4,
    "start_time": "2022-07-20T11:57:40.817Z"
   },
   {
    "duration": 41,
    "start_time": "2022-07-20T11:57:40.822Z"
   },
   {
    "duration": 5,
    "start_time": "2022-07-20T11:57:40.866Z"
   },
   {
    "duration": 4,
    "start_time": "2022-07-20T11:57:40.873Z"
   },
   {
    "duration": 6,
    "start_time": "2022-07-20T11:57:40.879Z"
   },
   {
    "duration": 6,
    "start_time": "2022-07-20T11:57:40.887Z"
   },
   {
    "duration": 8,
    "start_time": "2022-07-20T11:57:40.894Z"
   },
   {
    "duration": 13,
    "start_time": "2022-07-20T11:57:40.903Z"
   },
   {
    "duration": 38,
    "start_time": "2022-07-20T11:57:40.918Z"
   },
   {
    "duration": 6,
    "start_time": "2022-07-20T11:57:40.958Z"
   },
   {
    "duration": 7,
    "start_time": "2022-07-20T11:57:40.966Z"
   },
   {
    "duration": 8,
    "start_time": "2022-07-20T11:57:40.975Z"
   },
   {
    "duration": 8,
    "start_time": "2022-07-20T11:57:40.985Z"
   },
   {
    "duration": 8,
    "start_time": "2022-07-20T11:57:40.994Z"
   },
   {
    "duration": 5,
    "start_time": "2022-07-20T11:57:41.004Z"
   },
   {
    "duration": 44,
    "start_time": "2022-07-20T11:57:41.010Z"
   },
   {
    "duration": 8,
    "start_time": "2022-07-20T11:57:41.056Z"
   },
   {
    "duration": 3,
    "start_time": "2022-07-20T11:57:41.066Z"
   },
   {
    "duration": 6,
    "start_time": "2022-07-20T11:57:41.071Z"
   },
   {
    "duration": 5,
    "start_time": "2022-07-20T11:57:41.079Z"
   },
   {
    "duration": 10,
    "start_time": "2022-07-20T11:57:41.088Z"
   },
   {
    "duration": 8,
    "start_time": "2022-07-20T11:57:41.100Z"
   },
   {
    "duration": 43,
    "start_time": "2022-07-20T11:57:41.151Z"
   },
   {
    "duration": 15,
    "start_time": "2022-07-20T11:57:41.196Z"
   },
   {
    "duration": 9,
    "start_time": "2022-07-20T11:57:41.213Z"
   },
   {
    "duration": 1132,
    "start_time": "2022-07-20T12:02:40.954Z"
   },
   {
    "duration": 91,
    "start_time": "2022-07-20T12:02:42.088Z"
   },
   {
    "duration": 15,
    "start_time": "2022-07-20T12:02:42.181Z"
   },
   {
    "duration": 28,
    "start_time": "2022-07-20T12:02:42.198Z"
   },
   {
    "duration": 89,
    "start_time": "2022-07-20T12:02:42.229Z"
   },
   {
    "duration": 7,
    "start_time": "2022-07-20T12:02:42.320Z"
   },
   {
    "duration": 992,
    "start_time": "2022-07-20T12:02:42.329Z"
   },
   {
    "duration": 4,
    "start_time": "2022-07-20T12:02:43.323Z"
   },
   {
    "duration": 38,
    "start_time": "2022-07-20T12:02:43.328Z"
   },
   {
    "duration": 5,
    "start_time": "2022-07-20T12:02:43.367Z"
   },
   {
    "duration": 4,
    "start_time": "2022-07-20T12:02:43.374Z"
   },
   {
    "duration": 6,
    "start_time": "2022-07-20T12:02:43.380Z"
   },
   {
    "duration": 5,
    "start_time": "2022-07-20T12:02:43.387Z"
   },
   {
    "duration": 4,
    "start_time": "2022-07-20T12:02:43.394Z"
   },
   {
    "duration": 7,
    "start_time": "2022-07-20T12:02:43.399Z"
   },
   {
    "duration": 46,
    "start_time": "2022-07-20T12:02:43.407Z"
   },
   {
    "duration": 7,
    "start_time": "2022-07-20T12:02:43.454Z"
   },
   {
    "duration": 35,
    "start_time": "2022-07-20T12:02:43.463Z"
   },
   {
    "duration": 103,
    "start_time": "2022-07-20T12:02:43.500Z"
   },
   {
    "duration": 10,
    "start_time": "2022-07-20T12:04:45.523Z"
   },
   {
    "duration": 9,
    "start_time": "2022-07-20T12:05:13.078Z"
   },
   {
    "duration": 6,
    "start_time": "2022-07-20T12:07:58.880Z"
   },
   {
    "duration": 5,
    "start_time": "2022-07-20T12:08:25.325Z"
   },
   {
    "duration": 6,
    "start_time": "2022-07-20T12:14:05.621Z"
   },
   {
    "duration": 115,
    "start_time": "2022-07-20T12:19:42.464Z"
   },
   {
    "duration": 8,
    "start_time": "2022-07-20T12:25:41.802Z"
   },
   {
    "duration": 4,
    "start_time": "2022-07-20T12:25:42.164Z"
   },
   {
    "duration": 9,
    "start_time": "2022-07-20T12:26:26.092Z"
   },
   {
    "duration": 5,
    "start_time": "2022-07-20T12:26:26.885Z"
   },
   {
    "duration": 5,
    "start_time": "2022-07-20T12:26:56.264Z"
   },
   {
    "duration": 6,
    "start_time": "2022-07-20T12:26:56.621Z"
   },
   {
    "duration": 8,
    "start_time": "2022-07-20T12:27:04.632Z"
   },
   {
    "duration": 4,
    "start_time": "2022-07-20T12:31:24.591Z"
   },
   {
    "duration": 4,
    "start_time": "2022-07-20T12:31:25.561Z"
   },
   {
    "duration": 8,
    "start_time": "2022-07-20T12:31:27.125Z"
   },
   {
    "duration": 1055,
    "start_time": "2022-07-20T12:31:34.800Z"
   },
   {
    "duration": 90,
    "start_time": "2022-07-20T12:31:35.856Z"
   },
   {
    "duration": 13,
    "start_time": "2022-07-20T12:31:35.948Z"
   },
   {
    "duration": 27,
    "start_time": "2022-07-20T12:31:35.963Z"
   },
   {
    "duration": 100,
    "start_time": "2022-07-20T12:31:35.992Z"
   },
   {
    "duration": 11,
    "start_time": "2022-07-20T12:31:36.094Z"
   },
   {
    "duration": 974,
    "start_time": "2022-07-20T12:31:36.106Z"
   },
   {
    "duration": 4,
    "start_time": "2022-07-20T12:31:37.082Z"
   },
   {
    "duration": 30,
    "start_time": "2022-07-20T12:31:37.087Z"
   },
   {
    "duration": 28,
    "start_time": "2022-07-20T12:31:37.119Z"
   },
   {
    "duration": 6,
    "start_time": "2022-07-20T12:31:37.148Z"
   },
   {
    "duration": 6,
    "start_time": "2022-07-20T12:31:37.156Z"
   },
   {
    "duration": 17,
    "start_time": "2022-07-20T12:31:37.163Z"
   },
   {
    "duration": 18,
    "start_time": "2022-07-20T12:31:37.182Z"
   },
   {
    "duration": 14,
    "start_time": "2022-07-20T12:31:37.202Z"
   },
   {
    "duration": 36,
    "start_time": "2022-07-20T12:31:37.217Z"
   },
   {
    "duration": 18,
    "start_time": "2022-07-20T12:31:37.255Z"
   },
   {
    "duration": 33,
    "start_time": "2022-07-20T12:31:37.274Z"
   },
   {
    "duration": 13,
    "start_time": "2022-07-20T12:31:37.308Z"
   },
   {
    "duration": 26,
    "start_time": "2022-07-20T12:31:37.322Z"
   },
   {
    "duration": 14,
    "start_time": "2022-07-20T12:31:37.350Z"
   },
   {
    "duration": 8,
    "start_time": "2022-07-20T12:31:37.366Z"
   },
   {
    "duration": 51,
    "start_time": "2022-07-20T12:31:37.375Z"
   },
   {
    "duration": 147,
    "start_time": "2022-07-20T12:31:37.427Z"
   },
   {
    "duration": 0,
    "start_time": "2022-07-20T12:31:37.575Z"
   },
   {
    "duration": 6,
    "start_time": "2022-07-20T12:33:38.301Z"
   },
   {
    "duration": 1556,
    "start_time": "2022-07-20T12:33:49.244Z"
   },
   {
    "duration": 0,
    "start_time": "2022-07-20T12:33:50.802Z"
   },
   {
    "duration": 6,
    "start_time": "2022-07-20T12:34:06.123Z"
   },
   {
    "duration": 5,
    "start_time": "2022-07-20T12:34:14.665Z"
   },
   {
    "duration": 1400,
    "start_time": "2022-07-20T12:34:34.887Z"
   },
   {
    "duration": 8,
    "start_time": "2022-07-20T12:35:10.271Z"
   },
   {
    "duration": 11,
    "start_time": "2022-07-20T12:35:19.573Z"
   },
   {
    "duration": 10,
    "start_time": "2022-07-20T12:35:44.054Z"
   },
   {
    "duration": 7958,
    "start_time": "2022-07-20T12:35:48.547Z"
   },
   {
    "duration": 5,
    "start_time": "2022-07-20T12:41:24.788Z"
   },
   {
    "duration": 4,
    "start_time": "2022-07-20T12:41:40.867Z"
   },
   {
    "duration": 5,
    "start_time": "2022-07-20T12:41:41.951Z"
   },
   {
    "duration": 8,
    "start_time": "2022-07-20T12:41:42.323Z"
   },
   {
    "duration": 3,
    "start_time": "2022-07-20T12:42:44.719Z"
   },
   {
    "duration": 5,
    "start_time": "2022-07-20T12:42:45.086Z"
   },
   {
    "duration": 4,
    "start_time": "2022-07-20T12:42:56.600Z"
   },
   {
    "duration": 13,
    "start_time": "2022-07-20T12:43:13.676Z"
   },
   {
    "duration": 4,
    "start_time": "2022-07-20T12:43:39.142Z"
   },
   {
    "duration": 3,
    "start_time": "2022-07-20T12:43:43.745Z"
   },
   {
    "duration": 3,
    "start_time": "2022-07-20T12:43:57.843Z"
   },
   {
    "duration": 4,
    "start_time": "2022-07-20T12:43:58.590Z"
   },
   {
    "duration": 7,
    "start_time": "2022-07-20T12:43:58.992Z"
   },
   {
    "duration": 6,
    "start_time": "2022-07-20T12:45:19.061Z"
   },
   {
    "duration": 4,
    "start_time": "2022-07-20T12:45:44.111Z"
   },
   {
    "duration": 4,
    "start_time": "2022-07-20T12:46:11.996Z"
   },
   {
    "duration": 5,
    "start_time": "2022-07-20T12:46:27.892Z"
   },
   {
    "duration": 10,
    "start_time": "2022-07-20T12:46:54.678Z"
   },
   {
    "duration": 5,
    "start_time": "2022-07-20T12:49:17.442Z"
   },
   {
    "duration": 12,
    "start_time": "2022-07-20T12:53:10.660Z"
   },
   {
    "duration": 7948,
    "start_time": "2022-07-20T13:10:37.059Z"
   },
   {
    "duration": 12,
    "start_time": "2022-07-20T13:11:16.064Z"
   },
   {
    "duration": 9,
    "start_time": "2022-07-20T13:19:24.083Z"
   },
   {
    "duration": 21,
    "start_time": "2022-07-20T13:19:55.648Z"
   },
   {
    "duration": 7601,
    "start_time": "2022-07-20T13:21:42.156Z"
   },
   {
    "duration": 7,
    "start_time": "2022-07-20T13:21:49.759Z"
   },
   {
    "duration": 1432,
    "start_time": "2022-07-22T11:04:30.880Z"
   },
   {
    "duration": 171,
    "start_time": "2022-07-22T11:04:32.314Z"
   },
   {
    "duration": 22,
    "start_time": "2022-07-22T11:04:32.488Z"
   },
   {
    "duration": 32,
    "start_time": "2022-07-22T11:04:32.513Z"
   },
   {
    "duration": 99,
    "start_time": "2022-07-22T11:04:32.546Z"
   },
   {
    "duration": 11,
    "start_time": "2022-07-22T11:04:32.647Z"
   },
   {
    "duration": 1218,
    "start_time": "2022-07-22T11:04:32.659Z"
   },
   {
    "duration": 5,
    "start_time": "2022-07-22T11:04:33.879Z"
   },
   {
    "duration": 31,
    "start_time": "2022-07-22T11:04:33.886Z"
   },
   {
    "duration": 39,
    "start_time": "2022-07-22T11:04:33.921Z"
   },
   {
    "duration": 7,
    "start_time": "2022-07-22T11:04:33.962Z"
   },
   {
    "duration": 9,
    "start_time": "2022-07-22T11:04:33.971Z"
   },
   {
    "duration": 7,
    "start_time": "2022-07-22T11:04:33.982Z"
   },
   {
    "duration": 17,
    "start_time": "2022-07-22T11:04:33.991Z"
   },
   {
    "duration": 5,
    "start_time": "2022-07-22T11:04:34.010Z"
   },
   {
    "duration": 12,
    "start_time": "2022-07-22T11:04:34.017Z"
   },
   {
    "duration": 10,
    "start_time": "2022-07-22T11:04:34.031Z"
   },
   {
    "duration": 6,
    "start_time": "2022-07-22T11:04:34.043Z"
   },
   {
    "duration": 9,
    "start_time": "2022-07-22T11:04:34.051Z"
   },
   {
    "duration": 8,
    "start_time": "2022-07-22T11:04:34.062Z"
   },
   {
    "duration": 35,
    "start_time": "2022-07-22T11:04:34.073Z"
   },
   {
    "duration": 12,
    "start_time": "2022-07-22T11:04:34.110Z"
   },
   {
    "duration": 12,
    "start_time": "2022-07-22T11:04:34.124Z"
   },
   {
    "duration": 17,
    "start_time": "2022-07-22T11:04:34.139Z"
   },
   {
    "duration": 6,
    "start_time": "2022-07-22T11:04:34.158Z"
   },
   {
    "duration": 5,
    "start_time": "2022-07-22T11:04:34.166Z"
   },
   {
    "duration": 9,
    "start_time": "2022-07-22T11:04:34.172Z"
   },
   {
    "duration": 8,
    "start_time": "2022-07-22T11:04:34.206Z"
   },
   {
    "duration": 54,
    "start_time": "2022-07-22T11:04:34.217Z"
   },
   {
    "duration": 5,
    "start_time": "2022-07-22T11:04:34.274Z"
   },
   {
    "duration": 10044,
    "start_time": "2022-07-22T11:04:34.305Z"
   },
   {
    "duration": 5,
    "start_time": "2022-07-22T11:04:44.351Z"
   },
   {
    "duration": 41,
    "start_time": "2022-07-22T11:04:44.358Z"
   },
   {
    "duration": 23,
    "start_time": "2022-07-22T11:04:44.401Z"
   },
   {
    "duration": 90,
    "start_time": "2022-07-22T11:05:35.051Z"
   },
   {
    "duration": 1300,
    "start_time": "2022-07-22T11:05:45.774Z"
   },
   {
    "duration": 100,
    "start_time": "2022-07-22T11:05:47.076Z"
   },
   {
    "duration": 10042,
    "start_time": "2022-07-22T11:05:47.178Z"
   },
   {
    "duration": 23,
    "start_time": "2022-07-22T11:05:57.223Z"
   },
   {
    "duration": 36,
    "start_time": "2022-07-22T11:05:57.248Z"
   },
   {
    "duration": 100,
    "start_time": "2022-07-22T11:05:57.305Z"
   },
   {
    "duration": 9,
    "start_time": "2022-07-22T11:05:57.407Z"
   },
   {
    "duration": 1145,
    "start_time": "2022-07-22T11:05:57.418Z"
   },
   {
    "duration": 5,
    "start_time": "2022-07-22T11:05:58.565Z"
   },
   {
    "duration": 14,
    "start_time": "2022-07-22T11:05:58.573Z"
   },
   {
    "duration": 45,
    "start_time": "2022-07-22T11:05:58.589Z"
   },
   {
    "duration": 7,
    "start_time": "2022-07-22T11:05:58.636Z"
   },
   {
    "duration": 6,
    "start_time": "2022-07-22T11:05:58.645Z"
   },
   {
    "duration": 6,
    "start_time": "2022-07-22T11:05:58.653Z"
   },
   {
    "duration": 6,
    "start_time": "2022-07-22T11:05:58.661Z"
   },
   {
    "duration": 35,
    "start_time": "2022-07-22T11:05:58.669Z"
   },
   {
    "duration": 8,
    "start_time": "2022-07-22T11:05:58.706Z"
   },
   {
    "duration": 10,
    "start_time": "2022-07-22T11:05:58.715Z"
   },
   {
    "duration": 5,
    "start_time": "2022-07-22T11:05:58.727Z"
   },
   {
    "duration": 7,
    "start_time": "2022-07-22T11:05:58.734Z"
   },
   {
    "duration": 5,
    "start_time": "2022-07-22T11:05:58.744Z"
   },
   {
    "duration": 6,
    "start_time": "2022-07-22T11:05:58.751Z"
   },
   {
    "duration": 44,
    "start_time": "2022-07-22T11:05:58.760Z"
   },
   {
    "duration": 11,
    "start_time": "2022-07-22T11:05:58.806Z"
   },
   {
    "duration": 14,
    "start_time": "2022-07-22T11:05:58.819Z"
   },
   {
    "duration": 4,
    "start_time": "2022-07-22T11:05:58.835Z"
   },
   {
    "duration": 8,
    "start_time": "2022-07-22T11:05:58.841Z"
   },
   {
    "duration": 9,
    "start_time": "2022-07-22T11:05:58.854Z"
   },
   {
    "duration": 8,
    "start_time": "2022-07-22T11:05:58.867Z"
   },
   {
    "duration": 61,
    "start_time": "2022-07-22T11:05:58.903Z"
   },
   {
    "duration": 5,
    "start_time": "2022-07-22T11:05:58.966Z"
   },
   {
    "duration": 9403,
    "start_time": "2022-07-22T11:05:58.973Z"
   },
   {
    "duration": 8,
    "start_time": "2022-07-22T11:06:08.377Z"
   },
   {
    "duration": 32,
    "start_time": "2022-07-22T11:06:08.388Z"
   },
   {
    "duration": 61,
    "start_time": "2022-07-22T11:06:08.423Z"
   },
   {
    "duration": 1270,
    "start_time": "2022-07-22T11:09:32.272Z"
   },
   {
    "duration": 92,
    "start_time": "2022-07-22T11:09:33.544Z"
   },
   {
    "duration": 17,
    "start_time": "2022-07-22T11:09:33.637Z"
   },
   {
    "duration": 29,
    "start_time": "2022-07-22T11:09:33.656Z"
   },
   {
    "duration": 93,
    "start_time": "2022-07-22T11:09:33.686Z"
   },
   {
    "duration": 25,
    "start_time": "2022-07-22T11:09:33.781Z"
   },
   {
    "duration": 1056,
    "start_time": "2022-07-22T11:09:33.807Z"
   },
   {
    "duration": 5,
    "start_time": "2022-07-22T11:09:34.864Z"
   },
   {
    "duration": 8,
    "start_time": "2022-07-22T11:09:34.871Z"
   },
   {
    "duration": 41,
    "start_time": "2022-07-22T11:09:34.882Z"
   },
   {
    "duration": 5,
    "start_time": "2022-07-22T11:09:34.924Z"
   },
   {
    "duration": 5,
    "start_time": "2022-07-22T11:09:34.930Z"
   },
   {
    "duration": 5,
    "start_time": "2022-07-22T11:09:34.936Z"
   },
   {
    "duration": 9,
    "start_time": "2022-07-22T11:09:34.942Z"
   },
   {
    "duration": 7,
    "start_time": "2022-07-22T11:09:34.952Z"
   },
   {
    "duration": 5,
    "start_time": "2022-07-22T11:09:34.961Z"
   },
   {
    "duration": 172,
    "start_time": "2022-07-22T11:09:34.968Z"
   },
   {
    "duration": 8,
    "start_time": "2022-07-22T11:09:35.142Z"
   },
   {
    "duration": 12,
    "start_time": "2022-07-22T11:09:35.152Z"
   },
   {
    "duration": 10,
    "start_time": "2022-07-22T11:09:35.166Z"
   },
   {
    "duration": 9,
    "start_time": "2022-07-22T11:09:35.178Z"
   },
   {
    "duration": 13,
    "start_time": "2022-07-22T11:09:35.189Z"
   },
   {
    "duration": 7,
    "start_time": "2022-07-22T11:09:35.203Z"
   },
   {
    "duration": 13,
    "start_time": "2022-07-22T11:09:35.211Z"
   },
   {
    "duration": 42,
    "start_time": "2022-07-22T11:09:35.225Z"
   },
   {
    "duration": 32,
    "start_time": "2022-07-22T11:09:35.269Z"
   },
   {
    "duration": 9,
    "start_time": "2022-07-22T11:09:35.302Z"
   },
   {
    "duration": 11,
    "start_time": "2022-07-22T11:09:35.314Z"
   },
   {
    "duration": 84,
    "start_time": "2022-07-22T11:09:35.327Z"
   },
   {
    "duration": 6,
    "start_time": "2022-07-22T11:09:35.412Z"
   },
   {
    "duration": 8399,
    "start_time": "2022-07-22T11:09:35.420Z"
   },
   {
    "duration": 9,
    "start_time": "2022-07-22T11:09:43.820Z"
   },
   {
    "duration": 14,
    "start_time": "2022-07-22T11:09:43.831Z"
   },
   {
    "duration": 23,
    "start_time": "2022-07-22T11:09:43.846Z"
   },
   {
    "duration": 55,
    "start_time": "2022-07-22T13:26:26.121Z"
   },
   {
    "duration": 1323,
    "start_time": "2022-07-22T13:26:33.276Z"
   },
   {
    "duration": 338,
    "start_time": "2022-07-22T13:26:34.601Z"
   },
   {
    "duration": 15,
    "start_time": "2022-07-22T13:26:34.941Z"
   },
   {
    "duration": 3,
    "start_time": "2022-07-22T13:26:36.172Z"
   },
   {
    "duration": 23,
    "start_time": "2022-07-22T13:26:37.481Z"
   },
   {
    "duration": 3,
    "start_time": "2022-07-22T13:27:03.977Z"
   },
   {
    "duration": 84,
    "start_time": "2022-07-22T13:27:04.801Z"
   },
   {
    "duration": 14,
    "start_time": "2022-07-22T13:27:05.413Z"
   },
   {
    "duration": 24,
    "start_time": "2022-07-22T13:27:06.721Z"
   },
   {
    "duration": 3,
    "start_time": "2022-07-22T13:27:16.756Z"
   },
   {
    "duration": 24,
    "start_time": "2022-07-22T13:27:17.168Z"
   },
   {
    "duration": 1838,
    "start_time": "2022-07-22T13:28:59.678Z"
   },
   {
    "duration": 62,
    "start_time": "2022-07-24T18:25:51.007Z"
   },
   {
    "duration": 1460,
    "start_time": "2022-07-24T18:26:07.831Z"
   },
   {
    "duration": 352,
    "start_time": "2022-07-24T18:26:09.293Z"
   },
   {
    "duration": 18,
    "start_time": "2022-07-24T18:26:09.647Z"
   },
   {
    "duration": 3,
    "start_time": "2022-07-24T18:26:09.666Z"
   },
   {
    "duration": 29,
    "start_time": "2022-07-24T18:26:09.671Z"
   },
   {
    "duration": 77,
    "start_time": "2022-07-24T18:26:09.701Z"
   },
   {
    "duration": 2056,
    "start_time": "2022-07-24T18:26:09.779Z"
   },
   {
    "duration": 12,
    "start_time": "2022-07-24T18:26:11.847Z"
   },
   {
    "duration": 1205,
    "start_time": "2022-07-24T18:26:11.861Z"
   },
   {
    "duration": 4,
    "start_time": "2022-07-24T18:26:13.069Z"
   },
   {
    "duration": 8,
    "start_time": "2022-07-24T18:26:13.074Z"
   },
   {
    "duration": 22,
    "start_time": "2022-07-24T18:26:13.084Z"
   },
   {
    "duration": 24,
    "start_time": "2022-07-24T18:26:13.108Z"
   },
   {
    "duration": 13,
    "start_time": "2022-07-24T18:26:13.140Z"
   },
   {
    "duration": 5,
    "start_time": "2022-07-24T18:26:13.155Z"
   },
   {
    "duration": 8,
    "start_time": "2022-07-24T18:26:13.162Z"
   },
   {
    "duration": 6,
    "start_time": "2022-07-24T18:26:13.172Z"
   },
   {
    "duration": 5,
    "start_time": "2022-07-24T18:26:13.179Z"
   },
   {
    "duration": 7,
    "start_time": "2022-07-24T18:26:13.186Z"
   },
   {
    "duration": 5,
    "start_time": "2022-07-24T18:26:13.194Z"
   },
   {
    "duration": 33,
    "start_time": "2022-07-24T18:26:13.201Z"
   },
   {
    "duration": 21,
    "start_time": "2022-07-24T18:26:13.237Z"
   },
   {
    "duration": 10,
    "start_time": "2022-07-24T18:26:13.260Z"
   },
   {
    "duration": 10,
    "start_time": "2022-07-24T18:26:13.271Z"
   },
   {
    "duration": 7,
    "start_time": "2022-07-24T18:26:13.283Z"
   },
   {
    "duration": 7,
    "start_time": "2022-07-24T18:26:13.291Z"
   },
   {
    "duration": 6,
    "start_time": "2022-07-24T18:26:13.300Z"
   },
   {
    "duration": 9,
    "start_time": "2022-07-24T18:26:13.307Z"
   },
   {
    "duration": 30,
    "start_time": "2022-07-24T18:26:13.318Z"
   },
   {
    "duration": 19,
    "start_time": "2022-07-24T18:26:13.350Z"
   },
   {
    "duration": 34,
    "start_time": "2022-07-24T18:26:13.371Z"
   },
   {
    "duration": 4,
    "start_time": "2022-07-24T18:26:13.407Z"
   },
   {
    "duration": 8294,
    "start_time": "2022-07-24T18:26:13.412Z"
   },
   {
    "duration": 17,
    "start_time": "2022-07-24T18:26:21.708Z"
   },
   {
    "duration": 17,
    "start_time": "2022-07-24T18:26:21.732Z"
   },
   {
    "duration": 29,
    "start_time": "2022-07-24T18:26:21.752Z"
   },
   {
    "duration": 4,
    "start_time": "2022-07-24T18:26:46.052Z"
   },
   {
    "duration": 3,
    "start_time": "2022-07-24T18:26:48.190Z"
   },
   {
    "duration": 4,
    "start_time": "2022-07-24T18:26:48.412Z"
   },
   {
    "duration": 4,
    "start_time": "2022-07-24T18:30:17.742Z"
   },
   {
    "duration": 5,
    "start_time": "2022-07-24T18:30:42.198Z"
   },
   {
    "duration": 1416,
    "start_time": "2022-07-25T08:50:29.220Z"
   },
   {
    "duration": 157,
    "start_time": "2022-07-25T08:50:30.639Z"
   },
   {
    "duration": 17,
    "start_time": "2022-07-25T08:50:30.798Z"
   },
   {
    "duration": 7,
    "start_time": "2022-07-25T08:50:30.817Z"
   },
   {
    "duration": 54,
    "start_time": "2022-07-25T08:50:30.827Z"
   },
   {
    "duration": 104,
    "start_time": "2022-07-25T08:50:30.883Z"
   },
   {
    "duration": 2054,
    "start_time": "2022-07-25T08:50:30.989Z"
   },
   {
    "duration": 9,
    "start_time": "2022-07-25T08:50:33.045Z"
   },
   {
    "duration": 1135,
    "start_time": "2022-07-25T08:50:33.055Z"
   },
   {
    "duration": 4,
    "start_time": "2022-07-25T08:50:34.192Z"
   },
   {
    "duration": 12,
    "start_time": "2022-07-25T08:50:34.198Z"
   },
   {
    "duration": 42,
    "start_time": "2022-07-25T08:50:34.212Z"
   },
   {
    "duration": 31,
    "start_time": "2022-07-25T08:50:34.256Z"
   },
   {
    "duration": 8,
    "start_time": "2022-07-25T08:50:34.290Z"
   },
   {
    "duration": 14,
    "start_time": "2022-07-25T08:50:34.302Z"
   },
   {
    "duration": 6,
    "start_time": "2022-07-25T08:50:34.318Z"
   },
   {
    "duration": 6,
    "start_time": "2022-07-25T08:50:34.326Z"
   },
   {
    "duration": 8,
    "start_time": "2022-07-25T08:50:34.333Z"
   },
   {
    "duration": 12,
    "start_time": "2022-07-25T08:50:34.342Z"
   },
   {
    "duration": 18,
    "start_time": "2022-07-25T08:50:34.355Z"
   },
   {
    "duration": 14,
    "start_time": "2022-07-25T08:50:34.374Z"
   },
   {
    "duration": 7,
    "start_time": "2022-07-25T08:50:34.390Z"
   },
   {
    "duration": 10,
    "start_time": "2022-07-25T08:50:34.399Z"
   },
   {
    "duration": 13,
    "start_time": "2022-07-25T08:50:34.411Z"
   },
   {
    "duration": 8,
    "start_time": "2022-07-25T08:50:34.426Z"
   },
   {
    "duration": 8,
    "start_time": "2022-07-25T08:50:34.435Z"
   },
   {
    "duration": 9,
    "start_time": "2022-07-25T08:50:34.444Z"
   },
   {
    "duration": 29,
    "start_time": "2022-07-25T08:50:34.454Z"
   },
   {
    "duration": 8,
    "start_time": "2022-07-25T08:50:34.484Z"
   },
   {
    "duration": 9,
    "start_time": "2022-07-25T08:50:34.494Z"
   },
   {
    "duration": 32,
    "start_time": "2022-07-25T08:50:34.505Z"
   },
   {
    "duration": 16,
    "start_time": "2022-07-25T08:50:34.539Z"
   },
   {
    "duration": 7998,
    "start_time": "2022-07-25T08:50:34.557Z"
   },
   {
    "duration": 9,
    "start_time": "2022-07-25T08:50:42.557Z"
   },
   {
    "duration": 18,
    "start_time": "2022-07-25T08:50:42.568Z"
   },
   {
    "duration": 30,
    "start_time": "2022-07-25T08:50:42.588Z"
   },
   {
    "duration": 5,
    "start_time": "2022-07-25T08:50:46.506Z"
   },
   {
    "duration": 6,
    "start_time": "2022-07-25T08:50:47.973Z"
   },
   {
    "duration": 3,
    "start_time": "2022-07-25T08:50:49.992Z"
   },
   {
    "duration": 5,
    "start_time": "2022-07-25T08:55:49.184Z"
   },
   {
    "duration": 6,
    "start_time": "2022-07-25T08:55:50.119Z"
   },
   {
    "duration": 6,
    "start_time": "2022-07-25T08:56:31.977Z"
   },
   {
    "duration": 6,
    "start_time": "2022-07-25T08:56:32.926Z"
   },
   {
    "duration": 7,
    "start_time": "2022-07-25T09:00:39.969Z"
   },
   {
    "duration": 8,
    "start_time": "2022-07-25T09:00:41.965Z"
   },
   {
    "duration": 1065,
    "start_time": "2022-07-25T09:01:03.374Z"
   },
   {
    "duration": 81,
    "start_time": "2022-07-25T09:01:04.441Z"
   },
   {
    "duration": 13,
    "start_time": "2022-07-25T09:01:04.524Z"
   },
   {
    "duration": 3,
    "start_time": "2022-07-25T09:01:04.539Z"
   },
   {
    "duration": 29,
    "start_time": "2022-07-25T09:01:04.543Z"
   },
   {
    "duration": 85,
    "start_time": "2022-07-25T09:01:04.574Z"
   },
   {
    "duration": 1899,
    "start_time": "2022-07-25T09:01:04.660Z"
   },
   {
    "duration": 9,
    "start_time": "2022-07-25T09:01:06.561Z"
   },
   {
    "duration": 1059,
    "start_time": "2022-07-25T09:01:06.572Z"
   },
   {
    "duration": 5,
    "start_time": "2022-07-25T09:01:07.634Z"
   },
   {
    "duration": 16,
    "start_time": "2022-07-25T09:01:07.640Z"
   },
   {
    "duration": 24,
    "start_time": "2022-07-25T09:01:07.657Z"
   },
   {
    "duration": 4,
    "start_time": "2022-07-25T09:01:07.683Z"
   },
   {
    "duration": 6,
    "start_time": "2022-07-25T09:01:07.688Z"
   },
   {
    "duration": 6,
    "start_time": "2022-07-25T09:01:07.696Z"
   },
   {
    "duration": 6,
    "start_time": "2022-07-25T09:01:07.704Z"
   },
   {
    "duration": 11,
    "start_time": "2022-07-25T09:01:07.711Z"
   },
   {
    "duration": 28,
    "start_time": "2022-07-25T09:01:07.724Z"
   },
   {
    "duration": 12,
    "start_time": "2022-07-25T09:01:07.754Z"
   },
   {
    "duration": 9,
    "start_time": "2022-07-25T09:01:07.768Z"
   },
   {
    "duration": 9,
    "start_time": "2022-07-25T09:01:07.778Z"
   },
   {
    "duration": 6,
    "start_time": "2022-07-25T09:01:07.789Z"
   },
   {
    "duration": 8,
    "start_time": "2022-07-25T09:01:07.797Z"
   },
   {
    "duration": 15,
    "start_time": "2022-07-25T09:01:07.806Z"
   },
   {
    "duration": 31,
    "start_time": "2022-07-25T09:01:07.822Z"
   },
   {
    "duration": 8,
    "start_time": "2022-07-25T09:01:07.855Z"
   },
   {
    "duration": 5,
    "start_time": "2022-07-25T09:01:07.865Z"
   },
   {
    "duration": 4,
    "start_time": "2022-07-25T09:01:07.874Z"
   },
   {
    "duration": 14,
    "start_time": "2022-07-25T09:01:07.880Z"
   },
   {
    "duration": 10,
    "start_time": "2022-07-25T09:01:07.896Z"
   },
   {
    "duration": 58,
    "start_time": "2022-07-25T09:01:07.907Z"
   },
   {
    "duration": 5,
    "start_time": "2022-07-25T09:01:07.966Z"
   },
   {
    "duration": 8129,
    "start_time": "2022-07-25T09:01:07.973Z"
   },
   {
    "duration": 10,
    "start_time": "2022-07-25T09:01:16.104Z"
   },
   {
    "duration": 15,
    "start_time": "2022-07-25T09:01:16.116Z"
   },
   {
    "duration": 40,
    "start_time": "2022-07-25T09:01:16.132Z"
   },
   {
    "duration": 4,
    "start_time": "2022-07-25T09:01:40.780Z"
   },
   {
    "duration": 5,
    "start_time": "2022-07-25T09:04:16.463Z"
   },
   {
    "duration": 4,
    "start_time": "2022-07-25T09:04:44.544Z"
   },
   {
    "duration": 1575,
    "start_time": "2022-07-25T09:07:18.625Z"
   },
   {
    "duration": 9,
    "start_time": "2022-07-25T09:07:49.699Z"
   },
   {
    "duration": 2968,
    "start_time": "2022-07-25T09:08:16.151Z"
   },
   {
    "duration": 3,
    "start_time": "2022-07-25T09:08:30.460Z"
   },
   {
    "duration": 1058,
    "start_time": "2022-07-25T09:08:38.400Z"
   },
   {
    "duration": 83,
    "start_time": "2022-07-25T09:08:39.460Z"
   },
   {
    "duration": 16,
    "start_time": "2022-07-25T09:08:39.544Z"
   },
   {
    "duration": 3,
    "start_time": "2022-07-25T09:08:39.562Z"
   },
   {
    "duration": 26,
    "start_time": "2022-07-25T09:08:39.566Z"
   },
   {
    "duration": 84,
    "start_time": "2022-07-25T09:08:39.593Z"
   },
   {
    "duration": 1832,
    "start_time": "2022-07-25T09:08:39.679Z"
   },
   {
    "duration": 9,
    "start_time": "2022-07-25T09:08:41.512Z"
   },
   {
    "duration": 1054,
    "start_time": "2022-07-25T09:08:41.522Z"
   },
   {
    "duration": 5,
    "start_time": "2022-07-25T09:08:42.580Z"
   },
   {
    "duration": 11,
    "start_time": "2022-07-25T09:08:42.586Z"
   },
   {
    "duration": 30,
    "start_time": "2022-07-25T09:08:42.598Z"
   },
   {
    "duration": 22,
    "start_time": "2022-07-25T09:08:42.630Z"
   },
   {
    "duration": 10,
    "start_time": "2022-07-25T09:08:42.661Z"
   },
   {
    "duration": 28,
    "start_time": "2022-07-25T09:08:42.673Z"
   },
   {
    "duration": 11,
    "start_time": "2022-07-25T09:08:42.703Z"
   },
   {
    "duration": 10,
    "start_time": "2022-07-25T09:08:42.716Z"
   },
   {
    "duration": 9,
    "start_time": "2022-07-25T09:08:42.728Z"
   },
   {
    "duration": 16,
    "start_time": "2022-07-25T09:08:42.739Z"
   },
   {
    "duration": 12,
    "start_time": "2022-07-25T09:08:42.757Z"
   },
   {
    "duration": 9,
    "start_time": "2022-07-25T09:08:42.771Z"
   },
   {
    "duration": 3164,
    "start_time": "2022-07-25T09:08:42.782Z"
   },
   {
    "duration": 5,
    "start_time": "2022-07-25T09:08:45.947Z"
   },
   {
    "duration": 29,
    "start_time": "2022-07-25T09:08:45.954Z"
   },
   {
    "duration": 31,
    "start_time": "2022-07-25T09:08:45.984Z"
   },
   {
    "duration": 53,
    "start_time": "2022-07-25T09:08:46.017Z"
   },
   {
    "duration": 15,
    "start_time": "2022-07-25T09:08:46.072Z"
   },
   {
    "duration": 8,
    "start_time": "2022-07-25T09:08:46.091Z"
   },
   {
    "duration": 5,
    "start_time": "2022-07-25T09:08:46.101Z"
   },
   {
    "duration": 11,
    "start_time": "2022-07-25T09:08:46.107Z"
   },
   {
    "duration": 21,
    "start_time": "2022-07-25T09:08:46.120Z"
   },
   {
    "duration": 50,
    "start_time": "2022-07-25T09:08:46.144Z"
   },
   {
    "duration": 5,
    "start_time": "2022-07-25T09:08:46.196Z"
   },
   {
    "duration": 9450,
    "start_time": "2022-07-25T09:08:46.203Z"
   },
   {
    "duration": 9,
    "start_time": "2022-07-25T09:08:55.654Z"
   },
   {
    "duration": 13,
    "start_time": "2022-07-25T09:08:55.665Z"
   },
   {
    "duration": 21,
    "start_time": "2022-07-25T09:08:55.680Z"
   },
   {
    "duration": 7,
    "start_time": "2022-07-25T09:09:45.201Z"
   },
   {
    "duration": 32,
    "start_time": "2022-07-25T09:10:45.853Z"
   },
   {
    "duration": 6,
    "start_time": "2022-07-25T09:12:00.682Z"
   },
   {
    "duration": 8,
    "start_time": "2022-07-25T09:12:41.260Z"
   },
   {
    "duration": 107,
    "start_time": "2022-07-25T09:15:15.050Z"
   },
   {
    "duration": 13,
    "start_time": "2022-07-25T09:16:13.575Z"
   },
   {
    "duration": 5,
    "start_time": "2022-07-25T09:16:40.062Z"
   },
   {
    "duration": 2622,
    "start_time": "2022-07-25T09:18:11.909Z"
   },
   {
    "duration": 6,
    "start_time": "2022-07-25T09:18:22.412Z"
   },
   {
    "duration": 3432,
    "start_time": "2022-07-25T09:18:48.300Z"
   },
   {
    "duration": 3252,
    "start_time": "2022-07-25T09:18:54.809Z"
   },
   {
    "duration": 2,
    "start_time": "2022-07-25T09:18:58.063Z"
   },
   {
    "duration": 7,
    "start_time": "2022-07-25T09:18:58.067Z"
   },
   {
    "duration": 19,
    "start_time": "2022-07-25T09:19:54.657Z"
   },
   {
    "duration": 3,
    "start_time": "2022-07-25T09:19:54.954Z"
   },
   {
    "duration": 91,
    "start_time": "2022-07-25T09:21:19.995Z"
   },
   {
    "duration": 17,
    "start_time": "2022-07-25T09:21:43.328Z"
   },
   {
    "duration": 13,
    "start_time": "2022-07-25T09:22:13.634Z"
   },
   {
    "duration": 5,
    "start_time": "2022-07-25T09:24:44.938Z"
   },
   {
    "duration": 5,
    "start_time": "2022-07-25T09:24:57.121Z"
   },
   {
    "duration": 12,
    "start_time": "2022-07-25T09:25:46.075Z"
   },
   {
    "duration": 4,
    "start_time": "2022-07-25T09:25:57.223Z"
   },
   {
    "duration": 6,
    "start_time": "2022-07-25T09:28:03.801Z"
   },
   {
    "duration": 7,
    "start_time": "2022-07-25T09:28:16.529Z"
   },
   {
    "duration": 6,
    "start_time": "2022-07-25T09:33:09.782Z"
   },
   {
    "duration": 6,
    "start_time": "2022-07-25T09:33:10.142Z"
   },
   {
    "duration": 4,
    "start_time": "2022-07-25T09:33:23.516Z"
   },
   {
    "duration": 6,
    "start_time": "2022-07-25T09:33:23.918Z"
   },
   {
    "duration": 6,
    "start_time": "2022-07-25T09:33:25.120Z"
   },
   {
    "duration": 5,
    "start_time": "2022-07-25T09:33:25.501Z"
   },
   {
    "duration": 28,
    "start_time": "2022-07-25T09:36:16.389Z"
   },
   {
    "duration": 5,
    "start_time": "2022-07-25T09:36:53.739Z"
   },
   {
    "duration": 4,
    "start_time": "2022-07-25T09:37:28.806Z"
   },
   {
    "duration": 6,
    "start_time": "2022-07-25T09:37:35.366Z"
   },
   {
    "duration": 8,
    "start_time": "2022-07-25T09:40:02.868Z"
   },
   {
    "duration": 12,
    "start_time": "2022-07-25T09:40:08.993Z"
   },
   {
    "duration": 10,
    "start_time": "2022-07-25T09:40:19.684Z"
   },
   {
    "duration": 15,
    "start_time": "2022-07-25T09:40:48.321Z"
   },
   {
    "duration": 10,
    "start_time": "2022-07-25T09:41:02.224Z"
   },
   {
    "duration": 14,
    "start_time": "2022-07-25T09:42:14.027Z"
   },
   {
    "duration": 15,
    "start_time": "2022-07-25T09:42:20.675Z"
   },
   {
    "duration": 12,
    "start_time": "2022-07-25T09:42:34.437Z"
   },
   {
    "duration": 12,
    "start_time": "2022-07-25T09:42:40.798Z"
   },
   {
    "duration": 13,
    "start_time": "2022-07-25T09:43:06.372Z"
   },
   {
    "duration": 17,
    "start_time": "2022-07-25T09:43:48.844Z"
   },
   {
    "duration": 3,
    "start_time": "2022-07-25T09:46:59.104Z"
   },
   {
    "duration": 13,
    "start_time": "2022-07-25T12:56:44.794Z"
   },
   {
    "duration": 1091,
    "start_time": "2022-07-25T12:57:03.115Z"
   },
   {
    "duration": 93,
    "start_time": "2022-07-25T12:57:04.208Z"
   },
   {
    "duration": 15,
    "start_time": "2022-07-25T12:57:04.303Z"
   },
   {
    "duration": 3,
    "start_time": "2022-07-25T12:57:04.320Z"
   },
   {
    "duration": 43,
    "start_time": "2022-07-25T12:57:04.325Z"
   },
   {
    "duration": 82,
    "start_time": "2022-07-25T12:57:04.375Z"
   },
   {
    "duration": 2183,
    "start_time": "2022-07-25T12:57:04.460Z"
   },
   {
    "duration": 11,
    "start_time": "2022-07-25T12:57:06.644Z"
   },
   {
    "duration": 1163,
    "start_time": "2022-07-25T12:57:06.657Z"
   },
   {
    "duration": 4,
    "start_time": "2022-07-25T12:57:07.822Z"
   },
   {
    "duration": 13,
    "start_time": "2022-07-25T12:57:07.828Z"
   },
   {
    "duration": 45,
    "start_time": "2022-07-25T12:57:07.843Z"
   },
   {
    "duration": 4,
    "start_time": "2022-07-25T12:57:07.890Z"
   },
   {
    "duration": 13,
    "start_time": "2022-07-25T12:57:07.895Z"
   },
   {
    "duration": 29,
    "start_time": "2022-07-25T12:57:07.910Z"
   },
   {
    "duration": 16,
    "start_time": "2022-07-25T12:57:07.940Z"
   },
   {
    "duration": 11,
    "start_time": "2022-07-25T12:57:07.960Z"
   },
   {
    "duration": 16,
    "start_time": "2022-07-25T12:57:07.974Z"
   },
   {
    "duration": 18,
    "start_time": "2022-07-25T12:57:07.991Z"
   },
   {
    "duration": 10,
    "start_time": "2022-07-25T12:57:08.011Z"
   },
   {
    "duration": 23,
    "start_time": "2022-07-25T12:57:08.023Z"
   },
   {
    "duration": 3226,
    "start_time": "2022-07-25T12:57:08.048Z"
   },
   {
    "duration": 5,
    "start_time": "2022-07-25T12:57:11.276Z"
   },
   {
    "duration": 26,
    "start_time": "2022-07-25T12:57:11.282Z"
   },
   {
    "duration": 13,
    "start_time": "2022-07-25T12:57:11.309Z"
   },
   {
    "duration": 17,
    "start_time": "2022-07-25T12:57:11.323Z"
   },
   {
    "duration": 37,
    "start_time": "2022-07-25T12:57:11.341Z"
   },
   {
    "duration": 42,
    "start_time": "2022-07-25T12:57:11.381Z"
   },
   {
    "duration": 4,
    "start_time": "2022-07-25T12:57:11.425Z"
   },
   {
    "duration": 17,
    "start_time": "2022-07-25T12:57:11.431Z"
   },
   {
    "duration": 22,
    "start_time": "2022-07-25T12:57:11.449Z"
   },
   {
    "duration": 22,
    "start_time": "2022-07-25T12:57:11.473Z"
   },
   {
    "duration": 25,
    "start_time": "2022-07-25T12:57:11.497Z"
   },
   {
    "duration": 27,
    "start_time": "2022-07-25T12:57:11.524Z"
   },
   {
    "duration": 22,
    "start_time": "2022-07-25T12:57:11.553Z"
   },
   {
    "duration": 21,
    "start_time": "2022-07-25T12:57:11.579Z"
   },
   {
    "duration": 10,
    "start_time": "2022-07-25T12:57:11.602Z"
   },
   {
    "duration": 58,
    "start_time": "2022-07-25T12:57:11.617Z"
   },
   {
    "duration": 4,
    "start_time": "2022-07-25T12:57:11.676Z"
   },
   {
    "duration": 15,
    "start_time": "2022-07-25T12:57:11.682Z"
   },
   {
    "duration": 132,
    "start_time": "2022-07-25T12:57:11.698Z"
   },
   {
    "duration": 0,
    "start_time": "2022-07-25T12:57:11.833Z"
   },
   {
    "duration": 0,
    "start_time": "2022-07-25T12:57:11.834Z"
   },
   {
    "duration": 0,
    "start_time": "2022-07-25T12:57:11.836Z"
   },
   {
    "duration": 17,
    "start_time": "2022-07-25T12:57:46.613Z"
   },
   {
    "duration": 21,
    "start_time": "2022-07-25T12:58:38.369Z"
   },
   {
    "duration": 19,
    "start_time": "2022-07-25T12:58:45.669Z"
   },
   {
    "duration": 9688,
    "start_time": "2022-07-25T12:59:46.806Z"
   },
   {
    "duration": 71,
    "start_time": "2022-07-25T13:02:33.586Z"
   },
   {
    "duration": 8011,
    "start_time": "2022-07-25T13:02:41.589Z"
   },
   {
    "duration": 4,
    "start_time": "2022-07-26T10:44:37.658Z"
   },
   {
    "duration": 1259,
    "start_time": "2022-07-26T10:44:42.217Z"
   },
   {
    "duration": 153,
    "start_time": "2022-07-26T10:44:43.478Z"
   },
   {
    "duration": 17,
    "start_time": "2022-07-26T10:44:43.633Z"
   },
   {
    "duration": 5,
    "start_time": "2022-07-26T10:44:43.653Z"
   },
   {
    "duration": 25,
    "start_time": "2022-07-26T10:44:43.660Z"
   },
   {
    "duration": 84,
    "start_time": "2022-07-26T10:44:43.686Z"
   },
   {
    "duration": 1807,
    "start_time": "2022-07-26T10:44:43.771Z"
   },
   {
    "duration": 9,
    "start_time": "2022-07-26T10:44:45.579Z"
   },
   {
    "duration": 1070,
    "start_time": "2022-07-26T10:44:45.589Z"
   },
   {
    "duration": 4,
    "start_time": "2022-07-26T10:44:46.661Z"
   },
   {
    "duration": 7,
    "start_time": "2022-07-26T10:44:46.667Z"
   },
   {
    "duration": 21,
    "start_time": "2022-07-26T10:44:46.675Z"
   },
   {
    "duration": 5,
    "start_time": "2022-07-26T10:44:46.698Z"
   },
   {
    "duration": 6,
    "start_time": "2022-07-26T10:44:46.732Z"
   },
   {
    "duration": 22,
    "start_time": "2022-07-26T10:44:46.740Z"
   },
   {
    "duration": 19,
    "start_time": "2022-07-26T10:44:46.763Z"
   },
   {
    "duration": 19,
    "start_time": "2022-07-26T10:44:46.784Z"
   },
   {
    "duration": 16,
    "start_time": "2022-07-26T10:44:46.805Z"
   },
   {
    "duration": 9,
    "start_time": "2022-07-26T10:44:46.822Z"
   },
   {
    "duration": 21,
    "start_time": "2022-07-26T10:44:46.832Z"
   },
   {
    "duration": 15,
    "start_time": "2022-07-26T10:44:46.855Z"
   },
   {
    "duration": 2851,
    "start_time": "2022-07-26T10:44:46.871Z"
   },
   {
    "duration": 8,
    "start_time": "2022-07-26T10:44:49.723Z"
   },
   {
    "duration": 18,
    "start_time": "2022-07-26T10:44:49.732Z"
   },
   {
    "duration": 9,
    "start_time": "2022-07-26T10:44:49.751Z"
   },
   {
    "duration": 6,
    "start_time": "2022-07-26T10:44:49.761Z"
   },
   {
    "duration": 5,
    "start_time": "2022-07-26T10:44:49.768Z"
   },
   {
    "duration": 27,
    "start_time": "2022-07-26T10:44:49.776Z"
   },
   {
    "duration": 5,
    "start_time": "2022-07-26T10:44:49.804Z"
   },
   {
    "duration": 20,
    "start_time": "2022-07-26T10:44:49.811Z"
   },
   {
    "duration": 5,
    "start_time": "2022-07-26T10:44:49.832Z"
   },
   {
    "duration": 19,
    "start_time": "2022-07-26T10:44:49.838Z"
   },
   {
    "duration": 8,
    "start_time": "2022-07-26T10:44:49.858Z"
   },
   {
    "duration": 5,
    "start_time": "2022-07-26T10:44:49.868Z"
   },
   {
    "duration": 9,
    "start_time": "2022-07-26T10:44:49.874Z"
   },
   {
    "duration": 6,
    "start_time": "2022-07-26T10:44:49.884Z"
   },
   {
    "duration": 17,
    "start_time": "2022-07-26T10:44:49.892Z"
   },
   {
    "duration": 49,
    "start_time": "2022-07-26T10:44:49.911Z"
   },
   {
    "duration": 5,
    "start_time": "2022-07-26T10:44:49.962Z"
   },
   {
    "duration": 3,
    "start_time": "2022-07-26T10:44:49.970Z"
   },
   {
    "duration": 8310,
    "start_time": "2022-07-26T10:44:49.974Z"
   },
   {
    "duration": 76,
    "start_time": "2022-07-26T10:44:58.286Z"
   },
   {
    "duration": 0,
    "start_time": "2022-07-26T10:44:58.363Z"
   },
   {
    "duration": 0,
    "start_time": "2022-07-26T10:44:58.364Z"
   },
   {
    "duration": 0,
    "start_time": "2022-07-26T10:44:58.365Z"
   },
   {
    "duration": 4,
    "start_time": "2022-07-26T10:45:02.246Z"
   },
   {
    "duration": 95,
    "start_time": "2022-07-26T10:46:35.867Z"
   },
   {
    "duration": 4,
    "start_time": "2022-07-26T10:46:48.270Z"
   },
   {
    "duration": 9,
    "start_time": "2022-07-26T10:47:01.352Z"
   },
   {
    "duration": 8,
    "start_time": "2022-07-26T10:47:10.868Z"
   },
   {
    "duration": 25,
    "start_time": "2022-07-26T10:47:21.218Z"
   },
   {
    "duration": 29,
    "start_time": "2022-07-26T10:47:28.852Z"
   },
   {
    "duration": 4,
    "start_time": "2022-07-26T10:48:40.417Z"
   },
   {
    "duration": 1825,
    "start_time": "2022-07-26T10:48:47.894Z"
   },
   {
    "duration": 8,
    "start_time": "2022-07-26T10:49:00.028Z"
   },
   {
    "duration": 3,
    "start_time": "2022-07-26T10:50:58.752Z"
   },
   {
    "duration": 379,
    "start_time": "2022-07-26T10:50:59.149Z"
   },
   {
    "duration": 4,
    "start_time": "2022-07-26T10:50:59.649Z"
   },
   {
    "duration": 37,
    "start_time": "2022-07-26T10:51:35.408Z"
   },
   {
    "duration": 4,
    "start_time": "2022-07-26T10:52:06.744Z"
   },
   {
    "duration": 378,
    "start_time": "2022-07-26T10:52:07.196Z"
   },
   {
    "duration": 4,
    "start_time": "2022-07-26T10:52:08.377Z"
   },
   {
    "duration": 3,
    "start_time": "2022-07-26T10:52:22.153Z"
   },
   {
    "duration": 377,
    "start_time": "2022-07-26T10:52:22.662Z"
   },
   {
    "duration": 4,
    "start_time": "2022-07-26T10:52:23.786Z"
   },
   {
    "duration": 26,
    "start_time": "2022-07-26T10:52:28.762Z"
   },
   {
    "duration": 28,
    "start_time": "2022-07-26T10:53:47.584Z"
   },
   {
    "duration": 4,
    "start_time": "2022-07-26T10:53:56.901Z"
   },
   {
    "duration": 5,
    "start_time": "2022-07-26T10:54:56.310Z"
   },
   {
    "duration": 5,
    "start_time": "2022-07-26T10:54:58.200Z"
   },
   {
    "duration": 1145,
    "start_time": "2022-07-26T10:55:11.307Z"
   },
   {
    "duration": 91,
    "start_time": "2022-07-26T10:55:12.454Z"
   },
   {
    "duration": 15,
    "start_time": "2022-07-26T10:55:12.547Z"
   },
   {
    "duration": 3,
    "start_time": "2022-07-26T10:55:12.563Z"
   },
   {
    "duration": 27,
    "start_time": "2022-07-26T10:55:12.567Z"
   },
   {
    "duration": 84,
    "start_time": "2022-07-26T10:55:12.595Z"
   },
   {
    "duration": 1868,
    "start_time": "2022-07-26T10:55:12.681Z"
   },
   {
    "duration": 8,
    "start_time": "2022-07-26T10:55:14.574Z"
   },
   {
    "duration": 1037,
    "start_time": "2022-07-26T10:55:14.583Z"
   },
   {
    "duration": 8,
    "start_time": "2022-07-26T10:55:15.623Z"
   },
   {
    "duration": 18,
    "start_time": "2022-07-26T10:55:15.632Z"
   },
   {
    "duration": 23,
    "start_time": "2022-07-26T10:55:15.651Z"
   },
   {
    "duration": 5,
    "start_time": "2022-07-26T10:55:15.676Z"
   },
   {
    "duration": 5,
    "start_time": "2022-07-26T10:55:15.682Z"
   },
   {
    "duration": 5,
    "start_time": "2022-07-26T10:55:15.689Z"
   },
   {
    "duration": 5,
    "start_time": "2022-07-26T10:55:15.695Z"
   },
   {
    "duration": 7,
    "start_time": "2022-07-26T10:55:15.701Z"
   },
   {
    "duration": 34,
    "start_time": "2022-07-26T10:55:15.709Z"
   },
   {
    "duration": 6,
    "start_time": "2022-07-26T10:55:15.745Z"
   },
   {
    "duration": 6,
    "start_time": "2022-07-26T10:55:15.752Z"
   },
   {
    "duration": 5,
    "start_time": "2022-07-26T10:55:15.759Z"
   },
   {
    "duration": 2881,
    "start_time": "2022-07-26T10:55:15.765Z"
   },
   {
    "duration": 2,
    "start_time": "2022-07-26T10:55:18.647Z"
   },
   {
    "duration": 12,
    "start_time": "2022-07-26T10:55:18.651Z"
   },
   {
    "duration": 5,
    "start_time": "2022-07-26T10:55:18.664Z"
   },
   {
    "duration": 2775,
    "start_time": "2022-07-26T10:55:18.670Z"
   },
   {
    "duration": 4,
    "start_time": "2022-07-26T10:55:21.446Z"
   },
   {
    "duration": 31,
    "start_time": "2022-07-26T10:55:21.453Z"
   },
   {
    "duration": 26,
    "start_time": "2022-07-26T10:55:21.485Z"
   },
   {
    "duration": 32,
    "start_time": "2022-07-26T10:55:21.513Z"
   },
   {
    "duration": 4,
    "start_time": "2022-07-26T10:55:21.547Z"
   },
   {
    "duration": 8,
    "start_time": "2022-07-26T10:55:21.553Z"
   },
   {
    "duration": 7,
    "start_time": "2022-07-26T10:55:21.562Z"
   },
   {
    "duration": 9,
    "start_time": "2022-07-26T10:55:21.570Z"
   },
   {
    "duration": 10,
    "start_time": "2022-07-26T10:55:21.580Z"
   },
   {
    "duration": 30,
    "start_time": "2022-07-26T10:55:21.592Z"
   },
   {
    "duration": 4,
    "start_time": "2022-07-26T10:55:21.624Z"
   },
   {
    "duration": 4,
    "start_time": "2022-07-26T10:55:21.642Z"
   },
   {
    "duration": 6,
    "start_time": "2022-07-26T10:55:21.647Z"
   },
   {
    "duration": 8,
    "start_time": "2022-07-26T10:55:21.654Z"
   },
   {
    "duration": 9,
    "start_time": "2022-07-26T10:55:21.664Z"
   },
   {
    "duration": 4,
    "start_time": "2022-07-26T10:55:21.674Z"
   },
   {
    "duration": 4,
    "start_time": "2022-07-26T10:55:21.679Z"
   },
   {
    "duration": 5,
    "start_time": "2022-07-26T10:55:21.685Z"
   },
   {
    "duration": 9,
    "start_time": "2022-07-26T10:55:21.691Z"
   },
   {
    "duration": 56,
    "start_time": "2022-07-26T10:55:21.701Z"
   },
   {
    "duration": 4,
    "start_time": "2022-07-26T10:55:21.758Z"
   },
   {
    "duration": 5,
    "start_time": "2022-07-26T10:55:21.763Z"
   },
   {
    "duration": 8244,
    "start_time": "2022-07-26T10:55:21.769Z"
   },
   {
    "duration": 101,
    "start_time": "2022-07-26T10:55:30.014Z"
   },
   {
    "duration": 0,
    "start_time": "2022-07-26T10:55:30.117Z"
   },
   {
    "duration": 0,
    "start_time": "2022-07-26T10:55:30.117Z"
   },
   {
    "duration": 0,
    "start_time": "2022-07-26T10:55:30.118Z"
   },
   {
    "duration": 94,
    "start_time": "2022-07-26T10:57:30.274Z"
   },
   {
    "duration": 20,
    "start_time": "2022-07-26T10:57:36.941Z"
   },
   {
    "duration": 64,
    "start_time": "2022-07-26T10:58:27.006Z"
   },
   {
    "duration": 46,
    "start_time": "2022-07-26T10:58:33.944Z"
   },
   {
    "duration": 4,
    "start_time": "2022-07-26T11:00:45.070Z"
   },
   {
    "duration": 11,
    "start_time": "2022-07-26T11:03:13.465Z"
   },
   {
    "duration": 11,
    "start_time": "2022-07-26T11:03:55.085Z"
   },
   {
    "duration": 9,
    "start_time": "2022-07-26T11:04:18.242Z"
   },
   {
    "duration": 2,
    "start_time": "2022-07-26T11:05:41.057Z"
   },
   {
    "duration": 9,
    "start_time": "2022-07-26T11:05:42.942Z"
   },
   {
    "duration": 10,
    "start_time": "2022-07-26T11:06:06.994Z"
   },
   {
    "duration": 3,
    "start_time": "2022-07-26T11:06:07.764Z"
   },
   {
    "duration": 9,
    "start_time": "2022-07-26T11:06:08.294Z"
   },
   {
    "duration": 8,
    "start_time": "2022-07-26T11:08:02.856Z"
   },
   {
    "duration": 21,
    "start_time": "2022-07-26T11:08:04.191Z"
   },
   {
    "duration": 56,
    "start_time": "2022-07-26T11:13:18.330Z"
   },
   {
    "duration": 33,
    "start_time": "2022-07-26T11:13:34.808Z"
   },
   {
    "duration": 1269,
    "start_time": "2022-07-26T11:16:34.941Z"
   },
   {
    "duration": 4,
    "start_time": "2022-07-26T11:16:50.753Z"
   },
   {
    "duration": 7,
    "start_time": "2022-07-26T11:17:07.806Z"
   },
   {
    "duration": 4,
    "start_time": "2022-07-26T11:18:53.317Z"
   },
   {
    "duration": 8,
    "start_time": "2022-07-26T11:19:03.855Z"
   },
   {
    "duration": 36,
    "start_time": "2022-07-26T11:19:35.464Z"
   },
   {
    "duration": 45,
    "start_time": "2022-07-26T11:25:19.639Z"
   },
   {
    "duration": 35,
    "start_time": "2022-07-26T11:25:36.529Z"
   },
   {
    "duration": 11,
    "start_time": "2022-07-26T11:26:38.040Z"
   },
   {
    "duration": 13,
    "start_time": "2022-07-26T12:15:27.530Z"
   },
   {
    "duration": 56,
    "start_time": "2022-07-27T10:45:05.351Z"
   },
   {
    "duration": 1537,
    "start_time": "2022-07-27T10:45:11.201Z"
   },
   {
    "duration": 211,
    "start_time": "2022-07-27T10:45:12.741Z"
   },
   {
    "duration": 21,
    "start_time": "2022-07-27T10:45:12.954Z"
   },
   {
    "duration": 49,
    "start_time": "2022-07-27T10:45:12.977Z"
   },
   {
    "duration": 52,
    "start_time": "2022-07-27T10:45:13.028Z"
   },
   {
    "duration": 98,
    "start_time": "2022-07-27T10:45:13.082Z"
   },
   {
    "duration": 2420,
    "start_time": "2022-07-27T10:45:13.182Z"
   },
   {
    "duration": 13,
    "start_time": "2022-07-27T10:45:15.605Z"
   },
   {
    "duration": 1349,
    "start_time": "2022-07-27T10:45:15.620Z"
   },
   {
    "duration": 6,
    "start_time": "2022-07-27T10:45:16.973Z"
   },
   {
    "duration": 73,
    "start_time": "2022-07-27T10:45:16.981Z"
   },
   {
    "duration": 86,
    "start_time": "2022-07-27T10:45:17.056Z"
   },
   {
    "duration": 31,
    "start_time": "2022-07-27T10:45:17.145Z"
   },
   {
    "duration": 14,
    "start_time": "2022-07-27T10:45:17.179Z"
   },
   {
    "duration": 32,
    "start_time": "2022-07-27T10:45:17.195Z"
   },
   {
    "duration": 49,
    "start_time": "2022-07-27T10:45:17.229Z"
   },
   {
    "duration": 55,
    "start_time": "2022-07-27T10:45:17.281Z"
   },
   {
    "duration": 14,
    "start_time": "2022-07-27T10:45:17.338Z"
   },
   {
    "duration": 37,
    "start_time": "2022-07-27T10:45:17.354Z"
   },
   {
    "duration": 55,
    "start_time": "2022-07-27T10:45:17.394Z"
   },
   {
    "duration": 106,
    "start_time": "2022-07-27T10:45:17.452Z"
   },
   {
    "duration": 3749,
    "start_time": "2022-07-27T10:45:17.560Z"
   },
   {
    "duration": 6,
    "start_time": "2022-07-27T10:45:21.311Z"
   },
   {
    "duration": 39,
    "start_time": "2022-07-27T10:45:21.320Z"
   },
   {
    "duration": 80,
    "start_time": "2022-07-27T10:45:21.361Z"
   },
   {
    "duration": 3516,
    "start_time": "2022-07-27T10:45:21.443Z"
   },
   {
    "duration": 5,
    "start_time": "2022-07-27T10:45:24.961Z"
   },
   {
    "duration": 59,
    "start_time": "2022-07-27T10:45:24.970Z"
   },
   {
    "duration": 41,
    "start_time": "2022-07-27T10:45:25.032Z"
   },
   {
    "duration": 6,
    "start_time": "2022-07-27T10:45:25.074Z"
   },
   {
    "duration": 26,
    "start_time": "2022-07-27T10:45:25.081Z"
   },
   {
    "duration": 45,
    "start_time": "2022-07-27T10:45:25.109Z"
   },
   {
    "duration": 83,
    "start_time": "2022-07-27T10:45:25.157Z"
   },
   {
    "duration": 7,
    "start_time": "2022-07-27T10:45:25.242Z"
   },
   {
    "duration": 17,
    "start_time": "2022-07-27T10:45:25.251Z"
   },
   {
    "duration": 28,
    "start_time": "2022-07-27T10:45:25.270Z"
   },
   {
    "duration": 83,
    "start_time": "2022-07-27T10:45:25.300Z"
   },
   {
    "duration": 9,
    "start_time": "2022-07-27T10:45:25.387Z"
   },
   {
    "duration": 41,
    "start_time": "2022-07-27T10:45:25.398Z"
   },
   {
    "duration": 25,
    "start_time": "2022-07-27T10:45:25.441Z"
   },
   {
    "duration": 30,
    "start_time": "2022-07-27T10:45:25.468Z"
   },
   {
    "duration": 42,
    "start_time": "2022-07-27T10:45:25.500Z"
   },
   {
    "duration": 18,
    "start_time": "2022-07-27T10:45:25.544Z"
   },
   {
    "duration": 23,
    "start_time": "2022-07-27T10:45:25.564Z"
   },
   {
    "duration": 26,
    "start_time": "2022-07-27T10:45:25.589Z"
   },
   {
    "duration": 23,
    "start_time": "2022-07-27T10:45:25.617Z"
   },
   {
    "duration": 14,
    "start_time": "2022-07-27T10:45:25.642Z"
   },
   {
    "duration": 28,
    "start_time": "2022-07-27T10:45:25.658Z"
   },
   {
    "duration": 55,
    "start_time": "2022-07-27T10:45:25.689Z"
   },
   {
    "duration": 6,
    "start_time": "2022-07-27T10:45:25.746Z"
   },
   {
    "duration": 16,
    "start_time": "2022-07-27T10:45:25.754Z"
   },
   {
    "duration": 9486,
    "start_time": "2022-07-27T10:45:25.772Z"
   },
   {
    "duration": 14,
    "start_time": "2022-07-27T10:45:35.261Z"
   },
   {
    "duration": 7,
    "start_time": "2022-07-27T10:45:35.278Z"
   },
   {
    "duration": 26,
    "start_time": "2022-07-27T10:45:35.288Z"
   },
   {
    "duration": 43,
    "start_time": "2022-07-27T10:45:35.316Z"
   },
   {
    "duration": 44,
    "start_time": "2022-07-27T10:45:35.361Z"
   },
   {
    "duration": 25,
    "start_time": "2022-07-27T10:45:35.407Z"
   },
   {
    "duration": 131,
    "start_time": "2022-07-27T10:45:35.434Z"
   },
   {
    "duration": 69,
    "start_time": "2022-07-27T10:45:35.567Z"
   },
   {
    "duration": 39,
    "start_time": "2022-07-27T10:45:35.639Z"
   },
   {
    "duration": 93,
    "start_time": "2022-07-27T10:45:35.680Z"
   },
   {
    "duration": 75,
    "start_time": "2022-07-27T10:45:35.775Z"
   },
   {
    "duration": 54,
    "start_time": "2022-07-27T10:45:35.852Z"
   },
   {
    "duration": 8,
    "start_time": "2022-07-27T10:45:49.946Z"
   },
   {
    "duration": 28,
    "start_time": "2022-07-27T10:45:52.654Z"
   },
   {
    "duration": 17,
    "start_time": "2022-07-27T10:46:02.940Z"
   },
   {
    "duration": 55,
    "start_time": "2022-07-30T10:09:05.394Z"
   },
   {
    "duration": 2,
    "start_time": "2022-07-30T10:09:16.082Z"
   },
   {
    "duration": 2,
    "start_time": "2022-07-30T10:09:18.316Z"
   },
   {
    "duration": 78,
    "start_time": "2022-07-30T10:09:36.321Z"
   },
   {
    "duration": 1440,
    "start_time": "2022-07-30T10:09:44.530Z"
   },
   {
    "duration": 152,
    "start_time": "2022-07-30T10:09:45.972Z"
   },
   {
    "duration": 17,
    "start_time": "2022-07-30T10:09:46.125Z"
   },
   {
    "duration": 4,
    "start_time": "2022-07-30T10:09:46.144Z"
   },
   {
    "duration": 35,
    "start_time": "2022-07-30T10:09:46.150Z"
   },
   {
    "duration": 98,
    "start_time": "2022-07-30T10:09:46.187Z"
   },
   {
    "duration": 2131,
    "start_time": "2022-07-30T10:09:46.286Z"
   },
   {
    "duration": 10,
    "start_time": "2022-07-30T10:09:48.419Z"
   },
   {
    "duration": 1181,
    "start_time": "2022-07-30T10:09:48.430Z"
   },
   {
    "duration": 5,
    "start_time": "2022-07-30T10:09:49.614Z"
   },
   {
    "duration": 22,
    "start_time": "2022-07-30T10:09:49.621Z"
   },
   {
    "duration": 30,
    "start_time": "2022-07-30T10:09:49.645Z"
   },
   {
    "duration": 6,
    "start_time": "2022-07-30T10:09:49.676Z"
   },
   {
    "duration": 21,
    "start_time": "2022-07-30T10:09:49.685Z"
   },
   {
    "duration": 6,
    "start_time": "2022-07-30T10:09:49.708Z"
   },
   {
    "duration": 12,
    "start_time": "2022-07-30T10:09:49.716Z"
   },
   {
    "duration": 9,
    "start_time": "2022-07-30T10:09:49.730Z"
   },
   {
    "duration": 6,
    "start_time": "2022-07-30T10:09:49.741Z"
   },
   {
    "duration": 7,
    "start_time": "2022-07-30T10:09:49.749Z"
   },
   {
    "duration": 7,
    "start_time": "2022-07-30T10:09:49.757Z"
   },
   {
    "duration": 39,
    "start_time": "2022-07-30T10:09:49.766Z"
   },
   {
    "duration": 3267,
    "start_time": "2022-07-30T10:09:49.806Z"
   },
   {
    "duration": 2,
    "start_time": "2022-07-30T10:09:53.075Z"
   },
   {
    "duration": 10,
    "start_time": "2022-07-30T10:09:53.079Z"
   },
   {
    "duration": 18,
    "start_time": "2022-07-30T10:09:53.090Z"
   },
   {
    "duration": 3306,
    "start_time": "2022-07-30T10:09:53.110Z"
   },
   {
    "duration": 10,
    "start_time": "2022-07-30T10:09:56.418Z"
   },
   {
    "duration": 49,
    "start_time": "2022-07-30T10:09:56.434Z"
   },
   {
    "duration": 58,
    "start_time": "2022-07-30T10:09:56.485Z"
   },
   {
    "duration": 8,
    "start_time": "2022-07-30T10:09:56.545Z"
   },
   {
    "duration": 44,
    "start_time": "2022-07-30T10:09:56.555Z"
   },
   {
    "duration": 33,
    "start_time": "2022-07-30T10:09:56.601Z"
   },
   {
    "duration": 88,
    "start_time": "2022-07-30T10:09:56.636Z"
   },
   {
    "duration": 7,
    "start_time": "2022-07-30T10:09:56.726Z"
   },
   {
    "duration": 20,
    "start_time": "2022-07-30T10:09:56.735Z"
   },
   {
    "duration": 15,
    "start_time": "2022-07-30T10:09:56.757Z"
   },
   {
    "duration": 10,
    "start_time": "2022-07-30T10:09:56.774Z"
   },
   {
    "duration": 52,
    "start_time": "2022-07-30T10:09:56.787Z"
   },
   {
    "duration": 6,
    "start_time": "2022-07-30T10:09:56.842Z"
   },
   {
    "duration": 7,
    "start_time": "2022-07-30T10:09:56.849Z"
   },
   {
    "duration": 6,
    "start_time": "2022-07-30T10:09:56.857Z"
   },
   {
    "duration": 8,
    "start_time": "2022-07-30T10:09:56.865Z"
   },
   {
    "duration": 32,
    "start_time": "2022-07-30T10:09:56.874Z"
   },
   {
    "duration": 4,
    "start_time": "2022-07-30T10:09:56.908Z"
   },
   {
    "duration": 7,
    "start_time": "2022-07-30T10:09:56.914Z"
   },
   {
    "duration": 6,
    "start_time": "2022-07-30T10:09:56.923Z"
   },
   {
    "duration": 9,
    "start_time": "2022-07-30T10:09:56.930Z"
   },
   {
    "duration": 6,
    "start_time": "2022-07-30T10:09:56.941Z"
   },
   {
    "duration": 9,
    "start_time": "2022-07-30T10:09:56.948Z"
   },
   {
    "duration": 68,
    "start_time": "2022-07-30T10:09:56.959Z"
   },
   {
    "duration": 6,
    "start_time": "2022-07-30T10:09:57.029Z"
   },
   {
    "duration": 12,
    "start_time": "2022-07-30T10:09:57.037Z"
   },
   {
    "duration": 8534,
    "start_time": "2022-07-30T10:09:57.051Z"
   },
   {
    "duration": 20,
    "start_time": "2022-07-30T10:10:05.587Z"
   },
   {
    "duration": 3,
    "start_time": "2022-07-30T10:10:05.609Z"
   },
   {
    "duration": 12,
    "start_time": "2022-07-30T10:10:05.614Z"
   },
   {
    "duration": 25,
    "start_time": "2022-07-30T10:10:05.628Z"
   },
   {
    "duration": 55,
    "start_time": "2022-07-30T10:10:05.655Z"
   },
   {
    "duration": 5,
    "start_time": "2022-07-30T10:10:05.712Z"
   },
   {
    "duration": 40,
    "start_time": "2022-07-30T10:10:05.718Z"
   },
   {
    "duration": 44,
    "start_time": "2022-07-30T10:10:05.760Z"
   },
   {
    "duration": 8,
    "start_time": "2022-07-30T10:10:05.806Z"
   },
   {
    "duration": 9,
    "start_time": "2022-07-30T10:10:05.816Z"
   },
   {
    "duration": 32,
    "start_time": "2022-07-30T10:10:05.827Z"
   },
   {
    "duration": 16,
    "start_time": "2022-07-30T10:10:05.861Z"
   },
   {
    "duration": 31,
    "start_time": "2022-07-30T10:10:05.879Z"
   },
   {
    "duration": 780,
    "start_time": "2022-07-30T10:10:19.232Z"
   },
   {
    "duration": 683,
    "start_time": "2022-07-30T10:10:55.798Z"
   },
   {
    "duration": 36,
    "start_time": "2022-07-30T10:11:18.713Z"
   },
   {
    "duration": 8997,
    "start_time": "2022-07-30T10:17:49.504Z"
   },
   {
    "duration": 2,
    "start_time": "2022-07-30T10:18:45.137Z"
   },
   {
    "duration": 2,
    "start_time": "2022-07-30T10:19:00.971Z"
   },
   {
    "duration": 5,
    "start_time": "2022-07-30T10:19:18.526Z"
   },
   {
    "duration": 23,
    "start_time": "2022-07-30T10:21:11.498Z"
   },
   {
    "duration": 8745,
    "start_time": "2022-07-30T10:21:23.606Z"
   },
   {
    "duration": 72,
    "start_time": "2022-07-30T10:21:55.073Z"
   },
   {
    "duration": 3,
    "start_time": "2022-07-30T10:22:08.526Z"
   },
   {
    "duration": 77,
    "start_time": "2022-07-30T10:22:11.096Z"
   },
   {
    "duration": 7,
    "start_time": "2022-07-30T10:22:15.520Z"
   },
   {
    "duration": 71,
    "start_time": "2022-07-30T10:23:19.375Z"
   },
   {
    "duration": 9,
    "start_time": "2022-07-30T10:23:21.444Z"
   },
   {
    "duration": 1274,
    "start_time": "2022-07-30T10:26:16.475Z"
   },
   {
    "duration": 98,
    "start_time": "2022-07-30T10:26:17.751Z"
   },
   {
    "duration": 19,
    "start_time": "2022-07-30T10:26:17.850Z"
   },
   {
    "duration": 3,
    "start_time": "2022-07-30T10:26:17.871Z"
   },
   {
    "duration": 49,
    "start_time": "2022-07-30T10:26:17.876Z"
   },
   {
    "duration": 94,
    "start_time": "2022-07-30T10:26:17.927Z"
   },
   {
    "duration": 2015,
    "start_time": "2022-07-30T10:26:18.023Z"
   },
   {
    "duration": 9,
    "start_time": "2022-07-30T10:26:20.040Z"
   },
   {
    "duration": 1095,
    "start_time": "2022-07-30T10:26:20.051Z"
   },
   {
    "duration": 4,
    "start_time": "2022-07-30T10:26:21.149Z"
   },
   {
    "duration": 10,
    "start_time": "2022-07-30T10:26:21.155Z"
   },
   {
    "duration": 40,
    "start_time": "2022-07-30T10:26:21.166Z"
   },
   {
    "duration": 6,
    "start_time": "2022-07-30T10:26:21.208Z"
   },
   {
    "duration": 7,
    "start_time": "2022-07-30T10:26:21.215Z"
   },
   {
    "duration": 6,
    "start_time": "2022-07-30T10:26:21.224Z"
   },
   {
    "duration": 9,
    "start_time": "2022-07-30T10:26:21.232Z"
   },
   {
    "duration": 5,
    "start_time": "2022-07-30T10:26:21.243Z"
   },
   {
    "duration": 6,
    "start_time": "2022-07-30T10:26:21.250Z"
   },
   {
    "duration": 9,
    "start_time": "2022-07-30T10:26:21.257Z"
   },
   {
    "duration": 39,
    "start_time": "2022-07-30T10:26:21.268Z"
   },
   {
    "duration": 8,
    "start_time": "2022-07-30T10:26:21.308Z"
   },
   {
    "duration": 3272,
    "start_time": "2022-07-30T10:26:21.318Z"
   },
   {
    "duration": 3,
    "start_time": "2022-07-30T10:26:24.603Z"
   },
   {
    "duration": 7,
    "start_time": "2022-07-30T10:26:24.608Z"
   },
   {
    "duration": 10,
    "start_time": "2022-07-30T10:26:24.617Z"
   },
   {
    "duration": 3339,
    "start_time": "2022-07-30T10:26:24.629Z"
   },
   {
    "duration": 5,
    "start_time": "2022-07-30T10:26:27.969Z"
   },
   {
    "duration": 51,
    "start_time": "2022-07-30T10:26:27.978Z"
   },
   {
    "duration": 30,
    "start_time": "2022-07-30T10:26:28.031Z"
   },
   {
    "duration": 5,
    "start_time": "2022-07-30T10:26:28.062Z"
   },
   {
    "duration": 6,
    "start_time": "2022-07-30T10:26:28.069Z"
   },
   {
    "duration": 30,
    "start_time": "2022-07-30T10:26:28.077Z"
   },
   {
    "duration": 62,
    "start_time": "2022-07-30T10:26:28.109Z"
   },
   {
    "duration": 5,
    "start_time": "2022-07-30T10:26:28.173Z"
   },
   {
    "duration": 34,
    "start_time": "2022-07-30T10:26:28.180Z"
   },
   {
    "duration": 58,
    "start_time": "2022-07-30T10:26:28.216Z"
   },
   {
    "duration": 47,
    "start_time": "2022-07-30T10:26:28.276Z"
   },
   {
    "duration": 79,
    "start_time": "2022-07-30T10:26:28.325Z"
   },
   {
    "duration": 10,
    "start_time": "2022-07-30T10:26:28.406Z"
   },
   {
    "duration": 21,
    "start_time": "2022-07-30T10:26:28.417Z"
   },
   {
    "duration": 16,
    "start_time": "2022-07-30T10:26:28.440Z"
   },
   {
    "duration": 23,
    "start_time": "2022-07-30T10:26:28.458Z"
   },
   {
    "duration": 18,
    "start_time": "2022-07-30T10:26:28.483Z"
   },
   {
    "duration": 9,
    "start_time": "2022-07-30T10:26:28.503Z"
   },
   {
    "duration": 13,
    "start_time": "2022-07-30T10:26:28.514Z"
   },
   {
    "duration": 18,
    "start_time": "2022-07-30T10:26:28.529Z"
   },
   {
    "duration": 22,
    "start_time": "2022-07-30T10:26:28.549Z"
   },
   {
    "duration": 10,
    "start_time": "2022-07-30T10:26:28.572Z"
   },
   {
    "duration": 12,
    "start_time": "2022-07-30T10:26:28.583Z"
   },
   {
    "duration": 43,
    "start_time": "2022-07-30T10:26:28.596Z"
   },
   {
    "duration": 6,
    "start_time": "2022-07-30T10:26:28.640Z"
   },
   {
    "duration": 9,
    "start_time": "2022-07-30T10:26:28.648Z"
   },
   {
    "duration": 13,
    "start_time": "2022-07-30T10:26:28.659Z"
   },
   {
    "duration": 92,
    "start_time": "2022-07-30T10:26:28.674Z"
   },
   {
    "duration": 6,
    "start_time": "2022-07-30T10:26:28.768Z"
   },
   {
    "duration": 7,
    "start_time": "2022-07-30T10:26:28.775Z"
   },
   {
    "duration": 6,
    "start_time": "2022-07-30T10:26:28.784Z"
   },
   {
    "duration": 11,
    "start_time": "2022-07-30T10:26:28.805Z"
   },
   {
    "duration": 25,
    "start_time": "2022-07-30T10:26:28.817Z"
   },
   {
    "duration": 25,
    "start_time": "2022-07-30T10:26:28.844Z"
   },
   {
    "duration": 5,
    "start_time": "2022-07-30T10:26:28.871Z"
   },
   {
    "duration": 35,
    "start_time": "2022-07-30T10:26:28.905Z"
   },
   {
    "duration": 27,
    "start_time": "2022-07-30T10:26:28.941Z"
   },
   {
    "duration": 13,
    "start_time": "2022-07-30T10:26:28.970Z"
   },
   {
    "duration": 24,
    "start_time": "2022-07-30T10:26:28.985Z"
   },
   {
    "duration": 26,
    "start_time": "2022-07-30T10:26:29.011Z"
   },
   {
    "duration": 14,
    "start_time": "2022-07-30T10:26:29.038Z"
   },
   {
    "duration": 14,
    "start_time": "2022-07-30T10:26:29.054Z"
   },
   {
    "duration": 62,
    "start_time": "2022-07-30T10:27:11.674Z"
   },
   {
    "duration": 6,
    "start_time": "2022-07-30T10:27:16.960Z"
   },
   {
    "duration": 102,
    "start_time": "2022-07-30T10:28:20.722Z"
   },
   {
    "duration": 13,
    "start_time": "2022-07-30T10:31:37.446Z"
   },
   {
    "duration": 14,
    "start_time": "2022-07-30T10:32:58.424Z"
   },
   {
    "duration": 13,
    "start_time": "2022-07-30T10:34:52.749Z"
   },
   {
    "duration": 6,
    "start_time": "2022-07-30T10:37:13.344Z"
   },
   {
    "duration": 27,
    "start_time": "2022-07-30T10:37:35.076Z"
   },
   {
    "duration": 4,
    "start_time": "2022-07-30T10:38:23.717Z"
   },
   {
    "duration": 6,
    "start_time": "2022-07-30T10:38:46.580Z"
   },
   {
    "duration": 4,
    "start_time": "2022-07-30T10:39:18.278Z"
   },
   {
    "duration": 4,
    "start_time": "2022-07-30T10:39:19.966Z"
   },
   {
    "duration": 34,
    "start_time": "2022-07-30T10:39:31.368Z"
   },
   {
    "duration": 36,
    "start_time": "2022-07-30T10:41:16.036Z"
   },
   {
    "duration": 23,
    "start_time": "2022-07-30T10:45:48.985Z"
   },
   {
    "duration": 32,
    "start_time": "2022-07-30T10:46:03.963Z"
   },
   {
    "duration": 36,
    "start_time": "2022-07-30T10:47:02.459Z"
   },
   {
    "duration": 32,
    "start_time": "2022-07-30T10:47:04.086Z"
   },
   {
    "duration": 47,
    "start_time": "2023-02-20T11:03:56.163Z"
   },
   {
    "duration": 7,
    "start_time": "2023-02-20T11:26:19.884Z"
   },
   {
    "duration": 1258,
    "start_time": "2023-02-20T11:26:25.662Z"
   },
   {
    "duration": 325,
    "start_time": "2023-02-20T11:26:26.923Z"
   },
   {
    "duration": 24,
    "start_time": "2023-02-20T11:26:27.250Z"
   },
   {
    "duration": 3,
    "start_time": "2023-02-20T11:26:27.276Z"
   },
   {
    "duration": 27,
    "start_time": "2023-02-20T11:26:27.280Z"
   },
   {
    "duration": 80,
    "start_time": "2023-02-20T11:26:27.308Z"
   },
   {
    "duration": 1967,
    "start_time": "2023-02-20T11:26:27.389Z"
   },
   {
    "duration": 11,
    "start_time": "2023-02-20T11:26:29.359Z"
   },
   {
    "duration": 1087,
    "start_time": "2023-02-20T11:26:29.372Z"
   },
   {
    "duration": 5,
    "start_time": "2023-02-20T11:26:30.463Z"
   },
   {
    "duration": 28,
    "start_time": "2023-02-20T11:26:30.469Z"
   },
   {
    "duration": 30,
    "start_time": "2023-02-20T11:26:30.498Z"
   },
   {
    "duration": 5,
    "start_time": "2023-02-20T11:26:30.530Z"
   },
   {
    "duration": 31,
    "start_time": "2023-02-20T11:26:30.537Z"
   },
   {
    "duration": 21,
    "start_time": "2023-02-20T11:26:30.570Z"
   },
   {
    "duration": 9,
    "start_time": "2023-02-20T11:26:30.593Z"
   },
   {
    "duration": 23,
    "start_time": "2023-02-20T11:26:30.603Z"
   },
   {
    "duration": 15,
    "start_time": "2023-02-20T11:26:30.628Z"
   },
   {
    "duration": 19,
    "start_time": "2023-02-20T11:26:30.644Z"
   },
   {
    "duration": 39,
    "start_time": "2023-02-20T11:26:30.664Z"
   },
   {
    "duration": 29,
    "start_time": "2023-02-20T11:26:30.704Z"
   },
   {
    "duration": 2650,
    "start_time": "2023-02-20T11:26:30.734Z"
   },
   {
    "duration": 2,
    "start_time": "2023-02-20T11:26:33.386Z"
   },
   {
    "duration": 16,
    "start_time": "2023-02-20T11:26:33.390Z"
   },
   {
    "duration": 6,
    "start_time": "2023-02-20T11:26:33.407Z"
   },
   {
    "duration": 3737,
    "start_time": "2023-02-20T11:26:33.414Z"
   },
   {
    "duration": 5,
    "start_time": "2023-02-20T11:26:37.152Z"
   },
   {
    "duration": 84,
    "start_time": "2023-02-20T11:26:37.161Z"
   },
   {
    "duration": 88,
    "start_time": "2023-02-20T11:26:37.247Z"
   },
   {
    "duration": 5,
    "start_time": "2023-02-20T11:26:37.336Z"
   },
   {
    "duration": 7,
    "start_time": "2023-02-20T11:26:37.342Z"
   },
   {
    "duration": 8,
    "start_time": "2023-02-20T11:26:37.351Z"
   },
   {
    "duration": 100,
    "start_time": "2023-02-20T11:26:37.361Z"
   },
   {
    "duration": 62,
    "start_time": "2023-02-20T11:26:37.462Z"
   },
   {
    "duration": 8,
    "start_time": "2023-02-20T11:26:37.525Z"
   },
   {
    "duration": 6,
    "start_time": "2023-02-20T11:26:37.535Z"
   },
   {
    "duration": 4,
    "start_time": "2023-02-20T11:26:37.542Z"
   },
   {
    "duration": 80,
    "start_time": "2023-02-20T11:26:37.548Z"
   },
   {
    "duration": 4,
    "start_time": "2023-02-20T11:26:37.629Z"
   },
   {
    "duration": 8,
    "start_time": "2023-02-20T11:26:37.635Z"
   },
   {
    "duration": 6,
    "start_time": "2023-02-20T11:26:37.644Z"
   },
   {
    "duration": 69,
    "start_time": "2023-02-20T11:26:37.652Z"
   },
   {
    "duration": 12,
    "start_time": "2023-02-20T11:26:37.723Z"
   },
   {
    "duration": 5,
    "start_time": "2023-02-20T11:26:37.736Z"
   },
   {
    "duration": 5,
    "start_time": "2023-02-20T11:26:37.742Z"
   },
   {
    "duration": 6,
    "start_time": "2023-02-20T11:26:37.748Z"
   },
   {
    "duration": 9,
    "start_time": "2023-02-20T11:26:37.756Z"
   },
   {
    "duration": 55,
    "start_time": "2023-02-20T11:26:37.767Z"
   },
   {
    "duration": 5,
    "start_time": "2023-02-20T11:26:37.824Z"
   },
   {
    "duration": 36,
    "start_time": "2023-02-20T11:26:37.830Z"
   },
   {
    "duration": 5,
    "start_time": "2023-02-20T11:26:37.867Z"
   },
   {
    "duration": 9,
    "start_time": "2023-02-20T11:26:37.873Z"
   },
   {
    "duration": 9,
    "start_time": "2023-02-20T11:26:37.884Z"
   },
   {
    "duration": 100,
    "start_time": "2023-02-20T11:26:37.895Z"
   },
   {
    "duration": 6,
    "start_time": "2023-02-20T11:26:37.997Z"
   },
   {
    "duration": 39,
    "start_time": "2023-02-20T11:26:38.005Z"
   },
   {
    "duration": 21,
    "start_time": "2023-02-20T11:26:38.046Z"
   },
   {
    "duration": 52,
    "start_time": "2023-02-20T11:26:38.069Z"
   },
   {
    "duration": 2,
    "start_time": "2023-02-20T11:26:38.123Z"
   },
   {
    "duration": 11,
    "start_time": "2023-02-20T11:26:38.127Z"
   },
   {
    "duration": 23,
    "start_time": "2023-02-20T11:26:38.140Z"
   },
   {
    "duration": 22,
    "start_time": "2023-02-20T11:26:38.165Z"
   },
   {
    "duration": 4,
    "start_time": "2023-02-20T11:26:38.189Z"
   },
   {
    "duration": 32,
    "start_time": "2023-02-20T11:26:38.220Z"
   },
   {
    "duration": 27,
    "start_time": "2023-02-20T11:26:38.254Z"
   },
   {
    "duration": 14,
    "start_time": "2023-02-20T11:26:38.283Z"
   },
   {
    "duration": 28,
    "start_time": "2023-02-20T11:26:38.299Z"
   },
   {
    "duration": 36,
    "start_time": "2023-02-20T11:26:38.328Z"
   },
   {
    "duration": 13,
    "start_time": "2023-02-20T11:26:38.366Z"
   },
   {
    "duration": 13,
    "start_time": "2023-02-20T11:26:38.381Z"
   },
   {
    "duration": 31,
    "start_time": "2023-02-20T11:27:02.951Z"
   },
   {
    "duration": 2,
    "start_time": "2023-02-20T11:27:04.248Z"
   },
   {
    "duration": 6,
    "start_time": "2023-02-20T11:27:04.656Z"
   },
   {
    "duration": 1162,
    "start_time": "2023-02-20T11:27:10.792Z"
   },
   {
    "duration": 90,
    "start_time": "2023-02-20T11:27:11.956Z"
   },
   {
    "duration": 17,
    "start_time": "2023-02-20T11:27:12.051Z"
   },
   {
    "duration": 3,
    "start_time": "2023-02-20T11:27:12.069Z"
   },
   {
    "duration": 28,
    "start_time": "2023-02-20T11:27:12.074Z"
   },
   {
    "duration": 71,
    "start_time": "2023-02-20T11:27:12.121Z"
   },
   {
    "duration": 1918,
    "start_time": "2023-02-20T11:27:12.194Z"
   },
   {
    "duration": 9,
    "start_time": "2023-02-20T11:27:14.114Z"
   },
   {
    "duration": 1119,
    "start_time": "2023-02-20T11:27:14.126Z"
   },
   {
    "duration": 5,
    "start_time": "2023-02-20T11:27:15.247Z"
   },
   {
    "duration": 15,
    "start_time": "2023-02-20T11:27:15.253Z"
   },
   {
    "duration": 25,
    "start_time": "2023-02-20T11:27:15.270Z"
   },
   {
    "duration": 26,
    "start_time": "2023-02-20T11:27:15.296Z"
   },
   {
    "duration": 5,
    "start_time": "2023-02-20T11:27:15.324Z"
   },
   {
    "duration": 9,
    "start_time": "2023-02-20T11:27:15.331Z"
   },
   {
    "duration": 6,
    "start_time": "2023-02-20T11:27:15.342Z"
   },
   {
    "duration": 6,
    "start_time": "2023-02-20T11:27:15.350Z"
   },
   {
    "duration": 10,
    "start_time": "2023-02-20T11:27:15.358Z"
   },
   {
    "duration": 6,
    "start_time": "2023-02-20T11:27:15.370Z"
   },
   {
    "duration": 6,
    "start_time": "2023-02-20T11:27:15.377Z"
   },
   {
    "duration": 37,
    "start_time": "2023-02-20T11:27:15.385Z"
   },
   {
    "duration": 30,
    "start_time": "2023-02-20T11:27:15.423Z"
   },
   {
    "duration": 2,
    "start_time": "2023-02-20T11:27:15.455Z"
   },
   {
    "duration": 10,
    "start_time": "2023-02-20T11:27:15.459Z"
   },
   {
    "duration": 14,
    "start_time": "2023-02-20T11:27:15.471Z"
   },
   {
    "duration": 2808,
    "start_time": "2023-02-20T11:27:15.487Z"
   },
   {
    "duration": 4,
    "start_time": "2023-02-20T11:27:18.301Z"
   },
   {
    "duration": 28,
    "start_time": "2023-02-20T11:27:18.307Z"
   },
   {
    "duration": 29,
    "start_time": "2023-02-20T11:27:18.337Z"
   },
   {
    "duration": 4,
    "start_time": "2023-02-20T11:27:18.368Z"
   },
   {
    "duration": 7,
    "start_time": "2023-02-20T11:27:18.373Z"
   },
   {
    "duration": 5,
    "start_time": "2023-02-20T11:27:18.382Z"
   },
   {
    "duration": 71,
    "start_time": "2023-02-20T11:27:18.388Z"
   },
   {
    "duration": 5,
    "start_time": "2023-02-20T11:27:18.461Z"
   },
   {
    "duration": 7,
    "start_time": "2023-02-20T11:27:18.467Z"
   },
   {
    "duration": 5,
    "start_time": "2023-02-20T11:27:18.476Z"
   },
   {
    "duration": 5,
    "start_time": "2023-02-20T11:27:18.483Z"
   },
   {
    "duration": 52,
    "start_time": "2023-02-20T11:27:18.489Z"
   },
   {
    "duration": 4,
    "start_time": "2023-02-20T11:27:18.543Z"
   },
   {
    "duration": 6,
    "start_time": "2023-02-20T11:27:18.549Z"
   },
   {
    "duration": 6,
    "start_time": "2023-02-20T11:27:18.556Z"
   },
   {
    "duration": 7,
    "start_time": "2023-02-20T11:27:18.563Z"
   },
   {
    "duration": 7,
    "start_time": "2023-02-20T11:27:18.572Z"
   },
   {
    "duration": 4,
    "start_time": "2023-02-20T11:27:18.581Z"
   },
   {
    "duration": 35,
    "start_time": "2023-02-20T11:27:18.586Z"
   },
   {
    "duration": 7,
    "start_time": "2023-02-20T11:27:18.622Z"
   },
   {
    "duration": 14,
    "start_time": "2023-02-20T11:27:18.631Z"
   },
   {
    "duration": 6,
    "start_time": "2023-02-20T11:27:18.646Z"
   },
   {
    "duration": 6,
    "start_time": "2023-02-20T11:27:18.653Z"
   },
   {
    "duration": 31,
    "start_time": "2023-02-20T11:27:18.661Z"
   },
   {
    "duration": 27,
    "start_time": "2023-02-20T11:27:18.694Z"
   },
   {
    "duration": 2,
    "start_time": "2023-02-20T11:27:18.723Z"
   },
   {
    "duration": 8,
    "start_time": "2023-02-20T11:27:18.727Z"
   },
   {
    "duration": 85,
    "start_time": "2023-02-20T11:27:18.736Z"
   },
   {
    "duration": 5,
    "start_time": "2023-02-20T11:27:18.823Z"
   },
   {
    "duration": 26,
    "start_time": "2023-02-20T11:27:18.830Z"
   },
   {
    "duration": 22,
    "start_time": "2023-02-20T11:27:18.858Z"
   },
   {
    "duration": 49,
    "start_time": "2023-02-20T11:27:18.882Z"
   },
   {
    "duration": 3,
    "start_time": "2023-02-20T11:27:18.932Z"
   },
   {
    "duration": 11,
    "start_time": "2023-02-20T11:27:18.936Z"
   },
   {
    "duration": 24,
    "start_time": "2023-02-20T11:27:18.948Z"
   },
   {
    "duration": 49,
    "start_time": "2023-02-20T11:27:18.974Z"
   },
   {
    "duration": 5,
    "start_time": "2023-02-20T11:27:19.025Z"
   },
   {
    "duration": 40,
    "start_time": "2023-02-20T11:27:19.031Z"
   },
   {
    "duration": 27,
    "start_time": "2023-02-20T11:27:19.073Z"
   },
   {
    "duration": 20,
    "start_time": "2023-02-20T11:27:19.102Z"
   },
   {
    "duration": 7,
    "start_time": "2023-02-20T11:27:19.124Z"
   },
   {
    "duration": 27,
    "start_time": "2023-02-20T11:27:19.132Z"
   },
   {
    "duration": 15,
    "start_time": "2023-02-20T11:27:19.160Z"
   },
   {
    "duration": 14,
    "start_time": "2023-02-20T11:27:19.176Z"
   },
   {
    "duration": 3,
    "start_time": "2023-02-20T11:28:06.902Z"
   },
   {
    "duration": 2826,
    "start_time": "2023-02-20T11:29:41.123Z"
   },
   {
    "duration": 5,
    "start_time": "2023-02-20T11:29:43.952Z"
   },
   {
    "duration": 1120,
    "start_time": "2023-02-20T11:29:50.473Z"
   },
   {
    "duration": 96,
    "start_time": "2023-02-20T11:29:51.595Z"
   },
   {
    "duration": 26,
    "start_time": "2023-02-20T11:29:51.695Z"
   },
   {
    "duration": 3,
    "start_time": "2023-02-20T11:29:51.722Z"
   },
   {
    "duration": 31,
    "start_time": "2023-02-20T11:29:51.727Z"
   },
   {
    "duration": 94,
    "start_time": "2023-02-20T11:29:51.760Z"
   },
   {
    "duration": 2041,
    "start_time": "2023-02-20T11:29:51.855Z"
   },
   {
    "duration": 11,
    "start_time": "2023-02-20T11:29:53.898Z"
   },
   {
    "duration": 1130,
    "start_time": "2023-02-20T11:29:53.911Z"
   },
   {
    "duration": 6,
    "start_time": "2023-02-20T11:29:55.042Z"
   },
   {
    "duration": 33,
    "start_time": "2023-02-20T11:29:55.050Z"
   },
   {
    "duration": 32,
    "start_time": "2023-02-20T11:29:55.085Z"
   },
   {
    "duration": 9,
    "start_time": "2023-02-20T11:29:55.119Z"
   },
   {
    "duration": 22,
    "start_time": "2023-02-20T11:29:55.130Z"
   },
   {
    "duration": 12,
    "start_time": "2023-02-20T11:29:55.154Z"
   },
   {
    "duration": 7,
    "start_time": "2023-02-20T11:29:55.168Z"
   },
   {
    "duration": 9,
    "start_time": "2023-02-20T11:29:55.176Z"
   },
   {
    "duration": 5,
    "start_time": "2023-02-20T11:29:55.187Z"
   },
   {
    "duration": 10,
    "start_time": "2023-02-20T11:29:55.194Z"
   },
   {
    "duration": 15,
    "start_time": "2023-02-20T11:29:55.206Z"
   },
   {
    "duration": 8,
    "start_time": "2023-02-20T11:29:55.223Z"
   },
   {
    "duration": 2968,
    "start_time": "2023-02-20T11:29:55.233Z"
   },
   {
    "duration": 5,
    "start_time": "2023-02-20T11:29:58.203Z"
   },
   {
    "duration": 15,
    "start_time": "2023-02-20T11:29:58.210Z"
   },
   {
    "duration": 36,
    "start_time": "2023-02-20T11:29:58.227Z"
   },
   {
    "duration": 5,
    "start_time": "2023-02-20T11:29:58.264Z"
   },
   {
    "duration": 9,
    "start_time": "2023-02-20T11:29:58.272Z"
   },
   {
    "duration": 18,
    "start_time": "2023-02-20T11:29:58.282Z"
   },
   {
    "duration": 66,
    "start_time": "2023-02-20T11:29:58.302Z"
   },
   {
    "duration": 6,
    "start_time": "2023-02-20T11:29:58.370Z"
   },
   {
    "duration": 8,
    "start_time": "2023-02-20T11:29:58.377Z"
   },
   {
    "duration": 8,
    "start_time": "2023-02-20T11:29:58.387Z"
   },
   {
    "duration": 16,
    "start_time": "2023-02-20T11:29:58.397Z"
   },
   {
    "duration": 46,
    "start_time": "2023-02-20T11:29:58.422Z"
   },
   {
    "duration": 5,
    "start_time": "2023-02-20T11:29:58.469Z"
   },
   {
    "duration": 7,
    "start_time": "2023-02-20T11:29:58.476Z"
   },
   {
    "duration": 7,
    "start_time": "2023-02-20T11:29:58.485Z"
   },
   {
    "duration": 30,
    "start_time": "2023-02-20T11:29:58.494Z"
   },
   {
    "duration": 11,
    "start_time": "2023-02-20T11:29:58.526Z"
   },
   {
    "duration": 5,
    "start_time": "2023-02-20T11:29:58.540Z"
   },
   {
    "duration": 4,
    "start_time": "2023-02-20T11:29:58.547Z"
   },
   {
    "duration": 7,
    "start_time": "2023-02-20T11:29:58.553Z"
   },
   {
    "duration": 9,
    "start_time": "2023-02-20T11:29:58.562Z"
   },
   {
    "duration": 15,
    "start_time": "2023-02-20T11:29:58.573Z"
   },
   {
    "duration": 32,
    "start_time": "2023-02-20T11:29:58.590Z"
   },
   {
    "duration": 41,
    "start_time": "2023-02-20T11:29:58.624Z"
   },
   {
    "duration": 4,
    "start_time": "2023-02-20T11:29:58.667Z"
   },
   {
    "duration": 7,
    "start_time": "2023-02-20T11:29:58.673Z"
   },
   {
    "duration": 17,
    "start_time": "2023-02-20T11:29:58.681Z"
   },
   {
    "duration": 81,
    "start_time": "2023-02-20T11:29:58.700Z"
   },
   {
    "duration": 6,
    "start_time": "2023-02-20T11:29:58.783Z"
   },
   {
    "duration": 38,
    "start_time": "2023-02-20T11:29:58.790Z"
   },
   {
    "duration": 25,
    "start_time": "2023-02-20T11:29:58.830Z"
   },
   {
    "duration": 35,
    "start_time": "2023-02-20T11:29:58.857Z"
   },
   {
    "duration": 6,
    "start_time": "2023-02-20T11:29:58.894Z"
   },
   {
    "duration": 24,
    "start_time": "2023-02-20T11:29:58.922Z"
   },
   {
    "duration": 27,
    "start_time": "2023-02-20T11:29:58.947Z"
   },
   {
    "duration": 23,
    "start_time": "2023-02-20T11:29:58.976Z"
   },
   {
    "duration": 5,
    "start_time": "2023-02-20T11:29:59.000Z"
   },
   {
    "duration": 35,
    "start_time": "2023-02-20T11:29:59.021Z"
   },
   {
    "duration": 26,
    "start_time": "2023-02-20T11:29:59.059Z"
   },
   {
    "duration": 15,
    "start_time": "2023-02-20T11:29:59.087Z"
   },
   {
    "duration": 24,
    "start_time": "2023-02-20T11:29:59.103Z"
   },
   {
    "duration": 30,
    "start_time": "2023-02-20T11:29:59.129Z"
   },
   {
    "duration": 17,
    "start_time": "2023-02-20T11:29:59.161Z"
   },
   {
    "duration": 41,
    "start_time": "2023-02-20T11:29:59.180Z"
   },
   {
    "duration": 21,
    "start_time": "2023-02-20T11:31:26.094Z"
   },
   {
    "duration": 11,
    "start_time": "2023-02-20T11:32:30.524Z"
   },
   {
    "duration": 22,
    "start_time": "2023-02-20T11:32:50.424Z"
   },
   {
    "duration": 28,
    "start_time": "2023-02-20T11:34:47.473Z"
   },
   {
    "duration": 6,
    "start_time": "2023-02-20T11:38:07.069Z"
   },
   {
    "duration": 6,
    "start_time": "2023-02-20T11:38:47.613Z"
   },
   {
    "duration": 100,
    "start_time": "2023-02-20T11:53:18.191Z"
   },
   {
    "duration": 6,
    "start_time": "2023-02-20T12:00:07.065Z"
   },
   {
    "duration": 11,
    "start_time": "2023-02-20T12:00:12.333Z"
   },
   {
    "duration": 6,
    "start_time": "2023-02-20T12:01:01.821Z"
   },
   {
    "duration": 25,
    "start_time": "2023-02-20T12:01:28.081Z"
   },
   {
    "duration": 6,
    "start_time": "2023-02-20T12:01:47.573Z"
   },
   {
    "duration": 26,
    "start_time": "2023-02-20T12:03:25.390Z"
   },
   {
    "duration": 11,
    "start_time": "2023-02-20T12:06:11.898Z"
   },
   {
    "duration": 9,
    "start_time": "2023-02-20T12:06:16.478Z"
   },
   {
    "duration": 10,
    "start_time": "2023-02-20T12:06:23.681Z"
   },
   {
    "duration": 6,
    "start_time": "2023-02-20T12:06:46.926Z"
   },
   {
    "duration": 7,
    "start_time": "2023-02-20T12:07:04.678Z"
   },
   {
    "duration": 6,
    "start_time": "2023-02-20T12:07:10.472Z"
   },
   {
    "duration": 8,
    "start_time": "2023-02-20T12:07:14.564Z"
   },
   {
    "duration": 6,
    "start_time": "2023-02-20T12:08:17.038Z"
   },
   {
    "duration": 11,
    "start_time": "2023-02-20T12:08:17.680Z"
   },
   {
    "duration": 6,
    "start_time": "2023-02-20T12:08:18.299Z"
   },
   {
    "duration": 9,
    "start_time": "2023-02-20T12:08:18.944Z"
   },
   {
    "duration": 3,
    "start_time": "2023-02-20T12:15:27.366Z"
   },
   {
    "duration": 2,
    "start_time": "2023-02-20T12:17:51.292Z"
   },
   {
    "duration": 5,
    "start_time": "2023-02-20T12:19:52.076Z"
   },
   {
    "duration": 6,
    "start_time": "2023-02-20T12:21:02.297Z"
   },
   {
    "duration": 10,
    "start_time": "2023-02-20T12:24:29.737Z"
   },
   {
    "duration": 9,
    "start_time": "2023-02-20T12:24:55.659Z"
   },
   {
    "duration": 36,
    "start_time": "2023-02-20T12:25:55.101Z"
   },
   {
    "duration": 5,
    "start_time": "2023-02-20T12:26:26.604Z"
   },
   {
    "duration": 5,
    "start_time": "2023-02-20T12:27:28.293Z"
   },
   {
    "duration": 6,
    "start_time": "2023-02-20T12:28:43.965Z"
   },
   {
    "duration": 16,
    "start_time": "2023-02-20T12:31:14.775Z"
   },
   {
    "duration": 963,
    "start_time": "2023-02-20T12:32:55.701Z"
   },
   {
    "duration": 842,
    "start_time": "2023-02-20T12:33:14.886Z"
   },
   {
    "duration": 62,
    "start_time": "2023-02-20T12:34:07.203Z"
   },
   {
    "duration": 480,
    "start_time": "2023-02-20T12:34:13.784Z"
   },
   {
    "duration": 728,
    "start_time": "2023-02-20T12:34:41.670Z"
   },
   {
    "duration": 701,
    "start_time": "2023-02-20T12:34:54.825Z"
   },
   {
    "duration": 11,
    "start_time": "2023-02-20T12:36:13.315Z"
   },
   {
    "duration": 13,
    "start_time": "2023-02-20T12:36:55.149Z"
   },
   {
    "duration": 1115,
    "start_time": "2023-02-20T12:39:11.740Z"
   },
   {
    "duration": 94,
    "start_time": "2023-02-20T12:39:12.857Z"
   },
   {
    "duration": 15,
    "start_time": "2023-02-20T12:39:12.952Z"
   },
   {
    "duration": 2,
    "start_time": "2023-02-20T12:39:12.969Z"
   },
   {
    "duration": 25,
    "start_time": "2023-02-20T12:39:12.973Z"
   },
   {
    "duration": 87,
    "start_time": "2023-02-20T12:39:13.000Z"
   },
   {
    "duration": 2007,
    "start_time": "2023-02-20T12:39:13.089Z"
   },
   {
    "duration": 12,
    "start_time": "2023-02-20T12:39:15.098Z"
   },
   {
    "duration": 1055,
    "start_time": "2023-02-20T12:39:15.111Z"
   },
   {
    "duration": 4,
    "start_time": "2023-02-20T12:39:16.169Z"
   },
   {
    "duration": 7,
    "start_time": "2023-02-20T12:39:16.175Z"
   },
   {
    "duration": 40,
    "start_time": "2023-02-20T12:39:16.183Z"
   },
   {
    "duration": 6,
    "start_time": "2023-02-20T12:39:16.225Z"
   },
   {
    "duration": 6,
    "start_time": "2023-02-20T12:39:16.232Z"
   },
   {
    "duration": 5,
    "start_time": "2023-02-20T12:39:16.240Z"
   },
   {
    "duration": 9,
    "start_time": "2023-02-20T12:39:16.246Z"
   },
   {
    "duration": 7,
    "start_time": "2023-02-20T12:39:16.257Z"
   },
   {
    "duration": 5,
    "start_time": "2023-02-20T12:39:16.266Z"
   },
   {
    "duration": 7,
    "start_time": "2023-02-20T12:39:16.272Z"
   },
   {
    "duration": 41,
    "start_time": "2023-02-20T12:39:16.280Z"
   },
   {
    "duration": 14,
    "start_time": "2023-02-20T12:39:16.323Z"
   },
   {
    "duration": 2933,
    "start_time": "2023-02-20T12:39:16.339Z"
   },
   {
    "duration": 2,
    "start_time": "2023-02-20T12:39:19.274Z"
   },
   {
    "duration": 16,
    "start_time": "2023-02-20T12:39:19.277Z"
   },
   {
    "duration": 6,
    "start_time": "2023-02-20T12:39:19.294Z"
   },
   {
    "duration": 41,
    "start_time": "2023-02-20T12:39:19.302Z"
   },
   {
    "duration": 5,
    "start_time": "2023-02-20T12:39:19.345Z"
   },
   {
    "duration": 5,
    "start_time": "2023-02-20T12:39:19.353Z"
   },
   {
    "duration": 7,
    "start_time": "2023-02-20T12:39:19.360Z"
   },
   {
    "duration": 69,
    "start_time": "2023-02-20T12:39:19.368Z"
   },
   {
    "duration": 20,
    "start_time": "2023-02-20T12:39:19.439Z"
   },
   {
    "duration": 5,
    "start_time": "2023-02-20T12:39:19.461Z"
   },
   {
    "duration": 9,
    "start_time": "2023-02-20T12:39:19.467Z"
   },
   {
    "duration": 54,
    "start_time": "2023-02-20T12:39:19.478Z"
   },
   {
    "duration": 5,
    "start_time": "2023-02-20T12:39:19.534Z"
   },
   {
    "duration": 5,
    "start_time": "2023-02-20T12:39:19.541Z"
   },
   {
    "duration": 9,
    "start_time": "2023-02-20T12:39:19.548Z"
   },
   {
    "duration": 6,
    "start_time": "2023-02-20T12:39:19.558Z"
   },
   {
    "duration": 8,
    "start_time": "2023-02-20T12:39:19.565Z"
   },
   {
    "duration": 5,
    "start_time": "2023-02-20T12:39:19.574Z"
   },
   {
    "duration": 4,
    "start_time": "2023-02-20T12:39:19.580Z"
   },
   {
    "duration": 5,
    "start_time": "2023-02-20T12:39:19.621Z"
   },
   {
    "duration": 14,
    "start_time": "2023-02-20T12:39:19.628Z"
   },
   {
    "duration": 5,
    "start_time": "2023-02-20T12:39:19.643Z"
   },
   {
    "duration": 8,
    "start_time": "2023-02-20T12:39:19.650Z"
   },
   {
    "duration": 119,
    "start_time": "2023-02-20T12:39:19.660Z"
   },
   {
    "duration": 0,
    "start_time": "2023-02-20T12:39:19.781Z"
   },
   {
    "duration": 0,
    "start_time": "2023-02-20T12:39:19.782Z"
   },
   {
    "duration": 0,
    "start_time": "2023-02-20T12:39:19.783Z"
   },
   {
    "duration": 0,
    "start_time": "2023-02-20T12:39:19.784Z"
   },
   {
    "duration": 0,
    "start_time": "2023-02-20T12:39:19.785Z"
   },
   {
    "duration": 0,
    "start_time": "2023-02-20T12:39:19.786Z"
   },
   {
    "duration": 0,
    "start_time": "2023-02-20T12:39:19.787Z"
   },
   {
    "duration": 0,
    "start_time": "2023-02-20T12:39:19.789Z"
   },
   {
    "duration": 0,
    "start_time": "2023-02-20T12:39:19.790Z"
   },
   {
    "duration": 0,
    "start_time": "2023-02-20T12:39:19.792Z"
   },
   {
    "duration": 0,
    "start_time": "2023-02-20T12:39:19.793Z"
   },
   {
    "duration": 0,
    "start_time": "2023-02-20T12:39:19.794Z"
   },
   {
    "duration": 0,
    "start_time": "2023-02-20T12:39:19.821Z"
   },
   {
    "duration": 0,
    "start_time": "2023-02-20T12:39:19.822Z"
   },
   {
    "duration": 0,
    "start_time": "2023-02-20T12:39:19.824Z"
   },
   {
    "duration": 0,
    "start_time": "2023-02-20T12:39:19.826Z"
   },
   {
    "duration": 0,
    "start_time": "2023-02-20T12:39:19.827Z"
   },
   {
    "duration": 0,
    "start_time": "2023-02-20T12:39:19.829Z"
   },
   {
    "duration": 0,
    "start_time": "2023-02-20T12:39:19.830Z"
   },
   {
    "duration": 0,
    "start_time": "2023-02-20T12:39:19.831Z"
   },
   {
    "duration": 3,
    "start_time": "2023-02-20T12:39:56.402Z"
   },
   {
    "duration": 39,
    "start_time": "2023-02-20T12:39:58.101Z"
   },
   {
    "duration": 4,
    "start_time": "2023-02-20T12:40:01.725Z"
   },
   {
    "duration": 14,
    "start_time": "2023-02-20T12:40:02.233Z"
   },
   {
    "duration": 6,
    "start_time": "2023-02-20T12:40:15.288Z"
   },
   {
    "duration": 71,
    "start_time": "2023-02-20T12:40:16.054Z"
   },
   {
    "duration": 6,
    "start_time": "2023-02-20T12:40:18.698Z"
   },
   {
    "duration": 5,
    "start_time": "2023-02-20T12:40:21.811Z"
   },
   {
    "duration": 12,
    "start_time": "2023-02-20T12:40:24.213Z"
   },
   {
    "duration": 9,
    "start_time": "2023-02-20T12:40:24.618Z"
   },
   {
    "duration": 11,
    "start_time": "2023-02-20T12:40:25.051Z"
   },
   {
    "duration": 25,
    "start_time": "2023-02-20T12:40:29.214Z"
   },
   {
    "duration": 25,
    "start_time": "2023-02-20T12:40:29.728Z"
   },
   {
    "duration": 5,
    "start_time": "2023-02-20T12:40:30.585Z"
   },
   {
    "duration": 32,
    "start_time": "2023-02-20T12:40:31.345Z"
   },
   {
    "duration": 37,
    "start_time": "2023-02-20T12:40:32.293Z"
   },
   {
    "duration": 9,
    "start_time": "2023-02-20T12:40:32.992Z"
   },
   {
    "duration": 6,
    "start_time": "2023-02-20T12:40:33.590Z"
   },
   {
    "duration": 25,
    "start_time": "2023-02-20T12:40:34.045Z"
   },
   {
    "duration": 18,
    "start_time": "2023-02-20T12:40:34.466Z"
   },
   {
    "duration": 15,
    "start_time": "2023-02-20T12:40:35.812Z"
   },
   {
    "duration": 6,
    "start_time": "2023-02-20T12:42:19.157Z"
   },
   {
    "duration": 9,
    "start_time": "2023-02-20T12:42:44.809Z"
   },
   {
    "duration": 27,
    "start_time": "2023-02-20T13:15:00.886Z"
   },
   {
    "duration": 1213,
    "start_time": "2023-02-20T13:15:30.247Z"
   },
   {
    "duration": 961,
    "start_time": "2023-02-20T13:16:53.143Z"
   },
   {
    "duration": 48,
    "start_time": "2023-02-20T16:48:13.825Z"
   },
   {
    "duration": 1508,
    "start_time": "2023-02-20T16:48:20.335Z"
   },
   {
    "duration": 322,
    "start_time": "2023-02-20T16:48:21.846Z"
   },
   {
    "duration": 16,
    "start_time": "2023-02-20T16:48:22.170Z"
   },
   {
    "duration": 3,
    "start_time": "2023-02-20T16:48:22.188Z"
   },
   {
    "duration": 30,
    "start_time": "2023-02-20T16:48:22.192Z"
   },
   {
    "duration": 89,
    "start_time": "2023-02-20T16:48:22.224Z"
   },
   {
    "duration": 2085,
    "start_time": "2023-02-20T16:48:22.315Z"
   },
   {
    "duration": 11,
    "start_time": "2023-02-20T16:48:24.403Z"
   },
   {
    "duration": 1151,
    "start_time": "2023-02-20T16:48:24.416Z"
   },
   {
    "duration": 4,
    "start_time": "2023-02-20T16:48:25.570Z"
   },
   {
    "duration": 32,
    "start_time": "2023-02-20T16:48:25.576Z"
   },
   {
    "duration": 26,
    "start_time": "2023-02-20T16:48:25.610Z"
   },
   {
    "duration": 11,
    "start_time": "2023-02-20T16:48:25.638Z"
   },
   {
    "duration": 6,
    "start_time": "2023-02-20T16:48:25.651Z"
   },
   {
    "duration": 14,
    "start_time": "2023-02-20T16:48:25.659Z"
   },
   {
    "duration": 6,
    "start_time": "2023-02-20T16:48:25.675Z"
   },
   {
    "duration": 9,
    "start_time": "2023-02-20T16:48:25.683Z"
   },
   {
    "duration": 10,
    "start_time": "2023-02-20T16:48:25.694Z"
   },
   {
    "duration": 7,
    "start_time": "2023-02-20T16:48:25.706Z"
   },
   {
    "duration": 33,
    "start_time": "2023-02-20T16:48:25.714Z"
   },
   {
    "duration": 6,
    "start_time": "2023-02-20T16:48:25.749Z"
   },
   {
    "duration": 3079,
    "start_time": "2023-02-20T16:48:25.756Z"
   },
   {
    "duration": 8,
    "start_time": "2023-02-20T16:48:28.837Z"
   },
   {
    "duration": 17,
    "start_time": "2023-02-20T16:48:28.847Z"
   },
   {
    "duration": 12,
    "start_time": "2023-02-20T16:48:28.865Z"
   },
   {
    "duration": 35,
    "start_time": "2023-02-20T16:48:28.879Z"
   },
   {
    "duration": 57,
    "start_time": "2023-02-20T16:48:28.916Z"
   },
   {
    "duration": 8,
    "start_time": "2023-02-20T16:48:28.980Z"
   },
   {
    "duration": 16,
    "start_time": "2023-02-20T16:48:28.990Z"
   },
   {
    "duration": 68,
    "start_time": "2023-02-20T16:48:29.007Z"
   },
   {
    "duration": 20,
    "start_time": "2023-02-20T16:48:29.077Z"
   },
   {
    "duration": 24,
    "start_time": "2023-02-20T16:48:29.100Z"
   },
   {
    "duration": 13,
    "start_time": "2023-02-20T16:48:29.126Z"
   },
   {
    "duration": 39,
    "start_time": "2023-02-20T16:48:29.140Z"
   },
   {
    "duration": 5,
    "start_time": "2023-02-20T16:48:29.181Z"
   },
   {
    "duration": 7,
    "start_time": "2023-02-20T16:48:29.188Z"
   },
   {
    "duration": 20,
    "start_time": "2023-02-20T16:48:29.196Z"
   },
   {
    "duration": 6,
    "start_time": "2023-02-20T16:48:29.217Z"
   },
   {
    "duration": 10,
    "start_time": "2023-02-20T16:48:29.224Z"
   },
   {
    "duration": 14,
    "start_time": "2023-02-20T16:48:29.236Z"
   },
   {
    "duration": 22,
    "start_time": "2023-02-20T16:48:29.252Z"
   },
   {
    "duration": 21,
    "start_time": "2023-02-20T16:48:29.275Z"
   },
   {
    "duration": 24,
    "start_time": "2023-02-20T16:48:29.298Z"
   },
   {
    "duration": 24,
    "start_time": "2023-02-20T16:48:29.324Z"
   },
   {
    "duration": 31,
    "start_time": "2023-02-20T16:48:29.350Z"
   },
   {
    "duration": 26,
    "start_time": "2023-02-20T16:48:29.383Z"
   },
   {
    "duration": 79,
    "start_time": "2023-02-20T16:48:29.411Z"
   },
   {
    "duration": 6,
    "start_time": "2023-02-20T16:48:29.491Z"
   },
   {
    "duration": 33,
    "start_time": "2023-02-20T16:48:29.498Z"
   },
   {
    "duration": 23,
    "start_time": "2023-02-20T16:48:29.533Z"
   },
   {
    "duration": 18,
    "start_time": "2023-02-20T16:48:29.557Z"
   },
   {
    "duration": 103,
    "start_time": "2023-02-20T16:48:29.577Z"
   },
   {
    "duration": 5,
    "start_time": "2023-02-20T16:48:29.682Z"
   },
   {
    "duration": 19,
    "start_time": "2023-02-20T16:48:29.689Z"
   },
   {
    "duration": 18,
    "start_time": "2023-02-20T16:48:29.709Z"
   },
   {
    "duration": 21,
    "start_time": "2023-02-20T16:48:29.729Z"
   },
   {
    "duration": 8,
    "start_time": "2023-02-20T16:48:29.752Z"
   },
   {
    "duration": 33,
    "start_time": "2023-02-20T16:48:29.761Z"
   },
   {
    "duration": 1564,
    "start_time": "2023-02-20T16:48:29.796Z"
   },
   {
    "duration": 0,
    "start_time": "2023-02-20T16:48:31.362Z"
   },
   {
    "duration": 0,
    "start_time": "2023-02-20T16:48:31.364Z"
   },
   {
    "duration": 0,
    "start_time": "2023-02-20T16:48:31.365Z"
   },
   {
    "duration": 0,
    "start_time": "2023-02-20T16:48:31.366Z"
   },
   {
    "duration": 0,
    "start_time": "2023-02-20T16:48:31.367Z"
   },
   {
    "duration": 0,
    "start_time": "2023-02-20T16:48:31.369Z"
   },
   {
    "duration": 0,
    "start_time": "2023-02-20T16:48:31.370Z"
   },
   {
    "duration": 0,
    "start_time": "2023-02-20T16:48:31.371Z"
   },
   {
    "duration": 0,
    "start_time": "2023-02-20T16:48:31.372Z"
   },
   {
    "duration": 15,
    "start_time": "2023-02-20T16:50:03.167Z"
   },
   {
    "duration": 18,
    "start_time": "2023-02-20T16:51:25.424Z"
   },
   {
    "duration": 57,
    "start_time": "2023-02-20T16:57:07.085Z"
   },
   {
    "duration": 8,
    "start_time": "2023-02-20T16:57:52.714Z"
   },
   {
    "duration": 8,
    "start_time": "2023-02-20T17:11:30.519Z"
   },
   {
    "duration": 9,
    "start_time": "2023-02-20T17:11:42.031Z"
   },
   {
    "duration": 13,
    "start_time": "2023-02-20T17:12:23.059Z"
   },
   {
    "duration": 9,
    "start_time": "2023-02-20T17:12:33.150Z"
   },
   {
    "duration": 8,
    "start_time": "2023-02-20T17:12:37.497Z"
   },
   {
    "duration": 11,
    "start_time": "2023-02-20T17:15:07.558Z"
   },
   {
    "duration": 420,
    "start_time": "2023-02-20T17:18:16.109Z"
   },
   {
    "duration": 446,
    "start_time": "2023-02-20T17:18:28.136Z"
   },
   {
    "duration": 11,
    "start_time": "2023-02-20T17:21:27.103Z"
   },
   {
    "duration": 6,
    "start_time": "2023-02-20T17:21:39.760Z"
   },
   {
    "duration": 11,
    "start_time": "2023-02-20T17:21:48.735Z"
   },
   {
    "duration": 11,
    "start_time": "2023-02-20T17:22:04.702Z"
   },
   {
    "duration": 17,
    "start_time": "2023-02-20T17:24:22.668Z"
   },
   {
    "duration": 4,
    "start_time": "2023-02-20T17:24:36.896Z"
   },
   {
    "duration": 11,
    "start_time": "2023-02-20T17:24:52.527Z"
   },
   {
    "duration": 10,
    "start_time": "2023-02-20T17:25:15.359Z"
   },
   {
    "duration": 72,
    "start_time": "2023-02-20T17:25:50.620Z"
   },
   {
    "duration": 44,
    "start_time": "2023-02-20T17:25:58.503Z"
   },
   {
    "duration": 8,
    "start_time": "2023-02-20T17:26:05.992Z"
   },
   {
    "duration": 44,
    "start_time": "2023-02-20T17:32:48.043Z"
   },
   {
    "duration": 50,
    "start_time": "2023-02-20T17:33:22.481Z"
   },
   {
    "duration": 12,
    "start_time": "2023-02-20T17:37:05.126Z"
   },
   {
    "duration": 17,
    "start_time": "2023-02-20T17:37:28.627Z"
   },
   {
    "duration": 9,
    "start_time": "2023-02-20T17:38:10.198Z"
   },
   {
    "duration": 69,
    "start_time": "2023-02-20T17:38:10.209Z"
   },
   {
    "duration": 5,
    "start_time": "2023-02-20T17:39:26.562Z"
   },
   {
    "duration": 2063,
    "start_time": "2023-02-20T17:40:02.386Z"
   },
   {
    "duration": 45,
    "start_time": "2023-02-20T17:40:09.538Z"
   },
   {
    "duration": 36,
    "start_time": "2023-02-20T17:40:53.828Z"
   },
   {
    "duration": 38,
    "start_time": "2023-02-20T17:41:13.314Z"
   },
   {
    "duration": 25,
    "start_time": "2023-02-20T17:42:27.338Z"
   },
   {
    "duration": 29,
    "start_time": "2023-02-20T17:42:34.336Z"
   },
   {
    "duration": 40,
    "start_time": "2023-02-20T17:42:59.065Z"
   },
   {
    "duration": 5,
    "start_time": "2023-02-20T17:43:31.013Z"
   },
   {
    "duration": 40,
    "start_time": "2023-02-20T17:43:35.067Z"
   },
   {
    "duration": 56,
    "start_time": "2023-02-20T17:44:14.545Z"
   },
   {
    "duration": 12,
    "start_time": "2023-02-20T17:50:44.429Z"
   },
   {
    "duration": 11,
    "start_time": "2023-02-20T17:51:07.687Z"
   },
   {
    "duration": 3,
    "start_time": "2023-02-20T17:57:00.914Z"
   },
   {
    "duration": 7,
    "start_time": "2023-02-20T17:57:23.269Z"
   },
   {
    "duration": 5,
    "start_time": "2023-02-20T17:57:31.590Z"
   },
   {
    "duration": 11,
    "start_time": "2023-02-20T17:57:39.833Z"
   },
   {
    "duration": 11,
    "start_time": "2023-02-20T17:58:41.116Z"
   },
   {
    "duration": 12,
    "start_time": "2023-02-20T17:59:10.725Z"
   },
   {
    "duration": 16,
    "start_time": "2023-02-20T17:59:55.394Z"
   },
   {
    "duration": 3,
    "start_time": "2023-02-20T18:03:06.499Z"
   },
   {
    "duration": 237,
    "start_time": "2023-02-20T18:03:33.841Z"
   },
   {
    "duration": 236,
    "start_time": "2023-02-20T18:03:53.739Z"
   },
   {
    "duration": 232,
    "start_time": "2023-02-20T18:04:23.026Z"
   },
   {
    "duration": 214,
    "start_time": "2023-02-20T18:04:30.401Z"
   },
   {
    "duration": 18663,
    "start_time": "2023-02-20T18:05:12.821Z"
   },
   {
    "duration": 3,
    "start_time": "2023-02-20T18:05:34.783Z"
   },
   {
    "duration": 43,
    "start_time": "2023-02-20T18:05:42.085Z"
   },
   {
    "duration": 71,
    "start_time": "2023-02-20T18:05:56.497Z"
   },
   {
    "duration": 5,
    "start_time": "2023-02-20T18:05:59.823Z"
   },
   {
    "duration": 18083,
    "start_time": "2023-02-20T18:06:02.894Z"
   },
   {
    "duration": 230,
    "start_time": "2023-02-20T18:06:30.837Z"
   },
   {
    "duration": 11,
    "start_time": "2023-02-20T18:06:38.789Z"
   },
   {
    "duration": 5,
    "start_time": "2023-02-20T18:06:59.302Z"
   },
   {
    "duration": 4,
    "start_time": "2023-02-20T18:07:04.300Z"
   },
   {
    "duration": 822,
    "start_time": "2023-02-20T18:07:13.014Z"
   },
   {
    "duration": 37,
    "start_time": "2023-02-20T18:08:23.301Z"
   },
   {
    "duration": 46,
    "start_time": "2023-02-20T18:08:48.709Z"
   },
   {
    "duration": 15,
    "start_time": "2023-02-20T18:10:01.402Z"
   },
   {
    "duration": 63,
    "start_time": "2023-02-20T18:10:19.464Z"
   },
   {
    "duration": 38,
    "start_time": "2023-02-20T18:11:13.661Z"
   },
   {
    "duration": 99,
    "start_time": "2023-02-20T18:11:34.491Z"
   },
   {
    "duration": 43,
    "start_time": "2023-02-20T18:12:59.268Z"
   },
   {
    "duration": 8,
    "start_time": "2023-02-20T18:37:21.785Z"
   },
   {
    "duration": 6,
    "start_time": "2023-02-20T18:37:34.678Z"
   },
   {
    "duration": 88,
    "start_time": "2023-02-20T18:38:03.910Z"
   },
   {
    "duration": 12,
    "start_time": "2023-02-20T18:38:12.550Z"
   },
   {
    "duration": 67,
    "start_time": "2023-02-20T18:39:28.897Z"
   },
   {
    "duration": 12,
    "start_time": "2023-02-20T18:39:51.731Z"
   },
   {
    "duration": 1403,
    "start_time": "2023-02-20T18:42:29.569Z"
   },
   {
    "duration": 209,
    "start_time": "2023-02-20T18:42:30.975Z"
   },
   {
    "duration": 17,
    "start_time": "2023-02-20T18:42:31.186Z"
   },
   {
    "duration": 24,
    "start_time": "2023-02-20T18:42:31.205Z"
   },
   {
    "duration": 48,
    "start_time": "2023-02-20T18:42:31.231Z"
   },
   {
    "duration": 114,
    "start_time": "2023-02-20T18:42:31.281Z"
   },
   {
    "duration": 2165,
    "start_time": "2023-02-20T18:42:31.397Z"
   },
   {
    "duration": 11,
    "start_time": "2023-02-20T18:42:33.564Z"
   },
   {
    "duration": 1165,
    "start_time": "2023-02-20T18:42:33.577Z"
   },
   {
    "duration": 9,
    "start_time": "2023-02-20T18:42:34.752Z"
   },
   {
    "duration": 15,
    "start_time": "2023-02-20T18:42:34.763Z"
   },
   {
    "duration": 28,
    "start_time": "2023-02-20T18:42:34.780Z"
   },
   {
    "duration": 13,
    "start_time": "2023-02-20T18:42:34.809Z"
   },
   {
    "duration": 15,
    "start_time": "2023-02-20T18:42:34.824Z"
   },
   {
    "duration": 23,
    "start_time": "2023-02-20T18:42:34.840Z"
   },
   {
    "duration": 9,
    "start_time": "2023-02-20T18:42:34.864Z"
   },
   {
    "duration": 7,
    "start_time": "2023-02-20T18:42:34.874Z"
   },
   {
    "duration": 8,
    "start_time": "2023-02-20T18:42:34.882Z"
   },
   {
    "duration": 7,
    "start_time": "2023-02-20T18:42:34.891Z"
   },
   {
    "duration": 6,
    "start_time": "2023-02-20T18:42:34.899Z"
   },
   {
    "duration": 6,
    "start_time": "2023-02-20T18:42:34.907Z"
   },
   {
    "duration": 3375,
    "start_time": "2023-02-20T18:42:34.914Z"
   },
   {
    "duration": 3,
    "start_time": "2023-02-20T18:42:38.290Z"
   },
   {
    "duration": 10,
    "start_time": "2023-02-20T18:42:38.295Z"
   },
   {
    "duration": 3,
    "start_time": "2023-02-20T18:42:38.307Z"
   },
   {
    "duration": 51,
    "start_time": "2023-02-20T18:42:38.312Z"
   },
   {
    "duration": 5,
    "start_time": "2023-02-20T18:42:38.364Z"
   },
   {
    "duration": 5,
    "start_time": "2023-02-20T18:42:38.374Z"
   },
   {
    "duration": 6,
    "start_time": "2023-02-20T18:42:38.380Z"
   },
   {
    "duration": 78,
    "start_time": "2023-02-20T18:42:38.388Z"
   },
   {
    "duration": 20,
    "start_time": "2023-02-20T18:42:38.468Z"
   },
   {
    "duration": 7,
    "start_time": "2023-02-20T18:42:38.490Z"
   },
   {
    "duration": 8,
    "start_time": "2023-02-20T18:42:38.498Z"
   },
   {
    "duration": 62,
    "start_time": "2023-02-20T18:42:38.507Z"
   },
   {
    "duration": 8,
    "start_time": "2023-02-20T18:42:38.572Z"
   },
   {
    "duration": 7,
    "start_time": "2023-02-20T18:42:38.582Z"
   },
   {
    "duration": 24,
    "start_time": "2023-02-20T18:42:38.591Z"
   },
   {
    "duration": 51,
    "start_time": "2023-02-20T18:42:38.617Z"
   },
   {
    "duration": 19,
    "start_time": "2023-02-20T18:42:38.670Z"
   },
   {
    "duration": 20,
    "start_time": "2023-02-20T18:42:38.691Z"
   },
   {
    "duration": 6,
    "start_time": "2023-02-20T18:42:38.713Z"
   },
   {
    "duration": 11,
    "start_time": "2023-02-20T18:42:38.721Z"
   },
   {
    "duration": 16,
    "start_time": "2023-02-20T18:42:38.734Z"
   },
   {
    "duration": 20,
    "start_time": "2023-02-20T18:42:38.755Z"
   },
   {
    "duration": 8,
    "start_time": "2023-02-20T18:42:38.776Z"
   },
   {
    "duration": 5,
    "start_time": "2023-02-20T18:42:38.786Z"
   },
   {
    "duration": 43,
    "start_time": "2023-02-20T18:42:38.793Z"
   },
   {
    "duration": 7,
    "start_time": "2023-02-20T18:42:38.838Z"
   },
   {
    "duration": 19,
    "start_time": "2023-02-20T18:42:38.849Z"
   },
   {
    "duration": 14,
    "start_time": "2023-02-20T18:42:38.870Z"
   },
   {
    "duration": 14,
    "start_time": "2023-02-20T18:42:38.886Z"
   },
   {
    "duration": 8,
    "start_time": "2023-02-20T18:42:38.902Z"
   },
   {
    "duration": 3,
    "start_time": "2023-02-20T18:42:38.912Z"
   },
   {
    "duration": 8,
    "start_time": "2023-02-20T18:42:38.917Z"
   },
   {
    "duration": 35,
    "start_time": "2023-02-20T18:42:38.927Z"
   },
   {
    "duration": 6,
    "start_time": "2023-02-20T18:42:38.964Z"
   },
   {
    "duration": 31,
    "start_time": "2023-02-20T18:42:38.972Z"
   },
   {
    "duration": 55,
    "start_time": "2023-02-20T18:42:39.005Z"
   },
   {
    "duration": 11,
    "start_time": "2023-02-20T18:42:39.062Z"
   },
   {
    "duration": 16,
    "start_time": "2023-02-20T18:42:39.075Z"
   },
   {
    "duration": 17,
    "start_time": "2023-02-20T18:42:39.093Z"
   },
   {
    "duration": 2,
    "start_time": "2023-02-20T18:42:39.112Z"
   },
   {
    "duration": 8,
    "start_time": "2023-02-20T18:42:39.116Z"
   },
   {
    "duration": 19,
    "start_time": "2023-02-20T18:42:39.126Z"
   },
   {
    "duration": 10,
    "start_time": "2023-02-20T18:42:39.147Z"
   },
   {
    "duration": 24,
    "start_time": "2023-02-20T18:42:39.158Z"
   },
   {
    "duration": 103,
    "start_time": "2023-02-20T18:42:39.184Z"
   },
   {
    "duration": 6,
    "start_time": "2023-02-20T18:42:39.289Z"
   },
   {
    "duration": 13,
    "start_time": "2023-02-20T18:42:39.296Z"
   },
   {
    "duration": 6,
    "start_time": "2023-02-20T18:42:39.311Z"
   },
   {
    "duration": 95,
    "start_time": "2023-02-20T18:42:39.318Z"
   },
   {
    "duration": 9,
    "start_time": "2023-02-20T18:42:39.414Z"
   },
   {
    "duration": 60,
    "start_time": "2023-02-20T18:42:39.425Z"
   },
   {
    "duration": 1098,
    "start_time": "2023-02-20T18:42:39.486Z"
   },
   {
    "duration": 0,
    "start_time": "2023-02-20T18:42:40.586Z"
   },
   {
    "duration": 0,
    "start_time": "2023-02-20T18:42:40.587Z"
   },
   {
    "duration": 0,
    "start_time": "2023-02-20T18:42:40.588Z"
   },
   {
    "duration": 0,
    "start_time": "2023-02-20T18:42:40.590Z"
   },
   {
    "duration": 0,
    "start_time": "2023-02-20T18:42:40.592Z"
   },
   {
    "duration": 0,
    "start_time": "2023-02-20T18:42:40.593Z"
   },
   {
    "duration": 0,
    "start_time": "2023-02-20T18:42:40.595Z"
   },
   {
    "duration": 0,
    "start_time": "2023-02-20T18:42:40.596Z"
   },
   {
    "duration": 0,
    "start_time": "2023-02-20T18:42:40.597Z"
   },
   {
    "duration": 10,
    "start_time": "2023-02-20T18:43:13.108Z"
   },
   {
    "duration": 57,
    "start_time": "2023-02-20T18:44:00.812Z"
   },
   {
    "duration": 1304,
    "start_time": "2023-02-20T18:44:12.736Z"
   },
   {
    "duration": 100,
    "start_time": "2023-02-20T18:44:16.325Z"
   },
   {
    "duration": 17,
    "start_time": "2023-02-20T18:44:18.926Z"
   },
   {
    "duration": 112,
    "start_time": "2023-02-20T18:47:11.724Z"
   },
   {
    "duration": 17,
    "start_time": "2023-02-20T18:47:12.296Z"
   },
   {
    "duration": 15,
    "start_time": "2023-02-20T18:47:27.161Z"
   },
   {
    "duration": 34,
    "start_time": "2023-02-20T18:48:02.021Z"
   },
   {
    "duration": 866,
    "start_time": "2023-02-20T18:48:02.465Z"
   },
   {
    "duration": 8,
    "start_time": "2023-02-20T18:48:29.712Z"
   },
   {
    "duration": 28,
    "start_time": "2023-02-20T18:48:33.535Z"
   },
   {
    "duration": 5,
    "start_time": "2023-02-20T18:48:34.236Z"
   },
   {
    "duration": 36,
    "start_time": "2023-02-20T18:48:34.908Z"
   },
   {
    "duration": 38,
    "start_time": "2023-02-20T18:48:35.797Z"
   },
   {
    "duration": 9,
    "start_time": "2023-02-20T18:48:38.208Z"
   },
   {
    "duration": 7,
    "start_time": "2023-02-20T18:48:39.278Z"
   },
   {
    "duration": 26,
    "start_time": "2023-02-20T18:48:49.011Z"
   },
   {
    "duration": 16,
    "start_time": "2023-02-20T18:48:49.594Z"
   },
   {
    "duration": 16,
    "start_time": "2023-02-20T18:50:24.342Z"
   },
   {
    "duration": 16,
    "start_time": "2023-02-20T18:50:31.162Z"
   },
   {
    "duration": 1257,
    "start_time": "2023-02-20T19:41:14.209Z"
   },
   {
    "duration": 95,
    "start_time": "2023-02-20T19:41:15.469Z"
   },
   {
    "duration": 20,
    "start_time": "2023-02-20T19:41:15.566Z"
   },
   {
    "duration": 5,
    "start_time": "2023-02-20T19:41:15.589Z"
   },
   {
    "duration": 48,
    "start_time": "2023-02-20T19:41:15.596Z"
   },
   {
    "duration": 80,
    "start_time": "2023-02-20T19:41:15.647Z"
   },
   {
    "duration": 2136,
    "start_time": "2023-02-20T19:41:15.729Z"
   },
   {
    "duration": 11,
    "start_time": "2023-02-20T19:41:17.868Z"
   },
   {
    "duration": 1151,
    "start_time": "2023-02-20T19:41:17.880Z"
   },
   {
    "duration": 12,
    "start_time": "2023-02-20T19:41:19.035Z"
   },
   {
    "duration": 15,
    "start_time": "2023-02-20T19:41:19.049Z"
   },
   {
    "duration": 29,
    "start_time": "2023-02-20T19:41:19.066Z"
   },
   {
    "duration": 5,
    "start_time": "2023-02-20T19:41:19.097Z"
   },
   {
    "duration": 8,
    "start_time": "2023-02-20T19:41:19.104Z"
   },
   {
    "duration": 7,
    "start_time": "2023-02-20T19:41:19.114Z"
   },
   {
    "duration": 6,
    "start_time": "2023-02-20T19:41:19.145Z"
   },
   {
    "duration": 12,
    "start_time": "2023-02-20T19:41:19.153Z"
   },
   {
    "duration": 9,
    "start_time": "2023-02-20T19:41:19.167Z"
   },
   {
    "duration": 8,
    "start_time": "2023-02-20T19:41:19.178Z"
   },
   {
    "duration": 8,
    "start_time": "2023-02-20T19:41:19.187Z"
   },
   {
    "duration": 8,
    "start_time": "2023-02-20T19:41:19.196Z"
   },
   {
    "duration": 3298,
    "start_time": "2023-02-20T19:41:19.206Z"
   },
   {
    "duration": 4,
    "start_time": "2023-02-20T19:41:22.505Z"
   },
   {
    "duration": 10,
    "start_time": "2023-02-20T19:41:22.510Z"
   },
   {
    "duration": 11,
    "start_time": "2023-02-20T19:41:22.522Z"
   },
   {
    "duration": 37,
    "start_time": "2023-02-20T19:41:22.534Z"
   },
   {
    "duration": 5,
    "start_time": "2023-02-20T19:41:22.573Z"
   },
   {
    "duration": 7,
    "start_time": "2023-02-20T19:41:22.582Z"
   },
   {
    "duration": 8,
    "start_time": "2023-02-20T19:41:22.591Z"
   },
   {
    "duration": 87,
    "start_time": "2023-02-20T19:41:22.600Z"
   },
   {
    "duration": 21,
    "start_time": "2023-02-20T19:41:22.688Z"
   },
   {
    "duration": 5,
    "start_time": "2023-02-20T19:41:22.712Z"
   },
   {
    "duration": 28,
    "start_time": "2023-02-20T19:41:22.718Z"
   },
   {
    "duration": 31,
    "start_time": "2023-02-20T19:41:22.748Z"
   },
   {
    "duration": 5,
    "start_time": "2023-02-20T19:41:22.780Z"
   },
   {
    "duration": 5,
    "start_time": "2023-02-20T19:41:22.787Z"
   },
   {
    "duration": 6,
    "start_time": "2023-02-20T19:41:22.794Z"
   },
   {
    "duration": 6,
    "start_time": "2023-02-20T19:41:22.802Z"
   },
   {
    "duration": 93,
    "start_time": "2023-02-20T19:41:22.809Z"
   },
   {
    "duration": 4,
    "start_time": "2023-02-20T19:41:22.904Z"
   },
   {
    "duration": 7,
    "start_time": "2023-02-20T19:41:22.910Z"
   },
   {
    "duration": 9,
    "start_time": "2023-02-20T19:41:22.918Z"
   },
   {
    "duration": 12,
    "start_time": "2023-02-20T19:41:22.928Z"
   },
   {
    "duration": 7,
    "start_time": "2023-02-20T19:41:22.942Z"
   },
   {
    "duration": 8,
    "start_time": "2023-02-20T19:41:22.951Z"
   },
   {
    "duration": 7,
    "start_time": "2023-02-20T19:41:22.961Z"
   },
   {
    "duration": 50,
    "start_time": "2023-02-20T19:41:22.969Z"
   },
   {
    "duration": 5,
    "start_time": "2023-02-20T19:41:23.021Z"
   },
   {
    "duration": 21,
    "start_time": "2023-02-20T19:41:23.028Z"
   },
   {
    "duration": 12,
    "start_time": "2023-02-20T19:41:23.052Z"
   },
   {
    "duration": 10,
    "start_time": "2023-02-20T19:41:23.066Z"
   },
   {
    "duration": 10,
    "start_time": "2023-02-20T19:41:23.078Z"
   },
   {
    "duration": 4,
    "start_time": "2023-02-20T19:41:23.090Z"
   },
   {
    "duration": 11,
    "start_time": "2023-02-20T19:41:23.097Z"
   },
   {
    "duration": 43,
    "start_time": "2023-02-20T19:41:23.110Z"
   },
   {
    "duration": 22,
    "start_time": "2023-02-20T19:41:23.155Z"
   },
   {
    "duration": 27,
    "start_time": "2023-02-20T19:41:23.179Z"
   },
   {
    "duration": 36,
    "start_time": "2023-02-20T19:41:23.208Z"
   },
   {
    "duration": 10,
    "start_time": "2023-02-20T19:41:23.245Z"
   },
   {
    "duration": 15,
    "start_time": "2023-02-20T19:41:23.256Z"
   },
   {
    "duration": 23,
    "start_time": "2023-02-20T19:41:23.273Z"
   },
   {
    "duration": 3,
    "start_time": "2023-02-20T19:41:23.297Z"
   },
   {
    "duration": 8,
    "start_time": "2023-02-20T19:41:23.302Z"
   },
   {
    "duration": 7,
    "start_time": "2023-02-20T19:41:23.312Z"
   },
   {
    "duration": 7,
    "start_time": "2023-02-20T19:41:23.321Z"
   },
   {
    "duration": 16,
    "start_time": "2023-02-20T19:41:23.330Z"
   },
   {
    "duration": 74,
    "start_time": "2023-02-20T19:41:23.348Z"
   },
   {
    "duration": 25,
    "start_time": "2023-02-20T19:41:23.424Z"
   },
   {
    "duration": 11,
    "start_time": "2023-02-20T19:41:23.451Z"
   },
   {
    "duration": 6,
    "start_time": "2023-02-20T19:41:23.464Z"
   },
   {
    "duration": 91,
    "start_time": "2023-02-20T19:41:23.471Z"
   },
   {
    "duration": 9,
    "start_time": "2023-02-20T19:41:23.564Z"
   },
   {
    "duration": 11,
    "start_time": "2023-02-20T19:41:23.574Z"
   },
   {
    "duration": 58,
    "start_time": "2023-02-20T19:41:23.587Z"
   },
   {
    "duration": 8,
    "start_time": "2023-02-20T19:41:23.647Z"
   },
   {
    "duration": 57,
    "start_time": "2023-02-20T19:41:23.657Z"
   },
   {
    "duration": 4,
    "start_time": "2023-02-20T19:41:23.716Z"
   },
   {
    "duration": 74,
    "start_time": "2023-02-20T19:41:23.722Z"
   },
   {
    "duration": 61,
    "start_time": "2023-02-20T19:41:23.798Z"
   },
   {
    "duration": 13,
    "start_time": "2023-02-20T19:41:23.861Z"
   },
   {
    "duration": 10,
    "start_time": "2023-02-20T19:41:23.875Z"
   },
   {
    "duration": 33,
    "start_time": "2023-02-20T19:41:23.892Z"
   },
   {
    "duration": 17,
    "start_time": "2023-02-20T19:41:23.945Z"
   },
   {
    "duration": 17,
    "start_time": "2023-02-20T19:41:23.963Z"
   },
   {
    "duration": 4,
    "start_time": "2023-02-20T19:41:23.982Z"
   },
   {
    "duration": 872,
    "start_time": "2023-02-20T19:47:51.452Z"
   },
   {
    "duration": 5,
    "start_time": "2023-02-20T19:48:08.924Z"
   },
   {
    "duration": 6,
    "start_time": "2023-02-20T19:48:29.381Z"
   },
   {
    "duration": 5,
    "start_time": "2023-02-20T20:11:55.393Z"
   },
   {
    "duration": 5,
    "start_time": "2023-02-20T20:22:19.806Z"
   },
   {
    "duration": 37,
    "start_time": "2023-02-20T20:22:24.960Z"
   },
   {
    "duration": 560,
    "start_time": "2023-02-20T20:27:06.354Z"
   },
   {
    "duration": 16,
    "start_time": "2023-02-20T20:27:54.024Z"
   },
   {
    "duration": 13,
    "start_time": "2023-02-20T20:29:41.535Z"
   },
   {
    "duration": 20,
    "start_time": "2023-02-20T20:30:33.092Z"
   },
   {
    "duration": 14,
    "start_time": "2023-02-20T20:30:57.330Z"
   },
   {
    "duration": 1127,
    "start_time": "2023-02-20T20:31:53.881Z"
   },
   {
    "duration": 95,
    "start_time": "2023-02-20T20:31:55.010Z"
   },
   {
    "duration": 18,
    "start_time": "2023-02-20T20:31:55.107Z"
   },
   {
    "duration": 4,
    "start_time": "2023-02-20T20:31:55.127Z"
   },
   {
    "duration": 38,
    "start_time": "2023-02-20T20:31:55.145Z"
   },
   {
    "duration": 92,
    "start_time": "2023-02-20T20:31:55.186Z"
   },
   {
    "duration": 2237,
    "start_time": "2023-02-20T20:31:55.279Z"
   },
   {
    "duration": 27,
    "start_time": "2023-02-20T20:31:57.518Z"
   },
   {
    "duration": 1145,
    "start_time": "2023-02-20T20:31:57.548Z"
   },
   {
    "duration": 5,
    "start_time": "2023-02-20T20:31:58.697Z"
   },
   {
    "duration": 11,
    "start_time": "2023-02-20T20:31:58.703Z"
   },
   {
    "duration": 46,
    "start_time": "2023-02-20T20:31:58.716Z"
   },
   {
    "duration": 7,
    "start_time": "2023-02-20T20:31:58.764Z"
   },
   {
    "duration": 10,
    "start_time": "2023-02-20T20:31:58.773Z"
   },
   {
    "duration": 6,
    "start_time": "2023-02-20T20:31:58.785Z"
   },
   {
    "duration": 10,
    "start_time": "2023-02-20T20:31:58.792Z"
   },
   {
    "duration": 15,
    "start_time": "2023-02-20T20:31:58.804Z"
   },
   {
    "duration": 27,
    "start_time": "2023-02-20T20:31:58.821Z"
   },
   {
    "duration": 6,
    "start_time": "2023-02-20T20:31:58.850Z"
   },
   {
    "duration": 6,
    "start_time": "2023-02-20T20:31:58.858Z"
   },
   {
    "duration": 9,
    "start_time": "2023-02-20T20:31:58.866Z"
   },
   {
    "duration": 3289,
    "start_time": "2023-02-20T20:31:58.876Z"
   },
   {
    "duration": 2,
    "start_time": "2023-02-20T20:32:02.167Z"
   },
   {
    "duration": 45,
    "start_time": "2023-02-20T20:32:02.171Z"
   },
   {
    "duration": 30,
    "start_time": "2023-02-20T20:32:02.218Z"
   },
   {
    "duration": 32,
    "start_time": "2023-02-20T20:32:02.250Z"
   },
   {
    "duration": 4,
    "start_time": "2023-02-20T20:32:02.284Z"
   },
   {
    "duration": 7,
    "start_time": "2023-02-20T20:32:02.293Z"
   },
   {
    "duration": 14,
    "start_time": "2023-02-20T20:32:02.301Z"
   },
   {
    "duration": 77,
    "start_time": "2023-02-20T20:32:02.317Z"
   },
   {
    "duration": 21,
    "start_time": "2023-02-20T20:32:02.395Z"
   },
   {
    "duration": 25,
    "start_time": "2023-02-20T20:32:02.418Z"
   },
   {
    "duration": 23,
    "start_time": "2023-02-20T20:32:02.445Z"
   },
   {
    "duration": 40,
    "start_time": "2023-02-20T20:32:02.470Z"
   },
   {
    "duration": 5,
    "start_time": "2023-02-20T20:32:02.512Z"
   },
   {
    "duration": 20,
    "start_time": "2023-02-20T20:32:02.519Z"
   },
   {
    "duration": 22,
    "start_time": "2023-02-20T20:32:02.541Z"
   },
   {
    "duration": 32,
    "start_time": "2023-02-20T20:32:02.565Z"
   },
   {
    "duration": 16,
    "start_time": "2023-02-20T20:32:02.599Z"
   },
   {
    "duration": 11,
    "start_time": "2023-02-20T20:32:02.617Z"
   },
   {
    "duration": 9,
    "start_time": "2023-02-20T20:32:02.630Z"
   },
   {
    "duration": 24,
    "start_time": "2023-02-20T20:32:02.641Z"
   },
   {
    "duration": 18,
    "start_time": "2023-02-20T20:32:02.667Z"
   },
   {
    "duration": 10,
    "start_time": "2023-02-20T20:32:02.687Z"
   },
   {
    "duration": 7,
    "start_time": "2023-02-20T20:32:02.699Z"
   },
   {
    "duration": 6,
    "start_time": "2023-02-20T20:32:02.708Z"
   },
   {
    "duration": 40,
    "start_time": "2023-02-20T20:32:02.716Z"
   },
   {
    "duration": 6,
    "start_time": "2023-02-20T20:32:02.757Z"
   },
   {
    "duration": 20,
    "start_time": "2023-02-20T20:32:02.764Z"
   },
   {
    "duration": 9,
    "start_time": "2023-02-20T20:32:02.786Z"
   },
   {
    "duration": 17,
    "start_time": "2023-02-20T20:32:02.797Z"
   },
   {
    "duration": 18,
    "start_time": "2023-02-20T20:32:02.815Z"
   },
   {
    "duration": 17,
    "start_time": "2023-02-20T20:32:02.834Z"
   },
   {
    "duration": 4,
    "start_time": "2023-02-20T20:32:02.853Z"
   },
   {
    "duration": 14,
    "start_time": "2023-02-20T20:32:02.859Z"
   },
   {
    "duration": 27,
    "start_time": "2023-02-20T20:32:02.875Z"
   },
   {
    "duration": 6,
    "start_time": "2023-02-20T20:32:02.904Z"
   },
   {
    "duration": 38,
    "start_time": "2023-02-20T20:32:02.911Z"
   },
   {
    "duration": 40,
    "start_time": "2023-02-20T20:32:02.951Z"
   },
   {
    "duration": 12,
    "start_time": "2023-02-20T20:32:02.993Z"
   },
   {
    "duration": 10,
    "start_time": "2023-02-20T20:32:03.007Z"
   },
   {
    "duration": 12,
    "start_time": "2023-02-20T20:32:03.046Z"
   },
   {
    "duration": 3,
    "start_time": "2023-02-20T20:32:03.060Z"
   },
   {
    "duration": 17,
    "start_time": "2023-02-20T20:32:03.064Z"
   },
   {
    "duration": 10,
    "start_time": "2023-02-20T20:32:03.083Z"
   },
   {
    "duration": 18,
    "start_time": "2023-02-20T20:32:03.096Z"
   },
   {
    "duration": 19,
    "start_time": "2023-02-20T20:32:03.120Z"
   },
   {
    "duration": 86,
    "start_time": "2023-02-20T20:32:03.140Z"
   },
   {
    "duration": 7,
    "start_time": "2023-02-20T20:32:03.228Z"
   },
   {
    "duration": 14,
    "start_time": "2023-02-20T20:32:03.245Z"
   },
   {
    "duration": 7,
    "start_time": "2023-02-20T20:32:03.261Z"
   },
   {
    "duration": 87,
    "start_time": "2023-02-20T20:32:03.270Z"
   },
   {
    "duration": 8,
    "start_time": "2023-02-20T20:32:03.359Z"
   },
   {
    "duration": 10,
    "start_time": "2023-02-20T20:32:03.370Z"
   },
   {
    "duration": 38,
    "start_time": "2023-02-20T20:32:03.382Z"
   },
   {
    "duration": 28,
    "start_time": "2023-02-20T20:32:03.422Z"
   },
   {
    "duration": 46,
    "start_time": "2023-02-20T20:32:03.453Z"
   },
   {
    "duration": 7,
    "start_time": "2023-02-20T20:32:03.501Z"
   },
   {
    "duration": 58,
    "start_time": "2023-02-20T20:32:03.509Z"
   },
   {
    "duration": 28,
    "start_time": "2023-02-20T20:32:03.569Z"
   },
   {
    "duration": 14,
    "start_time": "2023-02-20T20:32:03.599Z"
   },
   {
    "duration": 5,
    "start_time": "2023-02-20T20:32:03.619Z"
   },
   {
    "duration": 52,
    "start_time": "2023-02-20T20:32:03.627Z"
   },
   {
    "duration": 23,
    "start_time": "2023-02-20T20:32:03.681Z"
   },
   {
    "duration": 44,
    "start_time": "2023-02-20T20:32:03.706Z"
   },
   {
    "duration": 4,
    "start_time": "2023-02-20T20:32:03.753Z"
   },
   {
    "duration": 12,
    "start_time": "2023-02-20T20:32:03.759Z"
   },
   {
    "duration": 6,
    "start_time": "2023-02-20T20:32:03.773Z"
   },
   {
    "duration": 723,
    "start_time": "2023-02-20T20:32:03.780Z"
   },
   {
    "duration": 0,
    "start_time": "2023-02-20T20:32:04.505Z"
   },
   {
    "duration": 0,
    "start_time": "2023-02-20T20:32:04.507Z"
   },
   {
    "duration": 0,
    "start_time": "2023-02-20T20:32:04.508Z"
   },
   {
    "duration": 0,
    "start_time": "2023-02-20T20:32:04.510Z"
   },
   {
    "duration": 0,
    "start_time": "2023-02-20T20:32:04.512Z"
   },
   {
    "duration": 19,
    "start_time": "2023-02-20T20:32:39.537Z"
   },
   {
    "duration": 20,
    "start_time": "2023-02-20T20:33:30.479Z"
   },
   {
    "duration": 13,
    "start_time": "2023-02-20T20:34:16.730Z"
   },
   {
    "duration": 14,
    "start_time": "2023-02-20T20:34:57.291Z"
   },
   {
    "duration": 13,
    "start_time": "2023-02-20T20:35:59.035Z"
   },
   {
    "duration": 634,
    "start_time": "2023-02-20T20:38:26.989Z"
   },
   {
    "duration": 3,
    "start_time": "2023-02-20T20:39:09.647Z"
   },
   {
    "duration": 583,
    "start_time": "2023-02-20T20:39:24.227Z"
   },
   {
    "duration": 12,
    "start_time": "2023-02-20T20:39:39.216Z"
   },
   {
    "duration": 62,
    "start_time": "2023-02-20T20:40:09.134Z"
   },
   {
    "duration": 6,
    "start_time": "2023-02-20T20:40:14.859Z"
   },
   {
    "duration": 11,
    "start_time": "2023-02-20T20:40:26.948Z"
   },
   {
    "duration": 17,
    "start_time": "2023-02-20T20:40:32.325Z"
   },
   {
    "duration": 21,
    "start_time": "2023-02-20T20:40:59.038Z"
   },
   {
    "duration": 5,
    "start_time": "2023-02-20T20:41:49.998Z"
   },
   {
    "duration": 15,
    "start_time": "2023-02-20T20:41:57.966Z"
   },
   {
    "duration": 14,
    "start_time": "2023-02-20T20:44:19.221Z"
   },
   {
    "duration": 1278,
    "start_time": "2023-02-20T20:44:25.230Z"
   },
   {
    "duration": 101,
    "start_time": "2023-02-20T20:44:26.510Z"
   },
   {
    "duration": 17,
    "start_time": "2023-02-20T20:44:26.613Z"
   },
   {
    "duration": 130,
    "start_time": "2023-02-20T20:44:26.633Z"
   },
   {
    "duration": 0,
    "start_time": "2023-02-20T20:44:26.768Z"
   },
   {
    "duration": 0,
    "start_time": "2023-02-20T20:44:26.769Z"
   },
   {
    "duration": 0,
    "start_time": "2023-02-20T20:44:26.771Z"
   },
   {
    "duration": 0,
    "start_time": "2023-02-20T20:44:26.772Z"
   },
   {
    "duration": 0,
    "start_time": "2023-02-20T20:44:26.774Z"
   },
   {
    "duration": 0,
    "start_time": "2023-02-20T20:44:26.775Z"
   },
   {
    "duration": 0,
    "start_time": "2023-02-20T20:44:26.776Z"
   },
   {
    "duration": 0,
    "start_time": "2023-02-20T20:44:26.778Z"
   },
   {
    "duration": 0,
    "start_time": "2023-02-20T20:44:26.779Z"
   },
   {
    "duration": 0,
    "start_time": "2023-02-20T20:44:26.780Z"
   },
   {
    "duration": 0,
    "start_time": "2023-02-20T20:44:26.782Z"
   },
   {
    "duration": 0,
    "start_time": "2023-02-20T20:44:26.783Z"
   },
   {
    "duration": 0,
    "start_time": "2023-02-20T20:44:26.785Z"
   },
   {
    "duration": 1,
    "start_time": "2023-02-20T20:44:26.786Z"
   },
   {
    "duration": 0,
    "start_time": "2023-02-20T20:44:26.788Z"
   },
   {
    "duration": 0,
    "start_time": "2023-02-20T20:44:26.788Z"
   },
   {
    "duration": 0,
    "start_time": "2023-02-20T20:44:26.789Z"
   },
   {
    "duration": 0,
    "start_time": "2023-02-20T20:44:26.792Z"
   },
   {
    "duration": 0,
    "start_time": "2023-02-20T20:44:26.793Z"
   },
   {
    "duration": 0,
    "start_time": "2023-02-20T20:44:26.794Z"
   },
   {
    "duration": 0,
    "start_time": "2023-02-20T20:44:26.795Z"
   },
   {
    "duration": 0,
    "start_time": "2023-02-20T20:44:26.797Z"
   },
   {
    "duration": 0,
    "start_time": "2023-02-20T20:44:26.846Z"
   },
   {
    "duration": 0,
    "start_time": "2023-02-20T20:44:26.849Z"
   },
   {
    "duration": 0,
    "start_time": "2023-02-20T20:44:26.850Z"
   },
   {
    "duration": 0,
    "start_time": "2023-02-20T20:44:26.852Z"
   },
   {
    "duration": 0,
    "start_time": "2023-02-20T20:44:26.853Z"
   },
   {
    "duration": 0,
    "start_time": "2023-02-20T20:44:26.854Z"
   },
   {
    "duration": 0,
    "start_time": "2023-02-20T20:44:26.856Z"
   },
   {
    "duration": 0,
    "start_time": "2023-02-20T20:44:26.857Z"
   },
   {
    "duration": 0,
    "start_time": "2023-02-20T20:44:26.858Z"
   },
   {
    "duration": 0,
    "start_time": "2023-02-20T20:44:26.860Z"
   },
   {
    "duration": 0,
    "start_time": "2023-02-20T20:44:26.861Z"
   },
   {
    "duration": 0,
    "start_time": "2023-02-20T20:44:26.862Z"
   },
   {
    "duration": 0,
    "start_time": "2023-02-20T20:44:26.864Z"
   },
   {
    "duration": 0,
    "start_time": "2023-02-20T20:44:26.865Z"
   },
   {
    "duration": 0,
    "start_time": "2023-02-20T20:44:26.866Z"
   },
   {
    "duration": 0,
    "start_time": "2023-02-20T20:44:26.867Z"
   },
   {
    "duration": 0,
    "start_time": "2023-02-20T20:44:26.869Z"
   },
   {
    "duration": 0,
    "start_time": "2023-02-20T20:44:26.870Z"
   },
   {
    "duration": 0,
    "start_time": "2023-02-20T20:44:26.871Z"
   },
   {
    "duration": 0,
    "start_time": "2023-02-20T20:44:26.872Z"
   },
   {
    "duration": 0,
    "start_time": "2023-02-20T20:44:26.874Z"
   },
   {
    "duration": 0,
    "start_time": "2023-02-20T20:44:26.875Z"
   },
   {
    "duration": 0,
    "start_time": "2023-02-20T20:44:26.876Z"
   },
   {
    "duration": 0,
    "start_time": "2023-02-20T20:44:26.877Z"
   },
   {
    "duration": 0,
    "start_time": "2023-02-20T20:44:26.878Z"
   },
   {
    "duration": 0,
    "start_time": "2023-02-20T20:44:26.880Z"
   },
   {
    "duration": 0,
    "start_time": "2023-02-20T20:44:26.881Z"
   },
   {
    "duration": 0,
    "start_time": "2023-02-20T20:44:26.882Z"
   },
   {
    "duration": 0,
    "start_time": "2023-02-20T20:44:26.947Z"
   },
   {
    "duration": 0,
    "start_time": "2023-02-20T20:44:26.948Z"
   },
   {
    "duration": 0,
    "start_time": "2023-02-20T20:44:26.950Z"
   },
   {
    "duration": 0,
    "start_time": "2023-02-20T20:44:26.951Z"
   },
   {
    "duration": 0,
    "start_time": "2023-02-20T20:44:26.953Z"
   },
   {
    "duration": 0,
    "start_time": "2023-02-20T20:44:26.954Z"
   },
   {
    "duration": 0,
    "start_time": "2023-02-20T20:44:26.955Z"
   },
   {
    "duration": 0,
    "start_time": "2023-02-20T20:44:26.957Z"
   },
   {
    "duration": 0,
    "start_time": "2023-02-20T20:44:26.958Z"
   },
   {
    "duration": 0,
    "start_time": "2023-02-20T20:44:26.960Z"
   },
   {
    "duration": 0,
    "start_time": "2023-02-20T20:44:26.961Z"
   },
   {
    "duration": 0,
    "start_time": "2023-02-20T20:44:26.963Z"
   },
   {
    "duration": 0,
    "start_time": "2023-02-20T20:44:26.964Z"
   },
   {
    "duration": 0,
    "start_time": "2023-02-20T20:44:26.965Z"
   },
   {
    "duration": 0,
    "start_time": "2023-02-20T20:44:26.966Z"
   },
   {
    "duration": 0,
    "start_time": "2023-02-20T20:44:26.967Z"
   },
   {
    "duration": 0,
    "start_time": "2023-02-20T20:44:26.968Z"
   },
   {
    "duration": 0,
    "start_time": "2023-02-20T20:44:26.969Z"
   },
   {
    "duration": 0,
    "start_time": "2023-02-20T20:44:26.972Z"
   },
   {
    "duration": 0,
    "start_time": "2023-02-20T20:44:26.973Z"
   },
   {
    "duration": 1,
    "start_time": "2023-02-20T20:44:26.974Z"
   },
   {
    "duration": 0,
    "start_time": "2023-02-20T20:44:26.976Z"
   },
   {
    "duration": 0,
    "start_time": "2023-02-20T20:44:26.977Z"
   },
   {
    "duration": 0,
    "start_time": "2023-02-20T20:44:26.979Z"
   },
   {
    "duration": 0,
    "start_time": "2023-02-20T20:44:26.981Z"
   },
   {
    "duration": 0,
    "start_time": "2023-02-20T20:44:26.981Z"
   },
   {
    "duration": 0,
    "start_time": "2023-02-20T20:44:26.982Z"
   },
   {
    "duration": 0,
    "start_time": "2023-02-20T20:44:26.983Z"
   },
   {
    "duration": 0,
    "start_time": "2023-02-20T20:44:26.984Z"
   },
   {
    "duration": 0,
    "start_time": "2023-02-20T20:44:26.984Z"
   },
   {
    "duration": 0,
    "start_time": "2023-02-20T20:44:26.985Z"
   },
   {
    "duration": 0,
    "start_time": "2023-02-20T20:44:26.986Z"
   },
   {
    "duration": 58,
    "start_time": "2023-02-20T20:44:26.986Z"
   },
   {
    "duration": 0,
    "start_time": "2023-02-20T20:44:27.049Z"
   },
   {
    "duration": 0,
    "start_time": "2023-02-20T20:44:27.051Z"
   },
   {
    "duration": 0,
    "start_time": "2023-02-20T20:44:27.052Z"
   },
   {
    "duration": 0,
    "start_time": "2023-02-20T20:44:27.053Z"
   },
   {
    "duration": 0,
    "start_time": "2023-02-20T20:44:27.055Z"
   },
   {
    "duration": 0,
    "start_time": "2023-02-20T20:44:27.056Z"
   },
   {
    "duration": 0,
    "start_time": "2023-02-20T20:44:27.057Z"
   },
   {
    "duration": 0,
    "start_time": "2023-02-20T20:44:27.059Z"
   },
   {
    "duration": 0,
    "start_time": "2023-02-20T20:44:27.060Z"
   },
   {
    "duration": 0,
    "start_time": "2023-02-20T20:44:27.061Z"
   },
   {
    "duration": 0,
    "start_time": "2023-02-20T20:44:27.062Z"
   },
   {
    "duration": 0,
    "start_time": "2023-02-20T20:44:27.063Z"
   },
   {
    "duration": 0,
    "start_time": "2023-02-20T20:44:27.065Z"
   },
   {
    "duration": 12,
    "start_time": "2023-02-20T20:45:31.644Z"
   },
   {
    "duration": 15,
    "start_time": "2023-02-20T20:45:42.099Z"
   },
   {
    "duration": 21,
    "start_time": "2023-02-20T20:45:53.069Z"
   },
   {
    "duration": 1341,
    "start_time": "2023-02-21T12:36:00.127Z"
   },
   {
    "duration": 328,
    "start_time": "2023-02-21T12:36:01.470Z"
   },
   {
    "duration": 17,
    "start_time": "2023-02-21T12:36:01.800Z"
   },
   {
    "duration": 6,
    "start_time": "2023-02-21T12:36:01.820Z"
   },
   {
    "duration": 49,
    "start_time": "2023-02-21T12:36:01.828Z"
   },
   {
    "duration": 94,
    "start_time": "2023-02-21T12:36:01.878Z"
   },
   {
    "duration": 1896,
    "start_time": "2023-02-21T12:36:01.975Z"
   },
   {
    "duration": 11,
    "start_time": "2023-02-21T12:36:03.873Z"
   },
   {
    "duration": 1044,
    "start_time": "2023-02-21T12:36:03.885Z"
   },
   {
    "duration": 4,
    "start_time": "2023-02-21T12:36:04.932Z"
   },
   {
    "duration": 14,
    "start_time": "2023-02-21T12:36:04.938Z"
   },
   {
    "duration": 21,
    "start_time": "2023-02-21T12:36:04.953Z"
   },
   {
    "duration": 5,
    "start_time": "2023-02-21T12:36:04.976Z"
   },
   {
    "duration": 5,
    "start_time": "2023-02-21T12:36:04.982Z"
   },
   {
    "duration": 5,
    "start_time": "2023-02-21T12:36:04.988Z"
   },
   {
    "duration": 5,
    "start_time": "2023-02-21T12:36:04.994Z"
   },
   {
    "duration": 4,
    "start_time": "2023-02-21T12:36:05.000Z"
   },
   {
    "duration": 7,
    "start_time": "2023-02-21T12:36:05.006Z"
   },
   {
    "duration": 35,
    "start_time": "2023-02-21T12:36:05.014Z"
   },
   {
    "duration": 5,
    "start_time": "2023-02-21T12:36:05.051Z"
   },
   {
    "duration": 14,
    "start_time": "2023-02-21T12:36:05.057Z"
   },
   {
    "duration": 2842,
    "start_time": "2023-02-21T12:36:05.073Z"
   },
   {
    "duration": 3,
    "start_time": "2023-02-21T12:36:07.916Z"
   },
   {
    "duration": 11,
    "start_time": "2023-02-21T12:36:07.920Z"
   },
   {
    "duration": 5,
    "start_time": "2023-02-21T12:36:07.933Z"
   },
   {
    "duration": 29,
    "start_time": "2023-02-21T12:36:07.948Z"
   },
   {
    "duration": 4,
    "start_time": "2023-02-21T12:36:07.979Z"
   },
   {
    "duration": 5,
    "start_time": "2023-02-21T12:36:07.988Z"
   },
   {
    "duration": 6,
    "start_time": "2023-02-21T12:36:07.994Z"
   },
   {
    "duration": 63,
    "start_time": "2023-02-21T12:36:08.002Z"
   },
   {
    "duration": 17,
    "start_time": "2023-02-21T12:36:08.067Z"
   },
   {
    "duration": 8,
    "start_time": "2023-02-21T12:36:08.085Z"
   },
   {
    "duration": 6,
    "start_time": "2023-02-21T12:36:08.095Z"
   },
   {
    "duration": 28,
    "start_time": "2023-02-21T12:36:08.103Z"
   },
   {
    "duration": 17,
    "start_time": "2023-02-21T12:36:08.133Z"
   },
   {
    "duration": 7,
    "start_time": "2023-02-21T12:36:08.151Z"
   },
   {
    "duration": 6,
    "start_time": "2023-02-21T12:36:08.159Z"
   },
   {
    "duration": 7,
    "start_time": "2023-02-21T12:36:08.166Z"
   },
   {
    "duration": 7,
    "start_time": "2023-02-21T12:36:08.174Z"
   },
   {
    "duration": 4,
    "start_time": "2023-02-21T12:36:08.182Z"
   },
   {
    "duration": 15,
    "start_time": "2023-02-21T12:36:08.187Z"
   },
   {
    "duration": 6,
    "start_time": "2023-02-21T12:36:08.204Z"
   },
   {
    "duration": 9,
    "start_time": "2023-02-21T12:36:08.211Z"
   },
   {
    "duration": 8,
    "start_time": "2023-02-21T12:36:08.221Z"
   },
   {
    "duration": 21,
    "start_time": "2023-02-21T12:36:08.230Z"
   },
   {
    "duration": 7,
    "start_time": "2023-02-21T12:36:08.253Z"
   },
   {
    "duration": 35,
    "start_time": "2023-02-21T12:36:08.261Z"
   },
   {
    "duration": 3,
    "start_time": "2023-02-21T12:36:08.298Z"
   },
   {
    "duration": 7,
    "start_time": "2023-02-21T12:36:08.303Z"
   },
   {
    "duration": 9,
    "start_time": "2023-02-21T12:36:08.312Z"
   },
   {
    "duration": 28,
    "start_time": "2023-02-21T12:36:08.322Z"
   },
   {
    "duration": 8,
    "start_time": "2023-02-21T12:36:08.351Z"
   },
   {
    "duration": 10,
    "start_time": "2023-02-21T12:36:08.360Z"
   },
   {
    "duration": 5,
    "start_time": "2023-02-21T12:36:08.371Z"
   },
   {
    "duration": 14,
    "start_time": "2023-02-21T12:36:08.377Z"
   },
   {
    "duration": 11,
    "start_time": "2023-02-21T12:36:08.393Z"
   },
   {
    "duration": 8,
    "start_time": "2023-02-21T12:36:08.405Z"
   },
   {
    "duration": 38,
    "start_time": "2023-02-21T12:36:08.415Z"
   },
   {
    "duration": 27,
    "start_time": "2023-02-21T12:36:08.455Z"
   },
   {
    "duration": 8,
    "start_time": "2023-02-21T12:36:08.483Z"
   },
   {
    "duration": 9,
    "start_time": "2023-02-21T12:36:08.492Z"
   },
   {
    "duration": 12,
    "start_time": "2023-02-21T12:36:08.502Z"
   },
   {
    "duration": 2,
    "start_time": "2023-02-21T12:36:08.516Z"
   },
   {
    "duration": 30,
    "start_time": "2023-02-21T12:36:08.520Z"
   },
   {
    "duration": 11,
    "start_time": "2023-02-21T12:36:08.551Z"
   },
   {
    "duration": 5,
    "start_time": "2023-02-21T12:36:08.563Z"
   },
   {
    "duration": 6,
    "start_time": "2023-02-21T12:36:08.570Z"
   },
   {
    "duration": 82,
    "start_time": "2023-02-21T12:36:08.577Z"
   },
   {
    "duration": 5,
    "start_time": "2023-02-21T12:36:08.660Z"
   },
   {
    "duration": 11,
    "start_time": "2023-02-21T12:36:08.667Z"
   },
   {
    "duration": 4,
    "start_time": "2023-02-21T12:36:08.680Z"
   },
   {
    "duration": 77,
    "start_time": "2023-02-21T12:36:08.686Z"
   },
   {
    "duration": 7,
    "start_time": "2023-02-21T12:36:08.765Z"
   },
   {
    "duration": 8,
    "start_time": "2023-02-21T12:36:08.773Z"
   },
   {
    "duration": 29,
    "start_time": "2023-02-21T12:36:08.783Z"
   },
   {
    "duration": 7,
    "start_time": "2023-02-21T12:36:08.813Z"
   },
   {
    "duration": 56,
    "start_time": "2023-02-21T12:36:08.822Z"
   },
   {
    "duration": 4,
    "start_time": "2023-02-21T12:36:08.880Z"
   },
   {
    "duration": 35,
    "start_time": "2023-02-21T12:36:08.886Z"
   },
   {
    "duration": 36,
    "start_time": "2023-02-21T12:36:08.923Z"
   },
   {
    "duration": 7,
    "start_time": "2023-02-21T12:36:08.961Z"
   },
   {
    "duration": 6,
    "start_time": "2023-02-21T12:36:08.973Z"
   },
   {
    "duration": 32,
    "start_time": "2023-02-21T12:36:08.980Z"
   },
   {
    "duration": 34,
    "start_time": "2023-02-21T12:36:09.014Z"
   },
   {
    "duration": 13,
    "start_time": "2023-02-21T12:36:09.049Z"
   },
   {
    "duration": 4,
    "start_time": "2023-02-21T12:36:09.064Z"
   },
   {
    "duration": 8,
    "start_time": "2023-02-21T12:36:09.069Z"
   },
   {
    "duration": 6,
    "start_time": "2023-02-21T12:36:09.079Z"
   },
   {
    "duration": 14,
    "start_time": "2023-02-21T12:36:09.087Z"
   },
   {
    "duration": 4,
    "start_time": "2023-02-21T12:36:09.103Z"
   },
   {
    "duration": 12,
    "start_time": "2023-02-21T12:36:09.108Z"
   },
   {
    "duration": 12,
    "start_time": "2023-02-21T12:36:09.148Z"
   },
   {
    "duration": 105,
    "start_time": "2023-02-21T12:36:09.162Z"
   },
   {
    "duration": 0,
    "start_time": "2023-02-21T12:36:09.268Z"
   },
   {
    "duration": 0,
    "start_time": "2023-02-21T12:36:09.269Z"
   },
   {
    "duration": 0,
    "start_time": "2023-02-21T12:36:09.269Z"
   },
   {
    "duration": 0,
    "start_time": "2023-02-21T12:36:09.270Z"
   },
   {
    "duration": 0,
    "start_time": "2023-02-21T12:36:09.271Z"
   },
   {
    "duration": 0,
    "start_time": "2023-02-21T12:36:09.272Z"
   },
   {
    "duration": 12,
    "start_time": "2023-02-21T12:39:54.751Z"
   },
   {
    "duration": 3,
    "start_time": "2023-02-21T12:42:25.943Z"
   },
   {
    "duration": 2,
    "start_time": "2023-02-21T12:42:28.107Z"
   },
   {
    "duration": 3,
    "start_time": "2023-02-21T12:42:30.475Z"
   },
   {
    "duration": 2,
    "start_time": "2023-02-21T12:43:00.928Z"
   },
   {
    "duration": 634,
    "start_time": "2023-02-21T12:47:36.189Z"
   },
   {
    "duration": 14,
    "start_time": "2023-02-21T12:56:44.250Z"
   },
   {
    "duration": 1240,
    "start_time": "2023-02-22T18:10:06.903Z"
   },
   {
    "duration": 309,
    "start_time": "2023-02-22T18:10:08.145Z"
   },
   {
    "duration": 15,
    "start_time": "2023-02-22T18:10:08.455Z"
   },
   {
    "duration": 2,
    "start_time": "2023-02-22T18:10:08.471Z"
   },
   {
    "duration": 25,
    "start_time": "2023-02-22T18:10:08.475Z"
   },
   {
    "duration": 75,
    "start_time": "2023-02-22T18:10:08.501Z"
   },
   {
    "duration": 1758,
    "start_time": "2023-02-22T18:10:08.577Z"
   },
   {
    "duration": 8,
    "start_time": "2023-02-22T18:10:10.337Z"
   },
   {
    "duration": 1064,
    "start_time": "2023-02-22T18:10:10.347Z"
   },
   {
    "duration": 5,
    "start_time": "2023-02-22T18:10:11.412Z"
   },
   {
    "duration": 17,
    "start_time": "2023-02-22T18:10:11.418Z"
   },
   {
    "duration": 40,
    "start_time": "2023-02-22T18:10:11.437Z"
   },
   {
    "duration": 5,
    "start_time": "2023-02-22T18:10:11.479Z"
   },
   {
    "duration": 11,
    "start_time": "2023-02-22T18:10:11.487Z"
   },
   {
    "duration": 25,
    "start_time": "2023-02-22T18:10:11.500Z"
   },
   {
    "duration": 44,
    "start_time": "2023-02-22T18:10:11.526Z"
   },
   {
    "duration": 22,
    "start_time": "2023-02-22T18:10:11.571Z"
   },
   {
    "duration": 12,
    "start_time": "2023-02-22T18:10:11.594Z"
   },
   {
    "duration": 11,
    "start_time": "2023-02-22T18:10:11.608Z"
   },
   {
    "duration": 34,
    "start_time": "2023-02-22T18:10:11.621Z"
   },
   {
    "duration": 22,
    "start_time": "2023-02-22T18:10:11.657Z"
   },
   {
    "duration": 2807,
    "start_time": "2023-02-22T18:10:11.681Z"
   },
   {
    "duration": 3,
    "start_time": "2023-02-22T18:10:14.489Z"
   },
   {
    "duration": 22,
    "start_time": "2023-02-22T18:10:14.494Z"
   },
   {
    "duration": 15,
    "start_time": "2023-02-22T18:10:14.518Z"
   },
   {
    "duration": 36,
    "start_time": "2023-02-22T18:10:14.534Z"
   },
   {
    "duration": 4,
    "start_time": "2023-02-22T18:10:14.571Z"
   },
   {
    "duration": 12,
    "start_time": "2023-02-22T18:10:14.577Z"
   },
   {
    "duration": 14,
    "start_time": "2023-02-22T18:10:14.590Z"
   },
   {
    "duration": 65,
    "start_time": "2023-02-22T18:10:14.605Z"
   },
   {
    "duration": 21,
    "start_time": "2023-02-22T18:10:14.672Z"
   },
   {
    "duration": 7,
    "start_time": "2023-02-22T18:10:14.695Z"
   },
   {
    "duration": 19,
    "start_time": "2023-02-22T18:10:14.703Z"
   },
   {
    "duration": 44,
    "start_time": "2023-02-22T18:10:14.726Z"
   },
   {
    "duration": 4,
    "start_time": "2023-02-22T18:10:14.772Z"
   },
   {
    "duration": 13,
    "start_time": "2023-02-22T18:10:14.778Z"
   },
   {
    "duration": 12,
    "start_time": "2023-02-22T18:10:14.793Z"
   },
   {
    "duration": 18,
    "start_time": "2023-02-22T18:10:14.807Z"
   },
   {
    "duration": 9,
    "start_time": "2023-02-22T18:10:14.826Z"
   },
   {
    "duration": 20,
    "start_time": "2023-02-22T18:10:14.837Z"
   },
   {
    "duration": 31,
    "start_time": "2023-02-22T18:10:14.861Z"
   },
   {
    "duration": 10,
    "start_time": "2023-02-22T18:10:14.894Z"
   },
   {
    "duration": 15,
    "start_time": "2023-02-22T18:10:14.906Z"
   },
   {
    "duration": 19,
    "start_time": "2023-02-22T18:10:14.922Z"
   },
   {
    "duration": 41,
    "start_time": "2023-02-22T18:10:14.943Z"
   },
   {
    "duration": 122,
    "start_time": "2023-02-22T18:10:14.986Z"
   },
   {
    "duration": 0,
    "start_time": "2023-02-22T18:10:15.110Z"
   },
   {
    "duration": 0,
    "start_time": "2023-02-22T18:10:15.111Z"
   },
   {
    "duration": 0,
    "start_time": "2023-02-22T18:10:15.112Z"
   },
   {
    "duration": 0,
    "start_time": "2023-02-22T18:10:15.113Z"
   },
   {
    "duration": 0,
    "start_time": "2023-02-22T18:10:15.114Z"
   },
   {
    "duration": 0,
    "start_time": "2023-02-22T18:10:15.115Z"
   },
   {
    "duration": 0,
    "start_time": "2023-02-22T18:10:15.116Z"
   },
   {
    "duration": 0,
    "start_time": "2023-02-22T18:10:15.117Z"
   },
   {
    "duration": 0,
    "start_time": "2023-02-22T18:10:15.118Z"
   },
   {
    "duration": 0,
    "start_time": "2023-02-22T18:10:15.119Z"
   },
   {
    "duration": 0,
    "start_time": "2023-02-22T18:10:15.120Z"
   },
   {
    "duration": 0,
    "start_time": "2023-02-22T18:10:15.121Z"
   },
   {
    "duration": 0,
    "start_time": "2023-02-22T18:10:15.147Z"
   },
   {
    "duration": 0,
    "start_time": "2023-02-22T18:10:15.148Z"
   },
   {
    "duration": 0,
    "start_time": "2023-02-22T18:10:15.149Z"
   },
   {
    "duration": 0,
    "start_time": "2023-02-22T18:10:15.150Z"
   },
   {
    "duration": 0,
    "start_time": "2023-02-22T18:10:15.151Z"
   },
   {
    "duration": 0,
    "start_time": "2023-02-22T18:10:15.152Z"
   },
   {
    "duration": 0,
    "start_time": "2023-02-22T18:10:15.153Z"
   },
   {
    "duration": 0,
    "start_time": "2023-02-22T18:10:15.154Z"
   },
   {
    "duration": 0,
    "start_time": "2023-02-22T18:10:15.155Z"
   },
   {
    "duration": 0,
    "start_time": "2023-02-22T18:10:15.156Z"
   },
   {
    "duration": 0,
    "start_time": "2023-02-22T18:10:15.157Z"
   },
   {
    "duration": 0,
    "start_time": "2023-02-22T18:10:15.157Z"
   },
   {
    "duration": 0,
    "start_time": "2023-02-22T18:10:15.158Z"
   },
   {
    "duration": 0,
    "start_time": "2023-02-22T18:10:15.160Z"
   },
   {
    "duration": 0,
    "start_time": "2023-02-22T18:10:15.161Z"
   },
   {
    "duration": 0,
    "start_time": "2023-02-22T18:10:15.162Z"
   },
   {
    "duration": 0,
    "start_time": "2023-02-22T18:10:15.163Z"
   },
   {
    "duration": 0,
    "start_time": "2023-02-22T18:10:15.163Z"
   },
   {
    "duration": 0,
    "start_time": "2023-02-22T18:10:15.165Z"
   },
   {
    "duration": 0,
    "start_time": "2023-02-22T18:10:15.165Z"
   },
   {
    "duration": 0,
    "start_time": "2023-02-22T18:10:15.166Z"
   },
   {
    "duration": 0,
    "start_time": "2023-02-22T18:10:15.168Z"
   },
   {
    "duration": 0,
    "start_time": "2023-02-22T18:10:15.168Z"
   },
   {
    "duration": 0,
    "start_time": "2023-02-22T18:10:15.169Z"
   },
   {
    "duration": 0,
    "start_time": "2023-02-22T18:10:15.171Z"
   },
   {
    "duration": 0,
    "start_time": "2023-02-22T18:10:15.171Z"
   },
   {
    "duration": 0,
    "start_time": "2023-02-22T18:10:15.173Z"
   },
   {
    "duration": 0,
    "start_time": "2023-02-22T18:10:15.174Z"
   },
   {
    "duration": 0,
    "start_time": "2023-02-22T18:10:15.175Z"
   },
   {
    "duration": 0,
    "start_time": "2023-02-22T18:10:15.176Z"
   },
   {
    "duration": 0,
    "start_time": "2023-02-22T18:10:15.177Z"
   },
   {
    "duration": 0,
    "start_time": "2023-02-22T18:10:15.177Z"
   },
   {
    "duration": 0,
    "start_time": "2023-02-22T18:10:15.178Z"
   },
   {
    "duration": 0,
    "start_time": "2023-02-22T18:10:15.180Z"
   },
   {
    "duration": 6,
    "start_time": "2023-02-22T18:15:21.523Z"
   },
   {
    "duration": 5,
    "start_time": "2023-02-22T18:15:44.303Z"
   },
   {
    "duration": 13,
    "start_time": "2023-02-22T18:18:34.463Z"
   },
   {
    "duration": 1245,
    "start_time": "2023-02-22T18:18:53.813Z"
   },
   {
    "duration": 710,
    "start_time": "2023-02-22T18:19:28.954Z"
   },
   {
    "duration": 6,
    "start_time": "2023-02-22T18:19:37.363Z"
   },
   {
    "duration": 4,
    "start_time": "2023-02-22T18:19:48.893Z"
   },
   {
    "duration": 5,
    "start_time": "2023-02-22T18:20:40.643Z"
   },
   {
    "duration": 28,
    "start_time": "2023-02-22T18:21:59.423Z"
   },
   {
    "duration": 8,
    "start_time": "2023-02-22T18:23:45.461Z"
   },
   {
    "duration": 6,
    "start_time": "2023-02-22T18:24:20.839Z"
   },
   {
    "duration": 11,
    "start_time": "2023-02-22T18:24:28.360Z"
   },
   {
    "duration": 5,
    "start_time": "2023-02-22T18:24:37.682Z"
   },
   {
    "duration": 5,
    "start_time": "2023-02-22T18:24:52.527Z"
   },
   {
    "duration": 12,
    "start_time": "2023-02-22T18:25:03.491Z"
   },
   {
    "duration": 6,
    "start_time": "2023-02-22T18:25:20.439Z"
   },
   {
    "duration": 66,
    "start_time": "2023-02-22T18:25:28.422Z"
   },
   {
    "duration": 9,
    "start_time": "2023-02-22T18:25:51.123Z"
   },
   {
    "duration": 9,
    "start_time": "2023-02-22T18:26:05.582Z"
   },
   {
    "duration": 7,
    "start_time": "2023-02-22T18:26:06.243Z"
   },
   {
    "duration": 60,
    "start_time": "2023-02-22T18:26:12.262Z"
   },
   {
    "duration": 7,
    "start_time": "2023-02-22T18:26:15.081Z"
   },
   {
    "duration": 9,
    "start_time": "2023-02-22T18:26:15.808Z"
   },
   {
    "duration": 32,
    "start_time": "2023-02-22T18:26:22.262Z"
   },
   {
    "duration": 8,
    "start_time": "2023-02-22T18:26:23.167Z"
   },
   {
    "duration": 39,
    "start_time": "2023-02-22T18:26:26.287Z"
   },
   {
    "duration": 6,
    "start_time": "2023-02-22T18:26:27.363Z"
   },
   {
    "duration": 32,
    "start_time": "2023-02-22T18:26:29.719Z"
   },
   {
    "duration": 25,
    "start_time": "2023-02-22T18:26:37.063Z"
   },
   {
    "duration": 11,
    "start_time": "2023-02-22T18:26:39.648Z"
   },
   {
    "duration": 2,
    "start_time": "2023-02-22T18:26:58.571Z"
   },
   {
    "duration": 33,
    "start_time": "2023-02-22T18:27:03.399Z"
   },
   {
    "duration": 15,
    "start_time": "2023-02-22T18:27:07.319Z"
   },
   {
    "duration": 21,
    "start_time": "2023-02-22T18:28:57.053Z"
   },
   {
    "duration": 1220,
    "start_time": "2023-02-22T18:30:57.352Z"
   },
   {
    "duration": 100,
    "start_time": "2023-02-22T18:30:58.574Z"
   },
   {
    "duration": 13,
    "start_time": "2023-02-22T18:30:58.676Z"
   },
   {
    "duration": 17,
    "start_time": "2023-02-22T18:30:58.691Z"
   },
   {
    "duration": 32,
    "start_time": "2023-02-22T18:30:58.710Z"
   },
   {
    "duration": 68,
    "start_time": "2023-02-22T18:30:58.744Z"
   },
   {
    "duration": 1821,
    "start_time": "2023-02-22T18:30:58.814Z"
   },
   {
    "duration": 9,
    "start_time": "2023-02-22T18:31:00.636Z"
   },
   {
    "duration": 1050,
    "start_time": "2023-02-22T18:31:00.647Z"
   },
   {
    "duration": 5,
    "start_time": "2023-02-22T18:31:01.699Z"
   },
   {
    "duration": 63,
    "start_time": "2023-02-22T18:31:01.706Z"
   },
   {
    "duration": 50,
    "start_time": "2023-02-22T18:31:01.770Z"
   },
   {
    "duration": 39,
    "start_time": "2023-02-22T18:31:01.822Z"
   },
   {
    "duration": 49,
    "start_time": "2023-02-22T18:31:01.864Z"
   },
   {
    "duration": 49,
    "start_time": "2023-02-22T18:31:01.915Z"
   },
   {
    "duration": 82,
    "start_time": "2023-02-22T18:31:01.966Z"
   },
   {
    "duration": 46,
    "start_time": "2023-02-22T18:31:02.051Z"
   },
   {
    "duration": 18,
    "start_time": "2023-02-22T18:31:02.098Z"
   },
   {
    "duration": 37,
    "start_time": "2023-02-22T18:31:02.118Z"
   },
   {
    "duration": 31,
    "start_time": "2023-02-22T18:31:02.157Z"
   },
   {
    "duration": 33,
    "start_time": "2023-02-22T18:31:02.189Z"
   },
   {
    "duration": 2928,
    "start_time": "2023-02-22T18:31:02.223Z"
   },
   {
    "duration": 3,
    "start_time": "2023-02-22T18:31:05.152Z"
   },
   {
    "duration": 14,
    "start_time": "2023-02-22T18:31:05.157Z"
   },
   {
    "duration": 25,
    "start_time": "2023-02-22T18:31:05.172Z"
   },
   {
    "duration": 44,
    "start_time": "2023-02-22T18:31:05.199Z"
   },
   {
    "duration": 8,
    "start_time": "2023-02-22T18:31:05.245Z"
   },
   {
    "duration": 14,
    "start_time": "2023-02-22T18:31:05.255Z"
   },
   {
    "duration": 21,
    "start_time": "2023-02-22T18:31:05.271Z"
   },
   {
    "duration": 76,
    "start_time": "2023-02-22T18:31:05.294Z"
   },
   {
    "duration": 25,
    "start_time": "2023-02-22T18:31:05.372Z"
   },
   {
    "duration": 12,
    "start_time": "2023-02-22T18:31:05.400Z"
   },
   {
    "duration": 16,
    "start_time": "2023-02-22T18:31:05.415Z"
   },
   {
    "duration": 52,
    "start_time": "2023-02-22T18:31:05.432Z"
   },
   {
    "duration": 6,
    "start_time": "2023-02-22T18:31:05.486Z"
   },
   {
    "duration": 19,
    "start_time": "2023-02-22T18:31:05.493Z"
   },
   {
    "duration": 29,
    "start_time": "2023-02-22T18:31:05.514Z"
   },
   {
    "duration": 12,
    "start_time": "2023-02-22T18:31:05.545Z"
   },
   {
    "duration": 26,
    "start_time": "2023-02-22T18:31:05.559Z"
   },
   {
    "duration": 11,
    "start_time": "2023-02-22T18:31:05.587Z"
   },
   {
    "duration": 4,
    "start_time": "2023-02-22T18:31:05.603Z"
   },
   {
    "duration": 10,
    "start_time": "2023-02-22T18:31:05.608Z"
   },
   {
    "duration": 16,
    "start_time": "2023-02-22T18:31:05.619Z"
   },
   {
    "duration": 17,
    "start_time": "2023-02-22T18:31:05.637Z"
   },
   {
    "duration": 8,
    "start_time": "2023-02-22T18:31:05.656Z"
   },
   {
    "duration": 1264,
    "start_time": "2023-02-22T18:31:05.665Z"
   },
   {
    "duration": 6,
    "start_time": "2023-02-22T18:31:06.930Z"
   },
   {
    "duration": 11,
    "start_time": "2023-02-22T18:31:06.938Z"
   },
   {
    "duration": 44,
    "start_time": "2023-02-22T18:31:06.951Z"
   },
   {
    "duration": 9,
    "start_time": "2023-02-22T18:31:06.998Z"
   },
   {
    "duration": 9,
    "start_time": "2023-02-22T18:31:07.009Z"
   },
   {
    "duration": 36,
    "start_time": "2023-02-22T18:31:07.020Z"
   },
   {
    "duration": 5,
    "start_time": "2023-02-22T18:31:07.058Z"
   },
   {
    "duration": 29,
    "start_time": "2023-02-22T18:31:07.064Z"
   },
   {
    "duration": 7,
    "start_time": "2023-02-22T18:31:07.095Z"
   },
   {
    "duration": 80,
    "start_time": "2023-02-22T18:31:07.104Z"
   },
   {
    "duration": 11,
    "start_time": "2023-02-22T18:31:07.186Z"
   },
   {
    "duration": 9,
    "start_time": "2023-02-22T18:31:07.199Z"
   },
   {
    "duration": 77,
    "start_time": "2023-02-22T18:31:07.209Z"
   },
   {
    "duration": 8,
    "start_time": "2023-02-22T18:31:07.288Z"
   },
   {
    "duration": 10,
    "start_time": "2023-02-22T18:31:07.298Z"
   },
   {
    "duration": 65,
    "start_time": "2023-02-22T18:31:07.310Z"
   },
   {
    "duration": 11,
    "start_time": "2023-02-22T18:31:07.377Z"
   },
   {
    "duration": 12,
    "start_time": "2023-02-22T18:31:15.164Z"
   },
   {
    "duration": 16,
    "start_time": "2023-02-22T18:31:16.751Z"
   },
   {
    "duration": 6,
    "start_time": "2023-02-22T18:32:34.311Z"
   },
   {
    "duration": 90,
    "start_time": "2023-02-22T18:33:13.514Z"
   },
   {
    "duration": 9,
    "start_time": "2023-02-22T18:33:42.646Z"
   },
   {
    "duration": 8,
    "start_time": "2023-02-22T18:34:00.595Z"
   },
   {
    "duration": 47,
    "start_time": "2023-02-22T18:36:27.753Z"
   },
   {
    "duration": 1060,
    "start_time": "2023-02-22T18:38:41.577Z"
   },
   {
    "duration": 85,
    "start_time": "2023-02-22T18:38:42.639Z"
   },
   {
    "duration": 15,
    "start_time": "2023-02-22T18:38:42.725Z"
   },
   {
    "duration": 3,
    "start_time": "2023-02-22T18:38:42.742Z"
   },
   {
    "duration": 31,
    "start_time": "2023-02-22T18:38:42.746Z"
   },
   {
    "duration": 77,
    "start_time": "2023-02-22T18:38:42.779Z"
   },
   {
    "duration": 2069,
    "start_time": "2023-02-22T18:38:42.858Z"
   },
   {
    "duration": 10,
    "start_time": "2023-02-22T18:38:44.929Z"
   },
   {
    "duration": 1066,
    "start_time": "2023-02-22T18:38:44.940Z"
   },
   {
    "duration": 5,
    "start_time": "2023-02-22T18:38:46.008Z"
   },
   {
    "duration": 18,
    "start_time": "2023-02-22T18:38:46.015Z"
   },
   {
    "duration": 27,
    "start_time": "2023-02-22T18:38:46.035Z"
   },
   {
    "duration": 7,
    "start_time": "2023-02-22T18:38:46.064Z"
   },
   {
    "duration": 6,
    "start_time": "2023-02-22T18:38:46.074Z"
   },
   {
    "duration": 7,
    "start_time": "2023-02-22T18:38:46.081Z"
   },
   {
    "duration": 7,
    "start_time": "2023-02-22T18:38:46.089Z"
   },
   {
    "duration": 8,
    "start_time": "2023-02-22T18:38:46.098Z"
   },
   {
    "duration": 41,
    "start_time": "2023-02-22T18:38:46.107Z"
   },
   {
    "duration": 6,
    "start_time": "2023-02-22T18:38:46.150Z"
   },
   {
    "duration": 8,
    "start_time": "2023-02-22T18:38:46.158Z"
   },
   {
    "duration": 6,
    "start_time": "2023-02-22T18:38:46.168Z"
   },
   {
    "duration": 2862,
    "start_time": "2023-02-22T18:38:46.175Z"
   },
   {
    "duration": 3,
    "start_time": "2023-02-22T18:38:49.039Z"
   },
   {
    "duration": 5,
    "start_time": "2023-02-22T18:38:49.048Z"
   },
   {
    "duration": 3,
    "start_time": "2023-02-22T18:38:49.055Z"
   },
   {
    "duration": 30,
    "start_time": "2023-02-22T18:38:49.060Z"
   },
   {
    "duration": 5,
    "start_time": "2023-02-22T18:38:49.092Z"
   },
   {
    "duration": 8,
    "start_time": "2023-02-22T18:38:49.099Z"
   },
   {
    "duration": 7,
    "start_time": "2023-02-22T18:38:49.109Z"
   },
   {
    "duration": 93,
    "start_time": "2023-02-22T18:38:49.118Z"
   },
   {
    "duration": 42,
    "start_time": "2023-02-22T18:38:49.213Z"
   },
   {
    "duration": 8,
    "start_time": "2023-02-22T18:38:49.257Z"
   },
   {
    "duration": 7,
    "start_time": "2023-02-22T18:38:49.267Z"
   },
   {
    "duration": 28,
    "start_time": "2023-02-22T18:38:49.275Z"
   },
   {
    "duration": 5,
    "start_time": "2023-02-22T18:38:49.304Z"
   },
   {
    "duration": 6,
    "start_time": "2023-02-22T18:38:49.310Z"
   },
   {
    "duration": 30,
    "start_time": "2023-02-22T18:38:49.318Z"
   },
   {
    "duration": 6,
    "start_time": "2023-02-22T18:38:49.349Z"
   },
   {
    "duration": 8,
    "start_time": "2023-02-22T18:38:49.357Z"
   },
   {
    "duration": 5,
    "start_time": "2023-02-22T18:38:49.367Z"
   },
   {
    "duration": 7,
    "start_time": "2023-02-22T18:38:49.376Z"
   },
   {
    "duration": 8,
    "start_time": "2023-02-22T18:38:49.384Z"
   },
   {
    "duration": 9,
    "start_time": "2023-02-22T18:38:49.393Z"
   },
   {
    "duration": 6,
    "start_time": "2023-02-22T18:38:49.404Z"
   },
   {
    "duration": 41,
    "start_time": "2023-02-22T18:38:49.411Z"
   },
   {
    "duration": 1119,
    "start_time": "2023-02-22T18:38:49.453Z"
   },
   {
    "duration": 5,
    "start_time": "2023-02-22T18:38:50.574Z"
   },
   {
    "duration": 9,
    "start_time": "2023-02-22T18:38:50.581Z"
   },
   {
    "duration": 32,
    "start_time": "2023-02-22T18:38:50.592Z"
   },
   {
    "duration": 23,
    "start_time": "2023-02-22T18:38:50.626Z"
   },
   {
    "duration": 37,
    "start_time": "2023-02-22T18:38:50.651Z"
   },
   {
    "duration": 43,
    "start_time": "2023-02-22T18:38:50.690Z"
   },
   {
    "duration": 22,
    "start_time": "2023-02-22T18:38:50.734Z"
   },
   {
    "duration": 37,
    "start_time": "2023-02-22T18:38:50.758Z"
   },
   {
    "duration": 35,
    "start_time": "2023-02-22T18:38:50.797Z"
   },
   {
    "duration": 82,
    "start_time": "2023-02-22T18:38:50.833Z"
   },
   {
    "duration": 9,
    "start_time": "2023-02-22T18:38:50.916Z"
   },
   {
    "duration": 9,
    "start_time": "2023-02-22T18:40:45.245Z"
   },
   {
    "duration": 13,
    "start_time": "2023-02-22T18:40:46.077Z"
   },
   {
    "duration": 8,
    "start_time": "2023-02-22T18:41:12.139Z"
   },
   {
    "duration": 6,
    "start_time": "2023-02-22T18:41:17.047Z"
   },
   {
    "duration": 12939,
    "start_time": "2023-02-22T18:46:06.677Z"
   },
   {
    "duration": 3,
    "start_time": "2023-02-22T18:46:20.523Z"
   },
   {
    "duration": 12899,
    "start_time": "2023-02-22T18:46:27.411Z"
   },
   {
    "duration": 13,
    "start_time": "2023-02-22T18:47:06.363Z"
   },
   {
    "duration": 8,
    "start_time": "2023-02-22T18:47:30.893Z"
   },
   {
    "duration": 9,
    "start_time": "2023-02-22T18:47:43.093Z"
   },
   {
    "duration": 3,
    "start_time": "2023-02-22T18:49:31.372Z"
   },
   {
    "duration": 12,
    "start_time": "2023-02-22T18:49:32.857Z"
   },
   {
    "duration": 9,
    "start_time": "2023-02-22T18:49:34.241Z"
   },
   {
    "duration": 15,
    "start_time": "2023-02-22T18:49:43.172Z"
   },
   {
    "duration": 20,
    "start_time": "2023-02-22T18:49:53.441Z"
   },
   {
    "duration": 8,
    "start_time": "2023-02-22T18:49:54.559Z"
   },
   {
    "duration": 24,
    "start_time": "2023-02-22T18:50:01.820Z"
   },
   {
    "duration": 4,
    "start_time": "2023-02-22T18:50:02.279Z"
   },
   {
    "duration": 28,
    "start_time": "2023-02-22T18:50:07.968Z"
   },
   {
    "duration": 13,
    "start_time": "2023-02-22T18:50:09.069Z"
   },
   {
    "duration": 29,
    "start_time": "2023-02-22T18:50:11.112Z"
   },
   {
    "duration": 8,
    "start_time": "2023-02-22T18:50:13.131Z"
   },
   {
    "duration": 2,
    "start_time": "2023-02-22T18:50:14.471Z"
   },
   {
    "duration": 21,
    "start_time": "2023-02-22T18:50:15.290Z"
   },
   {
    "duration": 12,
    "start_time": "2023-02-22T18:50:18.131Z"
   },
   {
    "duration": 4,
    "start_time": "2023-02-22T18:54:54.141Z"
   },
   {
    "duration": 3,
    "start_time": "2023-02-22T18:54:54.492Z"
   },
   {
    "duration": 4,
    "start_time": "2023-02-22T18:54:54.931Z"
   },
   {
    "duration": 8,
    "start_time": "2023-02-22T18:55:01.759Z"
   },
   {
    "duration": 10,
    "start_time": "2023-02-22T18:55:06.867Z"
   },
   {
    "duration": 13,
    "start_time": "2023-02-22T18:55:14.367Z"
   },
   {
    "duration": 4,
    "start_time": "2023-02-22T18:58:53.893Z"
   },
   {
    "duration": 36,
    "start_time": "2023-02-22T18:58:54.373Z"
   },
   {
    "duration": 5,
    "start_time": "2023-02-22T18:59:28.659Z"
   },
   {
    "duration": 4,
    "start_time": "2023-02-22T18:59:30.223Z"
   },
   {
    "duration": 33,
    "start_time": "2023-02-22T18:59:30.736Z"
   },
   {
    "duration": 6,
    "start_time": "2023-02-22T18:59:51.015Z"
   },
   {
    "duration": 5,
    "start_time": "2023-02-22T18:59:58.104Z"
   },
   {
    "duration": 745,
    "start_time": "2023-02-22T18:59:59.195Z"
   },
   {
    "duration": 5,
    "start_time": "2023-02-22T19:00:20.760Z"
   },
   {
    "duration": 47,
    "start_time": "2023-02-22T19:00:25.363Z"
   },
   {
    "duration": 45,
    "start_time": "2023-02-22T19:06:34.884Z"
   },
   {
    "duration": 3,
    "start_time": "2023-02-22T19:12:56.278Z"
   },
   {
    "duration": 219,
    "start_time": "2023-02-22T19:18:27.953Z"
   },
   {
    "duration": 3,
    "start_time": "2023-02-22T19:20:26.553Z"
   },
   {
    "duration": 1148,
    "start_time": "2023-02-22T19:23:26.923Z"
   },
   {
    "duration": 91,
    "start_time": "2023-02-22T19:23:28.073Z"
   },
   {
    "duration": 16,
    "start_time": "2023-02-22T19:23:28.165Z"
   },
   {
    "duration": 3,
    "start_time": "2023-02-22T19:23:28.183Z"
   },
   {
    "duration": 37,
    "start_time": "2023-02-22T19:23:28.188Z"
   },
   {
    "duration": 82,
    "start_time": "2023-02-22T19:23:28.227Z"
   },
   {
    "duration": 1961,
    "start_time": "2023-02-22T19:23:28.310Z"
   },
   {
    "duration": 8,
    "start_time": "2023-02-22T19:23:30.273Z"
   },
   {
    "duration": 995,
    "start_time": "2023-02-22T19:23:30.283Z"
   },
   {
    "duration": 4,
    "start_time": "2023-02-22T19:23:31.280Z"
   },
   {
    "duration": 10,
    "start_time": "2023-02-22T19:23:31.286Z"
   },
   {
    "duration": 29,
    "start_time": "2023-02-22T19:23:31.297Z"
   },
   {
    "duration": 13,
    "start_time": "2023-02-22T19:23:31.328Z"
   },
   {
    "duration": 8,
    "start_time": "2023-02-22T19:23:31.347Z"
   },
   {
    "duration": 13,
    "start_time": "2023-02-22T19:23:31.356Z"
   },
   {
    "duration": 20,
    "start_time": "2023-02-22T19:23:31.371Z"
   },
   {
    "duration": 10,
    "start_time": "2023-02-22T19:23:31.392Z"
   },
   {
    "duration": 11,
    "start_time": "2023-02-22T19:23:31.403Z"
   },
   {
    "duration": 19,
    "start_time": "2023-02-22T19:23:31.415Z"
   },
   {
    "duration": 7,
    "start_time": "2023-02-22T19:23:31.436Z"
   },
   {
    "duration": 9,
    "start_time": "2023-02-22T19:23:31.444Z"
   },
   {
    "duration": 2839,
    "start_time": "2023-02-22T19:23:31.454Z"
   },
   {
    "duration": 2,
    "start_time": "2023-02-22T19:23:34.295Z"
   },
   {
    "duration": 13,
    "start_time": "2023-02-22T19:23:34.298Z"
   },
   {
    "duration": 8,
    "start_time": "2023-02-22T19:23:34.313Z"
   },
   {
    "duration": 36,
    "start_time": "2023-02-22T19:23:34.322Z"
   },
   {
    "duration": 4,
    "start_time": "2023-02-22T19:23:34.360Z"
   },
   {
    "duration": 33,
    "start_time": "2023-02-22T19:23:34.365Z"
   },
   {
    "duration": 19,
    "start_time": "2023-02-22T19:23:34.400Z"
   },
   {
    "duration": 66,
    "start_time": "2023-02-22T19:23:34.420Z"
   },
   {
    "duration": 25,
    "start_time": "2023-02-22T19:23:34.487Z"
   },
   {
    "duration": 17,
    "start_time": "2023-02-22T19:23:34.514Z"
   },
   {
    "duration": 16,
    "start_time": "2023-02-22T19:23:34.533Z"
   },
   {
    "duration": 36,
    "start_time": "2023-02-22T19:23:34.551Z"
   },
   {
    "duration": 4,
    "start_time": "2023-02-22T19:23:34.589Z"
   },
   {
    "duration": 10,
    "start_time": "2023-02-22T19:23:34.594Z"
   },
   {
    "duration": 15,
    "start_time": "2023-02-22T19:23:34.605Z"
   },
   {
    "duration": 16,
    "start_time": "2023-02-22T19:23:34.621Z"
   },
   {
    "duration": 12,
    "start_time": "2023-02-22T19:23:34.639Z"
   },
   {
    "duration": 11,
    "start_time": "2023-02-22T19:23:34.653Z"
   },
   {
    "duration": 27,
    "start_time": "2023-02-22T19:23:34.668Z"
   },
   {
    "duration": 19,
    "start_time": "2023-02-22T19:23:34.697Z"
   },
   {
    "duration": 20,
    "start_time": "2023-02-22T19:23:34.718Z"
   },
   {
    "duration": 6,
    "start_time": "2023-02-22T19:23:34.740Z"
   },
   {
    "duration": 14,
    "start_time": "2023-02-22T19:23:34.748Z"
   },
   {
    "duration": 1205,
    "start_time": "2023-02-22T19:23:34.764Z"
   },
   {
    "duration": 4,
    "start_time": "2023-02-22T19:23:35.971Z"
   },
   {
    "duration": 13,
    "start_time": "2023-02-22T19:23:35.976Z"
   },
   {
    "duration": 30,
    "start_time": "2023-02-22T19:23:35.990Z"
   },
   {
    "duration": 6,
    "start_time": "2023-02-22T19:23:36.022Z"
   },
   {
    "duration": 8,
    "start_time": "2023-02-22T19:23:36.029Z"
   },
   {
    "duration": 17,
    "start_time": "2023-02-22T19:23:36.038Z"
   },
   {
    "duration": 4,
    "start_time": "2023-02-22T19:23:36.056Z"
   },
   {
    "duration": 5,
    "start_time": "2023-02-22T19:23:36.061Z"
   },
   {
    "duration": 7,
    "start_time": "2023-02-22T19:23:36.067Z"
   },
   {
    "duration": 4,
    "start_time": "2023-02-22T19:23:36.076Z"
   },
   {
    "duration": 16,
    "start_time": "2023-02-22T19:23:36.081Z"
   },
   {
    "duration": 7,
    "start_time": "2023-02-22T19:23:36.098Z"
   },
   {
    "duration": 49,
    "start_time": "2023-02-22T19:23:36.107Z"
   },
   {
    "duration": 7,
    "start_time": "2023-02-22T19:23:36.157Z"
   },
   {
    "duration": 24,
    "start_time": "2023-02-22T19:23:36.166Z"
   },
   {
    "duration": 4,
    "start_time": "2023-02-22T19:23:36.192Z"
   },
   {
    "duration": 35,
    "start_time": "2023-02-22T19:23:36.197Z"
   },
   {
    "duration": 26,
    "start_time": "2023-02-22T19:23:36.233Z"
   },
   {
    "duration": 24,
    "start_time": "2023-02-22T19:23:36.260Z"
   },
   {
    "duration": 7,
    "start_time": "2023-02-22T19:23:36.286Z"
   },
   {
    "duration": 3,
    "start_time": "2023-02-22T19:23:36.294Z"
   },
   {
    "duration": 24,
    "start_time": "2023-02-22T19:23:36.299Z"
   },
   {
    "duration": 28,
    "start_time": "2023-02-22T19:23:36.324Z"
   },
   {
    "duration": 17,
    "start_time": "2023-02-22T19:23:36.354Z"
   },
   {
    "duration": 4,
    "start_time": "2023-02-22T19:23:36.372Z"
   },
   {
    "duration": 35,
    "start_time": "2023-02-22T19:23:36.378Z"
   },
   {
    "duration": 5,
    "start_time": "2023-02-22T19:23:36.414Z"
   },
   {
    "duration": 27,
    "start_time": "2023-02-22T19:23:36.421Z"
   },
   {
    "duration": 5,
    "start_time": "2023-02-22T19:23:36.449Z"
   },
   {
    "duration": 3,
    "start_time": "2023-02-22T19:23:36.455Z"
   },
   {
    "duration": 315,
    "start_time": "2023-02-22T19:23:36.459Z"
   },
   {
    "duration": 15,
    "start_time": "2023-02-22T19:24:05.863Z"
   },
   {
    "duration": 1050,
    "start_time": "2023-02-22T19:25:39.591Z"
   },
   {
    "duration": 87,
    "start_time": "2023-02-22T19:25:40.643Z"
   },
   {
    "duration": 14,
    "start_time": "2023-02-22T19:25:40.731Z"
   },
   {
    "duration": 2,
    "start_time": "2023-02-22T19:25:40.748Z"
   },
   {
    "duration": 41,
    "start_time": "2023-02-22T19:25:40.752Z"
   },
   {
    "duration": 69,
    "start_time": "2023-02-22T19:25:40.794Z"
   },
   {
    "duration": 1851,
    "start_time": "2023-02-22T19:25:40.864Z"
   },
   {
    "duration": 10,
    "start_time": "2023-02-22T19:25:42.716Z"
   },
   {
    "duration": 1106,
    "start_time": "2023-02-22T19:25:42.727Z"
   },
   {
    "duration": 12,
    "start_time": "2023-02-22T19:25:43.836Z"
   },
   {
    "duration": 6,
    "start_time": "2023-02-22T19:25:43.849Z"
   },
   {
    "duration": 37,
    "start_time": "2023-02-22T19:25:43.856Z"
   },
   {
    "duration": 6,
    "start_time": "2023-02-22T19:25:43.895Z"
   },
   {
    "duration": 16,
    "start_time": "2023-02-22T19:25:43.903Z"
   },
   {
    "duration": 9,
    "start_time": "2023-02-22T19:25:43.921Z"
   },
   {
    "duration": 20,
    "start_time": "2023-02-22T19:25:43.932Z"
   },
   {
    "duration": 6,
    "start_time": "2023-02-22T19:25:43.954Z"
   },
   {
    "duration": 4,
    "start_time": "2023-02-22T19:25:43.962Z"
   },
   {
    "duration": 6,
    "start_time": "2023-02-22T19:25:43.968Z"
   },
   {
    "duration": 8,
    "start_time": "2023-02-22T19:25:43.976Z"
   },
   {
    "duration": 10,
    "start_time": "2023-02-22T19:25:43.986Z"
   },
   {
    "duration": 2856,
    "start_time": "2023-02-22T19:25:43.998Z"
   },
   {
    "duration": 2,
    "start_time": "2023-02-22T19:25:46.857Z"
   },
   {
    "duration": 17,
    "start_time": "2023-02-22T19:25:46.861Z"
   },
   {
    "duration": 10,
    "start_time": "2023-02-22T19:25:46.879Z"
   },
   {
    "duration": 35,
    "start_time": "2023-02-22T19:25:46.891Z"
   },
   {
    "duration": 4,
    "start_time": "2023-02-22T19:25:46.927Z"
   },
   {
    "duration": 15,
    "start_time": "2023-02-22T19:25:46.934Z"
   },
   {
    "duration": 6,
    "start_time": "2023-02-22T19:25:46.950Z"
   },
   {
    "duration": 55,
    "start_time": "2023-02-22T19:25:46.958Z"
   },
   {
    "duration": 18,
    "start_time": "2023-02-22T19:25:47.014Z"
   },
   {
    "duration": 30,
    "start_time": "2023-02-22T19:25:47.033Z"
   },
   {
    "duration": 8,
    "start_time": "2023-02-22T19:25:47.065Z"
   },
   {
    "duration": 27,
    "start_time": "2023-02-22T19:25:47.074Z"
   },
   {
    "duration": 3,
    "start_time": "2023-02-22T19:25:47.103Z"
   },
   {
    "duration": 11,
    "start_time": "2023-02-22T19:25:47.108Z"
   },
   {
    "duration": 26,
    "start_time": "2023-02-22T19:25:47.120Z"
   },
   {
    "duration": 6,
    "start_time": "2023-02-22T19:25:47.147Z"
   },
   {
    "duration": 8,
    "start_time": "2023-02-22T19:25:47.154Z"
   },
   {
    "duration": 3,
    "start_time": "2023-02-22T19:25:47.164Z"
   },
   {
    "duration": 17,
    "start_time": "2023-02-22T19:25:47.169Z"
   },
   {
    "duration": 7,
    "start_time": "2023-02-22T19:25:47.188Z"
   },
   {
    "duration": 8,
    "start_time": "2023-02-22T19:25:47.196Z"
   },
   {
    "duration": 7,
    "start_time": "2023-02-22T19:25:47.206Z"
   },
   {
    "duration": 7,
    "start_time": "2023-02-22T19:25:47.214Z"
   },
   {
    "duration": 1239,
    "start_time": "2023-02-22T19:25:47.222Z"
   },
   {
    "duration": 5,
    "start_time": "2023-02-22T19:25:48.463Z"
   },
   {
    "duration": 10,
    "start_time": "2023-02-22T19:25:48.471Z"
   },
   {
    "duration": 39,
    "start_time": "2023-02-22T19:25:48.482Z"
   },
   {
    "duration": 7,
    "start_time": "2023-02-22T19:25:48.523Z"
   },
   {
    "duration": 22,
    "start_time": "2023-02-22T19:25:48.532Z"
   },
   {
    "duration": 11,
    "start_time": "2023-02-22T19:25:48.555Z"
   },
   {
    "duration": 5,
    "start_time": "2023-02-22T19:25:48.567Z"
   },
   {
    "duration": 7,
    "start_time": "2023-02-22T19:25:48.574Z"
   },
   {
    "duration": 10,
    "start_time": "2023-02-22T19:25:48.582Z"
   },
   {
    "duration": 7,
    "start_time": "2023-02-22T19:25:48.594Z"
   },
   {
    "duration": 15,
    "start_time": "2023-02-22T19:25:48.602Z"
   },
   {
    "duration": 30,
    "start_time": "2023-02-22T19:25:48.619Z"
   },
   {
    "duration": 23,
    "start_time": "2023-02-22T19:25:48.650Z"
   },
   {
    "duration": 8,
    "start_time": "2023-02-22T19:25:48.675Z"
   },
   {
    "duration": 25,
    "start_time": "2023-02-22T19:25:48.684Z"
   },
   {
    "duration": 5,
    "start_time": "2023-02-22T19:25:48.711Z"
   },
   {
    "duration": 56,
    "start_time": "2023-02-22T19:25:48.717Z"
   },
   {
    "duration": 13,
    "start_time": "2023-02-22T19:25:48.775Z"
   },
   {
    "duration": 24,
    "start_time": "2023-02-22T19:25:48.790Z"
   },
   {
    "duration": 10,
    "start_time": "2023-02-22T19:25:48.816Z"
   },
   {
    "duration": 20,
    "start_time": "2023-02-22T19:25:48.828Z"
   },
   {
    "duration": 23,
    "start_time": "2023-02-22T19:25:48.850Z"
   },
   {
    "duration": 10,
    "start_time": "2023-02-22T19:25:48.875Z"
   },
   {
    "duration": 16,
    "start_time": "2023-02-22T19:25:48.887Z"
   },
   {
    "duration": 4,
    "start_time": "2023-02-22T19:25:48.904Z"
   },
   {
    "duration": 58,
    "start_time": "2023-02-22T19:25:48.910Z"
   },
   {
    "duration": 5,
    "start_time": "2023-02-22T19:25:48.969Z"
   },
   {
    "duration": 9,
    "start_time": "2023-02-22T19:25:48.976Z"
   },
   {
    "duration": 5,
    "start_time": "2023-02-22T19:25:48.986Z"
   },
   {
    "duration": 6,
    "start_time": "2023-02-22T19:25:48.992Z"
   },
   {
    "duration": 307,
    "start_time": "2023-02-22T19:25:48.999Z"
   },
   {
    "duration": 0,
    "start_time": "2023-02-22T19:25:49.308Z"
   },
   {
    "duration": 13,
    "start_time": "2023-02-22T19:26:03.126Z"
   },
   {
    "duration": 4,
    "start_time": "2023-02-22T19:35:10.232Z"
   },
   {
    "duration": 173,
    "start_time": "2023-02-22T19:35:26.271Z"
   },
   {
    "duration": 15,
    "start_time": "2023-02-22T19:35:40.594Z"
   },
   {
    "duration": 4,
    "start_time": "2023-02-22T19:36:07.374Z"
   },
   {
    "duration": 224,
    "start_time": "2023-02-22T19:36:14.828Z"
   },
   {
    "duration": 15,
    "start_time": "2023-02-22T19:37:32.492Z"
   },
   {
    "duration": 2,
    "start_time": "2023-02-22T19:41:26.729Z"
   },
   {
    "duration": 4,
    "start_time": "2023-02-22T19:41:46.174Z"
   },
   {
    "duration": 44,
    "start_time": "2023-02-22T19:42:29.830Z"
   },
   {
    "duration": 49,
    "start_time": "2023-02-22T19:42:39.348Z"
   },
   {
    "duration": 50,
    "start_time": "2023-02-22T19:42:52.185Z"
   },
   {
    "duration": 271,
    "start_time": "2023-02-22T19:42:57.670Z"
   },
   {
    "duration": 281,
    "start_time": "2023-02-22T19:43:05.855Z"
   },
   {
    "duration": 6,
    "start_time": "2023-02-22T19:43:42.185Z"
   },
   {
    "duration": 3,
    "start_time": "2023-02-22T19:44:34.125Z"
   },
   {
    "duration": 361,
    "start_time": "2023-02-22T19:45:01.824Z"
   },
   {
    "duration": 5,
    "start_time": "2023-02-22T19:45:28.427Z"
   },
   {
    "duration": 700,
    "start_time": "2023-02-22T19:46:28.927Z"
   },
   {
    "duration": 3,
    "start_time": "2023-02-22T19:46:44.128Z"
   },
   {
    "duration": 52,
    "start_time": "2023-02-22T19:46:49.623Z"
   },
   {
    "duration": 8,
    "start_time": "2023-02-22T19:47:10.056Z"
   },
   {
    "duration": 5,
    "start_time": "2023-02-22T19:47:28.046Z"
   },
   {
    "duration": 5,
    "start_time": "2023-02-22T19:49:39.074Z"
   },
   {
    "duration": 4,
    "start_time": "2023-02-22T19:49:51.005Z"
   },
   {
    "duration": 6,
    "start_time": "2023-02-22T19:49:56.121Z"
   },
   {
    "duration": 9,
    "start_time": "2023-02-22T19:50:07.735Z"
   },
   {
    "duration": 4,
    "start_time": "2023-03-09T08:42:44.532Z"
   },
   {
    "duration": 50,
    "start_time": "2023-03-09T09:00:14.962Z"
   },
   {
    "duration": 1331,
    "start_time": "2023-03-09T09:00:21.026Z"
   },
   {
    "duration": 131,
    "start_time": "2023-03-09T09:00:22.358Z"
   },
   {
    "duration": 14,
    "start_time": "2023-03-09T09:00:22.491Z"
   },
   {
    "duration": 3,
    "start_time": "2023-03-09T09:00:22.507Z"
   },
   {
    "duration": 25,
    "start_time": "2023-03-09T09:00:22.511Z"
   },
   {
    "duration": 75,
    "start_time": "2023-03-09T09:00:22.538Z"
   },
   {
    "duration": 1791,
    "start_time": "2023-03-09T09:00:22.614Z"
   },
   {
    "duration": 9,
    "start_time": "2023-03-09T09:00:24.407Z"
   },
   {
    "duration": 1050,
    "start_time": "2023-03-09T09:00:24.417Z"
   },
   {
    "duration": 4,
    "start_time": "2023-03-09T09:00:25.471Z"
   },
   {
    "duration": 6,
    "start_time": "2023-03-09T09:00:25.476Z"
   },
   {
    "duration": 20,
    "start_time": "2023-03-09T09:00:25.484Z"
   },
   {
    "duration": 4,
    "start_time": "2023-03-09T09:00:25.505Z"
   },
   {
    "duration": 5,
    "start_time": "2023-03-09T09:00:25.510Z"
   },
   {
    "duration": 4,
    "start_time": "2023-03-09T09:00:25.516Z"
   },
   {
    "duration": 4,
    "start_time": "2023-03-09T09:00:25.555Z"
   },
   {
    "duration": 5,
    "start_time": "2023-03-09T09:00:25.561Z"
   },
   {
    "duration": 3,
    "start_time": "2023-03-09T09:00:25.568Z"
   },
   {
    "duration": 5,
    "start_time": "2023-03-09T09:00:25.573Z"
   },
   {
    "duration": 8,
    "start_time": "2023-03-09T09:00:25.579Z"
   },
   {
    "duration": 19,
    "start_time": "2023-03-09T09:00:25.588Z"
   },
   {
    "duration": 2554,
    "start_time": "2023-03-09T09:00:25.608Z"
   },
   {
    "duration": 2,
    "start_time": "2023-03-09T09:00:28.163Z"
   },
   {
    "duration": 6,
    "start_time": "2023-03-09T09:00:28.167Z"
   },
   {
    "duration": 3,
    "start_time": "2023-03-09T09:00:28.174Z"
   },
   {
    "duration": 26,
    "start_time": "2023-03-09T09:00:28.178Z"
   },
   {
    "duration": 4,
    "start_time": "2023-03-09T09:00:28.205Z"
   },
   {
    "duration": 5,
    "start_time": "2023-03-09T09:00:28.213Z"
   },
   {
    "duration": 5,
    "start_time": "2023-03-09T09:00:28.219Z"
   },
   {
    "duration": 45,
    "start_time": "2023-03-09T09:00:28.255Z"
   },
   {
    "duration": 17,
    "start_time": "2023-03-09T09:00:28.302Z"
   },
   {
    "duration": 8,
    "start_time": "2023-03-09T09:00:28.320Z"
   },
   {
    "duration": 4,
    "start_time": "2023-03-09T09:00:28.330Z"
   },
   {
    "duration": 43,
    "start_time": "2023-03-09T09:00:28.335Z"
   },
   {
    "duration": 4,
    "start_time": "2023-03-09T09:00:28.379Z"
   },
   {
    "duration": 18,
    "start_time": "2023-03-09T09:00:28.385Z"
   },
   {
    "duration": 4,
    "start_time": "2023-03-09T09:00:28.404Z"
   },
   {
    "duration": 5,
    "start_time": "2023-03-09T09:00:28.409Z"
   },
   {
    "duration": 7,
    "start_time": "2023-03-09T09:00:28.415Z"
   },
   {
    "duration": 3,
    "start_time": "2023-03-09T09:00:28.423Z"
   },
   {
    "duration": 2,
    "start_time": "2023-03-09T09:00:28.428Z"
   },
   {
    "duration": 4,
    "start_time": "2023-03-09T09:00:28.454Z"
   },
   {
    "duration": 7,
    "start_time": "2023-03-09T09:00:28.460Z"
   },
   {
    "duration": 5,
    "start_time": "2023-03-09T09:00:28.468Z"
   },
   {
    "duration": 7,
    "start_time": "2023-03-09T09:00:28.474Z"
   },
   {
    "duration": 1069,
    "start_time": "2023-03-09T09:00:28.482Z"
   },
   {
    "duration": 5,
    "start_time": "2023-03-09T09:00:29.552Z"
   },
   {
    "duration": 9,
    "start_time": "2023-03-09T09:00:29.558Z"
   },
   {
    "duration": 28,
    "start_time": "2023-03-09T09:00:29.569Z"
   },
   {
    "duration": 7,
    "start_time": "2023-03-09T09:00:29.599Z"
   },
   {
    "duration": 6,
    "start_time": "2023-03-09T09:00:29.607Z"
   },
   {
    "duration": 8,
    "start_time": "2023-03-09T09:00:29.615Z"
   },
   {
    "duration": 32,
    "start_time": "2023-03-09T09:00:29.625Z"
   },
   {
    "duration": 9,
    "start_time": "2023-03-09T09:00:29.659Z"
   },
   {
    "duration": 5,
    "start_time": "2023-03-09T09:00:29.669Z"
   },
   {
    "duration": 4,
    "start_time": "2023-03-09T09:00:29.675Z"
   },
   {
    "duration": 11,
    "start_time": "2023-03-09T09:00:29.681Z"
   },
   {
    "duration": 7,
    "start_time": "2023-03-09T09:00:29.693Z"
   },
   {
    "duration": 19,
    "start_time": "2023-03-09T09:00:29.702Z"
   },
   {
    "duration": 33,
    "start_time": "2023-03-09T09:00:29.723Z"
   },
   {
    "duration": 23,
    "start_time": "2023-03-09T09:00:29.757Z"
   },
   {
    "duration": 4,
    "start_time": "2023-03-09T09:00:29.782Z"
   },
   {
    "duration": 40,
    "start_time": "2023-03-09T09:00:29.787Z"
   },
   {
    "duration": 27,
    "start_time": "2023-03-09T09:00:29.828Z"
   },
   {
    "duration": 28,
    "start_time": "2023-03-09T09:00:29.857Z"
   },
   {
    "duration": 7,
    "start_time": "2023-03-09T09:00:29.887Z"
   },
   {
    "duration": 3,
    "start_time": "2023-03-09T09:00:29.895Z"
   },
   {
    "duration": 25,
    "start_time": "2023-03-09T09:00:29.899Z"
   },
   {
    "duration": 30,
    "start_time": "2023-03-09T09:00:29.925Z"
   },
   {
    "duration": 15,
    "start_time": "2023-03-09T09:00:29.957Z"
   },
   {
    "duration": 3,
    "start_time": "2023-03-09T09:00:29.974Z"
   },
   {
    "duration": 5,
    "start_time": "2023-03-09T09:00:29.978Z"
   },
   {
    "duration": 36,
    "start_time": "2023-03-09T09:00:29.984Z"
   },
   {
    "duration": 5,
    "start_time": "2023-03-09T09:00:30.022Z"
   },
   {
    "duration": 32,
    "start_time": "2023-03-09T09:00:30.028Z"
   },
   {
    "duration": 34,
    "start_time": "2023-03-09T09:00:30.061Z"
   },
   {
    "duration": 20,
    "start_time": "2023-03-09T09:00:30.097Z"
   },
   {
    "duration": 4,
    "start_time": "2023-03-09T09:00:30.118Z"
   },
   {
    "duration": 307,
    "start_time": "2023-03-09T09:00:30.123Z"
   },
   {
    "duration": 6,
    "start_time": "2023-03-09T09:00:30.432Z"
   },
   {
    "duration": 26,
    "start_time": "2023-03-09T09:00:30.439Z"
   },
   {
    "duration": 24,
    "start_time": "2023-03-09T09:00:30.469Z"
   },
   {
    "duration": 33,
    "start_time": "2023-03-09T09:00:30.494Z"
   },
   {
    "duration": 130,
    "start_time": "2023-03-09T09:00:30.529Z"
   },
   {
    "duration": 8,
    "start_time": "2023-03-09T09:00:57.305Z"
   },
   {
    "duration": 193,
    "start_time": "2023-03-09T09:02:44.170Z"
   },
   {
    "duration": 279,
    "start_time": "2023-03-09T09:04:56.776Z"
   },
   {
    "duration": 197,
    "start_time": "2023-03-09T09:05:30.632Z"
   },
   {
    "duration": 238,
    "start_time": "2023-03-09T09:06:41.619Z"
   },
   {
    "duration": 160,
    "start_time": "2023-03-09T09:06:49.418Z"
   },
   {
    "duration": 6,
    "start_time": "2023-03-09T09:08:14.391Z"
   },
   {
    "duration": 7,
    "start_time": "2023-03-09T09:08:19.202Z"
   },
   {
    "duration": 117,
    "start_time": "2023-03-09T09:09:41.379Z"
   },
   {
    "duration": 222,
    "start_time": "2023-03-09T09:09:49.450Z"
   },
   {
    "duration": 124,
    "start_time": "2023-03-09T09:11:21.088Z"
   },
   {
    "duration": 1259,
    "start_time": "2023-03-09T09:11:47.894Z"
   },
   {
    "duration": 110,
    "start_time": "2023-03-09T09:12:11.033Z"
   },
   {
    "duration": 116,
    "start_time": "2023-03-09T09:13:47.371Z"
   },
   {
    "duration": 134,
    "start_time": "2023-03-09T09:16:34.269Z"
   },
   {
    "duration": 217,
    "start_time": "2023-03-09T09:19:41.212Z"
   },
   {
    "duration": 5,
    "start_time": "2023-03-09T09:20:45.517Z"
   },
   {
    "duration": 113,
    "start_time": "2023-03-09T09:21:00.190Z"
   },
   {
    "duration": 234,
    "start_time": "2023-03-09T09:29:38.004Z"
   },
   {
    "duration": 15,
    "start_time": "2023-03-09T09:30:12.227Z"
   },
   {
    "duration": 162,
    "start_time": "2023-03-09T09:54:13.402Z"
   },
   {
    "duration": 131,
    "start_time": "2023-03-09T09:54:44.492Z"
   },
   {
    "duration": 159,
    "start_time": "2023-03-09T09:55:15.995Z"
   },
   {
    "duration": 167,
    "start_time": "2023-03-09T09:56:30.183Z"
   },
   {
    "duration": 342,
    "start_time": "2023-03-09T09:56:42.500Z"
   },
   {
    "duration": 391,
    "start_time": "2023-03-09T10:25:21.906Z"
   },
   {
    "duration": 5,
    "start_time": "2023-03-09T10:45:02.501Z"
   },
   {
    "duration": 4,
    "start_time": "2023-03-09T10:45:12.682Z"
   },
   {
    "duration": 81,
    "start_time": "2023-03-10T11:39:15.206Z"
   },
   {
    "duration": 1879,
    "start_time": "2023-03-10T11:39:21.899Z"
   },
   {
    "duration": 253,
    "start_time": "2023-03-10T11:39:23.785Z"
   },
   {
    "duration": 26,
    "start_time": "2023-03-10T11:39:24.040Z"
   },
   {
    "duration": 52,
    "start_time": "2023-03-10T11:39:24.068Z"
   },
   {
    "duration": 59,
    "start_time": "2023-03-10T11:39:24.122Z"
   },
   {
    "duration": 128,
    "start_time": "2023-03-10T11:39:24.183Z"
   },
   {
    "duration": 2540,
    "start_time": "2023-03-10T11:39:24.313Z"
   },
   {
    "duration": 46,
    "start_time": "2023-03-10T11:39:26.855Z"
   },
   {
    "duration": 1447,
    "start_time": "2023-03-10T11:39:26.903Z"
   },
   {
    "duration": 5,
    "start_time": "2023-03-10T11:39:28.361Z"
   },
   {
    "duration": 51,
    "start_time": "2023-03-10T11:39:28.367Z"
   },
   {
    "duration": 80,
    "start_time": "2023-03-10T11:39:28.421Z"
   },
   {
    "duration": 19,
    "start_time": "2023-03-10T11:39:28.506Z"
   },
   {
    "duration": 52,
    "start_time": "2023-03-10T11:39:28.527Z"
   },
   {
    "duration": 62,
    "start_time": "2023-03-10T11:39:28.581Z"
   },
   {
    "duration": 59,
    "start_time": "2023-03-10T11:39:28.645Z"
   },
   {
    "duration": 5,
    "start_time": "2023-03-10T11:39:28.706Z"
   },
   {
    "duration": 6,
    "start_time": "2023-03-10T11:39:28.713Z"
   },
   {
    "duration": 5,
    "start_time": "2023-03-10T11:39:28.721Z"
   },
   {
    "duration": 7,
    "start_time": "2023-03-10T11:39:28.728Z"
   },
   {
    "duration": 65,
    "start_time": "2023-03-10T11:39:28.736Z"
   },
   {
    "duration": 3422,
    "start_time": "2023-03-10T11:39:28.803Z"
   },
   {
    "duration": 3,
    "start_time": "2023-03-10T11:39:32.226Z"
   },
   {
    "duration": 54,
    "start_time": "2023-03-10T11:39:32.230Z"
   },
   {
    "duration": 34,
    "start_time": "2023-03-10T11:39:32.285Z"
   },
   {
    "duration": 54,
    "start_time": "2023-03-10T11:39:32.320Z"
   },
   {
    "duration": 5,
    "start_time": "2023-03-10T11:39:32.378Z"
   },
   {
    "duration": 43,
    "start_time": "2023-03-10T11:39:32.388Z"
   },
   {
    "duration": 38,
    "start_time": "2023-03-10T11:39:32.433Z"
   },
   {
    "duration": 144,
    "start_time": "2023-03-10T11:39:32.473Z"
   },
   {
    "duration": 46,
    "start_time": "2023-03-10T11:39:32.619Z"
   },
   {
    "duration": 10,
    "start_time": "2023-03-10T11:39:32.676Z"
   },
   {
    "duration": 33,
    "start_time": "2023-03-10T11:39:32.688Z"
   },
   {
    "duration": 65,
    "start_time": "2023-03-10T11:39:32.722Z"
   },
   {
    "duration": 17,
    "start_time": "2023-03-10T11:39:32.793Z"
   },
   {
    "duration": 13,
    "start_time": "2023-03-10T11:39:32.812Z"
   },
   {
    "duration": 10,
    "start_time": "2023-03-10T11:39:32.827Z"
   },
   {
    "duration": 77,
    "start_time": "2023-03-10T11:39:32.839Z"
   },
   {
    "duration": 17,
    "start_time": "2023-03-10T11:39:32.919Z"
   },
   {
    "duration": 72,
    "start_time": "2023-03-10T11:39:32.938Z"
   },
   {
    "duration": 12,
    "start_time": "2023-03-10T11:39:33.011Z"
   },
   {
    "duration": 8,
    "start_time": "2023-03-10T11:39:33.025Z"
   },
   {
    "duration": 54,
    "start_time": "2023-03-10T11:39:33.035Z"
   },
   {
    "duration": 16,
    "start_time": "2023-03-10T11:39:33.097Z"
   },
   {
    "duration": 10,
    "start_time": "2023-03-10T11:39:33.115Z"
   },
   {
    "duration": 1501,
    "start_time": "2023-03-10T11:39:33.126Z"
   },
   {
    "duration": 4,
    "start_time": "2023-03-10T11:39:34.628Z"
   },
   {
    "duration": 6,
    "start_time": "2023-03-10T11:39:34.640Z"
   },
   {
    "duration": 91,
    "start_time": "2023-03-10T11:39:34.647Z"
   },
   {
    "duration": 19,
    "start_time": "2023-03-10T11:39:34.739Z"
   },
   {
    "duration": 45,
    "start_time": "2023-03-10T11:39:34.763Z"
   },
   {
    "duration": 12,
    "start_time": "2023-03-10T11:39:34.809Z"
   },
   {
    "duration": 37,
    "start_time": "2023-03-10T11:39:34.823Z"
   },
   {
    "duration": 64,
    "start_time": "2023-03-10T11:39:34.862Z"
   },
   {
    "duration": 7,
    "start_time": "2023-03-10T11:39:34.928Z"
   },
   {
    "duration": 34,
    "start_time": "2023-03-10T11:39:34.937Z"
   },
   {
    "duration": 41,
    "start_time": "2023-03-10T11:39:34.972Z"
   },
   {
    "duration": 9,
    "start_time": "2023-03-10T11:39:35.015Z"
   },
   {
    "duration": 38,
    "start_time": "2023-03-10T11:39:35.026Z"
   },
   {
    "duration": 15,
    "start_time": "2023-03-10T11:39:35.065Z"
   },
   {
    "duration": 50,
    "start_time": "2023-03-10T11:39:35.081Z"
   },
   {
    "duration": 5,
    "start_time": "2023-03-10T11:39:35.133Z"
   },
   {
    "duration": 106,
    "start_time": "2023-03-10T11:39:35.140Z"
   },
   {
    "duration": 38,
    "start_time": "2023-03-10T11:39:35.266Z"
   },
   {
    "duration": 52,
    "start_time": "2023-03-10T11:39:35.309Z"
   },
   {
    "duration": 43,
    "start_time": "2023-03-10T11:39:35.363Z"
   },
   {
    "duration": 6,
    "start_time": "2023-03-10T11:39:35.408Z"
   },
   {
    "duration": 30,
    "start_time": "2023-03-10T11:39:35.416Z"
   },
   {
    "duration": 17,
    "start_time": "2023-03-10T11:39:35.448Z"
   },
   {
    "duration": 53,
    "start_time": "2023-03-10T11:39:35.467Z"
   },
   {
    "duration": 4,
    "start_time": "2023-03-10T11:39:35.522Z"
   },
   {
    "duration": 49,
    "start_time": "2023-03-10T11:39:35.528Z"
   },
   {
    "duration": 99,
    "start_time": "2023-03-10T11:39:35.593Z"
   },
   {
    "duration": 21,
    "start_time": "2023-03-10T11:39:35.694Z"
   },
   {
    "duration": 17,
    "start_time": "2023-03-10T11:39:35.717Z"
   },
   {
    "duration": 40,
    "start_time": "2023-03-10T11:39:35.736Z"
   },
   {
    "duration": 40,
    "start_time": "2023-03-10T11:39:35.778Z"
   },
   {
    "duration": 3,
    "start_time": "2023-03-10T11:39:35.820Z"
   },
   {
    "duration": 396,
    "start_time": "2023-03-10T11:39:35.825Z"
   },
   {
    "duration": 5,
    "start_time": "2023-03-10T11:39:36.223Z"
   },
   {
    "duration": 31,
    "start_time": "2023-03-10T11:39:36.229Z"
   },
   {
    "duration": 4,
    "start_time": "2023-03-10T11:39:36.267Z"
   },
   {
    "duration": 38,
    "start_time": "2023-03-10T11:39:36.273Z"
   },
   {
    "duration": 10,
    "start_time": "2023-03-10T11:39:36.313Z"
   },
   {
    "duration": 329,
    "start_time": "2023-03-10T11:39:36.324Z"
   },
   {
    "duration": 313,
    "start_time": "2023-03-10T11:39:36.655Z"
   },
   {
    "duration": 393,
    "start_time": "2023-03-10T11:39:36.970Z"
   },
   {
    "duration": 169,
    "start_time": "2023-03-10T11:39:37.365Z"
   },
   {
    "duration": 9,
    "start_time": "2023-03-10T11:39:37.536Z"
   },
   {
    "duration": 288,
    "start_time": "2023-03-10T11:39:37.547Z"
   },
   {
    "duration": 180,
    "start_time": "2023-03-10T11:39:37.837Z"
   },
   {
    "duration": 161,
    "start_time": "2023-03-10T11:39:38.019Z"
   },
   {
    "duration": 154,
    "start_time": "2023-03-10T11:39:38.182Z"
   },
   {
    "duration": 187,
    "start_time": "2023-03-10T11:39:38.340Z"
   },
   {
    "duration": 160,
    "start_time": "2023-03-10T11:39:38.529Z"
   },
   {
    "duration": 154,
    "start_time": "2023-03-10T11:39:38.691Z"
   },
   {
    "duration": 221,
    "start_time": "2023-03-10T11:39:38.847Z"
   },
   {
    "duration": 558,
    "start_time": "2023-03-10T11:39:39.072Z"
   },
   {
    "duration": 19,
    "start_time": "2023-03-10T11:39:39.632Z"
   },
   {
    "duration": 59,
    "start_time": "2023-03-10T11:39:39.656Z"
   },
   {
    "duration": 21,
    "start_time": "2023-03-10T11:39:39.717Z"
   },
   {
    "duration": 2090,
    "start_time": "2023-03-10T11:39:39.740Z"
   },
   {
    "duration": 968,
    "start_time": "2023-03-10T11:57:21.766Z"
   },
   {
    "duration": 928,
    "start_time": "2023-03-10T11:58:27.597Z"
   },
   {
    "duration": 323,
    "start_time": "2023-03-10T12:07:35.620Z"
   },
   {
    "duration": 55,
    "start_time": "2023-03-16T20:08:01.850Z"
   },
   {
    "duration": 1216,
    "start_time": "2023-03-16T20:08:08.796Z"
   },
   {
    "duration": 994,
    "start_time": "2023-03-16T20:08:23.751Z"
   },
   {
    "duration": 685,
    "start_time": "2023-03-16T20:08:25.627Z"
   },
   {
    "duration": 17,
    "start_time": "2023-03-16T20:08:26.348Z"
   },
   {
    "duration": 2,
    "start_time": "2023-03-16T20:08:27.590Z"
   },
   {
    "duration": 26,
    "start_time": "2023-03-16T20:08:28.770Z"
   },
   {
    "duration": 74,
    "start_time": "2023-03-16T20:08:31.032Z"
   },
   {
    "duration": 1713,
    "start_time": "2023-03-16T20:08:33.371Z"
   },
   {
    "duration": 10,
    "start_time": "2023-03-16T20:08:37.898Z"
   },
   {
    "duration": 940,
    "start_time": "2023-03-16T20:08:50.526Z"
   },
   {
    "duration": 906,
    "start_time": "2023-03-16T20:09:23.475Z"
   },
   {
    "duration": 4,
    "start_time": "2023-03-16T20:09:26.951Z"
   },
   {
    "duration": 6,
    "start_time": "2023-03-16T20:09:45.895Z"
   },
   {
    "duration": 6,
    "start_time": "2023-03-16T20:10:23.457Z"
   },
   {
    "duration": 18,
    "start_time": "2023-03-16T20:10:26.255Z"
   },
   {
    "duration": 5,
    "start_time": "2023-03-16T20:10:34.247Z"
   },
   {
    "duration": 6,
    "start_time": "2023-03-16T20:10:36.439Z"
   },
   {
    "duration": 4,
    "start_time": "2023-03-16T20:10:38.876Z"
   },
   {
    "duration": 6,
    "start_time": "2023-03-16T20:10:46.969Z"
   },
   {
    "duration": 4,
    "start_time": "2023-03-16T20:10:54.691Z"
   },
   {
    "duration": 6,
    "start_time": "2023-03-16T20:10:56.434Z"
   },
   {
    "duration": 5,
    "start_time": "2023-03-16T20:11:00.006Z"
   },
   {
    "duration": 6,
    "start_time": "2023-03-16T20:11:05.183Z"
   },
   {
    "duration": 10,
    "start_time": "2023-03-16T20:12:35.931Z"
   },
   {
    "duration": 5,
    "start_time": "2023-03-16T20:12:44.709Z"
   },
   {
    "duration": 5,
    "start_time": "2023-03-16T20:12:45.212Z"
   },
   {
    "duration": 5,
    "start_time": "2023-03-16T20:16:06.941Z"
   },
   {
    "duration": 6,
    "start_time": "2023-03-16T20:16:07.806Z"
   },
   {
    "duration": 2668,
    "start_time": "2023-03-16T20:16:08.723Z"
   },
   {
    "duration": 4,
    "start_time": "2023-03-16T20:16:14.003Z"
   },
   {
    "duration": 5,
    "start_time": "2023-03-16T20:16:56.063Z"
   },
   {
    "duration": 4,
    "start_time": "2023-03-16T20:17:28.711Z"
   },
   {
    "duration": 24,
    "start_time": "2023-03-16T20:17:48.236Z"
   },
   {
    "duration": 4,
    "start_time": "2023-03-16T20:17:50.009Z"
   },
   {
    "duration": 12,
    "start_time": "2023-03-16T20:24:28.379Z"
   },
   {
    "duration": 646,
    "start_time": "2023-03-16T20:24:32.539Z"
   },
   {
    "duration": 11,
    "start_time": "2023-03-16T20:24:53.148Z"
   },
   {
    "duration": 671,
    "start_time": "2023-03-16T20:28:52.971Z"
   },
   {
    "duration": 1187,
    "start_time": "2023-03-16T20:29:13.543Z"
   },
   {
    "duration": 102,
    "start_time": "2023-03-16T20:29:14.732Z"
   },
   {
    "duration": 17,
    "start_time": "2023-03-16T20:29:14.836Z"
   },
   {
    "duration": 4,
    "start_time": "2023-03-16T20:29:14.855Z"
   },
   {
    "duration": 86,
    "start_time": "2023-03-16T20:29:14.861Z"
   },
   {
    "duration": 85,
    "start_time": "2023-03-16T20:29:14.949Z"
   },
   {
    "duration": 2067,
    "start_time": "2023-03-16T20:29:15.035Z"
   },
   {
    "duration": 10,
    "start_time": "2023-03-16T20:29:17.104Z"
   },
   {
    "duration": 961,
    "start_time": "2023-03-16T20:29:17.116Z"
   },
   {
    "duration": 14,
    "start_time": "2023-03-16T20:29:18.079Z"
   },
   {
    "duration": 36,
    "start_time": "2023-03-16T20:29:18.094Z"
   },
   {
    "duration": 20,
    "start_time": "2023-03-16T20:29:18.131Z"
   },
   {
    "duration": 4,
    "start_time": "2023-03-16T20:29:18.152Z"
   },
   {
    "duration": 8,
    "start_time": "2023-03-16T20:29:18.158Z"
   },
   {
    "duration": 6,
    "start_time": "2023-03-16T20:29:18.167Z"
   },
   {
    "duration": 35,
    "start_time": "2023-03-16T20:29:18.175Z"
   },
   {
    "duration": 10,
    "start_time": "2023-03-16T20:29:18.212Z"
   },
   {
    "duration": 4,
    "start_time": "2023-03-16T20:29:18.224Z"
   },
   {
    "duration": 5,
    "start_time": "2023-03-16T20:29:18.230Z"
   },
   {
    "duration": 7,
    "start_time": "2023-03-16T20:29:18.236Z"
   },
   {
    "duration": 6,
    "start_time": "2023-03-16T20:29:18.245Z"
   },
   {
    "duration": 3658,
    "start_time": "2023-03-16T20:29:18.253Z"
   },
   {
    "duration": 4,
    "start_time": "2023-03-16T20:29:21.913Z"
   },
   {
    "duration": 9,
    "start_time": "2023-03-16T20:29:21.918Z"
   },
   {
    "duration": 22,
    "start_time": "2023-03-16T20:29:21.929Z"
   },
   {
    "duration": 5,
    "start_time": "2023-03-16T20:29:21.952Z"
   },
   {
    "duration": 6,
    "start_time": "2023-03-16T20:29:21.958Z"
   },
   {
    "duration": 31,
    "start_time": "2023-03-16T20:29:21.966Z"
   },
   {
    "duration": 13,
    "start_time": "2023-03-16T20:29:22.000Z"
   },
   {
    "duration": 5,
    "start_time": "2023-03-16T20:29:22.014Z"
   },
   {
    "duration": 6,
    "start_time": "2023-03-16T20:29:22.021Z"
   },
   {
    "duration": 13,
    "start_time": "2023-03-16T20:29:22.028Z"
   },
   {
    "duration": 9,
    "start_time": "2023-03-16T20:29:22.043Z"
   },
   {
    "duration": 7,
    "start_time": "2023-03-16T20:29:22.053Z"
   },
   {
    "duration": 4,
    "start_time": "2023-03-16T20:29:22.061Z"
   },
   {
    "duration": 9,
    "start_time": "2023-03-16T20:29:22.066Z"
   },
   {
    "duration": 38,
    "start_time": "2023-03-16T20:29:22.077Z"
   },
   {
    "duration": 7,
    "start_time": "2023-03-16T20:29:22.116Z"
   },
   {
    "duration": 10,
    "start_time": "2023-03-16T20:29:22.124Z"
   },
   {
    "duration": 1142,
    "start_time": "2023-03-16T20:29:22.135Z"
   },
   {
    "duration": 12,
    "start_time": "2023-03-16T20:29:23.285Z"
   },
   {
    "duration": 26,
    "start_time": "2023-03-16T20:29:23.298Z"
   },
   {
    "duration": 35,
    "start_time": "2023-03-16T20:29:23.326Z"
   },
   {
    "duration": 7,
    "start_time": "2023-03-16T20:29:23.362Z"
   },
   {
    "duration": 39,
    "start_time": "2023-03-16T20:29:23.370Z"
   },
   {
    "duration": 17,
    "start_time": "2023-03-16T20:29:23.410Z"
   },
   {
    "duration": 4,
    "start_time": "2023-03-16T20:29:23.428Z"
   },
   {
    "duration": 12,
    "start_time": "2023-03-16T20:29:23.433Z"
   },
   {
    "duration": 7,
    "start_time": "2023-03-16T20:29:23.447Z"
   },
   {
    "duration": 7,
    "start_time": "2023-03-16T20:29:23.456Z"
   },
   {
    "duration": 14,
    "start_time": "2023-03-16T20:29:23.464Z"
   },
   {
    "duration": 63,
    "start_time": "2023-03-16T20:29:23.479Z"
   },
   {
    "duration": 43,
    "start_time": "2023-03-16T20:29:23.543Z"
   },
   {
    "duration": 31,
    "start_time": "2023-03-16T20:29:23.588Z"
   },
   {
    "duration": 29,
    "start_time": "2023-03-16T20:29:23.621Z"
   },
   {
    "duration": 7,
    "start_time": "2023-03-16T20:29:23.652Z"
   },
   {
    "duration": 163,
    "start_time": "2023-03-16T20:29:23.661Z"
   },
   {
    "duration": 0,
    "start_time": "2023-03-16T20:29:23.826Z"
   },
   {
    "duration": 0,
    "start_time": "2023-03-16T20:29:23.827Z"
   },
   {
    "duration": 0,
    "start_time": "2023-03-16T20:29:23.827Z"
   },
   {
    "duration": 0,
    "start_time": "2023-03-16T20:29:23.829Z"
   },
   {
    "duration": 0,
    "start_time": "2023-03-16T20:29:23.830Z"
   },
   {
    "duration": 0,
    "start_time": "2023-03-16T20:29:23.831Z"
   },
   {
    "duration": 0,
    "start_time": "2023-03-16T20:29:23.832Z"
   },
   {
    "duration": 0,
    "start_time": "2023-03-16T20:29:23.832Z"
   },
   {
    "duration": 0,
    "start_time": "2023-03-16T20:29:23.833Z"
   },
   {
    "duration": 0,
    "start_time": "2023-03-16T20:29:23.834Z"
   },
   {
    "duration": 0,
    "start_time": "2023-03-16T20:29:23.835Z"
   },
   {
    "duration": 0,
    "start_time": "2023-03-16T20:29:23.835Z"
   },
   {
    "duration": 0,
    "start_time": "2023-03-16T20:29:23.836Z"
   },
   {
    "duration": 0,
    "start_time": "2023-03-16T20:29:23.837Z"
   },
   {
    "duration": 0,
    "start_time": "2023-03-16T20:29:23.838Z"
   },
   {
    "duration": 0,
    "start_time": "2023-03-16T20:29:23.839Z"
   },
   {
    "duration": 0,
    "start_time": "2023-03-16T20:29:23.840Z"
   },
   {
    "duration": 0,
    "start_time": "2023-03-16T20:29:23.842Z"
   },
   {
    "duration": 0,
    "start_time": "2023-03-16T20:29:23.843Z"
   },
   {
    "duration": 0,
    "start_time": "2023-03-16T20:29:23.844Z"
   },
   {
    "duration": 0,
    "start_time": "2023-03-16T20:29:23.846Z"
   },
   {
    "duration": 0,
    "start_time": "2023-03-16T20:29:23.847Z"
   },
   {
    "duration": 0,
    "start_time": "2023-03-16T20:29:23.848Z"
   },
   {
    "duration": 0,
    "start_time": "2023-03-16T20:29:23.879Z"
   },
   {
    "duration": 0,
    "start_time": "2023-03-16T20:29:23.880Z"
   },
   {
    "duration": 0,
    "start_time": "2023-03-16T20:29:23.880Z"
   },
   {
    "duration": 0,
    "start_time": "2023-03-16T20:29:23.881Z"
   },
   {
    "duration": 0,
    "start_time": "2023-03-16T20:29:23.882Z"
   },
   {
    "duration": 0,
    "start_time": "2023-03-16T20:29:23.883Z"
   },
   {
    "duration": 0,
    "start_time": "2023-03-16T20:29:23.884Z"
   },
   {
    "duration": 0,
    "start_time": "2023-03-16T20:29:23.885Z"
   },
   {
    "duration": 0,
    "start_time": "2023-03-16T20:29:23.885Z"
   },
   {
    "duration": 0,
    "start_time": "2023-03-16T20:29:23.886Z"
   },
   {
    "duration": 0,
    "start_time": "2023-03-16T20:29:23.886Z"
   },
   {
    "duration": 0,
    "start_time": "2023-03-16T20:29:23.887Z"
   },
   {
    "duration": 0,
    "start_time": "2023-03-16T20:29:23.887Z"
   },
   {
    "duration": 0,
    "start_time": "2023-03-16T20:29:23.888Z"
   },
   {
    "duration": 6,
    "start_time": "2023-03-16T20:30:06.214Z"
   },
   {
    "duration": 7,
    "start_time": "2023-03-16T20:30:56.679Z"
   },
   {
    "duration": 6,
    "start_time": "2023-03-16T20:30:59.003Z"
   },
   {
    "duration": 6,
    "start_time": "2023-03-16T20:31:35.599Z"
   },
   {
    "duration": 1049,
    "start_time": "2023-03-16T20:32:22.679Z"
   },
   {
    "duration": 99,
    "start_time": "2023-03-16T20:32:23.730Z"
   },
   {
    "duration": 19,
    "start_time": "2023-03-16T20:32:23.830Z"
   },
   {
    "duration": 5,
    "start_time": "2023-03-16T20:32:23.851Z"
   },
   {
    "duration": 40,
    "start_time": "2023-03-16T20:32:23.858Z"
   },
   {
    "duration": 89,
    "start_time": "2023-03-16T20:32:23.900Z"
   },
   {
    "duration": 1773,
    "start_time": "2023-03-16T20:32:23.997Z"
   },
   {
    "duration": 12,
    "start_time": "2023-03-16T20:32:25.772Z"
   },
   {
    "duration": 1090,
    "start_time": "2023-03-16T20:32:25.785Z"
   },
   {
    "duration": 14,
    "start_time": "2023-03-16T20:32:26.880Z"
   },
   {
    "duration": 11,
    "start_time": "2023-03-16T20:32:26.896Z"
   },
   {
    "duration": 21,
    "start_time": "2023-03-16T20:32:26.908Z"
   },
   {
    "duration": 4,
    "start_time": "2023-03-16T20:32:26.931Z"
   },
   {
    "duration": 5,
    "start_time": "2023-03-16T20:32:26.937Z"
   },
   {
    "duration": 5,
    "start_time": "2023-03-16T20:32:26.943Z"
   },
   {
    "duration": 5,
    "start_time": "2023-03-16T20:32:26.949Z"
   },
   {
    "duration": 34,
    "start_time": "2023-03-16T20:32:26.955Z"
   },
   {
    "duration": 14,
    "start_time": "2023-03-16T20:32:27.001Z"
   },
   {
    "duration": 11,
    "start_time": "2023-03-16T20:32:27.016Z"
   },
   {
    "duration": 13,
    "start_time": "2023-03-16T20:32:27.029Z"
   },
   {
    "duration": 11,
    "start_time": "2023-03-16T20:32:27.043Z"
   },
   {
    "duration": 2442,
    "start_time": "2023-03-16T20:32:27.056Z"
   },
   {
    "duration": 5,
    "start_time": "2023-03-16T20:32:29.500Z"
   },
   {
    "duration": 9,
    "start_time": "2023-03-16T20:32:29.506Z"
   },
   {
    "duration": 8,
    "start_time": "2023-03-16T20:32:29.516Z"
   },
   {
    "duration": 10,
    "start_time": "2023-03-16T20:32:29.525Z"
   },
   {
    "duration": 7,
    "start_time": "2023-03-16T20:32:29.536Z"
   },
   {
    "duration": 35,
    "start_time": "2023-03-16T20:32:29.547Z"
   },
   {
    "duration": 4,
    "start_time": "2023-03-16T20:32:29.584Z"
   },
   {
    "duration": 5,
    "start_time": "2023-03-16T20:32:32.753Z"
   },
   {
    "duration": 4,
    "start_time": "2023-03-16T20:32:33.418Z"
   },
   {
    "duration": 4,
    "start_time": "2023-03-16T20:33:22.557Z"
   },
   {
    "duration": 5,
    "start_time": "2023-03-16T20:33:23.881Z"
   },
   {
    "duration": 5,
    "start_time": "2023-03-16T20:33:31.528Z"
   },
   {
    "duration": 6,
    "start_time": "2023-03-16T20:33:34.691Z"
   },
   {
    "duration": 8,
    "start_time": "2023-03-16T20:33:36.174Z"
   },
   {
    "duration": 4,
    "start_time": "2023-03-16T20:34:40.873Z"
   },
   {
    "duration": 4,
    "start_time": "2023-03-16T20:34:41.305Z"
   },
   {
    "duration": 7,
    "start_time": "2023-03-16T20:34:44.842Z"
   },
   {
    "duration": 4,
    "start_time": "2023-03-16T20:34:49.756Z"
   },
   {
    "duration": 5,
    "start_time": "2023-03-16T20:34:52.670Z"
   },
   {
    "duration": 988,
    "start_time": "2023-03-16T20:35:13.876Z"
   },
   {
    "duration": 4,
    "start_time": "2023-03-16T20:35:15.703Z"
   },
   {
    "duration": 5,
    "start_time": "2023-03-16T20:35:16.637Z"
   },
   {
    "duration": 27,
    "start_time": "2023-03-16T20:38:06.743Z"
   },
   {
    "duration": 27,
    "start_time": "2023-03-16T20:48:08.434Z"
   },
   {
    "duration": 7,
    "start_time": "2023-03-16T20:48:22.319Z"
   },
   {
    "duration": 5,
    "start_time": "2023-03-16T20:48:24.119Z"
   },
   {
    "duration": 7,
    "start_time": "2023-03-16T20:48:33.439Z"
   },
   {
    "duration": 4,
    "start_time": "2023-03-16T20:48:40.067Z"
   },
   {
    "duration": 5,
    "start_time": "2023-03-16T20:48:42.187Z"
   },
   {
    "duration": 6,
    "start_time": "2023-03-16T20:49:35.363Z"
   },
   {
    "duration": 3,
    "start_time": "2023-03-16T20:49:42.446Z"
   },
   {
    "duration": 10,
    "start_time": "2023-03-16T20:49:46.258Z"
   },
   {
    "duration": 3,
    "start_time": "2023-03-16T20:51:12.884Z"
   },
   {
    "duration": 10,
    "start_time": "2023-03-16T20:51:15.913Z"
   },
   {
    "duration": 7,
    "start_time": "2023-03-16T20:51:16.661Z"
   },
   {
    "duration": 3,
    "start_time": "2023-03-16T20:52:09.266Z"
   },
   {
    "duration": 9,
    "start_time": "2023-03-16T20:52:10.011Z"
   },
   {
    "duration": 8,
    "start_time": "2023-03-16T20:52:10.638Z"
   },
   {
    "duration": 19,
    "start_time": "2023-03-16T20:53:39.854Z"
   },
   {
    "duration": 7,
    "start_time": "2023-03-16T20:53:45.562Z"
   },
   {
    "duration": 19,
    "start_time": "2023-03-16T20:54:25.351Z"
   },
   {
    "duration": 7,
    "start_time": "2023-03-16T20:55:19.452Z"
   },
   {
    "duration": 33,
    "start_time": "2023-03-16T20:55:26.154Z"
   },
   {
    "duration": 7,
    "start_time": "2023-03-16T20:56:41.692Z"
   },
   {
    "duration": 106,
    "start_time": "2023-03-16T20:57:28.943Z"
   },
   {
    "duration": 4,
    "start_time": "2023-03-16T20:57:33.831Z"
   },
   {
    "duration": 34,
    "start_time": "2023-03-16T20:57:34.523Z"
   },
   {
    "duration": 36,
    "start_time": "2023-03-16T20:58:10.950Z"
   },
   {
    "duration": 15,
    "start_time": "2023-03-16T20:59:08.891Z"
   },
   {
    "duration": 24,
    "start_time": "2023-03-16T20:59:23.915Z"
   },
   {
    "duration": 7,
    "start_time": "2023-03-16T20:59:24.612Z"
   },
   {
    "duration": 3,
    "start_time": "2023-03-16T20:59:38.084Z"
   },
   {
    "duration": 29,
    "start_time": "2023-03-16T20:59:39.669Z"
   },
   {
    "duration": 10,
    "start_time": "2023-03-16T20:59:57.931Z"
   },
   {
    "duration": 13,
    "start_time": "2023-03-16T20:59:58.692Z"
   },
   {
    "duration": 12,
    "start_time": "2023-03-16T21:00:13.199Z"
   },
   {
    "duration": 11,
    "start_time": "2023-03-16T21:01:12.828Z"
   },
   {
    "duration": 12,
    "start_time": "2023-03-16T21:01:13.365Z"
   },
   {
    "duration": 3,
    "start_time": "2023-03-16T21:01:16.427Z"
   },
   {
    "duration": 4,
    "start_time": "2023-03-16T21:02:16.041Z"
   },
   {
    "duration": 5,
    "start_time": "2023-03-16T21:02:16.605Z"
   },
   {
    "duration": 8,
    "start_time": "2023-03-16T21:07:31.530Z"
   },
   {
    "duration": 3,
    "start_time": "2023-03-16T21:08:39.919Z"
   },
   {
    "duration": 280,
    "start_time": "2023-03-16T21:08:41.782Z"
   },
   {
    "duration": 5,
    "start_time": "2023-03-16T21:08:43.109Z"
   },
   {
    "duration": 3,
    "start_time": "2023-03-16T21:09:33.698Z"
   },
   {
    "duration": 8,
    "start_time": "2023-03-16T21:12:03.923Z"
   },
   {
    "duration": 4,
    "start_time": "2023-03-16T21:12:06.207Z"
   },
   {
    "duration": 7,
    "start_time": "2023-03-16T21:12:52.927Z"
   },
   {
    "duration": 4,
    "start_time": "2023-03-16T21:13:26.574Z"
   },
   {
    "duration": 7,
    "start_time": "2023-03-16T21:13:27.207Z"
   },
   {
    "duration": 3,
    "start_time": "2023-03-16T21:13:57.555Z"
   },
   {
    "duration": 8,
    "start_time": "2023-03-16T21:15:09.565Z"
   },
   {
    "duration": 5,
    "start_time": "2023-03-16T21:15:24.073Z"
   },
   {
    "duration": 5,
    "start_time": "2023-03-16T21:15:56.734Z"
   },
   {
    "duration": 48,
    "start_time": "2023-03-17T07:41:51.907Z"
   },
   {
    "duration": 1253,
    "start_time": "2023-03-17T07:41:58.560Z"
   },
   {
    "duration": 150,
    "start_time": "2023-03-17T07:41:59.815Z"
   },
   {
    "duration": 16,
    "start_time": "2023-03-17T07:41:59.966Z"
   },
   {
    "duration": 3,
    "start_time": "2023-03-17T07:41:59.984Z"
   },
   {
    "duration": 22,
    "start_time": "2023-03-17T07:41:59.989Z"
   },
   {
    "duration": 82,
    "start_time": "2023-03-17T07:42:00.012Z"
   },
   {
    "duration": 1765,
    "start_time": "2023-03-17T07:42:00.097Z"
   },
   {
    "duration": 8,
    "start_time": "2023-03-17T07:42:01.864Z"
   },
   {
    "duration": 1033,
    "start_time": "2023-03-17T07:42:01.873Z"
   },
   {
    "duration": 4,
    "start_time": "2023-03-17T07:42:02.908Z"
   },
   {
    "duration": 15,
    "start_time": "2023-03-17T07:42:02.913Z"
   },
   {
    "duration": 34,
    "start_time": "2023-03-17T07:42:02.929Z"
   },
   {
    "duration": 5,
    "start_time": "2023-03-17T07:42:02.965Z"
   },
   {
    "duration": 5,
    "start_time": "2023-03-17T07:42:02.971Z"
   },
   {
    "duration": 4,
    "start_time": "2023-03-17T07:42:02.978Z"
   },
   {
    "duration": 13,
    "start_time": "2023-03-17T07:42:02.984Z"
   },
   {
    "duration": 4,
    "start_time": "2023-03-17T07:42:02.999Z"
   },
   {
    "duration": 15,
    "start_time": "2023-03-17T07:42:03.005Z"
   },
   {
    "duration": 20,
    "start_time": "2023-03-17T07:42:03.022Z"
   },
   {
    "duration": 6,
    "start_time": "2023-03-17T07:42:03.043Z"
   },
   {
    "duration": 11,
    "start_time": "2023-03-17T07:42:03.051Z"
   },
   {
    "duration": 2557,
    "start_time": "2023-03-17T07:42:03.064Z"
   },
   {
    "duration": 4,
    "start_time": "2023-03-17T07:42:05.622Z"
   },
   {
    "duration": 17,
    "start_time": "2023-03-17T07:42:05.627Z"
   },
   {
    "duration": 14,
    "start_time": "2023-03-17T07:42:05.646Z"
   },
   {
    "duration": 6,
    "start_time": "2023-03-17T07:42:05.661Z"
   },
   {
    "duration": 6,
    "start_time": "2023-03-17T07:42:05.669Z"
   },
   {
    "duration": 38,
    "start_time": "2023-03-17T07:42:05.680Z"
   },
   {
    "duration": 5,
    "start_time": "2023-03-17T07:42:05.720Z"
   },
   {
    "duration": 4,
    "start_time": "2023-03-17T07:42:05.727Z"
   },
   {
    "duration": 5,
    "start_time": "2023-03-17T07:42:05.740Z"
   },
   {
    "duration": 24,
    "start_time": "2023-03-17T07:42:05.746Z"
   },
   {
    "duration": 14,
    "start_time": "2023-03-17T07:42:05.772Z"
   },
   {
    "duration": 8,
    "start_time": "2023-03-17T07:42:05.788Z"
   },
   {
    "duration": 5,
    "start_time": "2023-03-17T07:42:05.797Z"
   },
   {
    "duration": 10,
    "start_time": "2023-03-17T07:42:05.804Z"
   },
   {
    "duration": 7,
    "start_time": "2023-03-17T07:42:05.815Z"
   },
   {
    "duration": 8,
    "start_time": "2023-03-17T07:42:05.823Z"
   },
   {
    "duration": 9,
    "start_time": "2023-03-17T07:42:05.833Z"
   },
   {
    "duration": 9,
    "start_time": "2023-03-17T07:42:05.844Z"
   },
   {
    "duration": 1182,
    "start_time": "2023-03-17T07:42:05.854Z"
   },
   {
    "duration": 4,
    "start_time": "2023-03-17T07:42:07.038Z"
   },
   {
    "duration": 38,
    "start_time": "2023-03-17T07:42:07.044Z"
   },
   {
    "duration": 8,
    "start_time": "2023-03-17T07:42:07.084Z"
   },
   {
    "duration": 19,
    "start_time": "2023-03-17T07:42:07.093Z"
   },
   {
    "duration": 14,
    "start_time": "2023-03-17T07:42:07.114Z"
   },
   {
    "duration": 4,
    "start_time": "2023-03-17T07:42:07.129Z"
   },
   {
    "duration": 8,
    "start_time": "2023-03-17T07:42:07.135Z"
   },
   {
    "duration": 5,
    "start_time": "2023-03-17T07:42:07.145Z"
   },
   {
    "duration": 3,
    "start_time": "2023-03-17T07:42:07.151Z"
   },
   {
    "duration": 16,
    "start_time": "2023-03-17T07:42:07.156Z"
   },
   {
    "duration": 7,
    "start_time": "2023-03-17T07:42:07.173Z"
   },
   {
    "duration": 30,
    "start_time": "2023-03-17T07:42:07.182Z"
   },
   {
    "duration": 28,
    "start_time": "2023-03-17T07:42:07.214Z"
   },
   {
    "duration": 40,
    "start_time": "2023-03-17T07:42:07.243Z"
   },
   {
    "duration": 5,
    "start_time": "2023-03-17T07:42:07.284Z"
   },
   {
    "duration": 37,
    "start_time": "2023-03-17T07:42:07.291Z"
   },
   {
    "duration": 19,
    "start_time": "2023-03-17T07:42:07.330Z"
   },
   {
    "duration": 27,
    "start_time": "2023-03-17T07:42:07.350Z"
   },
   {
    "duration": 8,
    "start_time": "2023-03-17T07:42:07.378Z"
   },
   {
    "duration": 3,
    "start_time": "2023-03-17T07:42:07.388Z"
   },
   {
    "duration": 23,
    "start_time": "2023-03-17T07:42:07.392Z"
   },
   {
    "duration": 31,
    "start_time": "2023-03-17T07:42:07.417Z"
   },
   {
    "duration": 11,
    "start_time": "2023-03-17T07:42:07.449Z"
   },
   {
    "duration": 13,
    "start_time": "2023-03-17T07:42:07.461Z"
   },
   {
    "duration": 3,
    "start_time": "2023-03-17T07:42:07.476Z"
   },
   {
    "duration": 6,
    "start_time": "2023-03-17T07:42:07.480Z"
   },
   {
    "duration": 9,
    "start_time": "2023-03-17T07:42:07.487Z"
   },
   {
    "duration": 3,
    "start_time": "2023-03-17T07:42:07.497Z"
   },
   {
    "duration": 315,
    "start_time": "2023-03-17T07:42:07.501Z"
   },
   {
    "duration": 5,
    "start_time": "2023-03-17T07:42:07.817Z"
   },
   {
    "duration": 19,
    "start_time": "2023-03-17T07:42:07.823Z"
   },
   {
    "duration": 3,
    "start_time": "2023-03-17T07:42:07.843Z"
   },
   {
    "duration": 20,
    "start_time": "2023-03-17T07:42:07.848Z"
   },
   {
    "duration": 3,
    "start_time": "2023-03-17T07:42:07.869Z"
   },
   {
    "duration": 6,
    "start_time": "2023-03-17T07:42:07.873Z"
   },
   {
    "duration": 5,
    "start_time": "2023-03-17T07:42:07.880Z"
   },
   {
    "duration": 175,
    "start_time": "2023-03-17T07:42:11.455Z"
   },
   {
    "duration": 157,
    "start_time": "2023-03-17T07:44:12.322Z"
   },
   {
    "duration": 70,
    "start_time": "2023-03-17T07:46:30.667Z"
   },
   {
    "duration": 196,
    "start_time": "2023-03-17T07:46:39.098Z"
   },
   {
    "duration": 207,
    "start_time": "2023-03-17T07:47:38.184Z"
   },
   {
    "duration": 155,
    "start_time": "2023-03-17T07:48:06.607Z"
   },
   {
    "duration": 130,
    "start_time": "2023-03-17T07:49:24.377Z"
   },
   {
    "duration": 172,
    "start_time": "2023-03-17T07:50:16.032Z"
   },
   {
    "duration": 247,
    "start_time": "2023-03-17T07:50:26.435Z"
   },
   {
    "duration": 8,
    "start_time": "2023-03-17T07:53:29.368Z"
   },
   {
    "duration": 5,
    "start_time": "2023-03-17T08:13:53.295Z"
   },
   {
    "duration": 13,
    "start_time": "2023-03-17T08:14:26.831Z"
   },
   {
    "duration": 9,
    "start_time": "2023-03-17T08:14:44.130Z"
   },
   {
    "duration": 140,
    "start_time": "2023-03-17T08:15:33.230Z"
   },
   {
    "duration": 140,
    "start_time": "2023-03-17T08:17:20.676Z"
   },
   {
    "duration": 142,
    "start_time": "2023-03-17T08:17:58.986Z"
   },
   {
    "duration": 123,
    "start_time": "2023-03-17T08:21:37.682Z"
   },
   {
    "duration": 145,
    "start_time": "2023-03-17T08:22:38.740Z"
   },
   {
    "duration": 202,
    "start_time": "2023-03-17T08:23:58.647Z"
   },
   {
    "duration": 130,
    "start_time": "2023-03-17T08:24:40.354Z"
   },
   {
    "duration": 119,
    "start_time": "2023-03-17T08:24:48.728Z"
   },
   {
    "duration": 16,
    "start_time": "2023-03-17T08:33:28.096Z"
   },
   {
    "duration": 243,
    "start_time": "2023-03-17T08:34:41.473Z"
   },
   {
    "duration": 407,
    "start_time": "2023-03-17T08:34:56.451Z"
   },
   {
    "duration": 10,
    "start_time": "2023-03-17T08:43:52.191Z"
   },
   {
    "duration": 216,
    "start_time": "2023-03-17T08:44:02.083Z"
   },
   {
    "duration": 296,
    "start_time": "2023-03-17T08:44:24.819Z"
   },
   {
    "duration": 4,
    "start_time": "2023-03-17T08:46:04.728Z"
   },
   {
    "duration": 323,
    "start_time": "2023-03-17T08:46:08.645Z"
   },
   {
    "duration": 127,
    "start_time": "2023-03-17T08:48:16.582Z"
   },
   {
    "duration": 219,
    "start_time": "2023-03-17T08:51:38.146Z"
   },
   {
    "duration": 755,
    "start_time": "2023-03-17T08:51:46.456Z"
   },
   {
    "duration": 170,
    "start_time": "2023-03-17T08:51:51.296Z"
   },
   {
    "duration": 4,
    "start_time": "2023-03-17T08:52:54.087Z"
   },
   {
    "duration": 4,
    "start_time": "2023-03-17T08:52:55.342Z"
   },
   {
    "duration": 8,
    "start_time": "2023-03-17T09:00:27.910Z"
   },
   {
    "duration": 5,
    "start_time": "2023-03-17T09:03:14.489Z"
   },
   {
    "duration": 4,
    "start_time": "2023-03-17T09:04:01.439Z"
   },
   {
    "duration": 1103,
    "start_time": "2023-03-17T09:10:42.317Z"
   },
   {
    "duration": 1258,
    "start_time": "2023-03-17T09:10:55.812Z"
   },
   {
    "duration": 14,
    "start_time": "2023-03-17T09:11:44.453Z"
   },
   {
    "duration": 160,
    "start_time": "2023-03-17T09:11:56.770Z"
   },
   {
    "duration": 15,
    "start_time": "2023-03-17T09:13:42.404Z"
   },
   {
    "duration": 157,
    "start_time": "2023-03-17T09:13:58.379Z"
   },
   {
    "duration": 34,
    "start_time": "2023-03-17T09:14:18.503Z"
   },
   {
    "duration": 19,
    "start_time": "2023-03-17T09:15:44.210Z"
   },
   {
    "duration": 28,
    "start_time": "2023-03-17T09:16:04.964Z"
   },
   {
    "duration": 9,
    "start_time": "2023-03-17T09:16:34.620Z"
   },
   {
    "duration": 10,
    "start_time": "2023-03-17T09:16:45.488Z"
   },
   {
    "duration": 15,
    "start_time": "2023-03-17T09:16:59.572Z"
   },
   {
    "duration": 7,
    "start_time": "2023-03-17T09:17:30.245Z"
   },
   {
    "duration": 18,
    "start_time": "2023-03-17T09:18:57.728Z"
   },
   {
    "duration": 13,
    "start_time": "2023-03-17T09:19:21.118Z"
   },
   {
    "duration": 6,
    "start_time": "2023-03-17T09:21:01.985Z"
   },
   {
    "duration": 7,
    "start_time": "2023-03-17T09:21:09.687Z"
   },
   {
    "duration": 9,
    "start_time": "2023-03-17T09:23:19.148Z"
   },
   {
    "duration": 20,
    "start_time": "2023-03-17T09:28:43.921Z"
   },
   {
    "duration": 13,
    "start_time": "2023-03-17T09:29:33.545Z"
   },
   {
    "duration": 16,
    "start_time": "2023-03-17T09:29:45.844Z"
   },
   {
    "duration": 23,
    "start_time": "2023-03-17T09:30:02.449Z"
   },
   {
    "duration": 7,
    "start_time": "2023-03-17T09:31:31.459Z"
   },
   {
    "duration": 13,
    "start_time": "2023-03-17T09:31:39.000Z"
   },
   {
    "duration": 7,
    "start_time": "2023-03-17T09:32:11.783Z"
   },
   {
    "duration": 14,
    "start_time": "2023-03-17T09:34:13.907Z"
   },
   {
    "duration": 70,
    "start_time": "2023-03-17T09:35:26.432Z"
   },
   {
    "duration": 12,
    "start_time": "2023-03-17T09:35:35.092Z"
   },
   {
    "duration": 13,
    "start_time": "2023-03-17T09:36:18.656Z"
   },
   {
    "duration": 12,
    "start_time": "2023-03-17T09:36:28.803Z"
   },
   {
    "duration": 17,
    "start_time": "2023-03-17T09:36:51.858Z"
   },
   {
    "duration": 65,
    "start_time": "2023-03-17T10:21:41.849Z"
   },
   {
    "duration": 13,
    "start_time": "2023-03-17T10:21:57.003Z"
   },
   {
    "duration": 24,
    "start_time": "2023-03-17T10:22:54.010Z"
   },
   {
    "duration": 33,
    "start_time": "2023-03-17T10:29:53.080Z"
   },
   {
    "duration": 32,
    "start_time": "2023-03-17T10:32:11.534Z"
   },
   {
    "duration": 9,
    "start_time": "2023-03-17T10:41:54.049Z"
   },
   {
    "duration": 126,
    "start_time": "2023-03-17T10:42:10.875Z"
   },
   {
    "duration": 122,
    "start_time": "2023-03-17T10:43:35.400Z"
   },
   {
    "duration": 120,
    "start_time": "2023-03-17T10:44:07.909Z"
   },
   {
    "duration": 133,
    "start_time": "2023-03-17T10:44:21.700Z"
   },
   {
    "duration": 124,
    "start_time": "2023-03-17T10:44:42.309Z"
   },
   {
    "duration": 124,
    "start_time": "2023-03-17T10:52:40.193Z"
   },
   {
    "duration": 138,
    "start_time": "2023-03-17T10:53:54.083Z"
   },
   {
    "duration": 139,
    "start_time": "2023-03-17T10:55:24.360Z"
   },
   {
    "duration": 144,
    "start_time": "2023-03-17T10:57:51.359Z"
   },
   {
    "duration": 166,
    "start_time": "2023-03-17T10:57:56.136Z"
   },
   {
    "duration": 120,
    "start_time": "2023-03-17T10:58:41.261Z"
   },
   {
    "duration": 281,
    "start_time": "2023-03-17T10:58:46.030Z"
   },
   {
    "duration": 122,
    "start_time": "2023-03-17T10:58:50.828Z"
   },
   {
    "duration": 123,
    "start_time": "2023-03-17T10:59:15.590Z"
   },
   {
    "duration": 126,
    "start_time": "2023-03-17T11:00:14.599Z"
   },
   {
    "duration": 129,
    "start_time": "2023-03-17T11:00:19.177Z"
   },
   {
    "duration": 131,
    "start_time": "2023-03-17T11:00:22.469Z"
   },
   {
    "duration": 144,
    "start_time": "2023-03-17T11:00:30.902Z"
   },
   {
    "duration": 170,
    "start_time": "2023-03-17T11:00:35.427Z"
   },
   {
    "duration": 22,
    "start_time": "2023-03-17T11:02:44.898Z"
   },
   {
    "duration": 155,
    "start_time": "2023-03-17T11:02:57.455Z"
   },
   {
    "duration": 147,
    "start_time": "2023-03-17T11:03:49.566Z"
   },
   {
    "duration": 14,
    "start_time": "2023-03-17T11:04:19.604Z"
   },
   {
    "duration": 131,
    "start_time": "2023-03-17T11:05:08.107Z"
   },
   {
    "duration": 84,
    "start_time": "2023-03-17T11:22:17.552Z"
   },
   {
    "duration": 33,
    "start_time": "2023-03-17T11:23:24.000Z"
   },
   {
    "duration": 9,
    "start_time": "2023-03-17T11:24:08.659Z"
   },
   {
    "duration": 1430,
    "start_time": "2023-03-17T11:24:29.874Z"
   },
   {
    "duration": 2,
    "start_time": "2023-03-17T11:29:33.057Z"
   },
   {
    "duration": 2,
    "start_time": "2023-03-17T11:29:38.425Z"
   },
   {
    "duration": 136,
    "start_time": "2023-03-17T11:32:18.231Z"
   },
   {
    "duration": 154,
    "start_time": "2023-03-17T11:32:23.159Z"
   },
   {
    "duration": 128,
    "start_time": "2023-03-17T11:32:28.705Z"
   },
   {
    "duration": 158,
    "start_time": "2023-03-17T11:32:32.400Z"
   },
   {
    "duration": 140,
    "start_time": "2023-03-17T11:32:40.846Z"
   },
   {
    "duration": 147,
    "start_time": "2023-03-17T11:33:27.313Z"
   },
   {
    "duration": 148,
    "start_time": "2023-03-17T11:34:07.762Z"
   },
   {
    "duration": 148,
    "start_time": "2023-03-17T11:34:29.337Z"
   },
   {
    "duration": 147,
    "start_time": "2023-03-17T11:34:33.455Z"
   },
   {
    "duration": 141,
    "start_time": "2023-03-17T11:34:48.396Z"
   },
   {
    "duration": 140,
    "start_time": "2023-03-17T11:35:14.228Z"
   },
   {
    "duration": 21,
    "start_time": "2023-03-17T11:39:47.878Z"
   },
   {
    "duration": 11,
    "start_time": "2023-03-17T11:41:32.199Z"
   },
   {
    "duration": 145,
    "start_time": "2023-03-17T11:41:37.835Z"
   },
   {
    "duration": 1152,
    "start_time": "2023-03-17T11:45:14.240Z"
   },
   {
    "duration": 108,
    "start_time": "2023-03-17T11:45:15.394Z"
   },
   {
    "duration": 21,
    "start_time": "2023-03-17T11:45:15.504Z"
   },
   {
    "duration": 3,
    "start_time": "2023-03-17T11:45:15.539Z"
   },
   {
    "duration": 47,
    "start_time": "2023-03-17T11:45:15.544Z"
   },
   {
    "duration": 70,
    "start_time": "2023-03-17T11:45:15.592Z"
   },
   {
    "duration": 1895,
    "start_time": "2023-03-17T11:45:15.663Z"
   },
   {
    "duration": 10,
    "start_time": "2023-03-17T11:45:17.560Z"
   },
   {
    "duration": 1001,
    "start_time": "2023-03-17T11:45:17.571Z"
   },
   {
    "duration": 4,
    "start_time": "2023-03-17T11:45:18.576Z"
   },
   {
    "duration": 5,
    "start_time": "2023-03-17T11:45:18.582Z"
   },
   {
    "duration": 21,
    "start_time": "2023-03-17T11:45:18.589Z"
   },
   {
    "duration": 28,
    "start_time": "2023-03-17T11:45:18.612Z"
   },
   {
    "duration": 5,
    "start_time": "2023-03-17T11:45:18.642Z"
   },
   {
    "duration": 5,
    "start_time": "2023-03-17T11:45:18.648Z"
   },
   {
    "duration": 5,
    "start_time": "2023-03-17T11:45:18.655Z"
   },
   {
    "duration": 5,
    "start_time": "2023-03-17T11:45:18.662Z"
   },
   {
    "duration": 8,
    "start_time": "2023-03-17T11:45:18.668Z"
   },
   {
    "duration": 13,
    "start_time": "2023-03-17T11:45:18.677Z"
   },
   {
    "duration": 15,
    "start_time": "2023-03-17T11:45:18.692Z"
   },
   {
    "duration": 7,
    "start_time": "2023-03-17T11:45:18.740Z"
   },
   {
    "duration": 2623,
    "start_time": "2023-03-17T11:45:18.748Z"
   },
   {
    "duration": 4,
    "start_time": "2023-03-17T11:45:21.373Z"
   },
   {
    "duration": 8,
    "start_time": "2023-03-17T11:45:21.379Z"
   },
   {
    "duration": 13,
    "start_time": "2023-03-17T11:45:21.389Z"
   },
   {
    "duration": 27,
    "start_time": "2023-03-17T11:45:21.404Z"
   },
   {
    "duration": 11,
    "start_time": "2023-03-17T11:45:21.433Z"
   },
   {
    "duration": 35,
    "start_time": "2023-03-17T11:45:21.450Z"
   },
   {
    "duration": 4,
    "start_time": "2023-03-17T11:45:21.487Z"
   },
   {
    "duration": 10,
    "start_time": "2023-03-17T11:45:21.493Z"
   },
   {
    "duration": 8,
    "start_time": "2023-03-17T11:45:21.504Z"
   },
   {
    "duration": 29,
    "start_time": "2023-03-17T11:45:21.514Z"
   },
   {
    "duration": 8,
    "start_time": "2023-03-17T11:45:21.544Z"
   },
   {
    "duration": 10,
    "start_time": "2023-03-17T11:45:21.554Z"
   },
   {
    "duration": 13,
    "start_time": "2023-03-17T11:45:21.565Z"
   },
   {
    "duration": 8,
    "start_time": "2023-03-17T11:45:21.579Z"
   },
   {
    "duration": 8,
    "start_time": "2023-03-17T11:45:21.589Z"
   },
   {
    "duration": 10,
    "start_time": "2023-03-17T11:45:21.598Z"
   },
   {
    "duration": 4,
    "start_time": "2023-03-17T11:45:21.610Z"
   },
   {
    "duration": 8,
    "start_time": "2023-03-17T11:45:21.639Z"
   },
   {
    "duration": 1214,
    "start_time": "2023-03-17T11:45:21.648Z"
   },
   {
    "duration": 5,
    "start_time": "2023-03-17T11:45:22.864Z"
   },
   {
    "duration": 31,
    "start_time": "2023-03-17T11:45:22.871Z"
   },
   {
    "duration": 8,
    "start_time": "2023-03-17T11:45:22.903Z"
   },
   {
    "duration": 30,
    "start_time": "2023-03-17T11:45:22.913Z"
   },
   {
    "duration": 10,
    "start_time": "2023-03-17T11:45:22.945Z"
   },
   {
    "duration": 4,
    "start_time": "2023-03-17T11:45:22.956Z"
   },
   {
    "duration": 17,
    "start_time": "2023-03-17T11:45:22.961Z"
   },
   {
    "duration": 10,
    "start_time": "2023-03-17T11:45:22.980Z"
   },
   {
    "duration": 3,
    "start_time": "2023-03-17T11:45:22.991Z"
   },
   {
    "duration": 11,
    "start_time": "2023-03-17T11:45:22.996Z"
   },
   {
    "duration": 31,
    "start_time": "2023-03-17T11:45:23.009Z"
   },
   {
    "duration": 25,
    "start_time": "2023-03-17T11:45:23.041Z"
   },
   {
    "duration": 8,
    "start_time": "2023-03-17T11:45:23.068Z"
   },
   {
    "duration": 26,
    "start_time": "2023-03-17T11:45:23.077Z"
   },
   {
    "duration": 5,
    "start_time": "2023-03-17T11:45:23.104Z"
   },
   {
    "duration": 56,
    "start_time": "2023-03-17T11:45:23.110Z"
   },
   {
    "duration": 20,
    "start_time": "2023-03-17T11:45:23.168Z"
   },
   {
    "duration": 30,
    "start_time": "2023-03-17T11:45:23.190Z"
   },
   {
    "duration": 10,
    "start_time": "2023-03-17T11:45:23.241Z"
   },
   {
    "duration": 3,
    "start_time": "2023-03-17T11:45:23.253Z"
   },
   {
    "duration": 26,
    "start_time": "2023-03-17T11:45:23.258Z"
   },
   {
    "duration": 12,
    "start_time": "2023-03-17T11:45:23.286Z"
   },
   {
    "duration": 43,
    "start_time": "2023-03-17T11:45:23.300Z"
   },
   {
    "duration": 19,
    "start_time": "2023-03-17T11:45:23.346Z"
   },
   {
    "duration": 4,
    "start_time": "2023-03-17T11:45:23.367Z"
   },
   {
    "duration": 9,
    "start_time": "2023-03-17T11:45:23.372Z"
   },
   {
    "duration": 12,
    "start_time": "2023-03-17T11:45:23.382Z"
   },
   {
    "duration": 4,
    "start_time": "2023-03-17T11:45:23.396Z"
   },
   {
    "duration": 329,
    "start_time": "2023-03-17T11:45:23.402Z"
   },
   {
    "duration": 9,
    "start_time": "2023-03-17T11:45:23.732Z"
   },
   {
    "duration": 11,
    "start_time": "2023-03-17T11:45:23.743Z"
   },
   {
    "duration": 4,
    "start_time": "2023-03-17T11:45:23.756Z"
   },
   {
    "duration": 12,
    "start_time": "2023-03-17T11:45:23.763Z"
   },
   {
    "duration": 4,
    "start_time": "2023-03-17T11:45:23.777Z"
   },
   {
    "duration": 6,
    "start_time": "2023-03-17T11:45:23.783Z"
   },
   {
    "duration": 6,
    "start_time": "2023-03-17T11:45:23.790Z"
   },
   {
    "duration": 218,
    "start_time": "2023-03-17T11:45:23.798Z"
   },
   {
    "duration": 206,
    "start_time": "2023-03-17T11:45:24.018Z"
   },
   {
    "duration": 232,
    "start_time": "2023-03-17T11:45:24.226Z"
   },
   {
    "duration": 297,
    "start_time": "2023-03-17T11:45:24.460Z"
   },
   {
    "duration": 187,
    "start_time": "2023-03-17T11:45:24.765Z"
   },
   {
    "duration": 145,
    "start_time": "2023-03-17T11:45:24.953Z"
   },
   {
    "duration": 181,
    "start_time": "2023-03-17T11:45:25.099Z"
   },
   {
    "duration": 173,
    "start_time": "2023-03-17T11:45:25.282Z"
   },
   {
    "duration": 162,
    "start_time": "2023-03-17T11:45:25.456Z"
   },
   {
    "duration": 176,
    "start_time": "2023-03-17T11:45:25.620Z"
   },
   {
    "duration": 23,
    "start_time": "2023-03-17T11:45:25.798Z"
   },
   {
    "duration": 561,
    "start_time": "2023-03-17T11:45:25.822Z"
   },
   {
    "duration": 211,
    "start_time": "2023-03-17T11:45:26.384Z"
   },
   {
    "duration": 223,
    "start_time": "2023-03-17T11:45:26.597Z"
   },
   {
    "duration": 12,
    "start_time": "2023-03-17T11:45:26.822Z"
   },
   {
    "duration": 9,
    "start_time": "2023-03-17T11:45:26.840Z"
   },
   {
    "duration": 6,
    "start_time": "2023-03-17T11:45:26.851Z"
   },
   {
    "duration": 3,
    "start_time": "2023-03-17T11:45:26.858Z"
   },
   {
    "duration": 157,
    "start_time": "2023-03-17T11:45:26.863Z"
   },
   {
    "duration": 164,
    "start_time": "2023-03-17T11:45:27.022Z"
   },
   {
    "duration": 169,
    "start_time": "2023-03-17T11:45:27.187Z"
   },
   {
    "duration": 205,
    "start_time": "2023-03-17T11:45:27.357Z"
   },
   {
    "duration": 213,
    "start_time": "2023-03-17T11:45:27.564Z"
   },
   {
    "duration": 213,
    "start_time": "2023-03-17T11:45:27.779Z"
   },
   {
    "duration": 195,
    "start_time": "2023-03-17T11:45:27.994Z"
   },
   {
    "duration": 208,
    "start_time": "2023-03-17T11:45:28.191Z"
   },
   {
    "duration": 10,
    "start_time": "2023-03-17T11:45:28.401Z"
   },
   {
    "duration": 64,
    "start_time": "2023-03-17T11:45:28.413Z"
   },
   {
    "duration": 16,
    "start_time": "2023-03-17T11:45:28.479Z"
   },
   {
    "duration": 173,
    "start_time": "2023-03-17T11:45:28.496Z"
   },
   {
    "duration": 143,
    "start_time": "2023-03-17T11:56:58.882Z"
   },
   {
    "duration": 295,
    "start_time": "2023-03-17T11:57:19.517Z"
   },
   {
    "duration": 168,
    "start_time": "2023-03-17T11:57:36.469Z"
   },
   {
    "duration": 119,
    "start_time": "2023-03-17T11:57:57.710Z"
   },
   {
    "duration": 131,
    "start_time": "2023-03-17T11:58:29.061Z"
   },
   {
    "duration": 136,
    "start_time": "2023-03-17T11:59:01.672Z"
   },
   {
    "duration": 144,
    "start_time": "2023-03-17T11:59:18.147Z"
   },
   {
    "duration": 137,
    "start_time": "2023-03-17T11:59:35.968Z"
   },
   {
    "duration": 128,
    "start_time": "2023-03-17T11:59:57.509Z"
   },
   {
    "duration": 159,
    "start_time": "2023-03-17T12:00:16.177Z"
   },
   {
    "duration": 342,
    "start_time": "2023-03-17T12:00:50.523Z"
   },
   {
    "duration": 309,
    "start_time": "2023-03-17T12:02:13.796Z"
   },
   {
    "duration": 180,
    "start_time": "2023-03-17T12:05:39.213Z"
   },
   {
    "duration": 183,
    "start_time": "2023-03-17T12:53:09.330Z"
   },
   {
    "duration": 1575,
    "start_time": "2023-03-20T12:40:09.327Z"
   },
   {
    "duration": 606,
    "start_time": "2023-03-20T12:41:27.671Z"
   },
   {
    "duration": 3,
    "start_time": "2023-03-20T12:44:29.336Z"
   },
   {
    "duration": 14,
    "start_time": "2023-03-20T12:44:54.420Z"
   },
   {
    "duration": 33,
    "start_time": "2023-03-20T12:45:03.629Z"
   },
   {
    "duration": 19,
    "start_time": "2023-03-20T12:45:16.336Z"
   },
   {
    "duration": 6,
    "start_time": "2023-03-20T12:55:40.552Z"
   },
   {
    "duration": 6,
    "start_time": "2023-03-20T12:56:07.730Z"
   },
   {
    "duration": 8,
    "start_time": "2023-03-20T12:57:18.270Z"
   },
   {
    "duration": 633,
    "start_time": "2023-03-20T12:57:54.299Z"
   },
   {
    "duration": 13,
    "start_time": "2023-03-20T13:11:44.306Z"
   },
   {
    "duration": 23,
    "start_time": "2023-03-20T13:32:28.480Z"
   },
   {
    "duration": 8,
    "start_time": "2023-03-20T13:33:10.792Z"
   },
   {
    "duration": 7,
    "start_time": "2023-03-20T13:35:08.198Z"
   },
   {
    "duration": 6,
    "start_time": "2023-03-20T13:36:26.781Z"
   },
   {
    "duration": 25,
    "start_time": "2023-03-20T13:37:23.635Z"
   },
   {
    "duration": 5,
    "start_time": "2023-03-20T13:37:40.263Z"
   },
   {
    "duration": 51,
    "start_time": "2023-03-21T18:51:58.688Z"
   },
   {
    "duration": 1578,
    "start_time": "2023-03-21T18:52:07.989Z"
   },
   {
    "duration": 339,
    "start_time": "2023-03-21T18:52:09.572Z"
   },
   {
    "duration": 2,
    "start_time": "2023-03-21T18:52:09.913Z"
   },
   {
    "duration": 18,
    "start_time": "2023-03-21T18:52:09.917Z"
   },
   {
    "duration": 45,
    "start_time": "2023-03-21T18:52:09.938Z"
   },
   {
    "duration": 18,
    "start_time": "2023-03-21T18:52:09.984Z"
   },
   {
    "duration": 16,
    "start_time": "2023-03-21T18:52:10.004Z"
   },
   {
    "duration": 34,
    "start_time": "2023-03-21T18:52:10.022Z"
   },
   {
    "duration": 796,
    "start_time": "2023-03-21T18:52:10.058Z"
   },
   {
    "duration": 22,
    "start_time": "2023-03-21T18:52:10.860Z"
   },
   {
    "duration": 8,
    "start_time": "2023-03-21T18:52:10.889Z"
   },
   {
    "duration": 9,
    "start_time": "2023-03-21T18:52:10.899Z"
   },
   {
    "duration": 11,
    "start_time": "2023-03-21T18:52:10.909Z"
   },
   {
    "duration": 6,
    "start_time": "2023-03-21T18:52:10.922Z"
   },
   {
    "duration": 7,
    "start_time": "2023-03-21T18:55:00.187Z"
   },
   {
    "duration": 14,
    "start_time": "2023-03-21T18:55:19.757Z"
   },
   {
    "duration": 192,
    "start_time": "2023-03-21T19:03:04.924Z"
   },
   {
    "duration": 51,
    "start_time": "2023-03-21T19:04:36.440Z"
   },
   {
    "duration": 15,
    "start_time": "2023-03-21T19:05:00.501Z"
   },
   {
    "duration": 9,
    "start_time": "2023-03-21T19:08:43.645Z"
   },
   {
    "duration": 16,
    "start_time": "2023-03-21T19:10:12.375Z"
   },
   {
    "duration": 8,
    "start_time": "2023-03-21T19:10:51.330Z"
   },
   {
    "duration": 3,
    "start_time": "2023-03-21T19:11:52.719Z"
   },
   {
    "duration": 14,
    "start_time": "2023-03-21T19:12:06.951Z"
   },
   {
    "duration": 5,
    "start_time": "2023-03-21T19:24:40.904Z"
   },
   {
    "duration": 35,
    "start_time": "2023-03-21T19:33:23.466Z"
   },
   {
    "duration": 7,
    "start_time": "2023-03-21T19:34:20.975Z"
   },
   {
    "duration": 1341,
    "start_time": "2023-03-21T19:36:36.231Z"
   },
   {
    "duration": 56,
    "start_time": "2023-03-21T19:36:37.574Z"
   },
   {
    "duration": 3,
    "start_time": "2023-03-21T19:36:37.632Z"
   },
   {
    "duration": 39,
    "start_time": "2023-03-21T19:36:37.637Z"
   },
   {
    "duration": 47,
    "start_time": "2023-03-21T19:36:37.678Z"
   },
   {
    "duration": 31,
    "start_time": "2023-03-21T19:36:37.728Z"
   },
   {
    "duration": 9,
    "start_time": "2023-03-21T19:36:37.765Z"
   },
   {
    "duration": 21,
    "start_time": "2023-03-21T19:36:37.779Z"
   },
   {
    "duration": 769,
    "start_time": "2023-03-21T19:36:37.802Z"
   },
   {
    "duration": 29,
    "start_time": "2023-03-21T19:36:38.573Z"
   },
   {
    "duration": 11,
    "start_time": "2023-03-21T19:36:38.604Z"
   },
   {
    "duration": 45,
    "start_time": "2023-03-21T19:36:38.617Z"
   },
   {
    "duration": 11,
    "start_time": "2023-03-21T19:36:38.663Z"
   },
   {
    "duration": 26,
    "start_time": "2023-03-21T19:36:38.679Z"
   },
   {
    "duration": 12,
    "start_time": "2023-03-21T19:36:38.707Z"
   },
   {
    "duration": 14,
    "start_time": "2023-03-21T19:36:38.721Z"
   },
   {
    "duration": 25,
    "start_time": "2023-03-21T19:36:38.737Z"
   },
   {
    "duration": 15,
    "start_time": "2023-03-21T19:36:38.767Z"
   },
   {
    "duration": 14,
    "start_time": "2023-03-21T19:36:38.784Z"
   },
   {
    "duration": 23,
    "start_time": "2023-03-21T19:36:38.800Z"
   },
   {
    "duration": 7,
    "start_time": "2023-03-21T19:36:38.826Z"
   },
   {
    "duration": 14,
    "start_time": "2023-03-21T19:37:21.000Z"
   },
   {
    "duration": 5,
    "start_time": "2023-03-21T19:37:32.184Z"
   },
   {
    "duration": 19,
    "start_time": "2023-03-21T19:37:35.873Z"
   },
   {
    "duration": 21,
    "start_time": "2023-03-21T19:37:48.271Z"
   },
   {
    "duration": 1420,
    "start_time": "2023-03-21T19:39:26.832Z"
   },
   {
    "duration": 75,
    "start_time": "2023-03-21T19:39:28.254Z"
   },
   {
    "duration": 4,
    "start_time": "2023-03-21T19:39:28.330Z"
   },
   {
    "duration": 28,
    "start_time": "2023-03-21T19:39:28.336Z"
   },
   {
    "duration": 39,
    "start_time": "2023-03-21T19:39:28.366Z"
   },
   {
    "duration": 17,
    "start_time": "2023-03-21T19:39:28.415Z"
   },
   {
    "duration": 12,
    "start_time": "2023-03-21T19:39:28.434Z"
   },
   {
    "duration": 17,
    "start_time": "2023-03-21T19:39:28.448Z"
   },
   {
    "duration": 814,
    "start_time": "2023-03-21T19:39:28.467Z"
   },
   {
    "duration": 18,
    "start_time": "2023-03-21T19:39:29.284Z"
   },
   {
    "duration": 11,
    "start_time": "2023-03-21T19:39:29.304Z"
   },
   {
    "duration": 40,
    "start_time": "2023-03-21T19:39:29.318Z"
   },
   {
    "duration": 10,
    "start_time": "2023-03-21T19:39:29.360Z"
   },
   {
    "duration": 14,
    "start_time": "2023-03-21T19:39:29.371Z"
   },
   {
    "duration": 7,
    "start_time": "2023-03-21T19:39:29.387Z"
   },
   {
    "duration": 6,
    "start_time": "2023-03-21T19:39:29.396Z"
   },
   {
    "duration": 8,
    "start_time": "2023-03-21T19:39:29.404Z"
   },
   {
    "duration": 8,
    "start_time": "2023-03-21T19:39:29.415Z"
   },
   {
    "duration": 23,
    "start_time": "2023-03-21T19:39:29.425Z"
   },
   {
    "duration": 30,
    "start_time": "2023-03-21T19:39:29.450Z"
   },
   {
    "duration": 13,
    "start_time": "2023-03-21T19:39:29.486Z"
   },
   {
    "duration": 8,
    "start_time": "2023-03-21T19:39:29.502Z"
   },
   {
    "duration": 18,
    "start_time": "2023-03-21T19:39:29.512Z"
   },
   {
    "duration": 6,
    "start_time": "2023-03-21T19:39:29.541Z"
   },
   {
    "duration": 177,
    "start_time": "2023-03-21T19:44:49.533Z"
   },
   {
    "duration": 17,
    "start_time": "2023-03-21T19:44:50.257Z"
   },
   {
    "duration": 48,
    "start_time": "2023-03-21T19:45:01.653Z"
   },
   {
    "duration": 9,
    "start_time": "2023-03-21T19:45:02.384Z"
   },
   {
    "duration": 20,
    "start_time": "2023-03-21T19:45:03.004Z"
   },
   {
    "duration": 10,
    "start_time": "2023-03-21T19:48:46.568Z"
   },
   {
    "duration": 13,
    "start_time": "2023-03-21T19:48:56.626Z"
   },
   {
    "duration": 6,
    "start_time": "2023-03-21T19:48:57.220Z"
   },
   {
    "duration": 16,
    "start_time": "2023-03-21T19:48:57.917Z"
   },
   {
    "duration": 6,
    "start_time": "2023-03-21T19:49:37.431Z"
   },
   {
    "duration": 3444,
    "start_time": "2023-03-21T19:50:05.463Z"
   },
   {
    "duration": 381,
    "start_time": "2023-03-21T19:50:08.909Z"
   },
   {
    "duration": 2,
    "start_time": "2023-03-21T19:50:09.293Z"
   },
   {
    "duration": 21,
    "start_time": "2023-03-21T19:50:09.299Z"
   },
   {
    "duration": 72,
    "start_time": "2023-03-21T19:50:09.322Z"
   },
   {
    "duration": 20,
    "start_time": "2023-03-21T19:50:09.396Z"
   },
   {
    "duration": 9,
    "start_time": "2023-03-21T19:50:09.420Z"
   },
   {
    "duration": 19,
    "start_time": "2023-03-21T19:50:09.431Z"
   },
   {
    "duration": 863,
    "start_time": "2023-03-21T19:50:09.452Z"
   },
   {
    "duration": 16,
    "start_time": "2023-03-21T19:50:10.318Z"
   },
   {
    "duration": 39,
    "start_time": "2023-03-21T19:50:10.336Z"
   },
   {
    "duration": 10,
    "start_time": "2023-03-21T19:50:10.381Z"
   },
   {
    "duration": 8,
    "start_time": "2023-03-21T19:50:10.393Z"
   },
   {
    "duration": 12,
    "start_time": "2023-03-21T19:50:10.404Z"
   },
   {
    "duration": 16,
    "start_time": "2023-03-21T19:50:10.420Z"
   },
   {
    "duration": 21,
    "start_time": "2023-03-21T19:50:10.438Z"
   },
   {
    "duration": 26,
    "start_time": "2023-03-21T19:50:10.462Z"
   },
   {
    "duration": 7,
    "start_time": "2023-03-21T19:50:10.490Z"
   },
   {
    "duration": 8,
    "start_time": "2023-03-21T19:50:10.499Z"
   },
   {
    "duration": 17,
    "start_time": "2023-03-21T19:50:10.509Z"
   },
   {
    "duration": 33,
    "start_time": "2023-03-21T19:50:12.459Z"
   },
   {
    "duration": 7,
    "start_time": "2023-03-21T19:50:13.520Z"
   },
   {
    "duration": 6,
    "start_time": "2023-03-21T19:51:04.404Z"
   },
   {
    "duration": 33,
    "start_time": "2023-03-21T19:51:46.987Z"
   },
   {
    "duration": 39,
    "start_time": "2023-03-21T19:53:52.069Z"
   },
   {
    "duration": 221,
    "start_time": "2023-03-21T19:54:03.411Z"
   },
   {
    "duration": 1444,
    "start_time": "2023-03-21T19:54:11.493Z"
   },
   {
    "duration": 1395,
    "start_time": "2023-03-21T19:54:21.467Z"
   },
   {
    "duration": 1428,
    "start_time": "2023-03-21T19:54:42.609Z"
   },
   {
    "duration": 1719,
    "start_time": "2023-03-21T19:55:07.907Z"
   },
   {
    "duration": 49,
    "start_time": "2023-03-22T07:50:52.713Z"
   },
   {
    "duration": 1264,
    "start_time": "2023-03-22T07:52:56.323Z"
   },
   {
    "duration": 105,
    "start_time": "2023-03-22T07:52:57.590Z"
   },
   {
    "duration": 3,
    "start_time": "2023-03-22T07:52:57.697Z"
   },
   {
    "duration": 21,
    "start_time": "2023-03-22T07:52:57.701Z"
   },
   {
    "duration": 30,
    "start_time": "2023-03-22T07:52:57.724Z"
   },
   {
    "duration": 20,
    "start_time": "2023-03-22T07:52:57.756Z"
   },
   {
    "duration": 12,
    "start_time": "2023-03-22T07:52:57.778Z"
   },
   {
    "duration": 12,
    "start_time": "2023-03-22T07:52:57.791Z"
   },
   {
    "duration": 679,
    "start_time": "2023-03-22T07:52:57.804Z"
   },
   {
    "duration": 13,
    "start_time": "2023-03-22T07:52:58.485Z"
   },
   {
    "duration": 17,
    "start_time": "2023-03-22T07:52:58.499Z"
   },
   {
    "duration": 7,
    "start_time": "2023-03-22T07:52:58.517Z"
   },
   {
    "duration": 5,
    "start_time": "2023-03-22T07:52:58.526Z"
   },
   {
    "duration": 8,
    "start_time": "2023-03-22T07:52:58.533Z"
   },
   {
    "duration": 8,
    "start_time": "2023-03-22T07:52:58.542Z"
   },
   {
    "duration": 5,
    "start_time": "2023-03-22T07:52:58.574Z"
   },
   {
    "duration": 9,
    "start_time": "2023-03-22T07:52:58.580Z"
   },
   {
    "duration": 15,
    "start_time": "2023-03-22T07:52:58.591Z"
   },
   {
    "duration": 10,
    "start_time": "2023-03-22T07:52:58.608Z"
   },
   {
    "duration": 18,
    "start_time": "2023-03-22T07:52:58.620Z"
   },
   {
    "duration": 4,
    "start_time": "2023-03-22T07:52:58.639Z"
   },
   {
    "duration": 36,
    "start_time": "2023-03-22T07:52:58.645Z"
   },
   {
    "duration": 4,
    "start_time": "2023-03-22T07:52:58.683Z"
   },
   {
    "duration": 7,
    "start_time": "2023-03-22T07:52:58.689Z"
   },
   {
    "duration": 102,
    "start_time": "2023-03-22T08:06:37.631Z"
   },
   {
    "duration": 16,
    "start_time": "2023-03-22T08:06:42.621Z"
   },
   {
    "duration": 9,
    "start_time": "2023-03-22T08:08:35.882Z"
   },
   {
    "duration": 160,
    "start_time": "2023-03-22T08:08:48.521Z"
   },
   {
    "duration": 134,
    "start_time": "2023-03-22T08:14:00.052Z"
   },
   {
    "duration": 14,
    "start_time": "2023-03-22T08:54:49.023Z"
   },
   {
    "duration": 98,
    "start_time": "2023-03-22T08:57:08.552Z"
   },
   {
    "duration": 4,
    "start_time": "2023-03-22T08:57:16.057Z"
   },
   {
    "duration": 4,
    "start_time": "2023-03-22T08:57:30.275Z"
   },
   {
    "duration": 7,
    "start_time": "2023-03-22T08:58:19.339Z"
   },
   {
    "duration": 4,
    "start_time": "2023-03-22T08:58:30.181Z"
   },
   {
    "duration": 160,
    "start_time": "2023-03-22T09:11:02.479Z"
   },
   {
    "duration": 4,
    "start_time": "2023-03-22T09:20:36.087Z"
   },
   {
    "duration": 147,
    "start_time": "2023-03-22T09:28:47.205Z"
   },
   {
    "duration": 4,
    "start_time": "2023-03-22T09:28:51.282Z"
   },
   {
    "duration": 14,
    "start_time": "2023-03-22T09:29:28.955Z"
   },
   {
    "duration": 4,
    "start_time": "2023-03-22T09:50:38.242Z"
   },
   {
    "duration": 26,
    "start_time": "2023-03-22T09:51:17.705Z"
   },
   {
    "duration": 62,
    "start_time": "2023-03-24T08:53:48.566Z"
   },
   {
    "duration": 1218,
    "start_time": "2023-03-24T08:53:56.343Z"
   },
   {
    "duration": 133,
    "start_time": "2023-03-24T08:53:57.563Z"
   },
   {
    "duration": 2,
    "start_time": "2023-03-24T08:53:57.698Z"
   },
   {
    "duration": 28,
    "start_time": "2023-03-24T08:53:57.703Z"
   },
   {
    "duration": 28,
    "start_time": "2023-03-24T08:53:57.733Z"
   },
   {
    "duration": 28,
    "start_time": "2023-03-24T08:53:57.763Z"
   },
   {
    "duration": 14,
    "start_time": "2023-03-24T08:53:57.792Z"
   },
   {
    "duration": 12,
    "start_time": "2023-03-24T08:53:57.808Z"
   },
   {
    "duration": 614,
    "start_time": "2023-03-24T08:53:57.821Z"
   },
   {
    "duration": 12,
    "start_time": "2023-03-24T08:53:58.437Z"
   },
   {
    "duration": 26,
    "start_time": "2023-03-24T08:53:58.451Z"
   },
   {
    "duration": 10,
    "start_time": "2023-03-24T08:53:58.478Z"
   },
   {
    "duration": 7,
    "start_time": "2023-03-24T08:53:58.501Z"
   },
   {
    "duration": 9,
    "start_time": "2023-03-24T08:53:58.509Z"
   },
   {
    "duration": 19,
    "start_time": "2023-03-24T08:53:58.519Z"
   },
   {
    "duration": 7,
    "start_time": "2023-03-24T08:53:58.539Z"
   },
   {
    "duration": 11,
    "start_time": "2023-03-24T08:53:58.547Z"
   },
   {
    "duration": 4,
    "start_time": "2023-03-24T08:53:58.560Z"
   },
   {
    "duration": 20,
    "start_time": "2023-03-24T08:53:58.565Z"
   },
   {
    "duration": 29,
    "start_time": "2023-03-24T08:53:58.587Z"
   },
   {
    "duration": 3,
    "start_time": "2023-03-24T08:53:58.617Z"
   },
   {
    "duration": 22,
    "start_time": "2023-03-24T08:53:58.622Z"
   },
   {
    "duration": 4,
    "start_time": "2023-03-24T08:53:58.647Z"
   },
   {
    "duration": 147,
    "start_time": "2023-03-24T08:53:58.652Z"
   },
   {
    "duration": 15,
    "start_time": "2023-03-24T08:53:58.801Z"
   },
   {
    "duration": 4,
    "start_time": "2023-03-24T08:53:58.817Z"
   },
   {
    "duration": 6,
    "start_time": "2023-03-24T08:53:58.823Z"
   },
   {
    "duration": 4,
    "start_time": "2023-03-24T08:53:58.832Z"
   },
   {
    "duration": 13,
    "start_time": "2023-03-24T08:53:58.837Z"
   },
   {
    "duration": 15,
    "start_time": "2023-03-24T08:53:58.878Z"
   },
   {
    "duration": 31,
    "start_time": "2023-03-24T08:53:58.895Z"
   },
   {
    "duration": 13,
    "start_time": "2023-03-24T08:53:58.928Z"
   },
   {
    "duration": 3,
    "start_time": "2023-03-24T08:53:58.943Z"
   },
   {
    "duration": 156,
    "start_time": "2023-03-24T08:53:58.947Z"
   },
   {
    "duration": 17,
    "start_time": "2023-03-24T08:53:59.106Z"
   },
   {
    "duration": 39,
    "start_time": "2023-03-24T08:56:15.793Z"
   },
   {
    "duration": 1399,
    "start_time": "2023-03-24T08:57:41.999Z"
   },
   {
    "duration": 1305,
    "start_time": "2023-03-24T08:57:52.260Z"
   },
   {
    "duration": 1364,
    "start_time": "2023-03-24T08:57:55.705Z"
   },
   {
    "duration": 1139,
    "start_time": "2023-03-24T09:00:32.492Z"
   },
   {
    "duration": 54,
    "start_time": "2023-03-24T09:00:33.633Z"
   },
   {
    "duration": 3,
    "start_time": "2023-03-24T09:00:33.688Z"
   },
   {
    "duration": 27,
    "start_time": "2023-03-24T09:00:33.692Z"
   },
   {
    "duration": 30,
    "start_time": "2023-03-24T09:00:33.721Z"
   },
   {
    "duration": 13,
    "start_time": "2023-03-24T09:00:33.752Z"
   },
   {
    "duration": 12,
    "start_time": "2023-03-24T09:00:33.773Z"
   },
   {
    "duration": 15,
    "start_time": "2023-03-24T09:00:33.787Z"
   },
   {
    "duration": 585,
    "start_time": "2023-03-24T09:00:33.803Z"
   },
   {
    "duration": 12,
    "start_time": "2023-03-24T09:00:34.390Z"
   },
   {
    "duration": 18,
    "start_time": "2023-03-24T09:00:34.404Z"
   },
   {
    "duration": 17,
    "start_time": "2023-03-24T09:00:34.423Z"
   },
   {
    "duration": 14,
    "start_time": "2023-03-24T09:00:34.442Z"
   },
   {
    "duration": 20,
    "start_time": "2023-03-24T09:00:34.460Z"
   },
   {
    "duration": 12,
    "start_time": "2023-03-24T09:00:34.482Z"
   },
   {
    "duration": 7,
    "start_time": "2023-03-24T09:00:34.495Z"
   },
   {
    "duration": 12,
    "start_time": "2023-03-24T09:00:34.503Z"
   },
   {
    "duration": 6,
    "start_time": "2023-03-24T09:00:34.516Z"
   },
   {
    "duration": 6,
    "start_time": "2023-03-24T09:00:34.523Z"
   },
   {
    "duration": 16,
    "start_time": "2023-03-24T09:00:34.530Z"
   },
   {
    "duration": 4,
    "start_time": "2023-03-24T09:00:34.547Z"
   },
   {
    "duration": 35,
    "start_time": "2023-03-24T09:00:34.552Z"
   },
   {
    "duration": 4,
    "start_time": "2023-03-24T09:00:34.589Z"
   },
   {
    "duration": 137,
    "start_time": "2023-03-24T09:00:34.594Z"
   },
   {
    "duration": 15,
    "start_time": "2023-03-24T09:00:34.733Z"
   },
   {
    "duration": 5,
    "start_time": "2023-03-24T09:00:34.749Z"
   },
   {
    "duration": 16,
    "start_time": "2023-03-24T09:00:34.771Z"
   },
   {
    "duration": 8,
    "start_time": "2023-03-24T09:00:34.788Z"
   },
   {
    "duration": 15,
    "start_time": "2023-03-24T09:00:34.798Z"
   },
   {
    "duration": 4,
    "start_time": "2023-03-24T09:00:34.814Z"
   },
   {
    "duration": 32,
    "start_time": "2023-03-24T09:00:34.819Z"
   },
   {
    "duration": 17,
    "start_time": "2023-03-24T09:00:34.852Z"
   },
   {
    "duration": 24,
    "start_time": "2023-03-24T09:00:34.870Z"
   },
   {
    "duration": 151,
    "start_time": "2023-03-24T09:00:34.895Z"
   },
   {
    "duration": 46,
    "start_time": "2023-03-24T09:00:35.047Z"
   },
   {
    "duration": 2037,
    "start_time": "2023-03-24T09:00:35.095Z"
   },
   {
    "duration": 23,
    "start_time": "2023-03-24T09:43:38.237Z"
   },
   {
    "duration": 168,
    "start_time": "2023-03-24T09:43:41.874Z"
   },
   {
    "duration": 203,
    "start_time": "2023-03-24T09:44:10.260Z"
   },
   {
    "duration": 108,
    "start_time": "2023-03-24T09:44:15.999Z"
   },
   {
    "duration": 14,
    "start_time": "2023-03-24T09:44:36.835Z"
   },
   {
    "duration": 95,
    "start_time": "2023-03-24T09:58:11.401Z"
   },
   {
    "duration": 35,
    "start_time": "2023-03-24T09:59:11.531Z"
   },
   {
    "duration": 25,
    "start_time": "2023-03-24T09:59:49.118Z"
   },
   {
    "duration": 160,
    "start_time": "2023-03-24T09:59:59.087Z"
   },
   {
    "duration": 20,
    "start_time": "2023-03-24T10:01:50.773Z"
   },
   {
    "duration": 14,
    "start_time": "2023-03-24T10:02:12.788Z"
   },
   {
    "duration": 2,
    "start_time": "2023-03-24T10:02:31.463Z"
   },
   {
    "duration": 222,
    "start_time": "2023-03-24T10:24:50.810Z"
   },
   {
    "duration": 273,
    "start_time": "2023-03-24T10:50:26.135Z"
   },
   {
    "duration": 259,
    "start_time": "2023-03-24T10:50:52.461Z"
   },
   {
    "duration": 1310,
    "start_time": "2023-04-01T17:31:43.457Z"
   },
   {
    "duration": 197,
    "start_time": "2023-04-01T17:31:44.769Z"
   },
   {
    "duration": 3,
    "start_time": "2023-04-01T17:31:44.968Z"
   },
   {
    "duration": 23,
    "start_time": "2023-04-01T17:31:44.972Z"
   },
   {
    "duration": 33,
    "start_time": "2023-04-01T17:31:44.999Z"
   },
   {
    "duration": 47,
    "start_time": "2023-04-01T17:31:45.035Z"
   },
   {
    "duration": 12,
    "start_time": "2023-04-01T17:31:45.084Z"
   },
   {
    "duration": 25,
    "start_time": "2023-04-01T17:31:45.098Z"
   },
   {
    "duration": 631,
    "start_time": "2023-04-01T17:31:45.124Z"
   },
   {
    "duration": 15,
    "start_time": "2023-04-01T17:31:45.757Z"
   },
   {
    "duration": 26,
    "start_time": "2023-04-01T17:31:45.774Z"
   },
   {
    "duration": 18,
    "start_time": "2023-04-01T17:31:45.802Z"
   },
   {
    "duration": 15,
    "start_time": "2023-04-01T17:31:45.821Z"
   },
   {
    "duration": 14,
    "start_time": "2023-04-01T17:31:45.840Z"
   },
   {
    "duration": 12,
    "start_time": "2023-04-01T17:31:45.855Z"
   },
   {
    "duration": 9,
    "start_time": "2023-04-01T17:31:45.869Z"
   },
   {
    "duration": 13,
    "start_time": "2023-04-01T17:31:45.880Z"
   },
   {
    "duration": 13,
    "start_time": "2023-04-01T17:31:45.894Z"
   },
   {
    "duration": 16,
    "start_time": "2023-04-01T17:31:45.909Z"
   },
   {
    "duration": 15,
    "start_time": "2023-04-01T17:31:45.926Z"
   },
   {
    "duration": 4,
    "start_time": "2023-04-01T17:31:45.942Z"
   },
   {
    "duration": 36,
    "start_time": "2023-04-01T17:31:45.948Z"
   },
   {
    "duration": 5,
    "start_time": "2023-04-01T17:31:45.986Z"
   },
   {
    "duration": 161,
    "start_time": "2023-04-01T17:31:45.993Z"
   },
   {
    "duration": 14,
    "start_time": "2023-04-01T17:31:46.155Z"
   },
   {
    "duration": 20,
    "start_time": "2023-04-01T17:31:46.170Z"
   },
   {
    "duration": 17,
    "start_time": "2023-04-01T17:31:46.191Z"
   },
   {
    "duration": 18,
    "start_time": "2023-04-01T17:31:46.210Z"
   },
   {
    "duration": 26,
    "start_time": "2023-04-01T17:31:46.230Z"
   },
   {
    "duration": 28,
    "start_time": "2023-04-01T17:31:46.258Z"
   },
   {
    "duration": 6,
    "start_time": "2023-04-01T17:31:46.288Z"
   },
   {
    "duration": 148,
    "start_time": "2023-04-01T17:31:46.296Z"
   },
   {
    "duration": 16,
    "start_time": "2023-04-01T17:31:46.446Z"
   },
   {
    "duration": 26,
    "start_time": "2023-04-01T17:31:46.464Z"
   },
   {
    "duration": 74,
    "start_time": "2023-04-01T17:31:50.211Z"
   },
   {
    "duration": 285,
    "start_time": "2023-04-01T17:33:22.593Z"
   },
   {
    "duration": 81,
    "start_time": "2023-04-01T17:44:17.401Z"
   },
   {
    "duration": 111,
    "start_time": "2023-04-01T17:44:44.318Z"
   },
   {
    "duration": 6,
    "start_time": "2023-04-01T17:47:17.117Z"
   },
   {
    "duration": 20,
    "start_time": "2023-04-01T17:48:36.054Z"
   },
   {
    "duration": 21,
    "start_time": "2023-04-01T17:48:58.003Z"
   },
   {
    "duration": 32,
    "start_time": "2023-04-01T17:49:23.491Z"
   },
   {
    "duration": 10,
    "start_time": "2023-04-01T17:50:48.645Z"
   },
   {
    "duration": 3154,
    "start_time": "2023-04-01T17:51:00.586Z"
   },
   {
    "duration": 38,
    "start_time": "2023-04-01T17:52:38.403Z"
   },
   {
    "duration": 3265,
    "start_time": "2023-04-01T17:52:39.202Z"
   },
   {
    "duration": 849,
    "start_time": "2023-04-01T17:53:35.717Z"
   },
   {
    "duration": 3527,
    "start_time": "2023-04-01T17:53:50.357Z"
   },
   {
    "duration": 3612,
    "start_time": "2023-04-01T17:54:09.128Z"
   },
   {
    "duration": 3610,
    "start_time": "2023-04-01T17:54:35.811Z"
   },
   {
    "duration": 3496,
    "start_time": "2023-04-01T17:54:56.703Z"
   },
   {
    "duration": 3459,
    "start_time": "2023-04-01T17:55:11.550Z"
   },
   {
    "duration": 3625,
    "start_time": "2023-04-01T17:55:23.730Z"
   },
   {
    "duration": 12,
    "start_time": "2023-04-01T17:56:03.899Z"
   },
   {
    "duration": 12,
    "start_time": "2023-04-01T17:56:17.814Z"
   },
   {
    "duration": 12,
    "start_time": "2023-04-01T17:56:36.132Z"
   },
   {
    "duration": 41,
    "start_time": "2023-04-01T17:57:09.942Z"
   },
   {
    "duration": 21,
    "start_time": "2023-04-01T17:57:10.711Z"
   },
   {
    "duration": 12,
    "start_time": "2023-04-01T17:57:11.629Z"
   },
   {
    "duration": 3549,
    "start_time": "2023-04-01T17:58:12.682Z"
   },
   {
    "duration": 8,
    "start_time": "2023-04-01T17:58:20.415Z"
   },
   {
    "duration": 22,
    "start_time": "2023-04-01T18:07:38.933Z"
   },
   {
    "duration": 27,
    "start_time": "2023-04-01T18:15:58.099Z"
   },
   {
    "duration": 14,
    "start_time": "2023-04-01T18:18:26.646Z"
   },
   {
    "duration": 15,
    "start_time": "2023-04-01T18:19:00.506Z"
   },
   {
    "duration": 11,
    "start_time": "2023-04-01T18:20:44.465Z"
   },
   {
    "duration": 13,
    "start_time": "2023-04-01T18:21:01.336Z"
   },
   {
    "duration": 356,
    "start_time": "2023-04-01T18:23:47.801Z"
   },
   {
    "duration": 466,
    "start_time": "2023-04-01T18:24:29.660Z"
   },
   {
    "duration": 358,
    "start_time": "2023-04-01T18:24:39.316Z"
   },
   {
    "duration": 324,
    "start_time": "2023-04-01T18:24:48.362Z"
   },
   {
    "duration": 346,
    "start_time": "2023-04-01T18:25:45.259Z"
   },
   {
    "duration": 327,
    "start_time": "2023-04-01T18:25:55.505Z"
   },
   {
    "duration": 311,
    "start_time": "2023-04-01T18:26:04.730Z"
   },
   {
    "duration": 24,
    "start_time": "2023-04-01T18:35:31.417Z"
   },
   {
    "duration": 35,
    "start_time": "2023-04-01T18:35:36.755Z"
   },
   {
    "duration": 9,
    "start_time": "2023-04-01T18:35:56.315Z"
   },
   {
    "duration": 25,
    "start_time": "2023-04-01T18:36:13.861Z"
   },
   {
    "duration": 62,
    "start_time": "2023-04-02T12:16:34.085Z"
   },
   {
    "duration": 1440,
    "start_time": "2023-04-02T12:16:46.483Z"
   },
   {
    "duration": 205,
    "start_time": "2023-04-02T12:16:47.927Z"
   },
   {
    "duration": 3,
    "start_time": "2023-04-02T12:16:48.138Z"
   },
   {
    "duration": 66,
    "start_time": "2023-04-02T12:16:48.144Z"
   },
   {
    "duration": 69,
    "start_time": "2023-04-02T12:16:48.212Z"
   },
   {
    "duration": 16,
    "start_time": "2023-04-02T12:16:48.283Z"
   },
   {
    "duration": 35,
    "start_time": "2023-04-02T12:16:48.301Z"
   },
   {
    "duration": 53,
    "start_time": "2023-04-02T12:16:48.338Z"
   },
   {
    "duration": 771,
    "start_time": "2023-04-02T12:16:48.393Z"
   },
   {
    "duration": 19,
    "start_time": "2023-04-02T12:16:49.166Z"
   },
   {
    "duration": 31,
    "start_time": "2023-04-02T12:16:49.187Z"
   },
   {
    "duration": 50,
    "start_time": "2023-04-02T12:16:49.219Z"
   },
   {
    "duration": 18,
    "start_time": "2023-04-02T12:16:49.273Z"
   },
   {
    "duration": 15,
    "start_time": "2023-04-02T12:16:49.293Z"
   },
   {
    "duration": 33,
    "start_time": "2023-04-02T12:16:49.310Z"
   },
   {
    "duration": 18,
    "start_time": "2023-04-02T12:16:49.345Z"
   },
   {
    "duration": 21,
    "start_time": "2023-04-02T12:16:49.365Z"
   },
   {
    "duration": 18,
    "start_time": "2023-04-02T12:16:49.388Z"
   },
   {
    "duration": 39,
    "start_time": "2023-04-02T12:16:49.409Z"
   },
   {
    "duration": 32,
    "start_time": "2023-04-02T12:16:49.450Z"
   },
   {
    "duration": 10,
    "start_time": "2023-04-02T12:16:49.483Z"
   },
   {
    "duration": 31,
    "start_time": "2023-04-02T12:16:49.494Z"
   },
   {
    "duration": 7,
    "start_time": "2023-04-02T12:16:49.528Z"
   },
   {
    "duration": 200,
    "start_time": "2023-04-02T12:16:49.537Z"
   },
   {
    "duration": 17,
    "start_time": "2023-04-02T12:16:49.739Z"
   },
   {
    "duration": 5,
    "start_time": "2023-04-02T12:16:49.758Z"
   },
   {
    "duration": 24,
    "start_time": "2023-04-02T12:16:49.765Z"
   },
   {
    "duration": 11,
    "start_time": "2023-04-02T12:16:49.791Z"
   },
   {
    "duration": 26,
    "start_time": "2023-04-02T12:16:49.803Z"
   },
   {
    "duration": 29,
    "start_time": "2023-04-02T12:16:49.831Z"
   },
   {
    "duration": 56,
    "start_time": "2023-04-02T12:16:49.862Z"
   },
   {
    "duration": 204,
    "start_time": "2023-04-02T12:16:49.920Z"
   },
   {
    "duration": 20,
    "start_time": "2023-04-02T12:16:50.126Z"
   },
   {
    "duration": 37,
    "start_time": "2023-04-02T12:16:50.148Z"
   },
   {
    "duration": 102,
    "start_time": "2023-04-02T12:16:50.187Z"
   },
   {
    "duration": 316,
    "start_time": "2023-04-02T12:16:50.291Z"
   },
   {
    "duration": 6,
    "start_time": "2023-04-02T12:16:50.609Z"
   },
   {
    "duration": 85,
    "start_time": "2023-04-02T12:16:50.617Z"
   },
   {
    "duration": 4033,
    "start_time": "2023-04-02T12:16:50.703Z"
   },
   {
    "duration": 9,
    "start_time": "2023-04-02T12:16:54.741Z"
   },
   {
    "duration": 26,
    "start_time": "2023-04-02T12:16:54.752Z"
   },
   {
    "duration": 313,
    "start_time": "2023-04-02T12:16:54.780Z"
   },
   {
    "duration": 28,
    "start_time": "2023-04-02T12:16:55.095Z"
   },
   {
    "duration": 12,
    "start_time": "2023-04-02T12:16:55.126Z"
   },
   {
    "duration": 23,
    "start_time": "2023-04-02T12:16:55.140Z"
   },
   {
    "duration": 139,
    "start_time": "2023-04-02T12:17:01.037Z"
   },
   {
    "duration": 269,
    "start_time": "2023-04-02T12:17:19.978Z"
   },
   {
    "duration": 18,
    "start_time": "2023-04-02T12:17:21.138Z"
   },
   {
    "duration": 9,
    "start_time": "2023-04-02T12:17:22.216Z"
   },
   {
    "duration": 160,
    "start_time": "2023-04-02T12:18:27.719Z"
   },
   {
    "duration": 10,
    "start_time": "2023-04-02T12:18:34.965Z"
   },
   {
    "duration": 9,
    "start_time": "2023-04-02T12:20:10.536Z"
   },
   {
    "duration": 128,
    "start_time": "2023-04-02T12:20:50.587Z"
   },
   {
    "duration": 11,
    "start_time": "2023-04-02T12:21:03.384Z"
   },
   {
    "duration": 22,
    "start_time": "2023-04-02T12:21:03.912Z"
   },
   {
    "duration": 358,
    "start_time": "2023-04-02T12:21:04.589Z"
   },
   {
    "duration": 17,
    "start_time": "2023-04-02T12:21:28.776Z"
   },
   {
    "duration": 9,
    "start_time": "2023-04-02T12:21:29.241Z"
   },
   {
    "duration": 10,
    "start_time": "2023-04-02T12:21:30.754Z"
   },
   {
    "duration": 27,
    "start_time": "2023-04-02T12:30:33.626Z"
   },
   {
    "duration": 18,
    "start_time": "2023-04-02T12:30:53.454Z"
   },
   {
    "duration": 248,
    "start_time": "2023-04-02T12:31:52.469Z"
   },
   {
    "duration": 215,
    "start_time": "2023-04-02T12:31:59.053Z"
   },
   {
    "duration": 204,
    "start_time": "2023-04-02T12:32:11.059Z"
   },
   {
    "duration": 224,
    "start_time": "2023-04-02T12:32:18.571Z"
   },
   {
    "duration": 299,
    "start_time": "2023-04-02T12:32:30.593Z"
   },
   {
    "duration": 212,
    "start_time": "2023-04-02T12:32:37.697Z"
   },
   {
    "duration": 9,
    "start_time": "2023-04-02T12:39:28.098Z"
   },
   {
    "duration": 14,
    "start_time": "2023-04-02T12:39:44.400Z"
   },
   {
    "duration": 9,
    "start_time": "2023-04-02T12:40:42.898Z"
   },
   {
    "duration": 15,
    "start_time": "2023-04-02T12:40:53.416Z"
   },
   {
    "duration": 5,
    "start_time": "2023-04-02T12:41:25.134Z"
   },
   {
    "duration": 11,
    "start_time": "2023-04-02T12:41:32.961Z"
   },
   {
    "duration": 11,
    "start_time": "2023-04-02T12:41:37.915Z"
   },
   {
    "duration": 11,
    "start_time": "2023-04-02T12:42:05.404Z"
   },
   {
    "duration": 9,
    "start_time": "2023-04-02T12:45:14.983Z"
   },
   {
    "duration": 12,
    "start_time": "2023-04-02T12:45:20.550Z"
   },
   {
    "duration": 11,
    "start_time": "2023-04-02T12:45:43.069Z"
   },
   {
    "duration": 11,
    "start_time": "2023-04-02T12:45:49.657Z"
   },
   {
    "duration": 15,
    "start_time": "2023-04-02T12:46:31.886Z"
   },
   {
    "duration": 72,
    "start_time": "2023-04-02T12:46:52.319Z"
   },
   {
    "duration": 12,
    "start_time": "2023-04-02T12:48:23.660Z"
   },
   {
    "duration": 12,
    "start_time": "2023-04-02T12:48:36.432Z"
   },
   {
    "duration": 62,
    "start_time": "2023-04-02T12:48:59.809Z"
   },
   {
    "duration": 18,
    "start_time": "2023-04-02T12:49:05.013Z"
   },
   {
    "duration": 14,
    "start_time": "2023-04-02T12:49:38.062Z"
   },
   {
    "duration": 67,
    "start_time": "2023-04-02T12:50:04.701Z"
   },
   {
    "duration": 26,
    "start_time": "2023-04-02T12:50:10.953Z"
   },
   {
    "duration": 25,
    "start_time": "2023-04-02T12:50:22.393Z"
   },
   {
    "duration": 14,
    "start_time": "2023-04-02T12:50:35.759Z"
   },
   {
    "duration": 11,
    "start_time": "2023-04-02T12:50:43.425Z"
   },
   {
    "duration": 15,
    "start_time": "2023-04-02T12:51:22.634Z"
   },
   {
    "duration": 20,
    "start_time": "2023-04-02T12:51:34.163Z"
   },
   {
    "duration": 18,
    "start_time": "2023-04-02T12:51:45.221Z"
   },
   {
    "duration": 13,
    "start_time": "2023-04-02T12:52:29.808Z"
   },
   {
    "duration": 13,
    "start_time": "2023-04-02T12:52:40.028Z"
   },
   {
    "duration": 5,
    "start_time": "2023-04-02T12:52:53.360Z"
   },
   {
    "duration": 7,
    "start_time": "2023-04-02T12:52:59.495Z"
   },
   {
    "duration": 5,
    "start_time": "2023-04-02T12:53:44.199Z"
   },
   {
    "duration": 5,
    "start_time": "2023-04-02T12:53:54.313Z"
   },
   {
    "duration": 10,
    "start_time": "2023-04-02T12:54:44.780Z"
   },
   {
    "duration": 7,
    "start_time": "2023-04-02T12:55:34.970Z"
   },
   {
    "duration": 10,
    "start_time": "2023-04-02T12:55:56.326Z"
   },
   {
    "duration": 17,
    "start_time": "2023-04-02T12:56:00.473Z"
   },
   {
    "duration": 12,
    "start_time": "2023-04-02T12:56:14.820Z"
   },
   {
    "duration": 13,
    "start_time": "2023-04-02T12:56:27.337Z"
   },
   {
    "duration": 5,
    "start_time": "2023-04-02T12:57:00.993Z"
   },
   {
    "duration": 15,
    "start_time": "2023-04-02T12:57:01.834Z"
   },
   {
    "duration": 13,
    "start_time": "2023-04-02T12:58:44.025Z"
   },
   {
    "duration": 14,
    "start_time": "2023-04-02T12:58:55.539Z"
   },
   {
    "duration": 10,
    "start_time": "2023-04-02T12:59:30.576Z"
   },
   {
    "duration": 577,
    "start_time": "2023-04-02T13:00:43.742Z"
   },
   {
    "duration": 596,
    "start_time": "2023-04-02T13:01:26.023Z"
   },
   {
    "duration": 29,
    "start_time": "2023-04-02T13:36:47.176Z"
   },
   {
    "duration": 31,
    "start_time": "2023-04-02T13:36:55.020Z"
   },
   {
    "duration": 37,
    "start_time": "2023-04-02T13:37:02.573Z"
   },
   {
    "duration": 31,
    "start_time": "2023-04-02T13:37:07.026Z"
   },
   {
    "duration": 7,
    "start_time": "2023-04-02T15:09:09.631Z"
   },
   {
    "duration": 43,
    "start_time": "2023-04-02T15:10:08.618Z"
   },
   {
    "duration": 32,
    "start_time": "2023-04-02T15:10:58.886Z"
   },
   {
    "duration": 347,
    "start_time": "2023-04-02T15:11:42.685Z"
   },
   {
    "duration": 297,
    "start_time": "2023-04-02T15:12:06.329Z"
   },
   {
    "duration": 296,
    "start_time": "2023-04-02T15:14:27.568Z"
   },
   {
    "duration": 392,
    "start_time": "2023-04-02T15:14:39.265Z"
   },
   {
    "duration": 308,
    "start_time": "2023-04-02T15:14:56.801Z"
   },
   {
    "duration": 144,
    "start_time": "2023-04-02T15:26:44.857Z"
   },
   {
    "duration": 796,
    "start_time": "2023-04-02T15:28:36.491Z"
   },
   {
    "duration": 17,
    "start_time": "2023-04-02T15:28:57.835Z"
   },
   {
    "duration": 1170,
    "start_time": "2023-04-02T15:29:11.952Z"
   },
   {
    "duration": 58,
    "start_time": "2023-04-02T15:29:13.124Z"
   },
   {
    "duration": 3,
    "start_time": "2023-04-02T15:29:13.185Z"
   },
   {
    "duration": 29,
    "start_time": "2023-04-02T15:29:13.191Z"
   },
   {
    "duration": 39,
    "start_time": "2023-04-02T15:29:13.223Z"
   },
   {
    "duration": 17,
    "start_time": "2023-04-02T15:29:13.264Z"
   },
   {
    "duration": 10,
    "start_time": "2023-04-02T15:29:13.283Z"
   },
   {
    "duration": 30,
    "start_time": "2023-04-02T15:29:13.294Z"
   },
   {
    "duration": 614,
    "start_time": "2023-04-02T15:29:13.326Z"
   },
   {
    "duration": 15,
    "start_time": "2023-04-02T15:29:13.942Z"
   },
   {
    "duration": 20,
    "start_time": "2023-04-02T15:29:13.958Z"
   },
   {
    "duration": 16,
    "start_time": "2023-04-02T15:29:13.980Z"
   },
   {
    "duration": 17,
    "start_time": "2023-04-02T15:29:13.998Z"
   },
   {
    "duration": 16,
    "start_time": "2023-04-02T15:29:14.016Z"
   },
   {
    "duration": 21,
    "start_time": "2023-04-02T15:29:14.034Z"
   },
   {
    "duration": 18,
    "start_time": "2023-04-02T15:29:14.058Z"
   },
   {
    "duration": 23,
    "start_time": "2023-04-02T15:29:14.078Z"
   },
   {
    "duration": 19,
    "start_time": "2023-04-02T15:29:14.103Z"
   },
   {
    "duration": 21,
    "start_time": "2023-04-02T15:29:14.124Z"
   },
   {
    "duration": 34,
    "start_time": "2023-04-02T15:29:14.147Z"
   },
   {
    "duration": 5,
    "start_time": "2023-04-02T15:29:14.183Z"
   },
   {
    "duration": 37,
    "start_time": "2023-04-02T15:29:14.189Z"
   },
   {
    "duration": 6,
    "start_time": "2023-04-02T15:29:14.227Z"
   },
   {
    "duration": 158,
    "start_time": "2023-04-02T15:29:14.235Z"
   },
   {
    "duration": 23,
    "start_time": "2023-04-02T15:29:14.395Z"
   },
   {
    "duration": 6,
    "start_time": "2023-04-02T15:29:14.420Z"
   },
   {
    "duration": 22,
    "start_time": "2023-04-02T15:29:14.427Z"
   },
   {
    "duration": 5,
    "start_time": "2023-04-02T15:29:14.453Z"
   },
   {
    "duration": 5,
    "start_time": "2023-04-02T15:29:14.459Z"
   },
   {
    "duration": 14,
    "start_time": "2023-04-02T15:29:14.465Z"
   },
   {
    "duration": 15,
    "start_time": "2023-04-02T15:29:14.480Z"
   },
   {
    "duration": 23,
    "start_time": "2023-04-02T15:29:14.496Z"
   },
   {
    "duration": 175,
    "start_time": "2023-04-02T15:29:14.521Z"
   },
   {
    "duration": 25,
    "start_time": "2023-04-02T15:29:14.699Z"
   },
   {
    "duration": 28,
    "start_time": "2023-04-02T15:29:14.726Z"
   },
   {
    "duration": 93,
    "start_time": "2023-04-02T15:29:14.755Z"
   },
   {
    "duration": 305,
    "start_time": "2023-04-02T15:29:14.850Z"
   },
   {
    "duration": 6,
    "start_time": "2023-04-02T15:29:15.157Z"
   },
   {
    "duration": 60,
    "start_time": "2023-04-02T15:29:15.164Z"
   },
   {
    "duration": 3736,
    "start_time": "2023-04-02T15:29:15.226Z"
   },
   {
    "duration": 10,
    "start_time": "2023-04-02T15:29:18.964Z"
   },
   {
    "duration": 21,
    "start_time": "2023-04-02T15:29:18.976Z"
   },
   {
    "duration": 355,
    "start_time": "2023-04-02T15:29:19.000Z"
   },
   {
    "duration": 18,
    "start_time": "2023-04-02T15:29:19.356Z"
   },
   {
    "duration": 9,
    "start_time": "2023-04-02T15:29:19.376Z"
   },
   {
    "duration": 30,
    "start_time": "2023-04-02T15:29:19.387Z"
   },
   {
    "duration": 9,
    "start_time": "2023-04-02T15:29:19.420Z"
   },
   {
    "duration": 241,
    "start_time": "2023-04-02T15:29:19.431Z"
   },
   {
    "duration": 4,
    "start_time": "2023-04-02T15:29:19.674Z"
   },
   {
    "duration": 42,
    "start_time": "2023-04-02T15:29:19.680Z"
   },
   {
    "duration": 15,
    "start_time": "2023-04-02T15:29:19.724Z"
   },
   {
    "duration": 16,
    "start_time": "2023-04-02T15:29:19.741Z"
   },
   {
    "duration": 581,
    "start_time": "2023-04-02T15:29:19.759Z"
   },
   {
    "duration": 21,
    "start_time": "2023-04-02T15:29:20.341Z"
   },
   {
    "duration": 20,
    "start_time": "2023-04-02T15:29:20.364Z"
   },
   {
    "duration": 62,
    "start_time": "2023-04-02T15:29:20.386Z"
   },
   {
    "duration": 318,
    "start_time": "2023-04-02T15:29:20.449Z"
   },
   {
    "duration": 70,
    "start_time": "2023-04-02T15:29:20.769Z"
   },
   {
    "duration": 18,
    "start_time": "2023-04-02T15:30:14.602Z"
   },
   {
    "duration": 16,
    "start_time": "2023-04-02T15:32:07.858Z"
   },
   {
    "duration": 22,
    "start_time": "2023-04-02T15:32:42.256Z"
   },
   {
    "duration": 1323,
    "start_time": "2023-04-02T15:35:50.149Z"
   },
   {
    "duration": 57,
    "start_time": "2023-04-02T15:35:51.474Z"
   },
   {
    "duration": 4,
    "start_time": "2023-04-02T15:35:51.533Z"
   },
   {
    "duration": 25,
    "start_time": "2023-04-02T15:35:51.540Z"
   },
   {
    "duration": 34,
    "start_time": "2023-04-02T15:35:51.568Z"
   },
   {
    "duration": 42,
    "start_time": "2023-04-02T15:35:51.604Z"
   },
   {
    "duration": 6,
    "start_time": "2023-04-02T15:35:51.648Z"
   },
   {
    "duration": 24,
    "start_time": "2023-04-02T15:35:51.656Z"
   },
   {
    "duration": 796,
    "start_time": "2023-04-02T15:35:51.682Z"
   },
   {
    "duration": 21,
    "start_time": "2023-04-02T15:35:52.482Z"
   },
   {
    "duration": 23,
    "start_time": "2023-04-02T15:35:52.520Z"
   },
   {
    "duration": 25,
    "start_time": "2023-04-02T15:35:52.547Z"
   },
   {
    "duration": 43,
    "start_time": "2023-04-02T15:35:52.574Z"
   },
   {
    "duration": 45,
    "start_time": "2023-04-02T15:35:52.620Z"
   },
   {
    "duration": 48,
    "start_time": "2023-04-02T15:35:52.667Z"
   },
   {
    "duration": 51,
    "start_time": "2023-04-02T15:35:52.718Z"
   },
   {
    "duration": 47,
    "start_time": "2023-04-02T15:35:52.771Z"
   },
   {
    "duration": 23,
    "start_time": "2023-04-02T15:35:52.824Z"
   },
   {
    "duration": 19,
    "start_time": "2023-04-02T15:35:52.849Z"
   },
   {
    "duration": 28,
    "start_time": "2023-04-02T15:35:52.870Z"
   },
   {
    "duration": 19,
    "start_time": "2023-04-02T15:35:52.899Z"
   },
   {
    "duration": 53,
    "start_time": "2023-04-02T15:35:52.921Z"
   },
   {
    "duration": 4,
    "start_time": "2023-04-02T15:35:52.976Z"
   },
   {
    "duration": 213,
    "start_time": "2023-04-02T15:35:52.983Z"
   },
   {
    "duration": 29,
    "start_time": "2023-04-02T15:35:53.198Z"
   },
   {
    "duration": 10,
    "start_time": "2023-04-02T15:35:53.230Z"
   },
   {
    "duration": 9,
    "start_time": "2023-04-02T15:35:53.243Z"
   },
   {
    "duration": 11,
    "start_time": "2023-04-02T15:35:53.255Z"
   },
   {
    "duration": 17,
    "start_time": "2023-04-02T15:35:53.268Z"
   },
   {
    "duration": 50,
    "start_time": "2023-04-02T15:35:53.287Z"
   },
   {
    "duration": 50,
    "start_time": "2023-04-02T15:35:53.339Z"
   },
   {
    "duration": 5,
    "start_time": "2023-04-02T15:35:53.391Z"
   },
   {
    "duration": 199,
    "start_time": "2023-04-02T15:35:53.398Z"
   },
   {
    "duration": 26,
    "start_time": "2023-04-02T15:35:53.598Z"
   },
   {
    "duration": 43,
    "start_time": "2023-04-02T15:35:53.627Z"
   },
   {
    "duration": 108,
    "start_time": "2023-04-02T15:35:53.672Z"
   },
   {
    "duration": 318,
    "start_time": "2023-04-02T15:35:53.782Z"
   },
   {
    "duration": 7,
    "start_time": "2023-04-02T15:35:54.101Z"
   },
   {
    "duration": 67,
    "start_time": "2023-04-02T15:35:54.110Z"
   },
   {
    "duration": 4072,
    "start_time": "2023-04-02T15:35:54.179Z"
   },
   {
    "duration": 9,
    "start_time": "2023-04-02T15:35:58.253Z"
   },
   {
    "duration": 35,
    "start_time": "2023-04-02T15:35:58.264Z"
   },
   {
    "duration": 389,
    "start_time": "2023-04-02T15:35:58.302Z"
   },
   {
    "duration": 43,
    "start_time": "2023-04-02T15:35:58.693Z"
   },
   {
    "duration": 15,
    "start_time": "2023-04-02T15:35:58.738Z"
   },
   {
    "duration": 18,
    "start_time": "2023-04-02T15:35:58.755Z"
   },
   {
    "duration": 16,
    "start_time": "2023-04-02T15:35:58.775Z"
   },
   {
    "duration": 262,
    "start_time": "2023-04-02T15:35:58.792Z"
   },
   {
    "duration": 3,
    "start_time": "2023-04-02T15:35:59.056Z"
   },
   {
    "duration": 26,
    "start_time": "2023-04-02T15:35:59.061Z"
   },
   {
    "duration": 12,
    "start_time": "2023-04-02T15:35:59.089Z"
   },
   {
    "duration": 47,
    "start_time": "2023-04-02T15:35:59.103Z"
   },
   {
    "duration": 620,
    "start_time": "2023-04-02T15:35:59.151Z"
   },
   {
    "duration": 73,
    "start_time": "2023-04-02T15:35:59.773Z"
   },
   {
    "duration": 9,
    "start_time": "2023-04-02T15:35:59.848Z"
   },
   {
    "duration": 65,
    "start_time": "2023-04-02T15:35:59.859Z"
   },
   {
    "duration": 326,
    "start_time": "2023-04-02T15:35:59.926Z"
   },
   {
    "duration": 66,
    "start_time": "2023-04-02T15:36:00.253Z"
   },
   {
    "duration": 29,
    "start_time": "2023-04-02T15:36:00.320Z"
   },
   {
    "duration": 14,
    "start_time": "2023-04-02T15:36:56.697Z"
   },
   {
    "duration": 7,
    "start_time": "2023-04-02T15:42:03.657Z"
   },
   {
    "duration": 1253,
    "start_time": "2023-04-02T15:42:44.118Z"
   },
   {
    "duration": 58,
    "start_time": "2023-04-02T15:42:45.373Z"
   },
   {
    "duration": 4,
    "start_time": "2023-04-02T15:42:45.433Z"
   },
   {
    "duration": 40,
    "start_time": "2023-04-02T15:42:45.440Z"
   },
   {
    "duration": 45,
    "start_time": "2023-04-02T15:42:45.481Z"
   },
   {
    "duration": 16,
    "start_time": "2023-04-02T15:42:45.527Z"
   },
   {
    "duration": 29,
    "start_time": "2023-04-02T15:42:45.545Z"
   },
   {
    "duration": 25,
    "start_time": "2023-04-02T15:42:45.576Z"
   },
   {
    "duration": 651,
    "start_time": "2023-04-02T15:42:45.603Z"
   },
   {
    "duration": 14,
    "start_time": "2023-04-02T15:42:46.257Z"
   },
   {
    "duration": 25,
    "start_time": "2023-04-02T15:42:46.273Z"
   },
   {
    "duration": 41,
    "start_time": "2023-04-02T15:42:46.300Z"
   },
   {
    "duration": 19,
    "start_time": "2023-04-02T15:42:46.344Z"
   },
   {
    "duration": 17,
    "start_time": "2023-04-02T15:42:46.365Z"
   },
   {
    "duration": 32,
    "start_time": "2023-04-02T15:42:46.384Z"
   },
   {
    "duration": 18,
    "start_time": "2023-04-02T15:42:46.417Z"
   },
   {
    "duration": 28,
    "start_time": "2023-04-02T15:42:46.437Z"
   },
   {
    "duration": 10,
    "start_time": "2023-04-02T15:42:46.467Z"
   },
   {
    "duration": 26,
    "start_time": "2023-04-02T15:42:46.479Z"
   },
   {
    "duration": 35,
    "start_time": "2023-04-02T15:42:46.507Z"
   },
   {
    "duration": 15,
    "start_time": "2023-04-02T15:42:46.545Z"
   },
   {
    "duration": 32,
    "start_time": "2023-04-02T15:42:46.562Z"
   },
   {
    "duration": 5,
    "start_time": "2023-04-02T15:42:46.595Z"
   },
   {
    "duration": 190,
    "start_time": "2023-04-02T15:42:46.601Z"
   },
   {
    "duration": 15,
    "start_time": "2023-04-02T15:42:46.792Z"
   },
   {
    "duration": 22,
    "start_time": "2023-04-02T15:42:46.809Z"
   },
   {
    "duration": 27,
    "start_time": "2023-04-02T15:42:46.835Z"
   },
   {
    "duration": 9,
    "start_time": "2023-04-02T15:42:46.866Z"
   },
   {
    "duration": 10,
    "start_time": "2023-04-02T15:42:46.876Z"
   },
   {
    "duration": 20,
    "start_time": "2023-04-02T15:42:46.888Z"
   },
   {
    "duration": 17,
    "start_time": "2023-04-02T15:42:46.910Z"
   },
   {
    "duration": 24,
    "start_time": "2023-04-02T15:42:46.929Z"
   },
   {
    "duration": 210,
    "start_time": "2023-04-02T15:42:46.955Z"
   },
   {
    "duration": 18,
    "start_time": "2023-04-02T15:42:47.167Z"
   },
   {
    "duration": 68,
    "start_time": "2023-04-02T15:42:47.186Z"
   },
   {
    "duration": 102,
    "start_time": "2023-04-02T15:42:47.256Z"
   },
   {
    "duration": 306,
    "start_time": "2023-04-02T15:42:47.359Z"
   },
   {
    "duration": 5,
    "start_time": "2023-04-02T15:42:47.667Z"
   },
   {
    "duration": 65,
    "start_time": "2023-04-02T15:42:47.673Z"
   },
   {
    "duration": 3978,
    "start_time": "2023-04-02T15:42:47.741Z"
   },
   {
    "duration": 11,
    "start_time": "2023-04-02T15:42:51.721Z"
   },
   {
    "duration": 43,
    "start_time": "2023-04-02T15:42:51.733Z"
   },
   {
    "duration": 406,
    "start_time": "2023-04-02T15:42:51.778Z"
   },
   {
    "duration": 17,
    "start_time": "2023-04-02T15:42:52.185Z"
   },
   {
    "duration": 27,
    "start_time": "2023-04-02T15:42:52.203Z"
   },
   {
    "duration": 26,
    "start_time": "2023-04-02T15:42:52.232Z"
   },
   {
    "duration": 21,
    "start_time": "2023-04-02T15:42:52.260Z"
   },
   {
    "duration": 287,
    "start_time": "2023-04-02T15:42:52.283Z"
   },
   {
    "duration": 6,
    "start_time": "2023-04-02T15:42:52.572Z"
   },
   {
    "duration": 34,
    "start_time": "2023-04-02T15:42:52.580Z"
   },
   {
    "duration": 46,
    "start_time": "2023-04-02T15:42:52.616Z"
   },
   {
    "duration": 28,
    "start_time": "2023-04-02T15:42:52.664Z"
   },
   {
    "duration": 720,
    "start_time": "2023-04-02T15:42:52.694Z"
   },
   {
    "duration": 41,
    "start_time": "2023-04-02T15:42:53.415Z"
   },
   {
    "duration": 11,
    "start_time": "2023-04-02T15:42:53.458Z"
   },
   {
    "duration": 70,
    "start_time": "2023-04-02T15:42:53.471Z"
   },
   {
    "duration": 345,
    "start_time": "2023-04-02T15:42:53.543Z"
   },
   {
    "duration": 70,
    "start_time": "2023-04-02T15:42:53.890Z"
   },
   {
    "duration": 16,
    "start_time": "2023-04-02T15:42:53.962Z"
   },
   {
    "duration": 17,
    "start_time": "2023-04-02T15:44:45.490Z"
   },
   {
    "duration": 13,
    "start_time": "2023-04-02T15:45:45.195Z"
   },
   {
    "duration": 40,
    "start_time": "2023-04-02T15:54:36.772Z"
   },
   {
    "duration": 1371,
    "start_time": "2023-04-02T16:03:12.292Z"
   },
   {
    "duration": 55,
    "start_time": "2023-04-02T16:03:13.665Z"
   },
   {
    "duration": 4,
    "start_time": "2023-04-02T16:03:13.722Z"
   },
   {
    "duration": 42,
    "start_time": "2023-04-02T16:03:13.728Z"
   },
   {
    "duration": 51,
    "start_time": "2023-04-02T16:03:13.772Z"
   },
   {
    "duration": 27,
    "start_time": "2023-04-02T16:03:13.826Z"
   },
   {
    "duration": 22,
    "start_time": "2023-04-02T16:03:13.855Z"
   },
   {
    "duration": 38,
    "start_time": "2023-04-02T16:03:13.879Z"
   },
   {
    "duration": 713,
    "start_time": "2023-04-02T16:03:13.921Z"
   },
   {
    "duration": 14,
    "start_time": "2023-04-02T16:03:14.637Z"
   },
   {
    "duration": 22,
    "start_time": "2023-04-02T16:03:14.653Z"
   },
   {
    "duration": 14,
    "start_time": "2023-04-02T16:03:14.677Z"
   },
   {
    "duration": 9,
    "start_time": "2023-04-02T16:03:14.692Z"
   },
   {
    "duration": 25,
    "start_time": "2023-04-02T16:03:14.703Z"
   },
   {
    "duration": 27,
    "start_time": "2023-04-02T16:03:14.730Z"
   },
   {
    "duration": 20,
    "start_time": "2023-04-02T16:03:14.758Z"
   },
   {
    "duration": 20,
    "start_time": "2023-04-02T16:03:14.779Z"
   },
   {
    "duration": 29,
    "start_time": "2023-04-02T16:03:14.800Z"
   },
   {
    "duration": 14,
    "start_time": "2023-04-02T16:03:14.832Z"
   },
   {
    "duration": 18,
    "start_time": "2023-04-02T16:03:14.848Z"
   },
   {
    "duration": 4,
    "start_time": "2023-04-02T16:03:14.867Z"
   },
   {
    "duration": 28,
    "start_time": "2023-04-02T16:03:14.873Z"
   },
   {
    "duration": 5,
    "start_time": "2023-04-02T16:03:14.902Z"
   },
   {
    "duration": 205,
    "start_time": "2023-04-02T16:03:14.908Z"
   },
   {
    "duration": 15,
    "start_time": "2023-04-02T16:03:15.117Z"
   },
   {
    "duration": 6,
    "start_time": "2023-04-02T16:03:15.133Z"
   },
   {
    "duration": 9,
    "start_time": "2023-04-02T16:03:15.140Z"
   },
   {
    "duration": 8,
    "start_time": "2023-04-02T16:03:15.152Z"
   },
   {
    "duration": 16,
    "start_time": "2023-04-02T16:03:15.162Z"
   },
   {
    "duration": 24,
    "start_time": "2023-04-02T16:03:15.180Z"
   },
   {
    "duration": 23,
    "start_time": "2023-04-02T16:03:15.206Z"
   },
   {
    "duration": 3,
    "start_time": "2023-04-02T16:03:15.231Z"
   },
   {
    "duration": 182,
    "start_time": "2023-04-02T16:03:15.235Z"
   },
   {
    "duration": 14,
    "start_time": "2023-04-02T16:03:15.419Z"
   },
   {
    "duration": 28,
    "start_time": "2023-04-02T16:03:15.434Z"
   },
   {
    "duration": 97,
    "start_time": "2023-04-02T16:03:15.463Z"
   },
   {
    "duration": 261,
    "start_time": "2023-04-02T16:03:15.562Z"
   },
   {
    "duration": 6,
    "start_time": "2023-04-02T16:03:15.825Z"
   },
   {
    "duration": 45,
    "start_time": "2023-04-02T16:03:15.832Z"
   },
   {
    "duration": 3574,
    "start_time": "2023-04-02T16:03:15.878Z"
   },
   {
    "duration": 9,
    "start_time": "2023-04-02T16:03:19.454Z"
   },
   {
    "duration": 24,
    "start_time": "2023-04-02T16:03:19.465Z"
   },
   {
    "duration": 339,
    "start_time": "2023-04-02T16:03:19.490Z"
   },
   {
    "duration": 17,
    "start_time": "2023-04-02T16:03:19.831Z"
   },
   {
    "duration": 10,
    "start_time": "2023-04-02T16:03:19.850Z"
   },
   {
    "duration": 19,
    "start_time": "2023-04-02T16:03:19.862Z"
   },
   {
    "duration": 17,
    "start_time": "2023-04-02T16:03:19.882Z"
   },
   {
    "duration": 249,
    "start_time": "2023-04-02T16:03:19.901Z"
   },
   {
    "duration": 4,
    "start_time": "2023-04-02T16:03:20.152Z"
   },
   {
    "duration": 56,
    "start_time": "2023-04-02T16:03:20.158Z"
   },
   {
    "duration": 27,
    "start_time": "2023-04-02T16:03:20.215Z"
   },
   {
    "duration": 61,
    "start_time": "2023-04-02T16:03:20.243Z"
   },
   {
    "duration": 706,
    "start_time": "2023-04-02T16:03:20.305Z"
   },
   {
    "duration": 35,
    "start_time": "2023-04-02T16:03:21.013Z"
   },
   {
    "duration": 15,
    "start_time": "2023-04-02T16:03:21.050Z"
   },
   {
    "duration": 63,
    "start_time": "2023-04-02T16:03:21.067Z"
   },
   {
    "duration": 338,
    "start_time": "2023-04-02T16:03:21.131Z"
   },
   {
    "duration": 66,
    "start_time": "2023-04-02T16:03:21.471Z"
   },
   {
    "duration": 16,
    "start_time": "2023-04-02T16:03:21.539Z"
   },
   {
    "duration": 66,
    "start_time": "2023-04-02T16:03:21.557Z"
   },
   {
    "duration": 24,
    "start_time": "2023-04-02T16:03:21.625Z"
   },
   {
    "duration": 46,
    "start_time": "2023-04-02T16:03:21.651Z"
   },
   {
    "duration": 209,
    "start_time": "2023-04-02T16:05:56.935Z"
   },
   {
    "duration": 159,
    "start_time": "2023-04-02T16:06:24.400Z"
   },
   {
    "duration": 37,
    "start_time": "2023-04-02T16:08:14.638Z"
   },
   {
    "duration": 171,
    "start_time": "2023-04-02T16:09:21.026Z"
   },
   {
    "duration": 1269,
    "start_time": "2023-04-02T18:11:38.085Z"
   },
   {
    "duration": 52,
    "start_time": "2023-04-02T18:11:39.356Z"
   },
   {
    "duration": 2,
    "start_time": "2023-04-02T18:11:39.410Z"
   },
   {
    "duration": 27,
    "start_time": "2023-04-02T18:11:39.414Z"
   },
   {
    "duration": 34,
    "start_time": "2023-04-02T18:11:39.443Z"
   },
   {
    "duration": 17,
    "start_time": "2023-04-02T18:11:39.479Z"
   },
   {
    "duration": 10,
    "start_time": "2023-04-02T18:11:39.498Z"
   },
   {
    "duration": 22,
    "start_time": "2023-04-02T18:11:39.510Z"
   },
   {
    "duration": 659,
    "start_time": "2023-04-02T18:11:39.533Z"
   },
   {
    "duration": 25,
    "start_time": "2023-04-02T18:11:40.194Z"
   },
   {
    "duration": 13,
    "start_time": "2023-04-02T18:11:40.221Z"
   },
   {
    "duration": 11,
    "start_time": "2023-04-02T18:11:40.236Z"
   },
   {
    "duration": 12,
    "start_time": "2023-04-02T18:11:40.248Z"
   },
   {
    "duration": 10,
    "start_time": "2023-04-02T18:11:40.263Z"
   },
   {
    "duration": 18,
    "start_time": "2023-04-02T18:11:40.275Z"
   },
   {
    "duration": 24,
    "start_time": "2023-04-02T18:11:40.295Z"
   },
   {
    "duration": 6,
    "start_time": "2023-04-02T18:11:40.321Z"
   },
   {
    "duration": 23,
    "start_time": "2023-04-02T18:11:40.328Z"
   },
   {
    "duration": 7,
    "start_time": "2023-04-02T18:11:40.353Z"
   },
   {
    "duration": 36,
    "start_time": "2023-04-02T18:11:40.362Z"
   },
   {
    "duration": 17,
    "start_time": "2023-04-02T18:11:40.400Z"
   },
   {
    "duration": 38,
    "start_time": "2023-04-02T18:11:40.419Z"
   },
   {
    "duration": 4,
    "start_time": "2023-04-02T18:11:40.459Z"
   },
   {
    "duration": 163,
    "start_time": "2023-04-02T18:11:40.465Z"
   },
   {
    "duration": 16,
    "start_time": "2023-04-02T18:11:40.630Z"
   },
   {
    "duration": 5,
    "start_time": "2023-04-02T18:11:40.648Z"
   },
   {
    "duration": 18,
    "start_time": "2023-04-02T18:11:40.655Z"
   },
   {
    "duration": 9,
    "start_time": "2023-04-02T18:11:40.675Z"
   },
   {
    "duration": 6,
    "start_time": "2023-04-02T18:11:40.685Z"
   },
   {
    "duration": 34,
    "start_time": "2023-04-02T18:11:40.693Z"
   },
   {
    "duration": 26,
    "start_time": "2023-04-02T18:11:40.728Z"
   },
   {
    "duration": 4,
    "start_time": "2023-04-02T18:11:40.755Z"
   },
   {
    "duration": 177,
    "start_time": "2023-04-02T18:11:40.760Z"
   },
   {
    "duration": 15,
    "start_time": "2023-04-02T18:11:40.939Z"
   },
   {
    "duration": 28,
    "start_time": "2023-04-02T18:11:40.956Z"
   },
   {
    "duration": 96,
    "start_time": "2023-04-02T18:11:40.986Z"
   },
   {
    "duration": 307,
    "start_time": "2023-04-02T18:11:41.084Z"
   },
   {
    "duration": 6,
    "start_time": "2023-04-02T18:11:41.393Z"
   },
   {
    "duration": 46,
    "start_time": "2023-04-02T18:11:41.401Z"
   },
   {
    "duration": 3691,
    "start_time": "2023-04-02T18:11:41.449Z"
   },
   {
    "duration": 9,
    "start_time": "2023-04-02T18:11:45.145Z"
   },
   {
    "duration": 23,
    "start_time": "2023-04-02T18:11:45.155Z"
   },
   {
    "duration": 323,
    "start_time": "2023-04-02T18:11:45.180Z"
   },
   {
    "duration": 20,
    "start_time": "2023-04-02T18:11:45.505Z"
   },
   {
    "duration": 10,
    "start_time": "2023-04-02T18:11:45.527Z"
   },
   {
    "duration": 28,
    "start_time": "2023-04-02T18:11:45.538Z"
   },
   {
    "duration": 27,
    "start_time": "2023-04-02T18:11:45.568Z"
   },
   {
    "duration": 233,
    "start_time": "2023-04-02T18:11:45.597Z"
   },
   {
    "duration": 4,
    "start_time": "2023-04-02T18:11:45.832Z"
   },
   {
    "duration": 28,
    "start_time": "2023-04-02T18:11:45.837Z"
   },
   {
    "duration": 32,
    "start_time": "2023-04-02T18:11:45.867Z"
   },
   {
    "duration": 23,
    "start_time": "2023-04-02T18:11:45.900Z"
   },
   {
    "duration": 597,
    "start_time": "2023-04-02T18:11:45.924Z"
   },
   {
    "duration": 36,
    "start_time": "2023-04-02T18:11:46.523Z"
   },
   {
    "duration": 7,
    "start_time": "2023-04-02T18:11:46.561Z"
   },
   {
    "duration": 71,
    "start_time": "2023-04-02T18:11:46.570Z"
   },
   {
    "duration": 320,
    "start_time": "2023-04-02T18:11:46.643Z"
   },
   {
    "duration": 59,
    "start_time": "2023-04-02T18:11:46.964Z"
   },
   {
    "duration": 18,
    "start_time": "2023-04-02T18:11:47.025Z"
   },
   {
    "duration": 17,
    "start_time": "2023-04-02T18:11:47.045Z"
   },
   {
    "duration": 14,
    "start_time": "2023-04-02T18:11:47.064Z"
   },
   {
    "duration": 71,
    "start_time": "2023-04-02T18:11:47.079Z"
   },
   {
    "duration": 207,
    "start_time": "2023-04-02T18:11:47.152Z"
   },
   {
    "duration": 35,
    "start_time": "2023-04-02T18:11:47.361Z"
   },
   {
    "duration": 159,
    "start_time": "2023-04-02T18:11:47.398Z"
   },
   {
    "duration": 152,
    "start_time": "2023-04-02T18:21:46.926Z"
   },
   {
    "duration": 14,
    "start_time": "2023-04-02T18:22:14.306Z"
   },
   {
    "duration": 6,
    "start_time": "2023-04-02T18:22:56.677Z"
   },
   {
    "duration": 4,
    "start_time": "2023-04-02T18:24:24.757Z"
   },
   {
    "duration": 11,
    "start_time": "2023-04-02T18:24:47.373Z"
   },
   {
    "duration": 179,
    "start_time": "2023-04-02T18:37:29.350Z"
   },
   {
    "duration": 49,
    "start_time": "2023-04-02T19:05:43.500Z"
   },
   {
    "duration": 5324,
    "start_time": "2023-04-02T19:05:44.381Z"
   },
   {
    "duration": 187,
    "start_time": "2023-04-02T19:11:43.097Z"
   },
   {
    "duration": 5703,
    "start_time": "2023-04-02T19:11:43.720Z"
   },
   {
    "duration": 44,
    "start_time": "2023-04-02T19:12:15.779Z"
   },
   {
    "duration": 5419,
    "start_time": "2023-04-02T19:12:16.441Z"
   },
   {
    "duration": 9,
    "start_time": "2023-04-02T19:17:47.331Z"
   },
   {
    "duration": 14,
    "start_time": "2023-04-02T19:19:28.339Z"
   },
   {
    "duration": 489,
    "start_time": "2023-04-02T19:19:29.168Z"
   },
   {
    "duration": 6,
    "start_time": "2023-04-02T19:22:34.563Z"
   },
   {
    "duration": 19,
    "start_time": "2023-04-02T19:22:45.116Z"
   },
   {
    "duration": 382,
    "start_time": "2023-04-02T19:22:45.883Z"
   },
   {
    "duration": 5,
    "start_time": "2023-04-02T19:24:15.337Z"
   },
   {
    "duration": 14,
    "start_time": "2023-04-02T19:24:15.835Z"
   },
   {
    "duration": 332,
    "start_time": "2023-04-02T19:24:16.488Z"
   },
   {
    "duration": 21,
    "start_time": "2023-04-02T19:29:42.688Z"
   },
   {
    "duration": 57,
    "start_time": "2023-04-03T06:58:21.973Z"
   },
   {
    "duration": 1462,
    "start_time": "2023-04-03T06:58:32.785Z"
   },
   {
    "duration": 212,
    "start_time": "2023-04-03T06:58:34.249Z"
   },
   {
    "duration": 4,
    "start_time": "2023-04-03T06:58:34.463Z"
   },
   {
    "duration": 21,
    "start_time": "2023-04-03T06:58:34.468Z"
   },
   {
    "duration": 36,
    "start_time": "2023-04-03T06:58:34.492Z"
   },
   {
    "duration": 17,
    "start_time": "2023-04-03T06:58:34.534Z"
   },
   {
    "duration": 8,
    "start_time": "2023-04-03T06:58:34.553Z"
   },
   {
    "duration": 18,
    "start_time": "2023-04-03T06:58:34.563Z"
   },
   {
    "duration": 809,
    "start_time": "2023-04-03T06:58:34.583Z"
   },
   {
    "duration": 15,
    "start_time": "2023-04-03T06:58:35.394Z"
   },
   {
    "duration": 27,
    "start_time": "2023-04-03T06:58:35.412Z"
   },
   {
    "duration": 10,
    "start_time": "2023-04-03T06:58:35.442Z"
   },
   {
    "duration": 16,
    "start_time": "2023-04-03T06:58:35.454Z"
   },
   {
    "duration": 14,
    "start_time": "2023-04-03T06:58:35.475Z"
   },
   {
    "duration": 23,
    "start_time": "2023-04-03T06:58:35.491Z"
   },
   {
    "duration": 18,
    "start_time": "2023-04-03T06:58:35.516Z"
   },
   {
    "duration": 20,
    "start_time": "2023-04-03T06:58:35.535Z"
   },
   {
    "duration": 20,
    "start_time": "2023-04-03T06:58:35.557Z"
   },
   {
    "duration": 21,
    "start_time": "2023-04-03T06:58:35.579Z"
   },
   {
    "duration": 32,
    "start_time": "2023-04-03T06:58:35.602Z"
   },
   {
    "duration": 5,
    "start_time": "2023-04-03T06:58:35.636Z"
   },
   {
    "duration": 27,
    "start_time": "2023-04-03T06:58:35.643Z"
   },
   {
    "duration": 5,
    "start_time": "2023-04-03T06:58:35.672Z"
   },
   {
    "duration": 180,
    "start_time": "2023-04-03T06:58:35.678Z"
   },
   {
    "duration": 18,
    "start_time": "2023-04-03T06:58:35.860Z"
   },
   {
    "duration": 6,
    "start_time": "2023-04-03T06:58:35.880Z"
   },
   {
    "duration": 9,
    "start_time": "2023-04-03T06:58:35.888Z"
   },
   {
    "duration": 35,
    "start_time": "2023-04-03T06:58:35.898Z"
   },
   {
    "duration": 8,
    "start_time": "2023-04-03T06:58:35.935Z"
   },
   {
    "duration": 13,
    "start_time": "2023-04-03T06:58:35.945Z"
   },
   {
    "duration": 41,
    "start_time": "2023-04-03T06:58:35.961Z"
   },
   {
    "duration": 7,
    "start_time": "2023-04-03T06:58:36.004Z"
   },
   {
    "duration": 194,
    "start_time": "2023-04-03T06:58:36.012Z"
   },
   {
    "duration": 44,
    "start_time": "2023-04-03T06:58:36.207Z"
   },
   {
    "duration": 95,
    "start_time": "2023-04-03T06:58:36.253Z"
   },
   {
    "duration": 320,
    "start_time": "2023-04-03T06:58:36.350Z"
   },
   {
    "duration": 69,
    "start_time": "2023-04-03T06:58:36.672Z"
   },
   {
    "duration": 6019,
    "start_time": "2023-04-03T06:58:36.743Z"
   },
   {
    "duration": 10,
    "start_time": "2023-04-03T06:58:42.764Z"
   },
   {
    "duration": 10,
    "start_time": "2023-04-03T06:58:42.776Z"
   },
   {
    "duration": 16,
    "start_time": "2023-04-03T06:58:42.791Z"
   },
   {
    "duration": 396,
    "start_time": "2023-04-03T06:58:42.809Z"
   },
   {
    "duration": 30,
    "start_time": "2023-04-03T06:58:43.208Z"
   },
   {
    "duration": 10,
    "start_time": "2023-04-03T06:58:43.241Z"
   },
   {
    "duration": 37,
    "start_time": "2023-04-03T06:58:43.254Z"
   },
   {
    "duration": 10,
    "start_time": "2023-04-03T06:58:48.230Z"
   },
   {
    "duration": 76,
    "start_time": "2023-04-03T06:59:36.904Z"
   },
   {
    "duration": 9,
    "start_time": "2023-04-03T06:59:47.530Z"
   },
   {
    "duration": 10,
    "start_time": "2023-04-03T07:01:23.574Z"
   },
   {
    "duration": 10,
    "start_time": "2023-04-03T07:01:37.237Z"
   },
   {
    "duration": 13,
    "start_time": "2023-04-03T07:02:10.871Z"
   },
   {
    "duration": 10,
    "start_time": "2023-04-03T07:08:40.252Z"
   },
   {
    "duration": 18,
    "start_time": "2023-04-03T07:08:41.089Z"
   },
   {
    "duration": 217,
    "start_time": "2023-04-03T07:08:51.675Z"
   },
   {
    "duration": 315,
    "start_time": "2023-04-03T07:09:00.721Z"
   },
   {
    "duration": 216,
    "start_time": "2023-04-03T07:09:05.823Z"
   },
   {
    "duration": 227,
    "start_time": "2023-04-03T07:09:32.321Z"
   },
   {
    "duration": 12,
    "start_time": "2023-04-03T07:14:49.958Z"
   },
   {
    "duration": 13,
    "start_time": "2023-04-03T07:15:02.744Z"
   },
   {
    "duration": 12,
    "start_time": "2023-04-03T07:15:27.637Z"
   },
   {
    "duration": 11,
    "start_time": "2023-04-03T07:15:39.523Z"
   },
   {
    "duration": 11,
    "start_time": "2023-04-03T07:15:40.141Z"
   },
   {
    "duration": 641,
    "start_time": "2023-04-03T07:15:55.221Z"
   },
   {
    "duration": 10,
    "start_time": "2023-04-03T07:19:04.223Z"
   },
   {
    "duration": 11,
    "start_time": "2023-04-03T07:19:19.579Z"
   },
   {
    "duration": 665,
    "start_time": "2023-04-03T07:19:51.888Z"
   },
   {
    "duration": 15,
    "start_time": "2023-04-03T07:22:16.756Z"
   },
   {
    "duration": 22,
    "start_time": "2023-04-03T07:22:26.833Z"
   },
   {
    "duration": 7,
    "start_time": "2023-04-03T07:26:33.365Z"
   },
   {
    "duration": 42,
    "start_time": "2023-04-03T07:27:12.276Z"
   },
   {
    "duration": 315,
    "start_time": "2023-04-03T07:27:27.894Z"
   },
   {
    "duration": 69,
    "start_time": "2023-04-03T07:33:56.669Z"
   },
   {
    "duration": 16,
    "start_time": "2023-04-03T07:34:18.691Z"
   },
   {
    "duration": 16,
    "start_time": "2023-04-03T07:36:58.336Z"
   },
   {
    "duration": 17,
    "start_time": "2023-04-03T07:38:28.587Z"
   },
   {
    "duration": 16,
    "start_time": "2023-04-03T07:44:10.106Z"
   },
   {
    "duration": 74,
    "start_time": "2023-04-03T07:49:00.232Z"
   },
   {
    "duration": 21,
    "start_time": "2023-04-03T07:56:58.301Z"
   },
   {
    "duration": 38,
    "start_time": "2023-04-03T07:57:08.470Z"
   },
   {
    "duration": 169,
    "start_time": "2023-04-03T07:58:25.337Z"
   },
   {
    "duration": 47,
    "start_time": "2023-04-03T08:03:46.860Z"
   },
   {
    "duration": 184,
    "start_time": "2023-04-03T08:04:04.462Z"
   },
   {
    "duration": 1566,
    "start_time": "2023-04-03T08:20:26.729Z"
   },
   {
    "duration": 66,
    "start_time": "2023-04-03T08:20:28.297Z"
   },
   {
    "duration": 6,
    "start_time": "2023-04-03T08:20:28.365Z"
   },
   {
    "duration": 25,
    "start_time": "2023-04-03T08:20:28.375Z"
   },
   {
    "duration": 47,
    "start_time": "2023-04-03T08:20:28.402Z"
   },
   {
    "duration": 27,
    "start_time": "2023-04-03T08:20:28.456Z"
   },
   {
    "duration": 6,
    "start_time": "2023-04-03T08:20:28.485Z"
   },
   {
    "duration": 27,
    "start_time": "2023-04-03T08:20:28.493Z"
   },
   {
    "duration": 798,
    "start_time": "2023-04-03T08:20:28.522Z"
   },
   {
    "duration": 38,
    "start_time": "2023-04-03T08:20:29.324Z"
   },
   {
    "duration": 37,
    "start_time": "2023-04-03T08:20:29.363Z"
   },
   {
    "duration": 11,
    "start_time": "2023-04-03T08:20:29.402Z"
   },
   {
    "duration": 6,
    "start_time": "2023-04-03T08:20:29.414Z"
   },
   {
    "duration": 10,
    "start_time": "2023-04-03T08:20:29.421Z"
   },
   {
    "duration": 47,
    "start_time": "2023-04-03T08:20:29.435Z"
   },
   {
    "duration": 8,
    "start_time": "2023-04-03T08:20:29.484Z"
   },
   {
    "duration": 14,
    "start_time": "2023-04-03T08:20:29.494Z"
   },
   {
    "duration": 12,
    "start_time": "2023-04-03T08:20:29.510Z"
   },
   {
    "duration": 61,
    "start_time": "2023-04-03T08:20:29.524Z"
   },
   {
    "duration": 26,
    "start_time": "2023-04-03T08:20:29.588Z"
   },
   {
    "duration": 4,
    "start_time": "2023-04-03T08:20:29.616Z"
   },
   {
    "duration": 35,
    "start_time": "2023-04-03T08:20:29.622Z"
   },
   {
    "duration": 28,
    "start_time": "2023-04-03T08:20:29.659Z"
   },
   {
    "duration": 213,
    "start_time": "2023-04-03T08:20:29.688Z"
   },
   {
    "duration": 20,
    "start_time": "2023-04-03T08:20:29.903Z"
   },
   {
    "duration": 15,
    "start_time": "2023-04-03T08:20:29.949Z"
   },
   {
    "duration": 19,
    "start_time": "2023-04-03T08:20:29.966Z"
   },
   {
    "duration": 23,
    "start_time": "2023-04-03T08:20:29.991Z"
   },
   {
    "duration": 86,
    "start_time": "2023-04-03T08:20:30.017Z"
   },
   {
    "duration": 105,
    "start_time": "2023-04-03T08:20:30.105Z"
   },
   {
    "duration": 113,
    "start_time": "2023-04-03T08:20:30.212Z"
   },
   {
    "duration": 65,
    "start_time": "2023-04-03T08:20:30.328Z"
   },
   {
    "duration": 289,
    "start_time": "2023-04-03T08:20:30.396Z"
   },
   {
    "duration": 32,
    "start_time": "2023-04-03T08:20:30.687Z"
   },
   {
    "duration": 142,
    "start_time": "2023-04-03T08:20:30.720Z"
   },
   {
    "duration": 334,
    "start_time": "2023-04-03T08:20:30.865Z"
   },
   {
    "duration": 65,
    "start_time": "2023-04-03T08:20:31.201Z"
   },
   {
    "duration": 7061,
    "start_time": "2023-04-03T08:20:31.269Z"
   },
   {
    "duration": 26,
    "start_time": "2023-04-03T08:20:38.332Z"
   },
   {
    "duration": 28,
    "start_time": "2023-04-03T08:20:38.364Z"
   },
   {
    "duration": 24,
    "start_time": "2023-04-03T08:20:38.395Z"
   },
   {
    "duration": 394,
    "start_time": "2023-04-03T08:20:38.421Z"
   },
   {
    "duration": 28,
    "start_time": "2023-04-03T08:20:38.817Z"
   },
   {
    "duration": 27,
    "start_time": "2023-04-03T08:20:38.854Z"
   },
   {
    "duration": 14,
    "start_time": "2023-04-03T08:20:38.883Z"
   },
   {
    "duration": 11,
    "start_time": "2023-04-03T08:20:38.899Z"
   },
   {
    "duration": 11,
    "start_time": "2023-04-03T08:20:38.912Z"
   },
   {
    "duration": 260,
    "start_time": "2023-04-03T08:20:38.925Z"
   },
   {
    "duration": 12,
    "start_time": "2023-04-03T08:20:39.187Z"
   },
   {
    "duration": 14,
    "start_time": "2023-04-03T08:20:39.201Z"
   },
   {
    "duration": 47,
    "start_time": "2023-04-03T08:20:39.216Z"
   },
   {
    "duration": 719,
    "start_time": "2023-04-03T08:20:39.273Z"
   },
   {
    "duration": 22,
    "start_time": "2023-04-03T08:20:39.994Z"
   },
   {
    "duration": 20,
    "start_time": "2023-04-03T08:20:40.019Z"
   },
   {
    "duration": 224,
    "start_time": "2023-04-03T08:20:40.043Z"
   },
   {
    "duration": 352,
    "start_time": "2023-04-03T08:20:40.276Z"
   },
   {
    "duration": 70,
    "start_time": "2023-04-03T08:20:40.630Z"
   },
   {
    "duration": 15,
    "start_time": "2023-04-03T08:20:40.702Z"
   },
   {
    "duration": 43,
    "start_time": "2023-04-03T08:20:40.719Z"
   },
   {
    "duration": 28,
    "start_time": "2023-04-03T08:20:40.766Z"
   },
   {
    "duration": 41,
    "start_time": "2023-04-03T08:20:40.796Z"
   },
   {
    "duration": 188,
    "start_time": "2023-04-03T08:20:40.838Z"
   },
   {
    "duration": 58,
    "start_time": "2023-04-03T08:20:41.028Z"
   },
   {
    "duration": 203,
    "start_time": "2023-04-03T08:20:41.087Z"
   }
  ],
  "colab": {
   "name": "final_project_4.ipynb",
   "provenance": []
  },
  "kernelspec": {
   "display_name": "Python 3 (ipykernel)",
   "language": "python",
   "name": "python3"
  },
  "language_info": {
   "codemirror_mode": {
    "name": "ipython",
    "version": 3
   },
   "file_extension": ".py",
   "mimetype": "text/x-python",
   "name": "python",
   "nbconvert_exporter": "python",
   "pygments_lexer": "ipython3",
   "version": "3.9.12"
  },
  "toc": {
   "base_numbering": 1,
   "nav_menu": {},
   "number_sections": true,
   "sideBar": true,
   "skip_h1_title": true,
   "title_cell": "Содержание",
   "title_sidebar": "Contents",
   "toc_cell": true,
   "toc_position": {
    "height": "calc(100% - 180px)",
    "left": "10px",
    "top": "150px",
    "width": "293.225px"
   },
   "toc_section_display": true,
   "toc_window_display": true
  }
 },
 "nbformat": 4,
 "nbformat_minor": 1
}
