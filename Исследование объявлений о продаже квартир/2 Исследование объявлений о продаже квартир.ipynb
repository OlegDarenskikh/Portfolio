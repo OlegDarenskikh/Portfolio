{
 "cells": [
  {
   "cell_type": "markdown",
   "metadata": {
    "id": "9IuwLXVZuqj3",
    "toc": true
   },
   "source": [
    "<h1>Содержание<span class=\"tocSkip\"></span></h1>\n",
    "<div class=\"toc\"><ul class=\"toc-item\"><li><span><a href=\"#Изучение-данных-из-файла\" data-toc-modified-id=\"Изучение-данных-из-файла-1\"><span class=\"toc-item-num\">1&nbsp;&nbsp;</span>Изучение данных из файла</a></span><ul class=\"toc-item\"><li><span><a href=\"#Вывод\" data-toc-modified-id=\"Вывод-1.1\"><span class=\"toc-item-num\">1.1&nbsp;&nbsp;</span>Вывод</a></span></li></ul></li><li><span><a href=\"#Предобработка-данных\" data-toc-modified-id=\"Предобработка-данных-2\"><span class=\"toc-item-num\">2&nbsp;&nbsp;</span>Предобработка данных</a></span><ul class=\"toc-item\"><li><span><a href=\"#Обработка-пропусков.\" data-toc-modified-id=\"Обработка-пропусков.-2.1\"><span class=\"toc-item-num\">2.1&nbsp;&nbsp;</span>Обработка пропусков.</a></span><ul class=\"toc-item\"><li><span><a href=\"#Пропуски-в-столбце-'ceiling_height'.\" data-toc-modified-id=\"Пропуски-в-столбце-'ceiling_height'.-2.1.1\"><span class=\"toc-item-num\">2.1.1&nbsp;&nbsp;</span>Пропуски в столбце 'ceiling_height'.</a></span></li><li><span><a href=\"#Пропуски-в-столбце-'floors_total'.\" data-toc-modified-id=\"Пропуски-в-столбце-'floors_total'.-2.1.2\"><span class=\"toc-item-num\">2.1.2&nbsp;&nbsp;</span>Пропуски в столбце 'floors_total'.</a></span></li><li><span><a href=\"#Пропуски-в-столбце-'living_area'-и-'kitchen_area'.\" data-toc-modified-id=\"Пропуски-в-столбце-'living_area'-и-'kitchen_area'.-2.1.3\"><span class=\"toc-item-num\">2.1.3&nbsp;&nbsp;</span>Пропуски в столбце 'living_area' и 'kitchen_area'.</a></span></li><li><span><a href=\"#Пропуски-в-столбце-'is_apartment',-'balcony',-'locality_name'.\" data-toc-modified-id=\"Пропуски-в-столбце-'is_apartment',-'balcony',-'locality_name'.-2.1.4\"><span class=\"toc-item-num\">2.1.4&nbsp;&nbsp;</span>Пропуски в столбце 'is_apartment', 'balcony', 'locality_name'.</a></span></li><li><span><a href=\"#Пропуски-в-столбцах-'airports_nearest',-'cityCenters_nearest',-'parks_around3000',-'parks_nearest',-'ponds_around3000',-'ponds_nearest'.\" data-toc-modified-id=\"Пропуски-в-столбцах-'airports_nearest',-'cityCenters_nearest',-'parks_around3000',-'parks_nearest',-'ponds_around3000',-'ponds_nearest'.-2.1.5\"><span class=\"toc-item-num\">2.1.5&nbsp;&nbsp;</span>Пропуски в столбцах 'airports_nearest', 'cityCenters_nearest', 'parks_around3000', 'parks_nearest', 'ponds_around3000', 'ponds_nearest'.</a></span></li><li><span><a href=\"#Пропуски-в-столбце-'days_exposition'.\" data-toc-modified-id=\"Пропуски-в-столбце-'days_exposition'.-2.1.6\"><span class=\"toc-item-num\">2.1.6&nbsp;&nbsp;</span>Пропуски в столбце 'days_exposition'.</a></span></li></ul></li><li><span><a href=\"#Аномалии\" data-toc-modified-id=\"Аномалии-2.2\"><span class=\"toc-item-num\">2.2&nbsp;&nbsp;</span>Аномалии</a></span></li><li><span><a href=\"#Работа-с-дубликатами\" data-toc-modified-id=\"Работа-с-дубликатами-2.3\"><span class=\"toc-item-num\">2.3&nbsp;&nbsp;</span>Работа с дубликатами</a></span></li><li><span><a href=\"#Изменение-типов-данных.\" data-toc-modified-id=\"Изменение-типов-данных.-2.4\"><span class=\"toc-item-num\">2.4&nbsp;&nbsp;</span>Изменение типов данных.</a></span><ul class=\"toc-item\"><li><span><a href=\"#Изменение-типов-данных-в-столбцах-'first_day_exposition'.\" data-toc-modified-id=\"Изменение-типов-данных-в-столбцах-'first_day_exposition'.-2.4.1\"><span class=\"toc-item-num\">2.4.1&nbsp;&nbsp;</span>Изменение типов данных в столбцах 'first_day_exposition'.</a></span></li><li><span><a href=\"#Изменение-типов-данных-в-'floor'\" data-toc-modified-id=\"Изменение-типов-данных-в-'floor'-2.4.2\"><span class=\"toc-item-num\">2.4.2&nbsp;&nbsp;</span>Изменение типов данных в 'floor'</a></span></li></ul></li></ul></li><li><span><a href=\"#Расчёты-и-добавление-результатов-в-таблицу\" data-toc-modified-id=\"Расчёты-и-добавление-результатов-в-таблицу-3\"><span class=\"toc-item-num\">3&nbsp;&nbsp;</span>Расчёты и добавление результатов в таблицу</a></span><ul class=\"toc-item\"><li><ul class=\"toc-item\"><li><span><a href=\"#Расчет-стоимости-квадратного-метра\" data-toc-modified-id=\"Расчет-стоимости-квадратного-метра-3.0.1\"><span class=\"toc-item-num\">3.0.1&nbsp;&nbsp;</span>Расчет стоимости квадратного метра</a></span></li><li><span><a href=\"#Расчет-дня-недели,-месяца-и-года-публикации\" data-toc-modified-id=\"Расчет-дня-недели,-месяца-и-года-публикации-3.0.2\"><span class=\"toc-item-num\">3.0.2&nbsp;&nbsp;</span>Расчет дня недели, месяца и года публикации</a></span></li><li><span><a href=\"#Добавление-типа-этажа-квартиры\" data-toc-modified-id=\"Добавление-типа-этажа-квартиры-3.0.3\"><span class=\"toc-item-num\">3.0.3&nbsp;&nbsp;</span>Добавление типа этажа квартиры</a></span></li><li><span><a href=\"#Расчет-расстояния-до-центра-города\" data-toc-modified-id=\"Расчет-расстояния-до-центра-города-3.0.4\"><span class=\"toc-item-num\">3.0.4&nbsp;&nbsp;</span>Расчет расстояния до центра города</a></span></li><li><span><a href=\"#Cоотношение-жилой-и-общей-площади,-а-также-отношение-площади-кухни-к-общей\" data-toc-modified-id=\"Cоотношение-жилой-и-общей-площади,-а-также-отношение-площади-кухни-к-общей-3.0.5\"><span class=\"toc-item-num\">3.0.5&nbsp;&nbsp;</span>Cоотношение жилой и общей площади, а также отношение площади кухни к общей</a></span></li></ul></li></ul></li><li><span><a href=\"#Исследовательский-анализ-данных\" data-toc-modified-id=\"Исследовательский-анализ-данных-4\"><span class=\"toc-item-num\">4&nbsp;&nbsp;</span>Исследовательский анализ данных</a></span><ul class=\"toc-item\"><li><span><a href=\"#Гистограммы-площадей\" data-toc-modified-id=\"Гистограммы-площадей-4.1\"><span class=\"toc-item-num\">4.1&nbsp;&nbsp;</span>Гистограммы площадей</a></span></li><li><span><a href=\"#Исследование-продолжительности-объявлений\" data-toc-modified-id=\"Исследование-продолжительности-объявлений-4.2\"><span class=\"toc-item-num\">4.2&nbsp;&nbsp;</span>Исследование продолжительности объявлений</a></span></li><li><span><a href=\"#Исследование-факторов-влияющих-на-полную-стоимость-объекта\" data-toc-modified-id=\"Исследование-факторов-влияющих-на-полную-стоимость-объекта-4.3\"><span class=\"toc-item-num\">4.3&nbsp;&nbsp;</span>Исследование факторов влияющих на полную стоимость объекта</a></span></li><li><span><a href=\"#Расчет-средней-цены-одного-квадратного-метра-в-10-населённых-пунктах-с-наибольшим-числом-объявлений\" data-toc-modified-id=\"Расчет-средней-цены-одного-квадратного-метра-в-10-населённых-пунктах-с-наибольшим-числом-объявлений-4.4\"><span class=\"toc-item-num\">4.4&nbsp;&nbsp;</span>Расчет средней цены одного квадратного метра в 10 населённых пунктах с наибольшим числом объявлений</a></span></li><li><span><a href=\"#Средняя-стоимость-квартир-на-каждом-километре-от-центра-города-в-Санкт-Петребурге\" data-toc-modified-id=\"Средняя-стоимость-квартир-на-каждом-километре-от-центра-города-в-Санкт-Петребурге-4.5\"><span class=\"toc-item-num\">4.5&nbsp;&nbsp;</span>Средняя стоимость квартир на каждом километре от центра города в Санкт-Петребурге</a></span></li></ul></li><li><span><a href=\"#Общий-вывод\" data-toc-modified-id=\"Общий-вывод-5\"><span class=\"toc-item-num\">5&nbsp;&nbsp;</span>Общий вывод</a></span></li></ul></div>"
   ]
  },
  {
   "cell_type": "markdown",
   "metadata": {
    "id": "DXAjMMWduqj6"
   },
   "source": [
    "# Исследование объявлений о продаже квартир\n",
    "\n",
    "В вашем распоряжении данные сервиса Яндекc Недвижимость — архив объявлений о продаже квартир в Санкт-Петербурге и соседних населённых пунктах за несколько лет. Нужно научиться определять рыночную стоимость объектов недвижимости. Ваша задача — установить параметры. Это позволит построить автоматизированную систему: она отследит аномалии и мошенническую деятельность. \n",
    "\n",
    "По каждой квартире на продажу доступны два вида данных. Первые вписаны пользователем, вторые получены автоматически на основе картографических данных. Например, расстояние до центра, аэропорта, ближайшего парка и водоёма. "
   ]
  },
  {
   "cell_type": "markdown",
   "metadata": {},
   "source": [
    "Задание выполняется для сервиса Яндекс.Недвижимость. Наша задача - установить параметры. Для построения автоматизированной системы, что бы отслеживать аномалии и мошеннеческую деятельность.\n",
    "\n",
    "Для этого решим следующие задачи:\n",
    "* Исследуем и предобработаем данные.\n",
    "* Рассчитаем для датафрейма следующие показетли - цену квадратного метра, дату публикации объявления, этаж квартиры, соотношение жилой и общей площади, а также отношение площади кухник к общей.\n",
    "* Проведем исследование для установления параметров."
   ]
  },
  {
   "cell_type": "markdown",
   "metadata": {
    "id": "F5HAJRCruqj6"
   },
   "source": [
    "## Изучение данных из файла"
   ]
  },
  {
   "cell_type": "code",
   "execution_count": 1,
   "metadata": {
    "id": "VlvJUJqCuqj7"
   },
   "outputs": [],
   "source": [
    "import pandas as pd\n",
    "import seaborn as sns\n",
    "import matplotlib.pyplot as plt\n",
    "import numpy as np"
   ]
  },
  {
   "cell_type": "code",
   "execution_count": 2,
   "metadata": {},
   "outputs": [],
   "source": [
    "try:\n",
    "    df = pd.read_csv('/datasets/real_estate_data.csv',sep='\\t')\n",
    "except:\n",
    "    df = pd.read_csv('https://code.s3.yandex.net/datasets/real_estate_data.csv',sep='\\t')"
   ]
  },
  {
   "cell_type": "code",
   "execution_count": 3,
   "metadata": {
    "scrolled": true
   },
   "outputs": [
    {
     "name": "stdout",
     "output_type": "stream",
     "text": [
      "<class 'pandas.core.frame.DataFrame'>\n",
      "RangeIndex: 23699 entries, 0 to 23698\n",
      "Data columns (total 22 columns):\n",
      " #   Column                Non-Null Count  Dtype  \n",
      "---  ------                --------------  -----  \n",
      " 0   total_images          23699 non-null  int64  \n",
      " 1   last_price            23699 non-null  float64\n",
      " 2   total_area            23699 non-null  float64\n",
      " 3   first_day_exposition  23699 non-null  object \n",
      " 4   rooms                 23699 non-null  int64  \n",
      " 5   ceiling_height        14504 non-null  float64\n",
      " 6   floors_total          23613 non-null  float64\n",
      " 7   living_area           21796 non-null  float64\n",
      " 8   floor                 23699 non-null  int64  \n",
      " 9   is_apartment          2775 non-null   object \n",
      " 10  studio                23699 non-null  bool   \n",
      " 11  open_plan             23699 non-null  bool   \n",
      " 12  kitchen_area          21421 non-null  float64\n",
      " 13  balcony               12180 non-null  float64\n",
      " 14  locality_name         23650 non-null  object \n",
      " 15  airports_nearest      18157 non-null  float64\n",
      " 16  cityCenters_nearest   18180 non-null  float64\n",
      " 17  parks_around3000      18181 non-null  float64\n",
      " 18  parks_nearest         8079 non-null   float64\n",
      " 19  ponds_around3000      18181 non-null  float64\n",
      " 20  ponds_nearest         9110 non-null   float64\n",
      " 21  days_exposition       20518 non-null  float64\n",
      "dtypes: bool(2), float64(14), int64(3), object(3)\n",
      "memory usage: 3.7+ MB\n"
     ]
    }
   ],
   "source": [
    "df.info()"
   ]
  },
  {
   "cell_type": "code",
   "execution_count": 4,
   "metadata": {},
   "outputs": [],
   "source": [
    "pd.set_option('display.max_columns', 50)"
   ]
  },
  {
   "cell_type": "code",
   "execution_count": 5,
   "metadata": {
    "scrolled": true
   },
   "outputs": [
    {
     "data": {
      "text/html": [
       "<div>\n",
       "<style scoped>\n",
       "    .dataframe tbody tr th:only-of-type {\n",
       "        vertical-align: middle;\n",
       "    }\n",
       "\n",
       "    .dataframe tbody tr th {\n",
       "        vertical-align: top;\n",
       "    }\n",
       "\n",
       "    .dataframe thead th {\n",
       "        text-align: right;\n",
       "    }\n",
       "</style>\n",
       "<table border=\"1\" class=\"dataframe\">\n",
       "  <thead>\n",
       "    <tr style=\"text-align: right;\">\n",
       "      <th></th>\n",
       "      <th>total_images</th>\n",
       "      <th>last_price</th>\n",
       "      <th>total_area</th>\n",
       "      <th>first_day_exposition</th>\n",
       "      <th>rooms</th>\n",
       "      <th>ceiling_height</th>\n",
       "      <th>floors_total</th>\n",
       "      <th>living_area</th>\n",
       "      <th>floor</th>\n",
       "      <th>is_apartment</th>\n",
       "      <th>studio</th>\n",
       "      <th>open_plan</th>\n",
       "      <th>kitchen_area</th>\n",
       "      <th>balcony</th>\n",
       "      <th>locality_name</th>\n",
       "      <th>airports_nearest</th>\n",
       "      <th>cityCenters_nearest</th>\n",
       "      <th>parks_around3000</th>\n",
       "      <th>parks_nearest</th>\n",
       "      <th>ponds_around3000</th>\n",
       "      <th>ponds_nearest</th>\n",
       "      <th>days_exposition</th>\n",
       "    </tr>\n",
       "  </thead>\n",
       "  <tbody>\n",
       "    <tr>\n",
       "      <th>0</th>\n",
       "      <td>20</td>\n",
       "      <td>13000000.0</td>\n",
       "      <td>108.0</td>\n",
       "      <td>2019-03-07T00:00:00</td>\n",
       "      <td>3</td>\n",
       "      <td>2.70</td>\n",
       "      <td>16.0</td>\n",
       "      <td>51.0</td>\n",
       "      <td>8</td>\n",
       "      <td>NaN</td>\n",
       "      <td>False</td>\n",
       "      <td>False</td>\n",
       "      <td>25.0</td>\n",
       "      <td>NaN</td>\n",
       "      <td>Санкт-Петербург</td>\n",
       "      <td>18863.0</td>\n",
       "      <td>16028.0</td>\n",
       "      <td>1.0</td>\n",
       "      <td>482.0</td>\n",
       "      <td>2.0</td>\n",
       "      <td>755.0</td>\n",
       "      <td>NaN</td>\n",
       "    </tr>\n",
       "    <tr>\n",
       "      <th>1</th>\n",
       "      <td>7</td>\n",
       "      <td>3350000.0</td>\n",
       "      <td>40.4</td>\n",
       "      <td>2018-12-04T00:00:00</td>\n",
       "      <td>1</td>\n",
       "      <td>NaN</td>\n",
       "      <td>11.0</td>\n",
       "      <td>18.6</td>\n",
       "      <td>1</td>\n",
       "      <td>NaN</td>\n",
       "      <td>False</td>\n",
       "      <td>False</td>\n",
       "      <td>11.0</td>\n",
       "      <td>2.0</td>\n",
       "      <td>посёлок Шушары</td>\n",
       "      <td>12817.0</td>\n",
       "      <td>18603.0</td>\n",
       "      <td>0.0</td>\n",
       "      <td>NaN</td>\n",
       "      <td>0.0</td>\n",
       "      <td>NaN</td>\n",
       "      <td>81.0</td>\n",
       "    </tr>\n",
       "    <tr>\n",
       "      <th>2</th>\n",
       "      <td>10</td>\n",
       "      <td>5196000.0</td>\n",
       "      <td>56.0</td>\n",
       "      <td>2015-08-20T00:00:00</td>\n",
       "      <td>2</td>\n",
       "      <td>NaN</td>\n",
       "      <td>5.0</td>\n",
       "      <td>34.3</td>\n",
       "      <td>4</td>\n",
       "      <td>NaN</td>\n",
       "      <td>False</td>\n",
       "      <td>False</td>\n",
       "      <td>8.3</td>\n",
       "      <td>0.0</td>\n",
       "      <td>Санкт-Петербург</td>\n",
       "      <td>21741.0</td>\n",
       "      <td>13933.0</td>\n",
       "      <td>1.0</td>\n",
       "      <td>90.0</td>\n",
       "      <td>2.0</td>\n",
       "      <td>574.0</td>\n",
       "      <td>558.0</td>\n",
       "    </tr>\n",
       "    <tr>\n",
       "      <th>3</th>\n",
       "      <td>0</td>\n",
       "      <td>64900000.0</td>\n",
       "      <td>159.0</td>\n",
       "      <td>2015-07-24T00:00:00</td>\n",
       "      <td>3</td>\n",
       "      <td>NaN</td>\n",
       "      <td>14.0</td>\n",
       "      <td>NaN</td>\n",
       "      <td>9</td>\n",
       "      <td>NaN</td>\n",
       "      <td>False</td>\n",
       "      <td>False</td>\n",
       "      <td>NaN</td>\n",
       "      <td>0.0</td>\n",
       "      <td>Санкт-Петербург</td>\n",
       "      <td>28098.0</td>\n",
       "      <td>6800.0</td>\n",
       "      <td>2.0</td>\n",
       "      <td>84.0</td>\n",
       "      <td>3.0</td>\n",
       "      <td>234.0</td>\n",
       "      <td>424.0</td>\n",
       "    </tr>\n",
       "    <tr>\n",
       "      <th>4</th>\n",
       "      <td>2</td>\n",
       "      <td>10000000.0</td>\n",
       "      <td>100.0</td>\n",
       "      <td>2018-06-19T00:00:00</td>\n",
       "      <td>2</td>\n",
       "      <td>3.03</td>\n",
       "      <td>14.0</td>\n",
       "      <td>32.0</td>\n",
       "      <td>13</td>\n",
       "      <td>NaN</td>\n",
       "      <td>False</td>\n",
       "      <td>False</td>\n",
       "      <td>41.0</td>\n",
       "      <td>NaN</td>\n",
       "      <td>Санкт-Петербург</td>\n",
       "      <td>31856.0</td>\n",
       "      <td>8098.0</td>\n",
       "      <td>2.0</td>\n",
       "      <td>112.0</td>\n",
       "      <td>1.0</td>\n",
       "      <td>48.0</td>\n",
       "      <td>121.0</td>\n",
       "    </tr>\n",
       "  </tbody>\n",
       "</table>\n",
       "</div>"
      ],
      "text/plain": [
       "   total_images  last_price  total_area first_day_exposition  rooms  \\\n",
       "0            20  13000000.0       108.0  2019-03-07T00:00:00      3   \n",
       "1             7   3350000.0        40.4  2018-12-04T00:00:00      1   \n",
       "2            10   5196000.0        56.0  2015-08-20T00:00:00      2   \n",
       "3             0  64900000.0       159.0  2015-07-24T00:00:00      3   \n",
       "4             2  10000000.0       100.0  2018-06-19T00:00:00      2   \n",
       "\n",
       "   ceiling_height  floors_total  living_area  floor is_apartment  studio  \\\n",
       "0            2.70          16.0         51.0      8          NaN   False   \n",
       "1             NaN          11.0         18.6      1          NaN   False   \n",
       "2             NaN           5.0         34.3      4          NaN   False   \n",
       "3             NaN          14.0          NaN      9          NaN   False   \n",
       "4            3.03          14.0         32.0     13          NaN   False   \n",
       "\n",
       "   open_plan  kitchen_area  balcony    locality_name  airports_nearest  \\\n",
       "0      False          25.0      NaN  Санкт-Петербург           18863.0   \n",
       "1      False          11.0      2.0   посёлок Шушары           12817.0   \n",
       "2      False           8.3      0.0  Санкт-Петербург           21741.0   \n",
       "3      False           NaN      0.0  Санкт-Петербург           28098.0   \n",
       "4      False          41.0      NaN  Санкт-Петербург           31856.0   \n",
       "\n",
       "   cityCenters_nearest  parks_around3000  parks_nearest  ponds_around3000  \\\n",
       "0              16028.0               1.0          482.0               2.0   \n",
       "1              18603.0               0.0            NaN               0.0   \n",
       "2              13933.0               1.0           90.0               2.0   \n",
       "3               6800.0               2.0           84.0               3.0   \n",
       "4               8098.0               2.0          112.0               1.0   \n",
       "\n",
       "   ponds_nearest  days_exposition  \n",
       "0          755.0              NaN  \n",
       "1            NaN             81.0  \n",
       "2          574.0            558.0  \n",
       "3          234.0            424.0  \n",
       "4           48.0            121.0  "
      ]
     },
     "execution_count": 5,
     "metadata": {},
     "output_type": "execute_result"
    }
   ],
   "source": [
    "df.head()"
   ]
  },
  {
   "cell_type": "markdown",
   "metadata": {},
   "source": [
    "В датафрейме 22 столбца. Типы данных - в 3-х столбцаз `int64`, в 14-ти столбцах `float64`, в 3-х столбцах `object`, в 2-х столбцах `bool`.\n",
    "\n",
    "* `airports_nearest` — расстояние до ближайшего аэропорта в метрах (м);\n",
    "* `balcony` — число балконов;\n",
    "* `ceiling_height` — высота потолков (м);\n",
    "* `cityCenters_nearest` — расстояние до центра города (м);\n",
    "* `days_exposition` — сколько дней было размещено объявление (от публикации до снятия);\n",
    "* `first_day_exposition` — дата публикации;\n",
    "* `floor` — этаж;\n",
    "* `floors_total` — всего этажей в доме;\n",
    "* `is_apartment` — апартаменты (булев тип);\n",
    "* `kitchen_area` — площадь кухни в квадратных метрах (м²);\n",
    "* `last_price` — цена на момент снятия с публикации;\n",
    "* `iving_area` — жилая площадь в квадратных метрах (м²);\n",
    "* `locality_name` — название населённого пункта;\n",
    "* `open_plan` — свободная планировка (булев тип);\n",
    "* `parks_around3000` — число парков в радиусе 3 км;\n",
    "* `parks_nearest` — расстояние до ближайшего парка (м);\n",
    "* `ponds_around3000` — число водоёмов в радиусе 3 км;\n",
    "* `ponds_nearest` — расстояние до ближайшего водоёма (м);\n",
    "* `rooms` — число комнат;\n",
    "* `studio` — квартира-студия (булев тип);\n",
    "* `total_area` — площадь квартиры в квадратных метрах (м²);\n",
    "* `total_images` — число фотографий квартиры в объявлении.\n",
    "\n",
    "В колонке `cityCenters_nearest` другой стиль.\n",
    "\n",
    "Количество данных в колонках различается, значит могут быть пропуски."
   ]
  },
  {
   "cell_type": "code",
   "execution_count": 6,
   "metadata": {
    "scrolled": false
   },
   "outputs": [
    {
     "data": {
      "text/html": [
       "<div>\n",
       "<style scoped>\n",
       "    .dataframe tbody tr th:only-of-type {\n",
       "        vertical-align: middle;\n",
       "    }\n",
       "\n",
       "    .dataframe tbody tr th {\n",
       "        vertical-align: top;\n",
       "    }\n",
       "\n",
       "    .dataframe thead th {\n",
       "        text-align: right;\n",
       "    }\n",
       "</style>\n",
       "<table border=\"1\" class=\"dataframe\">\n",
       "  <thead>\n",
       "    <tr style=\"text-align: right;\">\n",
       "      <th></th>\n",
       "      <th>count</th>\n",
       "      <th>mean</th>\n",
       "      <th>std</th>\n",
       "      <th>min</th>\n",
       "      <th>25%</th>\n",
       "      <th>50%</th>\n",
       "      <th>75%</th>\n",
       "      <th>max</th>\n",
       "    </tr>\n",
       "  </thead>\n",
       "  <tbody>\n",
       "    <tr>\n",
       "      <th>total_images</th>\n",
       "      <td>23699.0</td>\n",
       "      <td>9.86</td>\n",
       "      <td>5.68</td>\n",
       "      <td>0.0</td>\n",
       "      <td>6.00</td>\n",
       "      <td>9.00</td>\n",
       "      <td>14.0</td>\n",
       "      <td>50.0</td>\n",
       "    </tr>\n",
       "    <tr>\n",
       "      <th>last_price</th>\n",
       "      <td>23699.0</td>\n",
       "      <td>6541548.77</td>\n",
       "      <td>10887013.27</td>\n",
       "      <td>12190.0</td>\n",
       "      <td>3400000.00</td>\n",
       "      <td>4650000.00</td>\n",
       "      <td>6800000.0</td>\n",
       "      <td>763000000.0</td>\n",
       "    </tr>\n",
       "    <tr>\n",
       "      <th>total_area</th>\n",
       "      <td>23699.0</td>\n",
       "      <td>60.35</td>\n",
       "      <td>35.65</td>\n",
       "      <td>12.0</td>\n",
       "      <td>40.00</td>\n",
       "      <td>52.00</td>\n",
       "      <td>69.9</td>\n",
       "      <td>900.0</td>\n",
       "    </tr>\n",
       "    <tr>\n",
       "      <th>rooms</th>\n",
       "      <td>23699.0</td>\n",
       "      <td>2.07</td>\n",
       "      <td>1.08</td>\n",
       "      <td>0.0</td>\n",
       "      <td>1.00</td>\n",
       "      <td>2.00</td>\n",
       "      <td>3.0</td>\n",
       "      <td>19.0</td>\n",
       "    </tr>\n",
       "    <tr>\n",
       "      <th>ceiling_height</th>\n",
       "      <td>14504.0</td>\n",
       "      <td>2.77</td>\n",
       "      <td>1.26</td>\n",
       "      <td>1.0</td>\n",
       "      <td>2.52</td>\n",
       "      <td>2.65</td>\n",
       "      <td>2.8</td>\n",
       "      <td>100.0</td>\n",
       "    </tr>\n",
       "    <tr>\n",
       "      <th>floors_total</th>\n",
       "      <td>23613.0</td>\n",
       "      <td>10.67</td>\n",
       "      <td>6.60</td>\n",
       "      <td>1.0</td>\n",
       "      <td>5.00</td>\n",
       "      <td>9.00</td>\n",
       "      <td>16.0</td>\n",
       "      <td>60.0</td>\n",
       "    </tr>\n",
       "    <tr>\n",
       "      <th>living_area</th>\n",
       "      <td>21796.0</td>\n",
       "      <td>34.46</td>\n",
       "      <td>22.03</td>\n",
       "      <td>2.0</td>\n",
       "      <td>18.60</td>\n",
       "      <td>30.00</td>\n",
       "      <td>42.3</td>\n",
       "      <td>409.7</td>\n",
       "    </tr>\n",
       "    <tr>\n",
       "      <th>floor</th>\n",
       "      <td>23699.0</td>\n",
       "      <td>5.89</td>\n",
       "      <td>4.89</td>\n",
       "      <td>1.0</td>\n",
       "      <td>2.00</td>\n",
       "      <td>4.00</td>\n",
       "      <td>8.0</td>\n",
       "      <td>33.0</td>\n",
       "    </tr>\n",
       "    <tr>\n",
       "      <th>kitchen_area</th>\n",
       "      <td>21421.0</td>\n",
       "      <td>10.57</td>\n",
       "      <td>5.91</td>\n",
       "      <td>1.3</td>\n",
       "      <td>7.00</td>\n",
       "      <td>9.10</td>\n",
       "      <td>12.0</td>\n",
       "      <td>112.0</td>\n",
       "    </tr>\n",
       "    <tr>\n",
       "      <th>balcony</th>\n",
       "      <td>12180.0</td>\n",
       "      <td>1.15</td>\n",
       "      <td>1.07</td>\n",
       "      <td>0.0</td>\n",
       "      <td>0.00</td>\n",
       "      <td>1.00</td>\n",
       "      <td>2.0</td>\n",
       "      <td>5.0</td>\n",
       "    </tr>\n",
       "    <tr>\n",
       "      <th>airports_nearest</th>\n",
       "      <td>18157.0</td>\n",
       "      <td>28793.67</td>\n",
       "      <td>12630.88</td>\n",
       "      <td>0.0</td>\n",
       "      <td>18585.00</td>\n",
       "      <td>26726.00</td>\n",
       "      <td>37273.0</td>\n",
       "      <td>84869.0</td>\n",
       "    </tr>\n",
       "    <tr>\n",
       "      <th>cityCenters_nearest</th>\n",
       "      <td>18180.0</td>\n",
       "      <td>14191.28</td>\n",
       "      <td>8608.39</td>\n",
       "      <td>181.0</td>\n",
       "      <td>9238.00</td>\n",
       "      <td>13098.50</td>\n",
       "      <td>16293.0</td>\n",
       "      <td>65968.0</td>\n",
       "    </tr>\n",
       "    <tr>\n",
       "      <th>parks_around3000</th>\n",
       "      <td>18181.0</td>\n",
       "      <td>0.61</td>\n",
       "      <td>0.80</td>\n",
       "      <td>0.0</td>\n",
       "      <td>0.00</td>\n",
       "      <td>0.00</td>\n",
       "      <td>1.0</td>\n",
       "      <td>3.0</td>\n",
       "    </tr>\n",
       "    <tr>\n",
       "      <th>parks_nearest</th>\n",
       "      <td>8079.0</td>\n",
       "      <td>490.80</td>\n",
       "      <td>342.32</td>\n",
       "      <td>1.0</td>\n",
       "      <td>288.00</td>\n",
       "      <td>455.00</td>\n",
       "      <td>612.0</td>\n",
       "      <td>3190.0</td>\n",
       "    </tr>\n",
       "    <tr>\n",
       "      <th>ponds_around3000</th>\n",
       "      <td>18181.0</td>\n",
       "      <td>0.77</td>\n",
       "      <td>0.94</td>\n",
       "      <td>0.0</td>\n",
       "      <td>0.00</td>\n",
       "      <td>1.00</td>\n",
       "      <td>1.0</td>\n",
       "      <td>3.0</td>\n",
       "    </tr>\n",
       "    <tr>\n",
       "      <th>ponds_nearest</th>\n",
       "      <td>9110.0</td>\n",
       "      <td>517.98</td>\n",
       "      <td>277.72</td>\n",
       "      <td>13.0</td>\n",
       "      <td>294.00</td>\n",
       "      <td>502.00</td>\n",
       "      <td>729.0</td>\n",
       "      <td>1344.0</td>\n",
       "    </tr>\n",
       "    <tr>\n",
       "      <th>days_exposition</th>\n",
       "      <td>20518.0</td>\n",
       "      <td>180.89</td>\n",
       "      <td>219.73</td>\n",
       "      <td>1.0</td>\n",
       "      <td>45.00</td>\n",
       "      <td>95.00</td>\n",
       "      <td>232.0</td>\n",
       "      <td>1580.0</td>\n",
       "    </tr>\n",
       "  </tbody>\n",
       "</table>\n",
       "</div>"
      ],
      "text/plain": [
       "                       count        mean          std      min         25%  \\\n",
       "total_images         23699.0        9.86         5.68      0.0        6.00   \n",
       "last_price           23699.0  6541548.77  10887013.27  12190.0  3400000.00   \n",
       "total_area           23699.0       60.35        35.65     12.0       40.00   \n",
       "rooms                23699.0        2.07         1.08      0.0        1.00   \n",
       "ceiling_height       14504.0        2.77         1.26      1.0        2.52   \n",
       "floors_total         23613.0       10.67         6.60      1.0        5.00   \n",
       "living_area          21796.0       34.46        22.03      2.0       18.60   \n",
       "floor                23699.0        5.89         4.89      1.0        2.00   \n",
       "kitchen_area         21421.0       10.57         5.91      1.3        7.00   \n",
       "balcony              12180.0        1.15         1.07      0.0        0.00   \n",
       "airports_nearest     18157.0    28793.67     12630.88      0.0    18585.00   \n",
       "cityCenters_nearest  18180.0    14191.28      8608.39    181.0     9238.00   \n",
       "parks_around3000     18181.0        0.61         0.80      0.0        0.00   \n",
       "parks_nearest         8079.0      490.80       342.32      1.0      288.00   \n",
       "ponds_around3000     18181.0        0.77         0.94      0.0        0.00   \n",
       "ponds_nearest         9110.0      517.98       277.72     13.0      294.00   \n",
       "days_exposition      20518.0      180.89       219.73      1.0       45.00   \n",
       "\n",
       "                            50%        75%          max  \n",
       "total_images               9.00       14.0         50.0  \n",
       "last_price           4650000.00  6800000.0  763000000.0  \n",
       "total_area                52.00       69.9        900.0  \n",
       "rooms                      2.00        3.0         19.0  \n",
       "ceiling_height             2.65        2.8        100.0  \n",
       "floors_total               9.00       16.0         60.0  \n",
       "living_area               30.00       42.3        409.7  \n",
       "floor                      4.00        8.0         33.0  \n",
       "kitchen_area               9.10       12.0        112.0  \n",
       "balcony                    1.00        2.0          5.0  \n",
       "airports_nearest       26726.00    37273.0      84869.0  \n",
       "cityCenters_nearest    13098.50    16293.0      65968.0  \n",
       "parks_around3000           0.00        1.0          3.0  \n",
       "parks_nearest            455.00      612.0       3190.0  \n",
       "ponds_around3000           1.00        1.0          3.0  \n",
       "ponds_nearest            502.00      729.0       1344.0  \n",
       "days_exposition           95.00      232.0       1580.0  "
      ]
     },
     "execution_count": 6,
     "metadata": {},
     "output_type": "execute_result"
    }
   ],
   "source": [
    "df.describe().T.round(2)"
   ]
  },
  {
   "cell_type": "markdown",
   "metadata": {},
   "source": [
    "Здесь уже видны аномальные значения данных, которыми мы займемся в будущем."
   ]
  },
  {
   "cell_type": "code",
   "execution_count": 7,
   "metadata": {},
   "outputs": [
    {
     "data": {
      "text/plain": [
       "array([[<AxesSubplot:title={'center':'total_images'}>,\n",
       "        <AxesSubplot:title={'center':'last_price'}>,\n",
       "        <AxesSubplot:title={'center':'total_area'}>,\n",
       "        <AxesSubplot:title={'center':'rooms'}>],\n",
       "       [<AxesSubplot:title={'center':'ceiling_height'}>,\n",
       "        <AxesSubplot:title={'center':'floors_total'}>,\n",
       "        <AxesSubplot:title={'center':'living_area'}>,\n",
       "        <AxesSubplot:title={'center':'floor'}>],\n",
       "       [<AxesSubplot:title={'center':'kitchen_area'}>,\n",
       "        <AxesSubplot:title={'center':'balcony'}>,\n",
       "        <AxesSubplot:title={'center':'airports_nearest'}>,\n",
       "        <AxesSubplot:title={'center':'cityCenters_nearest'}>],\n",
       "       [<AxesSubplot:title={'center':'parks_around3000'}>,\n",
       "        <AxesSubplot:title={'center':'parks_nearest'}>,\n",
       "        <AxesSubplot:title={'center':'ponds_around3000'}>,\n",
       "        <AxesSubplot:title={'center':'ponds_nearest'}>],\n",
       "       [<AxesSubplot:title={'center':'days_exposition'}>, <AxesSubplot:>,\n",
       "        <AxesSubplot:>, <AxesSubplot:>]], dtype=object)"
      ]
     },
     "execution_count": 7,
     "metadata": {},
     "output_type": "execute_result"
    },
    {
     "data": {
      "image/png": "[encoded data removed]",
      "text/plain": [
       "<Figure size 1080x1584 with 20 Axes>"
      ]
     },
     "metadata": {
      "needs_background": "light"
     },
     "output_type": "display_data"
    }
   ],
   "source": [
    "df.hist(figsize=(15, 22))"
   ]
  },
  {
   "cell_type": "markdown",
   "metadata": {},
   "source": [
    "Из этой таблицы видно, что:\n",
    "1) У нас есть серьезный разброс данных в столбцах;\n",
    "\n",
    "2) Есть подозрительные минимальные значения - 0 комнат, 1,2 м жилой площади и т.д;\n",
    "\n",
    "3) Есть подозрительные максимальные значения - высота потолков 100м.\n",
    "\n",
    "4) В таблице нет отрицательных значений, ошибок при выгрузке небыло."
   ]
  },
  {
   "cell_type": "markdown",
   "metadata": {
    "id": "9L3e0rs2uqj7"
   },
   "source": [
    "### Вывод"
   ]
  },
  {
   "cell_type": "markdown",
   "metadata": {
    "id": "xL2blF_Euqj8"
   },
   "source": [
    "Для того, что бы начать работатьс с данными нам будет необходимо их предобработать:\n",
    "\n",
    "1) Проверить и возможно заполнить пропуски в столбцах.\n",
    "\n",
    "2) Проверить и исправить аномалии в данных.\n",
    "\n",
    "3) Проверить типы данных.\n",
    "\n",
    "4) Проверить и удалить дубликаты."
   ]
  },
  {
   "cell_type": "code",
   "execution_count": 8,
   "metadata": {},
   "outputs": [
    {
     "data": {
      "text/html": [
       "<div>\n",
       "<style scoped>\n",
       "    .dataframe tbody tr th:only-of-type {\n",
       "        vertical-align: middle;\n",
       "    }\n",
       "\n",
       "    .dataframe tbody tr th {\n",
       "        vertical-align: top;\n",
       "    }\n",
       "\n",
       "    .dataframe thead th {\n",
       "        text-align: right;\n",
       "    }\n",
       "</style>\n",
       "<table border=\"1\" class=\"dataframe\">\n",
       "  <thead>\n",
       "    <tr style=\"text-align: right;\">\n",
       "      <th>first_day_year</th>\n",
       "      <th>2014</th>\n",
       "      <th>2015</th>\n",
       "      <th>2016</th>\n",
       "      <th>2017</th>\n",
       "      <th>2018</th>\n",
       "      <th>2019</th>\n",
       "    </tr>\n",
       "  </thead>\n",
       "  <tbody>\n",
       "    <tr>\n",
       "      <th>total_area</th>\n",
       "      <td>18</td>\n",
       "      <td>70</td>\n",
       "      <td>67</td>\n",
       "      <td>271</td>\n",
       "      <td>959</td>\n",
       "      <td>1796</td>\n",
       "    </tr>\n",
       "  </tbody>\n",
       "</table>\n",
       "</div>"
      ],
      "text/plain": [
       "first_day_year  2014  2015  2016  2017  2018  2019\n",
       "total_area        18    70    67   271   959  1796"
      ]
     },
     "execution_count": 8,
     "metadata": {},
     "output_type": "execute_result"
    }
   ],
   "source": [
    "# код ревьюера \n",
    "import datetime as dt\n",
    "\n",
    "df['first_day_exposition'] = pd.to_datetime(df['first_day_exposition'], format='%Y-%m-%dT%H:%M:%S')\n",
    "df['first_day_year'] = df['first_day_exposition'].dt.year\n",
    "df[df['days_exposition'].isnull()].pivot_table(columns = 'first_day_year', values = 'total_area', aggfunc = 'count')"
   ]
  },
  {
   "cell_type": "markdown",
   "metadata": {
    "id": "r6n1CZDuuqj8"
   },
   "source": [
    "## Предобработка данных"
   ]
  },
  {
   "cell_type": "code",
   "execution_count": 9,
   "metadata": {
    "id": "F9Pk0zxGuqj8"
   },
   "outputs": [
    {
     "data": {
      "text/plain": [
       "total_images                0\n",
       "last_price                  0\n",
       "total_area                  0\n",
       "first_day_exposition        0\n",
       "rooms                       0\n",
       "ceiling_height           9195\n",
       "floors_total               86\n",
       "living_area              1903\n",
       "floor                       0\n",
       "is_apartment            20924\n",
       "studio                      0\n",
       "open_plan                   0\n",
       "kitchen_area             2278\n",
       "balcony                 11519\n",
       "locality_name              49\n",
       "airports_nearest         5542\n",
       "cityCenters_nearest      5519\n",
       "parks_around3000         5518\n",
       "parks_nearest           15620\n",
       "ponds_around3000         5518\n",
       "ponds_nearest           14589\n",
       "days_exposition          3181\n",
       "first_day_year              0\n",
       "dtype: int64"
      ]
     },
     "execution_count": 9,
     "metadata": {},
     "output_type": "execute_result"
    }
   ],
   "source": [
    "### Подсчитаем количество пропусков в каждом столбце.\n",
    "\n",
    "df.isna().sum()"
   ]
  },
  {
   "cell_type": "markdown",
   "metadata": {},
   "source": [
    "Количество прпусков различаются, кроме столбцов 'parks_around3000' и 'pounds_around3000'. Что означает, в каждом столбце такие природа пропусков уникальна."
   ]
  },
  {
   "cell_type": "markdown",
   "metadata": {},
   "source": [
    "### Обработка пропусков."
   ]
  },
  {
   "cell_type": "code",
   "execution_count": 10,
   "metadata": {
    "scrolled": false
   },
   "outputs": [
    {
     "name": "stdout",
     "output_type": "stream",
     "text": [
      "total_images - 0%\n",
      "last_price - 0%\n",
      "total_area - 0%\n",
      "first_day_exposition - 0%\n",
      "rooms - 0%\n",
      "ceiling_height - 39%\n",
      "floors_total - 0%\n",
      "living_area - 8%\n",
      "floor - 0%\n",
      "is_apartment - 88%\n",
      "studio - 0%\n",
      "open_plan - 0%\n",
      "kitchen_area - 10%\n",
      "balcony - 49%\n",
      "locality_name - 0%\n",
      "airports_nearest - 23%\n",
      "cityCenters_nearest - 23%\n",
      "parks_around3000 - 23%\n",
      "parks_nearest - 66%\n",
      "ponds_around3000 - 23%\n",
      "ponds_nearest - 62%\n",
      "days_exposition - 13%\n",
      "first_day_year - 0%\n"
     ]
    },
    {
     "data": {
      "image/png": "[encoded data removed]",
      "text/plain": [
       "<Figure size 432x288 with 2 Axes>"
      ]
     },
     "metadata": {
      "needs_background": "light"
     },
     "output_type": "display_data"
    }
   ],
   "source": [
    "#С помощью этого графика оценим количество пропущенных значений в каждом столбце.\n",
    "\n",
    "cols = df.columns[:22] \n",
    "colours = ['#000099', '#ffff00'] \n",
    "sns.heatmap(df[cols].isnull(), cmap=sns.color_palette(colours))\n",
    "\n",
    "for col in df.columns:\n",
    "    pct_missing = np.mean(df[col].isnull())\n",
    "    print('{} - {}%'.format(col, round(pct_missing*100)))"
   ]
  },
  {
   "cell_type": "code",
   "execution_count": 11,
   "metadata": {},
   "outputs": [
    {
     "data": {
      "text/plain": [
       "Index(['total_images', 'last_price', 'total_area', 'first_day_exposition',\n",
       "       'rooms', 'ceiling_height', 'floors_total', 'living_area', 'floor',\n",
       "       'is_apartment', 'studio', 'open_plan', 'kitchen_area', 'balcony',\n",
       "       'locality_name', 'airports_nearest', 'cityCenters_nearest',\n",
       "       'parks_around3000', 'parks_nearest', 'ponds_around3000',\n",
       "       'ponds_nearest', 'days_exposition', 'first_day_year'],\n",
       "      dtype='object')"
      ]
     },
     "execution_count": 11,
     "metadata": {},
     "output_type": "execute_result"
    }
   ],
   "source": [
    "df.columns"
   ]
  },
  {
   "cell_type": "markdown",
   "metadata": {},
   "source": [
    "#### Пропуски в столбце 'ceiling_height'."
   ]
  },
  {
   "cell_type": "code",
   "execution_count": 12,
   "metadata": {},
   "outputs": [
    {
     "data": {
      "text/plain": [
       "array([  2.7 ,    nan,   3.03,   2.5 ,   2.67,   2.56,   3.05,   2.75,\n",
       "         2.6 ,   2.9 ,   2.8 ,   2.55,   3.  ,   2.65,   3.2 ,   2.61,\n",
       "         3.25,   3.45,   2.77,   2.85,   2.64,   2.57,   4.15,   3.5 ,\n",
       "         3.3 ,   2.71,   4.  ,   2.47,   2.73,   2.84,   3.1 ,   2.34,\n",
       "         3.4 ,   3.06,   2.72,   2.54,   2.51,   2.78,   2.76,  25.  ,\n",
       "         2.58,   3.7 ,   2.52,   5.2 ,   2.87,   2.66,   2.59,   2.  ,\n",
       "         2.45,   3.6 ,   2.92,   3.11,   3.13,   3.8 ,   3.15,   3.55,\n",
       "         3.16,   3.62,   3.12,   2.53,   2.74,   2.96,   2.46,   5.3 ,\n",
       "         5.  ,   2.79,   2.95,   4.06,   2.94,   3.82,   3.54,   3.53,\n",
       "         2.83,   4.7 ,   2.4 ,   3.38,   3.01,   5.6 ,   3.65,   3.9 ,\n",
       "         3.18,   3.35,   2.3 ,   3.57,   2.48,   2.62,   2.82,   3.98,\n",
       "         2.63,   3.83,   3.52,   3.95,   3.75,   2.88,   3.67,   3.87,\n",
       "         3.66,   3.85,   3.86,   4.19,   3.24,   4.8 ,   4.5 ,   4.2 ,\n",
       "         3.36,  32.  ,   3.08,   3.68,   3.07,   3.37,   3.09,   8.  ,\n",
       "         3.26,   3.34,   2.81,   3.44,   2.97,   3.14,   4.37,   2.68,\n",
       "         3.22,   3.27,  27.  ,   4.1 ,   2.93,   3.46,  24.  ,   3.47,\n",
       "         3.33,   3.63,   3.32,  26.  ,   1.2 ,   8.3 ,   2.98,   2.86,\n",
       "         3.17,   4.4 ,   3.28,   3.04,   4.45,   5.5 ,   3.84,   3.23,\n",
       "         3.02,   3.21,   3.43,   3.78,   4.3 ,   3.39,   2.69,   3.31,\n",
       "         4.65,   3.56,   2.2 ,   3.51,   3.93,   3.42,   2.99,   3.49,\n",
       "        14.  ,   4.14,   2.91,   3.88,   1.75,   4.25,   3.29,  20.  ,\n",
       "         2.25,   3.76,   3.69,   6.  ,  22.6 ,   2.89,   3.58,   5.8 ,\n",
       "        27.5 ,   2.49,   4.9 ,   3.48,  10.3 ,   1.  , 100.  ,   3.59])"
      ]
     },
     "execution_count": 12,
     "metadata": {},
     "output_type": "execute_result"
    }
   ],
   "source": [
    "#Попробуем оценить какие значения вообще встречаются в этом столбце.\n",
    "\n",
    "df['ceiling_height'].unique()"
   ]
  },
  {
   "cell_type": "code",
   "execution_count": 13,
   "metadata": {
    "scrolled": true
   },
   "outputs": [
    {
     "data": {
      "text/html": [
       "<div>\n",
       "<style scoped>\n",
       "    .dataframe tbody tr th:only-of-type {\n",
       "        vertical-align: middle;\n",
       "    }\n",
       "\n",
       "    .dataframe tbody tr th {\n",
       "        vertical-align: top;\n",
       "    }\n",
       "\n",
       "    .dataframe thead th {\n",
       "        text-align: right;\n",
       "    }\n",
       "</style>\n",
       "<table border=\"1\" class=\"dataframe\">\n",
       "  <thead>\n",
       "    <tr style=\"text-align: right;\">\n",
       "      <th></th>\n",
       "      <th>total_images</th>\n",
       "      <th>last_price</th>\n",
       "      <th>total_area</th>\n",
       "      <th>first_day_exposition</th>\n",
       "      <th>rooms</th>\n",
       "      <th>ceiling_height</th>\n",
       "      <th>floors_total</th>\n",
       "      <th>living_area</th>\n",
       "      <th>floor</th>\n",
       "      <th>is_apartment</th>\n",
       "      <th>studio</th>\n",
       "      <th>open_plan</th>\n",
       "      <th>kitchen_area</th>\n",
       "      <th>balcony</th>\n",
       "      <th>locality_name</th>\n",
       "      <th>airports_nearest</th>\n",
       "      <th>cityCenters_nearest</th>\n",
       "      <th>parks_around3000</th>\n",
       "      <th>parks_nearest</th>\n",
       "      <th>ponds_around3000</th>\n",
       "      <th>ponds_nearest</th>\n",
       "      <th>days_exposition</th>\n",
       "      <th>first_day_year</th>\n",
       "    </tr>\n",
       "  </thead>\n",
       "  <tbody>\n",
       "    <tr>\n",
       "      <th>1</th>\n",
       "      <td>7</td>\n",
       "      <td>3350000.0</td>\n",
       "      <td>40.4</td>\n",
       "      <td>2018-12-04</td>\n",
       "      <td>1</td>\n",
       "      <td>NaN</td>\n",
       "      <td>11.0</td>\n",
       "      <td>18.6</td>\n",
       "      <td>1</td>\n",
       "      <td>NaN</td>\n",
       "      <td>False</td>\n",
       "      <td>False</td>\n",
       "      <td>11.0</td>\n",
       "      <td>2.0</td>\n",
       "      <td>посёлок Шушары</td>\n",
       "      <td>12817.0</td>\n",
       "      <td>18603.0</td>\n",
       "      <td>0.0</td>\n",
       "      <td>NaN</td>\n",
       "      <td>0.0</td>\n",
       "      <td>NaN</td>\n",
       "      <td>81.0</td>\n",
       "      <td>2018</td>\n",
       "    </tr>\n",
       "    <tr>\n",
       "      <th>2</th>\n",
       "      <td>10</td>\n",
       "      <td>5196000.0</td>\n",
       "      <td>56.0</td>\n",
       "      <td>2015-08-20</td>\n",
       "      <td>2</td>\n",
       "      <td>NaN</td>\n",
       "      <td>5.0</td>\n",
       "      <td>34.3</td>\n",
       "      <td>4</td>\n",
       "      <td>NaN</td>\n",
       "      <td>False</td>\n",
       "      <td>False</td>\n",
       "      <td>8.3</td>\n",
       "      <td>0.0</td>\n",
       "      <td>Санкт-Петербург</td>\n",
       "      <td>21741.0</td>\n",
       "      <td>13933.0</td>\n",
       "      <td>1.0</td>\n",
       "      <td>90.0</td>\n",
       "      <td>2.0</td>\n",
       "      <td>574.0</td>\n",
       "      <td>558.0</td>\n",
       "      <td>2015</td>\n",
       "    </tr>\n",
       "    <tr>\n",
       "      <th>3</th>\n",
       "      <td>0</td>\n",
       "      <td>64900000.0</td>\n",
       "      <td>159.0</td>\n",
       "      <td>2015-07-24</td>\n",
       "      <td>3</td>\n",
       "      <td>NaN</td>\n",
       "      <td>14.0</td>\n",
       "      <td>NaN</td>\n",
       "      <td>9</td>\n",
       "      <td>NaN</td>\n",
       "      <td>False</td>\n",
       "      <td>False</td>\n",
       "      <td>NaN</td>\n",
       "      <td>0.0</td>\n",
       "      <td>Санкт-Петербург</td>\n",
       "      <td>28098.0</td>\n",
       "      <td>6800.0</td>\n",
       "      <td>2.0</td>\n",
       "      <td>84.0</td>\n",
       "      <td>3.0</td>\n",
       "      <td>234.0</td>\n",
       "      <td>424.0</td>\n",
       "      <td>2015</td>\n",
       "    </tr>\n",
       "    <tr>\n",
       "      <th>5</th>\n",
       "      <td>10</td>\n",
       "      <td>2890000.0</td>\n",
       "      <td>30.4</td>\n",
       "      <td>2018-09-10</td>\n",
       "      <td>1</td>\n",
       "      <td>NaN</td>\n",
       "      <td>12.0</td>\n",
       "      <td>14.4</td>\n",
       "      <td>5</td>\n",
       "      <td>NaN</td>\n",
       "      <td>False</td>\n",
       "      <td>False</td>\n",
       "      <td>9.1</td>\n",
       "      <td>NaN</td>\n",
       "      <td>городской посёлок Янино-1</td>\n",
       "      <td>NaN</td>\n",
       "      <td>NaN</td>\n",
       "      <td>NaN</td>\n",
       "      <td>NaN</td>\n",
       "      <td>NaN</td>\n",
       "      <td>NaN</td>\n",
       "      <td>55.0</td>\n",
       "      <td>2018</td>\n",
       "    </tr>\n",
       "    <tr>\n",
       "      <th>6</th>\n",
       "      <td>6</td>\n",
       "      <td>3700000.0</td>\n",
       "      <td>37.3</td>\n",
       "      <td>2017-11-02</td>\n",
       "      <td>1</td>\n",
       "      <td>NaN</td>\n",
       "      <td>26.0</td>\n",
       "      <td>10.6</td>\n",
       "      <td>6</td>\n",
       "      <td>NaN</td>\n",
       "      <td>False</td>\n",
       "      <td>False</td>\n",
       "      <td>14.4</td>\n",
       "      <td>1.0</td>\n",
       "      <td>посёлок Парголово</td>\n",
       "      <td>52996.0</td>\n",
       "      <td>19143.0</td>\n",
       "      <td>0.0</td>\n",
       "      <td>NaN</td>\n",
       "      <td>0.0</td>\n",
       "      <td>NaN</td>\n",
       "      <td>155.0</td>\n",
       "      <td>2017</td>\n",
       "    </tr>\n",
       "  </tbody>\n",
       "</table>\n",
       "</div>"
      ],
      "text/plain": [
       "   total_images  last_price  total_area first_day_exposition  rooms  \\\n",
       "1             7   3350000.0        40.4           2018-12-04      1   \n",
       "2            10   5196000.0        56.0           2015-08-20      2   \n",
       "3             0  64900000.0       159.0           2015-07-24      3   \n",
       "5            10   2890000.0        30.4           2018-09-10      1   \n",
       "6             6   3700000.0        37.3           2017-11-02      1   \n",
       "\n",
       "   ceiling_height  floors_total  living_area  floor is_apartment  studio  \\\n",
       "1             NaN          11.0         18.6      1          NaN   False   \n",
       "2             NaN           5.0         34.3      4          NaN   False   \n",
       "3             NaN          14.0          NaN      9          NaN   False   \n",
       "5             NaN          12.0         14.4      5          NaN   False   \n",
       "6             NaN          26.0         10.6      6          NaN   False   \n",
       "\n",
       "   open_plan  kitchen_area  balcony              locality_name  \\\n",
       "1      False          11.0      2.0             посёлок Шушары   \n",
       "2      False           8.3      0.0            Санкт-Петербург   \n",
       "3      False           NaN      0.0            Санкт-Петербург   \n",
       "5      False           9.1      NaN  городской посёлок Янино-1   \n",
       "6      False          14.4      1.0          посёлок Парголово   \n",
       "\n",
       "   airports_nearest  cityCenters_nearest  parks_around3000  parks_nearest  \\\n",
       "1           12817.0              18603.0               0.0            NaN   \n",
       "2           21741.0              13933.0               1.0           90.0   \n",
       "3           28098.0               6800.0               2.0           84.0   \n",
       "5               NaN                  NaN               NaN            NaN   \n",
       "6           52996.0              19143.0               0.0            NaN   \n",
       "\n",
       "   ponds_around3000  ponds_nearest  days_exposition  first_day_year  \n",
       "1               0.0            NaN             81.0            2018  \n",
       "2               2.0          574.0            558.0            2015  \n",
       "3               3.0          234.0            424.0            2015  \n",
       "5               NaN            NaN             55.0            2018  \n",
       "6               0.0            NaN            155.0            2017  "
      ]
     },
     "metadata": {},
     "output_type": "display_data"
    }
   ],
   "source": [
    "### Посмотрим на первые 5 строк данных с пропущенными значениями высоты потолков.\n",
    "\n",
    "display(df[df['ceiling_height'].isna()].head())"
   ]
  },
  {
   "cell_type": "markdown",
   "metadata": {},
   "source": [
    "Пропуски в значениях высоты потолков могу означать, что человек, размещающий объявление, либо не знает высоту потолка, либо не указывает ее по различным причинам."
   ]
  },
  {
   "cell_type": "markdown",
   "metadata": {},
   "source": [
    "Это довольно большое количество данных, нельзя их просто игнорировать."
   ]
  },
  {
   "cell_type": "code",
   "execution_count": 14,
   "metadata": {},
   "outputs": [
    {
     "data": {
      "text/plain": [
       "2.65"
      ]
     },
     "metadata": {},
     "output_type": "display_data"
    }
   ],
   "source": [
    "### Найдем медианное значение высоты потолка в нашем датафрейме.\n",
    "\n",
    "display(df['ceiling_height'].median())"
   ]
  },
  {
   "cell_type": "markdown",
   "metadata": {},
   "source": [
    "Это нормальное значение для РФ, где минимальный допустимый порог высоты потолка 2,4 м.\n",
    "Поэтому, из наших предположений выше можно считать, что пропуски можно заменить медианным значением."
   ]
  },
  {
   "cell_type": "code",
   "execution_count": 15,
   "metadata": {},
   "outputs": [],
   "source": [
    "### Заполним пустые значчения медианой.\n",
    "\n",
    "df['ceiling_height'] = df['ceiling_height'].fillna(value=df['ceiling_height'].median())"
   ]
  },
  {
   "cell_type": "code",
   "execution_count": 16,
   "metadata": {},
   "outputs": [
    {
     "data": {
      "text/plain": [
       "0"
      ]
     },
     "execution_count": 16,
     "metadata": {},
     "output_type": "execute_result"
    }
   ],
   "source": [
    "### Проверим наши значения.\n",
    "\n",
    "df['ceiling_height'].isna().sum()"
   ]
  },
  {
   "cell_type": "markdown",
   "metadata": {},
   "source": [
    "С высотой потолков разобрались."
   ]
  },
  {
   "cell_type": "markdown",
   "metadata": {},
   "source": [
    "#### Пропуски в столбце 'floors_total'."
   ]
  },
  {
   "cell_type": "code",
   "execution_count": 17,
   "metadata": {},
   "outputs": [
    {
     "data": {
      "text/plain": [
       "'0.36%'"
      ]
     },
     "metadata": {},
     "output_type": "display_data"
    }
   ],
   "source": [
    "### Оценим количество пропусков в этом столбце.\n",
    "\n",
    "display(\"{:.2%}\".format(df['floors_total'].isna().sum() / len(df['floors_total'])))"
   ]
  },
  {
   "cell_type": "markdown",
   "metadata": {},
   "source": [
    "Количество таких пропусков невелико, а значит не сильно повлияет на наш датфрейм, поэтому заменим пропущенные значения высотности дома на медианные."
   ]
  },
  {
   "cell_type": "code",
   "execution_count": 18,
   "metadata": {},
   "outputs": [],
   "source": [
    "### Замена пропусков в высотности дома на медианные значения.\n",
    "\n",
    "df['floors_total'] = df['floors_total'].fillna(value=df['floors_total'].median())"
   ]
  },
  {
   "cell_type": "code",
   "execution_count": 19,
   "metadata": {},
   "outputs": [
    {
     "data": {
      "text/plain": [
       "0"
      ]
     },
     "execution_count": 19,
     "metadata": {},
     "output_type": "execute_result"
    }
   ],
   "source": [
    "### Проверим как сработало заполнение.\n",
    "\n",
    "df['floors_total'].isna().sum()"
   ]
  },
  {
   "cell_type": "markdown",
   "metadata": {},
   "source": [
    "#### Пропуски в столбце 'living_area' и 'kitchen_area'."
   ]
  },
  {
   "cell_type": "markdown",
   "metadata": {},
   "source": [
    "Как мы уже посмотрели выше в данном столбце пропущенно 8% значений."
   ]
  },
  {
   "cell_type": "code",
   "execution_count": 20,
   "metadata": {},
   "outputs": [
    {
     "data": {
      "text/plain": [
       "1903"
      ]
     },
     "execution_count": 20,
     "metadata": {},
     "output_type": "execute_result"
    }
   ],
   "source": [
    "df['living_area'].isna().sum()"
   ]
  },
  {
   "cell_type": "code",
   "execution_count": 21,
   "metadata": {
    "scrolled": true
   },
   "outputs": [],
   "source": [
    "# Здесь я решил ввести переменную для заполнения пропусков, что бы в дальнейшем медианное значение,\n",
    "# которым я буду заполнять пропуски, не превысило общей площади квартиры.\n",
    "total_living = df.groupby('total_area')['living_area'].agg('median')"
   ]
  },
  {
   "cell_type": "code",
   "execution_count": 22,
   "metadata": {
    "scrolled": true
   },
   "outputs": [
    {
     "data": {
      "text/plain": [
       "total_area\n",
       "12.0      10.0\n",
       "13.0      10.0\n",
       "13.2       NaN\n",
       "14.0      11.0\n",
       "15.0       NaN\n",
       "         ...  \n",
       "590.0    409.0\n",
       "618.0    258.0\n",
       "631.0      NaN\n",
       "631.2    322.3\n",
       "900.0    409.7\n",
       "Name: living_area, Length: 2182, dtype: float64"
      ]
     },
     "metadata": {},
     "output_type": "display_data"
    }
   ],
   "source": [
    "display(total_living)"
   ]
  },
  {
   "cell_type": "code",
   "execution_count": 23,
   "metadata": {
    "scrolled": true
   },
   "outputs": [
    {
     "name": "stderr",
     "output_type": "stream",
     "text": [
      "/opt/conda/lib/python3.9/site-packages/numpy/lib/nanfunctions.py:1117: RuntimeWarning: Mean of empty slice\n",
      "  return np.nanmean(a, axis, out=out, keepdims=keepdims)\n",
      "/opt/conda/lib/python3.9/site-packages/numpy/lib/nanfunctions.py:1117: RuntimeWarning: Mean of empty slice\n",
      "  return np.nanmean(a, axis, out=out, keepdims=keepdims)\n",
      "/opt/conda/lib/python3.9/site-packages/numpy/lib/nanfunctions.py:1117: RuntimeWarning: Mean of empty slice\n",
      "  return np.nanmean(a, axis, out=out, keepdims=keepdims)\n",
      "/opt/conda/lib/python3.9/site-packages/numpy/lib/nanfunctions.py:1117: RuntimeWarning: Mean of empty slice\n",
      "  return np.nanmean(a, axis, out=out, keepdims=keepdims)\n",
      "/opt/conda/lib/python3.9/site-packages/numpy/lib/nanfunctions.py:1117: RuntimeWarning: Mean of empty slice\n",
      "  return np.nanmean(a, axis, out=out, keepdims=keepdims)\n",
      "/opt/conda/lib/python3.9/site-packages/numpy/lib/nanfunctions.py:1117: RuntimeWarning: Mean of empty slice\n",
      "  return np.nanmean(a, axis, out=out, keepdims=keepdims)\n",
      "/opt/conda/lib/python3.9/site-packages/numpy/lib/nanfunctions.py:1117: RuntimeWarning: Mean of empty slice\n",
      "  return np.nanmean(a, axis, out=out, keepdims=keepdims)\n",
      "/opt/conda/lib/python3.9/site-packages/numpy/lib/nanfunctions.py:1117: RuntimeWarning: Mean of empty slice\n",
      "  return np.nanmean(a, axis, out=out, keepdims=keepdims)\n",
      "/opt/conda/lib/python3.9/site-packages/numpy/lib/nanfunctions.py:1117: RuntimeWarning: Mean of empty slice\n",
      "  return np.nanmean(a, axis, out=out, keepdims=keepdims)\n",
      "/opt/conda/lib/python3.9/site-packages/numpy/lib/nanfunctions.py:1117: RuntimeWarning: Mean of empty slice\n",
      "  return np.nanmean(a, axis, out=out, keepdims=keepdims)\n",
      "/opt/conda/lib/python3.9/site-packages/numpy/lib/nanfunctions.py:1117: RuntimeWarning: Mean of empty slice\n",
      "  return np.nanmean(a, axis, out=out, keepdims=keepdims)\n",
      "/opt/conda/lib/python3.9/site-packages/numpy/lib/nanfunctions.py:1117: RuntimeWarning: Mean of empty slice\n",
      "  return np.nanmean(a, axis, out=out, keepdims=keepdims)\n",
      "/opt/conda/lib/python3.9/site-packages/numpy/lib/nanfunctions.py:1117: RuntimeWarning: Mean of empty slice\n",
      "  return np.nanmean(a, axis, out=out, keepdims=keepdims)\n",
      "/opt/conda/lib/python3.9/site-packages/numpy/lib/nanfunctions.py:1117: RuntimeWarning: Mean of empty slice\n",
      "  return np.nanmean(a, axis, out=out, keepdims=keepdims)\n",
      "/opt/conda/lib/python3.9/site-packages/numpy/lib/nanfunctions.py:1117: RuntimeWarning: Mean of empty slice\n",
      "  return np.nanmean(a, axis, out=out, keepdims=keepdims)\n",
      "/opt/conda/lib/python3.9/site-packages/numpy/lib/nanfunctions.py:1117: RuntimeWarning: Mean of empty slice\n",
      "  return np.nanmean(a, axis, out=out, keepdims=keepdims)\n",
      "/opt/conda/lib/python3.9/site-packages/numpy/lib/nanfunctions.py:1117: RuntimeWarning: Mean of empty slice\n",
      "  return np.nanmean(a, axis, out=out, keepdims=keepdims)\n",
      "/opt/conda/lib/python3.9/site-packages/numpy/lib/nanfunctions.py:1117: RuntimeWarning: Mean of empty slice\n",
      "  return np.nanmean(a, axis, out=out, keepdims=keepdims)\n",
      "/opt/conda/lib/python3.9/site-packages/numpy/lib/nanfunctions.py:1117: RuntimeWarning: Mean of empty slice\n",
      "  return np.nanmean(a, axis, out=out, keepdims=keepdims)\n",
      "/opt/conda/lib/python3.9/site-packages/numpy/lib/nanfunctions.py:1117: RuntimeWarning: Mean of empty slice\n",
      "  return np.nanmean(a, axis, out=out, keepdims=keepdims)\n",
      "/opt/conda/lib/python3.9/site-packages/numpy/lib/nanfunctions.py:1117: RuntimeWarning: Mean of empty slice\n",
      "  return np.nanmean(a, axis, out=out, keepdims=keepdims)\n",
      "/opt/conda/lib/python3.9/site-packages/numpy/lib/nanfunctions.py:1117: RuntimeWarning: Mean of empty slice\n",
      "  return np.nanmean(a, axis, out=out, keepdims=keepdims)\n",
      "/opt/conda/lib/python3.9/site-packages/numpy/lib/nanfunctions.py:1117: RuntimeWarning: Mean of empty slice\n",
      "  return np.nanmean(a, axis, out=out, keepdims=keepdims)\n",
      "/opt/conda/lib/python3.9/site-packages/numpy/lib/nanfunctions.py:1117: RuntimeWarning: Mean of empty slice\n",
      "  return np.nanmean(a, axis, out=out, keepdims=keepdims)\n",
      "/opt/conda/lib/python3.9/site-packages/numpy/lib/nanfunctions.py:1117: RuntimeWarning: Mean of empty slice\n",
      "  return np.nanmean(a, axis, out=out, keepdims=keepdims)\n",
      "/opt/conda/lib/python3.9/site-packages/numpy/lib/nanfunctions.py:1117: RuntimeWarning: Mean of empty slice\n",
      "  return np.nanmean(a, axis, out=out, keepdims=keepdims)\n",
      "/opt/conda/lib/python3.9/site-packages/numpy/lib/nanfunctions.py:1117: RuntimeWarning: Mean of empty slice\n",
      "  return np.nanmean(a, axis, out=out, keepdims=keepdims)\n",
      "/opt/conda/lib/python3.9/site-packages/numpy/lib/nanfunctions.py:1117: RuntimeWarning: Mean of empty slice\n",
      "  return np.nanmean(a, axis, out=out, keepdims=keepdims)\n",
      "/opt/conda/lib/python3.9/site-packages/numpy/lib/nanfunctions.py:1117: RuntimeWarning: Mean of empty slice\n",
      "  return np.nanmean(a, axis, out=out, keepdims=keepdims)\n",
      "/opt/conda/lib/python3.9/site-packages/numpy/lib/nanfunctions.py:1117: RuntimeWarning: Mean of empty slice\n",
      "  return np.nanmean(a, axis, out=out, keepdims=keepdims)\n",
      "/opt/conda/lib/python3.9/site-packages/numpy/lib/nanfunctions.py:1117: RuntimeWarning: Mean of empty slice\n",
      "  return np.nanmean(a, axis, out=out, keepdims=keepdims)\n",
      "/opt/conda/lib/python3.9/site-packages/numpy/lib/nanfunctions.py:1117: RuntimeWarning: Mean of empty slice\n",
      "  return np.nanmean(a, axis, out=out, keepdims=keepdims)\n",
      "/opt/conda/lib/python3.9/site-packages/numpy/lib/nanfunctions.py:1117: RuntimeWarning: Mean of empty slice\n",
      "  return np.nanmean(a, axis, out=out, keepdims=keepdims)\n",
      "/opt/conda/lib/python3.9/site-packages/numpy/lib/nanfunctions.py:1117: RuntimeWarning: Mean of empty slice\n",
      "  return np.nanmean(a, axis, out=out, keepdims=keepdims)\n",
      "/opt/conda/lib/python3.9/site-packages/numpy/lib/nanfunctions.py:1117: RuntimeWarning: Mean of empty slice\n",
      "  return np.nanmean(a, axis, out=out, keepdims=keepdims)\n",
      "/opt/conda/lib/python3.9/site-packages/numpy/lib/nanfunctions.py:1117: RuntimeWarning: Mean of empty slice\n",
      "  return np.nanmean(a, axis, out=out, keepdims=keepdims)\n",
      "/opt/conda/lib/python3.9/site-packages/numpy/lib/nanfunctions.py:1117: RuntimeWarning: Mean of empty slice\n",
      "  return np.nanmean(a, axis, out=out, keepdims=keepdims)\n",
      "/opt/conda/lib/python3.9/site-packages/numpy/lib/nanfunctions.py:1117: RuntimeWarning: Mean of empty slice\n",
      "  return np.nanmean(a, axis, out=out, keepdims=keepdims)\n",
      "/opt/conda/lib/python3.9/site-packages/numpy/lib/nanfunctions.py:1117: RuntimeWarning: Mean of empty slice\n",
      "  return np.nanmean(a, axis, out=out, keepdims=keepdims)\n",
      "/opt/conda/lib/python3.9/site-packages/numpy/lib/nanfunctions.py:1117: RuntimeWarning: Mean of empty slice\n",
      "  return np.nanmean(a, axis, out=out, keepdims=keepdims)\n",
      "/opt/conda/lib/python3.9/site-packages/numpy/lib/nanfunctions.py:1117: RuntimeWarning: Mean of empty slice\n",
      "  return np.nanmean(a, axis, out=out, keepdims=keepdims)\n",
      "/opt/conda/lib/python3.9/site-packages/numpy/lib/nanfunctions.py:1117: RuntimeWarning: Mean of empty slice\n",
      "  return np.nanmean(a, axis, out=out, keepdims=keepdims)\n",
      "/opt/conda/lib/python3.9/site-packages/numpy/lib/nanfunctions.py:1117: RuntimeWarning: Mean of empty slice\n",
      "  return np.nanmean(a, axis, out=out, keepdims=keepdims)\n",
      "/opt/conda/lib/python3.9/site-packages/numpy/lib/nanfunctions.py:1117: RuntimeWarning: Mean of empty slice\n",
      "  return np.nanmean(a, axis, out=out, keepdims=keepdims)\n",
      "/opt/conda/lib/python3.9/site-packages/numpy/lib/nanfunctions.py:1117: RuntimeWarning: Mean of empty slice\n",
      "  return np.nanmean(a, axis, out=out, keepdims=keepdims)\n",
      "/opt/conda/lib/python3.9/site-packages/numpy/lib/nanfunctions.py:1117: RuntimeWarning: Mean of empty slice\n",
      "  return np.nanmean(a, axis, out=out, keepdims=keepdims)\n",
      "/opt/conda/lib/python3.9/site-packages/numpy/lib/nanfunctions.py:1117: RuntimeWarning: Mean of empty slice\n",
      "  return np.nanmean(a, axis, out=out, keepdims=keepdims)\n",
      "/opt/conda/lib/python3.9/site-packages/numpy/lib/nanfunctions.py:1117: RuntimeWarning: Mean of empty slice\n",
      "  return np.nanmean(a, axis, out=out, keepdims=keepdims)\n",
      "/opt/conda/lib/python3.9/site-packages/numpy/lib/nanfunctions.py:1117: RuntimeWarning: Mean of empty slice\n",
      "  return np.nanmean(a, axis, out=out, keepdims=keepdims)\n",
      "/opt/conda/lib/python3.9/site-packages/numpy/lib/nanfunctions.py:1117: RuntimeWarning: Mean of empty slice\n",
      "  return np.nanmean(a, axis, out=out, keepdims=keepdims)\n",
      "/opt/conda/lib/python3.9/site-packages/numpy/lib/nanfunctions.py:1117: RuntimeWarning: Mean of empty slice\n",
      "  return np.nanmean(a, axis, out=out, keepdims=keepdims)\n",
      "/opt/conda/lib/python3.9/site-packages/numpy/lib/nanfunctions.py:1117: RuntimeWarning: Mean of empty slice\n",
      "  return np.nanmean(a, axis, out=out, keepdims=keepdims)\n",
      "/opt/conda/lib/python3.9/site-packages/numpy/lib/nanfunctions.py:1117: RuntimeWarning: Mean of empty slice\n",
      "  return np.nanmean(a, axis, out=out, keepdims=keepdims)\n",
      "/opt/conda/lib/python3.9/site-packages/numpy/lib/nanfunctions.py:1117: RuntimeWarning: Mean of empty slice\n",
      "  return np.nanmean(a, axis, out=out, keepdims=keepdims)\n",
      "/opt/conda/lib/python3.9/site-packages/numpy/lib/nanfunctions.py:1117: RuntimeWarning: Mean of empty slice\n",
      "  return np.nanmean(a, axis, out=out, keepdims=keepdims)\n",
      "/opt/conda/lib/python3.9/site-packages/numpy/lib/nanfunctions.py:1117: RuntimeWarning: Mean of empty slice\n",
      "  return np.nanmean(a, axis, out=out, keepdims=keepdims)\n",
      "/opt/conda/lib/python3.9/site-packages/numpy/lib/nanfunctions.py:1117: RuntimeWarning: Mean of empty slice\n",
      "  return np.nanmean(a, axis, out=out, keepdims=keepdims)\n",
      "/opt/conda/lib/python3.9/site-packages/numpy/lib/nanfunctions.py:1117: RuntimeWarning: Mean of empty slice\n",
      "  return np.nanmean(a, axis, out=out, keepdims=keepdims)\n",
      "/opt/conda/lib/python3.9/site-packages/numpy/lib/nanfunctions.py:1117: RuntimeWarning: Mean of empty slice\n",
      "  return np.nanmean(a, axis, out=out, keepdims=keepdims)\n",
      "/opt/conda/lib/python3.9/site-packages/numpy/lib/nanfunctions.py:1117: RuntimeWarning: Mean of empty slice\n",
      "  return np.nanmean(a, axis, out=out, keepdims=keepdims)\n",
      "/opt/conda/lib/python3.9/site-packages/numpy/lib/nanfunctions.py:1117: RuntimeWarning: Mean of empty slice\n",
      "  return np.nanmean(a, axis, out=out, keepdims=keepdims)\n",
      "/opt/conda/lib/python3.9/site-packages/numpy/lib/nanfunctions.py:1117: RuntimeWarning: Mean of empty slice\n",
      "  return np.nanmean(a, axis, out=out, keepdims=keepdims)\n",
      "/opt/conda/lib/python3.9/site-packages/numpy/lib/nanfunctions.py:1117: RuntimeWarning: Mean of empty slice\n",
      "  return np.nanmean(a, axis, out=out, keepdims=keepdims)\n",
      "/opt/conda/lib/python3.9/site-packages/numpy/lib/nanfunctions.py:1117: RuntimeWarning: Mean of empty slice\n",
      "  return np.nanmean(a, axis, out=out, keepdims=keepdims)\n",
      "/opt/conda/lib/python3.9/site-packages/numpy/lib/nanfunctions.py:1117: RuntimeWarning: Mean of empty slice\n",
      "  return np.nanmean(a, axis, out=out, keepdims=keepdims)\n",
      "/opt/conda/lib/python3.9/site-packages/numpy/lib/nanfunctions.py:1117: RuntimeWarning: Mean of empty slice\n",
      "  return np.nanmean(a, axis, out=out, keepdims=keepdims)\n",
      "/opt/conda/lib/python3.9/site-packages/numpy/lib/nanfunctions.py:1117: RuntimeWarning: Mean of empty slice\n",
      "  return np.nanmean(a, axis, out=out, keepdims=keepdims)\n",
      "/opt/conda/lib/python3.9/site-packages/numpy/lib/nanfunctions.py:1117: RuntimeWarning: Mean of empty slice\n",
      "  return np.nanmean(a, axis, out=out, keepdims=keepdims)\n",
      "/opt/conda/lib/python3.9/site-packages/numpy/lib/nanfunctions.py:1117: RuntimeWarning: Mean of empty slice\n",
      "  return np.nanmean(a, axis, out=out, keepdims=keepdims)\n",
      "/opt/conda/lib/python3.9/site-packages/numpy/lib/nanfunctions.py:1117: RuntimeWarning: Mean of empty slice\n",
      "  return np.nanmean(a, axis, out=out, keepdims=keepdims)\n",
      "/opt/conda/lib/python3.9/site-packages/numpy/lib/nanfunctions.py:1117: RuntimeWarning: Mean of empty slice\n",
      "  return np.nanmean(a, axis, out=out, keepdims=keepdims)\n",
      "/opt/conda/lib/python3.9/site-packages/numpy/lib/nanfunctions.py:1117: RuntimeWarning: Mean of empty slice\n",
      "  return np.nanmean(a, axis, out=out, keepdims=keepdims)\n",
      "/opt/conda/lib/python3.9/site-packages/numpy/lib/nanfunctions.py:1117: RuntimeWarning: Mean of empty slice\n",
      "  return np.nanmean(a, axis, out=out, keepdims=keepdims)\n",
      "/opt/conda/lib/python3.9/site-packages/numpy/lib/nanfunctions.py:1117: RuntimeWarning: Mean of empty slice\n",
      "  return np.nanmean(a, axis, out=out, keepdims=keepdims)\n",
      "/opt/conda/lib/python3.9/site-packages/numpy/lib/nanfunctions.py:1117: RuntimeWarning: Mean of empty slice\n",
      "  return np.nanmean(a, axis, out=out, keepdims=keepdims)\n",
      "/opt/conda/lib/python3.9/site-packages/numpy/lib/nanfunctions.py:1117: RuntimeWarning: Mean of empty slice\n",
      "  return np.nanmean(a, axis, out=out, keepdims=keepdims)\n",
      "/opt/conda/lib/python3.9/site-packages/numpy/lib/nanfunctions.py:1117: RuntimeWarning: Mean of empty slice\n",
      "  return np.nanmean(a, axis, out=out, keepdims=keepdims)\n",
      "/opt/conda/lib/python3.9/site-packages/numpy/lib/nanfunctions.py:1117: RuntimeWarning: Mean of empty slice\n",
      "  return np.nanmean(a, axis, out=out, keepdims=keepdims)\n",
      "/opt/conda/lib/python3.9/site-packages/numpy/lib/nanfunctions.py:1117: RuntimeWarning: Mean of empty slice\n",
      "  return np.nanmean(a, axis, out=out, keepdims=keepdims)\n",
      "/opt/conda/lib/python3.9/site-packages/numpy/lib/nanfunctions.py:1117: RuntimeWarning: Mean of empty slice\n",
      "  return np.nanmean(a, axis, out=out, keepdims=keepdims)\n",
      "/opt/conda/lib/python3.9/site-packages/numpy/lib/nanfunctions.py:1117: RuntimeWarning: Mean of empty slice\n",
      "  return np.nanmean(a, axis, out=out, keepdims=keepdims)\n",
      "/opt/conda/lib/python3.9/site-packages/numpy/lib/nanfunctions.py:1117: RuntimeWarning: Mean of empty slice\n",
      "  return np.nanmean(a, axis, out=out, keepdims=keepdims)\n",
      "/opt/conda/lib/python3.9/site-packages/numpy/lib/nanfunctions.py:1117: RuntimeWarning: Mean of empty slice\n",
      "  return np.nanmean(a, axis, out=out, keepdims=keepdims)\n",
      "/opt/conda/lib/python3.9/site-packages/numpy/lib/nanfunctions.py:1117: RuntimeWarning: Mean of empty slice\n",
      "  return np.nanmean(a, axis, out=out, keepdims=keepdims)\n",
      "/opt/conda/lib/python3.9/site-packages/numpy/lib/nanfunctions.py:1117: RuntimeWarning: Mean of empty slice\n",
      "  return np.nanmean(a, axis, out=out, keepdims=keepdims)\n",
      "/opt/conda/lib/python3.9/site-packages/numpy/lib/nanfunctions.py:1117: RuntimeWarning: Mean of empty slice\n",
      "  return np.nanmean(a, axis, out=out, keepdims=keepdims)\n",
      "/opt/conda/lib/python3.9/site-packages/numpy/lib/nanfunctions.py:1117: RuntimeWarning: Mean of empty slice\n",
      "  return np.nanmean(a, axis, out=out, keepdims=keepdims)\n",
      "/opt/conda/lib/python3.9/site-packages/numpy/lib/nanfunctions.py:1117: RuntimeWarning: Mean of empty slice\n",
      "  return np.nanmean(a, axis, out=out, keepdims=keepdims)\n",
      "/opt/conda/lib/python3.9/site-packages/numpy/lib/nanfunctions.py:1117: RuntimeWarning: Mean of empty slice\n",
      "  return np.nanmean(a, axis, out=out, keepdims=keepdims)\n",
      "/opt/conda/lib/python3.9/site-packages/numpy/lib/nanfunctions.py:1117: RuntimeWarning: Mean of empty slice\n",
      "  return np.nanmean(a, axis, out=out, keepdims=keepdims)\n",
      "/opt/conda/lib/python3.9/site-packages/numpy/lib/nanfunctions.py:1117: RuntimeWarning: Mean of empty slice\n",
      "  return np.nanmean(a, axis, out=out, keepdims=keepdims)\n",
      "/opt/conda/lib/python3.9/site-packages/numpy/lib/nanfunctions.py:1117: RuntimeWarning: Mean of empty slice\n",
      "  return np.nanmean(a, axis, out=out, keepdims=keepdims)\n",
      "/opt/conda/lib/python3.9/site-packages/numpy/lib/nanfunctions.py:1117: RuntimeWarning: Mean of empty slice\n",
      "  return np.nanmean(a, axis, out=out, keepdims=keepdims)\n",
      "/opt/conda/lib/python3.9/site-packages/numpy/lib/nanfunctions.py:1117: RuntimeWarning: Mean of empty slice\n",
      "  return np.nanmean(a, axis, out=out, keepdims=keepdims)\n",
      "/opt/conda/lib/python3.9/site-packages/numpy/lib/nanfunctions.py:1117: RuntimeWarning: Mean of empty slice\n",
      "  return np.nanmean(a, axis, out=out, keepdims=keepdims)\n",
      "/opt/conda/lib/python3.9/site-packages/numpy/lib/nanfunctions.py:1117: RuntimeWarning: Mean of empty slice\n",
      "  return np.nanmean(a, axis, out=out, keepdims=keepdims)\n",
      "/opt/conda/lib/python3.9/site-packages/numpy/lib/nanfunctions.py:1117: RuntimeWarning: Mean of empty slice\n",
      "  return np.nanmean(a, axis, out=out, keepdims=keepdims)\n",
      "/opt/conda/lib/python3.9/site-packages/numpy/lib/nanfunctions.py:1117: RuntimeWarning: Mean of empty slice\n",
      "  return np.nanmean(a, axis, out=out, keepdims=keepdims)\n",
      "/opt/conda/lib/python3.9/site-packages/numpy/lib/nanfunctions.py:1117: RuntimeWarning: Mean of empty slice\n",
      "  return np.nanmean(a, axis, out=out, keepdims=keepdims)\n",
      "/opt/conda/lib/python3.9/site-packages/numpy/lib/nanfunctions.py:1117: RuntimeWarning: Mean of empty slice\n",
      "  return np.nanmean(a, axis, out=out, keepdims=keepdims)\n",
      "/opt/conda/lib/python3.9/site-packages/numpy/lib/nanfunctions.py:1117: RuntimeWarning: Mean of empty slice\n",
      "  return np.nanmean(a, axis, out=out, keepdims=keepdims)\n",
      "/opt/conda/lib/python3.9/site-packages/numpy/lib/nanfunctions.py:1117: RuntimeWarning: Mean of empty slice\n",
      "  return np.nanmean(a, axis, out=out, keepdims=keepdims)\n",
      "/opt/conda/lib/python3.9/site-packages/numpy/lib/nanfunctions.py:1117: RuntimeWarning: Mean of empty slice\n",
      "  return np.nanmean(a, axis, out=out, keepdims=keepdims)\n",
      "/opt/conda/lib/python3.9/site-packages/numpy/lib/nanfunctions.py:1117: RuntimeWarning: Mean of empty slice\n",
      "  return np.nanmean(a, axis, out=out, keepdims=keepdims)\n",
      "/opt/conda/lib/python3.9/site-packages/numpy/lib/nanfunctions.py:1117: RuntimeWarning: Mean of empty slice\n",
      "  return np.nanmean(a, axis, out=out, keepdims=keepdims)\n",
      "/opt/conda/lib/python3.9/site-packages/numpy/lib/nanfunctions.py:1117: RuntimeWarning: Mean of empty slice\n",
      "  return np.nanmean(a, axis, out=out, keepdims=keepdims)\n",
      "/opt/conda/lib/python3.9/site-packages/numpy/lib/nanfunctions.py:1117: RuntimeWarning: Mean of empty slice\n",
      "  return np.nanmean(a, axis, out=out, keepdims=keepdims)\n",
      "/opt/conda/lib/python3.9/site-packages/numpy/lib/nanfunctions.py:1117: RuntimeWarning: Mean of empty slice\n",
      "  return np.nanmean(a, axis, out=out, keepdims=keepdims)\n",
      "/opt/conda/lib/python3.9/site-packages/numpy/lib/nanfunctions.py:1117: RuntimeWarning: Mean of empty slice\n",
      "  return np.nanmean(a, axis, out=out, keepdims=keepdims)\n",
      "/opt/conda/lib/python3.9/site-packages/numpy/lib/nanfunctions.py:1117: RuntimeWarning: Mean of empty slice\n",
      "  return np.nanmean(a, axis, out=out, keepdims=keepdims)\n",
      "/opt/conda/lib/python3.9/site-packages/numpy/lib/nanfunctions.py:1117: RuntimeWarning: Mean of empty slice\n",
      "  return np.nanmean(a, axis, out=out, keepdims=keepdims)\n",
      "/opt/conda/lib/python3.9/site-packages/numpy/lib/nanfunctions.py:1117: RuntimeWarning: Mean of empty slice\n",
      "  return np.nanmean(a, axis, out=out, keepdims=keepdims)\n",
      "/opt/conda/lib/python3.9/site-packages/numpy/lib/nanfunctions.py:1117: RuntimeWarning: Mean of empty slice\n",
      "  return np.nanmean(a, axis, out=out, keepdims=keepdims)\n",
      "/opt/conda/lib/python3.9/site-packages/numpy/lib/nanfunctions.py:1117: RuntimeWarning: Mean of empty slice\n",
      "  return np.nanmean(a, axis, out=out, keepdims=keepdims)\n",
      "/opt/conda/lib/python3.9/site-packages/numpy/lib/nanfunctions.py:1117: RuntimeWarning: Mean of empty slice\n",
      "  return np.nanmean(a, axis, out=out, keepdims=keepdims)\n",
      "/opt/conda/lib/python3.9/site-packages/numpy/lib/nanfunctions.py:1117: RuntimeWarning: Mean of empty slice\n",
      "  return np.nanmean(a, axis, out=out, keepdims=keepdims)\n",
      "/opt/conda/lib/python3.9/site-packages/numpy/lib/nanfunctions.py:1117: RuntimeWarning: Mean of empty slice\n",
      "  return np.nanmean(a, axis, out=out, keepdims=keepdims)\n",
      "/opt/conda/lib/python3.9/site-packages/numpy/lib/nanfunctions.py:1117: RuntimeWarning: Mean of empty slice\n",
      "  return np.nanmean(a, axis, out=out, keepdims=keepdims)\n",
      "/opt/conda/lib/python3.9/site-packages/numpy/lib/nanfunctions.py:1117: RuntimeWarning: Mean of empty slice\n",
      "  return np.nanmean(a, axis, out=out, keepdims=keepdims)\n",
      "/opt/conda/lib/python3.9/site-packages/numpy/lib/nanfunctions.py:1117: RuntimeWarning: Mean of empty slice\n",
      "  return np.nanmean(a, axis, out=out, keepdims=keepdims)\n",
      "/opt/conda/lib/python3.9/site-packages/numpy/lib/nanfunctions.py:1117: RuntimeWarning: Mean of empty slice\n",
      "  return np.nanmean(a, axis, out=out, keepdims=keepdims)\n",
      "/opt/conda/lib/python3.9/site-packages/numpy/lib/nanfunctions.py:1117: RuntimeWarning: Mean of empty slice\n",
      "  return np.nanmean(a, axis, out=out, keepdims=keepdims)\n",
      "/opt/conda/lib/python3.9/site-packages/numpy/lib/nanfunctions.py:1117: RuntimeWarning: Mean of empty slice\n",
      "  return np.nanmean(a, axis, out=out, keepdims=keepdims)\n",
      "/opt/conda/lib/python3.9/site-packages/numpy/lib/nanfunctions.py:1117: RuntimeWarning: Mean of empty slice\n",
      "  return np.nanmean(a, axis, out=out, keepdims=keepdims)\n",
      "/opt/conda/lib/python3.9/site-packages/numpy/lib/nanfunctions.py:1117: RuntimeWarning: Mean of empty slice\n",
      "  return np.nanmean(a, axis, out=out, keepdims=keepdims)\n",
      "/opt/conda/lib/python3.9/site-packages/numpy/lib/nanfunctions.py:1117: RuntimeWarning: Mean of empty slice\n",
      "  return np.nanmean(a, axis, out=out, keepdims=keepdims)\n",
      "/opt/conda/lib/python3.9/site-packages/numpy/lib/nanfunctions.py:1117: RuntimeWarning: Mean of empty slice\n",
      "  return np.nanmean(a, axis, out=out, keepdims=keepdims)\n",
      "/opt/conda/lib/python3.9/site-packages/numpy/lib/nanfunctions.py:1117: RuntimeWarning: Mean of empty slice\n",
      "  return np.nanmean(a, axis, out=out, keepdims=keepdims)\n",
      "/opt/conda/lib/python3.9/site-packages/numpy/lib/nanfunctions.py:1117: RuntimeWarning: Mean of empty slice\n",
      "  return np.nanmean(a, axis, out=out, keepdims=keepdims)\n",
      "/opt/conda/lib/python3.9/site-packages/numpy/lib/nanfunctions.py:1117: RuntimeWarning: Mean of empty slice\n",
      "  return np.nanmean(a, axis, out=out, keepdims=keepdims)\n",
      "/opt/conda/lib/python3.9/site-packages/numpy/lib/nanfunctions.py:1117: RuntimeWarning: Mean of empty slice\n",
      "  return np.nanmean(a, axis, out=out, keepdims=keepdims)\n",
      "/opt/conda/lib/python3.9/site-packages/numpy/lib/nanfunctions.py:1117: RuntimeWarning: Mean of empty slice\n",
      "  return np.nanmean(a, axis, out=out, keepdims=keepdims)\n",
      "/opt/conda/lib/python3.9/site-packages/numpy/lib/nanfunctions.py:1117: RuntimeWarning: Mean of empty slice\n",
      "  return np.nanmean(a, axis, out=out, keepdims=keepdims)\n",
      "/opt/conda/lib/python3.9/site-packages/numpy/lib/nanfunctions.py:1117: RuntimeWarning: Mean of empty slice\n",
      "  return np.nanmean(a, axis, out=out, keepdims=keepdims)\n",
      "/opt/conda/lib/python3.9/site-packages/numpy/lib/nanfunctions.py:1117: RuntimeWarning: Mean of empty slice\n",
      "  return np.nanmean(a, axis, out=out, keepdims=keepdims)\n",
      "/opt/conda/lib/python3.9/site-packages/numpy/lib/nanfunctions.py:1117: RuntimeWarning: Mean of empty slice\n",
      "  return np.nanmean(a, axis, out=out, keepdims=keepdims)\n",
      "/opt/conda/lib/python3.9/site-packages/numpy/lib/nanfunctions.py:1117: RuntimeWarning: Mean of empty slice\n",
      "  return np.nanmean(a, axis, out=out, keepdims=keepdims)\n",
      "/opt/conda/lib/python3.9/site-packages/numpy/lib/nanfunctions.py:1117: RuntimeWarning: Mean of empty slice\n",
      "  return np.nanmean(a, axis, out=out, keepdims=keepdims)\n",
      "/opt/conda/lib/python3.9/site-packages/numpy/lib/nanfunctions.py:1117: RuntimeWarning: Mean of empty slice\n",
      "  return np.nanmean(a, axis, out=out, keepdims=keepdims)\n"
     ]
    }
   ],
   "source": [
    "for i in df['total_area'].unique():\n",
    "    df.loc[(df['total_area'] == i) & (df['living_area'].isna()), 'living_area'] = \\\n",
    "    df.loc[(df['total_area'] == i), 'living_area'].median()"
   ]
  },
  {
   "cell_type": "code",
   "execution_count": 24,
   "metadata": {},
   "outputs": [
    {
     "data": {
      "text/plain": [
       "143"
      ]
     },
     "execution_count": 24,
     "metadata": {},
     "output_type": "execute_result"
    }
   ],
   "source": [
    "df['living_area'].isna().sum()"
   ]
  },
  {
   "cell_type": "code",
   "execution_count": 25,
   "metadata": {},
   "outputs": [
    {
     "data": {
      "text/plain": [
       "'0.60%'"
      ]
     },
     "metadata": {},
     "output_type": "display_data"
    }
   ],
   "source": [
    "# Оценим какое это количество пропусков\n",
    "\n",
    "display(\"{:.2%}\".format(df['living_area'].isna().sum() / len(df['living_area'])))"
   ]
  },
  {
   "cell_type": "markdown",
   "metadata": {},
   "source": [
    "Такое количество данных просто заполним медианой."
   ]
  },
  {
   "cell_type": "code",
   "execution_count": 26,
   "metadata": {},
   "outputs": [
    {
     "data": {
      "text/plain": [
       "0.5769230769230769"
      ]
     },
     "execution_count": 26,
     "metadata": {},
     "output_type": "execute_result"
    }
   ],
   "source": [
    "living_area_ratio = df['living_area'].median() / df['total_area'].median()\n",
    "living_area_ratio"
   ]
  },
  {
   "cell_type": "code",
   "execution_count": 27,
   "metadata": {},
   "outputs": [
    {
     "data": {
      "text/plain": [
       "0.175"
      ]
     },
     "execution_count": 27,
     "metadata": {},
     "output_type": "execute_result"
    }
   ],
   "source": [
    "kitchen_area_ratio = df['kitchen_area'].median() / df['total_area'].median()\n",
    "kitchen_area_ratio"
   ]
  },
  {
   "cell_type": "code",
   "execution_count": 28,
   "metadata": {},
   "outputs": [],
   "source": [
    "df['living_area'] = df['living_area'].fillna(value=df['total_area']*living_area_ratio)\n",
    "df['kitchen_area'] = df['kitchen_area'].fillna(value=df['total_area']*kitchen_area_ratio)"
   ]
  },
  {
   "cell_type": "markdown",
   "metadata": {},
   "source": [
    "Такое количество данных просто заменим медианой."
   ]
  },
  {
   "cell_type": "code",
   "execution_count": 29,
   "metadata": {},
   "outputs": [
    {
     "data": {
      "text/plain": [
       "0"
      ]
     },
     "execution_count": 29,
     "metadata": {},
     "output_type": "execute_result"
    }
   ],
   "source": [
    "df['living_area'].isna().sum()"
   ]
  },
  {
   "cell_type": "code",
   "execution_count": 30,
   "metadata": {},
   "outputs": [
    {
     "data": {
      "text/plain": [
       "0"
      ]
     },
     "execution_count": 30,
     "metadata": {},
     "output_type": "execute_result"
    }
   ],
   "source": [
    "df['kitchen_area'].isna().sum()"
   ]
  },
  {
   "cell_type": "markdown",
   "metadata": {},
   "source": [
    "#### Пропуски в столбце 'is_apartment', 'balcony', 'locality_name'."
   ]
  },
  {
   "cell_type": "code",
   "execution_count": 31,
   "metadata": {},
   "outputs": [
    {
     "data": {
      "text/plain": [
       "20924"
      ]
     },
     "execution_count": 31,
     "metadata": {},
     "output_type": "execute_result"
    }
   ],
   "source": [
    "df['is_apartment'].isna().sum()"
   ]
  },
  {
   "cell_type": "markdown",
   "metadata": {},
   "source": [
    "Не будем заполнять здесь пропуски."
   ]
  },
  {
   "cell_type": "code",
   "execution_count": 32,
   "metadata": {},
   "outputs": [
    {
     "data": {
      "text/plain": [
       "1.0    4195\n",
       "0.0    3758\n",
       "2.0    3659\n",
       "5.0     304\n",
       "4.0     183\n",
       "3.0      81\n",
       "Name: balcony, dtype: int64"
      ]
     },
     "execution_count": 32,
     "metadata": {},
     "output_type": "execute_result"
    }
   ],
   "source": [
    "df['balcony'].value_counts()"
   ]
  },
  {
   "cell_type": "code",
   "execution_count": 33,
   "metadata": {},
   "outputs": [
    {
     "data": {
      "text/plain": [
       "11519"
      ]
     },
     "execution_count": 33,
     "metadata": {},
     "output_type": "execute_result"
    }
   ],
   "source": [
    "df['balcony'].isna().sum()"
   ]
  },
  {
   "cell_type": "code",
   "execution_count": 34,
   "metadata": {},
   "outputs": [],
   "source": [
    "# Здесь я делаю предположение, что если продавец не указал информацию о балконе, то его нет.\n",
    "df['balcony'] = df['balcony'].fillna(0)"
   ]
  },
  {
   "cell_type": "code",
   "execution_count": 35,
   "metadata": {},
   "outputs": [
    {
     "data": {
      "text/plain": [
       "0"
      ]
     },
     "execution_count": 35,
     "metadata": {},
     "output_type": "execute_result"
    }
   ],
   "source": [
    "df['balcony'].isna().sum()"
   ]
  },
  {
   "cell_type": "code",
   "execution_count": 36,
   "metadata": {
    "scrolled": true
   },
   "outputs": [
    {
     "data": {
      "text/plain": [
       "Санкт-Петербург      15721\n",
       "посёлок Мурино         522\n",
       "посёлок Шушары         440\n",
       "Всеволожск             398\n",
       "Пушкин                 369\n",
       "                     ...  \n",
       "деревня Пикколово        1\n",
       "поселок Калитино         1\n",
       "деревня Лаврики          1\n",
       "деревня Пчева            1\n",
       "деревня Котлы            1\n",
       "Name: locality_name, Length: 364, dtype: int64"
      ]
     },
     "execution_count": 36,
     "metadata": {},
     "output_type": "execute_result"
    }
   ],
   "source": [
    "df['locality_name'].value_counts()"
   ]
  },
  {
   "cell_type": "code",
   "execution_count": 37,
   "metadata": {},
   "outputs": [],
   "source": [
    "df['locality_name'] = df['locality_name'].fillna('неизвестно')"
   ]
  },
  {
   "cell_type": "code",
   "execution_count": 38,
   "metadata": {},
   "outputs": [
    {
     "data": {
      "text/plain": [
       "0"
      ]
     },
     "execution_count": 38,
     "metadata": {},
     "output_type": "execute_result"
    }
   ],
   "source": [
    "df['locality_name'].isna().sum()"
   ]
  },
  {
   "cell_type": "markdown",
   "metadata": {},
   "source": [
    "Прошущенные значения заполним \"неизвестно\"."
   ]
  },
  {
   "cell_type": "markdown",
   "metadata": {},
   "source": [
    "#### Пропуски в столбцах 'airports_nearest', 'cityCenters_nearest', 'parks_around3000', 'parks_nearest', 'ponds_around3000', 'ponds_nearest'."
   ]
  },
  {
   "cell_type": "code",
   "execution_count": 39,
   "metadata": {},
   "outputs": [],
   "source": [
    "middle_airports_nearest = df.groupby('locality_name')['airports_nearest'].median()\n",
    "for el in middle_airports_nearest.index:\n",
    "    df.loc[df['locality_name'] == el ,'airports_nearest'] = df.loc[df['locality_name'] == el ,'airports_nearest'].fillna(middle_airports_nearest[el])"
   ]
  },
  {
   "cell_type": "code",
   "execution_count": 40,
   "metadata": {},
   "outputs": [
    {
     "data": {
      "text/plain": [
       "5386"
      ]
     },
     "execution_count": 40,
     "metadata": {},
     "output_type": "execute_result"
    }
   ],
   "source": [
    "df['airports_nearest'].isna().sum()"
   ]
  },
  {
   "cell_type": "markdown",
   "metadata": {},
   "source": [
    "Эти пропуски оставим как есть, так как не все продавцы могут знать подобную информацию."
   ]
  },
  {
   "cell_type": "markdown",
   "metadata": {},
   "source": [
    "#### Пропуски в столбце 'days_exposition'."
   ]
  },
  {
   "cell_type": "code",
   "execution_count": 41,
   "metadata": {
    "scrolled": false
   },
   "outputs": [
    {
     "data": {
      "text/html": [
       "<div>\n",
       "<style scoped>\n",
       "    .dataframe tbody tr th:only-of-type {\n",
       "        vertical-align: middle;\n",
       "    }\n",
       "\n",
       "    .dataframe tbody tr th {\n",
       "        vertical-align: top;\n",
       "    }\n",
       "\n",
       "    .dataframe thead th {\n",
       "        text-align: right;\n",
       "    }\n",
       "</style>\n",
       "<table border=\"1\" class=\"dataframe\">\n",
       "  <thead>\n",
       "    <tr style=\"text-align: right;\">\n",
       "      <th></th>\n",
       "      <th>total_images</th>\n",
       "      <th>last_price</th>\n",
       "      <th>total_area</th>\n",
       "      <th>first_day_exposition</th>\n",
       "      <th>rooms</th>\n",
       "      <th>ceiling_height</th>\n",
       "      <th>floors_total</th>\n",
       "      <th>living_area</th>\n",
       "      <th>floor</th>\n",
       "      <th>is_apartment</th>\n",
       "      <th>studio</th>\n",
       "      <th>open_plan</th>\n",
       "      <th>kitchen_area</th>\n",
       "      <th>balcony</th>\n",
       "      <th>locality_name</th>\n",
       "      <th>airports_nearest</th>\n",
       "      <th>cityCenters_nearest</th>\n",
       "      <th>parks_around3000</th>\n",
       "      <th>parks_nearest</th>\n",
       "      <th>ponds_around3000</th>\n",
       "      <th>ponds_nearest</th>\n",
       "      <th>days_exposition</th>\n",
       "      <th>first_day_year</th>\n",
       "    </tr>\n",
       "  </thead>\n",
       "  <tbody>\n",
       "    <tr>\n",
       "      <th>0</th>\n",
       "      <td>20</td>\n",
       "      <td>13000000.0</td>\n",
       "      <td>108.00</td>\n",
       "      <td>2019-03-07</td>\n",
       "      <td>3</td>\n",
       "      <td>2.70</td>\n",
       "      <td>16.0</td>\n",
       "      <td>51.0</td>\n",
       "      <td>8</td>\n",
       "      <td>NaN</td>\n",
       "      <td>False</td>\n",
       "      <td>False</td>\n",
       "      <td>25.0000</td>\n",
       "      <td>0.0</td>\n",
       "      <td>Санкт-Петербург</td>\n",
       "      <td>18863.0</td>\n",
       "      <td>16028.0</td>\n",
       "      <td>1.0</td>\n",
       "      <td>482.0</td>\n",
       "      <td>2.0</td>\n",
       "      <td>755.0</td>\n",
       "      <td>NaN</td>\n",
       "      <td>2019</td>\n",
       "    </tr>\n",
       "    <tr>\n",
       "      <th>7</th>\n",
       "      <td>5</td>\n",
       "      <td>7915000.0</td>\n",
       "      <td>71.60</td>\n",
       "      <td>2019-04-18</td>\n",
       "      <td>2</td>\n",
       "      <td>2.65</td>\n",
       "      <td>24.0</td>\n",
       "      <td>44.3</td>\n",
       "      <td>22</td>\n",
       "      <td>NaN</td>\n",
       "      <td>False</td>\n",
       "      <td>False</td>\n",
       "      <td>18.9000</td>\n",
       "      <td>2.0</td>\n",
       "      <td>Санкт-Петербург</td>\n",
       "      <td>23982.0</td>\n",
       "      <td>11634.0</td>\n",
       "      <td>0.0</td>\n",
       "      <td>NaN</td>\n",
       "      <td>0.0</td>\n",
       "      <td>NaN</td>\n",
       "      <td>NaN</td>\n",
       "      <td>2019</td>\n",
       "    </tr>\n",
       "    <tr>\n",
       "      <th>44</th>\n",
       "      <td>13</td>\n",
       "      <td>5350000.0</td>\n",
       "      <td>40.00</td>\n",
       "      <td>2018-11-18</td>\n",
       "      <td>1</td>\n",
       "      <td>2.65</td>\n",
       "      <td>22.0</td>\n",
       "      <td>18.0</td>\n",
       "      <td>3</td>\n",
       "      <td>NaN</td>\n",
       "      <td>False</td>\n",
       "      <td>False</td>\n",
       "      <td>7.0000</td>\n",
       "      <td>1.0</td>\n",
       "      <td>Санкт-Петербург</td>\n",
       "      <td>30471.0</td>\n",
       "      <td>11603.0</td>\n",
       "      <td>1.0</td>\n",
       "      <td>620.0</td>\n",
       "      <td>1.0</td>\n",
       "      <td>1152.0</td>\n",
       "      <td>NaN</td>\n",
       "      <td>2018</td>\n",
       "    </tr>\n",
       "    <tr>\n",
       "      <th>45</th>\n",
       "      <td>17</td>\n",
       "      <td>5200000.0</td>\n",
       "      <td>50.60</td>\n",
       "      <td>2018-12-02</td>\n",
       "      <td>2</td>\n",
       "      <td>2.65</td>\n",
       "      <td>9.0</td>\n",
       "      <td>30.3</td>\n",
       "      <td>7</td>\n",
       "      <td>NaN</td>\n",
       "      <td>False</td>\n",
       "      <td>False</td>\n",
       "      <td>7.0000</td>\n",
       "      <td>0.0</td>\n",
       "      <td>Санкт-Петербург</td>\n",
       "      <td>30011.0</td>\n",
       "      <td>12872.0</td>\n",
       "      <td>0.0</td>\n",
       "      <td>NaN</td>\n",
       "      <td>0.0</td>\n",
       "      <td>NaN</td>\n",
       "      <td>NaN</td>\n",
       "      <td>2018</td>\n",
       "    </tr>\n",
       "    <tr>\n",
       "      <th>46</th>\n",
       "      <td>17</td>\n",
       "      <td>6600000.0</td>\n",
       "      <td>52.10</td>\n",
       "      <td>2019-01-31</td>\n",
       "      <td>2</td>\n",
       "      <td>2.60</td>\n",
       "      <td>24.0</td>\n",
       "      <td>29.7</td>\n",
       "      <td>9</td>\n",
       "      <td>NaN</td>\n",
       "      <td>False</td>\n",
       "      <td>False</td>\n",
       "      <td>8.3000</td>\n",
       "      <td>2.0</td>\n",
       "      <td>Санкт-Петербург</td>\n",
       "      <td>15114.0</td>\n",
       "      <td>12702.0</td>\n",
       "      <td>0.0</td>\n",
       "      <td>NaN</td>\n",
       "      <td>0.0</td>\n",
       "      <td>NaN</td>\n",
       "      <td>NaN</td>\n",
       "      <td>2019</td>\n",
       "    </tr>\n",
       "    <tr>\n",
       "      <th>...</th>\n",
       "      <td>...</td>\n",
       "      <td>...</td>\n",
       "      <td>...</td>\n",
       "      <td>...</td>\n",
       "      <td>...</td>\n",
       "      <td>...</td>\n",
       "      <td>...</td>\n",
       "      <td>...</td>\n",
       "      <td>...</td>\n",
       "      <td>...</td>\n",
       "      <td>...</td>\n",
       "      <td>...</td>\n",
       "      <td>...</td>\n",
       "      <td>...</td>\n",
       "      <td>...</td>\n",
       "      <td>...</td>\n",
       "      <td>...</td>\n",
       "      <td>...</td>\n",
       "      <td>...</td>\n",
       "      <td>...</td>\n",
       "      <td>...</td>\n",
       "      <td>...</td>\n",
       "      <td>...</td>\n",
       "    </tr>\n",
       "    <tr>\n",
       "      <th>23684</th>\n",
       "      <td>20</td>\n",
       "      <td>21400000.0</td>\n",
       "      <td>145.00</td>\n",
       "      <td>2018-11-02</td>\n",
       "      <td>4</td>\n",
       "      <td>3.00</td>\n",
       "      <td>26.0</td>\n",
       "      <td>71.4</td>\n",
       "      <td>17</td>\n",
       "      <td>NaN</td>\n",
       "      <td>False</td>\n",
       "      <td>False</td>\n",
       "      <td>15.6000</td>\n",
       "      <td>0.0</td>\n",
       "      <td>Санкт-Петербург</td>\n",
       "      <td>11827.0</td>\n",
       "      <td>11459.0</td>\n",
       "      <td>0.0</td>\n",
       "      <td>NaN</td>\n",
       "      <td>0.0</td>\n",
       "      <td>NaN</td>\n",
       "      <td>NaN</td>\n",
       "      <td>2018</td>\n",
       "    </tr>\n",
       "    <tr>\n",
       "      <th>23685</th>\n",
       "      <td>15</td>\n",
       "      <td>2490000.0</td>\n",
       "      <td>31.00</td>\n",
       "      <td>2019-01-24</td>\n",
       "      <td>1</td>\n",
       "      <td>2.50</td>\n",
       "      <td>5.0</td>\n",
       "      <td>17.3</td>\n",
       "      <td>5</td>\n",
       "      <td>NaN</td>\n",
       "      <td>False</td>\n",
       "      <td>False</td>\n",
       "      <td>5.6000</td>\n",
       "      <td>1.0</td>\n",
       "      <td>Ломоносов</td>\n",
       "      <td>48393.0</td>\n",
       "      <td>51818.0</td>\n",
       "      <td>0.0</td>\n",
       "      <td>NaN</td>\n",
       "      <td>0.0</td>\n",
       "      <td>NaN</td>\n",
       "      <td>NaN</td>\n",
       "      <td>2019</td>\n",
       "    </tr>\n",
       "    <tr>\n",
       "      <th>23694</th>\n",
       "      <td>9</td>\n",
       "      <td>9700000.0</td>\n",
       "      <td>133.81</td>\n",
       "      <td>2017-03-21</td>\n",
       "      <td>3</td>\n",
       "      <td>3.70</td>\n",
       "      <td>5.0</td>\n",
       "      <td>73.3</td>\n",
       "      <td>3</td>\n",
       "      <td>NaN</td>\n",
       "      <td>False</td>\n",
       "      <td>False</td>\n",
       "      <td>13.8300</td>\n",
       "      <td>0.0</td>\n",
       "      <td>Санкт-Петербург</td>\n",
       "      <td>24665.0</td>\n",
       "      <td>4232.0</td>\n",
       "      <td>1.0</td>\n",
       "      <td>796.0</td>\n",
       "      <td>3.0</td>\n",
       "      <td>381.0</td>\n",
       "      <td>NaN</td>\n",
       "      <td>2017</td>\n",
       "    </tr>\n",
       "    <tr>\n",
       "      <th>23696</th>\n",
       "      <td>18</td>\n",
       "      <td>2500000.0</td>\n",
       "      <td>56.70</td>\n",
       "      <td>2018-02-11</td>\n",
       "      <td>2</td>\n",
       "      <td>2.65</td>\n",
       "      <td>3.0</td>\n",
       "      <td>29.7</td>\n",
       "      <td>1</td>\n",
       "      <td>NaN</td>\n",
       "      <td>False</td>\n",
       "      <td>False</td>\n",
       "      <td>9.9225</td>\n",
       "      <td>0.0</td>\n",
       "      <td>село Рождествено</td>\n",
       "      <td>NaN</td>\n",
       "      <td>NaN</td>\n",
       "      <td>NaN</td>\n",
       "      <td>NaN</td>\n",
       "      <td>NaN</td>\n",
       "      <td>NaN</td>\n",
       "      <td>NaN</td>\n",
       "      <td>2018</td>\n",
       "    </tr>\n",
       "    <tr>\n",
       "      <th>23698</th>\n",
       "      <td>4</td>\n",
       "      <td>1350000.0</td>\n",
       "      <td>32.30</td>\n",
       "      <td>2017-07-21</td>\n",
       "      <td>1</td>\n",
       "      <td>2.50</td>\n",
       "      <td>5.0</td>\n",
       "      <td>12.3</td>\n",
       "      <td>1</td>\n",
       "      <td>NaN</td>\n",
       "      <td>False</td>\n",
       "      <td>False</td>\n",
       "      <td>9.0000</td>\n",
       "      <td>0.0</td>\n",
       "      <td>поселок Новый Учхоз</td>\n",
       "      <td>NaN</td>\n",
       "      <td>NaN</td>\n",
       "      <td>NaN</td>\n",
       "      <td>NaN</td>\n",
       "      <td>NaN</td>\n",
       "      <td>NaN</td>\n",
       "      <td>NaN</td>\n",
       "      <td>2017</td>\n",
       "    </tr>\n",
       "  </tbody>\n",
       "</table>\n",
       "<p>3181 rows × 23 columns</p>\n",
       "</div>"
      ],
      "text/plain": [
       "       total_images  last_price  total_area first_day_exposition  rooms  \\\n",
       "0                20  13000000.0      108.00           2019-03-07      3   \n",
       "7                 5   7915000.0       71.60           2019-04-18      2   \n",
       "44               13   5350000.0       40.00           2018-11-18      1   \n",
       "45               17   5200000.0       50.60           2018-12-02      2   \n",
       "46               17   6600000.0       52.10           2019-01-31      2   \n",
       "...             ...         ...         ...                  ...    ...   \n",
       "23684            20  21400000.0      145.00           2018-11-02      4   \n",
       "23685            15   2490000.0       31.00           2019-01-24      1   \n",
       "23694             9   9700000.0      133.81           2017-03-21      3   \n",
       "23696            18   2500000.0       56.70           2018-02-11      2   \n",
       "23698             4   1350000.0       32.30           2017-07-21      1   \n",
       "\n",
       "       ceiling_height  floors_total  living_area  floor is_apartment  studio  \\\n",
       "0                2.70          16.0         51.0      8          NaN   False   \n",
       "7                2.65          24.0         44.3     22          NaN   False   \n",
       "44               2.65          22.0         18.0      3          NaN   False   \n",
       "45               2.65           9.0         30.3      7          NaN   False   \n",
       "46               2.60          24.0         29.7      9          NaN   False   \n",
       "...               ...           ...          ...    ...          ...     ...   \n",
       "23684            3.00          26.0         71.4     17          NaN   False   \n",
       "23685            2.50           5.0         17.3      5          NaN   False   \n",
       "23694            3.70           5.0         73.3      3          NaN   False   \n",
       "23696            2.65           3.0         29.7      1          NaN   False   \n",
       "23698            2.50           5.0         12.3      1          NaN   False   \n",
       "\n",
       "       open_plan  kitchen_area  balcony        locality_name  \\\n",
       "0          False       25.0000      0.0      Санкт-Петербург   \n",
       "7          False       18.9000      2.0      Санкт-Петербург   \n",
       "44         False        7.0000      1.0      Санкт-Петербург   \n",
       "45         False        7.0000      0.0      Санкт-Петербург   \n",
       "46         False        8.3000      2.0      Санкт-Петербург   \n",
       "...          ...           ...      ...                  ...   \n",
       "23684      False       15.6000      0.0      Санкт-Петербург   \n",
       "23685      False        5.6000      1.0            Ломоносов   \n",
       "23694      False       13.8300      0.0      Санкт-Петербург   \n",
       "23696      False        9.9225      0.0     село Рождествено   \n",
       "23698      False        9.0000      0.0  поселок Новый Учхоз   \n",
       "\n",
       "       airports_nearest  cityCenters_nearest  parks_around3000  parks_nearest  \\\n",
       "0               18863.0              16028.0               1.0          482.0   \n",
       "7               23982.0              11634.0               0.0            NaN   \n",
       "44              30471.0              11603.0               1.0          620.0   \n",
       "45              30011.0              12872.0               0.0            NaN   \n",
       "46              15114.0              12702.0               0.0            NaN   \n",
       "...                 ...                  ...               ...            ...   \n",
       "23684           11827.0              11459.0               0.0            NaN   \n",
       "23685           48393.0              51818.0               0.0            NaN   \n",
       "23694           24665.0               4232.0               1.0          796.0   \n",
       "23696               NaN                  NaN               NaN            NaN   \n",
       "23698               NaN                  NaN               NaN            NaN   \n",
       "\n",
       "       ponds_around3000  ponds_nearest  days_exposition  first_day_year  \n",
       "0                   2.0          755.0              NaN            2019  \n",
       "7                   0.0            NaN              NaN            2019  \n",
       "44                  1.0         1152.0              NaN            2018  \n",
       "45                  0.0            NaN              NaN            2018  \n",
       "46                  0.0            NaN              NaN            2019  \n",
       "...                 ...            ...              ...             ...  \n",
       "23684               0.0            NaN              NaN            2018  \n",
       "23685               0.0            NaN              NaN            2019  \n",
       "23694               3.0          381.0              NaN            2017  \n",
       "23696               NaN            NaN              NaN            2018  \n",
       "23698               NaN            NaN              NaN            2017  \n",
       "\n",
       "[3181 rows x 23 columns]"
      ]
     },
     "metadata": {},
     "output_type": "display_data"
    }
   ],
   "source": [
    "# Посмотрим у каких обявлений есть пропуски. \n",
    "display(df[df['days_exposition'].isna()])"
   ]
  },
  {
   "cell_type": "code",
   "execution_count": 42,
   "metadata": {},
   "outputs": [],
   "source": [
    "df['first_day_exposition'] = pd.to_datetime(df['first_day_exposition'], format='%Y-%m-%d')"
   ]
  },
  {
   "cell_type": "code",
   "execution_count": 43,
   "metadata": {},
   "outputs": [],
   "source": [
    "df_filtred = df.query('first_day_exposition > 2017 and first_day_exposition < 2019')"
   ]
  },
  {
   "cell_type": "code",
   "execution_count": 44,
   "metadata": {},
   "outputs": [
    {
     "data": {
      "text/plain": [
       "<AxesSubplot:xlabel='first_day_exposition'>"
      ]
     },
     "execution_count": 44,
     "metadata": {},
     "output_type": "execute_result"
    },
    {
     "data": {
      "image/png": "[encoded data removed]",
      "text/plain": [
       "<Figure size 432x288 with 1 Axes>"
      ]
     },
     "metadata": {
      "needs_background": "light"
     },
     "output_type": "display_data"
    }
   ],
   "source": [
    "pivot_table_exposition = df.pivot_table(index='first_day_exposition', values='days_exposition', aggfunc='count')\n",
    "pivot_table_exposition.columns = ['count']\n",
    "pivot_table_exposition.plot(y = 'count')"
   ]
  },
  {
   "cell_type": "code",
   "execution_count": 45,
   "metadata": {
    "scrolled": true
   },
   "outputs": [
    {
     "data": {
      "text/plain": [
       "<AxesSubplot:xlabel='first_day_exposition'>"
      ]
     },
     "execution_count": 45,
     "metadata": {},
     "output_type": "execute_result"
    },
    {
     "data": {
      "image/png": "[encoded data removed]",
      "text/plain": [
       "<Figure size 432x288 with 1 Axes>"
      ]
     },
     "metadata": {
      "needs_background": "light"
     },
     "output_type": "display_data"
    }
   ],
   "source": [
    "pivot_table_exposition = df_filtred.pivot_table(index='first_day_exposition', values='days_exposition', aggfunc='count')\n",
    "pivot_table_exposition.columns = ['count']\n",
    "pivot_table_exposition.plot(y = 'count')"
   ]
  },
  {
   "cell_type": "markdown",
   "metadata": {},
   "source": [
    "Я не понимаю как и что нужно посмотреть и как пропуски зависят от года. Я не вижу связи никакой."
   ]
  },
  {
   "cell_type": "markdown",
   "metadata": {},
   "source": [
    "Как мы посчитали ранее в столбце имеются пропуске в количестве 13% от общего датасета."
   ]
  },
  {
   "cell_type": "code",
   "execution_count": 46,
   "metadata": {},
   "outputs": [],
   "source": [
    "df['first_day_exposition'] = pd.to_datetime(df['first_day_exposition'], format='%Y-%m-%d')"
   ]
  },
  {
   "cell_type": "markdown",
   "metadata": {},
   "source": [
    "Зависимости между днем недели и пропущенным значением количества дней нет."
   ]
  },
  {
   "cell_type": "code",
   "execution_count": 47,
   "metadata": {},
   "outputs": [
    {
     "data": {
      "text/plain": [
       "0          NaN\n",
       "1         81.0\n",
       "2        558.0\n",
       "3        424.0\n",
       "4        121.0\n",
       "         ...  \n",
       "23694      NaN\n",
       "23695     45.0\n",
       "23696      NaN\n",
       "23697    602.0\n",
       "23698      NaN\n",
       "Name: days_exposition, Length: 23699, dtype: float64"
      ]
     },
     "execution_count": 47,
     "metadata": {},
     "output_type": "execute_result"
    }
   ],
   "source": [
    "df['days_exposition']"
   ]
  },
  {
   "cell_type": "code",
   "execution_count": 48,
   "metadata": {},
   "outputs": [
    {
     "data": {
      "text/plain": [
       "count    20518.000000\n",
       "mean       180.888634\n",
       "std        219.727988\n",
       "min          1.000000\n",
       "25%         45.000000\n",
       "50%         95.000000\n",
       "75%        232.000000\n",
       "max       1580.000000\n",
       "Name: days_exposition, dtype: float64"
      ]
     },
     "execution_count": 48,
     "metadata": {},
     "output_type": "execute_result"
    }
   ],
   "source": [
    "df['days_exposition'].describe()"
   ]
  },
  {
   "cell_type": "code",
   "execution_count": 49,
   "metadata": {},
   "outputs": [],
   "source": [
    "df['days_exposition'] = df['days_exposition'].fillna(9999)"
   ]
  },
  {
   "cell_type": "code",
   "execution_count": 50,
   "metadata": {},
   "outputs": [
    {
     "data": {
      "text/plain": [
       "0"
      ]
     },
     "execution_count": 50,
     "metadata": {},
     "output_type": "execute_result"
    }
   ],
   "source": [
    "df['days_exposition'].isna().sum()"
   ]
  },
  {
   "cell_type": "markdown",
   "metadata": {},
   "source": [
    "Я так и не понял как заполнить пропуски в df['days_exposition'], поэтому заполню слишком большим значением, что бы убрать эти данные из датасета."
   ]
  },
  {
   "cell_type": "markdown",
   "metadata": {},
   "source": [
    "Почему могут быть пропуски в этом столбце?\n",
    "-Ошибки выгрузки?\n",
    "-Дубликаты?"
   ]
  },
  {
   "cell_type": "markdown",
   "metadata": {},
   "source": [
    "### Аномалии"
   ]
  },
  {
   "cell_type": "markdown",
   "metadata": {},
   "source": [
    "Как мы видили ранее, в столбце высота потолков много различных невозможных значений."
   ]
  },
  {
   "cell_type": "code",
   "execution_count": 51,
   "metadata": {},
   "outputs": [
    {
     "data": {
      "text/plain": [
       "0        2.70\n",
       "1        2.65\n",
       "2        2.65\n",
       "3        2.65\n",
       "4        3.03\n",
       "         ... \n",
       "23694    3.70\n",
       "23695    2.65\n",
       "23696    2.65\n",
       "23697    3.00\n",
       "23698    2.50\n",
       "Name: ceiling_height, Length: 23699, dtype: float64"
      ]
     },
     "metadata": {},
     "output_type": "display_data"
    }
   ],
   "source": [
    "df_ceiling_height = df['ceiling_height']\n",
    "display(df_ceiling_height)"
   ]
  },
  {
   "cell_type": "code",
   "execution_count": 52,
   "metadata": {},
   "outputs": [],
   "source": [
    "# Составим функцию, с помощью которой мы приведем невозможные значения к похожим на реальные.\n",
    "def ceiling_height(height):\n",
    "    if height > 6:\n",
    "        return height/10\n",
    "    elif height < 2:\n",
    "        return df['ceiling_height'].median()\n",
    "    else:\n",
    "        return height"
   ]
  },
  {
   "cell_type": "code",
   "execution_count": 53,
   "metadata": {},
   "outputs": [],
   "source": [
    "df['normal_ceiling_height'] = df['ceiling_height'].apply(ceiling_height)"
   ]
  },
  {
   "cell_type": "code",
   "execution_count": 54,
   "metadata": {
    "scrolled": true
   },
   "outputs": [
    {
     "data": {
      "text/plain": [
       "count    23699.000000\n",
       "mean         2.696740\n",
       "std          0.227902\n",
       "min          0.800000\n",
       "25%          2.600000\n",
       "50%          2.650000\n",
       "75%          2.700000\n",
       "max         10.000000\n",
       "Name: normal_ceiling_height, dtype: float64"
      ]
     },
     "execution_count": 54,
     "metadata": {},
     "output_type": "execute_result"
    }
   ],
   "source": [
    "df['normal_ceiling_height'].describe()"
   ]
  },
  {
   "cell_type": "markdown",
   "metadata": {},
   "source": [
    "Высота в 6 метров возможна в 2-х уровневых квартирах, теперь данные похоже на реальные."
   ]
  },
  {
   "cell_type": "code",
   "execution_count": 55,
   "metadata": {},
   "outputs": [],
   "source": [
    "# Код ревьюера\n",
    "df.update(df[(df['ceiling_height'] >= 20) & (df['ceiling_height'] <= 36)]['ceiling_height']/10)\n"
   ]
  },
  {
   "cell_type": "markdown",
   "metadata": {},
   "source": [
    "### Работа с дубликатами"
   ]
  },
  {
   "cell_type": "markdown",
   "metadata": {},
   "source": [
    "Сперва проверим на явные дубликаты."
   ]
  },
  {
   "cell_type": "code",
   "execution_count": 56,
   "metadata": {
    "scrolled": true
   },
   "outputs": [
    {
     "data": {
      "text/plain": [
       "0"
      ]
     },
     "execution_count": 56,
     "metadata": {},
     "output_type": "execute_result"
    }
   ],
   "source": [
    "df.duplicated().sum()"
   ]
  },
  {
   "cell_type": "code",
   "execution_count": 57,
   "metadata": {},
   "outputs": [
    {
     "data": {
      "text/plain": [
       "Санкт-Петербург           15721\n",
       "посёлок Мурино              522\n",
       "посёлок Шушары              440\n",
       "Всеволожск                  398\n",
       "Пушкин                      369\n",
       "                          ...  \n",
       "деревня Щеглово               1\n",
       "деревня Борисова Грива        1\n",
       "поселок Тёсово-4              1\n",
       "поселок Перово                1\n",
       "деревня Хапо-Ое               1\n",
       "Name: locality_name, Length: 365, dtype: int64"
      ]
     },
     "execution_count": 57,
     "metadata": {},
     "output_type": "execute_result"
    }
   ],
   "source": [
    "df['locality_name'].value_counts()"
   ]
  },
  {
   "cell_type": "code",
   "execution_count": 58,
   "metadata": {},
   "outputs": [],
   "source": [
    "df = df.drop_duplicates().reset_index(drop=True)"
   ]
  },
  {
   "cell_type": "markdown",
   "metadata": {},
   "source": [
    "Явных дубликатов нет, но у нас множество различных названий населенных пунктов, посмотрим какие значения там встречаются."
   ]
  },
  {
   "cell_type": "code",
   "execution_count": 59,
   "metadata": {},
   "outputs": [],
   "source": [
    "# Составим функцию, которая приведет нас к одинаковым названиям населенных пунктов.\n",
    "\n",
    "def city_names(name):\n",
    "    if 'Платформа' in str(name):\n",
    "        return ('Платформа 69-й километр')\n",
    "    elif 'неизвестно' in str(name):\n",
    "        return 'неизвестно'\n",
    "    elif '-' in str(name):\n",
    "        temp = str(name).split()\n",
    "        new_name = \"-\".join([ele for ele in temp if  ele[0].isupper()])\n",
    "        return new_name\n",
    "    else:\n",
    "        temp = str(name).split()\n",
    "        new_name = \" \".join([ele for ele in temp if  ele[0].isupper()])\n",
    "        return new_name"
   ]
  },
  {
   "cell_type": "code",
   "execution_count": 60,
   "metadata": {},
   "outputs": [
    {
     "name": "stdout",
     "output_type": "stream",
     "text": [
      "             locality_name         new_name\n",
      "0          Санкт-Петербург  Санкт-Петербург\n",
      "1           посёлок Шушары           Шушары\n",
      "2          Санкт-Петербург  Санкт-Петербург\n",
      "3          Санкт-Петербург  Санкт-Петербург\n",
      "4          Санкт-Петербург  Санкт-Петербург\n",
      "...                    ...              ...\n",
      "23694      Санкт-Петербург  Санкт-Петербург\n",
      "23695                Тосно            Тосно\n",
      "23696     село Рождествено      Рождествено\n",
      "23697      Санкт-Петербург  Санкт-Петербург\n",
      "23698  поселок Новый Учхоз      Новый Учхоз\n",
      "\n",
      "[23699 rows x 2 columns]\n"
     ]
    }
   ],
   "source": [
    "df['new_name'] = df['locality_name'].apply(city_names)\n",
    "print(df[['locality_name','new_name']])"
   ]
  },
  {
   "cell_type": "markdown",
   "metadata": {},
   "source": [
    "Теперь у нас остались только названия населенных пунктов."
   ]
  },
  {
   "cell_type": "code",
   "execution_count": 61,
   "metadata": {},
   "outputs": [
    {
     "name": "stdout",
     "output_type": "stream",
     "text": [
      "<class 'pandas.core.frame.DataFrame'>\n",
      "RangeIndex: 23699 entries, 0 to 23698\n",
      "Data columns (total 25 columns):\n",
      " #   Column                 Non-Null Count  Dtype         \n",
      "---  ------                 --------------  -----         \n",
      " 0   total_images           23699 non-null  int64         \n",
      " 1   last_price             23699 non-null  float64       \n",
      " 2   total_area             23699 non-null  float64       \n",
      " 3   first_day_exposition   23699 non-null  datetime64[ns]\n",
      " 4   rooms                  23699 non-null  int64         \n",
      " 5   ceiling_height         23699 non-null  float64       \n",
      " 6   floors_total           23699 non-null  float64       \n",
      " 7   living_area            23699 non-null  float64       \n",
      " 8   floor                  23699 non-null  int64         \n",
      " 9   is_apartment           2775 non-null   object        \n",
      " 10  studio                 23699 non-null  bool          \n",
      " 11  open_plan              23699 non-null  bool          \n",
      " 12  kitchen_area           23699 non-null  float64       \n",
      " 13  balcony                23699 non-null  float64       \n",
      " 14  locality_name          23699 non-null  object        \n",
      " 15  airports_nearest       18313 non-null  float64       \n",
      " 16  cityCenters_nearest    18180 non-null  float64       \n",
      " 17  parks_around3000       18181 non-null  float64       \n",
      " 18  parks_nearest          8079 non-null   float64       \n",
      " 19  ponds_around3000       18181 non-null  float64       \n",
      " 20  ponds_nearest          9110 non-null   float64       \n",
      " 21  days_exposition        23699 non-null  float64       \n",
      " 22  first_day_year         23699 non-null  int64         \n",
      " 23  normal_ceiling_height  23699 non-null  float64       \n",
      " 24  new_name               23699 non-null  object        \n",
      "dtypes: bool(2), datetime64[ns](1), float64(15), int64(4), object(3)\n",
      "memory usage: 4.2+ MB\n"
     ]
    }
   ],
   "source": [
    "df.info()"
   ]
  },
  {
   "cell_type": "code",
   "execution_count": 62,
   "metadata": {},
   "outputs": [],
   "source": [
    "df['locality_name'] = df['locality_name'].apply(city_names)"
   ]
  },
  {
   "cell_type": "code",
   "execution_count": 63,
   "metadata": {
    "scrolled": true
   },
   "outputs": [
    {
     "data": {
      "text/plain": [
       "Санкт-Петербург    15721\n",
       "Мурино               590\n",
       "Кудрово              472\n",
       "Шушары               440\n",
       "Всеволожск           398\n",
       "                   ...  \n",
       "Малая Романовка        1\n",
       "Корнево                1\n",
       "Белоостров             1\n",
       "Ромашки                1\n",
       "Хязельки               1\n",
       "Name: locality_name, Length: 306, dtype: int64"
      ]
     },
     "execution_count": 63,
     "metadata": {},
     "output_type": "execute_result"
    }
   ],
   "source": [
    "df['locality_name'].value_counts()"
   ]
  },
  {
   "cell_type": "code",
   "execution_count": 64,
   "metadata": {},
   "outputs": [],
   "source": [
    "#df = df.drop(columns='locality_name', axis=1)"
   ]
  },
  {
   "cell_type": "code",
   "execution_count": 65,
   "metadata": {},
   "outputs": [
    {
     "data": {
      "text/plain": [
       "0"
      ]
     },
     "execution_count": 65,
     "metadata": {},
     "output_type": "execute_result"
    }
   ],
   "source": [
    "df.duplicated().sum()"
   ]
  },
  {
   "cell_type": "markdown",
   "metadata": {},
   "source": [
    "### Изменение типов данных."
   ]
  },
  {
   "cell_type": "markdown",
   "metadata": {},
   "source": [
    "#### Изменение типов данных в столбцах 'first_day_exposition'."
   ]
  },
  {
   "cell_type": "code",
   "execution_count": 66,
   "metadata": {},
   "outputs": [
    {
     "name": "stdout",
     "output_type": "stream",
     "text": [
      "<class 'pandas.core.frame.DataFrame'>\n",
      "RangeIndex: 23699 entries, 0 to 23698\n",
      "Data columns (total 25 columns):\n",
      " #   Column                 Non-Null Count  Dtype         \n",
      "---  ------                 --------------  -----         \n",
      " 0   total_images           23699 non-null  int64         \n",
      " 1   last_price             23699 non-null  float64       \n",
      " 2   total_area             23699 non-null  float64       \n",
      " 3   first_day_exposition   23699 non-null  datetime64[ns]\n",
      " 4   rooms                  23699 non-null  int64         \n",
      " 5   ceiling_height         23699 non-null  float64       \n",
      " 6   floors_total           23699 non-null  float64       \n",
      " 7   living_area            23699 non-null  float64       \n",
      " 8   floor                  23699 non-null  int64         \n",
      " 9   is_apartment           2775 non-null   object        \n",
      " 10  studio                 23699 non-null  bool          \n",
      " 11  open_plan              23699 non-null  bool          \n",
      " 12  kitchen_area           23699 non-null  float64       \n",
      " 13  balcony                23699 non-null  float64       \n",
      " 14  locality_name          23699 non-null  object        \n",
      " 15  airports_nearest       18313 non-null  float64       \n",
      " 16  cityCenters_nearest    18180 non-null  float64       \n",
      " 17  parks_around3000       18181 non-null  float64       \n",
      " 18  parks_nearest          8079 non-null   float64       \n",
      " 19  ponds_around3000       18181 non-null  float64       \n",
      " 20  ponds_nearest          9110 non-null   float64       \n",
      " 21  days_exposition        23699 non-null  float64       \n",
      " 22  first_day_year         23699 non-null  int64         \n",
      " 23  normal_ceiling_height  23699 non-null  float64       \n",
      " 24  new_name               23699 non-null  object        \n",
      "dtypes: bool(2), datetime64[ns](1), float64(15), int64(4), object(3)\n",
      "memory usage: 4.2+ MB\n"
     ]
    }
   ],
   "source": [
    "df.info()"
   ]
  },
  {
   "cell_type": "markdown",
   "metadata": {},
   "source": [
    "Приведем значения столбца 'first_day_exposition' к дате."
   ]
  },
  {
   "cell_type": "code",
   "execution_count": 67,
   "metadata": {},
   "outputs": [],
   "source": [
    "df['first_day_exposition'] = pd.to_datetime(df['first_day_exposition'], format='%Y-%m-%d')"
   ]
  },
  {
   "cell_type": "code",
   "execution_count": 68,
   "metadata": {
    "scrolled": true
   },
   "outputs": [
    {
     "name": "stdout",
     "output_type": "stream",
     "text": [
      "<class 'pandas.core.frame.DataFrame'>\n",
      "RangeIndex: 23699 entries, 0 to 23698\n",
      "Data columns (total 25 columns):\n",
      " #   Column                 Non-Null Count  Dtype         \n",
      "---  ------                 --------------  -----         \n",
      " 0   total_images           23699 non-null  int64         \n",
      " 1   last_price             23699 non-null  float64       \n",
      " 2   total_area             23699 non-null  float64       \n",
      " 3   first_day_exposition   23699 non-null  datetime64[ns]\n",
      " 4   rooms                  23699 non-null  int64         \n",
      " 5   ceiling_height         23699 non-null  float64       \n",
      " 6   floors_total           23699 non-null  float64       \n",
      " 7   living_area            23699 non-null  float64       \n",
      " 8   floor                  23699 non-null  int64         \n",
      " 9   is_apartment           2775 non-null   object        \n",
      " 10  studio                 23699 non-null  bool          \n",
      " 11  open_plan              23699 non-null  bool          \n",
      " 12  kitchen_area           23699 non-null  float64       \n",
      " 13  balcony                23699 non-null  float64       \n",
      " 14  locality_name          23699 non-null  object        \n",
      " 15  airports_nearest       18313 non-null  float64       \n",
      " 16  cityCenters_nearest    18180 non-null  float64       \n",
      " 17  parks_around3000       18181 non-null  float64       \n",
      " 18  parks_nearest          8079 non-null   float64       \n",
      " 19  ponds_around3000       18181 non-null  float64       \n",
      " 20  ponds_nearest          9110 non-null   float64       \n",
      " 21  days_exposition        23699 non-null  float64       \n",
      " 22  first_day_year         23699 non-null  int64         \n",
      " 23  normal_ceiling_height  23699 non-null  float64       \n",
      " 24  new_name               23699 non-null  object        \n",
      "dtypes: bool(2), datetime64[ns](1), float64(15), int64(4), object(3)\n",
      "memory usage: 4.2+ MB\n"
     ]
    }
   ],
   "source": [
    "df.info()"
   ]
  },
  {
   "cell_type": "markdown",
   "metadata": {},
   "source": [
    "#### Изменение типов данных в 'floor'"
   ]
  },
  {
   "cell_type": "code",
   "execution_count": 69,
   "metadata": {},
   "outputs": [],
   "source": [
    "df['floor'] = df['floor'].astype('float')"
   ]
  },
  {
   "cell_type": "code",
   "execution_count": 70,
   "metadata": {},
   "outputs": [
    {
     "name": "stdout",
     "output_type": "stream",
     "text": [
      "<class 'pandas.core.frame.DataFrame'>\n",
      "RangeIndex: 23699 entries, 0 to 23698\n",
      "Data columns (total 25 columns):\n",
      " #   Column                 Non-Null Count  Dtype         \n",
      "---  ------                 --------------  -----         \n",
      " 0   total_images           23699 non-null  int64         \n",
      " 1   last_price             23699 non-null  float64       \n",
      " 2   total_area             23699 non-null  float64       \n",
      " 3   first_day_exposition   23699 non-null  datetime64[ns]\n",
      " 4   rooms                  23699 non-null  int64         \n",
      " 5   ceiling_height         23699 non-null  float64       \n",
      " 6   floors_total           23699 non-null  float64       \n",
      " 7   living_area            23699 non-null  float64       \n",
      " 8   floor                  23699 non-null  float64       \n",
      " 9   is_apartment           2775 non-null   object        \n",
      " 10  studio                 23699 non-null  bool          \n",
      " 11  open_plan              23699 non-null  bool          \n",
      " 12  kitchen_area           23699 non-null  float64       \n",
      " 13  balcony                23699 non-null  float64       \n",
      " 14  locality_name          23699 non-null  object        \n",
      " 15  airports_nearest       18313 non-null  float64       \n",
      " 16  cityCenters_nearest    18180 non-null  float64       \n",
      " 17  parks_around3000       18181 non-null  float64       \n",
      " 18  parks_nearest          8079 non-null   float64       \n",
      " 19  ponds_around3000       18181 non-null  float64       \n",
      " 20  ponds_nearest          9110 non-null   float64       \n",
      " 21  days_exposition        23699 non-null  float64       \n",
      " 22  first_day_year         23699 non-null  int64         \n",
      " 23  normal_ceiling_height  23699 non-null  float64       \n",
      " 24  new_name               23699 non-null  object        \n",
      "dtypes: bool(2), datetime64[ns](1), float64(16), int64(3), object(3)\n",
      "memory usage: 4.2+ MB\n"
     ]
    }
   ],
   "source": [
    "df.info()"
   ]
  },
  {
   "cell_type": "markdown",
   "metadata": {
    "id": "NDkb4wRMuqj9"
   },
   "source": [
    "## Расчёты и добавление результатов в таблицу"
   ]
  },
  {
   "cell_type": "markdown",
   "metadata": {},
   "source": [
    "#### Расчет стоимости квадратного метра"
   ]
  },
  {
   "cell_type": "markdown",
   "metadata": {},
   "source": [
    "Расчитаем стоимость квадратного метра и сразу округлим это значчение."
   ]
  },
  {
   "cell_type": "code",
   "execution_count": 71,
   "metadata": {},
   "outputs": [],
   "source": [
    "df['cost_per_meter'] = (df['last_price'] / df['total_area']).round(0)"
   ]
  },
  {
   "cell_type": "markdown",
   "metadata": {},
   "source": [
    "#### Расчет дня недели, месяца и года публикации"
   ]
  },
  {
   "cell_type": "code",
   "execution_count": 72,
   "metadata": {},
   "outputs": [],
   "source": [
    "df['week_day_exposition'] = df['first_day_exposition'].dt.weekday\n",
    "df['month_exposition'] = df['first_day_exposition'].dt.month\n",
    "df['year_exposition'] = df['first_day_exposition'].dt.year"
   ]
  },
  {
   "cell_type": "markdown",
   "metadata": {},
   "source": [
    "Добавляем в наше таблицу данные в отдельные столбцы."
   ]
  },
  {
   "cell_type": "markdown",
   "metadata": {},
   "source": [
    "#### Добавление типа этажа квартиры"
   ]
  },
  {
   "cell_type": "code",
   "execution_count": 73,
   "metadata": {},
   "outputs": [],
   "source": [
    "# Напишем функцию, котроя придаст категорию к каждому этажу в объявлении.\n",
    "def floor_categorization(row):\n",
    "    floor = row['floor']\n",
    "    floors_total = row['floors_total']\n",
    "    if floor == 1:\n",
    "        return 'первый'\n",
    "    elif floor == floors_total:\n",
    "        return 'последний'\n",
    "    return 'другой'"
   ]
  },
  {
   "cell_type": "code",
   "execution_count": 74,
   "metadata": {
    "scrolled": false
   },
   "outputs": [],
   "source": [
    "df['floor_category'] = df.apply(floor_categorization, axis=1)"
   ]
  },
  {
   "cell_type": "code",
   "execution_count": 75,
   "metadata": {},
   "outputs": [
    {
     "data": {
      "text/plain": [
       "array(['другой', 'первый', 'последний'], dtype=object)"
      ]
     },
     "metadata": {},
     "output_type": "display_data"
    }
   ],
   "source": [
    "display(df['floor_category'].unique())"
   ]
  },
  {
   "cell_type": "markdown",
   "metadata": {},
   "source": [
    "#### Расчет расстояния до центра города"
   ]
  },
  {
   "cell_type": "code",
   "execution_count": 76,
   "metadata": {
    "scrolled": true
   },
   "outputs": [
    {
     "data": {
      "text/plain": [
       "count    18180.000000\n",
       "mean     14191.277833\n",
       "std       8608.386210\n",
       "min        181.000000\n",
       "25%       9238.000000\n",
       "50%      13098.500000\n",
       "75%      16293.000000\n",
       "max      65968.000000\n",
       "Name: cityCenters_nearest, dtype: float64"
      ]
     },
     "execution_count": 76,
     "metadata": {},
     "output_type": "execute_result"
    }
   ],
   "source": [
    "# Посмотрим, что это за данные.\n",
    "df['cityCenters_nearest'].describe()"
   ]
  },
  {
   "cell_type": "markdown",
   "metadata": {},
   "source": [
    "Данные приведены в метрах, приведем их в километры и округлим до целых."
   ]
  },
  {
   "cell_type": "code",
   "execution_count": 77,
   "metadata": {},
   "outputs": [],
   "source": [
    "df['km_to_cityCenters_nearest'] = (df['cityCenters_nearest'] / 1000).round(0)"
   ]
  },
  {
   "cell_type": "code",
   "execution_count": 78,
   "metadata": {
    "scrolled": true
   },
   "outputs": [
    {
     "data": {
      "text/plain": [
       "count    18180.000000\n",
       "mean        14.184818\n",
       "std          8.616194\n",
       "min          0.000000\n",
       "25%          9.000000\n",
       "50%         13.000000\n",
       "75%         16.000000\n",
       "max         66.000000\n",
       "Name: km_to_cityCenters_nearest, dtype: float64"
      ]
     },
     "execution_count": 78,
     "metadata": {},
     "output_type": "execute_result"
    }
   ],
   "source": [
    "df['km_to_cityCenters_nearest'].describe()"
   ]
  },
  {
   "cell_type": "code",
   "execution_count": 79,
   "metadata": {},
   "outputs": [],
   "source": [
    "df['km_to_parks_nearest'] = (df['parks_nearest'] / 1000).round(0)"
   ]
  },
  {
   "cell_type": "markdown",
   "metadata": {},
   "source": [
    "#### Cоотношение жилой и общей площади, а также отношение площади кухни к общей"
   ]
  },
  {
   "cell_type": "code",
   "execution_count": 80,
   "metadata": {},
   "outputs": [],
   "source": [
    "# Добавляем столбец с отношением жилой площади к общей (area_ratio), переводим в % и приводим его в целочисленный тип\n",
    "df['area_ratio'] = df['living_area'] / df['total_area'] * 100\n",
    "df['area_ratio'] = df['area_ratio'].fillna(value=0).astype(int)"
   ]
  },
  {
   "cell_type": "code",
   "execution_count": 81,
   "metadata": {},
   "outputs": [],
   "source": [
    "# Добавляем столбец с отношением площади кухни к общей (kitchen_ratio), переводим в % и приводим его в целочисленный тип\n",
    "df['kitchen_ratio'] = df['kitchen_area'] / df['total_area'] * 100\n",
    "df['kitchen_ratio'] = df['kitchen_ratio'].fillna(value=0).astype(int)"
   ]
  },
  {
   "cell_type": "markdown",
   "metadata": {
    "id": "bbkJiMpRuqj9"
   },
   "source": [
    "## Исследовательский анализ данных"
   ]
  },
  {
   "cell_type": "markdown",
   "metadata": {
    "id": "evjMydACuqj9"
   },
   "source": [
    "### Гистограммы площадей"
   ]
  },
  {
   "cell_type": "code",
   "execution_count": 82,
   "metadata": {
    "scrolled": false
   },
   "outputs": [
    {
     "data": {
      "image/png": "[encoded data removed]",
      "text/plain": [
       "<Figure size 432x288 with 1 Axes>"
      ]
     },
     "metadata": {
      "needs_background": "light"
     },
     "output_type": "display_data"
    }
   ],
   "source": [
    "#Построим гистограмму общей площади\n",
    "\n",
    "plt.hist(df['total_area'], bins=70, range=(10,200))\n",
    "plt.title('Площадь квартир')\n",
    "plt.xlabel('Квадратные метры')\n",
    "plt.ylabel('Количество квартир')\n",
    "plt.show()"
   ]
  },
  {
   "cell_type": "markdown",
   "metadata": {},
   "source": [
    "Площадь.\n",
    "Большинство квартир - менее 100 квадратных метров, больше площадь практически не встречается. Есть отдельные пики которые характерны для 1, 2-х, 3-х комнатных квартир. Это зависит от стандартных планировок. Например однокомнатная квартира в 30-32 метра."
   ]
  },
  {
   "cell_type": "code",
   "execution_count": 83,
   "metadata": {
    "scrolled": false
   },
   "outputs": [
    {
     "data": {
      "image/png": "[encoded data removed]",
      "text/plain": [
       "<Figure size 432x288 with 1 Axes>"
      ]
     },
     "metadata": {
      "needs_background": "light"
     },
     "output_type": "display_data"
    }
   ],
   "source": [
    "#Построим гистограмму жилой площади\n",
    "\n",
    "plt.hist(df['living_area'], bins=70, range=(10,80))\n",
    "plt.title('Жилая площадь')\n",
    "plt.xlabel('Квадратные метры')\n",
    "plt.ylabel('Количество квартир')\n",
    "plt.show()"
   ]
  },
  {
   "cell_type": "markdown",
   "metadata": {},
   "source": [
    "Жилая площадь. Как и в предыдущем варианте хорошо видны три пика, которые характерны для 1, 2-х и 3-х комнатных квартир, далее данные распределяются равномерно."
   ]
  },
  {
   "cell_type": "code",
   "execution_count": 84,
   "metadata": {
    "scrolled": false
   },
   "outputs": [
    {
     "data": {
      "image/png": "[encoded data removed]",
      "text/plain": [
       "<Figure size 432x288 with 1 Axes>"
      ]
     },
     "metadata": {
      "needs_background": "light"
     },
     "output_type": "display_data"
    }
   ],
   "source": [
    "#Построим гистограмму площади кухни\n",
    "\n",
    "plt.hist(df['kitchen_area'], bins=30, range=(0,30))\n",
    "plt.title('Площадь кухни')\n",
    "plt.xlabel('Квадратные метры')\n",
    "plt.ylabel('Количество квартир')\n",
    "plt.show()"
   ]
  },
  {
   "cell_type": "markdown",
   "metadata": {},
   "source": [
    "Площадь кухни. Из графика видно, что соновная площадь кухни составляет от 6 до 11 метров, далее площадь растет но очень медленно и почти не превышает 30 метров."
   ]
  },
  {
   "cell_type": "code",
   "execution_count": 85,
   "metadata": {
    "scrolled": false
   },
   "outputs": [
    {
     "data": {
      "image/png": "[encoded data removed]",
      "text/plain": [
       "<Figure size 432x288 with 1 Axes>"
      ]
     },
     "metadata": {
      "needs_background": "light"
     },
     "output_type": "display_data"
    }
   ],
   "source": [
    "#Построим гистограмму по количеству комнат\n",
    "\n",
    "plt.hist(df['rooms'], bins=7, range=(1,7))\n",
    "plt.title('Комнаты')\n",
    "plt.xlabel('Количество комнат')\n",
    "plt.ylabel('Количество квартир')\n",
    "plt.show()"
   ]
  },
  {
   "cell_type": "markdown",
   "metadata": {},
   "source": [
    "Из графика видно, что подавляющее количество квартир с 1ой или 2мя комнатами, 3-х комнатных квартир уже меньше, квартиры с большим количеством комнат встречаются уже совсем редко."
   ]
  },
  {
   "cell_type": "code",
   "execution_count": 86,
   "metadata": {
    "scrolled": true
   },
   "outputs": [
    {
     "data": {
      "image/png": "[encoded data removed]",
      "text/plain": [
       "<Figure size 432x288 with 1 Axes>"
      ]
     },
     "metadata": {
      "needs_background": "light"
     },
     "output_type": "display_data"
    }
   ],
   "source": [
    "#Построим гистограмму высоты потолков в квартире\n",
    "\n",
    "plt.hist(df['normal_ceiling_height'], bins=20)\n",
    "plt.title('Высота потолков')\n",
    "plt.xlabel('Метры')\n",
    "plt.ylabel('Количество квартир')\n",
    "plt.show()"
   ]
  },
  {
   "cell_type": "markdown",
   "metadata": {},
   "source": [
    "Мы поработали с высотой потолков, избавились от аномальных значений, поэтому на графике прекрасно видно, что подавляющее количество квартир имеют медианное значение высоты потолков в 2,65 м."
   ]
  },
  {
   "cell_type": "code",
   "execution_count": 87,
   "metadata": {
    "scrolled": true
   },
   "outputs": [
    {
     "data": {
      "image/png": "[encoded data removed]",
      "text/plain": [
       "<Figure size 432x288 with 1 Axes>"
      ]
     },
     "metadata": {
      "needs_background": "light"
     },
     "output_type": "display_data"
    }
   ],
   "source": [
    "#Построим гистограмму этажности\n",
    "\n",
    "plt.hist(df['floor'], bins=20)\n",
    "plt.title('Этажи')\n",
    "plt.xlabel('Этажи')\n",
    "plt.ylabel('Количество квартир')\n",
    "plt.show()"
   ]
  },
  {
   "cell_type": "markdown",
   "metadata": {},
   "source": [
    "Из графика отлично видно, что дома располагаются в следующем порядке по этажности: 3, 5, 10, 15, 18, 20, 22 этажа. Это вполне стандартные значения в среднем по стране."
   ]
  },
  {
   "cell_type": "code",
   "execution_count": 88,
   "metadata": {
    "scrolled": true
   },
   "outputs": [
    {
     "data": {
      "image/png": "[encoded data removed]",
      "text/plain": [
       "<Figure size 432x288 with 1 Axes>"
      ]
     },
     "metadata": {
      "needs_background": "light"
     },
     "output_type": "display_data"
    }
   ],
   "source": [
    "#Построим гистограмму категорий этажей\n",
    "\n",
    "plt.hist(df['floor_category'], bins=20)\n",
    "plt.title('Категория этажа')\n",
    "plt.xlabel('Этажи')\n",
    "plt.ylabel('Количество квартир')\n",
    "plt.show()"
   ]
  },
  {
   "cell_type": "code",
   "execution_count": 89,
   "metadata": {
    "scrolled": true
   },
   "outputs": [
    {
     "data": {
      "image/png": "[encoded data removed]",
      "text/plain": [
       "<Figure size 432x288 with 1 Axes>"
      ]
     },
     "metadata": {
      "needs_background": "light"
     },
     "output_type": "display_data"
    }
   ],
   "source": [
    "#Построим гистограмму общего количества этажей\n",
    "\n",
    "plt.hist(df['floors_total'], bins=20)\n",
    "plt.title('Этажей в доме')\n",
    "plt.xlabel('Этажи')\n",
    "plt.ylabel('Количество квартир')\n",
    "plt.show()"
   ]
  },
  {
   "cell_type": "code",
   "execution_count": 90,
   "metadata": {
    "scrolled": false
   },
   "outputs": [
    {
     "data": {
      "image/png": "[encoded data removed]",
      "text/plain": [
       "<Figure size 432x288 with 1 Axes>"
      ]
     },
     "metadata": {
      "needs_background": "light"
     },
     "output_type": "display_data"
    }
   ],
   "source": [
    "#Построим гистограмму близости к городскому центру\n",
    "\n",
    "plt.hist(df['km_to_cityCenters_nearest'], bins=20)\n",
    "plt.title('Расстояние до центра города')\n",
    "plt.xlabel('Километры')\n",
    "plt.ylabel('Количество квартир')\n",
    "plt.show()"
   ]
  },
  {
   "cell_type": "markdown",
   "metadata": {},
   "source": [
    "Большинство квартир находится в 10-15 км от центра. Но есть жилые комплексы часто встречающиеся в 5 км от центра, скорее всего это советская застройка."
   ]
  },
  {
   "cell_type": "code",
   "execution_count": 91,
   "metadata": {
    "scrolled": true
   },
   "outputs": [
    {
     "data": {
      "image/png": "[encoded data removed]",
      "text/plain": [
       "<Figure size 432x288 with 1 Axes>"
      ]
     },
     "metadata": {
      "needs_background": "light"
     },
     "output_type": "display_data"
    }
   ],
   "source": [
    "#Построим гистограмму близости к парку\n",
    "\n",
    "plt.hist(df['km_to_parks_nearest'])\n",
    "plt.title('Расстояние до ближайшего парка')\n",
    "plt.xlabel('Километры')\n",
    "plt.ylabel('Количество квартир')\n",
    "plt.show()"
   ]
  },
  {
   "cell_type": "code",
   "execution_count": 92,
   "metadata": {
    "scrolled": true
   },
   "outputs": [
    {
     "data": {
      "image/png": "[encoded data removed]",
      "text/plain": [
       "<Figure size 432x288 with 1 Axes>"
      ]
     },
     "metadata": {
      "needs_background": "light"
     },
     "output_type": "display_data"
    }
   ],
   "source": [
    "#Построим гистограмму даты публикаций объявлений\n",
    "\n",
    "plt.hist(df['week_day_exposition'], bins=200)\n",
    "plt.title('День публикации объявления')\n",
    "plt.xlabel('Дата')\n",
    "plt.ylabel('Количество квартир')\n",
    "plt.show()"
   ]
  },
  {
   "cell_type": "code",
   "execution_count": 93,
   "metadata": {},
   "outputs": [
    {
     "data": {
      "image/png": "[encoded data removed]",
      "text/plain": [
       "<Figure size 432x288 with 1 Axes>"
      ]
     },
     "metadata": {
      "needs_background": "light"
     },
     "output_type": "display_data"
    }
   ],
   "source": [
    "#Построим гистограмму даты публикаций объявлений\n",
    "\n",
    "plt.hist(df['month_exposition'], bins=200)\n",
    "plt.title('День публикации объявления')\n",
    "plt.xlabel('Дата')\n",
    "plt.ylabel('Количество квартир')\n",
    "plt.show()"
   ]
  },
  {
   "cell_type": "markdown",
   "metadata": {},
   "source": [
    "### Исследование продолжительности объявлений"
   ]
  },
  {
   "cell_type": "code",
   "execution_count": 94,
   "metadata": {},
   "outputs": [],
   "source": [
    "# Отфильтруем значения без выбросов\n",
    "\n",
    "good_data = df.query('days_exposition != 30 and days_exposition != 45 and days_exposition != 60 and days_exposition != 90 and days_exposition != 0 and days_exposition < 500')"
   ]
  },
  {
   "cell_type": "code",
   "execution_count": 95,
   "metadata": {},
   "outputs": [
    {
     "data": {
      "text/plain": [
       "{'whiskers': [<matplotlib.lines.Line2D at 0x7fd1cea51610>,\n",
       "  <matplotlib.lines.Line2D at 0x7fd1cea51970>],\n",
       " 'caps': [<matplotlib.lines.Line2D at 0x7fd1cea51cd0>,\n",
       "  <matplotlib.lines.Line2D at 0x7fd1cea5b070>],\n",
       " 'boxes': [<matplotlib.lines.Line2D at 0x7fd1cea512b0>],\n",
       " 'medians': [<matplotlib.lines.Line2D at 0x7fd1cea5b3d0>],\n",
       " 'fliers': [<matplotlib.lines.Line2D at 0x7fd1cea5b730>],\n",
       " 'means': []}"
      ]
     },
     "execution_count": 95,
     "metadata": {},
     "output_type": "execute_result"
    },
    {
     "data": {
      "image/png": "[encoded data removed]",
      "text/plain": [
       "<Figure size 432x288 with 1 Axes>"
      ]
     },
     "metadata": {
      "needs_background": "light"
     },
     "output_type": "display_data"
    }
   ],
   "source": [
    "# Построим даиграмму распределения, что бы определить лимиты для гистограммы\n",
    "\n",
    "plt.boxplot(good_data['days_exposition'])"
   ]
  },
  {
   "cell_type": "code",
   "execution_count": 96,
   "metadata": {
    "scrolled": false
   },
   "outputs": [
    {
     "data": {
      "image/png": "[encoded data removed]",
      "text/plain": [
       "<Figure size 432x288 with 1 Axes>"
      ]
     },
     "metadata": {
      "needs_background": "light"
     },
     "output_type": "display_data"
    }
   ],
   "source": [
    "#Построим гистограмму времени продажи квартир, возьмем данные первых 3-х квартилей.\n",
    "\n",
    "plt.hist(df['days_exposition'], bins=50, range=(0,400))\n",
    "plt.title('Время продажи')\n",
    "plt.xlabel('Дни')\n",
    "plt.ylabel('Количество квартир')\n",
    "plt.show()"
   ]
  },
  {
   "cell_type": "code",
   "execution_count": 97,
   "metadata": {},
   "outputs": [
    {
     "data": {
      "image/png": "[encoded data removed]",
      "text/plain": [
       "<Figure size 432x288 with 1 Axes>"
      ]
     },
     "metadata": {
      "needs_background": "light"
     },
     "output_type": "display_data"
    }
   ],
   "source": [
    "#Построим гистограмму времени продажи квартир, возьмем отфитрованные данные без выбросов.\n",
    "\n",
    "plt.hist(good_data['days_exposition'], bins=50, range=(0,500))\n",
    "plt.title('Время продажи')\n",
    "plt.xlabel('Дни')\n",
    "plt.ylabel('Количество квартир')\n",
    "plt.show()"
   ]
  },
  {
   "cell_type": "code",
   "execution_count": 98,
   "metadata": {},
   "outputs": [
    {
     "name": "stdout",
     "output_type": "stream",
     "text": [
      "Медианное количество дней для продажи квартиры: 90.0\n"
     ]
    }
   ],
   "source": [
    "print('Медианное количество дней для продажи квартиры:', good_data['days_exposition'].median().round(0))"
   ]
  },
  {
   "cell_type": "code",
   "execution_count": 99,
   "metadata": {},
   "outputs": [
    {
     "name": "stdout",
     "output_type": "stream",
     "text": [
      "Среднее количество дней для продажи квартиры: 130.0\n"
     ]
    }
   ],
   "source": [
    "print('Среднее количество дней для продажи квартиры:', good_data['days_exposition'].mean().round(0))"
   ]
  },
  {
   "cell_type": "markdown",
   "metadata": {},
   "source": [
    "Медианно количество дней для продажи квартиры - 90, все что продается быстрее можно считать быстрыми продажами. Среднее количество дней для продажи квартиры - 130."
   ]
  },
  {
   "cell_type": "markdown",
   "metadata": {},
   "source": [
    "Я не понимаю, почему остаются выбросы в 45 и 90 дней."
   ]
  },
  {
   "cell_type": "markdown",
   "metadata": {},
   "source": [
    "### Исследование факторов влияющих на полную стоимость объекта"
   ]
  },
  {
   "cell_type": "code",
   "execution_count": 102,
   "metadata": {},
   "outputs": [
    {
     "data": {
      "text/plain": [
       "<AxesSubplot:xlabel='total_area'>"
      ]
     },
     "execution_count": 102,
     "metadata": {},
     "output_type": "execute_result"
    },
    {
     "data": {
      "image/png": "[encoded data removed]",
      "text/plain": [
       "<Figure size 432x288 with 1 Axes>"
      ]
     },
     "metadata": {
      "needs_background": "light"
     },
     "output_type": "display_data"
    }
   ],
   "source": [
    "# Зависимость цены от площади\n",
    "pivot_table_area_cost = df.pivot_table(index='total_area', values='last_price', aggfunc=['mean', 'median', 'count'])\n",
    "pivot_table_area_cost.columns = ['mean', 'median', 'count']\n",
    "pivot_table_area_cost.plot(y = 'median', style = 'o')"
   ]
  },
  {
   "cell_type": "code",
   "execution_count": 103,
   "metadata": {},
   "outputs": [
    {
     "data": {
      "text/plain": [
       "<AxesSubplot:xlabel='living_area'>"
      ]
     },
     "execution_count": 103,
     "metadata": {},
     "output_type": "execute_result"
    },
    {
     "data": {
      "image/png": "[encoded data removed]",
      "text/plain": [
       "<Figure size 432x288 with 1 Axes>"
      ]
     },
     "metadata": {
      "needs_background": "light"
     },
     "output_type": "display_data"
    }
   ],
   "source": [
    "# Зависимость цены от жилой площади\n",
    "pivot_table_area_cost = df.pivot_table(index='living_area', values='last_price', aggfunc=['mean', 'median', 'count'])\n",
    "pivot_table_area_cost.columns = ['mean', 'median', 'count']\n",
    "pivot_table_area_cost.plot(y = 'median', style = 'o')"
   ]
  },
  {
   "cell_type": "code",
   "execution_count": 104,
   "metadata": {},
   "outputs": [
    {
     "data": {
      "text/plain": [
       "<AxesSubplot:xlabel='kitchen_area'>"
      ]
     },
     "execution_count": 104,
     "metadata": {},
     "output_type": "execute_result"
    },
    {
     "data": {
      "image/png": "[encoded data removed]",
      "text/plain": [
       "<Figure size 432x288 with 1 Axes>"
      ]
     },
     "metadata": {
      "needs_background": "light"
     },
     "output_type": "display_data"
    }
   ],
   "source": [
    "# Зависимость цены от площади кухни\n",
    "pivot_table_area_cost = df.pivot_table(index='kitchen_area', values='last_price', aggfunc=['mean', 'median', 'count'])\n",
    "pivot_table_area_cost.columns = ['mean', 'median', 'count']\n",
    "pivot_table_area_cost.plot(y = 'median', style = 'o')"
   ]
  },
  {
   "cell_type": "code",
   "execution_count": 105,
   "metadata": {},
   "outputs": [
    {
     "data": {
      "text/plain": [
       "<AxesSubplot:xlabel='rooms'>"
      ]
     },
     "execution_count": 105,
     "metadata": {},
     "output_type": "execute_result"
    },
    {
     "data": {
      "image/png": "[encoded data removed]",
      "text/plain": [
       "<Figure size 432x288 with 1 Axes>"
      ]
     },
     "metadata": {
      "needs_background": "light"
     },
     "output_type": "display_data"
    }
   ],
   "source": [
    "# Зависимость цены от количества комнат\n",
    "pivot_table_area_cost = df.pivot_table(index='rooms', values='last_price', aggfunc=['mean', 'median', 'count'])\n",
    "pivot_table_area_cost.columns = ['mean', 'median', 'count']\n",
    "pivot_table_area_cost.query('count > 50').plot(y = 'median')"
   ]
  },
  {
   "cell_type": "code",
   "execution_count": 106,
   "metadata": {
    "scrolled": false
   },
   "outputs": [
    {
     "data": {
      "text/plain": [
       "<AxesSubplot:xlabel='floor_category'>"
      ]
     },
     "execution_count": 106,
     "metadata": {},
     "output_type": "execute_result"
    },
    {
     "data": {
      "image/png": "[encoded data removed]",
      "text/plain": [
       "<Figure size 432x288 with 1 Axes>"
      ]
     },
     "metadata": {
      "needs_background": "light"
     },
     "output_type": "display_data"
    }
   ],
   "source": [
    "# Зависимость цены от типа этажа\n",
    "pivot_table_area_cost = df.pivot_table(index='floor_category', values='last_price', aggfunc=['mean', 'median', 'count'])\n",
    "pivot_table_area_cost.columns = ['mean', 'median', 'count']\n",
    "pivot_table_area_cost.plot(y = 'median')"
   ]
  },
  {
   "cell_type": "markdown",
   "metadata": {},
   "source": [
    "Чем больше площадь, тем выше стоимость. Корреляция этих параметров крайне высокая. Число комнат влияет на цену (больше комнат - больше цена), однако зависимость ниже, чем у площади. Можно сделать вывод, что есть квартиры с набольшим количеством комнат, но с большой ценой, такое возможно если в квартире очень большие комнаты (например в студиях) или есть дорогие варианты квартир с малым количеством комнат (элитная недвижимость)."
   ]
  },
  {
   "cell_type": "markdown",
   "metadata": {},
   "source": [
    "Самые дорогие варианты квартир находятся в центре города, однако в центре также есть и достаточно дешёвые варианты."
   ]
  },
  {
   "cell_type": "markdown",
   "metadata": {},
   "source": [
    "Первый этаж непосредственно влияет на стоимость квартиры - в среднем квартиры на 1-м этаже значительно дешевле. Чуть дороже последний этаж. Наибольшая стоимость у квартир, расположенных не на 1-м и не на последнем этаже."
   ]
  },
  {
   "cell_type": "markdown",
   "metadata": {},
   "source": [
    "Цена за квадрат выше у однокомнатных квартир и квартир с 4 и 5 комнатами. Последнее, вероятно, объясняется элитностью недвижимости."
   ]
  },
  {
   "cell_type": "code",
   "execution_count": 107,
   "metadata": {},
   "outputs": [
    {
     "data": {
      "text/plain": [
       "<AxesSubplot:xlabel='week_day_exposition'>"
      ]
     },
     "execution_count": 107,
     "metadata": {},
     "output_type": "execute_result"
    },
    {
     "data": {
      "image/png": "[encoded data removed]",
      "text/plain": [
       "<Figure size 432x288 with 1 Axes>"
      ]
     },
     "metadata": {
      "needs_background": "light"
     },
     "output_type": "display_data"
    }
   ],
   "source": [
    "# Зависимость цены от дня недели публикации объявления\n",
    "pivot_table_area_cost = df.pivot_table(index='week_day_exposition', values='last_price', aggfunc=['mean', 'median', 'count'])\n",
    "pivot_table_area_cost.columns = ['mean', 'median', 'count']\n",
    "pivot_table_area_cost.plot(y = 'median')"
   ]
  },
  {
   "cell_type": "markdown",
   "metadata": {},
   "source": []
  },
  {
   "cell_type": "code",
   "execution_count": 108,
   "metadata": {},
   "outputs": [
    {
     "data": {
      "text/plain": [
       "<AxesSubplot:xlabel='month_exposition'>"
      ]
     },
     "execution_count": 108,
     "metadata": {},
     "output_type": "execute_result"
    },
    {
     "data": {
      "image/png": "[encoded data removed]",
      "text/plain": [
       "<Figure size 432x288 with 1 Axes>"
      ]
     },
     "metadata": {
      "needs_background": "light"
     },
     "output_type": "display_data"
    }
   ],
   "source": [
    "# Зависимость цены от дня месяца публикации объявления\n",
    "pivot_table_area_cost = df.pivot_table(index='month_exposition', values='last_price', aggfunc=['mean', 'median', 'count'])\n",
    "pivot_table_area_cost.columns = ['mean', 'median', 'count']\n",
    "pivot_table_area_cost.plot(y = 'median')"
   ]
  },
  {
   "cell_type": "markdown",
   "metadata": {},
   "source": []
  },
  {
   "cell_type": "code",
   "execution_count": 109,
   "metadata": {
    "scrolled": true
   },
   "outputs": [
    {
     "data": {
      "text/plain": [
       "<AxesSubplot:xlabel='year_exposition'>"
      ]
     },
     "execution_count": 109,
     "metadata": {},
     "output_type": "execute_result"
    },
    {
     "data": {
      "image/png": "[encoded data removed]",
      "text/plain": [
       "<Figure size 432x288 with 1 Axes>"
      ]
     },
     "metadata": {
      "needs_background": "light"
     },
     "output_type": "display_data"
    }
   ],
   "source": [
    "# Зависимость цены от дня года публикации объявления\n",
    "pivot_table_area_cost = df.pivot_table(index='year_exposition', values='last_price', aggfunc=['mean', 'median', 'count'])\n",
    "pivot_table_area_cost.columns = ['mean', 'median', 'count']\n",
    "pivot_table_area_cost.plot(y = 'median')"
   ]
  },
  {
   "cell_type": "markdown",
   "metadata": {},
   "source": [
    "День недели: дороже всего квартиры, опубликованные в понедельник, дешевле всего - в воскресенье. Это возможно из за особенностей алгоритмов показа объявлений (может быть объявления поднимаются в списке по понедельникам)."
   ]
  },
  {
   "cell_type": "markdown",
   "metadata": {},
   "source": [
    "Месяц: дороже всего квартиры, продающиеся с апреля, дешевле всего - с июня."
   ]
  },
  {
   "cell_type": "markdown",
   "metadata": {},
   "source": [
    "Год: Цена на квартиры очень сильно снизилась с 2014 и достигла минимума в 2016-2018 годах. Однако с начала 2019 года цены снова стали повышаться, возможно это было связано с ЧМ по футболу."
   ]
  },
  {
   "cell_type": "markdown",
   "metadata": {},
   "source": [
    "### Расчет средней цены одного квадратного метра в 10 населённых пунктах с наибольшим числом объявлений"
   ]
  },
  {
   "cell_type": "code",
   "execution_count": 110,
   "metadata": {
    "scrolled": true
   },
   "outputs": [
    {
     "data": {
      "text/plain": [
       "Санкт-Петербург    15721\n",
       "Мурино               590\n",
       "Кудрово              472\n",
       "Шушары               440\n",
       "Всеволожск           398\n",
       "Пушкин               369\n",
       "Колпино              338\n",
       "Парголово            327\n",
       "Гатчина              307\n",
       "Выборг               237\n",
       "Name: new_name, dtype: int64"
      ]
     },
     "execution_count": 110,
     "metadata": {},
     "output_type": "execute_result"
    }
   ],
   "source": [
    "#Возьмем первые 10 городов с наибольшим количество объявлений.\n",
    "\n",
    "big_citys = df['new_name'].value_counts().head(10)\n",
    "big_citys"
   ]
  },
  {
   "cell_type": "code",
   "execution_count": 111,
   "metadata": {
    "scrolled": true
   },
   "outputs": [
    {
     "data": {
      "text/html": [
       "<div>\n",
       "<style scoped>\n",
       "    .dataframe tbody tr th:only-of-type {\n",
       "        vertical-align: middle;\n",
       "    }\n",
       "\n",
       "    .dataframe tbody tr th {\n",
       "        vertical-align: top;\n",
       "    }\n",
       "\n",
       "    .dataframe thead th {\n",
       "        text-align: right;\n",
       "    }\n",
       "</style>\n",
       "<table border=\"1\" class=\"dataframe\">\n",
       "  <thead>\n",
       "    <tr style=\"text-align: right;\">\n",
       "      <th></th>\n",
       "      <th>Город</th>\n",
       "      <th>Средняя цена за кв.м., руб.</th>\n",
       "    </tr>\n",
       "  </thead>\n",
       "  <tbody>\n",
       "    <tr>\n",
       "      <th>0</th>\n",
       "      <td>Санкт-Петербург</td>\n",
       "      <td>114849.01</td>\n",
       "    </tr>\n",
       "    <tr>\n",
       "      <th>5</th>\n",
       "      <td>Пушкин</td>\n",
       "      <td>103125.82</td>\n",
       "    </tr>\n",
       "    <tr>\n",
       "      <th>2</th>\n",
       "      <td>Кудрово</td>\n",
       "      <td>95324.96</td>\n",
       "    </tr>\n",
       "    <tr>\n",
       "      <th>7</th>\n",
       "      <td>Парголово</td>\n",
       "      <td>90175.89</td>\n",
       "    </tr>\n",
       "    <tr>\n",
       "      <th>1</th>\n",
       "      <td>Мурино</td>\n",
       "      <td>86087.51</td>\n",
       "    </tr>\n",
       "    <tr>\n",
       "      <th>3</th>\n",
       "      <td>Шушары</td>\n",
       "      <td>78677.38</td>\n",
       "    </tr>\n",
       "    <tr>\n",
       "      <th>6</th>\n",
       "      <td>Колпино</td>\n",
       "      <td>75424.57</td>\n",
       "    </tr>\n",
       "    <tr>\n",
       "      <th>8</th>\n",
       "      <td>Гатчина</td>\n",
       "      <td>68746.11</td>\n",
       "    </tr>\n",
       "    <tr>\n",
       "      <th>4</th>\n",
       "      <td>Всеволожск</td>\n",
       "      <td>68654.47</td>\n",
       "    </tr>\n",
       "    <tr>\n",
       "      <th>9</th>\n",
       "      <td>Выборг</td>\n",
       "      <td>58141.92</td>\n",
       "    </tr>\n",
       "  </tbody>\n",
       "</table>\n",
       "</div>"
      ],
      "text/plain": [
       "             Город  Средняя цена за кв.м., руб.\n",
       "0  Санкт-Петербург                    114849.01\n",
       "5           Пушкин                    103125.82\n",
       "2          Кудрово                     95324.96\n",
       "7        Парголово                     90175.89\n",
       "1           Мурино                     86087.51\n",
       "3           Шушары                     78677.38\n",
       "6          Колпино                     75424.57\n",
       "8          Гатчина                     68746.11\n",
       "4       Всеволожск                     68654.47\n",
       "9           Выборг                     58141.92"
      ]
     },
     "execution_count": 111,
     "metadata": {},
     "output_type": "execute_result"
    }
   ],
   "source": [
    "big_citys = df['new_name'].value_counts().index.tolist()[:10]\n",
    "mean10_metrics = [df[df['new_name'] == city]['cost_per_meter'].mean().round(2) for city in big_citys]\n",
    "frame = {'Город': big_citys, 'Средняя цена за кв.м., руб.': mean10_metrics}\n",
    "mean_price_per_m2 = pd.DataFrame(frame).sort_values(by='Средняя цена за кв.м., руб.', ascending=False)\n",
    "mean_price_per_m2"
   ]
  },
  {
   "cell_type": "markdown",
   "metadata": {},
   "source": [
    "Из этой таблицы видно, что самая высокая средняя цена квадратного метра в Санкт-Петербурге, а самая низкая в Выборге."
   ]
  },
  {
   "cell_type": "markdown",
   "metadata": {},
   "source": [
    "### Средняя стоимость квартир на каждом километре от центра города в Санкт-Петребурге"
   ]
  },
  {
   "cell_type": "code",
   "execution_count": 112,
   "metadata": {},
   "outputs": [
    {
     "data": {
      "text/plain": [
       "66.0"
      ]
     },
     "execution_count": 112,
     "metadata": {},
     "output_type": "execute_result"
    }
   ],
   "source": [
    "df['km_to_cityCenters_nearest'].max()"
   ]
  },
  {
   "cell_type": "code",
   "execution_count": 113,
   "metadata": {
    "scrolled": true
   },
   "outputs": [
    {
     "data": {
      "image/png": "[encoded data removed]",
      "text/plain": [
       "<Figure size 720x360 with 1 Axes>"
      ]
     },
     "metadata": {
      "needs_background": "light"
     },
     "output_type": "display_data"
    }
   ],
   "source": [
    "# Построим график со средней стоимостью каждого км в Санкт-Петербурге\n",
    "(\n",
    "    df.query('new_name == \"Санкт-Петербург\"')\n",
    "    .pivot_table(index='km_to_cityCenters_nearest', values='last_price')\n",
    "    .plot(grid=True, style='o-', xlim=(0,66), figsize=(10, 5))\n",
    ")\n",
    "plt.show()"
   ]
  },
  {
   "cell_type": "markdown",
   "metadata": {},
   "source": [
    "Видно, что сразу по удалению от центра цена на квартиры начинает снижаться, но в зоне 5-8 км она даже немного растет, это может быть связано с элитными или новыми комплексами в \"хороших\" районах (например рядом с парком или на берегу залива). Далее цена снижается по удалению от центра."
   ]
  },
  {
   "cell_type": "markdown",
   "metadata": {
    "id": "hNQPMhQ5uqj-"
   },
   "source": [
    "## Общий вывод"
   ]
  },
  {
   "cell_type": "markdown",
   "metadata": {
    "id": "TBk94gYfuqj-"
   },
   "source": [
    "1. Срок продажи квартиры\n",
    "\n",
    "Чаще всего нужное количество дней для продажи квартиры - 90, все что продается быстрее можно считать быстрыми продажами. Среднее количество дней для продажи квартиры - 130. Все что дольше - это долгие продажи.\n",
    "Есть большое число квартир, проданных всего за несколько дней после публикации.\n",
    "Также есть варианты, которые продавались несколько десятков месяцев."
   ]
  },
  {
   "cell_type": "markdown",
   "metadata": {},
   "source": [
    "2. Факторы, влияющие на стоимость\n",
    "\n",
    "На стоимость больше влияет площадь квартиры, нежели число комнат. Т.е. могут быть дорогие квартиры с малым числом комнат, но где комнаты просторные.\n",
    "Первый этаж значительно дешевле остальных вариантов. Также стоимость квартиры на последнем этаже ниже, чем на остальных, кроме первого."
   ]
  },
  {
   "cell_type": "markdown",
   "metadata": {},
   "source": [
    "3. Стоимость квадратного метра в топ-10 населённых пунктов\n",
    "\n",
    "* Дороже всего квадратный метр в Санкт-Петербурге - 115 тыс руб\n",
    "* Дешевле всего квадратный метр в Выборге - 58 тыс руб"
   ]
  },
  {
   "cell_type": "markdown",
   "metadata": {},
   "source": [
    "4. Факторы, влияющие на стоимость в центре Санкт-Петербурга\n",
    "\n",
    "* В центре города практически нет разницы, насколько квартира удалена от условного центра города.\n",
    "* На расстоянии 5-8 км от центра города цена снова начинает расти.\n",
    "* На рссстоянии от 8 км цена снижается планомерно."
   ]
  }
 ],
 "metadata": {
  "ExecuteTimeLog": [
   {
    "duration": 1580,
    "start_time": "2022-07-19T07:52:03.153Z"
   },
   {
    "duration": 20,
    "start_time": "2022-07-19T07:52:16.080Z"
   },
   {
    "duration": 8,
    "start_time": "2022-07-19T07:52:58.620Z"
   },
   {
    "duration": 397,
    "start_time": "2022-07-19T07:53:09.819Z"
   },
   {
    "duration": 21,
    "start_time": "2022-07-19T07:53:22.092Z"
   },
   {
    "duration": 35,
    "start_time": "2022-07-19T07:53:52.595Z"
   },
   {
    "duration": 116,
    "start_time": "2022-07-19T07:56:16.593Z"
   },
   {
    "duration": 112,
    "start_time": "2022-07-19T07:56:32.784Z"
   },
   {
    "duration": 14,
    "start_time": "2022-07-19T07:56:33.525Z"
   },
   {
    "duration": 80,
    "start_time": "2022-07-19T07:56:47.939Z"
   },
   {
    "duration": 2,
    "start_time": "2022-07-19T07:57:45.247Z"
   },
   {
    "duration": 88,
    "start_time": "2022-07-19T08:21:05.895Z"
   },
   {
    "duration": 2,
    "start_time": "2022-07-19T08:32:49.989Z"
   },
   {
    "duration": 94,
    "start_time": "2022-07-19T08:32:50.212Z"
   },
   {
    "duration": 14,
    "start_time": "2022-07-19T08:32:50.393Z"
   },
   {
    "duration": 84,
    "start_time": "2022-07-19T08:32:50.971Z"
   },
   {
    "duration": 14,
    "start_time": "2022-07-19T08:44:43.399Z"
   },
   {
    "duration": 29,
    "start_time": "2022-07-19T08:49:53.021Z"
   },
   {
    "duration": 25,
    "start_time": "2022-07-19T08:50:30.629Z"
   },
   {
    "duration": 25,
    "start_time": "2022-07-19T08:54:17.375Z"
   },
   {
    "duration": 5,
    "start_time": "2022-07-19T08:57:49.316Z"
   },
   {
    "duration": 82,
    "start_time": "2022-07-19T08:58:56.548Z"
   },
   {
    "duration": 4,
    "start_time": "2022-07-19T08:59:14.910Z"
   },
   {
    "duration": 6,
    "start_time": "2022-07-19T09:00:00.082Z"
   },
   {
    "duration": 5,
    "start_time": "2022-07-19T09:00:11.786Z"
   },
   {
    "duration": 7,
    "start_time": "2022-07-19T09:00:41.744Z"
   },
   {
    "duration": 50,
    "start_time": "2022-07-19T09:00:53.018Z"
   },
   {
    "duration": 6,
    "start_time": "2022-07-19T09:00:57.659Z"
   },
   {
    "duration": 6,
    "start_time": "2022-07-19T09:10:24.650Z"
   },
   {
    "duration": 5,
    "start_time": "2022-07-19T09:10:29.762Z"
   },
   {
    "duration": 6,
    "start_time": "2022-07-19T09:10:35.834Z"
   },
   {
    "duration": 6,
    "start_time": "2022-07-19T09:12:15.255Z"
   },
   {
    "duration": 6,
    "start_time": "2022-07-19T11:07:33.435Z"
   },
   {
    "duration": 7,
    "start_time": "2022-07-19T11:07:51.020Z"
   },
   {
    "duration": 5,
    "start_time": "2022-07-19T11:08:04.588Z"
   },
   {
    "duration": 6,
    "start_time": "2022-07-19T11:08:08.006Z"
   },
   {
    "duration": 5,
    "start_time": "2022-07-19T11:09:00.852Z"
   },
   {
    "duration": 5,
    "start_time": "2022-07-19T11:09:25.536Z"
   },
   {
    "duration": 2,
    "start_time": "2022-07-19T11:12:17.849Z"
   },
   {
    "duration": 5,
    "start_time": "2022-07-19T11:13:45.679Z"
   },
   {
    "duration": 1359,
    "start_time": "2022-07-19T11:14:22.831Z"
   },
   {
    "duration": 5,
    "start_time": "2022-07-19T11:14:29.133Z"
   },
   {
    "duration": 9,
    "start_time": "2022-07-19T11:23:25.455Z"
   },
   {
    "duration": 4,
    "start_time": "2022-07-19T11:23:26.079Z"
   },
   {
    "duration": 8,
    "start_time": "2022-07-19T11:23:26.579Z"
   },
   {
    "duration": 5,
    "start_time": "2022-07-19T11:24:47.891Z"
   },
   {
    "duration": 9,
    "start_time": "2022-07-19T11:28:24.500Z"
   },
   {
    "duration": 9,
    "start_time": "2022-07-19T11:28:54.416Z"
   },
   {
    "duration": 8,
    "start_time": "2022-07-19T11:29:02.732Z"
   },
   {
    "duration": 10,
    "start_time": "2022-07-19T11:29:07.228Z"
   },
   {
    "duration": 10,
    "start_time": "2022-07-19T11:29:25.459Z"
   },
   {
    "duration": 10,
    "start_time": "2022-07-19T11:29:43.927Z"
   },
   {
    "duration": 1004,
    "start_time": "2022-07-19T11:29:59.817Z"
   },
   {
    "duration": 1609,
    "start_time": "2022-07-19T11:31:38.131Z"
   },
   {
    "duration": 1321,
    "start_time": "2022-07-19T11:31:59.728Z"
   },
   {
    "duration": 12,
    "start_time": "2022-07-19T11:36:25.703Z"
   },
   {
    "duration": 10,
    "start_time": "2022-07-19T11:37:14.145Z"
   },
   {
    "duration": 10,
    "start_time": "2022-07-19T11:40:15.070Z"
   },
   {
    "duration": 5,
    "start_time": "2022-07-19T11:40:36.859Z"
   },
   {
    "duration": 10,
    "start_time": "2022-07-19T11:40:41.576Z"
   },
   {
    "duration": 5,
    "start_time": "2022-07-19T11:41:20.216Z"
   },
   {
    "duration": 6,
    "start_time": "2022-07-19T11:41:39.800Z"
   },
   {
    "duration": 15,
    "start_time": "2022-07-19T11:42:33.253Z"
   },
   {
    "duration": 9,
    "start_time": "2022-07-19T11:44:09.143Z"
   },
   {
    "duration": 11,
    "start_time": "2022-07-19T11:45:41.357Z"
   },
   {
    "duration": 5,
    "start_time": "2022-07-19T11:47:02.493Z"
   },
   {
    "duration": 17,
    "start_time": "2022-07-19T11:47:56.708Z"
   },
   {
    "duration": 14,
    "start_time": "2022-07-19T11:48:08.698Z"
   },
   {
    "duration": 14,
    "start_time": "2022-07-19T11:49:57.916Z"
   },
   {
    "duration": 11,
    "start_time": "2022-07-19T11:50:20.746Z"
   },
   {
    "duration": 9,
    "start_time": "2022-07-19T11:50:40.918Z"
   },
   {
    "duration": 13,
    "start_time": "2022-07-19T11:53:39.828Z"
   },
   {
    "duration": 6,
    "start_time": "2022-07-19T12:14:41.217Z"
   },
   {
    "duration": 6,
    "start_time": "2022-07-19T12:16:15.522Z"
   },
   {
    "duration": 11,
    "start_time": "2022-07-19T12:16:41.289Z"
   },
   {
    "duration": 8,
    "start_time": "2022-07-19T12:16:45.548Z"
   },
   {
    "duration": 9,
    "start_time": "2022-07-19T12:19:23.955Z"
   },
   {
    "duration": 20,
    "start_time": "2022-07-19T12:19:24.395Z"
   },
   {
    "duration": 10,
    "start_time": "2022-07-19T12:19:25.011Z"
   },
   {
    "duration": 1680,
    "start_time": "2022-07-19T13:10:31.679Z"
   },
   {
    "duration": 14,
    "start_time": "2022-07-19T13:11:11.878Z"
   },
   {
    "duration": 6,
    "start_time": "2022-07-19T13:47:46.209Z"
   },
   {
    "duration": 6,
    "start_time": "2022-07-19T13:48:08.435Z"
   },
   {
    "duration": 8,
    "start_time": "2022-07-19T13:48:39.135Z"
   },
   {
    "duration": 63,
    "start_time": "2022-07-19T13:49:18.153Z"
   },
   {
    "duration": 17,
    "start_time": "2022-07-19T13:58:10.787Z"
   },
   {
    "duration": 36,
    "start_time": "2022-07-19T13:58:15.224Z"
   },
   {
    "duration": 52,
    "start_time": "2022-07-19T16:55:50.933Z"
   },
   {
    "duration": 1627,
    "start_time": "2022-07-19T16:56:02.007Z"
   },
   {
    "duration": 423,
    "start_time": "2022-07-19T16:56:03.638Z"
   },
   {
    "duration": 31,
    "start_time": "2022-07-19T16:56:04.063Z"
   },
   {
    "duration": 49,
    "start_time": "2022-07-19T16:56:04.098Z"
   },
   {
    "duration": 130,
    "start_time": "2022-07-19T16:56:04.149Z"
   },
   {
    "duration": 11,
    "start_time": "2022-07-19T16:56:04.281Z"
   },
   {
    "duration": 1352,
    "start_time": "2022-07-19T16:56:04.294Z"
   },
   {
    "duration": 0,
    "start_time": "2022-07-19T16:56:05.649Z"
   },
   {
    "duration": 0,
    "start_time": "2022-07-19T16:56:05.651Z"
   },
   {
    "duration": 0,
    "start_time": "2022-07-19T16:56:05.652Z"
   },
   {
    "duration": 0,
    "start_time": "2022-07-19T16:56:05.654Z"
   },
   {
    "duration": 0,
    "start_time": "2022-07-19T16:56:05.655Z"
   },
   {
    "duration": 0,
    "start_time": "2022-07-19T16:56:05.656Z"
   },
   {
    "duration": 0,
    "start_time": "2022-07-19T16:56:05.657Z"
   },
   {
    "duration": 0,
    "start_time": "2022-07-19T16:56:05.659Z"
   },
   {
    "duration": 0,
    "start_time": "2022-07-19T16:56:05.660Z"
   },
   {
    "duration": 0,
    "start_time": "2022-07-19T16:56:05.661Z"
   },
   {
    "duration": 0,
    "start_time": "2022-07-19T16:56:05.662Z"
   },
   {
    "duration": 0,
    "start_time": "2022-07-19T16:56:05.663Z"
   },
   {
    "duration": 0,
    "start_time": "2022-07-19T16:56:05.665Z"
   },
   {
    "duration": 0,
    "start_time": "2022-07-19T16:56:05.666Z"
   },
   {
    "duration": 0,
    "start_time": "2022-07-19T16:56:05.667Z"
   },
   {
    "duration": 0,
    "start_time": "2022-07-19T16:56:05.668Z"
   },
   {
    "duration": 0,
    "start_time": "2022-07-19T16:56:05.669Z"
   },
   {
    "duration": 0,
    "start_time": "2022-07-19T16:56:05.671Z"
   },
   {
    "duration": 0,
    "start_time": "2022-07-19T16:56:05.672Z"
   },
   {
    "duration": 0,
    "start_time": "2022-07-19T16:56:05.673Z"
   },
   {
    "duration": 0,
    "start_time": "2022-07-19T16:56:05.674Z"
   },
   {
    "duration": 3,
    "start_time": "2022-07-19T16:57:07.385Z"
   },
   {
    "duration": 107,
    "start_time": "2022-07-19T16:57:07.574Z"
   },
   {
    "duration": 16,
    "start_time": "2022-07-19T16:57:07.694Z"
   },
   {
    "duration": 29,
    "start_time": "2022-07-19T16:57:07.829Z"
   },
   {
    "duration": 79,
    "start_time": "2022-07-19T16:57:08.117Z"
   },
   {
    "duration": 11,
    "start_time": "2022-07-19T16:57:08.979Z"
   },
   {
    "duration": 1057,
    "start_time": "2022-07-19T16:57:09.920Z"
   },
   {
    "duration": 1120,
    "start_time": "2022-07-19T16:57:10.979Z"
   },
   {
    "duration": 43,
    "start_time": "2022-07-20T11:27:29.456Z"
   },
   {
    "duration": 1353,
    "start_time": "2022-07-20T11:27:53.092Z"
   },
   {
    "duration": 205,
    "start_time": "2022-07-20T11:27:54.447Z"
   },
   {
    "duration": 17,
    "start_time": "2022-07-20T11:27:54.657Z"
   },
   {
    "duration": 37,
    "start_time": "2022-07-20T11:27:54.676Z"
   },
   {
    "duration": 112,
    "start_time": "2022-07-20T11:27:54.715Z"
   },
   {
    "duration": 9,
    "start_time": "2022-07-20T11:27:54.829Z"
   },
   {
    "duration": 1065,
    "start_time": "2022-07-20T11:27:54.840Z"
   },
   {
    "duration": 5,
    "start_time": "2022-07-20T11:27:55.907Z"
   },
   {
    "duration": 38,
    "start_time": "2022-07-20T11:27:55.915Z"
   },
   {
    "duration": 4,
    "start_time": "2022-07-20T11:27:55.955Z"
   },
   {
    "duration": 26,
    "start_time": "2022-07-20T11:27:55.960Z"
   },
   {
    "duration": 8,
    "start_time": "2022-07-20T11:27:55.987Z"
   },
   {
    "duration": 19,
    "start_time": "2022-07-20T11:27:55.997Z"
   },
   {
    "duration": 15,
    "start_time": "2022-07-20T11:27:56.018Z"
   },
   {
    "duration": 17,
    "start_time": "2022-07-20T11:27:56.035Z"
   },
   {
    "duration": 19,
    "start_time": "2022-07-20T11:27:56.054Z"
   },
   {
    "duration": 126,
    "start_time": "2022-07-20T11:27:56.075Z"
   },
   {
    "duration": 0,
    "start_time": "2022-07-20T11:27:56.203Z"
   },
   {
    "duration": 0,
    "start_time": "2022-07-20T11:27:56.205Z"
   },
   {
    "duration": 0,
    "start_time": "2022-07-20T11:27:56.206Z"
   },
   {
    "duration": 0,
    "start_time": "2022-07-20T11:27:56.209Z"
   },
   {
    "duration": 0,
    "start_time": "2022-07-20T11:27:56.210Z"
   },
   {
    "duration": 0,
    "start_time": "2022-07-20T11:27:56.212Z"
   },
   {
    "duration": 0,
    "start_time": "2022-07-20T11:27:56.213Z"
   },
   {
    "duration": 0,
    "start_time": "2022-07-20T11:27:56.214Z"
   },
   {
    "duration": 0,
    "start_time": "2022-07-20T11:27:56.215Z"
   },
   {
    "duration": 1009,
    "start_time": "2022-07-20T11:30:26.829Z"
   },
   {
    "duration": 905,
    "start_time": "2022-07-20T11:30:35.079Z"
   },
   {
    "duration": 11,
    "start_time": "2022-07-20T11:31:26.055Z"
   },
   {
    "duration": 12,
    "start_time": "2022-07-20T11:33:39.026Z"
   },
   {
    "duration": 6,
    "start_time": "2022-07-20T11:33:39.274Z"
   },
   {
    "duration": 8,
    "start_time": "2022-07-20T11:33:39.934Z"
   },
   {
    "duration": 9,
    "start_time": "2022-07-20T11:33:46.235Z"
   },
   {
    "duration": 10,
    "start_time": "2022-07-20T11:33:46.952Z"
   },
   {
    "duration": 12,
    "start_time": "2022-07-20T11:38:51.208Z"
   },
   {
    "duration": 4,
    "start_time": "2022-07-20T11:39:02.839Z"
   },
   {
    "duration": 7,
    "start_time": "2022-07-20T11:41:20.803Z"
   },
   {
    "duration": 2,
    "start_time": "2022-07-20T11:41:29.170Z"
   },
   {
    "duration": 5,
    "start_time": "2022-07-20T11:41:45.347Z"
   },
   {
    "duration": 6,
    "start_time": "2022-07-20T11:44:39.083Z"
   },
   {
    "duration": 5,
    "start_time": "2022-07-20T11:44:51.829Z"
   },
   {
    "duration": 881,
    "start_time": "2022-07-20T11:49:03.149Z"
   },
   {
    "duration": 1044,
    "start_time": "2022-07-20T11:49:41.501Z"
   },
   {
    "duration": 5,
    "start_time": "2022-07-20T11:50:01.291Z"
   },
   {
    "duration": 6,
    "start_time": "2022-07-20T11:50:11.139Z"
   },
   {
    "duration": 928,
    "start_time": "2022-07-20T11:50:11.707Z"
   },
   {
    "duration": 5,
    "start_time": "2022-07-20T11:50:13.666Z"
   },
   {
    "duration": 5,
    "start_time": "2022-07-20T11:50:16.317Z"
   },
   {
    "duration": 8,
    "start_time": "2022-07-20T11:50:17.444Z"
   },
   {
    "duration": 2,
    "start_time": "2022-07-20T11:50:30.559Z"
   },
   {
    "duration": 5,
    "start_time": "2022-07-20T11:50:31.434Z"
   },
   {
    "duration": 8,
    "start_time": "2022-07-20T11:50:32.279Z"
   },
   {
    "duration": 1089,
    "start_time": "2022-07-20T11:50:47.193Z"
   },
   {
    "duration": 106,
    "start_time": "2022-07-20T11:50:48.284Z"
   },
   {
    "duration": 17,
    "start_time": "2022-07-20T11:50:48.392Z"
   },
   {
    "duration": 48,
    "start_time": "2022-07-20T11:50:48.411Z"
   },
   {
    "duration": 77,
    "start_time": "2022-07-20T11:50:48.461Z"
   },
   {
    "duration": 10,
    "start_time": "2022-07-20T11:50:48.553Z"
   },
   {
    "duration": 1012,
    "start_time": "2022-07-20T11:50:48.565Z"
   },
   {
    "duration": 5,
    "start_time": "2022-07-20T11:50:49.579Z"
   },
   {
    "duration": 31,
    "start_time": "2022-07-20T11:50:49.585Z"
   },
   {
    "duration": 5,
    "start_time": "2022-07-20T11:50:49.618Z"
   },
   {
    "duration": 5,
    "start_time": "2022-07-20T11:50:49.625Z"
   },
   {
    "duration": 4,
    "start_time": "2022-07-20T11:50:49.653Z"
   },
   {
    "duration": 5,
    "start_time": "2022-07-20T11:50:49.659Z"
   },
   {
    "duration": 9,
    "start_time": "2022-07-20T11:50:49.666Z"
   },
   {
    "duration": 5,
    "start_time": "2022-07-20T11:50:49.676Z"
   },
   {
    "duration": 10,
    "start_time": "2022-07-20T11:50:49.683Z"
   },
   {
    "duration": 4,
    "start_time": "2022-07-20T11:50:49.695Z"
   },
   {
    "duration": 7,
    "start_time": "2022-07-20T11:50:49.700Z"
   },
   {
    "duration": 8,
    "start_time": "2022-07-20T11:50:49.708Z"
   },
   {
    "duration": 38,
    "start_time": "2022-07-20T11:50:49.718Z"
   },
   {
    "duration": 6,
    "start_time": "2022-07-20T11:50:49.758Z"
   },
   {
    "duration": 2,
    "start_time": "2022-07-20T11:50:49.766Z"
   },
   {
    "duration": 7,
    "start_time": "2022-07-20T11:50:49.769Z"
   },
   {
    "duration": 12,
    "start_time": "2022-07-20T11:50:49.778Z"
   },
   {
    "duration": 9,
    "start_time": "2022-07-20T11:50:49.791Z"
   },
   {
    "duration": 66,
    "start_time": "2022-07-20T11:50:49.802Z"
   },
   {
    "duration": 14,
    "start_time": "2022-07-20T11:50:49.870Z"
   },
   {
    "duration": 4,
    "start_time": "2022-07-20T11:50:49.888Z"
   },
   {
    "duration": 5,
    "start_time": "2022-07-20T11:53:20.542Z"
   },
   {
    "duration": 5,
    "start_time": "2022-07-20T11:53:21.027Z"
   },
   {
    "duration": 9,
    "start_time": "2022-07-20T11:53:22.204Z"
   },
   {
    "duration": 6,
    "start_time": "2022-07-20T11:54:23.448Z"
   },
   {
    "duration": 6,
    "start_time": "2022-07-20T11:54:30.127Z"
   },
   {
    "duration": 2,
    "start_time": "2022-07-20T11:56:21.876Z"
   },
   {
    "duration": 4,
    "start_time": "2022-07-20T11:56:59.186Z"
   },
   {
    "duration": 7,
    "start_time": "2022-07-20T11:57:19.284Z"
   },
   {
    "duration": 1157,
    "start_time": "2022-07-20T11:57:38.308Z"
   },
   {
    "duration": 102,
    "start_time": "2022-07-20T11:57:39.467Z"
   },
   {
    "duration": 18,
    "start_time": "2022-07-20T11:57:39.570Z"
   },
   {
    "duration": 32,
    "start_time": "2022-07-20T11:57:39.590Z"
   },
   {
    "duration": 92,
    "start_time": "2022-07-20T11:57:39.624Z"
   },
   {
    "duration": 9,
    "start_time": "2022-07-20T11:57:39.717Z"
   },
   {
    "duration": 1088,
    "start_time": "2022-07-20T11:57:39.727Z"
   },
   {
    "duration": 4,
    "start_time": "2022-07-20T11:57:40.817Z"
   },
   {
    "duration": 41,
    "start_time": "2022-07-20T11:57:40.822Z"
   },
   {
    "duration": 5,
    "start_time": "2022-07-20T11:57:40.866Z"
   },
   {
    "duration": 4,
    "start_time": "2022-07-20T11:57:40.873Z"
   },
   {
    "duration": 6,
    "start_time": "2022-07-20T11:57:40.879Z"
   },
   {
    "duration": 6,
    "start_time": "2022-07-20T11:57:40.887Z"
   },
   {
    "duration": 8,
    "start_time": "2022-07-20T11:57:40.894Z"
   },
   {
    "duration": 13,
    "start_time": "2022-07-20T11:57:40.903Z"
   },
   {
    "duration": 38,
    "start_time": "2022-07-20T11:57:40.918Z"
   },
   {
    "duration": 6,
    "start_time": "2022-07-20T11:57:40.958Z"
   },
   {
    "duration": 7,
    "start_time": "2022-07-20T11:57:40.966Z"
   },
   {
    "duration": 8,
    "start_time": "2022-07-20T11:57:40.975Z"
   },
   {
    "duration": 8,
    "start_time": "2022-07-20T11:57:40.985Z"
   },
   {
    "duration": 8,
    "start_time": "2022-07-20T11:57:40.994Z"
   },
   {
    "duration": 5,
    "start_time": "2022-07-20T11:57:41.004Z"
   },
   {
    "duration": 44,
    "start_time": "2022-07-20T11:57:41.010Z"
   },
   {
    "duration": 8,
    "start_time": "2022-07-20T11:57:41.056Z"
   },
   {
    "duration": 3,
    "start_time": "2022-07-20T11:57:41.066Z"
   },
   {
    "duration": 6,
    "start_time": "2022-07-20T11:57:41.071Z"
   },
   {
    "duration": 5,
    "start_time": "2022-07-20T11:57:41.079Z"
   },
   {
    "duration": 10,
    "start_time": "2022-07-20T11:57:41.088Z"
   },
   {
    "duration": 8,
    "start_time": "2022-07-20T11:57:41.100Z"
   },
   {
    "duration": 43,
    "start_time": "2022-07-20T11:57:41.151Z"
   },
   {
    "duration": 15,
    "start_time": "2022-07-20T11:57:41.196Z"
   },
   {
    "duration": 9,
    "start_time": "2022-07-20T11:57:41.213Z"
   },
   {
    "duration": 1132,
    "start_time": "2022-07-20T12:02:40.954Z"
   },
   {
    "duration": 91,
    "start_time": "2022-07-20T12:02:42.088Z"
   },
   {
    "duration": 15,
    "start_time": "2022-07-20T12:02:42.181Z"
   },
   {
    "duration": 28,
    "start_time": "2022-07-20T12:02:42.198Z"
   },
   {
    "duration": 89,
    "start_time": "2022-07-20T12:02:42.229Z"
   },
   {
    "duration": 7,
    "start_time": "2022-07-20T12:02:42.320Z"
   },
   {
    "duration": 992,
    "start_time": "2022-07-20T12:02:42.329Z"
   },
   {
    "duration": 4,
    "start_time": "2022-07-20T12:02:43.323Z"
   },
   {
    "duration": 38,
    "start_time": "2022-07-20T12:02:43.328Z"
   },
   {
    "duration": 5,
    "start_time": "2022-07-20T12:02:43.367Z"
   },
   {
    "duration": 4,
    "start_time": "2022-07-20T12:02:43.374Z"
   },
   {
    "duration": 6,
    "start_time": "2022-07-20T12:02:43.380Z"
   },
   {
    "duration": 5,
    "start_time": "2022-07-20T12:02:43.387Z"
   },
   {
    "duration": 4,
    "start_time": "2022-07-20T12:02:43.394Z"
   },
   {
    "duration": 7,
    "start_time": "2022-07-20T12:02:43.399Z"
   },
   {
    "duration": 46,
    "start_time": "2022-07-20T12:02:43.407Z"
   },
   {
    "duration": 7,
    "start_time": "2022-07-20T12:02:43.454Z"
   },
   {
    "duration": 35,
    "start_time": "2022-07-20T12:02:43.463Z"
   },
   {
    "duration": 103,
    "start_time": "2022-07-20T12:02:43.500Z"
   },
   {
    "duration": 10,
    "start_time": "2022-07-20T12:04:45.523Z"
   },
   {
    "duration": 9,
    "start_time": "2022-07-20T12:05:13.078Z"
   },
   {
    "duration": 6,
    "start_time": "2022-07-20T12:07:58.880Z"
   },
   {
    "duration": 5,
    "start_time": "2022-07-20T12:08:25.325Z"
   },
   {
    "duration": 6,
    "start_time": "2022-07-20T12:14:05.621Z"
   },
   {
    "duration": 115,
    "start_time": "2022-07-20T12:19:42.464Z"
   },
   {
    "duration": 8,
    "start_time": "2022-07-20T12:25:41.802Z"
   },
   {
    "duration": 4,
    "start_time": "2022-07-20T12:25:42.164Z"
   },
   {
    "duration": 9,
    "start_time": "2022-07-20T12:26:26.092Z"
   },
   {
    "duration": 5,
    "start_time": "2022-07-20T12:26:26.885Z"
   },
   {
    "duration": 5,
    "start_time": "2022-07-20T12:26:56.264Z"
   },
   {
    "duration": 6,
    "start_time": "2022-07-20T12:26:56.621Z"
   },
   {
    "duration": 8,
    "start_time": "2022-07-20T12:27:04.632Z"
   },
   {
    "duration": 4,
    "start_time": "2022-07-20T12:31:24.591Z"
   },
   {
    "duration": 4,
    "start_time": "2022-07-20T12:31:25.561Z"
   },
   {
    "duration": 8,
    "start_time": "2022-07-20T12:31:27.125Z"
   },
   {
    "duration": 1055,
    "start_time": "2022-07-20T12:31:34.800Z"
   },
   {
    "duration": 90,
    "start_time": "2022-07-20T12:31:35.856Z"
   },
   {
    "duration": 13,
    "start_time": "2022-07-20T12:31:35.948Z"
   },
   {
    "duration": 27,
    "start_time": "2022-07-20T12:31:35.963Z"
   },
   {
    "duration": 100,
    "start_time": "2022-07-20T12:31:35.992Z"
   },
   {
    "duration": 11,
    "start_time": "2022-07-20T12:31:36.094Z"
   },
   {
    "duration": 974,
    "start_time": "2022-07-20T12:31:36.106Z"
   },
   {
    "duration": 4,
    "start_time": "2022-07-20T12:31:37.082Z"
   },
   {
    "duration": 30,
    "start_time": "2022-07-20T12:31:37.087Z"
   },
   {
    "duration": 28,
    "start_time": "2022-07-20T12:31:37.119Z"
   },
   {
    "duration": 6,
    "start_time": "2022-07-20T12:31:37.148Z"
   },
   {
    "duration": 6,
    "start_time": "2022-07-20T12:31:37.156Z"
   },
   {
    "duration": 17,
    "start_time": "2022-07-20T12:31:37.163Z"
   },
   {
    "duration": 18,
    "start_time": "2022-07-20T12:31:37.182Z"
   },
   {
    "duration": 14,
    "start_time": "2022-07-20T12:31:37.202Z"
   },
   {
    "duration": 36,
    "start_time": "2022-07-20T12:31:37.217Z"
   },
   {
    "duration": 18,
    "start_time": "2022-07-20T12:31:37.255Z"
   },
   {
    "duration": 33,
    "start_time": "2022-07-20T12:31:37.274Z"
   },
   {
    "duration": 13,
    "start_time": "2022-07-20T12:31:37.308Z"
   },
   {
    "duration": 26,
    "start_time": "2022-07-20T12:31:37.322Z"
   },
   {
    "duration": 14,
    "start_time": "2022-07-20T12:31:37.350Z"
   },
   {
    "duration": 8,
    "start_time": "2022-07-20T12:31:37.366Z"
   },
   {
    "duration": 51,
    "start_time": "2022-07-20T12:31:37.375Z"
   },
   {
    "duration": 147,
    "start_time": "2022-07-20T12:31:37.427Z"
   },
   {
    "duration": 0,
    "start_time": "2022-07-20T12:31:37.575Z"
   },
   {
    "duration": 6,
    "start_time": "2022-07-20T12:33:38.301Z"
   },
   {
    "duration": 1556,
    "start_time": "2022-07-20T12:33:49.244Z"
   },
   {
    "duration": 0,
    "start_time": "2022-07-20T12:33:50.802Z"
   },
   {
    "duration": 6,
    "start_time": "2022-07-20T12:34:06.123Z"
   },
   {
    "duration": 5,
    "start_time": "2022-07-20T12:34:14.665Z"
   },
   {
    "duration": 1400,
    "start_time": "2022-07-20T12:34:34.887Z"
   },
   {
    "duration": 8,
    "start_time": "2022-07-20T12:35:10.271Z"
   },
   {
    "duration": 11,
    "start_time": "2022-07-20T12:35:19.573Z"
   },
   {
    "duration": 10,
    "start_time": "2022-07-20T12:35:44.054Z"
   },
   {
    "duration": 7958,
    "start_time": "2022-07-20T12:35:48.547Z"
   },
   {
    "duration": 5,
    "start_time": "2022-07-20T12:41:24.788Z"
   },
   {
    "duration": 4,
    "start_time": "2022-07-20T12:41:40.867Z"
   },
   {
    "duration": 5,
    "start_time": "2022-07-20T12:41:41.951Z"
   },
   {
    "duration": 8,
    "start_time": "2022-07-20T12:41:42.323Z"
   },
   {
    "duration": 3,
    "start_time": "2022-07-20T12:42:44.719Z"
   },
   {
    "duration": 5,
    "start_time": "2022-07-20T12:42:45.086Z"
   },
   {
    "duration": 4,
    "start_time": "2022-07-20T12:42:56.600Z"
   },
   {
    "duration": 13,
    "start_time": "2022-07-20T12:43:13.676Z"
   },
   {
    "duration": 4,
    "start_time": "2022-07-20T12:43:39.142Z"
   },
   {
    "duration": 3,
    "start_time": "2022-07-20T12:43:43.745Z"
   },
   {
    "duration": 3,
    "start_time": "2022-07-20T12:43:57.843Z"
   },
   {
    "duration": 4,
    "start_time": "2022-07-20T12:43:58.590Z"
   },
   {
    "duration": 7,
    "start_time": "2022-07-20T12:43:58.992Z"
   },
   {
    "duration": 6,
    "start_time": "2022-07-20T12:45:19.061Z"
   },
   {
    "duration": 4,
    "start_time": "2022-07-20T12:45:44.111Z"
   },
   {
    "duration": 4,
    "start_time": "2022-07-20T12:46:11.996Z"
   },
   {
    "duration": 5,
    "start_time": "2022-07-20T12:46:27.892Z"
   },
   {
    "duration": 10,
    "start_time": "2022-07-20T12:46:54.678Z"
   },
   {
    "duration": 5,
    "start_time": "2022-07-20T12:49:17.442Z"
   },
   {
    "duration": 12,
    "start_time": "2022-07-20T12:53:10.660Z"
   },
   {
    "duration": 7948,
    "start_time": "2022-07-20T13:10:37.059Z"
   },
   {
    "duration": 12,
    "start_time": "2022-07-20T13:11:16.064Z"
   },
   {
    "duration": 9,
    "start_time": "2022-07-20T13:19:24.083Z"
   },
   {
    "duration": 21,
    "start_time": "2022-07-20T13:19:55.648Z"
   },
   {
    "duration": 7601,
    "start_time": "2022-07-20T13:21:42.156Z"
   },
   {
    "duration": 7,
    "start_time": "2022-07-20T13:21:49.759Z"
   },
   {
    "duration": 1432,
    "start_time": "2022-07-22T11:04:30.880Z"
   },
   {
    "duration": 171,
    "start_time": "2022-07-22T11:04:32.314Z"
   },
   {
    "duration": 22,
    "start_time": "2022-07-22T11:04:32.488Z"
   },
   {
    "duration": 32,
    "start_time": "2022-07-22T11:04:32.513Z"
   },
   {
    "duration": 99,
    "start_time": "2022-07-22T11:04:32.546Z"
   },
   {
    "duration": 11,
    "start_time": "2022-07-22T11:04:32.647Z"
   },
   {
    "duration": 1218,
    "start_time": "2022-07-22T11:04:32.659Z"
   },
   {
    "duration": 5,
    "start_time": "2022-07-22T11:04:33.879Z"
   },
   {
    "duration": 31,
    "start_time": "2022-07-22T11:04:33.886Z"
   },
   {
    "duration": 39,
    "start_time": "2022-07-22T11:04:33.921Z"
   },
   {
    "duration": 7,
    "start_time": "2022-07-22T11:04:33.962Z"
   },
   {
    "duration": 9,
    "start_time": "2022-07-22T11:04:33.971Z"
   },
   {
    "duration": 7,
    "start_time": "2022-07-22T11:04:33.982Z"
   },
   {
    "duration": 17,
    "start_time": "2022-07-22T11:04:33.991Z"
   },
   {
    "duration": 5,
    "start_time": "2022-07-22T11:04:34.010Z"
   },
   {
    "duration": 12,
    "start_time": "2022-07-22T11:04:34.017Z"
   },
   {
    "duration": 10,
    "start_time": "2022-07-22T11:04:34.031Z"
   },
   {
    "duration": 6,
    "start_time": "2022-07-22T11:04:34.043Z"
   },
   {
    "duration": 9,
    "start_time": "2022-07-22T11:04:34.051Z"
   },
   {
    "duration": 8,
    "start_time": "2022-07-22T11:04:34.062Z"
   },
   {
    "duration": 35,
    "start_time": "2022-07-22T11:04:34.073Z"
   },
   {
    "duration": 12,
    "start_time": "2022-07-22T11:04:34.110Z"
   },
   {
    "duration": 12,
    "start_time": "2022-07-22T11:04:34.124Z"
   },
   {
    "duration": 17,
    "start_time": "2022-07-22T11:04:34.139Z"
   },
   {
    "duration": 6,
    "start_time": "2022-07-22T11:04:34.158Z"
   },
   {
    "duration": 5,
    "start_time": "2022-07-22T11:04:34.166Z"
   },
   {
    "duration": 9,
    "start_time": "2022-07-22T11:04:34.172Z"
   },
   {
    "duration": 8,
    "start_time": "2022-07-22T11:04:34.206Z"
   },
   {
    "duration": 54,
    "start_time": "2022-07-22T11:04:34.217Z"
   },
   {
    "duration": 5,
    "start_time": "2022-07-22T11:04:34.274Z"
   },
   {
    "duration": 10044,
    "start_time": "2022-07-22T11:04:34.305Z"
   },
   {
    "duration": 5,
    "start_time": "2022-07-22T11:04:44.351Z"
   },
   {
    "duration": 41,
    "start_time": "2022-07-22T11:04:44.358Z"
   },
   {
    "duration": 23,
    "start_time": "2022-07-22T11:04:44.401Z"
   },
   {
    "duration": 90,
    "start_time": "2022-07-22T11:05:35.051Z"
   },
   {
    "duration": 1300,
    "start_time": "2022-07-22T11:05:45.774Z"
   },
   {
    "duration": 100,
    "start_time": "2022-07-22T11:05:47.076Z"
   },
   {
    "duration": 10042,
    "start_time": "2022-07-22T11:05:47.178Z"
   },
   {
    "duration": 23,
    "start_time": "2022-07-22T11:05:57.223Z"
   },
   {
    "duration": 36,
    "start_time": "2022-07-22T11:05:57.248Z"
   },
   {
    "duration": 100,
    "start_time": "2022-07-22T11:05:57.305Z"
   },
   {
    "duration": 9,
    "start_time": "2022-07-22T11:05:57.407Z"
   },
   {
    "duration": 1145,
    "start_time": "2022-07-22T11:05:57.418Z"
   },
   {
    "duration": 5,
    "start_time": "2022-07-22T11:05:58.565Z"
   },
   {
    "duration": 14,
    "start_time": "2022-07-22T11:05:58.573Z"
   },
   {
    "duration": 45,
    "start_time": "2022-07-22T11:05:58.589Z"
   },
   {
    "duration": 7,
    "start_time": "2022-07-22T11:05:58.636Z"
   },
   {
    "duration": 6,
    "start_time": "2022-07-22T11:05:58.645Z"
   },
   {
    "duration": 6,
    "start_time": "2022-07-22T11:05:58.653Z"
   },
   {
    "duration": 6,
    "start_time": "2022-07-22T11:05:58.661Z"
   },
   {
    "duration": 35,
    "start_time": "2022-07-22T11:05:58.669Z"
   },
   {
    "duration": 8,
    "start_time": "2022-07-22T11:05:58.706Z"
   },
   {
    "duration": 10,
    "start_time": "2022-07-22T11:05:58.715Z"
   },
   {
    "duration": 5,
    "start_time": "2022-07-22T11:05:58.727Z"
   },
   {
    "duration": 7,
    "start_time": "2022-07-22T11:05:58.734Z"
   },
   {
    "duration": 5,
    "start_time": "2022-07-22T11:05:58.744Z"
   },
   {
    "duration": 6,
    "start_time": "2022-07-22T11:05:58.751Z"
   },
   {
    "duration": 44,
    "start_time": "2022-07-22T11:05:58.760Z"
   },
   {
    "duration": 11,
    "start_time": "2022-07-22T11:05:58.806Z"
   },
   {
    "duration": 14,
    "start_time": "2022-07-22T11:05:58.819Z"
   },
   {
    "duration": 4,
    "start_time": "2022-07-22T11:05:58.835Z"
   },
   {
    "duration": 8,
    "start_time": "2022-07-22T11:05:58.841Z"
   },
   {
    "duration": 9,
    "start_time": "2022-07-22T11:05:58.854Z"
   },
   {
    "duration": 8,
    "start_time": "2022-07-22T11:05:58.867Z"
   },
   {
    "duration": 61,
    "start_time": "2022-07-22T11:05:58.903Z"
   },
   {
    "duration": 5,
    "start_time": "2022-07-22T11:05:58.966Z"
   },
   {
    "duration": 9403,
    "start_time": "2022-07-22T11:05:58.973Z"
   },
   {
    "duration": 8,
    "start_time": "2022-07-22T11:06:08.377Z"
   },
   {
    "duration": 32,
    "start_time": "2022-07-22T11:06:08.388Z"
   },
   {
    "duration": 61,
    "start_time": "2022-07-22T11:06:08.423Z"
   },
   {
    "duration": 1270,
    "start_time": "2022-07-22T11:09:32.272Z"
   },
   {
    "duration": 92,
    "start_time": "2022-07-22T11:09:33.544Z"
   },
   {
    "duration": 17,
    "start_time": "2022-07-22T11:09:33.637Z"
   },
   {
    "duration": 29,
    "start_time": "2022-07-22T11:09:33.656Z"
   },
   {
    "duration": 93,
    "start_time": "2022-07-22T11:09:33.686Z"
   },
   {
    "duration": 25,
    "start_time": "2022-07-22T11:09:33.781Z"
   },
   {
    "duration": 1056,
    "start_time": "2022-07-22T11:09:33.807Z"
   },
   {
    "duration": 5,
    "start_time": "2022-07-22T11:09:34.864Z"
   },
   {
    "duration": 8,
    "start_time": "2022-07-22T11:09:34.871Z"
   },
   {
    "duration": 41,
    "start_time": "2022-07-22T11:09:34.882Z"
   },
   {
    "duration": 5,
    "start_time": "2022-07-22T11:09:34.924Z"
   },
   {
    "duration": 5,
    "start_time": "2022-07-22T11:09:34.930Z"
   },
   {
    "duration": 5,
    "start_time": "2022-07-22T11:09:34.936Z"
   },
   {
    "duration": 9,
    "start_time": "2022-07-22T11:09:34.942Z"
   },
   {
    "duration": 7,
    "start_time": "2022-07-22T11:09:34.952Z"
   },
   {
    "duration": 5,
    "start_time": "2022-07-22T11:09:34.961Z"
   },
   {
    "duration": 172,
    "start_time": "2022-07-22T11:09:34.968Z"
   },
   {
    "duration": 8,
    "start_time": "2022-07-22T11:09:35.142Z"
   },
   {
    "duration": 12,
    "start_time": "2022-07-22T11:09:35.152Z"
   },
   {
    "duration": 10,
    "start_time": "2022-07-22T11:09:35.166Z"
   },
   {
    "duration": 9,
    "start_time": "2022-07-22T11:09:35.178Z"
   },
   {
    "duration": 13,
    "start_time": "2022-07-22T11:09:35.189Z"
   },
   {
    "duration": 7,
    "start_time": "2022-07-22T11:09:35.203Z"
   },
   {
    "duration": 13,
    "start_time": "2022-07-22T11:09:35.211Z"
   },
   {
    "duration": 42,
    "start_time": "2022-07-22T11:09:35.225Z"
   },
   {
    "duration": 32,
    "start_time": "2022-07-22T11:09:35.269Z"
   },
   {
    "duration": 9,
    "start_time": "2022-07-22T11:09:35.302Z"
   },
   {
    "duration": 11,
    "start_time": "2022-07-22T11:09:35.314Z"
   },
   {
    "duration": 84,
    "start_time": "2022-07-22T11:09:35.327Z"
   },
   {
    "duration": 6,
    "start_time": "2022-07-22T11:09:35.412Z"
   },
   {
    "duration": 8399,
    "start_time": "2022-07-22T11:09:35.420Z"
   },
   {
    "duration": 9,
    "start_time": "2022-07-22T11:09:43.820Z"
   },
   {
    "duration": 14,
    "start_time": "2022-07-22T11:09:43.831Z"
   },
   {
    "duration": 23,
    "start_time": "2022-07-22T11:09:43.846Z"
   },
   {
    "duration": 55,
    "start_time": "2022-07-22T13:26:26.121Z"
   },
   {
    "duration": 1323,
    "start_time": "2022-07-22T13:26:33.276Z"
   },
   {
    "duration": 338,
    "start_time": "2022-07-22T13:26:34.601Z"
   },
   {
    "duration": 15,
    "start_time": "2022-07-22T13:26:34.941Z"
   },
   {
    "duration": 3,
    "start_time": "2022-07-22T13:26:36.172Z"
   },
   {
    "duration": 23,
    "start_time": "2022-07-22T13:26:37.481Z"
   },
   {
    "duration": 3,
    "start_time": "2022-07-22T13:27:03.977Z"
   },
   {
    "duration": 84,
    "start_time": "2022-07-22T13:27:04.801Z"
   },
   {
    "duration": 14,
    "start_time": "2022-07-22T13:27:05.413Z"
   },
   {
    "duration": 24,
    "start_time": "2022-07-22T13:27:06.721Z"
   },
   {
    "duration": 3,
    "start_time": "2022-07-22T13:27:16.756Z"
   },
   {
    "duration": 24,
    "start_time": "2022-07-22T13:27:17.168Z"
   },
   {
    "duration": 1838,
    "start_time": "2022-07-22T13:28:59.678Z"
   },
   {
    "duration": 62,
    "start_time": "2022-07-24T18:25:51.007Z"
   },
   {
    "duration": 1460,
    "start_time": "2022-07-24T18:26:07.831Z"
   },
   {
    "duration": 352,
    "start_time": "2022-07-24T18:26:09.293Z"
   },
   {
    "duration": 18,
    "start_time": "2022-07-24T18:26:09.647Z"
   },
   {
    "duration": 3,
    "start_time": "2022-07-24T18:26:09.666Z"
   },
   {
    "duration": 29,
    "start_time": "2022-07-24T18:26:09.671Z"
   },
   {
    "duration": 77,
    "start_time": "2022-07-24T18:26:09.701Z"
   },
   {
    "duration": 2056,
    "start_time": "2022-07-24T18:26:09.779Z"
   },
   {
    "duration": 12,
    "start_time": "2022-07-24T18:26:11.847Z"
   },
   {
    "duration": 1205,
    "start_time": "2022-07-24T18:26:11.861Z"
   },
   {
    "duration": 4,
    "start_time": "2022-07-24T18:26:13.069Z"
   },
   {
    "duration": 8,
    "start_time": "2022-07-24T18:26:13.074Z"
   },
   {
    "duration": 22,
    "start_time": "2022-07-24T18:26:13.084Z"
   },
   {
    "duration": 24,
    "start_time": "2022-07-24T18:26:13.108Z"
   },
   {
    "duration": 13,
    "start_time": "2022-07-24T18:26:13.140Z"
   },
   {
    "duration": 5,
    "start_time": "2022-07-24T18:26:13.155Z"
   },
   {
    "duration": 8,
    "start_time": "2022-07-24T18:26:13.162Z"
   },
   {
    "duration": 6,
    "start_time": "2022-07-24T18:26:13.172Z"
   },
   {
    "duration": 5,
    "start_time": "2022-07-24T18:26:13.179Z"
   },
   {
    "duration": 7,
    "start_time": "2022-07-24T18:26:13.186Z"
   },
   {
    "duration": 5,
    "start_time": "2022-07-24T18:26:13.194Z"
   },
   {
    "duration": 33,
    "start_time": "2022-07-24T18:26:13.201Z"
   },
   {
    "duration": 21,
    "start_time": "2022-07-24T18:26:13.237Z"
   },
   {
    "duration": 10,
    "start_time": "2022-07-24T18:26:13.260Z"
   },
   {
    "duration": 10,
    "start_time": "2022-07-24T18:26:13.271Z"
   },
   {
    "duration": 7,
    "start_time": "2022-07-24T18:26:13.283Z"
   },
   {
    "duration": 7,
    "start_time": "2022-07-24T18:26:13.291Z"
   },
   {
    "duration": 6,
    "start_time": "2022-07-24T18:26:13.300Z"
   },
   {
    "duration": 9,
    "start_time": "2022-07-24T18:26:13.307Z"
   },
   {
    "duration": 30,
    "start_time": "2022-07-24T18:26:13.318Z"
   },
   {
    "duration": 19,
    "start_time": "2022-07-24T18:26:13.350Z"
   },
   {
    "duration": 34,
    "start_time": "2022-07-24T18:26:13.371Z"
   },
   {
    "duration": 4,
    "start_time": "2022-07-24T18:26:13.407Z"
   },
   {
    "duration": 8294,
    "start_time": "2022-07-24T18:26:13.412Z"
   },
   {
    "duration": 17,
    "start_time": "2022-07-24T18:26:21.708Z"
   },
   {
    "duration": 17,
    "start_time": "2022-07-24T18:26:21.732Z"
   },
   {
    "duration": 29,
    "start_time": "2022-07-24T18:26:21.752Z"
   },
   {
    "duration": 4,
    "start_time": "2022-07-24T18:26:46.052Z"
   },
   {
    "duration": 3,
    "start_time": "2022-07-24T18:26:48.190Z"
   },
   {
    "duration": 4,
    "start_time": "2022-07-24T18:26:48.412Z"
   },
   {
    "duration": 4,
    "start_time": "2022-07-24T18:30:17.742Z"
   },
   {
    "duration": 5,
    "start_time": "2022-07-24T18:30:42.198Z"
   },
   {
    "duration": 1416,
    "start_time": "2022-07-25T08:50:29.220Z"
   },
   {
    "duration": 157,
    "start_time": "2022-07-25T08:50:30.639Z"
   },
   {
    "duration": 17,
    "start_time": "2022-07-25T08:50:30.798Z"
   },
   {
    "duration": 7,
    "start_time": "2022-07-25T08:50:30.817Z"
   },
   {
    "duration": 54,
    "start_time": "2022-07-25T08:50:30.827Z"
   },
   {
    "duration": 104,
    "start_time": "2022-07-25T08:50:30.883Z"
   },
   {
    "duration": 2054,
    "start_time": "2022-07-25T08:50:30.989Z"
   },
   {
    "duration": 9,
    "start_time": "2022-07-25T08:50:33.045Z"
   },
   {
    "duration": 1135,
    "start_time": "2022-07-25T08:50:33.055Z"
   },
   {
    "duration": 4,
    "start_time": "2022-07-25T08:50:34.192Z"
   },
   {
    "duration": 12,
    "start_time": "2022-07-25T08:50:34.198Z"
   },
   {
    "duration": 42,
    "start_time": "2022-07-25T08:50:34.212Z"
   },
   {
    "duration": 31,
    "start_time": "2022-07-25T08:50:34.256Z"
   },
   {
    "duration": 8,
    "start_time": "2022-07-25T08:50:34.290Z"
   },
   {
    "duration": 14,
    "start_time": "2022-07-25T08:50:34.302Z"
   },
   {
    "duration": 6,
    "start_time": "2022-07-25T08:50:34.318Z"
   },
   {
    "duration": 6,
    "start_time": "2022-07-25T08:50:34.326Z"
   },
   {
    "duration": 8,
    "start_time": "2022-07-25T08:50:34.333Z"
   },
   {
    "duration": 12,
    "start_time": "2022-07-25T08:50:34.342Z"
   },
   {
    "duration": 18,
    "start_time": "2022-07-25T08:50:34.355Z"
   },
   {
    "duration": 14,
    "start_time": "2022-07-25T08:50:34.374Z"
   },
   {
    "duration": 7,
    "start_time": "2022-07-25T08:50:34.390Z"
   },
   {
    "duration": 10,
    "start_time": "2022-07-25T08:50:34.399Z"
   },
   {
    "duration": 13,
    "start_time": "2022-07-25T08:50:34.411Z"
   },
   {
    "duration": 8,
    "start_time": "2022-07-25T08:50:34.426Z"
   },
   {
    "duration": 8,
    "start_time": "2022-07-25T08:50:34.435Z"
   },
   {
    "duration": 9,
    "start_time": "2022-07-25T08:50:34.444Z"
   },
   {
    "duration": 29,
    "start_time": "2022-07-25T08:50:34.454Z"
   },
   {
    "duration": 8,
    "start_time": "2022-07-25T08:50:34.484Z"
   },
   {
    "duration": 9,
    "start_time": "2022-07-25T08:50:34.494Z"
   },
   {
    "duration": 32,
    "start_time": "2022-07-25T08:50:34.505Z"
   },
   {
    "duration": 16,
    "start_time": "2022-07-25T08:50:34.539Z"
   },
   {
    "duration": 7998,
    "start_time": "2022-07-25T08:50:34.557Z"
   },
   {
    "duration": 9,
    "start_time": "2022-07-25T08:50:42.557Z"
   },
   {
    "duration": 18,
    "start_time": "2022-07-25T08:50:42.568Z"
   },
   {
    "duration": 30,
    "start_time": "2022-07-25T08:50:42.588Z"
   },
   {
    "duration": 5,
    "start_time": "2022-07-25T08:50:46.506Z"
   },
   {
    "duration": 6,
    "start_time": "2022-07-25T08:50:47.973Z"
   },
   {
    "duration": 3,
    "start_time": "2022-07-25T08:50:49.992Z"
   },
   {
    "duration": 5,
    "start_time": "2022-07-25T08:55:49.184Z"
   },
   {
    "duration": 6,
    "start_time": "2022-07-25T08:55:50.119Z"
   },
   {
    "duration": 6,
    "start_time": "2022-07-25T08:56:31.977Z"
   },
   {
    "duration": 6,
    "start_time": "2022-07-25T08:56:32.926Z"
   },
   {
    "duration": 7,
    "start_time": "2022-07-25T09:00:39.969Z"
   },
   {
    "duration": 8,
    "start_time": "2022-07-25T09:00:41.965Z"
   },
   {
    "duration": 1065,
    "start_time": "2022-07-25T09:01:03.374Z"
   },
   {
    "duration": 81,
    "start_time": "2022-07-25T09:01:04.441Z"
   },
   {
    "duration": 13,
    "start_time": "2022-07-25T09:01:04.524Z"
   },
   {
    "duration": 3,
    "start_time": "2022-07-25T09:01:04.539Z"
   },
   {
    "duration": 29,
    "start_time": "2022-07-25T09:01:04.543Z"
   },
   {
    "duration": 85,
    "start_time": "2022-07-25T09:01:04.574Z"
   },
   {
    "duration": 1899,
    "start_time": "2022-07-25T09:01:04.660Z"
   },
   {
    "duration": 9,
    "start_time": "2022-07-25T09:01:06.561Z"
   },
   {
    "duration": 1059,
    "start_time": "2022-07-25T09:01:06.572Z"
   },
   {
    "duration": 5,
    "start_time": "2022-07-25T09:01:07.634Z"
   },
   {
    "duration": 16,
    "start_time": "2022-07-25T09:01:07.640Z"
   },
   {
    "duration": 24,
    "start_time": "2022-07-25T09:01:07.657Z"
   },
   {
    "duration": 4,
    "start_time": "2022-07-25T09:01:07.683Z"
   },
   {
    "duration": 6,
    "start_time": "2022-07-25T09:01:07.688Z"
   },
   {
    "duration": 6,
    "start_time": "2022-07-25T09:01:07.696Z"
   },
   {
    "duration": 6,
    "start_time": "2022-07-25T09:01:07.704Z"
   },
   {
    "duration": 11,
    "start_time": "2022-07-25T09:01:07.711Z"
   },
   {
    "duration": 28,
    "start_time": "2022-07-25T09:01:07.724Z"
   },
   {
    "duration": 12,
    "start_time": "2022-07-25T09:01:07.754Z"
   },
   {
    "duration": 9,
    "start_time": "2022-07-25T09:01:07.768Z"
   },
   {
    "duration": 9,
    "start_time": "2022-07-25T09:01:07.778Z"
   },
   {
    "duration": 6,
    "start_time": "2022-07-25T09:01:07.789Z"
   },
   {
    "duration": 8,
    "start_time": "2022-07-25T09:01:07.797Z"
   },
   {
    "duration": 15,
    "start_time": "2022-07-25T09:01:07.806Z"
   },
   {
    "duration": 31,
    "start_time": "2022-07-25T09:01:07.822Z"
   },
   {
    "duration": 8,
    "start_time": "2022-07-25T09:01:07.855Z"
   },
   {
    "duration": 5,
    "start_time": "2022-07-25T09:01:07.865Z"
   },
   {
    "duration": 4,
    "start_time": "2022-07-25T09:01:07.874Z"
   },
   {
    "duration": 14,
    "start_time": "2022-07-25T09:01:07.880Z"
   },
   {
    "duration": 10,
    "start_time": "2022-07-25T09:01:07.896Z"
   },
   {
    "duration": 58,
    "start_time": "2022-07-25T09:01:07.907Z"
   },
   {
    "duration": 5,
    "start_time": "2022-07-25T09:01:07.966Z"
   },
   {
    "duration": 8129,
    "start_time": "2022-07-25T09:01:07.973Z"
   },
   {
    "duration": 10,
    "start_time": "2022-07-25T09:01:16.104Z"
   },
   {
    "duration": 15,
    "start_time": "2022-07-25T09:01:16.116Z"
   },
   {
    "duration": 40,
    "start_time": "2022-07-25T09:01:16.132Z"
   },
   {
    "duration": 4,
    "start_time": "2022-07-25T09:01:40.780Z"
   },
   {
    "duration": 5,
    "start_time": "2022-07-25T09:04:16.463Z"
   },
   {
    "duration": 4,
    "start_time": "2022-07-25T09:04:44.544Z"
   },
   {
    "duration": 1575,
    "start_time": "2022-07-25T09:07:18.625Z"
   },
   {
    "duration": 9,
    "start_time": "2022-07-25T09:07:49.699Z"
   },
   {
    "duration": 2968,
    "start_time": "2022-07-25T09:08:16.151Z"
   },
   {
    "duration": 3,
    "start_time": "2022-07-25T09:08:30.460Z"
   },
   {
    "duration": 1058,
    "start_time": "2022-07-25T09:08:38.400Z"
   },
   {
    "duration": 83,
    "start_time": "2022-07-25T09:08:39.460Z"
   },
   {
    "duration": 16,
    "start_time": "2022-07-25T09:08:39.544Z"
   },
   {
    "duration": 3,
    "start_time": "2022-07-25T09:08:39.562Z"
   },
   {
    "duration": 26,
    "start_time": "2022-07-25T09:08:39.566Z"
   },
   {
    "duration": 84,
    "start_time": "2022-07-25T09:08:39.593Z"
   },
   {
    "duration": 1832,
    "start_time": "2022-07-25T09:08:39.679Z"
   },
   {
    "duration": 9,
    "start_time": "2022-07-25T09:08:41.512Z"
   },
   {
    "duration": 1054,
    "start_time": "2022-07-25T09:08:41.522Z"
   },
   {
    "duration": 5,
    "start_time": "2022-07-25T09:08:42.580Z"
   },
   {
    "duration": 11,
    "start_time": "2022-07-25T09:08:42.586Z"
   },
   {
    "duration": 30,
    "start_time": "2022-07-25T09:08:42.598Z"
   },
   {
    "duration": 22,
    "start_time": "2022-07-25T09:08:42.630Z"
   },
   {
    "duration": 10,
    "start_time": "2022-07-25T09:08:42.661Z"
   },
   {
    "duration": 28,
    "start_time": "2022-07-25T09:08:42.673Z"
   },
   {
    "duration": 11,
    "start_time": "2022-07-25T09:08:42.703Z"
   },
   {
    "duration": 10,
    "start_time": "2022-07-25T09:08:42.716Z"
   },
   {
    "duration": 9,
    "start_time": "2022-07-25T09:08:42.728Z"
   },
   {
    "duration": 16,
    "start_time": "2022-07-25T09:08:42.739Z"
   },
   {
    "duration": 12,
    "start_time": "2022-07-25T09:08:42.757Z"
   },
   {
    "duration": 9,
    "start_time": "2022-07-25T09:08:42.771Z"
   },
   {
    "duration": 3164,
    "start_time": "2022-07-25T09:08:42.782Z"
   },
   {
    "duration": 5,
    "start_time": "2022-07-25T09:08:45.947Z"
   },
   {
    "duration": 29,
    "start_time": "2022-07-25T09:08:45.954Z"
   },
   {
    "duration": 31,
    "start_time": "2022-07-25T09:08:45.984Z"
   },
   {
    "duration": 53,
    "start_time": "2022-07-25T09:08:46.017Z"
   },
   {
    "duration": 15,
    "start_time": "2022-07-25T09:08:46.072Z"
   },
   {
    "duration": 8,
    "start_time": "2022-07-25T09:08:46.091Z"
   },
   {
    "duration": 5,
    "start_time": "2022-07-25T09:08:46.101Z"
   },
   {
    "duration": 11,
    "start_time": "2022-07-25T09:08:46.107Z"
   },
   {
    "duration": 21,
    "start_time": "2022-07-25T09:08:46.120Z"
   },
   {
    "duration": 50,
    "start_time": "2022-07-25T09:08:46.144Z"
   },
   {
    "duration": 5,
    "start_time": "2022-07-25T09:08:46.196Z"
   },
   {
    "duration": 9450,
    "start_time": "2022-07-25T09:08:46.203Z"
   },
   {
    "duration": 9,
    "start_time": "2022-07-25T09:08:55.654Z"
   },
   {
    "duration": 13,
    "start_time": "2022-07-25T09:08:55.665Z"
   },
   {
    "duration": 21,
    "start_time": "2022-07-25T09:08:55.680Z"
   },
   {
    "duration": 7,
    "start_time": "2022-07-25T09:09:45.201Z"
   },
   {
    "duration": 32,
    "start_time": "2022-07-25T09:10:45.853Z"
   },
   {
    "duration": 6,
    "start_time": "2022-07-25T09:12:00.682Z"
   },
   {
    "duration": 8,
    "start_time": "2022-07-25T09:12:41.260Z"
   },
   {
    "duration": 107,
    "start_time": "2022-07-25T09:15:15.050Z"
   },
   {
    "duration": 13,
    "start_time": "2022-07-25T09:16:13.575Z"
   },
   {
    "duration": 5,
    "start_time": "2022-07-25T09:16:40.062Z"
   },
   {
    "duration": 2622,
    "start_time": "2022-07-25T09:18:11.909Z"
   },
   {
    "duration": 6,
    "start_time": "2022-07-25T09:18:22.412Z"
   },
   {
    "duration": 3432,
    "start_time": "2022-07-25T09:18:48.300Z"
   },
   {
    "duration": 3252,
    "start_time": "2022-07-25T09:18:54.809Z"
   },
   {
    "duration": 2,
    "start_time": "2022-07-25T09:18:58.063Z"
   },
   {
    "duration": 7,
    "start_time": "2022-07-25T09:18:58.067Z"
   },
   {
    "duration": 19,
    "start_time": "2022-07-25T09:19:54.657Z"
   },
   {
    "duration": 3,
    "start_time": "2022-07-25T09:19:54.954Z"
   },
   {
    "duration": 91,
    "start_time": "2022-07-25T09:21:19.995Z"
   },
   {
    "duration": 17,
    "start_time": "2022-07-25T09:21:43.328Z"
   },
   {
    "duration": 13,
    "start_time": "2022-07-25T09:22:13.634Z"
   },
   {
    "duration": 5,
    "start_time": "2022-07-25T09:24:44.938Z"
   },
   {
    "duration": 5,
    "start_time": "2022-07-25T09:24:57.121Z"
   },
   {
    "duration": 12,
    "start_time": "2022-07-25T09:25:46.075Z"
   },
   {
    "duration": 4,
    "start_time": "2022-07-25T09:25:57.223Z"
   },
   {
    "duration": 6,
    "start_time": "2022-07-25T09:28:03.801Z"
   },
   {
    "duration": 7,
    "start_time": "2022-07-25T09:28:16.529Z"
   },
   {
    "duration": 6,
    "start_time": "2022-07-25T09:33:09.782Z"
   },
   {
    "duration": 6,
    "start_time": "2022-07-25T09:33:10.142Z"
   },
   {
    "duration": 4,
    "start_time": "2022-07-25T09:33:23.516Z"
   },
   {
    "duration": 6,
    "start_time": "2022-07-25T09:33:23.918Z"
   },
   {
    "duration": 6,
    "start_time": "2022-07-25T09:33:25.120Z"
   },
   {
    "duration": 5,
    "start_time": "2022-07-25T09:33:25.501Z"
   },
   {
    "duration": 28,
    "start_time": "2022-07-25T09:36:16.389Z"
   },
   {
    "duration": 5,
    "start_time": "2022-07-25T09:36:53.739Z"
   },
   {
    "duration": 4,
    "start_time": "2022-07-25T09:37:28.806Z"
   },
   {
    "duration": 6,
    "start_time": "2022-07-25T09:37:35.366Z"
   },
   {
    "duration": 8,
    "start_time": "2022-07-25T09:40:02.868Z"
   },
   {
    "duration": 12,
    "start_time": "2022-07-25T09:40:08.993Z"
   },
   {
    "duration": 10,
    "start_time": "2022-07-25T09:40:19.684Z"
   },
   {
    "duration": 15,
    "start_time": "2022-07-25T09:40:48.321Z"
   },
   {
    "duration": 10,
    "start_time": "2022-07-25T09:41:02.224Z"
   },
   {
    "duration": 14,
    "start_time": "2022-07-25T09:42:14.027Z"
   },
   {
    "duration": 15,
    "start_time": "2022-07-25T09:42:20.675Z"
   },
   {
    "duration": 12,
    "start_time": "2022-07-25T09:42:34.437Z"
   },
   {
    "duration": 12,
    "start_time": "2022-07-25T09:42:40.798Z"
   },
   {
    "duration": 13,
    "start_time": "2022-07-25T09:43:06.372Z"
   },
   {
    "duration": 17,
    "start_time": "2022-07-25T09:43:48.844Z"
   },
   {
    "duration": 3,
    "start_time": "2022-07-25T09:46:59.104Z"
   },
   {
    "duration": 13,
    "start_time": "2022-07-25T12:56:44.794Z"
   },
   {
    "duration": 1091,
    "start_time": "2022-07-25T12:57:03.115Z"
   },
   {
    "duration": 93,
    "start_time": "2022-07-25T12:57:04.208Z"
   },
   {
    "duration": 15,
    "start_time": "2022-07-25T12:57:04.303Z"
   },
   {
    "duration": 3,
    "start_time": "2022-07-25T12:57:04.320Z"
   },
   {
    "duration": 43,
    "start_time": "2022-07-25T12:57:04.325Z"
   },
   {
    "duration": 82,
    "start_time": "2022-07-25T12:57:04.375Z"
   },
   {
    "duration": 2183,
    "start_time": "2022-07-25T12:57:04.460Z"
   },
   {
    "duration": 11,
    "start_time": "2022-07-25T12:57:06.644Z"
   },
   {
    "duration": 1163,
    "start_time": "2022-07-25T12:57:06.657Z"
   },
   {
    "duration": 4,
    "start_time": "2022-07-25T12:57:07.822Z"
   },
   {
    "duration": 13,
    "start_time": "2022-07-25T12:57:07.828Z"
   },
   {
    "duration": 45,
    "start_time": "2022-07-25T12:57:07.843Z"
   },
   {
    "duration": 4,
    "start_time": "2022-07-25T12:57:07.890Z"
   },
   {
    "duration": 13,
    "start_time": "2022-07-25T12:57:07.895Z"
   },
   {
    "duration": 29,
    "start_time": "2022-07-25T12:57:07.910Z"
   },
   {
    "duration": 16,
    "start_time": "2022-07-25T12:57:07.940Z"
   },
   {
    "duration": 11,
    "start_time": "2022-07-25T12:57:07.960Z"
   },
   {
    "duration": 16,
    "start_time": "2022-07-25T12:57:07.974Z"
   },
   {
    "duration": 18,
    "start_time": "2022-07-25T12:57:07.991Z"
   },
   {
    "duration": 10,
    "start_time": "2022-07-25T12:57:08.011Z"
   },
   {
    "duration": 23,
    "start_time": "2022-07-25T12:57:08.023Z"
   },
   {
    "duration": 3226,
    "start_time": "2022-07-25T12:57:08.048Z"
   },
   {
    "duration": 5,
    "start_time": "2022-07-25T12:57:11.276Z"
   },
   {
    "duration": 26,
    "start_time": "2022-07-25T12:57:11.282Z"
   },
   {
    "duration": 13,
    "start_time": "2022-07-25T12:57:11.309Z"
   },
   {
    "duration": 17,
    "start_time": "2022-07-25T12:57:11.323Z"
   },
   {
    "duration": 37,
    "start_time": "2022-07-25T12:57:11.341Z"
   },
   {
    "duration": 42,
    "start_time": "2022-07-25T12:57:11.381Z"
   },
   {
    "duration": 4,
    "start_time": "2022-07-25T12:57:11.425Z"
   },
   {
    "duration": 17,
    "start_time": "2022-07-25T12:57:11.431Z"
   },
   {
    "duration": 22,
    "start_time": "2022-07-25T12:57:11.449Z"
   },
   {
    "duration": 22,
    "start_time": "2022-07-25T12:57:11.473Z"
   },
   {
    "duration": 25,
    "start_time": "2022-07-25T12:57:11.497Z"
   },
   {
    "duration": 27,
    "start_time": "2022-07-25T12:57:11.524Z"
   },
   {
    "duration": 22,
    "start_time": "2022-07-25T12:57:11.553Z"
   },
   {
    "duration": 21,
    "start_time": "2022-07-25T12:57:11.579Z"
   },
   {
    "duration": 10,
    "start_time": "2022-07-25T12:57:11.602Z"
   },
   {
    "duration": 58,
    "start_time": "2022-07-25T12:57:11.617Z"
   },
   {
    "duration": 4,
    "start_time": "2022-07-25T12:57:11.676Z"
   },
   {
    "duration": 15,
    "start_time": "2022-07-25T12:57:11.682Z"
   },
   {
    "duration": 132,
    "start_time": "2022-07-25T12:57:11.698Z"
   },
   {
    "duration": 0,
    "start_time": "2022-07-25T12:57:11.833Z"
   },
   {
    "duration": 0,
    "start_time": "2022-07-25T12:57:11.834Z"
   },
   {
    "duration": 0,
    "start_time": "2022-07-25T12:57:11.836Z"
   },
   {
    "duration": 17,
    "start_time": "2022-07-25T12:57:46.613Z"
   },
   {
    "duration": 21,
    "start_time": "2022-07-25T12:58:38.369Z"
   },
   {
    "duration": 19,
    "start_time": "2022-07-25T12:58:45.669Z"
   },
   {
    "duration": 9688,
    "start_time": "2022-07-25T12:59:46.806Z"
   },
   {
    "duration": 71,
    "start_time": "2022-07-25T13:02:33.586Z"
   },
   {
    "duration": 8011,
    "start_time": "2022-07-25T13:02:41.589Z"
   },
   {
    "duration": 4,
    "start_time": "2022-07-26T10:44:37.658Z"
   },
   {
    "duration": 1259,
    "start_time": "2022-07-26T10:44:42.217Z"
   },
   {
    "duration": 153,
    "start_time": "2022-07-26T10:44:43.478Z"
   },
   {
    "duration": 17,
    "start_time": "2022-07-26T10:44:43.633Z"
   },
   {
    "duration": 5,
    "start_time": "2022-07-26T10:44:43.653Z"
   },
   {
    "duration": 25,
    "start_time": "2022-07-26T10:44:43.660Z"
   },
   {
    "duration": 84,
    "start_time": "2022-07-26T10:44:43.686Z"
   },
   {
    "duration": 1807,
    "start_time": "2022-07-26T10:44:43.771Z"
   },
   {
    "duration": 9,
    "start_time": "2022-07-26T10:44:45.579Z"
   },
   {
    "duration": 1070,
    "start_time": "2022-07-26T10:44:45.589Z"
   },
   {
    "duration": 4,
    "start_time": "2022-07-26T10:44:46.661Z"
   },
   {
    "duration": 7,
    "start_time": "2022-07-26T10:44:46.667Z"
   },
   {
    "duration": 21,
    "start_time": "2022-07-26T10:44:46.675Z"
   },
   {
    "duration": 5,
    "start_time": "2022-07-26T10:44:46.698Z"
   },
   {
    "duration": 6,
    "start_time": "2022-07-26T10:44:46.732Z"
   },
   {
    "duration": 22,
    "start_time": "2022-07-26T10:44:46.740Z"
   },
   {
    "duration": 19,
    "start_time": "2022-07-26T10:44:46.763Z"
   },
   {
    "duration": 19,
    "start_time": "2022-07-26T10:44:46.784Z"
   },
   {
    "duration": 16,
    "start_time": "2022-07-26T10:44:46.805Z"
   },
   {
    "duration": 9,
    "start_time": "2022-07-26T10:44:46.822Z"
   },
   {
    "duration": 21,
    "start_time": "2022-07-26T10:44:46.832Z"
   },
   {
    "duration": 15,
    "start_time": "2022-07-26T10:44:46.855Z"
   },
   {
    "duration": 2851,
    "start_time": "2022-07-26T10:44:46.871Z"
   },
   {
    "duration": 8,
    "start_time": "2022-07-26T10:44:49.723Z"
   },
   {
    "duration": 18,
    "start_time": "2022-07-26T10:44:49.732Z"
   },
   {
    "duration": 9,
    "start_time": "2022-07-26T10:44:49.751Z"
   },
   {
    "duration": 6,
    "start_time": "2022-07-26T10:44:49.761Z"
   },
   {
    "duration": 5,
    "start_time": "2022-07-26T10:44:49.768Z"
   },
   {
    "duration": 27,
    "start_time": "2022-07-26T10:44:49.776Z"
   },
   {
    "duration": 5,
    "start_time": "2022-07-26T10:44:49.804Z"
   },
   {
    "duration": 20,
    "start_time": "2022-07-26T10:44:49.811Z"
   },
   {
    "duration": 5,
    "start_time": "2022-07-26T10:44:49.832Z"
   },
   {
    "duration": 19,
    "start_time": "2022-07-26T10:44:49.838Z"
   },
   {
    "duration": 8,
    "start_time": "2022-07-26T10:44:49.858Z"
   },
   {
    "duration": 5,
    "start_time": "2022-07-26T10:44:49.868Z"
   },
   {
    "duration": 9,
    "start_time": "2022-07-26T10:44:49.874Z"
   },
   {
    "duration": 6,
    "start_time": "2022-07-26T10:44:49.884Z"
   },
   {
    "duration": 17,
    "start_time": "2022-07-26T10:44:49.892Z"
   },
   {
    "duration": 49,
    "start_time": "2022-07-26T10:44:49.911Z"
   },
   {
    "duration": 5,
    "start_time": "2022-07-26T10:44:49.962Z"
   },
   {
    "duration": 3,
    "start_time": "2022-07-26T10:44:49.970Z"
   },
   {
    "duration": 8310,
    "start_time": "2022-07-26T10:44:49.974Z"
   },
   {
    "duration": 76,
    "start_time": "2022-07-26T10:44:58.286Z"
   },
   {
    "duration": 0,
    "start_time": "2022-07-26T10:44:58.363Z"
   },
   {
    "duration": 0,
    "start_time": "2022-07-26T10:44:58.364Z"
   },
   {
    "duration": 0,
    "start_time": "2022-07-26T10:44:58.365Z"
   },
   {
    "duration": 4,
    "start_time": "2022-07-26T10:45:02.246Z"
   },
   {
    "duration": 95,
    "start_time": "2022-07-26T10:46:35.867Z"
   },
   {
    "duration": 4,
    "start_time": "2022-07-26T10:46:48.270Z"
   },
   {
    "duration": 9,
    "start_time": "2022-07-26T10:47:01.352Z"
   },
   {
    "duration": 8,
    "start_time": "2022-07-26T10:47:10.868Z"
   },
   {
    "duration": 25,
    "start_time": "2022-07-26T10:47:21.218Z"
   },
   {
    "duration": 29,
    "start_time": "2022-07-26T10:47:28.852Z"
   },
   {
    "duration": 4,
    "start_time": "2022-07-26T10:48:40.417Z"
   },
   {
    "duration": 1825,
    "start_time": "2022-07-26T10:48:47.894Z"
   },
   {
    "duration": 8,
    "start_time": "2022-07-26T10:49:00.028Z"
   },
   {
    "duration": 3,
    "start_time": "2022-07-26T10:50:58.752Z"
   },
   {
    "duration": 379,
    "start_time": "2022-07-26T10:50:59.149Z"
   },
   {
    "duration": 4,
    "start_time": "2022-07-26T10:50:59.649Z"
   },
   {
    "duration": 37,
    "start_time": "2022-07-26T10:51:35.408Z"
   },
   {
    "duration": 4,
    "start_time": "2022-07-26T10:52:06.744Z"
   },
   {
    "duration": 378,
    "start_time": "2022-07-26T10:52:07.196Z"
   },
   {
    "duration": 4,
    "start_time": "2022-07-26T10:52:08.377Z"
   },
   {
    "duration": 3,
    "start_time": "2022-07-26T10:52:22.153Z"
   },
   {
    "duration": 377,
    "start_time": "2022-07-26T10:52:22.662Z"
   },
   {
    "duration": 4,
    "start_time": "2022-07-26T10:52:23.786Z"
   },
   {
    "duration": 26,
    "start_time": "2022-07-26T10:52:28.762Z"
   },
   {
    "duration": 28,
    "start_time": "2022-07-26T10:53:47.584Z"
   },
   {
    "duration": 4,
    "start_time": "2022-07-26T10:53:56.901Z"
   },
   {
    "duration": 5,
    "start_time": "2022-07-26T10:54:56.310Z"
   },
   {
    "duration": 5,
    "start_time": "2022-07-26T10:54:58.200Z"
   },
   {
    "duration": 1145,
    "start_time": "2022-07-26T10:55:11.307Z"
   },
   {
    "duration": 91,
    "start_time": "2022-07-26T10:55:12.454Z"
   },
   {
    "duration": 15,
    "start_time": "2022-07-26T10:55:12.547Z"
   },
   {
    "duration": 3,
    "start_time": "2022-07-26T10:55:12.563Z"
   },
   {
    "duration": 27,
    "start_time": "2022-07-26T10:55:12.567Z"
   },
   {
    "duration": 84,
    "start_time": "2022-07-26T10:55:12.595Z"
   },
   {
    "duration": 1868,
    "start_time": "2022-07-26T10:55:12.681Z"
   },
   {
    "duration": 8,
    "start_time": "2022-07-26T10:55:14.574Z"
   },
   {
    "duration": 1037,
    "start_time": "2022-07-26T10:55:14.583Z"
   },
   {
    "duration": 8,
    "start_time": "2022-07-26T10:55:15.623Z"
   },
   {
    "duration": 18,
    "start_time": "2022-07-26T10:55:15.632Z"
   },
   {
    "duration": 23,
    "start_time": "2022-07-26T10:55:15.651Z"
   },
   {
    "duration": 5,
    "start_time": "2022-07-26T10:55:15.676Z"
   },
   {
    "duration": 5,
    "start_time": "2022-07-26T10:55:15.682Z"
   },
   {
    "duration": 5,
    "start_time": "2022-07-26T10:55:15.689Z"
   },
   {
    "duration": 5,
    "start_time": "2022-07-26T10:55:15.695Z"
   },
   {
    "duration": 7,
    "start_time": "2022-07-26T10:55:15.701Z"
   },
   {
    "duration": 34,
    "start_time": "2022-07-26T10:55:15.709Z"
   },
   {
    "duration": 6,
    "start_time": "2022-07-26T10:55:15.745Z"
   },
   {
    "duration": 6,
    "start_time": "2022-07-26T10:55:15.752Z"
   },
   {
    "duration": 5,
    "start_time": "2022-07-26T10:55:15.759Z"
   },
   {
    "duration": 2881,
    "start_time": "2022-07-26T10:55:15.765Z"
   },
   {
    "duration": 2,
    "start_time": "2022-07-26T10:55:18.647Z"
   },
   {
    "duration": 12,
    "start_time": "2022-07-26T10:55:18.651Z"
   },
   {
    "duration": 5,
    "start_time": "2022-07-26T10:55:18.664Z"
   },
   {
    "duration": 2775,
    "start_time": "2022-07-26T10:55:18.670Z"
   },
   {
    "duration": 4,
    "start_time": "2022-07-26T10:55:21.446Z"
   },
   {
    "duration": 31,
    "start_time": "2022-07-26T10:55:21.453Z"
   },
   {
    "duration": 26,
    "start_time": "2022-07-26T10:55:21.485Z"
   },
   {
    "duration": 32,
    "start_time": "2022-07-26T10:55:21.513Z"
   },
   {
    "duration": 4,
    "start_time": "2022-07-26T10:55:21.547Z"
   },
   {
    "duration": 8,
    "start_time": "2022-07-26T10:55:21.553Z"
   },
   {
    "duration": 7,
    "start_time": "2022-07-26T10:55:21.562Z"
   },
   {
    "duration": 9,
    "start_time": "2022-07-26T10:55:21.570Z"
   },
   {
    "duration": 10,
    "start_time": "2022-07-26T10:55:21.580Z"
   },
   {
    "duration": 30,
    "start_time": "2022-07-26T10:55:21.592Z"
   },
   {
    "duration": 4,
    "start_time": "2022-07-26T10:55:21.624Z"
   },
   {
    "duration": 4,
    "start_time": "2022-07-26T10:55:21.642Z"
   },
   {
    "duration": 6,
    "start_time": "2022-07-26T10:55:21.647Z"
   },
   {
    "duration": 8,
    "start_time": "2022-07-26T10:55:21.654Z"
   },
   {
    "duration": 9,
    "start_time": "2022-07-26T10:55:21.664Z"
   },
   {
    "duration": 4,
    "start_time": "2022-07-26T10:55:21.674Z"
   },
   {
    "duration": 4,
    "start_time": "2022-07-26T10:55:21.679Z"
   },
   {
    "duration": 5,
    "start_time": "2022-07-26T10:55:21.685Z"
   },
   {
    "duration": 9,
    "start_time": "2022-07-26T10:55:21.691Z"
   },
   {
    "duration": 56,
    "start_time": "2022-07-26T10:55:21.701Z"
   },
   {
    "duration": 4,
    "start_time": "2022-07-26T10:55:21.758Z"
   },
   {
    "duration": 5,
    "start_time": "2022-07-26T10:55:21.763Z"
   },
   {
    "duration": 8244,
    "start_time": "2022-07-26T10:55:21.769Z"
   },
   {
    "duration": 101,
    "start_time": "2022-07-26T10:55:30.014Z"
   },
   {
    "duration": 0,
    "start_time": "2022-07-26T10:55:30.117Z"
   },
   {
    "duration": 0,
    "start_time": "2022-07-26T10:55:30.117Z"
   },
   {
    "duration": 0,
    "start_time": "2022-07-26T10:55:30.118Z"
   },
   {
    "duration": 94,
    "start_time": "2022-07-26T10:57:30.274Z"
   },
   {
    "duration": 20,
    "start_time": "2022-07-26T10:57:36.941Z"
   },
   {
    "duration": 64,
    "start_time": "2022-07-26T10:58:27.006Z"
   },
   {
    "duration": 46,
    "start_time": "2022-07-26T10:58:33.944Z"
   },
   {
    "duration": 4,
    "start_time": "2022-07-26T11:00:45.070Z"
   },
   {
    "duration": 11,
    "start_time": "2022-07-26T11:03:13.465Z"
   },
   {
    "duration": 11,
    "start_time": "2022-07-26T11:03:55.085Z"
   },
   {
    "duration": 9,
    "start_time": "2022-07-26T11:04:18.242Z"
   },
   {
    "duration": 2,
    "start_time": "2022-07-26T11:05:41.057Z"
   },
   {
    "duration": 9,
    "start_time": "2022-07-26T11:05:42.942Z"
   },
   {
    "duration": 10,
    "start_time": "2022-07-26T11:06:06.994Z"
   },
   {
    "duration": 3,
    "start_time": "2022-07-26T11:06:07.764Z"
   },
   {
    "duration": 9,
    "start_time": "2022-07-26T11:06:08.294Z"
   },
   {
    "duration": 8,
    "start_time": "2022-07-26T11:08:02.856Z"
   },
   {
    "duration": 21,
    "start_time": "2022-07-26T11:08:04.191Z"
   },
   {
    "duration": 56,
    "start_time": "2022-07-26T11:13:18.330Z"
   },
   {
    "duration": 33,
    "start_time": "2022-07-26T11:13:34.808Z"
   },
   {
    "duration": 1269,
    "start_time": "2022-07-26T11:16:34.941Z"
   },
   {
    "duration": 4,
    "start_time": "2022-07-26T11:16:50.753Z"
   },
   {
    "duration": 7,
    "start_time": "2022-07-26T11:17:07.806Z"
   },
   {
    "duration": 4,
    "start_time": "2022-07-26T11:18:53.317Z"
   },
   {
    "duration": 8,
    "start_time": "2022-07-26T11:19:03.855Z"
   },
   {
    "duration": 36,
    "start_time": "2022-07-26T11:19:35.464Z"
   },
   {
    "duration": 45,
    "start_time": "2022-07-26T11:25:19.639Z"
   },
   {
    "duration": 35,
    "start_time": "2022-07-26T11:25:36.529Z"
   },
   {
    "duration": 11,
    "start_time": "2022-07-26T11:26:38.040Z"
   },
   {
    "duration": 13,
    "start_time": "2022-07-26T12:15:27.530Z"
   },
   {
    "duration": 56,
    "start_time": "2022-07-27T10:45:05.351Z"
   },
   {
    "duration": 1537,
    "start_time": "2022-07-27T10:45:11.201Z"
   },
   {
    "duration": 211,
    "start_time": "2022-07-27T10:45:12.741Z"
   },
   {
    "duration": 21,
    "start_time": "2022-07-27T10:45:12.954Z"
   },
   {
    "duration": 49,
    "start_time": "2022-07-27T10:45:12.977Z"
   },
   {
    "duration": 52,
    "start_time": "2022-07-27T10:45:13.028Z"
   },
   {
    "duration": 98,
    "start_time": "2022-07-27T10:45:13.082Z"
   },
   {
    "duration": 2420,
    "start_time": "2022-07-27T10:45:13.182Z"
   },
   {
    "duration": 13,
    "start_time": "2022-07-27T10:45:15.605Z"
   },
   {
    "duration": 1349,
    "start_time": "2022-07-27T10:45:15.620Z"
   },
   {
    "duration": 6,
    "start_time": "2022-07-27T10:45:16.973Z"
   },
   {
    "duration": 73,
    "start_time": "2022-07-27T10:45:16.981Z"
   },
   {
    "duration": 86,
    "start_time": "2022-07-27T10:45:17.056Z"
   },
   {
    "duration": 31,
    "start_time": "2022-07-27T10:45:17.145Z"
   },
   {
    "duration": 14,
    "start_time": "2022-07-27T10:45:17.179Z"
   },
   {
    "duration": 32,
    "start_time": "2022-07-27T10:45:17.195Z"
   },
   {
    "duration": 49,
    "start_time": "2022-07-27T10:45:17.229Z"
   },
   {
    "duration": 55,
    "start_time": "2022-07-27T10:45:17.281Z"
   },
   {
    "duration": 14,
    "start_time": "2022-07-27T10:45:17.338Z"
   },
   {
    "duration": 37,
    "start_time": "2022-07-27T10:45:17.354Z"
   },
   {
    "duration": 55,
    "start_time": "2022-07-27T10:45:17.394Z"
   },
   {
    "duration": 106,
    "start_time": "2022-07-27T10:45:17.452Z"
   },
   {
    "duration": 3749,
    "start_time": "2022-07-27T10:45:17.560Z"
   },
   {
    "duration": 6,
    "start_time": "2022-07-27T10:45:21.311Z"
   },
   {
    "duration": 39,
    "start_time": "2022-07-27T10:45:21.320Z"
   },
   {
    "duration": 80,
    "start_time": "2022-07-27T10:45:21.361Z"
   },
   {
    "duration": 3516,
    "start_time": "2022-07-27T10:45:21.443Z"
   },
   {
    "duration": 5,
    "start_time": "2022-07-27T10:45:24.961Z"
   },
   {
    "duration": 59,
    "start_time": "2022-07-27T10:45:24.970Z"
   },
   {
    "duration": 41,
    "start_time": "2022-07-27T10:45:25.032Z"
   },
   {
    "duration": 6,
    "start_time": "2022-07-27T10:45:25.074Z"
   },
   {
    "duration": 26,
    "start_time": "2022-07-27T10:45:25.081Z"
   },
   {
    "duration": 45,
    "start_time": "2022-07-27T10:45:25.109Z"
   },
   {
    "duration": 83,
    "start_time": "2022-07-27T10:45:25.157Z"
   },
   {
    "duration": 7,
    "start_time": "2022-07-27T10:45:25.242Z"
   },
   {
    "duration": 17,
    "start_time": "2022-07-27T10:45:25.251Z"
   },
   {
    "duration": 28,
    "start_time": "2022-07-27T10:45:25.270Z"
   },
   {
    "duration": 83,
    "start_time": "2022-07-27T10:45:25.300Z"
   },
   {
    "duration": 9,
    "start_time": "2022-07-27T10:45:25.387Z"
   },
   {
    "duration": 41,
    "start_time": "2022-07-27T10:45:25.398Z"
   },
   {
    "duration": 25,
    "start_time": "2022-07-27T10:45:25.441Z"
   },
   {
    "duration": 30,
    "start_time": "2022-07-27T10:45:25.468Z"
   },
   {
    "duration": 42,
    "start_time": "2022-07-27T10:45:25.500Z"
   },
   {
    "duration": 18,
    "start_time": "2022-07-27T10:45:25.544Z"
   },
   {
    "duration": 23,
    "start_time": "2022-07-27T10:45:25.564Z"
   },
   {
    "duration": 26,
    "start_time": "2022-07-27T10:45:25.589Z"
   },
   {
    "duration": 23,
    "start_time": "2022-07-27T10:45:25.617Z"
   },
   {
    "duration": 14,
    "start_time": "2022-07-27T10:45:25.642Z"
   },
   {
    "duration": 28,
    "start_time": "2022-07-27T10:45:25.658Z"
   },
   {
    "duration": 55,
    "start_time": "2022-07-27T10:45:25.689Z"
   },
   {
    "duration": 6,
    "start_time": "2022-07-27T10:45:25.746Z"
   },
   {
    "duration": 16,
    "start_time": "2022-07-27T10:45:25.754Z"
   },
   {
    "duration": 9486,
    "start_time": "2022-07-27T10:45:25.772Z"
   },
   {
    "duration": 14,
    "start_time": "2022-07-27T10:45:35.261Z"
   },
   {
    "duration": 7,
    "start_time": "2022-07-27T10:45:35.278Z"
   },
   {
    "duration": 26,
    "start_time": "2022-07-27T10:45:35.288Z"
   },
   {
    "duration": 43,
    "start_time": "2022-07-27T10:45:35.316Z"
   },
   {
    "duration": 44,
    "start_time": "2022-07-27T10:45:35.361Z"
   },
   {
    "duration": 25,
    "start_time": "2022-07-27T10:45:35.407Z"
   },
   {
    "duration": 131,
    "start_time": "2022-07-27T10:45:35.434Z"
   },
   {
    "duration": 69,
    "start_time": "2022-07-27T10:45:35.567Z"
   },
   {
    "duration": 39,
    "start_time": "2022-07-27T10:45:35.639Z"
   },
   {
    "duration": 93,
    "start_time": "2022-07-27T10:45:35.680Z"
   },
   {
    "duration": 75,
    "start_time": "2022-07-27T10:45:35.775Z"
   },
   {
    "duration": 54,
    "start_time": "2022-07-27T10:45:35.852Z"
   },
   {
    "duration": 8,
    "start_time": "2022-07-27T10:45:49.946Z"
   },
   {
    "duration": 28,
    "start_time": "2022-07-27T10:45:52.654Z"
   },
   {
    "duration": 17,
    "start_time": "2022-07-27T10:46:02.940Z"
   },
   {
    "duration": 55,
    "start_time": "2022-07-30T10:09:05.394Z"
   },
   {
    "duration": 2,
    "start_time": "2022-07-30T10:09:16.082Z"
   },
   {
    "duration": 2,
    "start_time": "2022-07-30T10:09:18.316Z"
   },
   {
    "duration": 78,
    "start_time": "2022-07-30T10:09:36.321Z"
   },
   {
    "duration": 1440,
    "start_time": "2022-07-30T10:09:44.530Z"
   },
   {
    "duration": 152,
    "start_time": "2022-07-30T10:09:45.972Z"
   },
   {
    "duration": 17,
    "start_time": "2022-07-30T10:09:46.125Z"
   },
   {
    "duration": 4,
    "start_time": "2022-07-30T10:09:46.144Z"
   },
   {
    "duration": 35,
    "start_time": "2022-07-30T10:09:46.150Z"
   },
   {
    "duration": 98,
    "start_time": "2022-07-30T10:09:46.187Z"
   },
   {
    "duration": 2131,
    "start_time": "2022-07-30T10:09:46.286Z"
   },
   {
    "duration": 10,
    "start_time": "2022-07-30T10:09:48.419Z"
   },
   {
    "duration": 1181,
    "start_time": "2022-07-30T10:09:48.430Z"
   },
   {
    "duration": 5,
    "start_time": "2022-07-30T10:09:49.614Z"
   },
   {
    "duration": 22,
    "start_time": "2022-07-30T10:09:49.621Z"
   },
   {
    "duration": 30,
    "start_time": "2022-07-30T10:09:49.645Z"
   },
   {
    "duration": 6,
    "start_time": "2022-07-30T10:09:49.676Z"
   },
   {
    "duration": 21,
    "start_time": "2022-07-30T10:09:49.685Z"
   },
   {
    "duration": 6,
    "start_time": "2022-07-30T10:09:49.708Z"
   },
   {
    "duration": 12,
    "start_time": "2022-07-30T10:09:49.716Z"
   },
   {
    "duration": 9,
    "start_time": "2022-07-30T10:09:49.730Z"
   },
   {
    "duration": 6,
    "start_time": "2022-07-30T10:09:49.741Z"
   },
   {
    "duration": 7,
    "start_time": "2022-07-30T10:09:49.749Z"
   },
   {
    "duration": 7,
    "start_time": "2022-07-30T10:09:49.757Z"
   },
   {
    "duration": 39,
    "start_time": "2022-07-30T10:09:49.766Z"
   },
   {
    "duration": 3267,
    "start_time": "2022-07-30T10:09:49.806Z"
   },
   {
    "duration": 2,
    "start_time": "2022-07-30T10:09:53.075Z"
   },
   {
    "duration": 10,
    "start_time": "2022-07-30T10:09:53.079Z"
   },
   {
    "duration": 18,
    "start_time": "2022-07-30T10:09:53.090Z"
   },
   {
    "duration": 3306,
    "start_time": "2022-07-30T10:09:53.110Z"
   },
   {
    "duration": 10,
    "start_time": "2022-07-30T10:09:56.418Z"
   },
   {
    "duration": 49,
    "start_time": "2022-07-30T10:09:56.434Z"
   },
   {
    "duration": 58,
    "start_time": "2022-07-30T10:09:56.485Z"
   },
   {
    "duration": 8,
    "start_time": "2022-07-30T10:09:56.545Z"
   },
   {
    "duration": 44,
    "start_time": "2022-07-30T10:09:56.555Z"
   },
   {
    "duration": 33,
    "start_time": "2022-07-30T10:09:56.601Z"
   },
   {
    "duration": 88,
    "start_time": "2022-07-30T10:09:56.636Z"
   },
   {
    "duration": 7,
    "start_time": "2022-07-30T10:09:56.726Z"
   },
   {
    "duration": 20,
    "start_time": "2022-07-30T10:09:56.735Z"
   },
   {
    "duration": 15,
    "start_time": "2022-07-30T10:09:56.757Z"
   },
   {
    "duration": 10,
    "start_time": "2022-07-30T10:09:56.774Z"
   },
   {
    "duration": 52,
    "start_time": "2022-07-30T10:09:56.787Z"
   },
   {
    "duration": 6,
    "start_time": "2022-07-30T10:09:56.842Z"
   },
   {
    "duration": 7,
    "start_time": "2022-07-30T10:09:56.849Z"
   },
   {
    "duration": 6,
    "start_time": "2022-07-30T10:09:56.857Z"
   },
   {
    "duration": 8,
    "start_time": "2022-07-30T10:09:56.865Z"
   },
   {
    "duration": 32,
    "start_time": "2022-07-30T10:09:56.874Z"
   },
   {
    "duration": 4,
    "start_time": "2022-07-30T10:09:56.908Z"
   },
   {
    "duration": 7,
    "start_time": "2022-07-30T10:09:56.914Z"
   },
   {
    "duration": 6,
    "start_time": "2022-07-30T10:09:56.923Z"
   },
   {
    "duration": 9,
    "start_time": "2022-07-30T10:09:56.930Z"
   },
   {
    "duration": 6,
    "start_time": "2022-07-30T10:09:56.941Z"
   },
   {
    "duration": 9,
    "start_time": "2022-07-30T10:09:56.948Z"
   },
   {
    "duration": 68,
    "start_time": "2022-07-30T10:09:56.959Z"
   },
   {
    "duration": 6,
    "start_time": "2022-07-30T10:09:57.029Z"
   },
   {
    "duration": 12,
    "start_time": "2022-07-30T10:09:57.037Z"
   },
   {
    "duration": 8534,
    "start_time": "2022-07-30T10:09:57.051Z"
   },
   {
    "duration": 20,
    "start_time": "2022-07-30T10:10:05.587Z"
   },
   {
    "duration": 3,
    "start_time": "2022-07-30T10:10:05.609Z"
   },
   {
    "duration": 12,
    "start_time": "2022-07-30T10:10:05.614Z"
   },
   {
    "duration": 25,
    "start_time": "2022-07-30T10:10:05.628Z"
   },
   {
    "duration": 55,
    "start_time": "2022-07-30T10:10:05.655Z"
   },
   {
    "duration": 5,
    "start_time": "2022-07-30T10:10:05.712Z"
   },
   {
    "duration": 40,
    "start_time": "2022-07-30T10:10:05.718Z"
   },
   {
    "duration": 44,
    "start_time": "2022-07-30T10:10:05.760Z"
   },
   {
    "duration": 8,
    "start_time": "2022-07-30T10:10:05.806Z"
   },
   {
    "duration": 9,
    "start_time": "2022-07-30T10:10:05.816Z"
   },
   {
    "duration": 32,
    "start_time": "2022-07-30T10:10:05.827Z"
   },
   {
    "duration": 16,
    "start_time": "2022-07-30T10:10:05.861Z"
   },
   {
    "duration": 31,
    "start_time": "2022-07-30T10:10:05.879Z"
   },
   {
    "duration": 780,
    "start_time": "2022-07-30T10:10:19.232Z"
   },
   {
    "duration": 683,
    "start_time": "2022-07-30T10:10:55.798Z"
   },
   {
    "duration": 36,
    "start_time": "2022-07-30T10:11:18.713Z"
   },
   {
    "duration": 8997,
    "start_time": "2022-07-30T10:17:49.504Z"
   },
   {
    "duration": 2,
    "start_time": "2022-07-30T10:18:45.137Z"
   },
   {
    "duration": 2,
    "start_time": "2022-07-30T10:19:00.971Z"
   },
   {
    "duration": 5,
    "start_time": "2022-07-30T10:19:18.526Z"
   },
   {
    "duration": 23,
    "start_time": "2022-07-30T10:21:11.498Z"
   },
   {
    "duration": 8745,
    "start_time": "2022-07-30T10:21:23.606Z"
   },
   {
    "duration": 72,
    "start_time": "2022-07-30T10:21:55.073Z"
   },
   {
    "duration": 3,
    "start_time": "2022-07-30T10:22:08.526Z"
   },
   {
    "duration": 77,
    "start_time": "2022-07-30T10:22:11.096Z"
   },
   {
    "duration": 7,
    "start_time": "2022-07-30T10:22:15.520Z"
   },
   {
    "duration": 71,
    "start_time": "2022-07-30T10:23:19.375Z"
   },
   {
    "duration": 9,
    "start_time": "2022-07-30T10:23:21.444Z"
   },
   {
    "duration": 1274,
    "start_time": "2022-07-30T10:26:16.475Z"
   },
   {
    "duration": 98,
    "start_time": "2022-07-30T10:26:17.751Z"
   },
   {
    "duration": 19,
    "start_time": "2022-07-30T10:26:17.850Z"
   },
   {
    "duration": 3,
    "start_time": "2022-07-30T10:26:17.871Z"
   },
   {
    "duration": 49,
    "start_time": "2022-07-30T10:26:17.876Z"
   },
   {
    "duration": 94,
    "start_time": "2022-07-30T10:26:17.927Z"
   },
   {
    "duration": 2015,
    "start_time": "2022-07-30T10:26:18.023Z"
   },
   {
    "duration": 9,
    "start_time": "2022-07-30T10:26:20.040Z"
   },
   {
    "duration": 1095,
    "start_time": "2022-07-30T10:26:20.051Z"
   },
   {
    "duration": 4,
    "start_time": "2022-07-30T10:26:21.149Z"
   },
   {
    "duration": 10,
    "start_time": "2022-07-30T10:26:21.155Z"
   },
   {
    "duration": 40,
    "start_time": "2022-07-30T10:26:21.166Z"
   },
   {
    "duration": 6,
    "start_time": "2022-07-30T10:26:21.208Z"
   },
   {
    "duration": 7,
    "start_time": "2022-07-30T10:26:21.215Z"
   },
   {
    "duration": 6,
    "start_time": "2022-07-30T10:26:21.224Z"
   },
   {
    "duration": 9,
    "start_time": "2022-07-30T10:26:21.232Z"
   },
   {
    "duration": 5,
    "start_time": "2022-07-30T10:26:21.243Z"
   },
   {
    "duration": 6,
    "start_time": "2022-07-30T10:26:21.250Z"
   },
   {
    "duration": 9,
    "start_time": "2022-07-30T10:26:21.257Z"
   },
   {
    "duration": 39,
    "start_time": "2022-07-30T10:26:21.268Z"
   },
   {
    "duration": 8,
    "start_time": "2022-07-30T10:26:21.308Z"
   },
   {
    "duration": 3272,
    "start_time": "2022-07-30T10:26:21.318Z"
   },
   {
    "duration": 3,
    "start_time": "2022-07-30T10:26:24.603Z"
   },
   {
    "duration": 7,
    "start_time": "2022-07-30T10:26:24.608Z"
   },
   {
    "duration": 10,
    "start_time": "2022-07-30T10:26:24.617Z"
   },
   {
    "duration": 3339,
    "start_time": "2022-07-30T10:26:24.629Z"
   },
   {
    "duration": 5,
    "start_time": "2022-07-30T10:26:27.969Z"
   },
   {
    "duration": 51,
    "start_time": "2022-07-30T10:26:27.978Z"
   },
   {
    "duration": 30,
    "start_time": "2022-07-30T10:26:28.031Z"
   },
   {
    "duration": 5,
    "start_time": "2022-07-30T10:26:28.062Z"
   },
   {
    "duration": 6,
    "start_time": "2022-07-30T10:26:28.069Z"
   },
   {
    "duration": 30,
    "start_time": "2022-07-30T10:26:28.077Z"
   },
   {
    "duration": 62,
    "start_time": "2022-07-30T10:26:28.109Z"
   },
   {
    "duration": 5,
    "start_time": "2022-07-30T10:26:28.173Z"
   },
   {
    "duration": 34,
    "start_time": "2022-07-30T10:26:28.180Z"
   },
   {
    "duration": 58,
    "start_time": "2022-07-30T10:26:28.216Z"
   },
   {
    "duration": 47,
    "start_time": "2022-07-30T10:26:28.276Z"
   },
   {
    "duration": 79,
    "start_time": "2022-07-30T10:26:28.325Z"
   },
   {
    "duration": 10,
    "start_time": "2022-07-30T10:26:28.406Z"
   },
   {
    "duration": 21,
    "start_time": "2022-07-30T10:26:28.417Z"
   },
   {
    "duration": 16,
    "start_time": "2022-07-30T10:26:28.440Z"
   },
   {
    "duration": 23,
    "start_time": "2022-07-30T10:26:28.458Z"
   },
   {
    "duration": 18,
    "start_time": "2022-07-30T10:26:28.483Z"
   },
   {
    "duration": 9,
    "start_time": "2022-07-30T10:26:28.503Z"
   },
   {
    "duration": 13,
    "start_time": "2022-07-30T10:26:28.514Z"
   },
   {
    "duration": 18,
    "start_time": "2022-07-30T10:26:28.529Z"
   },
   {
    "duration": 22,
    "start_time": "2022-07-30T10:26:28.549Z"
   },
   {
    "duration": 10,
    "start_time": "2022-07-30T10:26:28.572Z"
   },
   {
    "duration": 12,
    "start_time": "2022-07-30T10:26:28.583Z"
   },
   {
    "duration": 43,
    "start_time": "2022-07-30T10:26:28.596Z"
   },
   {
    "duration": 6,
    "start_time": "2022-07-30T10:26:28.640Z"
   },
   {
    "duration": 9,
    "start_time": "2022-07-30T10:26:28.648Z"
   },
   {
    "duration": 13,
    "start_time": "2022-07-30T10:26:28.659Z"
   },
   {
    "duration": 92,
    "start_time": "2022-07-30T10:26:28.674Z"
   },
   {
    "duration": 6,
    "start_time": "2022-07-30T10:26:28.768Z"
   },
   {
    "duration": 7,
    "start_time": "2022-07-30T10:26:28.775Z"
   },
   {
    "duration": 6,
    "start_time": "2022-07-30T10:26:28.784Z"
   },
   {
    "duration": 11,
    "start_time": "2022-07-30T10:26:28.805Z"
   },
   {
    "duration": 25,
    "start_time": "2022-07-30T10:26:28.817Z"
   },
   {
    "duration": 25,
    "start_time": "2022-07-30T10:26:28.844Z"
   },
   {
    "duration": 5,
    "start_time": "2022-07-30T10:26:28.871Z"
   },
   {
    "duration": 35,
    "start_time": "2022-07-30T10:26:28.905Z"
   },
   {
    "duration": 27,
    "start_time": "2022-07-30T10:26:28.941Z"
   },
   {
    "duration": 13,
    "start_time": "2022-07-30T10:26:28.970Z"
   },
   {
    "duration": 24,
    "start_time": "2022-07-30T10:26:28.985Z"
   },
   {
    "duration": 26,
    "start_time": "2022-07-30T10:26:29.011Z"
   },
   {
    "duration": 14,
    "start_time": "2022-07-30T10:26:29.038Z"
   },
   {
    "duration": 14,
    "start_time": "2022-07-30T10:26:29.054Z"
   },
   {
    "duration": 62,
    "start_time": "2022-07-30T10:27:11.674Z"
   },
   {
    "duration": 6,
    "start_time": "2022-07-30T10:27:16.960Z"
   },
   {
    "duration": 102,
    "start_time": "2022-07-30T10:28:20.722Z"
   },
   {
    "duration": 13,
    "start_time": "2022-07-30T10:31:37.446Z"
   },
   {
    "duration": 14,
    "start_time": "2022-07-30T10:32:58.424Z"
   },
   {
    "duration": 13,
    "start_time": "2022-07-30T10:34:52.749Z"
   },
   {
    "duration": 6,
    "start_time": "2022-07-30T10:37:13.344Z"
   },
   {
    "duration": 27,
    "start_time": "2022-07-30T10:37:35.076Z"
   },
   {
    "duration": 4,
    "start_time": "2022-07-30T10:38:23.717Z"
   },
   {
    "duration": 6,
    "start_time": "2022-07-30T10:38:46.580Z"
   },
   {
    "duration": 4,
    "start_time": "2022-07-30T10:39:18.278Z"
   },
   {
    "duration": 4,
    "start_time": "2022-07-30T10:39:19.966Z"
   },
   {
    "duration": 34,
    "start_time": "2022-07-30T10:39:31.368Z"
   },
   {
    "duration": 36,
    "start_time": "2022-07-30T10:41:16.036Z"
   },
   {
    "duration": 23,
    "start_time": "2022-07-30T10:45:48.985Z"
   },
   {
    "duration": 32,
    "start_time": "2022-07-30T10:46:03.963Z"
   },
   {
    "duration": 36,
    "start_time": "2022-07-30T10:47:02.459Z"
   },
   {
    "duration": 32,
    "start_time": "2022-07-30T10:47:04.086Z"
   },
   {
    "duration": 47,
    "start_time": "2023-02-20T11:03:56.163Z"
   },
   {
    "duration": 7,
    "start_time": "2023-02-20T11:26:19.884Z"
   },
   {
    "duration": 1258,
    "start_time": "2023-02-20T11:26:25.662Z"
   },
   {
    "duration": 325,
    "start_time": "2023-02-20T11:26:26.923Z"
   },
   {
    "duration": 24,
    "start_time": "2023-02-20T11:26:27.250Z"
   },
   {
    "duration": 3,
    "start_time": "2023-02-20T11:26:27.276Z"
   },
   {
    "duration": 27,
    "start_time": "2023-02-20T11:26:27.280Z"
   },
   {
    "duration": 80,
    "start_time": "2023-02-20T11:26:27.308Z"
   },
   {
    "duration": 1967,
    "start_time": "2023-02-20T11:26:27.389Z"
   },
   {
    "duration": 11,
    "start_time": "2023-02-20T11:26:29.359Z"
   },
   {
    "duration": 1087,
    "start_time": "2023-02-20T11:26:29.372Z"
   },
   {
    "duration": 5,
    "start_time": "2023-02-20T11:26:30.463Z"
   },
   {
    "duration": 28,
    "start_time": "2023-02-20T11:26:30.469Z"
   },
   {
    "duration": 30,
    "start_time": "2023-02-20T11:26:30.498Z"
   },
   {
    "duration": 5,
    "start_time": "2023-02-20T11:26:30.530Z"
   },
   {
    "duration": 31,
    "start_time": "2023-02-20T11:26:30.537Z"
   },
   {
    "duration": 21,
    "start_time": "2023-02-20T11:26:30.570Z"
   },
   {
    "duration": 9,
    "start_time": "2023-02-20T11:26:30.593Z"
   },
   {
    "duration": 23,
    "start_time": "2023-02-20T11:26:30.603Z"
   },
   {
    "duration": 15,
    "start_time": "2023-02-20T11:26:30.628Z"
   },
   {
    "duration": 19,
    "start_time": "2023-02-20T11:26:30.644Z"
   },
   {
    "duration": 39,
    "start_time": "2023-02-20T11:26:30.664Z"
   },
   {
    "duration": 29,
    "start_time": "2023-02-20T11:26:30.704Z"
   },
   {
    "duration": 2650,
    "start_time": "2023-02-20T11:26:30.734Z"
   },
   {
    "duration": 2,
    "start_time": "2023-02-20T11:26:33.386Z"
   },
   {
    "duration": 16,
    "start_time": "2023-02-20T11:26:33.390Z"
   },
   {
    "duration": 6,
    "start_time": "2023-02-20T11:26:33.407Z"
   },
   {
    "duration": 3737,
    "start_time": "2023-02-20T11:26:33.414Z"
   },
   {
    "duration": 5,
    "start_time": "2023-02-20T11:26:37.152Z"
   },
   {
    "duration": 84,
    "start_time": "2023-02-20T11:26:37.161Z"
   },
   {
    "duration": 88,
    "start_time": "2023-02-20T11:26:37.247Z"
   },
   {
    "duration": 5,
    "start_time": "2023-02-20T11:26:37.336Z"
   },
   {
    "duration": 7,
    "start_time": "2023-02-20T11:26:37.342Z"
   },
   {
    "duration": 8,
    "start_time": "2023-02-20T11:26:37.351Z"
   },
   {
    "duration": 100,
    "start_time": "2023-02-20T11:26:37.361Z"
   },
   {
    "duration": 62,
    "start_time": "2023-02-20T11:26:37.462Z"
   },
   {
    "duration": 8,
    "start_time": "2023-02-20T11:26:37.525Z"
   },
   {
    "duration": 6,
    "start_time": "2023-02-20T11:26:37.535Z"
   },
   {
    "duration": 4,
    "start_time": "2023-02-20T11:26:37.542Z"
   },
   {
    "duration": 80,
    "start_time": "2023-02-20T11:26:37.548Z"
   },
   {
    "duration": 4,
    "start_time": "2023-02-20T11:26:37.629Z"
   },
   {
    "duration": 8,
    "start_time": "2023-02-20T11:26:37.635Z"
   },
   {
    "duration": 6,
    "start_time": "2023-02-20T11:26:37.644Z"
   },
   {
    "duration": 69,
    "start_time": "2023-02-20T11:26:37.652Z"
   },
   {
    "duration": 12,
    "start_time": "2023-02-20T11:26:37.723Z"
   },
   {
    "duration": 5,
    "start_time": "2023-02-20T11:26:37.736Z"
   },
   {
    "duration": 5,
    "start_time": "2023-02-20T11:26:37.742Z"
   },
   {
    "duration": 6,
    "start_time": "2023-02-20T11:26:37.748Z"
   },
   {
    "duration": 9,
    "start_time": "2023-02-20T11:26:37.756Z"
   },
   {
    "duration": 55,
    "start_time": "2023-02-20T11:26:37.767Z"
   },
   {
    "duration": 5,
    "start_time": "2023-02-20T11:26:37.824Z"
   },
   {
    "duration": 36,
    "start_time": "2023-02-20T11:26:37.830Z"
   },
   {
    "duration": 5,
    "start_time": "2023-02-20T11:26:37.867Z"
   },
   {
    "duration": 9,
    "start_time": "2023-02-20T11:26:37.873Z"
   },
   {
    "duration": 9,
    "start_time": "2023-02-20T11:26:37.884Z"
   },
   {
    "duration": 100,
    "start_time": "2023-02-20T11:26:37.895Z"
   },
   {
    "duration": 6,
    "start_time": "2023-02-20T11:26:37.997Z"
   },
   {
    "duration": 39,
    "start_time": "2023-02-20T11:26:38.005Z"
   },
   {
    "duration": 21,
    "start_time": "2023-02-20T11:26:38.046Z"
   },
   {
    "duration": 52,
    "start_time": "2023-02-20T11:26:38.069Z"
   },
   {
    "duration": 2,
    "start_time": "2023-02-20T11:26:38.123Z"
   },
   {
    "duration": 11,
    "start_time": "2023-02-20T11:26:38.127Z"
   },
   {
    "duration": 23,
    "start_time": "2023-02-20T11:26:38.140Z"
   },
   {
    "duration": 22,
    "start_time": "2023-02-20T11:26:38.165Z"
   },
   {
    "duration": 4,
    "start_time": "2023-02-20T11:26:38.189Z"
   },
   {
    "duration": 32,
    "start_time": "2023-02-20T11:26:38.220Z"
   },
   {
    "duration": 27,
    "start_time": "2023-02-20T11:26:38.254Z"
   },
   {
    "duration": 14,
    "start_time": "2023-02-20T11:26:38.283Z"
   },
   {
    "duration": 28,
    "start_time": "2023-02-20T11:26:38.299Z"
   },
   {
    "duration": 36,
    "start_time": "2023-02-20T11:26:38.328Z"
   },
   {
    "duration": 13,
    "start_time": "2023-02-20T11:26:38.366Z"
   },
   {
    "duration": 13,
    "start_time": "2023-02-20T11:26:38.381Z"
   },
   {
    "duration": 31,
    "start_time": "2023-02-20T11:27:02.951Z"
   },
   {
    "duration": 2,
    "start_time": "2023-02-20T11:27:04.248Z"
   },
   {
    "duration": 6,
    "start_time": "2023-02-20T11:27:04.656Z"
   },
   {
    "duration": 1162,
    "start_time": "2023-02-20T11:27:10.792Z"
   },
   {
    "duration": 90,
    "start_time": "2023-02-20T11:27:11.956Z"
   },
   {
    "duration": 17,
    "start_time": "2023-02-20T11:27:12.051Z"
   },
   {
    "duration": 3,
    "start_time": "2023-02-20T11:27:12.069Z"
   },
   {
    "duration": 28,
    "start_time": "2023-02-20T11:27:12.074Z"
   },
   {
    "duration": 71,
    "start_time": "2023-02-20T11:27:12.121Z"
   },
   {
    "duration": 1918,
    "start_time": "2023-02-20T11:27:12.194Z"
   },
   {
    "duration": 9,
    "start_time": "2023-02-20T11:27:14.114Z"
   },
   {
    "duration": 1119,
    "start_time": "2023-02-20T11:27:14.126Z"
   },
   {
    "duration": 5,
    "start_time": "2023-02-20T11:27:15.247Z"
   },
   {
    "duration": 15,
    "start_time": "2023-02-20T11:27:15.253Z"
   },
   {
    "duration": 25,
    "start_time": "2023-02-20T11:27:15.270Z"
   },
   {
    "duration": 26,
    "start_time": "2023-02-20T11:27:15.296Z"
   },
   {
    "duration": 5,
    "start_time": "2023-02-20T11:27:15.324Z"
   },
   {
    "duration": 9,
    "start_time": "2023-02-20T11:27:15.331Z"
   },
   {
    "duration": 6,
    "start_time": "2023-02-20T11:27:15.342Z"
   },
   {
    "duration": 6,
    "start_time": "2023-02-20T11:27:15.350Z"
   },
   {
    "duration": 10,
    "start_time": "2023-02-20T11:27:15.358Z"
   },
   {
    "duration": 6,
    "start_time": "2023-02-20T11:27:15.370Z"
   },
   {
    "duration": 6,
    "start_time": "2023-02-20T11:27:15.377Z"
   },
   {
    "duration": 37,
    "start_time": "2023-02-20T11:27:15.385Z"
   },
   {
    "duration": 30,
    "start_time": "2023-02-20T11:27:15.423Z"
   },
   {
    "duration": 2,
    "start_time": "2023-02-20T11:27:15.455Z"
   },
   {
    "duration": 10,
    "start_time": "2023-02-20T11:27:15.459Z"
   },
   {
    "duration": 14,
    "start_time": "2023-02-20T11:27:15.471Z"
   },
   {
    "duration": 2808,
    "start_time": "2023-02-20T11:27:15.487Z"
   },
   {
    "duration": 4,
    "start_time": "2023-02-20T11:27:18.301Z"
   },
   {
    "duration": 28,
    "start_time": "2023-02-20T11:27:18.307Z"
   },
   {
    "duration": 29,
    "start_time": "2023-02-20T11:27:18.337Z"
   },
   {
    "duration": 4,
    "start_time": "2023-02-20T11:27:18.368Z"
   },
   {
    "duration": 7,
    "start_time": "2023-02-20T11:27:18.373Z"
   },
   {
    "duration": 5,
    "start_time": "2023-02-20T11:27:18.382Z"
   },
   {
    "duration": 71,
    "start_time": "2023-02-20T11:27:18.388Z"
   },
   {
    "duration": 5,
    "start_time": "2023-02-20T11:27:18.461Z"
   },
   {
    "duration": 7,
    "start_time": "2023-02-20T11:27:18.467Z"
   },
   {
    "duration": 5,
    "start_time": "2023-02-20T11:27:18.476Z"
   },
   {
    "duration": 5,
    "start_time": "2023-02-20T11:27:18.483Z"
   },
   {
    "duration": 52,
    "start_time": "2023-02-20T11:27:18.489Z"
   },
   {
    "duration": 4,
    "start_time": "2023-02-20T11:27:18.543Z"
   },
   {
    "duration": 6,
    "start_time": "2023-02-20T11:27:18.549Z"
   },
   {
    "duration": 6,
    "start_time": "2023-02-20T11:27:18.556Z"
   },
   {
    "duration": 7,
    "start_time": "2023-02-20T11:27:18.563Z"
   },
   {
    "duration": 7,
    "start_time": "2023-02-20T11:27:18.572Z"
   },
   {
    "duration": 4,
    "start_time": "2023-02-20T11:27:18.581Z"
   },
   {
    "duration": 35,
    "start_time": "2023-02-20T11:27:18.586Z"
   },
   {
    "duration": 7,
    "start_time": "2023-02-20T11:27:18.622Z"
   },
   {
    "duration": 14,
    "start_time": "2023-02-20T11:27:18.631Z"
   },
   {
    "duration": 6,
    "start_time": "2023-02-20T11:27:18.646Z"
   },
   {
    "duration": 6,
    "start_time": "2023-02-20T11:27:18.653Z"
   },
   {
    "duration": 31,
    "start_time": "2023-02-20T11:27:18.661Z"
   },
   {
    "duration": 27,
    "start_time": "2023-02-20T11:27:18.694Z"
   },
   {
    "duration": 2,
    "start_time": "2023-02-20T11:27:18.723Z"
   },
   {
    "duration": 8,
    "start_time": "2023-02-20T11:27:18.727Z"
   },
   {
    "duration": 85,
    "start_time": "2023-02-20T11:27:18.736Z"
   },
   {
    "duration": 5,
    "start_time": "2023-02-20T11:27:18.823Z"
   },
   {
    "duration": 26,
    "start_time": "2023-02-20T11:27:18.830Z"
   },
   {
    "duration": 22,
    "start_time": "2023-02-20T11:27:18.858Z"
   },
   {
    "duration": 49,
    "start_time": "2023-02-20T11:27:18.882Z"
   },
   {
    "duration": 3,
    "start_time": "2023-02-20T11:27:18.932Z"
   },
   {
    "duration": 11,
    "start_time": "2023-02-20T11:27:18.936Z"
   },
   {
    "duration": 24,
    "start_time": "2023-02-20T11:27:18.948Z"
   },
   {
    "duration": 49,
    "start_time": "2023-02-20T11:27:18.974Z"
   },
   {
    "duration": 5,
    "start_time": "2023-02-20T11:27:19.025Z"
   },
   {
    "duration": 40,
    "start_time": "2023-02-20T11:27:19.031Z"
   },
   {
    "duration": 27,
    "start_time": "2023-02-20T11:27:19.073Z"
   },
   {
    "duration": 20,
    "start_time": "2023-02-20T11:27:19.102Z"
   },
   {
    "duration": 7,
    "start_time": "2023-02-20T11:27:19.124Z"
   },
   {
    "duration": 27,
    "start_time": "2023-02-20T11:27:19.132Z"
   },
   {
    "duration": 15,
    "start_time": "2023-02-20T11:27:19.160Z"
   },
   {
    "duration": 14,
    "start_time": "2023-02-20T11:27:19.176Z"
   },
   {
    "duration": 3,
    "start_time": "2023-02-20T11:28:06.902Z"
   },
   {
    "duration": 2826,
    "start_time": "2023-02-20T11:29:41.123Z"
   },
   {
    "duration": 5,
    "start_time": "2023-02-20T11:29:43.952Z"
   },
   {
    "duration": 1120,
    "start_time": "2023-02-20T11:29:50.473Z"
   },
   {
    "duration": 96,
    "start_time": "2023-02-20T11:29:51.595Z"
   },
   {
    "duration": 26,
    "start_time": "2023-02-20T11:29:51.695Z"
   },
   {
    "duration": 3,
    "start_time": "2023-02-20T11:29:51.722Z"
   },
   {
    "duration": 31,
    "start_time": "2023-02-20T11:29:51.727Z"
   },
   {
    "duration": 94,
    "start_time": "2023-02-20T11:29:51.760Z"
   },
   {
    "duration": 2041,
    "start_time": "2023-02-20T11:29:51.855Z"
   },
   {
    "duration": 11,
    "start_time": "2023-02-20T11:29:53.898Z"
   },
   {
    "duration": 1130,
    "start_time": "2023-02-20T11:29:53.911Z"
   },
   {
    "duration": 6,
    "start_time": "2023-02-20T11:29:55.042Z"
   },
   {
    "duration": 33,
    "start_time": "2023-02-20T11:29:55.050Z"
   },
   {
    "duration": 32,
    "start_time": "2023-02-20T11:29:55.085Z"
   },
   {
    "duration": 9,
    "start_time": "2023-02-20T11:29:55.119Z"
   },
   {
    "duration": 22,
    "start_time": "2023-02-20T11:29:55.130Z"
   },
   {
    "duration": 12,
    "start_time": "2023-02-20T11:29:55.154Z"
   },
   {
    "duration": 7,
    "start_time": "2023-02-20T11:29:55.168Z"
   },
   {
    "duration": 9,
    "start_time": "2023-02-20T11:29:55.176Z"
   },
   {
    "duration": 5,
    "start_time": "2023-02-20T11:29:55.187Z"
   },
   {
    "duration": 10,
    "start_time": "2023-02-20T11:29:55.194Z"
   },
   {
    "duration": 15,
    "start_time": "2023-02-20T11:29:55.206Z"
   },
   {
    "duration": 8,
    "start_time": "2023-02-20T11:29:55.223Z"
   },
   {
    "duration": 2968,
    "start_time": "2023-02-20T11:29:55.233Z"
   },
   {
    "duration": 5,
    "start_time": "2023-02-20T11:29:58.203Z"
   },
   {
    "duration": 15,
    "start_time": "2023-02-20T11:29:58.210Z"
   },
   {
    "duration": 36,
    "start_time": "2023-02-20T11:29:58.227Z"
   },
   {
    "duration": 5,
    "start_time": "2023-02-20T11:29:58.264Z"
   },
   {
    "duration": 9,
    "start_time": "2023-02-20T11:29:58.272Z"
   },
   {
    "duration": 18,
    "start_time": "2023-02-20T11:29:58.282Z"
   },
   {
    "duration": 66,
    "start_time": "2023-02-20T11:29:58.302Z"
   },
   {
    "duration": 6,
    "start_time": "2023-02-20T11:29:58.370Z"
   },
   {
    "duration": 8,
    "start_time": "2023-02-20T11:29:58.377Z"
   },
   {
    "duration": 8,
    "start_time": "2023-02-20T11:29:58.387Z"
   },
   {
    "duration": 16,
    "start_time": "2023-02-20T11:29:58.397Z"
   },
   {
    "duration": 46,
    "start_time": "2023-02-20T11:29:58.422Z"
   },
   {
    "duration": 5,
    "start_time": "2023-02-20T11:29:58.469Z"
   },
   {
    "duration": 7,
    "start_time": "2023-02-20T11:29:58.476Z"
   },
   {
    "duration": 7,
    "start_time": "2023-02-20T11:29:58.485Z"
   },
   {
    "duration": 30,
    "start_time": "2023-02-20T11:29:58.494Z"
   },
   {
    "duration": 11,
    "start_time": "2023-02-20T11:29:58.526Z"
   },
   {
    "duration": 5,
    "start_time": "2023-02-20T11:29:58.540Z"
   },
   {
    "duration": 4,
    "start_time": "2023-02-20T11:29:58.547Z"
   },
   {
    "duration": 7,
    "start_time": "2023-02-20T11:29:58.553Z"
   },
   {
    "duration": 9,
    "start_time": "2023-02-20T11:29:58.562Z"
   },
   {
    "duration": 15,
    "start_time": "2023-02-20T11:29:58.573Z"
   },
   {
    "duration": 32,
    "start_time": "2023-02-20T11:29:58.590Z"
   },
   {
    "duration": 41,
    "start_time": "2023-02-20T11:29:58.624Z"
   },
   {
    "duration": 4,
    "start_time": "2023-02-20T11:29:58.667Z"
   },
   {
    "duration": 7,
    "start_time": "2023-02-20T11:29:58.673Z"
   },
   {
    "duration": 17,
    "start_time": "2023-02-20T11:29:58.681Z"
   },
   {
    "duration": 81,
    "start_time": "2023-02-20T11:29:58.700Z"
   },
   {
    "duration": 6,
    "start_time": "2023-02-20T11:29:58.783Z"
   },
   {
    "duration": 38,
    "start_time": "2023-02-20T11:29:58.790Z"
   },
   {
    "duration": 25,
    "start_time": "2023-02-20T11:29:58.830Z"
   },
   {
    "duration": 35,
    "start_time": "2023-02-20T11:29:58.857Z"
   },
   {
    "duration": 6,
    "start_time": "2023-02-20T11:29:58.894Z"
   },
   {
    "duration": 24,
    "start_time": "2023-02-20T11:29:58.922Z"
   },
   {
    "duration": 27,
    "start_time": "2023-02-20T11:29:58.947Z"
   },
   {
    "duration": 23,
    "start_time": "2023-02-20T11:29:58.976Z"
   },
   {
    "duration": 5,
    "start_time": "2023-02-20T11:29:59.000Z"
   },
   {
    "duration": 35,
    "start_time": "2023-02-20T11:29:59.021Z"
   },
   {
    "duration": 26,
    "start_time": "2023-02-20T11:29:59.059Z"
   },
   {
    "duration": 15,
    "start_time": "2023-02-20T11:29:59.087Z"
   },
   {
    "duration": 24,
    "start_time": "2023-02-20T11:29:59.103Z"
   },
   {
    "duration": 30,
    "start_time": "2023-02-20T11:29:59.129Z"
   },
   {
    "duration": 17,
    "start_time": "2023-02-20T11:29:59.161Z"
   },
   {
    "duration": 41,
    "start_time": "2023-02-20T11:29:59.180Z"
   },
   {
    "duration": 21,
    "start_time": "2023-02-20T11:31:26.094Z"
   },
   {
    "duration": 11,
    "start_time": "2023-02-20T11:32:30.524Z"
   },
   {
    "duration": 22,
    "start_time": "2023-02-20T11:32:50.424Z"
   },
   {
    "duration": 28,
    "start_time": "2023-02-20T11:34:47.473Z"
   },
   {
    "duration": 6,
    "start_time": "2023-02-20T11:38:07.069Z"
   },
   {
    "duration": 6,
    "start_time": "2023-02-20T11:38:47.613Z"
   },
   {
    "duration": 100,
    "start_time": "2023-02-20T11:53:18.191Z"
   },
   {
    "duration": 6,
    "start_time": "2023-02-20T12:00:07.065Z"
   },
   {
    "duration": 11,
    "start_time": "2023-02-20T12:00:12.333Z"
   },
   {
    "duration": 6,
    "start_time": "2023-02-20T12:01:01.821Z"
   },
   {
    "duration": 25,
    "start_time": "2023-02-20T12:01:28.081Z"
   },
   {
    "duration": 6,
    "start_time": "2023-02-20T12:01:47.573Z"
   },
   {
    "duration": 26,
    "start_time": "2023-02-20T12:03:25.390Z"
   },
   {
    "duration": 11,
    "start_time": "2023-02-20T12:06:11.898Z"
   },
   {
    "duration": 9,
    "start_time": "2023-02-20T12:06:16.478Z"
   },
   {
    "duration": 10,
    "start_time": "2023-02-20T12:06:23.681Z"
   },
   {
    "duration": 6,
    "start_time": "2023-02-20T12:06:46.926Z"
   },
   {
    "duration": 7,
    "start_time": "2023-02-20T12:07:04.678Z"
   },
   {
    "duration": 6,
    "start_time": "2023-02-20T12:07:10.472Z"
   },
   {
    "duration": 8,
    "start_time": "2023-02-20T12:07:14.564Z"
   },
   {
    "duration": 6,
    "start_time": "2023-02-20T12:08:17.038Z"
   },
   {
    "duration": 11,
    "start_time": "2023-02-20T12:08:17.680Z"
   },
   {
    "duration": 6,
    "start_time": "2023-02-20T12:08:18.299Z"
   },
   {
    "duration": 9,
    "start_time": "2023-02-20T12:08:18.944Z"
   },
   {
    "duration": 3,
    "start_time": "2023-02-20T12:15:27.366Z"
   },
   {
    "duration": 2,
    "start_time": "2023-02-20T12:17:51.292Z"
   },
   {
    "duration": 5,
    "start_time": "2023-02-20T12:19:52.076Z"
   },
   {
    "duration": 6,
    "start_time": "2023-02-20T12:21:02.297Z"
   },
   {
    "duration": 10,
    "start_time": "2023-02-20T12:24:29.737Z"
   },
   {
    "duration": 9,
    "start_time": "2023-02-20T12:24:55.659Z"
   },
   {
    "duration": 36,
    "start_time": "2023-02-20T12:25:55.101Z"
   },
   {
    "duration": 5,
    "start_time": "2023-02-20T12:26:26.604Z"
   },
   {
    "duration": 5,
    "start_time": "2023-02-20T12:27:28.293Z"
   },
   {
    "duration": 6,
    "start_time": "2023-02-20T12:28:43.965Z"
   },
   {
    "duration": 16,
    "start_time": "2023-02-20T12:31:14.775Z"
   },
   {
    "duration": 963,
    "start_time": "2023-02-20T12:32:55.701Z"
   },
   {
    "duration": 842,
    "start_time": "2023-02-20T12:33:14.886Z"
   },
   {
    "duration": 62,
    "start_time": "2023-02-20T12:34:07.203Z"
   },
   {
    "duration": 480,
    "start_time": "2023-02-20T12:34:13.784Z"
   },
   {
    "duration": 728,
    "start_time": "2023-02-20T12:34:41.670Z"
   },
   {
    "duration": 701,
    "start_time": "2023-02-20T12:34:54.825Z"
   },
   {
    "duration": 11,
    "start_time": "2023-02-20T12:36:13.315Z"
   },
   {
    "duration": 13,
    "start_time": "2023-02-20T12:36:55.149Z"
   },
   {
    "duration": 1115,
    "start_time": "2023-02-20T12:39:11.740Z"
   },
   {
    "duration": 94,
    "start_time": "2023-02-20T12:39:12.857Z"
   },
   {
    "duration": 15,
    "start_time": "2023-02-20T12:39:12.952Z"
   },
   {
    "duration": 2,
    "start_time": "2023-02-20T12:39:12.969Z"
   },
   {
    "duration": 25,
    "start_time": "2023-02-20T12:39:12.973Z"
   },
   {
    "duration": 87,
    "start_time": "2023-02-20T12:39:13.000Z"
   },
   {
    "duration": 2007,
    "start_time": "2023-02-20T12:39:13.089Z"
   },
   {
    "duration": 12,
    "start_time": "2023-02-20T12:39:15.098Z"
   },
   {
    "duration": 1055,
    "start_time": "2023-02-20T12:39:15.111Z"
   },
   {
    "duration": 4,
    "start_time": "2023-02-20T12:39:16.169Z"
   },
   {
    "duration": 7,
    "start_time": "2023-02-20T12:39:16.175Z"
   },
   {
    "duration": 40,
    "start_time": "2023-02-20T12:39:16.183Z"
   },
   {
    "duration": 6,
    "start_time": "2023-02-20T12:39:16.225Z"
   },
   {
    "duration": 6,
    "start_time": "2023-02-20T12:39:16.232Z"
   },
   {
    "duration": 5,
    "start_time": "2023-02-20T12:39:16.240Z"
   },
   {
    "duration": 9,
    "start_time": "2023-02-20T12:39:16.246Z"
   },
   {
    "duration": 7,
    "start_time": "2023-02-20T12:39:16.257Z"
   },
   {
    "duration": 5,
    "start_time": "2023-02-20T12:39:16.266Z"
   },
   {
    "duration": 7,
    "start_time": "2023-02-20T12:39:16.272Z"
   },
   {
    "duration": 41,
    "start_time": "2023-02-20T12:39:16.280Z"
   },
   {
    "duration": 14,
    "start_time": "2023-02-20T12:39:16.323Z"
   },
   {
    "duration": 2933,
    "start_time": "2023-02-20T12:39:16.339Z"
   },
   {
    "duration": 2,
    "start_time": "2023-02-20T12:39:19.274Z"
   },
   {
    "duration": 16,
    "start_time": "2023-02-20T12:39:19.277Z"
   },
   {
    "duration": 6,
    "start_time": "2023-02-20T12:39:19.294Z"
   },
   {
    "duration": 41,
    "start_time": "2023-02-20T12:39:19.302Z"
   },
   {
    "duration": 5,
    "start_time": "2023-02-20T12:39:19.345Z"
   },
   {
    "duration": 5,
    "start_time": "2023-02-20T12:39:19.353Z"
   },
   {
    "duration": 7,
    "start_time": "2023-02-20T12:39:19.360Z"
   },
   {
    "duration": 69,
    "start_time": "2023-02-20T12:39:19.368Z"
   },
   {
    "duration": 20,
    "start_time": "2023-02-20T12:39:19.439Z"
   },
   {
    "duration": 5,
    "start_time": "2023-02-20T12:39:19.461Z"
   },
   {
    "duration": 9,
    "start_time": "2023-02-20T12:39:19.467Z"
   },
   {
    "duration": 54,
    "start_time": "2023-02-20T12:39:19.478Z"
   },
   {
    "duration": 5,
    "start_time": "2023-02-20T12:39:19.534Z"
   },
   {
    "duration": 5,
    "start_time": "2023-02-20T12:39:19.541Z"
   },
   {
    "duration": 9,
    "start_time": "2023-02-20T12:39:19.548Z"
   },
   {
    "duration": 6,
    "start_time": "2023-02-20T12:39:19.558Z"
   },
   {
    "duration": 8,
    "start_time": "2023-02-20T12:39:19.565Z"
   },
   {
    "duration": 5,
    "start_time": "2023-02-20T12:39:19.574Z"
   },
   {
    "duration": 4,
    "start_time": "2023-02-20T12:39:19.580Z"
   },
   {
    "duration": 5,
    "start_time": "2023-02-20T12:39:19.621Z"
   },
   {
    "duration": 14,
    "start_time": "2023-02-20T12:39:19.628Z"
   },
   {
    "duration": 5,
    "start_time": "2023-02-20T12:39:19.643Z"
   },
   {
    "duration": 8,
    "start_time": "2023-02-20T12:39:19.650Z"
   },
   {
    "duration": 119,
    "start_time": "2023-02-20T12:39:19.660Z"
   },
   {
    "duration": 0,
    "start_time": "2023-02-20T12:39:19.781Z"
   },
   {
    "duration": 0,
    "start_time": "2023-02-20T12:39:19.782Z"
   },
   {
    "duration": 0,
    "start_time": "2023-02-20T12:39:19.783Z"
   },
   {
    "duration": 0,
    "start_time": "2023-02-20T12:39:19.784Z"
   },
   {
    "duration": 0,
    "start_time": "2023-02-20T12:39:19.785Z"
   },
   {
    "duration": 0,
    "start_time": "2023-02-20T12:39:19.786Z"
   },
   {
    "duration": 0,
    "start_time": "2023-02-20T12:39:19.787Z"
   },
   {
    "duration": 0,
    "start_time": "2023-02-20T12:39:19.789Z"
   },
   {
    "duration": 0,
    "start_time": "2023-02-20T12:39:19.790Z"
   },
   {
    "duration": 0,
    "start_time": "2023-02-20T12:39:19.792Z"
   },
   {
    "duration": 0,
    "start_time": "2023-02-20T12:39:19.793Z"
   },
   {
    "duration": 0,
    "start_time": "2023-02-20T12:39:19.794Z"
   },
   {
    "duration": 0,
    "start_time": "2023-02-20T12:39:19.821Z"
   },
   {
    "duration": 0,
    "start_time": "2023-02-20T12:39:19.822Z"
   },
   {
    "duration": 0,
    "start_time": "2023-02-20T12:39:19.824Z"
   },
   {
    "duration": 0,
    "start_time": "2023-02-20T12:39:19.826Z"
   },
   {
    "duration": 0,
    "start_time": "2023-02-20T12:39:19.827Z"
   },
   {
    "duration": 0,
    "start_time": "2023-02-20T12:39:19.829Z"
   },
   {
    "duration": 0,
    "start_time": "2023-02-20T12:39:19.830Z"
   },
   {
    "duration": 0,
    "start_time": "2023-02-20T12:39:19.831Z"
   },
   {
    "duration": 3,
    "start_time": "2023-02-20T12:39:56.402Z"
   },
   {
    "duration": 39,
    "start_time": "2023-02-20T12:39:58.101Z"
   },
   {
    "duration": 4,
    "start_time": "2023-02-20T12:40:01.725Z"
   },
   {
    "duration": 14,
    "start_time": "2023-02-20T12:40:02.233Z"
   },
   {
    "duration": 6,
    "start_time": "2023-02-20T12:40:15.288Z"
   },
   {
    "duration": 71,
    "start_time": "2023-02-20T12:40:16.054Z"
   },
   {
    "duration": 6,
    "start_time": "2023-02-20T12:40:18.698Z"
   },
   {
    "duration": 5,
    "start_time": "2023-02-20T12:40:21.811Z"
   },
   {
    "duration": 12,
    "start_time": "2023-02-20T12:40:24.213Z"
   },
   {
    "duration": 9,
    "start_time": "2023-02-20T12:40:24.618Z"
   },
   {
    "duration": 11,
    "start_time": "2023-02-20T12:40:25.051Z"
   },
   {
    "duration": 25,
    "start_time": "2023-02-20T12:40:29.214Z"
   },
   {
    "duration": 25,
    "start_time": "2023-02-20T12:40:29.728Z"
   },
   {
    "duration": 5,
    "start_time": "2023-02-20T12:40:30.585Z"
   },
   {
    "duration": 32,
    "start_time": "2023-02-20T12:40:31.345Z"
   },
   {
    "duration": 37,
    "start_time": "2023-02-20T12:40:32.293Z"
   },
   {
    "duration": 9,
    "start_time": "2023-02-20T12:40:32.992Z"
   },
   {
    "duration": 6,
    "start_time": "2023-02-20T12:40:33.590Z"
   },
   {
    "duration": 25,
    "start_time": "2023-02-20T12:40:34.045Z"
   },
   {
    "duration": 18,
    "start_time": "2023-02-20T12:40:34.466Z"
   },
   {
    "duration": 15,
    "start_time": "2023-02-20T12:40:35.812Z"
   },
   {
    "duration": 6,
    "start_time": "2023-02-20T12:42:19.157Z"
   },
   {
    "duration": 9,
    "start_time": "2023-02-20T12:42:44.809Z"
   },
   {
    "duration": 27,
    "start_time": "2023-02-20T13:15:00.886Z"
   },
   {
    "duration": 1213,
    "start_time": "2023-02-20T13:15:30.247Z"
   },
   {
    "duration": 961,
    "start_time": "2023-02-20T13:16:53.143Z"
   },
   {
    "duration": 48,
    "start_time": "2023-02-20T16:48:13.825Z"
   },
   {
    "duration": 1508,
    "start_time": "2023-02-20T16:48:20.335Z"
   },
   {
    "duration": 322,
    "start_time": "2023-02-20T16:48:21.846Z"
   },
   {
    "duration": 16,
    "start_time": "2023-02-20T16:48:22.170Z"
   },
   {
    "duration": 3,
    "start_time": "2023-02-20T16:48:22.188Z"
   },
   {
    "duration": 30,
    "start_time": "2023-02-20T16:48:22.192Z"
   },
   {
    "duration": 89,
    "start_time": "2023-02-20T16:48:22.224Z"
   },
   {
    "duration": 2085,
    "start_time": "2023-02-20T16:48:22.315Z"
   },
   {
    "duration": 11,
    "start_time": "2023-02-20T16:48:24.403Z"
   },
   {
    "duration": 1151,
    "start_time": "2023-02-20T16:48:24.416Z"
   },
   {
    "duration": 4,
    "start_time": "2023-02-20T16:48:25.570Z"
   },
   {
    "duration": 32,
    "start_time": "2023-02-20T16:48:25.576Z"
   },
   {
    "duration": 26,
    "start_time": "2023-02-20T16:48:25.610Z"
   },
   {
    "duration": 11,
    "start_time": "2023-02-20T16:48:25.638Z"
   },
   {
    "duration": 6,
    "start_time": "2023-02-20T16:48:25.651Z"
   },
   {
    "duration": 14,
    "start_time": "2023-02-20T16:48:25.659Z"
   },
   {
    "duration": 6,
    "start_time": "2023-02-20T16:48:25.675Z"
   },
   {
    "duration": 9,
    "start_time": "2023-02-20T16:48:25.683Z"
   },
   {
    "duration": 10,
    "start_time": "2023-02-20T16:48:25.694Z"
   },
   {
    "duration": 7,
    "start_time": "2023-02-20T16:48:25.706Z"
   },
   {
    "duration": 33,
    "start_time": "2023-02-20T16:48:25.714Z"
   },
   {
    "duration": 6,
    "start_time": "2023-02-20T16:48:25.749Z"
   },
   {
    "duration": 3079,
    "start_time": "2023-02-20T16:48:25.756Z"
   },
   {
    "duration": 8,
    "start_time": "2023-02-20T16:48:28.837Z"
   },
   {
    "duration": 17,
    "start_time": "2023-02-20T16:48:28.847Z"
   },
   {
    "duration": 12,
    "start_time": "2023-02-20T16:48:28.865Z"
   },
   {
    "duration": 35,
    "start_time": "2023-02-20T16:48:28.879Z"
   },
   {
    "duration": 57,
    "start_time": "2023-02-20T16:48:28.916Z"
   },
   {
    "duration": 8,
    "start_time": "2023-02-20T16:48:28.980Z"
   },
   {
    "duration": 16,
    "start_time": "2023-02-20T16:48:28.990Z"
   },
   {
    "duration": 68,
    "start_time": "2023-02-20T16:48:29.007Z"
   },
   {
    "duration": 20,
    "start_time": "2023-02-20T16:48:29.077Z"
   },
   {
    "duration": 24,
    "start_time": "2023-02-20T16:48:29.100Z"
   },
   {
    "duration": 13,
    "start_time": "2023-02-20T16:48:29.126Z"
   },
   {
    "duration": 39,
    "start_time": "2023-02-20T16:48:29.140Z"
   },
   {
    "duration": 5,
    "start_time": "2023-02-20T16:48:29.181Z"
   },
   {
    "duration": 7,
    "start_time": "2023-02-20T16:48:29.188Z"
   },
   {
    "duration": 20,
    "start_time": "2023-02-20T16:48:29.196Z"
   },
   {
    "duration": 6,
    "start_time": "2023-02-20T16:48:29.217Z"
   },
   {
    "duration": 10,
    "start_time": "2023-02-20T16:48:29.224Z"
   },
   {
    "duration": 14,
    "start_time": "2023-02-20T16:48:29.236Z"
   },
   {
    "duration": 22,
    "start_time": "2023-02-20T16:48:29.252Z"
   },
   {
    "duration": 21,
    "start_time": "2023-02-20T16:48:29.275Z"
   },
   {
    "duration": 24,
    "start_time": "2023-02-20T16:48:29.298Z"
   },
   {
    "duration": 24,
    "start_time": "2023-02-20T16:48:29.324Z"
   },
   {
    "duration": 31,
    "start_time": "2023-02-20T16:48:29.350Z"
   },
   {
    "duration": 26,
    "start_time": "2023-02-20T16:48:29.383Z"
   },
   {
    "duration": 79,
    "start_time": "2023-02-20T16:48:29.411Z"
   },
   {
    "duration": 6,
    "start_time": "2023-02-20T16:48:29.491Z"
   },
   {
    "duration": 33,
    "start_time": "2023-02-20T16:48:29.498Z"
   },
   {
    "duration": 23,
    "start_time": "2023-02-20T16:48:29.533Z"
   },
   {
    "duration": 18,
    "start_time": "2023-02-20T16:48:29.557Z"
   },
   {
    "duration": 103,
    "start_time": "2023-02-20T16:48:29.577Z"
   },
   {
    "duration": 5,
    "start_time": "2023-02-20T16:48:29.682Z"
   },
   {
    "duration": 19,
    "start_time": "2023-02-20T16:48:29.689Z"
   },
   {
    "duration": 18,
    "start_time": "2023-02-20T16:48:29.709Z"
   },
   {
    "duration": 21,
    "start_time": "2023-02-20T16:48:29.729Z"
   },
   {
    "duration": 8,
    "start_time": "2023-02-20T16:48:29.752Z"
   },
   {
    "duration": 33,
    "start_time": "2023-02-20T16:48:29.761Z"
   },
   {
    "duration": 1564,
    "start_time": "2023-02-20T16:48:29.796Z"
   },
   {
    "duration": 0,
    "start_time": "2023-02-20T16:48:31.362Z"
   },
   {
    "duration": 0,
    "start_time": "2023-02-20T16:48:31.364Z"
   },
   {
    "duration": 0,
    "start_time": "2023-02-20T16:48:31.365Z"
   },
   {
    "duration": 0,
    "start_time": "2023-02-20T16:48:31.366Z"
   },
   {
    "duration": 0,
    "start_time": "2023-02-20T16:48:31.367Z"
   },
   {
    "duration": 0,
    "start_time": "2023-02-20T16:48:31.369Z"
   },
   {
    "duration": 0,
    "start_time": "2023-02-20T16:48:31.370Z"
   },
   {
    "duration": 0,
    "start_time": "2023-02-20T16:48:31.371Z"
   },
   {
    "duration": 0,
    "start_time": "2023-02-20T16:48:31.372Z"
   },
   {
    "duration": 15,
    "start_time": "2023-02-20T16:50:03.167Z"
   },
   {
    "duration": 18,
    "start_time": "2023-02-20T16:51:25.424Z"
   },
   {
    "duration": 57,
    "start_time": "2023-02-20T16:57:07.085Z"
   },
   {
    "duration": 8,
    "start_time": "2023-02-20T16:57:52.714Z"
   },
   {
    "duration": 8,
    "start_time": "2023-02-20T17:11:30.519Z"
   },
   {
    "duration": 9,
    "start_time": "2023-02-20T17:11:42.031Z"
   },
   {
    "duration": 13,
    "start_time": "2023-02-20T17:12:23.059Z"
   },
   {
    "duration": 9,
    "start_time": "2023-02-20T17:12:33.150Z"
   },
   {
    "duration": 8,
    "start_time": "2023-02-20T17:12:37.497Z"
   },
   {
    "duration": 11,
    "start_time": "2023-02-20T17:15:07.558Z"
   },
   {
    "duration": 420,
    "start_time": "2023-02-20T17:18:16.109Z"
   },
   {
    "duration": 446,
    "start_time": "2023-02-20T17:18:28.136Z"
   },
   {
    "duration": 11,
    "start_time": "2023-02-20T17:21:27.103Z"
   },
   {
    "duration": 6,
    "start_time": "2023-02-20T17:21:39.760Z"
   },
   {
    "duration": 11,
    "start_time": "2023-02-20T17:21:48.735Z"
   },
   {
    "duration": 11,
    "start_time": "2023-02-20T17:22:04.702Z"
   },
   {
    "duration": 17,
    "start_time": "2023-02-20T17:24:22.668Z"
   },
   {
    "duration": 4,
    "start_time": "2023-02-20T17:24:36.896Z"
   },
   {
    "duration": 11,
    "start_time": "2023-02-20T17:24:52.527Z"
   },
   {
    "duration": 10,
    "start_time": "2023-02-20T17:25:15.359Z"
   },
   {
    "duration": 72,
    "start_time": "2023-02-20T17:25:50.620Z"
   },
   {
    "duration": 44,
    "start_time": "2023-02-20T17:25:58.503Z"
   },
   {
    "duration": 8,
    "start_time": "2023-02-20T17:26:05.992Z"
   },
   {
    "duration": 44,
    "start_time": "2023-02-20T17:32:48.043Z"
   },
   {
    "duration": 50,
    "start_time": "2023-02-20T17:33:22.481Z"
   },
   {
    "duration": 12,
    "start_time": "2023-02-20T17:37:05.126Z"
   },
   {
    "duration": 17,
    "start_time": "2023-02-20T17:37:28.627Z"
   },
   {
    "duration": 9,
    "start_time": "2023-02-20T17:38:10.198Z"
   },
   {
    "duration": 69,
    "start_time": "2023-02-20T17:38:10.209Z"
   },
   {
    "duration": 5,
    "start_time": "2023-02-20T17:39:26.562Z"
   },
   {
    "duration": 2063,
    "start_time": "2023-02-20T17:40:02.386Z"
   },
   {
    "duration": 45,
    "start_time": "2023-02-20T17:40:09.538Z"
   },
   {
    "duration": 36,
    "start_time": "2023-02-20T17:40:53.828Z"
   },
   {
    "duration": 38,
    "start_time": "2023-02-20T17:41:13.314Z"
   },
   {
    "duration": 25,
    "start_time": "2023-02-20T17:42:27.338Z"
   },
   {
    "duration": 29,
    "start_time": "2023-02-20T17:42:34.336Z"
   },
   {
    "duration": 40,
    "start_time": "2023-02-20T17:42:59.065Z"
   },
   {
    "duration": 5,
    "start_time": "2023-02-20T17:43:31.013Z"
   },
   {
    "duration": 40,
    "start_time": "2023-02-20T17:43:35.067Z"
   },
   {
    "duration": 56,
    "start_time": "2023-02-20T17:44:14.545Z"
   },
   {
    "duration": 12,
    "start_time": "2023-02-20T17:50:44.429Z"
   },
   {
    "duration": 11,
    "start_time": "2023-02-20T17:51:07.687Z"
   },
   {
    "duration": 3,
    "start_time": "2023-02-20T17:57:00.914Z"
   },
   {
    "duration": 7,
    "start_time": "2023-02-20T17:57:23.269Z"
   },
   {
    "duration": 5,
    "start_time": "2023-02-20T17:57:31.590Z"
   },
   {
    "duration": 11,
    "start_time": "2023-02-20T17:57:39.833Z"
   },
   {
    "duration": 11,
    "start_time": "2023-02-20T17:58:41.116Z"
   },
   {
    "duration": 12,
    "start_time": "2023-02-20T17:59:10.725Z"
   },
   {
    "duration": 16,
    "start_time": "2023-02-20T17:59:55.394Z"
   },
   {
    "duration": 3,
    "start_time": "2023-02-20T18:03:06.499Z"
   },
   {
    "duration": 237,
    "start_time": "2023-02-20T18:03:33.841Z"
   },
   {
    "duration": 236,
    "start_time": "2023-02-20T18:03:53.739Z"
   },
   {
    "duration": 232,
    "start_time": "2023-02-20T18:04:23.026Z"
   },
   {
    "duration": 214,
    "start_time": "2023-02-20T18:04:30.401Z"
   },
   {
    "duration": 18663,
    "start_time": "2023-02-20T18:05:12.821Z"
   },
   {
    "duration": 3,
    "start_time": "2023-02-20T18:05:34.783Z"
   },
   {
    "duration": 43,
    "start_time": "2023-02-20T18:05:42.085Z"
   },
   {
    "duration": 71,
    "start_time": "2023-02-20T18:05:56.497Z"
   },
   {
    "duration": 5,
    "start_time": "2023-02-20T18:05:59.823Z"
   },
   {
    "duration": 18083,
    "start_time": "2023-02-20T18:06:02.894Z"
   },
   {
    "duration": 230,
    "start_time": "2023-02-20T18:06:30.837Z"
   },
   {
    "duration": 11,
    "start_time": "2023-02-20T18:06:38.789Z"
   },
   {
    "duration": 5,
    "start_time": "2023-02-20T18:06:59.302Z"
   },
   {
    "duration": 4,
    "start_time": "2023-02-20T18:07:04.300Z"
   },
   {
    "duration": 822,
    "start_time": "2023-02-20T18:07:13.014Z"
   },
   {
    "duration": 37,
    "start_time": "2023-02-20T18:08:23.301Z"
   },
   {
    "duration": 46,
    "start_time": "2023-02-20T18:08:48.709Z"
   },
   {
    "duration": 15,
    "start_time": "2023-02-20T18:10:01.402Z"
   },
   {
    "duration": 63,
    "start_time": "2023-02-20T18:10:19.464Z"
   },
   {
    "duration": 38,
    "start_time": "2023-02-20T18:11:13.661Z"
   },
   {
    "duration": 99,
    "start_time": "2023-02-20T18:11:34.491Z"
   },
   {
    "duration": 43,
    "start_time": "2023-02-20T18:12:59.268Z"
   },
   {
    "duration": 8,
    "start_time": "2023-02-20T18:37:21.785Z"
   },
   {
    "duration": 6,
    "start_time": "2023-02-20T18:37:34.678Z"
   },
   {
    "duration": 88,
    "start_time": "2023-02-20T18:38:03.910Z"
   },
   {
    "duration": 12,
    "start_time": "2023-02-20T18:38:12.550Z"
   },
   {
    "duration": 67,
    "start_time": "2023-02-20T18:39:28.897Z"
   },
   {
    "duration": 12,
    "start_time": "2023-02-20T18:39:51.731Z"
   },
   {
    "duration": 1403,
    "start_time": "2023-02-20T18:42:29.569Z"
   },
   {
    "duration": 209,
    "start_time": "2023-02-20T18:42:30.975Z"
   },
   {
    "duration": 17,
    "start_time": "2023-02-20T18:42:31.186Z"
   },
   {
    "duration": 24,
    "start_time": "2023-02-20T18:42:31.205Z"
   },
   {
    "duration": 48,
    "start_time": "2023-02-20T18:42:31.231Z"
   },
   {
    "duration": 114,
    "start_time": "2023-02-20T18:42:31.281Z"
   },
   {
    "duration": 2165,
    "start_time": "2023-02-20T18:42:31.397Z"
   },
   {
    "duration": 11,
    "start_time": "2023-02-20T18:42:33.564Z"
   },
   {
    "duration": 1165,
    "start_time": "2023-02-20T18:42:33.577Z"
   },
   {
    "duration": 9,
    "start_time": "2023-02-20T18:42:34.752Z"
   },
   {
    "duration": 15,
    "start_time": "2023-02-20T18:42:34.763Z"
   },
   {
    "duration": 28,
    "start_time": "2023-02-20T18:42:34.780Z"
   },
   {
    "duration": 13,
    "start_time": "2023-02-20T18:42:34.809Z"
   },
   {
    "duration": 15,
    "start_time": "2023-02-20T18:42:34.824Z"
   },
   {
    "duration": 23,
    "start_time": "2023-02-20T18:42:34.840Z"
   },
   {
    "duration": 9,
    "start_time": "2023-02-20T18:42:34.864Z"
   },
   {
    "duration": 7,
    "start_time": "2023-02-20T18:42:34.874Z"
   },
   {
    "duration": 8,
    "start_time": "2023-02-20T18:42:34.882Z"
   },
   {
    "duration": 7,
    "start_time": "2023-02-20T18:42:34.891Z"
   },
   {
    "duration": 6,
    "start_time": "2023-02-20T18:42:34.899Z"
   },
   {
    "duration": 6,
    "start_time": "2023-02-20T18:42:34.907Z"
   },
   {
    "duration": 3375,
    "start_time": "2023-02-20T18:42:34.914Z"
   },
   {
    "duration": 3,
    "start_time": "2023-02-20T18:42:38.290Z"
   },
   {
    "duration": 10,
    "start_time": "2023-02-20T18:42:38.295Z"
   },
   {
    "duration": 3,
    "start_time": "2023-02-20T18:42:38.307Z"
   },
   {
    "duration": 51,
    "start_time": "2023-02-20T18:42:38.312Z"
   },
   {
    "duration": 5,
    "start_time": "2023-02-20T18:42:38.364Z"
   },
   {
    "duration": 5,
    "start_time": "2023-02-20T18:42:38.374Z"
   },
   {
    "duration": 6,
    "start_time": "2023-02-20T18:42:38.380Z"
   },
   {
    "duration": 78,
    "start_time": "2023-02-20T18:42:38.388Z"
   },
   {
    "duration": 20,
    "start_time": "2023-02-20T18:42:38.468Z"
   },
   {
    "duration": 7,
    "start_time": "2023-02-20T18:42:38.490Z"
   },
   {
    "duration": 8,
    "start_time": "2023-02-20T18:42:38.498Z"
   },
   {
    "duration": 62,
    "start_time": "2023-02-20T18:42:38.507Z"
   },
   {
    "duration": 8,
    "start_time": "2023-02-20T18:42:38.572Z"
   },
   {
    "duration": 7,
    "start_time": "2023-02-20T18:42:38.582Z"
   },
   {
    "duration": 24,
    "start_time": "2023-02-20T18:42:38.591Z"
   },
   {
    "duration": 51,
    "start_time": "2023-02-20T18:42:38.617Z"
   },
   {
    "duration": 19,
    "start_time": "2023-02-20T18:42:38.670Z"
   },
   {
    "duration": 20,
    "start_time": "2023-02-20T18:42:38.691Z"
   },
   {
    "duration": 6,
    "start_time": "2023-02-20T18:42:38.713Z"
   },
   {
    "duration": 11,
    "start_time": "2023-02-20T18:42:38.721Z"
   },
   {
    "duration": 16,
    "start_time": "2023-02-20T18:42:38.734Z"
   },
   {
    "duration": 20,
    "start_time": "2023-02-20T18:42:38.755Z"
   },
   {
    "duration": 8,
    "start_time": "2023-02-20T18:42:38.776Z"
   },
   {
    "duration": 5,
    "start_time": "2023-02-20T18:42:38.786Z"
   },
   {
    "duration": 43,
    "start_time": "2023-02-20T18:42:38.793Z"
   },
   {
    "duration": 7,
    "start_time": "2023-02-20T18:42:38.838Z"
   },
   {
    "duration": 19,
    "start_time": "2023-02-20T18:42:38.849Z"
   },
   {
    "duration": 14,
    "start_time": "2023-02-20T18:42:38.870Z"
   },
   {
    "duration": 14,
    "start_time": "2023-02-20T18:42:38.886Z"
   },
   {
    "duration": 8,
    "start_time": "2023-02-20T18:42:38.902Z"
   },
   {
    "duration": 3,
    "start_time": "2023-02-20T18:42:38.912Z"
   },
   {
    "duration": 8,
    "start_time": "2023-02-20T18:42:38.917Z"
   },
   {
    "duration": 35,
    "start_time": "2023-02-20T18:42:38.927Z"
   },
   {
    "duration": 6,
    "start_time": "2023-02-20T18:42:38.964Z"
   },
   {
    "duration": 31,
    "start_time": "2023-02-20T18:42:38.972Z"
   },
   {
    "duration": 55,
    "start_time": "2023-02-20T18:42:39.005Z"
   },
   {
    "duration": 11,
    "start_time": "2023-02-20T18:42:39.062Z"
   },
   {
    "duration": 16,
    "start_time": "2023-02-20T18:42:39.075Z"
   },
   {
    "duration": 17,
    "start_time": "2023-02-20T18:42:39.093Z"
   },
   {
    "duration": 2,
    "start_time": "2023-02-20T18:42:39.112Z"
   },
   {
    "duration": 8,
    "start_time": "2023-02-20T18:42:39.116Z"
   },
   {
    "duration": 19,
    "start_time": "2023-02-20T18:42:39.126Z"
   },
   {
    "duration": 10,
    "start_time": "2023-02-20T18:42:39.147Z"
   },
   {
    "duration": 24,
    "start_time": "2023-02-20T18:42:39.158Z"
   },
   {
    "duration": 103,
    "start_time": "2023-02-20T18:42:39.184Z"
   },
   {
    "duration": 6,
    "start_time": "2023-02-20T18:42:39.289Z"
   },
   {
    "duration": 13,
    "start_time": "2023-02-20T18:42:39.296Z"
   },
   {
    "duration": 6,
    "start_time": "2023-02-20T18:42:39.311Z"
   },
   {
    "duration": 95,
    "start_time": "2023-02-20T18:42:39.318Z"
   },
   {
    "duration": 9,
    "start_time": "2023-02-20T18:42:39.414Z"
   },
   {
    "duration": 60,
    "start_time": "2023-02-20T18:42:39.425Z"
   },
   {
    "duration": 1098,
    "start_time": "2023-02-20T18:42:39.486Z"
   },
   {
    "duration": 0,
    "start_time": "2023-02-20T18:42:40.586Z"
   },
   {
    "duration": 0,
    "start_time": "2023-02-20T18:42:40.587Z"
   },
   {
    "duration": 0,
    "start_time": "2023-02-20T18:42:40.588Z"
   },
   {
    "duration": 0,
    "start_time": "2023-02-20T18:42:40.590Z"
   },
   {
    "duration": 0,
    "start_time": "2023-02-20T18:42:40.592Z"
   },
   {
    "duration": 0,
    "start_time": "2023-02-20T18:42:40.593Z"
   },
   {
    "duration": 0,
    "start_time": "2023-02-20T18:42:40.595Z"
   },
   {
    "duration": 0,
    "start_time": "2023-02-20T18:42:40.596Z"
   },
   {
    "duration": 0,
    "start_time": "2023-02-20T18:42:40.597Z"
   },
   {
    "duration": 10,
    "start_time": "2023-02-20T18:43:13.108Z"
   },
   {
    "duration": 57,
    "start_time": "2023-02-20T18:44:00.812Z"
   },
   {
    "duration": 1304,
    "start_time": "2023-02-20T18:44:12.736Z"
   },
   {
    "duration": 100,
    "start_time": "2023-02-20T18:44:16.325Z"
   },
   {
    "duration": 17,
    "start_time": "2023-02-20T18:44:18.926Z"
   },
   {
    "duration": 112,
    "start_time": "2023-02-20T18:47:11.724Z"
   },
   {
    "duration": 17,
    "start_time": "2023-02-20T18:47:12.296Z"
   },
   {
    "duration": 15,
    "start_time": "2023-02-20T18:47:27.161Z"
   },
   {
    "duration": 34,
    "start_time": "2023-02-20T18:48:02.021Z"
   },
   {
    "duration": 866,
    "start_time": "2023-02-20T18:48:02.465Z"
   },
   {
    "duration": 8,
    "start_time": "2023-02-20T18:48:29.712Z"
   },
   {
    "duration": 28,
    "start_time": "2023-02-20T18:48:33.535Z"
   },
   {
    "duration": 5,
    "start_time": "2023-02-20T18:48:34.236Z"
   },
   {
    "duration": 36,
    "start_time": "2023-02-20T18:48:34.908Z"
   },
   {
    "duration": 38,
    "start_time": "2023-02-20T18:48:35.797Z"
   },
   {
    "duration": 9,
    "start_time": "2023-02-20T18:48:38.208Z"
   },
   {
    "duration": 7,
    "start_time": "2023-02-20T18:48:39.278Z"
   },
   {
    "duration": 26,
    "start_time": "2023-02-20T18:48:49.011Z"
   },
   {
    "duration": 16,
    "start_time": "2023-02-20T18:48:49.594Z"
   },
   {
    "duration": 16,
    "start_time": "2023-02-20T18:50:24.342Z"
   },
   {
    "duration": 16,
    "start_time": "2023-02-20T18:50:31.162Z"
   },
   {
    "duration": 1257,
    "start_time": "2023-02-20T19:41:14.209Z"
   },
   {
    "duration": 95,
    "start_time": "2023-02-20T19:41:15.469Z"
   },
   {
    "duration": 20,
    "start_time": "2023-02-20T19:41:15.566Z"
   },
   {
    "duration": 5,
    "start_time": "2023-02-20T19:41:15.589Z"
   },
   {
    "duration": 48,
    "start_time": "2023-02-20T19:41:15.596Z"
   },
   {
    "duration": 80,
    "start_time": "2023-02-20T19:41:15.647Z"
   },
   {
    "duration": 2136,
    "start_time": "2023-02-20T19:41:15.729Z"
   },
   {
    "duration": 11,
    "start_time": "2023-02-20T19:41:17.868Z"
   },
   {
    "duration": 1151,
    "start_time": "2023-02-20T19:41:17.880Z"
   },
   {
    "duration": 12,
    "start_time": "2023-02-20T19:41:19.035Z"
   },
   {
    "duration": 15,
    "start_time": "2023-02-20T19:41:19.049Z"
   },
   {
    "duration": 29,
    "start_time": "2023-02-20T19:41:19.066Z"
   },
   {
    "duration": 5,
    "start_time": "2023-02-20T19:41:19.097Z"
   },
   {
    "duration": 8,
    "start_time": "2023-02-20T19:41:19.104Z"
   },
   {
    "duration": 7,
    "start_time": "2023-02-20T19:41:19.114Z"
   },
   {
    "duration": 6,
    "start_time": "2023-02-20T19:41:19.145Z"
   },
   {
    "duration": 12,
    "start_time": "2023-02-20T19:41:19.153Z"
   },
   {
    "duration": 9,
    "start_time": "2023-02-20T19:41:19.167Z"
   },
   {
    "duration": 8,
    "start_time": "2023-02-20T19:41:19.178Z"
   },
   {
    "duration": 8,
    "start_time": "2023-02-20T19:41:19.187Z"
   },
   {
    "duration": 8,
    "start_time": "2023-02-20T19:41:19.196Z"
   },
   {
    "duration": 3298,
    "start_time": "2023-02-20T19:41:19.206Z"
   },
   {
    "duration": 4,
    "start_time": "2023-02-20T19:41:22.505Z"
   },
   {
    "duration": 10,
    "start_time": "2023-02-20T19:41:22.510Z"
   },
   {
    "duration": 11,
    "start_time": "2023-02-20T19:41:22.522Z"
   },
   {
    "duration": 37,
    "start_time": "2023-02-20T19:41:22.534Z"
   },
   {
    "duration": 5,
    "start_time": "2023-02-20T19:41:22.573Z"
   },
   {
    "duration": 7,
    "start_time": "2023-02-20T19:41:22.582Z"
   },
   {
    "duration": 8,
    "start_time": "2023-02-20T19:41:22.591Z"
   },
   {
    "duration": 87,
    "start_time": "2023-02-20T19:41:22.600Z"
   },
   {
    "duration": 21,
    "start_time": "2023-02-20T19:41:22.688Z"
   },
   {
    "duration": 5,
    "start_time": "2023-02-20T19:41:22.712Z"
   },
   {
    "duration": 28,
    "start_time": "2023-02-20T19:41:22.718Z"
   },
   {
    "duration": 31,
    "start_time": "2023-02-20T19:41:22.748Z"
   },
   {
    "duration": 5,
    "start_time": "2023-02-20T19:41:22.780Z"
   },
   {
    "duration": 5,
    "start_time": "2023-02-20T19:41:22.787Z"
   },
   {
    "duration": 6,
    "start_time": "2023-02-20T19:41:22.794Z"
   },
   {
    "duration": 6,
    "start_time": "2023-02-20T19:41:22.802Z"
   },
   {
    "duration": 93,
    "start_time": "2023-02-20T19:41:22.809Z"
   },
   {
    "duration": 4,
    "start_time": "2023-02-20T19:41:22.904Z"
   },
   {
    "duration": 7,
    "start_time": "2023-02-20T19:41:22.910Z"
   },
   {
    "duration": 9,
    "start_time": "2023-02-20T19:41:22.918Z"
   },
   {
    "duration": 12,
    "start_time": "2023-02-20T19:41:22.928Z"
   },
   {
    "duration": 7,
    "start_time": "2023-02-20T19:41:22.942Z"
   },
   {
    "duration": 8,
    "start_time": "2023-02-20T19:41:22.951Z"
   },
   {
    "duration": 7,
    "start_time": "2023-02-20T19:41:22.961Z"
   },
   {
    "duration": 50,
    "start_time": "2023-02-20T19:41:22.969Z"
   },
   {
    "duration": 5,
    "start_time": "2023-02-20T19:41:23.021Z"
   },
   {
    "duration": 21,
    "start_time": "2023-02-20T19:41:23.028Z"
   },
   {
    "duration": 12,
    "start_time": "2023-02-20T19:41:23.052Z"
   },
   {
    "duration": 10,
    "start_time": "2023-02-20T19:41:23.066Z"
   },
   {
    "duration": 10,
    "start_time": "2023-02-20T19:41:23.078Z"
   },
   {
    "duration": 4,
    "start_time": "2023-02-20T19:41:23.090Z"
   },
   {
    "duration": 11,
    "start_time": "2023-02-20T19:41:23.097Z"
   },
   {
    "duration": 43,
    "start_time": "2023-02-20T19:41:23.110Z"
   },
   {
    "duration": 22,
    "start_time": "2023-02-20T19:41:23.155Z"
   },
   {
    "duration": 27,
    "start_time": "2023-02-20T19:41:23.179Z"
   },
   {
    "duration": 36,
    "start_time": "2023-02-20T19:41:23.208Z"
   },
   {
    "duration": 10,
    "start_time": "2023-02-20T19:41:23.245Z"
   },
   {
    "duration": 15,
    "start_time": "2023-02-20T19:41:23.256Z"
   },
   {
    "duration": 23,
    "start_time": "2023-02-20T19:41:23.273Z"
   },
   {
    "duration": 3,
    "start_time": "2023-02-20T19:41:23.297Z"
   },
   {
    "duration": 8,
    "start_time": "2023-02-20T19:41:23.302Z"
   },
   {
    "duration": 7,
    "start_time": "2023-02-20T19:41:23.312Z"
   },
   {
    "duration": 7,
    "start_time": "2023-02-20T19:41:23.321Z"
   },
   {
    "duration": 16,
    "start_time": "2023-02-20T19:41:23.330Z"
   },
   {
    "duration": 74,
    "start_time": "2023-02-20T19:41:23.348Z"
   },
   {
    "duration": 25,
    "start_time": "2023-02-20T19:41:23.424Z"
   },
   {
    "duration": 11,
    "start_time": "2023-02-20T19:41:23.451Z"
   },
   {
    "duration": 6,
    "start_time": "2023-02-20T19:41:23.464Z"
   },
   {
    "duration": 91,
    "start_time": "2023-02-20T19:41:23.471Z"
   },
   {
    "duration": 9,
    "start_time": "2023-02-20T19:41:23.564Z"
   },
   {
    "duration": 11,
    "start_time": "2023-02-20T19:41:23.574Z"
   },
   {
    "duration": 58,
    "start_time": "2023-02-20T19:41:23.587Z"
   },
   {
    "duration": 8,
    "start_time": "2023-02-20T19:41:23.647Z"
   },
   {
    "duration": 57,
    "start_time": "2023-02-20T19:41:23.657Z"
   },
   {
    "duration": 4,
    "start_time": "2023-02-20T19:41:23.716Z"
   },
   {
    "duration": 74,
    "start_time": "2023-02-20T19:41:23.722Z"
   },
   {
    "duration": 61,
    "start_time": "2023-02-20T19:41:23.798Z"
   },
   {
    "duration": 13,
    "start_time": "2023-02-20T19:41:23.861Z"
   },
   {
    "duration": 10,
    "start_time": "2023-02-20T19:41:23.875Z"
   },
   {
    "duration": 33,
    "start_time": "2023-02-20T19:41:23.892Z"
   },
   {
    "duration": 17,
    "start_time": "2023-02-20T19:41:23.945Z"
   },
   {
    "duration": 17,
    "start_time": "2023-02-20T19:41:23.963Z"
   },
   {
    "duration": 4,
    "start_time": "2023-02-20T19:41:23.982Z"
   },
   {
    "duration": 872,
    "start_time": "2023-02-20T19:47:51.452Z"
   },
   {
    "duration": 5,
    "start_time": "2023-02-20T19:48:08.924Z"
   },
   {
    "duration": 6,
    "start_time": "2023-02-20T19:48:29.381Z"
   },
   {
    "duration": 5,
    "start_time": "2023-02-20T20:11:55.393Z"
   },
   {
    "duration": 5,
    "start_time": "2023-02-20T20:22:19.806Z"
   },
   {
    "duration": 37,
    "start_time": "2023-02-20T20:22:24.960Z"
   },
   {
    "duration": 560,
    "start_time": "2023-02-20T20:27:06.354Z"
   },
   {
    "duration": 16,
    "start_time": "2023-02-20T20:27:54.024Z"
   },
   {
    "duration": 13,
    "start_time": "2023-02-20T20:29:41.535Z"
   },
   {
    "duration": 20,
    "start_time": "2023-02-20T20:30:33.092Z"
   },
   {
    "duration": 14,
    "start_time": "2023-02-20T20:30:57.330Z"
   },
   {
    "duration": 1127,
    "start_time": "2023-02-20T20:31:53.881Z"
   },
   {
    "duration": 95,
    "start_time": "2023-02-20T20:31:55.010Z"
   },
   {
    "duration": 18,
    "start_time": "2023-02-20T20:31:55.107Z"
   },
   {
    "duration": 4,
    "start_time": "2023-02-20T20:31:55.127Z"
   },
   {
    "duration": 38,
    "start_time": "2023-02-20T20:31:55.145Z"
   },
   {
    "duration": 92,
    "start_time": "2023-02-20T20:31:55.186Z"
   },
   {
    "duration": 2237,
    "start_time": "2023-02-20T20:31:55.279Z"
   },
   {
    "duration": 27,
    "start_time": "2023-02-20T20:31:57.518Z"
   },
   {
    "duration": 1145,
    "start_time": "2023-02-20T20:31:57.548Z"
   },
   {
    "duration": 5,
    "start_time": "2023-02-20T20:31:58.697Z"
   },
   {
    "duration": 11,
    "start_time": "2023-02-20T20:31:58.703Z"
   },
   {
    "duration": 46,
    "start_time": "2023-02-20T20:31:58.716Z"
   },
   {
    "duration": 7,
    "start_time": "2023-02-20T20:31:58.764Z"
   },
   {
    "duration": 10,
    "start_time": "2023-02-20T20:31:58.773Z"
   },
   {
    "duration": 6,
    "start_time": "2023-02-20T20:31:58.785Z"
   },
   {
    "duration": 10,
    "start_time": "2023-02-20T20:31:58.792Z"
   },
   {
    "duration": 15,
    "start_time": "2023-02-20T20:31:58.804Z"
   },
   {
    "duration": 27,
    "start_time": "2023-02-20T20:31:58.821Z"
   },
   {
    "duration": 6,
    "start_time": "2023-02-20T20:31:58.850Z"
   },
   {
    "duration": 6,
    "start_time": "2023-02-20T20:31:58.858Z"
   },
   {
    "duration": 9,
    "start_time": "2023-02-20T20:31:58.866Z"
   },
   {
    "duration": 3289,
    "start_time": "2023-02-20T20:31:58.876Z"
   },
   {
    "duration": 2,
    "start_time": "2023-02-20T20:32:02.167Z"
   },
   {
    "duration": 45,
    "start_time": "2023-02-20T20:32:02.171Z"
   },
   {
    "duration": 30,
    "start_time": "2023-02-20T20:32:02.218Z"
   },
   {
    "duration": 32,
    "start_time": "2023-02-20T20:32:02.250Z"
   },
   {
    "duration": 4,
    "start_time": "2023-02-20T20:32:02.284Z"
   },
   {
    "duration": 7,
    "start_time": "2023-02-20T20:32:02.293Z"
   },
   {
    "duration": 14,
    "start_time": "2023-02-20T20:32:02.301Z"
   },
   {
    "duration": 77,
    "start_time": "2023-02-20T20:32:02.317Z"
   },
   {
    "duration": 21,
    "start_time": "2023-02-20T20:32:02.395Z"
   },
   {
    "duration": 25,
    "start_time": "2023-02-20T20:32:02.418Z"
   },
   {
    "duration": 23,
    "start_time": "2023-02-20T20:32:02.445Z"
   },
   {
    "duration": 40,
    "start_time": "2023-02-20T20:32:02.470Z"
   },
   {
    "duration": 5,
    "start_time": "2023-02-20T20:32:02.512Z"
   },
   {
    "duration": 20,
    "start_time": "2023-02-20T20:32:02.519Z"
   },
   {
    "duration": 22,
    "start_time": "2023-02-20T20:32:02.541Z"
   },
   {
    "duration": 32,
    "start_time": "2023-02-20T20:32:02.565Z"
   },
   {
    "duration": 16,
    "start_time": "2023-02-20T20:32:02.599Z"
   },
   {
    "duration": 11,
    "start_time": "2023-02-20T20:32:02.617Z"
   },
   {
    "duration": 9,
    "start_time": "2023-02-20T20:32:02.630Z"
   },
   {
    "duration": 24,
    "start_time": "2023-02-20T20:32:02.641Z"
   },
   {
    "duration": 18,
    "start_time": "2023-02-20T20:32:02.667Z"
   },
   {
    "duration": 10,
    "start_time": "2023-02-20T20:32:02.687Z"
   },
   {
    "duration": 7,
    "start_time": "2023-02-20T20:32:02.699Z"
   },
   {
    "duration": 6,
    "start_time": "2023-02-20T20:32:02.708Z"
   },
   {
    "duration": 40,
    "start_time": "2023-02-20T20:32:02.716Z"
   },
   {
    "duration": 6,
    "start_time": "2023-02-20T20:32:02.757Z"
   },
   {
    "duration": 20,
    "start_time": "2023-02-20T20:32:02.764Z"
   },
   {
    "duration": 9,
    "start_time": "2023-02-20T20:32:02.786Z"
   },
   {
    "duration": 17,
    "start_time": "2023-02-20T20:32:02.797Z"
   },
   {
    "duration": 18,
    "start_time": "2023-02-20T20:32:02.815Z"
   },
   {
    "duration": 17,
    "start_time": "2023-02-20T20:32:02.834Z"
   },
   {
    "duration": 4,
    "start_time": "2023-02-20T20:32:02.853Z"
   },
   {
    "duration": 14,
    "start_time": "2023-02-20T20:32:02.859Z"
   },
   {
    "duration": 27,
    "start_time": "2023-02-20T20:32:02.875Z"
   },
   {
    "duration": 6,
    "start_time": "2023-02-20T20:32:02.904Z"
   },
   {
    "duration": 38,
    "start_time": "2023-02-20T20:32:02.911Z"
   },
   {
    "duration": 40,
    "start_time": "2023-02-20T20:32:02.951Z"
   },
   {
    "duration": 12,
    "start_time": "2023-02-20T20:32:02.993Z"
   },
   {
    "duration": 10,
    "start_time": "2023-02-20T20:32:03.007Z"
   },
   {
    "duration": 12,
    "start_time": "2023-02-20T20:32:03.046Z"
   },
   {
    "duration": 3,
    "start_time": "2023-02-20T20:32:03.060Z"
   },
   {
    "duration": 17,
    "start_time": "2023-02-20T20:32:03.064Z"
   },
   {
    "duration": 10,
    "start_time": "2023-02-20T20:32:03.083Z"
   },
   {
    "duration": 18,
    "start_time": "2023-02-20T20:32:03.096Z"
   },
   {
    "duration": 19,
    "start_time": "2023-02-20T20:32:03.120Z"
   },
   {
    "duration": 86,
    "start_time": "2023-02-20T20:32:03.140Z"
   },
   {
    "duration": 7,
    "start_time": "2023-02-20T20:32:03.228Z"
   },
   {
    "duration": 14,
    "start_time": "2023-02-20T20:32:03.245Z"
   },
   {
    "duration": 7,
    "start_time": "2023-02-20T20:32:03.261Z"
   },
   {
    "duration": 87,
    "start_time": "2023-02-20T20:32:03.270Z"
   },
   {
    "duration": 8,
    "start_time": "2023-02-20T20:32:03.359Z"
   },
   {
    "duration": 10,
    "start_time": "2023-02-20T20:32:03.370Z"
   },
   {
    "duration": 38,
    "start_time": "2023-02-20T20:32:03.382Z"
   },
   {
    "duration": 28,
    "start_time": "2023-02-20T20:32:03.422Z"
   },
   {
    "duration": 46,
    "start_time": "2023-02-20T20:32:03.453Z"
   },
   {
    "duration": 7,
    "start_time": "2023-02-20T20:32:03.501Z"
   },
   {
    "duration": 58,
    "start_time": "2023-02-20T20:32:03.509Z"
   },
   {
    "duration": 28,
    "start_time": "2023-02-20T20:32:03.569Z"
   },
   {
    "duration": 14,
    "start_time": "2023-02-20T20:32:03.599Z"
   },
   {
    "duration": 5,
    "start_time": "2023-02-20T20:32:03.619Z"
   },
   {
    "duration": 52,
    "start_time": "2023-02-20T20:32:03.627Z"
   },
   {
    "duration": 23,
    "start_time": "2023-02-20T20:32:03.681Z"
   },
   {
    "duration": 44,
    "start_time": "2023-02-20T20:32:03.706Z"
   },
   {
    "duration": 4,
    "start_time": "2023-02-20T20:32:03.753Z"
   },
   {
    "duration": 12,
    "start_time": "2023-02-20T20:32:03.759Z"
   },
   {
    "duration": 6,
    "start_time": "2023-02-20T20:32:03.773Z"
   },
   {
    "duration": 723,
    "start_time": "2023-02-20T20:32:03.780Z"
   },
   {
    "duration": 0,
    "start_time": "2023-02-20T20:32:04.505Z"
   },
   {
    "duration": 0,
    "start_time": "2023-02-20T20:32:04.507Z"
   },
   {
    "duration": 0,
    "start_time": "2023-02-20T20:32:04.508Z"
   },
   {
    "duration": 0,
    "start_time": "2023-02-20T20:32:04.510Z"
   },
   {
    "duration": 0,
    "start_time": "2023-02-20T20:32:04.512Z"
   },
   {
    "duration": 19,
    "start_time": "2023-02-20T20:32:39.537Z"
   },
   {
    "duration": 20,
    "start_time": "2023-02-20T20:33:30.479Z"
   },
   {
    "duration": 13,
    "start_time": "2023-02-20T20:34:16.730Z"
   },
   {
    "duration": 14,
    "start_time": "2023-02-20T20:34:57.291Z"
   },
   {
    "duration": 13,
    "start_time": "2023-02-20T20:35:59.035Z"
   },
   {
    "duration": 634,
    "start_time": "2023-02-20T20:38:26.989Z"
   },
   {
    "duration": 3,
    "start_time": "2023-02-20T20:39:09.647Z"
   },
   {
    "duration": 583,
    "start_time": "2023-02-20T20:39:24.227Z"
   },
   {
    "duration": 12,
    "start_time": "2023-02-20T20:39:39.216Z"
   },
   {
    "duration": 62,
    "start_time": "2023-02-20T20:40:09.134Z"
   },
   {
    "duration": 6,
    "start_time": "2023-02-20T20:40:14.859Z"
   },
   {
    "duration": 11,
    "start_time": "2023-02-20T20:40:26.948Z"
   },
   {
    "duration": 17,
    "start_time": "2023-02-20T20:40:32.325Z"
   },
   {
    "duration": 21,
    "start_time": "2023-02-20T20:40:59.038Z"
   },
   {
    "duration": 5,
    "start_time": "2023-02-20T20:41:49.998Z"
   },
   {
    "duration": 15,
    "start_time": "2023-02-20T20:41:57.966Z"
   },
   {
    "duration": 14,
    "start_time": "2023-02-20T20:44:19.221Z"
   },
   {
    "duration": 1278,
    "start_time": "2023-02-20T20:44:25.230Z"
   },
   {
    "duration": 101,
    "start_time": "2023-02-20T20:44:26.510Z"
   },
   {
    "duration": 17,
    "start_time": "2023-02-20T20:44:26.613Z"
   },
   {
    "duration": 130,
    "start_time": "2023-02-20T20:44:26.633Z"
   },
   {
    "duration": 0,
    "start_time": "2023-02-20T20:44:26.768Z"
   },
   {
    "duration": 0,
    "start_time": "2023-02-20T20:44:26.769Z"
   },
   {
    "duration": 0,
    "start_time": "2023-02-20T20:44:26.771Z"
   },
   {
    "duration": 0,
    "start_time": "2023-02-20T20:44:26.772Z"
   },
   {
    "duration": 0,
    "start_time": "2023-02-20T20:44:26.774Z"
   },
   {
    "duration": 0,
    "start_time": "2023-02-20T20:44:26.775Z"
   },
   {
    "duration": 0,
    "start_time": "2023-02-20T20:44:26.776Z"
   },
   {
    "duration": 0,
    "start_time": "2023-02-20T20:44:26.778Z"
   },
   {
    "duration": 0,
    "start_time": "2023-02-20T20:44:26.779Z"
   },
   {
    "duration": 0,
    "start_time": "2023-02-20T20:44:26.780Z"
   },
   {
    "duration": 0,
    "start_time": "2023-02-20T20:44:26.782Z"
   },
   {
    "duration": 0,
    "start_time": "2023-02-20T20:44:26.783Z"
   },
   {
    "duration": 0,
    "start_time": "2023-02-20T20:44:26.785Z"
   },
   {
    "duration": 1,
    "start_time": "2023-02-20T20:44:26.786Z"
   },
   {
    "duration": 0,
    "start_time": "2023-02-20T20:44:26.788Z"
   },
   {
    "duration": 0,
    "start_time": "2023-02-20T20:44:26.788Z"
   },
   {
    "duration": 0,
    "start_time": "2023-02-20T20:44:26.789Z"
   },
   {
    "duration": 0,
    "start_time": "2023-02-20T20:44:26.792Z"
   },
   {
    "duration": 0,
    "start_time": "2023-02-20T20:44:26.793Z"
   },
   {
    "duration": 0,
    "start_time": "2023-02-20T20:44:26.794Z"
   },
   {
    "duration": 0,
    "start_time": "2023-02-20T20:44:26.795Z"
   },
   {
    "duration": 0,
    "start_time": "2023-02-20T20:44:26.797Z"
   },
   {
    "duration": 0,
    "start_time": "2023-02-20T20:44:26.846Z"
   },
   {
    "duration": 0,
    "start_time": "2023-02-20T20:44:26.849Z"
   },
   {
    "duration": 0,
    "start_time": "2023-02-20T20:44:26.850Z"
   },
   {
    "duration": 0,
    "start_time": "2023-02-20T20:44:26.852Z"
   },
   {
    "duration": 0,
    "start_time": "2023-02-20T20:44:26.853Z"
   },
   {
    "duration": 0,
    "start_time": "2023-02-20T20:44:26.854Z"
   },
   {
    "duration": 0,
    "start_time": "2023-02-20T20:44:26.856Z"
   },
   {
    "duration": 0,
    "start_time": "2023-02-20T20:44:26.857Z"
   },
   {
    "duration": 0,
    "start_time": "2023-02-20T20:44:26.858Z"
   },
   {
    "duration": 0,
    "start_time": "2023-02-20T20:44:26.860Z"
   },
   {
    "duration": 0,
    "start_time": "2023-02-20T20:44:26.861Z"
   },
   {
    "duration": 0,
    "start_time": "2023-02-20T20:44:26.862Z"
   },
   {
    "duration": 0,
    "start_time": "2023-02-20T20:44:26.864Z"
   },
   {
    "duration": 0,
    "start_time": "2023-02-20T20:44:26.865Z"
   },
   {
    "duration": 0,
    "start_time": "2023-02-20T20:44:26.866Z"
   },
   {
    "duration": 0,
    "start_time": "2023-02-20T20:44:26.867Z"
   },
   {
    "duration": 0,
    "start_time": "2023-02-20T20:44:26.869Z"
   },
   {
    "duration": 0,
    "start_time": "2023-02-20T20:44:26.870Z"
   },
   {
    "duration": 0,
    "start_time": "2023-02-20T20:44:26.871Z"
   },
   {
    "duration": 0,
    "start_time": "2023-02-20T20:44:26.872Z"
   },
   {
    "duration": 0,
    "start_time": "2023-02-20T20:44:26.874Z"
   },
   {
    "duration": 0,
    "start_time": "2023-02-20T20:44:26.875Z"
   },
   {
    "duration": 0,
    "start_time": "2023-02-20T20:44:26.876Z"
   },
   {
    "duration": 0,
    "start_time": "2023-02-20T20:44:26.877Z"
   },
   {
    "duration": 0,
    "start_time": "2023-02-20T20:44:26.878Z"
   },
   {
    "duration": 0,
    "start_time": "2023-02-20T20:44:26.880Z"
   },
   {
    "duration": 0,
    "start_time": "2023-02-20T20:44:26.881Z"
   },
   {
    "duration": 0,
    "start_time": "2023-02-20T20:44:26.882Z"
   },
   {
    "duration": 0,
    "start_time": "2023-02-20T20:44:26.947Z"
   },
   {
    "duration": 0,
    "start_time": "2023-02-20T20:44:26.948Z"
   },
   {
    "duration": 0,
    "start_time": "2023-02-20T20:44:26.950Z"
   },
   {
    "duration": 0,
    "start_time": "2023-02-20T20:44:26.951Z"
   },
   {
    "duration": 0,
    "start_time": "2023-02-20T20:44:26.953Z"
   },
   {
    "duration": 0,
    "start_time": "2023-02-20T20:44:26.954Z"
   },
   {
    "duration": 0,
    "start_time": "2023-02-20T20:44:26.955Z"
   },
   {
    "duration": 0,
    "start_time": "2023-02-20T20:44:26.957Z"
   },
   {
    "duration": 0,
    "start_time": "2023-02-20T20:44:26.958Z"
   },
   {
    "duration": 0,
    "start_time": "2023-02-20T20:44:26.960Z"
   },
   {
    "duration": 0,
    "start_time": "2023-02-20T20:44:26.961Z"
   },
   {
    "duration": 0,
    "start_time": "2023-02-20T20:44:26.963Z"
   },
   {
    "duration": 0,
    "start_time": "2023-02-20T20:44:26.964Z"
   },
   {
    "duration": 0,
    "start_time": "2023-02-20T20:44:26.965Z"
   },
   {
    "duration": 0,
    "start_time": "2023-02-20T20:44:26.966Z"
   },
   {
    "duration": 0,
    "start_time": "2023-02-20T20:44:26.967Z"
   },
   {
    "duration": 0,
    "start_time": "2023-02-20T20:44:26.968Z"
   },
   {
    "duration": 0,
    "start_time": "2023-02-20T20:44:26.969Z"
   },
   {
    "duration": 0,
    "start_time": "2023-02-20T20:44:26.972Z"
   },
   {
    "duration": 0,
    "start_time": "2023-02-20T20:44:26.973Z"
   },
   {
    "duration": 1,
    "start_time": "2023-02-20T20:44:26.974Z"
   },
   {
    "duration": 0,
    "start_time": "2023-02-20T20:44:26.976Z"
   },
   {
    "duration": 0,
    "start_time": "2023-02-20T20:44:26.977Z"
   },
   {
    "duration": 0,
    "start_time": "2023-02-20T20:44:26.979Z"
   },
   {
    "duration": 0,
    "start_time": "2023-02-20T20:44:26.981Z"
   },
   {
    "duration": 0,
    "start_time": "2023-02-20T20:44:26.981Z"
   },
   {
    "duration": 0,
    "start_time": "2023-02-20T20:44:26.982Z"
   },
   {
    "duration": 0,
    "start_time": "2023-02-20T20:44:26.983Z"
   },
   {
    "duration": 0,
    "start_time": "2023-02-20T20:44:26.984Z"
   },
   {
    "duration": 0,
    "start_time": "2023-02-20T20:44:26.984Z"
   },
   {
    "duration": 0,
    "start_time": "2023-02-20T20:44:26.985Z"
   },
   {
    "duration": 0,
    "start_time": "2023-02-20T20:44:26.986Z"
   },
   {
    "duration": 58,
    "start_time": "2023-02-20T20:44:26.986Z"
   },
   {
    "duration": 0,
    "start_time": "2023-02-20T20:44:27.049Z"
   },
   {
    "duration": 0,
    "start_time": "2023-02-20T20:44:27.051Z"
   },
   {
    "duration": 0,
    "start_time": "2023-02-20T20:44:27.052Z"
   },
   {
    "duration": 0,
    "start_time": "2023-02-20T20:44:27.053Z"
   },
   {
    "duration": 0,
    "start_time": "2023-02-20T20:44:27.055Z"
   },
   {
    "duration": 0,
    "start_time": "2023-02-20T20:44:27.056Z"
   },
   {
    "duration": 0,
    "start_time": "2023-02-20T20:44:27.057Z"
   },
   {
    "duration": 0,
    "start_time": "2023-02-20T20:44:27.059Z"
   },
   {
    "duration": 0,
    "start_time": "2023-02-20T20:44:27.060Z"
   },
   {
    "duration": 0,
    "start_time": "2023-02-20T20:44:27.061Z"
   },
   {
    "duration": 0,
    "start_time": "2023-02-20T20:44:27.062Z"
   },
   {
    "duration": 0,
    "start_time": "2023-02-20T20:44:27.063Z"
   },
   {
    "duration": 0,
    "start_time": "2023-02-20T20:44:27.065Z"
   },
   {
    "duration": 12,
    "start_time": "2023-02-20T20:45:31.644Z"
   },
   {
    "duration": 15,
    "start_time": "2023-02-20T20:45:42.099Z"
   },
   {
    "duration": 21,
    "start_time": "2023-02-20T20:45:53.069Z"
   },
   {
    "duration": 1341,
    "start_time": "2023-02-21T12:36:00.127Z"
   },
   {
    "duration": 328,
    "start_time": "2023-02-21T12:36:01.470Z"
   },
   {
    "duration": 17,
    "start_time": "2023-02-21T12:36:01.800Z"
   },
   {
    "duration": 6,
    "start_time": "2023-02-21T12:36:01.820Z"
   },
   {
    "duration": 49,
    "start_time": "2023-02-21T12:36:01.828Z"
   },
   {
    "duration": 94,
    "start_time": "2023-02-21T12:36:01.878Z"
   },
   {
    "duration": 1896,
    "start_time": "2023-02-21T12:36:01.975Z"
   },
   {
    "duration": 11,
    "start_time": "2023-02-21T12:36:03.873Z"
   },
   {
    "duration": 1044,
    "start_time": "2023-02-21T12:36:03.885Z"
   },
   {
    "duration": 4,
    "start_time": "2023-02-21T12:36:04.932Z"
   },
   {
    "duration": 14,
    "start_time": "2023-02-21T12:36:04.938Z"
   },
   {
    "duration": 21,
    "start_time": "2023-02-21T12:36:04.953Z"
   },
   {
    "duration": 5,
    "start_time": "2023-02-21T12:36:04.976Z"
   },
   {
    "duration": 5,
    "start_time": "2023-02-21T12:36:04.982Z"
   },
   {
    "duration": 5,
    "start_time": "2023-02-21T12:36:04.988Z"
   },
   {
    "duration": 5,
    "start_time": "2023-02-21T12:36:04.994Z"
   },
   {
    "duration": 4,
    "start_time": "2023-02-21T12:36:05.000Z"
   },
   {
    "duration": 7,
    "start_time": "2023-02-21T12:36:05.006Z"
   },
   {
    "duration": 35,
    "start_time": "2023-02-21T12:36:05.014Z"
   },
   {
    "duration": 5,
    "start_time": "2023-02-21T12:36:05.051Z"
   },
   {
    "duration": 14,
    "start_time": "2023-02-21T12:36:05.057Z"
   },
   {
    "duration": 2842,
    "start_time": "2023-02-21T12:36:05.073Z"
   },
   {
    "duration": 3,
    "start_time": "2023-02-21T12:36:07.916Z"
   },
   {
    "duration": 11,
    "start_time": "2023-02-21T12:36:07.920Z"
   },
   {
    "duration": 5,
    "start_time": "2023-02-21T12:36:07.933Z"
   },
   {
    "duration": 29,
    "start_time": "2023-02-21T12:36:07.948Z"
   },
   {
    "duration": 4,
    "start_time": "2023-02-21T12:36:07.979Z"
   },
   {
    "duration": 5,
    "start_time": "2023-02-21T12:36:07.988Z"
   },
   {
    "duration": 6,
    "start_time": "2023-02-21T12:36:07.994Z"
   },
   {
    "duration": 63,
    "start_time": "2023-02-21T12:36:08.002Z"
   },
   {
    "duration": 17,
    "start_time": "2023-02-21T12:36:08.067Z"
   },
   {
    "duration": 8,
    "start_time": "2023-02-21T12:36:08.085Z"
   },
   {
    "duration": 6,
    "start_time": "2023-02-21T12:36:08.095Z"
   },
   {
    "duration": 28,
    "start_time": "2023-02-21T12:36:08.103Z"
   },
   {
    "duration": 17,
    "start_time": "2023-02-21T12:36:08.133Z"
   },
   {
    "duration": 7,
    "start_time": "2023-02-21T12:36:08.151Z"
   },
   {
    "duration": 6,
    "start_time": "2023-02-21T12:36:08.159Z"
   },
   {
    "duration": 7,
    "start_time": "2023-02-21T12:36:08.166Z"
   },
   {
    "duration": 7,
    "start_time": "2023-02-21T12:36:08.174Z"
   },
   {
    "duration": 4,
    "start_time": "2023-02-21T12:36:08.182Z"
   },
   {
    "duration": 15,
    "start_time": "2023-02-21T12:36:08.187Z"
   },
   {
    "duration": 6,
    "start_time": "2023-02-21T12:36:08.204Z"
   },
   {
    "duration": 9,
    "start_time": "2023-02-21T12:36:08.211Z"
   },
   {
    "duration": 8,
    "start_time": "2023-02-21T12:36:08.221Z"
   },
   {
    "duration": 21,
    "start_time": "2023-02-21T12:36:08.230Z"
   },
   {
    "duration": 7,
    "start_time": "2023-02-21T12:36:08.253Z"
   },
   {
    "duration": 35,
    "start_time": "2023-02-21T12:36:08.261Z"
   },
   {
    "duration": 3,
    "start_time": "2023-02-21T12:36:08.298Z"
   },
   {
    "duration": 7,
    "start_time": "2023-02-21T12:36:08.303Z"
   },
   {
    "duration": 9,
    "start_time": "2023-02-21T12:36:08.312Z"
   },
   {
    "duration": 28,
    "start_time": "2023-02-21T12:36:08.322Z"
   },
   {
    "duration": 8,
    "start_time": "2023-02-21T12:36:08.351Z"
   },
   {
    "duration": 10,
    "start_time": "2023-02-21T12:36:08.360Z"
   },
   {
    "duration": 5,
    "start_time": "2023-02-21T12:36:08.371Z"
   },
   {
    "duration": 14,
    "start_time": "2023-02-21T12:36:08.377Z"
   },
   {
    "duration": 11,
    "start_time": "2023-02-21T12:36:08.393Z"
   },
   {
    "duration": 8,
    "start_time": "2023-02-21T12:36:08.405Z"
   },
   {
    "duration": 38,
    "start_time": "2023-02-21T12:36:08.415Z"
   },
   {
    "duration": 27,
    "start_time": "2023-02-21T12:36:08.455Z"
   },
   {
    "duration": 8,
    "start_time": "2023-02-21T12:36:08.483Z"
   },
   {
    "duration": 9,
    "start_time": "2023-02-21T12:36:08.492Z"
   },
   {
    "duration": 12,
    "start_time": "2023-02-21T12:36:08.502Z"
   },
   {
    "duration": 2,
    "start_time": "2023-02-21T12:36:08.516Z"
   },
   {
    "duration": 30,
    "start_time": "2023-02-21T12:36:08.520Z"
   },
   {
    "duration": 11,
    "start_time": "2023-02-21T12:36:08.551Z"
   },
   {
    "duration": 5,
    "start_time": "2023-02-21T12:36:08.563Z"
   },
   {
    "duration": 6,
    "start_time": "2023-02-21T12:36:08.570Z"
   },
   {
    "duration": 82,
    "start_time": "2023-02-21T12:36:08.577Z"
   },
   {
    "duration": 5,
    "start_time": "2023-02-21T12:36:08.660Z"
   },
   {
    "duration": 11,
    "start_time": "2023-02-21T12:36:08.667Z"
   },
   {
    "duration": 4,
    "start_time": "2023-02-21T12:36:08.680Z"
   },
   {
    "duration": 77,
    "start_time": "2023-02-21T12:36:08.686Z"
   },
   {
    "duration": 7,
    "start_time": "2023-02-21T12:36:08.765Z"
   },
   {
    "duration": 8,
    "start_time": "2023-02-21T12:36:08.773Z"
   },
   {
    "duration": 29,
    "start_time": "2023-02-21T12:36:08.783Z"
   },
   {
    "duration": 7,
    "start_time": "2023-02-21T12:36:08.813Z"
   },
   {
    "duration": 56,
    "start_time": "2023-02-21T12:36:08.822Z"
   },
   {
    "duration": 4,
    "start_time": "2023-02-21T12:36:08.880Z"
   },
   {
    "duration": 35,
    "start_time": "2023-02-21T12:36:08.886Z"
   },
   {
    "duration": 36,
    "start_time": "2023-02-21T12:36:08.923Z"
   },
   {
    "duration": 7,
    "start_time": "2023-02-21T12:36:08.961Z"
   },
   {
    "duration": 6,
    "start_time": "2023-02-21T12:36:08.973Z"
   },
   {
    "duration": 32,
    "start_time": "2023-02-21T12:36:08.980Z"
   },
   {
    "duration": 34,
    "start_time": "2023-02-21T12:36:09.014Z"
   },
   {
    "duration": 13,
    "start_time": "2023-02-21T12:36:09.049Z"
   },
   {
    "duration": 4,
    "start_time": "2023-02-21T12:36:09.064Z"
   },
   {
    "duration": 8,
    "start_time": "2023-02-21T12:36:09.069Z"
   },
   {
    "duration": 6,
    "start_time": "2023-02-21T12:36:09.079Z"
   },
   {
    "duration": 14,
    "start_time": "2023-02-21T12:36:09.087Z"
   },
   {
    "duration": 4,
    "start_time": "2023-02-21T12:36:09.103Z"
   },
   {
    "duration": 12,
    "start_time": "2023-02-21T12:36:09.108Z"
   },
   {
    "duration": 12,
    "start_time": "2023-02-21T12:36:09.148Z"
   },
   {
    "duration": 105,
    "start_time": "2023-02-21T12:36:09.162Z"
   },
   {
    "duration": 0,
    "start_time": "2023-02-21T12:36:09.268Z"
   },
   {
    "duration": 0,
    "start_time": "2023-02-21T12:36:09.269Z"
   },
   {
    "duration": 0,
    "start_time": "2023-02-21T12:36:09.269Z"
   },
   {
    "duration": 0,
    "start_time": "2023-02-21T12:36:09.270Z"
   },
   {
    "duration": 0,
    "start_time": "2023-02-21T12:36:09.271Z"
   },
   {
    "duration": 0,
    "start_time": "2023-02-21T12:36:09.272Z"
   },
   {
    "duration": 12,
    "start_time": "2023-02-21T12:39:54.751Z"
   },
   {
    "duration": 3,
    "start_time": "2023-02-21T12:42:25.943Z"
   },
   {
    "duration": 2,
    "start_time": "2023-02-21T12:42:28.107Z"
   },
   {
    "duration": 3,
    "start_time": "2023-02-21T12:42:30.475Z"
   },
   {
    "duration": 2,
    "start_time": "2023-02-21T12:43:00.928Z"
   },
   {
    "duration": 634,
    "start_time": "2023-02-21T12:47:36.189Z"
   },
   {
    "duration": 14,
    "start_time": "2023-02-21T12:56:44.250Z"
   },
   {
    "duration": 1240,
    "start_time": "2023-02-22T18:10:06.903Z"
   },
   {
    "duration": 309,
    "start_time": "2023-02-22T18:10:08.145Z"
   },
   {
    "duration": 15,
    "start_time": "2023-02-22T18:10:08.455Z"
   },
   {
    "duration": 2,
    "start_time": "2023-02-22T18:10:08.471Z"
   },
   {
    "duration": 25,
    "start_time": "2023-02-22T18:10:08.475Z"
   },
   {
    "duration": 75,
    "start_time": "2023-02-22T18:10:08.501Z"
   },
   {
    "duration": 1758,
    "start_time": "2023-02-22T18:10:08.577Z"
   },
   {
    "duration": 8,
    "start_time": "2023-02-22T18:10:10.337Z"
   },
   {
    "duration": 1064,
    "start_time": "2023-02-22T18:10:10.347Z"
   },
   {
    "duration": 5,
    "start_time": "2023-02-22T18:10:11.412Z"
   },
   {
    "duration": 17,
    "start_time": "2023-02-22T18:10:11.418Z"
   },
   {
    "duration": 40,
    "start_time": "2023-02-22T18:10:11.437Z"
   },
   {
    "duration": 5,
    "start_time": "2023-02-22T18:10:11.479Z"
   },
   {
    "duration": 11,
    "start_time": "2023-02-22T18:10:11.487Z"
   },
   {
    "duration": 25,
    "start_time": "2023-02-22T18:10:11.500Z"
   },
   {
    "duration": 44,
    "start_time": "2023-02-22T18:10:11.526Z"
   },
   {
    "duration": 22,
    "start_time": "2023-02-22T18:10:11.571Z"
   },
   {
    "duration": 12,
    "start_time": "2023-02-22T18:10:11.594Z"
   },
   {
    "duration": 11,
    "start_time": "2023-02-22T18:10:11.608Z"
   },
   {
    "duration": 34,
    "start_time": "2023-02-22T18:10:11.621Z"
   },
   {
    "duration": 22,
    "start_time": "2023-02-22T18:10:11.657Z"
   },
   {
    "duration": 2807,
    "start_time": "2023-02-22T18:10:11.681Z"
   },
   {
    "duration": 3,
    "start_time": "2023-02-22T18:10:14.489Z"
   },
   {
    "duration": 22,
    "start_time": "2023-02-22T18:10:14.494Z"
   },
   {
    "duration": 15,
    "start_time": "2023-02-22T18:10:14.518Z"
   },
   {
    "duration": 36,
    "start_time": "2023-02-22T18:10:14.534Z"
   },
   {
    "duration": 4,
    "start_time": "2023-02-22T18:10:14.571Z"
   },
   {
    "duration": 12,
    "start_time": "2023-02-22T18:10:14.577Z"
   },
   {
    "duration": 14,
    "start_time": "2023-02-22T18:10:14.590Z"
   },
   {
    "duration": 65,
    "start_time": "2023-02-22T18:10:14.605Z"
   },
   {
    "duration": 21,
    "start_time": "2023-02-22T18:10:14.672Z"
   },
   {
    "duration": 7,
    "start_time": "2023-02-22T18:10:14.695Z"
   },
   {
    "duration": 19,
    "start_time": "2023-02-22T18:10:14.703Z"
   },
   {
    "duration": 44,
    "start_time": "2023-02-22T18:10:14.726Z"
   },
   {
    "duration": 4,
    "start_time": "2023-02-22T18:10:14.772Z"
   },
   {
    "duration": 13,
    "start_time": "2023-02-22T18:10:14.778Z"
   },
   {
    "duration": 12,
    "start_time": "2023-02-22T18:10:14.793Z"
   },
   {
    "duration": 18,
    "start_time": "2023-02-22T18:10:14.807Z"
   },
   {
    "duration": 9,
    "start_time": "2023-02-22T18:10:14.826Z"
   },
   {
    "duration": 20,
    "start_time": "2023-02-22T18:10:14.837Z"
   },
   {
    "duration": 31,
    "start_time": "2023-02-22T18:10:14.861Z"
   },
   {
    "duration": 10,
    "start_time": "2023-02-22T18:10:14.894Z"
   },
   {
    "duration": 15,
    "start_time": "2023-02-22T18:10:14.906Z"
   },
   {
    "duration": 19,
    "start_time": "2023-02-22T18:10:14.922Z"
   },
   {
    "duration": 41,
    "start_time": "2023-02-22T18:10:14.943Z"
   },
   {
    "duration": 122,
    "start_time": "2023-02-22T18:10:14.986Z"
   },
   {
    "duration": 0,
    "start_time": "2023-02-22T18:10:15.110Z"
   },
   {
    "duration": 0,
    "start_time": "2023-02-22T18:10:15.111Z"
   },
   {
    "duration": 0,
    "start_time": "2023-02-22T18:10:15.112Z"
   },
   {
    "duration": 0,
    "start_time": "2023-02-22T18:10:15.113Z"
   },
   {
    "duration": 0,
    "start_time": "2023-02-22T18:10:15.114Z"
   },
   {
    "duration": 0,
    "start_time": "2023-02-22T18:10:15.115Z"
   },
   {
    "duration": 0,
    "start_time": "2023-02-22T18:10:15.116Z"
   },
   {
    "duration": 0,
    "start_time": "2023-02-22T18:10:15.117Z"
   },
   {
    "duration": 0,
    "start_time": "2023-02-22T18:10:15.118Z"
   },
   {
    "duration": 0,
    "start_time": "2023-02-22T18:10:15.119Z"
   },
   {
    "duration": 0,
    "start_time": "2023-02-22T18:10:15.120Z"
   },
   {
    "duration": 0,
    "start_time": "2023-02-22T18:10:15.121Z"
   },
   {
    "duration": 0,
    "start_time": "2023-02-22T18:10:15.147Z"
   },
   {
    "duration": 0,
    "start_time": "2023-02-22T18:10:15.148Z"
   },
   {
    "duration": 0,
    "start_time": "2023-02-22T18:10:15.149Z"
   },
   {
    "duration": 0,
    "start_time": "2023-02-22T18:10:15.150Z"
   },
   {
    "duration": 0,
    "start_time": "2023-02-22T18:10:15.151Z"
   },
   {
    "duration": 0,
    "start_time": "2023-02-22T18:10:15.152Z"
   },
   {
    "duration": 0,
    "start_time": "2023-02-22T18:10:15.153Z"
   },
   {
    "duration": 0,
    "start_time": "2023-02-22T18:10:15.154Z"
   },
   {
    "duration": 0,
    "start_time": "2023-02-22T18:10:15.155Z"
   },
   {
    "duration": 0,
    "start_time": "2023-02-22T18:10:15.156Z"
   },
   {
    "duration": 0,
    "start_time": "2023-02-22T18:10:15.157Z"
   },
   {
    "duration": 0,
    "start_time": "2023-02-22T18:10:15.157Z"
   },
   {
    "duration": 0,
    "start_time": "2023-02-22T18:10:15.158Z"
   },
   {
    "duration": 0,
    "start_time": "2023-02-22T18:10:15.160Z"
   },
   {
    "duration": 0,
    "start_time": "2023-02-22T18:10:15.161Z"
   },
   {
    "duration": 0,
    "start_time": "2023-02-22T18:10:15.162Z"
   },
   {
    "duration": 0,
    "start_time": "2023-02-22T18:10:15.163Z"
   },
   {
    "duration": 0,
    "start_time": "2023-02-22T18:10:15.163Z"
   },
   {
    "duration": 0,
    "start_time": "2023-02-22T18:10:15.165Z"
   },
   {
    "duration": 0,
    "start_time": "2023-02-22T18:10:15.165Z"
   },
   {
    "duration": 0,
    "start_time": "2023-02-22T18:10:15.166Z"
   },
   {
    "duration": 0,
    "start_time": "2023-02-22T18:10:15.168Z"
   },
   {
    "duration": 0,
    "start_time": "2023-02-22T18:10:15.168Z"
   },
   {
    "duration": 0,
    "start_time": "2023-02-22T18:10:15.169Z"
   },
   {
    "duration": 0,
    "start_time": "2023-02-22T18:10:15.171Z"
   },
   {
    "duration": 0,
    "start_time": "2023-02-22T18:10:15.171Z"
   },
   {
    "duration": 0,
    "start_time": "2023-02-22T18:10:15.173Z"
   },
   {
    "duration": 0,
    "start_time": "2023-02-22T18:10:15.174Z"
   },
   {
    "duration": 0,
    "start_time": "2023-02-22T18:10:15.175Z"
   },
   {
    "duration": 0,
    "start_time": "2023-02-22T18:10:15.176Z"
   },
   {
    "duration": 0,
    "start_time": "2023-02-22T18:10:15.177Z"
   },
   {
    "duration": 0,
    "start_time": "2023-02-22T18:10:15.177Z"
   },
   {
    "duration": 0,
    "start_time": "2023-02-22T18:10:15.178Z"
   },
   {
    "duration": 0,
    "start_time": "2023-02-22T18:10:15.180Z"
   },
   {
    "duration": 6,
    "start_time": "2023-02-22T18:15:21.523Z"
   },
   {
    "duration": 5,
    "start_time": "2023-02-22T18:15:44.303Z"
   },
   {
    "duration": 13,
    "start_time": "2023-02-22T18:18:34.463Z"
   },
   {
    "duration": 1245,
    "start_time": "2023-02-22T18:18:53.813Z"
   },
   {
    "duration": 710,
    "start_time": "2023-02-22T18:19:28.954Z"
   },
   {
    "duration": 6,
    "start_time": "2023-02-22T18:19:37.363Z"
   },
   {
    "duration": 4,
    "start_time": "2023-02-22T18:19:48.893Z"
   },
   {
    "duration": 5,
    "start_time": "2023-02-22T18:20:40.643Z"
   },
   {
    "duration": 28,
    "start_time": "2023-02-22T18:21:59.423Z"
   },
   {
    "duration": 8,
    "start_time": "2023-02-22T18:23:45.461Z"
   },
   {
    "duration": 6,
    "start_time": "2023-02-22T18:24:20.839Z"
   },
   {
    "duration": 11,
    "start_time": "2023-02-22T18:24:28.360Z"
   },
   {
    "duration": 5,
    "start_time": "2023-02-22T18:24:37.682Z"
   },
   {
    "duration": 5,
    "start_time": "2023-02-22T18:24:52.527Z"
   },
   {
    "duration": 12,
    "start_time": "2023-02-22T18:25:03.491Z"
   },
   {
    "duration": 6,
    "start_time": "2023-02-22T18:25:20.439Z"
   },
   {
    "duration": 66,
    "start_time": "2023-02-22T18:25:28.422Z"
   },
   {
    "duration": 9,
    "start_time": "2023-02-22T18:25:51.123Z"
   },
   {
    "duration": 9,
    "start_time": "2023-02-22T18:26:05.582Z"
   },
   {
    "duration": 7,
    "start_time": "2023-02-22T18:26:06.243Z"
   },
   {
    "duration": 60,
    "start_time": "2023-02-22T18:26:12.262Z"
   },
   {
    "duration": 7,
    "start_time": "2023-02-22T18:26:15.081Z"
   },
   {
    "duration": 9,
    "start_time": "2023-02-22T18:26:15.808Z"
   },
   {
    "duration": 32,
    "start_time": "2023-02-22T18:26:22.262Z"
   },
   {
    "duration": 8,
    "start_time": "2023-02-22T18:26:23.167Z"
   },
   {
    "duration": 39,
    "start_time": "2023-02-22T18:26:26.287Z"
   },
   {
    "duration": 6,
    "start_time": "2023-02-22T18:26:27.363Z"
   },
   {
    "duration": 32,
    "start_time": "2023-02-22T18:26:29.719Z"
   },
   {
    "duration": 25,
    "start_time": "2023-02-22T18:26:37.063Z"
   },
   {
    "duration": 11,
    "start_time": "2023-02-22T18:26:39.648Z"
   },
   {
    "duration": 2,
    "start_time": "2023-02-22T18:26:58.571Z"
   },
   {
    "duration": 33,
    "start_time": "2023-02-22T18:27:03.399Z"
   },
   {
    "duration": 15,
    "start_time": "2023-02-22T18:27:07.319Z"
   },
   {
    "duration": 21,
    "start_time": "2023-02-22T18:28:57.053Z"
   },
   {
    "duration": 1220,
    "start_time": "2023-02-22T18:30:57.352Z"
   },
   {
    "duration": 100,
    "start_time": "2023-02-22T18:30:58.574Z"
   },
   {
    "duration": 13,
    "start_time": "2023-02-22T18:30:58.676Z"
   },
   {
    "duration": 17,
    "start_time": "2023-02-22T18:30:58.691Z"
   },
   {
    "duration": 32,
    "start_time": "2023-02-22T18:30:58.710Z"
   },
   {
    "duration": 68,
    "start_time": "2023-02-22T18:30:58.744Z"
   },
   {
    "duration": 1821,
    "start_time": "2023-02-22T18:30:58.814Z"
   },
   {
    "duration": 9,
    "start_time": "2023-02-22T18:31:00.636Z"
   },
   {
    "duration": 1050,
    "start_time": "2023-02-22T18:31:00.647Z"
   },
   {
    "duration": 5,
    "start_time": "2023-02-22T18:31:01.699Z"
   },
   {
    "duration": 63,
    "start_time": "2023-02-22T18:31:01.706Z"
   },
   {
    "duration": 50,
    "start_time": "2023-02-22T18:31:01.770Z"
   },
   {
    "duration": 39,
    "start_time": "2023-02-22T18:31:01.822Z"
   },
   {
    "duration": 49,
    "start_time": "2023-02-22T18:31:01.864Z"
   },
   {
    "duration": 49,
    "start_time": "2023-02-22T18:31:01.915Z"
   },
   {
    "duration": 82,
    "start_time": "2023-02-22T18:31:01.966Z"
   },
   {
    "duration": 46,
    "start_time": "2023-02-22T18:31:02.051Z"
   },
   {
    "duration": 18,
    "start_time": "2023-02-22T18:31:02.098Z"
   },
   {
    "duration": 37,
    "start_time": "2023-02-22T18:31:02.118Z"
   },
   {
    "duration": 31,
    "start_time": "2023-02-22T18:31:02.157Z"
   },
   {
    "duration": 33,
    "start_time": "2023-02-22T18:31:02.189Z"
   },
   {
    "duration": 2928,
    "start_time": "2023-02-22T18:31:02.223Z"
   },
   {
    "duration": 3,
    "start_time": "2023-02-22T18:31:05.152Z"
   },
   {
    "duration": 14,
    "start_time": "2023-02-22T18:31:05.157Z"
   },
   {
    "duration": 25,
    "start_time": "2023-02-22T18:31:05.172Z"
   },
   {
    "duration": 44,
    "start_time": "2023-02-22T18:31:05.199Z"
   },
   {
    "duration": 8,
    "start_time": "2023-02-22T18:31:05.245Z"
   },
   {
    "duration": 14,
    "start_time": "2023-02-22T18:31:05.255Z"
   },
   {
    "duration": 21,
    "start_time": "2023-02-22T18:31:05.271Z"
   },
   {
    "duration": 76,
    "start_time": "2023-02-22T18:31:05.294Z"
   },
   {
    "duration": 25,
    "start_time": "2023-02-22T18:31:05.372Z"
   },
   {
    "duration": 12,
    "start_time": "2023-02-22T18:31:05.400Z"
   },
   {
    "duration": 16,
    "start_time": "2023-02-22T18:31:05.415Z"
   },
   {
    "duration": 52,
    "start_time": "2023-02-22T18:31:05.432Z"
   },
   {
    "duration": 6,
    "start_time": "2023-02-22T18:31:05.486Z"
   },
   {
    "duration": 19,
    "start_time": "2023-02-22T18:31:05.493Z"
   },
   {
    "duration": 29,
    "start_time": "2023-02-22T18:31:05.514Z"
   },
   {
    "duration": 12,
    "start_time": "2023-02-22T18:31:05.545Z"
   },
   {
    "duration": 26,
    "start_time": "2023-02-22T18:31:05.559Z"
   },
   {
    "duration": 11,
    "start_time": "2023-02-22T18:31:05.587Z"
   },
   {
    "duration": 4,
    "start_time": "2023-02-22T18:31:05.603Z"
   },
   {
    "duration": 10,
    "start_time": "2023-02-22T18:31:05.608Z"
   },
   {
    "duration": 16,
    "start_time": "2023-02-22T18:31:05.619Z"
   },
   {
    "duration": 17,
    "start_time": "2023-02-22T18:31:05.637Z"
   },
   {
    "duration": 8,
    "start_time": "2023-02-22T18:31:05.656Z"
   },
   {
    "duration": 1264,
    "start_time": "2023-02-22T18:31:05.665Z"
   },
   {
    "duration": 6,
    "start_time": "2023-02-22T18:31:06.930Z"
   },
   {
    "duration": 11,
    "start_time": "2023-02-22T18:31:06.938Z"
   },
   {
    "duration": 44,
    "start_time": "2023-02-22T18:31:06.951Z"
   },
   {
    "duration": 9,
    "start_time": "2023-02-22T18:31:06.998Z"
   },
   {
    "duration": 9,
    "start_time": "2023-02-22T18:31:07.009Z"
   },
   {
    "duration": 36,
    "start_time": "2023-02-22T18:31:07.020Z"
   },
   {
    "duration": 5,
    "start_time": "2023-02-22T18:31:07.058Z"
   },
   {
    "duration": 29,
    "start_time": "2023-02-22T18:31:07.064Z"
   },
   {
    "duration": 7,
    "start_time": "2023-02-22T18:31:07.095Z"
   },
   {
    "duration": 80,
    "start_time": "2023-02-22T18:31:07.104Z"
   },
   {
    "duration": 11,
    "start_time": "2023-02-22T18:31:07.186Z"
   },
   {
    "duration": 9,
    "start_time": "2023-02-22T18:31:07.199Z"
   },
   {
    "duration": 77,
    "start_time": "2023-02-22T18:31:07.209Z"
   },
   {
    "duration": 8,
    "start_time": "2023-02-22T18:31:07.288Z"
   },
   {
    "duration": 10,
    "start_time": "2023-02-22T18:31:07.298Z"
   },
   {
    "duration": 65,
    "start_time": "2023-02-22T18:31:07.310Z"
   },
   {
    "duration": 11,
    "start_time": "2023-02-22T18:31:07.377Z"
   },
   {
    "duration": 12,
    "start_time": "2023-02-22T18:31:15.164Z"
   },
   {
    "duration": 16,
    "start_time": "2023-02-22T18:31:16.751Z"
   },
   {
    "duration": 6,
    "start_time": "2023-02-22T18:32:34.311Z"
   },
   {
    "duration": 90,
    "start_time": "2023-02-22T18:33:13.514Z"
   },
   {
    "duration": 9,
    "start_time": "2023-02-22T18:33:42.646Z"
   },
   {
    "duration": 8,
    "start_time": "2023-02-22T18:34:00.595Z"
   },
   {
    "duration": 47,
    "start_time": "2023-02-22T18:36:27.753Z"
   },
   {
    "duration": 1060,
    "start_time": "2023-02-22T18:38:41.577Z"
   },
   {
    "duration": 85,
    "start_time": "2023-02-22T18:38:42.639Z"
   },
   {
    "duration": 15,
    "start_time": "2023-02-22T18:38:42.725Z"
   },
   {
    "duration": 3,
    "start_time": "2023-02-22T18:38:42.742Z"
   },
   {
    "duration": 31,
    "start_time": "2023-02-22T18:38:42.746Z"
   },
   {
    "duration": 77,
    "start_time": "2023-02-22T18:38:42.779Z"
   },
   {
    "duration": 2069,
    "start_time": "2023-02-22T18:38:42.858Z"
   },
   {
    "duration": 10,
    "start_time": "2023-02-22T18:38:44.929Z"
   },
   {
    "duration": 1066,
    "start_time": "2023-02-22T18:38:44.940Z"
   },
   {
    "duration": 5,
    "start_time": "2023-02-22T18:38:46.008Z"
   },
   {
    "duration": 18,
    "start_time": "2023-02-22T18:38:46.015Z"
   },
   {
    "duration": 27,
    "start_time": "2023-02-22T18:38:46.035Z"
   },
   {
    "duration": 7,
    "start_time": "2023-02-22T18:38:46.064Z"
   },
   {
    "duration": 6,
    "start_time": "2023-02-22T18:38:46.074Z"
   },
   {
    "duration": 7,
    "start_time": "2023-02-22T18:38:46.081Z"
   },
   {
    "duration": 7,
    "start_time": "2023-02-22T18:38:46.089Z"
   },
   {
    "duration": 8,
    "start_time": "2023-02-22T18:38:46.098Z"
   },
   {
    "duration": 41,
    "start_time": "2023-02-22T18:38:46.107Z"
   },
   {
    "duration": 6,
    "start_time": "2023-02-22T18:38:46.150Z"
   },
   {
    "duration": 8,
    "start_time": "2023-02-22T18:38:46.158Z"
   },
   {
    "duration": 6,
    "start_time": "2023-02-22T18:38:46.168Z"
   },
   {
    "duration": 2862,
    "start_time": "2023-02-22T18:38:46.175Z"
   },
   {
    "duration": 3,
    "start_time": "2023-02-22T18:38:49.039Z"
   },
   {
    "duration": 5,
    "start_time": "2023-02-22T18:38:49.048Z"
   },
   {
    "duration": 3,
    "start_time": "2023-02-22T18:38:49.055Z"
   },
   {
    "duration": 30,
    "start_time": "2023-02-22T18:38:49.060Z"
   },
   {
    "duration": 5,
    "start_time": "2023-02-22T18:38:49.092Z"
   },
   {
    "duration": 8,
    "start_time": "2023-02-22T18:38:49.099Z"
   },
   {
    "duration": 7,
    "start_time": "2023-02-22T18:38:49.109Z"
   },
   {
    "duration": 93,
    "start_time": "2023-02-22T18:38:49.118Z"
   },
   {
    "duration": 42,
    "start_time": "2023-02-22T18:38:49.213Z"
   },
   {
    "duration": 8,
    "start_time": "2023-02-22T18:38:49.257Z"
   },
   {
    "duration": 7,
    "start_time": "2023-02-22T18:38:49.267Z"
   },
   {
    "duration": 28,
    "start_time": "2023-02-22T18:38:49.275Z"
   },
   {
    "duration": 5,
    "start_time": "2023-02-22T18:38:49.304Z"
   },
   {
    "duration": 6,
    "start_time": "2023-02-22T18:38:49.310Z"
   },
   {
    "duration": 30,
    "start_time": "2023-02-22T18:38:49.318Z"
   },
   {
    "duration": 6,
    "start_time": "2023-02-22T18:38:49.349Z"
   },
   {
    "duration": 8,
    "start_time": "2023-02-22T18:38:49.357Z"
   },
   {
    "duration": 5,
    "start_time": "2023-02-22T18:38:49.367Z"
   },
   {
    "duration": 7,
    "start_time": "2023-02-22T18:38:49.376Z"
   },
   {
    "duration": 8,
    "start_time": "2023-02-22T18:38:49.384Z"
   },
   {
    "duration": 9,
    "start_time": "2023-02-22T18:38:49.393Z"
   },
   {
    "duration": 6,
    "start_time": "2023-02-22T18:38:49.404Z"
   },
   {
    "duration": 41,
    "start_time": "2023-02-22T18:38:49.411Z"
   },
   {
    "duration": 1119,
    "start_time": "2023-02-22T18:38:49.453Z"
   },
   {
    "duration": 5,
    "start_time": "2023-02-22T18:38:50.574Z"
   },
   {
    "duration": 9,
    "start_time": "2023-02-22T18:38:50.581Z"
   },
   {
    "duration": 32,
    "start_time": "2023-02-22T18:38:50.592Z"
   },
   {
    "duration": 23,
    "start_time": "2023-02-22T18:38:50.626Z"
   },
   {
    "duration": 37,
    "start_time": "2023-02-22T18:38:50.651Z"
   },
   {
    "duration": 43,
    "start_time": "2023-02-22T18:38:50.690Z"
   },
   {
    "duration": 22,
    "start_time": "2023-02-22T18:38:50.734Z"
   },
   {
    "duration": 37,
    "start_time": "2023-02-22T18:38:50.758Z"
   },
   {
    "duration": 35,
    "start_time": "2023-02-22T18:38:50.797Z"
   },
   {
    "duration": 82,
    "start_time": "2023-02-22T18:38:50.833Z"
   },
   {
    "duration": 9,
    "start_time": "2023-02-22T18:38:50.916Z"
   },
   {
    "duration": 9,
    "start_time": "2023-02-22T18:40:45.245Z"
   },
   {
    "duration": 13,
    "start_time": "2023-02-22T18:40:46.077Z"
   },
   {
    "duration": 8,
    "start_time": "2023-02-22T18:41:12.139Z"
   },
   {
    "duration": 6,
    "start_time": "2023-02-22T18:41:17.047Z"
   },
   {
    "duration": 12939,
    "start_time": "2023-02-22T18:46:06.677Z"
   },
   {
    "duration": 3,
    "start_time": "2023-02-22T18:46:20.523Z"
   },
   {
    "duration": 12899,
    "start_time": "2023-02-22T18:46:27.411Z"
   },
   {
    "duration": 13,
    "start_time": "2023-02-22T18:47:06.363Z"
   },
   {
    "duration": 8,
    "start_time": "2023-02-22T18:47:30.893Z"
   },
   {
    "duration": 9,
    "start_time": "2023-02-22T18:47:43.093Z"
   },
   {
    "duration": 3,
    "start_time": "2023-02-22T18:49:31.372Z"
   },
   {
    "duration": 12,
    "start_time": "2023-02-22T18:49:32.857Z"
   },
   {
    "duration": 9,
    "start_time": "2023-02-22T18:49:34.241Z"
   },
   {
    "duration": 15,
    "start_time": "2023-02-22T18:49:43.172Z"
   },
   {
    "duration": 20,
    "start_time": "2023-02-22T18:49:53.441Z"
   },
   {
    "duration": 8,
    "start_time": "2023-02-22T18:49:54.559Z"
   },
   {
    "duration": 24,
    "start_time": "2023-02-22T18:50:01.820Z"
   },
   {
    "duration": 4,
    "start_time": "2023-02-22T18:50:02.279Z"
   },
   {
    "duration": 28,
    "start_time": "2023-02-22T18:50:07.968Z"
   },
   {
    "duration": 13,
    "start_time": "2023-02-22T18:50:09.069Z"
   },
   {
    "duration": 29,
    "start_time": "2023-02-22T18:50:11.112Z"
   },
   {
    "duration": 8,
    "start_time": "2023-02-22T18:50:13.131Z"
   },
   {
    "duration": 2,
    "start_time": "2023-02-22T18:50:14.471Z"
   },
   {
    "duration": 21,
    "start_time": "2023-02-22T18:50:15.290Z"
   },
   {
    "duration": 12,
    "start_time": "2023-02-22T18:50:18.131Z"
   },
   {
    "duration": 4,
    "start_time": "2023-02-22T18:54:54.141Z"
   },
   {
    "duration": 3,
    "start_time": "2023-02-22T18:54:54.492Z"
   },
   {
    "duration": 4,
    "start_time": "2023-02-22T18:54:54.931Z"
   },
   {
    "duration": 8,
    "start_time": "2023-02-22T18:55:01.759Z"
   },
   {
    "duration": 10,
    "start_time": "2023-02-22T18:55:06.867Z"
   },
   {
    "duration": 13,
    "start_time": "2023-02-22T18:55:14.367Z"
   },
   {
    "duration": 4,
    "start_time": "2023-02-22T18:58:53.893Z"
   },
   {
    "duration": 36,
    "start_time": "2023-02-22T18:58:54.373Z"
   },
   {
    "duration": 5,
    "start_time": "2023-02-22T18:59:28.659Z"
   },
   {
    "duration": 4,
    "start_time": "2023-02-22T18:59:30.223Z"
   },
   {
    "duration": 33,
    "start_time": "2023-02-22T18:59:30.736Z"
   },
   {
    "duration": 6,
    "start_time": "2023-02-22T18:59:51.015Z"
   },
   {
    "duration": 5,
    "start_time": "2023-02-22T18:59:58.104Z"
   },
   {
    "duration": 745,
    "start_time": "2023-02-22T18:59:59.195Z"
   },
   {
    "duration": 5,
    "start_time": "2023-02-22T19:00:20.760Z"
   },
   {
    "duration": 47,
    "start_time": "2023-02-22T19:00:25.363Z"
   },
   {
    "duration": 45,
    "start_time": "2023-02-22T19:06:34.884Z"
   },
   {
    "duration": 3,
    "start_time": "2023-02-22T19:12:56.278Z"
   },
   {
    "duration": 219,
    "start_time": "2023-02-22T19:18:27.953Z"
   },
   {
    "duration": 3,
    "start_time": "2023-02-22T19:20:26.553Z"
   },
   {
    "duration": 1148,
    "start_time": "2023-02-22T19:23:26.923Z"
   },
   {
    "duration": 91,
    "start_time": "2023-02-22T19:23:28.073Z"
   },
   {
    "duration": 16,
    "start_time": "2023-02-22T19:23:28.165Z"
   },
   {
    "duration": 3,
    "start_time": "2023-02-22T19:23:28.183Z"
   },
   {
    "duration": 37,
    "start_time": "2023-02-22T19:23:28.188Z"
   },
   {
    "duration": 82,
    "start_time": "2023-02-22T19:23:28.227Z"
   },
   {
    "duration": 1961,
    "start_time": "2023-02-22T19:23:28.310Z"
   },
   {
    "duration": 8,
    "start_time": "2023-02-22T19:23:30.273Z"
   },
   {
    "duration": 995,
    "start_time": "2023-02-22T19:23:30.283Z"
   },
   {
    "duration": 4,
    "start_time": "2023-02-22T19:23:31.280Z"
   },
   {
    "duration": 10,
    "start_time": "2023-02-22T19:23:31.286Z"
   },
   {
    "duration": 29,
    "start_time": "2023-02-22T19:23:31.297Z"
   },
   {
    "duration": 13,
    "start_time": "2023-02-22T19:23:31.328Z"
   },
   {
    "duration": 8,
    "start_time": "2023-02-22T19:23:31.347Z"
   },
   {
    "duration": 13,
    "start_time": "2023-02-22T19:23:31.356Z"
   },
   {
    "duration": 20,
    "start_time": "2023-02-22T19:23:31.371Z"
   },
   {
    "duration": 10,
    "start_time": "2023-02-22T19:23:31.392Z"
   },
   {
    "duration": 11,
    "start_time": "2023-02-22T19:23:31.403Z"
   },
   {
    "duration": 19,
    "start_time": "2023-02-22T19:23:31.415Z"
   },
   {
    "duration": 7,
    "start_time": "2023-02-22T19:23:31.436Z"
   },
   {
    "duration": 9,
    "start_time": "2023-02-22T19:23:31.444Z"
   },
   {
    "duration": 2839,
    "start_time": "2023-02-22T19:23:31.454Z"
   },
   {
    "duration": 2,
    "start_time": "2023-02-22T19:23:34.295Z"
   },
   {
    "duration": 13,
    "start_time": "2023-02-22T19:23:34.298Z"
   },
   {
    "duration": 8,
    "start_time": "2023-02-22T19:23:34.313Z"
   },
   {
    "duration": 36,
    "start_time": "2023-02-22T19:23:34.322Z"
   },
   {
    "duration": 4,
    "start_time": "2023-02-22T19:23:34.360Z"
   },
   {
    "duration": 33,
    "start_time": "2023-02-22T19:23:34.365Z"
   },
   {
    "duration": 19,
    "start_time": "2023-02-22T19:23:34.400Z"
   },
   {
    "duration": 66,
    "start_time": "2023-02-22T19:23:34.420Z"
   },
   {
    "duration": 25,
    "start_time": "2023-02-22T19:23:34.487Z"
   },
   {
    "duration": 17,
    "start_time": "2023-02-22T19:23:34.514Z"
   },
   {
    "duration": 16,
    "start_time": "2023-02-22T19:23:34.533Z"
   },
   {
    "duration": 36,
    "start_time": "2023-02-22T19:23:34.551Z"
   },
   {
    "duration": 4,
    "start_time": "2023-02-22T19:23:34.589Z"
   },
   {
    "duration": 10,
    "start_time": "2023-02-22T19:23:34.594Z"
   },
   {
    "duration": 15,
    "start_time": "2023-02-22T19:23:34.605Z"
   },
   {
    "duration": 16,
    "start_time": "2023-02-22T19:23:34.621Z"
   },
   {
    "duration": 12,
    "start_time": "2023-02-22T19:23:34.639Z"
   },
   {
    "duration": 11,
    "start_time": "2023-02-22T19:23:34.653Z"
   },
   {
    "duration": 27,
    "start_time": "2023-02-22T19:23:34.668Z"
   },
   {
    "duration": 19,
    "start_time": "2023-02-22T19:23:34.697Z"
   },
   {
    "duration": 20,
    "start_time": "2023-02-22T19:23:34.718Z"
   },
   {
    "duration": 6,
    "start_time": "2023-02-22T19:23:34.740Z"
   },
   {
    "duration": 14,
    "start_time": "2023-02-22T19:23:34.748Z"
   },
   {
    "duration": 1205,
    "start_time": "2023-02-22T19:23:34.764Z"
   },
   {
    "duration": 4,
    "start_time": "2023-02-22T19:23:35.971Z"
   },
   {
    "duration": 13,
    "start_time": "2023-02-22T19:23:35.976Z"
   },
   {
    "duration": 30,
    "start_time": "2023-02-22T19:23:35.990Z"
   },
   {
    "duration": 6,
    "start_time": "2023-02-22T19:23:36.022Z"
   },
   {
    "duration": 8,
    "start_time": "2023-02-22T19:23:36.029Z"
   },
   {
    "duration": 17,
    "start_time": "2023-02-22T19:23:36.038Z"
   },
   {
    "duration": 4,
    "start_time": "2023-02-22T19:23:36.056Z"
   },
   {
    "duration": 5,
    "start_time": "2023-02-22T19:23:36.061Z"
   },
   {
    "duration": 7,
    "start_time": "2023-02-22T19:23:36.067Z"
   },
   {
    "duration": 4,
    "start_time": "2023-02-22T19:23:36.076Z"
   },
   {
    "duration": 16,
    "start_time": "2023-02-22T19:23:36.081Z"
   },
   {
    "duration": 7,
    "start_time": "2023-02-22T19:23:36.098Z"
   },
   {
    "duration": 49,
    "start_time": "2023-02-22T19:23:36.107Z"
   },
   {
    "duration": 7,
    "start_time": "2023-02-22T19:23:36.157Z"
   },
   {
    "duration": 24,
    "start_time": "2023-02-22T19:23:36.166Z"
   },
   {
    "duration": 4,
    "start_time": "2023-02-22T19:23:36.192Z"
   },
   {
    "duration": 35,
    "start_time": "2023-02-22T19:23:36.197Z"
   },
   {
    "duration": 26,
    "start_time": "2023-02-22T19:23:36.233Z"
   },
   {
    "duration": 24,
    "start_time": "2023-02-22T19:23:36.260Z"
   },
   {
    "duration": 7,
    "start_time": "2023-02-22T19:23:36.286Z"
   },
   {
    "duration": 3,
    "start_time": "2023-02-22T19:23:36.294Z"
   },
   {
    "duration": 24,
    "start_time": "2023-02-22T19:23:36.299Z"
   },
   {
    "duration": 28,
    "start_time": "2023-02-22T19:23:36.324Z"
   },
   {
    "duration": 17,
    "start_time": "2023-02-22T19:23:36.354Z"
   },
   {
    "duration": 4,
    "start_time": "2023-02-22T19:23:36.372Z"
   },
   {
    "duration": 35,
    "start_time": "2023-02-22T19:23:36.378Z"
   },
   {
    "duration": 5,
    "start_time": "2023-02-22T19:23:36.414Z"
   },
   {
    "duration": 27,
    "start_time": "2023-02-22T19:23:36.421Z"
   },
   {
    "duration": 5,
    "start_time": "2023-02-22T19:23:36.449Z"
   },
   {
    "duration": 3,
    "start_time": "2023-02-22T19:23:36.455Z"
   },
   {
    "duration": 315,
    "start_time": "2023-02-22T19:23:36.459Z"
   },
   {
    "duration": 15,
    "start_time": "2023-02-22T19:24:05.863Z"
   },
   {
    "duration": 1050,
    "start_time": "2023-02-22T19:25:39.591Z"
   },
   {
    "duration": 87,
    "start_time": "2023-02-22T19:25:40.643Z"
   },
   {
    "duration": 14,
    "start_time": "2023-02-22T19:25:40.731Z"
   },
   {
    "duration": 2,
    "start_time": "2023-02-22T19:25:40.748Z"
   },
   {
    "duration": 41,
    "start_time": "2023-02-22T19:25:40.752Z"
   },
   {
    "duration": 69,
    "start_time": "2023-02-22T19:25:40.794Z"
   },
   {
    "duration": 1851,
    "start_time": "2023-02-22T19:25:40.864Z"
   },
   {
    "duration": 10,
    "start_time": "2023-02-22T19:25:42.716Z"
   },
   {
    "duration": 1106,
    "start_time": "2023-02-22T19:25:42.727Z"
   },
   {
    "duration": 12,
    "start_time": "2023-02-22T19:25:43.836Z"
   },
   {
    "duration": 6,
    "start_time": "2023-02-22T19:25:43.849Z"
   },
   {
    "duration": 37,
    "start_time": "2023-02-22T19:25:43.856Z"
   },
   {
    "duration": 6,
    "start_time": "2023-02-22T19:25:43.895Z"
   },
   {
    "duration": 16,
    "start_time": "2023-02-22T19:25:43.903Z"
   },
   {
    "duration": 9,
    "start_time": "2023-02-22T19:25:43.921Z"
   },
   {
    "duration": 20,
    "start_time": "2023-02-22T19:25:43.932Z"
   },
   {
    "duration": 6,
    "start_time": "2023-02-22T19:25:43.954Z"
   },
   {
    "duration": 4,
    "start_time": "2023-02-22T19:25:43.962Z"
   },
   {
    "duration": 6,
    "start_time": "2023-02-22T19:25:43.968Z"
   },
   {
    "duration": 8,
    "start_time": "2023-02-22T19:25:43.976Z"
   },
   {
    "duration": 10,
    "start_time": "2023-02-22T19:25:43.986Z"
   },
   {
    "duration": 2856,
    "start_time": "2023-02-22T19:25:43.998Z"
   },
   {
    "duration": 2,
    "start_time": "2023-02-22T19:25:46.857Z"
   },
   {
    "duration": 17,
    "start_time": "2023-02-22T19:25:46.861Z"
   },
   {
    "duration": 10,
    "start_time": "2023-02-22T19:25:46.879Z"
   },
   {
    "duration": 35,
    "start_time": "2023-02-22T19:25:46.891Z"
   },
   {
    "duration": 4,
    "start_time": "2023-02-22T19:25:46.927Z"
   },
   {
    "duration": 15,
    "start_time": "2023-02-22T19:25:46.934Z"
   },
   {
    "duration": 6,
    "start_time": "2023-02-22T19:25:46.950Z"
   },
   {
    "duration": 55,
    "start_time": "2023-02-22T19:25:46.958Z"
   },
   {
    "duration": 18,
    "start_time": "2023-02-22T19:25:47.014Z"
   },
   {
    "duration": 30,
    "start_time": "2023-02-22T19:25:47.033Z"
   },
   {
    "duration": 8,
    "start_time": "2023-02-22T19:25:47.065Z"
   },
   {
    "duration": 27,
    "start_time": "2023-02-22T19:25:47.074Z"
   },
   {
    "duration": 3,
    "start_time": "2023-02-22T19:25:47.103Z"
   },
   {
    "duration": 11,
    "start_time": "2023-02-22T19:25:47.108Z"
   },
   {
    "duration": 26,
    "start_time": "2023-02-22T19:25:47.120Z"
   },
   {
    "duration": 6,
    "start_time": "2023-02-22T19:25:47.147Z"
   },
   {
    "duration": 8,
    "start_time": "2023-02-22T19:25:47.154Z"
   },
   {
    "duration": 3,
    "start_time": "2023-02-22T19:25:47.164Z"
   },
   {
    "duration": 17,
    "start_time": "2023-02-22T19:25:47.169Z"
   },
   {
    "duration": 7,
    "start_time": "2023-02-22T19:25:47.188Z"
   },
   {
    "duration": 8,
    "start_time": "2023-02-22T19:25:47.196Z"
   },
   {
    "duration": 7,
    "start_time": "2023-02-22T19:25:47.206Z"
   },
   {
    "duration": 7,
    "start_time": "2023-02-22T19:25:47.214Z"
   },
   {
    "duration": 1239,
    "start_time": "2023-02-22T19:25:47.222Z"
   },
   {
    "duration": 5,
    "start_time": "2023-02-22T19:25:48.463Z"
   },
   {
    "duration": 10,
    "start_time": "2023-02-22T19:25:48.471Z"
   },
   {
    "duration": 39,
    "start_time": "2023-02-22T19:25:48.482Z"
   },
   {
    "duration": 7,
    "start_time": "2023-02-22T19:25:48.523Z"
   },
   {
    "duration": 22,
    "start_time": "2023-02-22T19:25:48.532Z"
   },
   {
    "duration": 11,
    "start_time": "2023-02-22T19:25:48.555Z"
   },
   {
    "duration": 5,
    "start_time": "2023-02-22T19:25:48.567Z"
   },
   {
    "duration": 7,
    "start_time": "2023-02-22T19:25:48.574Z"
   },
   {
    "duration": 10,
    "start_time": "2023-02-22T19:25:48.582Z"
   },
   {
    "duration": 7,
    "start_time": "2023-02-22T19:25:48.594Z"
   },
   {
    "duration": 15,
    "start_time": "2023-02-22T19:25:48.602Z"
   },
   {
    "duration": 30,
    "start_time": "2023-02-22T19:25:48.619Z"
   },
   {
    "duration": 23,
    "start_time": "2023-02-22T19:25:48.650Z"
   },
   {
    "duration": 8,
    "start_time": "2023-02-22T19:25:48.675Z"
   },
   {
    "duration": 25,
    "start_time": "2023-02-22T19:25:48.684Z"
   },
   {
    "duration": 5,
    "start_time": "2023-02-22T19:25:48.711Z"
   },
   {
    "duration": 56,
    "start_time": "2023-02-22T19:25:48.717Z"
   },
   {
    "duration": 13,
    "start_time": "2023-02-22T19:25:48.775Z"
   },
   {
    "duration": 24,
    "start_time": "2023-02-22T19:25:48.790Z"
   },
   {
    "duration": 10,
    "start_time": "2023-02-22T19:25:48.816Z"
   },
   {
    "duration": 20,
    "start_time": "2023-02-22T19:25:48.828Z"
   },
   {
    "duration": 23,
    "start_time": "2023-02-22T19:25:48.850Z"
   },
   {
    "duration": 10,
    "start_time": "2023-02-22T19:25:48.875Z"
   },
   {
    "duration": 16,
    "start_time": "2023-02-22T19:25:48.887Z"
   },
   {
    "duration": 4,
    "start_time": "2023-02-22T19:25:48.904Z"
   },
   {
    "duration": 58,
    "start_time": "2023-02-22T19:25:48.910Z"
   },
   {
    "duration": 5,
    "start_time": "2023-02-22T19:25:48.969Z"
   },
   {
    "duration": 9,
    "start_time": "2023-02-22T19:25:48.976Z"
   },
   {
    "duration": 5,
    "start_time": "2023-02-22T19:25:48.986Z"
   },
   {
    "duration": 6,
    "start_time": "2023-02-22T19:25:48.992Z"
   },
   {
    "duration": 307,
    "start_time": "2023-02-22T19:25:48.999Z"
   },
   {
    "duration": 0,
    "start_time": "2023-02-22T19:25:49.308Z"
   },
   {
    "duration": 13,
    "start_time": "2023-02-22T19:26:03.126Z"
   },
   {
    "duration": 4,
    "start_time": "2023-02-22T19:35:10.232Z"
   },
   {
    "duration": 173,
    "start_time": "2023-02-22T19:35:26.271Z"
   },
   {
    "duration": 15,
    "start_time": "2023-02-22T19:35:40.594Z"
   },
   {
    "duration": 4,
    "start_time": "2023-02-22T19:36:07.374Z"
   },
   {
    "duration": 224,
    "start_time": "2023-02-22T19:36:14.828Z"
   },
   {
    "duration": 15,
    "start_time": "2023-02-22T19:37:32.492Z"
   },
   {
    "duration": 2,
    "start_time": "2023-02-22T19:41:26.729Z"
   },
   {
    "duration": 4,
    "start_time": "2023-02-22T19:41:46.174Z"
   },
   {
    "duration": 44,
    "start_time": "2023-02-22T19:42:29.830Z"
   },
   {
    "duration": 49,
    "start_time": "2023-02-22T19:42:39.348Z"
   },
   {
    "duration": 50,
    "start_time": "2023-02-22T19:42:52.185Z"
   },
   {
    "duration": 271,
    "start_time": "2023-02-22T19:42:57.670Z"
   },
   {
    "duration": 281,
    "start_time": "2023-02-22T19:43:05.855Z"
   },
   {
    "duration": 6,
    "start_time": "2023-02-22T19:43:42.185Z"
   },
   {
    "duration": 3,
    "start_time": "2023-02-22T19:44:34.125Z"
   },
   {
    "duration": 361,
    "start_time": "2023-02-22T19:45:01.824Z"
   },
   {
    "duration": 5,
    "start_time": "2023-02-22T19:45:28.427Z"
   },
   {
    "duration": 700,
    "start_time": "2023-02-22T19:46:28.927Z"
   },
   {
    "duration": 3,
    "start_time": "2023-02-22T19:46:44.128Z"
   },
   {
    "duration": 52,
    "start_time": "2023-02-22T19:46:49.623Z"
   },
   {
    "duration": 8,
    "start_time": "2023-02-22T19:47:10.056Z"
   },
   {
    "duration": 5,
    "start_time": "2023-02-22T19:47:28.046Z"
   },
   {
    "duration": 5,
    "start_time": "2023-02-22T19:49:39.074Z"
   },
   {
    "duration": 4,
    "start_time": "2023-02-22T19:49:51.005Z"
   },
   {
    "duration": 6,
    "start_time": "2023-02-22T19:49:56.121Z"
   },
   {
    "duration": 9,
    "start_time": "2023-02-22T19:50:07.735Z"
   },
   {
    "duration": 4,
    "start_time": "2023-03-09T08:42:44.532Z"
   },
   {
    "duration": 50,
    "start_time": "2023-03-09T09:00:14.962Z"
   },
   {
    "duration": 1331,
    "start_time": "2023-03-09T09:00:21.026Z"
   },
   {
    "duration": 131,
    "start_time": "2023-03-09T09:00:22.358Z"
   },
   {
    "duration": 14,
    "start_time": "2023-03-09T09:00:22.491Z"
   },
   {
    "duration": 3,
    "start_time": "2023-03-09T09:00:22.507Z"
   },
   {
    "duration": 25,
    "start_time": "2023-03-09T09:00:22.511Z"
   },
   {
    "duration": 75,
    "start_time": "2023-03-09T09:00:22.538Z"
   },
   {
    "duration": 1791,
    "start_time": "2023-03-09T09:00:22.614Z"
   },
   {
    "duration": 9,
    "start_time": "2023-03-09T09:00:24.407Z"
   },
   {
    "duration": 1050,
    "start_time": "2023-03-09T09:00:24.417Z"
   },
   {
    "duration": 4,
    "start_time": "2023-03-09T09:00:25.471Z"
   },
   {
    "duration": 6,
    "start_time": "2023-03-09T09:00:25.476Z"
   },
   {
    "duration": 20,
    "start_time": "2023-03-09T09:00:25.484Z"
   },
   {
    "duration": 4,
    "start_time": "2023-03-09T09:00:25.505Z"
   },
   {
    "duration": 5,
    "start_time": "2023-03-09T09:00:25.510Z"
   },
   {
    "duration": 4,
    "start_time": "2023-03-09T09:00:25.516Z"
   },
   {
    "duration": 4,
    "start_time": "2023-03-09T09:00:25.555Z"
   },
   {
    "duration": 5,
    "start_time": "2023-03-09T09:00:25.561Z"
   },
   {
    "duration": 3,
    "start_time": "2023-03-09T09:00:25.568Z"
   },
   {
    "duration": 5,
    "start_time": "2023-03-09T09:00:25.573Z"
   },
   {
    "duration": 8,
    "start_time": "2023-03-09T09:00:25.579Z"
   },
   {
    "duration": 19,
    "start_time": "2023-03-09T09:00:25.588Z"
   },
   {
    "duration": 2554,
    "start_time": "2023-03-09T09:00:25.608Z"
   },
   {
    "duration": 2,
    "start_time": "2023-03-09T09:00:28.163Z"
   },
   {
    "duration": 6,
    "start_time": "2023-03-09T09:00:28.167Z"
   },
   {
    "duration": 3,
    "start_time": "2023-03-09T09:00:28.174Z"
   },
   {
    "duration": 26,
    "start_time": "2023-03-09T09:00:28.178Z"
   },
   {
    "duration": 4,
    "start_time": "2023-03-09T09:00:28.205Z"
   },
   {
    "duration": 5,
    "start_time": "2023-03-09T09:00:28.213Z"
   },
   {
    "duration": 5,
    "start_time": "2023-03-09T09:00:28.219Z"
   },
   {
    "duration": 45,
    "start_time": "2023-03-09T09:00:28.255Z"
   },
   {
    "duration": 17,
    "start_time": "2023-03-09T09:00:28.302Z"
   },
   {
    "duration": 8,
    "start_time": "2023-03-09T09:00:28.320Z"
   },
   {
    "duration": 4,
    "start_time": "2023-03-09T09:00:28.330Z"
   },
   {
    "duration": 43,
    "start_time": "2023-03-09T09:00:28.335Z"
   },
   {
    "duration": 4,
    "start_time": "2023-03-09T09:00:28.379Z"
   },
   {
    "duration": 18,
    "start_time": "2023-03-09T09:00:28.385Z"
   },
   {
    "duration": 4,
    "start_time": "2023-03-09T09:00:28.404Z"
   },
   {
    "duration": 5,
    "start_time": "2023-03-09T09:00:28.409Z"
   },
   {
    "duration": 7,
    "start_time": "2023-03-09T09:00:28.415Z"
   },
   {
    "duration": 3,
    "start_time": "2023-03-09T09:00:28.423Z"
   },
   {
    "duration": 2,
    "start_time": "2023-03-09T09:00:28.428Z"
   },
   {
    "duration": 4,
    "start_time": "2023-03-09T09:00:28.454Z"
   },
   {
    "duration": 7,
    "start_time": "2023-03-09T09:00:28.460Z"
   },
   {
    "duration": 5,
    "start_time": "2023-03-09T09:00:28.468Z"
   },
   {
    "duration": 7,
    "start_time": "2023-03-09T09:00:28.474Z"
   },
   {
    "duration": 1069,
    "start_time": "2023-03-09T09:00:28.482Z"
   },
   {
    "duration": 5,
    "start_time": "2023-03-09T09:00:29.552Z"
   },
   {
    "duration": 9,
    "start_time": "2023-03-09T09:00:29.558Z"
   },
   {
    "duration": 28,
    "start_time": "2023-03-09T09:00:29.569Z"
   },
   {
    "duration": 7,
    "start_time": "2023-03-09T09:00:29.599Z"
   },
   {
    "duration": 6,
    "start_time": "2023-03-09T09:00:29.607Z"
   },
   {
    "duration": 8,
    "start_time": "2023-03-09T09:00:29.615Z"
   },
   {
    "duration": 32,
    "start_time": "2023-03-09T09:00:29.625Z"
   },
   {
    "duration": 9,
    "start_time": "2023-03-09T09:00:29.659Z"
   },
   {
    "duration": 5,
    "start_time": "2023-03-09T09:00:29.669Z"
   },
   {
    "duration": 4,
    "start_time": "2023-03-09T09:00:29.675Z"
   },
   {
    "duration": 11,
    "start_time": "2023-03-09T09:00:29.681Z"
   },
   {
    "duration": 7,
    "start_time": "2023-03-09T09:00:29.693Z"
   },
   {
    "duration": 19,
    "start_time": "2023-03-09T09:00:29.702Z"
   },
   {
    "duration": 33,
    "start_time": "2023-03-09T09:00:29.723Z"
   },
   {
    "duration": 23,
    "start_time": "2023-03-09T09:00:29.757Z"
   },
   {
    "duration": 4,
    "start_time": "2023-03-09T09:00:29.782Z"
   },
   {
    "duration": 40,
    "start_time": "2023-03-09T09:00:29.787Z"
   },
   {
    "duration": 27,
    "start_time": "2023-03-09T09:00:29.828Z"
   },
   {
    "duration": 28,
    "start_time": "2023-03-09T09:00:29.857Z"
   },
   {
    "duration": 7,
    "start_time": "2023-03-09T09:00:29.887Z"
   },
   {
    "duration": 3,
    "start_time": "2023-03-09T09:00:29.895Z"
   },
   {
    "duration": 25,
    "start_time": "2023-03-09T09:00:29.899Z"
   },
   {
    "duration": 30,
    "start_time": "2023-03-09T09:00:29.925Z"
   },
   {
    "duration": 15,
    "start_time": "2023-03-09T09:00:29.957Z"
   },
   {
    "duration": 3,
    "start_time": "2023-03-09T09:00:29.974Z"
   },
   {
    "duration": 5,
    "start_time": "2023-03-09T09:00:29.978Z"
   },
   {
    "duration": 36,
    "start_time": "2023-03-09T09:00:29.984Z"
   },
   {
    "duration": 5,
    "start_time": "2023-03-09T09:00:30.022Z"
   },
   {
    "duration": 32,
    "start_time": "2023-03-09T09:00:30.028Z"
   },
   {
    "duration": 34,
    "start_time": "2023-03-09T09:00:30.061Z"
   },
   {
    "duration": 20,
    "start_time": "2023-03-09T09:00:30.097Z"
   },
   {
    "duration": 4,
    "start_time": "2023-03-09T09:00:30.118Z"
   },
   {
    "duration": 307,
    "start_time": "2023-03-09T09:00:30.123Z"
   },
   {
    "duration": 6,
    "start_time": "2023-03-09T09:00:30.432Z"
   },
   {
    "duration": 26,
    "start_time": "2023-03-09T09:00:30.439Z"
   },
   {
    "duration": 24,
    "start_time": "2023-03-09T09:00:30.469Z"
   },
   {
    "duration": 33,
    "start_time": "2023-03-09T09:00:30.494Z"
   },
   {
    "duration": 130,
    "start_time": "2023-03-09T09:00:30.529Z"
   },
   {
    "duration": 8,
    "start_time": "2023-03-09T09:00:57.305Z"
   },
   {
    "duration": 193,
    "start_time": "2023-03-09T09:02:44.170Z"
   },
   {
    "duration": 279,
    "start_time": "2023-03-09T09:04:56.776Z"
   },
   {
    "duration": 197,
    "start_time": "2023-03-09T09:05:30.632Z"
   },
   {
    "duration": 238,
    "start_time": "2023-03-09T09:06:41.619Z"
   },
   {
    "duration": 160,
    "start_time": "2023-03-09T09:06:49.418Z"
   },
   {
    "duration": 6,
    "start_time": "2023-03-09T09:08:14.391Z"
   },
   {
    "duration": 7,
    "start_time": "2023-03-09T09:08:19.202Z"
   },
   {
    "duration": 117,
    "start_time": "2023-03-09T09:09:41.379Z"
   },
   {
    "duration": 222,
    "start_time": "2023-03-09T09:09:49.450Z"
   },
   {
    "duration": 124,
    "start_time": "2023-03-09T09:11:21.088Z"
   },
   {
    "duration": 1259,
    "start_time": "2023-03-09T09:11:47.894Z"
   },
   {
    "duration": 110,
    "start_time": "2023-03-09T09:12:11.033Z"
   },
   {
    "duration": 116,
    "start_time": "2023-03-09T09:13:47.371Z"
   },
   {
    "duration": 134,
    "start_time": "2023-03-09T09:16:34.269Z"
   },
   {
    "duration": 217,
    "start_time": "2023-03-09T09:19:41.212Z"
   },
   {
    "duration": 5,
    "start_time": "2023-03-09T09:20:45.517Z"
   },
   {
    "duration": 113,
    "start_time": "2023-03-09T09:21:00.190Z"
   },
   {
    "duration": 234,
    "start_time": "2023-03-09T09:29:38.004Z"
   },
   {
    "duration": 15,
    "start_time": "2023-03-09T09:30:12.227Z"
   },
   {
    "duration": 162,
    "start_time": "2023-03-09T09:54:13.402Z"
   },
   {
    "duration": 131,
    "start_time": "2023-03-09T09:54:44.492Z"
   },
   {
    "duration": 159,
    "start_time": "2023-03-09T09:55:15.995Z"
   },
   {
    "duration": 167,
    "start_time": "2023-03-09T09:56:30.183Z"
   },
   {
    "duration": 342,
    "start_time": "2023-03-09T09:56:42.500Z"
   },
   {
    "duration": 391,
    "start_time": "2023-03-09T10:25:21.906Z"
   },
   {
    "duration": 5,
    "start_time": "2023-03-09T10:45:02.501Z"
   },
   {
    "duration": 4,
    "start_time": "2023-03-09T10:45:12.682Z"
   },
   {
    "duration": 81,
    "start_time": "2023-03-10T11:39:15.206Z"
   },
   {
    "duration": 1879,
    "start_time": "2023-03-10T11:39:21.899Z"
   },
   {
    "duration": 253,
    "start_time": "2023-03-10T11:39:23.785Z"
   },
   {
    "duration": 26,
    "start_time": "2023-03-10T11:39:24.040Z"
   },
   {
    "duration": 52,
    "start_time": "2023-03-10T11:39:24.068Z"
   },
   {
    "duration": 59,
    "start_time": "2023-03-10T11:39:24.122Z"
   },
   {
    "duration": 128,
    "start_time": "2023-03-10T11:39:24.183Z"
   },
   {
    "duration": 2540,
    "start_time": "2023-03-10T11:39:24.313Z"
   },
   {
    "duration": 46,
    "start_time": "2023-03-10T11:39:26.855Z"
   },
   {
    "duration": 1447,
    "start_time": "2023-03-10T11:39:26.903Z"
   },
   {
    "duration": 5,
    "start_time": "2023-03-10T11:39:28.361Z"
   },
   {
    "duration": 51,
    "start_time": "2023-03-10T11:39:28.367Z"
   },
   {
    "duration": 80,
    "start_time": "2023-03-10T11:39:28.421Z"
   },
   {
    "duration": 19,
    "start_time": "2023-03-10T11:39:28.506Z"
   },
   {
    "duration": 52,
    "start_time": "2023-03-10T11:39:28.527Z"
   },
   {
    "duration": 62,
    "start_time": "2023-03-10T11:39:28.581Z"
   },
   {
    "duration": 59,
    "start_time": "2023-03-10T11:39:28.645Z"
   },
   {
    "duration": 5,
    "start_time": "2023-03-10T11:39:28.706Z"
   },
   {
    "duration": 6,
    "start_time": "2023-03-10T11:39:28.713Z"
   },
   {
    "duration": 5,
    "start_time": "2023-03-10T11:39:28.721Z"
   },
   {
    "duration": 7,
    "start_time": "2023-03-10T11:39:28.728Z"
   },
   {
    "duration": 65,
    "start_time": "2023-03-10T11:39:28.736Z"
   },
   {
    "duration": 3422,
    "start_time": "2023-03-10T11:39:28.803Z"
   },
   {
    "duration": 3,
    "start_time": "2023-03-10T11:39:32.226Z"
   },
   {
    "duration": 54,
    "start_time": "2023-03-10T11:39:32.230Z"
   },
   {
    "duration": 34,
    "start_time": "2023-03-10T11:39:32.285Z"
   },
   {
    "duration": 54,
    "start_time": "2023-03-10T11:39:32.320Z"
   },
   {
    "duration": 5,
    "start_time": "2023-03-10T11:39:32.378Z"
   },
   {
    "duration": 43,
    "start_time": "2023-03-10T11:39:32.388Z"
   },
   {
    "duration": 38,
    "start_time": "2023-03-10T11:39:32.433Z"
   },
   {
    "duration": 144,
    "start_time": "2023-03-10T11:39:32.473Z"
   },
   {
    "duration": 46,
    "start_time": "2023-03-10T11:39:32.619Z"
   },
   {
    "duration": 10,
    "start_time": "2023-03-10T11:39:32.676Z"
   },
   {
    "duration": 33,
    "start_time": "2023-03-10T11:39:32.688Z"
   },
   {
    "duration": 65,
    "start_time": "2023-03-10T11:39:32.722Z"
   },
   {
    "duration": 17,
    "start_time": "2023-03-10T11:39:32.793Z"
   },
   {
    "duration": 13,
    "start_time": "2023-03-10T11:39:32.812Z"
   },
   {
    "duration": 10,
    "start_time": "2023-03-10T11:39:32.827Z"
   },
   {
    "duration": 77,
    "start_time": "2023-03-10T11:39:32.839Z"
   },
   {
    "duration": 17,
    "start_time": "2023-03-10T11:39:32.919Z"
   },
   {
    "duration": 72,
    "start_time": "2023-03-10T11:39:32.938Z"
   },
   {
    "duration": 12,
    "start_time": "2023-03-10T11:39:33.011Z"
   },
   {
    "duration": 8,
    "start_time": "2023-03-10T11:39:33.025Z"
   },
   {
    "duration": 54,
    "start_time": "2023-03-10T11:39:33.035Z"
   },
   {
    "duration": 16,
    "start_time": "2023-03-10T11:39:33.097Z"
   },
   {
    "duration": 10,
    "start_time": "2023-03-10T11:39:33.115Z"
   },
   {
    "duration": 1501,
    "start_time": "2023-03-10T11:39:33.126Z"
   },
   {
    "duration": 4,
    "start_time": "2023-03-10T11:39:34.628Z"
   },
   {
    "duration": 6,
    "start_time": "2023-03-10T11:39:34.640Z"
   },
   {
    "duration": 91,
    "start_time": "2023-03-10T11:39:34.647Z"
   },
   {
    "duration": 19,
    "start_time": "2023-03-10T11:39:34.739Z"
   },
   {
    "duration": 45,
    "start_time": "2023-03-10T11:39:34.763Z"
   },
   {
    "duration": 12,
    "start_time": "2023-03-10T11:39:34.809Z"
   },
   {
    "duration": 37,
    "start_time": "2023-03-10T11:39:34.823Z"
   },
   {
    "duration": 64,
    "start_time": "2023-03-10T11:39:34.862Z"
   },
   {
    "duration": 7,
    "start_time": "2023-03-10T11:39:34.928Z"
   },
   {
    "duration": 34,
    "start_time": "2023-03-10T11:39:34.937Z"
   },
   {
    "duration": 41,
    "start_time": "2023-03-10T11:39:34.972Z"
   },
   {
    "duration": 9,
    "start_time": "2023-03-10T11:39:35.015Z"
   },
   {
    "duration": 38,
    "start_time": "2023-03-10T11:39:35.026Z"
   },
   {
    "duration": 15,
    "start_time": "2023-03-10T11:39:35.065Z"
   },
   {
    "duration": 50,
    "start_time": "2023-03-10T11:39:35.081Z"
   },
   {
    "duration": 5,
    "start_time": "2023-03-10T11:39:35.133Z"
   },
   {
    "duration": 106,
    "start_time": "2023-03-10T11:39:35.140Z"
   },
   {
    "duration": 38,
    "start_time": "2023-03-10T11:39:35.266Z"
   },
   {
    "duration": 52,
    "start_time": "2023-03-10T11:39:35.309Z"
   },
   {
    "duration": 43,
    "start_time": "2023-03-10T11:39:35.363Z"
   },
   {
    "duration": 6,
    "start_time": "2023-03-10T11:39:35.408Z"
   },
   {
    "duration": 30,
    "start_time": "2023-03-10T11:39:35.416Z"
   },
   {
    "duration": 17,
    "start_time": "2023-03-10T11:39:35.448Z"
   },
   {
    "duration": 53,
    "start_time": "2023-03-10T11:39:35.467Z"
   },
   {
    "duration": 4,
    "start_time": "2023-03-10T11:39:35.522Z"
   },
   {
    "duration": 49,
    "start_time": "2023-03-10T11:39:35.528Z"
   },
   {
    "duration": 99,
    "start_time": "2023-03-10T11:39:35.593Z"
   },
   {
    "duration": 21,
    "start_time": "2023-03-10T11:39:35.694Z"
   },
   {
    "duration": 17,
    "start_time": "2023-03-10T11:39:35.717Z"
   },
   {
    "duration": 40,
    "start_time": "2023-03-10T11:39:35.736Z"
   },
   {
    "duration": 40,
    "start_time": "2023-03-10T11:39:35.778Z"
   },
   {
    "duration": 3,
    "start_time": "2023-03-10T11:39:35.820Z"
   },
   {
    "duration": 396,
    "start_time": "2023-03-10T11:39:35.825Z"
   },
   {
    "duration": 5,
    "start_time": "2023-03-10T11:39:36.223Z"
   },
   {
    "duration": 31,
    "start_time": "2023-03-10T11:39:36.229Z"
   },
   {
    "duration": 4,
    "start_time": "2023-03-10T11:39:36.267Z"
   },
   {
    "duration": 38,
    "start_time": "2023-03-10T11:39:36.273Z"
   },
   {
    "duration": 10,
    "start_time": "2023-03-10T11:39:36.313Z"
   },
   {
    "duration": 329,
    "start_time": "2023-03-10T11:39:36.324Z"
   },
   {
    "duration": 313,
    "start_time": "2023-03-10T11:39:36.655Z"
   },
   {
    "duration": 393,
    "start_time": "2023-03-10T11:39:36.970Z"
   },
   {
    "duration": 169,
    "start_time": "2023-03-10T11:39:37.365Z"
   },
   {
    "duration": 9,
    "start_time": "2023-03-10T11:39:37.536Z"
   },
   {
    "duration": 288,
    "start_time": "2023-03-10T11:39:37.547Z"
   },
   {
    "duration": 180,
    "start_time": "2023-03-10T11:39:37.837Z"
   },
   {
    "duration": 161,
    "start_time": "2023-03-10T11:39:38.019Z"
   },
   {
    "duration": 154,
    "start_time": "2023-03-10T11:39:38.182Z"
   },
   {
    "duration": 187,
    "start_time": "2023-03-10T11:39:38.340Z"
   },
   {
    "duration": 160,
    "start_time": "2023-03-10T11:39:38.529Z"
   },
   {
    "duration": 154,
    "start_time": "2023-03-10T11:39:38.691Z"
   },
   {
    "duration": 221,
    "start_time": "2023-03-10T11:39:38.847Z"
   },
   {
    "duration": 558,
    "start_time": "2023-03-10T11:39:39.072Z"
   },
   {
    "duration": 19,
    "start_time": "2023-03-10T11:39:39.632Z"
   },
   {
    "duration": 59,
    "start_time": "2023-03-10T11:39:39.656Z"
   },
   {
    "duration": 21,
    "start_time": "2023-03-10T11:39:39.717Z"
   },
   {
    "duration": 2090,
    "start_time": "2023-03-10T11:39:39.740Z"
   },
   {
    "duration": 968,
    "start_time": "2023-03-10T11:57:21.766Z"
   },
   {
    "duration": 928,
    "start_time": "2023-03-10T11:58:27.597Z"
   },
   {
    "duration": 323,
    "start_time": "2023-03-10T12:07:35.620Z"
   },
   {
    "duration": 55,
    "start_time": "2023-03-16T20:08:01.850Z"
   },
   {
    "duration": 1216,
    "start_time": "2023-03-16T20:08:08.796Z"
   },
   {
    "duration": 994,
    "start_time": "2023-03-16T20:08:23.751Z"
   },
   {
    "duration": 685,
    "start_time": "2023-03-16T20:08:25.627Z"
   },
   {
    "duration": 17,
    "start_time": "2023-03-16T20:08:26.348Z"
   },
   {
    "duration": 2,
    "start_time": "2023-03-16T20:08:27.590Z"
   },
   {
    "duration": 26,
    "start_time": "2023-03-16T20:08:28.770Z"
   },
   {
    "duration": 74,
    "start_time": "2023-03-16T20:08:31.032Z"
   },
   {
    "duration": 1713,
    "start_time": "2023-03-16T20:08:33.371Z"
   },
   {
    "duration": 10,
    "start_time": "2023-03-16T20:08:37.898Z"
   },
   {
    "duration": 940,
    "start_time": "2023-03-16T20:08:50.526Z"
   },
   {
    "duration": 906,
    "start_time": "2023-03-16T20:09:23.475Z"
   },
   {
    "duration": 4,
    "start_time": "2023-03-16T20:09:26.951Z"
   },
   {
    "duration": 6,
    "start_time": "2023-03-16T20:09:45.895Z"
   },
   {
    "duration": 6,
    "start_time": "2023-03-16T20:10:23.457Z"
   },
   {
    "duration": 18,
    "start_time": "2023-03-16T20:10:26.255Z"
   },
   {
    "duration": 5,
    "start_time": "2023-03-16T20:10:34.247Z"
   },
   {
    "duration": 6,
    "start_time": "2023-03-16T20:10:36.439Z"
   },
   {
    "duration": 4,
    "start_time": "2023-03-16T20:10:38.876Z"
   },
   {
    "duration": 6,
    "start_time": "2023-03-16T20:10:46.969Z"
   },
   {
    "duration": 4,
    "start_time": "2023-03-16T20:10:54.691Z"
   },
   {
    "duration": 6,
    "start_time": "2023-03-16T20:10:56.434Z"
   },
   {
    "duration": 5,
    "start_time": "2023-03-16T20:11:00.006Z"
   },
   {
    "duration": 6,
    "start_time": "2023-03-16T20:11:05.183Z"
   },
   {
    "duration": 10,
    "start_time": "2023-03-16T20:12:35.931Z"
   },
   {
    "duration": 5,
    "start_time": "2023-03-16T20:12:44.709Z"
   },
   {
    "duration": 5,
    "start_time": "2023-03-16T20:12:45.212Z"
   },
   {
    "duration": 5,
    "start_time": "2023-03-16T20:16:06.941Z"
   },
   {
    "duration": 6,
    "start_time": "2023-03-16T20:16:07.806Z"
   },
   {
    "duration": 2668,
    "start_time": "2023-03-16T20:16:08.723Z"
   },
   {
    "duration": 4,
    "start_time": "2023-03-16T20:16:14.003Z"
   },
   {
    "duration": 5,
    "start_time": "2023-03-16T20:16:56.063Z"
   },
   {
    "duration": 4,
    "start_time": "2023-03-16T20:17:28.711Z"
   },
   {
    "duration": 24,
    "start_time": "2023-03-16T20:17:48.236Z"
   },
   {
    "duration": 4,
    "start_time": "2023-03-16T20:17:50.009Z"
   },
   {
    "duration": 12,
    "start_time": "2023-03-16T20:24:28.379Z"
   },
   {
    "duration": 646,
    "start_time": "2023-03-16T20:24:32.539Z"
   },
   {
    "duration": 11,
    "start_time": "2023-03-16T20:24:53.148Z"
   },
   {
    "duration": 671,
    "start_time": "2023-03-16T20:28:52.971Z"
   },
   {
    "duration": 1187,
    "start_time": "2023-03-16T20:29:13.543Z"
   },
   {
    "duration": 102,
    "start_time": "2023-03-16T20:29:14.732Z"
   },
   {
    "duration": 17,
    "start_time": "2023-03-16T20:29:14.836Z"
   },
   {
    "duration": 4,
    "start_time": "2023-03-16T20:29:14.855Z"
   },
   {
    "duration": 86,
    "start_time": "2023-03-16T20:29:14.861Z"
   },
   {
    "duration": 85,
    "start_time": "2023-03-16T20:29:14.949Z"
   },
   {
    "duration": 2067,
    "start_time": "2023-03-16T20:29:15.035Z"
   },
   {
    "duration": 10,
    "start_time": "2023-03-16T20:29:17.104Z"
   },
   {
    "duration": 961,
    "start_time": "2023-03-16T20:29:17.116Z"
   },
   {
    "duration": 14,
    "start_time": "2023-03-16T20:29:18.079Z"
   },
   {
    "duration": 36,
    "start_time": "2023-03-16T20:29:18.094Z"
   },
   {
    "duration": 20,
    "start_time": "2023-03-16T20:29:18.131Z"
   },
   {
    "duration": 4,
    "start_time": "2023-03-16T20:29:18.152Z"
   },
   {
    "duration": 8,
    "start_time": "2023-03-16T20:29:18.158Z"
   },
   {
    "duration": 6,
    "start_time": "2023-03-16T20:29:18.167Z"
   },
   {
    "duration": 35,
    "start_time": "2023-03-16T20:29:18.175Z"
   },
   {
    "duration": 10,
    "start_time": "2023-03-16T20:29:18.212Z"
   },
   {
    "duration": 4,
    "start_time": "2023-03-16T20:29:18.224Z"
   },
   {
    "duration": 5,
    "start_time": "2023-03-16T20:29:18.230Z"
   },
   {
    "duration": 7,
    "start_time": "2023-03-16T20:29:18.236Z"
   },
   {
    "duration": 6,
    "start_time": "2023-03-16T20:29:18.245Z"
   },
   {
    "duration": 3658,
    "start_time": "2023-03-16T20:29:18.253Z"
   },
   {
    "duration": 4,
    "start_time": "2023-03-16T20:29:21.913Z"
   },
   {
    "duration": 9,
    "start_time": "2023-03-16T20:29:21.918Z"
   },
   {
    "duration": 22,
    "start_time": "2023-03-16T20:29:21.929Z"
   },
   {
    "duration": 5,
    "start_time": "2023-03-16T20:29:21.952Z"
   },
   {
    "duration": 6,
    "start_time": "2023-03-16T20:29:21.958Z"
   },
   {
    "duration": 31,
    "start_time": "2023-03-16T20:29:21.966Z"
   },
   {
    "duration": 13,
    "start_time": "2023-03-16T20:29:22.000Z"
   },
   {
    "duration": 5,
    "start_time": "2023-03-16T20:29:22.014Z"
   },
   {
    "duration": 6,
    "start_time": "2023-03-16T20:29:22.021Z"
   },
   {
    "duration": 13,
    "start_time": "2023-03-16T20:29:22.028Z"
   },
   {
    "duration": 9,
    "start_time": "2023-03-16T20:29:22.043Z"
   },
   {
    "duration": 7,
    "start_time": "2023-03-16T20:29:22.053Z"
   },
   {
    "duration": 4,
    "start_time": "2023-03-16T20:29:22.061Z"
   },
   {
    "duration": 9,
    "start_time": "2023-03-16T20:29:22.066Z"
   },
   {
    "duration": 38,
    "start_time": "2023-03-16T20:29:22.077Z"
   },
   {
    "duration": 7,
    "start_time": "2023-03-16T20:29:22.116Z"
   },
   {
    "duration": 10,
    "start_time": "2023-03-16T20:29:22.124Z"
   },
   {
    "duration": 1142,
    "start_time": "2023-03-16T20:29:22.135Z"
   },
   {
    "duration": 12,
    "start_time": "2023-03-16T20:29:23.285Z"
   },
   {
    "duration": 26,
    "start_time": "2023-03-16T20:29:23.298Z"
   },
   {
    "duration": 35,
    "start_time": "2023-03-16T20:29:23.326Z"
   },
   {
    "duration": 7,
    "start_time": "2023-03-16T20:29:23.362Z"
   },
   {
    "duration": 39,
    "start_time": "2023-03-16T20:29:23.370Z"
   },
   {
    "duration": 17,
    "start_time": "2023-03-16T20:29:23.410Z"
   },
   {
    "duration": 4,
    "start_time": "2023-03-16T20:29:23.428Z"
   },
   {
    "duration": 12,
    "start_time": "2023-03-16T20:29:23.433Z"
   },
   {
    "duration": 7,
    "start_time": "2023-03-16T20:29:23.447Z"
   },
   {
    "duration": 7,
    "start_time": "2023-03-16T20:29:23.456Z"
   },
   {
    "duration": 14,
    "start_time": "2023-03-16T20:29:23.464Z"
   },
   {
    "duration": 63,
    "start_time": "2023-03-16T20:29:23.479Z"
   },
   {
    "duration": 43,
    "start_time": "2023-03-16T20:29:23.543Z"
   },
   {
    "duration": 31,
    "start_time": "2023-03-16T20:29:23.588Z"
   },
   {
    "duration": 29,
    "start_time": "2023-03-16T20:29:23.621Z"
   },
   {
    "duration": 7,
    "start_time": "2023-03-16T20:29:23.652Z"
   },
   {
    "duration": 163,
    "start_time": "2023-03-16T20:29:23.661Z"
   },
   {
    "duration": 0,
    "start_time": "2023-03-16T20:29:23.826Z"
   },
   {
    "duration": 0,
    "start_time": "2023-03-16T20:29:23.827Z"
   },
   {
    "duration": 0,
    "start_time": "2023-03-16T20:29:23.827Z"
   },
   {
    "duration": 0,
    "start_time": "2023-03-16T20:29:23.829Z"
   },
   {
    "duration": 0,
    "start_time": "2023-03-16T20:29:23.830Z"
   },
   {
    "duration": 0,
    "start_time": "2023-03-16T20:29:23.831Z"
   },
   {
    "duration": 0,
    "start_time": "2023-03-16T20:29:23.832Z"
   },
   {
    "duration": 0,
    "start_time": "2023-03-16T20:29:23.832Z"
   },
   {
    "duration": 0,
    "start_time": "2023-03-16T20:29:23.833Z"
   },
   {
    "duration": 0,
    "start_time": "2023-03-16T20:29:23.834Z"
   },
   {
    "duration": 0,
    "start_time": "2023-03-16T20:29:23.835Z"
   },
   {
    "duration": 0,
    "start_time": "2023-03-16T20:29:23.835Z"
   },
   {
    "duration": 0,
    "start_time": "2023-03-16T20:29:23.836Z"
   },
   {
    "duration": 0,
    "start_time": "2023-03-16T20:29:23.837Z"
   },
   {
    "duration": 0,
    "start_time": "2023-03-16T20:29:23.838Z"
   },
   {
    "duration": 0,
    "start_time": "2023-03-16T20:29:23.839Z"
   },
   {
    "duration": 0,
    "start_time": "2023-03-16T20:29:23.840Z"
   },
   {
    "duration": 0,
    "start_time": "2023-03-16T20:29:23.842Z"
   },
   {
    "duration": 0,
    "start_time": "2023-03-16T20:29:23.843Z"
   },
   {
    "duration": 0,
    "start_time": "2023-03-16T20:29:23.844Z"
   },
   {
    "duration": 0,
    "start_time": "2023-03-16T20:29:23.846Z"
   },
   {
    "duration": 0,
    "start_time": "2023-03-16T20:29:23.847Z"
   },
   {
    "duration": 0,
    "start_time": "2023-03-16T20:29:23.848Z"
   },
   {
    "duration": 0,
    "start_time": "2023-03-16T20:29:23.879Z"
   },
   {
    "duration": 0,
    "start_time": "2023-03-16T20:29:23.880Z"
   },
   {
    "duration": 0,
    "start_time": "2023-03-16T20:29:23.880Z"
   },
   {
    "duration": 0,
    "start_time": "2023-03-16T20:29:23.881Z"
   },
   {
    "duration": 0,
    "start_time": "2023-03-16T20:29:23.882Z"
   },
   {
    "duration": 0,
    "start_time": "2023-03-16T20:29:23.883Z"
   },
   {
    "duration": 0,
    "start_time": "2023-03-16T20:29:23.884Z"
   },
   {
    "duration": 0,
    "start_time": "2023-03-16T20:29:23.885Z"
   },
   {
    "duration": 0,
    "start_time": "2023-03-16T20:29:23.885Z"
   },
   {
    "duration": 0,
    "start_time": "2023-03-16T20:29:23.886Z"
   },
   {
    "duration": 0,
    "start_time": "2023-03-16T20:29:23.886Z"
   },
   {
    "duration": 0,
    "start_time": "2023-03-16T20:29:23.887Z"
   },
   {
    "duration": 0,
    "start_time": "2023-03-16T20:29:23.887Z"
   },
   {
    "duration": 0,
    "start_time": "2023-03-16T20:29:23.888Z"
   },
   {
    "duration": 6,
    "start_time": "2023-03-16T20:30:06.214Z"
   },
   {
    "duration": 7,
    "start_time": "2023-03-16T20:30:56.679Z"
   },
   {
    "duration": 6,
    "start_time": "2023-03-16T20:30:59.003Z"
   },
   {
    "duration": 6,
    "start_time": "2023-03-16T20:31:35.599Z"
   },
   {
    "duration": 1049,
    "start_time": "2023-03-16T20:32:22.679Z"
   },
   {
    "duration": 99,
    "start_time": "2023-03-16T20:32:23.730Z"
   },
   {
    "duration": 19,
    "start_time": "2023-03-16T20:32:23.830Z"
   },
   {
    "duration": 5,
    "start_time": "2023-03-16T20:32:23.851Z"
   },
   {
    "duration": 40,
    "start_time": "2023-03-16T20:32:23.858Z"
   },
   {
    "duration": 89,
    "start_time": "2023-03-16T20:32:23.900Z"
   },
   {
    "duration": 1773,
    "start_time": "2023-03-16T20:32:23.997Z"
   },
   {
    "duration": 12,
    "start_time": "2023-03-16T20:32:25.772Z"
   },
   {
    "duration": 1090,
    "start_time": "2023-03-16T20:32:25.785Z"
   },
   {
    "duration": 14,
    "start_time": "2023-03-16T20:32:26.880Z"
   },
   {
    "duration": 11,
    "start_time": "2023-03-16T20:32:26.896Z"
   },
   {
    "duration": 21,
    "start_time": "2023-03-16T20:32:26.908Z"
   },
   {
    "duration": 4,
    "start_time": "2023-03-16T20:32:26.931Z"
   },
   {
    "duration": 5,
    "start_time": "2023-03-16T20:32:26.937Z"
   },
   {
    "duration": 5,
    "start_time": "2023-03-16T20:32:26.943Z"
   },
   {
    "duration": 5,
    "start_time": "2023-03-16T20:32:26.949Z"
   },
   {
    "duration": 34,
    "start_time": "2023-03-16T20:32:26.955Z"
   },
   {
    "duration": 14,
    "start_time": "2023-03-16T20:32:27.001Z"
   },
   {
    "duration": 11,
    "start_time": "2023-03-16T20:32:27.016Z"
   },
   {
    "duration": 13,
    "start_time": "2023-03-16T20:32:27.029Z"
   },
   {
    "duration": 11,
    "start_time": "2023-03-16T20:32:27.043Z"
   },
   {
    "duration": 2442,
    "start_time": "2023-03-16T20:32:27.056Z"
   },
   {
    "duration": 5,
    "start_time": "2023-03-16T20:32:29.500Z"
   },
   {
    "duration": 9,
    "start_time": "2023-03-16T20:32:29.506Z"
   },
   {
    "duration": 8,
    "start_time": "2023-03-16T20:32:29.516Z"
   },
   {
    "duration": 10,
    "start_time": "2023-03-16T20:32:29.525Z"
   },
   {
    "duration": 7,
    "start_time": "2023-03-16T20:32:29.536Z"
   },
   {
    "duration": 35,
    "start_time": "2023-03-16T20:32:29.547Z"
   },
   {
    "duration": 4,
    "start_time": "2023-03-16T20:32:29.584Z"
   },
   {
    "duration": 5,
    "start_time": "2023-03-16T20:32:32.753Z"
   },
   {
    "duration": 4,
    "start_time": "2023-03-16T20:32:33.418Z"
   },
   {
    "duration": 4,
    "start_time": "2023-03-16T20:33:22.557Z"
   },
   {
    "duration": 5,
    "start_time": "2023-03-16T20:33:23.881Z"
   },
   {
    "duration": 5,
    "start_time": "2023-03-16T20:33:31.528Z"
   },
   {
    "duration": 6,
    "start_time": "2023-03-16T20:33:34.691Z"
   },
   {
    "duration": 8,
    "start_time": "2023-03-16T20:33:36.174Z"
   },
   {
    "duration": 4,
    "start_time": "2023-03-16T20:34:40.873Z"
   },
   {
    "duration": 4,
    "start_time": "2023-03-16T20:34:41.305Z"
   },
   {
    "duration": 7,
    "start_time": "2023-03-16T20:34:44.842Z"
   },
   {
    "duration": 4,
    "start_time": "2023-03-16T20:34:49.756Z"
   },
   {
    "duration": 5,
    "start_time": "2023-03-16T20:34:52.670Z"
   },
   {
    "duration": 988,
    "start_time": "2023-03-16T20:35:13.876Z"
   },
   {
    "duration": 4,
    "start_time": "2023-03-16T20:35:15.703Z"
   },
   {
    "duration": 5,
    "start_time": "2023-03-16T20:35:16.637Z"
   },
   {
    "duration": 27,
    "start_time": "2023-03-16T20:38:06.743Z"
   },
   {
    "duration": 27,
    "start_time": "2023-03-16T20:48:08.434Z"
   },
   {
    "duration": 7,
    "start_time": "2023-03-16T20:48:22.319Z"
   },
   {
    "duration": 5,
    "start_time": "2023-03-16T20:48:24.119Z"
   },
   {
    "duration": 7,
    "start_time": "2023-03-16T20:48:33.439Z"
   },
   {
    "duration": 4,
    "start_time": "2023-03-16T20:48:40.067Z"
   },
   {
    "duration": 5,
    "start_time": "2023-03-16T20:48:42.187Z"
   },
   {
    "duration": 6,
    "start_time": "2023-03-16T20:49:35.363Z"
   },
   {
    "duration": 3,
    "start_time": "2023-03-16T20:49:42.446Z"
   },
   {
    "duration": 10,
    "start_time": "2023-03-16T20:49:46.258Z"
   },
   {
    "duration": 3,
    "start_time": "2023-03-16T20:51:12.884Z"
   },
   {
    "duration": 10,
    "start_time": "2023-03-16T20:51:15.913Z"
   },
   {
    "duration": 7,
    "start_time": "2023-03-16T20:51:16.661Z"
   },
   {
    "duration": 3,
    "start_time": "2023-03-16T20:52:09.266Z"
   },
   {
    "duration": 9,
    "start_time": "2023-03-16T20:52:10.011Z"
   },
   {
    "duration": 8,
    "start_time": "2023-03-16T20:52:10.638Z"
   },
   {
    "duration": 19,
    "start_time": "2023-03-16T20:53:39.854Z"
   },
   {
    "duration": 7,
    "start_time": "2023-03-16T20:53:45.562Z"
   },
   {
    "duration": 19,
    "start_time": "2023-03-16T20:54:25.351Z"
   },
   {
    "duration": 7,
    "start_time": "2023-03-16T20:55:19.452Z"
   },
   {
    "duration": 33,
    "start_time": "2023-03-16T20:55:26.154Z"
   },
   {
    "duration": 7,
    "start_time": "2023-03-16T20:56:41.692Z"
   },
   {
    "duration": 106,
    "start_time": "2023-03-16T20:57:28.943Z"
   },
   {
    "duration": 4,
    "start_time": "2023-03-16T20:57:33.831Z"
   },
   {
    "duration": 34,
    "start_time": "2023-03-16T20:57:34.523Z"
   },
   {
    "duration": 36,
    "start_time": "2023-03-16T20:58:10.950Z"
   },
   {
    "duration": 15,
    "start_time": "2023-03-16T20:59:08.891Z"
   },
   {
    "duration": 24,
    "start_time": "2023-03-16T20:59:23.915Z"
   },
   {
    "duration": 7,
    "start_time": "2023-03-16T20:59:24.612Z"
   },
   {
    "duration": 3,
    "start_time": "2023-03-16T20:59:38.084Z"
   },
   {
    "duration": 29,
    "start_time": "2023-03-16T20:59:39.669Z"
   },
   {
    "duration": 10,
    "start_time": "2023-03-16T20:59:57.931Z"
   },
   {
    "duration": 13,
    "start_time": "2023-03-16T20:59:58.692Z"
   },
   {
    "duration": 12,
    "start_time": "2023-03-16T21:00:13.199Z"
   },
   {
    "duration": 11,
    "start_time": "2023-03-16T21:01:12.828Z"
   },
   {
    "duration": 12,
    "start_time": "2023-03-16T21:01:13.365Z"
   },
   {
    "duration": 3,
    "start_time": "2023-03-16T21:01:16.427Z"
   },
   {
    "duration": 4,
    "start_time": "2023-03-16T21:02:16.041Z"
   },
   {
    "duration": 5,
    "start_time": "2023-03-16T21:02:16.605Z"
   },
   {
    "duration": 8,
    "start_time": "2023-03-16T21:07:31.530Z"
   },
   {
    "duration": 3,
    "start_time": "2023-03-16T21:08:39.919Z"
   },
   {
    "duration": 280,
    "start_time": "2023-03-16T21:08:41.782Z"
   },
   {
    "duration": 5,
    "start_time": "2023-03-16T21:08:43.109Z"
   },
   {
    "duration": 3,
    "start_time": "2023-03-16T21:09:33.698Z"
   },
   {
    "duration": 8,
    "start_time": "2023-03-16T21:12:03.923Z"
   },
   {
    "duration": 4,
    "start_time": "2023-03-16T21:12:06.207Z"
   },
   {
    "duration": 7,
    "start_time": "2023-03-16T21:12:52.927Z"
   },
   {
    "duration": 4,
    "start_time": "2023-03-16T21:13:26.574Z"
   },
   {
    "duration": 7,
    "start_time": "2023-03-16T21:13:27.207Z"
   },
   {
    "duration": 3,
    "start_time": "2023-03-16T21:13:57.555Z"
   },
   {
    "duration": 8,
    "start_time": "2023-03-16T21:15:09.565Z"
   },
   {
    "duration": 5,
    "start_time": "2023-03-16T21:15:24.073Z"
   },
   {
    "duration": 5,
    "start_time": "2023-03-16T21:15:56.734Z"
   },
   {
    "duration": 48,
    "start_time": "2023-03-17T07:41:51.907Z"
   },
   {
    "duration": 1253,
    "start_time": "2023-03-17T07:41:58.560Z"
   },
   {
    "duration": 150,
    "start_time": "2023-03-17T07:41:59.815Z"
   },
   {
    "duration": 16,
    "start_time": "2023-03-17T07:41:59.966Z"
   },
   {
    "duration": 3,
    "start_time": "2023-03-17T07:41:59.984Z"
   },
   {
    "duration": 22,
    "start_time": "2023-03-17T07:41:59.989Z"
   },
   {
    "duration": 82,
    "start_time": "2023-03-17T07:42:00.012Z"
   },
   {
    "duration": 1765,
    "start_time": "2023-03-17T07:42:00.097Z"
   },
   {
    "duration": 8,
    "start_time": "2023-03-17T07:42:01.864Z"
   },
   {
    "duration": 1033,
    "start_time": "2023-03-17T07:42:01.873Z"
   },
   {
    "duration": 4,
    "start_time": "2023-03-17T07:42:02.908Z"
   },
   {
    "duration": 15,
    "start_time": "2023-03-17T07:42:02.913Z"
   },
   {
    "duration": 34,
    "start_time": "2023-03-17T07:42:02.929Z"
   },
   {
    "duration": 5,
    "start_time": "2023-03-17T07:42:02.965Z"
   },
   {
    "duration": 5,
    "start_time": "2023-03-17T07:42:02.971Z"
   },
   {
    "duration": 4,
    "start_time": "2023-03-17T07:42:02.978Z"
   },
   {
    "duration": 13,
    "start_time": "2023-03-17T07:42:02.984Z"
   },
   {
    "duration": 4,
    "start_time": "2023-03-17T07:42:02.999Z"
   },
   {
    "duration": 15,
    "start_time": "2023-03-17T07:42:03.005Z"
   },
   {
    "duration": 20,
    "start_time": "2023-03-17T07:42:03.022Z"
   },
   {
    "duration": 6,
    "start_time": "2023-03-17T07:42:03.043Z"
   },
   {
    "duration": 11,
    "start_time": "2023-03-17T07:42:03.051Z"
   },
   {
    "duration": 2557,
    "start_time": "2023-03-17T07:42:03.064Z"
   },
   {
    "duration": 4,
    "start_time": "2023-03-17T07:42:05.622Z"
   },
   {
    "duration": 17,
    "start_time": "2023-03-17T07:42:05.627Z"
   },
   {
    "duration": 14,
    "start_time": "2023-03-17T07:42:05.646Z"
   },
   {
    "duration": 6,
    "start_time": "2023-03-17T07:42:05.661Z"
   },
   {
    "duration": 6,
    "start_time": "2023-03-17T07:42:05.669Z"
   },
   {
    "duration": 38,
    "start_time": "2023-03-17T07:42:05.680Z"
   },
   {
    "duration": 5,
    "start_time": "2023-03-17T07:42:05.720Z"
   },
   {
    "duration": 4,
    "start_time": "2023-03-17T07:42:05.727Z"
   },
   {
    "duration": 5,
    "start_time": "2023-03-17T07:42:05.740Z"
   },
   {
    "duration": 24,
    "start_time": "2023-03-17T07:42:05.746Z"
   },
   {
    "duration": 14,
    "start_time": "2023-03-17T07:42:05.772Z"
   },
   {
    "duration": 8,
    "start_time": "2023-03-17T07:42:05.788Z"
   },
   {
    "duration": 5,
    "start_time": "2023-03-17T07:42:05.797Z"
   },
   {
    "duration": 10,
    "start_time": "2023-03-17T07:42:05.804Z"
   },
   {
    "duration": 7,
    "start_time": "2023-03-17T07:42:05.815Z"
   },
   {
    "duration": 8,
    "start_time": "2023-03-17T07:42:05.823Z"
   },
   {
    "duration": 9,
    "start_time": "2023-03-17T07:42:05.833Z"
   },
   {
    "duration": 9,
    "start_time": "2023-03-17T07:42:05.844Z"
   },
   {
    "duration": 1182,
    "start_time": "2023-03-17T07:42:05.854Z"
   },
   {
    "duration": 4,
    "start_time": "2023-03-17T07:42:07.038Z"
   },
   {
    "duration": 38,
    "start_time": "2023-03-17T07:42:07.044Z"
   },
   {
    "duration": 8,
    "start_time": "2023-03-17T07:42:07.084Z"
   },
   {
    "duration": 19,
    "start_time": "2023-03-17T07:42:07.093Z"
   },
   {
    "duration": 14,
    "start_time": "2023-03-17T07:42:07.114Z"
   },
   {
    "duration": 4,
    "start_time": "2023-03-17T07:42:07.129Z"
   },
   {
    "duration": 8,
    "start_time": "2023-03-17T07:42:07.135Z"
   },
   {
    "duration": 5,
    "start_time": "2023-03-17T07:42:07.145Z"
   },
   {
    "duration": 3,
    "start_time": "2023-03-17T07:42:07.151Z"
   },
   {
    "duration": 16,
    "start_time": "2023-03-17T07:42:07.156Z"
   },
   {
    "duration": 7,
    "start_time": "2023-03-17T07:42:07.173Z"
   },
   {
    "duration": 30,
    "start_time": "2023-03-17T07:42:07.182Z"
   },
   {
    "duration": 28,
    "start_time": "2023-03-17T07:42:07.214Z"
   },
   {
    "duration": 40,
    "start_time": "2023-03-17T07:42:07.243Z"
   },
   {
    "duration": 5,
    "start_time": "2023-03-17T07:42:07.284Z"
   },
   {
    "duration": 37,
    "start_time": "2023-03-17T07:42:07.291Z"
   },
   {
    "duration": 19,
    "start_time": "2023-03-17T07:42:07.330Z"
   },
   {
    "duration": 27,
    "start_time": "2023-03-17T07:42:07.350Z"
   },
   {
    "duration": 8,
    "start_time": "2023-03-17T07:42:07.378Z"
   },
   {
    "duration": 3,
    "start_time": "2023-03-17T07:42:07.388Z"
   },
   {
    "duration": 23,
    "start_time": "2023-03-17T07:42:07.392Z"
   },
   {
    "duration": 31,
    "start_time": "2023-03-17T07:42:07.417Z"
   },
   {
    "duration": 11,
    "start_time": "2023-03-17T07:42:07.449Z"
   },
   {
    "duration": 13,
    "start_time": "2023-03-17T07:42:07.461Z"
   },
   {
    "duration": 3,
    "start_time": "2023-03-17T07:42:07.476Z"
   },
   {
    "duration": 6,
    "start_time": "2023-03-17T07:42:07.480Z"
   },
   {
    "duration": 9,
    "start_time": "2023-03-17T07:42:07.487Z"
   },
   {
    "duration": 3,
    "start_time": "2023-03-17T07:42:07.497Z"
   },
   {
    "duration": 315,
    "start_time": "2023-03-17T07:42:07.501Z"
   },
   {
    "duration": 5,
    "start_time": "2023-03-17T07:42:07.817Z"
   },
   {
    "duration": 19,
    "start_time": "2023-03-17T07:42:07.823Z"
   },
   {
    "duration": 3,
    "start_time": "2023-03-17T07:42:07.843Z"
   },
   {
    "duration": 20,
    "start_time": "2023-03-17T07:42:07.848Z"
   },
   {
    "duration": 3,
    "start_time": "2023-03-17T07:42:07.869Z"
   },
   {
    "duration": 6,
    "start_time": "2023-03-17T07:42:07.873Z"
   },
   {
    "duration": 5,
    "start_time": "2023-03-17T07:42:07.880Z"
   },
   {
    "duration": 175,
    "start_time": "2023-03-17T07:42:11.455Z"
   },
   {
    "duration": 157,
    "start_time": "2023-03-17T07:44:12.322Z"
   },
   {
    "duration": 70,
    "start_time": "2023-03-17T07:46:30.667Z"
   },
   {
    "duration": 196,
    "start_time": "2023-03-17T07:46:39.098Z"
   },
   {
    "duration": 207,
    "start_time": "2023-03-17T07:47:38.184Z"
   },
   {
    "duration": 155,
    "start_time": "2023-03-17T07:48:06.607Z"
   },
   {
    "duration": 130,
    "start_time": "2023-03-17T07:49:24.377Z"
   },
   {
    "duration": 172,
    "start_time": "2023-03-17T07:50:16.032Z"
   },
   {
    "duration": 247,
    "start_time": "2023-03-17T07:50:26.435Z"
   },
   {
    "duration": 8,
    "start_time": "2023-03-17T07:53:29.368Z"
   },
   {
    "duration": 5,
    "start_time": "2023-03-17T08:13:53.295Z"
   },
   {
    "duration": 13,
    "start_time": "2023-03-17T08:14:26.831Z"
   },
   {
    "duration": 9,
    "start_time": "2023-03-17T08:14:44.130Z"
   },
   {
    "duration": 140,
    "start_time": "2023-03-17T08:15:33.230Z"
   },
   {
    "duration": 140,
    "start_time": "2023-03-17T08:17:20.676Z"
   },
   {
    "duration": 142,
    "start_time": "2023-03-17T08:17:58.986Z"
   },
   {
    "duration": 123,
    "start_time": "2023-03-17T08:21:37.682Z"
   },
   {
    "duration": 145,
    "start_time": "2023-03-17T08:22:38.740Z"
   },
   {
    "duration": 202,
    "start_time": "2023-03-17T08:23:58.647Z"
   },
   {
    "duration": 130,
    "start_time": "2023-03-17T08:24:40.354Z"
   },
   {
    "duration": 119,
    "start_time": "2023-03-17T08:24:48.728Z"
   },
   {
    "duration": 16,
    "start_time": "2023-03-17T08:33:28.096Z"
   },
   {
    "duration": 243,
    "start_time": "2023-03-17T08:34:41.473Z"
   },
   {
    "duration": 407,
    "start_time": "2023-03-17T08:34:56.451Z"
   },
   {
    "duration": 10,
    "start_time": "2023-03-17T08:43:52.191Z"
   },
   {
    "duration": 216,
    "start_time": "2023-03-17T08:44:02.083Z"
   },
   {
    "duration": 296,
    "start_time": "2023-03-17T08:44:24.819Z"
   },
   {
    "duration": 4,
    "start_time": "2023-03-17T08:46:04.728Z"
   },
   {
    "duration": 323,
    "start_time": "2023-03-17T08:46:08.645Z"
   },
   {
    "duration": 127,
    "start_time": "2023-03-17T08:48:16.582Z"
   },
   {
    "duration": 219,
    "start_time": "2023-03-17T08:51:38.146Z"
   },
   {
    "duration": 755,
    "start_time": "2023-03-17T08:51:46.456Z"
   },
   {
    "duration": 170,
    "start_time": "2023-03-17T08:51:51.296Z"
   },
   {
    "duration": 4,
    "start_time": "2023-03-17T08:52:54.087Z"
   },
   {
    "duration": 4,
    "start_time": "2023-03-17T08:52:55.342Z"
   },
   {
    "duration": 8,
    "start_time": "2023-03-17T09:00:27.910Z"
   },
   {
    "duration": 5,
    "start_time": "2023-03-17T09:03:14.489Z"
   },
   {
    "duration": 4,
    "start_time": "2023-03-17T09:04:01.439Z"
   },
   {
    "duration": 1103,
    "start_time": "2023-03-17T09:10:42.317Z"
   },
   {
    "duration": 1258,
    "start_time": "2023-03-17T09:10:55.812Z"
   },
   {
    "duration": 14,
    "start_time": "2023-03-17T09:11:44.453Z"
   },
   {
    "duration": 160,
    "start_time": "2023-03-17T09:11:56.770Z"
   },
   {
    "duration": 15,
    "start_time": "2023-03-17T09:13:42.404Z"
   },
   {
    "duration": 157,
    "start_time": "2023-03-17T09:13:58.379Z"
   },
   {
    "duration": 34,
    "start_time": "2023-03-17T09:14:18.503Z"
   },
   {
    "duration": 19,
    "start_time": "2023-03-17T09:15:44.210Z"
   },
   {
    "duration": 28,
    "start_time": "2023-03-17T09:16:04.964Z"
   },
   {
    "duration": 9,
    "start_time": "2023-03-17T09:16:34.620Z"
   },
   {
    "duration": 10,
    "start_time": "2023-03-17T09:16:45.488Z"
   },
   {
    "duration": 15,
    "start_time": "2023-03-17T09:16:59.572Z"
   },
   {
    "duration": 7,
    "start_time": "2023-03-17T09:17:30.245Z"
   },
   {
    "duration": 18,
    "start_time": "2023-03-17T09:18:57.728Z"
   },
   {
    "duration": 13,
    "start_time": "2023-03-17T09:19:21.118Z"
   },
   {
    "duration": 6,
    "start_time": "2023-03-17T09:21:01.985Z"
   },
   {
    "duration": 7,
    "start_time": "2023-03-17T09:21:09.687Z"
   },
   {
    "duration": 9,
    "start_time": "2023-03-17T09:23:19.148Z"
   },
   {
    "duration": 20,
    "start_time": "2023-03-17T09:28:43.921Z"
   },
   {
    "duration": 13,
    "start_time": "2023-03-17T09:29:33.545Z"
   },
   {
    "duration": 16,
    "start_time": "2023-03-17T09:29:45.844Z"
   },
   {
    "duration": 23,
    "start_time": "2023-03-17T09:30:02.449Z"
   },
   {
    "duration": 7,
    "start_time": "2023-03-17T09:31:31.459Z"
   },
   {
    "duration": 13,
    "start_time": "2023-03-17T09:31:39.000Z"
   },
   {
    "duration": 7,
    "start_time": "2023-03-17T09:32:11.783Z"
   },
   {
    "duration": 14,
    "start_time": "2023-03-17T09:34:13.907Z"
   },
   {
    "duration": 70,
    "start_time": "2023-03-17T09:35:26.432Z"
   },
   {
    "duration": 12,
    "start_time": "2023-03-17T09:35:35.092Z"
   },
   {
    "duration": 13,
    "start_time": "2023-03-17T09:36:18.656Z"
   },
   {
    "duration": 12,
    "start_time": "2023-03-17T09:36:28.803Z"
   },
   {
    "duration": 17,
    "start_time": "2023-03-17T09:36:51.858Z"
   },
   {
    "duration": 65,
    "start_time": "2023-03-17T10:21:41.849Z"
   },
   {
    "duration": 13,
    "start_time": "2023-03-17T10:21:57.003Z"
   },
   {
    "duration": 24,
    "start_time": "2023-03-17T10:22:54.010Z"
   },
   {
    "duration": 33,
    "start_time": "2023-03-17T10:29:53.080Z"
   },
   {
    "duration": 32,
    "start_time": "2023-03-17T10:32:11.534Z"
   },
   {
    "duration": 9,
    "start_time": "2023-03-17T10:41:54.049Z"
   },
   {
    "duration": 126,
    "start_time": "2023-03-17T10:42:10.875Z"
   },
   {
    "duration": 122,
    "start_time": "2023-03-17T10:43:35.400Z"
   },
   {
    "duration": 120,
    "start_time": "2023-03-17T10:44:07.909Z"
   },
   {
    "duration": 133,
    "start_time": "2023-03-17T10:44:21.700Z"
   },
   {
    "duration": 124,
    "start_time": "2023-03-17T10:44:42.309Z"
   },
   {
    "duration": 124,
    "start_time": "2023-03-17T10:52:40.193Z"
   },
   {
    "duration": 138,
    "start_time": "2023-03-17T10:53:54.083Z"
   },
   {
    "duration": 139,
    "start_time": "2023-03-17T10:55:24.360Z"
   },
   {
    "duration": 144,
    "start_time": "2023-03-17T10:57:51.359Z"
   },
   {
    "duration": 166,
    "start_time": "2023-03-17T10:57:56.136Z"
   },
   {
    "duration": 120,
    "start_time": "2023-03-17T10:58:41.261Z"
   },
   {
    "duration": 281,
    "start_time": "2023-03-17T10:58:46.030Z"
   },
   {
    "duration": 122,
    "start_time": "2023-03-17T10:58:50.828Z"
   },
   {
    "duration": 123,
    "start_time": "2023-03-17T10:59:15.590Z"
   },
   {
    "duration": 126,
    "start_time": "2023-03-17T11:00:14.599Z"
   },
   {
    "duration": 129,
    "start_time": "2023-03-17T11:00:19.177Z"
   },
   {
    "duration": 131,
    "start_time": "2023-03-17T11:00:22.469Z"
   },
   {
    "duration": 144,
    "start_time": "2023-03-17T11:00:30.902Z"
   },
   {
    "duration": 170,
    "start_time": "2023-03-17T11:00:35.427Z"
   },
   {
    "duration": 22,
    "start_time": "2023-03-17T11:02:44.898Z"
   },
   {
    "duration": 155,
    "start_time": "2023-03-17T11:02:57.455Z"
   },
   {
    "duration": 147,
    "start_time": "2023-03-17T11:03:49.566Z"
   },
   {
    "duration": 14,
    "start_time": "2023-03-17T11:04:19.604Z"
   },
   {
    "duration": 131,
    "start_time": "2023-03-17T11:05:08.107Z"
   },
   {
    "duration": 84,
    "start_time": "2023-03-17T11:22:17.552Z"
   },
   {
    "duration": 33,
    "start_time": "2023-03-17T11:23:24.000Z"
   },
   {
    "duration": 9,
    "start_time": "2023-03-17T11:24:08.659Z"
   },
   {
    "duration": 1430,
    "start_time": "2023-03-17T11:24:29.874Z"
   },
   {
    "duration": 2,
    "start_time": "2023-03-17T11:29:33.057Z"
   },
   {
    "duration": 2,
    "start_time": "2023-03-17T11:29:38.425Z"
   },
   {
    "duration": 136,
    "start_time": "2023-03-17T11:32:18.231Z"
   },
   {
    "duration": 154,
    "start_time": "2023-03-17T11:32:23.159Z"
   },
   {
    "duration": 128,
    "start_time": "2023-03-17T11:32:28.705Z"
   },
   {
    "duration": 158,
    "start_time": "2023-03-17T11:32:32.400Z"
   },
   {
    "duration": 140,
    "start_time": "2023-03-17T11:32:40.846Z"
   },
   {
    "duration": 147,
    "start_time": "2023-03-17T11:33:27.313Z"
   },
   {
    "duration": 148,
    "start_time": "2023-03-17T11:34:07.762Z"
   },
   {
    "duration": 148,
    "start_time": "2023-03-17T11:34:29.337Z"
   },
   {
    "duration": 147,
    "start_time": "2023-03-17T11:34:33.455Z"
   },
   {
    "duration": 141,
    "start_time": "2023-03-17T11:34:48.396Z"
   },
   {
    "duration": 140,
    "start_time": "2023-03-17T11:35:14.228Z"
   },
   {
    "duration": 21,
    "start_time": "2023-03-17T11:39:47.878Z"
   },
   {
    "duration": 11,
    "start_time": "2023-03-17T11:41:32.199Z"
   },
   {
    "duration": 145,
    "start_time": "2023-03-17T11:41:37.835Z"
   },
   {
    "duration": 1152,
    "start_time": "2023-03-17T11:45:14.240Z"
   },
   {
    "duration": 108,
    "start_time": "2023-03-17T11:45:15.394Z"
   },
   {
    "duration": 21,
    "start_time": "2023-03-17T11:45:15.504Z"
   },
   {
    "duration": 3,
    "start_time": "2023-03-17T11:45:15.539Z"
   },
   {
    "duration": 47,
    "start_time": "2023-03-17T11:45:15.544Z"
   },
   {
    "duration": 70,
    "start_time": "2023-03-17T11:45:15.592Z"
   },
   {
    "duration": 1895,
    "start_time": "2023-03-17T11:45:15.663Z"
   },
   {
    "duration": 10,
    "start_time": "2023-03-17T11:45:17.560Z"
   },
   {
    "duration": 1001,
    "start_time": "2023-03-17T11:45:17.571Z"
   },
   {
    "duration": 4,
    "start_time": "2023-03-17T11:45:18.576Z"
   },
   {
    "duration": 5,
    "start_time": "2023-03-17T11:45:18.582Z"
   },
   {
    "duration": 21,
    "start_time": "2023-03-17T11:45:18.589Z"
   },
   {
    "duration": 28,
    "start_time": "2023-03-17T11:45:18.612Z"
   },
   {
    "duration": 5,
    "start_time": "2023-03-17T11:45:18.642Z"
   },
   {
    "duration": 5,
    "start_time": "2023-03-17T11:45:18.648Z"
   },
   {
    "duration": 5,
    "start_time": "2023-03-17T11:45:18.655Z"
   },
   {
    "duration": 5,
    "start_time": "2023-03-17T11:45:18.662Z"
   },
   {
    "duration": 8,
    "start_time": "2023-03-17T11:45:18.668Z"
   },
   {
    "duration": 13,
    "start_time": "2023-03-17T11:45:18.677Z"
   },
   {
    "duration": 15,
    "start_time": "2023-03-17T11:45:18.692Z"
   },
   {
    "duration": 7,
    "start_time": "2023-03-17T11:45:18.740Z"
   },
   {
    "duration": 2623,
    "start_time": "2023-03-17T11:45:18.748Z"
   },
   {
    "duration": 4,
    "start_time": "2023-03-17T11:45:21.373Z"
   },
   {
    "duration": 8,
    "start_time": "2023-03-17T11:45:21.379Z"
   },
   {
    "duration": 13,
    "start_time": "2023-03-17T11:45:21.389Z"
   },
   {
    "duration": 27,
    "start_time": "2023-03-17T11:45:21.404Z"
   },
   {
    "duration": 11,
    "start_time": "2023-03-17T11:45:21.433Z"
   },
   {
    "duration": 35,
    "start_time": "2023-03-17T11:45:21.450Z"
   },
   {
    "duration": 4,
    "start_time": "2023-03-17T11:45:21.487Z"
   },
   {
    "duration": 10,
    "start_time": "2023-03-17T11:45:21.493Z"
   },
   {
    "duration": 8,
    "start_time": "2023-03-17T11:45:21.504Z"
   },
   {
    "duration": 29,
    "start_time": "2023-03-17T11:45:21.514Z"
   },
   {
    "duration": 8,
    "start_time": "2023-03-17T11:45:21.544Z"
   },
   {
    "duration": 10,
    "start_time": "2023-03-17T11:45:21.554Z"
   },
   {
    "duration": 13,
    "start_time": "2023-03-17T11:45:21.565Z"
   },
   {
    "duration": 8,
    "start_time": "2023-03-17T11:45:21.579Z"
   },
   {
    "duration": 8,
    "start_time": "2023-03-17T11:45:21.589Z"
   },
   {
    "duration": 10,
    "start_time": "2023-03-17T11:45:21.598Z"
   },
   {
    "duration": 4,
    "start_time": "2023-03-17T11:45:21.610Z"
   },
   {
    "duration": 8,
    "start_time": "2023-03-17T11:45:21.639Z"
   },
   {
    "duration": 1214,
    "start_time": "2023-03-17T11:45:21.648Z"
   },
   {
    "duration": 5,
    "start_time": "2023-03-17T11:45:22.864Z"
   },
   {
    "duration": 31,
    "start_time": "2023-03-17T11:45:22.871Z"
   },
   {
    "duration": 8,
    "start_time": "2023-03-17T11:45:22.903Z"
   },
   {
    "duration": 30,
    "start_time": "2023-03-17T11:45:22.913Z"
   },
   {
    "duration": 10,
    "start_time": "2023-03-17T11:45:22.945Z"
   },
   {
    "duration": 4,
    "start_time": "2023-03-17T11:45:22.956Z"
   },
   {
    "duration": 17,
    "start_time": "2023-03-17T11:45:22.961Z"
   },
   {
    "duration": 10,
    "start_time": "2023-03-17T11:45:22.980Z"
   },
   {
    "duration": 3,
    "start_time": "2023-03-17T11:45:22.991Z"
   },
   {
    "duration": 11,
    "start_time": "2023-03-17T11:45:22.996Z"
   },
   {
    "duration": 31,
    "start_time": "2023-03-17T11:45:23.009Z"
   },
   {
    "duration": 25,
    "start_time": "2023-03-17T11:45:23.041Z"
   },
   {
    "duration": 8,
    "start_time": "2023-03-17T11:45:23.068Z"
   },
   {
    "duration": 26,
    "start_time": "2023-03-17T11:45:23.077Z"
   },
   {
    "duration": 5,
    "start_time": "2023-03-17T11:45:23.104Z"
   },
   {
    "duration": 56,
    "start_time": "2023-03-17T11:45:23.110Z"
   },
   {
    "duration": 20,
    "start_time": "2023-03-17T11:45:23.168Z"
   },
   {
    "duration": 30,
    "start_time": "2023-03-17T11:45:23.190Z"
   },
   {
    "duration": 10,
    "start_time": "2023-03-17T11:45:23.241Z"
   },
   {
    "duration": 3,
    "start_time": "2023-03-17T11:45:23.253Z"
   },
   {
    "duration": 26,
    "start_time": "2023-03-17T11:45:23.258Z"
   },
   {
    "duration": 12,
    "start_time": "2023-03-17T11:45:23.286Z"
   },
   {
    "duration": 43,
    "start_time": "2023-03-17T11:45:23.300Z"
   },
   {
    "duration": 19,
    "start_time": "2023-03-17T11:45:23.346Z"
   },
   {
    "duration": 4,
    "start_time": "2023-03-17T11:45:23.367Z"
   },
   {
    "duration": 9,
    "start_time": "2023-03-17T11:45:23.372Z"
   },
   {
    "duration": 12,
    "start_time": "2023-03-17T11:45:23.382Z"
   },
   {
    "duration": 4,
    "start_time": "2023-03-17T11:45:23.396Z"
   },
   {
    "duration": 329,
    "start_time": "2023-03-17T11:45:23.402Z"
   },
   {
    "duration": 9,
    "start_time": "2023-03-17T11:45:23.732Z"
   },
   {
    "duration": 11,
    "start_time": "2023-03-17T11:45:23.743Z"
   },
   {
    "duration": 4,
    "start_time": "2023-03-17T11:45:23.756Z"
   },
   {
    "duration": 12,
    "start_time": "2023-03-17T11:45:23.763Z"
   },
   {
    "duration": 4,
    "start_time": "2023-03-17T11:45:23.777Z"
   },
   {
    "duration": 6,
    "start_time": "2023-03-17T11:45:23.783Z"
   },
   {
    "duration": 6,
    "start_time": "2023-03-17T11:45:23.790Z"
   },
   {
    "duration": 218,
    "start_time": "2023-03-17T11:45:23.798Z"
   },
   {
    "duration": 206,
    "start_time": "2023-03-17T11:45:24.018Z"
   },
   {
    "duration": 232,
    "start_time": "2023-03-17T11:45:24.226Z"
   },
   {
    "duration": 297,
    "start_time": "2023-03-17T11:45:24.460Z"
   },
   {
    "duration": 187,
    "start_time": "2023-03-17T11:45:24.765Z"
   },
   {
    "duration": 145,
    "start_time": "2023-03-17T11:45:24.953Z"
   },
   {
    "duration": 181,
    "start_time": "2023-03-17T11:45:25.099Z"
   },
   {
    "duration": 173,
    "start_time": "2023-03-17T11:45:25.282Z"
   },
   {
    "duration": 162,
    "start_time": "2023-03-17T11:45:25.456Z"
   },
   {
    "duration": 176,
    "start_time": "2023-03-17T11:45:25.620Z"
   },
   {
    "duration": 23,
    "start_time": "2023-03-17T11:45:25.798Z"
   },
   {
    "duration": 561,
    "start_time": "2023-03-17T11:45:25.822Z"
   },
   {
    "duration": 211,
    "start_time": "2023-03-17T11:45:26.384Z"
   },
   {
    "duration": 223,
    "start_time": "2023-03-17T11:45:26.597Z"
   },
   {
    "duration": 12,
    "start_time": "2023-03-17T11:45:26.822Z"
   },
   {
    "duration": 9,
    "start_time": "2023-03-17T11:45:26.840Z"
   },
   {
    "duration": 6,
    "start_time": "2023-03-17T11:45:26.851Z"
   },
   {
    "duration": 3,
    "start_time": "2023-03-17T11:45:26.858Z"
   },
   {
    "duration": 157,
    "start_time": "2023-03-17T11:45:26.863Z"
   },
   {
    "duration": 164,
    "start_time": "2023-03-17T11:45:27.022Z"
   },
   {
    "duration": 169,
    "start_time": "2023-03-17T11:45:27.187Z"
   },
   {
    "duration": 205,
    "start_time": "2023-03-17T11:45:27.357Z"
   },
   {
    "duration": 213,
    "start_time": "2023-03-17T11:45:27.564Z"
   },
   {
    "duration": 213,
    "start_time": "2023-03-17T11:45:27.779Z"
   },
   {
    "duration": 195,
    "start_time": "2023-03-17T11:45:27.994Z"
   },
   {
    "duration": 208,
    "start_time": "2023-03-17T11:45:28.191Z"
   },
   {
    "duration": 10,
    "start_time": "2023-03-17T11:45:28.401Z"
   },
   {
    "duration": 64,
    "start_time": "2023-03-17T11:45:28.413Z"
   },
   {
    "duration": 16,
    "start_time": "2023-03-17T11:45:28.479Z"
   },
   {
    "duration": 173,
    "start_time": "2023-03-17T11:45:28.496Z"
   },
   {
    "duration": 143,
    "start_time": "2023-03-17T11:56:58.882Z"
   },
   {
    "duration": 295,
    "start_time": "2023-03-17T11:57:19.517Z"
   },
   {
    "duration": 168,
    "start_time": "2023-03-17T11:57:36.469Z"
   },
   {
    "duration": 119,
    "start_time": "2023-03-17T11:57:57.710Z"
   },
   {
    "duration": 131,
    "start_time": "2023-03-17T11:58:29.061Z"
   },
   {
    "duration": 136,
    "start_time": "2023-03-17T11:59:01.672Z"
   },
   {
    "duration": 144,
    "start_time": "2023-03-17T11:59:18.147Z"
   },
   {
    "duration": 137,
    "start_time": "2023-03-17T11:59:35.968Z"
   },
   {
    "duration": 128,
    "start_time": "2023-03-17T11:59:57.509Z"
   },
   {
    "duration": 159,
    "start_time": "2023-03-17T12:00:16.177Z"
   },
   {
    "duration": 342,
    "start_time": "2023-03-17T12:00:50.523Z"
   },
   {
    "duration": 309,
    "start_time": "2023-03-17T12:02:13.796Z"
   },
   {
    "duration": 180,
    "start_time": "2023-03-17T12:05:39.213Z"
   },
   {
    "duration": 183,
    "start_time": "2023-03-17T12:53:09.330Z"
   },
   {
    "duration": 101,
    "start_time": "2023-03-17T20:12:36.840Z"
   },
   {
    "duration": 3,
    "start_time": "2023-03-18T09:00:54.340Z"
   },
   {
    "duration": 1393,
    "start_time": "2023-03-18T09:01:05.742Z"
   },
   {
    "duration": 160,
    "start_time": "2023-03-18T09:01:07.140Z"
   },
   {
    "duration": 16,
    "start_time": "2023-03-18T09:01:07.301Z"
   },
   {
    "duration": 2,
    "start_time": "2023-03-18T09:01:07.319Z"
   },
   {
    "duration": 25,
    "start_time": "2023-03-18T09:01:07.323Z"
   },
   {
    "duration": 76,
    "start_time": "2023-03-18T09:01:07.349Z"
   },
   {
    "duration": 1959,
    "start_time": "2023-03-18T09:01:07.426Z"
   },
   {
    "duration": 10,
    "start_time": "2023-03-18T09:01:09.387Z"
   },
   {
    "duration": 1067,
    "start_time": "2023-03-18T09:01:09.399Z"
   },
   {
    "duration": 6,
    "start_time": "2023-03-18T09:01:10.469Z"
   },
   {
    "duration": 6,
    "start_time": "2023-03-18T09:01:10.477Z"
   },
   {
    "duration": 26,
    "start_time": "2023-03-18T09:01:10.485Z"
   },
   {
    "duration": 5,
    "start_time": "2023-03-18T09:01:10.513Z"
   },
   {
    "duration": 25,
    "start_time": "2023-03-18T09:01:10.519Z"
   },
   {
    "duration": 17,
    "start_time": "2023-03-18T09:01:10.545Z"
   },
   {
    "duration": 7,
    "start_time": "2023-03-18T09:01:10.564Z"
   },
   {
    "duration": 5,
    "start_time": "2023-03-18T09:01:10.573Z"
   },
   {
    "duration": 7,
    "start_time": "2023-03-18T09:01:10.580Z"
   },
   {
    "duration": 16,
    "start_time": "2023-03-18T09:01:10.589Z"
   },
   {
    "duration": 9,
    "start_time": "2023-03-18T09:01:10.606Z"
   },
   {
    "duration": 6,
    "start_time": "2023-03-18T09:01:10.616Z"
   },
   {
    "duration": 2949,
    "start_time": "2023-03-18T09:01:10.624Z"
   },
   {
    "duration": 5,
    "start_time": "2023-03-18T09:01:13.575Z"
   },
   {
    "duration": 6,
    "start_time": "2023-03-18T09:01:13.582Z"
   },
   {
    "duration": 6,
    "start_time": "2023-03-18T09:01:13.589Z"
   },
   {
    "duration": 6,
    "start_time": "2023-03-18T09:04:04.060Z"
   },
   {
    "duration": 6,
    "start_time": "2023-03-18T09:04:56.028Z"
   },
   {
    "duration": 5,
    "start_time": "2023-03-18T09:09:23.938Z"
   },
   {
    "duration": 4,
    "start_time": "2023-03-18T09:09:46.133Z"
   },
   {
    "duration": 2,
    "start_time": "2023-03-18T09:10:08.868Z"
   },
   {
    "duration": 2,
    "start_time": "2023-03-18T09:10:12.392Z"
   },
   {
    "duration": 2,
    "start_time": "2023-03-18T09:10:19.062Z"
   },
   {
    "duration": 2,
    "start_time": "2023-03-18T09:10:21.192Z"
   },
   {
    "duration": 2,
    "start_time": "2023-03-18T09:10:23.956Z"
   },
   {
    "duration": 2,
    "start_time": "2023-03-18T09:10:29.421Z"
   },
   {
    "duration": 5,
    "start_time": "2023-03-18T09:10:46.938Z"
   },
   {
    "duration": 5,
    "start_time": "2023-03-18T09:10:58.461Z"
   },
   {
    "duration": 2,
    "start_time": "2023-03-18T09:35:13.033Z"
   },
   {
    "duration": 5,
    "start_time": "2023-03-18T09:35:13.642Z"
   },
   {
    "duration": 109,
    "start_time": "2023-03-18T09:38:18.057Z"
   },
   {
    "duration": 17,
    "start_time": "2023-03-18T09:39:01.054Z"
   },
   {
    "duration": 3,
    "start_time": "2023-03-18T09:39:13.698Z"
   },
   {
    "duration": 96,
    "start_time": "2023-03-18T09:39:13.704Z"
   },
   {
    "duration": 40,
    "start_time": "2023-03-18T09:39:13.802Z"
   },
   {
    "duration": 3,
    "start_time": "2023-03-18T09:39:13.844Z"
   },
   {
    "duration": 23,
    "start_time": "2023-03-18T09:39:13.848Z"
   },
   {
    "duration": 88,
    "start_time": "2023-03-18T09:39:13.873Z"
   },
   {
    "duration": 1996,
    "start_time": "2023-03-18T09:39:13.963Z"
   },
   {
    "duration": 9,
    "start_time": "2023-03-18T09:39:15.961Z"
   },
   {
    "duration": 978,
    "start_time": "2023-03-18T09:39:15.972Z"
   },
   {
    "duration": 4,
    "start_time": "2023-03-18T09:39:16.952Z"
   },
   {
    "duration": 7,
    "start_time": "2023-03-18T09:39:16.957Z"
   },
   {
    "duration": 21,
    "start_time": "2023-03-18T09:39:16.965Z"
   },
   {
    "duration": 4,
    "start_time": "2023-03-18T09:39:16.988Z"
   },
   {
    "duration": 4,
    "start_time": "2023-03-18T09:39:16.994Z"
   },
   {
    "duration": 7,
    "start_time": "2023-03-18T09:39:16.999Z"
   },
   {
    "duration": 5,
    "start_time": "2023-03-18T09:39:17.040Z"
   },
   {
    "duration": 9,
    "start_time": "2023-03-18T09:39:17.046Z"
   },
   {
    "duration": 10,
    "start_time": "2023-03-18T09:39:17.056Z"
   },
   {
    "duration": 11,
    "start_time": "2023-03-18T09:39:17.067Z"
   },
   {
    "duration": 16,
    "start_time": "2023-03-18T09:39:17.079Z"
   },
   {
    "duration": 5,
    "start_time": "2023-03-18T09:39:17.097Z"
   },
   {
    "duration": 3065,
    "start_time": "2023-03-18T09:39:17.103Z"
   },
   {
    "duration": 4,
    "start_time": "2023-03-18T09:39:20.169Z"
   },
   {
    "duration": 4,
    "start_time": "2023-03-18T09:39:20.177Z"
   },
   {
    "duration": 12,
    "start_time": "2023-03-18T09:39:20.182Z"
   },
   {
    "duration": 25,
    "start_time": "2023-03-18T09:39:20.195Z"
   },
   {
    "duration": 6,
    "start_time": "2023-03-18T09:39:20.222Z"
   },
   {
    "duration": 5,
    "start_time": "2023-03-18T09:39:20.230Z"
   },
   {
    "duration": 5,
    "start_time": "2023-03-18T09:39:20.242Z"
   },
   {
    "duration": 25,
    "start_time": "2023-03-18T09:39:20.249Z"
   },
   {
    "duration": 7,
    "start_time": "2023-03-18T09:39:20.276Z"
   },
   {
    "duration": 6,
    "start_time": "2023-03-18T09:39:20.285Z"
   },
   {
    "duration": 5,
    "start_time": "2023-03-18T09:39:20.292Z"
   },
   {
    "duration": 7,
    "start_time": "2023-03-18T09:39:20.299Z"
   },
   {
    "duration": 7,
    "start_time": "2023-03-18T09:39:20.307Z"
   },
   {
    "duration": 4,
    "start_time": "2023-03-18T09:39:20.316Z"
   },
   {
    "duration": 6,
    "start_time": "2023-03-18T09:39:20.321Z"
   },
   {
    "duration": 11,
    "start_time": "2023-03-18T09:39:20.329Z"
   },
   {
    "duration": 5,
    "start_time": "2023-03-18T09:39:20.342Z"
   },
   {
    "duration": 6,
    "start_time": "2023-03-18T09:39:20.349Z"
   },
   {
    "duration": 4,
    "start_time": "2023-03-18T09:39:20.357Z"
   },
   {
    "duration": 4,
    "start_time": "2023-03-18T09:39:20.362Z"
   },
   {
    "duration": 6,
    "start_time": "2023-03-18T09:39:20.368Z"
   },
   {
    "duration": 13,
    "start_time": "2023-03-18T09:39:20.376Z"
   },
   {
    "duration": 5,
    "start_time": "2023-03-18T09:39:20.391Z"
   },
   {
    "duration": 46,
    "start_time": "2023-03-18T09:39:20.397Z"
   },
   {
    "duration": 1418,
    "start_time": "2023-03-18T09:39:20.444Z"
   },
   {
    "duration": 5,
    "start_time": "2023-03-18T09:39:21.863Z"
   },
   {
    "duration": 34,
    "start_time": "2023-03-18T09:39:21.869Z"
   },
   {
    "duration": 8,
    "start_time": "2023-03-18T09:39:21.905Z"
   },
   {
    "duration": 27,
    "start_time": "2023-03-18T09:39:21.915Z"
   },
   {
    "duration": 15,
    "start_time": "2023-03-18T09:39:21.944Z"
   },
   {
    "duration": 4,
    "start_time": "2023-03-18T09:39:21.961Z"
   },
   {
    "duration": 12,
    "start_time": "2023-03-18T09:39:21.967Z"
   },
   {
    "duration": 6,
    "start_time": "2023-03-18T09:39:25.925Z"
   },
   {
    "duration": 4,
    "start_time": "2023-03-18T09:40:06.417Z"
   },
   {
    "duration": 4,
    "start_time": "2023-03-18T09:40:40.432Z"
   },
   {
    "duration": 3,
    "start_time": "2023-03-18T09:40:44.624Z"
   },
   {
    "duration": 4,
    "start_time": "2023-03-18T09:40:50.173Z"
   },
   {
    "duration": 3,
    "start_time": "2023-03-18T09:41:10.643Z"
   },
   {
    "duration": 13,
    "start_time": "2023-03-18T09:44:42.820Z"
   },
   {
    "duration": 12,
    "start_time": "2023-03-18T09:44:57.503Z"
   },
   {
    "duration": 75,
    "start_time": "2023-03-18T09:45:05.196Z"
   },
   {
    "duration": 13,
    "start_time": "2023-03-18T09:46:40.754Z"
   },
   {
    "duration": 12,
    "start_time": "2023-03-18T09:47:40.615Z"
   },
   {
    "duration": 15,
    "start_time": "2023-03-18T09:48:05.103Z"
   },
   {
    "duration": 359,
    "start_time": "2023-03-18T09:48:22.062Z"
   },
   {
    "duration": 369,
    "start_time": "2023-03-18T09:48:45.371Z"
   },
   {
    "duration": 16,
    "start_time": "2023-03-18T09:54:28.540Z"
   },
   {
    "duration": 299,
    "start_time": "2023-03-18T09:54:37.178Z"
   },
   {
    "duration": 42,
    "start_time": "2023-03-18T10:09:57.748Z"
   },
   {
    "duration": 156,
    "start_time": "2023-03-18T10:10:12.024Z"
   },
   {
    "duration": 40,
    "start_time": "2023-03-18T10:10:24.453Z"
   },
   {
    "duration": 10,
    "start_time": "2023-03-18T10:13:35.738Z"
   },
   {
    "duration": 193,
    "start_time": "2023-03-18T10:13:46.650Z"
   },
   {
    "duration": 252,
    "start_time": "2023-03-18T10:15:07.680Z"
   },
   {
    "duration": 190,
    "start_time": "2023-03-18T10:15:26.113Z"
   },
   {
    "duration": 9,
    "start_time": "2023-03-18T10:16:24.838Z"
   },
   {
    "duration": 195,
    "start_time": "2023-03-18T10:16:29.547Z"
   },
   {
    "duration": 6,
    "start_time": "2023-03-18T10:16:42.699Z"
   },
   {
    "duration": 9,
    "start_time": "2023-03-18T10:18:34.696Z"
   },
   {
    "duration": 204,
    "start_time": "2023-03-18T10:18:38.501Z"
   },
   {
    "duration": 3,
    "start_time": "2023-03-18T10:20:42.297Z"
   },
   {
    "duration": 4,
    "start_time": "2023-03-18T10:20:42.798Z"
   },
   {
    "duration": 11,
    "start_time": "2023-03-18T10:25:16.390Z"
   },
   {
    "duration": 12,
    "start_time": "2023-03-18T10:26:21.081Z"
   },
   {
    "duration": 186,
    "start_time": "2023-03-18T10:26:21.680Z"
   },
   {
    "duration": 11,
    "start_time": "2023-03-18T10:27:28.631Z"
   },
   {
    "duration": 185,
    "start_time": "2023-03-18T10:27:29.232Z"
   },
   {
    "duration": 233,
    "start_time": "2023-03-18T10:27:43.426Z"
   },
   {
    "duration": 1179,
    "start_time": "2023-03-18T10:27:53.883Z"
   },
   {
    "duration": 92,
    "start_time": "2023-03-18T10:27:55.065Z"
   },
   {
    "duration": 15,
    "start_time": "2023-03-18T10:27:55.159Z"
   },
   {
    "duration": 3,
    "start_time": "2023-03-18T10:27:55.175Z"
   },
   {
    "duration": 26,
    "start_time": "2023-03-18T10:27:55.180Z"
   },
   {
    "duration": 96,
    "start_time": "2023-03-18T10:27:55.207Z"
   },
   {
    "duration": 1852,
    "start_time": "2023-03-18T10:27:55.305Z"
   },
   {
    "duration": 9,
    "start_time": "2023-03-18T10:27:57.160Z"
   },
   {
    "duration": 1043,
    "start_time": "2023-03-18T10:27:57.171Z"
   },
   {
    "duration": 4,
    "start_time": "2023-03-18T10:27:58.216Z"
   },
   {
    "duration": 6,
    "start_time": "2023-03-18T10:27:58.221Z"
   },
   {
    "duration": 23,
    "start_time": "2023-03-18T10:27:58.241Z"
   },
   {
    "duration": 5,
    "start_time": "2023-03-18T10:27:58.266Z"
   },
   {
    "duration": 4,
    "start_time": "2023-03-18T10:27:58.274Z"
   },
   {
    "duration": 4,
    "start_time": "2023-03-18T10:27:58.280Z"
   },
   {
    "duration": 5,
    "start_time": "2023-03-18T10:27:58.285Z"
   },
   {
    "duration": 5,
    "start_time": "2023-03-18T10:27:58.291Z"
   },
   {
    "duration": 4,
    "start_time": "2023-03-18T10:27:58.298Z"
   },
   {
    "duration": 4,
    "start_time": "2023-03-18T10:27:58.341Z"
   },
   {
    "duration": 6,
    "start_time": "2023-03-18T10:27:58.347Z"
   },
   {
    "duration": 8,
    "start_time": "2023-03-18T10:27:58.354Z"
   },
   {
    "duration": 2979,
    "start_time": "2023-03-18T10:27:58.363Z"
   },
   {
    "duration": 5,
    "start_time": "2023-03-18T10:28:01.343Z"
   },
   {
    "duration": 24,
    "start_time": "2023-03-18T10:28:01.349Z"
   },
   {
    "duration": 26,
    "start_time": "2023-03-18T10:28:01.374Z"
   },
   {
    "duration": 22,
    "start_time": "2023-03-18T10:28:01.402Z"
   },
   {
    "duration": 26,
    "start_time": "2023-03-18T10:28:01.426Z"
   },
   {
    "duration": 30,
    "start_time": "2023-03-18T10:28:01.454Z"
   },
   {
    "duration": 40,
    "start_time": "2023-03-18T10:28:01.485Z"
   },
   {
    "duration": 33,
    "start_time": "2023-03-18T10:28:01.526Z"
   },
   {
    "duration": 28,
    "start_time": "2023-03-18T10:28:01.561Z"
   },
   {
    "duration": 21,
    "start_time": "2023-03-18T10:28:01.591Z"
   },
   {
    "duration": 25,
    "start_time": "2023-03-18T10:28:01.613Z"
   },
   {
    "duration": 14,
    "start_time": "2023-03-18T10:28:01.639Z"
   },
   {
    "duration": 8,
    "start_time": "2023-03-18T10:28:01.655Z"
   },
   {
    "duration": 9,
    "start_time": "2023-03-18T10:28:01.665Z"
   },
   {
    "duration": 19,
    "start_time": "2023-03-18T10:28:01.676Z"
   },
   {
    "duration": 12,
    "start_time": "2023-03-18T10:28:01.696Z"
   },
   {
    "duration": 21,
    "start_time": "2023-03-18T10:28:01.710Z"
   },
   {
    "duration": 11,
    "start_time": "2023-03-18T10:28:01.733Z"
   },
   {
    "duration": 10,
    "start_time": "2023-03-18T10:28:01.750Z"
   },
   {
    "duration": 19,
    "start_time": "2023-03-18T10:28:01.762Z"
   },
   {
    "duration": 30,
    "start_time": "2023-03-18T10:28:01.783Z"
   },
   {
    "duration": 40,
    "start_time": "2023-03-18T10:28:01.815Z"
   },
   {
    "duration": 19,
    "start_time": "2023-03-18T10:28:01.856Z"
   },
   {
    "duration": 17,
    "start_time": "2023-03-18T10:28:01.877Z"
   },
   {
    "duration": 1193,
    "start_time": "2023-03-18T10:28:01.895Z"
   },
   {
    "duration": 4,
    "start_time": "2023-03-18T10:28:03.089Z"
   },
   {
    "duration": 38,
    "start_time": "2023-03-18T10:28:03.094Z"
   },
   {
    "duration": 448,
    "start_time": "2023-03-18T10:28:03.133Z"
   },
   {
    "duration": 0,
    "start_time": "2023-03-18T10:28:03.583Z"
   },
   {
    "duration": 0,
    "start_time": "2023-03-18T10:28:03.584Z"
   },
   {
    "duration": 0,
    "start_time": "2023-03-18T10:28:03.585Z"
   },
   {
    "duration": 0,
    "start_time": "2023-03-18T10:28:03.586Z"
   },
   {
    "duration": 0,
    "start_time": "2023-03-18T10:28:03.587Z"
   },
   {
    "duration": 0,
    "start_time": "2023-03-18T10:28:03.588Z"
   },
   {
    "duration": 0,
    "start_time": "2023-03-18T10:28:03.589Z"
   },
   {
    "duration": 0,
    "start_time": "2023-03-18T10:28:03.591Z"
   },
   {
    "duration": 0,
    "start_time": "2023-03-18T10:28:03.592Z"
   },
   {
    "duration": 0,
    "start_time": "2023-03-18T10:28:03.594Z"
   },
   {
    "duration": 0,
    "start_time": "2023-03-18T10:28:03.595Z"
   },
   {
    "duration": 0,
    "start_time": "2023-03-18T10:28:03.596Z"
   },
   {
    "duration": 0,
    "start_time": "2023-03-18T10:28:03.598Z"
   },
   {
    "duration": 0,
    "start_time": "2023-03-18T10:28:03.599Z"
   },
   {
    "duration": 0,
    "start_time": "2023-03-18T10:28:03.601Z"
   },
   {
    "duration": 0,
    "start_time": "2023-03-18T10:28:03.603Z"
   },
   {
    "duration": 0,
    "start_time": "2023-03-18T10:28:03.604Z"
   },
   {
    "duration": 0,
    "start_time": "2023-03-18T10:28:03.605Z"
   },
   {
    "duration": 0,
    "start_time": "2023-03-18T10:28:03.607Z"
   },
   {
    "duration": 0,
    "start_time": "2023-03-18T10:28:03.608Z"
   },
   {
    "duration": 0,
    "start_time": "2023-03-18T10:28:03.610Z"
   },
   {
    "duration": 0,
    "start_time": "2023-03-18T10:28:03.611Z"
   },
   {
    "duration": 0,
    "start_time": "2023-03-18T10:28:03.613Z"
   },
   {
    "duration": 0,
    "start_time": "2023-03-18T10:28:03.614Z"
   },
   {
    "duration": 0,
    "start_time": "2023-03-18T10:28:03.615Z"
   },
   {
    "duration": 0,
    "start_time": "2023-03-18T10:28:03.617Z"
   },
   {
    "duration": 0,
    "start_time": "2023-03-18T10:28:03.618Z"
   },
   {
    "duration": 0,
    "start_time": "2023-03-18T10:28:03.619Z"
   },
   {
    "duration": 0,
    "start_time": "2023-03-18T10:28:03.641Z"
   },
   {
    "duration": 0,
    "start_time": "2023-03-18T10:28:03.642Z"
   },
   {
    "duration": 0,
    "start_time": "2023-03-18T10:28:03.643Z"
   },
   {
    "duration": 0,
    "start_time": "2023-03-18T10:28:03.644Z"
   },
   {
    "duration": 0,
    "start_time": "2023-03-18T10:28:03.645Z"
   },
   {
    "duration": 0,
    "start_time": "2023-03-18T10:28:03.646Z"
   },
   {
    "duration": 0,
    "start_time": "2023-03-18T10:28:03.647Z"
   },
   {
    "duration": 0,
    "start_time": "2023-03-18T10:28:03.649Z"
   },
   {
    "duration": 0,
    "start_time": "2023-03-18T10:28:03.650Z"
   },
   {
    "duration": 0,
    "start_time": "2023-03-18T10:28:03.651Z"
   },
   {
    "duration": 0,
    "start_time": "2023-03-18T10:28:03.652Z"
   },
   {
    "duration": 0,
    "start_time": "2023-03-18T10:28:03.653Z"
   },
   {
    "duration": 0,
    "start_time": "2023-03-18T10:28:03.654Z"
   },
   {
    "duration": 0,
    "start_time": "2023-03-18T10:28:03.655Z"
   },
   {
    "duration": 0,
    "start_time": "2023-03-18T10:28:03.656Z"
   },
   {
    "duration": 0,
    "start_time": "2023-03-18T10:28:03.657Z"
   },
   {
    "duration": 0,
    "start_time": "2023-03-18T10:28:03.658Z"
   },
   {
    "duration": 0,
    "start_time": "2023-03-18T10:28:03.659Z"
   },
   {
    "duration": 0,
    "start_time": "2023-03-18T10:28:03.660Z"
   },
   {
    "duration": 0,
    "start_time": "2023-03-18T10:28:03.662Z"
   },
   {
    "duration": 0,
    "start_time": "2023-03-18T10:28:03.663Z"
   },
   {
    "duration": 0,
    "start_time": "2023-03-18T10:28:03.664Z"
   },
   {
    "duration": 0,
    "start_time": "2023-03-18T10:28:03.664Z"
   },
   {
    "duration": 0,
    "start_time": "2023-03-18T10:28:03.665Z"
   },
   {
    "duration": 0,
    "start_time": "2023-03-18T10:28:03.666Z"
   },
   {
    "duration": 0,
    "start_time": "2023-03-18T10:28:03.667Z"
   },
   {
    "duration": 0,
    "start_time": "2023-03-18T10:28:03.668Z"
   },
   {
    "duration": 0,
    "start_time": "2023-03-18T10:28:03.669Z"
   },
   {
    "duration": 0,
    "start_time": "2023-03-18T10:28:03.670Z"
   },
   {
    "duration": 0,
    "start_time": "2023-03-18T10:28:03.671Z"
   },
   {
    "duration": 0,
    "start_time": "2023-03-18T10:28:03.672Z"
   },
   {
    "duration": 0,
    "start_time": "2023-03-18T10:28:03.673Z"
   },
   {
    "duration": 0,
    "start_time": "2023-03-18T10:28:03.674Z"
   },
   {
    "duration": 0,
    "start_time": "2023-03-18T10:28:03.675Z"
   },
   {
    "duration": 0,
    "start_time": "2023-03-18T10:28:03.675Z"
   },
   {
    "duration": 0,
    "start_time": "2023-03-18T10:28:03.676Z"
   },
   {
    "duration": 0,
    "start_time": "2023-03-18T10:28:03.741Z"
   },
   {
    "duration": 0,
    "start_time": "2023-03-18T10:28:03.743Z"
   },
   {
    "duration": 0,
    "start_time": "2023-03-18T10:28:03.744Z"
   },
   {
    "duration": 0,
    "start_time": "2023-03-18T10:28:03.746Z"
   },
   {
    "duration": 0,
    "start_time": "2023-03-18T10:28:03.747Z"
   },
   {
    "duration": 7,
    "start_time": "2023-03-18T10:29:03.659Z"
   },
   {
    "duration": 9,
    "start_time": "2023-03-18T10:29:04.494Z"
   },
   {
    "duration": 293,
    "start_time": "2023-03-18T10:29:07.064Z"
   },
   {
    "duration": 192,
    "start_time": "2023-03-18T10:29:08.331Z"
   },
   {
    "duration": 11,
    "start_time": "2023-03-18T10:29:11.222Z"
   },
   {
    "duration": 6,
    "start_time": "2023-03-18T10:29:12.001Z"
   },
   {
    "duration": 9,
    "start_time": "2023-03-18T10:29:12.537Z"
   },
   {
    "duration": 6,
    "start_time": "2023-03-18T10:29:13.129Z"
   },
   {
    "duration": 4,
    "start_time": "2023-03-18T10:29:13.547Z"
   },
   {
    "duration": 5,
    "start_time": "2023-03-18T10:29:20.005Z"
   },
   {
    "duration": 3,
    "start_time": "2023-03-18T10:29:20.536Z"
   },
   {
    "duration": 14,
    "start_time": "2023-03-18T10:29:21.343Z"
   },
   {
    "duration": 9,
    "start_time": "2023-03-18T10:29:21.426Z"
   },
   {
    "duration": 19,
    "start_time": "2023-03-18T10:29:24.717Z"
   },
   {
    "duration": 21,
    "start_time": "2023-03-18T10:29:27.631Z"
   },
   {
    "duration": 8,
    "start_time": "2023-03-18T10:29:28.133Z"
   },
   {
    "duration": 23,
    "start_time": "2023-03-18T10:29:31.148Z"
   },
   {
    "duration": 4,
    "start_time": "2023-03-18T10:29:32.682Z"
   },
   {
    "duration": 46,
    "start_time": "2023-03-18T10:29:34.265Z"
   },
   {
    "duration": 16,
    "start_time": "2023-03-18T10:29:37.274Z"
   },
   {
    "duration": 31,
    "start_time": "2023-03-18T10:29:37.784Z"
   },
   {
    "duration": 12,
    "start_time": "2023-03-18T10:29:38.283Z"
   },
   {
    "duration": 2,
    "start_time": "2023-03-18T10:29:38.824Z"
   },
   {
    "duration": 27,
    "start_time": "2023-03-18T10:29:39.234Z"
   },
   {
    "duration": 2,
    "start_time": "2023-03-18T10:30:12.285Z"
   },
   {
    "duration": 102,
    "start_time": "2023-03-18T10:30:12.290Z"
   },
   {
    "duration": 16,
    "start_time": "2023-03-18T10:30:12.394Z"
   },
   {
    "duration": 4,
    "start_time": "2023-03-18T10:30:12.440Z"
   },
   {
    "duration": 25,
    "start_time": "2023-03-18T10:30:12.447Z"
   },
   {
    "duration": 115,
    "start_time": "2023-03-18T10:30:12.474Z"
   },
   {
    "duration": 1987,
    "start_time": "2023-03-18T10:30:12.591Z"
   },
   {
    "duration": 8,
    "start_time": "2023-03-18T10:30:14.580Z"
   },
   {
    "duration": 966,
    "start_time": "2023-03-18T10:30:14.590Z"
   },
   {
    "duration": 4,
    "start_time": "2023-03-18T10:30:15.558Z"
   },
   {
    "duration": 6,
    "start_time": "2023-03-18T10:30:15.564Z"
   },
   {
    "duration": 24,
    "start_time": "2023-03-18T10:30:15.573Z"
   },
   {
    "duration": 5,
    "start_time": "2023-03-18T10:30:15.598Z"
   },
   {
    "duration": 4,
    "start_time": "2023-03-18T10:30:15.606Z"
   },
   {
    "duration": 5,
    "start_time": "2023-03-18T10:30:15.640Z"
   },
   {
    "duration": 7,
    "start_time": "2023-03-18T10:30:15.647Z"
   },
   {
    "duration": 6,
    "start_time": "2023-03-18T10:30:15.655Z"
   },
   {
    "duration": 12,
    "start_time": "2023-03-18T10:30:15.662Z"
   },
   {
    "duration": 5,
    "start_time": "2023-03-18T10:30:15.675Z"
   },
   {
    "duration": 8,
    "start_time": "2023-03-18T10:30:15.681Z"
   },
   {
    "duration": 19,
    "start_time": "2023-03-18T10:30:15.690Z"
   },
   {
    "duration": 3016,
    "start_time": "2023-03-18T10:30:15.711Z"
   },
   {
    "duration": 15,
    "start_time": "2023-03-18T10:30:18.729Z"
   },
   {
    "duration": 8,
    "start_time": "2023-03-18T10:30:18.746Z"
   },
   {
    "duration": 3,
    "start_time": "2023-03-18T10:30:18.756Z"
   },
   {
    "duration": 9,
    "start_time": "2023-03-18T10:30:18.761Z"
   },
   {
    "duration": 7,
    "start_time": "2023-03-18T10:30:18.772Z"
   },
   {
    "duration": 5,
    "start_time": "2023-03-18T10:30:18.781Z"
   },
   {
    "duration": 5,
    "start_time": "2023-03-18T10:30:18.788Z"
   },
   {
    "duration": 2,
    "start_time": "2023-03-18T10:30:18.795Z"
   },
   {
    "duration": 55,
    "start_time": "2023-03-18T10:30:18.798Z"
   },
   {
    "duration": 9,
    "start_time": "2023-03-18T10:30:18.856Z"
   },
   {
    "duration": 18,
    "start_time": "2023-03-18T10:30:18.867Z"
   },
   {
    "duration": 7,
    "start_time": "2023-03-18T10:30:18.887Z"
   },
   {
    "duration": 12,
    "start_time": "2023-03-18T10:30:18.895Z"
   },
   {
    "duration": 24,
    "start_time": "2023-03-18T10:30:18.909Z"
   },
   {
    "duration": 7,
    "start_time": "2023-03-18T10:30:18.936Z"
   },
   {
    "duration": 6,
    "start_time": "2023-03-18T10:30:18.945Z"
   },
   {
    "duration": 17,
    "start_time": "2023-03-18T10:30:18.954Z"
   },
   {
    "duration": 9,
    "start_time": "2023-03-18T10:30:18.973Z"
   },
   {
    "duration": 7,
    "start_time": "2023-03-18T10:30:18.988Z"
   },
   {
    "duration": 4,
    "start_time": "2023-03-18T10:30:18.997Z"
   },
   {
    "duration": 9,
    "start_time": "2023-03-18T10:30:19.003Z"
   },
   {
    "duration": 10,
    "start_time": "2023-03-18T10:30:19.040Z"
   },
   {
    "duration": 16,
    "start_time": "2023-03-18T10:30:19.052Z"
   },
   {
    "duration": 15,
    "start_time": "2023-03-18T10:30:19.069Z"
   },
   {
    "duration": 1212,
    "start_time": "2023-03-18T10:30:19.085Z"
   },
   {
    "duration": 6,
    "start_time": "2023-03-18T10:30:20.299Z"
   },
   {
    "duration": 45,
    "start_time": "2023-03-18T10:30:20.307Z"
   },
   {
    "duration": 8,
    "start_time": "2023-03-18T10:30:20.354Z"
   },
   {
    "duration": 23,
    "start_time": "2023-03-18T10:30:20.364Z"
   },
   {
    "duration": 224,
    "start_time": "2023-03-18T10:30:20.389Z"
   },
   {
    "duration": 204,
    "start_time": "2023-03-18T10:30:20.615Z"
   },
   {
    "duration": 122,
    "start_time": "2023-03-18T10:30:20.820Z"
   },
   {
    "duration": 7,
    "start_time": "2023-03-18T10:30:20.944Z"
   },
   {
    "duration": 9,
    "start_time": "2023-03-18T10:30:20.953Z"
   },
   {
    "duration": 3,
    "start_time": "2023-03-18T10:30:20.964Z"
   },
   {
    "duration": 9,
    "start_time": "2023-03-18T10:30:20.968Z"
   },
   {
    "duration": 5,
    "start_time": "2023-03-18T10:30:20.979Z"
   },
   {
    "duration": 4,
    "start_time": "2023-03-18T10:30:20.985Z"
   },
   {
    "duration": 21,
    "start_time": "2023-03-18T10:30:20.990Z"
   },
   {
    "duration": 35,
    "start_time": "2023-03-18T10:30:21.012Z"
   },
   {
    "duration": 15,
    "start_time": "2023-03-18T10:30:21.048Z"
   },
   {
    "duration": 21,
    "start_time": "2023-03-18T10:30:21.065Z"
   },
   {
    "duration": 8,
    "start_time": "2023-03-18T10:30:21.087Z"
   },
   {
    "duration": 47,
    "start_time": "2023-03-18T10:30:21.097Z"
   },
   {
    "duration": 5,
    "start_time": "2023-03-18T10:30:21.145Z"
   },
   {
    "duration": 33,
    "start_time": "2023-03-18T10:30:21.152Z"
   },
   {
    "duration": 13,
    "start_time": "2023-03-18T10:30:21.187Z"
   },
   {
    "duration": 49,
    "start_time": "2023-03-18T10:30:21.201Z"
   },
   {
    "duration": 7,
    "start_time": "2023-03-18T10:30:21.252Z"
   },
   {
    "duration": 6,
    "start_time": "2023-03-18T10:30:21.261Z"
   },
   {
    "duration": 29,
    "start_time": "2023-03-18T10:30:21.269Z"
   },
   {
    "duration": 15,
    "start_time": "2023-03-18T10:30:21.300Z"
   },
   {
    "duration": 32,
    "start_time": "2023-03-18T10:30:21.316Z"
   },
   {
    "duration": 15,
    "start_time": "2023-03-18T10:30:21.350Z"
   },
   {
    "duration": 3,
    "start_time": "2023-03-18T10:30:21.367Z"
   },
   {
    "duration": 16,
    "start_time": "2023-03-18T10:30:21.372Z"
   },
   {
    "duration": 4,
    "start_time": "2023-03-18T10:30:21.390Z"
   },
   {
    "duration": 45,
    "start_time": "2023-03-18T10:30:21.396Z"
   },
   {
    "duration": 3,
    "start_time": "2023-03-18T10:30:21.443Z"
   },
   {
    "duration": 317,
    "start_time": "2023-03-18T10:30:21.448Z"
   },
   {
    "duration": 5,
    "start_time": "2023-03-18T10:30:21.767Z"
   },
   {
    "duration": 12,
    "start_time": "2023-03-18T10:30:21.774Z"
   },
   {
    "duration": 4,
    "start_time": "2023-03-18T10:30:21.787Z"
   },
   {
    "duration": 11,
    "start_time": "2023-03-18T10:30:21.792Z"
   },
   {
    "duration": 5,
    "start_time": "2023-03-18T10:30:21.804Z"
   },
   {
    "duration": 31,
    "start_time": "2023-03-18T10:30:21.810Z"
   },
   {
    "duration": 6,
    "start_time": "2023-03-18T10:30:21.843Z"
   },
   {
    "duration": 235,
    "start_time": "2023-03-18T10:30:21.851Z"
   },
   {
    "duration": 225,
    "start_time": "2023-03-18T10:30:22.088Z"
   },
   {
    "duration": 173,
    "start_time": "2023-03-18T10:30:22.315Z"
   },
   {
    "duration": 160,
    "start_time": "2023-03-18T10:30:22.490Z"
   },
   {
    "duration": 159,
    "start_time": "2023-03-18T10:30:22.652Z"
   },
   {
    "duration": 154,
    "start_time": "2023-03-18T10:30:22.813Z"
   },
   {
    "duration": 138,
    "start_time": "2023-03-18T10:30:22.970Z"
   },
   {
    "duration": 294,
    "start_time": "2023-03-18T10:30:23.110Z"
   },
   {
    "duration": 152,
    "start_time": "2023-03-18T10:30:23.406Z"
   },
   {
    "duration": 133,
    "start_time": "2023-03-18T10:30:23.560Z"
   },
   {
    "duration": 355,
    "start_time": "2023-03-18T10:30:23.695Z"
   },
   {
    "duration": 375,
    "start_time": "2023-03-18T10:30:24.053Z"
   },
   {
    "duration": 101,
    "start_time": "2023-03-18T10:30:24.429Z"
   },
   {
    "duration": 197,
    "start_time": "2023-03-18T10:30:24.531Z"
   },
   {
    "duration": 19,
    "start_time": "2023-03-18T10:30:24.730Z"
   },
   {
    "duration": 399,
    "start_time": "2023-03-18T10:30:30.513Z"
   },
   {
    "duration": 1425,
    "start_time": "2023-03-18T10:30:37.362Z"
   },
   {
    "duration": 715,
    "start_time": "2023-03-18T10:30:49.538Z"
   },
   {
    "duration": 5,
    "start_time": "2023-03-18T10:31:05.534Z"
   },
   {
    "duration": 4,
    "start_time": "2023-03-18T10:31:09.802Z"
   },
   {
    "duration": 15,
    "start_time": "2023-03-18T10:31:34.576Z"
   },
   {
    "duration": 918,
    "start_time": "2023-03-18T10:31:36.224Z"
   },
   {
    "duration": 241,
    "start_time": "2023-03-18T10:31:40.609Z"
   },
   {
    "duration": 5,
    "start_time": "2023-03-18T10:31:43.153Z"
   },
   {
    "duration": 4,
    "start_time": "2023-03-18T10:31:45.034Z"
   },
   {
    "duration": 4,
    "start_time": "2023-03-18T10:31:53.946Z"
   },
   {
    "duration": 226,
    "start_time": "2023-03-18T10:32:39.539Z"
   },
   {
    "duration": 228,
    "start_time": "2023-03-18T10:32:54.515Z"
   },
   {
    "duration": 10,
    "start_time": "2023-03-18T10:33:42.048Z"
   },
   {
    "duration": 214,
    "start_time": "2023-03-18T10:33:43.695Z"
   },
   {
    "duration": 427,
    "start_time": "2023-03-18T10:33:51.180Z"
   },
   {
    "duration": 11,
    "start_time": "2023-03-18T10:37:35.371Z"
   },
   {
    "duration": 9,
    "start_time": "2023-03-18T10:37:35.996Z"
   },
   {
    "duration": 85,
    "start_time": "2023-03-18T10:37:43.978Z"
   },
   {
    "duration": 184,
    "start_time": "2023-03-18T10:37:50.729Z"
   },
   {
    "duration": 220,
    "start_time": "2023-03-18T10:37:57.845Z"
   },
   {
    "duration": 171,
    "start_time": "2023-03-18T10:38:07.429Z"
   },
   {
    "duration": 5,
    "start_time": "2023-03-18T10:38:23.781Z"
   },
   {
    "duration": 4,
    "start_time": "2023-03-18T10:38:24.345Z"
   },
   {
    "duration": 2,
    "start_time": "2023-03-18T10:39:01.810Z"
   },
   {
    "duration": 2,
    "start_time": "2023-03-18T10:39:02.323Z"
   },
   {
    "duration": 137,
    "start_time": "2023-03-18T10:39:02.754Z"
   },
   {
    "duration": 145,
    "start_time": "2023-03-18T10:39:04.658Z"
   },
   {
    "duration": 155,
    "start_time": "2023-03-18T10:39:05.086Z"
   },
   {
    "duration": 142,
    "start_time": "2023-03-18T10:39:05.490Z"
   },
   {
    "duration": 134,
    "start_time": "2023-03-18T10:39:05.882Z"
   },
   {
    "duration": 154,
    "start_time": "2023-03-18T10:39:07.906Z"
   },
   {
    "duration": 152,
    "start_time": "2023-03-18T10:39:09.598Z"
   },
   {
    "duration": 149,
    "start_time": "2023-03-18T10:39:10.770Z"
   },
   {
    "duration": 7,
    "start_time": "2023-03-18T10:40:00.837Z"
   },
   {
    "duration": 65,
    "start_time": "2023-03-18T10:40:30.952Z"
   },
   {
    "duration": 46,
    "start_time": "2023-03-18T10:40:42.802Z"
   },
   {
    "duration": 159,
    "start_time": "2023-03-18T10:41:05.053Z"
   },
   {
    "duration": 13,
    "start_time": "2023-03-18T10:41:38.851Z"
   },
   {
    "duration": 239,
    "start_time": "2023-03-18T10:42:08.610Z"
   },
   {
    "duration": 5,
    "start_time": "2023-03-18T10:44:40.898Z"
   },
   {
    "duration": 154,
    "start_time": "2023-03-18T10:44:44.921Z"
   },
   {
    "duration": 1143,
    "start_time": "2023-03-18T11:12:29.334Z"
   },
   {
    "duration": 93,
    "start_time": "2023-03-18T11:12:30.479Z"
   },
   {
    "duration": 15,
    "start_time": "2023-03-18T11:12:30.573Z"
   },
   {
    "duration": 6,
    "start_time": "2023-03-18T11:12:30.591Z"
   },
   {
    "duration": 56,
    "start_time": "2023-03-18T11:12:30.599Z"
   },
   {
    "duration": 82,
    "start_time": "2023-03-18T11:12:30.656Z"
   },
   {
    "duration": 1949,
    "start_time": "2023-03-18T11:12:30.740Z"
   },
   {
    "duration": 9,
    "start_time": "2023-03-18T11:12:32.690Z"
   },
   {
    "duration": 1018,
    "start_time": "2023-03-18T11:12:32.701Z"
   },
   {
    "duration": 4,
    "start_time": "2023-03-18T11:12:33.722Z"
   },
   {
    "duration": 5,
    "start_time": "2023-03-18T11:12:33.740Z"
   },
   {
    "duration": 23,
    "start_time": "2023-03-18T11:12:33.747Z"
   },
   {
    "duration": 4,
    "start_time": "2023-03-18T11:12:33.772Z"
   },
   {
    "duration": 5,
    "start_time": "2023-03-18T11:12:33.777Z"
   },
   {
    "duration": 4,
    "start_time": "2023-03-18T11:12:33.783Z"
   },
   {
    "duration": 6,
    "start_time": "2023-03-18T11:12:33.788Z"
   },
   {
    "duration": 15,
    "start_time": "2023-03-18T11:12:33.796Z"
   },
   {
    "duration": 37,
    "start_time": "2023-03-18T11:12:33.813Z"
   },
   {
    "duration": 28,
    "start_time": "2023-03-18T11:12:33.852Z"
   },
   {
    "duration": 6,
    "start_time": "2023-03-18T11:12:33.881Z"
   },
   {
    "duration": 6,
    "start_time": "2023-03-18T11:12:33.889Z"
   },
   {
    "duration": 2909,
    "start_time": "2023-03-18T11:12:33.897Z"
   },
   {
    "duration": 5,
    "start_time": "2023-03-18T11:12:36.808Z"
   },
   {
    "duration": 9,
    "start_time": "2023-03-18T11:12:36.814Z"
   },
   {
    "duration": 33,
    "start_time": "2023-03-18T11:12:36.824Z"
   },
   {
    "duration": 10,
    "start_time": "2023-03-18T11:12:36.858Z"
   },
   {
    "duration": 74,
    "start_time": "2023-03-18T11:12:36.870Z"
   },
   {
    "duration": 2,
    "start_time": "2023-03-18T11:12:36.949Z"
   },
   {
    "duration": 4,
    "start_time": "2023-03-18T11:12:36.953Z"
   },
   {
    "duration": 5,
    "start_time": "2023-03-18T11:12:36.959Z"
   },
   {
    "duration": 6,
    "start_time": "2023-03-18T11:12:36.965Z"
   },
   {
    "duration": 3,
    "start_time": "2023-03-18T11:12:36.973Z"
   },
   {
    "duration": 5,
    "start_time": "2023-03-18T11:12:36.977Z"
   },
   {
    "duration": 4,
    "start_time": "2023-03-18T11:12:36.984Z"
   },
   {
    "duration": 4,
    "start_time": "2023-03-18T11:12:36.989Z"
   },
   {
    "duration": 8,
    "start_time": "2023-03-18T11:12:36.994Z"
   },
   {
    "duration": 8,
    "start_time": "2023-03-18T11:12:37.003Z"
   },
   {
    "duration": 32,
    "start_time": "2023-03-18T11:12:37.012Z"
   },
   {
    "duration": 5,
    "start_time": "2023-03-18T11:12:37.046Z"
   },
   {
    "duration": 15,
    "start_time": "2023-03-18T11:12:37.053Z"
   },
   {
    "duration": 16,
    "start_time": "2023-03-18T11:12:37.070Z"
   },
   {
    "duration": 6,
    "start_time": "2023-03-18T11:12:37.087Z"
   },
   {
    "duration": 5,
    "start_time": "2023-03-18T11:12:37.095Z"
   },
   {
    "duration": 9,
    "start_time": "2023-03-18T11:12:37.101Z"
   },
   {
    "duration": 8,
    "start_time": "2023-03-18T11:12:37.111Z"
   },
   {
    "duration": 21,
    "start_time": "2023-03-18T11:12:37.121Z"
   },
   {
    "duration": 12,
    "start_time": "2023-03-18T11:12:37.144Z"
   },
   {
    "duration": 1150,
    "start_time": "2023-03-18T11:12:37.158Z"
   },
   {
    "duration": 4,
    "start_time": "2023-03-18T11:12:38.310Z"
   },
   {
    "duration": 41,
    "start_time": "2023-03-18T11:12:38.315Z"
   },
   {
    "duration": 7,
    "start_time": "2023-03-18T11:12:38.358Z"
   },
   {
    "duration": 10,
    "start_time": "2023-03-18T11:12:38.366Z"
   },
   {
    "duration": 285,
    "start_time": "2023-03-18T11:12:38.378Z"
   },
   {
    "duration": 213,
    "start_time": "2023-03-18T11:12:38.664Z"
   },
   {
    "duration": 17,
    "start_time": "2023-03-18T11:12:38.878Z"
   },
   {
    "duration": 7,
    "start_time": "2023-03-18T11:12:38.896Z"
   },
   {
    "duration": 14,
    "start_time": "2023-03-18T11:12:38.906Z"
   },
   {
    "duration": 4,
    "start_time": "2023-03-18T11:12:38.941Z"
   },
   {
    "duration": 8,
    "start_time": "2023-03-18T11:12:38.947Z"
   },
   {
    "duration": 9,
    "start_time": "2023-03-18T11:12:38.957Z"
   },
   {
    "duration": 6,
    "start_time": "2023-03-18T11:12:38.968Z"
   },
   {
    "duration": 19,
    "start_time": "2023-03-18T11:12:38.976Z"
   },
   {
    "duration": 12,
    "start_time": "2023-03-18T11:12:38.997Z"
   },
   {
    "duration": 47,
    "start_time": "2023-03-18T11:12:39.010Z"
   },
   {
    "duration": 27,
    "start_time": "2023-03-18T11:12:39.060Z"
   },
   {
    "duration": 47,
    "start_time": "2023-03-18T11:12:39.089Z"
   },
   {
    "duration": 41,
    "start_time": "2023-03-18T11:12:39.138Z"
   },
   {
    "duration": 5,
    "start_time": "2023-03-18T11:12:39.180Z"
   },
   {
    "duration": 33,
    "start_time": "2023-03-18T11:12:39.186Z"
   },
   {
    "duration": 22,
    "start_time": "2023-03-18T11:12:39.221Z"
   },
   {
    "duration": 26,
    "start_time": "2023-03-18T11:12:39.245Z"
   },
   {
    "duration": 22,
    "start_time": "2023-03-18T11:12:39.273Z"
   },
   {
    "duration": 7,
    "start_time": "2023-03-18T11:12:39.296Z"
   },
   {
    "duration": 25,
    "start_time": "2023-03-18T11:12:39.305Z"
   },
   {
    "duration": 21,
    "start_time": "2023-03-18T11:12:39.332Z"
   },
   {
    "duration": 12,
    "start_time": "2023-03-18T11:12:39.354Z"
   },
   {
    "duration": 21,
    "start_time": "2023-03-18T11:12:39.367Z"
   },
   {
    "duration": 11,
    "start_time": "2023-03-18T11:12:39.389Z"
   },
   {
    "duration": 18,
    "start_time": "2023-03-18T11:12:39.402Z"
   },
   {
    "duration": 21,
    "start_time": "2023-03-18T11:12:39.421Z"
   },
   {
    "duration": 13,
    "start_time": "2023-03-18T11:12:39.444Z"
   },
   {
    "duration": 4,
    "start_time": "2023-03-18T11:12:39.463Z"
   },
   {
    "duration": 377,
    "start_time": "2023-03-18T11:12:39.468Z"
   },
   {
    "duration": 7,
    "start_time": "2023-03-18T11:12:39.847Z"
   },
   {
    "duration": 10,
    "start_time": "2023-03-18T11:12:39.856Z"
   },
   {
    "duration": 5,
    "start_time": "2023-03-18T11:12:39.868Z"
   },
   {
    "duration": 9,
    "start_time": "2023-03-18T11:12:39.875Z"
   },
   {
    "duration": 5,
    "start_time": "2023-03-18T11:12:39.886Z"
   },
   {
    "duration": 9,
    "start_time": "2023-03-18T11:12:39.892Z"
   },
   {
    "duration": 7,
    "start_time": "2023-03-18T11:12:39.941Z"
   },
   {
    "duration": 232,
    "start_time": "2023-03-18T11:12:39.949Z"
   },
   {
    "duration": 208,
    "start_time": "2023-03-18T11:12:40.183Z"
   },
   {
    "duration": 166,
    "start_time": "2023-03-18T11:12:40.392Z"
   },
   {
    "duration": 152,
    "start_time": "2023-03-18T11:12:40.560Z"
   },
   {
    "duration": 151,
    "start_time": "2023-03-18T11:12:40.714Z"
   },
   {
    "duration": 147,
    "start_time": "2023-03-18T11:12:40.867Z"
   },
   {
    "duration": 145,
    "start_time": "2023-03-18T11:12:41.016Z"
   },
   {
    "duration": 167,
    "start_time": "2023-03-18T11:12:41.163Z"
   },
   {
    "duration": 162,
    "start_time": "2023-03-18T11:12:41.331Z"
   },
   {
    "duration": 146,
    "start_time": "2023-03-18T11:12:41.494Z"
   },
   {
    "duration": 477,
    "start_time": "2023-03-18T11:12:41.642Z"
   },
   {
    "duration": 344,
    "start_time": "2023-03-18T11:12:42.121Z"
   },
   {
    "duration": 14,
    "start_time": "2023-03-18T11:12:42.467Z"
   },
   {
    "duration": 112,
    "start_time": "2023-03-18T11:12:42.482Z"
   },
   {
    "duration": 205,
    "start_time": "2023-03-18T11:12:42.596Z"
   },
   {
    "duration": 188,
    "start_time": "2023-03-18T11:12:42.802Z"
   },
   {
    "duration": 6,
    "start_time": "2023-03-18T11:12:42.991Z"
   },
   {
    "duration": 12,
    "start_time": "2023-03-18T11:12:42.998Z"
   },
   {
    "duration": 3,
    "start_time": "2023-03-18T11:12:43.011Z"
   },
   {
    "duration": 4,
    "start_time": "2023-03-18T11:12:43.016Z"
   },
   {
    "duration": 148,
    "start_time": "2023-03-18T11:12:43.040Z"
   },
   {
    "duration": 165,
    "start_time": "2023-03-18T11:12:43.190Z"
   },
   {
    "duration": 274,
    "start_time": "2023-03-18T11:12:43.357Z"
   },
   {
    "duration": 157,
    "start_time": "2023-03-18T11:12:43.633Z"
   },
   {
    "duration": 140,
    "start_time": "2023-03-18T11:12:43.792Z"
   },
   {
    "duration": 164,
    "start_time": "2023-03-18T11:12:43.940Z"
   },
   {
    "duration": 167,
    "start_time": "2023-03-18T11:12:44.106Z"
   },
   {
    "duration": 157,
    "start_time": "2023-03-18T11:12:44.274Z"
   },
   {
    "duration": 12,
    "start_time": "2023-03-18T11:12:44.433Z"
   },
   {
    "duration": 38,
    "start_time": "2023-03-18T11:12:44.447Z"
   },
   {
    "duration": 4,
    "start_time": "2023-03-18T11:12:44.487Z"
   },
   {
    "duration": 172,
    "start_time": "2023-03-18T11:12:44.493Z"
   },
   {
    "duration": 25,
    "start_time": "2023-03-18T11:13:26.991Z"
   },
   {
    "duration": 22,
    "start_time": "2023-03-18T11:13:43.213Z"
   },
   {
    "duration": 4,
    "start_time": "2023-03-18T11:13:52.491Z"
   },
   {
    "duration": 96,
    "start_time": "2023-03-18T11:13:52.818Z"
   },
   {
    "duration": 16,
    "start_time": "2023-03-18T11:13:53.193Z"
   },
   {
    "duration": 3,
    "start_time": "2023-03-18T11:13:53.557Z"
   },
   {
    "duration": 20,
    "start_time": "2023-03-18T11:13:53.965Z"
   },
   {
    "duration": 71,
    "start_time": "2023-03-18T11:13:54.666Z"
   },
   {
    "duration": 1950,
    "start_time": "2023-03-18T11:13:55.367Z"
   },
   {
    "duration": 25,
    "start_time": "2023-03-18T11:13:57.561Z"
   },
   {
    "duration": 1503,
    "start_time": "2024-10-08T19:18:45.504Z"
   },
   {
    "duration": 171,
    "start_time": "2024-10-08T19:18:47.009Z"
   },
   {
    "duration": 17,
    "start_time": "2024-10-08T19:18:47.182Z"
   },
   {
    "duration": 22,
    "start_time": "2024-10-08T19:18:47.202Z"
   },
   {
    "duration": 69,
    "start_time": "2024-10-08T19:18:47.225Z"
   },
   {
    "duration": 135,
    "start_time": "2024-10-08T19:18:47.297Z"
   },
   {
    "duration": 2068,
    "start_time": "2024-10-08T19:18:47.434Z"
   },
   {
    "duration": 26,
    "start_time": "2024-10-08T19:18:49.504Z"
   },
   {
    "duration": 10,
    "start_time": "2024-10-08T19:18:49.531Z"
   },
   {
    "duration": 1216,
    "start_time": "2024-10-08T19:18:49.543Z"
   },
   {
    "duration": 4,
    "start_time": "2024-10-08T19:18:50.761Z"
   },
   {
    "duration": 40,
    "start_time": "2024-10-08T19:18:50.767Z"
   },
   {
    "duration": 65,
    "start_time": "2024-10-08T19:18:50.808Z"
   },
   {
    "duration": 17,
    "start_time": "2024-10-08T19:18:50.875Z"
   },
   {
    "duration": 13,
    "start_time": "2024-10-08T19:18:50.894Z"
   },
   {
    "duration": 37,
    "start_time": "2024-10-08T19:18:50.909Z"
   },
   {
    "duration": 56,
    "start_time": "2024-10-08T19:18:50.948Z"
   },
   {
    "duration": 18,
    "start_time": "2024-10-08T19:18:51.006Z"
   },
   {
    "duration": 29,
    "start_time": "2024-10-08T19:18:51.026Z"
   },
   {
    "duration": 38,
    "start_time": "2024-10-08T19:18:51.057Z"
   },
   {
    "duration": 26,
    "start_time": "2024-10-08T19:18:51.096Z"
   },
   {
    "duration": 36,
    "start_time": "2024-10-08T19:18:51.124Z"
   },
   {
    "duration": 3153,
    "start_time": "2024-10-08T19:18:51.161Z"
   },
   {
    "duration": 5,
    "start_time": "2024-10-08T19:18:54.315Z"
   },
   {
    "duration": 15,
    "start_time": "2024-10-08T19:18:54.322Z"
   },
   {
    "duration": 7,
    "start_time": "2024-10-08T19:18:54.338Z"
   },
   {
    "duration": 16,
    "start_time": "2024-10-08T19:18:54.347Z"
   },
   {
    "duration": 21,
    "start_time": "2024-10-08T19:18:54.370Z"
   },
   {
    "duration": 40,
    "start_time": "2024-10-08T19:18:54.392Z"
   },
   {
    "duration": 13,
    "start_time": "2024-10-08T19:18:54.435Z"
   },
   {
    "duration": 20,
    "start_time": "2024-10-08T19:18:54.450Z"
   },
   {
    "duration": 11,
    "start_time": "2024-10-08T19:18:54.472Z"
   },
   {
    "duration": 12,
    "start_time": "2024-10-08T19:18:54.485Z"
   },
   {
    "duration": 32,
    "start_time": "2024-10-08T19:18:54.499Z"
   },
   {
    "duration": 18,
    "start_time": "2024-10-08T19:18:54.533Z"
   },
   {
    "duration": 29,
    "start_time": "2024-10-08T19:18:54.553Z"
   },
   {
    "duration": 36,
    "start_time": "2024-10-08T19:18:54.584Z"
   },
   {
    "duration": 20,
    "start_time": "2024-10-08T19:18:54.621Z"
   },
   {
    "duration": 1448,
    "start_time": "2024-10-08T19:18:54.643Z"
   },
   {
    "duration": 13,
    "start_time": "2024-10-08T19:18:56.093Z"
   },
   {
    "duration": 33,
    "start_time": "2024-10-08T19:18:56.108Z"
   },
   {
    "duration": 13,
    "start_time": "2024-10-08T19:18:56.143Z"
   },
   {
    "duration": 18,
    "start_time": "2024-10-08T19:18:56.158Z"
   },
   {
    "duration": 323,
    "start_time": "2024-10-08T19:18:56.178Z"
   },
   {
    "duration": 214,
    "start_time": "2024-10-08T19:18:56.505Z"
   },
   {
    "duration": 12,
    "start_time": "2024-10-08T19:18:56.720Z"
   },
   {
    "duration": 12,
    "start_time": "2024-10-08T19:18:56.733Z"
   },
   {
    "duration": 11,
    "start_time": "2024-10-08T19:18:56.747Z"
   },
   {
    "duration": 3,
    "start_time": "2024-10-08T19:18:56.759Z"
   },
   {
    "duration": 4,
    "start_time": "2024-10-08T19:18:56.764Z"
   },
   {
    "duration": 36,
    "start_time": "2024-10-08T19:18:56.770Z"
   },
   {
    "duration": 7,
    "start_time": "2024-10-08T19:18:56.808Z"
   },
   {
    "duration": 25,
    "start_time": "2024-10-08T19:18:56.816Z"
   },
   {
    "duration": 12,
    "start_time": "2024-10-08T19:18:56.843Z"
   },
   {
    "duration": 16,
    "start_time": "2024-10-08T19:18:56.856Z"
   },
   {
    "duration": 42,
    "start_time": "2024-10-08T19:18:56.874Z"
   },
   {
    "duration": 8,
    "start_time": "2024-10-08T19:18:56.918Z"
   },
   {
    "duration": 42,
    "start_time": "2024-10-08T19:18:56.927Z"
   },
   {
    "duration": 4,
    "start_time": "2024-10-08T19:18:56.971Z"
   },
   {
    "duration": 62,
    "start_time": "2024-10-08T19:18:56.977Z"
   },
   {
    "duration": 14,
    "start_time": "2024-10-08T19:18:57.040Z"
   },
   {
    "duration": 31,
    "start_time": "2024-10-08T19:18:57.056Z"
   },
   {
    "duration": 25,
    "start_time": "2024-10-08T19:18:57.088Z"
   },
   {
    "duration": 2,
    "start_time": "2024-10-08T19:18:57.115Z"
   },
   {
    "duration": 29,
    "start_time": "2024-10-08T19:18:57.119Z"
   },
   {
    "duration": 14,
    "start_time": "2024-10-08T19:18:57.150Z"
   },
   {
    "duration": 45,
    "start_time": "2024-10-08T19:18:57.166Z"
   },
   {
    "duration": 26,
    "start_time": "2024-10-08T19:18:57.214Z"
   },
   {
    "duration": 3,
    "start_time": "2024-10-08T19:18:57.242Z"
   },
   {
    "duration": 17,
    "start_time": "2024-10-08T19:18:57.247Z"
   },
   {
    "duration": 4,
    "start_time": "2024-10-08T19:18:57.265Z"
   },
   {
    "duration": 93,
    "start_time": "2024-10-08T19:18:57.271Z"
   },
   {
    "duration": 3,
    "start_time": "2024-10-08T19:18:57.366Z"
   },
   {
    "duration": 409,
    "start_time": "2024-10-08T19:18:57.371Z"
   },
   {
    "duration": 7,
    "start_time": "2024-10-08T19:18:57.781Z"
   },
   {
    "duration": 20,
    "start_time": "2024-10-08T19:18:57.790Z"
   },
   {
    "duration": 5,
    "start_time": "2024-10-08T19:18:57.811Z"
   },
   {
    "duration": 9,
    "start_time": "2024-10-08T19:18:57.817Z"
   },
   {
    "duration": 4,
    "start_time": "2024-10-08T19:18:57.827Z"
   },
   {
    "duration": 6,
    "start_time": "2024-10-08T19:18:57.833Z"
   },
   {
    "duration": 5,
    "start_time": "2024-10-08T19:18:57.840Z"
   },
   {
    "duration": 275,
    "start_time": "2024-10-08T19:18:57.851Z"
   },
   {
    "duration": 222,
    "start_time": "2024-10-08T19:18:58.128Z"
   },
   {
    "duration": 172,
    "start_time": "2024-10-08T19:18:58.352Z"
   },
   {
    "duration": 155,
    "start_time": "2024-10-08T19:18:58.526Z"
   },
   {
    "duration": 169,
    "start_time": "2024-10-08T19:18:58.683Z"
   },
   {
    "duration": 216,
    "start_time": "2024-10-08T19:18:58.854Z"
   },
   {
    "duration": 171,
    "start_time": "2024-10-08T19:18:59.072Z"
   },
   {
    "duration": 172,
    "start_time": "2024-10-08T19:18:59.245Z"
   },
   {
    "duration": 260,
    "start_time": "2024-10-08T19:18:59.419Z"
   },
   {
    "duration": 146,
    "start_time": "2024-10-08T19:18:59.681Z"
   },
   {
    "duration": 382,
    "start_time": "2024-10-08T19:18:59.829Z"
   },
   {
    "duration": 414,
    "start_time": "2024-10-08T19:19:00.213Z"
   },
   {
    "duration": 14,
    "start_time": "2024-10-08T19:19:00.629Z"
   },
   {
    "duration": 114,
    "start_time": "2024-10-08T19:19:00.645Z"
   },
   {
    "duration": 278,
    "start_time": "2024-10-08T19:19:00.762Z"
   },
   {
    "duration": 223,
    "start_time": "2024-10-08T19:19:01.042Z"
   },
   {
    "duration": 5,
    "start_time": "2024-10-08T19:19:01.268Z"
   },
   {
    "duration": 74,
    "start_time": "2024-10-08T19:19:01.275Z"
   },
   {
    "duration": 12,
    "start_time": "2024-10-08T19:19:01.351Z"
   },
   {
    "duration": 8,
    "start_time": "2024-10-08T19:19:01.364Z"
   },
   {
    "duration": 275,
    "start_time": "2024-10-08T19:19:01.374Z"
   },
   {
    "duration": 177,
    "start_time": "2024-10-08T19:19:01.652Z"
   },
   {
    "duration": 162,
    "start_time": "2024-10-08T19:19:01.831Z"
   },
   {
    "duration": 175,
    "start_time": "2024-10-08T19:19:01.995Z"
   },
   {
    "duration": 172,
    "start_time": "2024-10-08T19:19:02.172Z"
   },
   {
    "duration": 193,
    "start_time": "2024-10-08T19:19:02.346Z"
   },
   {
    "duration": 193,
    "start_time": "2024-10-08T19:19:02.540Z"
   },
   {
    "duration": 192,
    "start_time": "2024-10-08T19:19:02.735Z"
   },
   {
    "duration": 12,
    "start_time": "2024-10-08T19:19:02.929Z"
   },
   {
    "duration": 63,
    "start_time": "2024-10-08T19:19:02.942Z"
   },
   {
    "duration": 5,
    "start_time": "2024-10-08T19:19:03.007Z"
   },
   {
    "duration": 183,
    "start_time": "2024-10-08T19:19:03.014Z"
   }
  ],
  "colab": {
   "name": "final_project_4.ipynb",
   "provenance": []
  },
  "kernelspec": {
   "display_name": "Python 3 (ipykernel)",
   "language": "python",
   "name": "python3"
  },
  "language_info": {
   "codemirror_mode": {
    "name": "ipython",
    "version": 3
   },
   "file_extension": ".py",
   "mimetype": "text/x-python",
   "name": "python",
   "nbconvert_exporter": "python",
   "pygments_lexer": "ipython3",
   "version": "3.9.12"
  },
  "toc": {
   "base_numbering": 1,
   "nav_menu": {},
   "number_sections": true,
   "sideBar": true,
   "skip_h1_title": true,
   "title_cell": "Содержание",
   "title_sidebar": "Contents",
   "toc_cell": true,
   "toc_position": {
    "height": "calc(100% - 180px)",
    "left": "10px",
    "top": "150px",
    "width": "293.225px"
   },
   "toc_section_display": true,
   "toc_window_display": true
  }
 },
 "nbformat": 4,
 "nbformat_minor": 1
}
