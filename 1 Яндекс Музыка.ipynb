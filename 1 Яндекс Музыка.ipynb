{
 "cells": [
  {
   "cell_type": "markdown",
   "metadata": {
    "deletable": false,
    "editable": false,
    "id": "E0vqbgi9ay0H"
   },
   "source": [
    "# Яндекс Музыка"
   ]
  },
  {
   "cell_type": "markdown",
   "metadata": {
    "deletable": false,
    "editable": false,
    "id": "VUC88oWjTJw2"
   },
   "source": [
    "Сравнение Москвы и Петербурга окружено мифами. Например:\n",
    " * Москва — мегаполис, подчинённый жёсткому ритму рабочей недели;\n",
    " * Петербург — культурная столица, со своими вкусами.\n",
    "\n",
    "На данных Яндекс Музыки вы сравните поведение пользователей двух столиц.\n",
    "\n",
    "**Цель исследования** — проверьте три гипотезы:\n",
    "1. Активность пользователей зависит от дня недели. Причём в Москве и Петербурге это проявляется по-разному.\n",
    "2. В понедельник утром в Москве преобладают одни жанры, а в Петербурге — другие. Так же и вечером пятницы преобладают разные жанры — в зависимости от города. \n",
    "3. Москва и Петербург предпочитают разные жанры музыки. В Москве чаще слушают поп-музыку, в Петербурге — русский рэп.\n",
    "\n",
    "**Ход исследования**\n",
    "\n",
    "Данные о поведении пользователей вы получите из файла `yandex_music_project.csv`. О качестве данных ничего не известно. Поэтому перед проверкой гипотез понадобится обзор данных. \n",
    "\n",
    "Вы проверите данные на ошибки и оцените их влияние на исследование. Затем, на этапе предобработки вы поищете возможность исправить самые критичные ошибки данных.\n",
    " \n",
    "Таким образом, исследование пройдёт в три этапа:\n",
    " 1. Обзор данных.\n",
    " 2. Предобработка данных.\n",
    " 3. Проверка гипотез.\n",
    "\n"
   ]
  },
  {
   "cell_type": "markdown",
   "metadata": {
    "deletable": false,
    "editable": false,
    "id": "Ml1hmfXC_Zcs"
   },
   "source": [
    "## Обзор данных\n",
    "\n",
    "Составьте первое представление о данных Яндекс Музыки.\n",
    "\n",
    "\n"
   ]
  },
  {
   "cell_type": "markdown",
   "metadata": {
    "deletable": false,
    "editable": false,
    "id": "57eAOGIz_Zcs",
    "tags": [
     "start_task"
    ]
   },
   "source": [
    "**Задание 1**\n",
    "\n",
    "Основной инструмент аналитика — `pandas`. Импортируйте эту библиотеку."
   ]
  },
  {
   "cell_type": "code",
   "execution_count": 1,
   "metadata": {
    "deletable": false,
    "id": "AXN7PHPN_Zcs"
   },
   "outputs": [],
   "source": [
    "# импорт библиотеки pandas\n",
    "import pandas as pd"
   ]
  },
  {
   "cell_type": "markdown",
   "metadata": {
    "deletable": false,
    "editable": false,
    "id": "SG23P8tt_Zcs",
    "tags": [
     "start_task"
    ]
   },
   "source": [
    "**Задание 2**\n",
    "\n",
    "Прочитайте файл `yandex_music_project.csv` из папки `/datasets` и сохраните его в переменной `df`:"
   ]
  },
  {
   "cell_type": "code",
   "execution_count": 2,
   "metadata": {
    "deletable": false,
    "id": "fFVu7vqh_Zct"
   },
   "outputs": [],
   "source": [
    "# чтение файла с данными и сохранение в df\n",
    "df = pd.read_csv('/datasets/yandex_music_project.csv')"
   ]
  },
  {
   "cell_type": "markdown",
   "metadata": {
    "deletable": false,
    "editable": false,
    "id": "rDoOMd3uTqnZ",
    "tags": [
     "start_task"
    ]
   },
   "source": [
    "**Задание 3**\n",
    "\n",
    "\n",
    "Выведите на экран первые десять строк таблицы:"
   ]
  },
  {
   "cell_type": "code",
   "execution_count": 3,
   "metadata": {
    "deletable": false,
    "id": "oWTVX3gW_Zct"
   },
   "outputs": [
    {
     "data": {
      "text/html": [
       "<div>\n",
       "<style scoped>\n",
       "    .dataframe tbody tr th:only-of-type {\n",
       "        vertical-align: middle;\n",
       "    }\n",
       "\n",
       "    .dataframe tbody tr th {\n",
       "        vertical-align: top;\n",
       "    }\n",
       "\n",
       "    .dataframe thead th {\n",
       "        text-align: right;\n",
       "    }\n",
       "</style>\n",
       "<table border=\"1\" class=\"dataframe\">\n",
       "  <thead>\n",
       "    <tr style=\"text-align: right;\">\n",
       "      <th></th>\n",
       "      <th>userID</th>\n",
       "      <th>Track</th>\n",
       "      <th>artist</th>\n",
       "      <th>genre</th>\n",
       "      <th>City</th>\n",
       "      <th>time</th>\n",
       "      <th>Day</th>\n",
       "    </tr>\n",
       "  </thead>\n",
       "  <tbody>\n",
       "    <tr>\n",
       "      <th>0</th>\n",
       "      <td>FFB692EC</td>\n",
       "      <td>Kamigata To Boots</td>\n",
       "      <td>The Mass Missile</td>\n",
       "      <td>rock</td>\n",
       "      <td>Saint-Petersburg</td>\n",
       "      <td>20:28:33</td>\n",
       "      <td>Wednesday</td>\n",
       "    </tr>\n",
       "    <tr>\n",
       "      <th>1</th>\n",
       "      <td>55204538</td>\n",
       "      <td>Delayed Because of Accident</td>\n",
       "      <td>Andreas Rönnberg</td>\n",
       "      <td>rock</td>\n",
       "      <td>Moscow</td>\n",
       "      <td>14:07:09</td>\n",
       "      <td>Friday</td>\n",
       "    </tr>\n",
       "    <tr>\n",
       "      <th>2</th>\n",
       "      <td>20EC38</td>\n",
       "      <td>Funiculì funiculà</td>\n",
       "      <td>Mario Lanza</td>\n",
       "      <td>pop</td>\n",
       "      <td>Saint-Petersburg</td>\n",
       "      <td>20:58:07</td>\n",
       "      <td>Wednesday</td>\n",
       "    </tr>\n",
       "    <tr>\n",
       "      <th>3</th>\n",
       "      <td>A3DD03C9</td>\n",
       "      <td>Dragons in the Sunset</td>\n",
       "      <td>Fire + Ice</td>\n",
       "      <td>folk</td>\n",
       "      <td>Saint-Petersburg</td>\n",
       "      <td>08:37:09</td>\n",
       "      <td>Monday</td>\n",
       "    </tr>\n",
       "    <tr>\n",
       "      <th>4</th>\n",
       "      <td>E2DC1FAE</td>\n",
       "      <td>Soul People</td>\n",
       "      <td>Space Echo</td>\n",
       "      <td>dance</td>\n",
       "      <td>Moscow</td>\n",
       "      <td>08:34:34</td>\n",
       "      <td>Monday</td>\n",
       "    </tr>\n",
       "    <tr>\n",
       "      <th>5</th>\n",
       "      <td>842029A1</td>\n",
       "      <td>Преданная</td>\n",
       "      <td>IMPERVTOR</td>\n",
       "      <td>rusrap</td>\n",
       "      <td>Saint-Petersburg</td>\n",
       "      <td>13:09:41</td>\n",
       "      <td>Friday</td>\n",
       "    </tr>\n",
       "    <tr>\n",
       "      <th>6</th>\n",
       "      <td>4CB90AA5</td>\n",
       "      <td>True</td>\n",
       "      <td>Roman Messer</td>\n",
       "      <td>dance</td>\n",
       "      <td>Moscow</td>\n",
       "      <td>13:00:07</td>\n",
       "      <td>Wednesday</td>\n",
       "    </tr>\n",
       "    <tr>\n",
       "      <th>7</th>\n",
       "      <td>F03E1C1F</td>\n",
       "      <td>Feeling This Way</td>\n",
       "      <td>Polina Griffith</td>\n",
       "      <td>dance</td>\n",
       "      <td>Moscow</td>\n",
       "      <td>20:47:49</td>\n",
       "      <td>Wednesday</td>\n",
       "    </tr>\n",
       "    <tr>\n",
       "      <th>8</th>\n",
       "      <td>8FA1D3BE</td>\n",
       "      <td>И вновь продолжается бой</td>\n",
       "      <td>NaN</td>\n",
       "      <td>ruspop</td>\n",
       "      <td>Moscow</td>\n",
       "      <td>09:17:40</td>\n",
       "      <td>Friday</td>\n",
       "    </tr>\n",
       "    <tr>\n",
       "      <th>9</th>\n",
       "      <td>E772D5C0</td>\n",
       "      <td>Pessimist</td>\n",
       "      <td>NaN</td>\n",
       "      <td>dance</td>\n",
       "      <td>Saint-Petersburg</td>\n",
       "      <td>21:20:49</td>\n",
       "      <td>Wednesday</td>\n",
       "    </tr>\n",
       "  </tbody>\n",
       "</table>\n",
       "</div>"
      ],
      "text/plain": [
       "     userID                        Track            artist   genre  \\\n",
       "0  FFB692EC            Kamigata To Boots  The Mass Missile    rock   \n",
       "1  55204538  Delayed Because of Accident  Andreas Rönnberg    rock   \n",
       "2    20EC38            Funiculì funiculà       Mario Lanza     pop   \n",
       "3  A3DD03C9        Dragons in the Sunset        Fire + Ice    folk   \n",
       "4  E2DC1FAE                  Soul People        Space Echo   dance   \n",
       "5  842029A1                    Преданная         IMPERVTOR  rusrap   \n",
       "6  4CB90AA5                         True      Roman Messer   dance   \n",
       "7  F03E1C1F             Feeling This Way   Polina Griffith   dance   \n",
       "8  8FA1D3BE     И вновь продолжается бой               NaN  ruspop   \n",
       "9  E772D5C0                    Pessimist               NaN   dance   \n",
       "\n",
       "             City        time        Day  \n",
       "0  Saint-Petersburg  20:28:33  Wednesday  \n",
       "1            Moscow  14:07:09     Friday  \n",
       "2  Saint-Petersburg  20:58:07  Wednesday  \n",
       "3  Saint-Petersburg  08:37:09     Monday  \n",
       "4            Moscow  08:34:34     Monday  \n",
       "5  Saint-Petersburg  13:09:41     Friday  \n",
       "6            Moscow  13:00:07  Wednesday  \n",
       "7            Moscow  20:47:49  Wednesday  \n",
       "8            Moscow  09:17:40     Friday  \n",
       "9  Saint-Petersburg  21:20:49  Wednesday  "
      ]
     },
     "execution_count": 3,
     "metadata": {},
     "output_type": "execute_result"
    }
   ],
   "source": [
    "# получение первых 10 строк таблицы df\n",
    "df.head(10)"
   ]
  },
  {
   "cell_type": "markdown",
   "metadata": {
    "deletable": false,
    "editable": false,
    "id": "EO73Kwic_Zct",
    "tags": [
     "start_task"
    ]
   },
   "source": [
    "**Задание 4**\n",
    "\n",
    "\n",
    "Одной командой получить общую информацию о таблице c помощью метода `info()`:"
   ]
  },
  {
   "cell_type": "code",
   "execution_count": 4,
   "metadata": {
    "deletable": false,
    "id": "DSf2kIb-_Zct"
   },
   "outputs": [
    {
     "name": "stdout",
     "output_type": "stream",
     "text": [
      "<class 'pandas.core.frame.DataFrame'>\n",
      "RangeIndex: 65079 entries, 0 to 65078\n",
      "Data columns (total 7 columns):\n",
      " #   Column    Non-Null Count  Dtype \n",
      "---  ------    --------------  ----- \n",
      " 0     userID  65079 non-null  object\n",
      " 1   Track     63848 non-null  object\n",
      " 2   artist    57876 non-null  object\n",
      " 3   genre     63881 non-null  object\n",
      " 4     City    65079 non-null  object\n",
      " 5   time      65079 non-null  object\n",
      " 6   Day       65079 non-null  object\n",
      "dtypes: object(7)\n",
      "memory usage: 3.5+ MB\n"
     ]
    }
   ],
   "source": [
    "# получение общей информации о данных в таблице df\n",
    "df.info()"
   ]
  },
  {
   "cell_type": "markdown",
   "metadata": {
    "deletable": false,
    "editable": false,
    "id": "TaQ2Iwbr_Zct"
   },
   "source": [
    "Итак, в таблице семь столбцов. Тип данных во всех столбцах — `object`.\n",
    "\n",
    "Согласно документации к данным:\n",
    "* `userID` — идентификатор пользователя;\n",
    "* `Track` — название трека;  \n",
    "* `artist` — имя исполнителя;\n",
    "* `genre` — название жанра;\n",
    "* `City` — город пользователя;\n",
    "* `time` — время начала прослушивания;\n",
    "* `Day` — день недели.\n",
    "\n",
    "Количество значений в столбцах различается. Значит, в данных есть пропущенные значения."
   ]
  },
  {
   "cell_type": "markdown",
   "metadata": {
    "deletable": false,
    "editable": false,
    "id": "rAfziTBDmf2h",
    "tags": [
     "start_task"
    ]
   },
   "source": [
    "**Задание 5**\n",
    "\n",
    "**Вопрос со свободной формой ответа**\n",
    "\n",
    "В названиях колонок видны нарушения стиля:\n",
    "* Строчные буквы сочетаются с прописными.\n",
    "* Встречаются пробелы.\n",
    "\n",
    "Какое третье нарушение?"
   ]
  },
  {
   "cell_type": "code",
   "execution_count": 5,
   "metadata": {
    "id": "jD8EXEIvmf2h"
   },
   "outputs": [],
   "source": [
    "# Напишите ваш ответ здесь комментарием. Не удаляйте символ #. Не меняйте тип этой ячейки на Markdown.\n",
    "# Не соблюдается змеиный стиль"
   ]
  },
  {
   "cell_type": "markdown",
   "metadata": {
    "deletable": false,
    "editable": false,
    "id": "MCB6-dXG_Zct"
   },
   "source": [
    "**Выводы**\n",
    "\n",
    "В каждой строке таблицы — данные о прослушанном треке. Часть колонок описывает саму композицию: название, исполнителя и жанр. Остальные данные рассказывают о пользователе: из какого он города, когда он слушал музыку. \n",
    "\n",
    "Предварительно можно утверждать, что данных достаточно для проверки гипотез. Но встречаются пропуски в данных, а в названиях колонок — расхождения с хорошим стилем.\n",
    "\n",
    "Чтобы двигаться дальше, нужно устранить проблемы в данных."
   ]
  },
  {
   "cell_type": "markdown",
   "metadata": {
    "deletable": false,
    "editable": false,
    "id": "SjYF6Ub9_Zct"
   },
   "source": [
    "## Предобработка данных\n",
    "Исправьте стиль в заголовках столбцов, исключите пропуски. Затем проверьте данные на дубликаты."
   ]
  },
  {
   "cell_type": "markdown",
   "metadata": {
    "deletable": false,
    "editable": false,
    "id": "dIaKXr29_Zct",
    "tags": [
     "start_task"
    ]
   },
   "source": [
    "### Стиль заголовков\n",
    "\n",
    "**Задание 6**\n",
    "\n",
    "Выведите на экран названия столбцов:"
   ]
  },
  {
   "cell_type": "code",
   "execution_count": 6,
   "metadata": {
    "deletable": false,
    "id": "oKOTdF_Q_Zct"
   },
   "outputs": [
    {
     "data": {
      "text/plain": [
       "Index(['  userID', 'Track', 'artist', 'genre', '  City  ', 'time', 'Day'], dtype='object')"
      ]
     },
     "execution_count": 6,
     "metadata": {},
     "output_type": "execute_result"
    }
   ],
   "source": [
    "# перечень названий столбцов таблицы df\n",
    "df.columns"
   ]
  },
  {
   "cell_type": "markdown",
   "metadata": {
    "deletable": false,
    "editable": false,
    "id": "zj5534cv_Zct",
    "tags": [
     "start_task"
    ]
   },
   "source": [
    "**Задание 7**\n",
    "\n",
    "\n",
    "Приведите названия в соответствие с хорошим стилем:\n",
    "* несколько слов в названии запишите в «змеином_регистре»,\n",
    "* все символы сделайте строчными,\n",
    "* устраните пробелы.\n",
    "\n",
    "Для этого переименуйте колонки так:\n",
    "* `'  userID'` → `'user_id'`;\n",
    "* `'Track'` → `'track'`;\n",
    "* `'  City  '` → `'city'`;\n",
    "* `'Day'` → `'day'`."
   ]
  },
  {
   "cell_type": "code",
   "execution_count": 7,
   "metadata": {
    "deletable": false,
    "id": "ISlFqs5y_Zct"
   },
   "outputs": [],
   "source": [
    "# переименование столбцов\n",
    "df = df.rename(columns={'  userID': 'user_id', 'Track': 'track', '  City  ': 'city', 'Day':'day'}) "
   ]
  },
  {
   "cell_type": "markdown",
   "metadata": {
    "deletable": false,
    "editable": false,
    "id": "1dqbh00J_Zct",
    "tags": [
     "start_task"
    ]
   },
   "source": [
    "**Задание 8**\n",
    "\n",
    "\n",
    "Проверьте результат. Для этого ещё раз выведите на экран названия столбцов:"
   ]
  },
  {
   "cell_type": "code",
   "execution_count": 8,
   "metadata": {
    "deletable": false,
    "id": "d4NOAmTW_Zct"
   },
   "outputs": [
    {
     "data": {
      "text/plain": [
       "Index(['user_id', 'track', 'artist', 'genre', 'city', 'time', 'day'], dtype='object')"
      ]
     },
     "execution_count": 8,
     "metadata": {},
     "output_type": "execute_result"
    }
   ],
   "source": [
    "# проверка результатов - перечень названий столбцов\n",
    "df.columns"
   ]
  },
  {
   "cell_type": "markdown",
   "metadata": {
    "deletable": false,
    "editable": false,
    "id": "5ISfbcfY_Zct",
    "tags": [
     "start_task"
    ]
   },
   "source": [
    "### Пропуски значений\n",
    "\n",
    "**Задание 9**\n",
    "\n",
    "Сначала посчитайте, сколько в таблице пропущенных значений. Для этого достаточно двух методов `pandas`:"
   ]
  },
  {
   "cell_type": "code",
   "execution_count": 9,
   "metadata": {
    "deletable": false,
    "id": "RskX29qr_Zct"
   },
   "outputs": [
    {
     "data": {
      "text/plain": [
       "user_id       0\n",
       "track      1231\n",
       "artist     7203\n",
       "genre      1198\n",
       "city          0\n",
       "time          0\n",
       "day           0\n",
       "dtype: int64"
      ]
     },
     "execution_count": 9,
     "metadata": {},
     "output_type": "execute_result"
    }
   ],
   "source": [
    "# подсчёт пропусков\n",
    "df.isna().sum()"
   ]
  },
  {
   "cell_type": "markdown",
   "metadata": {
    "deletable": false,
    "editable": false,
    "id": "qubhgnlO_Zct"
   },
   "source": [
    "Не все пропущенные значения влияют на исследование. Так в `track` и `artist` пропуски не важны для вашей работы. Достаточно заменить их явными обозначениями.\n",
    "\n",
    "Но пропуски в `genre` могут помешать сравнению музыкальных вкусов в Москве и Санкт-Петербурге. На практике было бы правильно установить причину пропусков и восстановить данные. Такой возможности нет в учебном проекте. Придётся:\n",
    "* заполнить и эти пропуски явными обозначениями;\n",
    "* оценить, насколько они повредят расчётам. "
   ]
  },
  {
   "cell_type": "markdown",
   "metadata": {
    "deletable": false,
    "editable": false,
    "id": "fSv2laPA_Zct",
    "tags": [
     "start_task"
    ]
   },
   "source": [
    "**Задание 10**\n",
    "\n",
    "Замените пропущенные значения в столбцах `track`, `artist` и `genre` на строку `'unknown'`. Для этого создайте список `columns_to_replace`, переберите его элементы циклом `for` и для каждого столбца выполните замену пропущенных значений:"
   ]
  },
  {
   "cell_type": "code",
   "execution_count": 10,
   "metadata": {
    "deletable": false,
    "id": "KplB5qWs_Zct"
   },
   "outputs": [],
   "source": [
    "# перебор названий столбцов в цикле и замена пропущенных значений на 'unknown'\n",
    "columns_to_replace = df[['track', 'artist', 'genre']]\n",
    "\n",
    "for column in columns_to_replace:\n",
    "    df[column] = df[column].fillna('unknown')"
   ]
  },
  {
   "cell_type": "markdown",
   "metadata": {
    "deletable": false,
    "editable": false,
    "id": "Ilsm-MZo_Zct",
    "tags": [
     "start_task"
    ]
   },
   "source": [
    "**Задание 11**\n",
    "\n",
    "Убедитесь, что в таблице не осталось пропусков. Для этого ещё раз посчитайте пропущенные значения."
   ]
  },
  {
   "cell_type": "code",
   "execution_count": 11,
   "metadata": {
    "deletable": false,
    "id": "Tq4nYRX4_Zct"
   },
   "outputs": [
    {
     "data": {
      "text/plain": [
       "user_id    0\n",
       "track      0\n",
       "artist     0\n",
       "genre      0\n",
       "city       0\n",
       "time       0\n",
       "day        0\n",
       "dtype: int64"
      ]
     },
     "execution_count": 11,
     "metadata": {},
     "output_type": "execute_result"
    }
   ],
   "source": [
    "# подсчёт пропусков\n",
    "df.isna().sum()"
   ]
  },
  {
   "cell_type": "markdown",
   "metadata": {
    "deletable": false,
    "editable": false,
    "id": "BWKRtBJ3_Zct",
    "tags": [
     "start_task"
    ]
   },
   "source": [
    "### Дубликаты\n",
    "\n",
    "**Задание 12**\n",
    "\n",
    "Посчитайте явные дубликаты в таблице одной командой:"
   ]
  },
  {
   "cell_type": "code",
   "execution_count": 12,
   "metadata": {
    "deletable": false,
    "id": "36eES_S0_Zct"
   },
   "outputs": [
    {
     "data": {
      "text/plain": [
       "3826"
      ]
     },
     "execution_count": 12,
     "metadata": {},
     "output_type": "execute_result"
    }
   ],
   "source": [
    "# подсчёт явных дубликатов\n",
    "df.duplicated().sum()"
   ]
  },
  {
   "cell_type": "markdown",
   "metadata": {
    "deletable": false,
    "editable": false,
    "id": "Ot25h6XR_Zct",
    "tags": [
     "start_task"
    ]
   },
   "source": [
    "**Задание 13**\n",
    "\n",
    "Вызовите специальный метод `pandas`, чтобы удалить явные дубликаты:"
   ]
  },
  {
   "cell_type": "code",
   "execution_count": 13,
   "metadata": {
    "deletable": false,
    "id": "exFHq6tt_Zct"
   },
   "outputs": [],
   "source": [
    "# удаление явных дубликатов\n",
    "df = df.drop_duplicates()"
   ]
  },
  {
   "cell_type": "markdown",
   "metadata": {
    "deletable": false,
    "editable": false,
    "id": "Im2YwBEG_Zct",
    "tags": [
     "start_task"
    ]
   },
   "source": [
    "**Задание 14**\n",
    "\n",
    "Ещё раз посчитайте явные дубликаты в таблице — убедитесь, что полностью от них избавились:"
   ]
  },
  {
   "cell_type": "code",
   "execution_count": 14,
   "metadata": {
    "deletable": false,
    "id": "-8PuNWQ0_Zct"
   },
   "outputs": [
    {
     "data": {
      "text/plain": [
       "0"
      ]
     },
     "execution_count": 14,
     "metadata": {},
     "output_type": "execute_result"
    }
   ],
   "source": [
    "# проверка на отсутствие дубликатов\n",
    "df.duplicated().sum()"
   ]
  },
  {
   "cell_type": "markdown",
   "metadata": {
    "deletable": false,
    "editable": false,
    "id": "QlFBsxAr_Zct"
   },
   "source": [
    "Теперь избавьтесь от неявных дубликатов в колонке `genre`. Например, название одного и того же жанра может быть записано немного по-разному. Такие ошибки тоже повлияют на результат исследования."
   ]
  },
  {
   "cell_type": "markdown",
   "metadata": {
    "deletable": false,
    "editable": false,
    "id": "eSjWwsOh_Zct",
    "tags": [
     "start_task"
    ]
   },
   "source": [
    "**Задание 15**\n",
    "\n",
    "Выведите на экран список уникальных названий жанров, отсортированный в алфавитном порядке. Для этого:\n",
    "1. извлеките нужный столбец датафрейма; \n",
    "2. примените к нему метод сортировки;\n",
    "3. для отсортированного столбца вызовите метод, который вернёт уникальные значения из столбца."
   ]
  },
  {
   "cell_type": "code",
   "execution_count": 15,
   "metadata": {
    "deletable": false,
    "id": "JIUcqzZN_Zct"
   },
   "outputs": [
    {
     "data": {
      "text/plain": [
       "array(['acid', 'acoustic', 'action', 'adult', 'africa', 'afrikaans',\n",
       "       'alternative', 'alternativepunk', 'ambient', 'americana',\n",
       "       'animated', 'anime', 'arabesk', 'arabic', 'arena',\n",
       "       'argentinetango', 'art', 'audiobook', 'author', 'avantgarde',\n",
       "       'axé', 'baile', 'balkan', 'beats', 'bigroom', 'black', 'bluegrass',\n",
       "       'blues', 'bollywood', 'bossa', 'brazilian', 'breakbeat', 'breaks',\n",
       "       'broadway', 'cantautori', 'cantopop', 'canzone', 'caribbean',\n",
       "       'caucasian', 'celtic', 'chamber', 'chanson', 'children', 'chill',\n",
       "       'chinese', 'choral', 'christian', 'christmas', 'classical',\n",
       "       'classicmetal', 'club', 'colombian', 'comedy', 'conjazz',\n",
       "       'contemporary', 'country', 'cuban', 'dance', 'dancehall',\n",
       "       'dancepop', 'dark', 'death', 'deep', 'deutschrock', 'deutschspr',\n",
       "       'dirty', 'disco', 'dnb', 'documentary', 'downbeat', 'downtempo',\n",
       "       'drum', 'dub', 'dubstep', 'eastern', 'easy', 'electronic',\n",
       "       'electropop', 'emo', 'entehno', 'epicmetal', 'estrada', 'ethnic',\n",
       "       'eurofolk', 'european', 'experimental', 'extrememetal', 'fado',\n",
       "       'fairytail', 'film', 'fitness', 'flamenco', 'folk', 'folklore',\n",
       "       'folkmetal', 'folkrock', 'folktronica', 'forró', 'frankreich',\n",
       "       'französisch', 'french', 'funk', 'future', 'gangsta', 'garage',\n",
       "       'german', 'ghazal', 'gitarre', 'glitch', 'gospel', 'gothic',\n",
       "       'grime', 'grunge', 'gypsy', 'handsup', \"hard'n'heavy\", 'hardcore',\n",
       "       'hardstyle', 'hardtechno', 'hip', 'hip-hop', 'hiphop',\n",
       "       'historisch', 'holiday', 'hop', 'horror', 'house', 'hymn', 'idm',\n",
       "       'independent', 'indian', 'indie', 'indipop', 'industrial',\n",
       "       'inspirational', 'instrumental', 'international', 'irish', 'jam',\n",
       "       'japanese', 'jazz', 'jewish', 'jpop', 'jungle', 'k-pop',\n",
       "       'karadeniz', 'karaoke', 'kayokyoku', 'korean', 'laiko', 'latin',\n",
       "       'latino', 'leftfield', 'local', 'lounge', 'loungeelectronic',\n",
       "       'lovers', 'malaysian', 'mandopop', 'marschmusik', 'meditative',\n",
       "       'mediterranean', 'melodic', 'metal', 'metalcore', 'mexican',\n",
       "       'middle', 'minimal', 'miscellaneous', 'modern', 'mood', 'mpb',\n",
       "       'muslim', 'native', 'neoklassik', 'neue', 'new', 'newage',\n",
       "       'newwave', 'nu', 'nujazz', 'numetal', 'oceania', 'old', 'opera',\n",
       "       'orchestral', 'other', 'piano', 'podcasts', 'pop', 'popdance',\n",
       "       'popelectronic', 'popeurodance', 'poprussian', 'post',\n",
       "       'posthardcore', 'postrock', 'power', 'progmetal', 'progressive',\n",
       "       'psychedelic', 'punjabi', 'punk', 'quebecois', 'ragga', 'ram',\n",
       "       'rancheras', 'rap', 'rave', 'reggae', 'reggaeton', 'regional',\n",
       "       'relax', 'religious', 'retro', 'rhythm', 'rnb', 'rnr', 'rock',\n",
       "       'rockabilly', 'rockalternative', 'rockindie', 'rockother',\n",
       "       'romance', 'roots', 'ruspop', 'rusrap', 'rusrock', 'russian',\n",
       "       'salsa', 'samba', 'scenic', 'schlager', 'self', 'sertanejo',\n",
       "       'shanson', 'shoegazing', 'showtunes', 'singer', 'ska', 'skarock',\n",
       "       'slow', 'smooth', 'soft', 'soul', 'soulful', 'sound', 'soundtrack',\n",
       "       'southern', 'specialty', 'speech', 'spiritual', 'sport',\n",
       "       'stonerrock', 'surf', 'swing', 'synthpop', 'synthrock',\n",
       "       'sängerportrait', 'tango', 'tanzorchester', 'taraftar', 'tatar',\n",
       "       'tech', 'techno', 'teen', 'thrash', 'top', 'traditional',\n",
       "       'tradjazz', 'trance', 'tribal', 'trip', 'triphop', 'tropical',\n",
       "       'türk', 'türkçe', 'ukrrock', 'unknown', 'urban', 'uzbek',\n",
       "       'variété', 'vi', 'videogame', 'vocal', 'western', 'world',\n",
       "       'worldbeat', 'ïîï', 'электроника'], dtype=object)"
      ]
     },
     "execution_count": 15,
     "metadata": {},
     "output_type": "execute_result"
    }
   ],
   "source": [
    "# Просмотр уникальных названий жанров\n",
    "genre_sorted = df['genre'].sort_values()\n",
    "genre_sorted.unique()"
   ]
  },
  {
   "cell_type": "markdown",
   "metadata": {
    "deletable": false,
    "editable": false,
    "id": "qej-Qmuo_Zct",
    "tags": [
     "start_task"
    ]
   },
   "source": [
    "**Задание 16**\n",
    "\n",
    "Просмотрите список и найдите неявные дубликаты названия `hiphop`. Это могут быть названия с ошибками или альтернативные названия того же жанра.\n",
    "\n",
    "Вы увидите следующие неявные дубликаты:\n",
    "* *hip*,\n",
    "* *hop*,\n",
    "* *hip-hop*.\n",
    "\n",
    "Чтобы очистить от них таблицу используйте метод `replace()` с двумя аргументами: списком строк-дубликатов (включащий *hip*, *hop* и *hip-hop*) и строкой с правильным значением. Вам нужно исправить колонку `genre` в таблице `df`: заменить каждое значение из списка дубликатов на верное. Вместо `hip`, `hop` и `hip-hop` в таблице должно быть значение `hiphop`:"
   ]
  },
  {
   "cell_type": "code",
   "execution_count": 16,
   "metadata": {},
   "outputs": [],
   "source": [
    "# Устранение неявных дубликатов\n",
    "def replace_wrong_title_genres(wrong_titles, correct_title):\n",
    "    for wrong_title in wrong_titles:\n",
    "        df['genre'] = df['genre'].replace(wrong_titles, correct_title)"
   ]
  },
  {
   "cell_type": "code",
   "execution_count": 17,
   "metadata": {},
   "outputs": [],
   "source": [
    "wrong_titles = ['hip', 'hop', 'hip-hop']\n",
    "correct_title = 'hiphop'\n",
    "\n",
    "replace_wrong_title_genres(wrong_titles, correct_title)"
   ]
  },
  {
   "cell_type": "markdown",
   "metadata": {
    "deletable": false,
    "id": "ErNDkmns_Zct"
   },
   "source": [
    "# Устранение неявных дубликатов\n",
    "def replace_wrong_title_genres(wrong_titles, correct_title):\n",
    "    for wrong_title in wrong_titles:\n",
    "        if wrong_title in wrong_titles:\n",
    "            df['genre'] = df['genre'].replace(wrong_titles, correct_title)\n",
    "\n",
    "wrong_titles = ['hip', 'hop', 'hip-hop']\n",
    "correct_title = 'hiphop'\n",
    "df['genre'] = replace_wrong_title_genres(wrong_titles, correct_title)"
   ]
  },
  {
   "cell_type": "markdown",
   "metadata": {
    "deletable": false,
    "editable": false,
    "id": "zQKF16_RG15m",
    "tags": [
     "start_task"
    ]
   },
   "source": [
    "**Задание 17**\n",
    "\n",
    "Проверьте, что заменили неправильные названия:\n",
    "\n",
    "*   hip,\n",
    "*   hop,\n",
    "*   hip-hop.\n",
    "\n",
    "Выведите отсортированный список уникальных значений столбца `genre`:"
   ]
  },
  {
   "cell_type": "code",
   "execution_count": 18,
   "metadata": {
    "deletable": false,
    "id": "wvixALnFG15m"
   },
   "outputs": [
    {
     "data": {
      "text/plain": [
       "array(['acid', 'acoustic', 'action', 'adult', 'africa', 'afrikaans',\n",
       "       'alternative', 'alternativepunk', 'ambient', 'americana',\n",
       "       'animated', 'anime', 'arabesk', 'arabic', 'arena',\n",
       "       'argentinetango', 'art', 'audiobook', 'author', 'avantgarde',\n",
       "       'axé', 'baile', 'balkan', 'beats', 'bigroom', 'black', 'bluegrass',\n",
       "       'blues', 'bollywood', 'bossa', 'brazilian', 'breakbeat', 'breaks',\n",
       "       'broadway', 'cantautori', 'cantopop', 'canzone', 'caribbean',\n",
       "       'caucasian', 'celtic', 'chamber', 'chanson', 'children', 'chill',\n",
       "       'chinese', 'choral', 'christian', 'christmas', 'classical',\n",
       "       'classicmetal', 'club', 'colombian', 'comedy', 'conjazz',\n",
       "       'contemporary', 'country', 'cuban', 'dance', 'dancehall',\n",
       "       'dancepop', 'dark', 'death', 'deep', 'deutschrock', 'deutschspr',\n",
       "       'dirty', 'disco', 'dnb', 'documentary', 'downbeat', 'downtempo',\n",
       "       'drum', 'dub', 'dubstep', 'eastern', 'easy', 'electronic',\n",
       "       'electropop', 'emo', 'entehno', 'epicmetal', 'estrada', 'ethnic',\n",
       "       'eurofolk', 'european', 'experimental', 'extrememetal', 'fado',\n",
       "       'fairytail', 'film', 'fitness', 'flamenco', 'folk', 'folklore',\n",
       "       'folkmetal', 'folkrock', 'folktronica', 'forró', 'frankreich',\n",
       "       'französisch', 'french', 'funk', 'future', 'gangsta', 'garage',\n",
       "       'german', 'ghazal', 'gitarre', 'glitch', 'gospel', 'gothic',\n",
       "       'grime', 'grunge', 'gypsy', 'handsup', \"hard'n'heavy\", 'hardcore',\n",
       "       'hardstyle', 'hardtechno', 'hiphop', 'historisch', 'holiday',\n",
       "       'horror', 'house', 'hymn', 'idm', 'independent', 'indian', 'indie',\n",
       "       'indipop', 'industrial', 'inspirational', 'instrumental',\n",
       "       'international', 'irish', 'jam', 'japanese', 'jazz', 'jewish',\n",
       "       'jpop', 'jungle', 'k-pop', 'karadeniz', 'karaoke', 'kayokyoku',\n",
       "       'korean', 'laiko', 'latin', 'latino', 'leftfield', 'local',\n",
       "       'lounge', 'loungeelectronic', 'lovers', 'malaysian', 'mandopop',\n",
       "       'marschmusik', 'meditative', 'mediterranean', 'melodic', 'metal',\n",
       "       'metalcore', 'mexican', 'middle', 'minimal', 'miscellaneous',\n",
       "       'modern', 'mood', 'mpb', 'muslim', 'native', 'neoklassik', 'neue',\n",
       "       'new', 'newage', 'newwave', 'nu', 'nujazz', 'numetal', 'oceania',\n",
       "       'old', 'opera', 'orchestral', 'other', 'piano', 'podcasts', 'pop',\n",
       "       'popdance', 'popelectronic', 'popeurodance', 'poprussian', 'post',\n",
       "       'posthardcore', 'postrock', 'power', 'progmetal', 'progressive',\n",
       "       'psychedelic', 'punjabi', 'punk', 'quebecois', 'ragga', 'ram',\n",
       "       'rancheras', 'rap', 'rave', 'reggae', 'reggaeton', 'regional',\n",
       "       'relax', 'religious', 'retro', 'rhythm', 'rnb', 'rnr', 'rock',\n",
       "       'rockabilly', 'rockalternative', 'rockindie', 'rockother',\n",
       "       'romance', 'roots', 'ruspop', 'rusrap', 'rusrock', 'russian',\n",
       "       'salsa', 'samba', 'scenic', 'schlager', 'self', 'sertanejo',\n",
       "       'shanson', 'shoegazing', 'showtunes', 'singer', 'ska', 'skarock',\n",
       "       'slow', 'smooth', 'soft', 'soul', 'soulful', 'sound', 'soundtrack',\n",
       "       'southern', 'specialty', 'speech', 'spiritual', 'sport',\n",
       "       'stonerrock', 'surf', 'swing', 'synthpop', 'synthrock',\n",
       "       'sängerportrait', 'tango', 'tanzorchester', 'taraftar', 'tatar',\n",
       "       'tech', 'techno', 'teen', 'thrash', 'top', 'traditional',\n",
       "       'tradjazz', 'trance', 'tribal', 'trip', 'triphop', 'tropical',\n",
       "       'türk', 'türkçe', 'ukrrock', 'unknown', 'urban', 'uzbek',\n",
       "       'variété', 'vi', 'videogame', 'vocal', 'western', 'world',\n",
       "       'worldbeat', 'ïîï', 'электроника'], dtype=object)"
      ]
     },
     "execution_count": 18,
     "metadata": {},
     "output_type": "execute_result"
    }
   ],
   "source": [
    "# Проверка на неявные дубликаты\n",
    "genre_sorted = df['genre'].sort_values()\n",
    "genre_sorted.unique()"
   ]
  },
  {
   "cell_type": "markdown",
   "metadata": {
    "deletable": false,
    "editable": false,
    "id": "jz6a9-7HQUDd"
   },
   "source": [
    "**Выводы**\n",
    "\n",
    "Предобработка обнаружила три проблемы в данных:\n",
    "\n",
    "- нарушения в стиле заголовков,\n",
    "- пропущенные значения,\n",
    "- дубликаты — явные и неявные.\n",
    "\n",
    "Вы исправили заголовки, чтобы упростить работу с таблицей. Без дубликатов исследование станет более точным.\n",
    "\n",
    "Пропущенные значения вы заменили на `'unknown'`. Ещё предстоит увидеть, не повредят ли исследованию пропуски в колонке `genre`.\n",
    "\n",
    "Теперь можно перейти к проверке гипотез. "
   ]
  },
  {
   "cell_type": "markdown",
   "metadata": {
    "deletable": false,
    "editable": false,
    "id": "WttZHXH0SqKk"
   },
   "source": [
    "## Проверка гипотез"
   ]
  },
  {
   "cell_type": "markdown",
   "metadata": {
    "deletable": false,
    "editable": false,
    "id": "Im936VVi_Zcu"
   },
   "source": [
    "### Сравнение поведения пользователей двух столиц"
   ]
  },
  {
   "cell_type": "markdown",
   "metadata": {
    "deletable": false,
    "editable": false,
    "id": "nwt_MuaL_Zcu"
   },
   "source": [
    "Первая гипотеза утверждает, что пользователи по-разному слушают музыку в Москве и Санкт-Петербурге. Проверьте это предположение по данным о трёх днях недели — понедельнике, среде и пятнице. Для этого:\n",
    "\n",
    "* Разделите пользователей Москвы и Санкт-Петербурга.\n",
    "* Сравните, сколько треков послушала каждая группа пользователей в понедельник, среду и пятницу.\n"
   ]
  },
  {
   "cell_type": "markdown",
   "metadata": {
    "deletable": false,
    "editable": false,
    "id": "8Dw_YMmT_Zcu",
    "tags": [
     "start_task"
    ]
   },
   "source": [
    "**Задание 18**\n",
    "\n",
    "Для тренировки сначала выполните каждый из расчётов по отдельности. \n",
    "\n",
    "Оцените активность пользователей в каждом городе. Сгруппируйте данные по городу и посчитайте прослушивания в каждой группе.\n",
    "\n"
   ]
  },
  {
   "cell_type": "code",
   "execution_count": 19,
   "metadata": {
    "deletable": false,
    "id": "0_Qs96oh_Zcu"
   },
   "outputs": [
    {
     "data": {
      "text/plain": [
       "city\n",
       "Moscow              42741\n",
       "Saint-Petersburg    18512\n",
       "Name: user_id, dtype: int64"
      ]
     },
     "execution_count": 19,
     "metadata": {},
     "output_type": "execute_result"
    }
   ],
   "source": [
    "# Подсчёт прослушиваний в каждом городе\n",
    "df.groupby('city')['user_id'].count()"
   ]
  },
  {
   "cell_type": "markdown",
   "metadata": {
    "deletable": false,
    "editable": false,
    "id": "dzli3w8o_Zcu",
    "tags": [
     "start_task"
    ]
   },
   "source": [
    "В Москве прослушиваний больше, чем в Петербурге. Из этого не следует, что московские пользователи чаще слушают музыку. Просто самих пользователей в Москве больше.\n",
    "\n",
    "**Задание 19**\n",
    "\n",
    "Теперь сгруппируйте данные по дню недели и посчитайте прослушивания в понедельник, среду и пятницу. Учтите, что в данных есть информация о прослушиваниях только за эти дни.\n"
   ]
  },
  {
   "cell_type": "code",
   "execution_count": 20,
   "metadata": {
    "deletable": false,
    "id": "uZMKjiJz_Zcu"
   },
   "outputs": [
    {
     "data": {
      "text/plain": [
       "day\n",
       "Friday       21840\n",
       "Monday       21354\n",
       "Wednesday    18059\n",
       "Name: user_id, dtype: int64"
      ]
     },
     "execution_count": 20,
     "metadata": {},
     "output_type": "execute_result"
    }
   ],
   "source": [
    "# Подсчёт прослушиваний в каждый из трёх дней\n",
    "df.groupby('day')['user_id'].count()"
   ]
  },
  {
   "cell_type": "markdown",
   "metadata": {
    "deletable": false,
    "editable": false,
    "id": "cC2tNrlL_Zcu"
   },
   "source": [
    "В среднем пользователи из двух городов менее активны по средам. Но картина может измениться, если рассмотреть каждый город в отдельности."
   ]
  },
  {
   "cell_type": "markdown",
   "metadata": {
    "deletable": false,
    "editable": false,
    "id": "POzs8bGa_Zcu",
    "tags": [
     "start_task"
    ]
   },
   "source": [
    "**Задание 20**\n",
    "\n",
    "\n",
    "Вы видели, как работает группировка по городу и по дням недели. Теперь напишите функцию, которая объединит два эти расчёта.\n",
    "\n",
    "Создайте функцию `number_tracks()`, которая посчитает прослушивания для заданного дня и города. Ей понадобятся два параметра:\n",
    "* день недели,\n",
    "* название города.\n",
    "\n",
    "В функции сохраните в переменную строки исходной таблицы, у которых значение:\n",
    "  * в колонке `day` равно параметру `day`,\n",
    "  * в колонке `city` равно параметру `city`.\n",
    "\n",
    "Для этого примените последовательную фильтрацию с логической индексацией (или сложные логические выражения в одну строку, если вы уже знакомы с ними).\n",
    "\n",
    "Затем посчитайте значения в столбце `user_id` получившейся таблицы. Результат сохраните в новую переменную. Верните эту переменную из функции."
   ]
  },
  {
   "cell_type": "code",
   "execution_count": 21,
   "metadata": {
    "deletable": false,
    "id": "Nz3GdQB1_Zcu"
   },
   "outputs": [],
   "source": [
    "# <создание функции number_tracks()>\n",
    "# Объявляется функция с двумя параметрами: day, city.\n",
    "# В переменной track_list сохраняются те строки таблицы df, для которых \n",
    "# значение в столбце 'day' равно параметру day и одновременно значение\n",
    "# в столбце 'city' равно параметру city (используйте последовательную фильтрацию\n",
    "# с помощью логической индексации или сложные логические выражения в одну строку, если вы уже знакомы с ними).\n",
    "# В переменной track_list_count сохраняется число значений столбца 'user_id',\n",
    "# рассчитанное методом count() для таблицы track_list.\n",
    "# Функция возвращает число - значение track_list_count.\n",
    "\n",
    "# Функция для подсчёта прослушиваний для конкретного города и дня.\n",
    "# С помощью последовательной фильтрации с логической индексацией она \n",
    "# сначала получит из исходной таблицы строки с нужным днём,\n",
    "# затем из результата отфильтрует строки с нужным городом,\n",
    "# методом count() посчитает количество значений в колонке user_id. \n",
    "# Это количество функция вернёт в качестве результата\n",
    "\n",
    "def number_tracks(day, city):\n",
    "    track_list = df[df['day'] == day]\n",
    "    track_list = track_list[track_list['city'] == city]\n",
    "    track_list_count = track_list['user_id'].count()\n",
    "    return track_list_count"
   ]
  },
  {
   "cell_type": "markdown",
   "metadata": {
    "deletable": false,
    "editable": false,
    "id": "ytf7xFrFJQ2r",
    "tags": [
     "start_task"
    ]
   },
   "source": [
    "**Задание 21**\n",
    "\n",
    "Вызовите `number_tracks()` шесть раз, меняя значение параметров — так, чтобы получить данные для каждого города в каждый из трёх дней."
   ]
  },
  {
   "cell_type": "code",
   "execution_count": 22,
   "metadata": {
    "deletable": false,
    "id": "rJcRATNQ_Zcu"
   },
   "outputs": [
    {
     "data": {
      "text/plain": [
       "15740"
      ]
     },
     "execution_count": 22,
     "metadata": {},
     "output_type": "execute_result"
    }
   ],
   "source": [
    "# количество прослушиваний в Москве по понедельникам\n",
    "number_tracks('Monday', 'Moscow')"
   ]
  },
  {
   "cell_type": "code",
   "execution_count": 23,
   "metadata": {
    "deletable": false,
    "id": "hq_ncZ5T_Zcu"
   },
   "outputs": [
    {
     "data": {
      "text/plain": [
       "5614"
      ]
     },
     "execution_count": 23,
     "metadata": {},
     "output_type": "execute_result"
    }
   ],
   "source": [
    "# количество прослушиваний в Санкт-Петербурге по понедельникам\n",
    "number_tracks('Monday', 'Saint-Petersburg')"
   ]
  },
  {
   "cell_type": "code",
   "execution_count": 24,
   "metadata": {
    "deletable": false,
    "id": "_NTy2VPU_Zcu"
   },
   "outputs": [
    {
     "data": {
      "text/plain": [
       "11056"
      ]
     },
     "execution_count": 24,
     "metadata": {},
     "output_type": "execute_result"
    }
   ],
   "source": [
    "# количество прослушиваний в Москве по средам\n",
    "number_tracks('Wednesday', 'Moscow')"
   ]
  },
  {
   "cell_type": "code",
   "execution_count": 25,
   "metadata": {
    "deletable": false,
    "id": "j2y3TAwo_Zcu"
   },
   "outputs": [
    {
     "data": {
      "text/plain": [
       "7003"
      ]
     },
     "execution_count": 25,
     "metadata": {},
     "output_type": "execute_result"
    }
   ],
   "source": [
    "# количество прослушиваний в Санкт-Петербурге по средам\n",
    "number_tracks('Wednesday', 'Saint-Petersburg')"
   ]
  },
  {
   "cell_type": "code",
   "execution_count": 26,
   "metadata": {
    "deletable": false,
    "id": "vYDw5u_K_Zcu"
   },
   "outputs": [
    {
     "data": {
      "text/plain": [
       "15945"
      ]
     },
     "execution_count": 26,
     "metadata": {},
     "output_type": "execute_result"
    }
   ],
   "source": [
    "# количество прослушиваний в Москве по пятницам\n",
    "number_tracks('Friday', 'Moscow')"
   ]
  },
  {
   "cell_type": "code",
   "execution_count": 27,
   "metadata": {
    "deletable": false,
    "id": "8_yzFtW3_Zcu"
   },
   "outputs": [
    {
     "data": {
      "text/plain": [
       "5895"
      ]
     },
     "execution_count": 27,
     "metadata": {},
     "output_type": "execute_result"
    }
   ],
   "source": [
    "# количество прослушиваний в Санкт-Петербурге по пятницам\n",
    "number_tracks('Friday', 'Saint-Petersburg')"
   ]
  },
  {
   "cell_type": "markdown",
   "metadata": {
    "deletable": false,
    "editable": false,
    "id": "7QXffbO-_Zcu",
    "tags": [
     "start_task"
    ]
   },
   "source": [
    "**Задание 22**\n",
    "\n",
    "Создайте c помощью конструктора `pd.DataFrame` таблицу, где\n",
    "* названия колонок — `['city', 'monday', 'wednesday', 'friday']`;\n",
    "* данные — результаты, которые вы получили с помощью `number_tracks`."
   ]
  },
  {
   "cell_type": "code",
   "execution_count": 28,
   "metadata": {
    "deletable": false,
    "id": "APAcLpOr_Zcu"
   },
   "outputs": [
    {
     "data": {
      "text/html": [
       "<div>\n",
       "<style scoped>\n",
       "    .dataframe tbody tr th:only-of-type {\n",
       "        vertical-align: middle;\n",
       "    }\n",
       "\n",
       "    .dataframe tbody tr th {\n",
       "        vertical-align: top;\n",
       "    }\n",
       "\n",
       "    .dataframe thead th {\n",
       "        text-align: right;\n",
       "    }\n",
       "</style>\n",
       "<table border=\"1\" class=\"dataframe\">\n",
       "  <thead>\n",
       "    <tr style=\"text-align: right;\">\n",
       "      <th></th>\n",
       "      <th>city</th>\n",
       "      <th>monday</th>\n",
       "      <th>wednesday</th>\n",
       "      <th>friday</th>\n",
       "    </tr>\n",
       "  </thead>\n",
       "  <tbody>\n",
       "    <tr>\n",
       "      <th>0</th>\n",
       "      <td>Moscow</td>\n",
       "      <td>15740</td>\n",
       "      <td>11056</td>\n",
       "      <td>15945</td>\n",
       "    </tr>\n",
       "    <tr>\n",
       "      <th>1</th>\n",
       "      <td>Saint-Petersburg</td>\n",
       "      <td>5614</td>\n",
       "      <td>7003</td>\n",
       "      <td>5895</td>\n",
       "    </tr>\n",
       "  </tbody>\n",
       "</table>\n",
       "</div>"
      ],
      "text/plain": [
       "               city  monday  wednesday  friday\n",
       "0            Moscow   15740      11056   15945\n",
       "1  Saint-Petersburg    5614       7003    5895"
      ]
     },
     "metadata": {},
     "output_type": "display_data"
    }
   ],
   "source": [
    "# Таблица с результатами\n",
    "mon_mos = number_tracks('Monday', 'Moscow')\n",
    "wed_mos = number_tracks('Wednesday', 'Moscow')\n",
    "fri_mos = number_tracks('Friday', 'Moscow')\n",
    "mon_spb = number_tracks('Monday', 'Saint-Petersburg')\n",
    "wed_spb = number_tracks('Wednesday', 'Saint-Petersburg')\n",
    "fri_spb = number_tracks('Friday', 'Saint-Petersburg')\n",
    "\n",
    "tracks_in_city = [\n",
    "    ['Moscow', mon_mos, wed_mos, fri_mos],\n",
    "    ['Saint-Petersburg', mon_spb, wed_spb, fri_spb]\n",
    "]\n",
    "info = pd.DataFrame(data=tracks_in_city, columns=['city', 'monday', 'wednesday', 'friday'])\n",
    "display(info)"
   ]
  },
  {
   "cell_type": "markdown",
   "metadata": {
    "deletable": false,
    "editable": false,
    "id": "-EgPIHYu_Zcu"
   },
   "source": [
    "**Выводы**\n",
    "\n",
    "Данные показывают разницу поведения пользователей:\n",
    "\n",
    "- В Москве пик прослушиваний приходится на понедельник и пятницу, а в среду заметен спад.\n",
    "- В Петербурге, наоборот, больше слушают музыку по средам. Активность в понедельник и пятницу здесь почти в равной мере уступает среде.\n",
    "\n",
    "Значит, данные говорят в пользу первой гипотезы."
   ]
  },
  {
   "cell_type": "markdown",
   "metadata": {
    "deletable": false,
    "editable": false,
    "id": "atZAxtq4_Zcu"
   },
   "source": [
    "### Музыка в начале и в конце недели"
   ]
  },
  {
   "cell_type": "markdown",
   "metadata": {
    "deletable": false,
    "editable": false,
    "id": "eXrQqXFH_Zcu"
   },
   "source": [
    "Согласно второй гипотезе, утром в понедельник в Москве преобладают одни жанры, а в Петербурге — другие. Так же и вечером пятницы преобладают разные жанры — в зависимости от города."
   ]
  },
  {
   "cell_type": "markdown",
   "metadata": {
    "deletable": false,
    "editable": false,
    "id": "S8UcW6Hw_Zcu",
    "tags": [
     "start_task"
    ]
   },
   "source": [
    "**Задание 23**\n",
    "\n",
    "Сохраните таблицы с данными в две переменные:\n",
    "* по Москве — в `moscow_general`;\n",
    "* по Санкт-Петербургу — в `spb_general`."
   ]
  },
  {
   "cell_type": "code",
   "execution_count": 29,
   "metadata": {
    "deletable": false,
    "id": "qeaFfM_P_Zcu"
   },
   "outputs": [],
   "source": [
    "# получение таблицы moscow_general из тех строк таблицы df, \n",
    "# для которых значение в столбце 'city' равно 'Moscow'\n",
    "moscow_general = df[df['city'] == 'Moscow']"
   ]
  },
  {
   "cell_type": "code",
   "execution_count": 30,
   "metadata": {
    "deletable": false,
    "id": "ORaVRKto_Zcu"
   },
   "outputs": [],
   "source": [
    "# получение таблицы spb_general из тех строк таблицы df,\n",
    "# для которых значение в столбце 'city' равно 'Saint-Petersburg'\n",
    "spb_general = df[df['city'] == 'Saint-Petersburg']"
   ]
  },
  {
   "cell_type": "markdown",
   "metadata": {
    "deletable": false,
    "editable": false,
    "id": "MEJV-CX2_Zcu",
    "tags": [
     "start_task"
    ]
   },
   "source": [
    "**Задание 24**\n",
    "\n",
    "Создайте функцию `genre_weekday()` с четырьмя параметрами:\n",
    "* таблица (датафрейм) с данными,\n",
    "* день недели,\n",
    "* начальная временная метка в формате 'hh:mm', \n",
    "* последняя временная метка в формате 'hh:mm'.\n",
    "\n",
    "Функция должна вернуть информацию о топ-10 жанров тех треков, которые прослушивали в указанный день, в промежутке между двумя отметками времени."
   ]
  },
  {
   "cell_type": "code",
   "execution_count": 31,
   "metadata": {
    "deletable": false,
    "id": "laJT9BYl_Zcu"
   },
   "outputs": [],
   "source": [
    "# Объявление функции genre_weekday() с параметрами table, day, time1, time2,\n",
    "# которая возвращает информацию о самых популярных жанрах в указанный день в\n",
    "# заданное время:\n",
    "# 1) в переменную genre_df сохраняются те строки переданного датафрейма table, для\n",
    "#    которых одновременно:\n",
    "#    - значение в столбце day равно значению аргумента day\n",
    "#    - значение в столбце time больше значения аргумента time1\n",
    "#    - значение в столбце time меньше значения аргумента time2\n",
    "#    Используйте последовательную фильтрацию с помощью логической индексации.\n",
    "# 2) сгруппировать датафрейм genre_df по столбцу genre, взять один из его\n",
    "#    столбцов и посчитать методом count() количество записей для каждого из\n",
    "#    присутствующих жанров, получившийся Series записать в переменную\n",
    "#    genre_df_count\n",
    "# 3) отсортировать genre_df_count по убыванию встречаемости и сохранить\n",
    "#    в переменную genre_df_sorted\n",
    "# 4) вернуть Series из 10 первых значений genre_df_sorted, это будут топ-10\n",
    "#    популярных жанров (в указанный день, в заданное время)\n",
    "\n",
    "#def genre_weekday(df, day, time1, time2):\n",
    "    # последовательная фильтрация\n",
    "    # оставляем в genre_df только те строки df, у которых день равен day\n",
    " #   genre_df = # ваш код здесь\n",
    "    # оставляем в genre_df только те строки genre_df, у которых время меньше time2\n",
    "  #  genre_df = # ваш код здесь\n",
    "    # оставляем в genre_df только те строки genre_df, у которых время больше time1\n",
    "   # genre_df = # ваш код здесь\n",
    "    # сгруппируем отфильтрованный датафрейм по столбцу с названиями жанров, возьмём столбец genre и посчитаем кол-во строк для каждого жанра методом count()\n",
    "    #genre_df_grouped = # ваш код здесь\n",
    "    # отсортируем результат по убыванию (чтобы в начале Series оказались самые популярные жанры)\n",
    "   # genre_df_sorted = # ваш код здесь\n",
    "    # вернём Series с 10 самыми популярными жанрами в указанный отрезок времени заданного дня\n",
    "    #return genre_df_sorted[:10]\n",
    "\n",
    "def genre_weekday(table, day, time1, time2):\n",
    "    genre_df = table[(table['day'] == day) & (table['time'] > time1) & (table['time'] < time2)]\n",
    "    genre_df_count = genre_df.groupby('genre')['genre'].count()\n",
    "    genre_df_sorted = genre_df_count.sort_values(ascending=False)\n",
    "    return genre_df_sorted[:10]"
   ]
  },
  {
   "cell_type": "markdown",
   "metadata": {
    "deletable": false,
    "editable": false,
    "id": "la2s2_PF_Zcu",
    "tags": [
     "start_task"
    ]
   },
   "source": [
    "**Задание 25**\n",
    "\n",
    "\n",
    "Cравните результаты функции `genre_weekday()` для Москвы и Санкт-Петербурга в понедельник утром (с 7:00 до 11:00) и в пятницу вечером (с 17:00 до 23:00):"
   ]
  },
  {
   "cell_type": "code",
   "execution_count": 47,
   "metadata": {
    "deletable": false,
    "id": "yz7itPUQ_Zcu"
   },
   "outputs": [
    {
     "data": {
      "text/plain": [
       "genre\n",
       "pop            781\n",
       "dance          549\n",
       "electronic     480\n",
       "rock           474\n",
       "hiphop         286\n",
       "ruspop         186\n",
       "world          181\n",
       "rusrap         175\n",
       "alternative    164\n",
       "unknown        161\n",
       "Name: genre, dtype: int64"
      ]
     },
     "execution_count": 47,
     "metadata": {},
     "output_type": "execute_result"
    }
   ],
   "source": [
    "# вызов функции для утра понедельника в Москве (вместо df — таблица moscow_general)\n",
    "# объекты, хранящие время, являются строками и сравниваются как строки\n",
    "# пример вызова: genre_weekday(moscow_general, 'Monday', '07:00', '11:00')\n",
    "genre_weekday(moscow_general, 'Monday', '07:00', '11:00')"
   ]
  },
  {
   "cell_type": "code",
   "execution_count": 33,
   "metadata": {
    "deletable": false,
    "id": "kwUcHPdy_Zcu"
   },
   "outputs": [
    {
     "data": {
      "text/plain": [
       "genre\n",
       "pop            218\n",
       "dance          182\n",
       "rock           162\n",
       "electronic     147\n",
       "hiphop          80\n",
       "ruspop          64\n",
       "alternative     58\n",
       "rusrap          55\n",
       "jazz            44\n",
       "classical       40\n",
       "Name: genre, dtype: int64"
      ]
     },
     "execution_count": 33,
     "metadata": {},
     "output_type": "execute_result"
    }
   ],
   "source": [
    "# вызов функции для утра понедельника в Петербурге (вместо df — таблица spb_general)\n",
    "genre_weekday(spb_general, 'Monday', '07:00', '11:00')"
   ]
  },
  {
   "cell_type": "code",
   "execution_count": 34,
   "metadata": {
    "deletable": false,
    "id": "EzXVRE1o_Zcu"
   },
   "outputs": [
    {
     "data": {
      "text/plain": [
       "genre\n",
       "pop            713\n",
       "rock           517\n",
       "dance          495\n",
       "electronic     482\n",
       "hiphop         273\n",
       "world          208\n",
       "ruspop         170\n",
       "alternative    163\n",
       "classical      163\n",
       "rusrap         142\n",
       "Name: genre, dtype: int64"
      ]
     },
     "execution_count": 34,
     "metadata": {},
     "output_type": "execute_result"
    }
   ],
   "source": [
    "# вызов функции для вечера пятницы в Москве\n",
    "genre_weekday(moscow_general, 'Friday', '17:00', '23:00')"
   ]
  },
  {
   "cell_type": "code",
   "execution_count": 35,
   "metadata": {
    "deletable": false,
    "id": "JZaEKu5v_Zcu"
   },
   "outputs": [
    {
     "data": {
      "text/plain": [
       "genre\n",
       "pop            256\n",
       "electronic     216\n",
       "rock           216\n",
       "dance          210\n",
       "hiphop          97\n",
       "alternative     63\n",
       "jazz            61\n",
       "classical       60\n",
       "rusrap          59\n",
       "world           54\n",
       "Name: genre, dtype: int64"
      ]
     },
     "execution_count": 35,
     "metadata": {},
     "output_type": "execute_result"
    }
   ],
   "source": [
    "# вызов функции для вечера пятницы в Петербурге\n",
    "genre_weekday(spb_general, 'Friday', '17:00', '23:00')"
   ]
  },
  {
   "cell_type": "markdown",
   "metadata": {
    "deletable": false,
    "editable": false,
    "id": "wrCe4MNX_Zcu"
   },
   "source": [
    "**Выводы**\n",
    "\n",
    "Если сравнить топ-10 жанров в понедельник утром, можно сделать такие выводы:\n",
    "\n",
    "1. В Москве и Петербурге слушают похожую музыку. Единственное отличие — в московский рейтинг вошёл жанр “world”, а в петербургский — джаз и классика.\n",
    "\n",
    "2. В Москве пропущенных значений оказалось так много, что значение `'unknown'` заняло десятое место среди самых популярных жанров. Значит, пропущенные значения занимают существенную долю в данных и угрожают достоверности исследования.\n",
    "\n",
    "Вечер пятницы не меняет эту картину. Некоторые жанры поднимаются немного выше, другие спускаются, но в целом топ-10 остаётся тем же самым.\n",
    "\n",
    "Таким образом, вторая гипотеза подтвердилась лишь частично:\n",
    "* Пользователи слушают похожую музыку в начале недели и в конце.\n",
    "* Разница между Москвой и Петербургом не слишком выражена. В Москве чаще слушают русскую популярную музыку, в Петербурге — джаз.\n",
    "\n",
    "Однако пропуски в данных ставят под сомнение этот результат. В Москве их так много, что рейтинг топ-10 мог бы выглядеть иначе, если бы не утерянные  данные о жанрах."
   ]
  },
  {
   "cell_type": "markdown",
   "metadata": {
    "deletable": false,
    "editable": false,
    "id": "JolODAqr_Zcu"
   },
   "source": [
    "### Жанровые предпочтения в Москве и Петербурге\n",
    "\n",
    "Гипотеза: Петербург — столица рэпа, музыку этого жанра там слушают чаще, чем в Москве.  А Москва — город контрастов, в котором, тем не менее, преобладает поп-музыка."
   ]
  },
  {
   "cell_type": "markdown",
   "metadata": {
    "deletable": false,
    "editable": false,
    "id": "DlegSvaT_Zcu",
    "tags": [
     "start_task"
    ]
   },
   "source": [
    "**Задание 26**\n",
    "\n",
    "Сгруппируйте таблицу `moscow_general` по жанру и посчитайте прослушивания треков каждого жанра методом `count()`. Затем отсортируйте результат в порядке убывания и сохраните его в таблице `moscow_genres`."
   ]
  },
  {
   "cell_type": "code",
   "execution_count": 50,
   "metadata": {
    "deletable": false,
    "id": "r19lIPke_Zcu"
   },
   "outputs": [],
   "source": [
    "# одной строкой: группировка таблицы moscow_general по столбцу 'genre', \n",
    "# подсчёт числа значений 'genre' в этой группировке методом count(), \n",
    "# сортировка получившегося Series в порядке убывания и сохранение в moscow_genres\n",
    "moscow_genres = moscow_general.groupby('genre')['genre'].count().sort_values(ascending=False)"
   ]
  },
  {
   "cell_type": "markdown",
   "metadata": {
    "deletable": false,
    "editable": false,
    "id": "6kMuomxTiIr8",
    "tags": [
     "start_task"
    ]
   },
   "source": [
    "**Задание 27**\n",
    "\n",
    "Выведите на экран первые десять строк `moscow_genres`:"
   ]
  },
  {
   "cell_type": "code",
   "execution_count": 51,
   "metadata": {
    "deletable": false,
    "id": "WhCSooF8_Zcv"
   },
   "outputs": [
    {
     "data": {
      "text/plain": [
       "genre\n",
       "pop            5892\n",
       "dance          4435\n",
       "rock           3965\n",
       "electronic     3786\n",
       "hiphop         2096\n",
       "classical      1616\n",
       "world          1432\n",
       "alternative    1379\n",
       "ruspop         1372\n",
       "rusrap         1161\n",
       "Name: genre, dtype: int64"
      ]
     },
     "execution_count": 51,
     "metadata": {},
     "output_type": "execute_result"
    }
   ],
   "source": [
    "# просмотр первых 10 строк moscow_genres\n",
    "moscow_genres.head(10)"
   ]
  },
  {
   "cell_type": "markdown",
   "metadata": {
    "deletable": false,
    "editable": false,
    "id": "cnPG2vnN_Zcv",
    "tags": [
     "start_task"
    ]
   },
   "source": [
    "**Задание 28**\n",
    "\n",
    "\n",
    "Теперь повторите то же и для Петербурга.\n",
    "\n",
    "Сгруппируйте таблицу `spb_general` по жанру. Посчитайте прослушивания треков каждого жанра. Результат отсортируйте в порядке убывания и сохраните в таблице `spb_genres`:\n"
   ]
  },
  {
   "cell_type": "code",
   "execution_count": 52,
   "metadata": {
    "deletable": false,
    "id": "gluLIpE7_Zcv"
   },
   "outputs": [],
   "source": [
    "# одной строкой: группировка таблицы spb_general по столбцу 'genre', \n",
    "# подсчёт числа значений 'genre' в этой группировке методом count(), \n",
    "# сортировка получившегося Series в порядке убывания и сохранение в spb_genres\n",
    "spb_genres = spb_general.groupby('genre')['genre'].count().sort_values(ascending=False)"
   ]
  },
  {
   "cell_type": "markdown",
   "metadata": {
    "deletable": false,
    "editable": false,
    "id": "5Doha_ODgyQ8",
    "tags": [
     "start_task"
    ]
   },
   "source": [
    "**Задание 29**\n",
    "\n",
    "Выведите на экран первые десять строк `spb_genres`:"
   ]
  },
  {
   "cell_type": "code",
   "execution_count": 53,
   "metadata": {
    "deletable": false,
    "id": "uaGJHjVU_Zcv"
   },
   "outputs": [
    {
     "data": {
      "text/plain": [
       "genre\n",
       "pop            2431\n",
       "dance          1932\n",
       "rock           1879\n",
       "electronic     1736\n",
       "hiphop          960\n",
       "alternative     649\n",
       "classical       646\n",
       "rusrap          564\n",
       "ruspop          538\n",
       "world           515\n",
       "Name: genre, dtype: int64"
      ]
     },
     "execution_count": 53,
     "metadata": {},
     "output_type": "execute_result"
    }
   ],
   "source": [
    "# просмотр первых 10 строк spb_genres\n",
    "spb_genres.head(10)"
   ]
  },
  {
   "cell_type": "markdown",
   "metadata": {
    "deletable": false,
    "editable": false,
    "id": "RY51YJYu_Zcv"
   },
   "source": [
    "**Выводы**"
   ]
  },
  {
   "cell_type": "markdown",
   "metadata": {
    "deletable": false,
    "editable": false,
    "id": "nVhnJEm__Zcv"
   },
   "source": [
    "Гипотеза частично подтвердилась:\n",
    "* Поп-музыка — самый популярный жанр в Москве, как и предполагала гипотеза. Более того, в топ-10 жанров встречается близкий жанр — русская популярная музыка.\n",
    "* Вопреки ожиданиям, рэп одинаково популярен в Москве и Петербурге. \n"
   ]
  },
  {
   "cell_type": "markdown",
   "metadata": {
    "deletable": false,
    "editable": false,
    "id": "ykKQ0N65_Zcv"
   },
   "source": [
    "## Итоги исследования"
   ]
  },
  {
   "cell_type": "markdown",
   "metadata": {
    "deletable": false,
    "editable": false,
    "id": "tjUwbHb3_Zcv"
   },
   "source": [
    "Вы проверили три гипотезы и установили:\n",
    "\n",
    "1. День недели по-разному влияет на активность пользователей в Москве и Петербурге. \n",
    "\n",
    "Первая гипотеза полностью подтвердилась.\n",
    "\n",
    "2. Музыкальные предпочтения не сильно меняются в течение недели — будь то Москва или Петербург. Небольшие различия заметны в начале недели, по понедельникам:\n",
    "* в Москве слушают музыку жанра “world”,\n",
    "* в Петербурге — джаз и классику.\n",
    "\n",
    "Таким образом, вторая гипотеза подтвердилась лишь отчасти. Этот результат мог оказаться иным, если бы не пропуски в данных.\n",
    "\n",
    "3. Во вкусах пользователей Москвы и Петербурга больше общего чем различий. Вопреки ожиданиям, предпочтения жанров в Петербурге напоминают московские.\n",
    "\n",
    "Третья гипотеза не подтвердилась. Если различия в предпочтениях и существуют, на основной массе пользователей они незаметны.\n",
    "\n",
    "**На практике исследования содержат проверки статистических гипотез.**\n",
    "Из данных одного сервиса не всегда можно сделать вывод о всех жителях города.\n",
    "Проверки статистических гипотез покажут, насколько они достоверны, исходя из имеющихся данных. \n",
    "С методами проверок гипотез вы ещё познакомитесь в следующих темах."
   ]
  }
 ],
 "metadata": {
  "ExecuteTimeLog": [
   {
    "duration": 435,
    "start_time": "2023-01-26T11:44:14.629Z"
   },
   {
    "duration": 124,
    "start_time": "2023-01-26T11:44:54.036Z"
   },
   {
    "duration": 1117,
    "start_time": "2023-01-26T11:45:22.920Z"
   },
   {
    "duration": 22,
    "start_time": "2023-01-26T11:45:35.940Z"
   },
   {
    "duration": 41,
    "start_time": "2023-01-26T11:48:16.230Z"
   },
   {
    "duration": 82,
    "start_time": "2023-01-26T12:16:34.166Z"
   },
   {
    "duration": 4,
    "start_time": "2023-01-26T12:16:52.524Z"
   },
   {
    "duration": 4,
    "start_time": "2023-01-26T12:19:56.848Z"
   },
   {
    "duration": 102,
    "start_time": "2023-01-26T12:29:48.944Z"
   },
   {
    "duration": 709,
    "start_time": "2023-01-26T12:33:47.753Z"
   },
   {
    "duration": 465,
    "start_time": "2023-01-26T12:39:21.415Z"
   },
   {
    "duration": 11,
    "start_time": "2023-01-26T12:39:42.371Z"
   },
   {
    "duration": 9,
    "start_time": "2023-01-26T12:39:55.681Z"
   },
   {
    "duration": 42,
    "start_time": "2023-01-26T12:43:35.714Z"
   },
   {
    "duration": 116,
    "start_time": "2023-01-26T12:46:26.458Z"
   },
   {
    "duration": 689,
    "start_time": "2023-01-26T12:46:33.881Z"
   },
   {
    "duration": 12,
    "start_time": "2023-01-26T12:46:49.305Z"
   },
   {
    "duration": 52,
    "start_time": "2023-01-26T13:25:14.349Z"
   },
   {
    "duration": 14,
    "start_time": "2023-01-26T13:26:07.152Z"
   },
   {
    "duration": 54,
    "start_time": "2023-01-26T14:54:04.524Z"
   },
   {
    "duration": 32,
    "start_time": "2023-01-26T14:54:33.775Z"
   },
   {
    "duration": 77,
    "start_time": "2023-01-27T07:04:16.219Z"
   },
   {
    "duration": 428,
    "start_time": "2023-01-27T07:04:34.867Z"
   },
   {
    "duration": 451,
    "start_time": "2023-01-27T07:04:35.297Z"
   },
   {
    "duration": 18,
    "start_time": "2023-01-27T07:04:35.750Z"
   },
   {
    "duration": 34,
    "start_time": "2023-01-27T07:04:35.770Z"
   },
   {
    "duration": 2,
    "start_time": "2023-01-27T07:04:35.807Z"
   },
   {
    "duration": 17,
    "start_time": "2023-01-27T07:04:35.811Z"
   },
   {
    "duration": 14,
    "start_time": "2023-01-27T07:04:35.830Z"
   },
   {
    "duration": 8,
    "start_time": "2023-01-27T07:04:35.845Z"
   },
   {
    "duration": 29,
    "start_time": "2023-01-27T07:04:35.854Z"
   },
   {
    "duration": 29,
    "start_time": "2023-01-27T07:04:35.894Z"
   },
   {
    "duration": 28,
    "start_time": "2023-01-27T07:04:35.926Z"
   },
   {
    "duration": 6,
    "start_time": "2023-01-27T07:04:35.957Z"
   },
   {
    "duration": 7,
    "start_time": "2023-01-27T07:04:35.965Z"
   },
   {
    "duration": 33,
    "start_time": "2023-01-27T07:04:35.973Z"
   },
   {
    "duration": 34,
    "start_time": "2023-01-27T07:04:36.008Z"
   },
   {
    "duration": 7,
    "start_time": "2023-01-27T07:04:36.044Z"
   },
   {
    "duration": 8,
    "start_time": "2023-01-27T07:04:36.054Z"
   },
   {
    "duration": 27,
    "start_time": "2023-01-27T07:04:36.064Z"
   },
   {
    "duration": 10,
    "start_time": "2023-01-27T07:04:36.093Z"
   },
   {
    "duration": 18,
    "start_time": "2023-01-27T07:04:36.105Z"
   },
   {
    "duration": 22,
    "start_time": "2023-01-27T07:04:36.125Z"
   },
   {
    "duration": 9,
    "start_time": "2023-01-27T07:04:36.149Z"
   },
   {
    "duration": 17,
    "start_time": "2023-01-27T07:04:36.161Z"
   },
   {
    "duration": 19,
    "start_time": "2023-01-27T07:04:36.180Z"
   },
   {
    "duration": 16,
    "start_time": "2023-01-27T07:04:36.201Z"
   },
   {
    "duration": 5,
    "start_time": "2023-01-27T07:04:36.218Z"
   },
   {
    "duration": 5,
    "start_time": "2023-01-27T07:04:36.225Z"
   },
   {
    "duration": 3,
    "start_time": "2023-01-27T07:04:36.234Z"
   },
   {
    "duration": 18,
    "start_time": "2023-01-27T07:04:36.239Z"
   },
   {
    "duration": 46,
    "start_time": "2023-01-27T07:04:36.259Z"
   },
   {
    "duration": 0,
    "start_time": "2023-01-27T07:04:36.306Z"
   },
   {
    "duration": 0,
    "start_time": "2023-01-27T07:04:36.307Z"
   },
   {
    "duration": 0,
    "start_time": "2023-01-27T07:04:36.309Z"
   },
   {
    "duration": 0,
    "start_time": "2023-01-27T07:04:36.309Z"
   },
   {
    "duration": 0,
    "start_time": "2023-01-27T07:04:36.311Z"
   },
   {
    "duration": 0,
    "start_time": "2023-01-27T07:04:36.312Z"
   },
   {
    "duration": 0,
    "start_time": "2023-01-27T07:04:36.312Z"
   },
   {
    "duration": 0,
    "start_time": "2023-01-27T07:04:36.314Z"
   },
   {
    "duration": 72,
    "start_time": "2023-01-27T07:24:32.747Z"
   },
   {
    "duration": 91,
    "start_time": "2023-01-27T07:26:35.428Z"
   },
   {
    "duration": 386,
    "start_time": "2023-01-27T07:49:16.508Z"
   },
   {
    "duration": 168,
    "start_time": "2023-01-27T07:49:16.896Z"
   },
   {
    "duration": 18,
    "start_time": "2023-01-27T07:49:17.065Z"
   },
   {
    "duration": 33,
    "start_time": "2023-01-27T07:49:17.084Z"
   },
   {
    "duration": 2,
    "start_time": "2023-01-27T07:49:17.120Z"
   },
   {
    "duration": 6,
    "start_time": "2023-01-27T07:49:17.124Z"
   },
   {
    "duration": 16,
    "start_time": "2023-01-27T07:49:17.131Z"
   },
   {
    "duration": 6,
    "start_time": "2023-01-27T07:49:17.149Z"
   },
   {
    "duration": 52,
    "start_time": "2023-01-27T07:49:17.157Z"
   },
   {
    "duration": 27,
    "start_time": "2023-01-27T07:49:17.210Z"
   },
   {
    "duration": 24,
    "start_time": "2023-01-27T07:49:17.239Z"
   },
   {
    "duration": 86,
    "start_time": "2023-01-27T07:49:17.265Z"
   },
   {
    "duration": 91,
    "start_time": "2023-01-27T07:49:17.353Z"
   },
   {
    "duration": 4,
    "start_time": "2023-01-27T07:49:17.446Z"
   },
   {
    "duration": 6,
    "start_time": "2023-01-27T07:49:17.452Z"
   },
   {
    "duration": 5,
    "start_time": "2023-01-27T07:49:17.460Z"
   },
   {
    "duration": 7,
    "start_time": "2023-01-27T07:49:17.466Z"
   },
   {
    "duration": 6,
    "start_time": "2023-01-27T07:49:17.474Z"
   },
   {
    "duration": 9,
    "start_time": "2023-01-27T07:49:17.482Z"
   },
   {
    "duration": 3,
    "start_time": "2023-01-27T07:49:17.493Z"
   },
   {
    "duration": 16,
    "start_time": "2023-01-27T07:49:17.498Z"
   },
   {
    "duration": 8,
    "start_time": "2023-01-27T07:49:17.515Z"
   },
   {
    "duration": 8,
    "start_time": "2023-01-27T07:49:17.524Z"
   },
   {
    "duration": 4,
    "start_time": "2023-01-27T07:49:17.534Z"
   },
   {
    "duration": 12,
    "start_time": "2023-01-27T07:49:17.540Z"
   },
   {
    "duration": 20,
    "start_time": "2023-01-27T07:49:17.554Z"
   },
   {
    "duration": 9,
    "start_time": "2023-01-27T07:49:17.575Z"
   },
   {
    "duration": 5,
    "start_time": "2023-01-27T07:49:17.585Z"
   },
   {
    "duration": 5,
    "start_time": "2023-01-27T07:49:17.592Z"
   },
   {
    "duration": 109,
    "start_time": "2023-01-27T07:49:17.599Z"
   },
   {
    "duration": 0,
    "start_time": "2023-01-27T07:49:17.709Z"
   },
   {
    "duration": 0,
    "start_time": "2023-01-27T07:49:17.710Z"
   },
   {
    "duration": 0,
    "start_time": "2023-01-27T07:49:17.712Z"
   },
   {
    "duration": 0,
    "start_time": "2023-01-27T07:49:17.713Z"
   },
   {
    "duration": 0,
    "start_time": "2023-01-27T07:49:17.714Z"
   },
   {
    "duration": 0,
    "start_time": "2023-01-27T07:49:17.715Z"
   },
   {
    "duration": 0,
    "start_time": "2023-01-27T07:49:17.716Z"
   },
   {
    "duration": 0,
    "start_time": "2023-01-27T07:49:17.717Z"
   },
   {
    "duration": 65,
    "start_time": "2023-01-27T07:51:26.923Z"
   },
   {
    "duration": 63,
    "start_time": "2023-01-27T07:52:18.060Z"
   },
   {
    "duration": 402,
    "start_time": "2023-01-27T07:52:26.993Z"
   },
   {
    "duration": 183,
    "start_time": "2023-01-27T07:52:27.397Z"
   },
   {
    "duration": 17,
    "start_time": "2023-01-27T07:52:27.582Z"
   },
   {
    "duration": 28,
    "start_time": "2023-01-27T07:52:27.601Z"
   },
   {
    "duration": 2,
    "start_time": "2023-01-27T07:52:27.631Z"
   },
   {
    "duration": 5,
    "start_time": "2023-01-27T07:52:27.635Z"
   },
   {
    "duration": 12,
    "start_time": "2023-01-27T07:52:27.641Z"
   },
   {
    "duration": 5,
    "start_time": "2023-01-27T07:52:27.655Z"
   },
   {
    "duration": 52,
    "start_time": "2023-01-27T07:52:27.661Z"
   },
   {
    "duration": 22,
    "start_time": "2023-01-27T07:52:27.716Z"
   },
   {
    "duration": 23,
    "start_time": "2023-01-27T07:52:27.739Z"
   },
   {
    "duration": 105,
    "start_time": "2023-01-27T07:52:27.764Z"
   },
   {
    "duration": 91,
    "start_time": "2023-01-27T07:52:27.872Z"
   },
   {
    "duration": 66,
    "start_time": "2023-01-27T07:52:27.965Z"
   },
   {
    "duration": 3,
    "start_time": "2023-01-27T07:52:28.033Z"
   },
   {
    "duration": 4,
    "start_time": "2023-01-27T07:52:28.038Z"
   },
   {
    "duration": 4,
    "start_time": "2023-01-27T07:52:28.044Z"
   },
   {
    "duration": 4,
    "start_time": "2023-01-27T07:52:28.050Z"
   },
   {
    "duration": 5,
    "start_time": "2023-01-27T07:52:28.056Z"
   },
   {
    "duration": 5,
    "start_time": "2023-01-27T07:52:28.062Z"
   },
   {
    "duration": 24,
    "start_time": "2023-01-27T07:52:28.068Z"
   },
   {
    "duration": 6,
    "start_time": "2023-01-27T07:52:28.093Z"
   },
   {
    "duration": 6,
    "start_time": "2023-01-27T07:52:28.100Z"
   },
   {
    "duration": 9,
    "start_time": "2023-01-27T07:52:28.108Z"
   },
   {
    "duration": 8,
    "start_time": "2023-01-27T07:52:28.119Z"
   },
   {
    "duration": 6,
    "start_time": "2023-01-27T07:52:28.129Z"
   },
   {
    "duration": 5,
    "start_time": "2023-01-27T07:52:28.137Z"
   },
   {
    "duration": 5,
    "start_time": "2023-01-27T07:52:28.145Z"
   },
   {
    "duration": 4,
    "start_time": "2023-01-27T07:52:28.152Z"
   },
   {
    "duration": 66,
    "start_time": "2023-01-27T07:52:28.158Z"
   },
   {
    "duration": 0,
    "start_time": "2023-01-27T07:52:28.225Z"
   },
   {
    "duration": 0,
    "start_time": "2023-01-27T07:52:28.227Z"
   },
   {
    "duration": 0,
    "start_time": "2023-01-27T07:52:28.229Z"
   },
   {
    "duration": 0,
    "start_time": "2023-01-27T07:52:28.230Z"
   },
   {
    "duration": 0,
    "start_time": "2023-01-27T07:52:28.232Z"
   },
   {
    "duration": 0,
    "start_time": "2023-01-27T07:52:28.233Z"
   },
   {
    "duration": 0,
    "start_time": "2023-01-27T07:52:28.235Z"
   },
   {
    "duration": 0,
    "start_time": "2023-01-27T07:52:28.235Z"
   },
   {
    "duration": 382,
    "start_time": "2023-01-27T07:52:41.629Z"
   },
   {
    "duration": 168,
    "start_time": "2023-01-27T07:52:42.013Z"
   },
   {
    "duration": 18,
    "start_time": "2023-01-27T07:52:42.183Z"
   },
   {
    "duration": 27,
    "start_time": "2023-01-27T07:52:42.203Z"
   },
   {
    "duration": 8,
    "start_time": "2023-01-27T07:52:42.232Z"
   },
   {
    "duration": 9,
    "start_time": "2023-01-27T07:52:42.242Z"
   },
   {
    "duration": 16,
    "start_time": "2023-01-27T07:52:42.253Z"
   },
   {
    "duration": 26,
    "start_time": "2023-01-27T07:52:42.271Z"
   },
   {
    "duration": 29,
    "start_time": "2023-01-27T07:52:42.299Z"
   },
   {
    "duration": 22,
    "start_time": "2023-01-27T07:52:42.333Z"
   },
   {
    "duration": 22,
    "start_time": "2023-01-27T07:52:42.356Z"
   },
   {
    "duration": 65,
    "start_time": "2023-01-27T07:52:42.392Z"
   },
   {
    "duration": 93,
    "start_time": "2023-01-27T07:52:42.459Z"
   },
   {
    "duration": 70,
    "start_time": "2023-01-27T07:52:42.554Z"
   },
   {
    "duration": 2,
    "start_time": "2023-01-27T07:52:42.626Z"
   },
   {
    "duration": 9,
    "start_time": "2023-01-27T07:52:42.629Z"
   },
   {
    "duration": 21,
    "start_time": "2023-01-27T07:52:42.640Z"
   },
   {
    "duration": 6,
    "start_time": "2023-01-27T07:52:42.662Z"
   },
   {
    "duration": 13,
    "start_time": "2023-01-27T07:52:42.670Z"
   },
   {
    "duration": 8,
    "start_time": "2023-01-27T07:52:42.685Z"
   },
   {
    "duration": 8,
    "start_time": "2023-01-27T07:52:42.694Z"
   },
   {
    "duration": 5,
    "start_time": "2023-01-27T07:52:42.704Z"
   },
   {
    "duration": 6,
    "start_time": "2023-01-27T07:52:42.711Z"
   },
   {
    "duration": 5,
    "start_time": "2023-01-27T07:52:42.719Z"
   },
   {
    "duration": 7,
    "start_time": "2023-01-27T07:52:42.726Z"
   },
   {
    "duration": 5,
    "start_time": "2023-01-27T07:52:42.735Z"
   },
   {
    "duration": 6,
    "start_time": "2023-01-27T07:52:42.742Z"
   },
   {
    "duration": 4,
    "start_time": "2023-01-27T07:52:42.751Z"
   },
   {
    "duration": 5,
    "start_time": "2023-01-27T07:52:42.758Z"
   },
   {
    "duration": 97,
    "start_time": "2023-01-27T07:52:42.765Z"
   },
   {
    "duration": 0,
    "start_time": "2023-01-27T07:52:42.864Z"
   },
   {
    "duration": 0,
    "start_time": "2023-01-27T07:52:42.865Z"
   },
   {
    "duration": 0,
    "start_time": "2023-01-27T07:52:42.866Z"
   },
   {
    "duration": 0,
    "start_time": "2023-01-27T07:52:42.867Z"
   },
   {
    "duration": 0,
    "start_time": "2023-01-27T07:52:42.869Z"
   },
   {
    "duration": 0,
    "start_time": "2023-01-27T07:52:42.871Z"
   },
   {
    "duration": 0,
    "start_time": "2023-01-27T07:52:42.873Z"
   },
   {
    "duration": 0,
    "start_time": "2023-01-27T07:52:42.875Z"
   },
   {
    "duration": 43,
    "start_time": "2023-01-27T07:59:49.168Z"
   },
   {
    "duration": 78,
    "start_time": "2023-01-27T08:20:21.834Z"
   },
   {
    "duration": 13,
    "start_time": "2023-01-27T08:24:43.487Z"
   },
   {
    "duration": 12,
    "start_time": "2023-01-27T08:25:54.224Z"
   },
   {
    "duration": 27,
    "start_time": "2023-01-27T08:28:46.062Z"
   },
   {
    "duration": 15,
    "start_time": "2023-01-27T08:30:35.233Z"
   },
   {
    "duration": 14,
    "start_time": "2023-01-27T08:30:45.988Z"
   },
   {
    "duration": 28,
    "start_time": "2023-01-27T08:31:14.319Z"
   },
   {
    "duration": 421,
    "start_time": "2023-01-27T08:31:30.309Z"
   },
   {
    "duration": 179,
    "start_time": "2023-01-27T08:31:30.732Z"
   },
   {
    "duration": 22,
    "start_time": "2023-01-27T08:31:30.912Z"
   },
   {
    "duration": 66,
    "start_time": "2023-01-27T08:31:30.936Z"
   },
   {
    "duration": 26,
    "start_time": "2023-01-27T08:31:31.004Z"
   },
   {
    "duration": 31,
    "start_time": "2023-01-27T08:31:31.032Z"
   },
   {
    "duration": 77,
    "start_time": "2023-01-27T08:31:31.065Z"
   },
   {
    "duration": 52,
    "start_time": "2023-01-27T08:31:31.144Z"
   },
   {
    "duration": 88,
    "start_time": "2023-01-27T08:31:31.198Z"
   },
   {
    "duration": 38,
    "start_time": "2023-01-27T08:31:31.289Z"
   },
   {
    "duration": 56,
    "start_time": "2023-01-27T08:31:31.329Z"
   },
   {
    "duration": 86,
    "start_time": "2023-01-27T08:31:31.386Z"
   },
   {
    "duration": 77,
    "start_time": "2023-01-27T08:31:31.474Z"
   },
   {
    "duration": 74,
    "start_time": "2023-01-27T08:31:31.553Z"
   },
   {
    "duration": 48,
    "start_time": "2023-01-27T08:31:31.629Z"
   },
   {
    "duration": 38,
    "start_time": "2023-01-27T08:31:31.696Z"
   },
   {
    "duration": 19,
    "start_time": "2023-01-27T08:31:31.736Z"
   },
   {
    "duration": 3,
    "start_time": "2023-01-27T08:31:31.757Z"
   },
   {
    "duration": 9,
    "start_time": "2023-01-27T08:31:31.761Z"
   },
   {
    "duration": 21,
    "start_time": "2023-01-27T08:31:31.771Z"
   },
   {
    "duration": 13,
    "start_time": "2023-01-27T08:31:31.794Z"
   },
   {
    "duration": 6,
    "start_time": "2023-01-27T08:31:31.809Z"
   },
   {
    "duration": 7,
    "start_time": "2023-01-27T08:31:31.817Z"
   },
   {
    "duration": 8,
    "start_time": "2023-01-27T08:31:31.825Z"
   },
   {
    "duration": 14,
    "start_time": "2023-01-27T08:31:31.835Z"
   },
   {
    "duration": 6,
    "start_time": "2023-01-27T08:31:31.851Z"
   },
   {
    "duration": 9,
    "start_time": "2023-01-27T08:31:31.859Z"
   },
   {
    "duration": 10,
    "start_time": "2023-01-27T08:31:31.871Z"
   },
   {
    "duration": 19,
    "start_time": "2023-01-27T08:31:31.883Z"
   },
   {
    "duration": 55,
    "start_time": "2023-01-27T08:31:31.904Z"
   },
   {
    "duration": 0,
    "start_time": "2023-01-27T08:31:31.960Z"
   },
   {
    "duration": 0,
    "start_time": "2023-01-27T08:31:31.961Z"
   },
   {
    "duration": 0,
    "start_time": "2023-01-27T08:31:31.962Z"
   },
   {
    "duration": 0,
    "start_time": "2023-01-27T08:31:31.963Z"
   },
   {
    "duration": 0,
    "start_time": "2023-01-27T08:31:31.964Z"
   },
   {
    "duration": 0,
    "start_time": "2023-01-27T08:31:31.965Z"
   },
   {
    "duration": 0,
    "start_time": "2023-01-27T08:31:31.966Z"
   },
   {
    "duration": 0,
    "start_time": "2023-01-27T08:31:31.968Z"
   },
   {
    "duration": 164,
    "start_time": "2023-01-27T08:32:51.828Z"
   },
   {
    "duration": 26,
    "start_time": "2023-01-27T08:32:59.416Z"
   },
   {
    "duration": 78,
    "start_time": "2023-01-27T08:34:01.553Z"
   },
   {
    "duration": 375,
    "start_time": "2023-01-27T08:35:33.439Z"
   },
   {
    "duration": 174,
    "start_time": "2023-01-27T08:35:33.819Z"
   },
   {
    "duration": 18,
    "start_time": "2023-01-27T08:35:33.994Z"
   },
   {
    "duration": 28,
    "start_time": "2023-01-27T08:35:34.015Z"
   },
   {
    "duration": 24,
    "start_time": "2023-01-27T08:35:34.045Z"
   },
   {
    "duration": 7,
    "start_time": "2023-01-27T08:35:34.071Z"
   },
   {
    "duration": 17,
    "start_time": "2023-01-27T08:35:34.080Z"
   },
   {
    "duration": 11,
    "start_time": "2023-01-27T08:35:34.102Z"
   },
   {
    "duration": 26,
    "start_time": "2023-01-27T08:35:34.114Z"
   },
   {
    "duration": 24,
    "start_time": "2023-01-27T08:35:34.143Z"
   },
   {
    "duration": 45,
    "start_time": "2023-01-27T08:35:34.169Z"
   },
   {
    "duration": 100,
    "start_time": "2023-01-27T08:35:34.216Z"
   },
   {
    "duration": 88,
    "start_time": "2023-01-27T08:35:34.318Z"
   },
   {
    "duration": 60,
    "start_time": "2023-01-27T08:35:34.408Z"
   },
   {
    "duration": 53,
    "start_time": "2023-01-27T08:35:34.470Z"
   },
   {
    "duration": 79,
    "start_time": "2023-01-27T08:35:34.525Z"
   },
   {
    "duration": 0,
    "start_time": "2023-01-27T08:35:34.607Z"
   },
   {
    "duration": 0,
    "start_time": "2023-01-27T08:35:34.608Z"
   },
   {
    "duration": 0,
    "start_time": "2023-01-27T08:35:34.609Z"
   },
   {
    "duration": 0,
    "start_time": "2023-01-27T08:35:34.611Z"
   },
   {
    "duration": 0,
    "start_time": "2023-01-27T08:35:34.612Z"
   },
   {
    "duration": 0,
    "start_time": "2023-01-27T08:35:34.613Z"
   },
   {
    "duration": 0,
    "start_time": "2023-01-27T08:35:34.615Z"
   },
   {
    "duration": 0,
    "start_time": "2023-01-27T08:35:34.616Z"
   },
   {
    "duration": 0,
    "start_time": "2023-01-27T08:35:34.617Z"
   },
   {
    "duration": 0,
    "start_time": "2023-01-27T08:35:34.621Z"
   },
   {
    "duration": 0,
    "start_time": "2023-01-27T08:35:34.622Z"
   },
   {
    "duration": 0,
    "start_time": "2023-01-27T08:35:34.623Z"
   },
   {
    "duration": 0,
    "start_time": "2023-01-27T08:35:34.624Z"
   },
   {
    "duration": 0,
    "start_time": "2023-01-27T08:35:34.626Z"
   },
   {
    "duration": 0,
    "start_time": "2023-01-27T08:35:34.626Z"
   },
   {
    "duration": 0,
    "start_time": "2023-01-27T08:35:34.628Z"
   },
   {
    "duration": 0,
    "start_time": "2023-01-27T08:35:34.629Z"
   },
   {
    "duration": 0,
    "start_time": "2023-01-27T08:35:34.630Z"
   },
   {
    "duration": 0,
    "start_time": "2023-01-27T08:35:34.631Z"
   },
   {
    "duration": 0,
    "start_time": "2023-01-27T08:35:34.632Z"
   },
   {
    "duration": 0,
    "start_time": "2023-01-27T08:35:34.633Z"
   },
   {
    "duration": 0,
    "start_time": "2023-01-27T08:35:34.634Z"
   },
   {
    "duration": 58,
    "start_time": "2023-01-27T08:36:20.641Z"
   },
   {
    "duration": 45,
    "start_time": "2023-01-27T09:43:16.341Z"
   },
   {
    "duration": 3,
    "start_time": "2023-01-27T09:46:30.345Z"
   },
   {
    "duration": 7,
    "start_time": "2023-01-27T09:47:42.528Z"
   },
   {
    "duration": 32,
    "start_time": "2023-01-27T09:47:54.564Z"
   },
   {
    "duration": 417,
    "start_time": "2023-01-27T09:48:02.923Z"
   },
   {
    "duration": 189,
    "start_time": "2023-01-27T09:48:03.343Z"
   },
   {
    "duration": 19,
    "start_time": "2023-01-27T09:48:03.534Z"
   },
   {
    "duration": 42,
    "start_time": "2023-01-27T09:48:03.556Z"
   },
   {
    "duration": 28,
    "start_time": "2023-01-27T09:48:03.600Z"
   },
   {
    "duration": 29,
    "start_time": "2023-01-27T09:48:03.632Z"
   },
   {
    "duration": 69,
    "start_time": "2023-01-27T09:48:03.663Z"
   },
   {
    "duration": 11,
    "start_time": "2023-01-27T09:48:03.734Z"
   },
   {
    "duration": 77,
    "start_time": "2023-01-27T09:48:03.747Z"
   },
   {
    "duration": 37,
    "start_time": "2023-01-27T09:48:03.828Z"
   },
   {
    "duration": 178,
    "start_time": "2023-01-27T09:48:03.868Z"
   },
   {
    "duration": 111,
    "start_time": "2023-01-27T09:48:04.048Z"
   },
   {
    "duration": 90,
    "start_time": "2023-01-27T09:48:04.161Z"
   },
   {
    "duration": 74,
    "start_time": "2023-01-27T09:48:04.253Z"
   },
   {
    "duration": 38,
    "start_time": "2023-01-27T09:48:04.329Z"
   },
   {
    "duration": 3,
    "start_time": "2023-01-27T09:48:04.369Z"
   },
   {
    "duration": 52,
    "start_time": "2023-01-27T09:48:04.374Z"
   },
   {
    "duration": 41,
    "start_time": "2023-01-27T09:48:04.428Z"
   },
   {
    "duration": 2,
    "start_time": "2023-01-27T09:48:04.471Z"
   },
   {
    "duration": 5,
    "start_time": "2023-01-27T09:48:04.475Z"
   },
   {
    "duration": 19,
    "start_time": "2023-01-27T09:48:04.482Z"
   },
   {
    "duration": 56,
    "start_time": "2023-01-27T09:48:04.503Z"
   },
   {
    "duration": 5,
    "start_time": "2023-01-27T09:48:04.561Z"
   },
   {
    "duration": 5,
    "start_time": "2023-01-27T09:48:04.567Z"
   },
   {
    "duration": 33,
    "start_time": "2023-01-27T09:48:04.574Z"
   },
   {
    "duration": 16,
    "start_time": "2023-01-27T09:48:04.609Z"
   },
   {
    "duration": 7,
    "start_time": "2023-01-27T09:48:04.626Z"
   },
   {
    "duration": 14,
    "start_time": "2023-01-27T09:48:04.636Z"
   },
   {
    "duration": 18,
    "start_time": "2023-01-27T09:48:04.652Z"
   },
   {
    "duration": 11,
    "start_time": "2023-01-27T09:48:04.672Z"
   },
   {
    "duration": 122,
    "start_time": "2023-01-27T09:48:04.685Z"
   },
   {
    "duration": 0,
    "start_time": "2023-01-27T09:48:04.809Z"
   },
   {
    "duration": 0,
    "start_time": "2023-01-27T09:48:04.810Z"
   },
   {
    "duration": 1,
    "start_time": "2023-01-27T09:48:04.811Z"
   },
   {
    "duration": 0,
    "start_time": "2023-01-27T09:48:04.813Z"
   },
   {
    "duration": 0,
    "start_time": "2023-01-27T09:48:04.815Z"
   },
   {
    "duration": 0,
    "start_time": "2023-01-27T09:48:04.816Z"
   },
   {
    "duration": 0,
    "start_time": "2023-01-27T09:48:04.817Z"
   },
   {
    "duration": 0,
    "start_time": "2023-01-27T09:48:04.818Z"
   },
   {
    "duration": 68,
    "start_time": "2023-01-27T10:58:07.759Z"
   },
   {
    "duration": 16,
    "start_time": "2023-01-27T10:58:20.416Z"
   },
   {
    "duration": 12,
    "start_time": "2023-01-27T10:59:24.998Z"
   },
   {
    "duration": 4,
    "start_time": "2023-01-27T11:16:33.981Z"
   },
   {
    "duration": 28,
    "start_time": "2023-01-27T11:17:46.807Z"
   },
   {
    "duration": 17,
    "start_time": "2023-01-27T11:18:14.116Z"
   },
   {
    "duration": 17,
    "start_time": "2023-01-27T11:18:29.841Z"
   },
   {
    "duration": 15,
    "start_time": "2023-01-27T11:18:49.823Z"
   },
   {
    "duration": 21,
    "start_time": "2023-01-27T11:19:36.018Z"
   },
   {
    "duration": 19,
    "start_time": "2023-01-27T11:19:54.602Z"
   },
   {
    "duration": 18,
    "start_time": "2023-01-27T11:20:09.337Z"
   },
   {
    "duration": 71,
    "start_time": "2023-01-27T11:32:27.104Z"
   },
   {
    "duration": 69,
    "start_time": "2023-01-27T11:32:47.734Z"
   },
   {
    "duration": 4,
    "start_time": "2023-01-27T11:45:57.305Z"
   },
   {
    "duration": 4,
    "start_time": "2023-01-27T11:46:08.022Z"
   },
   {
    "duration": 4,
    "start_time": "2023-01-27T11:47:53.284Z"
   },
   {
    "duration": 12,
    "start_time": "2023-01-27T11:48:22.741Z"
   },
   {
    "duration": 9,
    "start_time": "2023-01-27T11:48:23.258Z"
   },
   {
    "duration": 87,
    "start_time": "2023-01-28T13:21:55.569Z"
   },
   {
    "duration": 53,
    "start_time": "2023-01-28T13:22:02.185Z"
   },
   {
    "duration": 55,
    "start_time": "2023-01-28T13:22:21.892Z"
   },
   {
    "duration": 54,
    "start_time": "2023-01-28T13:22:59.339Z"
   },
   {
    "duration": 4,
    "start_time": "2023-01-28T13:26:12.267Z"
   },
   {
    "duration": 4,
    "start_time": "2023-01-28T13:26:29.283Z"
   },
   {
    "duration": 93,
    "start_time": "2023-01-29T10:42:24.920Z"
   },
   {
    "duration": 490,
    "start_time": "2023-01-29T10:42:38.662Z"
   },
   {
    "duration": 381,
    "start_time": "2023-01-29T10:42:39.155Z"
   },
   {
    "duration": 28,
    "start_time": "2023-01-29T10:42:39.539Z"
   },
   {
    "duration": 108,
    "start_time": "2023-01-29T10:42:39.570Z"
   },
   {
    "duration": 43,
    "start_time": "2023-01-29T10:42:39.682Z"
   },
   {
    "duration": 61,
    "start_time": "2023-01-29T10:42:39.727Z"
   },
   {
    "duration": 63,
    "start_time": "2023-01-29T10:42:39.790Z"
   },
   {
    "duration": 37,
    "start_time": "2023-01-29T10:42:39.855Z"
   },
   {
    "duration": 77,
    "start_time": "2023-01-29T10:42:39.894Z"
   },
   {
    "duration": 96,
    "start_time": "2023-01-29T10:42:39.974Z"
   },
   {
    "duration": 67,
    "start_time": "2023-01-29T10:42:40.073Z"
   },
   {
    "duration": 155,
    "start_time": "2023-01-29T10:42:40.142Z"
   },
   {
    "duration": 91,
    "start_time": "2023-01-29T10:42:40.303Z"
   },
   {
    "duration": 114,
    "start_time": "2023-01-29T10:42:40.403Z"
   },
   {
    "duration": 141,
    "start_time": "2023-01-29T10:42:40.526Z"
   },
   {
    "duration": 15,
    "start_time": "2023-01-29T10:42:40.670Z"
   },
   {
    "duration": 77,
    "start_time": "2023-01-29T10:42:40.687Z"
   },
   {
    "duration": 59,
    "start_time": "2023-01-29T10:42:40.766Z"
   },
   {
    "duration": 19,
    "start_time": "2023-01-29T10:42:40.827Z"
   },
   {
    "duration": 34,
    "start_time": "2023-01-29T10:42:40.848Z"
   },
   {
    "duration": 13,
    "start_time": "2023-01-29T10:42:40.884Z"
   },
   {
    "duration": 97,
    "start_time": "2023-01-29T10:42:40.899Z"
   },
   {
    "duration": 27,
    "start_time": "2023-01-29T10:42:40.999Z"
   },
   {
    "duration": 83,
    "start_time": "2023-01-29T10:42:41.028Z"
   },
   {
    "duration": 23,
    "start_time": "2023-01-29T10:42:41.121Z"
   },
   {
    "duration": 53,
    "start_time": "2023-01-29T10:42:41.146Z"
   },
   {
    "duration": 57,
    "start_time": "2023-01-29T10:42:41.203Z"
   },
   {
    "duration": 147,
    "start_time": "2023-01-29T10:42:41.262Z"
   },
   {
    "duration": 20,
    "start_time": "2023-01-29T10:42:41.411Z"
   },
   {
    "duration": 77,
    "start_time": "2023-01-29T10:42:41.434Z"
   },
   {
    "duration": 85,
    "start_time": "2023-01-29T10:42:41.513Z"
   },
   {
    "duration": 56,
    "start_time": "2023-01-29T10:42:41.601Z"
   },
   {
    "duration": 29,
    "start_time": "2023-01-29T10:42:41.659Z"
   },
   {
    "duration": 55,
    "start_time": "2023-01-29T10:42:41.690Z"
   },
   {
    "duration": 13,
    "start_time": "2023-01-29T10:42:41.747Z"
   },
   {
    "duration": 29,
    "start_time": "2023-01-29T10:42:41.763Z"
   },
   {
    "duration": 64,
    "start_time": "2023-01-29T10:42:41.794Z"
   },
   {
    "duration": 19,
    "start_time": "2023-01-29T10:42:41.859Z"
   },
   {
    "duration": 71,
    "start_time": "2023-01-29T10:42:41.881Z"
   },
   {
    "duration": 15,
    "start_time": "2023-01-29T10:44:19.436Z"
   },
   {
    "duration": 25,
    "start_time": "2023-01-29T10:44:41.185Z"
   },
   {
    "duration": 12,
    "start_time": "2023-01-29T10:44:42.246Z"
   },
   {
    "duration": 26,
    "start_time": "2023-01-29T10:44:53.494Z"
   },
   {
    "duration": 19,
    "start_time": "2023-01-29T10:45:06.590Z"
   },
   {
    "duration": 7,
    "start_time": "2023-01-29T10:48:18.489Z"
   },
   {
    "duration": 24,
    "start_time": "2023-01-29T10:48:20.717Z"
   },
   {
    "duration": 82,
    "start_time": "2023-01-29T10:50:43.350Z"
   },
   {
    "duration": 461,
    "start_time": "2023-01-29T10:51:01.752Z"
   },
   {
    "duration": 240,
    "start_time": "2023-01-29T10:51:02.218Z"
   },
   {
    "duration": 22,
    "start_time": "2023-01-29T10:51:02.460Z"
   },
   {
    "duration": 51,
    "start_time": "2023-01-29T10:51:02.484Z"
   },
   {
    "duration": 22,
    "start_time": "2023-01-29T10:51:02.538Z"
   },
   {
    "duration": 15,
    "start_time": "2023-01-29T10:51:02.563Z"
   },
   {
    "duration": 66,
    "start_time": "2023-01-29T10:51:02.581Z"
   },
   {
    "duration": 27,
    "start_time": "2023-01-29T10:51:02.649Z"
   },
   {
    "duration": 52,
    "start_time": "2023-01-29T10:51:02.678Z"
   },
   {
    "duration": 56,
    "start_time": "2023-01-29T10:51:02.732Z"
   },
   {
    "duration": 40,
    "start_time": "2023-01-29T10:51:02.790Z"
   },
   {
    "duration": 115,
    "start_time": "2023-01-29T10:51:02.832Z"
   },
   {
    "duration": 110,
    "start_time": "2023-01-29T10:51:02.949Z"
   },
   {
    "duration": 105,
    "start_time": "2023-01-29T10:51:03.064Z"
   },
   {
    "duration": 61,
    "start_time": "2023-01-29T10:51:03.171Z"
   },
   {
    "duration": 4,
    "start_time": "2023-01-29T10:51:03.234Z"
   },
   {
    "duration": 34,
    "start_time": "2023-01-29T10:51:03.240Z"
   },
   {
    "duration": 54,
    "start_time": "2023-01-29T10:51:03.276Z"
   },
   {
    "duration": 19,
    "start_time": "2023-01-29T10:51:03.332Z"
   },
   {
    "duration": 18,
    "start_time": "2023-01-29T10:51:03.354Z"
   },
   {
    "duration": 5,
    "start_time": "2023-01-29T10:51:03.375Z"
   },
   {
    "duration": 40,
    "start_time": "2023-01-29T10:51:03.382Z"
   },
   {
    "duration": 31,
    "start_time": "2023-01-29T10:51:03.425Z"
   },
   {
    "duration": 63,
    "start_time": "2023-01-29T10:51:03.459Z"
   },
   {
    "duration": 31,
    "start_time": "2023-01-29T10:51:03.524Z"
   },
   {
    "duration": 73,
    "start_time": "2023-01-29T10:51:03.557Z"
   },
   {
    "duration": 82,
    "start_time": "2023-01-29T10:51:03.632Z"
   },
   {
    "duration": 146,
    "start_time": "2023-01-29T10:51:03.717Z"
   },
   {
    "duration": 14,
    "start_time": "2023-01-29T10:51:03.865Z"
   },
   {
    "duration": 37,
    "start_time": "2023-01-29T10:51:03.882Z"
   },
   {
    "duration": 33,
    "start_time": "2023-01-29T10:51:03.922Z"
   },
   {
    "duration": 112,
    "start_time": "2023-01-29T10:51:03.957Z"
   },
   {
    "duration": 0,
    "start_time": "2023-01-29T10:51:04.071Z"
   },
   {
    "duration": 0,
    "start_time": "2023-01-29T10:51:04.073Z"
   },
   {
    "duration": 0,
    "start_time": "2023-01-29T10:51:04.075Z"
   },
   {
    "duration": 0,
    "start_time": "2023-01-29T10:51:04.077Z"
   },
   {
    "duration": 0,
    "start_time": "2023-01-29T10:51:04.079Z"
   },
   {
    "duration": 0,
    "start_time": "2023-01-29T10:51:04.081Z"
   },
   {
    "duration": 0,
    "start_time": "2023-01-29T10:51:04.082Z"
   },
   {
    "duration": 0,
    "start_time": "2023-01-29T10:51:04.083Z"
   },
   {
    "duration": 18,
    "start_time": "2023-01-29T10:51:24.859Z"
   },
   {
    "duration": 32,
    "start_time": "2023-01-29T10:52:11.941Z"
   },
   {
    "duration": 5,
    "start_time": "2023-01-29T10:54:55.538Z"
   },
   {
    "duration": 28,
    "start_time": "2023-01-29T10:54:56.572Z"
   },
   {
    "duration": 6,
    "start_time": "2023-01-29T10:55:17.042Z"
   },
   {
    "duration": 27,
    "start_time": "2023-01-29T10:55:18.082Z"
   },
   {
    "duration": 6,
    "start_time": "2023-01-29T10:58:20.375Z"
   },
   {
    "duration": 24,
    "start_time": "2023-01-29T10:58:21.428Z"
   },
   {
    "duration": 15,
    "start_time": "2023-01-29T10:58:37.888Z"
   },
   {
    "duration": 21,
    "start_time": "2023-01-29T10:58:38.530Z"
   },
   {
    "duration": 17,
    "start_time": "2023-01-29T10:58:38.925Z"
   },
   {
    "duration": 15,
    "start_time": "2023-01-29T11:04:43.599Z"
   },
   {
    "duration": 9,
    "start_time": "2023-01-29T11:05:13.036Z"
   },
   {
    "duration": 11,
    "start_time": "2023-01-29T11:05:24.531Z"
   },
   {
    "duration": 6,
    "start_time": "2023-01-29T11:05:25.333Z"
   },
   {
    "duration": 5,
    "start_time": "2023-01-29T11:05:49.653Z"
   },
   {
    "duration": 5,
    "start_time": "2023-01-29T11:06:14.721Z"
   },
   {
    "duration": 9,
    "start_time": "2023-01-29T11:06:24.242Z"
   },
   {
    "duration": 6,
    "start_time": "2023-01-29T11:06:25.125Z"
   },
   {
    "duration": 11,
    "start_time": "2023-01-29T11:06:55.595Z"
   },
   {
    "duration": 7,
    "start_time": "2023-01-29T11:07:03.498Z"
   },
   {
    "duration": 3,
    "start_time": "2023-01-29T11:07:28.590Z"
   },
   {
    "duration": 7,
    "start_time": "2023-01-29T11:07:34.359Z"
   },
   {
    "duration": 6,
    "start_time": "2023-01-29T11:10:02.321Z"
   },
   {
    "duration": 11,
    "start_time": "2023-01-29T11:11:00.611Z"
   },
   {
    "duration": 9,
    "start_time": "2023-01-29T11:11:03.840Z"
   },
   {
    "duration": 5,
    "start_time": "2023-01-29T11:11:05.321Z"
   },
   {
    "duration": 10,
    "start_time": "2023-01-29T11:11:17.375Z"
   },
   {
    "duration": 6,
    "start_time": "2023-01-29T11:11:18.441Z"
   },
   {
    "duration": 435,
    "start_time": "2023-01-29T11:11:43.843Z"
   },
   {
    "duration": 205,
    "start_time": "2023-01-29T11:11:44.281Z"
   },
   {
    "duration": 22,
    "start_time": "2023-01-29T11:11:44.488Z"
   },
   {
    "duration": 44,
    "start_time": "2023-01-29T11:11:44.512Z"
   },
   {
    "duration": 11,
    "start_time": "2023-01-29T11:11:44.558Z"
   },
   {
    "duration": 15,
    "start_time": "2023-01-29T11:11:44.572Z"
   },
   {
    "duration": 26,
    "start_time": "2023-01-29T11:11:44.589Z"
   },
   {
    "duration": 8,
    "start_time": "2023-01-29T11:11:44.619Z"
   },
   {
    "duration": 45,
    "start_time": "2023-01-29T11:11:44.629Z"
   },
   {
    "duration": 35,
    "start_time": "2023-01-29T11:11:44.678Z"
   },
   {
    "duration": 30,
    "start_time": "2023-01-29T11:11:44.721Z"
   },
   {
    "duration": 90,
    "start_time": "2023-01-29T11:11:44.753Z"
   },
   {
    "duration": 84,
    "start_time": "2023-01-29T11:11:44.845Z"
   },
   {
    "duration": 74,
    "start_time": "2023-01-29T11:11:44.931Z"
   },
   {
    "duration": 39,
    "start_time": "2023-01-29T11:11:45.008Z"
   },
   {
    "duration": 17,
    "start_time": "2023-01-29T11:11:45.049Z"
   },
   {
    "duration": 27,
    "start_time": "2023-01-29T11:11:45.068Z"
   },
   {
    "duration": 52,
    "start_time": "2023-01-29T11:11:45.097Z"
   },
   {
    "duration": 16,
    "start_time": "2023-01-29T11:11:45.151Z"
   },
   {
    "duration": 45,
    "start_time": "2023-01-29T11:11:45.169Z"
   },
   {
    "duration": 4,
    "start_time": "2023-01-29T11:11:45.217Z"
   },
   {
    "duration": 31,
    "start_time": "2023-01-29T11:11:45.223Z"
   },
   {
    "duration": 17,
    "start_time": "2023-01-29T11:11:45.257Z"
   },
   {
    "duration": 32,
    "start_time": "2023-01-29T11:11:45.276Z"
   },
   {
    "duration": 19,
    "start_time": "2023-01-29T11:11:45.309Z"
   },
   {
    "duration": 32,
    "start_time": "2023-01-29T11:11:45.330Z"
   },
   {
    "duration": 36,
    "start_time": "2023-01-29T11:11:45.365Z"
   },
   {
    "duration": 95,
    "start_time": "2023-01-29T11:11:45.405Z"
   },
   {
    "duration": 18,
    "start_time": "2023-01-29T11:11:45.507Z"
   },
   {
    "duration": 26,
    "start_time": "2023-01-29T11:11:45.527Z"
   },
   {
    "duration": 6,
    "start_time": "2023-01-29T11:11:45.555Z"
   },
   {
    "duration": 28,
    "start_time": "2023-01-29T11:11:45.563Z"
   },
   {
    "duration": 16,
    "start_time": "2023-01-29T11:11:45.593Z"
   },
   {
    "duration": 33,
    "start_time": "2023-01-29T11:11:45.611Z"
   },
   {
    "duration": 19,
    "start_time": "2023-01-29T11:11:45.646Z"
   },
   {
    "duration": 22,
    "start_time": "2023-01-29T11:11:45.667Z"
   },
   {
    "duration": 24,
    "start_time": "2023-01-29T11:11:45.692Z"
   },
   {
    "duration": 10,
    "start_time": "2023-01-29T11:11:45.718Z"
   },
   {
    "duration": 5,
    "start_time": "2023-01-29T11:11:45.730Z"
   },
   {
    "duration": 12,
    "start_time": "2023-01-29T11:14:05.265Z"
   },
   {
    "duration": 6,
    "start_time": "2023-01-29T11:14:20.553Z"
   },
   {
    "duration": 6,
    "start_time": "2023-01-29T11:14:44.333Z"
   },
   {
    "duration": 8,
    "start_time": "2023-01-29T11:15:14.101Z"
   },
   {
    "duration": 90,
    "start_time": "2023-01-29T11:16:02.471Z"
   },
   {
    "duration": 8,
    "start_time": "2023-01-29T11:16:13.822Z"
   },
   {
    "duration": 7,
    "start_time": "2023-01-29T11:16:48.278Z"
   },
   {
    "duration": 26,
    "start_time": "2023-01-29T11:17:21.567Z"
   },
   {
    "duration": 12,
    "start_time": "2023-01-29T11:17:33.463Z"
   },
   {
    "duration": 13,
    "start_time": "2023-01-29T11:17:45.167Z"
   },
   {
    "duration": 9,
    "start_time": "2023-01-29T11:17:48.181Z"
   },
   {
    "duration": 6,
    "start_time": "2023-01-29T11:17:50.728Z"
   },
   {
    "duration": 9,
    "start_time": "2023-01-29T11:19:35.293Z"
   },
   {
    "duration": 4,
    "start_time": "2023-01-29T11:19:47.589Z"
   }
  ],
  "colab": {
   "collapsed_sections": [
    "E0vqbgi9ay0H",
    "VUC88oWjTJw2"
   ],
   "name": "automatization_template_upd4.ipynb",
   "provenance": []
  },
  "kernelspec": {
   "display_name": "Python 3 (ipykernel)",
   "language": "python",
   "name": "python3"
  },
  "language_info": {
   "codemirror_mode": {
    "name": "ipython",
    "version": 3
   },
   "file_extension": ".py",
   "mimetype": "text/x-python",
   "name": "python",
   "nbconvert_exporter": "python",
   "pygments_lexer": "ipython3",
   "version": "3.9.5"
  },
  "toc": {
   "base_numbering": 1,
   "nav_menu": {
    "height": "215px",
    "width": "403px"
   },
   "number_sections": true,
   "sideBar": true,
   "skip_h1_title": true,
   "title_cell": "Table of Contents",
   "title_sidebar": "Contents",
   "toc_cell": false,
   "toc_position": {
    "height": "calc(100% - 180px)",
    "left": "10px",
    "top": "150px",
    "width": "285.825px"
   },
   "toc_section_display": true,
   "toc_window_display": false
  }
 },
 "nbformat": 4,
 "nbformat_minor": 1
}
