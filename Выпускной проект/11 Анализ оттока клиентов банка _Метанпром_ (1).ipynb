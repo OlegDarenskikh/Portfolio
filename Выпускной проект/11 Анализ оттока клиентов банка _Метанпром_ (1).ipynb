{
 "cells": [
  {
   "cell_type": "markdown",
   "metadata": {
    "id": "9IuwLXVZuqj3",
    "toc": true
   },
   "source": [
    "<h1>Содержание<span class=\"tocSkip\"></span></h1>\n",
    "<div class=\"toc\"><ul class=\"toc-item\"><li><span><a href=\"#Изучение-данных-и-подготовка-к-анализу\" data-toc-modified-id=\"Изучение-данных-и-подготовка-к-анализу-1\"><span class=\"toc-item-num\">1&nbsp;&nbsp;</span>Изучение данных и подготовка к анализу</a></span><ul class=\"toc-item\"><li><span><a href=\"#Изучение-данных\" data-toc-modified-id=\"Изучение-данных-1.1\"><span class=\"toc-item-num\">1.1&nbsp;&nbsp;</span>Изучение данных</a></span></li><li><span><a href=\"#Выводы\" data-toc-modified-id=\"Выводы-1.2\"><span class=\"toc-item-num\">1.2&nbsp;&nbsp;</span>Выводы</a></span></li></ul></li><li><span><a href=\"#Предобработка-данных\" data-toc-modified-id=\"Предобработка-данных-2\"><span class=\"toc-item-num\">2&nbsp;&nbsp;</span>Предобработка данных</a></span><ul class=\"toc-item\"><li><span><a href=\"#Обработка-пропусков\" data-toc-modified-id=\"Обработка-пропусков-2.1\"><span class=\"toc-item-num\">2.1&nbsp;&nbsp;</span>Обработка пропусков</a></span></li><li><span><a href=\"#Обработка-наименований-столбцов\" data-toc-modified-id=\"Обработка-наименований-столбцов-2.2\"><span class=\"toc-item-num\">2.2&nbsp;&nbsp;</span>Обработка наименований столбцов</a></span></li><li><span><a href=\"#Обработка-дубликатов\" data-toc-modified-id=\"Обработка-дубликатов-2.3\"><span class=\"toc-item-num\">2.3&nbsp;&nbsp;</span>Обработка дубликатов</a></span></li><li><span><a href=\"#Анализ-выбросов\" data-toc-modified-id=\"Анализ-выбросов-2.4\"><span class=\"toc-item-num\">2.4&nbsp;&nbsp;</span>Анализ выбросов</a></span></li><li><span><a href=\"#Добавление-столбцов\" data-toc-modified-id=\"Добавление-столбцов-2.5\"><span class=\"toc-item-num\">2.5&nbsp;&nbsp;</span>Добавление столбцов</a></span></li><li><span><a href=\"#Вывод\" data-toc-modified-id=\"Вывод-2.6\"><span class=\"toc-item-num\">2.6&nbsp;&nbsp;</span>Вывод</a></span></li></ul></li><li><span><a href=\"#Исследовательский-анализ-данных\" data-toc-modified-id=\"Исследовательский-анализ-данных-3\"><span class=\"toc-item-num\">3&nbsp;&nbsp;</span>Исследовательский анализ данных</a></span><ul class=\"toc-item\"><li><span><a href=\"#Анализ-клиентов-по-параметрам\" data-toc-modified-id=\"Анализ-клиентов-по-параметрам-3.1\"><span class=\"toc-item-num\">3.1&nbsp;&nbsp;</span>Анализ клиентов по параметрам</a></span></li><li><span><a href=\"#Составление-портретов-уходящих-клиентов.\" data-toc-modified-id=\"Составление-портретов-уходящих-клиентов.-3.2\"><span class=\"toc-item-num\">3.2&nbsp;&nbsp;</span>Составление портретов уходящих клиентов.</a></span></li><li><span><a href=\"#Выводы\" data-toc-modified-id=\"Выводы-3.3\"><span class=\"toc-item-num\">3.3&nbsp;&nbsp;</span>Выводы</a></span></li></ul></li><li><span><a href=\"#Статистический-анализ-данных\" data-toc-modified-id=\"Статистический-анализ-данных-4\"><span class=\"toc-item-num\">4&nbsp;&nbsp;</span>Статистический анализ данных</a></span><ul class=\"toc-item\"><li><span><a href=\"#Проверка-гипотезы-о-различии-дохода-ушедших-и-оставшихся-клиентов\" data-toc-modified-id=\"Проверка-гипотезы-о-различии-дохода-ушедших-и-оставшихся-клиентов-4.1\"><span class=\"toc-item-num\">4.1&nbsp;&nbsp;</span>Проверка гипотезы о различии дохода ушедших и оставшихся клиентов</a></span></li><li><span><a href=\"#Проверка-гипотез-о-различии-оценок-соббственности,-возраста-и-количества-продуктов-оставшихся-и-отточных-клиентов\" data-toc-modified-id=\"Проверка-гипотез-о-различии-оценок-соббственности,-возраста-и-количества-продуктов-оставшихся-и-отточных-клиентов-4.2\"><span class=\"toc-item-num\">4.2&nbsp;&nbsp;</span>Проверка гипотез о различии оценок соббственности, возраста и количества продуктов оставшихся и отточных клиентов</a></span></li><li><span><a href=\"#Формулирование-промежуточных-выводов-на-основе-статистического-анализа\" data-toc-modified-id=\"Формулирование-промежуточных-выводов-на-основе-статистического-анализа-4.3\"><span class=\"toc-item-num\">4.3&nbsp;&nbsp;</span>Формулирование промежуточных выводов на основе статистического анализа</a></span></li></ul></li><li><span><a href=\"#Итоговые-выводы-и-рекомендации\" data-toc-modified-id=\"Итоговые-выводы-и-рекомендации-5\"><span class=\"toc-item-num\">5&nbsp;&nbsp;</span>Итоговые выводы и рекомендации</a></span></li></ul></div>"
   ]
  },
  {
   "cell_type": "markdown",
   "metadata": {
    "id": "DXAjMMWduqj6"
   },
   "source": [
    "# Анализ оттока клиентов банка \"Метанпром\""
   ]
  },
  {
   "cell_type": "markdown",
   "metadata": {},
   "source": [
    "\n",
    "__Задача__\n",
    "\n",
    "Выявить сегменты клиентов склонных уходить из банка, и составить по каждому сегменту рекомендации."
   ]
  },
  {
   "cell_type": "markdown",
   "metadata": {},
   "source": [
    "__Цели проекта__\n",
    "\n",
    "* Проведение анализа данных для выявления значимых признаков отточности.\n",
    "* Сформулировать и проверить статистические гипотезы.\n",
    "* Подготовить рекомендации по каждому сегменту."
   ]
  },
  {
   "cell_type": "markdown",
   "metadata": {},
   "source": [
    "__Данные__\n",
    "\n",
    "Датасет содержит данные о клиентах банка «Метанпром». Банк располагается в Ярославле и областных городах: Ростов Великий и Рыбинск.\n",
    "\n",
    "\n",
    " * `USERID` — идентификатор пользователя;\n",
    " * `score` — баллы кредитного скоринга;\n",
    " * `city` — город;\n",
    " * `gender` — пол;\n",
    " * `age` - возраст;\n",
    " * `Objects` - количество объектов в собственности / `equity` - количество баллов собственности;\n",
    " * `balance` - баланс на счете;\n",
    " * `products` - количество продукстов, которыми пользуется клиент;\n",
    " * `credit_card` - есть ли кредитная карта;\n",
    " * `Loyalty` / `last_activity` - активный клиент;\n",
    " * `EST_SALARY` - заработная плата клиента;\n",
    " * `churn` - ушел или нет.\n"
   ]
  },
  {
   "cell_type": "markdown",
   "metadata": {},
   "source": [
    "__Декомпозиция проекта:__\n",
    "\n",
    "1. Изучение данных и подготовка к анализу.\n",
    "2. Предобработка данных:\n",
    "    * Обработка пропусков;\n",
    "    * Обработка наименований столбцов;\n",
    "    * Обработка дубликатов;\n",
    "    * Анализ выбросов.\n",
    "3. Исследовательский анализ данных:\n",
    "    * Анализ отточных клиентов по параметрам (город, пол, возраст, количество продуктов);\n",
    "    * Составление портретов уходящих клиентов.\n",
    "4. Статистический анализ данных:\n",
    "    * Выдвижение первой гипотезы и ее проверка;\n",
    "    * Выдвижение второй гипотезы и ее проверка;\n",
    "    * Формулирование промежуточных выводов на основе статистического анализа.   \n",
    "5. Итоговые выводы и рекомендации."
   ]
  },
  {
   "cell_type": "markdown",
   "metadata": {},
   "source": [
    "## Изучение данных и подготовка к анализу"
   ]
  },
  {
   "cell_type": "markdown",
   "metadata": {},
   "source": [
    "### Изучение данных"
   ]
  },
  {
   "cell_type": "code",
   "execution_count": 1,
   "metadata": {},
   "outputs": [],
   "source": [
    "# Импортируем бибилиотеки\n",
    "\n",
    "import pandas as pd\n",
    "import numpy as np\n",
    "import matplotlib.pyplot as plt\n",
    "import seaborn as sns\n",
    "import datetime as dt\n",
    "import plotly.express as px\n",
    "from plotly import graph_objects as go\n",
    "from scipy import stats as st\n",
    "import warnings; warnings.filterwarnings(action = 'ignore')"
   ]
  },
  {
   "cell_type": "code",
   "execution_count": 2,
   "metadata": {},
   "outputs": [],
   "source": [
    "# Снимем ограничение на количество столбцов\n",
    "pd.set_option('display.max_columns', None)\n",
    "\n",
    "# Снимем ограничение на ширину столбцов\n",
    "pd.set_option('display.max_colwidth', None)\n",
    "\n",
    "# Выставим ограничение на показ знаков после запятой\n",
    "pd.options.display.float_format = '{:,.3f}'.format"
   ]
  },
  {
   "cell_type": "code",
   "execution_count": 3,
   "metadata": {},
   "outputs": [],
   "source": [
    "# Прочитаем наш датасет\n",
    "\n",
    "df = pd.read_csv('https://code.s3.yandex.net/datasets/bank_scrooge.csv')"
   ]
  },
  {
   "cell_type": "code",
   "execution_count": 4,
   "metadata": {
    "scrolled": false
   },
   "outputs": [
    {
     "data": {
      "text/html": [
       "<div>\n",
       "<style scoped>\n",
       "    .dataframe tbody tr th:only-of-type {\n",
       "        vertical-align: middle;\n",
       "    }\n",
       "\n",
       "    .dataframe tbody tr th {\n",
       "        vertical-align: top;\n",
       "    }\n",
       "\n",
       "    .dataframe thead th {\n",
       "        text-align: right;\n",
       "    }\n",
       "</style>\n",
       "<table border=\"1\" class=\"dataframe\">\n",
       "  <thead>\n",
       "    <tr style=\"text-align: right;\">\n",
       "      <th></th>\n",
       "      <th>USERID</th>\n",
       "      <th>score</th>\n",
       "      <th>city</th>\n",
       "      <th>gender</th>\n",
       "      <th>age</th>\n",
       "      <th>equity</th>\n",
       "      <th>balance</th>\n",
       "      <th>products</th>\n",
       "      <th>credit_card</th>\n",
       "      <th>last_activity</th>\n",
       "      <th>EST_SALARY</th>\n",
       "      <th>churn</th>\n",
       "    </tr>\n",
       "  </thead>\n",
       "  <tbody>\n",
       "    <tr>\n",
       "      <th>0</th>\n",
       "      <td>183012</td>\n",
       "      <td>850.000</td>\n",
       "      <td>Рыбинск</td>\n",
       "      <td>Ж</td>\n",
       "      <td>25.000</td>\n",
       "      <td>1</td>\n",
       "      <td>59,214.820</td>\n",
       "      <td>2</td>\n",
       "      <td>0</td>\n",
       "      <td>1</td>\n",
       "      <td>75,719.140</td>\n",
       "      <td>1</td>\n",
       "    </tr>\n",
       "    <tr>\n",
       "      <th>1</th>\n",
       "      <td>146556</td>\n",
       "      <td>861.000</td>\n",
       "      <td>Рыбинск</td>\n",
       "      <td>Ж</td>\n",
       "      <td>37.000</td>\n",
       "      <td>5</td>\n",
       "      <td>850,594.330</td>\n",
       "      <td>3</td>\n",
       "      <td>1</td>\n",
       "      <td>0</td>\n",
       "      <td>86,621.770</td>\n",
       "      <td>0</td>\n",
       "    </tr>\n",
       "    <tr>\n",
       "      <th>2</th>\n",
       "      <td>120722</td>\n",
       "      <td>892.000</td>\n",
       "      <td>Рыбинск</td>\n",
       "      <td>Ж</td>\n",
       "      <td>30.000</td>\n",
       "      <td>0</td>\n",
       "      <td>NaN</td>\n",
       "      <td>1</td>\n",
       "      <td>1</td>\n",
       "      <td>1</td>\n",
       "      <td>107,683.340</td>\n",
       "      <td>0</td>\n",
       "    </tr>\n",
       "    <tr>\n",
       "      <th>3</th>\n",
       "      <td>225363</td>\n",
       "      <td>866.000</td>\n",
       "      <td>Ярославль</td>\n",
       "      <td>Ж</td>\n",
       "      <td>51.000</td>\n",
       "      <td>5</td>\n",
       "      <td>1,524,746.260</td>\n",
       "      <td>2</td>\n",
       "      <td>0</td>\n",
       "      <td>1</td>\n",
       "      <td>174,423.530</td>\n",
       "      <td>1</td>\n",
       "    </tr>\n",
       "    <tr>\n",
       "      <th>4</th>\n",
       "      <td>157978</td>\n",
       "      <td>730.000</td>\n",
       "      <td>Ярославль</td>\n",
       "      <td>М</td>\n",
       "      <td>34.000</td>\n",
       "      <td>5</td>\n",
       "      <td>174.000</td>\n",
       "      <td>1</td>\n",
       "      <td>1</td>\n",
       "      <td>0</td>\n",
       "      <td>67,353.160</td>\n",
       "      <td>1</td>\n",
       "    </tr>\n",
       "  </tbody>\n",
       "</table>\n",
       "</div>"
      ],
      "text/plain": [
       "   USERID   score       city gender    age  equity       balance  products  \\\n",
       "0  183012 850.000    Рыбинск      Ж 25.000       1    59,214.820         2   \n",
       "1  146556 861.000    Рыбинск      Ж 37.000       5   850,594.330         3   \n",
       "2  120722 892.000    Рыбинск      Ж 30.000       0           NaN         1   \n",
       "3  225363 866.000  Ярославль      Ж 51.000       5 1,524,746.260         2   \n",
       "4  157978 730.000  Ярославль      М 34.000       5       174.000         1   \n",
       "\n",
       "   credit_card  last_activity  EST_SALARY  churn  \n",
       "0            0              1  75,719.140      1  \n",
       "1            1              0  86,621.770      0  \n",
       "2            1              1 107,683.340      0  \n",
       "3            0              1 174,423.530      1  \n",
       "4            1              0  67,353.160      1  "
      ]
     },
     "metadata": {},
     "output_type": "display_data"
    },
    {
     "name": "stdout",
     "output_type": "stream",
     "text": [
      "**************************************************\n",
      "<class 'pandas.core.frame.DataFrame'>\n",
      "RangeIndex: 10000 entries, 0 to 9999\n",
      "Data columns (total 12 columns):\n",
      " #   Column         Non-Null Count  Dtype  \n",
      "---  ------         --------------  -----  \n",
      " 0   USERID         10000 non-null  int64  \n",
      " 1   score          10000 non-null  float64\n",
      " 2   city           10000 non-null  object \n",
      " 3   gender         10000 non-null  object \n",
      " 4   age            9974 non-null   float64\n",
      " 5   equity         10000 non-null  int64  \n",
      " 6   balance        7705 non-null   float64\n",
      " 7   products       10000 non-null  int64  \n",
      " 8   credit_card    10000 non-null  int64  \n",
      " 9   last_activity  10000 non-null  int64  \n",
      " 10  EST_SALARY     10000 non-null  float64\n",
      " 11  churn          10000 non-null  int64  \n",
      "dtypes: float64(4), int64(6), object(2)\n",
      "memory usage: 937.6+ KB\n",
      "**************************************************\n"
     ]
    },
    {
     "data": {
      "text/html": [
       "<div>\n",
       "<style scoped>\n",
       "    .dataframe tbody tr th:only-of-type {\n",
       "        vertical-align: middle;\n",
       "    }\n",
       "\n",
       "    .dataframe tbody tr th {\n",
       "        vertical-align: top;\n",
       "    }\n",
       "\n",
       "    .dataframe thead th {\n",
       "        text-align: right;\n",
       "    }\n",
       "</style>\n",
       "<table border=\"1\" class=\"dataframe\">\n",
       "  <thead>\n",
       "    <tr style=\"text-align: right;\">\n",
       "      <th></th>\n",
       "      <th>count</th>\n",
       "      <th>mean</th>\n",
       "      <th>std</th>\n",
       "      <th>min</th>\n",
       "      <th>25%</th>\n",
       "      <th>50%</th>\n",
       "      <th>75%</th>\n",
       "      <th>max</th>\n",
       "    </tr>\n",
       "  </thead>\n",
       "  <tbody>\n",
       "    <tr>\n",
       "      <th>USERID</th>\n",
       "      <td>10,000.000</td>\n",
       "      <td>171,814.713</td>\n",
       "      <td>33,708.238</td>\n",
       "      <td>94,561.000</td>\n",
       "      <td>142,810.250</td>\n",
       "      <td>172,728.000</td>\n",
       "      <td>201,261.750</td>\n",
       "      <td>229,145.000</td>\n",
       "    </tr>\n",
       "    <tr>\n",
       "      <th>score</th>\n",
       "      <td>10,000.000</td>\n",
       "      <td>848.699</td>\n",
       "      <td>65.449</td>\n",
       "      <td>642.000</td>\n",
       "      <td>802.000</td>\n",
       "      <td>853.000</td>\n",
       "      <td>900.000</td>\n",
       "      <td>1,000.000</td>\n",
       "    </tr>\n",
       "    <tr>\n",
       "      <th>age</th>\n",
       "      <td>9,974.000</td>\n",
       "      <td>42.734</td>\n",
       "      <td>12.180</td>\n",
       "      <td>18.000</td>\n",
       "      <td>33.000</td>\n",
       "      <td>40.000</td>\n",
       "      <td>51.000</td>\n",
       "      <td>86.000</td>\n",
       "    </tr>\n",
       "    <tr>\n",
       "      <th>equity</th>\n",
       "      <td>10,000.000</td>\n",
       "      <td>2.628</td>\n",
       "      <td>1.981</td>\n",
       "      <td>0.000</td>\n",
       "      <td>0.000</td>\n",
       "      <td>3.000</td>\n",
       "      <td>4.000</td>\n",
       "      <td>9.000</td>\n",
       "    </tr>\n",
       "    <tr>\n",
       "      <th>balance</th>\n",
       "      <td>7,705.000</td>\n",
       "      <td>827,794.307</td>\n",
       "      <td>1,980,614.147</td>\n",
       "      <td>0.000</td>\n",
       "      <td>295,554.160</td>\n",
       "      <td>524,272.200</td>\n",
       "      <td>980,705.850</td>\n",
       "      <td>119,113,552.010</td>\n",
       "    </tr>\n",
       "    <tr>\n",
       "      <th>products</th>\n",
       "      <td>10,000.000</td>\n",
       "      <td>1.870</td>\n",
       "      <td>0.793</td>\n",
       "      <td>0.000</td>\n",
       "      <td>1.000</td>\n",
       "      <td>2.000</td>\n",
       "      <td>2.000</td>\n",
       "      <td>5.000</td>\n",
       "    </tr>\n",
       "    <tr>\n",
       "      <th>credit_card</th>\n",
       "      <td>10,000.000</td>\n",
       "      <td>0.680</td>\n",
       "      <td>0.466</td>\n",
       "      <td>0.000</td>\n",
       "      <td>0.000</td>\n",
       "      <td>1.000</td>\n",
       "      <td>1.000</td>\n",
       "      <td>1.000</td>\n",
       "    </tr>\n",
       "    <tr>\n",
       "      <th>last_activity</th>\n",
       "      <td>10,000.000</td>\n",
       "      <td>0.523</td>\n",
       "      <td>0.499</td>\n",
       "      <td>0.000</td>\n",
       "      <td>0.000</td>\n",
       "      <td>1.000</td>\n",
       "      <td>1.000</td>\n",
       "      <td>1.000</td>\n",
       "    </tr>\n",
       "    <tr>\n",
       "      <th>EST_SALARY</th>\n",
       "      <td>10,000.000</td>\n",
       "      <td>147,866.886</td>\n",
       "      <td>139,388.511</td>\n",
       "      <td>2,546.300</td>\n",
       "      <td>75,251.900</td>\n",
       "      <td>119,658.105</td>\n",
       "      <td>174,500.542</td>\n",
       "      <td>1,395,064.450</td>\n",
       "    </tr>\n",
       "    <tr>\n",
       "      <th>churn</th>\n",
       "      <td>10,000.000</td>\n",
       "      <td>0.182</td>\n",
       "      <td>0.386</td>\n",
       "      <td>0.000</td>\n",
       "      <td>0.000</td>\n",
       "      <td>0.000</td>\n",
       "      <td>0.000</td>\n",
       "      <td>1.000</td>\n",
       "    </tr>\n",
       "  </tbody>\n",
       "</table>\n",
       "</div>"
      ],
      "text/plain": [
       "                   count        mean           std        min         25%  \\\n",
       "USERID        10,000.000 171,814.713    33,708.238 94,561.000 142,810.250   \n",
       "score         10,000.000     848.699        65.449    642.000     802.000   \n",
       "age            9,974.000      42.734        12.180     18.000      33.000   \n",
       "equity        10,000.000       2.628         1.981      0.000       0.000   \n",
       "balance        7,705.000 827,794.307 1,980,614.147      0.000 295,554.160   \n",
       "products      10,000.000       1.870         0.793      0.000       1.000   \n",
       "credit_card   10,000.000       0.680         0.466      0.000       0.000   \n",
       "last_activity 10,000.000       0.523         0.499      0.000       0.000   \n",
       "EST_SALARY    10,000.000 147,866.886   139,388.511  2,546.300  75,251.900   \n",
       "churn         10,000.000       0.182         0.386      0.000       0.000   \n",
       "\n",
       "                      50%         75%             max  \n",
       "USERID        172,728.000 201,261.750     229,145.000  \n",
       "score             853.000     900.000       1,000.000  \n",
       "age                40.000      51.000          86.000  \n",
       "equity              3.000       4.000           9.000  \n",
       "balance       524,272.200 980,705.850 119,113,552.010  \n",
       "products            2.000       2.000           5.000  \n",
       "credit_card         1.000       1.000           1.000  \n",
       "last_activity       1.000       1.000           1.000  \n",
       "EST_SALARY    119,658.105 174,500.542   1,395,064.450  \n",
       "churn               0.000       0.000           1.000  "
      ]
     },
     "metadata": {},
     "output_type": "display_data"
    },
    {
     "name": "stdout",
     "output_type": "stream",
     "text": [
      "**************************************************\n",
      "В датафрейме 0 дубликатов\n"
     ]
    }
   ],
   "source": [
    "# Посмотрим информацию о таблицах и проверим на наличие дубликатов\n",
    "\n",
    "display(df.head())\n",
    "print('*'*50)\n",
    "df.info()\n",
    "print('*'*50)\n",
    "display(df.describe().T)\n",
    "print('*'*50)\n",
    "print(f'В датафрейме {df.duplicated().sum()} дубликатов')"
   ]
  },
  {
   "cell_type": "markdown",
   "metadata": {},
   "source": [
    "Интерес также вызывает значение 0 в столбце 'products', что это за клиенты, которые ничем не пользуются.\n",
    "\n",
    "В столбце 'EST_SALARY' минимальное значение 2546,3 рублей это ниже значения МРОТ, подробнее рассмотрим эту аномалию в пункте анализ выбросов."
   ]
  },
  {
   "cell_type": "code",
   "execution_count": 5,
   "metadata": {
    "scrolled": false
   },
   "outputs": [
    {
     "name": "stdout",
     "output_type": "stream",
     "text": [
      "USERID - 0%\n",
      "score - 0%\n",
      "city - 0%\n",
      "gender - 0%\n",
      "age - 0%\n",
      "equity - 0%\n",
      "balance - 23%\n",
      "products - 0%\n",
      "credit_card - 0%\n",
      "last_activity - 0%\n",
      "EST_SALARY - 0%\n",
      "churn - 0%\n"
     ]
    },
    {
     "data": {
      "image/png": "[encoded data removed]",
      "text/plain": [
       "<Figure size 432x288 with 2 Axes>"
      ]
     },
     "metadata": {
      "needs_background": "light"
     },
     "output_type": "display_data"
    }
   ],
   "source": [
    "# С помощью этого графика оценим количество пропущенных значений в каждом столбце.\n",
    "\n",
    "cols = df.columns[:22] \n",
    "colours = ['#000099', '#ffff00'] \n",
    "sns.heatmap(df[cols].isnull(), cmap=sns.color_palette(colours))\n",
    "\n",
    "for col in df.columns:\n",
    "    pct_missing = np.mean(df[col].isnull())\n",
    "    print('{} - {}%'.format(col, round(pct_missing*100)))"
   ]
  },
  {
   "cell_type": "code",
   "execution_count": 6,
   "metadata": {},
   "outputs": [
    {
     "data": {
      "text/html": [
       "<div>\n",
       "<style scoped>\n",
       "    .dataframe tbody tr th:only-of-type {\n",
       "        vertical-align: middle;\n",
       "    }\n",
       "\n",
       "    .dataframe tbody tr th {\n",
       "        vertical-align: top;\n",
       "    }\n",
       "\n",
       "    .dataframe thead th {\n",
       "        text-align: right;\n",
       "    }\n",
       "</style>\n",
       "<table border=\"1\" class=\"dataframe\">\n",
       "  <thead>\n",
       "    <tr style=\"text-align: right;\">\n",
       "      <th></th>\n",
       "      <th>USERID</th>\n",
       "      <th>score</th>\n",
       "      <th>city</th>\n",
       "      <th>gender</th>\n",
       "      <th>age</th>\n",
       "      <th>equity</th>\n",
       "      <th>balance</th>\n",
       "      <th>products</th>\n",
       "      <th>credit_card</th>\n",
       "      <th>last_activity</th>\n",
       "      <th>EST_SALARY</th>\n",
       "      <th>churn</th>\n",
       "    </tr>\n",
       "  </thead>\n",
       "  <tbody>\n",
       "    <tr>\n",
       "      <th>8957</th>\n",
       "      <td>147837</td>\n",
       "      <td>962.000</td>\n",
       "      <td>Рыбинск</td>\n",
       "      <td>Ж</td>\n",
       "      <td>79.000</td>\n",
       "      <td>3</td>\n",
       "      <td>NaN</td>\n",
       "      <td>0</td>\n",
       "      <td>0</td>\n",
       "      <td>0</td>\n",
       "      <td>25,063.960</td>\n",
       "      <td>1</td>\n",
       "    </tr>\n",
       "  </tbody>\n",
       "</table>\n",
       "</div>"
      ],
      "text/plain": [
       "      USERID   score     city gender    age  equity  balance  products  \\\n",
       "8957  147837 962.000  Рыбинск      Ж 79.000       3      NaN         0   \n",
       "\n",
       "      credit_card  last_activity  EST_SALARY  churn  \n",
       "8957            0              0  25,063.960      1  "
      ]
     },
     "execution_count": 6,
     "metadata": {},
     "output_type": "execute_result"
    }
   ],
   "source": [
    "# Посмотрим, что это за клиенты, у которых нет ни одного продукта банка\n",
    "\n",
    "df[df['products'] == 0]"
   ]
  },
  {
   "cell_type": "markdown",
   "metadata": {},
   "source": [
    "Такой клиент всего один, к тому же эта женщина является отточным клиентом. Возможно, она хотеля воспользоваться какими либо продуктами, но так и ни на что не решилась, однако, в базу клиентов, все же, попала. В дальнейшем можно будет убрать эту строчку, так как она всего лищь одна и на общую картину не повлияет."
   ]
  },
  {
   "cell_type": "markdown",
   "metadata": {},
   "source": [
    "### Выводы"
   ]
  },
  {
   "cell_type": "markdown",
   "metadata": {},
   "source": [
    "В датасете 11 колонок и 10 тысяч строк. Пропуски отсутсвуют во всех столбцах кроме колонок \"Баланс\" и \"Возраст\". \"Возраст\" представлен в формате float64 - переведем в int.\n",
    "\n",
    "Категориальные данные, такие как активность клиента, наличие кредитной карты и ушел клиент или нет уже преобразованы в данных 1/0. Пол клиента принимает значения М и Ж."
   ]
  },
  {
   "cell_type": "markdown",
   "metadata": {},
   "source": [
    "## Предобработка данных"
   ]
  },
  {
   "cell_type": "markdown",
   "metadata": {},
   "source": [
    "### Обработка пропусков"
   ]
  },
  {
   "cell_type": "code",
   "execution_count": 7,
   "metadata": {},
   "outputs": [
    {
     "data": {
      "text/plain": [
       "USERID              0\n",
       "score               0\n",
       "city                0\n",
       "gender              0\n",
       "age                26\n",
       "equity              0\n",
       "balance          2295\n",
       "products            0\n",
       "credit_card         0\n",
       "last_activity       0\n",
       "EST_SALARY          0\n",
       "churn               0\n",
       "dtype: int64"
      ]
     },
     "execution_count": 7,
     "metadata": {},
     "output_type": "execute_result"
    }
   ],
   "source": [
    "# Посмотрим на количество пропусков в строках\n",
    "\n",
    "df.isnull().sum()"
   ]
  },
  {
   "cell_type": "code",
   "execution_count": 8,
   "metadata": {},
   "outputs": [
    {
     "data": {
      "text/plain": [
       "0.26"
      ]
     },
     "execution_count": 8,
     "metadata": {},
     "output_type": "execute_result"
    }
   ],
   "source": [
    "# Посмотрим какую долю занимают пропуски в столбце 'age'\n",
    "\n",
    "df['age'].isna().sum() / len(df) * 100"
   ]
  },
  {
   "cell_type": "markdown",
   "metadata": {},
   "source": [
    "Пропусков в столбце 'age' всего 0,26%, автоматически мы не сможем их заполнить, при этом это совсем малая часть наших данных, поэтому просто уберем эти строки."
   ]
  },
  {
   "cell_type": "code",
   "execution_count": 9,
   "metadata": {},
   "outputs": [],
   "source": [
    "# Заполним пропуски нулями, что бы в даьнейшем избавится от них\n",
    "\n",
    "df['age'].fillna(0)\n",
    "\n",
    "# Перезапишем датасет\n",
    "\n",
    "df = df[df['age'] > 0]"
   ]
  },
  {
   "cell_type": "code",
   "execution_count": 10,
   "metadata": {
    "scrolled": false
   },
   "outputs": [],
   "source": [
    "# Переведем значения в столбце 'age' в int\n",
    "\n",
    "df['age'] = df['age'].astype('int')"
   ]
  },
  {
   "cell_type": "code",
   "execution_count": 11,
   "metadata": {},
   "outputs": [
    {
     "data": {
      "text/html": [
       "<div>\n",
       "<style scoped>\n",
       "    .dataframe tbody tr th:only-of-type {\n",
       "        vertical-align: middle;\n",
       "    }\n",
       "\n",
       "    .dataframe tbody tr th {\n",
       "        vertical-align: top;\n",
       "    }\n",
       "\n",
       "    .dataframe thead th {\n",
       "        text-align: right;\n",
       "    }\n",
       "</style>\n",
       "<table border=\"1\" class=\"dataframe\">\n",
       "  <thead>\n",
       "    <tr style=\"text-align: right;\">\n",
       "      <th></th>\n",
       "      <th>USERID</th>\n",
       "      <th>score</th>\n",
       "      <th>age</th>\n",
       "      <th>equity</th>\n",
       "      <th>balance</th>\n",
       "      <th>products</th>\n",
       "      <th>credit_card</th>\n",
       "      <th>last_activity</th>\n",
       "      <th>EST_SALARY</th>\n",
       "      <th>churn</th>\n",
       "    </tr>\n",
       "  </thead>\n",
       "  <tbody>\n",
       "    <tr>\n",
       "      <th>count</th>\n",
       "      <td>2,279.000</td>\n",
       "      <td>2,279.000</td>\n",
       "      <td>2,279.000</td>\n",
       "      <td>2,279.000</td>\n",
       "      <td>0.000</td>\n",
       "      <td>2,279.000</td>\n",
       "      <td>2,279.000</td>\n",
       "      <td>2,279.000</td>\n",
       "      <td>2,279.000</td>\n",
       "      <td>2,279.000</td>\n",
       "    </tr>\n",
       "    <tr>\n",
       "      <th>mean</th>\n",
       "      <td>171,904.886</td>\n",
       "      <td>865.357</td>\n",
       "      <td>42.093</td>\n",
       "      <td>0.051</td>\n",
       "      <td>NaN</td>\n",
       "      <td>1.163</td>\n",
       "      <td>0.815</td>\n",
       "      <td>0.549</td>\n",
       "      <td>226,345.417</td>\n",
       "      <td>0.006</td>\n",
       "    </tr>\n",
       "    <tr>\n",
       "      <th>std</th>\n",
       "      <td>33,303.215</td>\n",
       "      <td>89.554</td>\n",
       "      <td>11.942</td>\n",
       "      <td>0.227</td>\n",
       "      <td>NaN</td>\n",
       "      <td>0.404</td>\n",
       "      <td>0.388</td>\n",
       "      <td>0.498</td>\n",
       "      <td>199,825.591</td>\n",
       "      <td>0.075</td>\n",
       "    </tr>\n",
       "    <tr>\n",
       "      <th>min</th>\n",
       "      <td>114,182.000</td>\n",
       "      <td>642.000</td>\n",
       "      <td>18.000</td>\n",
       "      <td>0.000</td>\n",
       "      <td>NaN</td>\n",
       "      <td>0.000</td>\n",
       "      <td>0.000</td>\n",
       "      <td>0.000</td>\n",
       "      <td>20,274.030</td>\n",
       "      <td>0.000</td>\n",
       "    </tr>\n",
       "    <tr>\n",
       "      <th>25%</th>\n",
       "      <td>142,992.500</td>\n",
       "      <td>871.000</td>\n",
       "      <td>33.000</td>\n",
       "      <td>0.000</td>\n",
       "      <td>NaN</td>\n",
       "      <td>1.000</td>\n",
       "      <td>1.000</td>\n",
       "      <td>0.000</td>\n",
       "      <td>120,217.385</td>\n",
       "      <td>0.000</td>\n",
       "    </tr>\n",
       "    <tr>\n",
       "      <th>50%</th>\n",
       "      <td>172,304.000</td>\n",
       "      <td>903.000</td>\n",
       "      <td>40.000</td>\n",
       "      <td>0.000</td>\n",
       "      <td>NaN</td>\n",
       "      <td>1.000</td>\n",
       "      <td>1.000</td>\n",
       "      <td>1.000</td>\n",
       "      <td>174,347.870</td>\n",
       "      <td>0.000</td>\n",
       "    </tr>\n",
       "    <tr>\n",
       "      <th>75%</th>\n",
       "      <td>201,257.000</td>\n",
       "      <td>922.000</td>\n",
       "      <td>49.000</td>\n",
       "      <td>0.000</td>\n",
       "      <td>NaN</td>\n",
       "      <td>1.000</td>\n",
       "      <td>1.000</td>\n",
       "      <td>1.000</td>\n",
       "      <td>240,372.775</td>\n",
       "      <td>0.000</td>\n",
       "    </tr>\n",
       "    <tr>\n",
       "      <th>max</th>\n",
       "      <td>229,145.000</td>\n",
       "      <td>990.000</td>\n",
       "      <td>86.000</td>\n",
       "      <td>3.000</td>\n",
       "      <td>NaN</td>\n",
       "      <td>3.000</td>\n",
       "      <td>1.000</td>\n",
       "      <td>1.000</td>\n",
       "      <td>1,333,687.360</td>\n",
       "      <td>1.000</td>\n",
       "    </tr>\n",
       "  </tbody>\n",
       "</table>\n",
       "</div>"
      ],
      "text/plain": [
       "           USERID     score       age    equity  balance  products  \\\n",
       "count   2,279.000 2,279.000 2,279.000 2,279.000    0.000 2,279.000   \n",
       "mean  171,904.886   865.357    42.093     0.051      NaN     1.163   \n",
       "std    33,303.215    89.554    11.942     0.227      NaN     0.404   \n",
       "min   114,182.000   642.000    18.000     0.000      NaN     0.000   \n",
       "25%   142,992.500   871.000    33.000     0.000      NaN     1.000   \n",
       "50%   172,304.000   903.000    40.000     0.000      NaN     1.000   \n",
       "75%   201,257.000   922.000    49.000     0.000      NaN     1.000   \n",
       "max   229,145.000   990.000    86.000     3.000      NaN     3.000   \n",
       "\n",
       "       credit_card  last_activity    EST_SALARY     churn  \n",
       "count    2,279.000      2,279.000     2,279.000 2,279.000  \n",
       "mean         0.815          0.549   226,345.417     0.006  \n",
       "std          0.388          0.498   199,825.591     0.075  \n",
       "min          0.000          0.000    20,274.030     0.000  \n",
       "25%          1.000          0.000   120,217.385     0.000  \n",
       "50%          1.000          1.000   174,347.870     0.000  \n",
       "75%          1.000          1.000   240,372.775     0.000  \n",
       "max          1.000          1.000 1,333,687.360     1.000  "
      ]
     },
     "metadata": {},
     "output_type": "display_data"
    }
   ],
   "source": [
    "# Рассмотрим подробнее данные с пропусками в колонке 'balance'\n",
    "\n",
    "display(df[df['balance'].isna()].describe())"
   ]
  },
  {
   "cell_type": "markdown",
   "metadata": {},
   "source": [
    "Анализ позволяет сделать следующие выводы о пользователях, в записях о которых содержится пропуск:\n",
    "\n",
    "* они имеют более низкие оценки собственности;\n",
    "* они пользуются чуть меньшим числом продуктов;\n",
    "* у них чуть более высокие зарплаты.\n",
    "\n",
    "При этом клиенты равномерно распределены по возрасту. Возможно, это новые клиенты, которые собираются открыть новые продукты, но пока еще этого не сделали."
   ]
  },
  {
   "cell_type": "code",
   "execution_count": 12,
   "metadata": {},
   "outputs": [
    {
     "data": {
      "text/plain": [
       "13"
      ]
     },
     "execution_count": 12,
     "metadata": {},
     "output_type": "execute_result"
    }
   ],
   "source": [
    "# Посмотрим какое количество клиентов с пропусками в столбце 'balance' являются отточными\n",
    "\n",
    "len(df[(df['balance'].isna() & df['churn'] == 1)])"
   ]
  },
  {
   "cell_type": "markdown",
   "metadata": {},
   "source": [
    "Это, почти, десятая доля процента, таким количеством данных можно принебречь."
   ]
  },
  {
   "cell_type": "code",
   "execution_count": 13,
   "metadata": {},
   "outputs": [
    {
     "data": {
      "text/html": [
       "<div>\n",
       "<style scoped>\n",
       "    .dataframe tbody tr th:only-of-type {\n",
       "        vertical-align: middle;\n",
       "    }\n",
       "\n",
       "    .dataframe tbody tr th {\n",
       "        vertical-align: top;\n",
       "    }\n",
       "\n",
       "    .dataframe thead th {\n",
       "        text-align: right;\n",
       "    }\n",
       "</style>\n",
       "<table border=\"1\" class=\"dataframe\">\n",
       "  <thead>\n",
       "    <tr style=\"text-align: right;\">\n",
       "      <th></th>\n",
       "      <th>USERID</th>\n",
       "      <th>score</th>\n",
       "      <th>city</th>\n",
       "      <th>gender</th>\n",
       "      <th>age</th>\n",
       "      <th>equity</th>\n",
       "      <th>balance</th>\n",
       "      <th>products</th>\n",
       "      <th>credit_card</th>\n",
       "      <th>last_activity</th>\n",
       "      <th>EST_SALARY</th>\n",
       "      <th>churn</th>\n",
       "    </tr>\n",
       "  </thead>\n",
       "  <tbody>\n",
       "    <tr>\n",
       "      <th>1273</th>\n",
       "      <td>136567</td>\n",
       "      <td>961.000</td>\n",
       "      <td>Ярославль</td>\n",
       "      <td>М</td>\n",
       "      <td>31</td>\n",
       "      <td>0</td>\n",
       "      <td>NaN</td>\n",
       "      <td>1</td>\n",
       "      <td>1</td>\n",
       "      <td>0</td>\n",
       "      <td>1,015,386.140</td>\n",
       "      <td>1</td>\n",
       "    </tr>\n",
       "    <tr>\n",
       "      <th>1400</th>\n",
       "      <td>146876</td>\n",
       "      <td>707.000</td>\n",
       "      <td>Ярославль</td>\n",
       "      <td>М</td>\n",
       "      <td>24</td>\n",
       "      <td>0</td>\n",
       "      <td>NaN</td>\n",
       "      <td>3</td>\n",
       "      <td>1</td>\n",
       "      <td>0</td>\n",
       "      <td>94,091.110</td>\n",
       "      <td>1</td>\n",
       "    </tr>\n",
       "    <tr>\n",
       "      <th>3017</th>\n",
       "      <td>123230</td>\n",
       "      <td>980.000</td>\n",
       "      <td>Рыбинск</td>\n",
       "      <td>Ж</td>\n",
       "      <td>53</td>\n",
       "      <td>0</td>\n",
       "      <td>NaN</td>\n",
       "      <td>1</td>\n",
       "      <td>1</td>\n",
       "      <td>1</td>\n",
       "      <td>327,646.020</td>\n",
       "      <td>1</td>\n",
       "    </tr>\n",
       "    <tr>\n",
       "      <th>4118</th>\n",
       "      <td>157443</td>\n",
       "      <td>727.000</td>\n",
       "      <td>Ростов</td>\n",
       "      <td>М</td>\n",
       "      <td>69</td>\n",
       "      <td>0</td>\n",
       "      <td>NaN</td>\n",
       "      <td>1</td>\n",
       "      <td>1</td>\n",
       "      <td>0</td>\n",
       "      <td>132,546.930</td>\n",
       "      <td>1</td>\n",
       "    </tr>\n",
       "    <tr>\n",
       "      <th>4302</th>\n",
       "      <td>167482</td>\n",
       "      <td>955.000</td>\n",
       "      <td>Ярославль</td>\n",
       "      <td>М</td>\n",
       "      <td>62</td>\n",
       "      <td>0</td>\n",
       "      <td>NaN</td>\n",
       "      <td>1</td>\n",
       "      <td>1</td>\n",
       "      <td>0</td>\n",
       "      <td>157,784.960</td>\n",
       "      <td>1</td>\n",
       "    </tr>\n",
       "    <tr>\n",
       "      <th>5578</th>\n",
       "      <td>136508</td>\n",
       "      <td>739.000</td>\n",
       "      <td>Рыбинск</td>\n",
       "      <td>М</td>\n",
       "      <td>49</td>\n",
       "      <td>0</td>\n",
       "      <td>NaN</td>\n",
       "      <td>2</td>\n",
       "      <td>1</td>\n",
       "      <td>1</td>\n",
       "      <td>280,945.170</td>\n",
       "      <td>1</td>\n",
       "    </tr>\n",
       "    <tr>\n",
       "      <th>6827</th>\n",
       "      <td>205707</td>\n",
       "      <td>953.000</td>\n",
       "      <td>Ярославль</td>\n",
       "      <td>М</td>\n",
       "      <td>30</td>\n",
       "      <td>0</td>\n",
       "      <td>NaN</td>\n",
       "      <td>3</td>\n",
       "      <td>1</td>\n",
       "      <td>0</td>\n",
       "      <td>157,069.200</td>\n",
       "      <td>1</td>\n",
       "    </tr>\n",
       "    <tr>\n",
       "      <th>7572</th>\n",
       "      <td>144559</td>\n",
       "      <td>748.000</td>\n",
       "      <td>Ярославль</td>\n",
       "      <td>М</td>\n",
       "      <td>45</td>\n",
       "      <td>0</td>\n",
       "      <td>NaN</td>\n",
       "      <td>1</td>\n",
       "      <td>1</td>\n",
       "      <td>0</td>\n",
       "      <td>288,756.230</td>\n",
       "      <td>1</td>\n",
       "    </tr>\n",
       "    <tr>\n",
       "      <th>8185</th>\n",
       "      <td>116284</td>\n",
       "      <td>743.000</td>\n",
       "      <td>Ярославль</td>\n",
       "      <td>М</td>\n",
       "      <td>48</td>\n",
       "      <td>0</td>\n",
       "      <td>NaN</td>\n",
       "      <td>1</td>\n",
       "      <td>1</td>\n",
       "      <td>1</td>\n",
       "      <td>634,457.210</td>\n",
       "      <td>1</td>\n",
       "    </tr>\n",
       "    <tr>\n",
       "      <th>8611</th>\n",
       "      <td>195981</td>\n",
       "      <td>763.000</td>\n",
       "      <td>Ярославль</td>\n",
       "      <td>Ж</td>\n",
       "      <td>48</td>\n",
       "      <td>0</td>\n",
       "      <td>NaN</td>\n",
       "      <td>1</td>\n",
       "      <td>1</td>\n",
       "      <td>0</td>\n",
       "      <td>248,232.390</td>\n",
       "      <td>1</td>\n",
       "    </tr>\n",
       "    <tr>\n",
       "      <th>8957</th>\n",
       "      <td>147837</td>\n",
       "      <td>962.000</td>\n",
       "      <td>Рыбинск</td>\n",
       "      <td>Ж</td>\n",
       "      <td>79</td>\n",
       "      <td>3</td>\n",
       "      <td>NaN</td>\n",
       "      <td>0</td>\n",
       "      <td>0</td>\n",
       "      <td>0</td>\n",
       "      <td>25,063.960</td>\n",
       "      <td>1</td>\n",
       "    </tr>\n",
       "    <tr>\n",
       "      <th>9181</th>\n",
       "      <td>228103</td>\n",
       "      <td>946.000</td>\n",
       "      <td>Рыбинск</td>\n",
       "      <td>М</td>\n",
       "      <td>37</td>\n",
       "      <td>0</td>\n",
       "      <td>NaN</td>\n",
       "      <td>3</td>\n",
       "      <td>0</td>\n",
       "      <td>0</td>\n",
       "      <td>196,941.600</td>\n",
       "      <td>1</td>\n",
       "    </tr>\n",
       "    <tr>\n",
       "      <th>9227</th>\n",
       "      <td>116750</td>\n",
       "      <td>776.000</td>\n",
       "      <td>Ярославль</td>\n",
       "      <td>М</td>\n",
       "      <td>46</td>\n",
       "      <td>0</td>\n",
       "      <td>NaN</td>\n",
       "      <td>1</td>\n",
       "      <td>1</td>\n",
       "      <td>0</td>\n",
       "      <td>540,423.840</td>\n",
       "      <td>1</td>\n",
       "    </tr>\n",
       "  </tbody>\n",
       "</table>\n",
       "</div>"
      ],
      "text/plain": [
       "      USERID   score       city gender  age  equity  balance  products  \\\n",
       "1273  136567 961.000  Ярославль      М   31       0      NaN         1   \n",
       "1400  146876 707.000  Ярославль      М   24       0      NaN         3   \n",
       "3017  123230 980.000    Рыбинск      Ж   53       0      NaN         1   \n",
       "4118  157443 727.000     Ростов      М   69       0      NaN         1   \n",
       "4302  167482 955.000  Ярославль      М   62       0      NaN         1   \n",
       "5578  136508 739.000    Рыбинск      М   49       0      NaN         2   \n",
       "6827  205707 953.000  Ярославль      М   30       0      NaN         3   \n",
       "7572  144559 748.000  Ярославль      М   45       0      NaN         1   \n",
       "8185  116284 743.000  Ярославль      М   48       0      NaN         1   \n",
       "8611  195981 763.000  Ярославль      Ж   48       0      NaN         1   \n",
       "8957  147837 962.000    Рыбинск      Ж   79       3      NaN         0   \n",
       "9181  228103 946.000    Рыбинск      М   37       0      NaN         3   \n",
       "9227  116750 776.000  Ярославль      М   46       0      NaN         1   \n",
       "\n",
       "      credit_card  last_activity    EST_SALARY  churn  \n",
       "1273            1              0 1,015,386.140      1  \n",
       "1400            1              0    94,091.110      1  \n",
       "3017            1              1   327,646.020      1  \n",
       "4118            1              0   132,546.930      1  \n",
       "4302            1              0   157,784.960      1  \n",
       "5578            1              1   280,945.170      1  \n",
       "6827            1              0   157,069.200      1  \n",
       "7572            1              0   288,756.230      1  \n",
       "8185            1              1   634,457.210      1  \n",
       "8611            1              0   248,232.390      1  \n",
       "8957            0              0    25,063.960      1  \n",
       "9181            0              0   196,941.600      1  \n",
       "9227            1              0   540,423.840      1  "
      ]
     },
     "execution_count": 13,
     "metadata": {},
     "output_type": "execute_result"
    }
   ],
   "source": [
    "# Посмотрим подробнее на эти данные\n",
    "\n",
    "df[(df['balance'].isna() & df['churn'] == 1)]"
   ]
  },
  {
   "cell_type": "markdown",
   "metadata": {},
   "source": [
    "Пропуски присутствуют только в балансе на карте, их около 23%. При первом взгляде на данные таблицы, пропуски в балансе не зависит от других данных Пропуски в данных не помешают дальнейшему анализу, поэтому оставляем их. При изучении зависимости оттока клиента от баланса на карте можно будет очистить датасет от пропусков."
   ]
  },
  {
   "cell_type": "markdown",
   "metadata": {},
   "source": [
    "### Обработка наименований столбцов"
   ]
  },
  {
   "cell_type": "code",
   "execution_count": 14,
   "metadata": {},
   "outputs": [
    {
     "data": {
      "text/plain": [
       "Index(['userid', 'score', 'city', 'gender', 'age', 'equity', 'balance',\n",
       "       'products', 'credit_card', 'last_activity', 'est_salary', 'churn'],\n",
       "      dtype='object')"
      ]
     },
     "execution_count": 14,
     "metadata": {},
     "output_type": "execute_result"
    }
   ],
   "source": [
    "# Приведем названия колонок к \"Хорошему стилю\"\n",
    "\n",
    "df.columns = df.columns.str.lower()\n",
    "df.columns"
   ]
  },
  {
   "cell_type": "code",
   "execution_count": 15,
   "metadata": {},
   "outputs": [
    {
     "data": {
      "text/plain": [
       "Index(['user_id', 'score', 'city', 'gender', 'age', 'equity', 'balance',\n",
       "       'products', 'credit_card', 'last_activity', 'est_salary', 'churn'],\n",
       "      dtype='object')"
      ]
     },
     "execution_count": 15,
     "metadata": {},
     "output_type": "execute_result"
    }
   ],
   "source": [
    "# Заменим название колонки 'user_id'\n",
    "\n",
    "df = df.rename(columns = {'userid':'user_id'})\n",
    "df.columns"
   ]
  },
  {
   "cell_type": "markdown",
   "metadata": {},
   "source": [
    "### Обработка дубликатов"
   ]
  },
  {
   "cell_type": "markdown",
   "metadata": {},
   "source": [
    "Явных дубликатов в нашем датасете нет, как мы выяснили еще на этапе изучения данных. Поэтому рассмотрим неявные дубликаты."
   ]
  },
  {
   "cell_type": "code",
   "execution_count": 16,
   "metadata": {},
   "outputs": [
    {
     "data": {
      "text/plain": [
       "50"
      ]
     },
     "execution_count": 16,
     "metadata": {},
     "output_type": "execute_result"
    }
   ],
   "source": [
    "# Проверим дубликаты в столбце user_id:\n",
    "\n",
    "df['user_id'].duplicated().sum()"
   ]
  },
  {
   "cell_type": "code",
   "execution_count": 17,
   "metadata": {
    "scrolled": true
   },
   "outputs": [
    {
     "data": {
      "text/html": [
       "<div>\n",
       "<style scoped>\n",
       "    .dataframe tbody tr th:only-of-type {\n",
       "        vertical-align: middle;\n",
       "    }\n",
       "\n",
       "    .dataframe tbody tr th {\n",
       "        vertical-align: top;\n",
       "    }\n",
       "\n",
       "    .dataframe thead th {\n",
       "        text-align: right;\n",
       "    }\n",
       "</style>\n",
       "<table border=\"1\" class=\"dataframe\">\n",
       "  <thead>\n",
       "    <tr style=\"text-align: right;\">\n",
       "      <th></th>\n",
       "      <th>user_id</th>\n",
       "      <th>score</th>\n",
       "      <th>city</th>\n",
       "      <th>gender</th>\n",
       "      <th>age</th>\n",
       "      <th>equity</th>\n",
       "      <th>balance</th>\n",
       "      <th>products</th>\n",
       "      <th>credit_card</th>\n",
       "      <th>last_activity</th>\n",
       "      <th>est_salary</th>\n",
       "      <th>churn</th>\n",
       "    </tr>\n",
       "  </thead>\n",
       "  <tbody>\n",
       "    <tr>\n",
       "      <th>1583</th>\n",
       "      <td>190253</td>\n",
       "      <td>726.000</td>\n",
       "      <td>Ярославль</td>\n",
       "      <td>М</td>\n",
       "      <td>49</td>\n",
       "      <td>0</td>\n",
       "      <td>NaN</td>\n",
       "      <td>1</td>\n",
       "      <td>1</td>\n",
       "      <td>1</td>\n",
       "      <td>177,700.780</td>\n",
       "      <td>0</td>\n",
       "    </tr>\n",
       "    <tr>\n",
       "      <th>1837</th>\n",
       "      <td>210662</td>\n",
       "      <td>896.000</td>\n",
       "      <td>Рыбинск</td>\n",
       "      <td>Ж</td>\n",
       "      <td>37</td>\n",
       "      <td>0</td>\n",
       "      <td>NaN</td>\n",
       "      <td>2</td>\n",
       "      <td>0</td>\n",
       "      <td>0</td>\n",
       "      <td>90,916.040</td>\n",
       "      <td>0</td>\n",
       "    </tr>\n",
       "    <tr>\n",
       "      <th>2138</th>\n",
       "      <td>131419</td>\n",
       "      <td>739.000</td>\n",
       "      <td>Рыбинск</td>\n",
       "      <td>Ж</td>\n",
       "      <td>37</td>\n",
       "      <td>3</td>\n",
       "      <td>1,307,941.650</td>\n",
       "      <td>3</td>\n",
       "      <td>0</td>\n",
       "      <td>0</td>\n",
       "      <td>103,867.470</td>\n",
       "      <td>0</td>\n",
       "    </tr>\n",
       "    <tr>\n",
       "      <th>2302</th>\n",
       "      <td>220816</td>\n",
       "      <td>934.000</td>\n",
       "      <td>Рыбинск</td>\n",
       "      <td>Ж</td>\n",
       "      <td>74</td>\n",
       "      <td>5</td>\n",
       "      <td>1,294,285.390</td>\n",
       "      <td>3</td>\n",
       "      <td>1</td>\n",
       "      <td>0</td>\n",
       "      <td>95,606.800</td>\n",
       "      <td>0</td>\n",
       "    </tr>\n",
       "    <tr>\n",
       "      <th>2998</th>\n",
       "      <td>208081</td>\n",
       "      <td>821.000</td>\n",
       "      <td>Рыбинск</td>\n",
       "      <td>Ж</td>\n",
       "      <td>62</td>\n",
       "      <td>3</td>\n",
       "      <td>493,608.260</td>\n",
       "      <td>2</td>\n",
       "      <td>1</td>\n",
       "      <td>1</td>\n",
       "      <td>33,491.450</td>\n",
       "      <td>0</td>\n",
       "    </tr>\n",
       "    <tr>\n",
       "      <th>3039</th>\n",
       "      <td>170312</td>\n",
       "      <td>813.000</td>\n",
       "      <td>Рыбинск</td>\n",
       "      <td>Ж</td>\n",
       "      <td>47</td>\n",
       "      <td>3</td>\n",
       "      <td>370,027.670</td>\n",
       "      <td>2</td>\n",
       "      <td>0</td>\n",
       "      <td>0</td>\n",
       "      <td>129,835.560</td>\n",
       "      <td>0</td>\n",
       "    </tr>\n",
       "    <tr>\n",
       "      <th>3106</th>\n",
       "      <td>185748</td>\n",
       "      <td>912.000</td>\n",
       "      <td>Ярославль</td>\n",
       "      <td>Ж</td>\n",
       "      <td>47</td>\n",
       "      <td>5</td>\n",
       "      <td>1,598,218.980</td>\n",
       "      <td>2</td>\n",
       "      <td>0</td>\n",
       "      <td>0</td>\n",
       "      <td>180,256.980</td>\n",
       "      <td>0</td>\n",
       "    </tr>\n",
       "    <tr>\n",
       "      <th>3817</th>\n",
       "      <td>211130</td>\n",
       "      <td>918.000</td>\n",
       "      <td>Рыбинск</td>\n",
       "      <td>Ж</td>\n",
       "      <td>55</td>\n",
       "      <td>0</td>\n",
       "      <td>NaN</td>\n",
       "      <td>2</td>\n",
       "      <td>1</td>\n",
       "      <td>1</td>\n",
       "      <td>244,202.040</td>\n",
       "      <td>0</td>\n",
       "    </tr>\n",
       "    <tr>\n",
       "      <th>4186</th>\n",
       "      <td>217643</td>\n",
       "      <td>804.000</td>\n",
       "      <td>Рыбинск</td>\n",
       "      <td>Ж</td>\n",
       "      <td>40</td>\n",
       "      <td>2</td>\n",
       "      <td>301,836.650</td>\n",
       "      <td>2</td>\n",
       "      <td>1</td>\n",
       "      <td>1</td>\n",
       "      <td>81,137.220</td>\n",
       "      <td>0</td>\n",
       "    </tr>\n",
       "    <tr>\n",
       "      <th>4216</th>\n",
       "      <td>226719</td>\n",
       "      <td>903.000</td>\n",
       "      <td>Рыбинск</td>\n",
       "      <td>Ж</td>\n",
       "      <td>63</td>\n",
       "      <td>0</td>\n",
       "      <td>NaN</td>\n",
       "      <td>1</td>\n",
       "      <td>1</td>\n",
       "      <td>0</td>\n",
       "      <td>138,582.580</td>\n",
       "      <td>0</td>\n",
       "    </tr>\n",
       "    <tr>\n",
       "      <th>4870</th>\n",
       "      <td>197364</td>\n",
       "      <td>889.000</td>\n",
       "      <td>Ярославль</td>\n",
       "      <td>М</td>\n",
       "      <td>33</td>\n",
       "      <td>0</td>\n",
       "      <td>NaN</td>\n",
       "      <td>2</td>\n",
       "      <td>1</td>\n",
       "      <td>1</td>\n",
       "      <td>96,173.480</td>\n",
       "      <td>0</td>\n",
       "    </tr>\n",
       "    <tr>\n",
       "      <th>5197</th>\n",
       "      <td>155765</td>\n",
       "      <td>923.000</td>\n",
       "      <td>Рыбинск</td>\n",
       "      <td>М</td>\n",
       "      <td>30</td>\n",
       "      <td>0</td>\n",
       "      <td>NaN</td>\n",
       "      <td>1</td>\n",
       "      <td>1</td>\n",
       "      <td>1</td>\n",
       "      <td>120,296.600</td>\n",
       "      <td>0</td>\n",
       "    </tr>\n",
       "    <tr>\n",
       "      <th>5420</th>\n",
       "      <td>126368</td>\n",
       "      <td>832.000</td>\n",
       "      <td>Рыбинск</td>\n",
       "      <td>Ж</td>\n",
       "      <td>33</td>\n",
       "      <td>0</td>\n",
       "      <td>NaN</td>\n",
       "      <td>1</td>\n",
       "      <td>0</td>\n",
       "      <td>0</td>\n",
       "      <td>118,465.340</td>\n",
       "      <td>0</td>\n",
       "    </tr>\n",
       "    <tr>\n",
       "      <th>5557</th>\n",
       "      <td>143592</td>\n",
       "      <td>764.000</td>\n",
       "      <td>Ярославль</td>\n",
       "      <td>Ж</td>\n",
       "      <td>68</td>\n",
       "      <td>3</td>\n",
       "      <td>508,919.150</td>\n",
       "      <td>2</td>\n",
       "      <td>0</td>\n",
       "      <td>1</td>\n",
       "      <td>71,211.660</td>\n",
       "      <td>0</td>\n",
       "    </tr>\n",
       "    <tr>\n",
       "      <th>5569</th>\n",
       "      <td>141265</td>\n",
       "      <td>811.000</td>\n",
       "      <td>Рыбинск</td>\n",
       "      <td>Ж</td>\n",
       "      <td>33</td>\n",
       "      <td>3</td>\n",
       "      <td>1,044,316.880</td>\n",
       "      <td>2</td>\n",
       "      <td>1</td>\n",
       "      <td>0</td>\n",
       "      <td>46,055.320</td>\n",
       "      <td>0</td>\n",
       "    </tr>\n",
       "    <tr>\n",
       "      <th>5570</th>\n",
       "      <td>208815</td>\n",
       "      <td>773.000</td>\n",
       "      <td>Ярославль</td>\n",
       "      <td>М</td>\n",
       "      <td>39</td>\n",
       "      <td>4</td>\n",
       "      <td>288,110.090</td>\n",
       "      <td>2</td>\n",
       "      <td>1</td>\n",
       "      <td>0</td>\n",
       "      <td>56,971.910</td>\n",
       "      <td>0</td>\n",
       "    </tr>\n",
       "    <tr>\n",
       "      <th>5705</th>\n",
       "      <td>152479</td>\n",
       "      <td>723.000</td>\n",
       "      <td>Ярославль</td>\n",
       "      <td>Ж</td>\n",
       "      <td>22</td>\n",
       "      <td>0</td>\n",
       "      <td>NaN</td>\n",
       "      <td>1</td>\n",
       "      <td>1</td>\n",
       "      <td>0</td>\n",
       "      <td>83,955.650</td>\n",
       "      <td>0</td>\n",
       "    </tr>\n",
       "    <tr>\n",
       "      <th>5807</th>\n",
       "      <td>217619</td>\n",
       "      <td>766.000</td>\n",
       "      <td>Ярославль</td>\n",
       "      <td>М</td>\n",
       "      <td>52</td>\n",
       "      <td>2</td>\n",
       "      <td>218,199.470</td>\n",
       "      <td>1</td>\n",
       "      <td>1</td>\n",
       "      <td>0</td>\n",
       "      <td>120,356.440</td>\n",
       "      <td>0</td>\n",
       "    </tr>\n",
       "    <tr>\n",
       "      <th>5840</th>\n",
       "      <td>208738</td>\n",
       "      <td>839.000</td>\n",
       "      <td>Ярославль</td>\n",
       "      <td>М</td>\n",
       "      <td>60</td>\n",
       "      <td>5</td>\n",
       "      <td>1,102,438.370</td>\n",
       "      <td>2</td>\n",
       "      <td>0</td>\n",
       "      <td>1</td>\n",
       "      <td>116,500.810</td>\n",
       "      <td>0</td>\n",
       "    </tr>\n",
       "    <tr>\n",
       "      <th>5896</th>\n",
       "      <td>120258</td>\n",
       "      <td>905.000</td>\n",
       "      <td>Ярославль</td>\n",
       "      <td>М</td>\n",
       "      <td>30</td>\n",
       "      <td>0</td>\n",
       "      <td>NaN</td>\n",
       "      <td>1</td>\n",
       "      <td>1</td>\n",
       "      <td>1</td>\n",
       "      <td>146,427.960</td>\n",
       "      <td>0</td>\n",
       "    </tr>\n",
       "    <tr>\n",
       "      <th>6005</th>\n",
       "      <td>188957</td>\n",
       "      <td>882.000</td>\n",
       "      <td>Рыбинск</td>\n",
       "      <td>Ж</td>\n",
       "      <td>64</td>\n",
       "      <td>3</td>\n",
       "      <td>893,392.910</td>\n",
       "      <td>3</td>\n",
       "      <td>1</td>\n",
       "      <td>0</td>\n",
       "      <td>69,622.580</td>\n",
       "      <td>0</td>\n",
       "    </tr>\n",
       "    <tr>\n",
       "      <th>6756</th>\n",
       "      <td>172142</td>\n",
       "      <td>751.000</td>\n",
       "      <td>Рыбинск</td>\n",
       "      <td>Ж</td>\n",
       "      <td>69</td>\n",
       "      <td>3</td>\n",
       "      <td>396,568.030</td>\n",
       "      <td>2</td>\n",
       "      <td>0</td>\n",
       "      <td>1</td>\n",
       "      <td>45,608.450</td>\n",
       "      <td>0</td>\n",
       "    </tr>\n",
       "    <tr>\n",
       "      <th>6786</th>\n",
       "      <td>163207</td>\n",
       "      <td>838.000</td>\n",
       "      <td>Ярославль</td>\n",
       "      <td>Ж</td>\n",
       "      <td>42</td>\n",
       "      <td>4</td>\n",
       "      <td>652,776.600</td>\n",
       "      <td>2</td>\n",
       "      <td>1</td>\n",
       "      <td>1</td>\n",
       "      <td>97,545.360</td>\n",
       "      <td>0</td>\n",
       "    </tr>\n",
       "    <tr>\n",
       "      <th>7271</th>\n",
       "      <td>164676</td>\n",
       "      <td>790.000</td>\n",
       "      <td>Рыбинск</td>\n",
       "      <td>Ж</td>\n",
       "      <td>77</td>\n",
       "      <td>1</td>\n",
       "      <td>111,202.010</td>\n",
       "      <td>1</td>\n",
       "      <td>1</td>\n",
       "      <td>0</td>\n",
       "      <td>32,835.450</td>\n",
       "      <td>0</td>\n",
       "    </tr>\n",
       "    <tr>\n",
       "      <th>7487</th>\n",
       "      <td>140377</td>\n",
       "      <td>930.000</td>\n",
       "      <td>Рыбинск</td>\n",
       "      <td>Ж</td>\n",
       "      <td>34</td>\n",
       "      <td>5</td>\n",
       "      <td>1,123,967.020</td>\n",
       "      <td>1</td>\n",
       "      <td>1</td>\n",
       "      <td>1</td>\n",
       "      <td>148,336.260</td>\n",
       "      <td>0</td>\n",
       "    </tr>\n",
       "    <tr>\n",
       "      <th>7542</th>\n",
       "      <td>117943</td>\n",
       "      <td>880.000</td>\n",
       "      <td>Ярославль</td>\n",
       "      <td>Ж</td>\n",
       "      <td>40</td>\n",
       "      <td>0</td>\n",
       "      <td>NaN</td>\n",
       "      <td>1</td>\n",
       "      <td>1</td>\n",
       "      <td>0</td>\n",
       "      <td>137,718.930</td>\n",
       "      <td>0</td>\n",
       "    </tr>\n",
       "    <tr>\n",
       "      <th>7694</th>\n",
       "      <td>116540</td>\n",
       "      <td>887.000</td>\n",
       "      <td>Ярославль</td>\n",
       "      <td>Ж</td>\n",
       "      <td>38</td>\n",
       "      <td>0</td>\n",
       "      <td>NaN</td>\n",
       "      <td>1</td>\n",
       "      <td>0</td>\n",
       "      <td>1</td>\n",
       "      <td>119,247.610</td>\n",
       "      <td>0</td>\n",
       "    </tr>\n",
       "    <tr>\n",
       "      <th>7814</th>\n",
       "      <td>210792</td>\n",
       "      <td>839.000</td>\n",
       "      <td>Ярославль</td>\n",
       "      <td>М</td>\n",
       "      <td>42</td>\n",
       "      <td>2</td>\n",
       "      <td>662,646.970</td>\n",
       "      <td>1</td>\n",
       "      <td>1</td>\n",
       "      <td>0</td>\n",
       "      <td>138,403.600</td>\n",
       "      <td>0</td>\n",
       "    </tr>\n",
       "    <tr>\n",
       "      <th>7931</th>\n",
       "      <td>191520</td>\n",
       "      <td>767.000</td>\n",
       "      <td>Ярославль</td>\n",
       "      <td>М</td>\n",
       "      <td>45</td>\n",
       "      <td>0</td>\n",
       "      <td>NaN</td>\n",
       "      <td>1</td>\n",
       "      <td>1</td>\n",
       "      <td>1</td>\n",
       "      <td>880,005.050</td>\n",
       "      <td>0</td>\n",
       "    </tr>\n",
       "    <tr>\n",
       "      <th>8272</th>\n",
       "      <td>149365</td>\n",
       "      <td>793.000</td>\n",
       "      <td>Рыбинск</td>\n",
       "      <td>Ж</td>\n",
       "      <td>61</td>\n",
       "      <td>0</td>\n",
       "      <td>476,496.990</td>\n",
       "      <td>2</td>\n",
       "      <td>1</td>\n",
       "      <td>1</td>\n",
       "      <td>46,147.060</td>\n",
       "      <td>0</td>\n",
       "    </tr>\n",
       "    <tr>\n",
       "      <th>8364</th>\n",
       "      <td>148826</td>\n",
       "      <td>909.000</td>\n",
       "      <td>Рыбинск</td>\n",
       "      <td>Ж</td>\n",
       "      <td>32</td>\n",
       "      <td>0</td>\n",
       "      <td>NaN</td>\n",
       "      <td>3</td>\n",
       "      <td>1</td>\n",
       "      <td>0</td>\n",
       "      <td>28,843.540</td>\n",
       "      <td>0</td>\n",
       "    </tr>\n",
       "    <tr>\n",
       "      <th>8497</th>\n",
       "      <td>227795</td>\n",
       "      <td>839.000</td>\n",
       "      <td>Ярославль</td>\n",
       "      <td>М</td>\n",
       "      <td>34</td>\n",
       "      <td>2</td>\n",
       "      <td>326,593.140</td>\n",
       "      <td>2</td>\n",
       "      <td>1</td>\n",
       "      <td>0</td>\n",
       "      <td>103,314.920</td>\n",
       "      <td>0</td>\n",
       "    </tr>\n",
       "    <tr>\n",
       "      <th>8521</th>\n",
       "      <td>210627</td>\n",
       "      <td>804.000</td>\n",
       "      <td>Рыбинск</td>\n",
       "      <td>М</td>\n",
       "      <td>30</td>\n",
       "      <td>2</td>\n",
       "      <td>347,818.880</td>\n",
       "      <td>3</td>\n",
       "      <td>1</td>\n",
       "      <td>0</td>\n",
       "      <td>129,015.250</td>\n",
       "      <td>0</td>\n",
       "    </tr>\n",
       "    <tr>\n",
       "      <th>8638</th>\n",
       "      <td>123461</td>\n",
       "      <td>934.000</td>\n",
       "      <td>Рыбинск</td>\n",
       "      <td>М</td>\n",
       "      <td>34</td>\n",
       "      <td>0</td>\n",
       "      <td>NaN</td>\n",
       "      <td>2</td>\n",
       "      <td>1</td>\n",
       "      <td>0</td>\n",
       "      <td>291,619.270</td>\n",
       "      <td>0</td>\n",
       "    </tr>\n",
       "    <tr>\n",
       "      <th>8705</th>\n",
       "      <td>181526</td>\n",
       "      <td>895.000</td>\n",
       "      <td>Рыбинск</td>\n",
       "      <td>М</td>\n",
       "      <td>29</td>\n",
       "      <td>0</td>\n",
       "      <td>NaN</td>\n",
       "      <td>1</td>\n",
       "      <td>1</td>\n",
       "      <td>1</td>\n",
       "      <td>124,786.530</td>\n",
       "      <td>0</td>\n",
       "    </tr>\n",
       "    <tr>\n",
       "      <th>8733</th>\n",
       "      <td>162053</td>\n",
       "      <td>786.000</td>\n",
       "      <td>Ярославль</td>\n",
       "      <td>М</td>\n",
       "      <td>29</td>\n",
       "      <td>4</td>\n",
       "      <td>205,824.970</td>\n",
       "      <td>3</td>\n",
       "      <td>1</td>\n",
       "      <td>0</td>\n",
       "      <td>121,371.730</td>\n",
       "      <td>0</td>\n",
       "    </tr>\n",
       "    <tr>\n",
       "      <th>8822</th>\n",
       "      <td>199312</td>\n",
       "      <td>911.000</td>\n",
       "      <td>Рыбинск</td>\n",
       "      <td>Ж</td>\n",
       "      <td>43</td>\n",
       "      <td>0</td>\n",
       "      <td>NaN</td>\n",
       "      <td>2</td>\n",
       "      <td>1</td>\n",
       "      <td>1</td>\n",
       "      <td>152,189.720</td>\n",
       "      <td>0</td>\n",
       "    </tr>\n",
       "    <tr>\n",
       "      <th>9146</th>\n",
       "      <td>183510</td>\n",
       "      <td>800.000</td>\n",
       "      <td>Рыбинск</td>\n",
       "      <td>Ж</td>\n",
       "      <td>42</td>\n",
       "      <td>7</td>\n",
       "      <td>473,293.810</td>\n",
       "      <td>2</td>\n",
       "      <td>1</td>\n",
       "      <td>0</td>\n",
       "      <td>54,049.880</td>\n",
       "      <td>0</td>\n",
       "    </tr>\n",
       "    <tr>\n",
       "      <th>9175</th>\n",
       "      <td>200863</td>\n",
       "      <td>832.000</td>\n",
       "      <td>Ярославль</td>\n",
       "      <td>М</td>\n",
       "      <td>42</td>\n",
       "      <td>5</td>\n",
       "      <td>620,064.730</td>\n",
       "      <td>2</td>\n",
       "      <td>0</td>\n",
       "      <td>0</td>\n",
       "      <td>188,054.460</td>\n",
       "      <td>0</td>\n",
       "    </tr>\n",
       "    <tr>\n",
       "      <th>9267</th>\n",
       "      <td>150667</td>\n",
       "      <td>931.000</td>\n",
       "      <td>Ярославль</td>\n",
       "      <td>М</td>\n",
       "      <td>41</td>\n",
       "      <td>0</td>\n",
       "      <td>NaN</td>\n",
       "      <td>1</td>\n",
       "      <td>0</td>\n",
       "      <td>0</td>\n",
       "      <td>261,904.440</td>\n",
       "      <td>0</td>\n",
       "    </tr>\n",
       "    <tr>\n",
       "      <th>9363</th>\n",
       "      <td>155872</td>\n",
       "      <td>714.000</td>\n",
       "      <td>Рыбинск</td>\n",
       "      <td>Ж</td>\n",
       "      <td>29</td>\n",
       "      <td>0</td>\n",
       "      <td>NaN</td>\n",
       "      <td>1</td>\n",
       "      <td>1</td>\n",
       "      <td>0</td>\n",
       "      <td>118,052.840</td>\n",
       "      <td>0</td>\n",
       "    </tr>\n",
       "    <tr>\n",
       "      <th>9406</th>\n",
       "      <td>217826</td>\n",
       "      <td>790.000</td>\n",
       "      <td>Рыбинск</td>\n",
       "      <td>Ж</td>\n",
       "      <td>46</td>\n",
       "      <td>4</td>\n",
       "      <td>430,414.800</td>\n",
       "      <td>2</td>\n",
       "      <td>1</td>\n",
       "      <td>1</td>\n",
       "      <td>49,400.370</td>\n",
       "      <td>0</td>\n",
       "    </tr>\n",
       "    <tr>\n",
       "      <th>9504</th>\n",
       "      <td>129785</td>\n",
       "      <td>949.000</td>\n",
       "      <td>Ярославль</td>\n",
       "      <td>М</td>\n",
       "      <td>43</td>\n",
       "      <td>0</td>\n",
       "      <td>NaN</td>\n",
       "      <td>1</td>\n",
       "      <td>1</td>\n",
       "      <td>1</td>\n",
       "      <td>166,845.370</td>\n",
       "      <td>0</td>\n",
       "    </tr>\n",
       "    <tr>\n",
       "      <th>9508</th>\n",
       "      <td>160075</td>\n",
       "      <td>824.000</td>\n",
       "      <td>Рыбинск</td>\n",
       "      <td>Ж</td>\n",
       "      <td>57</td>\n",
       "      <td>3</td>\n",
       "      <td>355,047.330</td>\n",
       "      <td>2</td>\n",
       "      <td>0</td>\n",
       "      <td>0</td>\n",
       "      <td>64,351.810</td>\n",
       "      <td>0</td>\n",
       "    </tr>\n",
       "    <tr>\n",
       "      <th>9653</th>\n",
       "      <td>171751</td>\n",
       "      <td>862.000</td>\n",
       "      <td>Ярославль</td>\n",
       "      <td>М</td>\n",
       "      <td>42</td>\n",
       "      <td>4</td>\n",
       "      <td>481,992.190</td>\n",
       "      <td>2</td>\n",
       "      <td>1</td>\n",
       "      <td>0</td>\n",
       "      <td>71,816.860</td>\n",
       "      <td>0</td>\n",
       "    </tr>\n",
       "    <tr>\n",
       "      <th>9659</th>\n",
       "      <td>195884</td>\n",
       "      <td>767.000</td>\n",
       "      <td>Рыбинск</td>\n",
       "      <td>Ж</td>\n",
       "      <td>45</td>\n",
       "      <td>1</td>\n",
       "      <td>335,652.560</td>\n",
       "      <td>3</td>\n",
       "      <td>1</td>\n",
       "      <td>1</td>\n",
       "      <td>100,197.670</td>\n",
       "      <td>0</td>\n",
       "    </tr>\n",
       "    <tr>\n",
       "      <th>9775</th>\n",
       "      <td>124450</td>\n",
       "      <td>758.000</td>\n",
       "      <td>Рыбинск</td>\n",
       "      <td>Ж</td>\n",
       "      <td>36</td>\n",
       "      <td>0</td>\n",
       "      <td>73,574.070</td>\n",
       "      <td>2</td>\n",
       "      <td>0</td>\n",
       "      <td>1</td>\n",
       "      <td>79,963.590</td>\n",
       "      <td>0</td>\n",
       "    </tr>\n",
       "    <tr>\n",
       "      <th>9785</th>\n",
       "      <td>168998</td>\n",
       "      <td>895.000</td>\n",
       "      <td>Рыбинск</td>\n",
       "      <td>М</td>\n",
       "      <td>44</td>\n",
       "      <td>0</td>\n",
       "      <td>282,653.530</td>\n",
       "      <td>3</td>\n",
       "      <td>0</td>\n",
       "      <td>0</td>\n",
       "      <td>255,296.470</td>\n",
       "      <td>0</td>\n",
       "    </tr>\n",
       "    <tr>\n",
       "      <th>9880</th>\n",
       "      <td>217412</td>\n",
       "      <td>886.000</td>\n",
       "      <td>Ярославль</td>\n",
       "      <td>Ж</td>\n",
       "      <td>35</td>\n",
       "      <td>3</td>\n",
       "      <td>1,026,172.140</td>\n",
       "      <td>2</td>\n",
       "      <td>1</td>\n",
       "      <td>0</td>\n",
       "      <td>53,099.160</td>\n",
       "      <td>0</td>\n",
       "    </tr>\n",
       "    <tr>\n",
       "      <th>9970</th>\n",
       "      <td>175730</td>\n",
       "      <td>816.000</td>\n",
       "      <td>Рыбинск</td>\n",
       "      <td>М</td>\n",
       "      <td>36</td>\n",
       "      <td>4</td>\n",
       "      <td>477,892.070</td>\n",
       "      <td>3</td>\n",
       "      <td>1</td>\n",
       "      <td>0</td>\n",
       "      <td>81,100.600</td>\n",
       "      <td>0</td>\n",
       "    </tr>\n",
       "  </tbody>\n",
       "</table>\n",
       "</div>"
      ],
      "text/plain": [
       "      user_id   score       city gender  age  equity       balance  products  \\\n",
       "1583   190253 726.000  Ярославль      М   49       0           NaN         1   \n",
       "1837   210662 896.000    Рыбинск      Ж   37       0           NaN         2   \n",
       "2138   131419 739.000    Рыбинск      Ж   37       3 1,307,941.650         3   \n",
       "2302   220816 934.000    Рыбинск      Ж   74       5 1,294,285.390         3   \n",
       "2998   208081 821.000    Рыбинск      Ж   62       3   493,608.260         2   \n",
       "3039   170312 813.000    Рыбинск      Ж   47       3   370,027.670         2   \n",
       "3106   185748 912.000  Ярославль      Ж   47       5 1,598,218.980         2   \n",
       "3817   211130 918.000    Рыбинск      Ж   55       0           NaN         2   \n",
       "4186   217643 804.000    Рыбинск      Ж   40       2   301,836.650         2   \n",
       "4216   226719 903.000    Рыбинск      Ж   63       0           NaN         1   \n",
       "4870   197364 889.000  Ярославль      М   33       0           NaN         2   \n",
       "5197   155765 923.000    Рыбинск      М   30       0           NaN         1   \n",
       "5420   126368 832.000    Рыбинск      Ж   33       0           NaN         1   \n",
       "5557   143592 764.000  Ярославль      Ж   68       3   508,919.150         2   \n",
       "5569   141265 811.000    Рыбинск      Ж   33       3 1,044,316.880         2   \n",
       "5570   208815 773.000  Ярославль      М   39       4   288,110.090         2   \n",
       "5705   152479 723.000  Ярославль      Ж   22       0           NaN         1   \n",
       "5807   217619 766.000  Ярославль      М   52       2   218,199.470         1   \n",
       "5840   208738 839.000  Ярославль      М   60       5 1,102,438.370         2   \n",
       "5896   120258 905.000  Ярославль      М   30       0           NaN         1   \n",
       "6005   188957 882.000    Рыбинск      Ж   64       3   893,392.910         3   \n",
       "6756   172142 751.000    Рыбинск      Ж   69       3   396,568.030         2   \n",
       "6786   163207 838.000  Ярославль      Ж   42       4   652,776.600         2   \n",
       "7271   164676 790.000    Рыбинск      Ж   77       1   111,202.010         1   \n",
       "7487   140377 930.000    Рыбинск      Ж   34       5 1,123,967.020         1   \n",
       "7542   117943 880.000  Ярославль      Ж   40       0           NaN         1   \n",
       "7694   116540 887.000  Ярославль      Ж   38       0           NaN         1   \n",
       "7814   210792 839.000  Ярославль      М   42       2   662,646.970         1   \n",
       "7931   191520 767.000  Ярославль      М   45       0           NaN         1   \n",
       "8272   149365 793.000    Рыбинск      Ж   61       0   476,496.990         2   \n",
       "8364   148826 909.000    Рыбинск      Ж   32       0           NaN         3   \n",
       "8497   227795 839.000  Ярославль      М   34       2   326,593.140         2   \n",
       "8521   210627 804.000    Рыбинск      М   30       2   347,818.880         3   \n",
       "8638   123461 934.000    Рыбинск      М   34       0           NaN         2   \n",
       "8705   181526 895.000    Рыбинск      М   29       0           NaN         1   \n",
       "8733   162053 786.000  Ярославль      М   29       4   205,824.970         3   \n",
       "8822   199312 911.000    Рыбинск      Ж   43       0           NaN         2   \n",
       "9146   183510 800.000    Рыбинск      Ж   42       7   473,293.810         2   \n",
       "9175   200863 832.000  Ярославль      М   42       5   620,064.730         2   \n",
       "9267   150667 931.000  Ярославль      М   41       0           NaN         1   \n",
       "9363   155872 714.000    Рыбинск      Ж   29       0           NaN         1   \n",
       "9406   217826 790.000    Рыбинск      Ж   46       4   430,414.800         2   \n",
       "9504   129785 949.000  Ярославль      М   43       0           NaN         1   \n",
       "9508   160075 824.000    Рыбинск      Ж   57       3   355,047.330         2   \n",
       "9653   171751 862.000  Ярославль      М   42       4   481,992.190         2   \n",
       "9659   195884 767.000    Рыбинск      Ж   45       1   335,652.560         3   \n",
       "9775   124450 758.000    Рыбинск      Ж   36       0    73,574.070         2   \n",
       "9785   168998 895.000    Рыбинск      М   44       0   282,653.530         3   \n",
       "9880   217412 886.000  Ярославль      Ж   35       3 1,026,172.140         2   \n",
       "9970   175730 816.000    Рыбинск      М   36       4   477,892.070         3   \n",
       "\n",
       "      credit_card  last_activity  est_salary  churn  \n",
       "1583            1              1 177,700.780      0  \n",
       "1837            0              0  90,916.040      0  \n",
       "2138            0              0 103,867.470      0  \n",
       "2302            1              0  95,606.800      0  \n",
       "2998            1              1  33,491.450      0  \n",
       "3039            0              0 129,835.560      0  \n",
       "3106            0              0 180,256.980      0  \n",
       "3817            1              1 244,202.040      0  \n",
       "4186            1              1  81,137.220      0  \n",
       "4216            1              0 138,582.580      0  \n",
       "4870            1              1  96,173.480      0  \n",
       "5197            1              1 120,296.600      0  \n",
       "5420            0              0 118,465.340      0  \n",
       "5557            0              1  71,211.660      0  \n",
       "5569            1              0  46,055.320      0  \n",
       "5570            1              0  56,971.910      0  \n",
       "5705            1              0  83,955.650      0  \n",
       "5807            1              0 120,356.440      0  \n",
       "5840            0              1 116,500.810      0  \n",
       "5896            1              1 146,427.960      0  \n",
       "6005            1              0  69,622.580      0  \n",
       "6756            0              1  45,608.450      0  \n",
       "6786            1              1  97,545.360      0  \n",
       "7271            1              0  32,835.450      0  \n",
       "7487            1              1 148,336.260      0  \n",
       "7542            1              0 137,718.930      0  \n",
       "7694            0              1 119,247.610      0  \n",
       "7814            1              0 138,403.600      0  \n",
       "7931            1              1 880,005.050      0  \n",
       "8272            1              1  46,147.060      0  \n",
       "8364            1              0  28,843.540      0  \n",
       "8497            1              0 103,314.920      0  \n",
       "8521            1              0 129,015.250      0  \n",
       "8638            1              0 291,619.270      0  \n",
       "8705            1              1 124,786.530      0  \n",
       "8733            1              0 121,371.730      0  \n",
       "8822            1              1 152,189.720      0  \n",
       "9146            1              0  54,049.880      0  \n",
       "9175            0              0 188,054.460      0  \n",
       "9267            0              0 261,904.440      0  \n",
       "9363            1              0 118,052.840      0  \n",
       "9406            1              1  49,400.370      0  \n",
       "9504            1              1 166,845.370      0  \n",
       "9508            0              0  64,351.810      0  \n",
       "9653            1              0  71,816.860      0  \n",
       "9659            1              1 100,197.670      0  \n",
       "9775            0              1  79,963.590      0  \n",
       "9785            0              0 255,296.470      0  \n",
       "9880            1              0  53,099.160      0  \n",
       "9970            1              0  81,100.600      0  "
      ]
     },
     "execution_count": 17,
     "metadata": {},
     "output_type": "execute_result"
    }
   ],
   "source": [
    "# Рассмотрим эти данные подробнее\n",
    "\n",
    "id_duplicated = df[df['user_id'].duplicated()]\n",
    "id_duplicated"
   ]
  },
  {
   "cell_type": "code",
   "execution_count": 18,
   "metadata": {},
   "outputs": [
    {
     "data": {
      "text/plain": [
       "0"
      ]
     },
     "execution_count": 18,
     "metadata": {},
     "output_type": "execute_result"
    }
   ],
   "source": [
    "# Посмотрим на полные дубликаты среди повторяющихся значений столбца 'user_id'\n",
    "\n",
    "id_duplicated.duplicated().sum()"
   ]
  },
  {
   "cell_type": "markdown",
   "metadata": {},
   "source": [
    "Такой результат говорит о том, что, возможно, ранее клиенты банка были в разных базах (регистрировались в разных городах), а потом банки объединились, и объеденились и их базы, а номера в 'user_id' менять не стали.\n",
    "\n",
    "Поэтому мы не будем убирать эти данные."
   ]
  },
  {
   "cell_type": "code",
   "execution_count": 19,
   "metadata": {},
   "outputs": [
    {
     "data": {
      "text/plain": [
       "Ярославль    5875\n",
       "Рыбинск      2683\n",
       "Ростов       1416\n",
       "Name: city, dtype: int64"
      ]
     },
     "execution_count": 19,
     "metadata": {},
     "output_type": "execute_result"
    }
   ],
   "source": [
    "# проверим уникальные значения в столбце city\n",
    "\n",
    "df['city'].value_counts()"
   ]
  },
  {
   "cell_type": "code",
   "execution_count": 20,
   "metadata": {},
   "outputs": [
    {
     "data": {
      "text/plain": [
       "М    4991\n",
       "Ж    4983\n",
       "Name: gender, dtype: int64"
      ]
     },
     "execution_count": 20,
     "metadata": {},
     "output_type": "execute_result"
    }
   ],
   "source": [
    "# проверим уникальные значения в столбце gender:\n",
    "\n",
    "df['gender'].value_counts()"
   ]
  },
  {
   "cell_type": "markdown",
   "metadata": {},
   "source": [
    "Явных дубликатов в нашем датасете нет, все неявные дубликаты мы сняли и объяснили."
   ]
  },
  {
   "cell_type": "markdown",
   "metadata": {},
   "source": [
    "### Анализ выбросов"
   ]
  },
  {
   "cell_type": "code",
   "execution_count": 21,
   "metadata": {},
   "outputs": [
    {
     "data": {
      "text/html": [
       "<div>\n",
       "<style scoped>\n",
       "    .dataframe tbody tr th:only-of-type {\n",
       "        vertical-align: middle;\n",
       "    }\n",
       "\n",
       "    .dataframe tbody tr th {\n",
       "        vertical-align: top;\n",
       "    }\n",
       "\n",
       "    .dataframe thead th {\n",
       "        text-align: right;\n",
       "    }\n",
       "</style>\n",
       "<table border=\"1\" class=\"dataframe\">\n",
       "  <thead>\n",
       "    <tr style=\"text-align: right;\">\n",
       "      <th></th>\n",
       "      <th>count</th>\n",
       "      <th>mean</th>\n",
       "      <th>std</th>\n",
       "      <th>min</th>\n",
       "      <th>25%</th>\n",
       "      <th>50%</th>\n",
       "      <th>75%</th>\n",
       "      <th>max</th>\n",
       "    </tr>\n",
       "  </thead>\n",
       "  <tbody>\n",
       "    <tr>\n",
       "      <th>user_id</th>\n",
       "      <td>9,974.000</td>\n",
       "      <td>171,755.219</td>\n",
       "      <td>33,695.527</td>\n",
       "      <td>94,561.000</td>\n",
       "      <td>142,760.000</td>\n",
       "      <td>172,643.000</td>\n",
       "      <td>201,163.750</td>\n",
       "      <td>229,145.000</td>\n",
       "    </tr>\n",
       "    <tr>\n",
       "      <th>score</th>\n",
       "      <td>9,974.000</td>\n",
       "      <td>848.683</td>\n",
       "      <td>65.400</td>\n",
       "      <td>642.000</td>\n",
       "      <td>802.000</td>\n",
       "      <td>853.000</td>\n",
       "      <td>900.000</td>\n",
       "      <td>1,000.000</td>\n",
       "    </tr>\n",
       "    <tr>\n",
       "      <th>age</th>\n",
       "      <td>9,974.000</td>\n",
       "      <td>42.734</td>\n",
       "      <td>12.180</td>\n",
       "      <td>18.000</td>\n",
       "      <td>33.000</td>\n",
       "      <td>40.000</td>\n",
       "      <td>51.000</td>\n",
       "      <td>86.000</td>\n",
       "    </tr>\n",
       "    <tr>\n",
       "      <th>equity</th>\n",
       "      <td>9,974.000</td>\n",
       "      <td>2.631</td>\n",
       "      <td>1.980</td>\n",
       "      <td>0.000</td>\n",
       "      <td>0.000</td>\n",
       "      <td>3.000</td>\n",
       "      <td>4.000</td>\n",
       "      <td>9.000</td>\n",
       "    </tr>\n",
       "    <tr>\n",
       "      <th>balance</th>\n",
       "      <td>7,695.000</td>\n",
       "      <td>827,245.588</td>\n",
       "      <td>1,980,327.410</td>\n",
       "      <td>0.000</td>\n",
       "      <td>295,698.715</td>\n",
       "      <td>524,295.330</td>\n",
       "      <td>980,051.215</td>\n",
       "      <td>119,113,552.010</td>\n",
       "    </tr>\n",
       "    <tr>\n",
       "      <th>products</th>\n",
       "      <td>9,974.000</td>\n",
       "      <td>1.871</td>\n",
       "      <td>0.793</td>\n",
       "      <td>0.000</td>\n",
       "      <td>1.000</td>\n",
       "      <td>2.000</td>\n",
       "      <td>2.000</td>\n",
       "      <td>5.000</td>\n",
       "    </tr>\n",
       "    <tr>\n",
       "      <th>credit_card</th>\n",
       "      <td>9,974.000</td>\n",
       "      <td>0.680</td>\n",
       "      <td>0.466</td>\n",
       "      <td>0.000</td>\n",
       "      <td>0.000</td>\n",
       "      <td>1.000</td>\n",
       "      <td>1.000</td>\n",
       "      <td>1.000</td>\n",
       "    </tr>\n",
       "    <tr>\n",
       "      <th>last_activity</th>\n",
       "      <td>9,974.000</td>\n",
       "      <td>0.523</td>\n",
       "      <td>0.500</td>\n",
       "      <td>0.000</td>\n",
       "      <td>0.000</td>\n",
       "      <td>1.000</td>\n",
       "      <td>1.000</td>\n",
       "      <td>1.000</td>\n",
       "    </tr>\n",
       "    <tr>\n",
       "      <th>est_salary</th>\n",
       "      <td>9,974.000</td>\n",
       "      <td>147,786.810</td>\n",
       "      <td>139,285.514</td>\n",
       "      <td>2,546.300</td>\n",
       "      <td>75,251.660</td>\n",
       "      <td>119,626.795</td>\n",
       "      <td>174,499.812</td>\n",
       "      <td>1,395,064.450</td>\n",
       "    </tr>\n",
       "    <tr>\n",
       "      <th>churn</th>\n",
       "      <td>9,974.000</td>\n",
       "      <td>0.182</td>\n",
       "      <td>0.386</td>\n",
       "      <td>0.000</td>\n",
       "      <td>0.000</td>\n",
       "      <td>0.000</td>\n",
       "      <td>0.000</td>\n",
       "      <td>1.000</td>\n",
       "    </tr>\n",
       "  </tbody>\n",
       "</table>\n",
       "</div>"
      ],
      "text/plain": [
       "                  count        mean           std        min         25%  \\\n",
       "user_id       9,974.000 171,755.219    33,695.527 94,561.000 142,760.000   \n",
       "score         9,974.000     848.683        65.400    642.000     802.000   \n",
       "age           9,974.000      42.734        12.180     18.000      33.000   \n",
       "equity        9,974.000       2.631         1.980      0.000       0.000   \n",
       "balance       7,695.000 827,245.588 1,980,327.410      0.000 295,698.715   \n",
       "products      9,974.000       1.871         0.793      0.000       1.000   \n",
       "credit_card   9,974.000       0.680         0.466      0.000       0.000   \n",
       "last_activity 9,974.000       0.523         0.500      0.000       0.000   \n",
       "est_salary    9,974.000 147,786.810   139,285.514  2,546.300  75,251.660   \n",
       "churn         9,974.000       0.182         0.386      0.000       0.000   \n",
       "\n",
       "                      50%         75%             max  \n",
       "user_id       172,643.000 201,163.750     229,145.000  \n",
       "score             853.000     900.000       1,000.000  \n",
       "age                40.000      51.000          86.000  \n",
       "equity              3.000       4.000           9.000  \n",
       "balance       524,295.330 980,051.215 119,113,552.010  \n",
       "products            2.000       2.000           5.000  \n",
       "credit_card         1.000       1.000           1.000  \n",
       "last_activity       1.000       1.000           1.000  \n",
       "est_salary    119,626.795 174,499.812   1,395,064.450  \n",
       "churn               0.000       0.000           1.000  "
      ]
     },
     "execution_count": 21,
     "metadata": {},
     "output_type": "execute_result"
    }
   ],
   "source": [
    "# Еще раз вызовем метод describe\n",
    "\n",
    "df.describe().T"
   ]
  },
  {
   "cell_type": "markdown",
   "metadata": {},
   "source": [
    "В столбце 'est_salary' минимальное значение 2546,3 рублей это ниже значения МРОТ, что могло бы говорить об ошибке. Однако, у нас недостаточно данных о клиентах, что бы сказать это наверняка (как минимум нет данных об образовании, стаже и семейном положении), поэтому мы примем это за данность и оставим в нашем датасете. Кроме того это могут быть различные варианты декларируемого зароботка: пенсия, частичная занятость (неполная ставка) или что то иное.\n",
    "\n",
    "Мы видим, что в большинстве столбцов данные нормально распределены: среднее отличается от медианы незначительно, а стандартное отклонение невелико.\n",
    "\n",
    "Однако дополнительно проверим значения в столбце est_salary: в таблице выше видно, что минимальное значение существенно ниже МРОТа, чего быть не должно."
   ]
  },
  {
   "cell_type": "code",
   "execution_count": 22,
   "metadata": {},
   "outputs": [
    {
     "data": {
      "text/plain": [
       "80"
      ]
     },
     "execution_count": 22,
     "metadata": {},
     "output_type": "execute_result"
    }
   ],
   "source": [
    "# Посчитаем строки с клиентами, заработная плата которых ниже МРОТа:\n",
    "\n",
    "df[df['est_salary']<16242]['user_id'].count()"
   ]
  },
  {
   "cell_type": "code",
   "execution_count": 23,
   "metadata": {},
   "outputs": [
    {
     "data": {
      "text/plain": [
       "count   80.000\n",
       "mean    44.812\n",
       "std     21.278\n",
       "min     19.000\n",
       "25%     25.000\n",
       "50%     34.500\n",
       "75%     67.000\n",
       "max     77.000\n",
       "Name: age, dtype: float64"
      ]
     },
     "execution_count": 23,
     "metadata": {},
     "output_type": "execute_result"
    }
   ],
   "source": [
    "# Рассмотрим данные по возрасту у клиентов с доходом ниже МРОТ\n",
    "\n",
    "df[df['est_salary']<16242]['age'].describe()"
   ]
  },
  {
   "cell_type": "code",
   "execution_count": 24,
   "metadata": {
    "scrolled": true
   },
   "outputs": [
    {
     "data": {
      "text/plain": [
       "<AxesSubplot:>"
      ]
     },
     "execution_count": 24,
     "metadata": {},
     "output_type": "execute_result"
    },
    {
     "data": {
      "image/png": "[encoded data removed]",
      "text/plain": [
       "<Figure size 432x288 with 1 Axes>"
      ]
     },
     "metadata": {
      "needs_background": "light"
     },
     "output_type": "display_data"
    }
   ],
   "source": [
    "# И визуализируем эти данные с помощью гистограммы\n",
    "\n",
    "df[df['est_salary']<16242]['age'].hist()"
   ]
  },
  {
   "cell_type": "markdown",
   "metadata": {},
   "source": [
    "Исходя из этой гистограммы можно увидеть, что большинство клиентов с доходом ниже МРОТ распределены в возрастных группах от 20 до 30 лет и старше 55. Отсюда можно сделать вывод, что это либо студенты и люди ищущие работу, либо люди вышедшие на пенсию. В таких группах доход ниже МРОТ это нормальное явление.\n",
    "\n",
    "Поэтому не будем считать эти данные выбросами."
   ]
  },
  {
   "cell_type": "markdown",
   "metadata": {},
   "source": [
    "### Добавление столбцов"
   ]
  },
  {
   "cell_type": "code",
   "execution_count": 25,
   "metadata": {
    "scrolled": true
   },
   "outputs": [],
   "source": [
    "# Зададим функцию по кодированию пола и создадим дополнительный столбец\n",
    "\n",
    "def gender_code(row):\n",
    "    gender = row\n",
    "    if gender == 'М':\n",
    "        return 1\n",
    "    else:\n",
    "        return 0\n",
    "\n",
    "df['gender_code'] = df['gender'].apply(gender_code)"
   ]
  },
  {
   "cell_type": "code",
   "execution_count": 26,
   "metadata": {
    "scrolled": true
   },
   "outputs": [
    {
     "data": {
      "text/html": [
       "<div>\n",
       "<style scoped>\n",
       "    .dataframe tbody tr th:only-of-type {\n",
       "        vertical-align: middle;\n",
       "    }\n",
       "\n",
       "    .dataframe tbody tr th {\n",
       "        vertical-align: top;\n",
       "    }\n",
       "\n",
       "    .dataframe thead th {\n",
       "        text-align: right;\n",
       "    }\n",
       "</style>\n",
       "<table border=\"1\" class=\"dataframe\">\n",
       "  <thead>\n",
       "    <tr style=\"text-align: right;\">\n",
       "      <th></th>\n",
       "      <th>user_id</th>\n",
       "      <th>score</th>\n",
       "      <th>city</th>\n",
       "      <th>gender</th>\n",
       "      <th>age</th>\n",
       "      <th>equity</th>\n",
       "      <th>balance</th>\n",
       "      <th>products</th>\n",
       "      <th>credit_card</th>\n",
       "      <th>last_activity</th>\n",
       "      <th>est_salary</th>\n",
       "      <th>churn</th>\n",
       "      <th>gender_code</th>\n",
       "    </tr>\n",
       "  </thead>\n",
       "  <tbody>\n",
       "    <tr>\n",
       "      <th>3428</th>\n",
       "      <td>205978</td>\n",
       "      <td>757.000</td>\n",
       "      <td>Рыбинск</td>\n",
       "      <td>М</td>\n",
       "      <td>25</td>\n",
       "      <td>1</td>\n",
       "      <td>67,559.500</td>\n",
       "      <td>2</td>\n",
       "      <td>1</td>\n",
       "      <td>1</td>\n",
       "      <td>61,237.990</td>\n",
       "      <td>0</td>\n",
       "      <td>1</td>\n",
       "    </tr>\n",
       "    <tr>\n",
       "      <th>7522</th>\n",
       "      <td>148829</td>\n",
       "      <td>863.000</td>\n",
       "      <td>Рыбинск</td>\n",
       "      <td>М</td>\n",
       "      <td>34</td>\n",
       "      <td>2</td>\n",
       "      <td>489,748.720</td>\n",
       "      <td>1</td>\n",
       "      <td>1</td>\n",
       "      <td>0</td>\n",
       "      <td>101,294.570</td>\n",
       "      <td>0</td>\n",
       "      <td>1</td>\n",
       "    </tr>\n",
       "    <tr>\n",
       "      <th>7688</th>\n",
       "      <td>181324</td>\n",
       "      <td>903.000</td>\n",
       "      <td>Рыбинск</td>\n",
       "      <td>М</td>\n",
       "      <td>59</td>\n",
       "      <td>5</td>\n",
       "      <td>865,489.040</td>\n",
       "      <td>2</td>\n",
       "      <td>0</td>\n",
       "      <td>0</td>\n",
       "      <td>86,112.510</td>\n",
       "      <td>0</td>\n",
       "      <td>1</td>\n",
       "    </tr>\n",
       "    <tr>\n",
       "      <th>3302</th>\n",
       "      <td>189523</td>\n",
       "      <td>946.000</td>\n",
       "      <td>Ярославль</td>\n",
       "      <td>М</td>\n",
       "      <td>35</td>\n",
       "      <td>0</td>\n",
       "      <td>NaN</td>\n",
       "      <td>1</td>\n",
       "      <td>1</td>\n",
       "      <td>1</td>\n",
       "      <td>296,407.320</td>\n",
       "      <td>0</td>\n",
       "      <td>1</td>\n",
       "    </tr>\n",
       "    <tr>\n",
       "      <th>1138</th>\n",
       "      <td>224924</td>\n",
       "      <td>929.000</td>\n",
       "      <td>Ростов</td>\n",
       "      <td>Ж</td>\n",
       "      <td>69</td>\n",
       "      <td>0</td>\n",
       "      <td>NaN</td>\n",
       "      <td>1</td>\n",
       "      <td>0</td>\n",
       "      <td>0</td>\n",
       "      <td>120,476.420</td>\n",
       "      <td>0</td>\n",
       "      <td>0</td>\n",
       "    </tr>\n",
       "  </tbody>\n",
       "</table>\n",
       "</div>"
      ],
      "text/plain": [
       "      user_id   score       city gender  age  equity     balance  products  \\\n",
       "3428   205978 757.000    Рыбинск      М   25       1  67,559.500         2   \n",
       "7522   148829 863.000    Рыбинск      М   34       2 489,748.720         1   \n",
       "7688   181324 903.000    Рыбинск      М   59       5 865,489.040         2   \n",
       "3302   189523 946.000  Ярославль      М   35       0         NaN         1   \n",
       "1138   224924 929.000     Ростов      Ж   69       0         NaN         1   \n",
       "\n",
       "      credit_card  last_activity  est_salary  churn  gender_code  \n",
       "3428            1              1  61,237.990      0            1  \n",
       "7522            1              0 101,294.570      0            1  \n",
       "7688            0              0  86,112.510      0            1  \n",
       "3302            1              1 296,407.320      0            1  \n",
       "1138            0              0 120,476.420      0            0  "
      ]
     },
     "execution_count": 26,
     "metadata": {},
     "output_type": "execute_result"
    }
   ],
   "source": [
    "# Посмотрим на получившуюся таблицу\n",
    "\n",
    "df.sample(5)"
   ]
  },
  {
   "cell_type": "markdown",
   "metadata": {},
   "source": [
    "### Вывод"
   ]
  },
  {
   "cell_type": "code",
   "execution_count": 27,
   "metadata": {},
   "outputs": [
    {
     "name": "stdout",
     "output_type": "stream",
     "text": [
      "<class 'pandas.core.frame.DataFrame'>\n",
      "Int64Index: 9974 entries, 0 to 9999\n",
      "Data columns (total 13 columns):\n",
      " #   Column         Non-Null Count  Dtype  \n",
      "---  ------         --------------  -----  \n",
      " 0   user_id        9974 non-null   int64  \n",
      " 1   score          9974 non-null   float64\n",
      " 2   city           9974 non-null   object \n",
      " 3   gender         9974 non-null   object \n",
      " 4   age            9974 non-null   int64  \n",
      " 5   equity         9974 non-null   int64  \n",
      " 6   balance        7695 non-null   float64\n",
      " 7   products       9974 non-null   int64  \n",
      " 8   credit_card    9974 non-null   int64  \n",
      " 9   last_activity  9974 non-null   int64  \n",
      " 10  est_salary     9974 non-null   float64\n",
      " 11  churn          9974 non-null   int64  \n",
      " 12  gender_code    9974 non-null   int64  \n",
      "dtypes: float64(3), int64(8), object(2)\n",
      "memory usage: 1.1+ MB\n"
     ]
    }
   ],
   "source": [
    "df.info()"
   ]
  },
  {
   "cell_type": "markdown",
   "metadata": {},
   "source": [
    "В ходе обработки данных, мы оставили 99,74% изначального датасета, убрав строки с пропусками в столбце 'age', привели названия столбцов к \"правильному\" стилю, рассмотрели возмоные дубликаты и объяснили их происхождение, рассмотрели возможные выбросы и добавили 1 столбец."
   ]
  },
  {
   "cell_type": "markdown",
   "metadata": {},
   "source": [
    "## Исследовательский анализ данных"
   ]
  },
  {
   "cell_type": "markdown",
   "metadata": {},
   "source": [
    "Для составления портретов клиентов рассмотрим какие признаки чаще всего встречаются среди отточных клиентов, а также составим матрицу корреляции"
   ]
  },
  {
   "cell_type": "code",
   "execution_count": 28,
   "metadata": {
    "scrolled": false
   },
   "outputs": [
    {
     "data": {
      "image/png": "[encoded data removed]",
      "text/plain": [
       "<Figure size 1152x576 with 2 Axes>"
      ]
     },
     "metadata": {
      "needs_background": "light"
     },
     "output_type": "display_data"
    }
   ],
   "source": [
    "# С помощью метода 'corr' составим матрицу корреляции и построим тепловую карту:\n",
    "\n",
    "plt.figure(figsize=(16,8))\n",
    "sns.heatmap (df.corr(), annot=True, center= 0, cmap='RdYlGn', linewidths=1);"
   ]
  },
  {
   "cell_type": "markdown",
   "metadata": {},
   "source": [
    "По таблице видно, что наибольшая корреляция с показателем оттока клиентов у таких параметров как:\n",
    "\n",
    "* количество продуктов (столбец 'products'), \n",
    "* оценка объектов собственности клиента (столбец equity),\n",
    "* активность пользователя (столбец last_activity),\n",
    "* пол пользователя (столбец gender_code),\n",
    "* скоринговый рейтинг клиента (столбец score),\n",
    "* наличие кредитной карты (столбец credit_card).\n",
    "\n",
    "\n",
    "Рассмотрим эти параметры для отточных клиентов по отдельности."
   ]
  },
  {
   "cell_type": "markdown",
   "metadata": {},
   "source": [
    "Другие же параметры не значительно влияют на отточность клиентов."
   ]
  },
  {
   "cell_type": "markdown",
   "metadata": {},
   "source": [
    "### Анализ клиентов по параметрам"
   ]
  },
  {
   "cell_type": "markdown",
   "metadata": {},
   "source": [
    "Среди наших параметров есть двойные значения и количественные. Разобьем их на 2 группы и посмотрим по отдельности."
   ]
  },
  {
   "cell_type": "code",
   "execution_count": 29,
   "metadata": {
    "scrolled": false
   },
   "outputs": [
    {
     "data": {
      "image/png": "[encoded data removed]",
      "text/plain": [
       "<Figure size 504x504 with 1 Axes>"
      ]
     },
     "metadata": {},
     "output_type": "display_data"
    },
    {
     "data": {
      "image/png": "[encoded data removed]",
      "text/plain": [
       "<Figure size 504x504 with 1 Axes>"
      ]
     },
     "metadata": {},
     "output_type": "display_data"
    },
    {
     "data": {
      "image/png": "[encoded data removed]",
      "text/plain": [
       "<Figure size 504x504 with 1 Axes>"
      ]
     },
     "metadata": {},
     "output_type": "display_data"
    },
    {
     "data": {
      "image/png": "[encoded data removed]",
      "text/plain": [
       "<Figure size 504x504 with 1 Axes>"
      ]
     },
     "metadata": {},
     "output_type": "display_data"
    },
    {
     "data": {
      "image/png": "[encoded data removed]",
      "text/plain": [
       "<Figure size 504x504 with 1 Axes>"
      ]
     },
     "metadata": {},
     "output_type": "display_data"
    }
   ],
   "source": [
    "# Двойные параметры рассмотрим с помощью графиков countplot\n",
    "\n",
    "for col in df[['gender', 'equity', 'products', 'credit_card', 'last_activity']].columns:\n",
    "    sns.set_style('whitegrid')\n",
    "    plt.figure(figsize=(7, 7))\n",
    "    ax = sns.countplot(x = col, hue = 'churn', data = df)\n",
    "    plt.title('Доли оттока в зависимости от ' + col)\n",
    "    plt.xlabel('Значение')\n",
    "    plt.legend(['Лояльные', 'Отточные'])\n",
    "    plt.show()"
   ]
  },
  {
   "cell_type": "markdown",
   "metadata": {},
   "source": [
    "По данным графикам можно сделать следующие выводы:\n",
    "\n",
    "1. По гендернему составу зразу заметно, что клиентов среди женщин больше, а отточных клиентов больше среди мужчин. здесь сразу можно выделить мужчин как группу риска отточных клиентов.\n",
    "2. Клиенты не владеющие никакой недвижимостью составляют самую крупную группу среди других, отточных клиентов среди неих также меньше всего. Можно выделить тенденцию, что до величины балоов собственности в 5 есть тенденция роста количества отточных клиентов. Уже с оценки 6 количество клиентов значительно снижается и не является показательным. Группа риска отточных клиентов с оценкой __5 и выше__.\n",
    "3. Больше половины клиентов пользуются 1 или 2 продуктами. При этом доля отточных клиентов среди них небольшая. Среди клиентов пользующихся 3-мя продуктами доля отточных клиентов составляет почти половину, а среди клиентов пользующихся 4-мя продуктами и доля отточных клиентов, вовсе, превышает долю лояльных в два раза. Для нас в зоне риска находятся клиенты с __более чем 4-мя продуктами__.\n",
    "4. Среди клиентов, не пользующихся кредитными картами, доля отточных клиентов значительно выше, скорее всего здесь работает удобство этого продукта или нежелание клиентов иметь долги.\n",
    "5. Как и следовало ожидать среди клиентов, совершивших последние действия, больше отточных. Это связано с тем, что вы точно заберете свои деньги из банка или полностью воспользуетесь продуктом банка, перед тем как уйти. Никто просто так не оставляет свои средства."
   ]
  },
  {
   "cell_type": "markdown",
   "metadata": {},
   "source": [
    "Теперь рассмотрим кодичественные параметры"
   ]
  },
  {
   "cell_type": "code",
   "execution_count": 30,
   "metadata": {
    "scrolled": true
   },
   "outputs": [],
   "source": [
    "# Рассчитаем процент ушедших клиентов в разбивке по скоринговому рейтингу от общего числа\n",
    "\n",
    "score_pivot = df.pivot_table (index = 'score', values = 'churn', aggfunc =['sum', 'count'])\n",
    "score_pivot.columns = score_pivot.columns.droplevel(level=1)\n",
    "score_pivot ['per'] = score_pivot['sum']/score_pivot['count']*100\n",
    "score_pivot = score_pivot[score_pivot['sum'] == 1]\n",
    "score_pivot = score_pivot[score_pivot['per'] >= 5]"
   ]
  },
  {
   "cell_type": "code",
   "execution_count": 31,
   "metadata": {},
   "outputs": [
    {
     "data": {
      "image/png": "[encoded data removed]",
      "text/plain": [
       "<Figure size 1224x504 with 1 Axes>"
      ]
     },
     "metadata": {},
     "output_type": "display_data"
    }
   ],
   "source": [
    "# Выведем полученные данные на график\n",
    "\n",
    "sns.set_style('whitegrid')\n",
    "plt.figure(figsize=(17, 7))\n",
    "ax = sns.barplot(x=score_pivot.index, y=score_pivot['per'], data = score_pivot, color='blue')\n",
    "plt.title('Доля отточных клиентов в зависимости от оценки кредитного скоринга')\n",
    "plt.xlabel('Значение оценки кредитного скоринга')\n",
    "plt.ylabel('Процент отточных клиентов')\n",
    "plt.show()"
   ]
  },
  {
   "cell_type": "code",
   "execution_count": 32,
   "metadata": {
    "scrolled": true
   },
   "outputs": [],
   "source": [
    "# Рассчитаем процент ушедших клиентов в разбивке по возрасту от общего числа\n",
    "\n",
    "age_pivot = df.pivot_table (index = 'age', values = 'churn', aggfunc =['sum', 'count'])\n",
    "age_pivot.columns = age_pivot.columns.droplevel(level=1)\n",
    "age_pivot ['per'] = age_pivot['sum']/age_pivot['count']*100\n",
    "age_pivot = age_pivot[age_pivot['sum'] != 0]"
   ]
  },
  {
   "cell_type": "code",
   "execution_count": 33,
   "metadata": {
    "scrolled": false
   },
   "outputs": [
    {
     "data": {
      "image/png": "[encoded data removed]",
      "text/plain": [
       "<Figure size 1224x504 with 1 Axes>"
      ]
     },
     "metadata": {},
     "output_type": "display_data"
    }
   ],
   "source": [
    "# Выведем поученные данные на график\n",
    "\n",
    "sns.set_style('whitegrid')\n",
    "plt.figure(figsize=(17, 7))\n",
    "ax = sns.barplot(x=age_pivot.index, y=age_pivot['per'], data = age_pivot, color='blue')\n",
    "plt.title('Доля отточных клиентов в зависимости от оценки кредитного скоринга')\n",
    "plt.xlabel('Значение оценки кредитного скоринга')\n",
    "plt.ylabel('Процент отточных клиентов')\n",
    "plt.show()"
   ]
  },
  {
   "cell_type": "markdown",
   "metadata": {},
   "source": [
    "Из получившихся графиков можно сделать следующие выводы:\n",
    "\n",
    "По Скоринговому рейтингу Всплески долей отточных клиентов есть на промежутке оценок от 705 до 750 очков кредитного скоринга, далее доля отточных клиентов не превышет отметки в 10%, вплот до оценки в 960, с этого значения доля отточных клиентов значительно увеличивается и все время превышает 10% порог.\n",
    "\n",
    "По возрасту из графика видны значительные всплески в районе 21 года (возможно есть продукты других банков, которые привлекают лдей этого возраста), далее можно выделить группу с большим оттоком клиентов с 24 до 30 лет. После 30 доля отточных киентов показывает тенденцию на снижение (с некоторыми всплесками в 34 и 46 лет) вплоть до следующей возрастной группы с 48 до 62 лет. В этой группе больше всего отточных клиентов."
   ]
  },
  {
   "cell_type": "markdown",
   "metadata": {},
   "source": [
    "### Составление портретов уходящих клиентов."
   ]
  },
  {
   "cell_type": "markdown",
   "metadata": {},
   "source": [
    "На основе исследованных параметров составим несколько портретов клиентов."
   ]
  },
  {
   "cell_type": "markdown",
   "metadata": {},
   "source": [
    "__Портрет №1__\n",
    "\n",
    "1. Мужчина\n",
    "2. От 5 баллов собственности\n",
    "3. С более чем 2-мя продуктами\n",
    "4. Без кредитной карты\n",
    "5. Совершивших последнее действие\n",
    "6. С высоким кредитным рейтингом (выше 800)\n",
    "7. В возрасте от 48 до 62 лет\n",
    "\n",
    "Посмотрим на этих клиентов, и сразу посчитаем их количество."
   ]
  },
  {
   "cell_type": "code",
   "execution_count": 34,
   "metadata": {
    "scrolled": false
   },
   "outputs": [
    {
     "data": {
      "text/html": [
       "<div>\n",
       "<style scoped>\n",
       "    .dataframe tbody tr th:only-of-type {\n",
       "        vertical-align: middle;\n",
       "    }\n",
       "\n",
       "    .dataframe tbody tr th {\n",
       "        vertical-align: top;\n",
       "    }\n",
       "\n",
       "    .dataframe thead th {\n",
       "        text-align: right;\n",
       "    }\n",
       "</style>\n",
       "<table border=\"1\" class=\"dataframe\">\n",
       "  <thead>\n",
       "    <tr style=\"text-align: right;\">\n",
       "      <th></th>\n",
       "      <th>user_id</th>\n",
       "      <th>score</th>\n",
       "      <th>city</th>\n",
       "      <th>gender</th>\n",
       "      <th>age</th>\n",
       "      <th>equity</th>\n",
       "      <th>balance</th>\n",
       "      <th>products</th>\n",
       "      <th>credit_card</th>\n",
       "      <th>last_activity</th>\n",
       "      <th>est_salary</th>\n",
       "      <th>churn</th>\n",
       "      <th>gender_code</th>\n",
       "    </tr>\n",
       "  </thead>\n",
       "  <tbody>\n",
       "    <tr>\n",
       "      <th>399</th>\n",
       "      <td>212030</td>\n",
       "      <td>867.000</td>\n",
       "      <td>Ярославль</td>\n",
       "      <td>М</td>\n",
       "      <td>59</td>\n",
       "      <td>5</td>\n",
       "      <td>851,896.680</td>\n",
       "      <td>3</td>\n",
       "      <td>0</td>\n",
       "      <td>1</td>\n",
       "      <td>50,771.030</td>\n",
       "      <td>1</td>\n",
       "      <td>1</td>\n",
       "    </tr>\n",
       "    <tr>\n",
       "      <th>1292</th>\n",
       "      <td>131565</td>\n",
       "      <td>826.000</td>\n",
       "      <td>Ярославль</td>\n",
       "      <td>М</td>\n",
       "      <td>60</td>\n",
       "      <td>5</td>\n",
       "      <td>737,821.340</td>\n",
       "      <td>3</td>\n",
       "      <td>0</td>\n",
       "      <td>1</td>\n",
       "      <td>98,134.050</td>\n",
       "      <td>1</td>\n",
       "      <td>1</td>\n",
       "    </tr>\n",
       "    <tr>\n",
       "      <th>1420</th>\n",
       "      <td>220656</td>\n",
       "      <td>899.000</td>\n",
       "      <td>Ярославль</td>\n",
       "      <td>М</td>\n",
       "      <td>59</td>\n",
       "      <td>5</td>\n",
       "      <td>1,682,723.250</td>\n",
       "      <td>3</td>\n",
       "      <td>0</td>\n",
       "      <td>1</td>\n",
       "      <td>866,547.650</td>\n",
       "      <td>1</td>\n",
       "      <td>1</td>\n",
       "    </tr>\n",
       "    <tr>\n",
       "      <th>1427</th>\n",
       "      <td>116351</td>\n",
       "      <td>833.000</td>\n",
       "      <td>Ярославль</td>\n",
       "      <td>М</td>\n",
       "      <td>65</td>\n",
       "      <td>5</td>\n",
       "      <td>854,100.470</td>\n",
       "      <td>3</td>\n",
       "      <td>0</td>\n",
       "      <td>1</td>\n",
       "      <td>45,480.640</td>\n",
       "      <td>1</td>\n",
       "      <td>1</td>\n",
       "    </tr>\n",
       "    <tr>\n",
       "      <th>1711</th>\n",
       "      <td>167518</td>\n",
       "      <td>870.000</td>\n",
       "      <td>Ярославль</td>\n",
       "      <td>М</td>\n",
       "      <td>52</td>\n",
       "      <td>5</td>\n",
       "      <td>775,269.740</td>\n",
       "      <td>3</td>\n",
       "      <td>0</td>\n",
       "      <td>1</td>\n",
       "      <td>114,384.630</td>\n",
       "      <td>1</td>\n",
       "      <td>1</td>\n",
       "    </tr>\n",
       "    <tr>\n",
       "      <th>2623</th>\n",
       "      <td>150673</td>\n",
       "      <td>978.000</td>\n",
       "      <td>Рыбинск</td>\n",
       "      <td>М</td>\n",
       "      <td>53</td>\n",
       "      <td>6</td>\n",
       "      <td>2,582,959.960</td>\n",
       "      <td>4</td>\n",
       "      <td>0</td>\n",
       "      <td>1</td>\n",
       "      <td>337,094.410</td>\n",
       "      <td>1</td>\n",
       "      <td>1</td>\n",
       "    </tr>\n",
       "    <tr>\n",
       "      <th>2688</th>\n",
       "      <td>227234</td>\n",
       "      <td>832.000</td>\n",
       "      <td>Ярославль</td>\n",
       "      <td>М</td>\n",
       "      <td>55</td>\n",
       "      <td>5</td>\n",
       "      <td>585,528.590</td>\n",
       "      <td>3</td>\n",
       "      <td>0</td>\n",
       "      <td>1</td>\n",
       "      <td>56,980.750</td>\n",
       "      <td>1</td>\n",
       "      <td>1</td>\n",
       "    </tr>\n",
       "    <tr>\n",
       "      <th>2822</th>\n",
       "      <td>210656</td>\n",
       "      <td>920.000</td>\n",
       "      <td>Ярославль</td>\n",
       "      <td>М</td>\n",
       "      <td>61</td>\n",
       "      <td>5</td>\n",
       "      <td>1,821,523.000</td>\n",
       "      <td>3</td>\n",
       "      <td>0</td>\n",
       "      <td>1</td>\n",
       "      <td>202,960.630</td>\n",
       "      <td>1</td>\n",
       "      <td>1</td>\n",
       "    </tr>\n",
       "    <tr>\n",
       "      <th>3267</th>\n",
       "      <td>228880</td>\n",
       "      <td>890.000</td>\n",
       "      <td>Ярославль</td>\n",
       "      <td>М</td>\n",
       "      <td>54</td>\n",
       "      <td>5</td>\n",
       "      <td>3,582,411.370</td>\n",
       "      <td>3</td>\n",
       "      <td>0</td>\n",
       "      <td>1</td>\n",
       "      <td>96,882.210</td>\n",
       "      <td>1</td>\n",
       "      <td>1</td>\n",
       "    </tr>\n",
       "    <tr>\n",
       "      <th>3861</th>\n",
       "      <td>198175</td>\n",
       "      <td>924.000</td>\n",
       "      <td>Ярославль</td>\n",
       "      <td>М</td>\n",
       "      <td>55</td>\n",
       "      <td>5</td>\n",
       "      <td>1,675,198.330</td>\n",
       "      <td>3</td>\n",
       "      <td>0</td>\n",
       "      <td>1</td>\n",
       "      <td>89,820.720</td>\n",
       "      <td>1</td>\n",
       "      <td>1</td>\n",
       "    </tr>\n",
       "    <tr>\n",
       "      <th>4083</th>\n",
       "      <td>228827</td>\n",
       "      <td>927.000</td>\n",
       "      <td>Ярославль</td>\n",
       "      <td>М</td>\n",
       "      <td>57</td>\n",
       "      <td>7</td>\n",
       "      <td>3,134,542.350</td>\n",
       "      <td>3</td>\n",
       "      <td>0</td>\n",
       "      <td>1</td>\n",
       "      <td>93,364.210</td>\n",
       "      <td>1</td>\n",
       "      <td>1</td>\n",
       "    </tr>\n",
       "    <tr>\n",
       "      <th>6041</th>\n",
       "      <td>228797</td>\n",
       "      <td>895.000</td>\n",
       "      <td>Ярославль</td>\n",
       "      <td>М</td>\n",
       "      <td>48</td>\n",
       "      <td>6</td>\n",
       "      <td>2,917,343.540</td>\n",
       "      <td>3</td>\n",
       "      <td>0</td>\n",
       "      <td>1</td>\n",
       "      <td>156,805.140</td>\n",
       "      <td>1</td>\n",
       "      <td>1</td>\n",
       "    </tr>\n",
       "    <tr>\n",
       "      <th>6162</th>\n",
       "      <td>153089</td>\n",
       "      <td>909.000</td>\n",
       "      <td>Ярославль</td>\n",
       "      <td>М</td>\n",
       "      <td>54</td>\n",
       "      <td>5</td>\n",
       "      <td>884,462.900</td>\n",
       "      <td>3</td>\n",
       "      <td>0</td>\n",
       "      <td>1</td>\n",
       "      <td>874,974.770</td>\n",
       "      <td>1</td>\n",
       "      <td>1</td>\n",
       "    </tr>\n",
       "    <tr>\n",
       "      <th>6254</th>\n",
       "      <td>99111</td>\n",
       "      <td>826.000</td>\n",
       "      <td>Ростов</td>\n",
       "      <td>М</td>\n",
       "      <td>60</td>\n",
       "      <td>5</td>\n",
       "      <td>1,333,343.170</td>\n",
       "      <td>4</td>\n",
       "      <td>0</td>\n",
       "      <td>1</td>\n",
       "      <td>89,817.020</td>\n",
       "      <td>1</td>\n",
       "      <td>1</td>\n",
       "    </tr>\n",
       "    <tr>\n",
       "      <th>6486</th>\n",
       "      <td>225731</td>\n",
       "      <td>860.000</td>\n",
       "      <td>Ярославль</td>\n",
       "      <td>М</td>\n",
       "      <td>52</td>\n",
       "      <td>8</td>\n",
       "      <td>947,578.390</td>\n",
       "      <td>4</td>\n",
       "      <td>0</td>\n",
       "      <td>1</td>\n",
       "      <td>109,984.160</td>\n",
       "      <td>1</td>\n",
       "      <td>1</td>\n",
       "    </tr>\n",
       "    <tr>\n",
       "      <th>7156</th>\n",
       "      <td>191947</td>\n",
       "      <td>918.000</td>\n",
       "      <td>Ярославль</td>\n",
       "      <td>М</td>\n",
       "      <td>72</td>\n",
       "      <td>6</td>\n",
       "      <td>785,407.330</td>\n",
       "      <td>3</td>\n",
       "      <td>0</td>\n",
       "      <td>1</td>\n",
       "      <td>446,076.010</td>\n",
       "      <td>1</td>\n",
       "      <td>1</td>\n",
       "    </tr>\n",
       "    <tr>\n",
       "      <th>7995</th>\n",
       "      <td>212663</td>\n",
       "      <td>936.000</td>\n",
       "      <td>Ярославль</td>\n",
       "      <td>М</td>\n",
       "      <td>69</td>\n",
       "      <td>6</td>\n",
       "      <td>1,125,488.310</td>\n",
       "      <td>3</td>\n",
       "      <td>0</td>\n",
       "      <td>1</td>\n",
       "      <td>205,813.390</td>\n",
       "      <td>1</td>\n",
       "      <td>1</td>\n",
       "    </tr>\n",
       "    <tr>\n",
       "      <th>8244</th>\n",
       "      <td>108656</td>\n",
       "      <td>891.000</td>\n",
       "      <td>Ярославль</td>\n",
       "      <td>М</td>\n",
       "      <td>54</td>\n",
       "      <td>5</td>\n",
       "      <td>443,851.940</td>\n",
       "      <td>3</td>\n",
       "      <td>0</td>\n",
       "      <td>1</td>\n",
       "      <td>123,437.910</td>\n",
       "      <td>1</td>\n",
       "      <td>1</td>\n",
       "    </tr>\n",
       "    <tr>\n",
       "      <th>8335</th>\n",
       "      <td>229017</td>\n",
       "      <td>817.000</td>\n",
       "      <td>Ярославль</td>\n",
       "      <td>М</td>\n",
       "      <td>49</td>\n",
       "      <td>5</td>\n",
       "      <td>2,616,800.010</td>\n",
       "      <td>4</td>\n",
       "      <td>0</td>\n",
       "      <td>1</td>\n",
       "      <td>187,543.470</td>\n",
       "      <td>1</td>\n",
       "      <td>1</td>\n",
       "    </tr>\n",
       "    <tr>\n",
       "      <th>8727</th>\n",
       "      <td>186233</td>\n",
       "      <td>916.000</td>\n",
       "      <td>Ярославль</td>\n",
       "      <td>М</td>\n",
       "      <td>53</td>\n",
       "      <td>5</td>\n",
       "      <td>1,822,496.400</td>\n",
       "      <td>3</td>\n",
       "      <td>0</td>\n",
       "      <td>1</td>\n",
       "      <td>118,350.850</td>\n",
       "      <td>1</td>\n",
       "      <td>1</td>\n",
       "    </tr>\n",
       "    <tr>\n",
       "      <th>9772</th>\n",
       "      <td>162598</td>\n",
       "      <td>925.000</td>\n",
       "      <td>Ростов</td>\n",
       "      <td>М</td>\n",
       "      <td>58</td>\n",
       "      <td>5</td>\n",
       "      <td>2,664,421.660</td>\n",
       "      <td>4</td>\n",
       "      <td>0</td>\n",
       "      <td>1</td>\n",
       "      <td>195,985.930</td>\n",
       "      <td>1</td>\n",
       "      <td>1</td>\n",
       "    </tr>\n",
       "  </tbody>\n",
       "</table>\n",
       "</div>"
      ],
      "text/plain": [
       "      user_id   score       city gender  age  equity       balance  products  \\\n",
       "399    212030 867.000  Ярославль      М   59       5   851,896.680         3   \n",
       "1292   131565 826.000  Ярославль      М   60       5   737,821.340         3   \n",
       "1420   220656 899.000  Ярославль      М   59       5 1,682,723.250         3   \n",
       "1427   116351 833.000  Ярославль      М   65       5   854,100.470         3   \n",
       "1711   167518 870.000  Ярославль      М   52       5   775,269.740         3   \n",
       "2623   150673 978.000    Рыбинск      М   53       6 2,582,959.960         4   \n",
       "2688   227234 832.000  Ярославль      М   55       5   585,528.590         3   \n",
       "2822   210656 920.000  Ярославль      М   61       5 1,821,523.000         3   \n",
       "3267   228880 890.000  Ярославль      М   54       5 3,582,411.370         3   \n",
       "3861   198175 924.000  Ярославль      М   55       5 1,675,198.330         3   \n",
       "4083   228827 927.000  Ярославль      М   57       7 3,134,542.350         3   \n",
       "6041   228797 895.000  Ярославль      М   48       6 2,917,343.540         3   \n",
       "6162   153089 909.000  Ярославль      М   54       5   884,462.900         3   \n",
       "6254    99111 826.000     Ростов      М   60       5 1,333,343.170         4   \n",
       "6486   225731 860.000  Ярославль      М   52       8   947,578.390         4   \n",
       "7156   191947 918.000  Ярославль      М   72       6   785,407.330         3   \n",
       "7995   212663 936.000  Ярославль      М   69       6 1,125,488.310         3   \n",
       "8244   108656 891.000  Ярославль      М   54       5   443,851.940         3   \n",
       "8335   229017 817.000  Ярославль      М   49       5 2,616,800.010         4   \n",
       "8727   186233 916.000  Ярославль      М   53       5 1,822,496.400         3   \n",
       "9772   162598 925.000     Ростов      М   58       5 2,664,421.660         4   \n",
       "\n",
       "      credit_card  last_activity  est_salary  churn  gender_code  \n",
       "399             0              1  50,771.030      1            1  \n",
       "1292            0              1  98,134.050      1            1  \n",
       "1420            0              1 866,547.650      1            1  \n",
       "1427            0              1  45,480.640      1            1  \n",
       "1711            0              1 114,384.630      1            1  \n",
       "2623            0              1 337,094.410      1            1  \n",
       "2688            0              1  56,980.750      1            1  \n",
       "2822            0              1 202,960.630      1            1  \n",
       "3267            0              1  96,882.210      1            1  \n",
       "3861            0              1  89,820.720      1            1  \n",
       "4083            0              1  93,364.210      1            1  \n",
       "6041            0              1 156,805.140      1            1  \n",
       "6162            0              1 874,974.770      1            1  \n",
       "6254            0              1  89,817.020      1            1  \n",
       "6486            0              1 109,984.160      1            1  \n",
       "7156            0              1 446,076.010      1            1  \n",
       "7995            0              1 205,813.390      1            1  \n",
       "8244            0              1 123,437.910      1            1  \n",
       "8335            0              1 187,543.470      1            1  \n",
       "8727            0              1 118,350.850      1            1  \n",
       "9772            0              1 195,985.930      1            1  "
      ]
     },
     "metadata": {},
     "output_type": "display_data"
    },
    {
     "name": "stdout",
     "output_type": "stream",
     "text": [
      "**************************************************\n",
      "В группу входит 21 клиентов\n"
     ]
    }
   ],
   "source": [
    "# Составим эту группу с помощью запроса\n",
    "\n",
    "first_group = df.query(\n",
    "    'gender_code==1 & equity>4 & products>2 & credit_card==0 & \\\n",
    "    last_activity==1 & score>800 & age>47 & churn==1')\n",
    "display(first_group)\n",
    "print('*'*50)\n",
    "print(f'В группу входит {len(first_group)} клиентов')"
   ]
  },
  {
   "cell_type": "markdown",
   "metadata": {},
   "source": [
    "Клиенты с параметрами как в первом портрете для нас являются самыми \"рискованными\" так как среди них самая высокая доля отточных клиентов."
   ]
  },
  {
   "cell_type": "markdown",
   "metadata": {},
   "source": [
    "__Портрет №2__\n",
    "\n",
    "1. Женщины\n",
    "2. От 5 баллов собственности\n",
    "3. С более чем 2-мя продуктами\n",
    "4. Без кредитной карты\n",
    "5. Совершивших последнее действие\n",
    "6. С высоким кредитным рейтингом (выше 800)\n",
    "7. В возрасте от 48 до 62 лет\n",
    "\n",
    "Посмотрим на этих клиентов, и сразу посчитаем их количество."
   ]
  },
  {
   "cell_type": "code",
   "execution_count": 35,
   "metadata": {
    "scrolled": false
   },
   "outputs": [
    {
     "data": {
      "text/html": [
       "<div>\n",
       "<style scoped>\n",
       "    .dataframe tbody tr th:only-of-type {\n",
       "        vertical-align: middle;\n",
       "    }\n",
       "\n",
       "    .dataframe tbody tr th {\n",
       "        vertical-align: top;\n",
       "    }\n",
       "\n",
       "    .dataframe thead th {\n",
       "        text-align: right;\n",
       "    }\n",
       "</style>\n",
       "<table border=\"1\" class=\"dataframe\">\n",
       "  <thead>\n",
       "    <tr style=\"text-align: right;\">\n",
       "      <th></th>\n",
       "      <th>user_id</th>\n",
       "      <th>score</th>\n",
       "      <th>city</th>\n",
       "      <th>gender</th>\n",
       "      <th>age</th>\n",
       "      <th>equity</th>\n",
       "      <th>balance</th>\n",
       "      <th>products</th>\n",
       "      <th>credit_card</th>\n",
       "      <th>last_activity</th>\n",
       "      <th>est_salary</th>\n",
       "      <th>churn</th>\n",
       "      <th>gender_code</th>\n",
       "    </tr>\n",
       "  </thead>\n",
       "  <tbody>\n",
       "    <tr>\n",
       "      <th>148</th>\n",
       "      <td>122769</td>\n",
       "      <td>868.000</td>\n",
       "      <td>Ростов</td>\n",
       "      <td>Ж</td>\n",
       "      <td>58</td>\n",
       "      <td>5</td>\n",
       "      <td>1,334,745.590</td>\n",
       "      <td>4</td>\n",
       "      <td>0</td>\n",
       "      <td>1</td>\n",
       "      <td>63,049.600</td>\n",
       "      <td>1</td>\n",
       "      <td>0</td>\n",
       "    </tr>\n",
       "    <tr>\n",
       "      <th>859</th>\n",
       "      <td>177840</td>\n",
       "      <td>802.000</td>\n",
       "      <td>Рыбинск</td>\n",
       "      <td>Ж</td>\n",
       "      <td>51</td>\n",
       "      <td>5</td>\n",
       "      <td>1,146,872.860</td>\n",
       "      <td>3</td>\n",
       "      <td>0</td>\n",
       "      <td>1</td>\n",
       "      <td>77,888.510</td>\n",
       "      <td>1</td>\n",
       "      <td>0</td>\n",
       "    </tr>\n",
       "    <tr>\n",
       "      <th>1205</th>\n",
       "      <td>213664</td>\n",
       "      <td>807.000</td>\n",
       "      <td>Ярославль</td>\n",
       "      <td>Ж</td>\n",
       "      <td>54</td>\n",
       "      <td>5</td>\n",
       "      <td>478,592.430</td>\n",
       "      <td>3</td>\n",
       "      <td>0</td>\n",
       "      <td>1</td>\n",
       "      <td>64,332.460</td>\n",
       "      <td>1</td>\n",
       "      <td>0</td>\n",
       "    </tr>\n",
       "    <tr>\n",
       "      <th>3718</th>\n",
       "      <td>219312</td>\n",
       "      <td>889.000</td>\n",
       "      <td>Ярославль</td>\n",
       "      <td>Ж</td>\n",
       "      <td>60</td>\n",
       "      <td>5</td>\n",
       "      <td>725,760.890</td>\n",
       "      <td>4</td>\n",
       "      <td>0</td>\n",
       "      <td>1</td>\n",
       "      <td>65,348.470</td>\n",
       "      <td>1</td>\n",
       "      <td>0</td>\n",
       "    </tr>\n",
       "    <tr>\n",
       "      <th>4134</th>\n",
       "      <td>208057</td>\n",
       "      <td>856.000</td>\n",
       "      <td>Ярославль</td>\n",
       "      <td>Ж</td>\n",
       "      <td>52</td>\n",
       "      <td>5</td>\n",
       "      <td>1,700,165.080</td>\n",
       "      <td>4</td>\n",
       "      <td>0</td>\n",
       "      <td>1</td>\n",
       "      <td>153,066.020</td>\n",
       "      <td>1</td>\n",
       "      <td>0</td>\n",
       "    </tr>\n",
       "    <tr>\n",
       "      <th>4514</th>\n",
       "      <td>226400</td>\n",
       "      <td>936.000</td>\n",
       "      <td>Ярославль</td>\n",
       "      <td>Ж</td>\n",
       "      <td>61</td>\n",
       "      <td>5</td>\n",
       "      <td>3,301,164.330</td>\n",
       "      <td>4</td>\n",
       "      <td>0</td>\n",
       "      <td>1</td>\n",
       "      <td>221,264.130</td>\n",
       "      <td>1</td>\n",
       "      <td>0</td>\n",
       "    </tr>\n",
       "    <tr>\n",
       "      <th>5016</th>\n",
       "      <td>210005</td>\n",
       "      <td>885.000</td>\n",
       "      <td>Ярославль</td>\n",
       "      <td>Ж</td>\n",
       "      <td>55</td>\n",
       "      <td>5</td>\n",
       "      <td>1,316,966.940</td>\n",
       "      <td>3</td>\n",
       "      <td>0</td>\n",
       "      <td>1</td>\n",
       "      <td>97,938.300</td>\n",
       "      <td>1</td>\n",
       "      <td>0</td>\n",
       "    </tr>\n",
       "    <tr>\n",
       "      <th>6105</th>\n",
       "      <td>213759</td>\n",
       "      <td>868.000</td>\n",
       "      <td>Ярославль</td>\n",
       "      <td>Ж</td>\n",
       "      <td>59</td>\n",
       "      <td>5</td>\n",
       "      <td>1,548,910.650</td>\n",
       "      <td>3</td>\n",
       "      <td>0</td>\n",
       "      <td>1</td>\n",
       "      <td>122,215.940</td>\n",
       "      <td>1</td>\n",
       "      <td>0</td>\n",
       "    </tr>\n",
       "    <tr>\n",
       "      <th>7328</th>\n",
       "      <td>203628</td>\n",
       "      <td>862.000</td>\n",
       "      <td>Ярославль</td>\n",
       "      <td>Ж</td>\n",
       "      <td>56</td>\n",
       "      <td>5</td>\n",
       "      <td>942,423.500</td>\n",
       "      <td>3</td>\n",
       "      <td>0</td>\n",
       "      <td>1</td>\n",
       "      <td>63,417.520</td>\n",
       "      <td>1</td>\n",
       "      <td>0</td>\n",
       "    </tr>\n",
       "    <tr>\n",
       "      <th>7920</th>\n",
       "      <td>119412</td>\n",
       "      <td>897.000</td>\n",
       "      <td>Ярославль</td>\n",
       "      <td>Ж</td>\n",
       "      <td>55</td>\n",
       "      <td>5</td>\n",
       "      <td>1,847,675.010</td>\n",
       "      <td>3</td>\n",
       "      <td>0</td>\n",
       "      <td>1</td>\n",
       "      <td>132,865.530</td>\n",
       "      <td>1</td>\n",
       "      <td>0</td>\n",
       "    </tr>\n",
       "    <tr>\n",
       "      <th>8057</th>\n",
       "      <td>212509</td>\n",
       "      <td>933.000</td>\n",
       "      <td>Ярославль</td>\n",
       "      <td>Ж</td>\n",
       "      <td>51</td>\n",
       "      <td>5</td>\n",
       "      <td>1,449,619.590</td>\n",
       "      <td>3</td>\n",
       "      <td>0</td>\n",
       "      <td>1</td>\n",
       "      <td>306,330.620</td>\n",
       "      <td>1</td>\n",
       "      <td>0</td>\n",
       "    </tr>\n",
       "    <tr>\n",
       "      <th>8527</th>\n",
       "      <td>175901</td>\n",
       "      <td>913.000</td>\n",
       "      <td>Ярославль</td>\n",
       "      <td>Ж</td>\n",
       "      <td>55</td>\n",
       "      <td>5</td>\n",
       "      <td>2,120,761.570</td>\n",
       "      <td>3</td>\n",
       "      <td>0</td>\n",
       "      <td>1</td>\n",
       "      <td>223,970.160</td>\n",
       "      <td>1</td>\n",
       "      <td>0</td>\n",
       "    </tr>\n",
       "    <tr>\n",
       "      <th>8591</th>\n",
       "      <td>197216</td>\n",
       "      <td>923.000</td>\n",
       "      <td>Ярославль</td>\n",
       "      <td>Ж</td>\n",
       "      <td>59</td>\n",
       "      <td>5</td>\n",
       "      <td>1,411,835.480</td>\n",
       "      <td>3</td>\n",
       "      <td>0</td>\n",
       "      <td>1</td>\n",
       "      <td>128,120.370</td>\n",
       "      <td>1</td>\n",
       "      <td>0</td>\n",
       "    </tr>\n",
       "    <tr>\n",
       "      <th>8777</th>\n",
       "      <td>183587</td>\n",
       "      <td>899.000</td>\n",
       "      <td>Рыбинск</td>\n",
       "      <td>Ж</td>\n",
       "      <td>50</td>\n",
       "      <td>5</td>\n",
       "      <td>1,347,272.290</td>\n",
       "      <td>4</td>\n",
       "      <td>0</td>\n",
       "      <td>1</td>\n",
       "      <td>149,392.350</td>\n",
       "      <td>1</td>\n",
       "      <td>0</td>\n",
       "    </tr>\n",
       "    <tr>\n",
       "      <th>9066</th>\n",
       "      <td>188341</td>\n",
       "      <td>901.000</td>\n",
       "      <td>Ярославль</td>\n",
       "      <td>Ж</td>\n",
       "      <td>56</td>\n",
       "      <td>5</td>\n",
       "      <td>2,137,524.350</td>\n",
       "      <td>3</td>\n",
       "      <td>0</td>\n",
       "      <td>1</td>\n",
       "      <td>148,153.920</td>\n",
       "      <td>1</td>\n",
       "      <td>0</td>\n",
       "    </tr>\n",
       "  </tbody>\n",
       "</table>\n",
       "</div>"
      ],
      "text/plain": [
       "      user_id   score       city gender  age  equity       balance  products  \\\n",
       "148    122769 868.000     Ростов      Ж   58       5 1,334,745.590         4   \n",
       "859    177840 802.000    Рыбинск      Ж   51       5 1,146,872.860         3   \n",
       "1205   213664 807.000  Ярославль      Ж   54       5   478,592.430         3   \n",
       "3718   219312 889.000  Ярославль      Ж   60       5   725,760.890         4   \n",
       "4134   208057 856.000  Ярославль      Ж   52       5 1,700,165.080         4   \n",
       "4514   226400 936.000  Ярославль      Ж   61       5 3,301,164.330         4   \n",
       "5016   210005 885.000  Ярославль      Ж   55       5 1,316,966.940         3   \n",
       "6105   213759 868.000  Ярославль      Ж   59       5 1,548,910.650         3   \n",
       "7328   203628 862.000  Ярославль      Ж   56       5   942,423.500         3   \n",
       "7920   119412 897.000  Ярославль      Ж   55       5 1,847,675.010         3   \n",
       "8057   212509 933.000  Ярославль      Ж   51       5 1,449,619.590         3   \n",
       "8527   175901 913.000  Ярославль      Ж   55       5 2,120,761.570         3   \n",
       "8591   197216 923.000  Ярославль      Ж   59       5 1,411,835.480         3   \n",
       "8777   183587 899.000    Рыбинск      Ж   50       5 1,347,272.290         4   \n",
       "9066   188341 901.000  Ярославль      Ж   56       5 2,137,524.350         3   \n",
       "\n",
       "      credit_card  last_activity  est_salary  churn  gender_code  \n",
       "148             0              1  63,049.600      1            0  \n",
       "859             0              1  77,888.510      1            0  \n",
       "1205            0              1  64,332.460      1            0  \n",
       "3718            0              1  65,348.470      1            0  \n",
       "4134            0              1 153,066.020      1            0  \n",
       "4514            0              1 221,264.130      1            0  \n",
       "5016            0              1  97,938.300      1            0  \n",
       "6105            0              1 122,215.940      1            0  \n",
       "7328            0              1  63,417.520      1            0  \n",
       "7920            0              1 132,865.530      1            0  \n",
       "8057            0              1 306,330.620      1            0  \n",
       "8527            0              1 223,970.160      1            0  \n",
       "8591            0              1 128,120.370      1            0  \n",
       "8777            0              1 149,392.350      1            0  \n",
       "9066            0              1 148,153.920      1            0  "
      ]
     },
     "metadata": {},
     "output_type": "display_data"
    },
    {
     "name": "stdout",
     "output_type": "stream",
     "text": [
      "**************************************************\n",
      "В группу входит 15 клиентов\n"
     ]
    }
   ],
   "source": [
    "# Составим эту группу с помощью запроса\n",
    "\n",
    "second_group = df.query(\n",
    "    'gender_code==0 & equity>4 & products>2 & credit_card==0 & \\\n",
    "    last_activity==1 & score>800 & age>47 & churn==1')\n",
    "display(second_group)\n",
    "print('*'*50)\n",
    "print(f'В группу входит {len(second_group)} клиентов')"
   ]
  },
  {
   "cell_type": "markdown",
   "metadata": {},
   "source": [
    "Ко второму портрету также относятся клиенты с высокой отточностью, однако главное отличие - это женщины, они более лояльны, но здесь также большая доля отточных клиентов."
   ]
  },
  {
   "cell_type": "markdown",
   "metadata": {},
   "source": [
    "__Портрет №3__\n",
    "\n",
    "1. Мужчины\n",
    "2. От 5 баллов собственности\n",
    "3. С более чем 2-мя продуктами\n",
    "4. Без кредитной карты\n",
    "5. Совершивших последнее действие\n",
    "6. С высоким кредитным рейтингом (выше 800)\n",
    "7. В возрасте от 24 до 45 лет\n",
    "\n",
    "Посмотрим на этих клиентов, и сразу посчитаем их количество."
   ]
  },
  {
   "cell_type": "code",
   "execution_count": 36,
   "metadata": {},
   "outputs": [
    {
     "data": {
      "text/html": [
       "<div>\n",
       "<style scoped>\n",
       "    .dataframe tbody tr th:only-of-type {\n",
       "        vertical-align: middle;\n",
       "    }\n",
       "\n",
       "    .dataframe tbody tr th {\n",
       "        vertical-align: top;\n",
       "    }\n",
       "\n",
       "    .dataframe thead th {\n",
       "        text-align: right;\n",
       "    }\n",
       "</style>\n",
       "<table border=\"1\" class=\"dataframe\">\n",
       "  <thead>\n",
       "    <tr style=\"text-align: right;\">\n",
       "      <th></th>\n",
       "      <th>user_id</th>\n",
       "      <th>score</th>\n",
       "      <th>city</th>\n",
       "      <th>gender</th>\n",
       "      <th>age</th>\n",
       "      <th>equity</th>\n",
       "      <th>balance</th>\n",
       "      <th>products</th>\n",
       "      <th>credit_card</th>\n",
       "      <th>last_activity</th>\n",
       "      <th>est_salary</th>\n",
       "      <th>churn</th>\n",
       "      <th>gender_code</th>\n",
       "    </tr>\n",
       "  </thead>\n",
       "  <tbody>\n",
       "    <tr>\n",
       "      <th>72</th>\n",
       "      <td>156677</td>\n",
       "      <td>873.000</td>\n",
       "      <td>Ярославль</td>\n",
       "      <td>М</td>\n",
       "      <td>39</td>\n",
       "      <td>5</td>\n",
       "      <td>915,959.850</td>\n",
       "      <td>3</td>\n",
       "      <td>0</td>\n",
       "      <td>1</td>\n",
       "      <td>154,034.620</td>\n",
       "      <td>1</td>\n",
       "      <td>1</td>\n",
       "    </tr>\n",
       "    <tr>\n",
       "      <th>81</th>\n",
       "      <td>223978</td>\n",
       "      <td>850.000</td>\n",
       "      <td>Рыбинск</td>\n",
       "      <td>М</td>\n",
       "      <td>34</td>\n",
       "      <td>5</td>\n",
       "      <td>351,583.160</td>\n",
       "      <td>4</td>\n",
       "      <td>0</td>\n",
       "      <td>1</td>\n",
       "      <td>115,354.970</td>\n",
       "      <td>1</td>\n",
       "      <td>1</td>\n",
       "    </tr>\n",
       "    <tr>\n",
       "      <th>475</th>\n",
       "      <td>140383</td>\n",
       "      <td>908.000</td>\n",
       "      <td>Ярославль</td>\n",
       "      <td>М</td>\n",
       "      <td>33</td>\n",
       "      <td>5</td>\n",
       "      <td>649,294.720</td>\n",
       "      <td>4</td>\n",
       "      <td>0</td>\n",
       "      <td>1</td>\n",
       "      <td>63,645.460</td>\n",
       "      <td>1</td>\n",
       "      <td>1</td>\n",
       "    </tr>\n",
       "    <tr>\n",
       "      <th>734</th>\n",
       "      <td>170176</td>\n",
       "      <td>893.000</td>\n",
       "      <td>Ярославль</td>\n",
       "      <td>М</td>\n",
       "      <td>27</td>\n",
       "      <td>5</td>\n",
       "      <td>499,315.410</td>\n",
       "      <td>3</td>\n",
       "      <td>0</td>\n",
       "      <td>1</td>\n",
       "      <td>30,578.460</td>\n",
       "      <td>1</td>\n",
       "      <td>1</td>\n",
       "    </tr>\n",
       "    <tr>\n",
       "      <th>936</th>\n",
       "      <td>134107</td>\n",
       "      <td>848.000</td>\n",
       "      <td>Ростов</td>\n",
       "      <td>М</td>\n",
       "      <td>26</td>\n",
       "      <td>5</td>\n",
       "      <td>218,655.270</td>\n",
       "      <td>4</td>\n",
       "      <td>0</td>\n",
       "      <td>1</td>\n",
       "      <td>21,935.660</td>\n",
       "      <td>1</td>\n",
       "      <td>1</td>\n",
       "    </tr>\n",
       "    <tr>\n",
       "      <th>1147</th>\n",
       "      <td>226891</td>\n",
       "      <td>864.000</td>\n",
       "      <td>Ярославль</td>\n",
       "      <td>М</td>\n",
       "      <td>39</td>\n",
       "      <td>5</td>\n",
       "      <td>920,418.770</td>\n",
       "      <td>3</td>\n",
       "      <td>0</td>\n",
       "      <td>1</td>\n",
       "      <td>253,390.640</td>\n",
       "      <td>1</td>\n",
       "      <td>1</td>\n",
       "    </tr>\n",
       "    <tr>\n",
       "      <th>1204</th>\n",
       "      <td>223416</td>\n",
       "      <td>901.000</td>\n",
       "      <td>Ярославль</td>\n",
       "      <td>М</td>\n",
       "      <td>27</td>\n",
       "      <td>5</td>\n",
       "      <td>1,007,657.770</td>\n",
       "      <td>3</td>\n",
       "      <td>0</td>\n",
       "      <td>1</td>\n",
       "      <td>94,853.570</td>\n",
       "      <td>1</td>\n",
       "      <td>1</td>\n",
       "    </tr>\n",
       "    <tr>\n",
       "      <th>1365</th>\n",
       "      <td>216512</td>\n",
       "      <td>918.000</td>\n",
       "      <td>Ярославль</td>\n",
       "      <td>М</td>\n",
       "      <td>34</td>\n",
       "      <td>5</td>\n",
       "      <td>1,297,184.340</td>\n",
       "      <td>3</td>\n",
       "      <td>0</td>\n",
       "      <td>1</td>\n",
       "      <td>202,251.950</td>\n",
       "      <td>1</td>\n",
       "      <td>1</td>\n",
       "    </tr>\n",
       "    <tr>\n",
       "      <th>1820</th>\n",
       "      <td>151739</td>\n",
       "      <td>868.000</td>\n",
       "      <td>Рыбинск</td>\n",
       "      <td>М</td>\n",
       "      <td>33</td>\n",
       "      <td>6</td>\n",
       "      <td>669,230.150</td>\n",
       "      <td>4</td>\n",
       "      <td>0</td>\n",
       "      <td>1</td>\n",
       "      <td>55,280.520</td>\n",
       "      <td>1</td>\n",
       "      <td>1</td>\n",
       "    </tr>\n",
       "    <tr>\n",
       "      <th>2078</th>\n",
       "      <td>186896</td>\n",
       "      <td>860.000</td>\n",
       "      <td>Ярославль</td>\n",
       "      <td>М</td>\n",
       "      <td>42</td>\n",
       "      <td>5</td>\n",
       "      <td>1,546,551.110</td>\n",
       "      <td>3</td>\n",
       "      <td>0</td>\n",
       "      <td>1</td>\n",
       "      <td>204,085.400</td>\n",
       "      <td>1</td>\n",
       "      <td>1</td>\n",
       "    </tr>\n",
       "    <tr>\n",
       "      <th>3067</th>\n",
       "      <td>149601</td>\n",
       "      <td>866.000</td>\n",
       "      <td>Рыбинск</td>\n",
       "      <td>М</td>\n",
       "      <td>30</td>\n",
       "      <td>5</td>\n",
       "      <td>588,736.740</td>\n",
       "      <td>4</td>\n",
       "      <td>0</td>\n",
       "      <td>1</td>\n",
       "      <td>35,877.500</td>\n",
       "      <td>1</td>\n",
       "      <td>1</td>\n",
       "    </tr>\n",
       "    <tr>\n",
       "      <th>3076</th>\n",
       "      <td>138547</td>\n",
       "      <td>887.000</td>\n",
       "      <td>Ярославль</td>\n",
       "      <td>М</td>\n",
       "      <td>35</td>\n",
       "      <td>6</td>\n",
       "      <td>475,768.040</td>\n",
       "      <td>3</td>\n",
       "      <td>0</td>\n",
       "      <td>1</td>\n",
       "      <td>194,435.250</td>\n",
       "      <td>1</td>\n",
       "      <td>1</td>\n",
       "    </tr>\n",
       "    <tr>\n",
       "      <th>3988</th>\n",
       "      <td>129785</td>\n",
       "      <td>904.000</td>\n",
       "      <td>Рыбинск</td>\n",
       "      <td>М</td>\n",
       "      <td>33</td>\n",
       "      <td>5</td>\n",
       "      <td>2,427,737.600</td>\n",
       "      <td>3</td>\n",
       "      <td>0</td>\n",
       "      <td>1</td>\n",
       "      <td>188,856.750</td>\n",
       "      <td>1</td>\n",
       "      <td>1</td>\n",
       "    </tr>\n",
       "    <tr>\n",
       "      <th>4052</th>\n",
       "      <td>177784</td>\n",
       "      <td>923.000</td>\n",
       "      <td>Ростов</td>\n",
       "      <td>М</td>\n",
       "      <td>35</td>\n",
       "      <td>5</td>\n",
       "      <td>1,497,880.900</td>\n",
       "      <td>4</td>\n",
       "      <td>0</td>\n",
       "      <td>1</td>\n",
       "      <td>207,281.930</td>\n",
       "      <td>1</td>\n",
       "      <td>1</td>\n",
       "    </tr>\n",
       "    <tr>\n",
       "      <th>4638</th>\n",
       "      <td>113916</td>\n",
       "      <td>901.000</td>\n",
       "      <td>Ярославль</td>\n",
       "      <td>М</td>\n",
       "      <td>44</td>\n",
       "      <td>8</td>\n",
       "      <td>2,590,265.130</td>\n",
       "      <td>3</td>\n",
       "      <td>0</td>\n",
       "      <td>1</td>\n",
       "      <td>190,792.330</td>\n",
       "      <td>1</td>\n",
       "      <td>1</td>\n",
       "    </tr>\n",
       "    <tr>\n",
       "      <th>4827</th>\n",
       "      <td>192136</td>\n",
       "      <td>913.000</td>\n",
       "      <td>Ярославль</td>\n",
       "      <td>М</td>\n",
       "      <td>41</td>\n",
       "      <td>5</td>\n",
       "      <td>1,693,633.120</td>\n",
       "      <td>3</td>\n",
       "      <td>0</td>\n",
       "      <td>1</td>\n",
       "      <td>180,428.620</td>\n",
       "      <td>1</td>\n",
       "      <td>1</td>\n",
       "    </tr>\n",
       "    <tr>\n",
       "      <th>5394</th>\n",
       "      <td>156102</td>\n",
       "      <td>826.000</td>\n",
       "      <td>Ярославль</td>\n",
       "      <td>М</td>\n",
       "      <td>28</td>\n",
       "      <td>7</td>\n",
       "      <td>214,989.960</td>\n",
       "      <td>4</td>\n",
       "      <td>0</td>\n",
       "      <td>1</td>\n",
       "      <td>43,806.140</td>\n",
       "      <td>1</td>\n",
       "      <td>1</td>\n",
       "    </tr>\n",
       "    <tr>\n",
       "      <th>5396</th>\n",
       "      <td>165534</td>\n",
       "      <td>846.000</td>\n",
       "      <td>Рыбинск</td>\n",
       "      <td>М</td>\n",
       "      <td>38</td>\n",
       "      <td>6</td>\n",
       "      <td>603,585.350</td>\n",
       "      <td>4</td>\n",
       "      <td>0</td>\n",
       "      <td>1</td>\n",
       "      <td>160,691.610</td>\n",
       "      <td>1</td>\n",
       "      <td>1</td>\n",
       "    </tr>\n",
       "    <tr>\n",
       "      <th>5529</th>\n",
       "      <td>150424</td>\n",
       "      <td>855.000</td>\n",
       "      <td>Ярославль</td>\n",
       "      <td>М</td>\n",
       "      <td>39</td>\n",
       "      <td>5</td>\n",
       "      <td>1,146,433.230</td>\n",
       "      <td>3</td>\n",
       "      <td>0</td>\n",
       "      <td>1</td>\n",
       "      <td>172,506.850</td>\n",
       "      <td>1</td>\n",
       "      <td>1</td>\n",
       "    </tr>\n",
       "    <tr>\n",
       "      <th>5907</th>\n",
       "      <td>116282</td>\n",
       "      <td>814.000</td>\n",
       "      <td>Ярославль</td>\n",
       "      <td>М</td>\n",
       "      <td>44</td>\n",
       "      <td>5</td>\n",
       "      <td>1,618,334.480</td>\n",
       "      <td>3</td>\n",
       "      <td>0</td>\n",
       "      <td>1</td>\n",
       "      <td>91,458.130</td>\n",
       "      <td>1</td>\n",
       "      <td>1</td>\n",
       "    </tr>\n",
       "    <tr>\n",
       "      <th>6437</th>\n",
       "      <td>191917</td>\n",
       "      <td>915.000</td>\n",
       "      <td>Ярославль</td>\n",
       "      <td>М</td>\n",
       "      <td>42</td>\n",
       "      <td>5</td>\n",
       "      <td>3,013,357.610</td>\n",
       "      <td>3</td>\n",
       "      <td>0</td>\n",
       "      <td>1</td>\n",
       "      <td>318,047.410</td>\n",
       "      <td>1</td>\n",
       "      <td>1</td>\n",
       "    </tr>\n",
       "    <tr>\n",
       "      <th>6572</th>\n",
       "      <td>163065</td>\n",
       "      <td>834.000</td>\n",
       "      <td>Ярославль</td>\n",
       "      <td>М</td>\n",
       "      <td>34</td>\n",
       "      <td>5</td>\n",
       "      <td>1,435,912.400</td>\n",
       "      <td>4</td>\n",
       "      <td>0</td>\n",
       "      <td>1</td>\n",
       "      <td>75,384.000</td>\n",
       "      <td>1</td>\n",
       "      <td>1</td>\n",
       "    </tr>\n",
       "    <tr>\n",
       "      <th>7015</th>\n",
       "      <td>202077</td>\n",
       "      <td>868.000</td>\n",
       "      <td>Ярославль</td>\n",
       "      <td>М</td>\n",
       "      <td>37</td>\n",
       "      <td>6</td>\n",
       "      <td>818,763.060</td>\n",
       "      <td>3</td>\n",
       "      <td>0</td>\n",
       "      <td>1</td>\n",
       "      <td>255,741.910</td>\n",
       "      <td>1</td>\n",
       "      <td>1</td>\n",
       "    </tr>\n",
       "    <tr>\n",
       "      <th>7507</th>\n",
       "      <td>147985</td>\n",
       "      <td>900.000</td>\n",
       "      <td>Ярославль</td>\n",
       "      <td>М</td>\n",
       "      <td>26</td>\n",
       "      <td>5</td>\n",
       "      <td>749,698.700</td>\n",
       "      <td>3</td>\n",
       "      <td>0</td>\n",
       "      <td>1</td>\n",
       "      <td>94,861.700</td>\n",
       "      <td>1</td>\n",
       "      <td>1</td>\n",
       "    </tr>\n",
       "    <tr>\n",
       "      <th>8308</th>\n",
       "      <td>210958</td>\n",
       "      <td>913.000</td>\n",
       "      <td>Ярославль</td>\n",
       "      <td>М</td>\n",
       "      <td>28</td>\n",
       "      <td>5</td>\n",
       "      <td>1,191,027.340</td>\n",
       "      <td>3</td>\n",
       "      <td>0</td>\n",
       "      <td>1</td>\n",
       "      <td>121,339.220</td>\n",
       "      <td>1</td>\n",
       "      <td>1</td>\n",
       "    </tr>\n",
       "    <tr>\n",
       "      <th>8584</th>\n",
       "      <td>183510</td>\n",
       "      <td>922.000</td>\n",
       "      <td>Ярославль</td>\n",
       "      <td>М</td>\n",
       "      <td>26</td>\n",
       "      <td>5</td>\n",
       "      <td>448,542.420</td>\n",
       "      <td>3</td>\n",
       "      <td>0</td>\n",
       "      <td>1</td>\n",
       "      <td>66,063.130</td>\n",
       "      <td>1</td>\n",
       "      <td>1</td>\n",
       "    </tr>\n",
       "    <tr>\n",
       "      <th>8689</th>\n",
       "      <td>138607</td>\n",
       "      <td>869.000</td>\n",
       "      <td>Рыбинск</td>\n",
       "      <td>М</td>\n",
       "      <td>40</td>\n",
       "      <td>5</td>\n",
       "      <td>655,740.710</td>\n",
       "      <td>4</td>\n",
       "      <td>0</td>\n",
       "      <td>1</td>\n",
       "      <td>180,844.900</td>\n",
       "      <td>1</td>\n",
       "      <td>1</td>\n",
       "    </tr>\n",
       "    <tr>\n",
       "      <th>8894</th>\n",
       "      <td>226885</td>\n",
       "      <td>900.000</td>\n",
       "      <td>Ярославль</td>\n",
       "      <td>М</td>\n",
       "      <td>35</td>\n",
       "      <td>6</td>\n",
       "      <td>2,243,654.200</td>\n",
       "      <td>4</td>\n",
       "      <td>0</td>\n",
       "      <td>1</td>\n",
       "      <td>234,856.800</td>\n",
       "      <td>1</td>\n",
       "      <td>1</td>\n",
       "    </tr>\n",
       "  </tbody>\n",
       "</table>\n",
       "</div>"
      ],
      "text/plain": [
       "      user_id   score       city gender  age  equity       balance  products  \\\n",
       "72     156677 873.000  Ярославль      М   39       5   915,959.850         3   \n",
       "81     223978 850.000    Рыбинск      М   34       5   351,583.160         4   \n",
       "475    140383 908.000  Ярославль      М   33       5   649,294.720         4   \n",
       "734    170176 893.000  Ярославль      М   27       5   499,315.410         3   \n",
       "936    134107 848.000     Ростов      М   26       5   218,655.270         4   \n",
       "1147   226891 864.000  Ярославль      М   39       5   920,418.770         3   \n",
       "1204   223416 901.000  Ярославль      М   27       5 1,007,657.770         3   \n",
       "1365   216512 918.000  Ярославль      М   34       5 1,297,184.340         3   \n",
       "1820   151739 868.000    Рыбинск      М   33       6   669,230.150         4   \n",
       "2078   186896 860.000  Ярославль      М   42       5 1,546,551.110         3   \n",
       "3067   149601 866.000    Рыбинск      М   30       5   588,736.740         4   \n",
       "3076   138547 887.000  Ярославль      М   35       6   475,768.040         3   \n",
       "3988   129785 904.000    Рыбинск      М   33       5 2,427,737.600         3   \n",
       "4052   177784 923.000     Ростов      М   35       5 1,497,880.900         4   \n",
       "4638   113916 901.000  Ярославль      М   44       8 2,590,265.130         3   \n",
       "4827   192136 913.000  Ярославль      М   41       5 1,693,633.120         3   \n",
       "5394   156102 826.000  Ярославль      М   28       7   214,989.960         4   \n",
       "5396   165534 846.000    Рыбинск      М   38       6   603,585.350         4   \n",
       "5529   150424 855.000  Ярославль      М   39       5 1,146,433.230         3   \n",
       "5907   116282 814.000  Ярославль      М   44       5 1,618,334.480         3   \n",
       "6437   191917 915.000  Ярославль      М   42       5 3,013,357.610         3   \n",
       "6572   163065 834.000  Ярославль      М   34       5 1,435,912.400         4   \n",
       "7015   202077 868.000  Ярославль      М   37       6   818,763.060         3   \n",
       "7507   147985 900.000  Ярославль      М   26       5   749,698.700         3   \n",
       "8308   210958 913.000  Ярославль      М   28       5 1,191,027.340         3   \n",
       "8584   183510 922.000  Ярославль      М   26       5   448,542.420         3   \n",
       "8689   138607 869.000    Рыбинск      М   40       5   655,740.710         4   \n",
       "8894   226885 900.000  Ярославль      М   35       6 2,243,654.200         4   \n",
       "\n",
       "      credit_card  last_activity  est_salary  churn  gender_code  \n",
       "72              0              1 154,034.620      1            1  \n",
       "81              0              1 115,354.970      1            1  \n",
       "475             0              1  63,645.460      1            1  \n",
       "734             0              1  30,578.460      1            1  \n",
       "936             0              1  21,935.660      1            1  \n",
       "1147            0              1 253,390.640      1            1  \n",
       "1204            0              1  94,853.570      1            1  \n",
       "1365            0              1 202,251.950      1            1  \n",
       "1820            0              1  55,280.520      1            1  \n",
       "2078            0              1 204,085.400      1            1  \n",
       "3067            0              1  35,877.500      1            1  \n",
       "3076            0              1 194,435.250      1            1  \n",
       "3988            0              1 188,856.750      1            1  \n",
       "4052            0              1 207,281.930      1            1  \n",
       "4638            0              1 190,792.330      1            1  \n",
       "4827            0              1 180,428.620      1            1  \n",
       "5394            0              1  43,806.140      1            1  \n",
       "5396            0              1 160,691.610      1            1  \n",
       "5529            0              1 172,506.850      1            1  \n",
       "5907            0              1  91,458.130      1            1  \n",
       "6437            0              1 318,047.410      1            1  \n",
       "6572            0              1  75,384.000      1            1  \n",
       "7015            0              1 255,741.910      1            1  \n",
       "7507            0              1  94,861.700      1            1  \n",
       "8308            0              1 121,339.220      1            1  \n",
       "8584            0              1  66,063.130      1            1  \n",
       "8689            0              1 180,844.900      1            1  \n",
       "8894            0              1 234,856.800      1            1  "
      ]
     },
     "metadata": {},
     "output_type": "display_data"
    },
    {
     "name": "stdout",
     "output_type": "stream",
     "text": [
      "**************************************************\n",
      "В группу входит 28 клиентов\n"
     ]
    }
   ],
   "source": [
    "third_group = df.query(\n",
    "    'gender_code==1 & equity>4 & products>2 & credit_card==0 & \\\n",
    "    last_activity==1 & score>800 & age>24 & age<45 & churn==1')\n",
    "display(third_group)\n",
    "print('*'*50)\n",
    "print(f'В группу входит {len(third_group)} клиентов')"
   ]
  },
  {
   "cell_type": "markdown",
   "metadata": {},
   "source": [
    "К третьему портрету относятся клиенты уже с меньшей долей оттока, главное отличие - это совершенно иная возрастная группа мужчин."
   ]
  },
  {
   "cell_type": "markdown",
   "metadata": {},
   "source": [
    "__Портрет №4__\n",
    "\n",
    "1. Женщины\n",
    "2. От 5 баллов собственности\n",
    "3. С более чем 2-мя продуктами\n",
    "4. Без кредитной карты\n",
    "5. Совершивших последнее действие\n",
    "6. С высоким кредитным рейтингом (выше 800)\n",
    "7. В возрасте от 24 до 45 лет\n",
    "\n",
    "Посмотрим на этих клиентов, и сразу посчитаем их количество."
   ]
  },
  {
   "cell_type": "code",
   "execution_count": 37,
   "metadata": {},
   "outputs": [
    {
     "data": {
      "text/html": [
       "<div>\n",
       "<style scoped>\n",
       "    .dataframe tbody tr th:only-of-type {\n",
       "        vertical-align: middle;\n",
       "    }\n",
       "\n",
       "    .dataframe tbody tr th {\n",
       "        vertical-align: top;\n",
       "    }\n",
       "\n",
       "    .dataframe thead th {\n",
       "        text-align: right;\n",
       "    }\n",
       "</style>\n",
       "<table border=\"1\" class=\"dataframe\">\n",
       "  <thead>\n",
       "    <tr style=\"text-align: right;\">\n",
       "      <th></th>\n",
       "      <th>user_id</th>\n",
       "      <th>score</th>\n",
       "      <th>city</th>\n",
       "      <th>gender</th>\n",
       "      <th>age</th>\n",
       "      <th>equity</th>\n",
       "      <th>balance</th>\n",
       "      <th>products</th>\n",
       "      <th>credit_card</th>\n",
       "      <th>last_activity</th>\n",
       "      <th>est_salary</th>\n",
       "      <th>churn</th>\n",
       "      <th>gender_code</th>\n",
       "    </tr>\n",
       "  </thead>\n",
       "  <tbody>\n",
       "    <tr>\n",
       "      <th>847</th>\n",
       "      <td>115095</td>\n",
       "      <td>880.000</td>\n",
       "      <td>Ярославль</td>\n",
       "      <td>Ж</td>\n",
       "      <td>34</td>\n",
       "      <td>5</td>\n",
       "      <td>956,027.030</td>\n",
       "      <td>3</td>\n",
       "      <td>0</td>\n",
       "      <td>1</td>\n",
       "      <td>136,108.130</td>\n",
       "      <td>1</td>\n",
       "      <td>0</td>\n",
       "    </tr>\n",
       "    <tr>\n",
       "      <th>980</th>\n",
       "      <td>153716</td>\n",
       "      <td>857.000</td>\n",
       "      <td>Ярославль</td>\n",
       "      <td>Ж</td>\n",
       "      <td>28</td>\n",
       "      <td>7</td>\n",
       "      <td>317,884.700</td>\n",
       "      <td>3</td>\n",
       "      <td>0</td>\n",
       "      <td>1</td>\n",
       "      <td>91,543.700</td>\n",
       "      <td>1</td>\n",
       "      <td>0</td>\n",
       "    </tr>\n",
       "    <tr>\n",
       "      <th>1166</th>\n",
       "      <td>194256</td>\n",
       "      <td>892.000</td>\n",
       "      <td>Ярославль</td>\n",
       "      <td>Ж</td>\n",
       "      <td>37</td>\n",
       "      <td>5</td>\n",
       "      <td>1,182,532.820</td>\n",
       "      <td>3</td>\n",
       "      <td>0</td>\n",
       "      <td>1</td>\n",
       "      <td>239,069.050</td>\n",
       "      <td>1</td>\n",
       "      <td>0</td>\n",
       "    </tr>\n",
       "    <tr>\n",
       "      <th>1827</th>\n",
       "      <td>150691</td>\n",
       "      <td>938.000</td>\n",
       "      <td>Ярославль</td>\n",
       "      <td>Ж</td>\n",
       "      <td>34</td>\n",
       "      <td>5</td>\n",
       "      <td>2,011,480.780</td>\n",
       "      <td>3</td>\n",
       "      <td>0</td>\n",
       "      <td>1</td>\n",
       "      <td>188,466.370</td>\n",
       "      <td>1</td>\n",
       "      <td>0</td>\n",
       "    </tr>\n",
       "    <tr>\n",
       "      <th>2776</th>\n",
       "      <td>155570</td>\n",
       "      <td>941.000</td>\n",
       "      <td>Ярославль</td>\n",
       "      <td>Ж</td>\n",
       "      <td>34</td>\n",
       "      <td>5</td>\n",
       "      <td>6,916,364.040</td>\n",
       "      <td>3</td>\n",
       "      <td>0</td>\n",
       "      <td>1</td>\n",
       "      <td>532,898.140</td>\n",
       "      <td>1</td>\n",
       "      <td>0</td>\n",
       "    </tr>\n",
       "    <tr>\n",
       "      <th>3138</th>\n",
       "      <td>137494</td>\n",
       "      <td>906.000</td>\n",
       "      <td>Ярославль</td>\n",
       "      <td>Ж</td>\n",
       "      <td>29</td>\n",
       "      <td>5</td>\n",
       "      <td>659,172.870</td>\n",
       "      <td>3</td>\n",
       "      <td>0</td>\n",
       "      <td>1</td>\n",
       "      <td>150,507.560</td>\n",
       "      <td>1</td>\n",
       "      <td>0</td>\n",
       "    </tr>\n",
       "    <tr>\n",
       "      <th>3251</th>\n",
       "      <td>147902</td>\n",
       "      <td>868.000</td>\n",
       "      <td>Ярославль</td>\n",
       "      <td>Ж</td>\n",
       "      <td>33</td>\n",
       "      <td>5</td>\n",
       "      <td>801,203.060</td>\n",
       "      <td>3</td>\n",
       "      <td>0</td>\n",
       "      <td>1</td>\n",
       "      <td>105,125.260</td>\n",
       "      <td>1</td>\n",
       "      <td>0</td>\n",
       "    </tr>\n",
       "    <tr>\n",
       "      <th>4436</th>\n",
       "      <td>131401</td>\n",
       "      <td>870.000</td>\n",
       "      <td>Ярославль</td>\n",
       "      <td>Ж</td>\n",
       "      <td>31</td>\n",
       "      <td>5</td>\n",
       "      <td>599,512.350</td>\n",
       "      <td>3</td>\n",
       "      <td>0</td>\n",
       "      <td>1</td>\n",
       "      <td>100,651.180</td>\n",
       "      <td>1</td>\n",
       "      <td>0</td>\n",
       "    </tr>\n",
       "    <tr>\n",
       "      <th>4898</th>\n",
       "      <td>117404</td>\n",
       "      <td>877.000</td>\n",
       "      <td>Ярославль</td>\n",
       "      <td>Ж</td>\n",
       "      <td>29</td>\n",
       "      <td>7</td>\n",
       "      <td>394,906.700</td>\n",
       "      <td>3</td>\n",
       "      <td>0</td>\n",
       "      <td>1</td>\n",
       "      <td>104,978.020</td>\n",
       "      <td>1</td>\n",
       "      <td>0</td>\n",
       "    </tr>\n",
       "    <tr>\n",
       "      <th>5028</th>\n",
       "      <td>142473</td>\n",
       "      <td>909.000</td>\n",
       "      <td>Ярославль</td>\n",
       "      <td>Ж</td>\n",
       "      <td>37</td>\n",
       "      <td>5</td>\n",
       "      <td>1,207,775.300</td>\n",
       "      <td>3</td>\n",
       "      <td>0</td>\n",
       "      <td>1</td>\n",
       "      <td>199,821.520</td>\n",
       "      <td>1</td>\n",
       "      <td>0</td>\n",
       "    </tr>\n",
       "    <tr>\n",
       "      <th>5290</th>\n",
       "      <td>207128</td>\n",
       "      <td>884.000</td>\n",
       "      <td>Ярославль</td>\n",
       "      <td>Ж</td>\n",
       "      <td>42</td>\n",
       "      <td>5</td>\n",
       "      <td>2,269,291.520</td>\n",
       "      <td>3</td>\n",
       "      <td>0</td>\n",
       "      <td>1</td>\n",
       "      <td>325,475.110</td>\n",
       "      <td>1</td>\n",
       "      <td>0</td>\n",
       "    </tr>\n",
       "    <tr>\n",
       "      <th>6641</th>\n",
       "      <td>149530</td>\n",
       "      <td>846.000</td>\n",
       "      <td>Ярославль</td>\n",
       "      <td>Ж</td>\n",
       "      <td>36</td>\n",
       "      <td>5</td>\n",
       "      <td>1,005,407.550</td>\n",
       "      <td>3</td>\n",
       "      <td>0</td>\n",
       "      <td>1</td>\n",
       "      <td>80,326.710</td>\n",
       "      <td>1</td>\n",
       "      <td>0</td>\n",
       "    </tr>\n",
       "    <tr>\n",
       "      <th>6650</th>\n",
       "      <td>123325</td>\n",
       "      <td>867.000</td>\n",
       "      <td>Ярославль</td>\n",
       "      <td>Ж</td>\n",
       "      <td>38</td>\n",
       "      <td>5</td>\n",
       "      <td>675,832.760</td>\n",
       "      <td>3</td>\n",
       "      <td>0</td>\n",
       "      <td>1</td>\n",
       "      <td>72,598.380</td>\n",
       "      <td>1</td>\n",
       "      <td>0</td>\n",
       "    </tr>\n",
       "    <tr>\n",
       "      <th>6892</th>\n",
       "      <td>152005</td>\n",
       "      <td>927.000</td>\n",
       "      <td>Ярославль</td>\n",
       "      <td>Ж</td>\n",
       "      <td>34</td>\n",
       "      <td>5</td>\n",
       "      <td>3,782,453.730</td>\n",
       "      <td>3</td>\n",
       "      <td>0</td>\n",
       "      <td>1</td>\n",
       "      <td>1,142,435.950</td>\n",
       "      <td>1</td>\n",
       "      <td>0</td>\n",
       "    </tr>\n",
       "    <tr>\n",
       "      <th>7019</th>\n",
       "      <td>121413</td>\n",
       "      <td>929.000</td>\n",
       "      <td>Ярославль</td>\n",
       "      <td>Ж</td>\n",
       "      <td>27</td>\n",
       "      <td>5</td>\n",
       "      <td>1,476,573.300</td>\n",
       "      <td>3</td>\n",
       "      <td>0</td>\n",
       "      <td>1</td>\n",
       "      <td>156,887.050</td>\n",
       "      <td>1</td>\n",
       "      <td>0</td>\n",
       "    </tr>\n",
       "    <tr>\n",
       "      <th>7124</th>\n",
       "      <td>116688</td>\n",
       "      <td>912.000</td>\n",
       "      <td>Ярославль</td>\n",
       "      <td>Ж</td>\n",
       "      <td>32</td>\n",
       "      <td>6</td>\n",
       "      <td>1,374,695.430</td>\n",
       "      <td>4</td>\n",
       "      <td>0</td>\n",
       "      <td>1</td>\n",
       "      <td>207,017.890</td>\n",
       "      <td>1</td>\n",
       "      <td>0</td>\n",
       "    </tr>\n",
       "    <tr>\n",
       "      <th>7337</th>\n",
       "      <td>120951</td>\n",
       "      <td>933.000</td>\n",
       "      <td>Ярославль</td>\n",
       "      <td>Ж</td>\n",
       "      <td>32</td>\n",
       "      <td>5</td>\n",
       "      <td>1,496,658.760</td>\n",
       "      <td>3</td>\n",
       "      <td>0</td>\n",
       "      <td>1</td>\n",
       "      <td>127,743.300</td>\n",
       "      <td>1</td>\n",
       "      <td>0</td>\n",
       "    </tr>\n",
       "    <tr>\n",
       "      <th>7971</th>\n",
       "      <td>218880</td>\n",
       "      <td>926.000</td>\n",
       "      <td>Ярославль</td>\n",
       "      <td>Ж</td>\n",
       "      <td>30</td>\n",
       "      <td>5</td>\n",
       "      <td>5,270,924.770</td>\n",
       "      <td>3</td>\n",
       "      <td>0</td>\n",
       "      <td>1</td>\n",
       "      <td>633,578.890</td>\n",
       "      <td>1</td>\n",
       "      <td>0</td>\n",
       "    </tr>\n",
       "    <tr>\n",
       "      <th>8924</th>\n",
       "      <td>143065</td>\n",
       "      <td>867.000</td>\n",
       "      <td>Ярославль</td>\n",
       "      <td>Ж</td>\n",
       "      <td>36</td>\n",
       "      <td>5</td>\n",
       "      <td>863,582.700</td>\n",
       "      <td>3</td>\n",
       "      <td>0</td>\n",
       "      <td>1</td>\n",
       "      <td>218,313.250</td>\n",
       "      <td>1</td>\n",
       "      <td>0</td>\n",
       "    </tr>\n",
       "    <tr>\n",
       "      <th>9633</th>\n",
       "      <td>127268</td>\n",
       "      <td>937.000</td>\n",
       "      <td>Ярославль</td>\n",
       "      <td>Ж</td>\n",
       "      <td>38</td>\n",
       "      <td>6</td>\n",
       "      <td>2,183,546.580</td>\n",
       "      <td>3</td>\n",
       "      <td>0</td>\n",
       "      <td>1</td>\n",
       "      <td>161,524.830</td>\n",
       "      <td>1</td>\n",
       "      <td>0</td>\n",
       "    </tr>\n",
       "  </tbody>\n",
       "</table>\n",
       "</div>"
      ],
      "text/plain": [
       "      user_id   score       city gender  age  equity       balance  products  \\\n",
       "847    115095 880.000  Ярославль      Ж   34       5   956,027.030         3   \n",
       "980    153716 857.000  Ярославль      Ж   28       7   317,884.700         3   \n",
       "1166   194256 892.000  Ярославль      Ж   37       5 1,182,532.820         3   \n",
       "1827   150691 938.000  Ярославль      Ж   34       5 2,011,480.780         3   \n",
       "2776   155570 941.000  Ярославль      Ж   34       5 6,916,364.040         3   \n",
       "3138   137494 906.000  Ярославль      Ж   29       5   659,172.870         3   \n",
       "3251   147902 868.000  Ярославль      Ж   33       5   801,203.060         3   \n",
       "4436   131401 870.000  Ярославль      Ж   31       5   599,512.350         3   \n",
       "4898   117404 877.000  Ярославль      Ж   29       7   394,906.700         3   \n",
       "5028   142473 909.000  Ярославль      Ж   37       5 1,207,775.300         3   \n",
       "5290   207128 884.000  Ярославль      Ж   42       5 2,269,291.520         3   \n",
       "6641   149530 846.000  Ярославль      Ж   36       5 1,005,407.550         3   \n",
       "6650   123325 867.000  Ярославль      Ж   38       5   675,832.760         3   \n",
       "6892   152005 927.000  Ярославль      Ж   34       5 3,782,453.730         3   \n",
       "7019   121413 929.000  Ярославль      Ж   27       5 1,476,573.300         3   \n",
       "7124   116688 912.000  Ярославль      Ж   32       6 1,374,695.430         4   \n",
       "7337   120951 933.000  Ярославль      Ж   32       5 1,496,658.760         3   \n",
       "7971   218880 926.000  Ярославль      Ж   30       5 5,270,924.770         3   \n",
       "8924   143065 867.000  Ярославль      Ж   36       5   863,582.700         3   \n",
       "9633   127268 937.000  Ярославль      Ж   38       6 2,183,546.580         3   \n",
       "\n",
       "      credit_card  last_activity    est_salary  churn  gender_code  \n",
       "847             0              1   136,108.130      1            0  \n",
       "980             0              1    91,543.700      1            0  \n",
       "1166            0              1   239,069.050      1            0  \n",
       "1827            0              1   188,466.370      1            0  \n",
       "2776            0              1   532,898.140      1            0  \n",
       "3138            0              1   150,507.560      1            0  \n",
       "3251            0              1   105,125.260      1            0  \n",
       "4436            0              1   100,651.180      1            0  \n",
       "4898            0              1   104,978.020      1            0  \n",
       "5028            0              1   199,821.520      1            0  \n",
       "5290            0              1   325,475.110      1            0  \n",
       "6641            0              1    80,326.710      1            0  \n",
       "6650            0              1    72,598.380      1            0  \n",
       "6892            0              1 1,142,435.950      1            0  \n",
       "7019            0              1   156,887.050      1            0  \n",
       "7124            0              1   207,017.890      1            0  \n",
       "7337            0              1   127,743.300      1            0  \n",
       "7971            0              1   633,578.890      1            0  \n",
       "8924            0              1   218,313.250      1            0  \n",
       "9633            0              1   161,524.830      1            0  "
      ]
     },
     "metadata": {},
     "output_type": "display_data"
    },
    {
     "name": "stdout",
     "output_type": "stream",
     "text": [
      "**************************************************\n",
      "В группу входит 20 клиентов\n"
     ]
    }
   ],
   "source": [
    "fourth_group = df.query(\n",
    "    'gender_code==0 & equity>4 & products>2 & credit_card==0 & \\\n",
    "    last_activity==1 & score>800 & age>24 & age<45 & churn==1')\n",
    "display(fourth_group)\n",
    "print('*'*50)\n",
    "print(f'В группу входит {len(fourth_group)} клиентов')"
   ]
  },
  {
   "cell_type": "markdown",
   "metadata": {},
   "source": [
    "Четвертый портрет та же возрастная группа, что и при третьем портрете, но в эту грпуу уже попали женщины."
   ]
  },
  {
   "cell_type": "markdown",
   "metadata": {},
   "source": [
    "### Выводы"
   ]
  },
  {
   "cell_type": "markdown",
   "metadata": {},
   "source": [
    "С помощью метода `corr` мы выявили, что количество продуктов `products`, оценка объектов собственности клиента `equity`, активность пользователя `last_activity`, пол пользователя `gender_code`, скоринговый рейтинг клиента `score`, наличие кредитной карты `credit_card` больше всего влияют на отточность клиентов.\n",
    "\n",
    "Далее мы посмотрели на каждый из этих параметров отдельно и составили портреты отточных клиентов."
   ]
  },
  {
   "cell_type": "markdown",
   "metadata": {},
   "source": [
    "## Статистический анализ данных"
   ]
  },
  {
   "cell_type": "markdown",
   "metadata": {},
   "source": [
    "### Проверка гипотезы о различии дохода ушедших и оставшихся клиентов"
   ]
  },
  {
   "cell_type": "markdown",
   "metadata": {},
   "source": [
    "Сформулируем нулевую и альтернативную гипотезы:\n",
    "\n",
    "* __H₀__: средние доходы оставшихся и отточных клиентов равны\n",
    "* __H₁__: средние доходы оставшихся и отточных клиентов не равны\n",
    "\n",
    "Для проверки гипотезы проведем t-test:"
   ]
  },
  {
   "cell_type": "code",
   "execution_count": 38,
   "metadata": {},
   "outputs": [
    {
     "name": "stdout",
     "output_type": "stream",
     "text": [
      "0.8515799588935961\n",
      "Не получилось отвергнуть нулевую гипотезу\n"
     ]
    }
   ],
   "source": [
    "# Проведем t-test\n",
    "\n",
    "results = st.ttest_ind (\n",
    "    df[df['churn']==0]['est_salary'],\n",
    "    df[df['churn']==1]['est_salary'], equal_var = False)\n",
    "\n",
    "alpha = 0.05\n",
    " \n",
    "print (results.pvalue) \n",
    "\n",
    "if results.pvalue < alpha:\n",
    "    print ('Отвергаем нулевую гипотезу')\n",
    "else:\n",
    "    print ('Не получилось отвергнуть нулевую гипотезу')"
   ]
  },
  {
   "cell_type": "markdown",
   "metadata": {},
   "source": [
    "T-test показал, что не получилось отвергнуть нулевую гипотезу о равенстве средних догходов оставшихся и отточных клиентов."
   ]
  },
  {
   "cell_type": "markdown",
   "metadata": {},
   "source": [
    "### Проверка гипотез о различии оценок соббственности, возраста и количества продуктов оставшихся и отточных клиентов"
   ]
  },
  {
   "cell_type": "markdown",
   "metadata": {},
   "source": [
    "Сформулируем нулевую и альтернативную гипотезы:\n",
    "\n",
    "* __H₀__: Средние оценки собственности оставшихся и отточных клиентов равны\n",
    "* __H₁__: Средние оценки собственности оставшихся и отточных клиентов не равны\n",
    "\n",
    "Для проверки гипотезы проведем t-test:"
   ]
  },
  {
   "cell_type": "code",
   "execution_count": 39,
   "metadata": {},
   "outputs": [
    {
     "name": "stdout",
     "output_type": "stream",
     "text": [
      "2.0104399828205813e-196\n",
      "Отвергаем нулевую гипотезу\n"
     ]
    }
   ],
   "source": [
    "# Проведем t-test\n",
    "\n",
    "results = st.ttest_ind (\n",
    "    df[df['churn']==0]['equity'],\n",
    "    df[df['churn']==1]['equity'], equal_var = False)\n",
    "\n",
    "alpha = 0.05\n",
    " \n",
    "print (results.pvalue) \n",
    "\n",
    "if results.pvalue < alpha:\n",
    "    print ('Отвергаем нулевую гипотезу')\n",
    "else:\n",
    "    print ('Не получилось отвергнуть нулевую гипотезу')"
   ]
  },
  {
   "cell_type": "markdown",
   "metadata": {},
   "source": [
    "T-test показал, что средние оценки оставшихся и отточных клиентов различаются. Что поддтверждает наши изначальные предположения о том, что люди без собственности более лояльны к банку."
   ]
  },
  {
   "cell_type": "markdown",
   "metadata": {},
   "source": [
    "Сформулируем нулевую и альтернативную гипотезы:\n",
    "\n",
    "* __H₀__: Средний возраст оставшихся и отточных клиентов равен\n",
    "* __H₁__: Средний возраст осташихся и отточных клиентов различается\n",
    "\n",
    "Для проверки гипотезы проведем t-test:"
   ]
  },
  {
   "cell_type": "code",
   "execution_count": 40,
   "metadata": {},
   "outputs": [
    {
     "name": "stdout",
     "output_type": "stream",
     "text": [
      "1.1721656853879547e-07\n",
      "Отвергаем нулевую гипотезу\n"
     ]
    }
   ],
   "source": [
    "# Проведем t-test\n",
    "\n",
    "results = st.ttest_ind (\n",
    "    df[df['churn']==0]['age'],\n",
    "    df[df['churn']==1]['age'], equal_var = False)\n",
    "\n",
    "alpha = 0.05\n",
    " \n",
    "print (results.pvalue) \n",
    "\n",
    "if results.pvalue < alpha:\n",
    "    print ('Отвергаем нулевую гипотезу')\n",
    "else:\n",
    "    print ('Не получилось отвергнуть нулевую гипотезу')"
   ]
  },
  {
   "cell_type": "markdown",
   "metadata": {},
   "source": [
    "T-test подтвердил наши исследования, что в определенных возрастах есть более лояльные клиенты."
   ]
  },
  {
   "cell_type": "markdown",
   "metadata": {},
   "source": []
  },
  {
   "cell_type": "markdown",
   "metadata": {},
   "source": [
    "Сформулируем нулевую и альтернативную гипотезы:\n",
    "\n",
    "* __H₀__: Среднее количество продуктов у оставшихся и отточных клиентов равны\n",
    "* __H₁__: Среднее количество продуктов у оставшихся и отточных клиентов различны\n",
    "\n",
    "Для проверки гипотезы проведем t-test:"
   ]
  },
  {
   "cell_type": "code",
   "execution_count": 41,
   "metadata": {},
   "outputs": [
    {
     "name": "stdout",
     "output_type": "stream",
     "text": [
      "7.537464337201273e-138\n",
      "Отвергаем нулевую гипотезу\n"
     ]
    }
   ],
   "source": [
    "# Проведем t-test\n",
    "\n",
    "results = st.ttest_ind (\n",
    "    df[df['churn']==0]['products'],\n",
    "    df[df['churn']==1]['products'], equal_var = False)\n",
    "\n",
    "alpha = 0.05\n",
    " \n",
    "print (results.pvalue) \n",
    "\n",
    "if results.pvalue < alpha:\n",
    "    print ('Отвергаем нулевую гипотезу')\n",
    "else:\n",
    "    print ('Не получилось отвергнуть нулевую гипотезу')"
   ]
  },
  {
   "cell_type": "markdown",
   "metadata": {},
   "source": [
    "T-test показал, что надо отвергнуть нулевую гипотезу о равенстве среднего количества продуктов у отточных и оставшихся клиентов. Что подтверждает наши предположения, что с ростом числа продуктов более 3-х клиенты становятся менее лояльными."
   ]
  },
  {
   "cell_type": "markdown",
   "metadata": {},
   "source": [
    "### Формулирование промежуточных выводов на основе статистического анализа"
   ]
  },
  {
   "cell_type": "markdown",
   "metadata": {},
   "source": [
    "Мы подтвердили основную гипотезу о том, что средние доходы клиентов равны, независимо от того ушли они или остались.\n",
    "\n",
    "\n",
    "Также мы проверили гипотезы о различии оценок соббственности, возраста и количества продуктов оставшихся и отточных клиентов. Все эти гипотезы мы отвергли - средние по данным показателям среди оставшихся клиентов и отточных не равны, а значит мы можем оставить составленные портреты отточных клиентов."
   ]
  },
  {
   "cell_type": "markdown",
   "metadata": {},
   "source": [
    "## Итоговые выводы и рекомендации"
   ]
  },
  {
   "cell_type": "markdown",
   "metadata": {},
   "source": [
    "Мы получили датасет состоящий из 11 колонок и 10 тысяч строк. Пропуски были в столбцах \"Баланс\" и \"Возраст\", которые мы учли при обработке и анализе."
   ]
  },
  {
   "cell_type": "markdown",
   "metadata": {},
   "source": [
    "В ходе обработки данных, мы оставили 99,74% изначального датасета, убрав строки с пропусками в столбце 'age', привели названия столбцов к \"правильному\" стилю, рассмотрели возмоные дубликаты и объяснили их происхождение, рассмотрели возможные выбросы и добавили 1 столбец."
   ]
  },
  {
   "cell_type": "markdown",
   "metadata": {},
   "source": [
    "С помощью метода `corr` мы выявили, что количество продуктов `products`, оценка объектов собственности клиента `equity`, активность пользователя `last_activity`, пол пользователя `gender_code`, скоринговый рейтинг клиента `score`, наличие кредитной карты `credit_card` больше всего влияют на отточность клиентов.\n",
    "\n",
    "Далее мы посмотрели на каждый из этих параметров отдельно и составили портреты отточных клиентов."
   ]
  },
  {
   "cell_type": "markdown",
   "metadata": {},
   "source": [
    "__Портрет №1__\n",
    "\n",
    "1. Мужчина\n",
    "2. От 5 баллов собственности\n",
    "3. С более чем 2-мя продуктами\n",
    "4. Без кредитной карты\n",
    "5. Совершивших последнее действие\n",
    "6. С высоким кредитным рейтингом (выше 800)\n",
    "7. В возрасте от 48 до 62 лет\n",
    "\n",
    "Для этой группы клиентов можно дать рекомендации:\n",
    "\n",
    "1. Предложить завести кредитную карту, это всегда приводит к повышению лояльности.\n",
    "2. Реструктуризация продуктов (приведение их к общему значменателю), что бы клиенту было проще управлять своими продуктами.\n",
    "3. Программы лояльности для мужчин этого возраста (кэшбек на особые категории: автосервис, инструменты и активный отдых)"
   ]
  },
  {
   "cell_type": "markdown",
   "metadata": {},
   "source": [
    "__Портрет №2__\n",
    "\n",
    "1. Женщины\n",
    "2. От 5 баллов собственности\n",
    "3. С более чем 2-мя продуктами\n",
    "4. Без кредитной карты\n",
    "5. Совершивших последнее действие\n",
    "6. С высоким кредитным рейтингом (выше 800)\n",
    "7. В возрасте от 48 до 62 лет\n",
    "\n",
    "Для этой группы клиентов можно дать рекомендации:\n",
    "\n",
    "1. Предложить завести кредитную карту, это всегда приводит к повышению лояльности.\n",
    "2. Реструктуризация продуктов (приведение их к общему значменателю), что бы клиенту было проще управлять своими продуктами.\n",
    "3. Программы лояльности для мужчин этого возраста (кэшбек на особые категории: косметика, цветочные магазины, декор)."
   ]
  },
  {
   "cell_type": "markdown",
   "metadata": {},
   "source": [
    "__Портрет №3__\n",
    "\n",
    "1. Мужчины\n",
    "2. От 5 баллов собственности\n",
    "3. С более чем 2-мя продуктами\n",
    "4. Без кредитной карты\n",
    "5. Совершивших последнее действие\n",
    "6. С высоким кредитным рейтингом (выше 800)\n",
    "7. В возрасте от 24 до 45 лет\n",
    "\n",
    "Для этой группы клиентов можно дать рекомендации:\n",
    "\n",
    "1. Предложить завести кредитную карту, это всегда приводит к повышению лояльности.\n",
    "2. Реструктуризация продуктов (приведение их к общему значменателю), что бы клиенту было проще управлять своими продуктами.\n",
    "3. Программы лояльности для мужчин этого возраста.\n",
    "4. Особые кредитные продукты (покупка кредитов из других банков - реструктуризация или особая страховка для путешествий или льготные условия на покупку недвижимости, авто и тд)"
   ]
  },
  {
   "cell_type": "markdown",
   "metadata": {},
   "source": [
    "__Портрет №4__\n",
    "\n",
    "1. Женщины\n",
    "2. От 5 баллов собственности\n",
    "3. С более чем 2-мя продуктами\n",
    "4. Без кредитной карты\n",
    "5. Совершивших последнее действие\n",
    "6. С высоким кредитным рейтингом (выше 800)\n",
    "7. В возрасте от 24 до 45 лет\n",
    "\n",
    "Для этой группы клиентов можно дать рекомендации:\n",
    "\n",
    "1. Предложить завести кредитную карту, это всегда приводит к повышению лояльности.\n",
    "2. Реструктуризация продуктов (приведение их к общему значменателю), что бы клиенту было проще управлять своими продуктами.\n",
    "3. Программы лояльности для мужчин этого возраста.\n",
    "4. Различные партнерские программы (например партнерство с различными магазинами для сбора детей в школу или предоставление рассрочки на товары в магазины одежды или косметики)."
   ]
  }
 ],
 "metadata": {
  "ExecuteTimeLog": [
   {
    "duration": 1580,
    "start_time": "2022-07-19T07:52:03.153Z"
   },
   {
    "duration": 20,
    "start_time": "2022-07-19T07:52:16.080Z"
   },
   {
    "duration": 8,
    "start_time": "2022-07-19T07:52:58.620Z"
   },
   {
    "duration": 397,
    "start_time": "2022-07-19T07:53:09.819Z"
   },
   {
    "duration": 21,
    "start_time": "2022-07-19T07:53:22.092Z"
   },
   {
    "duration": 35,
    "start_time": "2022-07-19T07:53:52.595Z"
   },
   {
    "duration": 116,
    "start_time": "2022-07-19T07:56:16.593Z"
   },
   {
    "duration": 112,
    "start_time": "2022-07-19T07:56:32.784Z"
   },
   {
    "duration": 14,
    "start_time": "2022-07-19T07:56:33.525Z"
   },
   {
    "duration": 80,
    "start_time": "2022-07-19T07:56:47.939Z"
   },
   {
    "duration": 2,
    "start_time": "2022-07-19T07:57:45.247Z"
   },
   {
    "duration": 88,
    "start_time": "2022-07-19T08:21:05.895Z"
   },
   {
    "duration": 2,
    "start_time": "2022-07-19T08:32:49.989Z"
   },
   {
    "duration": 94,
    "start_time": "2022-07-19T08:32:50.212Z"
   },
   {
    "duration": 14,
    "start_time": "2022-07-19T08:32:50.393Z"
   },
   {
    "duration": 84,
    "start_time": "2022-07-19T08:32:50.971Z"
   },
   {
    "duration": 14,
    "start_time": "2022-07-19T08:44:43.399Z"
   },
   {
    "duration": 29,
    "start_time": "2022-07-19T08:49:53.021Z"
   },
   {
    "duration": 25,
    "start_time": "2022-07-19T08:50:30.629Z"
   },
   {
    "duration": 25,
    "start_time": "2022-07-19T08:54:17.375Z"
   },
   {
    "duration": 5,
    "start_time": "2022-07-19T08:57:49.316Z"
   },
   {
    "duration": 82,
    "start_time": "2022-07-19T08:58:56.548Z"
   },
   {
    "duration": 4,
    "start_time": "2022-07-19T08:59:14.910Z"
   },
   {
    "duration": 6,
    "start_time": "2022-07-19T09:00:00.082Z"
   },
   {
    "duration": 5,
    "start_time": "2022-07-19T09:00:11.786Z"
   },
   {
    "duration": 7,
    "start_time": "2022-07-19T09:00:41.744Z"
   },
   {
    "duration": 50,
    "start_time": "2022-07-19T09:00:53.018Z"
   },
   {
    "duration": 6,
    "start_time": "2022-07-19T09:00:57.659Z"
   },
   {
    "duration": 6,
    "start_time": "2022-07-19T09:10:24.650Z"
   },
   {
    "duration": 5,
    "start_time": "2022-07-19T09:10:29.762Z"
   },
   {
    "duration": 6,
    "start_time": "2022-07-19T09:10:35.834Z"
   },
   {
    "duration": 6,
    "start_time": "2022-07-19T09:12:15.255Z"
   },
   {
    "duration": 6,
    "start_time": "2022-07-19T11:07:33.435Z"
   },
   {
    "duration": 7,
    "start_time": "2022-07-19T11:07:51.020Z"
   },
   {
    "duration": 5,
    "start_time": "2022-07-19T11:08:04.588Z"
   },
   {
    "duration": 6,
    "start_time": "2022-07-19T11:08:08.006Z"
   },
   {
    "duration": 5,
    "start_time": "2022-07-19T11:09:00.852Z"
   },
   {
    "duration": 5,
    "start_time": "2022-07-19T11:09:25.536Z"
   },
   {
    "duration": 2,
    "start_time": "2022-07-19T11:12:17.849Z"
   },
   {
    "duration": 5,
    "start_time": "2022-07-19T11:13:45.679Z"
   },
   {
    "duration": 1359,
    "start_time": "2022-07-19T11:14:22.831Z"
   },
   {
    "duration": 5,
    "start_time": "2022-07-19T11:14:29.133Z"
   },
   {
    "duration": 9,
    "start_time": "2022-07-19T11:23:25.455Z"
   },
   {
    "duration": 4,
    "start_time": "2022-07-19T11:23:26.079Z"
   },
   {
    "duration": 8,
    "start_time": "2022-07-19T11:23:26.579Z"
   },
   {
    "duration": 5,
    "start_time": "2022-07-19T11:24:47.891Z"
   },
   {
    "duration": 9,
    "start_time": "2022-07-19T11:28:24.500Z"
   },
   {
    "duration": 9,
    "start_time": "2022-07-19T11:28:54.416Z"
   },
   {
    "duration": 8,
    "start_time": "2022-07-19T11:29:02.732Z"
   },
   {
    "duration": 10,
    "start_time": "2022-07-19T11:29:07.228Z"
   },
   {
    "duration": 10,
    "start_time": "2022-07-19T11:29:25.459Z"
   },
   {
    "duration": 10,
    "start_time": "2022-07-19T11:29:43.927Z"
   },
   {
    "duration": 1004,
    "start_time": "2022-07-19T11:29:59.817Z"
   },
   {
    "duration": 1609,
    "start_time": "2022-07-19T11:31:38.131Z"
   },
   {
    "duration": 1321,
    "start_time": "2022-07-19T11:31:59.728Z"
   },
   {
    "duration": 12,
    "start_time": "2022-07-19T11:36:25.703Z"
   },
   {
    "duration": 10,
    "start_time": "2022-07-19T11:37:14.145Z"
   },
   {
    "duration": 10,
    "start_time": "2022-07-19T11:40:15.070Z"
   },
   {
    "duration": 5,
    "start_time": "2022-07-19T11:40:36.859Z"
   },
   {
    "duration": 10,
    "start_time": "2022-07-19T11:40:41.576Z"
   },
   {
    "duration": 5,
    "start_time": "2022-07-19T11:41:20.216Z"
   },
   {
    "duration": 6,
    "start_time": "2022-07-19T11:41:39.800Z"
   },
   {
    "duration": 15,
    "start_time": "2022-07-19T11:42:33.253Z"
   },
   {
    "duration": 9,
    "start_time": "2022-07-19T11:44:09.143Z"
   },
   {
    "duration": 11,
    "start_time": "2022-07-19T11:45:41.357Z"
   },
   {
    "duration": 5,
    "start_time": "2022-07-19T11:47:02.493Z"
   },
   {
    "duration": 17,
    "start_time": "2022-07-19T11:47:56.708Z"
   },
   {
    "duration": 14,
    "start_time": "2022-07-19T11:48:08.698Z"
   },
   {
    "duration": 14,
    "start_time": "2022-07-19T11:49:57.916Z"
   },
   {
    "duration": 11,
    "start_time": "2022-07-19T11:50:20.746Z"
   },
   {
    "duration": 9,
    "start_time": "2022-07-19T11:50:40.918Z"
   },
   {
    "duration": 13,
    "start_time": "2022-07-19T11:53:39.828Z"
   },
   {
    "duration": 6,
    "start_time": "2022-07-19T12:14:41.217Z"
   },
   {
    "duration": 6,
    "start_time": "2022-07-19T12:16:15.522Z"
   },
   {
    "duration": 11,
    "start_time": "2022-07-19T12:16:41.289Z"
   },
   {
    "duration": 8,
    "start_time": "2022-07-19T12:16:45.548Z"
   },
   {
    "duration": 9,
    "start_time": "2022-07-19T12:19:23.955Z"
   },
   {
    "duration": 20,
    "start_time": "2022-07-19T12:19:24.395Z"
   },
   {
    "duration": 10,
    "start_time": "2022-07-19T12:19:25.011Z"
   },
   {
    "duration": 1680,
    "start_time": "2022-07-19T13:10:31.679Z"
   },
   {
    "duration": 14,
    "start_time": "2022-07-19T13:11:11.878Z"
   },
   {
    "duration": 6,
    "start_time": "2022-07-19T13:47:46.209Z"
   },
   {
    "duration": 6,
    "start_time": "2022-07-19T13:48:08.435Z"
   },
   {
    "duration": 8,
    "start_time": "2022-07-19T13:48:39.135Z"
   },
   {
    "duration": 63,
    "start_time": "2022-07-19T13:49:18.153Z"
   },
   {
    "duration": 17,
    "start_time": "2022-07-19T13:58:10.787Z"
   },
   {
    "duration": 36,
    "start_time": "2022-07-19T13:58:15.224Z"
   },
   {
    "duration": 52,
    "start_time": "2022-07-19T16:55:50.933Z"
   },
   {
    "duration": 1627,
    "start_time": "2022-07-19T16:56:02.007Z"
   },
   {
    "duration": 423,
    "start_time": "2022-07-19T16:56:03.638Z"
   },
   {
    "duration": 31,
    "start_time": "2022-07-19T16:56:04.063Z"
   },
   {
    "duration": 49,
    "start_time": "2022-07-19T16:56:04.098Z"
   },
   {
    "duration": 130,
    "start_time": "2022-07-19T16:56:04.149Z"
   },
   {
    "duration": 11,
    "start_time": "2022-07-19T16:56:04.281Z"
   },
   {
    "duration": 1352,
    "start_time": "2022-07-19T16:56:04.294Z"
   },
   {
    "duration": 0,
    "start_time": "2022-07-19T16:56:05.649Z"
   },
   {
    "duration": 0,
    "start_time": "2022-07-19T16:56:05.651Z"
   },
   {
    "duration": 0,
    "start_time": "2022-07-19T16:56:05.652Z"
   },
   {
    "duration": 0,
    "start_time": "2022-07-19T16:56:05.654Z"
   },
   {
    "duration": 0,
    "start_time": "2022-07-19T16:56:05.655Z"
   },
   {
    "duration": 0,
    "start_time": "2022-07-19T16:56:05.656Z"
   },
   {
    "duration": 0,
    "start_time": "2022-07-19T16:56:05.657Z"
   },
   {
    "duration": 0,
    "start_time": "2022-07-19T16:56:05.659Z"
   },
   {
    "duration": 0,
    "start_time": "2022-07-19T16:56:05.660Z"
   },
   {
    "duration": 0,
    "start_time": "2022-07-19T16:56:05.661Z"
   },
   {
    "duration": 0,
    "start_time": "2022-07-19T16:56:05.662Z"
   },
   {
    "duration": 0,
    "start_time": "2022-07-19T16:56:05.663Z"
   },
   {
    "duration": 0,
    "start_time": "2022-07-19T16:56:05.665Z"
   },
   {
    "duration": 0,
    "start_time": "2022-07-19T16:56:05.666Z"
   },
   {
    "duration": 0,
    "start_time": "2022-07-19T16:56:05.667Z"
   },
   {
    "duration": 0,
    "start_time": "2022-07-19T16:56:05.668Z"
   },
   {
    "duration": 0,
    "start_time": "2022-07-19T16:56:05.669Z"
   },
   {
    "duration": 0,
    "start_time": "2022-07-19T16:56:05.671Z"
   },
   {
    "duration": 0,
    "start_time": "2022-07-19T16:56:05.672Z"
   },
   {
    "duration": 0,
    "start_time": "2022-07-19T16:56:05.673Z"
   },
   {
    "duration": 0,
    "start_time": "2022-07-19T16:56:05.674Z"
   },
   {
    "duration": 3,
    "start_time": "2022-07-19T16:57:07.385Z"
   },
   {
    "duration": 107,
    "start_time": "2022-07-19T16:57:07.574Z"
   },
   {
    "duration": 16,
    "start_time": "2022-07-19T16:57:07.694Z"
   },
   {
    "duration": 29,
    "start_time": "2022-07-19T16:57:07.829Z"
   },
   {
    "duration": 79,
    "start_time": "2022-07-19T16:57:08.117Z"
   },
   {
    "duration": 11,
    "start_time": "2022-07-19T16:57:08.979Z"
   },
   {
    "duration": 1057,
    "start_time": "2022-07-19T16:57:09.920Z"
   },
   {
    "duration": 1120,
    "start_time": "2022-07-19T16:57:10.979Z"
   },
   {
    "duration": 43,
    "start_time": "2022-07-20T11:27:29.456Z"
   },
   {
    "duration": 1353,
    "start_time": "2022-07-20T11:27:53.092Z"
   },
   {
    "duration": 205,
    "start_time": "2022-07-20T11:27:54.447Z"
   },
   {
    "duration": 17,
    "start_time": "2022-07-20T11:27:54.657Z"
   },
   {
    "duration": 37,
    "start_time": "2022-07-20T11:27:54.676Z"
   },
   {
    "duration": 112,
    "start_time": "2022-07-20T11:27:54.715Z"
   },
   {
    "duration": 9,
    "start_time": "2022-07-20T11:27:54.829Z"
   },
   {
    "duration": 1065,
    "start_time": "2022-07-20T11:27:54.840Z"
   },
   {
    "duration": 5,
    "start_time": "2022-07-20T11:27:55.907Z"
   },
   {
    "duration": 38,
    "start_time": "2022-07-20T11:27:55.915Z"
   },
   {
    "duration": 4,
    "start_time": "2022-07-20T11:27:55.955Z"
   },
   {
    "duration": 26,
    "start_time": "2022-07-20T11:27:55.960Z"
   },
   {
    "duration": 8,
    "start_time": "2022-07-20T11:27:55.987Z"
   },
   {
    "duration": 19,
    "start_time": "2022-07-20T11:27:55.997Z"
   },
   {
    "duration": 15,
    "start_time": "2022-07-20T11:27:56.018Z"
   },
   {
    "duration": 17,
    "start_time": "2022-07-20T11:27:56.035Z"
   },
   {
    "duration": 19,
    "start_time": "2022-07-20T11:27:56.054Z"
   },
   {
    "duration": 126,
    "start_time": "2022-07-20T11:27:56.075Z"
   },
   {
    "duration": 0,
    "start_time": "2022-07-20T11:27:56.203Z"
   },
   {
    "duration": 0,
    "start_time": "2022-07-20T11:27:56.205Z"
   },
   {
    "duration": 0,
    "start_time": "2022-07-20T11:27:56.206Z"
   },
   {
    "duration": 0,
    "start_time": "2022-07-20T11:27:56.209Z"
   },
   {
    "duration": 0,
    "start_time": "2022-07-20T11:27:56.210Z"
   },
   {
    "duration": 0,
    "start_time": "2022-07-20T11:27:56.212Z"
   },
   {
    "duration": 0,
    "start_time": "2022-07-20T11:27:56.213Z"
   },
   {
    "duration": 0,
    "start_time": "2022-07-20T11:27:56.214Z"
   },
   {
    "duration": 0,
    "start_time": "2022-07-20T11:27:56.215Z"
   },
   {
    "duration": 1009,
    "start_time": "2022-07-20T11:30:26.829Z"
   },
   {
    "duration": 905,
    "start_time": "2022-07-20T11:30:35.079Z"
   },
   {
    "duration": 11,
    "start_time": "2022-07-20T11:31:26.055Z"
   },
   {
    "duration": 12,
    "start_time": "2022-07-20T11:33:39.026Z"
   },
   {
    "duration": 6,
    "start_time": "2022-07-20T11:33:39.274Z"
   },
   {
    "duration": 8,
    "start_time": "2022-07-20T11:33:39.934Z"
   },
   {
    "duration": 9,
    "start_time": "2022-07-20T11:33:46.235Z"
   },
   {
    "duration": 10,
    "start_time": "2022-07-20T11:33:46.952Z"
   },
   {
    "duration": 12,
    "start_time": "2022-07-20T11:38:51.208Z"
   },
   {
    "duration": 4,
    "start_time": "2022-07-20T11:39:02.839Z"
   },
   {
    "duration": 7,
    "start_time": "2022-07-20T11:41:20.803Z"
   },
   {
    "duration": 2,
    "start_time": "2022-07-20T11:41:29.170Z"
   },
   {
    "duration": 5,
    "start_time": "2022-07-20T11:41:45.347Z"
   },
   {
    "duration": 6,
    "start_time": "2022-07-20T11:44:39.083Z"
   },
   {
    "duration": 5,
    "start_time": "2022-07-20T11:44:51.829Z"
   },
   {
    "duration": 881,
    "start_time": "2022-07-20T11:49:03.149Z"
   },
   {
    "duration": 1044,
    "start_time": "2022-07-20T11:49:41.501Z"
   },
   {
    "duration": 5,
    "start_time": "2022-07-20T11:50:01.291Z"
   },
   {
    "duration": 6,
    "start_time": "2022-07-20T11:50:11.139Z"
   },
   {
    "duration": 928,
    "start_time": "2022-07-20T11:50:11.707Z"
   },
   {
    "duration": 5,
    "start_time": "2022-07-20T11:50:13.666Z"
   },
   {
    "duration": 5,
    "start_time": "2022-07-20T11:50:16.317Z"
   },
   {
    "duration": 8,
    "start_time": "2022-07-20T11:50:17.444Z"
   },
   {
    "duration": 2,
    "start_time": "2022-07-20T11:50:30.559Z"
   },
   {
    "duration": 5,
    "start_time": "2022-07-20T11:50:31.434Z"
   },
   {
    "duration": 8,
    "start_time": "2022-07-20T11:50:32.279Z"
   },
   {
    "duration": 1089,
    "start_time": "2022-07-20T11:50:47.193Z"
   },
   {
    "duration": 106,
    "start_time": "2022-07-20T11:50:48.284Z"
   },
   {
    "duration": 17,
    "start_time": "2022-07-20T11:50:48.392Z"
   },
   {
    "duration": 48,
    "start_time": "2022-07-20T11:50:48.411Z"
   },
   {
    "duration": 77,
    "start_time": "2022-07-20T11:50:48.461Z"
   },
   {
    "duration": 10,
    "start_time": "2022-07-20T11:50:48.553Z"
   },
   {
    "duration": 1012,
    "start_time": "2022-07-20T11:50:48.565Z"
   },
   {
    "duration": 5,
    "start_time": "2022-07-20T11:50:49.579Z"
   },
   {
    "duration": 31,
    "start_time": "2022-07-20T11:50:49.585Z"
   },
   {
    "duration": 5,
    "start_time": "2022-07-20T11:50:49.618Z"
   },
   {
    "duration": 5,
    "start_time": "2022-07-20T11:50:49.625Z"
   },
   {
    "duration": 4,
    "start_time": "2022-07-20T11:50:49.653Z"
   },
   {
    "duration": 5,
    "start_time": "2022-07-20T11:50:49.659Z"
   },
   {
    "duration": 9,
    "start_time": "2022-07-20T11:50:49.666Z"
   },
   {
    "duration": 5,
    "start_time": "2022-07-20T11:50:49.676Z"
   },
   {
    "duration": 10,
    "start_time": "2022-07-20T11:50:49.683Z"
   },
   {
    "duration": 4,
    "start_time": "2022-07-20T11:50:49.695Z"
   },
   {
    "duration": 7,
    "start_time": "2022-07-20T11:50:49.700Z"
   },
   {
    "duration": 8,
    "start_time": "2022-07-20T11:50:49.708Z"
   },
   {
    "duration": 38,
    "start_time": "2022-07-20T11:50:49.718Z"
   },
   {
    "duration": 6,
    "start_time": "2022-07-20T11:50:49.758Z"
   },
   {
    "duration": 2,
    "start_time": "2022-07-20T11:50:49.766Z"
   },
   {
    "duration": 7,
    "start_time": "2022-07-20T11:50:49.769Z"
   },
   {
    "duration": 12,
    "start_time": "2022-07-20T11:50:49.778Z"
   },
   {
    "duration": 9,
    "start_time": "2022-07-20T11:50:49.791Z"
   },
   {
    "duration": 66,
    "start_time": "2022-07-20T11:50:49.802Z"
   },
   {
    "duration": 14,
    "start_time": "2022-07-20T11:50:49.870Z"
   },
   {
    "duration": 4,
    "start_time": "2022-07-20T11:50:49.888Z"
   },
   {
    "duration": 5,
    "start_time": "2022-07-20T11:53:20.542Z"
   },
   {
    "duration": 5,
    "start_time": "2022-07-20T11:53:21.027Z"
   },
   {
    "duration": 9,
    "start_time": "2022-07-20T11:53:22.204Z"
   },
   {
    "duration": 6,
    "start_time": "2022-07-20T11:54:23.448Z"
   },
   {
    "duration": 6,
    "start_time": "2022-07-20T11:54:30.127Z"
   },
   {
    "duration": 2,
    "start_time": "2022-07-20T11:56:21.876Z"
   },
   {
    "duration": 4,
    "start_time": "2022-07-20T11:56:59.186Z"
   },
   {
    "duration": 7,
    "start_time": "2022-07-20T11:57:19.284Z"
   },
   {
    "duration": 1157,
    "start_time": "2022-07-20T11:57:38.308Z"
   },
   {
    "duration": 102,
    "start_time": "2022-07-20T11:57:39.467Z"
   },
   {
    "duration": 18,
    "start_time": "2022-07-20T11:57:39.570Z"
   },
   {
    "duration": 32,
    "start_time": "2022-07-20T11:57:39.590Z"
   },
   {
    "duration": 92,
    "start_time": "2022-07-20T11:57:39.624Z"
   },
   {
    "duration": 9,
    "start_time": "2022-07-20T11:57:39.717Z"
   },
   {
    "duration": 1088,
    "start_time": "2022-07-20T11:57:39.727Z"
   },
   {
    "duration": 4,
    "start_time": "2022-07-20T11:57:40.817Z"
   },
   {
    "duration": 41,
    "start_time": "2022-07-20T11:57:40.822Z"
   },
   {
    "duration": 5,
    "start_time": "2022-07-20T11:57:40.866Z"
   },
   {
    "duration": 4,
    "start_time": "2022-07-20T11:57:40.873Z"
   },
   {
    "duration": 6,
    "start_time": "2022-07-20T11:57:40.879Z"
   },
   {
    "duration": 6,
    "start_time": "2022-07-20T11:57:40.887Z"
   },
   {
    "duration": 8,
    "start_time": "2022-07-20T11:57:40.894Z"
   },
   {
    "duration": 13,
    "start_time": "2022-07-20T11:57:40.903Z"
   },
   {
    "duration": 38,
    "start_time": "2022-07-20T11:57:40.918Z"
   },
   {
    "duration": 6,
    "start_time": "2022-07-20T11:57:40.958Z"
   },
   {
    "duration": 7,
    "start_time": "2022-07-20T11:57:40.966Z"
   },
   {
    "duration": 8,
    "start_time": "2022-07-20T11:57:40.975Z"
   },
   {
    "duration": 8,
    "start_time": "2022-07-20T11:57:40.985Z"
   },
   {
    "duration": 8,
    "start_time": "2022-07-20T11:57:40.994Z"
   },
   {
    "duration": 5,
    "start_time": "2022-07-20T11:57:41.004Z"
   },
   {
    "duration": 44,
    "start_time": "2022-07-20T11:57:41.010Z"
   },
   {
    "duration": 8,
    "start_time": "2022-07-20T11:57:41.056Z"
   },
   {
    "duration": 3,
    "start_time": "2022-07-20T11:57:41.066Z"
   },
   {
    "duration": 6,
    "start_time": "2022-07-20T11:57:41.071Z"
   },
   {
    "duration": 5,
    "start_time": "2022-07-20T11:57:41.079Z"
   },
   {
    "duration": 10,
    "start_time": "2022-07-20T11:57:41.088Z"
   },
   {
    "duration": 8,
    "start_time": "2022-07-20T11:57:41.100Z"
   },
   {
    "duration": 43,
    "start_time": "2022-07-20T11:57:41.151Z"
   },
   {
    "duration": 15,
    "start_time": "2022-07-20T11:57:41.196Z"
   },
   {
    "duration": 9,
    "start_time": "2022-07-20T11:57:41.213Z"
   },
   {
    "duration": 1132,
    "start_time": "2022-07-20T12:02:40.954Z"
   },
   {
    "duration": 91,
    "start_time": "2022-07-20T12:02:42.088Z"
   },
   {
    "duration": 15,
    "start_time": "2022-07-20T12:02:42.181Z"
   },
   {
    "duration": 28,
    "start_time": "2022-07-20T12:02:42.198Z"
   },
   {
    "duration": 89,
    "start_time": "2022-07-20T12:02:42.229Z"
   },
   {
    "duration": 7,
    "start_time": "2022-07-20T12:02:42.320Z"
   },
   {
    "duration": 992,
    "start_time": "2022-07-20T12:02:42.329Z"
   },
   {
    "duration": 4,
    "start_time": "2022-07-20T12:02:43.323Z"
   },
   {
    "duration": 38,
    "start_time": "2022-07-20T12:02:43.328Z"
   },
   {
    "duration": 5,
    "start_time": "2022-07-20T12:02:43.367Z"
   },
   {
    "duration": 4,
    "start_time": "2022-07-20T12:02:43.374Z"
   },
   {
    "duration": 6,
    "start_time": "2022-07-20T12:02:43.380Z"
   },
   {
    "duration": 5,
    "start_time": "2022-07-20T12:02:43.387Z"
   },
   {
    "duration": 4,
    "start_time": "2022-07-20T12:02:43.394Z"
   },
   {
    "duration": 7,
    "start_time": "2022-07-20T12:02:43.399Z"
   },
   {
    "duration": 46,
    "start_time": "2022-07-20T12:02:43.407Z"
   },
   {
    "duration": 7,
    "start_time": "2022-07-20T12:02:43.454Z"
   },
   {
    "duration": 35,
    "start_time": "2022-07-20T12:02:43.463Z"
   },
   {
    "duration": 103,
    "start_time": "2022-07-20T12:02:43.500Z"
   },
   {
    "duration": 10,
    "start_time": "2022-07-20T12:04:45.523Z"
   },
   {
    "duration": 9,
    "start_time": "2022-07-20T12:05:13.078Z"
   },
   {
    "duration": 6,
    "start_time": "2022-07-20T12:07:58.880Z"
   },
   {
    "duration": 5,
    "start_time": "2022-07-20T12:08:25.325Z"
   },
   {
    "duration": 6,
    "start_time": "2022-07-20T12:14:05.621Z"
   },
   {
    "duration": 115,
    "start_time": "2022-07-20T12:19:42.464Z"
   },
   {
    "duration": 8,
    "start_time": "2022-07-20T12:25:41.802Z"
   },
   {
    "duration": 4,
    "start_time": "2022-07-20T12:25:42.164Z"
   },
   {
    "duration": 9,
    "start_time": "2022-07-20T12:26:26.092Z"
   },
   {
    "duration": 5,
    "start_time": "2022-07-20T12:26:26.885Z"
   },
   {
    "duration": 5,
    "start_time": "2022-07-20T12:26:56.264Z"
   },
   {
    "duration": 6,
    "start_time": "2022-07-20T12:26:56.621Z"
   },
   {
    "duration": 8,
    "start_time": "2022-07-20T12:27:04.632Z"
   },
   {
    "duration": 4,
    "start_time": "2022-07-20T12:31:24.591Z"
   },
   {
    "duration": 4,
    "start_time": "2022-07-20T12:31:25.561Z"
   },
   {
    "duration": 8,
    "start_time": "2022-07-20T12:31:27.125Z"
   },
   {
    "duration": 1055,
    "start_time": "2022-07-20T12:31:34.800Z"
   },
   {
    "duration": 90,
    "start_time": "2022-07-20T12:31:35.856Z"
   },
   {
    "duration": 13,
    "start_time": "2022-07-20T12:31:35.948Z"
   },
   {
    "duration": 27,
    "start_time": "2022-07-20T12:31:35.963Z"
   },
   {
    "duration": 100,
    "start_time": "2022-07-20T12:31:35.992Z"
   },
   {
    "duration": 11,
    "start_time": "2022-07-20T12:31:36.094Z"
   },
   {
    "duration": 974,
    "start_time": "2022-07-20T12:31:36.106Z"
   },
   {
    "duration": 4,
    "start_time": "2022-07-20T12:31:37.082Z"
   },
   {
    "duration": 30,
    "start_time": "2022-07-20T12:31:37.087Z"
   },
   {
    "duration": 28,
    "start_time": "2022-07-20T12:31:37.119Z"
   },
   {
    "duration": 6,
    "start_time": "2022-07-20T12:31:37.148Z"
   },
   {
    "duration": 6,
    "start_time": "2022-07-20T12:31:37.156Z"
   },
   {
    "duration": 17,
    "start_time": "2022-07-20T12:31:37.163Z"
   },
   {
    "duration": 18,
    "start_time": "2022-07-20T12:31:37.182Z"
   },
   {
    "duration": 14,
    "start_time": "2022-07-20T12:31:37.202Z"
   },
   {
    "duration": 36,
    "start_time": "2022-07-20T12:31:37.217Z"
   },
   {
    "duration": 18,
    "start_time": "2022-07-20T12:31:37.255Z"
   },
   {
    "duration": 33,
    "start_time": "2022-07-20T12:31:37.274Z"
   },
   {
    "duration": 13,
    "start_time": "2022-07-20T12:31:37.308Z"
   },
   {
    "duration": 26,
    "start_time": "2022-07-20T12:31:37.322Z"
   },
   {
    "duration": 14,
    "start_time": "2022-07-20T12:31:37.350Z"
   },
   {
    "duration": 8,
    "start_time": "2022-07-20T12:31:37.366Z"
   },
   {
    "duration": 51,
    "start_time": "2022-07-20T12:31:37.375Z"
   },
   {
    "duration": 147,
    "start_time": "2022-07-20T12:31:37.427Z"
   },
   {
    "duration": 0,
    "start_time": "2022-07-20T12:31:37.575Z"
   },
   {
    "duration": 6,
    "start_time": "2022-07-20T12:33:38.301Z"
   },
   {
    "duration": 1556,
    "start_time": "2022-07-20T12:33:49.244Z"
   },
   {
    "duration": 0,
    "start_time": "2022-07-20T12:33:50.802Z"
   },
   {
    "duration": 6,
    "start_time": "2022-07-20T12:34:06.123Z"
   },
   {
    "duration": 5,
    "start_time": "2022-07-20T12:34:14.665Z"
   },
   {
    "duration": 1400,
    "start_time": "2022-07-20T12:34:34.887Z"
   },
   {
    "duration": 8,
    "start_time": "2022-07-20T12:35:10.271Z"
   },
   {
    "duration": 11,
    "start_time": "2022-07-20T12:35:19.573Z"
   },
   {
    "duration": 10,
    "start_time": "2022-07-20T12:35:44.054Z"
   },
   {
    "duration": 7958,
    "start_time": "2022-07-20T12:35:48.547Z"
   },
   {
    "duration": 5,
    "start_time": "2022-07-20T12:41:24.788Z"
   },
   {
    "duration": 4,
    "start_time": "2022-07-20T12:41:40.867Z"
   },
   {
    "duration": 5,
    "start_time": "2022-07-20T12:41:41.951Z"
   },
   {
    "duration": 8,
    "start_time": "2022-07-20T12:41:42.323Z"
   },
   {
    "duration": 3,
    "start_time": "2022-07-20T12:42:44.719Z"
   },
   {
    "duration": 5,
    "start_time": "2022-07-20T12:42:45.086Z"
   },
   {
    "duration": 4,
    "start_time": "2022-07-20T12:42:56.600Z"
   },
   {
    "duration": 13,
    "start_time": "2022-07-20T12:43:13.676Z"
   },
   {
    "duration": 4,
    "start_time": "2022-07-20T12:43:39.142Z"
   },
   {
    "duration": 3,
    "start_time": "2022-07-20T12:43:43.745Z"
   },
   {
    "duration": 3,
    "start_time": "2022-07-20T12:43:57.843Z"
   },
   {
    "duration": 4,
    "start_time": "2022-07-20T12:43:58.590Z"
   },
   {
    "duration": 7,
    "start_time": "2022-07-20T12:43:58.992Z"
   },
   {
    "duration": 6,
    "start_time": "2022-07-20T12:45:19.061Z"
   },
   {
    "duration": 4,
    "start_time": "2022-07-20T12:45:44.111Z"
   },
   {
    "duration": 4,
    "start_time": "2022-07-20T12:46:11.996Z"
   },
   {
    "duration": 5,
    "start_time": "2022-07-20T12:46:27.892Z"
   },
   {
    "duration": 10,
    "start_time": "2022-07-20T12:46:54.678Z"
   },
   {
    "duration": 5,
    "start_time": "2022-07-20T12:49:17.442Z"
   },
   {
    "duration": 12,
    "start_time": "2022-07-20T12:53:10.660Z"
   },
   {
    "duration": 7948,
    "start_time": "2022-07-20T13:10:37.059Z"
   },
   {
    "duration": 12,
    "start_time": "2022-07-20T13:11:16.064Z"
   },
   {
    "duration": 9,
    "start_time": "2022-07-20T13:19:24.083Z"
   },
   {
    "duration": 21,
    "start_time": "2022-07-20T13:19:55.648Z"
   },
   {
    "duration": 7601,
    "start_time": "2022-07-20T13:21:42.156Z"
   },
   {
    "duration": 7,
    "start_time": "2022-07-20T13:21:49.759Z"
   },
   {
    "duration": 1432,
    "start_time": "2022-07-22T11:04:30.880Z"
   },
   {
    "duration": 171,
    "start_time": "2022-07-22T11:04:32.314Z"
   },
   {
    "duration": 22,
    "start_time": "2022-07-22T11:04:32.488Z"
   },
   {
    "duration": 32,
    "start_time": "2022-07-22T11:04:32.513Z"
   },
   {
    "duration": 99,
    "start_time": "2022-07-22T11:04:32.546Z"
   },
   {
    "duration": 11,
    "start_time": "2022-07-22T11:04:32.647Z"
   },
   {
    "duration": 1218,
    "start_time": "2022-07-22T11:04:32.659Z"
   },
   {
    "duration": 5,
    "start_time": "2022-07-22T11:04:33.879Z"
   },
   {
    "duration": 31,
    "start_time": "2022-07-22T11:04:33.886Z"
   },
   {
    "duration": 39,
    "start_time": "2022-07-22T11:04:33.921Z"
   },
   {
    "duration": 7,
    "start_time": "2022-07-22T11:04:33.962Z"
   },
   {
    "duration": 9,
    "start_time": "2022-07-22T11:04:33.971Z"
   },
   {
    "duration": 7,
    "start_time": "2022-07-22T11:04:33.982Z"
   },
   {
    "duration": 17,
    "start_time": "2022-07-22T11:04:33.991Z"
   },
   {
    "duration": 5,
    "start_time": "2022-07-22T11:04:34.010Z"
   },
   {
    "duration": 12,
    "start_time": "2022-07-22T11:04:34.017Z"
   },
   {
    "duration": 10,
    "start_time": "2022-07-22T11:04:34.031Z"
   },
   {
    "duration": 6,
    "start_time": "2022-07-22T11:04:34.043Z"
   },
   {
    "duration": 9,
    "start_time": "2022-07-22T11:04:34.051Z"
   },
   {
    "duration": 8,
    "start_time": "2022-07-22T11:04:34.062Z"
   },
   {
    "duration": 35,
    "start_time": "2022-07-22T11:04:34.073Z"
   },
   {
    "duration": 12,
    "start_time": "2022-07-22T11:04:34.110Z"
   },
   {
    "duration": 12,
    "start_time": "2022-07-22T11:04:34.124Z"
   },
   {
    "duration": 17,
    "start_time": "2022-07-22T11:04:34.139Z"
   },
   {
    "duration": 6,
    "start_time": "2022-07-22T11:04:34.158Z"
   },
   {
    "duration": 5,
    "start_time": "2022-07-22T11:04:34.166Z"
   },
   {
    "duration": 9,
    "start_time": "2022-07-22T11:04:34.172Z"
   },
   {
    "duration": 8,
    "start_time": "2022-07-22T11:04:34.206Z"
   },
   {
    "duration": 54,
    "start_time": "2022-07-22T11:04:34.217Z"
   },
   {
    "duration": 5,
    "start_time": "2022-07-22T11:04:34.274Z"
   },
   {
    "duration": 10044,
    "start_time": "2022-07-22T11:04:34.305Z"
   },
   {
    "duration": 5,
    "start_time": "2022-07-22T11:04:44.351Z"
   },
   {
    "duration": 41,
    "start_time": "2022-07-22T11:04:44.358Z"
   },
   {
    "duration": 23,
    "start_time": "2022-07-22T11:04:44.401Z"
   },
   {
    "duration": 90,
    "start_time": "2022-07-22T11:05:35.051Z"
   },
   {
    "duration": 1300,
    "start_time": "2022-07-22T11:05:45.774Z"
   },
   {
    "duration": 100,
    "start_time": "2022-07-22T11:05:47.076Z"
   },
   {
    "duration": 10042,
    "start_time": "2022-07-22T11:05:47.178Z"
   },
   {
    "duration": 23,
    "start_time": "2022-07-22T11:05:57.223Z"
   },
   {
    "duration": 36,
    "start_time": "2022-07-22T11:05:57.248Z"
   },
   {
    "duration": 100,
    "start_time": "2022-07-22T11:05:57.305Z"
   },
   {
    "duration": 9,
    "start_time": "2022-07-22T11:05:57.407Z"
   },
   {
    "duration": 1145,
    "start_time": "2022-07-22T11:05:57.418Z"
   },
   {
    "duration": 5,
    "start_time": "2022-07-22T11:05:58.565Z"
   },
   {
    "duration": 14,
    "start_time": "2022-07-22T11:05:58.573Z"
   },
   {
    "duration": 45,
    "start_time": "2022-07-22T11:05:58.589Z"
   },
   {
    "duration": 7,
    "start_time": "2022-07-22T11:05:58.636Z"
   },
   {
    "duration": 6,
    "start_time": "2022-07-22T11:05:58.645Z"
   },
   {
    "duration": 6,
    "start_time": "2022-07-22T11:05:58.653Z"
   },
   {
    "duration": 6,
    "start_time": "2022-07-22T11:05:58.661Z"
   },
   {
    "duration": 35,
    "start_time": "2022-07-22T11:05:58.669Z"
   },
   {
    "duration": 8,
    "start_time": "2022-07-22T11:05:58.706Z"
   },
   {
    "duration": 10,
    "start_time": "2022-07-22T11:05:58.715Z"
   },
   {
    "duration": 5,
    "start_time": "2022-07-22T11:05:58.727Z"
   },
   {
    "duration": 7,
    "start_time": "2022-07-22T11:05:58.734Z"
   },
   {
    "duration": 5,
    "start_time": "2022-07-22T11:05:58.744Z"
   },
   {
    "duration": 6,
    "start_time": "2022-07-22T11:05:58.751Z"
   },
   {
    "duration": 44,
    "start_time": "2022-07-22T11:05:58.760Z"
   },
   {
    "duration": 11,
    "start_time": "2022-07-22T11:05:58.806Z"
   },
   {
    "duration": 14,
    "start_time": "2022-07-22T11:05:58.819Z"
   },
   {
    "duration": 4,
    "start_time": "2022-07-22T11:05:58.835Z"
   },
   {
    "duration": 8,
    "start_time": "2022-07-22T11:05:58.841Z"
   },
   {
    "duration": 9,
    "start_time": "2022-07-22T11:05:58.854Z"
   },
   {
    "duration": 8,
    "start_time": "2022-07-22T11:05:58.867Z"
   },
   {
    "duration": 61,
    "start_time": "2022-07-22T11:05:58.903Z"
   },
   {
    "duration": 5,
    "start_time": "2022-07-22T11:05:58.966Z"
   },
   {
    "duration": 9403,
    "start_time": "2022-07-22T11:05:58.973Z"
   },
   {
    "duration": 8,
    "start_time": "2022-07-22T11:06:08.377Z"
   },
   {
    "duration": 32,
    "start_time": "2022-07-22T11:06:08.388Z"
   },
   {
    "duration": 61,
    "start_time": "2022-07-22T11:06:08.423Z"
   },
   {
    "duration": 1270,
    "start_time": "2022-07-22T11:09:32.272Z"
   },
   {
    "duration": 92,
    "start_time": "2022-07-22T11:09:33.544Z"
   },
   {
    "duration": 17,
    "start_time": "2022-07-22T11:09:33.637Z"
   },
   {
    "duration": 29,
    "start_time": "2022-07-22T11:09:33.656Z"
   },
   {
    "duration": 93,
    "start_time": "2022-07-22T11:09:33.686Z"
   },
   {
    "duration": 25,
    "start_time": "2022-07-22T11:09:33.781Z"
   },
   {
    "duration": 1056,
    "start_time": "2022-07-22T11:09:33.807Z"
   },
   {
    "duration": 5,
    "start_time": "2022-07-22T11:09:34.864Z"
   },
   {
    "duration": 8,
    "start_time": "2022-07-22T11:09:34.871Z"
   },
   {
    "duration": 41,
    "start_time": "2022-07-22T11:09:34.882Z"
   },
   {
    "duration": 5,
    "start_time": "2022-07-22T11:09:34.924Z"
   },
   {
    "duration": 5,
    "start_time": "2022-07-22T11:09:34.930Z"
   },
   {
    "duration": 5,
    "start_time": "2022-07-22T11:09:34.936Z"
   },
   {
    "duration": 9,
    "start_time": "2022-07-22T11:09:34.942Z"
   },
   {
    "duration": 7,
    "start_time": "2022-07-22T11:09:34.952Z"
   },
   {
    "duration": 5,
    "start_time": "2022-07-22T11:09:34.961Z"
   },
   {
    "duration": 172,
    "start_time": "2022-07-22T11:09:34.968Z"
   },
   {
    "duration": 8,
    "start_time": "2022-07-22T11:09:35.142Z"
   },
   {
    "duration": 12,
    "start_time": "2022-07-22T11:09:35.152Z"
   },
   {
    "duration": 10,
    "start_time": "2022-07-22T11:09:35.166Z"
   },
   {
    "duration": 9,
    "start_time": "2022-07-22T11:09:35.178Z"
   },
   {
    "duration": 13,
    "start_time": "2022-07-22T11:09:35.189Z"
   },
   {
    "duration": 7,
    "start_time": "2022-07-22T11:09:35.203Z"
   },
   {
    "duration": 13,
    "start_time": "2022-07-22T11:09:35.211Z"
   },
   {
    "duration": 42,
    "start_time": "2022-07-22T11:09:35.225Z"
   },
   {
    "duration": 32,
    "start_time": "2022-07-22T11:09:35.269Z"
   },
   {
    "duration": 9,
    "start_time": "2022-07-22T11:09:35.302Z"
   },
   {
    "duration": 11,
    "start_time": "2022-07-22T11:09:35.314Z"
   },
   {
    "duration": 84,
    "start_time": "2022-07-22T11:09:35.327Z"
   },
   {
    "duration": 6,
    "start_time": "2022-07-22T11:09:35.412Z"
   },
   {
    "duration": 8399,
    "start_time": "2022-07-22T11:09:35.420Z"
   },
   {
    "duration": 9,
    "start_time": "2022-07-22T11:09:43.820Z"
   },
   {
    "duration": 14,
    "start_time": "2022-07-22T11:09:43.831Z"
   },
   {
    "duration": 23,
    "start_time": "2022-07-22T11:09:43.846Z"
   },
   {
    "duration": 55,
    "start_time": "2022-07-22T13:26:26.121Z"
   },
   {
    "duration": 1323,
    "start_time": "2022-07-22T13:26:33.276Z"
   },
   {
    "duration": 338,
    "start_time": "2022-07-22T13:26:34.601Z"
   },
   {
    "duration": 15,
    "start_time": "2022-07-22T13:26:34.941Z"
   },
   {
    "duration": 3,
    "start_time": "2022-07-22T13:26:36.172Z"
   },
   {
    "duration": 23,
    "start_time": "2022-07-22T13:26:37.481Z"
   },
   {
    "duration": 3,
    "start_time": "2022-07-22T13:27:03.977Z"
   },
   {
    "duration": 84,
    "start_time": "2022-07-22T13:27:04.801Z"
   },
   {
    "duration": 14,
    "start_time": "2022-07-22T13:27:05.413Z"
   },
   {
    "duration": 24,
    "start_time": "2022-07-22T13:27:06.721Z"
   },
   {
    "duration": 3,
    "start_time": "2022-07-22T13:27:16.756Z"
   },
   {
    "duration": 24,
    "start_time": "2022-07-22T13:27:17.168Z"
   },
   {
    "duration": 1838,
    "start_time": "2022-07-22T13:28:59.678Z"
   },
   {
    "duration": 62,
    "start_time": "2022-07-24T18:25:51.007Z"
   },
   {
    "duration": 1460,
    "start_time": "2022-07-24T18:26:07.831Z"
   },
   {
    "duration": 352,
    "start_time": "2022-07-24T18:26:09.293Z"
   },
   {
    "duration": 18,
    "start_time": "2022-07-24T18:26:09.647Z"
   },
   {
    "duration": 3,
    "start_time": "2022-07-24T18:26:09.666Z"
   },
   {
    "duration": 29,
    "start_time": "2022-07-24T18:26:09.671Z"
   },
   {
    "duration": 77,
    "start_time": "2022-07-24T18:26:09.701Z"
   },
   {
    "duration": 2056,
    "start_time": "2022-07-24T18:26:09.779Z"
   },
   {
    "duration": 12,
    "start_time": "2022-07-24T18:26:11.847Z"
   },
   {
    "duration": 1205,
    "start_time": "2022-07-24T18:26:11.861Z"
   },
   {
    "duration": 4,
    "start_time": "2022-07-24T18:26:13.069Z"
   },
   {
    "duration": 8,
    "start_time": "2022-07-24T18:26:13.074Z"
   },
   {
    "duration": 22,
    "start_time": "2022-07-24T18:26:13.084Z"
   },
   {
    "duration": 24,
    "start_time": "2022-07-24T18:26:13.108Z"
   },
   {
    "duration": 13,
    "start_time": "2022-07-24T18:26:13.140Z"
   },
   {
    "duration": 5,
    "start_time": "2022-07-24T18:26:13.155Z"
   },
   {
    "duration": 8,
    "start_time": "2022-07-24T18:26:13.162Z"
   },
   {
    "duration": 6,
    "start_time": "2022-07-24T18:26:13.172Z"
   },
   {
    "duration": 5,
    "start_time": "2022-07-24T18:26:13.179Z"
   },
   {
    "duration": 7,
    "start_time": "2022-07-24T18:26:13.186Z"
   },
   {
    "duration": 5,
    "start_time": "2022-07-24T18:26:13.194Z"
   },
   {
    "duration": 33,
    "start_time": "2022-07-24T18:26:13.201Z"
   },
   {
    "duration": 21,
    "start_time": "2022-07-24T18:26:13.237Z"
   },
   {
    "duration": 10,
    "start_time": "2022-07-24T18:26:13.260Z"
   },
   {
    "duration": 10,
    "start_time": "2022-07-24T18:26:13.271Z"
   },
   {
    "duration": 7,
    "start_time": "2022-07-24T18:26:13.283Z"
   },
   {
    "duration": 7,
    "start_time": "2022-07-24T18:26:13.291Z"
   },
   {
    "duration": 6,
    "start_time": "2022-07-24T18:26:13.300Z"
   },
   {
    "duration": 9,
    "start_time": "2022-07-24T18:26:13.307Z"
   },
   {
    "duration": 30,
    "start_time": "2022-07-24T18:26:13.318Z"
   },
   {
    "duration": 19,
    "start_time": "2022-07-24T18:26:13.350Z"
   },
   {
    "duration": 34,
    "start_time": "2022-07-24T18:26:13.371Z"
   },
   {
    "duration": 4,
    "start_time": "2022-07-24T18:26:13.407Z"
   },
   {
    "duration": 8294,
    "start_time": "2022-07-24T18:26:13.412Z"
   },
   {
    "duration": 17,
    "start_time": "2022-07-24T18:26:21.708Z"
   },
   {
    "duration": 17,
    "start_time": "2022-07-24T18:26:21.732Z"
   },
   {
    "duration": 29,
    "start_time": "2022-07-24T18:26:21.752Z"
   },
   {
    "duration": 4,
    "start_time": "2022-07-24T18:26:46.052Z"
   },
   {
    "duration": 3,
    "start_time": "2022-07-24T18:26:48.190Z"
   },
   {
    "duration": 4,
    "start_time": "2022-07-24T18:26:48.412Z"
   },
   {
    "duration": 4,
    "start_time": "2022-07-24T18:30:17.742Z"
   },
   {
    "duration": 5,
    "start_time": "2022-07-24T18:30:42.198Z"
   },
   {
    "duration": 1416,
    "start_time": "2022-07-25T08:50:29.220Z"
   },
   {
    "duration": 157,
    "start_time": "2022-07-25T08:50:30.639Z"
   },
   {
    "duration": 17,
    "start_time": "2022-07-25T08:50:30.798Z"
   },
   {
    "duration": 7,
    "start_time": "2022-07-25T08:50:30.817Z"
   },
   {
    "duration": 54,
    "start_time": "2022-07-25T08:50:30.827Z"
   },
   {
    "duration": 104,
    "start_time": "2022-07-25T08:50:30.883Z"
   },
   {
    "duration": 2054,
    "start_time": "2022-07-25T08:50:30.989Z"
   },
   {
    "duration": 9,
    "start_time": "2022-07-25T08:50:33.045Z"
   },
   {
    "duration": 1135,
    "start_time": "2022-07-25T08:50:33.055Z"
   },
   {
    "duration": 4,
    "start_time": "2022-07-25T08:50:34.192Z"
   },
   {
    "duration": 12,
    "start_time": "2022-07-25T08:50:34.198Z"
   },
   {
    "duration": 42,
    "start_time": "2022-07-25T08:50:34.212Z"
   },
   {
    "duration": 31,
    "start_time": "2022-07-25T08:50:34.256Z"
   },
   {
    "duration": 8,
    "start_time": "2022-07-25T08:50:34.290Z"
   },
   {
    "duration": 14,
    "start_time": "2022-07-25T08:50:34.302Z"
   },
   {
    "duration": 6,
    "start_time": "2022-07-25T08:50:34.318Z"
   },
   {
    "duration": 6,
    "start_time": "2022-07-25T08:50:34.326Z"
   },
   {
    "duration": 8,
    "start_time": "2022-07-25T08:50:34.333Z"
   },
   {
    "duration": 12,
    "start_time": "2022-07-25T08:50:34.342Z"
   },
   {
    "duration": 18,
    "start_time": "2022-07-25T08:50:34.355Z"
   },
   {
    "duration": 14,
    "start_time": "2022-07-25T08:50:34.374Z"
   },
   {
    "duration": 7,
    "start_time": "2022-07-25T08:50:34.390Z"
   },
   {
    "duration": 10,
    "start_time": "2022-07-25T08:50:34.399Z"
   },
   {
    "duration": 13,
    "start_time": "2022-07-25T08:50:34.411Z"
   },
   {
    "duration": 8,
    "start_time": "2022-07-25T08:50:34.426Z"
   },
   {
    "duration": 8,
    "start_time": "2022-07-25T08:50:34.435Z"
   },
   {
    "duration": 9,
    "start_time": "2022-07-25T08:50:34.444Z"
   },
   {
    "duration": 29,
    "start_time": "2022-07-25T08:50:34.454Z"
   },
   {
    "duration": 8,
    "start_time": "2022-07-25T08:50:34.484Z"
   },
   {
    "duration": 9,
    "start_time": "2022-07-25T08:50:34.494Z"
   },
   {
    "duration": 32,
    "start_time": "2022-07-25T08:50:34.505Z"
   },
   {
    "duration": 16,
    "start_time": "2022-07-25T08:50:34.539Z"
   },
   {
    "duration": 7998,
    "start_time": "2022-07-25T08:50:34.557Z"
   },
   {
    "duration": 9,
    "start_time": "2022-07-25T08:50:42.557Z"
   },
   {
    "duration": 18,
    "start_time": "2022-07-25T08:50:42.568Z"
   },
   {
    "duration": 30,
    "start_time": "2022-07-25T08:50:42.588Z"
   },
   {
    "duration": 5,
    "start_time": "2022-07-25T08:50:46.506Z"
   },
   {
    "duration": 6,
    "start_time": "2022-07-25T08:50:47.973Z"
   },
   {
    "duration": 3,
    "start_time": "2022-07-25T08:50:49.992Z"
   },
   {
    "duration": 5,
    "start_time": "2022-07-25T08:55:49.184Z"
   },
   {
    "duration": 6,
    "start_time": "2022-07-25T08:55:50.119Z"
   },
   {
    "duration": 6,
    "start_time": "2022-07-25T08:56:31.977Z"
   },
   {
    "duration": 6,
    "start_time": "2022-07-25T08:56:32.926Z"
   },
   {
    "duration": 7,
    "start_time": "2022-07-25T09:00:39.969Z"
   },
   {
    "duration": 8,
    "start_time": "2022-07-25T09:00:41.965Z"
   },
   {
    "duration": 1065,
    "start_time": "2022-07-25T09:01:03.374Z"
   },
   {
    "duration": 81,
    "start_time": "2022-07-25T09:01:04.441Z"
   },
   {
    "duration": 13,
    "start_time": "2022-07-25T09:01:04.524Z"
   },
   {
    "duration": 3,
    "start_time": "2022-07-25T09:01:04.539Z"
   },
   {
    "duration": 29,
    "start_time": "2022-07-25T09:01:04.543Z"
   },
   {
    "duration": 85,
    "start_time": "2022-07-25T09:01:04.574Z"
   },
   {
    "duration": 1899,
    "start_time": "2022-07-25T09:01:04.660Z"
   },
   {
    "duration": 9,
    "start_time": "2022-07-25T09:01:06.561Z"
   },
   {
    "duration": 1059,
    "start_time": "2022-07-25T09:01:06.572Z"
   },
   {
    "duration": 5,
    "start_time": "2022-07-25T09:01:07.634Z"
   },
   {
    "duration": 16,
    "start_time": "2022-07-25T09:01:07.640Z"
   },
   {
    "duration": 24,
    "start_time": "2022-07-25T09:01:07.657Z"
   },
   {
    "duration": 4,
    "start_time": "2022-07-25T09:01:07.683Z"
   },
   {
    "duration": 6,
    "start_time": "2022-07-25T09:01:07.688Z"
   },
   {
    "duration": 6,
    "start_time": "2022-07-25T09:01:07.696Z"
   },
   {
    "duration": 6,
    "start_time": "2022-07-25T09:01:07.704Z"
   },
   {
    "duration": 11,
    "start_time": "2022-07-25T09:01:07.711Z"
   },
   {
    "duration": 28,
    "start_time": "2022-07-25T09:01:07.724Z"
   },
   {
    "duration": 12,
    "start_time": "2022-07-25T09:01:07.754Z"
   },
   {
    "duration": 9,
    "start_time": "2022-07-25T09:01:07.768Z"
   },
   {
    "duration": 9,
    "start_time": "2022-07-25T09:01:07.778Z"
   },
   {
    "duration": 6,
    "start_time": "2022-07-25T09:01:07.789Z"
   },
   {
    "duration": 8,
    "start_time": "2022-07-25T09:01:07.797Z"
   },
   {
    "duration": 15,
    "start_time": "2022-07-25T09:01:07.806Z"
   },
   {
    "duration": 31,
    "start_time": "2022-07-25T09:01:07.822Z"
   },
   {
    "duration": 8,
    "start_time": "2022-07-25T09:01:07.855Z"
   },
   {
    "duration": 5,
    "start_time": "2022-07-25T09:01:07.865Z"
   },
   {
    "duration": 4,
    "start_time": "2022-07-25T09:01:07.874Z"
   },
   {
    "duration": 14,
    "start_time": "2022-07-25T09:01:07.880Z"
   },
   {
    "duration": 10,
    "start_time": "2022-07-25T09:01:07.896Z"
   },
   {
    "duration": 58,
    "start_time": "2022-07-25T09:01:07.907Z"
   },
   {
    "duration": 5,
    "start_time": "2022-07-25T09:01:07.966Z"
   },
   {
    "duration": 8129,
    "start_time": "2022-07-25T09:01:07.973Z"
   },
   {
    "duration": 10,
    "start_time": "2022-07-25T09:01:16.104Z"
   },
   {
    "duration": 15,
    "start_time": "2022-07-25T09:01:16.116Z"
   },
   {
    "duration": 40,
    "start_time": "2022-07-25T09:01:16.132Z"
   },
   {
    "duration": 4,
    "start_time": "2022-07-25T09:01:40.780Z"
   },
   {
    "duration": 5,
    "start_time": "2022-07-25T09:04:16.463Z"
   },
   {
    "duration": 4,
    "start_time": "2022-07-25T09:04:44.544Z"
   },
   {
    "duration": 1575,
    "start_time": "2022-07-25T09:07:18.625Z"
   },
   {
    "duration": 9,
    "start_time": "2022-07-25T09:07:49.699Z"
   },
   {
    "duration": 2968,
    "start_time": "2022-07-25T09:08:16.151Z"
   },
   {
    "duration": 3,
    "start_time": "2022-07-25T09:08:30.460Z"
   },
   {
    "duration": 1058,
    "start_time": "2022-07-25T09:08:38.400Z"
   },
   {
    "duration": 83,
    "start_time": "2022-07-25T09:08:39.460Z"
   },
   {
    "duration": 16,
    "start_time": "2022-07-25T09:08:39.544Z"
   },
   {
    "duration": 3,
    "start_time": "2022-07-25T09:08:39.562Z"
   },
   {
    "duration": 26,
    "start_time": "2022-07-25T09:08:39.566Z"
   },
   {
    "duration": 84,
    "start_time": "2022-07-25T09:08:39.593Z"
   },
   {
    "duration": 1832,
    "start_time": "2022-07-25T09:08:39.679Z"
   },
   {
    "duration": 9,
    "start_time": "2022-07-25T09:08:41.512Z"
   },
   {
    "duration": 1054,
    "start_time": "2022-07-25T09:08:41.522Z"
   },
   {
    "duration": 5,
    "start_time": "2022-07-25T09:08:42.580Z"
   },
   {
    "duration": 11,
    "start_time": "2022-07-25T09:08:42.586Z"
   },
   {
    "duration": 30,
    "start_time": "2022-07-25T09:08:42.598Z"
   },
   {
    "duration": 22,
    "start_time": "2022-07-25T09:08:42.630Z"
   },
   {
    "duration": 10,
    "start_time": "2022-07-25T09:08:42.661Z"
   },
   {
    "duration": 28,
    "start_time": "2022-07-25T09:08:42.673Z"
   },
   {
    "duration": 11,
    "start_time": "2022-07-25T09:08:42.703Z"
   },
   {
    "duration": 10,
    "start_time": "2022-07-25T09:08:42.716Z"
   },
   {
    "duration": 9,
    "start_time": "2022-07-25T09:08:42.728Z"
   },
   {
    "duration": 16,
    "start_time": "2022-07-25T09:08:42.739Z"
   },
   {
    "duration": 12,
    "start_time": "2022-07-25T09:08:42.757Z"
   },
   {
    "duration": 9,
    "start_time": "2022-07-25T09:08:42.771Z"
   },
   {
    "duration": 3164,
    "start_time": "2022-07-25T09:08:42.782Z"
   },
   {
    "duration": 5,
    "start_time": "2022-07-25T09:08:45.947Z"
   },
   {
    "duration": 29,
    "start_time": "2022-07-25T09:08:45.954Z"
   },
   {
    "duration": 31,
    "start_time": "2022-07-25T09:08:45.984Z"
   },
   {
    "duration": 53,
    "start_time": "2022-07-25T09:08:46.017Z"
   },
   {
    "duration": 15,
    "start_time": "2022-07-25T09:08:46.072Z"
   },
   {
    "duration": 8,
    "start_time": "2022-07-25T09:08:46.091Z"
   },
   {
    "duration": 5,
    "start_time": "2022-07-25T09:08:46.101Z"
   },
   {
    "duration": 11,
    "start_time": "2022-07-25T09:08:46.107Z"
   },
   {
    "duration": 21,
    "start_time": "2022-07-25T09:08:46.120Z"
   },
   {
    "duration": 50,
    "start_time": "2022-07-25T09:08:46.144Z"
   },
   {
    "duration": 5,
    "start_time": "2022-07-25T09:08:46.196Z"
   },
   {
    "duration": 9450,
    "start_time": "2022-07-25T09:08:46.203Z"
   },
   {
    "duration": 9,
    "start_time": "2022-07-25T09:08:55.654Z"
   },
   {
    "duration": 13,
    "start_time": "2022-07-25T09:08:55.665Z"
   },
   {
    "duration": 21,
    "start_time": "2022-07-25T09:08:55.680Z"
   },
   {
    "duration": 7,
    "start_time": "2022-07-25T09:09:45.201Z"
   },
   {
    "duration": 32,
    "start_time": "2022-07-25T09:10:45.853Z"
   },
   {
    "duration": 6,
    "start_time": "2022-07-25T09:12:00.682Z"
   },
   {
    "duration": 8,
    "start_time": "2022-07-25T09:12:41.260Z"
   },
   {
    "duration": 107,
    "start_time": "2022-07-25T09:15:15.050Z"
   },
   {
    "duration": 13,
    "start_time": "2022-07-25T09:16:13.575Z"
   },
   {
    "duration": 5,
    "start_time": "2022-07-25T09:16:40.062Z"
   },
   {
    "duration": 2622,
    "start_time": "2022-07-25T09:18:11.909Z"
   },
   {
    "duration": 6,
    "start_time": "2022-07-25T09:18:22.412Z"
   },
   {
    "duration": 3432,
    "start_time": "2022-07-25T09:18:48.300Z"
   },
   {
    "duration": 3252,
    "start_time": "2022-07-25T09:18:54.809Z"
   },
   {
    "duration": 2,
    "start_time": "2022-07-25T09:18:58.063Z"
   },
   {
    "duration": 7,
    "start_time": "2022-07-25T09:18:58.067Z"
   },
   {
    "duration": 19,
    "start_time": "2022-07-25T09:19:54.657Z"
   },
   {
    "duration": 3,
    "start_time": "2022-07-25T09:19:54.954Z"
   },
   {
    "duration": 91,
    "start_time": "2022-07-25T09:21:19.995Z"
   },
   {
    "duration": 17,
    "start_time": "2022-07-25T09:21:43.328Z"
   },
   {
    "duration": 13,
    "start_time": "2022-07-25T09:22:13.634Z"
   },
   {
    "duration": 5,
    "start_time": "2022-07-25T09:24:44.938Z"
   },
   {
    "duration": 5,
    "start_time": "2022-07-25T09:24:57.121Z"
   },
   {
    "duration": 12,
    "start_time": "2022-07-25T09:25:46.075Z"
   },
   {
    "duration": 4,
    "start_time": "2022-07-25T09:25:57.223Z"
   },
   {
    "duration": 6,
    "start_time": "2022-07-25T09:28:03.801Z"
   },
   {
    "duration": 7,
    "start_time": "2022-07-25T09:28:16.529Z"
   },
   {
    "duration": 6,
    "start_time": "2022-07-25T09:33:09.782Z"
   },
   {
    "duration": 6,
    "start_time": "2022-07-25T09:33:10.142Z"
   },
   {
    "duration": 4,
    "start_time": "2022-07-25T09:33:23.516Z"
   },
   {
    "duration": 6,
    "start_time": "2022-07-25T09:33:23.918Z"
   },
   {
    "duration": 6,
    "start_time": "2022-07-25T09:33:25.120Z"
   },
   {
    "duration": 5,
    "start_time": "2022-07-25T09:33:25.501Z"
   },
   {
    "duration": 28,
    "start_time": "2022-07-25T09:36:16.389Z"
   },
   {
    "duration": 5,
    "start_time": "2022-07-25T09:36:53.739Z"
   },
   {
    "duration": 4,
    "start_time": "2022-07-25T09:37:28.806Z"
   },
   {
    "duration": 6,
    "start_time": "2022-07-25T09:37:35.366Z"
   },
   {
    "duration": 8,
    "start_time": "2022-07-25T09:40:02.868Z"
   },
   {
    "duration": 12,
    "start_time": "2022-07-25T09:40:08.993Z"
   },
   {
    "duration": 10,
    "start_time": "2022-07-25T09:40:19.684Z"
   },
   {
    "duration": 15,
    "start_time": "2022-07-25T09:40:48.321Z"
   },
   {
    "duration": 10,
    "start_time": "2022-07-25T09:41:02.224Z"
   },
   {
    "duration": 14,
    "start_time": "2022-07-25T09:42:14.027Z"
   },
   {
    "duration": 15,
    "start_time": "2022-07-25T09:42:20.675Z"
   },
   {
    "duration": 12,
    "start_time": "2022-07-25T09:42:34.437Z"
   },
   {
    "duration": 12,
    "start_time": "2022-07-25T09:42:40.798Z"
   },
   {
    "duration": 13,
    "start_time": "2022-07-25T09:43:06.372Z"
   },
   {
    "duration": 17,
    "start_time": "2022-07-25T09:43:48.844Z"
   },
   {
    "duration": 3,
    "start_time": "2022-07-25T09:46:59.104Z"
   },
   {
    "duration": 13,
    "start_time": "2022-07-25T12:56:44.794Z"
   },
   {
    "duration": 1091,
    "start_time": "2022-07-25T12:57:03.115Z"
   },
   {
    "duration": 93,
    "start_time": "2022-07-25T12:57:04.208Z"
   },
   {
    "duration": 15,
    "start_time": "2022-07-25T12:57:04.303Z"
   },
   {
    "duration": 3,
    "start_time": "2022-07-25T12:57:04.320Z"
   },
   {
    "duration": 43,
    "start_time": "2022-07-25T12:57:04.325Z"
   },
   {
    "duration": 82,
    "start_time": "2022-07-25T12:57:04.375Z"
   },
   {
    "duration": 2183,
    "start_time": "2022-07-25T12:57:04.460Z"
   },
   {
    "duration": 11,
    "start_time": "2022-07-25T12:57:06.644Z"
   },
   {
    "duration": 1163,
    "start_time": "2022-07-25T12:57:06.657Z"
   },
   {
    "duration": 4,
    "start_time": "2022-07-25T12:57:07.822Z"
   },
   {
    "duration": 13,
    "start_time": "2022-07-25T12:57:07.828Z"
   },
   {
    "duration": 45,
    "start_time": "2022-07-25T12:57:07.843Z"
   },
   {
    "duration": 4,
    "start_time": "2022-07-25T12:57:07.890Z"
   },
   {
    "duration": 13,
    "start_time": "2022-07-25T12:57:07.895Z"
   },
   {
    "duration": 29,
    "start_time": "2022-07-25T12:57:07.910Z"
   },
   {
    "duration": 16,
    "start_time": "2022-07-25T12:57:07.940Z"
   },
   {
    "duration": 11,
    "start_time": "2022-07-25T12:57:07.960Z"
   },
   {
    "duration": 16,
    "start_time": "2022-07-25T12:57:07.974Z"
   },
   {
    "duration": 18,
    "start_time": "2022-07-25T12:57:07.991Z"
   },
   {
    "duration": 10,
    "start_time": "2022-07-25T12:57:08.011Z"
   },
   {
    "duration": 23,
    "start_time": "2022-07-25T12:57:08.023Z"
   },
   {
    "duration": 3226,
    "start_time": "2022-07-25T12:57:08.048Z"
   },
   {
    "duration": 5,
    "start_time": "2022-07-25T12:57:11.276Z"
   },
   {
    "duration": 26,
    "start_time": "2022-07-25T12:57:11.282Z"
   },
   {
    "duration": 13,
    "start_time": "2022-07-25T12:57:11.309Z"
   },
   {
    "duration": 17,
    "start_time": "2022-07-25T12:57:11.323Z"
   },
   {
    "duration": 37,
    "start_time": "2022-07-25T12:57:11.341Z"
   },
   {
    "duration": 42,
    "start_time": "2022-07-25T12:57:11.381Z"
   },
   {
    "duration": 4,
    "start_time": "2022-07-25T12:57:11.425Z"
   },
   {
    "duration": 17,
    "start_time": "2022-07-25T12:57:11.431Z"
   },
   {
    "duration": 22,
    "start_time": "2022-07-25T12:57:11.449Z"
   },
   {
    "duration": 22,
    "start_time": "2022-07-25T12:57:11.473Z"
   },
   {
    "duration": 25,
    "start_time": "2022-07-25T12:57:11.497Z"
   },
   {
    "duration": 27,
    "start_time": "2022-07-25T12:57:11.524Z"
   },
   {
    "duration": 22,
    "start_time": "2022-07-25T12:57:11.553Z"
   },
   {
    "duration": 21,
    "start_time": "2022-07-25T12:57:11.579Z"
   },
   {
    "duration": 10,
    "start_time": "2022-07-25T12:57:11.602Z"
   },
   {
    "duration": 58,
    "start_time": "2022-07-25T12:57:11.617Z"
   },
   {
    "duration": 4,
    "start_time": "2022-07-25T12:57:11.676Z"
   },
   {
    "duration": 15,
    "start_time": "2022-07-25T12:57:11.682Z"
   },
   {
    "duration": 132,
    "start_time": "2022-07-25T12:57:11.698Z"
   },
   {
    "duration": 0,
    "start_time": "2022-07-25T12:57:11.833Z"
   },
   {
    "duration": 0,
    "start_time": "2022-07-25T12:57:11.834Z"
   },
   {
    "duration": 0,
    "start_time": "2022-07-25T12:57:11.836Z"
   },
   {
    "duration": 17,
    "start_time": "2022-07-25T12:57:46.613Z"
   },
   {
    "duration": 21,
    "start_time": "2022-07-25T12:58:38.369Z"
   },
   {
    "duration": 19,
    "start_time": "2022-07-25T12:58:45.669Z"
   },
   {
    "duration": 9688,
    "start_time": "2022-07-25T12:59:46.806Z"
   },
   {
    "duration": 71,
    "start_time": "2022-07-25T13:02:33.586Z"
   },
   {
    "duration": 8011,
    "start_time": "2022-07-25T13:02:41.589Z"
   },
   {
    "duration": 4,
    "start_time": "2022-07-26T10:44:37.658Z"
   },
   {
    "duration": 1259,
    "start_time": "2022-07-26T10:44:42.217Z"
   },
   {
    "duration": 153,
    "start_time": "2022-07-26T10:44:43.478Z"
   },
   {
    "duration": 17,
    "start_time": "2022-07-26T10:44:43.633Z"
   },
   {
    "duration": 5,
    "start_time": "2022-07-26T10:44:43.653Z"
   },
   {
    "duration": 25,
    "start_time": "2022-07-26T10:44:43.660Z"
   },
   {
    "duration": 84,
    "start_time": "2022-07-26T10:44:43.686Z"
   },
   {
    "duration": 1807,
    "start_time": "2022-07-26T10:44:43.771Z"
   },
   {
    "duration": 9,
    "start_time": "2022-07-26T10:44:45.579Z"
   },
   {
    "duration": 1070,
    "start_time": "2022-07-26T10:44:45.589Z"
   },
   {
    "duration": 4,
    "start_time": "2022-07-26T10:44:46.661Z"
   },
   {
    "duration": 7,
    "start_time": "2022-07-26T10:44:46.667Z"
   },
   {
    "duration": 21,
    "start_time": "2022-07-26T10:44:46.675Z"
   },
   {
    "duration": 5,
    "start_time": "2022-07-26T10:44:46.698Z"
   },
   {
    "duration": 6,
    "start_time": "2022-07-26T10:44:46.732Z"
   },
   {
    "duration": 22,
    "start_time": "2022-07-26T10:44:46.740Z"
   },
   {
    "duration": 19,
    "start_time": "2022-07-26T10:44:46.763Z"
   },
   {
    "duration": 19,
    "start_time": "2022-07-26T10:44:46.784Z"
   },
   {
    "duration": 16,
    "start_time": "2022-07-26T10:44:46.805Z"
   },
   {
    "duration": 9,
    "start_time": "2022-07-26T10:44:46.822Z"
   },
   {
    "duration": 21,
    "start_time": "2022-07-26T10:44:46.832Z"
   },
   {
    "duration": 15,
    "start_time": "2022-07-26T10:44:46.855Z"
   },
   {
    "duration": 2851,
    "start_time": "2022-07-26T10:44:46.871Z"
   },
   {
    "duration": 8,
    "start_time": "2022-07-26T10:44:49.723Z"
   },
   {
    "duration": 18,
    "start_time": "2022-07-26T10:44:49.732Z"
   },
   {
    "duration": 9,
    "start_time": "2022-07-26T10:44:49.751Z"
   },
   {
    "duration": 6,
    "start_time": "2022-07-26T10:44:49.761Z"
   },
   {
    "duration": 5,
    "start_time": "2022-07-26T10:44:49.768Z"
   },
   {
    "duration": 27,
    "start_time": "2022-07-26T10:44:49.776Z"
   },
   {
    "duration": 5,
    "start_time": "2022-07-26T10:44:49.804Z"
   },
   {
    "duration": 20,
    "start_time": "2022-07-26T10:44:49.811Z"
   },
   {
    "duration": 5,
    "start_time": "2022-07-26T10:44:49.832Z"
   },
   {
    "duration": 19,
    "start_time": "2022-07-26T10:44:49.838Z"
   },
   {
    "duration": 8,
    "start_time": "2022-07-26T10:44:49.858Z"
   },
   {
    "duration": 5,
    "start_time": "2022-07-26T10:44:49.868Z"
   },
   {
    "duration": 9,
    "start_time": "2022-07-26T10:44:49.874Z"
   },
   {
    "duration": 6,
    "start_time": "2022-07-26T10:44:49.884Z"
   },
   {
    "duration": 17,
    "start_time": "2022-07-26T10:44:49.892Z"
   },
   {
    "duration": 49,
    "start_time": "2022-07-26T10:44:49.911Z"
   },
   {
    "duration": 5,
    "start_time": "2022-07-26T10:44:49.962Z"
   },
   {
    "duration": 3,
    "start_time": "2022-07-26T10:44:49.970Z"
   },
   {
    "duration": 8310,
    "start_time": "2022-07-26T10:44:49.974Z"
   },
   {
    "duration": 76,
    "start_time": "2022-07-26T10:44:58.286Z"
   },
   {
    "duration": 0,
    "start_time": "2022-07-26T10:44:58.363Z"
   },
   {
    "duration": 0,
    "start_time": "2022-07-26T10:44:58.364Z"
   },
   {
    "duration": 0,
    "start_time": "2022-07-26T10:44:58.365Z"
   },
   {
    "duration": 4,
    "start_time": "2022-07-26T10:45:02.246Z"
   },
   {
    "duration": 95,
    "start_time": "2022-07-26T10:46:35.867Z"
   },
   {
    "duration": 4,
    "start_time": "2022-07-26T10:46:48.270Z"
   },
   {
    "duration": 9,
    "start_time": "2022-07-26T10:47:01.352Z"
   },
   {
    "duration": 8,
    "start_time": "2022-07-26T10:47:10.868Z"
   },
   {
    "duration": 25,
    "start_time": "2022-07-26T10:47:21.218Z"
   },
   {
    "duration": 29,
    "start_time": "2022-07-26T10:47:28.852Z"
   },
   {
    "duration": 4,
    "start_time": "2022-07-26T10:48:40.417Z"
   },
   {
    "duration": 1825,
    "start_time": "2022-07-26T10:48:47.894Z"
   },
   {
    "duration": 8,
    "start_time": "2022-07-26T10:49:00.028Z"
   },
   {
    "duration": 3,
    "start_time": "2022-07-26T10:50:58.752Z"
   },
   {
    "duration": 379,
    "start_time": "2022-07-26T10:50:59.149Z"
   },
   {
    "duration": 4,
    "start_time": "2022-07-26T10:50:59.649Z"
   },
   {
    "duration": 37,
    "start_time": "2022-07-26T10:51:35.408Z"
   },
   {
    "duration": 4,
    "start_time": "2022-07-26T10:52:06.744Z"
   },
   {
    "duration": 378,
    "start_time": "2022-07-26T10:52:07.196Z"
   },
   {
    "duration": 4,
    "start_time": "2022-07-26T10:52:08.377Z"
   },
   {
    "duration": 3,
    "start_time": "2022-07-26T10:52:22.153Z"
   },
   {
    "duration": 377,
    "start_time": "2022-07-26T10:52:22.662Z"
   },
   {
    "duration": 4,
    "start_time": "2022-07-26T10:52:23.786Z"
   },
   {
    "duration": 26,
    "start_time": "2022-07-26T10:52:28.762Z"
   },
   {
    "duration": 28,
    "start_time": "2022-07-26T10:53:47.584Z"
   },
   {
    "duration": 4,
    "start_time": "2022-07-26T10:53:56.901Z"
   },
   {
    "duration": 5,
    "start_time": "2022-07-26T10:54:56.310Z"
   },
   {
    "duration": 5,
    "start_time": "2022-07-26T10:54:58.200Z"
   },
   {
    "duration": 1145,
    "start_time": "2022-07-26T10:55:11.307Z"
   },
   {
    "duration": 91,
    "start_time": "2022-07-26T10:55:12.454Z"
   },
   {
    "duration": 15,
    "start_time": "2022-07-26T10:55:12.547Z"
   },
   {
    "duration": 3,
    "start_time": "2022-07-26T10:55:12.563Z"
   },
   {
    "duration": 27,
    "start_time": "2022-07-26T10:55:12.567Z"
   },
   {
    "duration": 84,
    "start_time": "2022-07-26T10:55:12.595Z"
   },
   {
    "duration": 1868,
    "start_time": "2022-07-26T10:55:12.681Z"
   },
   {
    "duration": 8,
    "start_time": "2022-07-26T10:55:14.574Z"
   },
   {
    "duration": 1037,
    "start_time": "2022-07-26T10:55:14.583Z"
   },
   {
    "duration": 8,
    "start_time": "2022-07-26T10:55:15.623Z"
   },
   {
    "duration": 18,
    "start_time": "2022-07-26T10:55:15.632Z"
   },
   {
    "duration": 23,
    "start_time": "2022-07-26T10:55:15.651Z"
   },
   {
    "duration": 5,
    "start_time": "2022-07-26T10:55:15.676Z"
   },
   {
    "duration": 5,
    "start_time": "2022-07-26T10:55:15.682Z"
   },
   {
    "duration": 5,
    "start_time": "2022-07-26T10:55:15.689Z"
   },
   {
    "duration": 5,
    "start_time": "2022-07-26T10:55:15.695Z"
   },
   {
    "duration": 7,
    "start_time": "2022-07-26T10:55:15.701Z"
   },
   {
    "duration": 34,
    "start_time": "2022-07-26T10:55:15.709Z"
   },
   {
    "duration": 6,
    "start_time": "2022-07-26T10:55:15.745Z"
   },
   {
    "duration": 6,
    "start_time": "2022-07-26T10:55:15.752Z"
   },
   {
    "duration": 5,
    "start_time": "2022-07-26T10:55:15.759Z"
   },
   {
    "duration": 2881,
    "start_time": "2022-07-26T10:55:15.765Z"
   },
   {
    "duration": 2,
    "start_time": "2022-07-26T10:55:18.647Z"
   },
   {
    "duration": 12,
    "start_time": "2022-07-26T10:55:18.651Z"
   },
   {
    "duration": 5,
    "start_time": "2022-07-26T10:55:18.664Z"
   },
   {
    "duration": 2775,
    "start_time": "2022-07-26T10:55:18.670Z"
   },
   {
    "duration": 4,
    "start_time": "2022-07-26T10:55:21.446Z"
   },
   {
    "duration": 31,
    "start_time": "2022-07-26T10:55:21.453Z"
   },
   {
    "duration": 26,
    "start_time": "2022-07-26T10:55:21.485Z"
   },
   {
    "duration": 32,
    "start_time": "2022-07-26T10:55:21.513Z"
   },
   {
    "duration": 4,
    "start_time": "2022-07-26T10:55:21.547Z"
   },
   {
    "duration": 8,
    "start_time": "2022-07-26T10:55:21.553Z"
   },
   {
    "duration": 7,
    "start_time": "2022-07-26T10:55:21.562Z"
   },
   {
    "duration": 9,
    "start_time": "2022-07-26T10:55:21.570Z"
   },
   {
    "duration": 10,
    "start_time": "2022-07-26T10:55:21.580Z"
   },
   {
    "duration": 30,
    "start_time": "2022-07-26T10:55:21.592Z"
   },
   {
    "duration": 4,
    "start_time": "2022-07-26T10:55:21.624Z"
   },
   {
    "duration": 4,
    "start_time": "2022-07-26T10:55:21.642Z"
   },
   {
    "duration": 6,
    "start_time": "2022-07-26T10:55:21.647Z"
   },
   {
    "duration": 8,
    "start_time": "2022-07-26T10:55:21.654Z"
   },
   {
    "duration": 9,
    "start_time": "2022-07-26T10:55:21.664Z"
   },
   {
    "duration": 4,
    "start_time": "2022-07-26T10:55:21.674Z"
   },
   {
    "duration": 4,
    "start_time": "2022-07-26T10:55:21.679Z"
   },
   {
    "duration": 5,
    "start_time": "2022-07-26T10:55:21.685Z"
   },
   {
    "duration": 9,
    "start_time": "2022-07-26T10:55:21.691Z"
   },
   {
    "duration": 56,
    "start_time": "2022-07-26T10:55:21.701Z"
   },
   {
    "duration": 4,
    "start_time": "2022-07-26T10:55:21.758Z"
   },
   {
    "duration": 5,
    "start_time": "2022-07-26T10:55:21.763Z"
   },
   {
    "duration": 8244,
    "start_time": "2022-07-26T10:55:21.769Z"
   },
   {
    "duration": 101,
    "start_time": "2022-07-26T10:55:30.014Z"
   },
   {
    "duration": 0,
    "start_time": "2022-07-26T10:55:30.117Z"
   },
   {
    "duration": 0,
    "start_time": "2022-07-26T10:55:30.117Z"
   },
   {
    "duration": 0,
    "start_time": "2022-07-26T10:55:30.118Z"
   },
   {
    "duration": 94,
    "start_time": "2022-07-26T10:57:30.274Z"
   },
   {
    "duration": 20,
    "start_time": "2022-07-26T10:57:36.941Z"
   },
   {
    "duration": 64,
    "start_time": "2022-07-26T10:58:27.006Z"
   },
   {
    "duration": 46,
    "start_time": "2022-07-26T10:58:33.944Z"
   },
   {
    "duration": 4,
    "start_time": "2022-07-26T11:00:45.070Z"
   },
   {
    "duration": 11,
    "start_time": "2022-07-26T11:03:13.465Z"
   },
   {
    "duration": 11,
    "start_time": "2022-07-26T11:03:55.085Z"
   },
   {
    "duration": 9,
    "start_time": "2022-07-26T11:04:18.242Z"
   },
   {
    "duration": 2,
    "start_time": "2022-07-26T11:05:41.057Z"
   },
   {
    "duration": 9,
    "start_time": "2022-07-26T11:05:42.942Z"
   },
   {
    "duration": 10,
    "start_time": "2022-07-26T11:06:06.994Z"
   },
   {
    "duration": 3,
    "start_time": "2022-07-26T11:06:07.764Z"
   },
   {
    "duration": 9,
    "start_time": "2022-07-26T11:06:08.294Z"
   },
   {
    "duration": 8,
    "start_time": "2022-07-26T11:08:02.856Z"
   },
   {
    "duration": 21,
    "start_time": "2022-07-26T11:08:04.191Z"
   },
   {
    "duration": 56,
    "start_time": "2022-07-26T11:13:18.330Z"
   },
   {
    "duration": 33,
    "start_time": "2022-07-26T11:13:34.808Z"
   },
   {
    "duration": 1269,
    "start_time": "2022-07-26T11:16:34.941Z"
   },
   {
    "duration": 4,
    "start_time": "2022-07-26T11:16:50.753Z"
   },
   {
    "duration": 7,
    "start_time": "2022-07-26T11:17:07.806Z"
   },
   {
    "duration": 4,
    "start_time": "2022-07-26T11:18:53.317Z"
   },
   {
    "duration": 8,
    "start_time": "2022-07-26T11:19:03.855Z"
   },
   {
    "duration": 36,
    "start_time": "2022-07-26T11:19:35.464Z"
   },
   {
    "duration": 45,
    "start_time": "2022-07-26T11:25:19.639Z"
   },
   {
    "duration": 35,
    "start_time": "2022-07-26T11:25:36.529Z"
   },
   {
    "duration": 11,
    "start_time": "2022-07-26T11:26:38.040Z"
   },
   {
    "duration": 13,
    "start_time": "2022-07-26T12:15:27.530Z"
   },
   {
    "duration": 56,
    "start_time": "2022-07-27T10:45:05.351Z"
   },
   {
    "duration": 1537,
    "start_time": "2022-07-27T10:45:11.201Z"
   },
   {
    "duration": 211,
    "start_time": "2022-07-27T10:45:12.741Z"
   },
   {
    "duration": 21,
    "start_time": "2022-07-27T10:45:12.954Z"
   },
   {
    "duration": 49,
    "start_time": "2022-07-27T10:45:12.977Z"
   },
   {
    "duration": 52,
    "start_time": "2022-07-27T10:45:13.028Z"
   },
   {
    "duration": 98,
    "start_time": "2022-07-27T10:45:13.082Z"
   },
   {
    "duration": 2420,
    "start_time": "2022-07-27T10:45:13.182Z"
   },
   {
    "duration": 13,
    "start_time": "2022-07-27T10:45:15.605Z"
   },
   {
    "duration": 1349,
    "start_time": "2022-07-27T10:45:15.620Z"
   },
   {
    "duration": 6,
    "start_time": "2022-07-27T10:45:16.973Z"
   },
   {
    "duration": 73,
    "start_time": "2022-07-27T10:45:16.981Z"
   },
   {
    "duration": 86,
    "start_time": "2022-07-27T10:45:17.056Z"
   },
   {
    "duration": 31,
    "start_time": "2022-07-27T10:45:17.145Z"
   },
   {
    "duration": 14,
    "start_time": "2022-07-27T10:45:17.179Z"
   },
   {
    "duration": 32,
    "start_time": "2022-07-27T10:45:17.195Z"
   },
   {
    "duration": 49,
    "start_time": "2022-07-27T10:45:17.229Z"
   },
   {
    "duration": 55,
    "start_time": "2022-07-27T10:45:17.281Z"
   },
   {
    "duration": 14,
    "start_time": "2022-07-27T10:45:17.338Z"
   },
   {
    "duration": 37,
    "start_time": "2022-07-27T10:45:17.354Z"
   },
   {
    "duration": 55,
    "start_time": "2022-07-27T10:45:17.394Z"
   },
   {
    "duration": 106,
    "start_time": "2022-07-27T10:45:17.452Z"
   },
   {
    "duration": 3749,
    "start_time": "2022-07-27T10:45:17.560Z"
   },
   {
    "duration": 6,
    "start_time": "2022-07-27T10:45:21.311Z"
   },
   {
    "duration": 39,
    "start_time": "2022-07-27T10:45:21.320Z"
   },
   {
    "duration": 80,
    "start_time": "2022-07-27T10:45:21.361Z"
   },
   {
    "duration": 3516,
    "start_time": "2022-07-27T10:45:21.443Z"
   },
   {
    "duration": 5,
    "start_time": "2022-07-27T10:45:24.961Z"
   },
   {
    "duration": 59,
    "start_time": "2022-07-27T10:45:24.970Z"
   },
   {
    "duration": 41,
    "start_time": "2022-07-27T10:45:25.032Z"
   },
   {
    "duration": 6,
    "start_time": "2022-07-27T10:45:25.074Z"
   },
   {
    "duration": 26,
    "start_time": "2022-07-27T10:45:25.081Z"
   },
   {
    "duration": 45,
    "start_time": "2022-07-27T10:45:25.109Z"
   },
   {
    "duration": 83,
    "start_time": "2022-07-27T10:45:25.157Z"
   },
   {
    "duration": 7,
    "start_time": "2022-07-27T10:45:25.242Z"
   },
   {
    "duration": 17,
    "start_time": "2022-07-27T10:45:25.251Z"
   },
   {
    "duration": 28,
    "start_time": "2022-07-27T10:45:25.270Z"
   },
   {
    "duration": 83,
    "start_time": "2022-07-27T10:45:25.300Z"
   },
   {
    "duration": 9,
    "start_time": "2022-07-27T10:45:25.387Z"
   },
   {
    "duration": 41,
    "start_time": "2022-07-27T10:45:25.398Z"
   },
   {
    "duration": 25,
    "start_time": "2022-07-27T10:45:25.441Z"
   },
   {
    "duration": 30,
    "start_time": "2022-07-27T10:45:25.468Z"
   },
   {
    "duration": 42,
    "start_time": "2022-07-27T10:45:25.500Z"
   },
   {
    "duration": 18,
    "start_time": "2022-07-27T10:45:25.544Z"
   },
   {
    "duration": 23,
    "start_time": "2022-07-27T10:45:25.564Z"
   },
   {
    "duration": 26,
    "start_time": "2022-07-27T10:45:25.589Z"
   },
   {
    "duration": 23,
    "start_time": "2022-07-27T10:45:25.617Z"
   },
   {
    "duration": 14,
    "start_time": "2022-07-27T10:45:25.642Z"
   },
   {
    "duration": 28,
    "start_time": "2022-07-27T10:45:25.658Z"
   },
   {
    "duration": 55,
    "start_time": "2022-07-27T10:45:25.689Z"
   },
   {
    "duration": 6,
    "start_time": "2022-07-27T10:45:25.746Z"
   },
   {
    "duration": 16,
    "start_time": "2022-07-27T10:45:25.754Z"
   },
   {
    "duration": 9486,
    "start_time": "2022-07-27T10:45:25.772Z"
   },
   {
    "duration": 14,
    "start_time": "2022-07-27T10:45:35.261Z"
   },
   {
    "duration": 7,
    "start_time": "2022-07-27T10:45:35.278Z"
   },
   {
    "duration": 26,
    "start_time": "2022-07-27T10:45:35.288Z"
   },
   {
    "duration": 43,
    "start_time": "2022-07-27T10:45:35.316Z"
   },
   {
    "duration": 44,
    "start_time": "2022-07-27T10:45:35.361Z"
   },
   {
    "duration": 25,
    "start_time": "2022-07-27T10:45:35.407Z"
   },
   {
    "duration": 131,
    "start_time": "2022-07-27T10:45:35.434Z"
   },
   {
    "duration": 69,
    "start_time": "2022-07-27T10:45:35.567Z"
   },
   {
    "duration": 39,
    "start_time": "2022-07-27T10:45:35.639Z"
   },
   {
    "duration": 93,
    "start_time": "2022-07-27T10:45:35.680Z"
   },
   {
    "duration": 75,
    "start_time": "2022-07-27T10:45:35.775Z"
   },
   {
    "duration": 54,
    "start_time": "2022-07-27T10:45:35.852Z"
   },
   {
    "duration": 8,
    "start_time": "2022-07-27T10:45:49.946Z"
   },
   {
    "duration": 28,
    "start_time": "2022-07-27T10:45:52.654Z"
   },
   {
    "duration": 17,
    "start_time": "2022-07-27T10:46:02.940Z"
   },
   {
    "duration": 55,
    "start_time": "2022-07-30T10:09:05.394Z"
   },
   {
    "duration": 2,
    "start_time": "2022-07-30T10:09:16.082Z"
   },
   {
    "duration": 2,
    "start_time": "2022-07-30T10:09:18.316Z"
   },
   {
    "duration": 78,
    "start_time": "2022-07-30T10:09:36.321Z"
   },
   {
    "duration": 1440,
    "start_time": "2022-07-30T10:09:44.530Z"
   },
   {
    "duration": 152,
    "start_time": "2022-07-30T10:09:45.972Z"
   },
   {
    "duration": 17,
    "start_time": "2022-07-30T10:09:46.125Z"
   },
   {
    "duration": 4,
    "start_time": "2022-07-30T10:09:46.144Z"
   },
   {
    "duration": 35,
    "start_time": "2022-07-30T10:09:46.150Z"
   },
   {
    "duration": 98,
    "start_time": "2022-07-30T10:09:46.187Z"
   },
   {
    "duration": 2131,
    "start_time": "2022-07-30T10:09:46.286Z"
   },
   {
    "duration": 10,
    "start_time": "2022-07-30T10:09:48.419Z"
   },
   {
    "duration": 1181,
    "start_time": "2022-07-30T10:09:48.430Z"
   },
   {
    "duration": 5,
    "start_time": "2022-07-30T10:09:49.614Z"
   },
   {
    "duration": 22,
    "start_time": "2022-07-30T10:09:49.621Z"
   },
   {
    "duration": 30,
    "start_time": "2022-07-30T10:09:49.645Z"
   },
   {
    "duration": 6,
    "start_time": "2022-07-30T10:09:49.676Z"
   },
   {
    "duration": 21,
    "start_time": "2022-07-30T10:09:49.685Z"
   },
   {
    "duration": 6,
    "start_time": "2022-07-30T10:09:49.708Z"
   },
   {
    "duration": 12,
    "start_time": "2022-07-30T10:09:49.716Z"
   },
   {
    "duration": 9,
    "start_time": "2022-07-30T10:09:49.730Z"
   },
   {
    "duration": 6,
    "start_time": "2022-07-30T10:09:49.741Z"
   },
   {
    "duration": 7,
    "start_time": "2022-07-30T10:09:49.749Z"
   },
   {
    "duration": 7,
    "start_time": "2022-07-30T10:09:49.757Z"
   },
   {
    "duration": 39,
    "start_time": "2022-07-30T10:09:49.766Z"
   },
   {
    "duration": 3267,
    "start_time": "2022-07-30T10:09:49.806Z"
   },
   {
    "duration": 2,
    "start_time": "2022-07-30T10:09:53.075Z"
   },
   {
    "duration": 10,
    "start_time": "2022-07-30T10:09:53.079Z"
   },
   {
    "duration": 18,
    "start_time": "2022-07-30T10:09:53.090Z"
   },
   {
    "duration": 3306,
    "start_time": "2022-07-30T10:09:53.110Z"
   },
   {
    "duration": 10,
    "start_time": "2022-07-30T10:09:56.418Z"
   },
   {
    "duration": 49,
    "start_time": "2022-07-30T10:09:56.434Z"
   },
   {
    "duration": 58,
    "start_time": "2022-07-30T10:09:56.485Z"
   },
   {
    "duration": 8,
    "start_time": "2022-07-30T10:09:56.545Z"
   },
   {
    "duration": 44,
    "start_time": "2022-07-30T10:09:56.555Z"
   },
   {
    "duration": 33,
    "start_time": "2022-07-30T10:09:56.601Z"
   },
   {
    "duration": 88,
    "start_time": "2022-07-30T10:09:56.636Z"
   },
   {
    "duration": 7,
    "start_time": "2022-07-30T10:09:56.726Z"
   },
   {
    "duration": 20,
    "start_time": "2022-07-30T10:09:56.735Z"
   },
   {
    "duration": 15,
    "start_time": "2022-07-30T10:09:56.757Z"
   },
   {
    "duration": 10,
    "start_time": "2022-07-30T10:09:56.774Z"
   },
   {
    "duration": 52,
    "start_time": "2022-07-30T10:09:56.787Z"
   },
   {
    "duration": 6,
    "start_time": "2022-07-30T10:09:56.842Z"
   },
   {
    "duration": 7,
    "start_time": "2022-07-30T10:09:56.849Z"
   },
   {
    "duration": 6,
    "start_time": "2022-07-30T10:09:56.857Z"
   },
   {
    "duration": 8,
    "start_time": "2022-07-30T10:09:56.865Z"
   },
   {
    "duration": 32,
    "start_time": "2022-07-30T10:09:56.874Z"
   },
   {
    "duration": 4,
    "start_time": "2022-07-30T10:09:56.908Z"
   },
   {
    "duration": 7,
    "start_time": "2022-07-30T10:09:56.914Z"
   },
   {
    "duration": 6,
    "start_time": "2022-07-30T10:09:56.923Z"
   },
   {
    "duration": 9,
    "start_time": "2022-07-30T10:09:56.930Z"
   },
   {
    "duration": 6,
    "start_time": "2022-07-30T10:09:56.941Z"
   },
   {
    "duration": 9,
    "start_time": "2022-07-30T10:09:56.948Z"
   },
   {
    "duration": 68,
    "start_time": "2022-07-30T10:09:56.959Z"
   },
   {
    "duration": 6,
    "start_time": "2022-07-30T10:09:57.029Z"
   },
   {
    "duration": 12,
    "start_time": "2022-07-30T10:09:57.037Z"
   },
   {
    "duration": 8534,
    "start_time": "2022-07-30T10:09:57.051Z"
   },
   {
    "duration": 20,
    "start_time": "2022-07-30T10:10:05.587Z"
   },
   {
    "duration": 3,
    "start_time": "2022-07-30T10:10:05.609Z"
   },
   {
    "duration": 12,
    "start_time": "2022-07-30T10:10:05.614Z"
   },
   {
    "duration": 25,
    "start_time": "2022-07-30T10:10:05.628Z"
   },
   {
    "duration": 55,
    "start_time": "2022-07-30T10:10:05.655Z"
   },
   {
    "duration": 5,
    "start_time": "2022-07-30T10:10:05.712Z"
   },
   {
    "duration": 40,
    "start_time": "2022-07-30T10:10:05.718Z"
   },
   {
    "duration": 44,
    "start_time": "2022-07-30T10:10:05.760Z"
   },
   {
    "duration": 8,
    "start_time": "2022-07-30T10:10:05.806Z"
   },
   {
    "duration": 9,
    "start_time": "2022-07-30T10:10:05.816Z"
   },
   {
    "duration": 32,
    "start_time": "2022-07-30T10:10:05.827Z"
   },
   {
    "duration": 16,
    "start_time": "2022-07-30T10:10:05.861Z"
   },
   {
    "duration": 31,
    "start_time": "2022-07-30T10:10:05.879Z"
   },
   {
    "duration": 780,
    "start_time": "2022-07-30T10:10:19.232Z"
   },
   {
    "duration": 683,
    "start_time": "2022-07-30T10:10:55.798Z"
   },
   {
    "duration": 36,
    "start_time": "2022-07-30T10:11:18.713Z"
   },
   {
    "duration": 8997,
    "start_time": "2022-07-30T10:17:49.504Z"
   },
   {
    "duration": 2,
    "start_time": "2022-07-30T10:18:45.137Z"
   },
   {
    "duration": 2,
    "start_time": "2022-07-30T10:19:00.971Z"
   },
   {
    "duration": 5,
    "start_time": "2022-07-30T10:19:18.526Z"
   },
   {
    "duration": 23,
    "start_time": "2022-07-30T10:21:11.498Z"
   },
   {
    "duration": 8745,
    "start_time": "2022-07-30T10:21:23.606Z"
   },
   {
    "duration": 72,
    "start_time": "2022-07-30T10:21:55.073Z"
   },
   {
    "duration": 3,
    "start_time": "2022-07-30T10:22:08.526Z"
   },
   {
    "duration": 77,
    "start_time": "2022-07-30T10:22:11.096Z"
   },
   {
    "duration": 7,
    "start_time": "2022-07-30T10:22:15.520Z"
   },
   {
    "duration": 71,
    "start_time": "2022-07-30T10:23:19.375Z"
   },
   {
    "duration": 9,
    "start_time": "2022-07-30T10:23:21.444Z"
   },
   {
    "duration": 1274,
    "start_time": "2022-07-30T10:26:16.475Z"
   },
   {
    "duration": 98,
    "start_time": "2022-07-30T10:26:17.751Z"
   },
   {
    "duration": 19,
    "start_time": "2022-07-30T10:26:17.850Z"
   },
   {
    "duration": 3,
    "start_time": "2022-07-30T10:26:17.871Z"
   },
   {
    "duration": 49,
    "start_time": "2022-07-30T10:26:17.876Z"
   },
   {
    "duration": 94,
    "start_time": "2022-07-30T10:26:17.927Z"
   },
   {
    "duration": 2015,
    "start_time": "2022-07-30T10:26:18.023Z"
   },
   {
    "duration": 9,
    "start_time": "2022-07-30T10:26:20.040Z"
   },
   {
    "duration": 1095,
    "start_time": "2022-07-30T10:26:20.051Z"
   },
   {
    "duration": 4,
    "start_time": "2022-07-30T10:26:21.149Z"
   },
   {
    "duration": 10,
    "start_time": "2022-07-30T10:26:21.155Z"
   },
   {
    "duration": 40,
    "start_time": "2022-07-30T10:26:21.166Z"
   },
   {
    "duration": 6,
    "start_time": "2022-07-30T10:26:21.208Z"
   },
   {
    "duration": 7,
    "start_time": "2022-07-30T10:26:21.215Z"
   },
   {
    "duration": 6,
    "start_time": "2022-07-30T10:26:21.224Z"
   },
   {
    "duration": 9,
    "start_time": "2022-07-30T10:26:21.232Z"
   },
   {
    "duration": 5,
    "start_time": "2022-07-30T10:26:21.243Z"
   },
   {
    "duration": 6,
    "start_time": "2022-07-30T10:26:21.250Z"
   },
   {
    "duration": 9,
    "start_time": "2022-07-30T10:26:21.257Z"
   },
   {
    "duration": 39,
    "start_time": "2022-07-30T10:26:21.268Z"
   },
   {
    "duration": 8,
    "start_time": "2022-07-30T10:26:21.308Z"
   },
   {
    "duration": 3272,
    "start_time": "2022-07-30T10:26:21.318Z"
   },
   {
    "duration": 3,
    "start_time": "2022-07-30T10:26:24.603Z"
   },
   {
    "duration": 7,
    "start_time": "2022-07-30T10:26:24.608Z"
   },
   {
    "duration": 10,
    "start_time": "2022-07-30T10:26:24.617Z"
   },
   {
    "duration": 3339,
    "start_time": "2022-07-30T10:26:24.629Z"
   },
   {
    "duration": 5,
    "start_time": "2022-07-30T10:26:27.969Z"
   },
   {
    "duration": 51,
    "start_time": "2022-07-30T10:26:27.978Z"
   },
   {
    "duration": 30,
    "start_time": "2022-07-30T10:26:28.031Z"
   },
   {
    "duration": 5,
    "start_time": "2022-07-30T10:26:28.062Z"
   },
   {
    "duration": 6,
    "start_time": "2022-07-30T10:26:28.069Z"
   },
   {
    "duration": 30,
    "start_time": "2022-07-30T10:26:28.077Z"
   },
   {
    "duration": 62,
    "start_time": "2022-07-30T10:26:28.109Z"
   },
   {
    "duration": 5,
    "start_time": "2022-07-30T10:26:28.173Z"
   },
   {
    "duration": 34,
    "start_time": "2022-07-30T10:26:28.180Z"
   },
   {
    "duration": 58,
    "start_time": "2022-07-30T10:26:28.216Z"
   },
   {
    "duration": 47,
    "start_time": "2022-07-30T10:26:28.276Z"
   },
   {
    "duration": 79,
    "start_time": "2022-07-30T10:26:28.325Z"
   },
   {
    "duration": 10,
    "start_time": "2022-07-30T10:26:28.406Z"
   },
   {
    "duration": 21,
    "start_time": "2022-07-30T10:26:28.417Z"
   },
   {
    "duration": 16,
    "start_time": "2022-07-30T10:26:28.440Z"
   },
   {
    "duration": 23,
    "start_time": "2022-07-30T10:26:28.458Z"
   },
   {
    "duration": 18,
    "start_time": "2022-07-30T10:26:28.483Z"
   },
   {
    "duration": 9,
    "start_time": "2022-07-30T10:26:28.503Z"
   },
   {
    "duration": 13,
    "start_time": "2022-07-30T10:26:28.514Z"
   },
   {
    "duration": 18,
    "start_time": "2022-07-30T10:26:28.529Z"
   },
   {
    "duration": 22,
    "start_time": "2022-07-30T10:26:28.549Z"
   },
   {
    "duration": 10,
    "start_time": "2022-07-30T10:26:28.572Z"
   },
   {
    "duration": 12,
    "start_time": "2022-07-30T10:26:28.583Z"
   },
   {
    "duration": 43,
    "start_time": "2022-07-30T10:26:28.596Z"
   },
   {
    "duration": 6,
    "start_time": "2022-07-30T10:26:28.640Z"
   },
   {
    "duration": 9,
    "start_time": "2022-07-30T10:26:28.648Z"
   },
   {
    "duration": 13,
    "start_time": "2022-07-30T10:26:28.659Z"
   },
   {
    "duration": 92,
    "start_time": "2022-07-30T10:26:28.674Z"
   },
   {
    "duration": 6,
    "start_time": "2022-07-30T10:26:28.768Z"
   },
   {
    "duration": 7,
    "start_time": "2022-07-30T10:26:28.775Z"
   },
   {
    "duration": 6,
    "start_time": "2022-07-30T10:26:28.784Z"
   },
   {
    "duration": 11,
    "start_time": "2022-07-30T10:26:28.805Z"
   },
   {
    "duration": 25,
    "start_time": "2022-07-30T10:26:28.817Z"
   },
   {
    "duration": 25,
    "start_time": "2022-07-30T10:26:28.844Z"
   },
   {
    "duration": 5,
    "start_time": "2022-07-30T10:26:28.871Z"
   },
   {
    "duration": 35,
    "start_time": "2022-07-30T10:26:28.905Z"
   },
   {
    "duration": 27,
    "start_time": "2022-07-30T10:26:28.941Z"
   },
   {
    "duration": 13,
    "start_time": "2022-07-30T10:26:28.970Z"
   },
   {
    "duration": 24,
    "start_time": "2022-07-30T10:26:28.985Z"
   },
   {
    "duration": 26,
    "start_time": "2022-07-30T10:26:29.011Z"
   },
   {
    "duration": 14,
    "start_time": "2022-07-30T10:26:29.038Z"
   },
   {
    "duration": 14,
    "start_time": "2022-07-30T10:26:29.054Z"
   },
   {
    "duration": 62,
    "start_time": "2022-07-30T10:27:11.674Z"
   },
   {
    "duration": 6,
    "start_time": "2022-07-30T10:27:16.960Z"
   },
   {
    "duration": 102,
    "start_time": "2022-07-30T10:28:20.722Z"
   },
   {
    "duration": 13,
    "start_time": "2022-07-30T10:31:37.446Z"
   },
   {
    "duration": 14,
    "start_time": "2022-07-30T10:32:58.424Z"
   },
   {
    "duration": 13,
    "start_time": "2022-07-30T10:34:52.749Z"
   },
   {
    "duration": 6,
    "start_time": "2022-07-30T10:37:13.344Z"
   },
   {
    "duration": 27,
    "start_time": "2022-07-30T10:37:35.076Z"
   },
   {
    "duration": 4,
    "start_time": "2022-07-30T10:38:23.717Z"
   },
   {
    "duration": 6,
    "start_time": "2022-07-30T10:38:46.580Z"
   },
   {
    "duration": 4,
    "start_time": "2022-07-30T10:39:18.278Z"
   },
   {
    "duration": 4,
    "start_time": "2022-07-30T10:39:19.966Z"
   },
   {
    "duration": 34,
    "start_time": "2022-07-30T10:39:31.368Z"
   },
   {
    "duration": 36,
    "start_time": "2022-07-30T10:41:16.036Z"
   },
   {
    "duration": 23,
    "start_time": "2022-07-30T10:45:48.985Z"
   },
   {
    "duration": 32,
    "start_time": "2022-07-30T10:46:03.963Z"
   },
   {
    "duration": 36,
    "start_time": "2022-07-30T10:47:02.459Z"
   },
   {
    "duration": 32,
    "start_time": "2022-07-30T10:47:04.086Z"
   },
   {
    "duration": 47,
    "start_time": "2023-02-20T11:03:56.163Z"
   },
   {
    "duration": 7,
    "start_time": "2023-02-20T11:26:19.884Z"
   },
   {
    "duration": 1258,
    "start_time": "2023-02-20T11:26:25.662Z"
   },
   {
    "duration": 325,
    "start_time": "2023-02-20T11:26:26.923Z"
   },
   {
    "duration": 24,
    "start_time": "2023-02-20T11:26:27.250Z"
   },
   {
    "duration": 3,
    "start_time": "2023-02-20T11:26:27.276Z"
   },
   {
    "duration": 27,
    "start_time": "2023-02-20T11:26:27.280Z"
   },
   {
    "duration": 80,
    "start_time": "2023-02-20T11:26:27.308Z"
   },
   {
    "duration": 1967,
    "start_time": "2023-02-20T11:26:27.389Z"
   },
   {
    "duration": 11,
    "start_time": "2023-02-20T11:26:29.359Z"
   },
   {
    "duration": 1087,
    "start_time": "2023-02-20T11:26:29.372Z"
   },
   {
    "duration": 5,
    "start_time": "2023-02-20T11:26:30.463Z"
   },
   {
    "duration": 28,
    "start_time": "2023-02-20T11:26:30.469Z"
   },
   {
    "duration": 30,
    "start_time": "2023-02-20T11:26:30.498Z"
   },
   {
    "duration": 5,
    "start_time": "2023-02-20T11:26:30.530Z"
   },
   {
    "duration": 31,
    "start_time": "2023-02-20T11:26:30.537Z"
   },
   {
    "duration": 21,
    "start_time": "2023-02-20T11:26:30.570Z"
   },
   {
    "duration": 9,
    "start_time": "2023-02-20T11:26:30.593Z"
   },
   {
    "duration": 23,
    "start_time": "2023-02-20T11:26:30.603Z"
   },
   {
    "duration": 15,
    "start_time": "2023-02-20T11:26:30.628Z"
   },
   {
    "duration": 19,
    "start_time": "2023-02-20T11:26:30.644Z"
   },
   {
    "duration": 39,
    "start_time": "2023-02-20T11:26:30.664Z"
   },
   {
    "duration": 29,
    "start_time": "2023-02-20T11:26:30.704Z"
   },
   {
    "duration": 2650,
    "start_time": "2023-02-20T11:26:30.734Z"
   },
   {
    "duration": 2,
    "start_time": "2023-02-20T11:26:33.386Z"
   },
   {
    "duration": 16,
    "start_time": "2023-02-20T11:26:33.390Z"
   },
   {
    "duration": 6,
    "start_time": "2023-02-20T11:26:33.407Z"
   },
   {
    "duration": 3737,
    "start_time": "2023-02-20T11:26:33.414Z"
   },
   {
    "duration": 5,
    "start_time": "2023-02-20T11:26:37.152Z"
   },
   {
    "duration": 84,
    "start_time": "2023-02-20T11:26:37.161Z"
   },
   {
    "duration": 88,
    "start_time": "2023-02-20T11:26:37.247Z"
   },
   {
    "duration": 5,
    "start_time": "2023-02-20T11:26:37.336Z"
   },
   {
    "duration": 7,
    "start_time": "2023-02-20T11:26:37.342Z"
   },
   {
    "duration": 8,
    "start_time": "2023-02-20T11:26:37.351Z"
   },
   {
    "duration": 100,
    "start_time": "2023-02-20T11:26:37.361Z"
   },
   {
    "duration": 62,
    "start_time": "2023-02-20T11:26:37.462Z"
   },
   {
    "duration": 8,
    "start_time": "2023-02-20T11:26:37.525Z"
   },
   {
    "duration": 6,
    "start_time": "2023-02-20T11:26:37.535Z"
   },
   {
    "duration": 4,
    "start_time": "2023-02-20T11:26:37.542Z"
   },
   {
    "duration": 80,
    "start_time": "2023-02-20T11:26:37.548Z"
   },
   {
    "duration": 4,
    "start_time": "2023-02-20T11:26:37.629Z"
   },
   {
    "duration": 8,
    "start_time": "2023-02-20T11:26:37.635Z"
   },
   {
    "duration": 6,
    "start_time": "2023-02-20T11:26:37.644Z"
   },
   {
    "duration": 69,
    "start_time": "2023-02-20T11:26:37.652Z"
   },
   {
    "duration": 12,
    "start_time": "2023-02-20T11:26:37.723Z"
   },
   {
    "duration": 5,
    "start_time": "2023-02-20T11:26:37.736Z"
   },
   {
    "duration": 5,
    "start_time": "2023-02-20T11:26:37.742Z"
   },
   {
    "duration": 6,
    "start_time": "2023-02-20T11:26:37.748Z"
   },
   {
    "duration": 9,
    "start_time": "2023-02-20T11:26:37.756Z"
   },
   {
    "duration": 55,
    "start_time": "2023-02-20T11:26:37.767Z"
   },
   {
    "duration": 5,
    "start_time": "2023-02-20T11:26:37.824Z"
   },
   {
    "duration": 36,
    "start_time": "2023-02-20T11:26:37.830Z"
   },
   {
    "duration": 5,
    "start_time": "2023-02-20T11:26:37.867Z"
   },
   {
    "duration": 9,
    "start_time": "2023-02-20T11:26:37.873Z"
   },
   {
    "duration": 9,
    "start_time": "2023-02-20T11:26:37.884Z"
   },
   {
    "duration": 100,
    "start_time": "2023-02-20T11:26:37.895Z"
   },
   {
    "duration": 6,
    "start_time": "2023-02-20T11:26:37.997Z"
   },
   {
    "duration": 39,
    "start_time": "2023-02-20T11:26:38.005Z"
   },
   {
    "duration": 21,
    "start_time": "2023-02-20T11:26:38.046Z"
   },
   {
    "duration": 52,
    "start_time": "2023-02-20T11:26:38.069Z"
   },
   {
    "duration": 2,
    "start_time": "2023-02-20T11:26:38.123Z"
   },
   {
    "duration": 11,
    "start_time": "2023-02-20T11:26:38.127Z"
   },
   {
    "duration": 23,
    "start_time": "2023-02-20T11:26:38.140Z"
   },
   {
    "duration": 22,
    "start_time": "2023-02-20T11:26:38.165Z"
   },
   {
    "duration": 4,
    "start_time": "2023-02-20T11:26:38.189Z"
   },
   {
    "duration": 32,
    "start_time": "2023-02-20T11:26:38.220Z"
   },
   {
    "duration": 27,
    "start_time": "2023-02-20T11:26:38.254Z"
   },
   {
    "duration": 14,
    "start_time": "2023-02-20T11:26:38.283Z"
   },
   {
    "duration": 28,
    "start_time": "2023-02-20T11:26:38.299Z"
   },
   {
    "duration": 36,
    "start_time": "2023-02-20T11:26:38.328Z"
   },
   {
    "duration": 13,
    "start_time": "2023-02-20T11:26:38.366Z"
   },
   {
    "duration": 13,
    "start_time": "2023-02-20T11:26:38.381Z"
   },
   {
    "duration": 31,
    "start_time": "2023-02-20T11:27:02.951Z"
   },
   {
    "duration": 2,
    "start_time": "2023-02-20T11:27:04.248Z"
   },
   {
    "duration": 6,
    "start_time": "2023-02-20T11:27:04.656Z"
   },
   {
    "duration": 1162,
    "start_time": "2023-02-20T11:27:10.792Z"
   },
   {
    "duration": 90,
    "start_time": "2023-02-20T11:27:11.956Z"
   },
   {
    "duration": 17,
    "start_time": "2023-02-20T11:27:12.051Z"
   },
   {
    "duration": 3,
    "start_time": "2023-02-20T11:27:12.069Z"
   },
   {
    "duration": 28,
    "start_time": "2023-02-20T11:27:12.074Z"
   },
   {
    "duration": 71,
    "start_time": "2023-02-20T11:27:12.121Z"
   },
   {
    "duration": 1918,
    "start_time": "2023-02-20T11:27:12.194Z"
   },
   {
    "duration": 9,
    "start_time": "2023-02-20T11:27:14.114Z"
   },
   {
    "duration": 1119,
    "start_time": "2023-02-20T11:27:14.126Z"
   },
   {
    "duration": 5,
    "start_time": "2023-02-20T11:27:15.247Z"
   },
   {
    "duration": 15,
    "start_time": "2023-02-20T11:27:15.253Z"
   },
   {
    "duration": 25,
    "start_time": "2023-02-20T11:27:15.270Z"
   },
   {
    "duration": 26,
    "start_time": "2023-02-20T11:27:15.296Z"
   },
   {
    "duration": 5,
    "start_time": "2023-02-20T11:27:15.324Z"
   },
   {
    "duration": 9,
    "start_time": "2023-02-20T11:27:15.331Z"
   },
   {
    "duration": 6,
    "start_time": "2023-02-20T11:27:15.342Z"
   },
   {
    "duration": 6,
    "start_time": "2023-02-20T11:27:15.350Z"
   },
   {
    "duration": 10,
    "start_time": "2023-02-20T11:27:15.358Z"
   },
   {
    "duration": 6,
    "start_time": "2023-02-20T11:27:15.370Z"
   },
   {
    "duration": 6,
    "start_time": "2023-02-20T11:27:15.377Z"
   },
   {
    "duration": 37,
    "start_time": "2023-02-20T11:27:15.385Z"
   },
   {
    "duration": 30,
    "start_time": "2023-02-20T11:27:15.423Z"
   },
   {
    "duration": 2,
    "start_time": "2023-02-20T11:27:15.455Z"
   },
   {
    "duration": 10,
    "start_time": "2023-02-20T11:27:15.459Z"
   },
   {
    "duration": 14,
    "start_time": "2023-02-20T11:27:15.471Z"
   },
   {
    "duration": 2808,
    "start_time": "2023-02-20T11:27:15.487Z"
   },
   {
    "duration": 4,
    "start_time": "2023-02-20T11:27:18.301Z"
   },
   {
    "duration": 28,
    "start_time": "2023-02-20T11:27:18.307Z"
   },
   {
    "duration": 29,
    "start_time": "2023-02-20T11:27:18.337Z"
   },
   {
    "duration": 4,
    "start_time": "2023-02-20T11:27:18.368Z"
   },
   {
    "duration": 7,
    "start_time": "2023-02-20T11:27:18.373Z"
   },
   {
    "duration": 5,
    "start_time": "2023-02-20T11:27:18.382Z"
   },
   {
    "duration": 71,
    "start_time": "2023-02-20T11:27:18.388Z"
   },
   {
    "duration": 5,
    "start_time": "2023-02-20T11:27:18.461Z"
   },
   {
    "duration": 7,
    "start_time": "2023-02-20T11:27:18.467Z"
   },
   {
    "duration": 5,
    "start_time": "2023-02-20T11:27:18.476Z"
   },
   {
    "duration": 5,
    "start_time": "2023-02-20T11:27:18.483Z"
   },
   {
    "duration": 52,
    "start_time": "2023-02-20T11:27:18.489Z"
   },
   {
    "duration": 4,
    "start_time": "2023-02-20T11:27:18.543Z"
   },
   {
    "duration": 6,
    "start_time": "2023-02-20T11:27:18.549Z"
   },
   {
    "duration": 6,
    "start_time": "2023-02-20T11:27:18.556Z"
   },
   {
    "duration": 7,
    "start_time": "2023-02-20T11:27:18.563Z"
   },
   {
    "duration": 7,
    "start_time": "2023-02-20T11:27:18.572Z"
   },
   {
    "duration": 4,
    "start_time": "2023-02-20T11:27:18.581Z"
   },
   {
    "duration": 35,
    "start_time": "2023-02-20T11:27:18.586Z"
   },
   {
    "duration": 7,
    "start_time": "2023-02-20T11:27:18.622Z"
   },
   {
    "duration": 14,
    "start_time": "2023-02-20T11:27:18.631Z"
   },
   {
    "duration": 6,
    "start_time": "2023-02-20T11:27:18.646Z"
   },
   {
    "duration": 6,
    "start_time": "2023-02-20T11:27:18.653Z"
   },
   {
    "duration": 31,
    "start_time": "2023-02-20T11:27:18.661Z"
   },
   {
    "duration": 27,
    "start_time": "2023-02-20T11:27:18.694Z"
   },
   {
    "duration": 2,
    "start_time": "2023-02-20T11:27:18.723Z"
   },
   {
    "duration": 8,
    "start_time": "2023-02-20T11:27:18.727Z"
   },
   {
    "duration": 85,
    "start_time": "2023-02-20T11:27:18.736Z"
   },
   {
    "duration": 5,
    "start_time": "2023-02-20T11:27:18.823Z"
   },
   {
    "duration": 26,
    "start_time": "2023-02-20T11:27:18.830Z"
   },
   {
    "duration": 22,
    "start_time": "2023-02-20T11:27:18.858Z"
   },
   {
    "duration": 49,
    "start_time": "2023-02-20T11:27:18.882Z"
   },
   {
    "duration": 3,
    "start_time": "2023-02-20T11:27:18.932Z"
   },
   {
    "duration": 11,
    "start_time": "2023-02-20T11:27:18.936Z"
   },
   {
    "duration": 24,
    "start_time": "2023-02-20T11:27:18.948Z"
   },
   {
    "duration": 49,
    "start_time": "2023-02-20T11:27:18.974Z"
   },
   {
    "duration": 5,
    "start_time": "2023-02-20T11:27:19.025Z"
   },
   {
    "duration": 40,
    "start_time": "2023-02-20T11:27:19.031Z"
   },
   {
    "duration": 27,
    "start_time": "2023-02-20T11:27:19.073Z"
   },
   {
    "duration": 20,
    "start_time": "2023-02-20T11:27:19.102Z"
   },
   {
    "duration": 7,
    "start_time": "2023-02-20T11:27:19.124Z"
   },
   {
    "duration": 27,
    "start_time": "2023-02-20T11:27:19.132Z"
   },
   {
    "duration": 15,
    "start_time": "2023-02-20T11:27:19.160Z"
   },
   {
    "duration": 14,
    "start_time": "2023-02-20T11:27:19.176Z"
   },
   {
    "duration": 3,
    "start_time": "2023-02-20T11:28:06.902Z"
   },
   {
    "duration": 2826,
    "start_time": "2023-02-20T11:29:41.123Z"
   },
   {
    "duration": 5,
    "start_time": "2023-02-20T11:29:43.952Z"
   },
   {
    "duration": 1120,
    "start_time": "2023-02-20T11:29:50.473Z"
   },
   {
    "duration": 96,
    "start_time": "2023-02-20T11:29:51.595Z"
   },
   {
    "duration": 26,
    "start_time": "2023-02-20T11:29:51.695Z"
   },
   {
    "duration": 3,
    "start_time": "2023-02-20T11:29:51.722Z"
   },
   {
    "duration": 31,
    "start_time": "2023-02-20T11:29:51.727Z"
   },
   {
    "duration": 94,
    "start_time": "2023-02-20T11:29:51.760Z"
   },
   {
    "duration": 2041,
    "start_time": "2023-02-20T11:29:51.855Z"
   },
   {
    "duration": 11,
    "start_time": "2023-02-20T11:29:53.898Z"
   },
   {
    "duration": 1130,
    "start_time": "2023-02-20T11:29:53.911Z"
   },
   {
    "duration": 6,
    "start_time": "2023-02-20T11:29:55.042Z"
   },
   {
    "duration": 33,
    "start_time": "2023-02-20T11:29:55.050Z"
   },
   {
    "duration": 32,
    "start_time": "2023-02-20T11:29:55.085Z"
   },
   {
    "duration": 9,
    "start_time": "2023-02-20T11:29:55.119Z"
   },
   {
    "duration": 22,
    "start_time": "2023-02-20T11:29:55.130Z"
   },
   {
    "duration": 12,
    "start_time": "2023-02-20T11:29:55.154Z"
   },
   {
    "duration": 7,
    "start_time": "2023-02-20T11:29:55.168Z"
   },
   {
    "duration": 9,
    "start_time": "2023-02-20T11:29:55.176Z"
   },
   {
    "duration": 5,
    "start_time": "2023-02-20T11:29:55.187Z"
   },
   {
    "duration": 10,
    "start_time": "2023-02-20T11:29:55.194Z"
   },
   {
    "duration": 15,
    "start_time": "2023-02-20T11:29:55.206Z"
   },
   {
    "duration": 8,
    "start_time": "2023-02-20T11:29:55.223Z"
   },
   {
    "duration": 2968,
    "start_time": "2023-02-20T11:29:55.233Z"
   },
   {
    "duration": 5,
    "start_time": "2023-02-20T11:29:58.203Z"
   },
   {
    "duration": 15,
    "start_time": "2023-02-20T11:29:58.210Z"
   },
   {
    "duration": 36,
    "start_time": "2023-02-20T11:29:58.227Z"
   },
   {
    "duration": 5,
    "start_time": "2023-02-20T11:29:58.264Z"
   },
   {
    "duration": 9,
    "start_time": "2023-02-20T11:29:58.272Z"
   },
   {
    "duration": 18,
    "start_time": "2023-02-20T11:29:58.282Z"
   },
   {
    "duration": 66,
    "start_time": "2023-02-20T11:29:58.302Z"
   },
   {
    "duration": 6,
    "start_time": "2023-02-20T11:29:58.370Z"
   },
   {
    "duration": 8,
    "start_time": "2023-02-20T11:29:58.377Z"
   },
   {
    "duration": 8,
    "start_time": "2023-02-20T11:29:58.387Z"
   },
   {
    "duration": 16,
    "start_time": "2023-02-20T11:29:58.397Z"
   },
   {
    "duration": 46,
    "start_time": "2023-02-20T11:29:58.422Z"
   },
   {
    "duration": 5,
    "start_time": "2023-02-20T11:29:58.469Z"
   },
   {
    "duration": 7,
    "start_time": "2023-02-20T11:29:58.476Z"
   },
   {
    "duration": 7,
    "start_time": "2023-02-20T11:29:58.485Z"
   },
   {
    "duration": 30,
    "start_time": "2023-02-20T11:29:58.494Z"
   },
   {
    "duration": 11,
    "start_time": "2023-02-20T11:29:58.526Z"
   },
   {
    "duration": 5,
    "start_time": "2023-02-20T11:29:58.540Z"
   },
   {
    "duration": 4,
    "start_time": "2023-02-20T11:29:58.547Z"
   },
   {
    "duration": 7,
    "start_time": "2023-02-20T11:29:58.553Z"
   },
   {
    "duration": 9,
    "start_time": "2023-02-20T11:29:58.562Z"
   },
   {
    "duration": 15,
    "start_time": "2023-02-20T11:29:58.573Z"
   },
   {
    "duration": 32,
    "start_time": "2023-02-20T11:29:58.590Z"
   },
   {
    "duration": 41,
    "start_time": "2023-02-20T11:29:58.624Z"
   },
   {
    "duration": 4,
    "start_time": "2023-02-20T11:29:58.667Z"
   },
   {
    "duration": 7,
    "start_time": "2023-02-20T11:29:58.673Z"
   },
   {
    "duration": 17,
    "start_time": "2023-02-20T11:29:58.681Z"
   },
   {
    "duration": 81,
    "start_time": "2023-02-20T11:29:58.700Z"
   },
   {
    "duration": 6,
    "start_time": "2023-02-20T11:29:58.783Z"
   },
   {
    "duration": 38,
    "start_time": "2023-02-20T11:29:58.790Z"
   },
   {
    "duration": 25,
    "start_time": "2023-02-20T11:29:58.830Z"
   },
   {
    "duration": 35,
    "start_time": "2023-02-20T11:29:58.857Z"
   },
   {
    "duration": 6,
    "start_time": "2023-02-20T11:29:58.894Z"
   },
   {
    "duration": 24,
    "start_time": "2023-02-20T11:29:58.922Z"
   },
   {
    "duration": 27,
    "start_time": "2023-02-20T11:29:58.947Z"
   },
   {
    "duration": 23,
    "start_time": "2023-02-20T11:29:58.976Z"
   },
   {
    "duration": 5,
    "start_time": "2023-02-20T11:29:59.000Z"
   },
   {
    "duration": 35,
    "start_time": "2023-02-20T11:29:59.021Z"
   },
   {
    "duration": 26,
    "start_time": "2023-02-20T11:29:59.059Z"
   },
   {
    "duration": 15,
    "start_time": "2023-02-20T11:29:59.087Z"
   },
   {
    "duration": 24,
    "start_time": "2023-02-20T11:29:59.103Z"
   },
   {
    "duration": 30,
    "start_time": "2023-02-20T11:29:59.129Z"
   },
   {
    "duration": 17,
    "start_time": "2023-02-20T11:29:59.161Z"
   },
   {
    "duration": 41,
    "start_time": "2023-02-20T11:29:59.180Z"
   },
   {
    "duration": 21,
    "start_time": "2023-02-20T11:31:26.094Z"
   },
   {
    "duration": 11,
    "start_time": "2023-02-20T11:32:30.524Z"
   },
   {
    "duration": 22,
    "start_time": "2023-02-20T11:32:50.424Z"
   },
   {
    "duration": 28,
    "start_time": "2023-02-20T11:34:47.473Z"
   },
   {
    "duration": 6,
    "start_time": "2023-02-20T11:38:07.069Z"
   },
   {
    "duration": 6,
    "start_time": "2023-02-20T11:38:47.613Z"
   },
   {
    "duration": 100,
    "start_time": "2023-02-20T11:53:18.191Z"
   },
   {
    "duration": 6,
    "start_time": "2023-02-20T12:00:07.065Z"
   },
   {
    "duration": 11,
    "start_time": "2023-02-20T12:00:12.333Z"
   },
   {
    "duration": 6,
    "start_time": "2023-02-20T12:01:01.821Z"
   },
   {
    "duration": 25,
    "start_time": "2023-02-20T12:01:28.081Z"
   },
   {
    "duration": 6,
    "start_time": "2023-02-20T12:01:47.573Z"
   },
   {
    "duration": 26,
    "start_time": "2023-02-20T12:03:25.390Z"
   },
   {
    "duration": 11,
    "start_time": "2023-02-20T12:06:11.898Z"
   },
   {
    "duration": 9,
    "start_time": "2023-02-20T12:06:16.478Z"
   },
   {
    "duration": 10,
    "start_time": "2023-02-20T12:06:23.681Z"
   },
   {
    "duration": 6,
    "start_time": "2023-02-20T12:06:46.926Z"
   },
   {
    "duration": 7,
    "start_time": "2023-02-20T12:07:04.678Z"
   },
   {
    "duration": 6,
    "start_time": "2023-02-20T12:07:10.472Z"
   },
   {
    "duration": 8,
    "start_time": "2023-02-20T12:07:14.564Z"
   },
   {
    "duration": 6,
    "start_time": "2023-02-20T12:08:17.038Z"
   },
   {
    "duration": 11,
    "start_time": "2023-02-20T12:08:17.680Z"
   },
   {
    "duration": 6,
    "start_time": "2023-02-20T12:08:18.299Z"
   },
   {
    "duration": 9,
    "start_time": "2023-02-20T12:08:18.944Z"
   },
   {
    "duration": 3,
    "start_time": "2023-02-20T12:15:27.366Z"
   },
   {
    "duration": 2,
    "start_time": "2023-02-20T12:17:51.292Z"
   },
   {
    "duration": 5,
    "start_time": "2023-02-20T12:19:52.076Z"
   },
   {
    "duration": 6,
    "start_time": "2023-02-20T12:21:02.297Z"
   },
   {
    "duration": 10,
    "start_time": "2023-02-20T12:24:29.737Z"
   },
   {
    "duration": 9,
    "start_time": "2023-02-20T12:24:55.659Z"
   },
   {
    "duration": 36,
    "start_time": "2023-02-20T12:25:55.101Z"
   },
   {
    "duration": 5,
    "start_time": "2023-02-20T12:26:26.604Z"
   },
   {
    "duration": 5,
    "start_time": "2023-02-20T12:27:28.293Z"
   },
   {
    "duration": 6,
    "start_time": "2023-02-20T12:28:43.965Z"
   },
   {
    "duration": 16,
    "start_time": "2023-02-20T12:31:14.775Z"
   },
   {
    "duration": 963,
    "start_time": "2023-02-20T12:32:55.701Z"
   },
   {
    "duration": 842,
    "start_time": "2023-02-20T12:33:14.886Z"
   },
   {
    "duration": 62,
    "start_time": "2023-02-20T12:34:07.203Z"
   },
   {
    "duration": 480,
    "start_time": "2023-02-20T12:34:13.784Z"
   },
   {
    "duration": 728,
    "start_time": "2023-02-20T12:34:41.670Z"
   },
   {
    "duration": 701,
    "start_time": "2023-02-20T12:34:54.825Z"
   },
   {
    "duration": 11,
    "start_time": "2023-02-20T12:36:13.315Z"
   },
   {
    "duration": 13,
    "start_time": "2023-02-20T12:36:55.149Z"
   },
   {
    "duration": 1115,
    "start_time": "2023-02-20T12:39:11.740Z"
   },
   {
    "duration": 94,
    "start_time": "2023-02-20T12:39:12.857Z"
   },
   {
    "duration": 15,
    "start_time": "2023-02-20T12:39:12.952Z"
   },
   {
    "duration": 2,
    "start_time": "2023-02-20T12:39:12.969Z"
   },
   {
    "duration": 25,
    "start_time": "2023-02-20T12:39:12.973Z"
   },
   {
    "duration": 87,
    "start_time": "2023-02-20T12:39:13.000Z"
   },
   {
    "duration": 2007,
    "start_time": "2023-02-20T12:39:13.089Z"
   },
   {
    "duration": 12,
    "start_time": "2023-02-20T12:39:15.098Z"
   },
   {
    "duration": 1055,
    "start_time": "2023-02-20T12:39:15.111Z"
   },
   {
    "duration": 4,
    "start_time": "2023-02-20T12:39:16.169Z"
   },
   {
    "duration": 7,
    "start_time": "2023-02-20T12:39:16.175Z"
   },
   {
    "duration": 40,
    "start_time": "2023-02-20T12:39:16.183Z"
   },
   {
    "duration": 6,
    "start_time": "2023-02-20T12:39:16.225Z"
   },
   {
    "duration": 6,
    "start_time": "2023-02-20T12:39:16.232Z"
   },
   {
    "duration": 5,
    "start_time": "2023-02-20T12:39:16.240Z"
   },
   {
    "duration": 9,
    "start_time": "2023-02-20T12:39:16.246Z"
   },
   {
    "duration": 7,
    "start_time": "2023-02-20T12:39:16.257Z"
   },
   {
    "duration": 5,
    "start_time": "2023-02-20T12:39:16.266Z"
   },
   {
    "duration": 7,
    "start_time": "2023-02-20T12:39:16.272Z"
   },
   {
    "duration": 41,
    "start_time": "2023-02-20T12:39:16.280Z"
   },
   {
    "duration": 14,
    "start_time": "2023-02-20T12:39:16.323Z"
   },
   {
    "duration": 2933,
    "start_time": "2023-02-20T12:39:16.339Z"
   },
   {
    "duration": 2,
    "start_time": "2023-02-20T12:39:19.274Z"
   },
   {
    "duration": 16,
    "start_time": "2023-02-20T12:39:19.277Z"
   },
   {
    "duration": 6,
    "start_time": "2023-02-20T12:39:19.294Z"
   },
   {
    "duration": 41,
    "start_time": "2023-02-20T12:39:19.302Z"
   },
   {
    "duration": 5,
    "start_time": "2023-02-20T12:39:19.345Z"
   },
   {
    "duration": 5,
    "start_time": "2023-02-20T12:39:19.353Z"
   },
   {
    "duration": 7,
    "start_time": "2023-02-20T12:39:19.360Z"
   },
   {
    "duration": 69,
    "start_time": "2023-02-20T12:39:19.368Z"
   },
   {
    "duration": 20,
    "start_time": "2023-02-20T12:39:19.439Z"
   },
   {
    "duration": 5,
    "start_time": "2023-02-20T12:39:19.461Z"
   },
   {
    "duration": 9,
    "start_time": "2023-02-20T12:39:19.467Z"
   },
   {
    "duration": 54,
    "start_time": "2023-02-20T12:39:19.478Z"
   },
   {
    "duration": 5,
    "start_time": "2023-02-20T12:39:19.534Z"
   },
   {
    "duration": 5,
    "start_time": "2023-02-20T12:39:19.541Z"
   },
   {
    "duration": 9,
    "start_time": "2023-02-20T12:39:19.548Z"
   },
   {
    "duration": 6,
    "start_time": "2023-02-20T12:39:19.558Z"
   },
   {
    "duration": 8,
    "start_time": "2023-02-20T12:39:19.565Z"
   },
   {
    "duration": 5,
    "start_time": "2023-02-20T12:39:19.574Z"
   },
   {
    "duration": 4,
    "start_time": "2023-02-20T12:39:19.580Z"
   },
   {
    "duration": 5,
    "start_time": "2023-02-20T12:39:19.621Z"
   },
   {
    "duration": 14,
    "start_time": "2023-02-20T12:39:19.628Z"
   },
   {
    "duration": 5,
    "start_time": "2023-02-20T12:39:19.643Z"
   },
   {
    "duration": 8,
    "start_time": "2023-02-20T12:39:19.650Z"
   },
   {
    "duration": 119,
    "start_time": "2023-02-20T12:39:19.660Z"
   },
   {
    "duration": 0,
    "start_time": "2023-02-20T12:39:19.781Z"
   },
   {
    "duration": 0,
    "start_time": "2023-02-20T12:39:19.782Z"
   },
   {
    "duration": 0,
    "start_time": "2023-02-20T12:39:19.783Z"
   },
   {
    "duration": 0,
    "start_time": "2023-02-20T12:39:19.784Z"
   },
   {
    "duration": 0,
    "start_time": "2023-02-20T12:39:19.785Z"
   },
   {
    "duration": 0,
    "start_time": "2023-02-20T12:39:19.786Z"
   },
   {
    "duration": 0,
    "start_time": "2023-02-20T12:39:19.787Z"
   },
   {
    "duration": 0,
    "start_time": "2023-02-20T12:39:19.789Z"
   },
   {
    "duration": 0,
    "start_time": "2023-02-20T12:39:19.790Z"
   },
   {
    "duration": 0,
    "start_time": "2023-02-20T12:39:19.792Z"
   },
   {
    "duration": 0,
    "start_time": "2023-02-20T12:39:19.793Z"
   },
   {
    "duration": 0,
    "start_time": "2023-02-20T12:39:19.794Z"
   },
   {
    "duration": 0,
    "start_time": "2023-02-20T12:39:19.821Z"
   },
   {
    "duration": 0,
    "start_time": "2023-02-20T12:39:19.822Z"
   },
   {
    "duration": 0,
    "start_time": "2023-02-20T12:39:19.824Z"
   },
   {
    "duration": 0,
    "start_time": "2023-02-20T12:39:19.826Z"
   },
   {
    "duration": 0,
    "start_time": "2023-02-20T12:39:19.827Z"
   },
   {
    "duration": 0,
    "start_time": "2023-02-20T12:39:19.829Z"
   },
   {
    "duration": 0,
    "start_time": "2023-02-20T12:39:19.830Z"
   },
   {
    "duration": 0,
    "start_time": "2023-02-20T12:39:19.831Z"
   },
   {
    "duration": 3,
    "start_time": "2023-02-20T12:39:56.402Z"
   },
   {
    "duration": 39,
    "start_time": "2023-02-20T12:39:58.101Z"
   },
   {
    "duration": 4,
    "start_time": "2023-02-20T12:40:01.725Z"
   },
   {
    "duration": 14,
    "start_time": "2023-02-20T12:40:02.233Z"
   },
   {
    "duration": 6,
    "start_time": "2023-02-20T12:40:15.288Z"
   },
   {
    "duration": 71,
    "start_time": "2023-02-20T12:40:16.054Z"
   },
   {
    "duration": 6,
    "start_time": "2023-02-20T12:40:18.698Z"
   },
   {
    "duration": 5,
    "start_time": "2023-02-20T12:40:21.811Z"
   },
   {
    "duration": 12,
    "start_time": "2023-02-20T12:40:24.213Z"
   },
   {
    "duration": 9,
    "start_time": "2023-02-20T12:40:24.618Z"
   },
   {
    "duration": 11,
    "start_time": "2023-02-20T12:40:25.051Z"
   },
   {
    "duration": 25,
    "start_time": "2023-02-20T12:40:29.214Z"
   },
   {
    "duration": 25,
    "start_time": "2023-02-20T12:40:29.728Z"
   },
   {
    "duration": 5,
    "start_time": "2023-02-20T12:40:30.585Z"
   },
   {
    "duration": 32,
    "start_time": "2023-02-20T12:40:31.345Z"
   },
   {
    "duration": 37,
    "start_time": "2023-02-20T12:40:32.293Z"
   },
   {
    "duration": 9,
    "start_time": "2023-02-20T12:40:32.992Z"
   },
   {
    "duration": 6,
    "start_time": "2023-02-20T12:40:33.590Z"
   },
   {
    "duration": 25,
    "start_time": "2023-02-20T12:40:34.045Z"
   },
   {
    "duration": 18,
    "start_time": "2023-02-20T12:40:34.466Z"
   },
   {
    "duration": 15,
    "start_time": "2023-02-20T12:40:35.812Z"
   },
   {
    "duration": 6,
    "start_time": "2023-02-20T12:42:19.157Z"
   },
   {
    "duration": 9,
    "start_time": "2023-02-20T12:42:44.809Z"
   },
   {
    "duration": 27,
    "start_time": "2023-02-20T13:15:00.886Z"
   },
   {
    "duration": 1213,
    "start_time": "2023-02-20T13:15:30.247Z"
   },
   {
    "duration": 961,
    "start_time": "2023-02-20T13:16:53.143Z"
   },
   {
    "duration": 48,
    "start_time": "2023-02-20T16:48:13.825Z"
   },
   {
    "duration": 1508,
    "start_time": "2023-02-20T16:48:20.335Z"
   },
   {
    "duration": 322,
    "start_time": "2023-02-20T16:48:21.846Z"
   },
   {
    "duration": 16,
    "start_time": "2023-02-20T16:48:22.170Z"
   },
   {
    "duration": 3,
    "start_time": "2023-02-20T16:48:22.188Z"
   },
   {
    "duration": 30,
    "start_time": "2023-02-20T16:48:22.192Z"
   },
   {
    "duration": 89,
    "start_time": "2023-02-20T16:48:22.224Z"
   },
   {
    "duration": 2085,
    "start_time": "2023-02-20T16:48:22.315Z"
   },
   {
    "duration": 11,
    "start_time": "2023-02-20T16:48:24.403Z"
   },
   {
    "duration": 1151,
    "start_time": "2023-02-20T16:48:24.416Z"
   },
   {
    "duration": 4,
    "start_time": "2023-02-20T16:48:25.570Z"
   },
   {
    "duration": 32,
    "start_time": "2023-02-20T16:48:25.576Z"
   },
   {
    "duration": 26,
    "start_time": "2023-02-20T16:48:25.610Z"
   },
   {
    "duration": 11,
    "start_time": "2023-02-20T16:48:25.638Z"
   },
   {
    "duration": 6,
    "start_time": "2023-02-20T16:48:25.651Z"
   },
   {
    "duration": 14,
    "start_time": "2023-02-20T16:48:25.659Z"
   },
   {
    "duration": 6,
    "start_time": "2023-02-20T16:48:25.675Z"
   },
   {
    "duration": 9,
    "start_time": "2023-02-20T16:48:25.683Z"
   },
   {
    "duration": 10,
    "start_time": "2023-02-20T16:48:25.694Z"
   },
   {
    "duration": 7,
    "start_time": "2023-02-20T16:48:25.706Z"
   },
   {
    "duration": 33,
    "start_time": "2023-02-20T16:48:25.714Z"
   },
   {
    "duration": 6,
    "start_time": "2023-02-20T16:48:25.749Z"
   },
   {
    "duration": 3079,
    "start_time": "2023-02-20T16:48:25.756Z"
   },
   {
    "duration": 8,
    "start_time": "2023-02-20T16:48:28.837Z"
   },
   {
    "duration": 17,
    "start_time": "2023-02-20T16:48:28.847Z"
   },
   {
    "duration": 12,
    "start_time": "2023-02-20T16:48:28.865Z"
   },
   {
    "duration": 35,
    "start_time": "2023-02-20T16:48:28.879Z"
   },
   {
    "duration": 57,
    "start_time": "2023-02-20T16:48:28.916Z"
   },
   {
    "duration": 8,
    "start_time": "2023-02-20T16:48:28.980Z"
   },
   {
    "duration": 16,
    "start_time": "2023-02-20T16:48:28.990Z"
   },
   {
    "duration": 68,
    "start_time": "2023-02-20T16:48:29.007Z"
   },
   {
    "duration": 20,
    "start_time": "2023-02-20T16:48:29.077Z"
   },
   {
    "duration": 24,
    "start_time": "2023-02-20T16:48:29.100Z"
   },
   {
    "duration": 13,
    "start_time": "2023-02-20T16:48:29.126Z"
   },
   {
    "duration": 39,
    "start_time": "2023-02-20T16:48:29.140Z"
   },
   {
    "duration": 5,
    "start_time": "2023-02-20T16:48:29.181Z"
   },
   {
    "duration": 7,
    "start_time": "2023-02-20T16:48:29.188Z"
   },
   {
    "duration": 20,
    "start_time": "2023-02-20T16:48:29.196Z"
   },
   {
    "duration": 6,
    "start_time": "2023-02-20T16:48:29.217Z"
   },
   {
    "duration": 10,
    "start_time": "2023-02-20T16:48:29.224Z"
   },
   {
    "duration": 14,
    "start_time": "2023-02-20T16:48:29.236Z"
   },
   {
    "duration": 22,
    "start_time": "2023-02-20T16:48:29.252Z"
   },
   {
    "duration": 21,
    "start_time": "2023-02-20T16:48:29.275Z"
   },
   {
    "duration": 24,
    "start_time": "2023-02-20T16:48:29.298Z"
   },
   {
    "duration": 24,
    "start_time": "2023-02-20T16:48:29.324Z"
   },
   {
    "duration": 31,
    "start_time": "2023-02-20T16:48:29.350Z"
   },
   {
    "duration": 26,
    "start_time": "2023-02-20T16:48:29.383Z"
   },
   {
    "duration": 79,
    "start_time": "2023-02-20T16:48:29.411Z"
   },
   {
    "duration": 6,
    "start_time": "2023-02-20T16:48:29.491Z"
   },
   {
    "duration": 33,
    "start_time": "2023-02-20T16:48:29.498Z"
   },
   {
    "duration": 23,
    "start_time": "2023-02-20T16:48:29.533Z"
   },
   {
    "duration": 18,
    "start_time": "2023-02-20T16:48:29.557Z"
   },
   {
    "duration": 103,
    "start_time": "2023-02-20T16:48:29.577Z"
   },
   {
    "duration": 5,
    "start_time": "2023-02-20T16:48:29.682Z"
   },
   {
    "duration": 19,
    "start_time": "2023-02-20T16:48:29.689Z"
   },
   {
    "duration": 18,
    "start_time": "2023-02-20T16:48:29.709Z"
   },
   {
    "duration": 21,
    "start_time": "2023-02-20T16:48:29.729Z"
   },
   {
    "duration": 8,
    "start_time": "2023-02-20T16:48:29.752Z"
   },
   {
    "duration": 33,
    "start_time": "2023-02-20T16:48:29.761Z"
   },
   {
    "duration": 1564,
    "start_time": "2023-02-20T16:48:29.796Z"
   },
   {
    "duration": 0,
    "start_time": "2023-02-20T16:48:31.362Z"
   },
   {
    "duration": 0,
    "start_time": "2023-02-20T16:48:31.364Z"
   },
   {
    "duration": 0,
    "start_time": "2023-02-20T16:48:31.365Z"
   },
   {
    "duration": 0,
    "start_time": "2023-02-20T16:48:31.366Z"
   },
   {
    "duration": 0,
    "start_time": "2023-02-20T16:48:31.367Z"
   },
   {
    "duration": 0,
    "start_time": "2023-02-20T16:48:31.369Z"
   },
   {
    "duration": 0,
    "start_time": "2023-02-20T16:48:31.370Z"
   },
   {
    "duration": 0,
    "start_time": "2023-02-20T16:48:31.371Z"
   },
   {
    "duration": 0,
    "start_time": "2023-02-20T16:48:31.372Z"
   },
   {
    "duration": 15,
    "start_time": "2023-02-20T16:50:03.167Z"
   },
   {
    "duration": 18,
    "start_time": "2023-02-20T16:51:25.424Z"
   },
   {
    "duration": 57,
    "start_time": "2023-02-20T16:57:07.085Z"
   },
   {
    "duration": 8,
    "start_time": "2023-02-20T16:57:52.714Z"
   },
   {
    "duration": 8,
    "start_time": "2023-02-20T17:11:30.519Z"
   },
   {
    "duration": 9,
    "start_time": "2023-02-20T17:11:42.031Z"
   },
   {
    "duration": 13,
    "start_time": "2023-02-20T17:12:23.059Z"
   },
   {
    "duration": 9,
    "start_time": "2023-02-20T17:12:33.150Z"
   },
   {
    "duration": 8,
    "start_time": "2023-02-20T17:12:37.497Z"
   },
   {
    "duration": 11,
    "start_time": "2023-02-20T17:15:07.558Z"
   },
   {
    "duration": 420,
    "start_time": "2023-02-20T17:18:16.109Z"
   },
   {
    "duration": 446,
    "start_time": "2023-02-20T17:18:28.136Z"
   },
   {
    "duration": 11,
    "start_time": "2023-02-20T17:21:27.103Z"
   },
   {
    "duration": 6,
    "start_time": "2023-02-20T17:21:39.760Z"
   },
   {
    "duration": 11,
    "start_time": "2023-02-20T17:21:48.735Z"
   },
   {
    "duration": 11,
    "start_time": "2023-02-20T17:22:04.702Z"
   },
   {
    "duration": 17,
    "start_time": "2023-02-20T17:24:22.668Z"
   },
   {
    "duration": 4,
    "start_time": "2023-02-20T17:24:36.896Z"
   },
   {
    "duration": 11,
    "start_time": "2023-02-20T17:24:52.527Z"
   },
   {
    "duration": 10,
    "start_time": "2023-02-20T17:25:15.359Z"
   },
   {
    "duration": 72,
    "start_time": "2023-02-20T17:25:50.620Z"
   },
   {
    "duration": 44,
    "start_time": "2023-02-20T17:25:58.503Z"
   },
   {
    "duration": 8,
    "start_time": "2023-02-20T17:26:05.992Z"
   },
   {
    "duration": 44,
    "start_time": "2023-02-20T17:32:48.043Z"
   },
   {
    "duration": 50,
    "start_time": "2023-02-20T17:33:22.481Z"
   },
   {
    "duration": 12,
    "start_time": "2023-02-20T17:37:05.126Z"
   },
   {
    "duration": 17,
    "start_time": "2023-02-20T17:37:28.627Z"
   },
   {
    "duration": 9,
    "start_time": "2023-02-20T17:38:10.198Z"
   },
   {
    "duration": 69,
    "start_time": "2023-02-20T17:38:10.209Z"
   },
   {
    "duration": 5,
    "start_time": "2023-02-20T17:39:26.562Z"
   },
   {
    "duration": 2063,
    "start_time": "2023-02-20T17:40:02.386Z"
   },
   {
    "duration": 45,
    "start_time": "2023-02-20T17:40:09.538Z"
   },
   {
    "duration": 36,
    "start_time": "2023-02-20T17:40:53.828Z"
   },
   {
    "duration": 38,
    "start_time": "2023-02-20T17:41:13.314Z"
   },
   {
    "duration": 25,
    "start_time": "2023-02-20T17:42:27.338Z"
   },
   {
    "duration": 29,
    "start_time": "2023-02-20T17:42:34.336Z"
   },
   {
    "duration": 40,
    "start_time": "2023-02-20T17:42:59.065Z"
   },
   {
    "duration": 5,
    "start_time": "2023-02-20T17:43:31.013Z"
   },
   {
    "duration": 40,
    "start_time": "2023-02-20T17:43:35.067Z"
   },
   {
    "duration": 56,
    "start_time": "2023-02-20T17:44:14.545Z"
   },
   {
    "duration": 12,
    "start_time": "2023-02-20T17:50:44.429Z"
   },
   {
    "duration": 11,
    "start_time": "2023-02-20T17:51:07.687Z"
   },
   {
    "duration": 3,
    "start_time": "2023-02-20T17:57:00.914Z"
   },
   {
    "duration": 7,
    "start_time": "2023-02-20T17:57:23.269Z"
   },
   {
    "duration": 5,
    "start_time": "2023-02-20T17:57:31.590Z"
   },
   {
    "duration": 11,
    "start_time": "2023-02-20T17:57:39.833Z"
   },
   {
    "duration": 11,
    "start_time": "2023-02-20T17:58:41.116Z"
   },
   {
    "duration": 12,
    "start_time": "2023-02-20T17:59:10.725Z"
   },
   {
    "duration": 16,
    "start_time": "2023-02-20T17:59:55.394Z"
   },
   {
    "duration": 3,
    "start_time": "2023-02-20T18:03:06.499Z"
   },
   {
    "duration": 237,
    "start_time": "2023-02-20T18:03:33.841Z"
   },
   {
    "duration": 236,
    "start_time": "2023-02-20T18:03:53.739Z"
   },
   {
    "duration": 232,
    "start_time": "2023-02-20T18:04:23.026Z"
   },
   {
    "duration": 214,
    "start_time": "2023-02-20T18:04:30.401Z"
   },
   {
    "duration": 18663,
    "start_time": "2023-02-20T18:05:12.821Z"
   },
   {
    "duration": 3,
    "start_time": "2023-02-20T18:05:34.783Z"
   },
   {
    "duration": 43,
    "start_time": "2023-02-20T18:05:42.085Z"
   },
   {
    "duration": 71,
    "start_time": "2023-02-20T18:05:56.497Z"
   },
   {
    "duration": 5,
    "start_time": "2023-02-20T18:05:59.823Z"
   },
   {
    "duration": 18083,
    "start_time": "2023-02-20T18:06:02.894Z"
   },
   {
    "duration": 230,
    "start_time": "2023-02-20T18:06:30.837Z"
   },
   {
    "duration": 11,
    "start_time": "2023-02-20T18:06:38.789Z"
   },
   {
    "duration": 5,
    "start_time": "2023-02-20T18:06:59.302Z"
   },
   {
    "duration": 4,
    "start_time": "2023-02-20T18:07:04.300Z"
   },
   {
    "duration": 822,
    "start_time": "2023-02-20T18:07:13.014Z"
   },
   {
    "duration": 37,
    "start_time": "2023-02-20T18:08:23.301Z"
   },
   {
    "duration": 46,
    "start_time": "2023-02-20T18:08:48.709Z"
   },
   {
    "duration": 15,
    "start_time": "2023-02-20T18:10:01.402Z"
   },
   {
    "duration": 63,
    "start_time": "2023-02-20T18:10:19.464Z"
   },
   {
    "duration": 38,
    "start_time": "2023-02-20T18:11:13.661Z"
   },
   {
    "duration": 99,
    "start_time": "2023-02-20T18:11:34.491Z"
   },
   {
    "duration": 43,
    "start_time": "2023-02-20T18:12:59.268Z"
   },
   {
    "duration": 8,
    "start_time": "2023-02-20T18:37:21.785Z"
   },
   {
    "duration": 6,
    "start_time": "2023-02-20T18:37:34.678Z"
   },
   {
    "duration": 88,
    "start_time": "2023-02-20T18:38:03.910Z"
   },
   {
    "duration": 12,
    "start_time": "2023-02-20T18:38:12.550Z"
   },
   {
    "duration": 67,
    "start_time": "2023-02-20T18:39:28.897Z"
   },
   {
    "duration": 12,
    "start_time": "2023-02-20T18:39:51.731Z"
   },
   {
    "duration": 1403,
    "start_time": "2023-02-20T18:42:29.569Z"
   },
   {
    "duration": 209,
    "start_time": "2023-02-20T18:42:30.975Z"
   },
   {
    "duration": 17,
    "start_time": "2023-02-20T18:42:31.186Z"
   },
   {
    "duration": 24,
    "start_time": "2023-02-20T18:42:31.205Z"
   },
   {
    "duration": 48,
    "start_time": "2023-02-20T18:42:31.231Z"
   },
   {
    "duration": 114,
    "start_time": "2023-02-20T18:42:31.281Z"
   },
   {
    "duration": 2165,
    "start_time": "2023-02-20T18:42:31.397Z"
   },
   {
    "duration": 11,
    "start_time": "2023-02-20T18:42:33.564Z"
   },
   {
    "duration": 1165,
    "start_time": "2023-02-20T18:42:33.577Z"
   },
   {
    "duration": 9,
    "start_time": "2023-02-20T18:42:34.752Z"
   },
   {
    "duration": 15,
    "start_time": "2023-02-20T18:42:34.763Z"
   },
   {
    "duration": 28,
    "start_time": "2023-02-20T18:42:34.780Z"
   },
   {
    "duration": 13,
    "start_time": "2023-02-20T18:42:34.809Z"
   },
   {
    "duration": 15,
    "start_time": "2023-02-20T18:42:34.824Z"
   },
   {
    "duration": 23,
    "start_time": "2023-02-20T18:42:34.840Z"
   },
   {
    "duration": 9,
    "start_time": "2023-02-20T18:42:34.864Z"
   },
   {
    "duration": 7,
    "start_time": "2023-02-20T18:42:34.874Z"
   },
   {
    "duration": 8,
    "start_time": "2023-02-20T18:42:34.882Z"
   },
   {
    "duration": 7,
    "start_time": "2023-02-20T18:42:34.891Z"
   },
   {
    "duration": 6,
    "start_time": "2023-02-20T18:42:34.899Z"
   },
   {
    "duration": 6,
    "start_time": "2023-02-20T18:42:34.907Z"
   },
   {
    "duration": 3375,
    "start_time": "2023-02-20T18:42:34.914Z"
   },
   {
    "duration": 3,
    "start_time": "2023-02-20T18:42:38.290Z"
   },
   {
    "duration": 10,
    "start_time": "2023-02-20T18:42:38.295Z"
   },
   {
    "duration": 3,
    "start_time": "2023-02-20T18:42:38.307Z"
   },
   {
    "duration": 51,
    "start_time": "2023-02-20T18:42:38.312Z"
   },
   {
    "duration": 5,
    "start_time": "2023-02-20T18:42:38.364Z"
   },
   {
    "duration": 5,
    "start_time": "2023-02-20T18:42:38.374Z"
   },
   {
    "duration": 6,
    "start_time": "2023-02-20T18:42:38.380Z"
   },
   {
    "duration": 78,
    "start_time": "2023-02-20T18:42:38.388Z"
   },
   {
    "duration": 20,
    "start_time": "2023-02-20T18:42:38.468Z"
   },
   {
    "duration": 7,
    "start_time": "2023-02-20T18:42:38.490Z"
   },
   {
    "duration": 8,
    "start_time": "2023-02-20T18:42:38.498Z"
   },
   {
    "duration": 62,
    "start_time": "2023-02-20T18:42:38.507Z"
   },
   {
    "duration": 8,
    "start_time": "2023-02-20T18:42:38.572Z"
   },
   {
    "duration": 7,
    "start_time": "2023-02-20T18:42:38.582Z"
   },
   {
    "duration": 24,
    "start_time": "2023-02-20T18:42:38.591Z"
   },
   {
    "duration": 51,
    "start_time": "2023-02-20T18:42:38.617Z"
   },
   {
    "duration": 19,
    "start_time": "2023-02-20T18:42:38.670Z"
   },
   {
    "duration": 20,
    "start_time": "2023-02-20T18:42:38.691Z"
   },
   {
    "duration": 6,
    "start_time": "2023-02-20T18:42:38.713Z"
   },
   {
    "duration": 11,
    "start_time": "2023-02-20T18:42:38.721Z"
   },
   {
    "duration": 16,
    "start_time": "2023-02-20T18:42:38.734Z"
   },
   {
    "duration": 20,
    "start_time": "2023-02-20T18:42:38.755Z"
   },
   {
    "duration": 8,
    "start_time": "2023-02-20T18:42:38.776Z"
   },
   {
    "duration": 5,
    "start_time": "2023-02-20T18:42:38.786Z"
   },
   {
    "duration": 43,
    "start_time": "2023-02-20T18:42:38.793Z"
   },
   {
    "duration": 7,
    "start_time": "2023-02-20T18:42:38.838Z"
   },
   {
    "duration": 19,
    "start_time": "2023-02-20T18:42:38.849Z"
   },
   {
    "duration": 14,
    "start_time": "2023-02-20T18:42:38.870Z"
   },
   {
    "duration": 14,
    "start_time": "2023-02-20T18:42:38.886Z"
   },
   {
    "duration": 8,
    "start_time": "2023-02-20T18:42:38.902Z"
   },
   {
    "duration": 3,
    "start_time": "2023-02-20T18:42:38.912Z"
   },
   {
    "duration": 8,
    "start_time": "2023-02-20T18:42:38.917Z"
   },
   {
    "duration": 35,
    "start_time": "2023-02-20T18:42:38.927Z"
   },
   {
    "duration": 6,
    "start_time": "2023-02-20T18:42:38.964Z"
   },
   {
    "duration": 31,
    "start_time": "2023-02-20T18:42:38.972Z"
   },
   {
    "duration": 55,
    "start_time": "2023-02-20T18:42:39.005Z"
   },
   {
    "duration": 11,
    "start_time": "2023-02-20T18:42:39.062Z"
   },
   {
    "duration": 16,
    "start_time": "2023-02-20T18:42:39.075Z"
   },
   {
    "duration": 17,
    "start_time": "2023-02-20T18:42:39.093Z"
   },
   {
    "duration": 2,
    "start_time": "2023-02-20T18:42:39.112Z"
   },
   {
    "duration": 8,
    "start_time": "2023-02-20T18:42:39.116Z"
   },
   {
    "duration": 19,
    "start_time": "2023-02-20T18:42:39.126Z"
   },
   {
    "duration": 10,
    "start_time": "2023-02-20T18:42:39.147Z"
   },
   {
    "duration": 24,
    "start_time": "2023-02-20T18:42:39.158Z"
   },
   {
    "duration": 103,
    "start_time": "2023-02-20T18:42:39.184Z"
   },
   {
    "duration": 6,
    "start_time": "2023-02-20T18:42:39.289Z"
   },
   {
    "duration": 13,
    "start_time": "2023-02-20T18:42:39.296Z"
   },
   {
    "duration": 6,
    "start_time": "2023-02-20T18:42:39.311Z"
   },
   {
    "duration": 95,
    "start_time": "2023-02-20T18:42:39.318Z"
   },
   {
    "duration": 9,
    "start_time": "2023-02-20T18:42:39.414Z"
   },
   {
    "duration": 60,
    "start_time": "2023-02-20T18:42:39.425Z"
   },
   {
    "duration": 1098,
    "start_time": "2023-02-20T18:42:39.486Z"
   },
   {
    "duration": 0,
    "start_time": "2023-02-20T18:42:40.586Z"
   },
   {
    "duration": 0,
    "start_time": "2023-02-20T18:42:40.587Z"
   },
   {
    "duration": 0,
    "start_time": "2023-02-20T18:42:40.588Z"
   },
   {
    "duration": 0,
    "start_time": "2023-02-20T18:42:40.590Z"
   },
   {
    "duration": 0,
    "start_time": "2023-02-20T18:42:40.592Z"
   },
   {
    "duration": 0,
    "start_time": "2023-02-20T18:42:40.593Z"
   },
   {
    "duration": 0,
    "start_time": "2023-02-20T18:42:40.595Z"
   },
   {
    "duration": 0,
    "start_time": "2023-02-20T18:42:40.596Z"
   },
   {
    "duration": 0,
    "start_time": "2023-02-20T18:42:40.597Z"
   },
   {
    "duration": 10,
    "start_time": "2023-02-20T18:43:13.108Z"
   },
   {
    "duration": 57,
    "start_time": "2023-02-20T18:44:00.812Z"
   },
   {
    "duration": 1304,
    "start_time": "2023-02-20T18:44:12.736Z"
   },
   {
    "duration": 100,
    "start_time": "2023-02-20T18:44:16.325Z"
   },
   {
    "duration": 17,
    "start_time": "2023-02-20T18:44:18.926Z"
   },
   {
    "duration": 112,
    "start_time": "2023-02-20T18:47:11.724Z"
   },
   {
    "duration": 17,
    "start_time": "2023-02-20T18:47:12.296Z"
   },
   {
    "duration": 15,
    "start_time": "2023-02-20T18:47:27.161Z"
   },
   {
    "duration": 34,
    "start_time": "2023-02-20T18:48:02.021Z"
   },
   {
    "duration": 866,
    "start_time": "2023-02-20T18:48:02.465Z"
   },
   {
    "duration": 8,
    "start_time": "2023-02-20T18:48:29.712Z"
   },
   {
    "duration": 28,
    "start_time": "2023-02-20T18:48:33.535Z"
   },
   {
    "duration": 5,
    "start_time": "2023-02-20T18:48:34.236Z"
   },
   {
    "duration": 36,
    "start_time": "2023-02-20T18:48:34.908Z"
   },
   {
    "duration": 38,
    "start_time": "2023-02-20T18:48:35.797Z"
   },
   {
    "duration": 9,
    "start_time": "2023-02-20T18:48:38.208Z"
   },
   {
    "duration": 7,
    "start_time": "2023-02-20T18:48:39.278Z"
   },
   {
    "duration": 26,
    "start_time": "2023-02-20T18:48:49.011Z"
   },
   {
    "duration": 16,
    "start_time": "2023-02-20T18:48:49.594Z"
   },
   {
    "duration": 16,
    "start_time": "2023-02-20T18:50:24.342Z"
   },
   {
    "duration": 16,
    "start_time": "2023-02-20T18:50:31.162Z"
   },
   {
    "duration": 1257,
    "start_time": "2023-02-20T19:41:14.209Z"
   },
   {
    "duration": 95,
    "start_time": "2023-02-20T19:41:15.469Z"
   },
   {
    "duration": 20,
    "start_time": "2023-02-20T19:41:15.566Z"
   },
   {
    "duration": 5,
    "start_time": "2023-02-20T19:41:15.589Z"
   },
   {
    "duration": 48,
    "start_time": "2023-02-20T19:41:15.596Z"
   },
   {
    "duration": 80,
    "start_time": "2023-02-20T19:41:15.647Z"
   },
   {
    "duration": 2136,
    "start_time": "2023-02-20T19:41:15.729Z"
   },
   {
    "duration": 11,
    "start_time": "2023-02-20T19:41:17.868Z"
   },
   {
    "duration": 1151,
    "start_time": "2023-02-20T19:41:17.880Z"
   },
   {
    "duration": 12,
    "start_time": "2023-02-20T19:41:19.035Z"
   },
   {
    "duration": 15,
    "start_time": "2023-02-20T19:41:19.049Z"
   },
   {
    "duration": 29,
    "start_time": "2023-02-20T19:41:19.066Z"
   },
   {
    "duration": 5,
    "start_time": "2023-02-20T19:41:19.097Z"
   },
   {
    "duration": 8,
    "start_time": "2023-02-20T19:41:19.104Z"
   },
   {
    "duration": 7,
    "start_time": "2023-02-20T19:41:19.114Z"
   },
   {
    "duration": 6,
    "start_time": "2023-02-20T19:41:19.145Z"
   },
   {
    "duration": 12,
    "start_time": "2023-02-20T19:41:19.153Z"
   },
   {
    "duration": 9,
    "start_time": "2023-02-20T19:41:19.167Z"
   },
   {
    "duration": 8,
    "start_time": "2023-02-20T19:41:19.178Z"
   },
   {
    "duration": 8,
    "start_time": "2023-02-20T19:41:19.187Z"
   },
   {
    "duration": 8,
    "start_time": "2023-02-20T19:41:19.196Z"
   },
   {
    "duration": 3298,
    "start_time": "2023-02-20T19:41:19.206Z"
   },
   {
    "duration": 4,
    "start_time": "2023-02-20T19:41:22.505Z"
   },
   {
    "duration": 10,
    "start_time": "2023-02-20T19:41:22.510Z"
   },
   {
    "duration": 11,
    "start_time": "2023-02-20T19:41:22.522Z"
   },
   {
    "duration": 37,
    "start_time": "2023-02-20T19:41:22.534Z"
   },
   {
    "duration": 5,
    "start_time": "2023-02-20T19:41:22.573Z"
   },
   {
    "duration": 7,
    "start_time": "2023-02-20T19:41:22.582Z"
   },
   {
    "duration": 8,
    "start_time": "2023-02-20T19:41:22.591Z"
   },
   {
    "duration": 87,
    "start_time": "2023-02-20T19:41:22.600Z"
   },
   {
    "duration": 21,
    "start_time": "2023-02-20T19:41:22.688Z"
   },
   {
    "duration": 5,
    "start_time": "2023-02-20T19:41:22.712Z"
   },
   {
    "duration": 28,
    "start_time": "2023-02-20T19:41:22.718Z"
   },
   {
    "duration": 31,
    "start_time": "2023-02-20T19:41:22.748Z"
   },
   {
    "duration": 5,
    "start_time": "2023-02-20T19:41:22.780Z"
   },
   {
    "duration": 5,
    "start_time": "2023-02-20T19:41:22.787Z"
   },
   {
    "duration": 6,
    "start_time": "2023-02-20T19:41:22.794Z"
   },
   {
    "duration": 6,
    "start_time": "2023-02-20T19:41:22.802Z"
   },
   {
    "duration": 93,
    "start_time": "2023-02-20T19:41:22.809Z"
   },
   {
    "duration": 4,
    "start_time": "2023-02-20T19:41:22.904Z"
   },
   {
    "duration": 7,
    "start_time": "2023-02-20T19:41:22.910Z"
   },
   {
    "duration": 9,
    "start_time": "2023-02-20T19:41:22.918Z"
   },
   {
    "duration": 12,
    "start_time": "2023-02-20T19:41:22.928Z"
   },
   {
    "duration": 7,
    "start_time": "2023-02-20T19:41:22.942Z"
   },
   {
    "duration": 8,
    "start_time": "2023-02-20T19:41:22.951Z"
   },
   {
    "duration": 7,
    "start_time": "2023-02-20T19:41:22.961Z"
   },
   {
    "duration": 50,
    "start_time": "2023-02-20T19:41:22.969Z"
   },
   {
    "duration": 5,
    "start_time": "2023-02-20T19:41:23.021Z"
   },
   {
    "duration": 21,
    "start_time": "2023-02-20T19:41:23.028Z"
   },
   {
    "duration": 12,
    "start_time": "2023-02-20T19:41:23.052Z"
   },
   {
    "duration": 10,
    "start_time": "2023-02-20T19:41:23.066Z"
   },
   {
    "duration": 10,
    "start_time": "2023-02-20T19:41:23.078Z"
   },
   {
    "duration": 4,
    "start_time": "2023-02-20T19:41:23.090Z"
   },
   {
    "duration": 11,
    "start_time": "2023-02-20T19:41:23.097Z"
   },
   {
    "duration": 43,
    "start_time": "2023-02-20T19:41:23.110Z"
   },
   {
    "duration": 22,
    "start_time": "2023-02-20T19:41:23.155Z"
   },
   {
    "duration": 27,
    "start_time": "2023-02-20T19:41:23.179Z"
   },
   {
    "duration": 36,
    "start_time": "2023-02-20T19:41:23.208Z"
   },
   {
    "duration": 10,
    "start_time": "2023-02-20T19:41:23.245Z"
   },
   {
    "duration": 15,
    "start_time": "2023-02-20T19:41:23.256Z"
   },
   {
    "duration": 23,
    "start_time": "2023-02-20T19:41:23.273Z"
   },
   {
    "duration": 3,
    "start_time": "2023-02-20T19:41:23.297Z"
   },
   {
    "duration": 8,
    "start_time": "2023-02-20T19:41:23.302Z"
   },
   {
    "duration": 7,
    "start_time": "2023-02-20T19:41:23.312Z"
   },
   {
    "duration": 7,
    "start_time": "2023-02-20T19:41:23.321Z"
   },
   {
    "duration": 16,
    "start_time": "2023-02-20T19:41:23.330Z"
   },
   {
    "duration": 74,
    "start_time": "2023-02-20T19:41:23.348Z"
   },
   {
    "duration": 25,
    "start_time": "2023-02-20T19:41:23.424Z"
   },
   {
    "duration": 11,
    "start_time": "2023-02-20T19:41:23.451Z"
   },
   {
    "duration": 6,
    "start_time": "2023-02-20T19:41:23.464Z"
   },
   {
    "duration": 91,
    "start_time": "2023-02-20T19:41:23.471Z"
   },
   {
    "duration": 9,
    "start_time": "2023-02-20T19:41:23.564Z"
   },
   {
    "duration": 11,
    "start_time": "2023-02-20T19:41:23.574Z"
   },
   {
    "duration": 58,
    "start_time": "2023-02-20T19:41:23.587Z"
   },
   {
    "duration": 8,
    "start_time": "2023-02-20T19:41:23.647Z"
   },
   {
    "duration": 57,
    "start_time": "2023-02-20T19:41:23.657Z"
   },
   {
    "duration": 4,
    "start_time": "2023-02-20T19:41:23.716Z"
   },
   {
    "duration": 74,
    "start_time": "2023-02-20T19:41:23.722Z"
   },
   {
    "duration": 61,
    "start_time": "2023-02-20T19:41:23.798Z"
   },
   {
    "duration": 13,
    "start_time": "2023-02-20T19:41:23.861Z"
   },
   {
    "duration": 10,
    "start_time": "2023-02-20T19:41:23.875Z"
   },
   {
    "duration": 33,
    "start_time": "2023-02-20T19:41:23.892Z"
   },
   {
    "duration": 17,
    "start_time": "2023-02-20T19:41:23.945Z"
   },
   {
    "duration": 17,
    "start_time": "2023-02-20T19:41:23.963Z"
   },
   {
    "duration": 4,
    "start_time": "2023-02-20T19:41:23.982Z"
   },
   {
    "duration": 872,
    "start_time": "2023-02-20T19:47:51.452Z"
   },
   {
    "duration": 5,
    "start_time": "2023-02-20T19:48:08.924Z"
   },
   {
    "duration": 6,
    "start_time": "2023-02-20T19:48:29.381Z"
   },
   {
    "duration": 5,
    "start_time": "2023-02-20T20:11:55.393Z"
   },
   {
    "duration": 5,
    "start_time": "2023-02-20T20:22:19.806Z"
   },
   {
    "duration": 37,
    "start_time": "2023-02-20T20:22:24.960Z"
   },
   {
    "duration": 560,
    "start_time": "2023-02-20T20:27:06.354Z"
   },
   {
    "duration": 16,
    "start_time": "2023-02-20T20:27:54.024Z"
   },
   {
    "duration": 13,
    "start_time": "2023-02-20T20:29:41.535Z"
   },
   {
    "duration": 20,
    "start_time": "2023-02-20T20:30:33.092Z"
   },
   {
    "duration": 14,
    "start_time": "2023-02-20T20:30:57.330Z"
   },
   {
    "duration": 1127,
    "start_time": "2023-02-20T20:31:53.881Z"
   },
   {
    "duration": 95,
    "start_time": "2023-02-20T20:31:55.010Z"
   },
   {
    "duration": 18,
    "start_time": "2023-02-20T20:31:55.107Z"
   },
   {
    "duration": 4,
    "start_time": "2023-02-20T20:31:55.127Z"
   },
   {
    "duration": 38,
    "start_time": "2023-02-20T20:31:55.145Z"
   },
   {
    "duration": 92,
    "start_time": "2023-02-20T20:31:55.186Z"
   },
   {
    "duration": 2237,
    "start_time": "2023-02-20T20:31:55.279Z"
   },
   {
    "duration": 27,
    "start_time": "2023-02-20T20:31:57.518Z"
   },
   {
    "duration": 1145,
    "start_time": "2023-02-20T20:31:57.548Z"
   },
   {
    "duration": 5,
    "start_time": "2023-02-20T20:31:58.697Z"
   },
   {
    "duration": 11,
    "start_time": "2023-02-20T20:31:58.703Z"
   },
   {
    "duration": 46,
    "start_time": "2023-02-20T20:31:58.716Z"
   },
   {
    "duration": 7,
    "start_time": "2023-02-20T20:31:58.764Z"
   },
   {
    "duration": 10,
    "start_time": "2023-02-20T20:31:58.773Z"
   },
   {
    "duration": 6,
    "start_time": "2023-02-20T20:31:58.785Z"
   },
   {
    "duration": 10,
    "start_time": "2023-02-20T20:31:58.792Z"
   },
   {
    "duration": 15,
    "start_time": "2023-02-20T20:31:58.804Z"
   },
   {
    "duration": 27,
    "start_time": "2023-02-20T20:31:58.821Z"
   },
   {
    "duration": 6,
    "start_time": "2023-02-20T20:31:58.850Z"
   },
   {
    "duration": 6,
    "start_time": "2023-02-20T20:31:58.858Z"
   },
   {
    "duration": 9,
    "start_time": "2023-02-20T20:31:58.866Z"
   },
   {
    "duration": 3289,
    "start_time": "2023-02-20T20:31:58.876Z"
   },
   {
    "duration": 2,
    "start_time": "2023-02-20T20:32:02.167Z"
   },
   {
    "duration": 45,
    "start_time": "2023-02-20T20:32:02.171Z"
   },
   {
    "duration": 30,
    "start_time": "2023-02-20T20:32:02.218Z"
   },
   {
    "duration": 32,
    "start_time": "2023-02-20T20:32:02.250Z"
   },
   {
    "duration": 4,
    "start_time": "2023-02-20T20:32:02.284Z"
   },
   {
    "duration": 7,
    "start_time": "2023-02-20T20:32:02.293Z"
   },
   {
    "duration": 14,
    "start_time": "2023-02-20T20:32:02.301Z"
   },
   {
    "duration": 77,
    "start_time": "2023-02-20T20:32:02.317Z"
   },
   {
    "duration": 21,
    "start_time": "2023-02-20T20:32:02.395Z"
   },
   {
    "duration": 25,
    "start_time": "2023-02-20T20:32:02.418Z"
   },
   {
    "duration": 23,
    "start_time": "2023-02-20T20:32:02.445Z"
   },
   {
    "duration": 40,
    "start_time": "2023-02-20T20:32:02.470Z"
   },
   {
    "duration": 5,
    "start_time": "2023-02-20T20:32:02.512Z"
   },
   {
    "duration": 20,
    "start_time": "2023-02-20T20:32:02.519Z"
   },
   {
    "duration": 22,
    "start_time": "2023-02-20T20:32:02.541Z"
   },
   {
    "duration": 32,
    "start_time": "2023-02-20T20:32:02.565Z"
   },
   {
    "duration": 16,
    "start_time": "2023-02-20T20:32:02.599Z"
   },
   {
    "duration": 11,
    "start_time": "2023-02-20T20:32:02.617Z"
   },
   {
    "duration": 9,
    "start_time": "2023-02-20T20:32:02.630Z"
   },
   {
    "duration": 24,
    "start_time": "2023-02-20T20:32:02.641Z"
   },
   {
    "duration": 18,
    "start_time": "2023-02-20T20:32:02.667Z"
   },
   {
    "duration": 10,
    "start_time": "2023-02-20T20:32:02.687Z"
   },
   {
    "duration": 7,
    "start_time": "2023-02-20T20:32:02.699Z"
   },
   {
    "duration": 6,
    "start_time": "2023-02-20T20:32:02.708Z"
   },
   {
    "duration": 40,
    "start_time": "2023-02-20T20:32:02.716Z"
   },
   {
    "duration": 6,
    "start_time": "2023-02-20T20:32:02.757Z"
   },
   {
    "duration": 20,
    "start_time": "2023-02-20T20:32:02.764Z"
   },
   {
    "duration": 9,
    "start_time": "2023-02-20T20:32:02.786Z"
   },
   {
    "duration": 17,
    "start_time": "2023-02-20T20:32:02.797Z"
   },
   {
    "duration": 18,
    "start_time": "2023-02-20T20:32:02.815Z"
   },
   {
    "duration": 17,
    "start_time": "2023-02-20T20:32:02.834Z"
   },
   {
    "duration": 4,
    "start_time": "2023-02-20T20:32:02.853Z"
   },
   {
    "duration": 14,
    "start_time": "2023-02-20T20:32:02.859Z"
   },
   {
    "duration": 27,
    "start_time": "2023-02-20T20:32:02.875Z"
   },
   {
    "duration": 6,
    "start_time": "2023-02-20T20:32:02.904Z"
   },
   {
    "duration": 38,
    "start_time": "2023-02-20T20:32:02.911Z"
   },
   {
    "duration": 40,
    "start_time": "2023-02-20T20:32:02.951Z"
   },
   {
    "duration": 12,
    "start_time": "2023-02-20T20:32:02.993Z"
   },
   {
    "duration": 10,
    "start_time": "2023-02-20T20:32:03.007Z"
   },
   {
    "duration": 12,
    "start_time": "2023-02-20T20:32:03.046Z"
   },
   {
    "duration": 3,
    "start_time": "2023-02-20T20:32:03.060Z"
   },
   {
    "duration": 17,
    "start_time": "2023-02-20T20:32:03.064Z"
   },
   {
    "duration": 10,
    "start_time": "2023-02-20T20:32:03.083Z"
   },
   {
    "duration": 18,
    "start_time": "2023-02-20T20:32:03.096Z"
   },
   {
    "duration": 19,
    "start_time": "2023-02-20T20:32:03.120Z"
   },
   {
    "duration": 86,
    "start_time": "2023-02-20T20:32:03.140Z"
   },
   {
    "duration": 7,
    "start_time": "2023-02-20T20:32:03.228Z"
   },
   {
    "duration": 14,
    "start_time": "2023-02-20T20:32:03.245Z"
   },
   {
    "duration": 7,
    "start_time": "2023-02-20T20:32:03.261Z"
   },
   {
    "duration": 87,
    "start_time": "2023-02-20T20:32:03.270Z"
   },
   {
    "duration": 8,
    "start_time": "2023-02-20T20:32:03.359Z"
   },
   {
    "duration": 10,
    "start_time": "2023-02-20T20:32:03.370Z"
   },
   {
    "duration": 38,
    "start_time": "2023-02-20T20:32:03.382Z"
   },
   {
    "duration": 28,
    "start_time": "2023-02-20T20:32:03.422Z"
   },
   {
    "duration": 46,
    "start_time": "2023-02-20T20:32:03.453Z"
   },
   {
    "duration": 7,
    "start_time": "2023-02-20T20:32:03.501Z"
   },
   {
    "duration": 58,
    "start_time": "2023-02-20T20:32:03.509Z"
   },
   {
    "duration": 28,
    "start_time": "2023-02-20T20:32:03.569Z"
   },
   {
    "duration": 14,
    "start_time": "2023-02-20T20:32:03.599Z"
   },
   {
    "duration": 5,
    "start_time": "2023-02-20T20:32:03.619Z"
   },
   {
    "duration": 52,
    "start_time": "2023-02-20T20:32:03.627Z"
   },
   {
    "duration": 23,
    "start_time": "2023-02-20T20:32:03.681Z"
   },
   {
    "duration": 44,
    "start_time": "2023-02-20T20:32:03.706Z"
   },
   {
    "duration": 4,
    "start_time": "2023-02-20T20:32:03.753Z"
   },
   {
    "duration": 12,
    "start_time": "2023-02-20T20:32:03.759Z"
   },
   {
    "duration": 6,
    "start_time": "2023-02-20T20:32:03.773Z"
   },
   {
    "duration": 723,
    "start_time": "2023-02-20T20:32:03.780Z"
   },
   {
    "duration": 0,
    "start_time": "2023-02-20T20:32:04.505Z"
   },
   {
    "duration": 0,
    "start_time": "2023-02-20T20:32:04.507Z"
   },
   {
    "duration": 0,
    "start_time": "2023-02-20T20:32:04.508Z"
   },
   {
    "duration": 0,
    "start_time": "2023-02-20T20:32:04.510Z"
   },
   {
    "duration": 0,
    "start_time": "2023-02-20T20:32:04.512Z"
   },
   {
    "duration": 19,
    "start_time": "2023-02-20T20:32:39.537Z"
   },
   {
    "duration": 20,
    "start_time": "2023-02-20T20:33:30.479Z"
   },
   {
    "duration": 13,
    "start_time": "2023-02-20T20:34:16.730Z"
   },
   {
    "duration": 14,
    "start_time": "2023-02-20T20:34:57.291Z"
   },
   {
    "duration": 13,
    "start_time": "2023-02-20T20:35:59.035Z"
   },
   {
    "duration": 634,
    "start_time": "2023-02-20T20:38:26.989Z"
   },
   {
    "duration": 3,
    "start_time": "2023-02-20T20:39:09.647Z"
   },
   {
    "duration": 583,
    "start_time": "2023-02-20T20:39:24.227Z"
   },
   {
    "duration": 12,
    "start_time": "2023-02-20T20:39:39.216Z"
   },
   {
    "duration": 62,
    "start_time": "2023-02-20T20:40:09.134Z"
   },
   {
    "duration": 6,
    "start_time": "2023-02-20T20:40:14.859Z"
   },
   {
    "duration": 11,
    "start_time": "2023-02-20T20:40:26.948Z"
   },
   {
    "duration": 17,
    "start_time": "2023-02-20T20:40:32.325Z"
   },
   {
    "duration": 21,
    "start_time": "2023-02-20T20:40:59.038Z"
   },
   {
    "duration": 5,
    "start_time": "2023-02-20T20:41:49.998Z"
   },
   {
    "duration": 15,
    "start_time": "2023-02-20T20:41:57.966Z"
   },
   {
    "duration": 14,
    "start_time": "2023-02-20T20:44:19.221Z"
   },
   {
    "duration": 1278,
    "start_time": "2023-02-20T20:44:25.230Z"
   },
   {
    "duration": 101,
    "start_time": "2023-02-20T20:44:26.510Z"
   },
   {
    "duration": 17,
    "start_time": "2023-02-20T20:44:26.613Z"
   },
   {
    "duration": 130,
    "start_time": "2023-02-20T20:44:26.633Z"
   },
   {
    "duration": 0,
    "start_time": "2023-02-20T20:44:26.768Z"
   },
   {
    "duration": 0,
    "start_time": "2023-02-20T20:44:26.769Z"
   },
   {
    "duration": 0,
    "start_time": "2023-02-20T20:44:26.771Z"
   },
   {
    "duration": 0,
    "start_time": "2023-02-20T20:44:26.772Z"
   },
   {
    "duration": 0,
    "start_time": "2023-02-20T20:44:26.774Z"
   },
   {
    "duration": 0,
    "start_time": "2023-02-20T20:44:26.775Z"
   },
   {
    "duration": 0,
    "start_time": "2023-02-20T20:44:26.776Z"
   },
   {
    "duration": 0,
    "start_time": "2023-02-20T20:44:26.778Z"
   },
   {
    "duration": 0,
    "start_time": "2023-02-20T20:44:26.779Z"
   },
   {
    "duration": 0,
    "start_time": "2023-02-20T20:44:26.780Z"
   },
   {
    "duration": 0,
    "start_time": "2023-02-20T20:44:26.782Z"
   },
   {
    "duration": 0,
    "start_time": "2023-02-20T20:44:26.783Z"
   },
   {
    "duration": 0,
    "start_time": "2023-02-20T20:44:26.785Z"
   },
   {
    "duration": 1,
    "start_time": "2023-02-20T20:44:26.786Z"
   },
   {
    "duration": 0,
    "start_time": "2023-02-20T20:44:26.788Z"
   },
   {
    "duration": 0,
    "start_time": "2023-02-20T20:44:26.788Z"
   },
   {
    "duration": 0,
    "start_time": "2023-02-20T20:44:26.789Z"
   },
   {
    "duration": 0,
    "start_time": "2023-02-20T20:44:26.792Z"
   },
   {
    "duration": 0,
    "start_time": "2023-02-20T20:44:26.793Z"
   },
   {
    "duration": 0,
    "start_time": "2023-02-20T20:44:26.794Z"
   },
   {
    "duration": 0,
    "start_time": "2023-02-20T20:44:26.795Z"
   },
   {
    "duration": 0,
    "start_time": "2023-02-20T20:44:26.797Z"
   },
   {
    "duration": 0,
    "start_time": "2023-02-20T20:44:26.846Z"
   },
   {
    "duration": 0,
    "start_time": "2023-02-20T20:44:26.849Z"
   },
   {
    "duration": 0,
    "start_time": "2023-02-20T20:44:26.850Z"
   },
   {
    "duration": 0,
    "start_time": "2023-02-20T20:44:26.852Z"
   },
   {
    "duration": 0,
    "start_time": "2023-02-20T20:44:26.853Z"
   },
   {
    "duration": 0,
    "start_time": "2023-02-20T20:44:26.854Z"
   },
   {
    "duration": 0,
    "start_time": "2023-02-20T20:44:26.856Z"
   },
   {
    "duration": 0,
    "start_time": "2023-02-20T20:44:26.857Z"
   },
   {
    "duration": 0,
    "start_time": "2023-02-20T20:44:26.858Z"
   },
   {
    "duration": 0,
    "start_time": "2023-02-20T20:44:26.860Z"
   },
   {
    "duration": 0,
    "start_time": "2023-02-20T20:44:26.861Z"
   },
   {
    "duration": 0,
    "start_time": "2023-02-20T20:44:26.862Z"
   },
   {
    "duration": 0,
    "start_time": "2023-02-20T20:44:26.864Z"
   },
   {
    "duration": 0,
    "start_time": "2023-02-20T20:44:26.865Z"
   },
   {
    "duration": 0,
    "start_time": "2023-02-20T20:44:26.866Z"
   },
   {
    "duration": 0,
    "start_time": "2023-02-20T20:44:26.867Z"
   },
   {
    "duration": 0,
    "start_time": "2023-02-20T20:44:26.869Z"
   },
   {
    "duration": 0,
    "start_time": "2023-02-20T20:44:26.870Z"
   },
   {
    "duration": 0,
    "start_time": "2023-02-20T20:44:26.871Z"
   },
   {
    "duration": 0,
    "start_time": "2023-02-20T20:44:26.872Z"
   },
   {
    "duration": 0,
    "start_time": "2023-02-20T20:44:26.874Z"
   },
   {
    "duration": 0,
    "start_time": "2023-02-20T20:44:26.875Z"
   },
   {
    "duration": 0,
    "start_time": "2023-02-20T20:44:26.876Z"
   },
   {
    "duration": 0,
    "start_time": "2023-02-20T20:44:26.877Z"
   },
   {
    "duration": 0,
    "start_time": "2023-02-20T20:44:26.878Z"
   },
   {
    "duration": 0,
    "start_time": "2023-02-20T20:44:26.880Z"
   },
   {
    "duration": 0,
    "start_time": "2023-02-20T20:44:26.881Z"
   },
   {
    "duration": 0,
    "start_time": "2023-02-20T20:44:26.882Z"
   },
   {
    "duration": 0,
    "start_time": "2023-02-20T20:44:26.947Z"
   },
   {
    "duration": 0,
    "start_time": "2023-02-20T20:44:26.948Z"
   },
   {
    "duration": 0,
    "start_time": "2023-02-20T20:44:26.950Z"
   },
   {
    "duration": 0,
    "start_time": "2023-02-20T20:44:26.951Z"
   },
   {
    "duration": 0,
    "start_time": "2023-02-20T20:44:26.953Z"
   },
   {
    "duration": 0,
    "start_time": "2023-02-20T20:44:26.954Z"
   },
   {
    "duration": 0,
    "start_time": "2023-02-20T20:44:26.955Z"
   },
   {
    "duration": 0,
    "start_time": "2023-02-20T20:44:26.957Z"
   },
   {
    "duration": 0,
    "start_time": "2023-02-20T20:44:26.958Z"
   },
   {
    "duration": 0,
    "start_time": "2023-02-20T20:44:26.960Z"
   },
   {
    "duration": 0,
    "start_time": "2023-02-20T20:44:26.961Z"
   },
   {
    "duration": 0,
    "start_time": "2023-02-20T20:44:26.963Z"
   },
   {
    "duration": 0,
    "start_time": "2023-02-20T20:44:26.964Z"
   },
   {
    "duration": 0,
    "start_time": "2023-02-20T20:44:26.965Z"
   },
   {
    "duration": 0,
    "start_time": "2023-02-20T20:44:26.966Z"
   },
   {
    "duration": 0,
    "start_time": "2023-02-20T20:44:26.967Z"
   },
   {
    "duration": 0,
    "start_time": "2023-02-20T20:44:26.968Z"
   },
   {
    "duration": 0,
    "start_time": "2023-02-20T20:44:26.969Z"
   },
   {
    "duration": 0,
    "start_time": "2023-02-20T20:44:26.972Z"
   },
   {
    "duration": 0,
    "start_time": "2023-02-20T20:44:26.973Z"
   },
   {
    "duration": 1,
    "start_time": "2023-02-20T20:44:26.974Z"
   },
   {
    "duration": 0,
    "start_time": "2023-02-20T20:44:26.976Z"
   },
   {
    "duration": 0,
    "start_time": "2023-02-20T20:44:26.977Z"
   },
   {
    "duration": 0,
    "start_time": "2023-02-20T20:44:26.979Z"
   },
   {
    "duration": 0,
    "start_time": "2023-02-20T20:44:26.981Z"
   },
   {
    "duration": 0,
    "start_time": "2023-02-20T20:44:26.981Z"
   },
   {
    "duration": 0,
    "start_time": "2023-02-20T20:44:26.982Z"
   },
   {
    "duration": 0,
    "start_time": "2023-02-20T20:44:26.983Z"
   },
   {
    "duration": 0,
    "start_time": "2023-02-20T20:44:26.984Z"
   },
   {
    "duration": 0,
    "start_time": "2023-02-20T20:44:26.984Z"
   },
   {
    "duration": 0,
    "start_time": "2023-02-20T20:44:26.985Z"
   },
   {
    "duration": 0,
    "start_time": "2023-02-20T20:44:26.986Z"
   },
   {
    "duration": 58,
    "start_time": "2023-02-20T20:44:26.986Z"
   },
   {
    "duration": 0,
    "start_time": "2023-02-20T20:44:27.049Z"
   },
   {
    "duration": 0,
    "start_time": "2023-02-20T20:44:27.051Z"
   },
   {
    "duration": 0,
    "start_time": "2023-02-20T20:44:27.052Z"
   },
   {
    "duration": 0,
    "start_time": "2023-02-20T20:44:27.053Z"
   },
   {
    "duration": 0,
    "start_time": "2023-02-20T20:44:27.055Z"
   },
   {
    "duration": 0,
    "start_time": "2023-02-20T20:44:27.056Z"
   },
   {
    "duration": 0,
    "start_time": "2023-02-20T20:44:27.057Z"
   },
   {
    "duration": 0,
    "start_time": "2023-02-20T20:44:27.059Z"
   },
   {
    "duration": 0,
    "start_time": "2023-02-20T20:44:27.060Z"
   },
   {
    "duration": 0,
    "start_time": "2023-02-20T20:44:27.061Z"
   },
   {
    "duration": 0,
    "start_time": "2023-02-20T20:44:27.062Z"
   },
   {
    "duration": 0,
    "start_time": "2023-02-20T20:44:27.063Z"
   },
   {
    "duration": 0,
    "start_time": "2023-02-20T20:44:27.065Z"
   },
   {
    "duration": 12,
    "start_time": "2023-02-20T20:45:31.644Z"
   },
   {
    "duration": 15,
    "start_time": "2023-02-20T20:45:42.099Z"
   },
   {
    "duration": 21,
    "start_time": "2023-02-20T20:45:53.069Z"
   },
   {
    "duration": 1341,
    "start_time": "2023-02-21T12:36:00.127Z"
   },
   {
    "duration": 328,
    "start_time": "2023-02-21T12:36:01.470Z"
   },
   {
    "duration": 17,
    "start_time": "2023-02-21T12:36:01.800Z"
   },
   {
    "duration": 6,
    "start_time": "2023-02-21T12:36:01.820Z"
   },
   {
    "duration": 49,
    "start_time": "2023-02-21T12:36:01.828Z"
   },
   {
    "duration": 94,
    "start_time": "2023-02-21T12:36:01.878Z"
   },
   {
    "duration": 1896,
    "start_time": "2023-02-21T12:36:01.975Z"
   },
   {
    "duration": 11,
    "start_time": "2023-02-21T12:36:03.873Z"
   },
   {
    "duration": 1044,
    "start_time": "2023-02-21T12:36:03.885Z"
   },
   {
    "duration": 4,
    "start_time": "2023-02-21T12:36:04.932Z"
   },
   {
    "duration": 14,
    "start_time": "2023-02-21T12:36:04.938Z"
   },
   {
    "duration": 21,
    "start_time": "2023-02-21T12:36:04.953Z"
   },
   {
    "duration": 5,
    "start_time": "2023-02-21T12:36:04.976Z"
   },
   {
    "duration": 5,
    "start_time": "2023-02-21T12:36:04.982Z"
   },
   {
    "duration": 5,
    "start_time": "2023-02-21T12:36:04.988Z"
   },
   {
    "duration": 5,
    "start_time": "2023-02-21T12:36:04.994Z"
   },
   {
    "duration": 4,
    "start_time": "2023-02-21T12:36:05.000Z"
   },
   {
    "duration": 7,
    "start_time": "2023-02-21T12:36:05.006Z"
   },
   {
    "duration": 35,
    "start_time": "2023-02-21T12:36:05.014Z"
   },
   {
    "duration": 5,
    "start_time": "2023-02-21T12:36:05.051Z"
   },
   {
    "duration": 14,
    "start_time": "2023-02-21T12:36:05.057Z"
   },
   {
    "duration": 2842,
    "start_time": "2023-02-21T12:36:05.073Z"
   },
   {
    "duration": 3,
    "start_time": "2023-02-21T12:36:07.916Z"
   },
   {
    "duration": 11,
    "start_time": "2023-02-21T12:36:07.920Z"
   },
   {
    "duration": 5,
    "start_time": "2023-02-21T12:36:07.933Z"
   },
   {
    "duration": 29,
    "start_time": "2023-02-21T12:36:07.948Z"
   },
   {
    "duration": 4,
    "start_time": "2023-02-21T12:36:07.979Z"
   },
   {
    "duration": 5,
    "start_time": "2023-02-21T12:36:07.988Z"
   },
   {
    "duration": 6,
    "start_time": "2023-02-21T12:36:07.994Z"
   },
   {
    "duration": 63,
    "start_time": "2023-02-21T12:36:08.002Z"
   },
   {
    "duration": 17,
    "start_time": "2023-02-21T12:36:08.067Z"
   },
   {
    "duration": 8,
    "start_time": "2023-02-21T12:36:08.085Z"
   },
   {
    "duration": 6,
    "start_time": "2023-02-21T12:36:08.095Z"
   },
   {
    "duration": 28,
    "start_time": "2023-02-21T12:36:08.103Z"
   },
   {
    "duration": 17,
    "start_time": "2023-02-21T12:36:08.133Z"
   },
   {
    "duration": 7,
    "start_time": "2023-02-21T12:36:08.151Z"
   },
   {
    "duration": 6,
    "start_time": "2023-02-21T12:36:08.159Z"
   },
   {
    "duration": 7,
    "start_time": "2023-02-21T12:36:08.166Z"
   },
   {
    "duration": 7,
    "start_time": "2023-02-21T12:36:08.174Z"
   },
   {
    "duration": 4,
    "start_time": "2023-02-21T12:36:08.182Z"
   },
   {
    "duration": 15,
    "start_time": "2023-02-21T12:36:08.187Z"
   },
   {
    "duration": 6,
    "start_time": "2023-02-21T12:36:08.204Z"
   },
   {
    "duration": 9,
    "start_time": "2023-02-21T12:36:08.211Z"
   },
   {
    "duration": 8,
    "start_time": "2023-02-21T12:36:08.221Z"
   },
   {
    "duration": 21,
    "start_time": "2023-02-21T12:36:08.230Z"
   },
   {
    "duration": 7,
    "start_time": "2023-02-21T12:36:08.253Z"
   },
   {
    "duration": 35,
    "start_time": "2023-02-21T12:36:08.261Z"
   },
   {
    "duration": 3,
    "start_time": "2023-02-21T12:36:08.298Z"
   },
   {
    "duration": 7,
    "start_time": "2023-02-21T12:36:08.303Z"
   },
   {
    "duration": 9,
    "start_time": "2023-02-21T12:36:08.312Z"
   },
   {
    "duration": 28,
    "start_time": "2023-02-21T12:36:08.322Z"
   },
   {
    "duration": 8,
    "start_time": "2023-02-21T12:36:08.351Z"
   },
   {
    "duration": 10,
    "start_time": "2023-02-21T12:36:08.360Z"
   },
   {
    "duration": 5,
    "start_time": "2023-02-21T12:36:08.371Z"
   },
   {
    "duration": 14,
    "start_time": "2023-02-21T12:36:08.377Z"
   },
   {
    "duration": 11,
    "start_time": "2023-02-21T12:36:08.393Z"
   },
   {
    "duration": 8,
    "start_time": "2023-02-21T12:36:08.405Z"
   },
   {
    "duration": 38,
    "start_time": "2023-02-21T12:36:08.415Z"
   },
   {
    "duration": 27,
    "start_time": "2023-02-21T12:36:08.455Z"
   },
   {
    "duration": 8,
    "start_time": "2023-02-21T12:36:08.483Z"
   },
   {
    "duration": 9,
    "start_time": "2023-02-21T12:36:08.492Z"
   },
   {
    "duration": 12,
    "start_time": "2023-02-21T12:36:08.502Z"
   },
   {
    "duration": 2,
    "start_time": "2023-02-21T12:36:08.516Z"
   },
   {
    "duration": 30,
    "start_time": "2023-02-21T12:36:08.520Z"
   },
   {
    "duration": 11,
    "start_time": "2023-02-21T12:36:08.551Z"
   },
   {
    "duration": 5,
    "start_time": "2023-02-21T12:36:08.563Z"
   },
   {
    "duration": 6,
    "start_time": "2023-02-21T12:36:08.570Z"
   },
   {
    "duration": 82,
    "start_time": "2023-02-21T12:36:08.577Z"
   },
   {
    "duration": 5,
    "start_time": "2023-02-21T12:36:08.660Z"
   },
   {
    "duration": 11,
    "start_time": "2023-02-21T12:36:08.667Z"
   },
   {
    "duration": 4,
    "start_time": "2023-02-21T12:36:08.680Z"
   },
   {
    "duration": 77,
    "start_time": "2023-02-21T12:36:08.686Z"
   },
   {
    "duration": 7,
    "start_time": "2023-02-21T12:36:08.765Z"
   },
   {
    "duration": 8,
    "start_time": "2023-02-21T12:36:08.773Z"
   },
   {
    "duration": 29,
    "start_time": "2023-02-21T12:36:08.783Z"
   },
   {
    "duration": 7,
    "start_time": "2023-02-21T12:36:08.813Z"
   },
   {
    "duration": 56,
    "start_time": "2023-02-21T12:36:08.822Z"
   },
   {
    "duration": 4,
    "start_time": "2023-02-21T12:36:08.880Z"
   },
   {
    "duration": 35,
    "start_time": "2023-02-21T12:36:08.886Z"
   },
   {
    "duration": 36,
    "start_time": "2023-02-21T12:36:08.923Z"
   },
   {
    "duration": 7,
    "start_time": "2023-02-21T12:36:08.961Z"
   },
   {
    "duration": 6,
    "start_time": "2023-02-21T12:36:08.973Z"
   },
   {
    "duration": 32,
    "start_time": "2023-02-21T12:36:08.980Z"
   },
   {
    "duration": 34,
    "start_time": "2023-02-21T12:36:09.014Z"
   },
   {
    "duration": 13,
    "start_time": "2023-02-21T12:36:09.049Z"
   },
   {
    "duration": 4,
    "start_time": "2023-02-21T12:36:09.064Z"
   },
   {
    "duration": 8,
    "start_time": "2023-02-21T12:36:09.069Z"
   },
   {
    "duration": 6,
    "start_time": "2023-02-21T12:36:09.079Z"
   },
   {
    "duration": 14,
    "start_time": "2023-02-21T12:36:09.087Z"
   },
   {
    "duration": 4,
    "start_time": "2023-02-21T12:36:09.103Z"
   },
   {
    "duration": 12,
    "start_time": "2023-02-21T12:36:09.108Z"
   },
   {
    "duration": 12,
    "start_time": "2023-02-21T12:36:09.148Z"
   },
   {
    "duration": 105,
    "start_time": "2023-02-21T12:36:09.162Z"
   },
   {
    "duration": 0,
    "start_time": "2023-02-21T12:36:09.268Z"
   },
   {
    "duration": 0,
    "start_time": "2023-02-21T12:36:09.269Z"
   },
   {
    "duration": 0,
    "start_time": "2023-02-21T12:36:09.269Z"
   },
   {
    "duration": 0,
    "start_time": "2023-02-21T12:36:09.270Z"
   },
   {
    "duration": 0,
    "start_time": "2023-02-21T12:36:09.271Z"
   },
   {
    "duration": 0,
    "start_time": "2023-02-21T12:36:09.272Z"
   },
   {
    "duration": 12,
    "start_time": "2023-02-21T12:39:54.751Z"
   },
   {
    "duration": 3,
    "start_time": "2023-02-21T12:42:25.943Z"
   },
   {
    "duration": 2,
    "start_time": "2023-02-21T12:42:28.107Z"
   },
   {
    "duration": 3,
    "start_time": "2023-02-21T12:42:30.475Z"
   },
   {
    "duration": 2,
    "start_time": "2023-02-21T12:43:00.928Z"
   },
   {
    "duration": 634,
    "start_time": "2023-02-21T12:47:36.189Z"
   },
   {
    "duration": 14,
    "start_time": "2023-02-21T12:56:44.250Z"
   },
   {
    "duration": 1240,
    "start_time": "2023-02-22T18:10:06.903Z"
   },
   {
    "duration": 309,
    "start_time": "2023-02-22T18:10:08.145Z"
   },
   {
    "duration": 15,
    "start_time": "2023-02-22T18:10:08.455Z"
   },
   {
    "duration": 2,
    "start_time": "2023-02-22T18:10:08.471Z"
   },
   {
    "duration": 25,
    "start_time": "2023-02-22T18:10:08.475Z"
   },
   {
    "duration": 75,
    "start_time": "2023-02-22T18:10:08.501Z"
   },
   {
    "duration": 1758,
    "start_time": "2023-02-22T18:10:08.577Z"
   },
   {
    "duration": 8,
    "start_time": "2023-02-22T18:10:10.337Z"
   },
   {
    "duration": 1064,
    "start_time": "2023-02-22T18:10:10.347Z"
   },
   {
    "duration": 5,
    "start_time": "2023-02-22T18:10:11.412Z"
   },
   {
    "duration": 17,
    "start_time": "2023-02-22T18:10:11.418Z"
   },
   {
    "duration": 40,
    "start_time": "2023-02-22T18:10:11.437Z"
   },
   {
    "duration": 5,
    "start_time": "2023-02-22T18:10:11.479Z"
   },
   {
    "duration": 11,
    "start_time": "2023-02-22T18:10:11.487Z"
   },
   {
    "duration": 25,
    "start_time": "2023-02-22T18:10:11.500Z"
   },
   {
    "duration": 44,
    "start_time": "2023-02-22T18:10:11.526Z"
   },
   {
    "duration": 22,
    "start_time": "2023-02-22T18:10:11.571Z"
   },
   {
    "duration": 12,
    "start_time": "2023-02-22T18:10:11.594Z"
   },
   {
    "duration": 11,
    "start_time": "2023-02-22T18:10:11.608Z"
   },
   {
    "duration": 34,
    "start_time": "2023-02-22T18:10:11.621Z"
   },
   {
    "duration": 22,
    "start_time": "2023-02-22T18:10:11.657Z"
   },
   {
    "duration": 2807,
    "start_time": "2023-02-22T18:10:11.681Z"
   },
   {
    "duration": 3,
    "start_time": "2023-02-22T18:10:14.489Z"
   },
   {
    "duration": 22,
    "start_time": "2023-02-22T18:10:14.494Z"
   },
   {
    "duration": 15,
    "start_time": "2023-02-22T18:10:14.518Z"
   },
   {
    "duration": 36,
    "start_time": "2023-02-22T18:10:14.534Z"
   },
   {
    "duration": 4,
    "start_time": "2023-02-22T18:10:14.571Z"
   },
   {
    "duration": 12,
    "start_time": "2023-02-22T18:10:14.577Z"
   },
   {
    "duration": 14,
    "start_time": "2023-02-22T18:10:14.590Z"
   },
   {
    "duration": 65,
    "start_time": "2023-02-22T18:10:14.605Z"
   },
   {
    "duration": 21,
    "start_time": "2023-02-22T18:10:14.672Z"
   },
   {
    "duration": 7,
    "start_time": "2023-02-22T18:10:14.695Z"
   },
   {
    "duration": 19,
    "start_time": "2023-02-22T18:10:14.703Z"
   },
   {
    "duration": 44,
    "start_time": "2023-02-22T18:10:14.726Z"
   },
   {
    "duration": 4,
    "start_time": "2023-02-22T18:10:14.772Z"
   },
   {
    "duration": 13,
    "start_time": "2023-02-22T18:10:14.778Z"
   },
   {
    "duration": 12,
    "start_time": "2023-02-22T18:10:14.793Z"
   },
   {
    "duration": 18,
    "start_time": "2023-02-22T18:10:14.807Z"
   },
   {
    "duration": 9,
    "start_time": "2023-02-22T18:10:14.826Z"
   },
   {
    "duration": 20,
    "start_time": "2023-02-22T18:10:14.837Z"
   },
   {
    "duration": 31,
    "start_time": "2023-02-22T18:10:14.861Z"
   },
   {
    "duration": 10,
    "start_time": "2023-02-22T18:10:14.894Z"
   },
   {
    "duration": 15,
    "start_time": "2023-02-22T18:10:14.906Z"
   },
   {
    "duration": 19,
    "start_time": "2023-02-22T18:10:14.922Z"
   },
   {
    "duration": 41,
    "start_time": "2023-02-22T18:10:14.943Z"
   },
   {
    "duration": 122,
    "start_time": "2023-02-22T18:10:14.986Z"
   },
   {
    "duration": 0,
    "start_time": "2023-02-22T18:10:15.110Z"
   },
   {
    "duration": 0,
    "start_time": "2023-02-22T18:10:15.111Z"
   },
   {
    "duration": 0,
    "start_time": "2023-02-22T18:10:15.112Z"
   },
   {
    "duration": 0,
    "start_time": "2023-02-22T18:10:15.113Z"
   },
   {
    "duration": 0,
    "start_time": "2023-02-22T18:10:15.114Z"
   },
   {
    "duration": 0,
    "start_time": "2023-02-22T18:10:15.115Z"
   },
   {
    "duration": 0,
    "start_time": "2023-02-22T18:10:15.116Z"
   },
   {
    "duration": 0,
    "start_time": "2023-02-22T18:10:15.117Z"
   },
   {
    "duration": 0,
    "start_time": "2023-02-22T18:10:15.118Z"
   },
   {
    "duration": 0,
    "start_time": "2023-02-22T18:10:15.119Z"
   },
   {
    "duration": 0,
    "start_time": "2023-02-22T18:10:15.120Z"
   },
   {
    "duration": 0,
    "start_time": "2023-02-22T18:10:15.121Z"
   },
   {
    "duration": 0,
    "start_time": "2023-02-22T18:10:15.147Z"
   },
   {
    "duration": 0,
    "start_time": "2023-02-22T18:10:15.148Z"
   },
   {
    "duration": 0,
    "start_time": "2023-02-22T18:10:15.149Z"
   },
   {
    "duration": 0,
    "start_time": "2023-02-22T18:10:15.150Z"
   },
   {
    "duration": 0,
    "start_time": "2023-02-22T18:10:15.151Z"
   },
   {
    "duration": 0,
    "start_time": "2023-02-22T18:10:15.152Z"
   },
   {
    "duration": 0,
    "start_time": "2023-02-22T18:10:15.153Z"
   },
   {
    "duration": 0,
    "start_time": "2023-02-22T18:10:15.154Z"
   },
   {
    "duration": 0,
    "start_time": "2023-02-22T18:10:15.155Z"
   },
   {
    "duration": 0,
    "start_time": "2023-02-22T18:10:15.156Z"
   },
   {
    "duration": 0,
    "start_time": "2023-02-22T18:10:15.157Z"
   },
   {
    "duration": 0,
    "start_time": "2023-02-22T18:10:15.157Z"
   },
   {
    "duration": 0,
    "start_time": "2023-02-22T18:10:15.158Z"
   },
   {
    "duration": 0,
    "start_time": "2023-02-22T18:10:15.160Z"
   },
   {
    "duration": 0,
    "start_time": "2023-02-22T18:10:15.161Z"
   },
   {
    "duration": 0,
    "start_time": "2023-02-22T18:10:15.162Z"
   },
   {
    "duration": 0,
    "start_time": "2023-02-22T18:10:15.163Z"
   },
   {
    "duration": 0,
    "start_time": "2023-02-22T18:10:15.163Z"
   },
   {
    "duration": 0,
    "start_time": "2023-02-22T18:10:15.165Z"
   },
   {
    "duration": 0,
    "start_time": "2023-02-22T18:10:15.165Z"
   },
   {
    "duration": 0,
    "start_time": "2023-02-22T18:10:15.166Z"
   },
   {
    "duration": 0,
    "start_time": "2023-02-22T18:10:15.168Z"
   },
   {
    "duration": 0,
    "start_time": "2023-02-22T18:10:15.168Z"
   },
   {
    "duration": 0,
    "start_time": "2023-02-22T18:10:15.169Z"
   },
   {
    "duration": 0,
    "start_time": "2023-02-22T18:10:15.171Z"
   },
   {
    "duration": 0,
    "start_time": "2023-02-22T18:10:15.171Z"
   },
   {
    "duration": 0,
    "start_time": "2023-02-22T18:10:15.173Z"
   },
   {
    "duration": 0,
    "start_time": "2023-02-22T18:10:15.174Z"
   },
   {
    "duration": 0,
    "start_time": "2023-02-22T18:10:15.175Z"
   },
   {
    "duration": 0,
    "start_time": "2023-02-22T18:10:15.176Z"
   },
   {
    "duration": 0,
    "start_time": "2023-02-22T18:10:15.177Z"
   },
   {
    "duration": 0,
    "start_time": "2023-02-22T18:10:15.177Z"
   },
   {
    "duration": 0,
    "start_time": "2023-02-22T18:10:15.178Z"
   },
   {
    "duration": 0,
    "start_time": "2023-02-22T18:10:15.180Z"
   },
   {
    "duration": 6,
    "start_time": "2023-02-22T18:15:21.523Z"
   },
   {
    "duration": 5,
    "start_time": "2023-02-22T18:15:44.303Z"
   },
   {
    "duration": 13,
    "start_time": "2023-02-22T18:18:34.463Z"
   },
   {
    "duration": 1245,
    "start_time": "2023-02-22T18:18:53.813Z"
   },
   {
    "duration": 710,
    "start_time": "2023-02-22T18:19:28.954Z"
   },
   {
    "duration": 6,
    "start_time": "2023-02-22T18:19:37.363Z"
   },
   {
    "duration": 4,
    "start_time": "2023-02-22T18:19:48.893Z"
   },
   {
    "duration": 5,
    "start_time": "2023-02-22T18:20:40.643Z"
   },
   {
    "duration": 28,
    "start_time": "2023-02-22T18:21:59.423Z"
   },
   {
    "duration": 8,
    "start_time": "2023-02-22T18:23:45.461Z"
   },
   {
    "duration": 6,
    "start_time": "2023-02-22T18:24:20.839Z"
   },
   {
    "duration": 11,
    "start_time": "2023-02-22T18:24:28.360Z"
   },
   {
    "duration": 5,
    "start_time": "2023-02-22T18:24:37.682Z"
   },
   {
    "duration": 5,
    "start_time": "2023-02-22T18:24:52.527Z"
   },
   {
    "duration": 12,
    "start_time": "2023-02-22T18:25:03.491Z"
   },
   {
    "duration": 6,
    "start_time": "2023-02-22T18:25:20.439Z"
   },
   {
    "duration": 66,
    "start_time": "2023-02-22T18:25:28.422Z"
   },
   {
    "duration": 9,
    "start_time": "2023-02-22T18:25:51.123Z"
   },
   {
    "duration": 9,
    "start_time": "2023-02-22T18:26:05.582Z"
   },
   {
    "duration": 7,
    "start_time": "2023-02-22T18:26:06.243Z"
   },
   {
    "duration": 60,
    "start_time": "2023-02-22T18:26:12.262Z"
   },
   {
    "duration": 7,
    "start_time": "2023-02-22T18:26:15.081Z"
   },
   {
    "duration": 9,
    "start_time": "2023-02-22T18:26:15.808Z"
   },
   {
    "duration": 32,
    "start_time": "2023-02-22T18:26:22.262Z"
   },
   {
    "duration": 8,
    "start_time": "2023-02-22T18:26:23.167Z"
   },
   {
    "duration": 39,
    "start_time": "2023-02-22T18:26:26.287Z"
   },
   {
    "duration": 6,
    "start_time": "2023-02-22T18:26:27.363Z"
   },
   {
    "duration": 32,
    "start_time": "2023-02-22T18:26:29.719Z"
   },
   {
    "duration": 25,
    "start_time": "2023-02-22T18:26:37.063Z"
   },
   {
    "duration": 11,
    "start_time": "2023-02-22T18:26:39.648Z"
   },
   {
    "duration": 2,
    "start_time": "2023-02-22T18:26:58.571Z"
   },
   {
    "duration": 33,
    "start_time": "2023-02-22T18:27:03.399Z"
   },
   {
    "duration": 15,
    "start_time": "2023-02-22T18:27:07.319Z"
   },
   {
    "duration": 21,
    "start_time": "2023-02-22T18:28:57.053Z"
   },
   {
    "duration": 1220,
    "start_time": "2023-02-22T18:30:57.352Z"
   },
   {
    "duration": 100,
    "start_time": "2023-02-22T18:30:58.574Z"
   },
   {
    "duration": 13,
    "start_time": "2023-02-22T18:30:58.676Z"
   },
   {
    "duration": 17,
    "start_time": "2023-02-22T18:30:58.691Z"
   },
   {
    "duration": 32,
    "start_time": "2023-02-22T18:30:58.710Z"
   },
   {
    "duration": 68,
    "start_time": "2023-02-22T18:30:58.744Z"
   },
   {
    "duration": 1821,
    "start_time": "2023-02-22T18:30:58.814Z"
   },
   {
    "duration": 9,
    "start_time": "2023-02-22T18:31:00.636Z"
   },
   {
    "duration": 1050,
    "start_time": "2023-02-22T18:31:00.647Z"
   },
   {
    "duration": 5,
    "start_time": "2023-02-22T18:31:01.699Z"
   },
   {
    "duration": 63,
    "start_time": "2023-02-22T18:31:01.706Z"
   },
   {
    "duration": 50,
    "start_time": "2023-02-22T18:31:01.770Z"
   },
   {
    "duration": 39,
    "start_time": "2023-02-22T18:31:01.822Z"
   },
   {
    "duration": 49,
    "start_time": "2023-02-22T18:31:01.864Z"
   },
   {
    "duration": 49,
    "start_time": "2023-02-22T18:31:01.915Z"
   },
   {
    "duration": 82,
    "start_time": "2023-02-22T18:31:01.966Z"
   },
   {
    "duration": 46,
    "start_time": "2023-02-22T18:31:02.051Z"
   },
   {
    "duration": 18,
    "start_time": "2023-02-22T18:31:02.098Z"
   },
   {
    "duration": 37,
    "start_time": "2023-02-22T18:31:02.118Z"
   },
   {
    "duration": 31,
    "start_time": "2023-02-22T18:31:02.157Z"
   },
   {
    "duration": 33,
    "start_time": "2023-02-22T18:31:02.189Z"
   },
   {
    "duration": 2928,
    "start_time": "2023-02-22T18:31:02.223Z"
   },
   {
    "duration": 3,
    "start_time": "2023-02-22T18:31:05.152Z"
   },
   {
    "duration": 14,
    "start_time": "2023-02-22T18:31:05.157Z"
   },
   {
    "duration": 25,
    "start_time": "2023-02-22T18:31:05.172Z"
   },
   {
    "duration": 44,
    "start_time": "2023-02-22T18:31:05.199Z"
   },
   {
    "duration": 8,
    "start_time": "2023-02-22T18:31:05.245Z"
   },
   {
    "duration": 14,
    "start_time": "2023-02-22T18:31:05.255Z"
   },
   {
    "duration": 21,
    "start_time": "2023-02-22T18:31:05.271Z"
   },
   {
    "duration": 76,
    "start_time": "2023-02-22T18:31:05.294Z"
   },
   {
    "duration": 25,
    "start_time": "2023-02-22T18:31:05.372Z"
   },
   {
    "duration": 12,
    "start_time": "2023-02-22T18:31:05.400Z"
   },
   {
    "duration": 16,
    "start_time": "2023-02-22T18:31:05.415Z"
   },
   {
    "duration": 52,
    "start_time": "2023-02-22T18:31:05.432Z"
   },
   {
    "duration": 6,
    "start_time": "2023-02-22T18:31:05.486Z"
   },
   {
    "duration": 19,
    "start_time": "2023-02-22T18:31:05.493Z"
   },
   {
    "duration": 29,
    "start_time": "2023-02-22T18:31:05.514Z"
   },
   {
    "duration": 12,
    "start_time": "2023-02-22T18:31:05.545Z"
   },
   {
    "duration": 26,
    "start_time": "2023-02-22T18:31:05.559Z"
   },
   {
    "duration": 11,
    "start_time": "2023-02-22T18:31:05.587Z"
   },
   {
    "duration": 4,
    "start_time": "2023-02-22T18:31:05.603Z"
   },
   {
    "duration": 10,
    "start_time": "2023-02-22T18:31:05.608Z"
   },
   {
    "duration": 16,
    "start_time": "2023-02-22T18:31:05.619Z"
   },
   {
    "duration": 17,
    "start_time": "2023-02-22T18:31:05.637Z"
   },
   {
    "duration": 8,
    "start_time": "2023-02-22T18:31:05.656Z"
   },
   {
    "duration": 1264,
    "start_time": "2023-02-22T18:31:05.665Z"
   },
   {
    "duration": 6,
    "start_time": "2023-02-22T18:31:06.930Z"
   },
   {
    "duration": 11,
    "start_time": "2023-02-22T18:31:06.938Z"
   },
   {
    "duration": 44,
    "start_time": "2023-02-22T18:31:06.951Z"
   },
   {
    "duration": 9,
    "start_time": "2023-02-22T18:31:06.998Z"
   },
   {
    "duration": 9,
    "start_time": "2023-02-22T18:31:07.009Z"
   },
   {
    "duration": 36,
    "start_time": "2023-02-22T18:31:07.020Z"
   },
   {
    "duration": 5,
    "start_time": "2023-02-22T18:31:07.058Z"
   },
   {
    "duration": 29,
    "start_time": "2023-02-22T18:31:07.064Z"
   },
   {
    "duration": 7,
    "start_time": "2023-02-22T18:31:07.095Z"
   },
   {
    "duration": 80,
    "start_time": "2023-02-22T18:31:07.104Z"
   },
   {
    "duration": 11,
    "start_time": "2023-02-22T18:31:07.186Z"
   },
   {
    "duration": 9,
    "start_time": "2023-02-22T18:31:07.199Z"
   },
   {
    "duration": 77,
    "start_time": "2023-02-22T18:31:07.209Z"
   },
   {
    "duration": 8,
    "start_time": "2023-02-22T18:31:07.288Z"
   },
   {
    "duration": 10,
    "start_time": "2023-02-22T18:31:07.298Z"
   },
   {
    "duration": 65,
    "start_time": "2023-02-22T18:31:07.310Z"
   },
   {
    "duration": 11,
    "start_time": "2023-02-22T18:31:07.377Z"
   },
   {
    "duration": 12,
    "start_time": "2023-02-22T18:31:15.164Z"
   },
   {
    "duration": 16,
    "start_time": "2023-02-22T18:31:16.751Z"
   },
   {
    "duration": 6,
    "start_time": "2023-02-22T18:32:34.311Z"
   },
   {
    "duration": 90,
    "start_time": "2023-02-22T18:33:13.514Z"
   },
   {
    "duration": 9,
    "start_time": "2023-02-22T18:33:42.646Z"
   },
   {
    "duration": 8,
    "start_time": "2023-02-22T18:34:00.595Z"
   },
   {
    "duration": 47,
    "start_time": "2023-02-22T18:36:27.753Z"
   },
   {
    "duration": 1060,
    "start_time": "2023-02-22T18:38:41.577Z"
   },
   {
    "duration": 85,
    "start_time": "2023-02-22T18:38:42.639Z"
   },
   {
    "duration": 15,
    "start_time": "2023-02-22T18:38:42.725Z"
   },
   {
    "duration": 3,
    "start_time": "2023-02-22T18:38:42.742Z"
   },
   {
    "duration": 31,
    "start_time": "2023-02-22T18:38:42.746Z"
   },
   {
    "duration": 77,
    "start_time": "2023-02-22T18:38:42.779Z"
   },
   {
    "duration": 2069,
    "start_time": "2023-02-22T18:38:42.858Z"
   },
   {
    "duration": 10,
    "start_time": "2023-02-22T18:38:44.929Z"
   },
   {
    "duration": 1066,
    "start_time": "2023-02-22T18:38:44.940Z"
   },
   {
    "duration": 5,
    "start_time": "2023-02-22T18:38:46.008Z"
   },
   {
    "duration": 18,
    "start_time": "2023-02-22T18:38:46.015Z"
   },
   {
    "duration": 27,
    "start_time": "2023-02-22T18:38:46.035Z"
   },
   {
    "duration": 7,
    "start_time": "2023-02-22T18:38:46.064Z"
   },
   {
    "duration": 6,
    "start_time": "2023-02-22T18:38:46.074Z"
   },
   {
    "duration": 7,
    "start_time": "2023-02-22T18:38:46.081Z"
   },
   {
    "duration": 7,
    "start_time": "2023-02-22T18:38:46.089Z"
   },
   {
    "duration": 8,
    "start_time": "2023-02-22T18:38:46.098Z"
   },
   {
    "duration": 41,
    "start_time": "2023-02-22T18:38:46.107Z"
   },
   {
    "duration": 6,
    "start_time": "2023-02-22T18:38:46.150Z"
   },
   {
    "duration": 8,
    "start_time": "2023-02-22T18:38:46.158Z"
   },
   {
    "duration": 6,
    "start_time": "2023-02-22T18:38:46.168Z"
   },
   {
    "duration": 2862,
    "start_time": "2023-02-22T18:38:46.175Z"
   },
   {
    "duration": 3,
    "start_time": "2023-02-22T18:38:49.039Z"
   },
   {
    "duration": 5,
    "start_time": "2023-02-22T18:38:49.048Z"
   },
   {
    "duration": 3,
    "start_time": "2023-02-22T18:38:49.055Z"
   },
   {
    "duration": 30,
    "start_time": "2023-02-22T18:38:49.060Z"
   },
   {
    "duration": 5,
    "start_time": "2023-02-22T18:38:49.092Z"
   },
   {
    "duration": 8,
    "start_time": "2023-02-22T18:38:49.099Z"
   },
   {
    "duration": 7,
    "start_time": "2023-02-22T18:38:49.109Z"
   },
   {
    "duration": 93,
    "start_time": "2023-02-22T18:38:49.118Z"
   },
   {
    "duration": 42,
    "start_time": "2023-02-22T18:38:49.213Z"
   },
   {
    "duration": 8,
    "start_time": "2023-02-22T18:38:49.257Z"
   },
   {
    "duration": 7,
    "start_time": "2023-02-22T18:38:49.267Z"
   },
   {
    "duration": 28,
    "start_time": "2023-02-22T18:38:49.275Z"
   },
   {
    "duration": 5,
    "start_time": "2023-02-22T18:38:49.304Z"
   },
   {
    "duration": 6,
    "start_time": "2023-02-22T18:38:49.310Z"
   },
   {
    "duration": 30,
    "start_time": "2023-02-22T18:38:49.318Z"
   },
   {
    "duration": 6,
    "start_time": "2023-02-22T18:38:49.349Z"
   },
   {
    "duration": 8,
    "start_time": "2023-02-22T18:38:49.357Z"
   },
   {
    "duration": 5,
    "start_time": "2023-02-22T18:38:49.367Z"
   },
   {
    "duration": 7,
    "start_time": "2023-02-22T18:38:49.376Z"
   },
   {
    "duration": 8,
    "start_time": "2023-02-22T18:38:49.384Z"
   },
   {
    "duration": 9,
    "start_time": "2023-02-22T18:38:49.393Z"
   },
   {
    "duration": 6,
    "start_time": "2023-02-22T18:38:49.404Z"
   },
   {
    "duration": 41,
    "start_time": "2023-02-22T18:38:49.411Z"
   },
   {
    "duration": 1119,
    "start_time": "2023-02-22T18:38:49.453Z"
   },
   {
    "duration": 5,
    "start_time": "2023-02-22T18:38:50.574Z"
   },
   {
    "duration": 9,
    "start_time": "2023-02-22T18:38:50.581Z"
   },
   {
    "duration": 32,
    "start_time": "2023-02-22T18:38:50.592Z"
   },
   {
    "duration": 23,
    "start_time": "2023-02-22T18:38:50.626Z"
   },
   {
    "duration": 37,
    "start_time": "2023-02-22T18:38:50.651Z"
   },
   {
    "duration": 43,
    "start_time": "2023-02-22T18:38:50.690Z"
   },
   {
    "duration": 22,
    "start_time": "2023-02-22T18:38:50.734Z"
   },
   {
    "duration": 37,
    "start_time": "2023-02-22T18:38:50.758Z"
   },
   {
    "duration": 35,
    "start_time": "2023-02-22T18:38:50.797Z"
   },
   {
    "duration": 82,
    "start_time": "2023-02-22T18:38:50.833Z"
   },
   {
    "duration": 9,
    "start_time": "2023-02-22T18:38:50.916Z"
   },
   {
    "duration": 9,
    "start_time": "2023-02-22T18:40:45.245Z"
   },
   {
    "duration": 13,
    "start_time": "2023-02-22T18:40:46.077Z"
   },
   {
    "duration": 8,
    "start_time": "2023-02-22T18:41:12.139Z"
   },
   {
    "duration": 6,
    "start_time": "2023-02-22T18:41:17.047Z"
   },
   {
    "duration": 12939,
    "start_time": "2023-02-22T18:46:06.677Z"
   },
   {
    "duration": 3,
    "start_time": "2023-02-22T18:46:20.523Z"
   },
   {
    "duration": 12899,
    "start_time": "2023-02-22T18:46:27.411Z"
   },
   {
    "duration": 13,
    "start_time": "2023-02-22T18:47:06.363Z"
   },
   {
    "duration": 8,
    "start_time": "2023-02-22T18:47:30.893Z"
   },
   {
    "duration": 9,
    "start_time": "2023-02-22T18:47:43.093Z"
   },
   {
    "duration": 3,
    "start_time": "2023-02-22T18:49:31.372Z"
   },
   {
    "duration": 12,
    "start_time": "2023-02-22T18:49:32.857Z"
   },
   {
    "duration": 9,
    "start_time": "2023-02-22T18:49:34.241Z"
   },
   {
    "duration": 15,
    "start_time": "2023-02-22T18:49:43.172Z"
   },
   {
    "duration": 20,
    "start_time": "2023-02-22T18:49:53.441Z"
   },
   {
    "duration": 8,
    "start_time": "2023-02-22T18:49:54.559Z"
   },
   {
    "duration": 24,
    "start_time": "2023-02-22T18:50:01.820Z"
   },
   {
    "duration": 4,
    "start_time": "2023-02-22T18:50:02.279Z"
   },
   {
    "duration": 28,
    "start_time": "2023-02-22T18:50:07.968Z"
   },
   {
    "duration": 13,
    "start_time": "2023-02-22T18:50:09.069Z"
   },
   {
    "duration": 29,
    "start_time": "2023-02-22T18:50:11.112Z"
   },
   {
    "duration": 8,
    "start_time": "2023-02-22T18:50:13.131Z"
   },
   {
    "duration": 2,
    "start_time": "2023-02-22T18:50:14.471Z"
   },
   {
    "duration": 21,
    "start_time": "2023-02-22T18:50:15.290Z"
   },
   {
    "duration": 12,
    "start_time": "2023-02-22T18:50:18.131Z"
   },
   {
    "duration": 4,
    "start_time": "2023-02-22T18:54:54.141Z"
   },
   {
    "duration": 3,
    "start_time": "2023-02-22T18:54:54.492Z"
   },
   {
    "duration": 4,
    "start_time": "2023-02-22T18:54:54.931Z"
   },
   {
    "duration": 8,
    "start_time": "2023-02-22T18:55:01.759Z"
   },
   {
    "duration": 10,
    "start_time": "2023-02-22T18:55:06.867Z"
   },
   {
    "duration": 13,
    "start_time": "2023-02-22T18:55:14.367Z"
   },
   {
    "duration": 4,
    "start_time": "2023-02-22T18:58:53.893Z"
   },
   {
    "duration": 36,
    "start_time": "2023-02-22T18:58:54.373Z"
   },
   {
    "duration": 5,
    "start_time": "2023-02-22T18:59:28.659Z"
   },
   {
    "duration": 4,
    "start_time": "2023-02-22T18:59:30.223Z"
   },
   {
    "duration": 33,
    "start_time": "2023-02-22T18:59:30.736Z"
   },
   {
    "duration": 6,
    "start_time": "2023-02-22T18:59:51.015Z"
   },
   {
    "duration": 5,
    "start_time": "2023-02-22T18:59:58.104Z"
   },
   {
    "duration": 745,
    "start_time": "2023-02-22T18:59:59.195Z"
   },
   {
    "duration": 5,
    "start_time": "2023-02-22T19:00:20.760Z"
   },
   {
    "duration": 47,
    "start_time": "2023-02-22T19:00:25.363Z"
   },
   {
    "duration": 45,
    "start_time": "2023-02-22T19:06:34.884Z"
   },
   {
    "duration": 3,
    "start_time": "2023-02-22T19:12:56.278Z"
   },
   {
    "duration": 219,
    "start_time": "2023-02-22T19:18:27.953Z"
   },
   {
    "duration": 3,
    "start_time": "2023-02-22T19:20:26.553Z"
   },
   {
    "duration": 1148,
    "start_time": "2023-02-22T19:23:26.923Z"
   },
   {
    "duration": 91,
    "start_time": "2023-02-22T19:23:28.073Z"
   },
   {
    "duration": 16,
    "start_time": "2023-02-22T19:23:28.165Z"
   },
   {
    "duration": 3,
    "start_time": "2023-02-22T19:23:28.183Z"
   },
   {
    "duration": 37,
    "start_time": "2023-02-22T19:23:28.188Z"
   },
   {
    "duration": 82,
    "start_time": "2023-02-22T19:23:28.227Z"
   },
   {
    "duration": 1961,
    "start_time": "2023-02-22T19:23:28.310Z"
   },
   {
    "duration": 8,
    "start_time": "2023-02-22T19:23:30.273Z"
   },
   {
    "duration": 995,
    "start_time": "2023-02-22T19:23:30.283Z"
   },
   {
    "duration": 4,
    "start_time": "2023-02-22T19:23:31.280Z"
   },
   {
    "duration": 10,
    "start_time": "2023-02-22T19:23:31.286Z"
   },
   {
    "duration": 29,
    "start_time": "2023-02-22T19:23:31.297Z"
   },
   {
    "duration": 13,
    "start_time": "2023-02-22T19:23:31.328Z"
   },
   {
    "duration": 8,
    "start_time": "2023-02-22T19:23:31.347Z"
   },
   {
    "duration": 13,
    "start_time": "2023-02-22T19:23:31.356Z"
   },
   {
    "duration": 20,
    "start_time": "2023-02-22T19:23:31.371Z"
   },
   {
    "duration": 10,
    "start_time": "2023-02-22T19:23:31.392Z"
   },
   {
    "duration": 11,
    "start_time": "2023-02-22T19:23:31.403Z"
   },
   {
    "duration": 19,
    "start_time": "2023-02-22T19:23:31.415Z"
   },
   {
    "duration": 7,
    "start_time": "2023-02-22T19:23:31.436Z"
   },
   {
    "duration": 9,
    "start_time": "2023-02-22T19:23:31.444Z"
   },
   {
    "duration": 2839,
    "start_time": "2023-02-22T19:23:31.454Z"
   },
   {
    "duration": 2,
    "start_time": "2023-02-22T19:23:34.295Z"
   },
   {
    "duration": 13,
    "start_time": "2023-02-22T19:23:34.298Z"
   },
   {
    "duration": 8,
    "start_time": "2023-02-22T19:23:34.313Z"
   },
   {
    "duration": 36,
    "start_time": "2023-02-22T19:23:34.322Z"
   },
   {
    "duration": 4,
    "start_time": "2023-02-22T19:23:34.360Z"
   },
   {
    "duration": 33,
    "start_time": "2023-02-22T19:23:34.365Z"
   },
   {
    "duration": 19,
    "start_time": "2023-02-22T19:23:34.400Z"
   },
   {
    "duration": 66,
    "start_time": "2023-02-22T19:23:34.420Z"
   },
   {
    "duration": 25,
    "start_time": "2023-02-22T19:23:34.487Z"
   },
   {
    "duration": 17,
    "start_time": "2023-02-22T19:23:34.514Z"
   },
   {
    "duration": 16,
    "start_time": "2023-02-22T19:23:34.533Z"
   },
   {
    "duration": 36,
    "start_time": "2023-02-22T19:23:34.551Z"
   },
   {
    "duration": 4,
    "start_time": "2023-02-22T19:23:34.589Z"
   },
   {
    "duration": 10,
    "start_time": "2023-02-22T19:23:34.594Z"
   },
   {
    "duration": 15,
    "start_time": "2023-02-22T19:23:34.605Z"
   },
   {
    "duration": 16,
    "start_time": "2023-02-22T19:23:34.621Z"
   },
   {
    "duration": 12,
    "start_time": "2023-02-22T19:23:34.639Z"
   },
   {
    "duration": 11,
    "start_time": "2023-02-22T19:23:34.653Z"
   },
   {
    "duration": 27,
    "start_time": "2023-02-22T19:23:34.668Z"
   },
   {
    "duration": 19,
    "start_time": "2023-02-22T19:23:34.697Z"
   },
   {
    "duration": 20,
    "start_time": "2023-02-22T19:23:34.718Z"
   },
   {
    "duration": 6,
    "start_time": "2023-02-22T19:23:34.740Z"
   },
   {
    "duration": 14,
    "start_time": "2023-02-22T19:23:34.748Z"
   },
   {
    "duration": 1205,
    "start_time": "2023-02-22T19:23:34.764Z"
   },
   {
    "duration": 4,
    "start_time": "2023-02-22T19:23:35.971Z"
   },
   {
    "duration": 13,
    "start_time": "2023-02-22T19:23:35.976Z"
   },
   {
    "duration": 30,
    "start_time": "2023-02-22T19:23:35.990Z"
   },
   {
    "duration": 6,
    "start_time": "2023-02-22T19:23:36.022Z"
   },
   {
    "duration": 8,
    "start_time": "2023-02-22T19:23:36.029Z"
   },
   {
    "duration": 17,
    "start_time": "2023-02-22T19:23:36.038Z"
   },
   {
    "duration": 4,
    "start_time": "2023-02-22T19:23:36.056Z"
   },
   {
    "duration": 5,
    "start_time": "2023-02-22T19:23:36.061Z"
   },
   {
    "duration": 7,
    "start_time": "2023-02-22T19:23:36.067Z"
   },
   {
    "duration": 4,
    "start_time": "2023-02-22T19:23:36.076Z"
   },
   {
    "duration": 16,
    "start_time": "2023-02-22T19:23:36.081Z"
   },
   {
    "duration": 7,
    "start_time": "2023-02-22T19:23:36.098Z"
   },
   {
    "duration": 49,
    "start_time": "2023-02-22T19:23:36.107Z"
   },
   {
    "duration": 7,
    "start_time": "2023-02-22T19:23:36.157Z"
   },
   {
    "duration": 24,
    "start_time": "2023-02-22T19:23:36.166Z"
   },
   {
    "duration": 4,
    "start_time": "2023-02-22T19:23:36.192Z"
   },
   {
    "duration": 35,
    "start_time": "2023-02-22T19:23:36.197Z"
   },
   {
    "duration": 26,
    "start_time": "2023-02-22T19:23:36.233Z"
   },
   {
    "duration": 24,
    "start_time": "2023-02-22T19:23:36.260Z"
   },
   {
    "duration": 7,
    "start_time": "2023-02-22T19:23:36.286Z"
   },
   {
    "duration": 3,
    "start_time": "2023-02-22T19:23:36.294Z"
   },
   {
    "duration": 24,
    "start_time": "2023-02-22T19:23:36.299Z"
   },
   {
    "duration": 28,
    "start_time": "2023-02-22T19:23:36.324Z"
   },
   {
    "duration": 17,
    "start_time": "2023-02-22T19:23:36.354Z"
   },
   {
    "duration": 4,
    "start_time": "2023-02-22T19:23:36.372Z"
   },
   {
    "duration": 35,
    "start_time": "2023-02-22T19:23:36.378Z"
   },
   {
    "duration": 5,
    "start_time": "2023-02-22T19:23:36.414Z"
   },
   {
    "duration": 27,
    "start_time": "2023-02-22T19:23:36.421Z"
   },
   {
    "duration": 5,
    "start_time": "2023-02-22T19:23:36.449Z"
   },
   {
    "duration": 3,
    "start_time": "2023-02-22T19:23:36.455Z"
   },
   {
    "duration": 315,
    "start_time": "2023-02-22T19:23:36.459Z"
   },
   {
    "duration": 15,
    "start_time": "2023-02-22T19:24:05.863Z"
   },
   {
    "duration": 1050,
    "start_time": "2023-02-22T19:25:39.591Z"
   },
   {
    "duration": 87,
    "start_time": "2023-02-22T19:25:40.643Z"
   },
   {
    "duration": 14,
    "start_time": "2023-02-22T19:25:40.731Z"
   },
   {
    "duration": 2,
    "start_time": "2023-02-22T19:25:40.748Z"
   },
   {
    "duration": 41,
    "start_time": "2023-02-22T19:25:40.752Z"
   },
   {
    "duration": 69,
    "start_time": "2023-02-22T19:25:40.794Z"
   },
   {
    "duration": 1851,
    "start_time": "2023-02-22T19:25:40.864Z"
   },
   {
    "duration": 10,
    "start_time": "2023-02-22T19:25:42.716Z"
   },
   {
    "duration": 1106,
    "start_time": "2023-02-22T19:25:42.727Z"
   },
   {
    "duration": 12,
    "start_time": "2023-02-22T19:25:43.836Z"
   },
   {
    "duration": 6,
    "start_time": "2023-02-22T19:25:43.849Z"
   },
   {
    "duration": 37,
    "start_time": "2023-02-22T19:25:43.856Z"
   },
   {
    "duration": 6,
    "start_time": "2023-02-22T19:25:43.895Z"
   },
   {
    "duration": 16,
    "start_time": "2023-02-22T19:25:43.903Z"
   },
   {
    "duration": 9,
    "start_time": "2023-02-22T19:25:43.921Z"
   },
   {
    "duration": 20,
    "start_time": "2023-02-22T19:25:43.932Z"
   },
   {
    "duration": 6,
    "start_time": "2023-02-22T19:25:43.954Z"
   },
   {
    "duration": 4,
    "start_time": "2023-02-22T19:25:43.962Z"
   },
   {
    "duration": 6,
    "start_time": "2023-02-22T19:25:43.968Z"
   },
   {
    "duration": 8,
    "start_time": "2023-02-22T19:25:43.976Z"
   },
   {
    "duration": 10,
    "start_time": "2023-02-22T19:25:43.986Z"
   },
   {
    "duration": 2856,
    "start_time": "2023-02-22T19:25:43.998Z"
   },
   {
    "duration": 2,
    "start_time": "2023-02-22T19:25:46.857Z"
   },
   {
    "duration": 17,
    "start_time": "2023-02-22T19:25:46.861Z"
   },
   {
    "duration": 10,
    "start_time": "2023-02-22T19:25:46.879Z"
   },
   {
    "duration": 35,
    "start_time": "2023-02-22T19:25:46.891Z"
   },
   {
    "duration": 4,
    "start_time": "2023-02-22T19:25:46.927Z"
   },
   {
    "duration": 15,
    "start_time": "2023-02-22T19:25:46.934Z"
   },
   {
    "duration": 6,
    "start_time": "2023-02-22T19:25:46.950Z"
   },
   {
    "duration": 55,
    "start_time": "2023-02-22T19:25:46.958Z"
   },
   {
    "duration": 18,
    "start_time": "2023-02-22T19:25:47.014Z"
   },
   {
    "duration": 30,
    "start_time": "2023-02-22T19:25:47.033Z"
   },
   {
    "duration": 8,
    "start_time": "2023-02-22T19:25:47.065Z"
   },
   {
    "duration": 27,
    "start_time": "2023-02-22T19:25:47.074Z"
   },
   {
    "duration": 3,
    "start_time": "2023-02-22T19:25:47.103Z"
   },
   {
    "duration": 11,
    "start_time": "2023-02-22T19:25:47.108Z"
   },
   {
    "duration": 26,
    "start_time": "2023-02-22T19:25:47.120Z"
   },
   {
    "duration": 6,
    "start_time": "2023-02-22T19:25:47.147Z"
   },
   {
    "duration": 8,
    "start_time": "2023-02-22T19:25:47.154Z"
   },
   {
    "duration": 3,
    "start_time": "2023-02-22T19:25:47.164Z"
   },
   {
    "duration": 17,
    "start_time": "2023-02-22T19:25:47.169Z"
   },
   {
    "duration": 7,
    "start_time": "2023-02-22T19:25:47.188Z"
   },
   {
    "duration": 8,
    "start_time": "2023-02-22T19:25:47.196Z"
   },
   {
    "duration": 7,
    "start_time": "2023-02-22T19:25:47.206Z"
   },
   {
    "duration": 7,
    "start_time": "2023-02-22T19:25:47.214Z"
   },
   {
    "duration": 1239,
    "start_time": "2023-02-22T19:25:47.222Z"
   },
   {
    "duration": 5,
    "start_time": "2023-02-22T19:25:48.463Z"
   },
   {
    "duration": 10,
    "start_time": "2023-02-22T19:25:48.471Z"
   },
   {
    "duration": 39,
    "start_time": "2023-02-22T19:25:48.482Z"
   },
   {
    "duration": 7,
    "start_time": "2023-02-22T19:25:48.523Z"
   },
   {
    "duration": 22,
    "start_time": "2023-02-22T19:25:48.532Z"
   },
   {
    "duration": 11,
    "start_time": "2023-02-22T19:25:48.555Z"
   },
   {
    "duration": 5,
    "start_time": "2023-02-22T19:25:48.567Z"
   },
   {
    "duration": 7,
    "start_time": "2023-02-22T19:25:48.574Z"
   },
   {
    "duration": 10,
    "start_time": "2023-02-22T19:25:48.582Z"
   },
   {
    "duration": 7,
    "start_time": "2023-02-22T19:25:48.594Z"
   },
   {
    "duration": 15,
    "start_time": "2023-02-22T19:25:48.602Z"
   },
   {
    "duration": 30,
    "start_time": "2023-02-22T19:25:48.619Z"
   },
   {
    "duration": 23,
    "start_time": "2023-02-22T19:25:48.650Z"
   },
   {
    "duration": 8,
    "start_time": "2023-02-22T19:25:48.675Z"
   },
   {
    "duration": 25,
    "start_time": "2023-02-22T19:25:48.684Z"
   },
   {
    "duration": 5,
    "start_time": "2023-02-22T19:25:48.711Z"
   },
   {
    "duration": 56,
    "start_time": "2023-02-22T19:25:48.717Z"
   },
   {
    "duration": 13,
    "start_time": "2023-02-22T19:25:48.775Z"
   },
   {
    "duration": 24,
    "start_time": "2023-02-22T19:25:48.790Z"
   },
   {
    "duration": 10,
    "start_time": "2023-02-22T19:25:48.816Z"
   },
   {
    "duration": 20,
    "start_time": "2023-02-22T19:25:48.828Z"
   },
   {
    "duration": 23,
    "start_time": "2023-02-22T19:25:48.850Z"
   },
   {
    "duration": 10,
    "start_time": "2023-02-22T19:25:48.875Z"
   },
   {
    "duration": 16,
    "start_time": "2023-02-22T19:25:48.887Z"
   },
   {
    "duration": 4,
    "start_time": "2023-02-22T19:25:48.904Z"
   },
   {
    "duration": 58,
    "start_time": "2023-02-22T19:25:48.910Z"
   },
   {
    "duration": 5,
    "start_time": "2023-02-22T19:25:48.969Z"
   },
   {
    "duration": 9,
    "start_time": "2023-02-22T19:25:48.976Z"
   },
   {
    "duration": 5,
    "start_time": "2023-02-22T19:25:48.986Z"
   },
   {
    "duration": 6,
    "start_time": "2023-02-22T19:25:48.992Z"
   },
   {
    "duration": 307,
    "start_time": "2023-02-22T19:25:48.999Z"
   },
   {
    "duration": 0,
    "start_time": "2023-02-22T19:25:49.308Z"
   },
   {
    "duration": 13,
    "start_time": "2023-02-22T19:26:03.126Z"
   },
   {
    "duration": 4,
    "start_time": "2023-02-22T19:35:10.232Z"
   },
   {
    "duration": 173,
    "start_time": "2023-02-22T19:35:26.271Z"
   },
   {
    "duration": 15,
    "start_time": "2023-02-22T19:35:40.594Z"
   },
   {
    "duration": 4,
    "start_time": "2023-02-22T19:36:07.374Z"
   },
   {
    "duration": 224,
    "start_time": "2023-02-22T19:36:14.828Z"
   },
   {
    "duration": 15,
    "start_time": "2023-02-22T19:37:32.492Z"
   },
   {
    "duration": 2,
    "start_time": "2023-02-22T19:41:26.729Z"
   },
   {
    "duration": 4,
    "start_time": "2023-02-22T19:41:46.174Z"
   },
   {
    "duration": 44,
    "start_time": "2023-02-22T19:42:29.830Z"
   },
   {
    "duration": 49,
    "start_time": "2023-02-22T19:42:39.348Z"
   },
   {
    "duration": 50,
    "start_time": "2023-02-22T19:42:52.185Z"
   },
   {
    "duration": 271,
    "start_time": "2023-02-22T19:42:57.670Z"
   },
   {
    "duration": 281,
    "start_time": "2023-02-22T19:43:05.855Z"
   },
   {
    "duration": 6,
    "start_time": "2023-02-22T19:43:42.185Z"
   },
   {
    "duration": 3,
    "start_time": "2023-02-22T19:44:34.125Z"
   },
   {
    "duration": 361,
    "start_time": "2023-02-22T19:45:01.824Z"
   },
   {
    "duration": 5,
    "start_time": "2023-02-22T19:45:28.427Z"
   },
   {
    "duration": 700,
    "start_time": "2023-02-22T19:46:28.927Z"
   },
   {
    "duration": 3,
    "start_time": "2023-02-22T19:46:44.128Z"
   },
   {
    "duration": 52,
    "start_time": "2023-02-22T19:46:49.623Z"
   },
   {
    "duration": 8,
    "start_time": "2023-02-22T19:47:10.056Z"
   },
   {
    "duration": 5,
    "start_time": "2023-02-22T19:47:28.046Z"
   },
   {
    "duration": 5,
    "start_time": "2023-02-22T19:49:39.074Z"
   },
   {
    "duration": 4,
    "start_time": "2023-02-22T19:49:51.005Z"
   },
   {
    "duration": 6,
    "start_time": "2023-02-22T19:49:56.121Z"
   },
   {
    "duration": 9,
    "start_time": "2023-02-22T19:50:07.735Z"
   },
   {
    "duration": 4,
    "start_time": "2023-03-09T08:42:44.532Z"
   },
   {
    "duration": 50,
    "start_time": "2023-03-09T09:00:14.962Z"
   },
   {
    "duration": 1331,
    "start_time": "2023-03-09T09:00:21.026Z"
   },
   {
    "duration": 131,
    "start_time": "2023-03-09T09:00:22.358Z"
   },
   {
    "duration": 14,
    "start_time": "2023-03-09T09:00:22.491Z"
   },
   {
    "duration": 3,
    "start_time": "2023-03-09T09:00:22.507Z"
   },
   {
    "duration": 25,
    "start_time": "2023-03-09T09:00:22.511Z"
   },
   {
    "duration": 75,
    "start_time": "2023-03-09T09:00:22.538Z"
   },
   {
    "duration": 1791,
    "start_time": "2023-03-09T09:00:22.614Z"
   },
   {
    "duration": 9,
    "start_time": "2023-03-09T09:00:24.407Z"
   },
   {
    "duration": 1050,
    "start_time": "2023-03-09T09:00:24.417Z"
   },
   {
    "duration": 4,
    "start_time": "2023-03-09T09:00:25.471Z"
   },
   {
    "duration": 6,
    "start_time": "2023-03-09T09:00:25.476Z"
   },
   {
    "duration": 20,
    "start_time": "2023-03-09T09:00:25.484Z"
   },
   {
    "duration": 4,
    "start_time": "2023-03-09T09:00:25.505Z"
   },
   {
    "duration": 5,
    "start_time": "2023-03-09T09:00:25.510Z"
   },
   {
    "duration": 4,
    "start_time": "2023-03-09T09:00:25.516Z"
   },
   {
    "duration": 4,
    "start_time": "2023-03-09T09:00:25.555Z"
   },
   {
    "duration": 5,
    "start_time": "2023-03-09T09:00:25.561Z"
   },
   {
    "duration": 3,
    "start_time": "2023-03-09T09:00:25.568Z"
   },
   {
    "duration": 5,
    "start_time": "2023-03-09T09:00:25.573Z"
   },
   {
    "duration": 8,
    "start_time": "2023-03-09T09:00:25.579Z"
   },
   {
    "duration": 19,
    "start_time": "2023-03-09T09:00:25.588Z"
   },
   {
    "duration": 2554,
    "start_time": "2023-03-09T09:00:25.608Z"
   },
   {
    "duration": 2,
    "start_time": "2023-03-09T09:00:28.163Z"
   },
   {
    "duration": 6,
    "start_time": "2023-03-09T09:00:28.167Z"
   },
   {
    "duration": 3,
    "start_time": "2023-03-09T09:00:28.174Z"
   },
   {
    "duration": 26,
    "start_time": "2023-03-09T09:00:28.178Z"
   },
   {
    "duration": 4,
    "start_time": "2023-03-09T09:00:28.205Z"
   },
   {
    "duration": 5,
    "start_time": "2023-03-09T09:00:28.213Z"
   },
   {
    "duration": 5,
    "start_time": "2023-03-09T09:00:28.219Z"
   },
   {
    "duration": 45,
    "start_time": "2023-03-09T09:00:28.255Z"
   },
   {
    "duration": 17,
    "start_time": "2023-03-09T09:00:28.302Z"
   },
   {
    "duration": 8,
    "start_time": "2023-03-09T09:00:28.320Z"
   },
   {
    "duration": 4,
    "start_time": "2023-03-09T09:00:28.330Z"
   },
   {
    "duration": 43,
    "start_time": "2023-03-09T09:00:28.335Z"
   },
   {
    "duration": 4,
    "start_time": "2023-03-09T09:00:28.379Z"
   },
   {
    "duration": 18,
    "start_time": "2023-03-09T09:00:28.385Z"
   },
   {
    "duration": 4,
    "start_time": "2023-03-09T09:00:28.404Z"
   },
   {
    "duration": 5,
    "start_time": "2023-03-09T09:00:28.409Z"
   },
   {
    "duration": 7,
    "start_time": "2023-03-09T09:00:28.415Z"
   },
   {
    "duration": 3,
    "start_time": "2023-03-09T09:00:28.423Z"
   },
   {
    "duration": 2,
    "start_time": "2023-03-09T09:00:28.428Z"
   },
   {
    "duration": 4,
    "start_time": "2023-03-09T09:00:28.454Z"
   },
   {
    "duration": 7,
    "start_time": "2023-03-09T09:00:28.460Z"
   },
   {
    "duration": 5,
    "start_time": "2023-03-09T09:00:28.468Z"
   },
   {
    "duration": 7,
    "start_time": "2023-03-09T09:00:28.474Z"
   },
   {
    "duration": 1069,
    "start_time": "2023-03-09T09:00:28.482Z"
   },
   {
    "duration": 5,
    "start_time": "2023-03-09T09:00:29.552Z"
   },
   {
    "duration": 9,
    "start_time": "2023-03-09T09:00:29.558Z"
   },
   {
    "duration": 28,
    "start_time": "2023-03-09T09:00:29.569Z"
   },
   {
    "duration": 7,
    "start_time": "2023-03-09T09:00:29.599Z"
   },
   {
    "duration": 6,
    "start_time": "2023-03-09T09:00:29.607Z"
   },
   {
    "duration": 8,
    "start_time": "2023-03-09T09:00:29.615Z"
   },
   {
    "duration": 32,
    "start_time": "2023-03-09T09:00:29.625Z"
   },
   {
    "duration": 9,
    "start_time": "2023-03-09T09:00:29.659Z"
   },
   {
    "duration": 5,
    "start_time": "2023-03-09T09:00:29.669Z"
   },
   {
    "duration": 4,
    "start_time": "2023-03-09T09:00:29.675Z"
   },
   {
    "duration": 11,
    "start_time": "2023-03-09T09:00:29.681Z"
   },
   {
    "duration": 7,
    "start_time": "2023-03-09T09:00:29.693Z"
   },
   {
    "duration": 19,
    "start_time": "2023-03-09T09:00:29.702Z"
   },
   {
    "duration": 33,
    "start_time": "2023-03-09T09:00:29.723Z"
   },
   {
    "duration": 23,
    "start_time": "2023-03-09T09:00:29.757Z"
   },
   {
    "duration": 4,
    "start_time": "2023-03-09T09:00:29.782Z"
   },
   {
    "duration": 40,
    "start_time": "2023-03-09T09:00:29.787Z"
   },
   {
    "duration": 27,
    "start_time": "2023-03-09T09:00:29.828Z"
   },
   {
    "duration": 28,
    "start_time": "2023-03-09T09:00:29.857Z"
   },
   {
    "duration": 7,
    "start_time": "2023-03-09T09:00:29.887Z"
   },
   {
    "duration": 3,
    "start_time": "2023-03-09T09:00:29.895Z"
   },
   {
    "duration": 25,
    "start_time": "2023-03-09T09:00:29.899Z"
   },
   {
    "duration": 30,
    "start_time": "2023-03-09T09:00:29.925Z"
   },
   {
    "duration": 15,
    "start_time": "2023-03-09T09:00:29.957Z"
   },
   {
    "duration": 3,
    "start_time": "2023-03-09T09:00:29.974Z"
   },
   {
    "duration": 5,
    "start_time": "2023-03-09T09:00:29.978Z"
   },
   {
    "duration": 36,
    "start_time": "2023-03-09T09:00:29.984Z"
   },
   {
    "duration": 5,
    "start_time": "2023-03-09T09:00:30.022Z"
   },
   {
    "duration": 32,
    "start_time": "2023-03-09T09:00:30.028Z"
   },
   {
    "duration": 34,
    "start_time": "2023-03-09T09:00:30.061Z"
   },
   {
    "duration": 20,
    "start_time": "2023-03-09T09:00:30.097Z"
   },
   {
    "duration": 4,
    "start_time": "2023-03-09T09:00:30.118Z"
   },
   {
    "duration": 307,
    "start_time": "2023-03-09T09:00:30.123Z"
   },
   {
    "duration": 6,
    "start_time": "2023-03-09T09:00:30.432Z"
   },
   {
    "duration": 26,
    "start_time": "2023-03-09T09:00:30.439Z"
   },
   {
    "duration": 24,
    "start_time": "2023-03-09T09:00:30.469Z"
   },
   {
    "duration": 33,
    "start_time": "2023-03-09T09:00:30.494Z"
   },
   {
    "duration": 130,
    "start_time": "2023-03-09T09:00:30.529Z"
   },
   {
    "duration": 8,
    "start_time": "2023-03-09T09:00:57.305Z"
   },
   {
    "duration": 193,
    "start_time": "2023-03-09T09:02:44.170Z"
   },
   {
    "duration": 279,
    "start_time": "2023-03-09T09:04:56.776Z"
   },
   {
    "duration": 197,
    "start_time": "2023-03-09T09:05:30.632Z"
   },
   {
    "duration": 238,
    "start_time": "2023-03-09T09:06:41.619Z"
   },
   {
    "duration": 160,
    "start_time": "2023-03-09T09:06:49.418Z"
   },
   {
    "duration": 6,
    "start_time": "2023-03-09T09:08:14.391Z"
   },
   {
    "duration": 7,
    "start_time": "2023-03-09T09:08:19.202Z"
   },
   {
    "duration": 117,
    "start_time": "2023-03-09T09:09:41.379Z"
   },
   {
    "duration": 222,
    "start_time": "2023-03-09T09:09:49.450Z"
   },
   {
    "duration": 124,
    "start_time": "2023-03-09T09:11:21.088Z"
   },
   {
    "duration": 1259,
    "start_time": "2023-03-09T09:11:47.894Z"
   },
   {
    "duration": 110,
    "start_time": "2023-03-09T09:12:11.033Z"
   },
   {
    "duration": 116,
    "start_time": "2023-03-09T09:13:47.371Z"
   },
   {
    "duration": 134,
    "start_time": "2023-03-09T09:16:34.269Z"
   },
   {
    "duration": 217,
    "start_time": "2023-03-09T09:19:41.212Z"
   },
   {
    "duration": 5,
    "start_time": "2023-03-09T09:20:45.517Z"
   },
   {
    "duration": 113,
    "start_time": "2023-03-09T09:21:00.190Z"
   },
   {
    "duration": 234,
    "start_time": "2023-03-09T09:29:38.004Z"
   },
   {
    "duration": 15,
    "start_time": "2023-03-09T09:30:12.227Z"
   },
   {
    "duration": 162,
    "start_time": "2023-03-09T09:54:13.402Z"
   },
   {
    "duration": 131,
    "start_time": "2023-03-09T09:54:44.492Z"
   },
   {
    "duration": 159,
    "start_time": "2023-03-09T09:55:15.995Z"
   },
   {
    "duration": 167,
    "start_time": "2023-03-09T09:56:30.183Z"
   },
   {
    "duration": 342,
    "start_time": "2023-03-09T09:56:42.500Z"
   },
   {
    "duration": 391,
    "start_time": "2023-03-09T10:25:21.906Z"
   },
   {
    "duration": 5,
    "start_time": "2023-03-09T10:45:02.501Z"
   },
   {
    "duration": 4,
    "start_time": "2023-03-09T10:45:12.682Z"
   },
   {
    "duration": 81,
    "start_time": "2023-03-10T11:39:15.206Z"
   },
   {
    "duration": 1879,
    "start_time": "2023-03-10T11:39:21.899Z"
   },
   {
    "duration": 253,
    "start_time": "2023-03-10T11:39:23.785Z"
   },
   {
    "duration": 26,
    "start_time": "2023-03-10T11:39:24.040Z"
   },
   {
    "duration": 52,
    "start_time": "2023-03-10T11:39:24.068Z"
   },
   {
    "duration": 59,
    "start_time": "2023-03-10T11:39:24.122Z"
   },
   {
    "duration": 128,
    "start_time": "2023-03-10T11:39:24.183Z"
   },
   {
    "duration": 2540,
    "start_time": "2023-03-10T11:39:24.313Z"
   },
   {
    "duration": 46,
    "start_time": "2023-03-10T11:39:26.855Z"
   },
   {
    "duration": 1447,
    "start_time": "2023-03-10T11:39:26.903Z"
   },
   {
    "duration": 5,
    "start_time": "2023-03-10T11:39:28.361Z"
   },
   {
    "duration": 51,
    "start_time": "2023-03-10T11:39:28.367Z"
   },
   {
    "duration": 80,
    "start_time": "2023-03-10T11:39:28.421Z"
   },
   {
    "duration": 19,
    "start_time": "2023-03-10T11:39:28.506Z"
   },
   {
    "duration": 52,
    "start_time": "2023-03-10T11:39:28.527Z"
   },
   {
    "duration": 62,
    "start_time": "2023-03-10T11:39:28.581Z"
   },
   {
    "duration": 59,
    "start_time": "2023-03-10T11:39:28.645Z"
   },
   {
    "duration": 5,
    "start_time": "2023-03-10T11:39:28.706Z"
   },
   {
    "duration": 6,
    "start_time": "2023-03-10T11:39:28.713Z"
   },
   {
    "duration": 5,
    "start_time": "2023-03-10T11:39:28.721Z"
   },
   {
    "duration": 7,
    "start_time": "2023-03-10T11:39:28.728Z"
   },
   {
    "duration": 65,
    "start_time": "2023-03-10T11:39:28.736Z"
   },
   {
    "duration": 3422,
    "start_time": "2023-03-10T11:39:28.803Z"
   },
   {
    "duration": 3,
    "start_time": "2023-03-10T11:39:32.226Z"
   },
   {
    "duration": 54,
    "start_time": "2023-03-10T11:39:32.230Z"
   },
   {
    "duration": 34,
    "start_time": "2023-03-10T11:39:32.285Z"
   },
   {
    "duration": 54,
    "start_time": "2023-03-10T11:39:32.320Z"
   },
   {
    "duration": 5,
    "start_time": "2023-03-10T11:39:32.378Z"
   },
   {
    "duration": 43,
    "start_time": "2023-03-10T11:39:32.388Z"
   },
   {
    "duration": 38,
    "start_time": "2023-03-10T11:39:32.433Z"
   },
   {
    "duration": 144,
    "start_time": "2023-03-10T11:39:32.473Z"
   },
   {
    "duration": 46,
    "start_time": "2023-03-10T11:39:32.619Z"
   },
   {
    "duration": 10,
    "start_time": "2023-03-10T11:39:32.676Z"
   },
   {
    "duration": 33,
    "start_time": "2023-03-10T11:39:32.688Z"
   },
   {
    "duration": 65,
    "start_time": "2023-03-10T11:39:32.722Z"
   },
   {
    "duration": 17,
    "start_time": "2023-03-10T11:39:32.793Z"
   },
   {
    "duration": 13,
    "start_time": "2023-03-10T11:39:32.812Z"
   },
   {
    "duration": 10,
    "start_time": "2023-03-10T11:39:32.827Z"
   },
   {
    "duration": 77,
    "start_time": "2023-03-10T11:39:32.839Z"
   },
   {
    "duration": 17,
    "start_time": "2023-03-10T11:39:32.919Z"
   },
   {
    "duration": 72,
    "start_time": "2023-03-10T11:39:32.938Z"
   },
   {
    "duration": 12,
    "start_time": "2023-03-10T11:39:33.011Z"
   },
   {
    "duration": 8,
    "start_time": "2023-03-10T11:39:33.025Z"
   },
   {
    "duration": 54,
    "start_time": "2023-03-10T11:39:33.035Z"
   },
   {
    "duration": 16,
    "start_time": "2023-03-10T11:39:33.097Z"
   },
   {
    "duration": 10,
    "start_time": "2023-03-10T11:39:33.115Z"
   },
   {
    "duration": 1501,
    "start_time": "2023-03-10T11:39:33.126Z"
   },
   {
    "duration": 4,
    "start_time": "2023-03-10T11:39:34.628Z"
   },
   {
    "duration": 6,
    "start_time": "2023-03-10T11:39:34.640Z"
   },
   {
    "duration": 91,
    "start_time": "2023-03-10T11:39:34.647Z"
   },
   {
    "duration": 19,
    "start_time": "2023-03-10T11:39:34.739Z"
   },
   {
    "duration": 45,
    "start_time": "2023-03-10T11:39:34.763Z"
   },
   {
    "duration": 12,
    "start_time": "2023-03-10T11:39:34.809Z"
   },
   {
    "duration": 37,
    "start_time": "2023-03-10T11:39:34.823Z"
   },
   {
    "duration": 64,
    "start_time": "2023-03-10T11:39:34.862Z"
   },
   {
    "duration": 7,
    "start_time": "2023-03-10T11:39:34.928Z"
   },
   {
    "duration": 34,
    "start_time": "2023-03-10T11:39:34.937Z"
   },
   {
    "duration": 41,
    "start_time": "2023-03-10T11:39:34.972Z"
   },
   {
    "duration": 9,
    "start_time": "2023-03-10T11:39:35.015Z"
   },
   {
    "duration": 38,
    "start_time": "2023-03-10T11:39:35.026Z"
   },
   {
    "duration": 15,
    "start_time": "2023-03-10T11:39:35.065Z"
   },
   {
    "duration": 50,
    "start_time": "2023-03-10T11:39:35.081Z"
   },
   {
    "duration": 5,
    "start_time": "2023-03-10T11:39:35.133Z"
   },
   {
    "duration": 106,
    "start_time": "2023-03-10T11:39:35.140Z"
   },
   {
    "duration": 38,
    "start_time": "2023-03-10T11:39:35.266Z"
   },
   {
    "duration": 52,
    "start_time": "2023-03-10T11:39:35.309Z"
   },
   {
    "duration": 43,
    "start_time": "2023-03-10T11:39:35.363Z"
   },
   {
    "duration": 6,
    "start_time": "2023-03-10T11:39:35.408Z"
   },
   {
    "duration": 30,
    "start_time": "2023-03-10T11:39:35.416Z"
   },
   {
    "duration": 17,
    "start_time": "2023-03-10T11:39:35.448Z"
   },
   {
    "duration": 53,
    "start_time": "2023-03-10T11:39:35.467Z"
   },
   {
    "duration": 4,
    "start_time": "2023-03-10T11:39:35.522Z"
   },
   {
    "duration": 49,
    "start_time": "2023-03-10T11:39:35.528Z"
   },
   {
    "duration": 99,
    "start_time": "2023-03-10T11:39:35.593Z"
   },
   {
    "duration": 21,
    "start_time": "2023-03-10T11:39:35.694Z"
   },
   {
    "duration": 17,
    "start_time": "2023-03-10T11:39:35.717Z"
   },
   {
    "duration": 40,
    "start_time": "2023-03-10T11:39:35.736Z"
   },
   {
    "duration": 40,
    "start_time": "2023-03-10T11:39:35.778Z"
   },
   {
    "duration": 3,
    "start_time": "2023-03-10T11:39:35.820Z"
   },
   {
    "duration": 396,
    "start_time": "2023-03-10T11:39:35.825Z"
   },
   {
    "duration": 5,
    "start_time": "2023-03-10T11:39:36.223Z"
   },
   {
    "duration": 31,
    "start_time": "2023-03-10T11:39:36.229Z"
   },
   {
    "duration": 4,
    "start_time": "2023-03-10T11:39:36.267Z"
   },
   {
    "duration": 38,
    "start_time": "2023-03-10T11:39:36.273Z"
   },
   {
    "duration": 10,
    "start_time": "2023-03-10T11:39:36.313Z"
   },
   {
    "duration": 329,
    "start_time": "2023-03-10T11:39:36.324Z"
   },
   {
    "duration": 313,
    "start_time": "2023-03-10T11:39:36.655Z"
   },
   {
    "duration": 393,
    "start_time": "2023-03-10T11:39:36.970Z"
   },
   {
    "duration": 169,
    "start_time": "2023-03-10T11:39:37.365Z"
   },
   {
    "duration": 9,
    "start_time": "2023-03-10T11:39:37.536Z"
   },
   {
    "duration": 288,
    "start_time": "2023-03-10T11:39:37.547Z"
   },
   {
    "duration": 180,
    "start_time": "2023-03-10T11:39:37.837Z"
   },
   {
    "duration": 161,
    "start_time": "2023-03-10T11:39:38.019Z"
   },
   {
    "duration": 154,
    "start_time": "2023-03-10T11:39:38.182Z"
   },
   {
    "duration": 187,
    "start_time": "2023-03-10T11:39:38.340Z"
   },
   {
    "duration": 160,
    "start_time": "2023-03-10T11:39:38.529Z"
   },
   {
    "duration": 154,
    "start_time": "2023-03-10T11:39:38.691Z"
   },
   {
    "duration": 221,
    "start_time": "2023-03-10T11:39:38.847Z"
   },
   {
    "duration": 558,
    "start_time": "2023-03-10T11:39:39.072Z"
   },
   {
    "duration": 19,
    "start_time": "2023-03-10T11:39:39.632Z"
   },
   {
    "duration": 59,
    "start_time": "2023-03-10T11:39:39.656Z"
   },
   {
    "duration": 21,
    "start_time": "2023-03-10T11:39:39.717Z"
   },
   {
    "duration": 2090,
    "start_time": "2023-03-10T11:39:39.740Z"
   },
   {
    "duration": 968,
    "start_time": "2023-03-10T11:57:21.766Z"
   },
   {
    "duration": 928,
    "start_time": "2023-03-10T11:58:27.597Z"
   },
   {
    "duration": 323,
    "start_time": "2023-03-10T12:07:35.620Z"
   },
   {
    "duration": 55,
    "start_time": "2023-03-16T20:08:01.850Z"
   },
   {
    "duration": 1216,
    "start_time": "2023-03-16T20:08:08.796Z"
   },
   {
    "duration": 994,
    "start_time": "2023-03-16T20:08:23.751Z"
   },
   {
    "duration": 685,
    "start_time": "2023-03-16T20:08:25.627Z"
   },
   {
    "duration": 17,
    "start_time": "2023-03-16T20:08:26.348Z"
   },
   {
    "duration": 2,
    "start_time": "2023-03-16T20:08:27.590Z"
   },
   {
    "duration": 26,
    "start_time": "2023-03-16T20:08:28.770Z"
   },
   {
    "duration": 74,
    "start_time": "2023-03-16T20:08:31.032Z"
   },
   {
    "duration": 1713,
    "start_time": "2023-03-16T20:08:33.371Z"
   },
   {
    "duration": 10,
    "start_time": "2023-03-16T20:08:37.898Z"
   },
   {
    "duration": 940,
    "start_time": "2023-03-16T20:08:50.526Z"
   },
   {
    "duration": 906,
    "start_time": "2023-03-16T20:09:23.475Z"
   },
   {
    "duration": 4,
    "start_time": "2023-03-16T20:09:26.951Z"
   },
   {
    "duration": 6,
    "start_time": "2023-03-16T20:09:45.895Z"
   },
   {
    "duration": 6,
    "start_time": "2023-03-16T20:10:23.457Z"
   },
   {
    "duration": 18,
    "start_time": "2023-03-16T20:10:26.255Z"
   },
   {
    "duration": 5,
    "start_time": "2023-03-16T20:10:34.247Z"
   },
   {
    "duration": 6,
    "start_time": "2023-03-16T20:10:36.439Z"
   },
   {
    "duration": 4,
    "start_time": "2023-03-16T20:10:38.876Z"
   },
   {
    "duration": 6,
    "start_time": "2023-03-16T20:10:46.969Z"
   },
   {
    "duration": 4,
    "start_time": "2023-03-16T20:10:54.691Z"
   },
   {
    "duration": 6,
    "start_time": "2023-03-16T20:10:56.434Z"
   },
   {
    "duration": 5,
    "start_time": "2023-03-16T20:11:00.006Z"
   },
   {
    "duration": 6,
    "start_time": "2023-03-16T20:11:05.183Z"
   },
   {
    "duration": 10,
    "start_time": "2023-03-16T20:12:35.931Z"
   },
   {
    "duration": 5,
    "start_time": "2023-03-16T20:12:44.709Z"
   },
   {
    "duration": 5,
    "start_time": "2023-03-16T20:12:45.212Z"
   },
   {
    "duration": 5,
    "start_time": "2023-03-16T20:16:06.941Z"
   },
   {
    "duration": 6,
    "start_time": "2023-03-16T20:16:07.806Z"
   },
   {
    "duration": 2668,
    "start_time": "2023-03-16T20:16:08.723Z"
   },
   {
    "duration": 4,
    "start_time": "2023-03-16T20:16:14.003Z"
   },
   {
    "duration": 5,
    "start_time": "2023-03-16T20:16:56.063Z"
   },
   {
    "duration": 4,
    "start_time": "2023-03-16T20:17:28.711Z"
   },
   {
    "duration": 24,
    "start_time": "2023-03-16T20:17:48.236Z"
   },
   {
    "duration": 4,
    "start_time": "2023-03-16T20:17:50.009Z"
   },
   {
    "duration": 12,
    "start_time": "2023-03-16T20:24:28.379Z"
   },
   {
    "duration": 646,
    "start_time": "2023-03-16T20:24:32.539Z"
   },
   {
    "duration": 11,
    "start_time": "2023-03-16T20:24:53.148Z"
   },
   {
    "duration": 671,
    "start_time": "2023-03-16T20:28:52.971Z"
   },
   {
    "duration": 1187,
    "start_time": "2023-03-16T20:29:13.543Z"
   },
   {
    "duration": 102,
    "start_time": "2023-03-16T20:29:14.732Z"
   },
   {
    "duration": 17,
    "start_time": "2023-03-16T20:29:14.836Z"
   },
   {
    "duration": 4,
    "start_time": "2023-03-16T20:29:14.855Z"
   },
   {
    "duration": 86,
    "start_time": "2023-03-16T20:29:14.861Z"
   },
   {
    "duration": 85,
    "start_time": "2023-03-16T20:29:14.949Z"
   },
   {
    "duration": 2067,
    "start_time": "2023-03-16T20:29:15.035Z"
   },
   {
    "duration": 10,
    "start_time": "2023-03-16T20:29:17.104Z"
   },
   {
    "duration": 961,
    "start_time": "2023-03-16T20:29:17.116Z"
   },
   {
    "duration": 14,
    "start_time": "2023-03-16T20:29:18.079Z"
   },
   {
    "duration": 36,
    "start_time": "2023-03-16T20:29:18.094Z"
   },
   {
    "duration": 20,
    "start_time": "2023-03-16T20:29:18.131Z"
   },
   {
    "duration": 4,
    "start_time": "2023-03-16T20:29:18.152Z"
   },
   {
    "duration": 8,
    "start_time": "2023-03-16T20:29:18.158Z"
   },
   {
    "duration": 6,
    "start_time": "2023-03-16T20:29:18.167Z"
   },
   {
    "duration": 35,
    "start_time": "2023-03-16T20:29:18.175Z"
   },
   {
    "duration": 10,
    "start_time": "2023-03-16T20:29:18.212Z"
   },
   {
    "duration": 4,
    "start_time": "2023-03-16T20:29:18.224Z"
   },
   {
    "duration": 5,
    "start_time": "2023-03-16T20:29:18.230Z"
   },
   {
    "duration": 7,
    "start_time": "2023-03-16T20:29:18.236Z"
   },
   {
    "duration": 6,
    "start_time": "2023-03-16T20:29:18.245Z"
   },
   {
    "duration": 3658,
    "start_time": "2023-03-16T20:29:18.253Z"
   },
   {
    "duration": 4,
    "start_time": "2023-03-16T20:29:21.913Z"
   },
   {
    "duration": 9,
    "start_time": "2023-03-16T20:29:21.918Z"
   },
   {
    "duration": 22,
    "start_time": "2023-03-16T20:29:21.929Z"
   },
   {
    "duration": 5,
    "start_time": "2023-03-16T20:29:21.952Z"
   },
   {
    "duration": 6,
    "start_time": "2023-03-16T20:29:21.958Z"
   },
   {
    "duration": 31,
    "start_time": "2023-03-16T20:29:21.966Z"
   },
   {
    "duration": 13,
    "start_time": "2023-03-16T20:29:22.000Z"
   },
   {
    "duration": 5,
    "start_time": "2023-03-16T20:29:22.014Z"
   },
   {
    "duration": 6,
    "start_time": "2023-03-16T20:29:22.021Z"
   },
   {
    "duration": 13,
    "start_time": "2023-03-16T20:29:22.028Z"
   },
   {
    "duration": 9,
    "start_time": "2023-03-16T20:29:22.043Z"
   },
   {
    "duration": 7,
    "start_time": "2023-03-16T20:29:22.053Z"
   },
   {
    "duration": 4,
    "start_time": "2023-03-16T20:29:22.061Z"
   },
   {
    "duration": 9,
    "start_time": "2023-03-16T20:29:22.066Z"
   },
   {
    "duration": 38,
    "start_time": "2023-03-16T20:29:22.077Z"
   },
   {
    "duration": 7,
    "start_time": "2023-03-16T20:29:22.116Z"
   },
   {
    "duration": 10,
    "start_time": "2023-03-16T20:29:22.124Z"
   },
   {
    "duration": 1142,
    "start_time": "2023-03-16T20:29:22.135Z"
   },
   {
    "duration": 12,
    "start_time": "2023-03-16T20:29:23.285Z"
   },
   {
    "duration": 26,
    "start_time": "2023-03-16T20:29:23.298Z"
   },
   {
    "duration": 35,
    "start_time": "2023-03-16T20:29:23.326Z"
   },
   {
    "duration": 7,
    "start_time": "2023-03-16T20:29:23.362Z"
   },
   {
    "duration": 39,
    "start_time": "2023-03-16T20:29:23.370Z"
   },
   {
    "duration": 17,
    "start_time": "2023-03-16T20:29:23.410Z"
   },
   {
    "duration": 4,
    "start_time": "2023-03-16T20:29:23.428Z"
   },
   {
    "duration": 12,
    "start_time": "2023-03-16T20:29:23.433Z"
   },
   {
    "duration": 7,
    "start_time": "2023-03-16T20:29:23.447Z"
   },
   {
    "duration": 7,
    "start_time": "2023-03-16T20:29:23.456Z"
   },
   {
    "duration": 14,
    "start_time": "2023-03-16T20:29:23.464Z"
   },
   {
    "duration": 63,
    "start_time": "2023-03-16T20:29:23.479Z"
   },
   {
    "duration": 43,
    "start_time": "2023-03-16T20:29:23.543Z"
   },
   {
    "duration": 31,
    "start_time": "2023-03-16T20:29:23.588Z"
   },
   {
    "duration": 29,
    "start_time": "2023-03-16T20:29:23.621Z"
   },
   {
    "duration": 7,
    "start_time": "2023-03-16T20:29:23.652Z"
   },
   {
    "duration": 163,
    "start_time": "2023-03-16T20:29:23.661Z"
   },
   {
    "duration": 0,
    "start_time": "2023-03-16T20:29:23.826Z"
   },
   {
    "duration": 0,
    "start_time": "2023-03-16T20:29:23.827Z"
   },
   {
    "duration": 0,
    "start_time": "2023-03-16T20:29:23.827Z"
   },
   {
    "duration": 0,
    "start_time": "2023-03-16T20:29:23.829Z"
   },
   {
    "duration": 0,
    "start_time": "2023-03-16T20:29:23.830Z"
   },
   {
    "duration": 0,
    "start_time": "2023-03-16T20:29:23.831Z"
   },
   {
    "duration": 0,
    "start_time": "2023-03-16T20:29:23.832Z"
   },
   {
    "duration": 0,
    "start_time": "2023-03-16T20:29:23.832Z"
   },
   {
    "duration": 0,
    "start_time": "2023-03-16T20:29:23.833Z"
   },
   {
    "duration": 0,
    "start_time": "2023-03-16T20:29:23.834Z"
   },
   {
    "duration": 0,
    "start_time": "2023-03-16T20:29:23.835Z"
   },
   {
    "duration": 0,
    "start_time": "2023-03-16T20:29:23.835Z"
   },
   {
    "duration": 0,
    "start_time": "2023-03-16T20:29:23.836Z"
   },
   {
    "duration": 0,
    "start_time": "2023-03-16T20:29:23.837Z"
   },
   {
    "duration": 0,
    "start_time": "2023-03-16T20:29:23.838Z"
   },
   {
    "duration": 0,
    "start_time": "2023-03-16T20:29:23.839Z"
   },
   {
    "duration": 0,
    "start_time": "2023-03-16T20:29:23.840Z"
   },
   {
    "duration": 0,
    "start_time": "2023-03-16T20:29:23.842Z"
   },
   {
    "duration": 0,
    "start_time": "2023-03-16T20:29:23.843Z"
   },
   {
    "duration": 0,
    "start_time": "2023-03-16T20:29:23.844Z"
   },
   {
    "duration": 0,
    "start_time": "2023-03-16T20:29:23.846Z"
   },
   {
    "duration": 0,
    "start_time": "2023-03-16T20:29:23.847Z"
   },
   {
    "duration": 0,
    "start_time": "2023-03-16T20:29:23.848Z"
   },
   {
    "duration": 0,
    "start_time": "2023-03-16T20:29:23.879Z"
   },
   {
    "duration": 0,
    "start_time": "2023-03-16T20:29:23.880Z"
   },
   {
    "duration": 0,
    "start_time": "2023-03-16T20:29:23.880Z"
   },
   {
    "duration": 0,
    "start_time": "2023-03-16T20:29:23.881Z"
   },
   {
    "duration": 0,
    "start_time": "2023-03-16T20:29:23.882Z"
   },
   {
    "duration": 0,
    "start_time": "2023-03-16T20:29:23.883Z"
   },
   {
    "duration": 0,
    "start_time": "2023-03-16T20:29:23.884Z"
   },
   {
    "duration": 0,
    "start_time": "2023-03-16T20:29:23.885Z"
   },
   {
    "duration": 0,
    "start_time": "2023-03-16T20:29:23.885Z"
   },
   {
    "duration": 0,
    "start_time": "2023-03-16T20:29:23.886Z"
   },
   {
    "duration": 0,
    "start_time": "2023-03-16T20:29:23.886Z"
   },
   {
    "duration": 0,
    "start_time": "2023-03-16T20:29:23.887Z"
   },
   {
    "duration": 0,
    "start_time": "2023-03-16T20:29:23.887Z"
   },
   {
    "duration": 0,
    "start_time": "2023-03-16T20:29:23.888Z"
   },
   {
    "duration": 6,
    "start_time": "2023-03-16T20:30:06.214Z"
   },
   {
    "duration": 7,
    "start_time": "2023-03-16T20:30:56.679Z"
   },
   {
    "duration": 6,
    "start_time": "2023-03-16T20:30:59.003Z"
   },
   {
    "duration": 6,
    "start_time": "2023-03-16T20:31:35.599Z"
   },
   {
    "duration": 1049,
    "start_time": "2023-03-16T20:32:22.679Z"
   },
   {
    "duration": 99,
    "start_time": "2023-03-16T20:32:23.730Z"
   },
   {
    "duration": 19,
    "start_time": "2023-03-16T20:32:23.830Z"
   },
   {
    "duration": 5,
    "start_time": "2023-03-16T20:32:23.851Z"
   },
   {
    "duration": 40,
    "start_time": "2023-03-16T20:32:23.858Z"
   },
   {
    "duration": 89,
    "start_time": "2023-03-16T20:32:23.900Z"
   },
   {
    "duration": 1773,
    "start_time": "2023-03-16T20:32:23.997Z"
   },
   {
    "duration": 12,
    "start_time": "2023-03-16T20:32:25.772Z"
   },
   {
    "duration": 1090,
    "start_time": "2023-03-16T20:32:25.785Z"
   },
   {
    "duration": 14,
    "start_time": "2023-03-16T20:32:26.880Z"
   },
   {
    "duration": 11,
    "start_time": "2023-03-16T20:32:26.896Z"
   },
   {
    "duration": 21,
    "start_time": "2023-03-16T20:32:26.908Z"
   },
   {
    "duration": 4,
    "start_time": "2023-03-16T20:32:26.931Z"
   },
   {
    "duration": 5,
    "start_time": "2023-03-16T20:32:26.937Z"
   },
   {
    "duration": 5,
    "start_time": "2023-03-16T20:32:26.943Z"
   },
   {
    "duration": 5,
    "start_time": "2023-03-16T20:32:26.949Z"
   },
   {
    "duration": 34,
    "start_time": "2023-03-16T20:32:26.955Z"
   },
   {
    "duration": 14,
    "start_time": "2023-03-16T20:32:27.001Z"
   },
   {
    "duration": 11,
    "start_time": "2023-03-16T20:32:27.016Z"
   },
   {
    "duration": 13,
    "start_time": "2023-03-16T20:32:27.029Z"
   },
   {
    "duration": 11,
    "start_time": "2023-03-16T20:32:27.043Z"
   },
   {
    "duration": 2442,
    "start_time": "2023-03-16T20:32:27.056Z"
   },
   {
    "duration": 5,
    "start_time": "2023-03-16T20:32:29.500Z"
   },
   {
    "duration": 9,
    "start_time": "2023-03-16T20:32:29.506Z"
   },
   {
    "duration": 8,
    "start_time": "2023-03-16T20:32:29.516Z"
   },
   {
    "duration": 10,
    "start_time": "2023-03-16T20:32:29.525Z"
   },
   {
    "duration": 7,
    "start_time": "2023-03-16T20:32:29.536Z"
   },
   {
    "duration": 35,
    "start_time": "2023-03-16T20:32:29.547Z"
   },
   {
    "duration": 4,
    "start_time": "2023-03-16T20:32:29.584Z"
   },
   {
    "duration": 5,
    "start_time": "2023-03-16T20:32:32.753Z"
   },
   {
    "duration": 4,
    "start_time": "2023-03-16T20:32:33.418Z"
   },
   {
    "duration": 4,
    "start_time": "2023-03-16T20:33:22.557Z"
   },
   {
    "duration": 5,
    "start_time": "2023-03-16T20:33:23.881Z"
   },
   {
    "duration": 5,
    "start_time": "2023-03-16T20:33:31.528Z"
   },
   {
    "duration": 6,
    "start_time": "2023-03-16T20:33:34.691Z"
   },
   {
    "duration": 8,
    "start_time": "2023-03-16T20:33:36.174Z"
   },
   {
    "duration": 4,
    "start_time": "2023-03-16T20:34:40.873Z"
   },
   {
    "duration": 4,
    "start_time": "2023-03-16T20:34:41.305Z"
   },
   {
    "duration": 7,
    "start_time": "2023-03-16T20:34:44.842Z"
   },
   {
    "duration": 4,
    "start_time": "2023-03-16T20:34:49.756Z"
   },
   {
    "duration": 5,
    "start_time": "2023-03-16T20:34:52.670Z"
   },
   {
    "duration": 988,
    "start_time": "2023-03-16T20:35:13.876Z"
   },
   {
    "duration": 4,
    "start_time": "2023-03-16T20:35:15.703Z"
   },
   {
    "duration": 5,
    "start_time": "2023-03-16T20:35:16.637Z"
   },
   {
    "duration": 27,
    "start_time": "2023-03-16T20:38:06.743Z"
   },
   {
    "duration": 27,
    "start_time": "2023-03-16T20:48:08.434Z"
   },
   {
    "duration": 7,
    "start_time": "2023-03-16T20:48:22.319Z"
   },
   {
    "duration": 5,
    "start_time": "2023-03-16T20:48:24.119Z"
   },
   {
    "duration": 7,
    "start_time": "2023-03-16T20:48:33.439Z"
   },
   {
    "duration": 4,
    "start_time": "2023-03-16T20:48:40.067Z"
   },
   {
    "duration": 5,
    "start_time": "2023-03-16T20:48:42.187Z"
   },
   {
    "duration": 6,
    "start_time": "2023-03-16T20:49:35.363Z"
   },
   {
    "duration": 3,
    "start_time": "2023-03-16T20:49:42.446Z"
   },
   {
    "duration": 10,
    "start_time": "2023-03-16T20:49:46.258Z"
   },
   {
    "duration": 3,
    "start_time": "2023-03-16T20:51:12.884Z"
   },
   {
    "duration": 10,
    "start_time": "2023-03-16T20:51:15.913Z"
   },
   {
    "duration": 7,
    "start_time": "2023-03-16T20:51:16.661Z"
   },
   {
    "duration": 3,
    "start_time": "2023-03-16T20:52:09.266Z"
   },
   {
    "duration": 9,
    "start_time": "2023-03-16T20:52:10.011Z"
   },
   {
    "duration": 8,
    "start_time": "2023-03-16T20:52:10.638Z"
   },
   {
    "duration": 19,
    "start_time": "2023-03-16T20:53:39.854Z"
   },
   {
    "duration": 7,
    "start_time": "2023-03-16T20:53:45.562Z"
   },
   {
    "duration": 19,
    "start_time": "2023-03-16T20:54:25.351Z"
   },
   {
    "duration": 7,
    "start_time": "2023-03-16T20:55:19.452Z"
   },
   {
    "duration": 33,
    "start_time": "2023-03-16T20:55:26.154Z"
   },
   {
    "duration": 7,
    "start_time": "2023-03-16T20:56:41.692Z"
   },
   {
    "duration": 106,
    "start_time": "2023-03-16T20:57:28.943Z"
   },
   {
    "duration": 4,
    "start_time": "2023-03-16T20:57:33.831Z"
   },
   {
    "duration": 34,
    "start_time": "2023-03-16T20:57:34.523Z"
   },
   {
    "duration": 36,
    "start_time": "2023-03-16T20:58:10.950Z"
   },
   {
    "duration": 15,
    "start_time": "2023-03-16T20:59:08.891Z"
   },
   {
    "duration": 24,
    "start_time": "2023-03-16T20:59:23.915Z"
   },
   {
    "duration": 7,
    "start_time": "2023-03-16T20:59:24.612Z"
   },
   {
    "duration": 3,
    "start_time": "2023-03-16T20:59:38.084Z"
   },
   {
    "duration": 29,
    "start_time": "2023-03-16T20:59:39.669Z"
   },
   {
    "duration": 10,
    "start_time": "2023-03-16T20:59:57.931Z"
   },
   {
    "duration": 13,
    "start_time": "2023-03-16T20:59:58.692Z"
   },
   {
    "duration": 12,
    "start_time": "2023-03-16T21:00:13.199Z"
   },
   {
    "duration": 11,
    "start_time": "2023-03-16T21:01:12.828Z"
   },
   {
    "duration": 12,
    "start_time": "2023-03-16T21:01:13.365Z"
   },
   {
    "duration": 3,
    "start_time": "2023-03-16T21:01:16.427Z"
   },
   {
    "duration": 4,
    "start_time": "2023-03-16T21:02:16.041Z"
   },
   {
    "duration": 5,
    "start_time": "2023-03-16T21:02:16.605Z"
   },
   {
    "duration": 8,
    "start_time": "2023-03-16T21:07:31.530Z"
   },
   {
    "duration": 3,
    "start_time": "2023-03-16T21:08:39.919Z"
   },
   {
    "duration": 280,
    "start_time": "2023-03-16T21:08:41.782Z"
   },
   {
    "duration": 5,
    "start_time": "2023-03-16T21:08:43.109Z"
   },
   {
    "duration": 3,
    "start_time": "2023-03-16T21:09:33.698Z"
   },
   {
    "duration": 8,
    "start_time": "2023-03-16T21:12:03.923Z"
   },
   {
    "duration": 4,
    "start_time": "2023-03-16T21:12:06.207Z"
   },
   {
    "duration": 7,
    "start_time": "2023-03-16T21:12:52.927Z"
   },
   {
    "duration": 4,
    "start_time": "2023-03-16T21:13:26.574Z"
   },
   {
    "duration": 7,
    "start_time": "2023-03-16T21:13:27.207Z"
   },
   {
    "duration": 3,
    "start_time": "2023-03-16T21:13:57.555Z"
   },
   {
    "duration": 8,
    "start_time": "2023-03-16T21:15:09.565Z"
   },
   {
    "duration": 5,
    "start_time": "2023-03-16T21:15:24.073Z"
   },
   {
    "duration": 5,
    "start_time": "2023-03-16T21:15:56.734Z"
   },
   {
    "duration": 48,
    "start_time": "2023-03-17T07:41:51.907Z"
   },
   {
    "duration": 1253,
    "start_time": "2023-03-17T07:41:58.560Z"
   },
   {
    "duration": 150,
    "start_time": "2023-03-17T07:41:59.815Z"
   },
   {
    "duration": 16,
    "start_time": "2023-03-17T07:41:59.966Z"
   },
   {
    "duration": 3,
    "start_time": "2023-03-17T07:41:59.984Z"
   },
   {
    "duration": 22,
    "start_time": "2023-03-17T07:41:59.989Z"
   },
   {
    "duration": 82,
    "start_time": "2023-03-17T07:42:00.012Z"
   },
   {
    "duration": 1765,
    "start_time": "2023-03-17T07:42:00.097Z"
   },
   {
    "duration": 8,
    "start_time": "2023-03-17T07:42:01.864Z"
   },
   {
    "duration": 1033,
    "start_time": "2023-03-17T07:42:01.873Z"
   },
   {
    "duration": 4,
    "start_time": "2023-03-17T07:42:02.908Z"
   },
   {
    "duration": 15,
    "start_time": "2023-03-17T07:42:02.913Z"
   },
   {
    "duration": 34,
    "start_time": "2023-03-17T07:42:02.929Z"
   },
   {
    "duration": 5,
    "start_time": "2023-03-17T07:42:02.965Z"
   },
   {
    "duration": 5,
    "start_time": "2023-03-17T07:42:02.971Z"
   },
   {
    "duration": 4,
    "start_time": "2023-03-17T07:42:02.978Z"
   },
   {
    "duration": 13,
    "start_time": "2023-03-17T07:42:02.984Z"
   },
   {
    "duration": 4,
    "start_time": "2023-03-17T07:42:02.999Z"
   },
   {
    "duration": 15,
    "start_time": "2023-03-17T07:42:03.005Z"
   },
   {
    "duration": 20,
    "start_time": "2023-03-17T07:42:03.022Z"
   },
   {
    "duration": 6,
    "start_time": "2023-03-17T07:42:03.043Z"
   },
   {
    "duration": 11,
    "start_time": "2023-03-17T07:42:03.051Z"
   },
   {
    "duration": 2557,
    "start_time": "2023-03-17T07:42:03.064Z"
   },
   {
    "duration": 4,
    "start_time": "2023-03-17T07:42:05.622Z"
   },
   {
    "duration": 17,
    "start_time": "2023-03-17T07:42:05.627Z"
   },
   {
    "duration": 14,
    "start_time": "2023-03-17T07:42:05.646Z"
   },
   {
    "duration": 6,
    "start_time": "2023-03-17T07:42:05.661Z"
   },
   {
    "duration": 6,
    "start_time": "2023-03-17T07:42:05.669Z"
   },
   {
    "duration": 38,
    "start_time": "2023-03-17T07:42:05.680Z"
   },
   {
    "duration": 5,
    "start_time": "2023-03-17T07:42:05.720Z"
   },
   {
    "duration": 4,
    "start_time": "2023-03-17T07:42:05.727Z"
   },
   {
    "duration": 5,
    "start_time": "2023-03-17T07:42:05.740Z"
   },
   {
    "duration": 24,
    "start_time": "2023-03-17T07:42:05.746Z"
   },
   {
    "duration": 14,
    "start_time": "2023-03-17T07:42:05.772Z"
   },
   {
    "duration": 8,
    "start_time": "2023-03-17T07:42:05.788Z"
   },
   {
    "duration": 5,
    "start_time": "2023-03-17T07:42:05.797Z"
   },
   {
    "duration": 10,
    "start_time": "2023-03-17T07:42:05.804Z"
   },
   {
    "duration": 7,
    "start_time": "2023-03-17T07:42:05.815Z"
   },
   {
    "duration": 8,
    "start_time": "2023-03-17T07:42:05.823Z"
   },
   {
    "duration": 9,
    "start_time": "2023-03-17T07:42:05.833Z"
   },
   {
    "duration": 9,
    "start_time": "2023-03-17T07:42:05.844Z"
   },
   {
    "duration": 1182,
    "start_time": "2023-03-17T07:42:05.854Z"
   },
   {
    "duration": 4,
    "start_time": "2023-03-17T07:42:07.038Z"
   },
   {
    "duration": 38,
    "start_time": "2023-03-17T07:42:07.044Z"
   },
   {
    "duration": 8,
    "start_time": "2023-03-17T07:42:07.084Z"
   },
   {
    "duration": 19,
    "start_time": "2023-03-17T07:42:07.093Z"
   },
   {
    "duration": 14,
    "start_time": "2023-03-17T07:42:07.114Z"
   },
   {
    "duration": 4,
    "start_time": "2023-03-17T07:42:07.129Z"
   },
   {
    "duration": 8,
    "start_time": "2023-03-17T07:42:07.135Z"
   },
   {
    "duration": 5,
    "start_time": "2023-03-17T07:42:07.145Z"
   },
   {
    "duration": 3,
    "start_time": "2023-03-17T07:42:07.151Z"
   },
   {
    "duration": 16,
    "start_time": "2023-03-17T07:42:07.156Z"
   },
   {
    "duration": 7,
    "start_time": "2023-03-17T07:42:07.173Z"
   },
   {
    "duration": 30,
    "start_time": "2023-03-17T07:42:07.182Z"
   },
   {
    "duration": 28,
    "start_time": "2023-03-17T07:42:07.214Z"
   },
   {
    "duration": 40,
    "start_time": "2023-03-17T07:42:07.243Z"
   },
   {
    "duration": 5,
    "start_time": "2023-03-17T07:42:07.284Z"
   },
   {
    "duration": 37,
    "start_time": "2023-03-17T07:42:07.291Z"
   },
   {
    "duration": 19,
    "start_time": "2023-03-17T07:42:07.330Z"
   },
   {
    "duration": 27,
    "start_time": "2023-03-17T07:42:07.350Z"
   },
   {
    "duration": 8,
    "start_time": "2023-03-17T07:42:07.378Z"
   },
   {
    "duration": 3,
    "start_time": "2023-03-17T07:42:07.388Z"
   },
   {
    "duration": 23,
    "start_time": "2023-03-17T07:42:07.392Z"
   },
   {
    "duration": 31,
    "start_time": "2023-03-17T07:42:07.417Z"
   },
   {
    "duration": 11,
    "start_time": "2023-03-17T07:42:07.449Z"
   },
   {
    "duration": 13,
    "start_time": "2023-03-17T07:42:07.461Z"
   },
   {
    "duration": 3,
    "start_time": "2023-03-17T07:42:07.476Z"
   },
   {
    "duration": 6,
    "start_time": "2023-03-17T07:42:07.480Z"
   },
   {
    "duration": 9,
    "start_time": "2023-03-17T07:42:07.487Z"
   },
   {
    "duration": 3,
    "start_time": "2023-03-17T07:42:07.497Z"
   },
   {
    "duration": 315,
    "start_time": "2023-03-17T07:42:07.501Z"
   },
   {
    "duration": 5,
    "start_time": "2023-03-17T07:42:07.817Z"
   },
   {
    "duration": 19,
    "start_time": "2023-03-17T07:42:07.823Z"
   },
   {
    "duration": 3,
    "start_time": "2023-03-17T07:42:07.843Z"
   },
   {
    "duration": 20,
    "start_time": "2023-03-17T07:42:07.848Z"
   },
   {
    "duration": 3,
    "start_time": "2023-03-17T07:42:07.869Z"
   },
   {
    "duration": 6,
    "start_time": "2023-03-17T07:42:07.873Z"
   },
   {
    "duration": 5,
    "start_time": "2023-03-17T07:42:07.880Z"
   },
   {
    "duration": 175,
    "start_time": "2023-03-17T07:42:11.455Z"
   },
   {
    "duration": 157,
    "start_time": "2023-03-17T07:44:12.322Z"
   },
   {
    "duration": 70,
    "start_time": "2023-03-17T07:46:30.667Z"
   },
   {
    "duration": 196,
    "start_time": "2023-03-17T07:46:39.098Z"
   },
   {
    "duration": 207,
    "start_time": "2023-03-17T07:47:38.184Z"
   },
   {
    "duration": 155,
    "start_time": "2023-03-17T07:48:06.607Z"
   },
   {
    "duration": 130,
    "start_time": "2023-03-17T07:49:24.377Z"
   },
   {
    "duration": 172,
    "start_time": "2023-03-17T07:50:16.032Z"
   },
   {
    "duration": 247,
    "start_time": "2023-03-17T07:50:26.435Z"
   },
   {
    "duration": 8,
    "start_time": "2023-03-17T07:53:29.368Z"
   },
   {
    "duration": 5,
    "start_time": "2023-03-17T08:13:53.295Z"
   },
   {
    "duration": 13,
    "start_time": "2023-03-17T08:14:26.831Z"
   },
   {
    "duration": 9,
    "start_time": "2023-03-17T08:14:44.130Z"
   },
   {
    "duration": 140,
    "start_time": "2023-03-17T08:15:33.230Z"
   },
   {
    "duration": 140,
    "start_time": "2023-03-17T08:17:20.676Z"
   },
   {
    "duration": 142,
    "start_time": "2023-03-17T08:17:58.986Z"
   },
   {
    "duration": 123,
    "start_time": "2023-03-17T08:21:37.682Z"
   },
   {
    "duration": 145,
    "start_time": "2023-03-17T08:22:38.740Z"
   },
   {
    "duration": 202,
    "start_time": "2023-03-17T08:23:58.647Z"
   },
   {
    "duration": 130,
    "start_time": "2023-03-17T08:24:40.354Z"
   },
   {
    "duration": 119,
    "start_time": "2023-03-17T08:24:48.728Z"
   },
   {
    "duration": 16,
    "start_time": "2023-03-17T08:33:28.096Z"
   },
   {
    "duration": 243,
    "start_time": "2023-03-17T08:34:41.473Z"
   },
   {
    "duration": 407,
    "start_time": "2023-03-17T08:34:56.451Z"
   },
   {
    "duration": 10,
    "start_time": "2023-03-17T08:43:52.191Z"
   },
   {
    "duration": 216,
    "start_time": "2023-03-17T08:44:02.083Z"
   },
   {
    "duration": 296,
    "start_time": "2023-03-17T08:44:24.819Z"
   },
   {
    "duration": 4,
    "start_time": "2023-03-17T08:46:04.728Z"
   },
   {
    "duration": 323,
    "start_time": "2023-03-17T08:46:08.645Z"
   },
   {
    "duration": 127,
    "start_time": "2023-03-17T08:48:16.582Z"
   },
   {
    "duration": 219,
    "start_time": "2023-03-17T08:51:38.146Z"
   },
   {
    "duration": 755,
    "start_time": "2023-03-17T08:51:46.456Z"
   },
   {
    "duration": 170,
    "start_time": "2023-03-17T08:51:51.296Z"
   },
   {
    "duration": 4,
    "start_time": "2023-03-17T08:52:54.087Z"
   },
   {
    "duration": 4,
    "start_time": "2023-03-17T08:52:55.342Z"
   },
   {
    "duration": 8,
    "start_time": "2023-03-17T09:00:27.910Z"
   },
   {
    "duration": 5,
    "start_time": "2023-03-17T09:03:14.489Z"
   },
   {
    "duration": 4,
    "start_time": "2023-03-17T09:04:01.439Z"
   },
   {
    "duration": 1103,
    "start_time": "2023-03-17T09:10:42.317Z"
   },
   {
    "duration": 1258,
    "start_time": "2023-03-17T09:10:55.812Z"
   },
   {
    "duration": 14,
    "start_time": "2023-03-17T09:11:44.453Z"
   },
   {
    "duration": 160,
    "start_time": "2023-03-17T09:11:56.770Z"
   },
   {
    "duration": 15,
    "start_time": "2023-03-17T09:13:42.404Z"
   },
   {
    "duration": 157,
    "start_time": "2023-03-17T09:13:58.379Z"
   },
   {
    "duration": 34,
    "start_time": "2023-03-17T09:14:18.503Z"
   },
   {
    "duration": 19,
    "start_time": "2023-03-17T09:15:44.210Z"
   },
   {
    "duration": 28,
    "start_time": "2023-03-17T09:16:04.964Z"
   },
   {
    "duration": 9,
    "start_time": "2023-03-17T09:16:34.620Z"
   },
   {
    "duration": 10,
    "start_time": "2023-03-17T09:16:45.488Z"
   },
   {
    "duration": 15,
    "start_time": "2023-03-17T09:16:59.572Z"
   },
   {
    "duration": 7,
    "start_time": "2023-03-17T09:17:30.245Z"
   },
   {
    "duration": 18,
    "start_time": "2023-03-17T09:18:57.728Z"
   },
   {
    "duration": 13,
    "start_time": "2023-03-17T09:19:21.118Z"
   },
   {
    "duration": 6,
    "start_time": "2023-03-17T09:21:01.985Z"
   },
   {
    "duration": 7,
    "start_time": "2023-03-17T09:21:09.687Z"
   },
   {
    "duration": 9,
    "start_time": "2023-03-17T09:23:19.148Z"
   },
   {
    "duration": 20,
    "start_time": "2023-03-17T09:28:43.921Z"
   },
   {
    "duration": 13,
    "start_time": "2023-03-17T09:29:33.545Z"
   },
   {
    "duration": 16,
    "start_time": "2023-03-17T09:29:45.844Z"
   },
   {
    "duration": 23,
    "start_time": "2023-03-17T09:30:02.449Z"
   },
   {
    "duration": 7,
    "start_time": "2023-03-17T09:31:31.459Z"
   },
   {
    "duration": 13,
    "start_time": "2023-03-17T09:31:39.000Z"
   },
   {
    "duration": 7,
    "start_time": "2023-03-17T09:32:11.783Z"
   },
   {
    "duration": 14,
    "start_time": "2023-03-17T09:34:13.907Z"
   },
   {
    "duration": 70,
    "start_time": "2023-03-17T09:35:26.432Z"
   },
   {
    "duration": 12,
    "start_time": "2023-03-17T09:35:35.092Z"
   },
   {
    "duration": 13,
    "start_time": "2023-03-17T09:36:18.656Z"
   },
   {
    "duration": 12,
    "start_time": "2023-03-17T09:36:28.803Z"
   },
   {
    "duration": 17,
    "start_time": "2023-03-17T09:36:51.858Z"
   },
   {
    "duration": 65,
    "start_time": "2023-03-17T10:21:41.849Z"
   },
   {
    "duration": 13,
    "start_time": "2023-03-17T10:21:57.003Z"
   },
   {
    "duration": 24,
    "start_time": "2023-03-17T10:22:54.010Z"
   },
   {
    "duration": 33,
    "start_time": "2023-03-17T10:29:53.080Z"
   },
   {
    "duration": 32,
    "start_time": "2023-03-17T10:32:11.534Z"
   },
   {
    "duration": 9,
    "start_time": "2023-03-17T10:41:54.049Z"
   },
   {
    "duration": 126,
    "start_time": "2023-03-17T10:42:10.875Z"
   },
   {
    "duration": 122,
    "start_time": "2023-03-17T10:43:35.400Z"
   },
   {
    "duration": 120,
    "start_time": "2023-03-17T10:44:07.909Z"
   },
   {
    "duration": 133,
    "start_time": "2023-03-17T10:44:21.700Z"
   },
   {
    "duration": 124,
    "start_time": "2023-03-17T10:44:42.309Z"
   },
   {
    "duration": 124,
    "start_time": "2023-03-17T10:52:40.193Z"
   },
   {
    "duration": 138,
    "start_time": "2023-03-17T10:53:54.083Z"
   },
   {
    "duration": 139,
    "start_time": "2023-03-17T10:55:24.360Z"
   },
   {
    "duration": 144,
    "start_time": "2023-03-17T10:57:51.359Z"
   },
   {
    "duration": 166,
    "start_time": "2023-03-17T10:57:56.136Z"
   },
   {
    "duration": 120,
    "start_time": "2023-03-17T10:58:41.261Z"
   },
   {
    "duration": 281,
    "start_time": "2023-03-17T10:58:46.030Z"
   },
   {
    "duration": 122,
    "start_time": "2023-03-17T10:58:50.828Z"
   },
   {
    "duration": 123,
    "start_time": "2023-03-17T10:59:15.590Z"
   },
   {
    "duration": 126,
    "start_time": "2023-03-17T11:00:14.599Z"
   },
   {
    "duration": 129,
    "start_time": "2023-03-17T11:00:19.177Z"
   },
   {
    "duration": 131,
    "start_time": "2023-03-17T11:00:22.469Z"
   },
   {
    "duration": 144,
    "start_time": "2023-03-17T11:00:30.902Z"
   },
   {
    "duration": 170,
    "start_time": "2023-03-17T11:00:35.427Z"
   },
   {
    "duration": 22,
    "start_time": "2023-03-17T11:02:44.898Z"
   },
   {
    "duration": 155,
    "start_time": "2023-03-17T11:02:57.455Z"
   },
   {
    "duration": 147,
    "start_time": "2023-03-17T11:03:49.566Z"
   },
   {
    "duration": 14,
    "start_time": "2023-03-17T11:04:19.604Z"
   },
   {
    "duration": 131,
    "start_time": "2023-03-17T11:05:08.107Z"
   },
   {
    "duration": 84,
    "start_time": "2023-03-17T11:22:17.552Z"
   },
   {
    "duration": 33,
    "start_time": "2023-03-17T11:23:24.000Z"
   },
   {
    "duration": 9,
    "start_time": "2023-03-17T11:24:08.659Z"
   },
   {
    "duration": 1430,
    "start_time": "2023-03-17T11:24:29.874Z"
   },
   {
    "duration": 2,
    "start_time": "2023-03-17T11:29:33.057Z"
   },
   {
    "duration": 2,
    "start_time": "2023-03-17T11:29:38.425Z"
   },
   {
    "duration": 136,
    "start_time": "2023-03-17T11:32:18.231Z"
   },
   {
    "duration": 154,
    "start_time": "2023-03-17T11:32:23.159Z"
   },
   {
    "duration": 128,
    "start_time": "2023-03-17T11:32:28.705Z"
   },
   {
    "duration": 158,
    "start_time": "2023-03-17T11:32:32.400Z"
   },
   {
    "duration": 140,
    "start_time": "2023-03-17T11:32:40.846Z"
   },
   {
    "duration": 147,
    "start_time": "2023-03-17T11:33:27.313Z"
   },
   {
    "duration": 148,
    "start_time": "2023-03-17T11:34:07.762Z"
   },
   {
    "duration": 148,
    "start_time": "2023-03-17T11:34:29.337Z"
   },
   {
    "duration": 147,
    "start_time": "2023-03-17T11:34:33.455Z"
   },
   {
    "duration": 141,
    "start_time": "2023-03-17T11:34:48.396Z"
   },
   {
    "duration": 140,
    "start_time": "2023-03-17T11:35:14.228Z"
   },
   {
    "duration": 21,
    "start_time": "2023-03-17T11:39:47.878Z"
   },
   {
    "duration": 11,
    "start_time": "2023-03-17T11:41:32.199Z"
   },
   {
    "duration": 145,
    "start_time": "2023-03-17T11:41:37.835Z"
   },
   {
    "duration": 1152,
    "start_time": "2023-03-17T11:45:14.240Z"
   },
   {
    "duration": 108,
    "start_time": "2023-03-17T11:45:15.394Z"
   },
   {
    "duration": 21,
    "start_time": "2023-03-17T11:45:15.504Z"
   },
   {
    "duration": 3,
    "start_time": "2023-03-17T11:45:15.539Z"
   },
   {
    "duration": 47,
    "start_time": "2023-03-17T11:45:15.544Z"
   },
   {
    "duration": 70,
    "start_time": "2023-03-17T11:45:15.592Z"
   },
   {
    "duration": 1895,
    "start_time": "2023-03-17T11:45:15.663Z"
   },
   {
    "duration": 10,
    "start_time": "2023-03-17T11:45:17.560Z"
   },
   {
    "duration": 1001,
    "start_time": "2023-03-17T11:45:17.571Z"
   },
   {
    "duration": 4,
    "start_time": "2023-03-17T11:45:18.576Z"
   },
   {
    "duration": 5,
    "start_time": "2023-03-17T11:45:18.582Z"
   },
   {
    "duration": 21,
    "start_time": "2023-03-17T11:45:18.589Z"
   },
   {
    "duration": 28,
    "start_time": "2023-03-17T11:45:18.612Z"
   },
   {
    "duration": 5,
    "start_time": "2023-03-17T11:45:18.642Z"
   },
   {
    "duration": 5,
    "start_time": "2023-03-17T11:45:18.648Z"
   },
   {
    "duration": 5,
    "start_time": "2023-03-17T11:45:18.655Z"
   },
   {
    "duration": 5,
    "start_time": "2023-03-17T11:45:18.662Z"
   },
   {
    "duration": 8,
    "start_time": "2023-03-17T11:45:18.668Z"
   },
   {
    "duration": 13,
    "start_time": "2023-03-17T11:45:18.677Z"
   },
   {
    "duration": 15,
    "start_time": "2023-03-17T11:45:18.692Z"
   },
   {
    "duration": 7,
    "start_time": "2023-03-17T11:45:18.740Z"
   },
   {
    "duration": 2623,
    "start_time": "2023-03-17T11:45:18.748Z"
   },
   {
    "duration": 4,
    "start_time": "2023-03-17T11:45:21.373Z"
   },
   {
    "duration": 8,
    "start_time": "2023-03-17T11:45:21.379Z"
   },
   {
    "duration": 13,
    "start_time": "2023-03-17T11:45:21.389Z"
   },
   {
    "duration": 27,
    "start_time": "2023-03-17T11:45:21.404Z"
   },
   {
    "duration": 11,
    "start_time": "2023-03-17T11:45:21.433Z"
   },
   {
    "duration": 35,
    "start_time": "2023-03-17T11:45:21.450Z"
   },
   {
    "duration": 4,
    "start_time": "2023-03-17T11:45:21.487Z"
   },
   {
    "duration": 10,
    "start_time": "2023-03-17T11:45:21.493Z"
   },
   {
    "duration": 8,
    "start_time": "2023-03-17T11:45:21.504Z"
   },
   {
    "duration": 29,
    "start_time": "2023-03-17T11:45:21.514Z"
   },
   {
    "duration": 8,
    "start_time": "2023-03-17T11:45:21.544Z"
   },
   {
    "duration": 10,
    "start_time": "2023-03-17T11:45:21.554Z"
   },
   {
    "duration": 13,
    "start_time": "2023-03-17T11:45:21.565Z"
   },
   {
    "duration": 8,
    "start_time": "2023-03-17T11:45:21.579Z"
   },
   {
    "duration": 8,
    "start_time": "2023-03-17T11:45:21.589Z"
   },
   {
    "duration": 10,
    "start_time": "2023-03-17T11:45:21.598Z"
   },
   {
    "duration": 4,
    "start_time": "2023-03-17T11:45:21.610Z"
   },
   {
    "duration": 8,
    "start_time": "2023-03-17T11:45:21.639Z"
   },
   {
    "duration": 1214,
    "start_time": "2023-03-17T11:45:21.648Z"
   },
   {
    "duration": 5,
    "start_time": "2023-03-17T11:45:22.864Z"
   },
   {
    "duration": 31,
    "start_time": "2023-03-17T11:45:22.871Z"
   },
   {
    "duration": 8,
    "start_time": "2023-03-17T11:45:22.903Z"
   },
   {
    "duration": 30,
    "start_time": "2023-03-17T11:45:22.913Z"
   },
   {
    "duration": 10,
    "start_time": "2023-03-17T11:45:22.945Z"
   },
   {
    "duration": 4,
    "start_time": "2023-03-17T11:45:22.956Z"
   },
   {
    "duration": 17,
    "start_time": "2023-03-17T11:45:22.961Z"
   },
   {
    "duration": 10,
    "start_time": "2023-03-17T11:45:22.980Z"
   },
   {
    "duration": 3,
    "start_time": "2023-03-17T11:45:22.991Z"
   },
   {
    "duration": 11,
    "start_time": "2023-03-17T11:45:22.996Z"
   },
   {
    "duration": 31,
    "start_time": "2023-03-17T11:45:23.009Z"
   },
   {
    "duration": 25,
    "start_time": "2023-03-17T11:45:23.041Z"
   },
   {
    "duration": 8,
    "start_time": "2023-03-17T11:45:23.068Z"
   },
   {
    "duration": 26,
    "start_time": "2023-03-17T11:45:23.077Z"
   },
   {
    "duration": 5,
    "start_time": "2023-03-17T11:45:23.104Z"
   },
   {
    "duration": 56,
    "start_time": "2023-03-17T11:45:23.110Z"
   },
   {
    "duration": 20,
    "start_time": "2023-03-17T11:45:23.168Z"
   },
   {
    "duration": 30,
    "start_time": "2023-03-17T11:45:23.190Z"
   },
   {
    "duration": 10,
    "start_time": "2023-03-17T11:45:23.241Z"
   },
   {
    "duration": 3,
    "start_time": "2023-03-17T11:45:23.253Z"
   },
   {
    "duration": 26,
    "start_time": "2023-03-17T11:45:23.258Z"
   },
   {
    "duration": 12,
    "start_time": "2023-03-17T11:45:23.286Z"
   },
   {
    "duration": 43,
    "start_time": "2023-03-17T11:45:23.300Z"
   },
   {
    "duration": 19,
    "start_time": "2023-03-17T11:45:23.346Z"
   },
   {
    "duration": 4,
    "start_time": "2023-03-17T11:45:23.367Z"
   },
   {
    "duration": 9,
    "start_time": "2023-03-17T11:45:23.372Z"
   },
   {
    "duration": 12,
    "start_time": "2023-03-17T11:45:23.382Z"
   },
   {
    "duration": 4,
    "start_time": "2023-03-17T11:45:23.396Z"
   },
   {
    "duration": 329,
    "start_time": "2023-03-17T11:45:23.402Z"
   },
   {
    "duration": 9,
    "start_time": "2023-03-17T11:45:23.732Z"
   },
   {
    "duration": 11,
    "start_time": "2023-03-17T11:45:23.743Z"
   },
   {
    "duration": 4,
    "start_time": "2023-03-17T11:45:23.756Z"
   },
   {
    "duration": 12,
    "start_time": "2023-03-17T11:45:23.763Z"
   },
   {
    "duration": 4,
    "start_time": "2023-03-17T11:45:23.777Z"
   },
   {
    "duration": 6,
    "start_time": "2023-03-17T11:45:23.783Z"
   },
   {
    "duration": 6,
    "start_time": "2023-03-17T11:45:23.790Z"
   },
   {
    "duration": 218,
    "start_time": "2023-03-17T11:45:23.798Z"
   },
   {
    "duration": 206,
    "start_time": "2023-03-17T11:45:24.018Z"
   },
   {
    "duration": 232,
    "start_time": "2023-03-17T11:45:24.226Z"
   },
   {
    "duration": 297,
    "start_time": "2023-03-17T11:45:24.460Z"
   },
   {
    "duration": 187,
    "start_time": "2023-03-17T11:45:24.765Z"
   },
   {
    "duration": 145,
    "start_time": "2023-03-17T11:45:24.953Z"
   },
   {
    "duration": 181,
    "start_time": "2023-03-17T11:45:25.099Z"
   },
   {
    "duration": 173,
    "start_time": "2023-03-17T11:45:25.282Z"
   },
   {
    "duration": 162,
    "start_time": "2023-03-17T11:45:25.456Z"
   },
   {
    "duration": 176,
    "start_time": "2023-03-17T11:45:25.620Z"
   },
   {
    "duration": 23,
    "start_time": "2023-03-17T11:45:25.798Z"
   },
   {
    "duration": 561,
    "start_time": "2023-03-17T11:45:25.822Z"
   },
   {
    "duration": 211,
    "start_time": "2023-03-17T11:45:26.384Z"
   },
   {
    "duration": 223,
    "start_time": "2023-03-17T11:45:26.597Z"
   },
   {
    "duration": 12,
    "start_time": "2023-03-17T11:45:26.822Z"
   },
   {
    "duration": 9,
    "start_time": "2023-03-17T11:45:26.840Z"
   },
   {
    "duration": 6,
    "start_time": "2023-03-17T11:45:26.851Z"
   },
   {
    "duration": 3,
    "start_time": "2023-03-17T11:45:26.858Z"
   },
   {
    "duration": 157,
    "start_time": "2023-03-17T11:45:26.863Z"
   },
   {
    "duration": 164,
    "start_time": "2023-03-17T11:45:27.022Z"
   },
   {
    "duration": 169,
    "start_time": "2023-03-17T11:45:27.187Z"
   },
   {
    "duration": 205,
    "start_time": "2023-03-17T11:45:27.357Z"
   },
   {
    "duration": 213,
    "start_time": "2023-03-17T11:45:27.564Z"
   },
   {
    "duration": 213,
    "start_time": "2023-03-17T11:45:27.779Z"
   },
   {
    "duration": 195,
    "start_time": "2023-03-17T11:45:27.994Z"
   },
   {
    "duration": 208,
    "start_time": "2023-03-17T11:45:28.191Z"
   },
   {
    "duration": 10,
    "start_time": "2023-03-17T11:45:28.401Z"
   },
   {
    "duration": 64,
    "start_time": "2023-03-17T11:45:28.413Z"
   },
   {
    "duration": 16,
    "start_time": "2023-03-17T11:45:28.479Z"
   },
   {
    "duration": 173,
    "start_time": "2023-03-17T11:45:28.496Z"
   },
   {
    "duration": 143,
    "start_time": "2023-03-17T11:56:58.882Z"
   },
   {
    "duration": 295,
    "start_time": "2023-03-17T11:57:19.517Z"
   },
   {
    "duration": 168,
    "start_time": "2023-03-17T11:57:36.469Z"
   },
   {
    "duration": 119,
    "start_time": "2023-03-17T11:57:57.710Z"
   },
   {
    "duration": 131,
    "start_time": "2023-03-17T11:58:29.061Z"
   },
   {
    "duration": 136,
    "start_time": "2023-03-17T11:59:01.672Z"
   },
   {
    "duration": 144,
    "start_time": "2023-03-17T11:59:18.147Z"
   },
   {
    "duration": 137,
    "start_time": "2023-03-17T11:59:35.968Z"
   },
   {
    "duration": 128,
    "start_time": "2023-03-17T11:59:57.509Z"
   },
   {
    "duration": 159,
    "start_time": "2023-03-17T12:00:16.177Z"
   },
   {
    "duration": 342,
    "start_time": "2023-03-17T12:00:50.523Z"
   },
   {
    "duration": 309,
    "start_time": "2023-03-17T12:02:13.796Z"
   },
   {
    "duration": 180,
    "start_time": "2023-03-17T12:05:39.213Z"
   },
   {
    "duration": 183,
    "start_time": "2023-03-17T12:53:09.330Z"
   },
   {
    "duration": 1575,
    "start_time": "2023-03-20T12:40:09.327Z"
   },
   {
    "duration": 606,
    "start_time": "2023-03-20T12:41:27.671Z"
   },
   {
    "duration": 3,
    "start_time": "2023-03-20T12:44:29.336Z"
   },
   {
    "duration": 14,
    "start_time": "2023-03-20T12:44:54.420Z"
   },
   {
    "duration": 33,
    "start_time": "2023-03-20T12:45:03.629Z"
   },
   {
    "duration": 19,
    "start_time": "2023-03-20T12:45:16.336Z"
   },
   {
    "duration": 6,
    "start_time": "2023-03-20T12:55:40.552Z"
   },
   {
    "duration": 6,
    "start_time": "2023-03-20T12:56:07.730Z"
   },
   {
    "duration": 8,
    "start_time": "2023-03-20T12:57:18.270Z"
   },
   {
    "duration": 633,
    "start_time": "2023-03-20T12:57:54.299Z"
   },
   {
    "duration": 13,
    "start_time": "2023-03-20T13:11:44.306Z"
   },
   {
    "duration": 23,
    "start_time": "2023-03-20T13:32:28.480Z"
   },
   {
    "duration": 8,
    "start_time": "2023-03-20T13:33:10.792Z"
   },
   {
    "duration": 7,
    "start_time": "2023-03-20T13:35:08.198Z"
   },
   {
    "duration": 6,
    "start_time": "2023-03-20T13:36:26.781Z"
   },
   {
    "duration": 25,
    "start_time": "2023-03-20T13:37:23.635Z"
   },
   {
    "duration": 5,
    "start_time": "2023-03-20T13:37:40.263Z"
   },
   {
    "duration": 51,
    "start_time": "2023-03-21T18:51:58.688Z"
   },
   {
    "duration": 1578,
    "start_time": "2023-03-21T18:52:07.989Z"
   },
   {
    "duration": 339,
    "start_time": "2023-03-21T18:52:09.572Z"
   },
   {
    "duration": 2,
    "start_time": "2023-03-21T18:52:09.913Z"
   },
   {
    "duration": 18,
    "start_time": "2023-03-21T18:52:09.917Z"
   },
   {
    "duration": 45,
    "start_time": "2023-03-21T18:52:09.938Z"
   },
   {
    "duration": 18,
    "start_time": "2023-03-21T18:52:09.984Z"
   },
   {
    "duration": 16,
    "start_time": "2023-03-21T18:52:10.004Z"
   },
   {
    "duration": 34,
    "start_time": "2023-03-21T18:52:10.022Z"
   },
   {
    "duration": 796,
    "start_time": "2023-03-21T18:52:10.058Z"
   },
   {
    "duration": 22,
    "start_time": "2023-03-21T18:52:10.860Z"
   },
   {
    "duration": 8,
    "start_time": "2023-03-21T18:52:10.889Z"
   },
   {
    "duration": 9,
    "start_time": "2023-03-21T18:52:10.899Z"
   },
   {
    "duration": 11,
    "start_time": "2023-03-21T18:52:10.909Z"
   },
   {
    "duration": 6,
    "start_time": "2023-03-21T18:52:10.922Z"
   },
   {
    "duration": 7,
    "start_time": "2023-03-21T18:55:00.187Z"
   },
   {
    "duration": 14,
    "start_time": "2023-03-21T18:55:19.757Z"
   },
   {
    "duration": 192,
    "start_time": "2023-03-21T19:03:04.924Z"
   },
   {
    "duration": 51,
    "start_time": "2023-03-21T19:04:36.440Z"
   },
   {
    "duration": 15,
    "start_time": "2023-03-21T19:05:00.501Z"
   },
   {
    "duration": 9,
    "start_time": "2023-03-21T19:08:43.645Z"
   },
   {
    "duration": 16,
    "start_time": "2023-03-21T19:10:12.375Z"
   },
   {
    "duration": 8,
    "start_time": "2023-03-21T19:10:51.330Z"
   },
   {
    "duration": 3,
    "start_time": "2023-03-21T19:11:52.719Z"
   },
   {
    "duration": 14,
    "start_time": "2023-03-21T19:12:06.951Z"
   },
   {
    "duration": 5,
    "start_time": "2023-03-21T19:24:40.904Z"
   },
   {
    "duration": 35,
    "start_time": "2023-03-21T19:33:23.466Z"
   },
   {
    "duration": 7,
    "start_time": "2023-03-21T19:34:20.975Z"
   },
   {
    "duration": 1341,
    "start_time": "2023-03-21T19:36:36.231Z"
   },
   {
    "duration": 56,
    "start_time": "2023-03-21T19:36:37.574Z"
   },
   {
    "duration": 3,
    "start_time": "2023-03-21T19:36:37.632Z"
   },
   {
    "duration": 39,
    "start_time": "2023-03-21T19:36:37.637Z"
   },
   {
    "duration": 47,
    "start_time": "2023-03-21T19:36:37.678Z"
   },
   {
    "duration": 31,
    "start_time": "2023-03-21T19:36:37.728Z"
   },
   {
    "duration": 9,
    "start_time": "2023-03-21T19:36:37.765Z"
   },
   {
    "duration": 21,
    "start_time": "2023-03-21T19:36:37.779Z"
   },
   {
    "duration": 769,
    "start_time": "2023-03-21T19:36:37.802Z"
   },
   {
    "duration": 29,
    "start_time": "2023-03-21T19:36:38.573Z"
   },
   {
    "duration": 11,
    "start_time": "2023-03-21T19:36:38.604Z"
   },
   {
    "duration": 45,
    "start_time": "2023-03-21T19:36:38.617Z"
   },
   {
    "duration": 11,
    "start_time": "2023-03-21T19:36:38.663Z"
   },
   {
    "duration": 26,
    "start_time": "2023-03-21T19:36:38.679Z"
   },
   {
    "duration": 12,
    "start_time": "2023-03-21T19:36:38.707Z"
   },
   {
    "duration": 14,
    "start_time": "2023-03-21T19:36:38.721Z"
   },
   {
    "duration": 25,
    "start_time": "2023-03-21T19:36:38.737Z"
   },
   {
    "duration": 15,
    "start_time": "2023-03-21T19:36:38.767Z"
   },
   {
    "duration": 14,
    "start_time": "2023-03-21T19:36:38.784Z"
   },
   {
    "duration": 23,
    "start_time": "2023-03-21T19:36:38.800Z"
   },
   {
    "duration": 7,
    "start_time": "2023-03-21T19:36:38.826Z"
   },
   {
    "duration": 14,
    "start_time": "2023-03-21T19:37:21.000Z"
   },
   {
    "duration": 5,
    "start_time": "2023-03-21T19:37:32.184Z"
   },
   {
    "duration": 19,
    "start_time": "2023-03-21T19:37:35.873Z"
   },
   {
    "duration": 21,
    "start_time": "2023-03-21T19:37:48.271Z"
   },
   {
    "duration": 1420,
    "start_time": "2023-03-21T19:39:26.832Z"
   },
   {
    "duration": 75,
    "start_time": "2023-03-21T19:39:28.254Z"
   },
   {
    "duration": 4,
    "start_time": "2023-03-21T19:39:28.330Z"
   },
   {
    "duration": 28,
    "start_time": "2023-03-21T19:39:28.336Z"
   },
   {
    "duration": 39,
    "start_time": "2023-03-21T19:39:28.366Z"
   },
   {
    "duration": 17,
    "start_time": "2023-03-21T19:39:28.415Z"
   },
   {
    "duration": 12,
    "start_time": "2023-03-21T19:39:28.434Z"
   },
   {
    "duration": 17,
    "start_time": "2023-03-21T19:39:28.448Z"
   },
   {
    "duration": 814,
    "start_time": "2023-03-21T19:39:28.467Z"
   },
   {
    "duration": 18,
    "start_time": "2023-03-21T19:39:29.284Z"
   },
   {
    "duration": 11,
    "start_time": "2023-03-21T19:39:29.304Z"
   },
   {
    "duration": 40,
    "start_time": "2023-03-21T19:39:29.318Z"
   },
   {
    "duration": 10,
    "start_time": "2023-03-21T19:39:29.360Z"
   },
   {
    "duration": 14,
    "start_time": "2023-03-21T19:39:29.371Z"
   },
   {
    "duration": 7,
    "start_time": "2023-03-21T19:39:29.387Z"
   },
   {
    "duration": 6,
    "start_time": "2023-03-21T19:39:29.396Z"
   },
   {
    "duration": 8,
    "start_time": "2023-03-21T19:39:29.404Z"
   },
   {
    "duration": 8,
    "start_time": "2023-03-21T19:39:29.415Z"
   },
   {
    "duration": 23,
    "start_time": "2023-03-21T19:39:29.425Z"
   },
   {
    "duration": 30,
    "start_time": "2023-03-21T19:39:29.450Z"
   },
   {
    "duration": 13,
    "start_time": "2023-03-21T19:39:29.486Z"
   },
   {
    "duration": 8,
    "start_time": "2023-03-21T19:39:29.502Z"
   },
   {
    "duration": 18,
    "start_time": "2023-03-21T19:39:29.512Z"
   },
   {
    "duration": 6,
    "start_time": "2023-03-21T19:39:29.541Z"
   },
   {
    "duration": 177,
    "start_time": "2023-03-21T19:44:49.533Z"
   },
   {
    "duration": 17,
    "start_time": "2023-03-21T19:44:50.257Z"
   },
   {
    "duration": 48,
    "start_time": "2023-03-21T19:45:01.653Z"
   },
   {
    "duration": 9,
    "start_time": "2023-03-21T19:45:02.384Z"
   },
   {
    "duration": 20,
    "start_time": "2023-03-21T19:45:03.004Z"
   },
   {
    "duration": 10,
    "start_time": "2023-03-21T19:48:46.568Z"
   },
   {
    "duration": 13,
    "start_time": "2023-03-21T19:48:56.626Z"
   },
   {
    "duration": 6,
    "start_time": "2023-03-21T19:48:57.220Z"
   },
   {
    "duration": 16,
    "start_time": "2023-03-21T19:48:57.917Z"
   },
   {
    "duration": 6,
    "start_time": "2023-03-21T19:49:37.431Z"
   },
   {
    "duration": 3444,
    "start_time": "2023-03-21T19:50:05.463Z"
   },
   {
    "duration": 381,
    "start_time": "2023-03-21T19:50:08.909Z"
   },
   {
    "duration": 2,
    "start_time": "2023-03-21T19:50:09.293Z"
   },
   {
    "duration": 21,
    "start_time": "2023-03-21T19:50:09.299Z"
   },
   {
    "duration": 72,
    "start_time": "2023-03-21T19:50:09.322Z"
   },
   {
    "duration": 20,
    "start_time": "2023-03-21T19:50:09.396Z"
   },
   {
    "duration": 9,
    "start_time": "2023-03-21T19:50:09.420Z"
   },
   {
    "duration": 19,
    "start_time": "2023-03-21T19:50:09.431Z"
   },
   {
    "duration": 863,
    "start_time": "2023-03-21T19:50:09.452Z"
   },
   {
    "duration": 16,
    "start_time": "2023-03-21T19:50:10.318Z"
   },
   {
    "duration": 39,
    "start_time": "2023-03-21T19:50:10.336Z"
   },
   {
    "duration": 10,
    "start_time": "2023-03-21T19:50:10.381Z"
   },
   {
    "duration": 8,
    "start_time": "2023-03-21T19:50:10.393Z"
   },
   {
    "duration": 12,
    "start_time": "2023-03-21T19:50:10.404Z"
   },
   {
    "duration": 16,
    "start_time": "2023-03-21T19:50:10.420Z"
   },
   {
    "duration": 21,
    "start_time": "2023-03-21T19:50:10.438Z"
   },
   {
    "duration": 26,
    "start_time": "2023-03-21T19:50:10.462Z"
   },
   {
    "duration": 7,
    "start_time": "2023-03-21T19:50:10.490Z"
   },
   {
    "duration": 8,
    "start_time": "2023-03-21T19:50:10.499Z"
   },
   {
    "duration": 17,
    "start_time": "2023-03-21T19:50:10.509Z"
   },
   {
    "duration": 33,
    "start_time": "2023-03-21T19:50:12.459Z"
   },
   {
    "duration": 7,
    "start_time": "2023-03-21T19:50:13.520Z"
   },
   {
    "duration": 6,
    "start_time": "2023-03-21T19:51:04.404Z"
   },
   {
    "duration": 33,
    "start_time": "2023-03-21T19:51:46.987Z"
   },
   {
    "duration": 39,
    "start_time": "2023-03-21T19:53:52.069Z"
   },
   {
    "duration": 221,
    "start_time": "2023-03-21T19:54:03.411Z"
   },
   {
    "duration": 1444,
    "start_time": "2023-03-21T19:54:11.493Z"
   },
   {
    "duration": 1395,
    "start_time": "2023-03-21T19:54:21.467Z"
   },
   {
    "duration": 1428,
    "start_time": "2023-03-21T19:54:42.609Z"
   },
   {
    "duration": 1719,
    "start_time": "2023-03-21T19:55:07.907Z"
   },
   {
    "duration": 49,
    "start_time": "2023-03-22T07:50:52.713Z"
   },
   {
    "duration": 1264,
    "start_time": "2023-03-22T07:52:56.323Z"
   },
   {
    "duration": 105,
    "start_time": "2023-03-22T07:52:57.590Z"
   },
   {
    "duration": 3,
    "start_time": "2023-03-22T07:52:57.697Z"
   },
   {
    "duration": 21,
    "start_time": "2023-03-22T07:52:57.701Z"
   },
   {
    "duration": 30,
    "start_time": "2023-03-22T07:52:57.724Z"
   },
   {
    "duration": 20,
    "start_time": "2023-03-22T07:52:57.756Z"
   },
   {
    "duration": 12,
    "start_time": "2023-03-22T07:52:57.778Z"
   },
   {
    "duration": 12,
    "start_time": "2023-03-22T07:52:57.791Z"
   },
   {
    "duration": 679,
    "start_time": "2023-03-22T07:52:57.804Z"
   },
   {
    "duration": 13,
    "start_time": "2023-03-22T07:52:58.485Z"
   },
   {
    "duration": 17,
    "start_time": "2023-03-22T07:52:58.499Z"
   },
   {
    "duration": 7,
    "start_time": "2023-03-22T07:52:58.517Z"
   },
   {
    "duration": 5,
    "start_time": "2023-03-22T07:52:58.526Z"
   },
   {
    "duration": 8,
    "start_time": "2023-03-22T07:52:58.533Z"
   },
   {
    "duration": 8,
    "start_time": "2023-03-22T07:52:58.542Z"
   },
   {
    "duration": 5,
    "start_time": "2023-03-22T07:52:58.574Z"
   },
   {
    "duration": 9,
    "start_time": "2023-03-22T07:52:58.580Z"
   },
   {
    "duration": 15,
    "start_time": "2023-03-22T07:52:58.591Z"
   },
   {
    "duration": 10,
    "start_time": "2023-03-22T07:52:58.608Z"
   },
   {
    "duration": 18,
    "start_time": "2023-03-22T07:52:58.620Z"
   },
   {
    "duration": 4,
    "start_time": "2023-03-22T07:52:58.639Z"
   },
   {
    "duration": 36,
    "start_time": "2023-03-22T07:52:58.645Z"
   },
   {
    "duration": 4,
    "start_time": "2023-03-22T07:52:58.683Z"
   },
   {
    "duration": 7,
    "start_time": "2023-03-22T07:52:58.689Z"
   },
   {
    "duration": 102,
    "start_time": "2023-03-22T08:06:37.631Z"
   },
   {
    "duration": 16,
    "start_time": "2023-03-22T08:06:42.621Z"
   },
   {
    "duration": 9,
    "start_time": "2023-03-22T08:08:35.882Z"
   },
   {
    "duration": 160,
    "start_time": "2023-03-22T08:08:48.521Z"
   },
   {
    "duration": 134,
    "start_time": "2023-03-22T08:14:00.052Z"
   },
   {
    "duration": 14,
    "start_time": "2023-03-22T08:54:49.023Z"
   },
   {
    "duration": 98,
    "start_time": "2023-03-22T08:57:08.552Z"
   },
   {
    "duration": 4,
    "start_time": "2023-03-22T08:57:16.057Z"
   },
   {
    "duration": 4,
    "start_time": "2023-03-22T08:57:30.275Z"
   },
   {
    "duration": 7,
    "start_time": "2023-03-22T08:58:19.339Z"
   },
   {
    "duration": 4,
    "start_time": "2023-03-22T08:58:30.181Z"
   },
   {
    "duration": 160,
    "start_time": "2023-03-22T09:11:02.479Z"
   },
   {
    "duration": 4,
    "start_time": "2023-03-22T09:20:36.087Z"
   },
   {
    "duration": 147,
    "start_time": "2023-03-22T09:28:47.205Z"
   },
   {
    "duration": 4,
    "start_time": "2023-03-22T09:28:51.282Z"
   },
   {
    "duration": 14,
    "start_time": "2023-03-22T09:29:28.955Z"
   },
   {
    "duration": 4,
    "start_time": "2023-03-22T09:50:38.242Z"
   },
   {
    "duration": 26,
    "start_time": "2023-03-22T09:51:17.705Z"
   },
   {
    "duration": 62,
    "start_time": "2023-03-24T08:53:48.566Z"
   },
   {
    "duration": 1218,
    "start_time": "2023-03-24T08:53:56.343Z"
   },
   {
    "duration": 133,
    "start_time": "2023-03-24T08:53:57.563Z"
   },
   {
    "duration": 2,
    "start_time": "2023-03-24T08:53:57.698Z"
   },
   {
    "duration": 28,
    "start_time": "2023-03-24T08:53:57.703Z"
   },
   {
    "duration": 28,
    "start_time": "2023-03-24T08:53:57.733Z"
   },
   {
    "duration": 28,
    "start_time": "2023-03-24T08:53:57.763Z"
   },
   {
    "duration": 14,
    "start_time": "2023-03-24T08:53:57.792Z"
   },
   {
    "duration": 12,
    "start_time": "2023-03-24T08:53:57.808Z"
   },
   {
    "duration": 614,
    "start_time": "2023-03-24T08:53:57.821Z"
   },
   {
    "duration": 12,
    "start_time": "2023-03-24T08:53:58.437Z"
   },
   {
    "duration": 26,
    "start_time": "2023-03-24T08:53:58.451Z"
   },
   {
    "duration": 10,
    "start_time": "2023-03-24T08:53:58.478Z"
   },
   {
    "duration": 7,
    "start_time": "2023-03-24T08:53:58.501Z"
   },
   {
    "duration": 9,
    "start_time": "2023-03-24T08:53:58.509Z"
   },
   {
    "duration": 19,
    "start_time": "2023-03-24T08:53:58.519Z"
   },
   {
    "duration": 7,
    "start_time": "2023-03-24T08:53:58.539Z"
   },
   {
    "duration": 11,
    "start_time": "2023-03-24T08:53:58.547Z"
   },
   {
    "duration": 4,
    "start_time": "2023-03-24T08:53:58.560Z"
   },
   {
    "duration": 20,
    "start_time": "2023-03-24T08:53:58.565Z"
   },
   {
    "duration": 29,
    "start_time": "2023-03-24T08:53:58.587Z"
   },
   {
    "duration": 3,
    "start_time": "2023-03-24T08:53:58.617Z"
   },
   {
    "duration": 22,
    "start_time": "2023-03-24T08:53:58.622Z"
   },
   {
    "duration": 4,
    "start_time": "2023-03-24T08:53:58.647Z"
   },
   {
    "duration": 147,
    "start_time": "2023-03-24T08:53:58.652Z"
   },
   {
    "duration": 15,
    "start_time": "2023-03-24T08:53:58.801Z"
   },
   {
    "duration": 4,
    "start_time": "2023-03-24T08:53:58.817Z"
   },
   {
    "duration": 6,
    "start_time": "2023-03-24T08:53:58.823Z"
   },
   {
    "duration": 4,
    "start_time": "2023-03-24T08:53:58.832Z"
   },
   {
    "duration": 13,
    "start_time": "2023-03-24T08:53:58.837Z"
   },
   {
    "duration": 15,
    "start_time": "2023-03-24T08:53:58.878Z"
   },
   {
    "duration": 31,
    "start_time": "2023-03-24T08:53:58.895Z"
   },
   {
    "duration": 13,
    "start_time": "2023-03-24T08:53:58.928Z"
   },
   {
    "duration": 3,
    "start_time": "2023-03-24T08:53:58.943Z"
   },
   {
    "duration": 156,
    "start_time": "2023-03-24T08:53:58.947Z"
   },
   {
    "duration": 17,
    "start_time": "2023-03-24T08:53:59.106Z"
   },
   {
    "duration": 39,
    "start_time": "2023-03-24T08:56:15.793Z"
   },
   {
    "duration": 1399,
    "start_time": "2023-03-24T08:57:41.999Z"
   },
   {
    "duration": 1305,
    "start_time": "2023-03-24T08:57:52.260Z"
   },
   {
    "duration": 1364,
    "start_time": "2023-03-24T08:57:55.705Z"
   },
   {
    "duration": 1139,
    "start_time": "2023-03-24T09:00:32.492Z"
   },
   {
    "duration": 54,
    "start_time": "2023-03-24T09:00:33.633Z"
   },
   {
    "duration": 3,
    "start_time": "2023-03-24T09:00:33.688Z"
   },
   {
    "duration": 27,
    "start_time": "2023-03-24T09:00:33.692Z"
   },
   {
    "duration": 30,
    "start_time": "2023-03-24T09:00:33.721Z"
   },
   {
    "duration": 13,
    "start_time": "2023-03-24T09:00:33.752Z"
   },
   {
    "duration": 12,
    "start_time": "2023-03-24T09:00:33.773Z"
   },
   {
    "duration": 15,
    "start_time": "2023-03-24T09:00:33.787Z"
   },
   {
    "duration": 585,
    "start_time": "2023-03-24T09:00:33.803Z"
   },
   {
    "duration": 12,
    "start_time": "2023-03-24T09:00:34.390Z"
   },
   {
    "duration": 18,
    "start_time": "2023-03-24T09:00:34.404Z"
   },
   {
    "duration": 17,
    "start_time": "2023-03-24T09:00:34.423Z"
   },
   {
    "duration": 14,
    "start_time": "2023-03-24T09:00:34.442Z"
   },
   {
    "duration": 20,
    "start_time": "2023-03-24T09:00:34.460Z"
   },
   {
    "duration": 12,
    "start_time": "2023-03-24T09:00:34.482Z"
   },
   {
    "duration": 7,
    "start_time": "2023-03-24T09:00:34.495Z"
   },
   {
    "duration": 12,
    "start_time": "2023-03-24T09:00:34.503Z"
   },
   {
    "duration": 6,
    "start_time": "2023-03-24T09:00:34.516Z"
   },
   {
    "duration": 6,
    "start_time": "2023-03-24T09:00:34.523Z"
   },
   {
    "duration": 16,
    "start_time": "2023-03-24T09:00:34.530Z"
   },
   {
    "duration": 4,
    "start_time": "2023-03-24T09:00:34.547Z"
   },
   {
    "duration": 35,
    "start_time": "2023-03-24T09:00:34.552Z"
   },
   {
    "duration": 4,
    "start_time": "2023-03-24T09:00:34.589Z"
   },
   {
    "duration": 137,
    "start_time": "2023-03-24T09:00:34.594Z"
   },
   {
    "duration": 15,
    "start_time": "2023-03-24T09:00:34.733Z"
   },
   {
    "duration": 5,
    "start_time": "2023-03-24T09:00:34.749Z"
   },
   {
    "duration": 16,
    "start_time": "2023-03-24T09:00:34.771Z"
   },
   {
    "duration": 8,
    "start_time": "2023-03-24T09:00:34.788Z"
   },
   {
    "duration": 15,
    "start_time": "2023-03-24T09:00:34.798Z"
   },
   {
    "duration": 4,
    "start_time": "2023-03-24T09:00:34.814Z"
   },
   {
    "duration": 32,
    "start_time": "2023-03-24T09:00:34.819Z"
   },
   {
    "duration": 17,
    "start_time": "2023-03-24T09:00:34.852Z"
   },
   {
    "duration": 24,
    "start_time": "2023-03-24T09:00:34.870Z"
   },
   {
    "duration": 151,
    "start_time": "2023-03-24T09:00:34.895Z"
   },
   {
    "duration": 46,
    "start_time": "2023-03-24T09:00:35.047Z"
   },
   {
    "duration": 2037,
    "start_time": "2023-03-24T09:00:35.095Z"
   },
   {
    "duration": 23,
    "start_time": "2023-03-24T09:43:38.237Z"
   },
   {
    "duration": 168,
    "start_time": "2023-03-24T09:43:41.874Z"
   },
   {
    "duration": 203,
    "start_time": "2023-03-24T09:44:10.260Z"
   },
   {
    "duration": 108,
    "start_time": "2023-03-24T09:44:15.999Z"
   },
   {
    "duration": 14,
    "start_time": "2023-03-24T09:44:36.835Z"
   },
   {
    "duration": 95,
    "start_time": "2023-03-24T09:58:11.401Z"
   },
   {
    "duration": 35,
    "start_time": "2023-03-24T09:59:11.531Z"
   },
   {
    "duration": 25,
    "start_time": "2023-03-24T09:59:49.118Z"
   },
   {
    "duration": 160,
    "start_time": "2023-03-24T09:59:59.087Z"
   },
   {
    "duration": 20,
    "start_time": "2023-03-24T10:01:50.773Z"
   },
   {
    "duration": 14,
    "start_time": "2023-03-24T10:02:12.788Z"
   },
   {
    "duration": 2,
    "start_time": "2023-03-24T10:02:31.463Z"
   },
   {
    "duration": 222,
    "start_time": "2023-03-24T10:24:50.810Z"
   },
   {
    "duration": 273,
    "start_time": "2023-03-24T10:50:26.135Z"
   },
   {
    "duration": 259,
    "start_time": "2023-03-24T10:50:52.461Z"
   },
   {
    "duration": 1310,
    "start_time": "2023-04-01T17:31:43.457Z"
   },
   {
    "duration": 197,
    "start_time": "2023-04-01T17:31:44.769Z"
   },
   {
    "duration": 3,
    "start_time": "2023-04-01T17:31:44.968Z"
   },
   {
    "duration": 23,
    "start_time": "2023-04-01T17:31:44.972Z"
   },
   {
    "duration": 33,
    "start_time": "2023-04-01T17:31:44.999Z"
   },
   {
    "duration": 47,
    "start_time": "2023-04-01T17:31:45.035Z"
   },
   {
    "duration": 12,
    "start_time": "2023-04-01T17:31:45.084Z"
   },
   {
    "duration": 25,
    "start_time": "2023-04-01T17:31:45.098Z"
   },
   {
    "duration": 631,
    "start_time": "2023-04-01T17:31:45.124Z"
   },
   {
    "duration": 15,
    "start_time": "2023-04-01T17:31:45.757Z"
   },
   {
    "duration": 26,
    "start_time": "2023-04-01T17:31:45.774Z"
   },
   {
    "duration": 18,
    "start_time": "2023-04-01T17:31:45.802Z"
   },
   {
    "duration": 15,
    "start_time": "2023-04-01T17:31:45.821Z"
   },
   {
    "duration": 14,
    "start_time": "2023-04-01T17:31:45.840Z"
   },
   {
    "duration": 12,
    "start_time": "2023-04-01T17:31:45.855Z"
   },
   {
    "duration": 9,
    "start_time": "2023-04-01T17:31:45.869Z"
   },
   {
    "duration": 13,
    "start_time": "2023-04-01T17:31:45.880Z"
   },
   {
    "duration": 13,
    "start_time": "2023-04-01T17:31:45.894Z"
   },
   {
    "duration": 16,
    "start_time": "2023-04-01T17:31:45.909Z"
   },
   {
    "duration": 15,
    "start_time": "2023-04-01T17:31:45.926Z"
   },
   {
    "duration": 4,
    "start_time": "2023-04-01T17:31:45.942Z"
   },
   {
    "duration": 36,
    "start_time": "2023-04-01T17:31:45.948Z"
   },
   {
    "duration": 5,
    "start_time": "2023-04-01T17:31:45.986Z"
   },
   {
    "duration": 161,
    "start_time": "2023-04-01T17:31:45.993Z"
   },
   {
    "duration": 14,
    "start_time": "2023-04-01T17:31:46.155Z"
   },
   {
    "duration": 20,
    "start_time": "2023-04-01T17:31:46.170Z"
   },
   {
    "duration": 17,
    "start_time": "2023-04-01T17:31:46.191Z"
   },
   {
    "duration": 18,
    "start_time": "2023-04-01T17:31:46.210Z"
   },
   {
    "duration": 26,
    "start_time": "2023-04-01T17:31:46.230Z"
   },
   {
    "duration": 28,
    "start_time": "2023-04-01T17:31:46.258Z"
   },
   {
    "duration": 6,
    "start_time": "2023-04-01T17:31:46.288Z"
   },
   {
    "duration": 148,
    "start_time": "2023-04-01T17:31:46.296Z"
   },
   {
    "duration": 16,
    "start_time": "2023-04-01T17:31:46.446Z"
   },
   {
    "duration": 26,
    "start_time": "2023-04-01T17:31:46.464Z"
   },
   {
    "duration": 74,
    "start_time": "2023-04-01T17:31:50.211Z"
   },
   {
    "duration": 285,
    "start_time": "2023-04-01T17:33:22.593Z"
   },
   {
    "duration": 81,
    "start_time": "2023-04-01T17:44:17.401Z"
   },
   {
    "duration": 111,
    "start_time": "2023-04-01T17:44:44.318Z"
   },
   {
    "duration": 6,
    "start_time": "2023-04-01T17:47:17.117Z"
   },
   {
    "duration": 20,
    "start_time": "2023-04-01T17:48:36.054Z"
   },
   {
    "duration": 21,
    "start_time": "2023-04-01T17:48:58.003Z"
   },
   {
    "duration": 32,
    "start_time": "2023-04-01T17:49:23.491Z"
   },
   {
    "duration": 10,
    "start_time": "2023-04-01T17:50:48.645Z"
   },
   {
    "duration": 3154,
    "start_time": "2023-04-01T17:51:00.586Z"
   },
   {
    "duration": 38,
    "start_time": "2023-04-01T17:52:38.403Z"
   },
   {
    "duration": 3265,
    "start_time": "2023-04-01T17:52:39.202Z"
   },
   {
    "duration": 849,
    "start_time": "2023-04-01T17:53:35.717Z"
   },
   {
    "duration": 3527,
    "start_time": "2023-04-01T17:53:50.357Z"
   },
   {
    "duration": 3612,
    "start_time": "2023-04-01T17:54:09.128Z"
   },
   {
    "duration": 3610,
    "start_time": "2023-04-01T17:54:35.811Z"
   },
   {
    "duration": 3496,
    "start_time": "2023-04-01T17:54:56.703Z"
   },
   {
    "duration": 3459,
    "start_time": "2023-04-01T17:55:11.550Z"
   },
   {
    "duration": 3625,
    "start_time": "2023-04-01T17:55:23.730Z"
   },
   {
    "duration": 12,
    "start_time": "2023-04-01T17:56:03.899Z"
   },
   {
    "duration": 12,
    "start_time": "2023-04-01T17:56:17.814Z"
   },
   {
    "duration": 12,
    "start_time": "2023-04-01T17:56:36.132Z"
   },
   {
    "duration": 41,
    "start_time": "2023-04-01T17:57:09.942Z"
   },
   {
    "duration": 21,
    "start_time": "2023-04-01T17:57:10.711Z"
   },
   {
    "duration": 12,
    "start_time": "2023-04-01T17:57:11.629Z"
   },
   {
    "duration": 3549,
    "start_time": "2023-04-01T17:58:12.682Z"
   },
   {
    "duration": 8,
    "start_time": "2023-04-01T17:58:20.415Z"
   },
   {
    "duration": 22,
    "start_time": "2023-04-01T18:07:38.933Z"
   },
   {
    "duration": 27,
    "start_time": "2023-04-01T18:15:58.099Z"
   },
   {
    "duration": 14,
    "start_time": "2023-04-01T18:18:26.646Z"
   },
   {
    "duration": 15,
    "start_time": "2023-04-01T18:19:00.506Z"
   },
   {
    "duration": 11,
    "start_time": "2023-04-01T18:20:44.465Z"
   },
   {
    "duration": 13,
    "start_time": "2023-04-01T18:21:01.336Z"
   },
   {
    "duration": 356,
    "start_time": "2023-04-01T18:23:47.801Z"
   },
   {
    "duration": 466,
    "start_time": "2023-04-01T18:24:29.660Z"
   },
   {
    "duration": 358,
    "start_time": "2023-04-01T18:24:39.316Z"
   },
   {
    "duration": 324,
    "start_time": "2023-04-01T18:24:48.362Z"
   },
   {
    "duration": 346,
    "start_time": "2023-04-01T18:25:45.259Z"
   },
   {
    "duration": 327,
    "start_time": "2023-04-01T18:25:55.505Z"
   },
   {
    "duration": 311,
    "start_time": "2023-04-01T18:26:04.730Z"
   },
   {
    "duration": 24,
    "start_time": "2023-04-01T18:35:31.417Z"
   },
   {
    "duration": 35,
    "start_time": "2023-04-01T18:35:36.755Z"
   },
   {
    "duration": 9,
    "start_time": "2023-04-01T18:35:56.315Z"
   },
   {
    "duration": 25,
    "start_time": "2023-04-01T18:36:13.861Z"
   },
   {
    "duration": 62,
    "start_time": "2023-04-02T12:16:34.085Z"
   },
   {
    "duration": 1440,
    "start_time": "2023-04-02T12:16:46.483Z"
   },
   {
    "duration": 205,
    "start_time": "2023-04-02T12:16:47.927Z"
   },
   {
    "duration": 3,
    "start_time": "2023-04-02T12:16:48.138Z"
   },
   {
    "duration": 66,
    "start_time": "2023-04-02T12:16:48.144Z"
   },
   {
    "duration": 69,
    "start_time": "2023-04-02T12:16:48.212Z"
   },
   {
    "duration": 16,
    "start_time": "2023-04-02T12:16:48.283Z"
   },
   {
    "duration": 35,
    "start_time": "2023-04-02T12:16:48.301Z"
   },
   {
    "duration": 53,
    "start_time": "2023-04-02T12:16:48.338Z"
   },
   {
    "duration": 771,
    "start_time": "2023-04-02T12:16:48.393Z"
   },
   {
    "duration": 19,
    "start_time": "2023-04-02T12:16:49.166Z"
   },
   {
    "duration": 31,
    "start_time": "2023-04-02T12:16:49.187Z"
   },
   {
    "duration": 50,
    "start_time": "2023-04-02T12:16:49.219Z"
   },
   {
    "duration": 18,
    "start_time": "2023-04-02T12:16:49.273Z"
   },
   {
    "duration": 15,
    "start_time": "2023-04-02T12:16:49.293Z"
   },
   {
    "duration": 33,
    "start_time": "2023-04-02T12:16:49.310Z"
   },
   {
    "duration": 18,
    "start_time": "2023-04-02T12:16:49.345Z"
   },
   {
    "duration": 21,
    "start_time": "2023-04-02T12:16:49.365Z"
   },
   {
    "duration": 18,
    "start_time": "2023-04-02T12:16:49.388Z"
   },
   {
    "duration": 39,
    "start_time": "2023-04-02T12:16:49.409Z"
   },
   {
    "duration": 32,
    "start_time": "2023-04-02T12:16:49.450Z"
   },
   {
    "duration": 10,
    "start_time": "2023-04-02T12:16:49.483Z"
   },
   {
    "duration": 31,
    "start_time": "2023-04-02T12:16:49.494Z"
   },
   {
    "duration": 7,
    "start_time": "2023-04-02T12:16:49.528Z"
   },
   {
    "duration": 200,
    "start_time": "2023-04-02T12:16:49.537Z"
   },
   {
    "duration": 17,
    "start_time": "2023-04-02T12:16:49.739Z"
   },
   {
    "duration": 5,
    "start_time": "2023-04-02T12:16:49.758Z"
   },
   {
    "duration": 24,
    "start_time": "2023-04-02T12:16:49.765Z"
   },
   {
    "duration": 11,
    "start_time": "2023-04-02T12:16:49.791Z"
   },
   {
    "duration": 26,
    "start_time": "2023-04-02T12:16:49.803Z"
   },
   {
    "duration": 29,
    "start_time": "2023-04-02T12:16:49.831Z"
   },
   {
    "duration": 56,
    "start_time": "2023-04-02T12:16:49.862Z"
   },
   {
    "duration": 204,
    "start_time": "2023-04-02T12:16:49.920Z"
   },
   {
    "duration": 20,
    "start_time": "2023-04-02T12:16:50.126Z"
   },
   {
    "duration": 37,
    "start_time": "2023-04-02T12:16:50.148Z"
   },
   {
    "duration": 102,
    "start_time": "2023-04-02T12:16:50.187Z"
   },
   {
    "duration": 316,
    "start_time": "2023-04-02T12:16:50.291Z"
   },
   {
    "duration": 6,
    "start_time": "2023-04-02T12:16:50.609Z"
   },
   {
    "duration": 85,
    "start_time": "2023-04-02T12:16:50.617Z"
   },
   {
    "duration": 4033,
    "start_time": "2023-04-02T12:16:50.703Z"
   },
   {
    "duration": 9,
    "start_time": "2023-04-02T12:16:54.741Z"
   },
   {
    "duration": 26,
    "start_time": "2023-04-02T12:16:54.752Z"
   },
   {
    "duration": 313,
    "start_time": "2023-04-02T12:16:54.780Z"
   },
   {
    "duration": 28,
    "start_time": "2023-04-02T12:16:55.095Z"
   },
   {
    "duration": 12,
    "start_time": "2023-04-02T12:16:55.126Z"
   },
   {
    "duration": 23,
    "start_time": "2023-04-02T12:16:55.140Z"
   },
   {
    "duration": 139,
    "start_time": "2023-04-02T12:17:01.037Z"
   },
   {
    "duration": 269,
    "start_time": "2023-04-02T12:17:19.978Z"
   },
   {
    "duration": 18,
    "start_time": "2023-04-02T12:17:21.138Z"
   },
   {
    "duration": 9,
    "start_time": "2023-04-02T12:17:22.216Z"
   },
   {
    "duration": 160,
    "start_time": "2023-04-02T12:18:27.719Z"
   },
   {
    "duration": 10,
    "start_time": "2023-04-02T12:18:34.965Z"
   },
   {
    "duration": 9,
    "start_time": "2023-04-02T12:20:10.536Z"
   },
   {
    "duration": 128,
    "start_time": "2023-04-02T12:20:50.587Z"
   },
   {
    "duration": 11,
    "start_time": "2023-04-02T12:21:03.384Z"
   },
   {
    "duration": 22,
    "start_time": "2023-04-02T12:21:03.912Z"
   },
   {
    "duration": 358,
    "start_time": "2023-04-02T12:21:04.589Z"
   },
   {
    "duration": 17,
    "start_time": "2023-04-02T12:21:28.776Z"
   },
   {
    "duration": 9,
    "start_time": "2023-04-02T12:21:29.241Z"
   },
   {
    "duration": 10,
    "start_time": "2023-04-02T12:21:30.754Z"
   },
   {
    "duration": 27,
    "start_time": "2023-04-02T12:30:33.626Z"
   },
   {
    "duration": 18,
    "start_time": "2023-04-02T12:30:53.454Z"
   },
   {
    "duration": 248,
    "start_time": "2023-04-02T12:31:52.469Z"
   },
   {
    "duration": 215,
    "start_time": "2023-04-02T12:31:59.053Z"
   },
   {
    "duration": 204,
    "start_time": "2023-04-02T12:32:11.059Z"
   },
   {
    "duration": 224,
    "start_time": "2023-04-02T12:32:18.571Z"
   },
   {
    "duration": 299,
    "start_time": "2023-04-02T12:32:30.593Z"
   },
   {
    "duration": 212,
    "start_time": "2023-04-02T12:32:37.697Z"
   },
   {
    "duration": 9,
    "start_time": "2023-04-02T12:39:28.098Z"
   },
   {
    "duration": 14,
    "start_time": "2023-04-02T12:39:44.400Z"
   },
   {
    "duration": 9,
    "start_time": "2023-04-02T12:40:42.898Z"
   },
   {
    "duration": 15,
    "start_time": "2023-04-02T12:40:53.416Z"
   },
   {
    "duration": 5,
    "start_time": "2023-04-02T12:41:25.134Z"
   },
   {
    "duration": 11,
    "start_time": "2023-04-02T12:41:32.961Z"
   },
   {
    "duration": 11,
    "start_time": "2023-04-02T12:41:37.915Z"
   },
   {
    "duration": 11,
    "start_time": "2023-04-02T12:42:05.404Z"
   },
   {
    "duration": 9,
    "start_time": "2023-04-02T12:45:14.983Z"
   },
   {
    "duration": 12,
    "start_time": "2023-04-02T12:45:20.550Z"
   },
   {
    "duration": 11,
    "start_time": "2023-04-02T12:45:43.069Z"
   },
   {
    "duration": 11,
    "start_time": "2023-04-02T12:45:49.657Z"
   },
   {
    "duration": 15,
    "start_time": "2023-04-02T12:46:31.886Z"
   },
   {
    "duration": 72,
    "start_time": "2023-04-02T12:46:52.319Z"
   },
   {
    "duration": 12,
    "start_time": "2023-04-02T12:48:23.660Z"
   },
   {
    "duration": 12,
    "start_time": "2023-04-02T12:48:36.432Z"
   },
   {
    "duration": 62,
    "start_time": "2023-04-02T12:48:59.809Z"
   },
   {
    "duration": 18,
    "start_time": "2023-04-02T12:49:05.013Z"
   },
   {
    "duration": 14,
    "start_time": "2023-04-02T12:49:38.062Z"
   },
   {
    "duration": 67,
    "start_time": "2023-04-02T12:50:04.701Z"
   },
   {
    "duration": 26,
    "start_time": "2023-04-02T12:50:10.953Z"
   },
   {
    "duration": 25,
    "start_time": "2023-04-02T12:50:22.393Z"
   },
   {
    "duration": 14,
    "start_time": "2023-04-02T12:50:35.759Z"
   },
   {
    "duration": 11,
    "start_time": "2023-04-02T12:50:43.425Z"
   },
   {
    "duration": 15,
    "start_time": "2023-04-02T12:51:22.634Z"
   },
   {
    "duration": 20,
    "start_time": "2023-04-02T12:51:34.163Z"
   },
   {
    "duration": 18,
    "start_time": "2023-04-02T12:51:45.221Z"
   },
   {
    "duration": 13,
    "start_time": "2023-04-02T12:52:29.808Z"
   },
   {
    "duration": 13,
    "start_time": "2023-04-02T12:52:40.028Z"
   },
   {
    "duration": 5,
    "start_time": "2023-04-02T12:52:53.360Z"
   },
   {
    "duration": 7,
    "start_time": "2023-04-02T12:52:59.495Z"
   },
   {
    "duration": 5,
    "start_time": "2023-04-02T12:53:44.199Z"
   },
   {
    "duration": 5,
    "start_time": "2023-04-02T12:53:54.313Z"
   },
   {
    "duration": 10,
    "start_time": "2023-04-02T12:54:44.780Z"
   },
   {
    "duration": 7,
    "start_time": "2023-04-02T12:55:34.970Z"
   },
   {
    "duration": 10,
    "start_time": "2023-04-02T12:55:56.326Z"
   },
   {
    "duration": 17,
    "start_time": "2023-04-02T12:56:00.473Z"
   },
   {
    "duration": 12,
    "start_time": "2023-04-02T12:56:14.820Z"
   },
   {
    "duration": 13,
    "start_time": "2023-04-02T12:56:27.337Z"
   },
   {
    "duration": 5,
    "start_time": "2023-04-02T12:57:00.993Z"
   },
   {
    "duration": 15,
    "start_time": "2023-04-02T12:57:01.834Z"
   },
   {
    "duration": 13,
    "start_time": "2023-04-02T12:58:44.025Z"
   },
   {
    "duration": 14,
    "start_time": "2023-04-02T12:58:55.539Z"
   },
   {
    "duration": 10,
    "start_time": "2023-04-02T12:59:30.576Z"
   },
   {
    "duration": 577,
    "start_time": "2023-04-02T13:00:43.742Z"
   },
   {
    "duration": 596,
    "start_time": "2023-04-02T13:01:26.023Z"
   },
   {
    "duration": 29,
    "start_time": "2023-04-02T13:36:47.176Z"
   },
   {
    "duration": 31,
    "start_time": "2023-04-02T13:36:55.020Z"
   },
   {
    "duration": 37,
    "start_time": "2023-04-02T13:37:02.573Z"
   },
   {
    "duration": 31,
    "start_time": "2023-04-02T13:37:07.026Z"
   },
   {
    "duration": 7,
    "start_time": "2023-04-02T15:09:09.631Z"
   },
   {
    "duration": 43,
    "start_time": "2023-04-02T15:10:08.618Z"
   },
   {
    "duration": 32,
    "start_time": "2023-04-02T15:10:58.886Z"
   },
   {
    "duration": 347,
    "start_time": "2023-04-02T15:11:42.685Z"
   },
   {
    "duration": 297,
    "start_time": "2023-04-02T15:12:06.329Z"
   },
   {
    "duration": 296,
    "start_time": "2023-04-02T15:14:27.568Z"
   },
   {
    "duration": 392,
    "start_time": "2023-04-02T15:14:39.265Z"
   },
   {
    "duration": 308,
    "start_time": "2023-04-02T15:14:56.801Z"
   },
   {
    "duration": 144,
    "start_time": "2023-04-02T15:26:44.857Z"
   },
   {
    "duration": 796,
    "start_time": "2023-04-02T15:28:36.491Z"
   },
   {
    "duration": 17,
    "start_time": "2023-04-02T15:28:57.835Z"
   },
   {
    "duration": 1170,
    "start_time": "2023-04-02T15:29:11.952Z"
   },
   {
    "duration": 58,
    "start_time": "2023-04-02T15:29:13.124Z"
   },
   {
    "duration": 3,
    "start_time": "2023-04-02T15:29:13.185Z"
   },
   {
    "duration": 29,
    "start_time": "2023-04-02T15:29:13.191Z"
   },
   {
    "duration": 39,
    "start_time": "2023-04-02T15:29:13.223Z"
   },
   {
    "duration": 17,
    "start_time": "2023-04-02T15:29:13.264Z"
   },
   {
    "duration": 10,
    "start_time": "2023-04-02T15:29:13.283Z"
   },
   {
    "duration": 30,
    "start_time": "2023-04-02T15:29:13.294Z"
   },
   {
    "duration": 614,
    "start_time": "2023-04-02T15:29:13.326Z"
   },
   {
    "duration": 15,
    "start_time": "2023-04-02T15:29:13.942Z"
   },
   {
    "duration": 20,
    "start_time": "2023-04-02T15:29:13.958Z"
   },
   {
    "duration": 16,
    "start_time": "2023-04-02T15:29:13.980Z"
   },
   {
    "duration": 17,
    "start_time": "2023-04-02T15:29:13.998Z"
   },
   {
    "duration": 16,
    "start_time": "2023-04-02T15:29:14.016Z"
   },
   {
    "duration": 21,
    "start_time": "2023-04-02T15:29:14.034Z"
   },
   {
    "duration": 18,
    "start_time": "2023-04-02T15:29:14.058Z"
   },
   {
    "duration": 23,
    "start_time": "2023-04-02T15:29:14.078Z"
   },
   {
    "duration": 19,
    "start_time": "2023-04-02T15:29:14.103Z"
   },
   {
    "duration": 21,
    "start_time": "2023-04-02T15:29:14.124Z"
   },
   {
    "duration": 34,
    "start_time": "2023-04-02T15:29:14.147Z"
   },
   {
    "duration": 5,
    "start_time": "2023-04-02T15:29:14.183Z"
   },
   {
    "duration": 37,
    "start_time": "2023-04-02T15:29:14.189Z"
   },
   {
    "duration": 6,
    "start_time": "2023-04-02T15:29:14.227Z"
   },
   {
    "duration": 158,
    "start_time": "2023-04-02T15:29:14.235Z"
   },
   {
    "duration": 23,
    "start_time": "2023-04-02T15:29:14.395Z"
   },
   {
    "duration": 6,
    "start_time": "2023-04-02T15:29:14.420Z"
   },
   {
    "duration": 22,
    "start_time": "2023-04-02T15:29:14.427Z"
   },
   {
    "duration": 5,
    "start_time": "2023-04-02T15:29:14.453Z"
   },
   {
    "duration": 5,
    "start_time": "2023-04-02T15:29:14.459Z"
   },
   {
    "duration": 14,
    "start_time": "2023-04-02T15:29:14.465Z"
   },
   {
    "duration": 15,
    "start_time": "2023-04-02T15:29:14.480Z"
   },
   {
    "duration": 23,
    "start_time": "2023-04-02T15:29:14.496Z"
   },
   {
    "duration": 175,
    "start_time": "2023-04-02T15:29:14.521Z"
   },
   {
    "duration": 25,
    "start_time": "2023-04-02T15:29:14.699Z"
   },
   {
    "duration": 28,
    "start_time": "2023-04-02T15:29:14.726Z"
   },
   {
    "duration": 93,
    "start_time": "2023-04-02T15:29:14.755Z"
   },
   {
    "duration": 305,
    "start_time": "2023-04-02T15:29:14.850Z"
   },
   {
    "duration": 6,
    "start_time": "2023-04-02T15:29:15.157Z"
   },
   {
    "duration": 60,
    "start_time": "2023-04-02T15:29:15.164Z"
   },
   {
    "duration": 3736,
    "start_time": "2023-04-02T15:29:15.226Z"
   },
   {
    "duration": 10,
    "start_time": "2023-04-02T15:29:18.964Z"
   },
   {
    "duration": 21,
    "start_time": "2023-04-02T15:29:18.976Z"
   },
   {
    "duration": 355,
    "start_time": "2023-04-02T15:29:19.000Z"
   },
   {
    "duration": 18,
    "start_time": "2023-04-02T15:29:19.356Z"
   },
   {
    "duration": 9,
    "start_time": "2023-04-02T15:29:19.376Z"
   },
   {
    "duration": 30,
    "start_time": "2023-04-02T15:29:19.387Z"
   },
   {
    "duration": 9,
    "start_time": "2023-04-02T15:29:19.420Z"
   },
   {
    "duration": 241,
    "start_time": "2023-04-02T15:29:19.431Z"
   },
   {
    "duration": 4,
    "start_time": "2023-04-02T15:29:19.674Z"
   },
   {
    "duration": 42,
    "start_time": "2023-04-02T15:29:19.680Z"
   },
   {
    "duration": 15,
    "start_time": "2023-04-02T15:29:19.724Z"
   },
   {
    "duration": 16,
    "start_time": "2023-04-02T15:29:19.741Z"
   },
   {
    "duration": 581,
    "start_time": "2023-04-02T15:29:19.759Z"
   },
   {
    "duration": 21,
    "start_time": "2023-04-02T15:29:20.341Z"
   },
   {
    "duration": 20,
    "start_time": "2023-04-02T15:29:20.364Z"
   },
   {
    "duration": 62,
    "start_time": "2023-04-02T15:29:20.386Z"
   },
   {
    "duration": 318,
    "start_time": "2023-04-02T15:29:20.449Z"
   },
   {
    "duration": 70,
    "start_time": "2023-04-02T15:29:20.769Z"
   },
   {
    "duration": 18,
    "start_time": "2023-04-02T15:30:14.602Z"
   },
   {
    "duration": 16,
    "start_time": "2023-04-02T15:32:07.858Z"
   },
   {
    "duration": 22,
    "start_time": "2023-04-02T15:32:42.256Z"
   },
   {
    "duration": 1323,
    "start_time": "2023-04-02T15:35:50.149Z"
   },
   {
    "duration": 57,
    "start_time": "2023-04-02T15:35:51.474Z"
   },
   {
    "duration": 4,
    "start_time": "2023-04-02T15:35:51.533Z"
   },
   {
    "duration": 25,
    "start_time": "2023-04-02T15:35:51.540Z"
   },
   {
    "duration": 34,
    "start_time": "2023-04-02T15:35:51.568Z"
   },
   {
    "duration": 42,
    "start_time": "2023-04-02T15:35:51.604Z"
   },
   {
    "duration": 6,
    "start_time": "2023-04-02T15:35:51.648Z"
   },
   {
    "duration": 24,
    "start_time": "2023-04-02T15:35:51.656Z"
   },
   {
    "duration": 796,
    "start_time": "2023-04-02T15:35:51.682Z"
   },
   {
    "duration": 21,
    "start_time": "2023-04-02T15:35:52.482Z"
   },
   {
    "duration": 23,
    "start_time": "2023-04-02T15:35:52.520Z"
   },
   {
    "duration": 25,
    "start_time": "2023-04-02T15:35:52.547Z"
   },
   {
    "duration": 43,
    "start_time": "2023-04-02T15:35:52.574Z"
   },
   {
    "duration": 45,
    "start_time": "2023-04-02T15:35:52.620Z"
   },
   {
    "duration": 48,
    "start_time": "2023-04-02T15:35:52.667Z"
   },
   {
    "duration": 51,
    "start_time": "2023-04-02T15:35:52.718Z"
   },
   {
    "duration": 47,
    "start_time": "2023-04-02T15:35:52.771Z"
   },
   {
    "duration": 23,
    "start_time": "2023-04-02T15:35:52.824Z"
   },
   {
    "duration": 19,
    "start_time": "2023-04-02T15:35:52.849Z"
   },
   {
    "duration": 28,
    "start_time": "2023-04-02T15:35:52.870Z"
   },
   {
    "duration": 19,
    "start_time": "2023-04-02T15:35:52.899Z"
   },
   {
    "duration": 53,
    "start_time": "2023-04-02T15:35:52.921Z"
   },
   {
    "duration": 4,
    "start_time": "2023-04-02T15:35:52.976Z"
   },
   {
    "duration": 213,
    "start_time": "2023-04-02T15:35:52.983Z"
   },
   {
    "duration": 29,
    "start_time": "2023-04-02T15:35:53.198Z"
   },
   {
    "duration": 10,
    "start_time": "2023-04-02T15:35:53.230Z"
   },
   {
    "duration": 9,
    "start_time": "2023-04-02T15:35:53.243Z"
   },
   {
    "duration": 11,
    "start_time": "2023-04-02T15:35:53.255Z"
   },
   {
    "duration": 17,
    "start_time": "2023-04-02T15:35:53.268Z"
   },
   {
    "duration": 50,
    "start_time": "2023-04-02T15:35:53.287Z"
   },
   {
    "duration": 50,
    "start_time": "2023-04-02T15:35:53.339Z"
   },
   {
    "duration": 5,
    "start_time": "2023-04-02T15:35:53.391Z"
   },
   {
    "duration": 199,
    "start_time": "2023-04-02T15:35:53.398Z"
   },
   {
    "duration": 26,
    "start_time": "2023-04-02T15:35:53.598Z"
   },
   {
    "duration": 43,
    "start_time": "2023-04-02T15:35:53.627Z"
   },
   {
    "duration": 108,
    "start_time": "2023-04-02T15:35:53.672Z"
   },
   {
    "duration": 318,
    "start_time": "2023-04-02T15:35:53.782Z"
   },
   {
    "duration": 7,
    "start_time": "2023-04-02T15:35:54.101Z"
   },
   {
    "duration": 67,
    "start_time": "2023-04-02T15:35:54.110Z"
   },
   {
    "duration": 4072,
    "start_time": "2023-04-02T15:35:54.179Z"
   },
   {
    "duration": 9,
    "start_time": "2023-04-02T15:35:58.253Z"
   },
   {
    "duration": 35,
    "start_time": "2023-04-02T15:35:58.264Z"
   },
   {
    "duration": 389,
    "start_time": "2023-04-02T15:35:58.302Z"
   },
   {
    "duration": 43,
    "start_time": "2023-04-02T15:35:58.693Z"
   },
   {
    "duration": 15,
    "start_time": "2023-04-02T15:35:58.738Z"
   },
   {
    "duration": 18,
    "start_time": "2023-04-02T15:35:58.755Z"
   },
   {
    "duration": 16,
    "start_time": "2023-04-02T15:35:58.775Z"
   },
   {
    "duration": 262,
    "start_time": "2023-04-02T15:35:58.792Z"
   },
   {
    "duration": 3,
    "start_time": "2023-04-02T15:35:59.056Z"
   },
   {
    "duration": 26,
    "start_time": "2023-04-02T15:35:59.061Z"
   },
   {
    "duration": 12,
    "start_time": "2023-04-02T15:35:59.089Z"
   },
   {
    "duration": 47,
    "start_time": "2023-04-02T15:35:59.103Z"
   },
   {
    "duration": 620,
    "start_time": "2023-04-02T15:35:59.151Z"
   },
   {
    "duration": 73,
    "start_time": "2023-04-02T15:35:59.773Z"
   },
   {
    "duration": 9,
    "start_time": "2023-04-02T15:35:59.848Z"
   },
   {
    "duration": 65,
    "start_time": "2023-04-02T15:35:59.859Z"
   },
   {
    "duration": 326,
    "start_time": "2023-04-02T15:35:59.926Z"
   },
   {
    "duration": 66,
    "start_time": "2023-04-02T15:36:00.253Z"
   },
   {
    "duration": 29,
    "start_time": "2023-04-02T15:36:00.320Z"
   },
   {
    "duration": 14,
    "start_time": "2023-04-02T15:36:56.697Z"
   },
   {
    "duration": 7,
    "start_time": "2023-04-02T15:42:03.657Z"
   },
   {
    "duration": 1253,
    "start_time": "2023-04-02T15:42:44.118Z"
   },
   {
    "duration": 58,
    "start_time": "2023-04-02T15:42:45.373Z"
   },
   {
    "duration": 4,
    "start_time": "2023-04-02T15:42:45.433Z"
   },
   {
    "duration": 40,
    "start_time": "2023-04-02T15:42:45.440Z"
   },
   {
    "duration": 45,
    "start_time": "2023-04-02T15:42:45.481Z"
   },
   {
    "duration": 16,
    "start_time": "2023-04-02T15:42:45.527Z"
   },
   {
    "duration": 29,
    "start_time": "2023-04-02T15:42:45.545Z"
   },
   {
    "duration": 25,
    "start_time": "2023-04-02T15:42:45.576Z"
   },
   {
    "duration": 651,
    "start_time": "2023-04-02T15:42:45.603Z"
   },
   {
    "duration": 14,
    "start_time": "2023-04-02T15:42:46.257Z"
   },
   {
    "duration": 25,
    "start_time": "2023-04-02T15:42:46.273Z"
   },
   {
    "duration": 41,
    "start_time": "2023-04-02T15:42:46.300Z"
   },
   {
    "duration": 19,
    "start_time": "2023-04-02T15:42:46.344Z"
   },
   {
    "duration": 17,
    "start_time": "2023-04-02T15:42:46.365Z"
   },
   {
    "duration": 32,
    "start_time": "2023-04-02T15:42:46.384Z"
   },
   {
    "duration": 18,
    "start_time": "2023-04-02T15:42:46.417Z"
   },
   {
    "duration": 28,
    "start_time": "2023-04-02T15:42:46.437Z"
   },
   {
    "duration": 10,
    "start_time": "2023-04-02T15:42:46.467Z"
   },
   {
    "duration": 26,
    "start_time": "2023-04-02T15:42:46.479Z"
   },
   {
    "duration": 35,
    "start_time": "2023-04-02T15:42:46.507Z"
   },
   {
    "duration": 15,
    "start_time": "2023-04-02T15:42:46.545Z"
   },
   {
    "duration": 32,
    "start_time": "2023-04-02T15:42:46.562Z"
   },
   {
    "duration": 5,
    "start_time": "2023-04-02T15:42:46.595Z"
   },
   {
    "duration": 190,
    "start_time": "2023-04-02T15:42:46.601Z"
   },
   {
    "duration": 15,
    "start_time": "2023-04-02T15:42:46.792Z"
   },
   {
    "duration": 22,
    "start_time": "2023-04-02T15:42:46.809Z"
   },
   {
    "duration": 27,
    "start_time": "2023-04-02T15:42:46.835Z"
   },
   {
    "duration": 9,
    "start_time": "2023-04-02T15:42:46.866Z"
   },
   {
    "duration": 10,
    "start_time": "2023-04-02T15:42:46.876Z"
   },
   {
    "duration": 20,
    "start_time": "2023-04-02T15:42:46.888Z"
   },
   {
    "duration": 17,
    "start_time": "2023-04-02T15:42:46.910Z"
   },
   {
    "duration": 24,
    "start_time": "2023-04-02T15:42:46.929Z"
   },
   {
    "duration": 210,
    "start_time": "2023-04-02T15:42:46.955Z"
   },
   {
    "duration": 18,
    "start_time": "2023-04-02T15:42:47.167Z"
   },
   {
    "duration": 68,
    "start_time": "2023-04-02T15:42:47.186Z"
   },
   {
    "duration": 102,
    "start_time": "2023-04-02T15:42:47.256Z"
   },
   {
    "duration": 306,
    "start_time": "2023-04-02T15:42:47.359Z"
   },
   {
    "duration": 5,
    "start_time": "2023-04-02T15:42:47.667Z"
   },
   {
    "duration": 65,
    "start_time": "2023-04-02T15:42:47.673Z"
   },
   {
    "duration": 3978,
    "start_time": "2023-04-02T15:42:47.741Z"
   },
   {
    "duration": 11,
    "start_time": "2023-04-02T15:42:51.721Z"
   },
   {
    "duration": 43,
    "start_time": "2023-04-02T15:42:51.733Z"
   },
   {
    "duration": 406,
    "start_time": "2023-04-02T15:42:51.778Z"
   },
   {
    "duration": 17,
    "start_time": "2023-04-02T15:42:52.185Z"
   },
   {
    "duration": 27,
    "start_time": "2023-04-02T15:42:52.203Z"
   },
   {
    "duration": 26,
    "start_time": "2023-04-02T15:42:52.232Z"
   },
   {
    "duration": 21,
    "start_time": "2023-04-02T15:42:52.260Z"
   },
   {
    "duration": 287,
    "start_time": "2023-04-02T15:42:52.283Z"
   },
   {
    "duration": 6,
    "start_time": "2023-04-02T15:42:52.572Z"
   },
   {
    "duration": 34,
    "start_time": "2023-04-02T15:42:52.580Z"
   },
   {
    "duration": 46,
    "start_time": "2023-04-02T15:42:52.616Z"
   },
   {
    "duration": 28,
    "start_time": "2023-04-02T15:42:52.664Z"
   },
   {
    "duration": 720,
    "start_time": "2023-04-02T15:42:52.694Z"
   },
   {
    "duration": 41,
    "start_time": "2023-04-02T15:42:53.415Z"
   },
   {
    "duration": 11,
    "start_time": "2023-04-02T15:42:53.458Z"
   },
   {
    "duration": 70,
    "start_time": "2023-04-02T15:42:53.471Z"
   },
   {
    "duration": 345,
    "start_time": "2023-04-02T15:42:53.543Z"
   },
   {
    "duration": 70,
    "start_time": "2023-04-02T15:42:53.890Z"
   },
   {
    "duration": 16,
    "start_time": "2023-04-02T15:42:53.962Z"
   },
   {
    "duration": 17,
    "start_time": "2023-04-02T15:44:45.490Z"
   },
   {
    "duration": 13,
    "start_time": "2023-04-02T15:45:45.195Z"
   },
   {
    "duration": 40,
    "start_time": "2023-04-02T15:54:36.772Z"
   },
   {
    "duration": 1371,
    "start_time": "2023-04-02T16:03:12.292Z"
   },
   {
    "duration": 55,
    "start_time": "2023-04-02T16:03:13.665Z"
   },
   {
    "duration": 4,
    "start_time": "2023-04-02T16:03:13.722Z"
   },
   {
    "duration": 42,
    "start_time": "2023-04-02T16:03:13.728Z"
   },
   {
    "duration": 51,
    "start_time": "2023-04-02T16:03:13.772Z"
   },
   {
    "duration": 27,
    "start_time": "2023-04-02T16:03:13.826Z"
   },
   {
    "duration": 22,
    "start_time": "2023-04-02T16:03:13.855Z"
   },
   {
    "duration": 38,
    "start_time": "2023-04-02T16:03:13.879Z"
   },
   {
    "duration": 713,
    "start_time": "2023-04-02T16:03:13.921Z"
   },
   {
    "duration": 14,
    "start_time": "2023-04-02T16:03:14.637Z"
   },
   {
    "duration": 22,
    "start_time": "2023-04-02T16:03:14.653Z"
   },
   {
    "duration": 14,
    "start_time": "2023-04-02T16:03:14.677Z"
   },
   {
    "duration": 9,
    "start_time": "2023-04-02T16:03:14.692Z"
   },
   {
    "duration": 25,
    "start_time": "2023-04-02T16:03:14.703Z"
   },
   {
    "duration": 27,
    "start_time": "2023-04-02T16:03:14.730Z"
   },
   {
    "duration": 20,
    "start_time": "2023-04-02T16:03:14.758Z"
   },
   {
    "duration": 20,
    "start_time": "2023-04-02T16:03:14.779Z"
   },
   {
    "duration": 29,
    "start_time": "2023-04-02T16:03:14.800Z"
   },
   {
    "duration": 14,
    "start_time": "2023-04-02T16:03:14.832Z"
   },
   {
    "duration": 18,
    "start_time": "2023-04-02T16:03:14.848Z"
   },
   {
    "duration": 4,
    "start_time": "2023-04-02T16:03:14.867Z"
   },
   {
    "duration": 28,
    "start_time": "2023-04-02T16:03:14.873Z"
   },
   {
    "duration": 5,
    "start_time": "2023-04-02T16:03:14.902Z"
   },
   {
    "duration": 205,
    "start_time": "2023-04-02T16:03:14.908Z"
   },
   {
    "duration": 15,
    "start_time": "2023-04-02T16:03:15.117Z"
   },
   {
    "duration": 6,
    "start_time": "2023-04-02T16:03:15.133Z"
   },
   {
    "duration": 9,
    "start_time": "2023-04-02T16:03:15.140Z"
   },
   {
    "duration": 8,
    "start_time": "2023-04-02T16:03:15.152Z"
   },
   {
    "duration": 16,
    "start_time": "2023-04-02T16:03:15.162Z"
   },
   {
    "duration": 24,
    "start_time": "2023-04-02T16:03:15.180Z"
   },
   {
    "duration": 23,
    "start_time": "2023-04-02T16:03:15.206Z"
   },
   {
    "duration": 3,
    "start_time": "2023-04-02T16:03:15.231Z"
   },
   {
    "duration": 182,
    "start_time": "2023-04-02T16:03:15.235Z"
   },
   {
    "duration": 14,
    "start_time": "2023-04-02T16:03:15.419Z"
   },
   {
    "duration": 28,
    "start_time": "2023-04-02T16:03:15.434Z"
   },
   {
    "duration": 97,
    "start_time": "2023-04-02T16:03:15.463Z"
   },
   {
    "duration": 261,
    "start_time": "2023-04-02T16:03:15.562Z"
   },
   {
    "duration": 6,
    "start_time": "2023-04-02T16:03:15.825Z"
   },
   {
    "duration": 45,
    "start_time": "2023-04-02T16:03:15.832Z"
   },
   {
    "duration": 3574,
    "start_time": "2023-04-02T16:03:15.878Z"
   },
   {
    "duration": 9,
    "start_time": "2023-04-02T16:03:19.454Z"
   },
   {
    "duration": 24,
    "start_time": "2023-04-02T16:03:19.465Z"
   },
   {
    "duration": 339,
    "start_time": "2023-04-02T16:03:19.490Z"
   },
   {
    "duration": 17,
    "start_time": "2023-04-02T16:03:19.831Z"
   },
   {
    "duration": 10,
    "start_time": "2023-04-02T16:03:19.850Z"
   },
   {
    "duration": 19,
    "start_time": "2023-04-02T16:03:19.862Z"
   },
   {
    "duration": 17,
    "start_time": "2023-04-02T16:03:19.882Z"
   },
   {
    "duration": 249,
    "start_time": "2023-04-02T16:03:19.901Z"
   },
   {
    "duration": 4,
    "start_time": "2023-04-02T16:03:20.152Z"
   },
   {
    "duration": 56,
    "start_time": "2023-04-02T16:03:20.158Z"
   },
   {
    "duration": 27,
    "start_time": "2023-04-02T16:03:20.215Z"
   },
   {
    "duration": 61,
    "start_time": "2023-04-02T16:03:20.243Z"
   },
   {
    "duration": 706,
    "start_time": "2023-04-02T16:03:20.305Z"
   },
   {
    "duration": 35,
    "start_time": "2023-04-02T16:03:21.013Z"
   },
   {
    "duration": 15,
    "start_time": "2023-04-02T16:03:21.050Z"
   },
   {
    "duration": 63,
    "start_time": "2023-04-02T16:03:21.067Z"
   },
   {
    "duration": 338,
    "start_time": "2023-04-02T16:03:21.131Z"
   },
   {
    "duration": 66,
    "start_time": "2023-04-02T16:03:21.471Z"
   },
   {
    "duration": 16,
    "start_time": "2023-04-02T16:03:21.539Z"
   },
   {
    "duration": 66,
    "start_time": "2023-04-02T16:03:21.557Z"
   },
   {
    "duration": 24,
    "start_time": "2023-04-02T16:03:21.625Z"
   },
   {
    "duration": 46,
    "start_time": "2023-04-02T16:03:21.651Z"
   },
   {
    "duration": 209,
    "start_time": "2023-04-02T16:05:56.935Z"
   },
   {
    "duration": 159,
    "start_time": "2023-04-02T16:06:24.400Z"
   },
   {
    "duration": 37,
    "start_time": "2023-04-02T16:08:14.638Z"
   },
   {
    "duration": 171,
    "start_time": "2023-04-02T16:09:21.026Z"
   },
   {
    "duration": 1269,
    "start_time": "2023-04-02T18:11:38.085Z"
   },
   {
    "duration": 52,
    "start_time": "2023-04-02T18:11:39.356Z"
   },
   {
    "duration": 2,
    "start_time": "2023-04-02T18:11:39.410Z"
   },
   {
    "duration": 27,
    "start_time": "2023-04-02T18:11:39.414Z"
   },
   {
    "duration": 34,
    "start_time": "2023-04-02T18:11:39.443Z"
   },
   {
    "duration": 17,
    "start_time": "2023-04-02T18:11:39.479Z"
   },
   {
    "duration": 10,
    "start_time": "2023-04-02T18:11:39.498Z"
   },
   {
    "duration": 22,
    "start_time": "2023-04-02T18:11:39.510Z"
   },
   {
    "duration": 659,
    "start_time": "2023-04-02T18:11:39.533Z"
   },
   {
    "duration": 25,
    "start_time": "2023-04-02T18:11:40.194Z"
   },
   {
    "duration": 13,
    "start_time": "2023-04-02T18:11:40.221Z"
   },
   {
    "duration": 11,
    "start_time": "2023-04-02T18:11:40.236Z"
   },
   {
    "duration": 12,
    "start_time": "2023-04-02T18:11:40.248Z"
   },
   {
    "duration": 10,
    "start_time": "2023-04-02T18:11:40.263Z"
   },
   {
    "duration": 18,
    "start_time": "2023-04-02T18:11:40.275Z"
   },
   {
    "duration": 24,
    "start_time": "2023-04-02T18:11:40.295Z"
   },
   {
    "duration": 6,
    "start_time": "2023-04-02T18:11:40.321Z"
   },
   {
    "duration": 23,
    "start_time": "2023-04-02T18:11:40.328Z"
   },
   {
    "duration": 7,
    "start_time": "2023-04-02T18:11:40.353Z"
   },
   {
    "duration": 36,
    "start_time": "2023-04-02T18:11:40.362Z"
   },
   {
    "duration": 17,
    "start_time": "2023-04-02T18:11:40.400Z"
   },
   {
    "duration": 38,
    "start_time": "2023-04-02T18:11:40.419Z"
   },
   {
    "duration": 4,
    "start_time": "2023-04-02T18:11:40.459Z"
   },
   {
    "duration": 163,
    "start_time": "2023-04-02T18:11:40.465Z"
   },
   {
    "duration": 16,
    "start_time": "2023-04-02T18:11:40.630Z"
   },
   {
    "duration": 5,
    "start_time": "2023-04-02T18:11:40.648Z"
   },
   {
    "duration": 18,
    "start_time": "2023-04-02T18:11:40.655Z"
   },
   {
    "duration": 9,
    "start_time": "2023-04-02T18:11:40.675Z"
   },
   {
    "duration": 6,
    "start_time": "2023-04-02T18:11:40.685Z"
   },
   {
    "duration": 34,
    "start_time": "2023-04-02T18:11:40.693Z"
   },
   {
    "duration": 26,
    "start_time": "2023-04-02T18:11:40.728Z"
   },
   {
    "duration": 4,
    "start_time": "2023-04-02T18:11:40.755Z"
   },
   {
    "duration": 177,
    "start_time": "2023-04-02T18:11:40.760Z"
   },
   {
    "duration": 15,
    "start_time": "2023-04-02T18:11:40.939Z"
   },
   {
    "duration": 28,
    "start_time": "2023-04-02T18:11:40.956Z"
   },
   {
    "duration": 96,
    "start_time": "2023-04-02T18:11:40.986Z"
   },
   {
    "duration": 307,
    "start_time": "2023-04-02T18:11:41.084Z"
   },
   {
    "duration": 6,
    "start_time": "2023-04-02T18:11:41.393Z"
   },
   {
    "duration": 46,
    "start_time": "2023-04-02T18:11:41.401Z"
   },
   {
    "duration": 3691,
    "start_time": "2023-04-02T18:11:41.449Z"
   },
   {
    "duration": 9,
    "start_time": "2023-04-02T18:11:45.145Z"
   },
   {
    "duration": 23,
    "start_time": "2023-04-02T18:11:45.155Z"
   },
   {
    "duration": 323,
    "start_time": "2023-04-02T18:11:45.180Z"
   },
   {
    "duration": 20,
    "start_time": "2023-04-02T18:11:45.505Z"
   },
   {
    "duration": 10,
    "start_time": "2023-04-02T18:11:45.527Z"
   },
   {
    "duration": 28,
    "start_time": "2023-04-02T18:11:45.538Z"
   },
   {
    "duration": 27,
    "start_time": "2023-04-02T18:11:45.568Z"
   },
   {
    "duration": 233,
    "start_time": "2023-04-02T18:11:45.597Z"
   },
   {
    "duration": 4,
    "start_time": "2023-04-02T18:11:45.832Z"
   },
   {
    "duration": 28,
    "start_time": "2023-04-02T18:11:45.837Z"
   },
   {
    "duration": 32,
    "start_time": "2023-04-02T18:11:45.867Z"
   },
   {
    "duration": 23,
    "start_time": "2023-04-02T18:11:45.900Z"
   },
   {
    "duration": 597,
    "start_time": "2023-04-02T18:11:45.924Z"
   },
   {
    "duration": 36,
    "start_time": "2023-04-02T18:11:46.523Z"
   },
   {
    "duration": 7,
    "start_time": "2023-04-02T18:11:46.561Z"
   },
   {
    "duration": 71,
    "start_time": "2023-04-02T18:11:46.570Z"
   },
   {
    "duration": 320,
    "start_time": "2023-04-02T18:11:46.643Z"
   },
   {
    "duration": 59,
    "start_time": "2023-04-02T18:11:46.964Z"
   },
   {
    "duration": 18,
    "start_time": "2023-04-02T18:11:47.025Z"
   },
   {
    "duration": 17,
    "start_time": "2023-04-02T18:11:47.045Z"
   },
   {
    "duration": 14,
    "start_time": "2023-04-02T18:11:47.064Z"
   },
   {
    "duration": 71,
    "start_time": "2023-04-02T18:11:47.079Z"
   },
   {
    "duration": 207,
    "start_time": "2023-04-02T18:11:47.152Z"
   },
   {
    "duration": 35,
    "start_time": "2023-04-02T18:11:47.361Z"
   },
   {
    "duration": 159,
    "start_time": "2023-04-02T18:11:47.398Z"
   },
   {
    "duration": 152,
    "start_time": "2023-04-02T18:21:46.926Z"
   },
   {
    "duration": 14,
    "start_time": "2023-04-02T18:22:14.306Z"
   },
   {
    "duration": 6,
    "start_time": "2023-04-02T18:22:56.677Z"
   },
   {
    "duration": 4,
    "start_time": "2023-04-02T18:24:24.757Z"
   },
   {
    "duration": 11,
    "start_time": "2023-04-02T18:24:47.373Z"
   },
   {
    "duration": 179,
    "start_time": "2023-04-02T18:37:29.350Z"
   },
   {
    "duration": 49,
    "start_time": "2023-04-02T19:05:43.500Z"
   },
   {
    "duration": 5324,
    "start_time": "2023-04-02T19:05:44.381Z"
   },
   {
    "duration": 187,
    "start_time": "2023-04-02T19:11:43.097Z"
   },
   {
    "duration": 5703,
    "start_time": "2023-04-02T19:11:43.720Z"
   },
   {
    "duration": 44,
    "start_time": "2023-04-02T19:12:15.779Z"
   },
   {
    "duration": 5419,
    "start_time": "2023-04-02T19:12:16.441Z"
   },
   {
    "duration": 9,
    "start_time": "2023-04-02T19:17:47.331Z"
   },
   {
    "duration": 14,
    "start_time": "2023-04-02T19:19:28.339Z"
   },
   {
    "duration": 489,
    "start_time": "2023-04-02T19:19:29.168Z"
   },
   {
    "duration": 6,
    "start_time": "2023-04-02T19:22:34.563Z"
   },
   {
    "duration": 19,
    "start_time": "2023-04-02T19:22:45.116Z"
   },
   {
    "duration": 382,
    "start_time": "2023-04-02T19:22:45.883Z"
   },
   {
    "duration": 5,
    "start_time": "2023-04-02T19:24:15.337Z"
   },
   {
    "duration": 14,
    "start_time": "2023-04-02T19:24:15.835Z"
   },
   {
    "duration": 332,
    "start_time": "2023-04-02T19:24:16.488Z"
   },
   {
    "duration": 21,
    "start_time": "2023-04-02T19:29:42.688Z"
   },
   {
    "duration": 57,
    "start_time": "2023-04-03T06:58:21.973Z"
   },
   {
    "duration": 1462,
    "start_time": "2023-04-03T06:58:32.785Z"
   },
   {
    "duration": 212,
    "start_time": "2023-04-03T06:58:34.249Z"
   },
   {
    "duration": 4,
    "start_time": "2023-04-03T06:58:34.463Z"
   },
   {
    "duration": 21,
    "start_time": "2023-04-03T06:58:34.468Z"
   },
   {
    "duration": 36,
    "start_time": "2023-04-03T06:58:34.492Z"
   },
   {
    "duration": 17,
    "start_time": "2023-04-03T06:58:34.534Z"
   },
   {
    "duration": 8,
    "start_time": "2023-04-03T06:58:34.553Z"
   },
   {
    "duration": 18,
    "start_time": "2023-04-03T06:58:34.563Z"
   },
   {
    "duration": 809,
    "start_time": "2023-04-03T06:58:34.583Z"
   },
   {
    "duration": 15,
    "start_time": "2023-04-03T06:58:35.394Z"
   },
   {
    "duration": 27,
    "start_time": "2023-04-03T06:58:35.412Z"
   },
   {
    "duration": 10,
    "start_time": "2023-04-03T06:58:35.442Z"
   },
   {
    "duration": 16,
    "start_time": "2023-04-03T06:58:35.454Z"
   },
   {
    "duration": 14,
    "start_time": "2023-04-03T06:58:35.475Z"
   },
   {
    "duration": 23,
    "start_time": "2023-04-03T06:58:35.491Z"
   },
   {
    "duration": 18,
    "start_time": "2023-04-03T06:58:35.516Z"
   },
   {
    "duration": 20,
    "start_time": "2023-04-03T06:58:35.535Z"
   },
   {
    "duration": 20,
    "start_time": "2023-04-03T06:58:35.557Z"
   },
   {
    "duration": 21,
    "start_time": "2023-04-03T06:58:35.579Z"
   },
   {
    "duration": 32,
    "start_time": "2023-04-03T06:58:35.602Z"
   },
   {
    "duration": 5,
    "start_time": "2023-04-03T06:58:35.636Z"
   },
   {
    "duration": 27,
    "start_time": "2023-04-03T06:58:35.643Z"
   },
   {
    "duration": 5,
    "start_time": "2023-04-03T06:58:35.672Z"
   },
   {
    "duration": 180,
    "start_time": "2023-04-03T06:58:35.678Z"
   },
   {
    "duration": 18,
    "start_time": "2023-04-03T06:58:35.860Z"
   },
   {
    "duration": 6,
    "start_time": "2023-04-03T06:58:35.880Z"
   },
   {
    "duration": 9,
    "start_time": "2023-04-03T06:58:35.888Z"
   },
   {
    "duration": 35,
    "start_time": "2023-04-03T06:58:35.898Z"
   },
   {
    "duration": 8,
    "start_time": "2023-04-03T06:58:35.935Z"
   },
   {
    "duration": 13,
    "start_time": "2023-04-03T06:58:35.945Z"
   },
   {
    "duration": 41,
    "start_time": "2023-04-03T06:58:35.961Z"
   },
   {
    "duration": 7,
    "start_time": "2023-04-03T06:58:36.004Z"
   },
   {
    "duration": 194,
    "start_time": "2023-04-03T06:58:36.012Z"
   },
   {
    "duration": 44,
    "start_time": "2023-04-03T06:58:36.207Z"
   },
   {
    "duration": 95,
    "start_time": "2023-04-03T06:58:36.253Z"
   },
   {
    "duration": 320,
    "start_time": "2023-04-03T06:58:36.350Z"
   },
   {
    "duration": 69,
    "start_time": "2023-04-03T06:58:36.672Z"
   },
   {
    "duration": 6019,
    "start_time": "2023-04-03T06:58:36.743Z"
   },
   {
    "duration": 10,
    "start_time": "2023-04-03T06:58:42.764Z"
   },
   {
    "duration": 10,
    "start_time": "2023-04-03T06:58:42.776Z"
   },
   {
    "duration": 16,
    "start_time": "2023-04-03T06:58:42.791Z"
   },
   {
    "duration": 396,
    "start_time": "2023-04-03T06:58:42.809Z"
   },
   {
    "duration": 30,
    "start_time": "2023-04-03T06:58:43.208Z"
   },
   {
    "duration": 10,
    "start_time": "2023-04-03T06:58:43.241Z"
   },
   {
    "duration": 37,
    "start_time": "2023-04-03T06:58:43.254Z"
   },
   {
    "duration": 10,
    "start_time": "2023-04-03T06:58:48.230Z"
   },
   {
    "duration": 76,
    "start_time": "2023-04-03T06:59:36.904Z"
   },
   {
    "duration": 9,
    "start_time": "2023-04-03T06:59:47.530Z"
   },
   {
    "duration": 10,
    "start_time": "2023-04-03T07:01:23.574Z"
   },
   {
    "duration": 10,
    "start_time": "2023-04-03T07:01:37.237Z"
   },
   {
    "duration": 13,
    "start_time": "2023-04-03T07:02:10.871Z"
   },
   {
    "duration": 10,
    "start_time": "2023-04-03T07:08:40.252Z"
   },
   {
    "duration": 18,
    "start_time": "2023-04-03T07:08:41.089Z"
   },
   {
    "duration": 217,
    "start_time": "2023-04-03T07:08:51.675Z"
   },
   {
    "duration": 315,
    "start_time": "2023-04-03T07:09:00.721Z"
   },
   {
    "duration": 216,
    "start_time": "2023-04-03T07:09:05.823Z"
   },
   {
    "duration": 227,
    "start_time": "2023-04-03T07:09:32.321Z"
   },
   {
    "duration": 12,
    "start_time": "2023-04-03T07:14:49.958Z"
   },
   {
    "duration": 13,
    "start_time": "2023-04-03T07:15:02.744Z"
   },
   {
    "duration": 12,
    "start_time": "2023-04-03T07:15:27.637Z"
   },
   {
    "duration": 11,
    "start_time": "2023-04-03T07:15:39.523Z"
   },
   {
    "duration": 11,
    "start_time": "2023-04-03T07:15:40.141Z"
   },
   {
    "duration": 641,
    "start_time": "2023-04-03T07:15:55.221Z"
   },
   {
    "duration": 10,
    "start_time": "2023-04-03T07:19:04.223Z"
   },
   {
    "duration": 11,
    "start_time": "2023-04-03T07:19:19.579Z"
   },
   {
    "duration": 665,
    "start_time": "2023-04-03T07:19:51.888Z"
   },
   {
    "duration": 15,
    "start_time": "2023-04-03T07:22:16.756Z"
   },
   {
    "duration": 22,
    "start_time": "2023-04-03T07:22:26.833Z"
   },
   {
    "duration": 7,
    "start_time": "2023-04-03T07:26:33.365Z"
   },
   {
    "duration": 42,
    "start_time": "2023-04-03T07:27:12.276Z"
   },
   {
    "duration": 315,
    "start_time": "2023-04-03T07:27:27.894Z"
   },
   {
    "duration": 69,
    "start_time": "2023-04-03T07:33:56.669Z"
   },
   {
    "duration": 16,
    "start_time": "2023-04-03T07:34:18.691Z"
   },
   {
    "duration": 16,
    "start_time": "2023-04-03T07:36:58.336Z"
   },
   {
    "duration": 17,
    "start_time": "2023-04-03T07:38:28.587Z"
   },
   {
    "duration": 16,
    "start_time": "2023-04-03T07:44:10.106Z"
   },
   {
    "duration": 74,
    "start_time": "2023-04-03T07:49:00.232Z"
   },
   {
    "duration": 21,
    "start_time": "2023-04-03T07:56:58.301Z"
   },
   {
    "duration": 38,
    "start_time": "2023-04-03T07:57:08.470Z"
   },
   {
    "duration": 169,
    "start_time": "2023-04-03T07:58:25.337Z"
   },
   {
    "duration": 47,
    "start_time": "2023-04-03T08:03:46.860Z"
   },
   {
    "duration": 184,
    "start_time": "2023-04-03T08:04:04.462Z"
   },
   {
    "duration": 1566,
    "start_time": "2023-04-03T08:20:26.729Z"
   },
   {
    "duration": 66,
    "start_time": "2023-04-03T08:20:28.297Z"
   },
   {
    "duration": 6,
    "start_time": "2023-04-03T08:20:28.365Z"
   },
   {
    "duration": 25,
    "start_time": "2023-04-03T08:20:28.375Z"
   },
   {
    "duration": 47,
    "start_time": "2023-04-03T08:20:28.402Z"
   },
   {
    "duration": 27,
    "start_time": "2023-04-03T08:20:28.456Z"
   },
   {
    "duration": 6,
    "start_time": "2023-04-03T08:20:28.485Z"
   },
   {
    "duration": 27,
    "start_time": "2023-04-03T08:20:28.493Z"
   },
   {
    "duration": 798,
    "start_time": "2023-04-03T08:20:28.522Z"
   },
   {
    "duration": 38,
    "start_time": "2023-04-03T08:20:29.324Z"
   },
   {
    "duration": 37,
    "start_time": "2023-04-03T08:20:29.363Z"
   },
   {
    "duration": 11,
    "start_time": "2023-04-03T08:20:29.402Z"
   },
   {
    "duration": 6,
    "start_time": "2023-04-03T08:20:29.414Z"
   },
   {
    "duration": 10,
    "start_time": "2023-04-03T08:20:29.421Z"
   },
   {
    "duration": 47,
    "start_time": "2023-04-03T08:20:29.435Z"
   },
   {
    "duration": 8,
    "start_time": "2023-04-03T08:20:29.484Z"
   },
   {
    "duration": 14,
    "start_time": "2023-04-03T08:20:29.494Z"
   },
   {
    "duration": 12,
    "start_time": "2023-04-03T08:20:29.510Z"
   },
   {
    "duration": 61,
    "start_time": "2023-04-03T08:20:29.524Z"
   },
   {
    "duration": 26,
    "start_time": "2023-04-03T08:20:29.588Z"
   },
   {
    "duration": 4,
    "start_time": "2023-04-03T08:20:29.616Z"
   },
   {
    "duration": 35,
    "start_time": "2023-04-03T08:20:29.622Z"
   },
   {
    "duration": 28,
    "start_time": "2023-04-03T08:20:29.659Z"
   },
   {
    "duration": 213,
    "start_time": "2023-04-03T08:20:29.688Z"
   },
   {
    "duration": 20,
    "start_time": "2023-04-03T08:20:29.903Z"
   },
   {
    "duration": 15,
    "start_time": "2023-04-03T08:20:29.949Z"
   },
   {
    "duration": 19,
    "start_time": "2023-04-03T08:20:29.966Z"
   },
   {
    "duration": 23,
    "start_time": "2023-04-03T08:20:29.991Z"
   },
   {
    "duration": 86,
    "start_time": "2023-04-03T08:20:30.017Z"
   },
   {
    "duration": 105,
    "start_time": "2023-04-03T08:20:30.105Z"
   },
   {
    "duration": 113,
    "start_time": "2023-04-03T08:20:30.212Z"
   },
   {
    "duration": 65,
    "start_time": "2023-04-03T08:20:30.328Z"
   },
   {
    "duration": 289,
    "start_time": "2023-04-03T08:20:30.396Z"
   },
   {
    "duration": 32,
    "start_time": "2023-04-03T08:20:30.687Z"
   },
   {
    "duration": 142,
    "start_time": "2023-04-03T08:20:30.720Z"
   },
   {
    "duration": 334,
    "start_time": "2023-04-03T08:20:30.865Z"
   },
   {
    "duration": 65,
    "start_time": "2023-04-03T08:20:31.201Z"
   },
   {
    "duration": 7061,
    "start_time": "2023-04-03T08:20:31.269Z"
   },
   {
    "duration": 26,
    "start_time": "2023-04-03T08:20:38.332Z"
   },
   {
    "duration": 28,
    "start_time": "2023-04-03T08:20:38.364Z"
   },
   {
    "duration": 24,
    "start_time": "2023-04-03T08:20:38.395Z"
   },
   {
    "duration": 394,
    "start_time": "2023-04-03T08:20:38.421Z"
   },
   {
    "duration": 28,
    "start_time": "2023-04-03T08:20:38.817Z"
   },
   {
    "duration": 27,
    "start_time": "2023-04-03T08:20:38.854Z"
   },
   {
    "duration": 14,
    "start_time": "2023-04-03T08:20:38.883Z"
   },
   {
    "duration": 11,
    "start_time": "2023-04-03T08:20:38.899Z"
   },
   {
    "duration": 11,
    "start_time": "2023-04-03T08:20:38.912Z"
   },
   {
    "duration": 260,
    "start_time": "2023-04-03T08:20:38.925Z"
   },
   {
    "duration": 12,
    "start_time": "2023-04-03T08:20:39.187Z"
   },
   {
    "duration": 14,
    "start_time": "2023-04-03T08:20:39.201Z"
   },
   {
    "duration": 47,
    "start_time": "2023-04-03T08:20:39.216Z"
   },
   {
    "duration": 719,
    "start_time": "2023-04-03T08:20:39.273Z"
   },
   {
    "duration": 22,
    "start_time": "2023-04-03T08:20:39.994Z"
   },
   {
    "duration": 20,
    "start_time": "2023-04-03T08:20:40.019Z"
   },
   {
    "duration": 224,
    "start_time": "2023-04-03T08:20:40.043Z"
   },
   {
    "duration": 352,
    "start_time": "2023-04-03T08:20:40.276Z"
   },
   {
    "duration": 70,
    "start_time": "2023-04-03T08:20:40.630Z"
   },
   {
    "duration": 15,
    "start_time": "2023-04-03T08:20:40.702Z"
   },
   {
    "duration": 43,
    "start_time": "2023-04-03T08:20:40.719Z"
   },
   {
    "duration": 28,
    "start_time": "2023-04-03T08:20:40.766Z"
   },
   {
    "duration": 41,
    "start_time": "2023-04-03T08:20:40.796Z"
   },
   {
    "duration": 188,
    "start_time": "2023-04-03T08:20:40.838Z"
   },
   {
    "duration": 58,
    "start_time": "2023-04-03T08:20:41.028Z"
   },
   {
    "duration": 203,
    "start_time": "2023-04-03T08:20:41.087Z"
   },
   {
    "duration": 1376,
    "start_time": "2023-05-17T12:27:21.628Z"
   },
   {
    "duration": 103,
    "start_time": "2023-05-17T12:30:17.699Z"
   },
   {
    "duration": 1952,
    "start_time": "2023-05-17T12:30:31.530Z"
   },
   {
    "duration": 3,
    "start_time": "2023-05-17T12:30:42.882Z"
   },
   {
    "duration": 342,
    "start_time": "2023-05-17T12:31:58.740Z"
   },
   {
    "duration": 3,
    "start_time": "2023-05-17T12:42:19.885Z"
   },
   {
    "duration": 107,
    "start_time": "2023-05-17T12:42:47.189Z"
   },
   {
    "duration": 6,
    "start_time": "2023-05-17T12:43:10.793Z"
   },
   {
    "duration": 71,
    "start_time": "2023-05-17T12:47:34.610Z"
   },
   {
    "duration": 156,
    "start_time": "2023-05-17T12:47:51.247Z"
   },
   {
    "duration": 54,
    "start_time": "2023-05-17T12:48:21.918Z"
   },
   {
    "duration": 51,
    "start_time": "2023-05-17T12:48:38.781Z"
   },
   {
    "duration": 122,
    "start_time": "2023-05-17T12:50:37.507Z"
   },
   {
    "duration": 126,
    "start_time": "2023-05-17T12:50:55.053Z"
   },
   {
    "duration": 7,
    "start_time": "2023-05-17T12:54:34.213Z"
   },
   {
    "duration": 6,
    "start_time": "2023-05-17T12:56:03.738Z"
   },
   {
    "duration": 8,
    "start_time": "2023-05-17T12:56:42.252Z"
   },
   {
    "duration": 9,
    "start_time": "2023-05-17T12:57:30.818Z"
   },
   {
    "duration": 3,
    "start_time": "2023-05-17T12:58:55.218Z"
   },
   {
    "duration": 8,
    "start_time": "2023-05-17T12:59:25.402Z"
   },
   {
    "duration": 5,
    "start_time": "2023-05-17T13:00:01.990Z"
   },
   {
    "duration": 9,
    "start_time": "2023-05-17T13:00:45.494Z"
   },
   {
    "duration": 4,
    "start_time": "2023-05-17T13:02:33.681Z"
   },
   {
    "duration": 8,
    "start_time": "2023-05-17T13:09:48.885Z"
   },
   {
    "duration": 1110,
    "start_time": "2023-05-17T13:17:26.184Z"
   },
   {
    "duration": 547,
    "start_time": "2023-05-17T13:17:27.296Z"
   },
   {
    "duration": 2,
    "start_time": "2023-05-17T13:17:27.845Z"
   },
   {
    "duration": 304,
    "start_time": "2023-05-17T13:17:27.850Z"
   },
   {
    "duration": 3,
    "start_time": "2023-05-17T13:17:28.156Z"
   },
   {
    "duration": 7,
    "start_time": "2023-05-17T13:17:28.161Z"
   },
   {
    "duration": 198,
    "start_time": "2023-05-17T13:17:28.169Z"
   },
   {
    "duration": 70,
    "start_time": "2023-05-17T13:17:28.369Z"
   },
   {
    "duration": 133,
    "start_time": "2023-05-17T13:17:28.440Z"
   },
   {
    "duration": 6,
    "start_time": "2023-05-17T13:17:28.575Z"
   },
   {
    "duration": 6,
    "start_time": "2023-05-17T13:17:28.583Z"
   },
   {
    "duration": 8,
    "start_time": "2023-05-17T13:17:28.591Z"
   },
   {
    "duration": 28,
    "start_time": "2023-05-17T13:17:28.601Z"
   },
   {
    "duration": 5,
    "start_time": "2023-05-17T13:17:28.631Z"
   },
   {
    "duration": 9,
    "start_time": "2023-05-17T13:17:28.637Z"
   },
   {
    "duration": 6,
    "start_time": "2023-05-17T13:17:28.647Z"
   },
   {
    "duration": 10,
    "start_time": "2023-05-17T13:17:28.654Z"
   },
   {
    "duration": 134,
    "start_time": "2023-05-17T13:17:28.665Z"
   },
   {
    "duration": 8,
    "start_time": "2023-05-17T13:20:37.033Z"
   },
   {
    "duration": 6,
    "start_time": "2023-05-17T13:21:42.502Z"
   },
   {
    "duration": 1604,
    "start_time": "2023-05-17T13:21:49.426Z"
   },
   {
    "duration": 828,
    "start_time": "2023-05-17T13:21:51.032Z"
   },
   {
    "duration": 2,
    "start_time": "2023-05-17T13:21:51.862Z"
   },
   {
    "duration": 307,
    "start_time": "2023-05-17T13:21:51.866Z"
   },
   {
    "duration": 3,
    "start_time": "2023-05-17T13:21:52.175Z"
   },
   {
    "duration": 9,
    "start_time": "2023-05-17T13:21:52.179Z"
   },
   {
    "duration": 176,
    "start_time": "2023-05-17T13:21:52.189Z"
   },
   {
    "duration": 62,
    "start_time": "2023-05-17T13:21:52.366Z"
   },
   {
    "duration": 129,
    "start_time": "2023-05-17T13:21:52.430Z"
   },
   {
    "duration": 5,
    "start_time": "2023-05-17T13:21:52.561Z"
   },
   {
    "duration": 8,
    "start_time": "2023-05-17T13:21:52.568Z"
   },
   {
    "duration": 9,
    "start_time": "2023-05-17T13:21:52.578Z"
   },
   {
    "duration": 9,
    "start_time": "2023-05-17T13:21:52.588Z"
   },
   {
    "duration": 4,
    "start_time": "2023-05-17T13:21:52.599Z"
   },
   {
    "duration": 28,
    "start_time": "2023-05-17T13:21:52.604Z"
   },
   {
    "duration": 9,
    "start_time": "2023-05-17T13:21:52.634Z"
   },
   {
    "duration": 10,
    "start_time": "2023-05-17T13:21:52.644Z"
   },
   {
    "duration": 112,
    "start_time": "2023-05-17T13:21:52.655Z"
   },
   {
    "duration": 421,
    "start_time": "2023-05-17T13:21:58.946Z"
   },
   {
    "duration": 6,
    "start_time": "2023-05-17T13:25:28.010Z"
   },
   {
    "duration": 9,
    "start_time": "2023-05-17T13:45:03.746Z"
   },
   {
    "duration": 15,
    "start_time": "2023-05-17T13:50:40.141Z"
   },
   {
    "duration": 24,
    "start_time": "2023-05-17T13:50:55.106Z"
   },
   {
    "duration": 3,
    "start_time": "2023-05-17T13:51:59.293Z"
   },
   {
    "duration": 18,
    "start_time": "2023-05-17T13:52:05.228Z"
   },
   {
    "duration": 13,
    "start_time": "2023-05-17T14:02:36.188Z"
   },
   {
    "duration": 46,
    "start_time": "2023-05-17T14:05:03.592Z"
   },
   {
    "duration": 40,
    "start_time": "2023-05-17T14:05:45.818Z"
   },
   {
    "duration": 178,
    "start_time": "2023-05-17T14:13:03.635Z"
   },
   {
    "duration": 11,
    "start_time": "2023-05-17T14:15:41.014Z"
   },
   {
    "duration": 41,
    "start_time": "2023-05-17T14:15:50.214Z"
   },
   {
    "duration": 157,
    "start_time": "2023-05-17T14:15:59.442Z"
   },
   {
    "duration": 54,
    "start_time": "2023-05-17T14:16:29.543Z"
   },
   {
    "duration": 290,
    "start_time": "2023-05-17T14:16:50.547Z"
   },
   {
    "duration": 17,
    "start_time": "2023-05-17T14:17:56.610Z"
   },
   {
    "duration": 44,
    "start_time": "2023-05-17T14:18:06.685Z"
   },
   {
    "duration": 27,
    "start_time": "2023-05-17T14:18:18.729Z"
   },
   {
    "duration": 78,
    "start_time": "2023-05-17T19:44:49.248Z"
   },
   {
    "duration": 1710,
    "start_time": "2023-05-17T19:44:57.921Z"
   },
   {
    "duration": 4365,
    "start_time": "2023-05-17T19:44:59.634Z"
   },
   {
    "duration": 5,
    "start_time": "2023-05-17T19:45:04.005Z"
   },
   {
    "duration": 604,
    "start_time": "2023-05-17T19:45:04.013Z"
   },
   {
    "duration": 6,
    "start_time": "2023-05-17T19:45:04.619Z"
   },
   {
    "duration": 12,
    "start_time": "2023-05-17T19:45:04.627Z"
   },
   {
    "duration": 238,
    "start_time": "2023-05-17T19:45:04.643Z"
   },
   {
    "duration": 118,
    "start_time": "2023-05-17T19:45:04.883Z"
   },
   {
    "duration": 262,
    "start_time": "2023-05-17T19:45:05.003Z"
   },
   {
    "duration": 8,
    "start_time": "2023-05-17T19:45:05.271Z"
   },
   {
    "duration": 25,
    "start_time": "2023-05-17T19:45:05.282Z"
   },
   {
    "duration": 17,
    "start_time": "2023-05-17T19:45:05.313Z"
   },
   {
    "duration": 29,
    "start_time": "2023-05-17T19:45:05.332Z"
   },
   {
    "duration": 9,
    "start_time": "2023-05-17T19:45:05.364Z"
   },
   {
    "duration": 18,
    "start_time": "2023-05-17T19:45:05.375Z"
   },
   {
    "duration": 20,
    "start_time": "2023-05-17T19:45:05.402Z"
   },
   {
    "duration": 24,
    "start_time": "2023-05-17T19:45:05.424Z"
   },
   {
    "duration": 721,
    "start_time": "2023-05-17T19:45:05.452Z"
   },
   {
    "duration": 53,
    "start_time": "2023-05-17T19:45:06.176Z"
   },
   {
    "duration": 31,
    "start_time": "2023-05-17T19:45:06.231Z"
   },
   {
    "duration": 114,
    "start_time": "2023-05-17T19:45:06.270Z"
   },
   {
    "duration": 325,
    "start_time": "2023-05-17T19:45:06.386Z"
   },
   {
    "duration": 19,
    "start_time": "2023-05-17T19:45:06.713Z"
   },
   {
    "duration": 65,
    "start_time": "2023-05-17T19:45:06.734Z"
   },
   {
    "duration": 210,
    "start_time": "2023-05-17T19:45:06.803Z"
   },
   {
    "duration": 66,
    "start_time": "2023-05-17T19:45:07.019Z"
   },
   {
    "duration": 393,
    "start_time": "2023-05-17T19:45:07.087Z"
   },
   {
    "duration": 21,
    "start_time": "2023-05-17T19:45:07.482Z"
   },
   {
    "duration": 63,
    "start_time": "2023-05-17T19:45:07.508Z"
   },
   {
    "duration": 52,
    "start_time": "2023-05-17T19:45:07.573Z"
   },
   {
    "duration": 5,
    "start_time": "2023-05-17T19:45:07.634Z"
   },
   {
    "duration": 12,
    "start_time": "2023-05-17T19:45:22.332Z"
   },
   {
    "duration": 11,
    "start_time": "2023-05-17T19:45:43.258Z"
   },
   {
    "duration": 135,
    "start_time": "2023-05-17T19:46:21.348Z"
   },
   {
    "duration": 11,
    "start_time": "2023-05-17T19:48:33.103Z"
   },
   {
    "duration": 15,
    "start_time": "2023-05-17T19:48:41.308Z"
   },
   {
    "duration": 31,
    "start_time": "2023-05-17T19:48:53.389Z"
   },
   {
    "duration": 269,
    "start_time": "2023-05-17T19:49:03.739Z"
   },
   {
    "duration": 55,
    "start_time": "2023-05-17T19:49:30.560Z"
   },
   {
    "duration": 22,
    "start_time": "2023-05-17T19:49:45.415Z"
   },
   {
    "duration": 16,
    "start_time": "2023-05-17T19:49:59.279Z"
   },
   {
    "duration": 16,
    "start_time": "2023-05-17T19:54:15.951Z"
   },
   {
    "duration": 13,
    "start_time": "2023-05-17T19:55:09.861Z"
   },
   {
    "duration": 294,
    "start_time": "2023-05-17T19:55:55.711Z"
   },
   {
    "duration": 1774,
    "start_time": "2023-05-17T19:56:02.563Z"
   },
   {
    "duration": 12,
    "start_time": "2023-05-17T20:15:41.211Z"
   },
   {
    "duration": 17,
    "start_time": "2023-05-17T20:15:54.488Z"
   },
   {
    "duration": 1947,
    "start_time": "2023-05-17T20:16:11.603Z"
   },
   {
    "duration": 2066,
    "start_time": "2023-05-17T20:20:22.583Z"
   },
   {
    "duration": 2551,
    "start_time": "2023-05-17T20:23:35.523Z"
   },
   {
    "duration": 2230,
    "start_time": "2023-05-17T20:24:36.762Z"
   },
   {
    "duration": 2016,
    "start_time": "2023-05-17T20:25:35.137Z"
   },
   {
    "duration": 831,
    "start_time": "2023-05-17T20:26:51.101Z"
   },
   {
    "duration": 16,
    "start_time": "2023-05-17T20:27:05.803Z"
   },
   {
    "duration": 1125,
    "start_time": "2023-05-17T20:27:17.744Z"
   },
   {
    "duration": 1508,
    "start_time": "2023-05-17T20:28:50.503Z"
   },
   {
    "duration": 1883,
    "start_time": "2023-05-17T20:29:25.293Z"
   },
   {
    "duration": 49,
    "start_time": "2023-05-18T07:41:16.079Z"
   },
   {
    "duration": 7,
    "start_time": "2023-05-18T07:41:19.315Z"
   },
   {
    "duration": 1394,
    "start_time": "2023-05-18T07:41:26.890Z"
   },
   {
    "duration": 2001,
    "start_time": "2023-05-18T07:41:28.287Z"
   },
   {
    "duration": 3,
    "start_time": "2023-05-18T07:41:30.290Z"
   },
   {
    "duration": 408,
    "start_time": "2023-05-18T07:41:30.295Z"
   },
   {
    "duration": 4,
    "start_time": "2023-05-18T07:41:30.705Z"
   },
   {
    "duration": 43,
    "start_time": "2023-05-18T07:41:30.710Z"
   },
   {
    "duration": 173,
    "start_time": "2023-05-18T07:41:30.755Z"
   },
   {
    "duration": 67,
    "start_time": "2023-05-18T07:41:30.929Z"
   },
   {
    "duration": 137,
    "start_time": "2023-05-18T07:41:30.998Z"
   },
   {
    "duration": 6,
    "start_time": "2023-05-18T07:41:31.136Z"
   },
   {
    "duration": 22,
    "start_time": "2023-05-18T07:41:31.143Z"
   },
   {
    "duration": 58,
    "start_time": "2023-05-18T07:41:31.167Z"
   },
   {
    "duration": 31,
    "start_time": "2023-05-18T07:41:31.227Z"
   },
   {
    "duration": 44,
    "start_time": "2023-05-18T07:41:31.262Z"
   },
   {
    "duration": 17,
    "start_time": "2023-05-18T07:41:31.308Z"
   },
   {
    "duration": 52,
    "start_time": "2023-05-18T07:41:31.327Z"
   },
   {
    "duration": 39,
    "start_time": "2023-05-18T07:41:31.381Z"
   },
   {
    "duration": 513,
    "start_time": "2023-05-18T07:41:31.421Z"
   },
   {
    "duration": 16,
    "start_time": "2023-05-18T07:41:31.936Z"
   },
   {
    "duration": 25,
    "start_time": "2023-05-18T07:41:31.954Z"
   },
   {
    "duration": 56,
    "start_time": "2023-05-18T07:41:31.981Z"
   },
   {
    "duration": 194,
    "start_time": "2023-05-18T07:41:32.039Z"
   },
   {
    "duration": 10,
    "start_time": "2023-05-18T07:41:32.235Z"
   },
   {
    "duration": 59,
    "start_time": "2023-05-18T07:41:32.246Z"
   },
   {
    "duration": 180,
    "start_time": "2023-05-18T07:41:32.307Z"
   },
   {
    "duration": 55,
    "start_time": "2023-05-18T07:41:32.489Z"
   },
   {
    "duration": 300,
    "start_time": "2023-05-18T07:41:32.545Z"
   },
   {
    "duration": 10,
    "start_time": "2023-05-18T07:41:32.847Z"
   },
   {
    "duration": 55,
    "start_time": "2023-05-18T07:41:32.859Z"
   },
   {
    "duration": 25,
    "start_time": "2023-05-18T07:41:32.916Z"
   },
   {
    "duration": 4,
    "start_time": "2023-05-18T07:41:32.943Z"
   },
   {
    "duration": 31,
    "start_time": "2023-05-18T07:41:32.948Z"
   },
   {
    "duration": 10,
    "start_time": "2023-05-18T07:41:32.980Z"
   },
   {
    "duration": 208,
    "start_time": "2023-05-18T07:41:32.991Z"
   },
   {
    "duration": 4,
    "start_time": "2023-05-18T07:41:33.200Z"
   },
   {
    "duration": 11,
    "start_time": "2023-05-18T07:41:33.206Z"
   },
   {
    "duration": 10,
    "start_time": "2023-05-18T07:41:33.218Z"
   },
   {
    "duration": 21,
    "start_time": "2023-05-18T07:41:33.230Z"
   },
   {
    "duration": 17,
    "start_time": "2023-05-18T07:41:33.279Z"
   },
   {
    "duration": 11,
    "start_time": "2023-05-18T07:41:33.298Z"
   },
   {
    "duration": 14,
    "start_time": "2023-05-18T07:41:33.313Z"
   },
   {
    "duration": 1602,
    "start_time": "2023-05-18T07:41:33.329Z"
   },
   {
    "duration": 1694,
    "start_time": "2023-05-18T07:41:34.933Z"
   },
   {
    "duration": 1717,
    "start_time": "2023-05-18T07:41:36.629Z"
   },
   {
    "duration": 2165,
    "start_time": "2023-05-18T07:41:38.348Z"
   },
   {
    "duration": 1828,
    "start_time": "2023-05-18T07:41:40.515Z"
   },
   {
    "duration": 1584,
    "start_time": "2023-05-18T07:41:42.344Z"
   },
   {
    "duration": 701,
    "start_time": "2023-05-18T07:41:43.931Z"
   },
   {
    "duration": 1069,
    "start_time": "2023-05-18T07:41:44.634Z"
   },
   {
    "duration": 1205,
    "start_time": "2023-05-18T07:41:45.705Z"
   },
   {
    "duration": 1626,
    "start_time": "2023-05-18T07:41:46.911Z"
   },
   {
    "duration": 898,
    "start_time": "2023-05-18T07:41:48.539Z"
   },
   {
    "duration": 1314,
    "start_time": "2023-05-18T07:45:12.793Z"
   },
   {
    "duration": 792,
    "start_time": "2023-05-18T07:45:42.879Z"
   },
   {
    "duration": 1338,
    "start_time": "2023-05-18T07:46:01.783Z"
   },
   {
    "duration": 13,
    "start_time": "2023-05-18T08:42:23.200Z"
   },
   {
    "duration": 53,
    "start_time": "2023-05-18T08:47:36.067Z"
   },
   {
    "duration": 146,
    "start_time": "2023-05-18T08:53:23.494Z"
   },
   {
    "duration": 21,
    "start_time": "2023-05-18T08:53:32.613Z"
   },
   {
    "duration": 18,
    "start_time": "2023-05-18T08:53:46.926Z"
   },
   {
    "duration": 240,
    "start_time": "2023-05-18T08:53:56.290Z"
   },
   {
    "duration": 240,
    "start_time": "2023-05-18T08:54:57.498Z"
   },
   {
    "duration": 273,
    "start_time": "2023-05-18T08:55:07.696Z"
   },
   {
    "duration": 225,
    "start_time": "2023-05-18T08:55:22.799Z"
   },
   {
    "duration": 222,
    "start_time": "2023-05-18T08:55:46.606Z"
   },
   {
    "duration": 274,
    "start_time": "2023-05-18T08:56:16.374Z"
   },
   {
    "duration": 223,
    "start_time": "2023-05-18T08:56:24.295Z"
   },
   {
    "duration": 11,
    "start_time": "2023-05-18T08:59:08.854Z"
   },
   {
    "duration": 43,
    "start_time": "2023-05-18T09:00:22.427Z"
   },
   {
    "duration": 203,
    "start_time": "2023-05-18T09:01:21.058Z"
   },
   {
    "duration": 236,
    "start_time": "2023-05-18T09:02:18.261Z"
   },
   {
    "duration": 18,
    "start_time": "2023-05-18T09:08:00.598Z"
   },
   {
    "duration": 58,
    "start_time": "2023-05-18T09:10:00.874Z"
   },
   {
    "duration": 76,
    "start_time": "2023-05-18T09:10:57.011Z"
   },
   {
    "duration": 35,
    "start_time": "2023-05-18T09:15:41.705Z"
   },
   {
    "duration": 177,
    "start_time": "2023-05-18T09:16:00.025Z"
   },
   {
    "duration": 51,
    "start_time": "2023-05-18T09:17:16.692Z"
   },
   {
    "duration": 151,
    "start_time": "2023-05-18T09:17:33.889Z"
   },
   {
    "duration": 127,
    "start_time": "2023-05-18T09:18:41.306Z"
   },
   {
    "duration": 340,
    "start_time": "2023-05-18T09:20:58.155Z"
   },
   {
    "duration": 7,
    "start_time": "2023-05-18T09:32:38.202Z"
   },
   {
    "duration": 11,
    "start_time": "2023-05-18T09:33:08.909Z"
   },
   {
    "duration": 5,
    "start_time": "2023-05-18T09:33:48.961Z"
   },
   {
    "duration": 15,
    "start_time": "2023-05-18T09:34:22.310Z"
   },
   {
    "duration": 15,
    "start_time": "2023-05-18T09:35:43.272Z"
   },
   {
    "duration": 165,
    "start_time": "2023-05-18T09:38:17.486Z"
   },
   {
    "duration": 391,
    "start_time": "2023-05-18T09:38:22.660Z"
   },
   {
    "duration": 350,
    "start_time": "2023-05-18T09:38:32.311Z"
   },
   {
    "duration": 406,
    "start_time": "2023-05-18T09:39:45.657Z"
   },
   {
    "duration": 116,
    "start_time": "2023-05-18T09:42:42.824Z"
   },
   {
    "duration": 93,
    "start_time": "2023-05-18T09:42:48.986Z"
   },
   {
    "duration": 54,
    "start_time": "2023-05-18T09:42:55.916Z"
   },
   {
    "duration": 13,
    "start_time": "2023-05-18T09:43:08.230Z"
   },
   {
    "duration": 13,
    "start_time": "2023-05-18T09:43:13.653Z"
   },
   {
    "duration": 38,
    "start_time": "2023-05-18T09:44:40.192Z"
   },
   {
    "duration": 20,
    "start_time": "2023-05-18T09:46:10.915Z"
   },
   {
    "duration": 14,
    "start_time": "2023-05-18T09:47:02.294Z"
   },
   {
    "duration": 34,
    "start_time": "2023-05-18T09:47:13.565Z"
   },
   {
    "duration": 11,
    "start_time": "2023-05-18T09:47:30.494Z"
   },
   {
    "duration": 80,
    "start_time": "2023-05-18T10:29:15.267Z"
   },
   {
    "duration": 46,
    "start_time": "2023-05-18T10:29:21.155Z"
   },
   {
    "duration": 66,
    "start_time": "2023-05-18T10:32:05.086Z"
   },
   {
    "duration": 26,
    "start_time": "2023-05-18T10:33:51.530Z"
   },
   {
    "duration": 15,
    "start_time": "2023-05-18T12:05:22.848Z"
   },
   {
    "duration": 1471,
    "start_time": "2023-05-18T12:06:23.952Z"
   },
   {
    "duration": 1439,
    "start_time": "2023-05-18T12:06:46.332Z"
   },
   {
    "duration": 1860,
    "start_time": "2023-05-18T12:34:27.968Z"
   },
   {
    "duration": 48,
    "start_time": "2023-05-20T09:36:28.132Z"
   },
   {
    "duration": 1261,
    "start_time": "2023-05-20T09:37:27.145Z"
   },
   {
    "duration": 923,
    "start_time": "2023-05-20T09:37:28.408Z"
   },
   {
    "duration": 3,
    "start_time": "2023-05-20T09:37:29.333Z"
   },
   {
    "duration": 367,
    "start_time": "2023-05-20T09:37:29.338Z"
   },
   {
    "duration": 3,
    "start_time": "2023-05-20T09:37:29.707Z"
   },
   {
    "duration": 25,
    "start_time": "2023-05-20T09:37:29.711Z"
   },
   {
    "duration": 176,
    "start_time": "2023-05-20T09:37:29.738Z"
   },
   {
    "duration": 58,
    "start_time": "2023-05-20T09:37:29.916Z"
   },
   {
    "duration": 147,
    "start_time": "2023-05-20T09:37:29.976Z"
   },
   {
    "duration": 6,
    "start_time": "2023-05-20T09:37:30.126Z"
   },
   {
    "duration": 25,
    "start_time": "2023-05-20T09:37:30.134Z"
   },
   {
    "duration": 31,
    "start_time": "2023-05-20T09:37:30.161Z"
   },
   {
    "duration": 20,
    "start_time": "2023-05-20T09:37:30.194Z"
   },
   {
    "duration": 26,
    "start_time": "2023-05-20T09:37:30.216Z"
   },
   {
    "duration": 9,
    "start_time": "2023-05-20T09:37:30.244Z"
   },
   {
    "duration": 20,
    "start_time": "2023-05-20T09:37:30.254Z"
   },
   {
    "duration": 40,
    "start_time": "2023-05-20T09:37:30.276Z"
   },
   {
    "duration": 465,
    "start_time": "2023-05-20T09:37:30.318Z"
   },
   {
    "duration": 22,
    "start_time": "2023-05-20T09:37:30.785Z"
   },
   {
    "duration": 45,
    "start_time": "2023-05-20T09:37:30.808Z"
   },
   {
    "duration": 100,
    "start_time": "2023-05-20T09:37:30.854Z"
   },
   {
    "duration": 213,
    "start_time": "2023-05-20T09:37:30.956Z"
   },
   {
    "duration": 12,
    "start_time": "2023-05-20T09:37:31.171Z"
   },
   {
    "duration": 95,
    "start_time": "2023-05-20T09:37:31.184Z"
   },
   {
    "duration": 209,
    "start_time": "2023-05-20T09:37:31.281Z"
   },
   {
    "duration": 13,
    "start_time": "2023-05-20T09:37:31.492Z"
   },
   {
    "duration": 162,
    "start_time": "2023-05-20T09:37:31.507Z"
   },
   {
    "duration": 0,
    "start_time": "2023-05-20T09:37:31.672Z"
   },
   {
    "duration": 0,
    "start_time": "2023-05-20T09:37:31.674Z"
   },
   {
    "duration": 0,
    "start_time": "2023-05-20T09:37:31.675Z"
   },
   {
    "duration": 0,
    "start_time": "2023-05-20T09:37:31.677Z"
   },
   {
    "duration": 0,
    "start_time": "2023-05-20T09:37:31.677Z"
   },
   {
    "duration": 0,
    "start_time": "2023-05-20T09:37:31.678Z"
   },
   {
    "duration": 0,
    "start_time": "2023-05-20T09:37:31.679Z"
   },
   {
    "duration": 0,
    "start_time": "2023-05-20T09:37:31.696Z"
   },
   {
    "duration": 0,
    "start_time": "2023-05-20T09:37:31.698Z"
   },
   {
    "duration": 0,
    "start_time": "2023-05-20T09:37:31.700Z"
   },
   {
    "duration": 0,
    "start_time": "2023-05-20T09:37:31.702Z"
   },
   {
    "duration": 0,
    "start_time": "2023-05-20T09:37:31.703Z"
   },
   {
    "duration": 0,
    "start_time": "2023-05-20T09:37:31.705Z"
   },
   {
    "duration": 0,
    "start_time": "2023-05-20T09:37:31.706Z"
   },
   {
    "duration": 0,
    "start_time": "2023-05-20T09:37:31.707Z"
   },
   {
    "duration": 0,
    "start_time": "2023-05-20T09:37:31.709Z"
   },
   {
    "duration": 0,
    "start_time": "2023-05-20T09:37:31.710Z"
   },
   {
    "duration": 0,
    "start_time": "2023-05-20T09:37:31.712Z"
   },
   {
    "duration": 0,
    "start_time": "2023-05-20T09:37:31.713Z"
   },
   {
    "duration": 0,
    "start_time": "2023-05-20T09:37:31.715Z"
   },
   {
    "duration": 0,
    "start_time": "2023-05-20T09:37:31.716Z"
   },
   {
    "duration": 47,
    "start_time": "2023-05-20T09:39:18.791Z"
   },
   {
    "duration": 326,
    "start_time": "2023-05-20T09:39:22.815Z"
   },
   {
    "duration": 4,
    "start_time": "2023-05-20T09:39:26.199Z"
   },
   {
    "duration": 14,
    "start_time": "2023-05-20T09:39:26.689Z"
   },
   {
    "duration": 402,
    "start_time": "2023-05-20T09:39:27.232Z"
   },
   {
    "duration": 31,
    "start_time": "2023-05-20T09:39:28.861Z"
   },
   {
    "duration": 24,
    "start_time": "2023-05-20T09:39:29.446Z"
   },
   {
    "duration": 14,
    "start_time": "2023-05-20T09:39:34.120Z"
   },
   {
    "duration": 1627,
    "start_time": "2023-05-20T09:39:35.493Z"
   },
   {
    "duration": 11,
    "start_time": "2023-05-20T09:39:41.580Z"
   },
   {
    "duration": 1649,
    "start_time": "2023-05-20T09:40:19.657Z"
   },
   {
    "duration": 1552,
    "start_time": "2023-05-20T09:40:27.536Z"
   },
   {
    "duration": 2262,
    "start_time": "2023-05-20T09:43:59.835Z"
   },
   {
    "duration": 1752,
    "start_time": "2023-05-20T09:45:00.384Z"
   },
   {
    "duration": 1970,
    "start_time": "2023-05-20T09:45:18.300Z"
   },
   {
    "duration": 1013,
    "start_time": "2023-05-20T09:50:20.258Z"
   },
   {
    "duration": 1573,
    "start_time": "2023-05-20T09:54:23.483Z"
   },
   {
    "duration": 726,
    "start_time": "2023-05-20T09:56:23.540Z"
   },
   {
    "duration": 1393,
    "start_time": "2023-05-20T09:56:34.837Z"
   },
   {
    "duration": 1318,
    "start_time": "2023-05-20T09:57:24.436Z"
   },
   {
    "duration": 743,
    "start_time": "2023-05-20T09:58:10.564Z"
   },
   {
    "duration": 1593,
    "start_time": "2023-05-20T09:58:41.773Z"
   },
   {
    "duration": 1618,
    "start_time": "2023-06-01T07:16:02.139Z"
   },
   {
    "duration": 246,
    "start_time": "2023-06-01T07:19:56.261Z"
   },
   {
    "duration": 4,
    "start_time": "2023-06-01T07:19:59.599Z"
   },
   {
    "duration": 91,
    "start_time": "2023-06-01T07:20:00.194Z"
   },
   {
    "duration": 1258,
    "start_time": "2023-06-01T07:27:35.356Z"
   },
   {
    "duration": 3,
    "start_time": "2023-06-01T07:27:37.497Z"
   },
   {
    "duration": 74,
    "start_time": "2023-06-01T07:27:39.838Z"
   },
   {
    "duration": 45,
    "start_time": "2023-06-01T07:27:41.724Z"
   },
   {
    "duration": 234,
    "start_time": "2023-06-01T07:42:01.906Z"
   },
   {
    "duration": 106,
    "start_time": "2023-06-01T07:42:10.888Z"
   },
   {
    "duration": 430,
    "start_time": "2023-06-01T07:42:27.480Z"
   },
   {
    "duration": 107,
    "start_time": "2023-06-01T07:43:12.424Z"
   },
   {
    "duration": 53,
    "start_time": "2023-06-01T07:43:22.393Z"
   },
   {
    "duration": 40,
    "start_time": "2023-06-01T07:44:13.751Z"
   },
   {
    "duration": 82,
    "start_time": "2023-06-01T07:45:18.984Z"
   },
   {
    "duration": 41,
    "start_time": "2023-06-01T07:45:24.114Z"
   },
   {
    "duration": 1061,
    "start_time": "2023-06-01T07:47:51.022Z"
   },
   {
    "duration": 6,
    "start_time": "2023-06-01T07:47:52.705Z"
   },
   {
    "duration": 74,
    "start_time": "2023-06-01T07:47:57.249Z"
   },
   {
    "duration": 94,
    "start_time": "2023-06-01T07:47:58.697Z"
   },
   {
    "duration": 49,
    "start_time": "2023-06-01T07:48:29.715Z"
   },
   {
    "duration": 7,
    "start_time": "2023-06-01T07:54:19.204Z"
   },
   {
    "duration": 5,
    "start_time": "2023-06-01T07:54:50.538Z"
   },
   {
    "duration": 9,
    "start_time": "2023-06-01T07:55:18.306Z"
   },
   {
    "duration": 10,
    "start_time": "2023-06-01T07:55:26.877Z"
   },
   {
    "duration": 10,
    "start_time": "2023-06-01T07:55:30.202Z"
   },
   {
    "duration": 16,
    "start_time": "2023-06-01T08:58:38.153Z"
   },
   {
    "duration": 8,
    "start_time": "2023-06-01T08:58:47.510Z"
   },
   {
    "duration": 322,
    "start_time": "2023-06-01T09:05:40.783Z"
   },
   {
    "duration": 276,
    "start_time": "2023-06-01T09:05:58.115Z"
   },
   {
    "duration": 274,
    "start_time": "2023-06-01T09:06:05.488Z"
   },
   {
    "duration": 11,
    "start_time": "2023-06-01T09:06:59.787Z"
   },
   {
    "duration": 10,
    "start_time": "2023-06-01T09:07:05.717Z"
   },
   {
    "duration": 272,
    "start_time": "2023-06-01T09:07:28.346Z"
   },
   {
    "duration": 291,
    "start_time": "2023-06-01T09:07:50.647Z"
   },
   {
    "duration": 155,
    "start_time": "2023-06-01T09:08:23.852Z"
   },
   {
    "duration": 325,
    "start_time": "2023-06-01T09:08:32.453Z"
   },
   {
    "duration": 284,
    "start_time": "2023-06-01T09:10:22.605Z"
   },
   {
    "duration": 334,
    "start_time": "2023-06-01T09:11:34.223Z"
   },
   {
    "duration": 291,
    "start_time": "2023-06-01T09:11:51.803Z"
   },
   {
    "duration": 267,
    "start_time": "2023-06-01T09:13:09.324Z"
   },
   {
    "duration": 281,
    "start_time": "2023-06-01T09:13:16.692Z"
   },
   {
    "duration": 299,
    "start_time": "2023-06-01T09:18:07.098Z"
   },
   {
    "duration": 281,
    "start_time": "2023-06-01T09:18:15.598Z"
   },
   {
    "duration": 161,
    "start_time": "2023-06-01T09:20:03.381Z"
   },
   {
    "duration": 286,
    "start_time": "2023-06-01T09:20:15.167Z"
   },
   {
    "duration": 288,
    "start_time": "2023-06-01T09:21:27.049Z"
   },
   {
    "duration": 9,
    "start_time": "2023-06-01T09:23:18.085Z"
   },
   {
    "duration": 307,
    "start_time": "2023-06-01T09:24:20.220Z"
   },
   {
    "duration": 16,
    "start_time": "2023-06-01T10:23:07.459Z"
   },
   {
    "duration": 6,
    "start_time": "2023-06-01T10:37:11.575Z"
   },
   {
    "duration": 15,
    "start_time": "2023-06-01T10:39:35.783Z"
   },
   {
    "duration": 344,
    "start_time": "2023-06-01T10:39:42.992Z"
   },
   {
    "duration": 346,
    "start_time": "2023-06-01T10:51:25.759Z"
   },
   {
    "duration": 62,
    "start_time": "2023-06-02T08:53:14.200Z"
   },
   {
    "duration": 1480,
    "start_time": "2023-06-02T08:53:26.396Z"
   },
   {
    "duration": 4,
    "start_time": "2023-06-02T08:53:27.878Z"
   },
   {
    "duration": 290,
    "start_time": "2023-06-02T08:53:27.884Z"
   },
   {
    "duration": 49,
    "start_time": "2023-06-02T08:53:28.176Z"
   },
   {
    "duration": 6,
    "start_time": "2023-06-02T08:53:28.230Z"
   },
   {
    "duration": 57,
    "start_time": "2023-06-02T08:53:28.238Z"
   },
   {
    "duration": 54,
    "start_time": "2023-06-02T08:53:28.297Z"
   },
   {
    "duration": 32,
    "start_time": "2023-06-02T08:53:28.356Z"
   },
   {
    "duration": 383,
    "start_time": "2023-06-02T08:53:28.390Z"
   },
   {
    "duration": 10,
    "start_time": "2023-06-02T08:53:28.775Z"
   },
   {
    "duration": 400,
    "start_time": "2023-06-02T08:53:28.787Z"
   },
   {
    "duration": 9,
    "start_time": "2023-06-02T08:53:29.189Z"
   },
   {
    "duration": 376,
    "start_time": "2023-06-02T08:53:29.199Z"
   },
   {
    "duration": 6,
    "start_time": "2023-06-02T08:53:29.577Z"
   },
   {
    "duration": 331,
    "start_time": "2023-06-02T08:53:29.584Z"
   },
   {
    "duration": 651,
    "start_time": "2023-06-02T08:53:29.916Z"
   },
   {
    "duration": 144,
    "start_time": "2023-06-02T08:55:55.866Z"
   },
   {
    "duration": 20,
    "start_time": "2023-06-02T08:58:03.620Z"
   },
   {
    "duration": 12,
    "start_time": "2023-06-02T08:58:12.424Z"
   },
   {
    "duration": 11,
    "start_time": "2023-06-02T08:59:21.248Z"
   },
   {
    "duration": 14,
    "start_time": "2023-06-02T09:06:25.568Z"
   },
   {
    "duration": 322,
    "start_time": "2023-06-02T09:06:47.151Z"
   },
   {
    "duration": 270,
    "start_time": "2023-06-02T09:07:47.219Z"
   },
   {
    "duration": 323,
    "start_time": "2023-06-02T09:08:17.153Z"
   },
   {
    "duration": 364,
    "start_time": "2023-06-02T09:09:06.104Z"
   },
   {
    "duration": 285,
    "start_time": "2023-06-02T09:09:21.951Z"
   },
   {
    "duration": 13,
    "start_time": "2023-06-02T09:12:33.119Z"
   },
   {
    "duration": 9,
    "start_time": "2023-06-02T09:13:01.892Z"
   },
   {
    "duration": 7,
    "start_time": "2023-06-02T09:13:43.544Z"
   },
   {
    "duration": 489,
    "start_time": "2023-06-02T09:14:47.986Z"
   },
   {
    "duration": 388,
    "start_time": "2023-06-02T09:15:59.419Z"
   },
   {
    "duration": 441,
    "start_time": "2023-06-02T09:16:17.651Z"
   },
   {
    "duration": 366,
    "start_time": "2023-06-02T09:17:19.015Z"
   },
   {
    "duration": 7,
    "start_time": "2023-06-02T09:17:52.616Z"
   },
   {
    "duration": 367,
    "start_time": "2023-06-02T09:18:58.150Z"
   },
   {
    "duration": 352,
    "start_time": "2023-06-02T09:30:36.063Z"
   },
   {
    "duration": 12,
    "start_time": "2023-06-02T09:32:01.974Z"
   },
   {
    "duration": 23,
    "start_time": "2023-06-02T09:32:31.152Z"
   },
   {
    "duration": 16,
    "start_time": "2023-06-02T09:35:56.604Z"
   },
   {
    "duration": 473,
    "start_time": "2023-06-02T09:36:12.379Z"
   },
   {
    "duration": 394,
    "start_time": "2023-06-02T09:37:17.880Z"
   },
   {
    "duration": 364,
    "start_time": "2023-06-02T09:37:24.555Z"
   },
   {
    "duration": 553,
    "start_time": "2023-06-02T09:37:31.624Z"
   },
   {
    "duration": 478,
    "start_time": "2023-06-02T09:38:17.942Z"
   },
   {
    "duration": 10,
    "start_time": "2023-06-02T09:43:37.188Z"
   },
   {
    "duration": 12,
    "start_time": "2023-06-02T09:43:46.196Z"
   },
   {
    "duration": 11,
    "start_time": "2023-06-02T09:43:54.070Z"
   },
   {
    "duration": 198,
    "start_time": "2023-06-02T09:45:34.169Z"
   },
   {
    "duration": 185,
    "start_time": "2023-06-02T09:46:17.261Z"
   },
   {
    "duration": 20,
    "start_time": "2023-06-02T11:03:30.121Z"
   },
   {
    "duration": 208,
    "start_time": "2023-06-02T11:05:06.634Z"
   },
   {
    "duration": 11,
    "start_time": "2023-06-02T11:06:21.699Z"
   },
   {
    "duration": 5,
    "start_time": "2023-06-02T11:06:36.901Z"
   },
   {
    "duration": 193,
    "start_time": "2023-06-02T11:11:33.973Z"
   },
   {
    "duration": 195,
    "start_time": "2023-06-02T11:11:46.462Z"
   },
   {
    "duration": 185,
    "start_time": "2023-06-02T11:13:35.503Z"
   },
   {
    "duration": 200,
    "start_time": "2023-06-02T11:17:57.175Z"
   },
   {
    "duration": 338,
    "start_time": "2023-06-02T11:18:42.218Z"
   },
   {
    "duration": 8,
    "start_time": "2023-06-02T11:18:54.053Z"
   },
   {
    "duration": 18,
    "start_time": "2023-06-02T11:57:11.621Z"
   },
   {
    "duration": 19,
    "start_time": "2023-06-02T11:57:37.121Z"
   },
   {
    "duration": 194,
    "start_time": "2023-06-02T11:58:38.692Z"
   },
   {
    "duration": 291,
    "start_time": "2023-06-02T12:21:39.251Z"
   },
   {
    "duration": 280,
    "start_time": "2023-06-02T12:21:58.464Z"
   },
   {
    "duration": 9,
    "start_time": "2023-06-02T12:33:40.576Z"
   },
   {
    "duration": 14,
    "start_time": "2023-06-02T12:57:36.392Z"
   },
   {
    "duration": 167,
    "start_time": "2023-06-02T12:58:01.253Z"
   },
   {
    "duration": 10,
    "start_time": "2023-06-02T13:03:28.175Z"
   },
   {
    "duration": 2912,
    "start_time": "2023-06-02T13:17:29.154Z"
   },
   {
    "duration": 95,
    "start_time": "2023-06-02T13:19:30.820Z"
   },
   {
    "duration": 68,
    "start_time": "2023-06-02T13:24:42.122Z"
   },
   {
    "duration": 1157,
    "start_time": "2023-06-02T13:24:54.100Z"
   },
   {
    "duration": 5,
    "start_time": "2023-06-02T13:24:55.259Z"
   },
   {
    "duration": 184,
    "start_time": "2023-06-02T13:24:55.266Z"
   },
   {
    "duration": 58,
    "start_time": "2023-06-02T13:24:55.452Z"
   },
   {
    "duration": 3,
    "start_time": "2023-06-02T13:24:55.512Z"
   },
   {
    "duration": 20,
    "start_time": "2023-06-02T13:24:55.517Z"
   },
   {
    "duration": 25,
    "start_time": "2023-06-02T13:24:55.538Z"
   },
   {
    "duration": 33,
    "start_time": "2023-06-02T13:24:55.564Z"
   },
   {
    "duration": 303,
    "start_time": "2023-06-02T13:24:55.598Z"
   },
   {
    "duration": 10,
    "start_time": "2023-06-02T13:24:55.903Z"
   },
   {
    "duration": 258,
    "start_time": "2023-06-02T13:24:55.915Z"
   },
   {
    "duration": 9,
    "start_time": "2023-06-02T13:24:56.174Z"
   },
   {
    "duration": 283,
    "start_time": "2023-06-02T13:24:56.185Z"
   },
   {
    "duration": 6,
    "start_time": "2023-06-02T13:24:56.470Z"
   },
   {
    "duration": 183,
    "start_time": "2023-06-02T13:24:56.477Z"
   },
   {
    "duration": 126,
    "start_time": "2023-06-02T13:24:56.662Z"
   },
   {
    "duration": 7,
    "start_time": "2023-06-02T13:24:56.789Z"
   },
   {
    "duration": 23,
    "start_time": "2023-06-02T13:24:56.797Z"
   },
   {
    "duration": 314,
    "start_time": "2023-06-02T13:24:56.825Z"
   },
   {
    "duration": 251,
    "start_time": "2023-06-02T13:24:57.141Z"
   },
   {
    "duration": 5,
    "start_time": "2023-06-02T13:24:57.393Z"
   },
   {
    "duration": 375,
    "start_time": "2023-06-02T13:24:57.400Z"
   },
   {
    "duration": 329,
    "start_time": "2023-06-02T13:24:57.776Z"
   },
   {
    "duration": 22,
    "start_time": "2023-06-02T13:24:58.107Z"
   },
   {
    "duration": 457,
    "start_time": "2023-06-02T13:24:58.130Z"
   },
   {
    "duration": 9,
    "start_time": "2023-06-02T13:24:58.589Z"
   },
   {
    "duration": 153,
    "start_time": "2023-06-02T13:24:58.599Z"
   },
   {
    "duration": 145,
    "start_time": "2023-06-02T13:24:58.754Z"
   },
   {
    "duration": 3,
    "start_time": "2023-06-02T13:24:58.900Z"
   },
   {
    "duration": 172,
    "start_time": "2023-06-02T13:24:58.905Z"
   },
   {
    "duration": 164,
    "start_time": "2023-06-02T13:24:59.079Z"
   },
   {
    "duration": 3,
    "start_time": "2023-06-02T13:24:59.245Z"
   },
   {
    "duration": 16,
    "start_time": "2023-06-02T13:24:59.249Z"
   },
   {
    "duration": 161,
    "start_time": "2023-06-02T13:24:59.267Z"
   },
   {
    "duration": 0,
    "start_time": "2023-06-02T13:24:59.430Z"
   },
   {
    "duration": 0,
    "start_time": "2023-06-02T13:24:59.430Z"
   },
   {
    "duration": 73,
    "start_time": "2023-06-02T13:25:32.878Z"
   },
   {
    "duration": 68,
    "start_time": "2023-06-02T13:27:15.287Z"
   },
   {
    "duration": 222,
    "start_time": "2023-06-02T13:35:06.914Z"
   },
   {
    "duration": 137,
    "start_time": "2023-06-02T13:35:33.522Z"
   },
   {
    "duration": 7,
    "start_time": "2023-06-02T13:35:37.250Z"
   },
   {
    "duration": 12,
    "start_time": "2023-06-02T13:40:12.694Z"
   },
   {
    "duration": 6,
    "start_time": "2023-06-02T13:40:32.855Z"
   },
   {
    "duration": 9,
    "start_time": "2023-06-02T13:40:34.277Z"
   },
   {
    "duration": 22,
    "start_time": "2023-06-02T13:40:52.101Z"
   },
   {
    "duration": 42,
    "start_time": "2023-06-02T13:42:09.864Z"
   },
   {
    "duration": 44,
    "start_time": "2023-06-02T13:42:39.391Z"
   },
   {
    "duration": 6,
    "start_time": "2023-06-02T13:43:49.461Z"
   },
   {
    "duration": 5,
    "start_time": "2023-06-02T13:44:01.406Z"
   },
   {
    "duration": 39,
    "start_time": "2023-06-02T13:44:12.007Z"
   },
   {
    "duration": 9,
    "start_time": "2023-06-02T13:47:49.349Z"
   },
   {
    "duration": 176,
    "start_time": "2023-06-02T14:08:08.585Z"
   },
   {
    "duration": 180,
    "start_time": "2023-06-02T14:08:23.035Z"
   },
   {
    "duration": 12,
    "start_time": "2023-06-02T14:10:11.301Z"
   },
   {
    "duration": 9,
    "start_time": "2023-06-02T14:10:53.201Z"
   },
   {
    "duration": 22,
    "start_time": "2023-06-02T14:11:00.375Z"
   },
   {
    "duration": 10,
    "start_time": "2023-06-02T14:11:36.809Z"
   },
   {
    "duration": 66,
    "start_time": "2023-06-03T10:17:49.198Z"
   },
   {
    "duration": 1423,
    "start_time": "2023-06-03T10:18:03.970Z"
   },
   {
    "duration": 5,
    "start_time": "2023-06-03T10:18:05.405Z"
   },
   {
    "duration": 225,
    "start_time": "2023-06-03T10:18:05.412Z"
   },
   {
    "duration": 65,
    "start_time": "2023-06-03T10:18:05.639Z"
   },
   {
    "duration": 3,
    "start_time": "2023-06-03T10:18:05.709Z"
   },
   {
    "duration": 10,
    "start_time": "2023-06-03T10:18:05.714Z"
   },
   {
    "duration": 9,
    "start_time": "2023-06-03T10:18:05.726Z"
   },
   {
    "duration": 10,
    "start_time": "2023-06-03T10:18:05.736Z"
   },
   {
    "duration": 391,
    "start_time": "2023-06-03T10:18:05.747Z"
   },
   {
    "duration": 11,
    "start_time": "2023-06-03T10:18:06.141Z"
   },
   {
    "duration": 347,
    "start_time": "2023-06-03T10:18:06.153Z"
   },
   {
    "duration": 12,
    "start_time": "2023-06-03T10:18:06.506Z"
   },
   {
    "duration": 333,
    "start_time": "2023-06-03T10:18:06.520Z"
   },
   {
    "duration": 7,
    "start_time": "2023-06-03T10:18:06.855Z"
   },
   {
    "duration": 192,
    "start_time": "2023-06-03T10:18:06.863Z"
   },
   {
    "duration": 157,
    "start_time": "2023-06-03T10:18:07.057Z"
   },
   {
    "duration": 6,
    "start_time": "2023-06-03T10:18:07.216Z"
   },
   {
    "duration": 14,
    "start_time": "2023-06-03T10:18:07.224Z"
   },
   {
    "duration": 399,
    "start_time": "2023-06-03T10:18:07.240Z"
   },
   {
    "duration": 301,
    "start_time": "2023-06-03T10:18:07.641Z"
   },
   {
    "duration": 6,
    "start_time": "2023-06-03T10:18:07.944Z"
   },
   {
    "duration": 411,
    "start_time": "2023-06-03T10:18:07.952Z"
   },
   {
    "duration": 357,
    "start_time": "2023-06-03T10:18:08.365Z"
   },
   {
    "duration": 12,
    "start_time": "2023-06-03T10:18:08.723Z"
   },
   {
    "duration": 593,
    "start_time": "2023-06-03T10:18:08.737Z"
   },
   {
    "duration": 11,
    "start_time": "2023-06-03T10:18:09.331Z"
   },
   {
    "duration": 187,
    "start_time": "2023-06-03T10:18:09.343Z"
   },
   {
    "duration": 180,
    "start_time": "2023-06-03T10:18:09.533Z"
   },
   {
    "duration": 5,
    "start_time": "2023-06-03T10:18:09.714Z"
   },
   {
    "duration": 203,
    "start_time": "2023-06-03T10:18:09.720Z"
   },
   {
    "duration": 200,
    "start_time": "2023-06-03T10:18:09.924Z"
   },
   {
    "duration": 4,
    "start_time": "2023-06-03T10:18:10.126Z"
   },
   {
    "duration": 10,
    "start_time": "2023-06-03T10:18:10.131Z"
   },
   {
    "duration": 259,
    "start_time": "2023-06-03T10:18:10.142Z"
   },
   {
    "duration": 175,
    "start_time": "2023-06-03T10:18:10.402Z"
   },
   {
    "duration": 7,
    "start_time": "2023-06-03T10:18:10.579Z"
   },
   {
    "duration": 12,
    "start_time": "2023-06-03T10:18:10.587Z"
   },
   {
    "duration": 43,
    "start_time": "2023-06-03T10:18:10.600Z"
   },
   {
    "duration": 10,
    "start_time": "2023-06-03T10:18:10.644Z"
   },
   {
    "duration": 2183,
    "start_time": "2023-06-03T10:20:54.521Z"
   },
   {
    "duration": 8,
    "start_time": "2023-06-03T10:21:08.851Z"
   },
   {
    "duration": 19,
    "start_time": "2023-06-03T10:21:28.667Z"
   },
   {
    "duration": 8,
    "start_time": "2023-06-03T10:25:16.347Z"
   },
   {
    "duration": 23,
    "start_time": "2023-06-03T10:25:52.214Z"
   },
   {
    "duration": 17,
    "start_time": "2023-06-03T10:26:28.020Z"
   },
   {
    "duration": 4,
    "start_time": "2023-06-03T10:26:36.222Z"
   },
   {
    "duration": 9,
    "start_time": "2023-06-03T10:26:39.051Z"
   },
   {
    "duration": 4,
    "start_time": "2023-06-03T10:26:39.736Z"
   },
   {
    "duration": 9,
    "start_time": "2023-06-03T10:26:41.222Z"
   },
   {
    "duration": 1976,
    "start_time": "2023-06-03T10:32:31.652Z"
   },
   {
    "duration": 10,
    "start_time": "2023-06-03T10:32:36.827Z"
   },
   {
    "duration": 7,
    "start_time": "2023-06-03T10:45:16.035Z"
   },
   {
    "duration": 124,
    "start_time": "2023-06-03T10:45:24.892Z"
   },
   {
    "duration": 68,
    "start_time": "2023-06-03T10:45:53.529Z"
   },
   {
    "duration": 1333,
    "start_time": "2023-06-03T10:46:07.109Z"
   },
   {
    "duration": 12,
    "start_time": "2023-06-03T10:46:09.606Z"
   },
   {
    "duration": 111,
    "start_time": "2023-06-03T10:46:10.595Z"
   },
   {
    "duration": 71,
    "start_time": "2023-06-03T10:46:11.869Z"
   },
   {
    "duration": 5,
    "start_time": "2023-06-03T10:47:12.928Z"
   },
   {
    "duration": 7,
    "start_time": "2023-06-03T10:47:23.322Z"
   },
   {
    "duration": 7,
    "start_time": "2023-06-03T10:47:45.424Z"
   },
   {
    "duration": 13,
    "start_time": "2023-06-03T10:47:53.806Z"
   },
   {
    "duration": 20,
    "start_time": "2023-06-03T10:48:18.073Z"
   },
   {
    "duration": 22,
    "start_time": "2023-06-03T10:51:11.973Z"
   },
   {
    "duration": 411,
    "start_time": "2023-06-03T10:51:58.100Z"
   },
   {
    "duration": 16,
    "start_time": "2023-06-03T10:52:34.045Z"
   },
   {
    "duration": 313,
    "start_time": "2023-06-03T10:52:47.901Z"
   },
   {
    "duration": 15,
    "start_time": "2023-06-03T11:03:45.312Z"
   },
   {
    "duration": 14,
    "start_time": "2023-06-03T11:04:07.718Z"
   },
   {
    "duration": 341,
    "start_time": "2023-06-03T11:04:27.228Z"
   },
   {
    "duration": 10,
    "start_time": "2023-06-03T11:12:18.704Z"
   },
   {
    "duration": 198,
    "start_time": "2023-06-03T11:13:18.596Z"
   },
   {
    "duration": 192,
    "start_time": "2023-06-03T11:14:10.995Z"
   },
   {
    "duration": 209,
    "start_time": "2023-06-03T11:14:35.724Z"
   },
   {
    "duration": 144,
    "start_time": "2023-06-03T11:14:36.797Z"
   },
   {
    "duration": 13,
    "start_time": "2023-06-03T11:14:50.184Z"
   },
   {
    "duration": 16,
    "start_time": "2023-06-03T11:14:54.597Z"
   },
   {
    "duration": 397,
    "start_time": "2023-06-03T11:17:00.126Z"
   },
   {
    "duration": 343,
    "start_time": "2023-06-03T11:19:52.403Z"
   },
   {
    "duration": 9,
    "start_time": "2023-06-03T11:23:01.929Z"
   },
   {
    "duration": 423,
    "start_time": "2023-06-03T11:23:16.246Z"
   },
   {
    "duration": 439,
    "start_time": "2023-06-03T11:26:18.424Z"
   },
   {
    "duration": 550,
    "start_time": "2023-06-03T11:30:45.802Z"
   },
   {
    "duration": 546,
    "start_time": "2023-06-03T11:31:38.152Z"
   },
   {
    "duration": 14,
    "start_time": "2023-06-03T11:44:19.041Z"
   },
   {
    "duration": 173,
    "start_time": "2023-06-03T11:44:29.721Z"
   },
   {
    "duration": 153,
    "start_time": "2023-06-03T11:46:15.014Z"
   },
   {
    "duration": 5,
    "start_time": "2023-06-03T11:48:08.472Z"
   },
   {
    "duration": 296,
    "start_time": "2023-06-03T11:51:38.013Z"
   },
   {
    "duration": 249,
    "start_time": "2023-06-03T11:54:13.917Z"
   },
   {
    "duration": 4,
    "start_time": "2023-06-03T11:54:48.454Z"
   },
   {
    "duration": 9,
    "start_time": "2023-06-03T12:00:03.448Z"
   },
   {
    "duration": 57,
    "start_time": "2023-06-03T12:15:19.690Z"
   },
   {
    "duration": 57,
    "start_time": "2023-06-03T12:15:46.001Z"
   },
   {
    "duration": 57,
    "start_time": "2023-06-03T12:15:49.599Z"
   },
   {
    "duration": 93,
    "start_time": "2023-06-03T12:17:15.308Z"
   },
   {
    "duration": 67,
    "start_time": "2023-06-03T12:18:13.600Z"
   },
   {
    "duration": 32,
    "start_time": "2023-06-03T12:18:49.916Z"
   },
   {
    "duration": 147,
    "start_time": "2023-06-03T12:20:32.196Z"
   },
   {
    "duration": 11,
    "start_time": "2023-06-03T12:21:19.024Z"
   },
   {
    "duration": 4,
    "start_time": "2023-06-03T12:21:47.333Z"
   },
   {
    "duration": 38,
    "start_time": "2023-06-03T12:21:51.599Z"
   },
   {
    "duration": 8,
    "start_time": "2023-06-03T12:31:13.848Z"
   },
   {
    "duration": 11,
    "start_time": "2023-06-03T13:13:46.805Z"
   },
   {
    "duration": 3,
    "start_time": "2023-06-03T13:14:37.220Z"
   },
   {
    "duration": 17,
    "start_time": "2023-06-03T13:16:18.185Z"
   },
   {
    "duration": 33,
    "start_time": "2023-06-03T13:16:57.483Z"
   },
   {
    "duration": 21,
    "start_time": "2023-06-03T13:20:48.307Z"
   },
   {
    "duration": 1271,
    "start_time": "2023-06-03T13:43:39.831Z"
   },
   {
    "duration": 4,
    "start_time": "2023-06-03T13:43:41.107Z"
   },
   {
    "duration": 230,
    "start_time": "2023-06-03T13:43:41.112Z"
   },
   {
    "duration": 68,
    "start_time": "2023-06-03T13:43:41.344Z"
   },
   {
    "duration": 3,
    "start_time": "2023-06-03T13:43:41.414Z"
   },
   {
    "duration": 10,
    "start_time": "2023-06-03T13:43:41.419Z"
   },
   {
    "duration": 10,
    "start_time": "2023-06-03T13:43:41.431Z"
   },
   {
    "duration": 38,
    "start_time": "2023-06-03T13:43:41.442Z"
   },
   {
    "duration": 445,
    "start_time": "2023-06-03T13:43:41.482Z"
   },
   {
    "duration": 11,
    "start_time": "2023-06-03T13:43:41.929Z"
   },
   {
    "duration": 345,
    "start_time": "2023-06-03T13:43:41.941Z"
   },
   {
    "duration": 12,
    "start_time": "2023-06-03T13:43:42.291Z"
   },
   {
    "duration": 379,
    "start_time": "2023-06-03T13:43:42.306Z"
   },
   {
    "duration": 13,
    "start_time": "2023-06-03T13:43:42.689Z"
   },
   {
    "duration": 204,
    "start_time": "2023-06-03T13:43:42.704Z"
   },
   {
    "duration": 132,
    "start_time": "2023-06-03T13:43:42.910Z"
   },
   {
    "duration": 7,
    "start_time": "2023-06-03T13:43:43.043Z"
   },
   {
    "duration": 30,
    "start_time": "2023-06-03T13:43:43.051Z"
   },
   {
    "duration": 401,
    "start_time": "2023-06-03T13:43:43.083Z"
   },
   {
    "duration": 345,
    "start_time": "2023-06-03T13:43:43.486Z"
   },
   {
    "duration": 6,
    "start_time": "2023-06-03T13:43:43.833Z"
   },
   {
    "duration": 440,
    "start_time": "2023-06-03T13:43:43.841Z"
   },
   {
    "duration": 383,
    "start_time": "2023-06-03T13:43:44.284Z"
   },
   {
    "duration": 567,
    "start_time": "2023-06-03T13:43:44.669Z"
   },
   {
    "duration": 12,
    "start_time": "2023-06-03T13:43:45.238Z"
   },
   {
    "duration": 194,
    "start_time": "2023-06-03T13:43:45.251Z"
   },
   {
    "duration": 181,
    "start_time": "2023-06-03T13:43:45.447Z"
   },
   {
    "duration": 4,
    "start_time": "2023-06-03T13:43:45.632Z"
   },
   {
    "duration": 218,
    "start_time": "2023-06-03T13:43:45.637Z"
   },
   {
    "duration": 208,
    "start_time": "2023-06-03T13:43:45.857Z"
   },
   {
    "duration": 16,
    "start_time": "2023-06-03T13:43:46.066Z"
   },
   {
    "duration": 70,
    "start_time": "2023-06-03T13:43:46.085Z"
   },
   {
    "duration": 70,
    "start_time": "2023-06-03T13:43:46.156Z"
   },
   {
    "duration": 93,
    "start_time": "2023-06-03T13:43:46.228Z"
   },
   {
    "duration": 89,
    "start_time": "2023-06-03T13:43:46.323Z"
   },
   {
    "duration": 31,
    "start_time": "2023-06-03T13:43:46.414Z"
   },
   {
    "duration": 171,
    "start_time": "2023-06-03T13:43:46.446Z"
   },
   {
    "duration": 6,
    "start_time": "2023-06-03T13:43:46.619Z"
   },
   {
    "duration": 6,
    "start_time": "2023-06-03T13:43:46.626Z"
   },
   {
    "duration": 23,
    "start_time": "2023-06-03T13:43:46.633Z"
   },
   {
    "duration": 13,
    "start_time": "2023-06-03T13:43:46.679Z"
   },
   {
    "duration": 19,
    "start_time": "2023-06-03T13:43:46.695Z"
   },
   {
    "duration": 10,
    "start_time": "2023-06-03T13:43:46.715Z"
   },
   {
    "duration": 25,
    "start_time": "2023-06-03T13:43:46.727Z"
   },
   {
    "duration": 56,
    "start_time": "2023-06-03T13:43:46.754Z"
   },
   {
    "duration": 10,
    "start_time": "2023-06-03T13:43:46.812Z"
   },
   {
    "duration": 1384,
    "start_time": "2023-06-06T08:53:05.764Z"
   },
   {
    "duration": 8,
    "start_time": "2023-06-06T08:53:28.387Z"
   },
   {
    "duration": 791,
    "start_time": "2023-06-06T08:54:31.841Z"
   },
   {
    "duration": 94,
    "start_time": "2023-06-06T08:56:55.749Z"
   },
   {
    "duration": 34,
    "start_time": "2023-06-06T09:00:18.906Z"
   },
   {
    "duration": 259,
    "start_time": "2023-06-06T09:06:58.690Z"
   },
   {
    "duration": 179,
    "start_time": "2023-06-06T09:07:02.310Z"
   },
   {
    "duration": 153,
    "start_time": "2023-06-06T09:07:43.511Z"
   },
   {
    "duration": 30,
    "start_time": "2023-06-06T09:07:55.073Z"
   },
   {
    "duration": 33,
    "start_time": "2023-06-06T09:08:07.655Z"
   },
   {
    "duration": 97,
    "start_time": "2023-06-06T09:11:18.269Z"
   },
   {
    "duration": 65,
    "start_time": "2023-06-06T09:11:41.146Z"
   },
   {
    "duration": 50,
    "start_time": "2023-06-06T09:11:43.422Z"
   },
   {
    "duration": 57,
    "start_time": "2023-06-06T09:12:06.101Z"
   },
   {
    "duration": 28,
    "start_time": "2023-06-06T09:12:28.154Z"
   },
   {
    "duration": 3,
    "start_time": "2023-06-06T09:13:20.420Z"
   },
   {
    "duration": 5,
    "start_time": "2023-06-06T09:16:50.171Z"
   },
   {
    "duration": 13,
    "start_time": "2023-06-06T09:23:18.370Z"
   },
   {
    "duration": 35,
    "start_time": "2023-06-06T09:24:42.310Z"
   },
   {
    "duration": 26,
    "start_time": "2023-06-06T09:25:12.962Z"
   },
   {
    "duration": 1926,
    "start_time": "2023-06-06T09:36:51.370Z"
   },
   {
    "duration": 25,
    "start_time": "2023-06-06T11:00:52.898Z"
   },
   {
    "duration": 175,
    "start_time": "2023-06-06T11:35:23.057Z"
   },
   {
    "duration": 953,
    "start_time": "2023-06-06T11:35:39.355Z"
   },
   {
    "duration": 25,
    "start_time": "2023-06-06T11:41:11.955Z"
   },
   {
    "duration": 34,
    "start_time": "2023-06-06T11:41:23.831Z"
   },
   {
    "duration": 1224,
    "start_time": "2023-06-06T11:41:40.917Z"
   },
   {
    "duration": 4,
    "start_time": "2023-06-06T11:41:42.144Z"
   },
   {
    "duration": 195,
    "start_time": "2023-06-06T11:41:42.150Z"
   },
   {
    "duration": 104,
    "start_time": "2023-06-06T11:41:42.347Z"
   },
   {
    "duration": 20,
    "start_time": "2023-06-06T11:41:42.455Z"
   },
   {
    "duration": 3,
    "start_time": "2023-06-06T11:41:42.476Z"
   },
   {
    "duration": 142,
    "start_time": "2023-06-06T11:41:42.481Z"
   },
   {
    "duration": 91,
    "start_time": "2023-06-06T11:41:42.625Z"
   },
   {
    "duration": 51,
    "start_time": "2023-06-06T11:41:42.727Z"
   },
   {
    "duration": 58,
    "start_time": "2023-06-06T11:41:42.779Z"
   },
   {
    "duration": 5,
    "start_time": "2023-06-06T11:41:42.838Z"
   },
   {
    "duration": 35,
    "start_time": "2023-06-06T11:41:42.845Z"
   },
   {
    "duration": 1459,
    "start_time": "2023-06-06T11:41:42.882Z"
   },
   {
    "duration": 27,
    "start_time": "2023-06-06T11:41:44.343Z"
   },
   {
    "duration": 834,
    "start_time": "2023-06-06T11:41:44.371Z"
   },
   {
    "duration": 36,
    "start_time": "2023-06-06T11:41:45.207Z"
   },
   {
    "duration": 146,
    "start_time": "2023-06-06T12:04:09.789Z"
   },
   {
    "duration": 51,
    "start_time": "2023-06-06T12:05:37.911Z"
   },
   {
    "duration": 12,
    "start_time": "2023-06-06T12:21:16.357Z"
   },
   {
    "duration": 10,
    "start_time": "2023-06-06T12:21:20.794Z"
   },
   {
    "duration": 12,
    "start_time": "2023-06-06T14:36:30.911Z"
   },
   {
    "duration": 29,
    "start_time": "2023-06-06T14:36:39.340Z"
   },
   {
    "duration": 199,
    "start_time": "2023-06-06T14:36:58.444Z"
   },
   {
    "duration": 50,
    "start_time": "2023-06-07T08:42:09.655Z"
   },
   {
    "duration": 18,
    "start_time": "2023-06-07T08:42:20.811Z"
   },
   {
    "duration": 6,
    "start_time": "2023-06-07T08:42:40.491Z"
   },
   {
    "duration": 1417,
    "start_time": "2023-06-07T08:49:06.528Z"
   },
   {
    "duration": 4,
    "start_time": "2023-06-07T08:49:07.947Z"
   },
   {
    "duration": 685,
    "start_time": "2023-06-07T08:49:07.952Z"
   },
   {
    "duration": 86,
    "start_time": "2023-06-07T08:49:08.639Z"
   },
   {
    "duration": 20,
    "start_time": "2023-06-07T08:49:08.726Z"
   },
   {
    "duration": 3,
    "start_time": "2023-06-07T08:49:08.747Z"
   },
   {
    "duration": 117,
    "start_time": "2023-06-07T08:49:08.751Z"
   },
   {
    "duration": 82,
    "start_time": "2023-06-07T08:49:08.869Z"
   },
   {
    "duration": 39,
    "start_time": "2023-06-07T08:49:08.952Z"
   },
   {
    "duration": 37,
    "start_time": "2023-06-07T08:49:08.992Z"
   },
   {
    "duration": 3,
    "start_time": "2023-06-07T08:49:09.030Z"
   },
   {
    "duration": 34,
    "start_time": "2023-06-07T08:49:09.035Z"
   },
   {
    "duration": 1070,
    "start_time": "2023-06-07T08:49:09.071Z"
   },
   {
    "duration": 23,
    "start_time": "2023-06-07T08:49:10.143Z"
   },
   {
    "duration": 643,
    "start_time": "2023-06-07T08:49:10.168Z"
   },
   {
    "duration": 22,
    "start_time": "2023-06-07T08:49:10.815Z"
   },
   {
    "duration": 30,
    "start_time": "2023-06-07T08:49:10.838Z"
   },
   {
    "duration": 9,
    "start_time": "2023-06-07T08:49:10.869Z"
   },
   {
    "duration": 48,
    "start_time": "2023-06-07T08:49:10.879Z"
   },
   {
    "duration": 172,
    "start_time": "2023-06-07T08:49:10.928Z"
   },
   {
    "duration": 75,
    "start_time": "2023-06-07T08:49:11.102Z"
   },
   {
    "duration": 109,
    "start_time": "2023-06-07T08:50:43.885Z"
   },
   {
    "duration": 1504,
    "start_time": "2023-06-07T08:53:57.293Z"
   },
   {
    "duration": 4,
    "start_time": "2023-06-07T08:53:58.799Z"
   },
   {
    "duration": 176,
    "start_time": "2023-06-07T08:53:58.805Z"
   },
   {
    "duration": 99,
    "start_time": "2023-06-07T08:53:58.984Z"
   },
   {
    "duration": 31,
    "start_time": "2023-06-07T08:53:59.085Z"
   },
   {
    "duration": 3,
    "start_time": "2023-06-07T08:53:59.118Z"
   },
   {
    "duration": 132,
    "start_time": "2023-06-07T08:53:59.123Z"
   },
   {
    "duration": 81,
    "start_time": "2023-06-07T08:53:59.256Z"
   },
   {
    "duration": 41,
    "start_time": "2023-06-07T08:53:59.340Z"
   },
   {
    "duration": 41,
    "start_time": "2023-06-07T08:53:59.383Z"
   },
   {
    "duration": 3,
    "start_time": "2023-06-07T08:53:59.426Z"
   },
   {
    "duration": 24,
    "start_time": "2023-06-07T08:53:59.431Z"
   },
   {
    "duration": 1142,
    "start_time": "2023-06-07T08:53:59.456Z"
   },
   {
    "duration": 30,
    "start_time": "2023-06-07T08:54:00.600Z"
   },
   {
    "duration": 665,
    "start_time": "2023-06-07T08:54:00.632Z"
   },
   {
    "duration": 31,
    "start_time": "2023-06-07T08:54:01.298Z"
   },
   {
    "duration": 33,
    "start_time": "2023-06-07T08:54:01.330Z"
   },
   {
    "duration": 10,
    "start_time": "2023-06-07T08:54:01.364Z"
   },
   {
    "duration": 55,
    "start_time": "2023-06-07T08:54:01.376Z"
   },
   {
    "duration": 194,
    "start_time": "2023-06-07T08:54:01.433Z"
   },
   {
    "duration": 61,
    "start_time": "2023-06-07T08:54:01.629Z"
   },
   {
    "duration": 147,
    "start_time": "2023-06-07T08:54:01.691Z"
   },
   {
    "duration": 615,
    "start_time": "2023-06-07T08:56:43.538Z"
   },
   {
    "duration": 60,
    "start_time": "2023-06-07T08:58:03.115Z"
   },
   {
    "duration": 12,
    "start_time": "2023-06-07T08:58:45.166Z"
   },
   {
    "duration": 44,
    "start_time": "2023-06-07T08:58:52.697Z"
   },
   {
    "duration": 54,
    "start_time": "2023-06-07T09:00:14.594Z"
   },
   {
    "duration": 58,
    "start_time": "2023-06-07T09:02:31.962Z"
   },
   {
    "duration": 67,
    "start_time": "2023-06-07T09:11:45.464Z"
   },
   {
    "duration": 13,
    "start_time": "2023-06-07T09:11:57.677Z"
   },
   {
    "duration": 6,
    "start_time": "2023-06-07T09:12:39.422Z"
   },
   {
    "duration": 11,
    "start_time": "2023-06-07T09:14:30.804Z"
   },
   {
    "duration": 38,
    "start_time": "2023-06-07T09:14:42.961Z"
   },
   {
    "duration": 5,
    "start_time": "2023-06-07T09:15:15.628Z"
   },
   {
    "duration": 1271,
    "start_time": "2023-06-07T09:15:21.401Z"
   },
   {
    "duration": 4,
    "start_time": "2023-06-07T09:15:22.674Z"
   },
   {
    "duration": 156,
    "start_time": "2023-06-07T09:15:22.680Z"
   },
   {
    "duration": 115,
    "start_time": "2023-06-07T09:15:22.838Z"
   },
   {
    "duration": 20,
    "start_time": "2023-06-07T09:15:22.955Z"
   },
   {
    "duration": 2,
    "start_time": "2023-06-07T09:15:22.977Z"
   },
   {
    "duration": 116,
    "start_time": "2023-06-07T09:15:22.981Z"
   },
   {
    "duration": 84,
    "start_time": "2023-06-07T09:15:23.098Z"
   },
   {
    "duration": 47,
    "start_time": "2023-06-07T09:15:23.183Z"
   },
   {
    "duration": 38,
    "start_time": "2023-06-07T09:15:23.232Z"
   },
   {
    "duration": 3,
    "start_time": "2023-06-07T09:15:23.272Z"
   },
   {
    "duration": 46,
    "start_time": "2023-06-07T09:15:23.277Z"
   },
   {
    "duration": 1085,
    "start_time": "2023-06-07T09:15:23.325Z"
   },
   {
    "duration": 24,
    "start_time": "2023-06-07T09:15:24.412Z"
   },
   {
    "duration": 646,
    "start_time": "2023-06-07T09:15:24.437Z"
   },
   {
    "duration": 32,
    "start_time": "2023-06-07T09:15:25.085Z"
   },
   {
    "duration": 32,
    "start_time": "2023-06-07T09:15:25.118Z"
   },
   {
    "duration": 10,
    "start_time": "2023-06-07T09:15:25.151Z"
   },
   {
    "duration": 55,
    "start_time": "2023-06-07T09:15:25.162Z"
   },
   {
    "duration": 222,
    "start_time": "2023-06-07T09:15:25.219Z"
   },
   {
    "duration": 58,
    "start_time": "2023-06-07T09:15:25.442Z"
   },
   {
    "duration": 888,
    "start_time": "2023-06-07T09:15:25.502Z"
   },
   {
    "duration": 127,
    "start_time": "2023-06-07T09:15:26.392Z"
   },
   {
    "duration": 44,
    "start_time": "2023-06-07T09:15:26.521Z"
   },
   {
    "duration": 100,
    "start_time": "2023-06-07T09:15:26.567Z"
   },
   {
    "duration": 181,
    "start_time": "2023-06-07T09:15:26.669Z"
   },
   {
    "duration": 0,
    "start_time": "2023-06-07T09:15:26.851Z"
   },
   {
    "duration": 0,
    "start_time": "2023-06-07T09:15:26.852Z"
   },
   {
    "duration": 3,
    "start_time": "2023-06-07T09:21:35.727Z"
   },
   {
    "duration": 8,
    "start_time": "2023-06-07T09:21:35.731Z"
   },
   {
    "duration": 151,
    "start_time": "2023-06-07T09:21:35.741Z"
   },
   {
    "duration": 66,
    "start_time": "2023-06-07T09:21:35.895Z"
   },
   {
    "duration": 20,
    "start_time": "2023-06-07T09:21:35.963Z"
   },
   {
    "duration": 3,
    "start_time": "2023-06-07T09:21:35.984Z"
   },
   {
    "duration": 113,
    "start_time": "2023-06-07T09:21:35.988Z"
   },
   {
    "duration": 61,
    "start_time": "2023-06-07T09:21:36.102Z"
   },
   {
    "duration": 51,
    "start_time": "2023-06-07T09:21:36.164Z"
   },
   {
    "duration": 26,
    "start_time": "2023-06-07T09:21:36.217Z"
   },
   {
    "duration": 3,
    "start_time": "2023-06-07T09:21:36.245Z"
   },
   {
    "duration": 36,
    "start_time": "2023-06-07T09:21:36.250Z"
   },
   {
    "duration": 998,
    "start_time": "2023-06-07T09:21:36.287Z"
   },
   {
    "duration": 33,
    "start_time": "2023-06-07T09:21:37.289Z"
   },
   {
    "duration": 674,
    "start_time": "2023-06-07T09:21:37.323Z"
   },
   {
    "duration": 27,
    "start_time": "2023-06-07T09:21:37.998Z"
   },
   {
    "duration": 31,
    "start_time": "2023-06-07T09:21:38.026Z"
   },
   {
    "duration": 9,
    "start_time": "2023-06-07T09:21:38.059Z"
   },
   {
    "duration": 52,
    "start_time": "2023-06-07T09:21:38.070Z"
   },
   {
    "duration": 183,
    "start_time": "2023-06-07T09:21:38.124Z"
   },
   {
    "duration": 57,
    "start_time": "2023-06-07T09:21:38.309Z"
   },
   {
    "duration": 56,
    "start_time": "2023-06-07T09:21:38.367Z"
   },
   {
    "duration": 50,
    "start_time": "2023-06-07T09:21:38.425Z"
   },
   {
    "duration": 60,
    "start_time": "2023-06-07T09:21:38.477Z"
   },
   {
    "duration": 61,
    "start_time": "2023-06-07T09:21:38.538Z"
   },
   {
    "duration": 22,
    "start_time": "2023-06-07T09:21:38.601Z"
   },
   {
    "duration": 0,
    "start_time": "2023-06-07T09:21:38.625Z"
   },
   {
    "duration": 6,
    "start_time": "2023-06-07T09:21:52.969Z"
   },
   {
    "duration": 105,
    "start_time": "2023-06-07T09:21:54.612Z"
   },
   {
    "duration": 11,
    "start_time": "2023-06-07T09:22:31.380Z"
   },
   {
    "duration": 108,
    "start_time": "2023-06-07T09:22:41.522Z"
   },
   {
    "duration": 92,
    "start_time": "2023-06-07T09:23:04.271Z"
   },
   {
    "duration": 146,
    "start_time": "2023-06-07T09:23:28.816Z"
   },
   {
    "duration": 9,
    "start_time": "2023-06-07T09:29:46.492Z"
   },
   {
    "duration": 43,
    "start_time": "2023-06-07T20:40:32.289Z"
   },
   {
    "duration": 1242,
    "start_time": "2023-06-07T20:40:38.881Z"
   },
   {
    "duration": 4,
    "start_time": "2023-06-07T20:40:40.125Z"
   },
   {
    "duration": 45,
    "start_time": "2023-06-08T08:28:34.166Z"
   },
   {
    "duration": 1347,
    "start_time": "2023-06-08T08:28:50.816Z"
   },
   {
    "duration": 5,
    "start_time": "2023-06-08T08:28:52.165Z"
   },
   {
    "duration": 506,
    "start_time": "2023-06-08T08:28:52.171Z"
   },
   {
    "duration": 74,
    "start_time": "2023-06-08T08:28:52.678Z"
   },
   {
    "duration": 18,
    "start_time": "2023-06-08T08:28:52.754Z"
   },
   {
    "duration": 4,
    "start_time": "2023-06-08T08:28:52.773Z"
   },
   {
    "duration": 96,
    "start_time": "2023-06-08T08:28:52.779Z"
   },
   {
    "duration": 69,
    "start_time": "2023-06-08T08:28:52.876Z"
   },
   {
    "duration": 36,
    "start_time": "2023-06-08T08:28:52.946Z"
   },
   {
    "duration": 36,
    "start_time": "2023-06-08T08:28:52.983Z"
   },
   {
    "duration": 3,
    "start_time": "2023-06-08T08:28:53.021Z"
   },
   {
    "duration": 27,
    "start_time": "2023-06-08T08:28:53.025Z"
   },
   {
    "duration": 982,
    "start_time": "2023-06-08T08:28:53.054Z"
   },
   {
    "duration": 21,
    "start_time": "2023-06-08T08:28:54.039Z"
   },
   {
    "duration": 658,
    "start_time": "2023-06-08T08:28:54.061Z"
   },
   {
    "duration": 21,
    "start_time": "2023-06-08T08:28:54.720Z"
   },
   {
    "duration": 29,
    "start_time": "2023-06-08T08:28:54.742Z"
   },
   {
    "duration": 10,
    "start_time": "2023-06-08T08:28:54.772Z"
   },
   {
    "duration": 50,
    "start_time": "2023-06-08T08:28:54.783Z"
   },
   {
    "duration": 256,
    "start_time": "2023-06-08T08:28:54.835Z"
   },
   {
    "duration": 175,
    "start_time": "2023-06-08T08:36:00.033Z"
   },
   {
    "duration": 165,
    "start_time": "2023-06-08T08:36:19.985Z"
   },
   {
    "duration": 158,
    "start_time": "2023-06-08T08:36:26.370Z"
   },
   {
    "duration": 159,
    "start_time": "2023-06-08T08:36:32.548Z"
   },
   {
    "duration": 235,
    "start_time": "2023-06-08T08:36:55.186Z"
   },
   {
    "duration": 164,
    "start_time": "2023-06-08T08:43:30.050Z"
   },
   {
    "duration": 11,
    "start_time": "2023-06-08T08:47:01.359Z"
   },
   {
    "duration": 127,
    "start_time": "2023-06-08T08:48:36.128Z"
   },
   {
    "duration": 89,
    "start_time": "2023-06-08T08:48:53.856Z"
   },
   {
    "duration": 173,
    "start_time": "2023-06-08T08:49:00.856Z"
   },
   {
    "duration": 100,
    "start_time": "2023-06-08T08:51:15.147Z"
   },
   {
    "duration": 87,
    "start_time": "2023-06-08T08:51:34.510Z"
   },
   {
    "duration": 69,
    "start_time": "2023-06-08T08:51:48.128Z"
   },
   {
    "duration": 63,
    "start_time": "2023-06-08T08:51:57.762Z"
   },
   {
    "duration": 63,
    "start_time": "2023-06-08T08:52:04.862Z"
   },
   {
    "duration": 64,
    "start_time": "2023-06-08T08:52:08.253Z"
   },
   {
    "duration": 56,
    "start_time": "2023-06-08T08:52:16.242Z"
   },
   {
    "duration": 140,
    "start_time": "2023-06-08T08:53:43.099Z"
   },
   {
    "duration": 81,
    "start_time": "2023-06-08T08:55:04.287Z"
   },
   {
    "duration": 160,
    "start_time": "2023-06-08T08:55:46.778Z"
   },
   {
    "duration": 159,
    "start_time": "2023-06-08T08:59:20.228Z"
   },
   {
    "duration": 2,
    "start_time": "2023-06-08T09:03:56.616Z"
   },
   {
    "duration": 1075,
    "start_time": "2023-06-08T09:04:15.171Z"
   },
   {
    "duration": 4,
    "start_time": "2023-06-08T09:04:16.861Z"
   },
   {
    "duration": 138,
    "start_time": "2023-06-08T09:04:18.662Z"
   },
   {
    "duration": 79,
    "start_time": "2023-06-08T09:04:20.344Z"
   },
   {
    "duration": 18,
    "start_time": "2023-06-08T09:04:26.181Z"
   },
   {
    "duration": 2,
    "start_time": "2023-06-08T09:04:28.198Z"
   },
   {
    "duration": 91,
    "start_time": "2023-06-08T09:05:11.077Z"
   },
   {
    "duration": 67,
    "start_time": "2023-06-08T09:05:13.896Z"
   },
   {
    "duration": 38,
    "start_time": "2023-06-08T09:05:42.104Z"
   },
   {
    "duration": 35,
    "start_time": "2023-06-08T09:06:32.867Z"
   },
   {
    "duration": 24,
    "start_time": "2023-06-08T09:06:47.935Z"
   },
   {
    "duration": 3,
    "start_time": "2023-06-08T09:06:56.906Z"
   },
   {
    "duration": 21,
    "start_time": "2023-06-08T09:08:53.573Z"
   },
   {
    "duration": 1025,
    "start_time": "2023-06-08T09:11:35.673Z"
   },
   {
    "duration": 918,
    "start_time": "2023-06-08T09:11:52.432Z"
   },
   {
    "duration": 1016,
    "start_time": "2023-06-08T09:11:56.144Z"
   },
   {
    "duration": 28,
    "start_time": "2023-06-08T09:14:40.841Z"
   },
   {
    "duration": 721,
    "start_time": "2023-06-08T09:15:30.942Z"
   },
   {
    "duration": 310,
    "start_time": "2023-06-08T09:16:45.986Z"
   },
   {
    "duration": 307,
    "start_time": "2023-06-08T09:17:05.373Z"
   },
   {
    "duration": 89,
    "start_time": "2023-06-08T09:24:02.015Z"
   },
   {
    "duration": 16,
    "start_time": "2023-06-08T09:24:19.186Z"
   },
   {
    "duration": 21,
    "start_time": "2023-06-08T09:24:49.505Z"
   },
   {
    "duration": 9,
    "start_time": "2023-06-08T09:25:37.104Z"
   },
   {
    "duration": 39,
    "start_time": "2023-06-08T09:26:02.236Z"
   },
   {
    "duration": 9,
    "start_time": "2023-06-08T09:26:09.876Z"
   },
   {
    "duration": 1240,
    "start_time": "2023-06-08T09:26:23.314Z"
   },
   {
    "duration": 4,
    "start_time": "2023-06-08T09:26:24.556Z"
   },
   {
    "duration": 155,
    "start_time": "2023-06-08T09:26:24.562Z"
   },
   {
    "duration": 114,
    "start_time": "2023-06-08T09:26:24.719Z"
   },
   {
    "duration": 27,
    "start_time": "2023-06-08T09:26:24.835Z"
   },
   {
    "duration": 3,
    "start_time": "2023-06-08T09:26:24.863Z"
   },
   {
    "duration": 133,
    "start_time": "2023-06-08T09:26:24.868Z"
   },
   {
    "duration": 84,
    "start_time": "2023-06-08T09:26:25.004Z"
   },
   {
    "duration": 44,
    "start_time": "2023-06-08T09:26:25.090Z"
   },
   {
    "duration": 22,
    "start_time": "2023-06-08T09:26:25.136Z"
   },
   {
    "duration": 3,
    "start_time": "2023-06-08T09:26:25.159Z"
   },
   {
    "duration": 44,
    "start_time": "2023-06-08T09:26:25.163Z"
   },
   {
    "duration": 1062,
    "start_time": "2023-06-08T09:26:25.209Z"
   },
   {
    "duration": 20,
    "start_time": "2023-06-08T09:26:26.273Z"
   },
   {
    "duration": 374,
    "start_time": "2023-06-08T09:26:26.294Z"
   },
   {
    "duration": 15,
    "start_time": "2023-06-08T09:26:26.669Z"
   },
   {
    "duration": 8,
    "start_time": "2023-06-08T09:26:26.686Z"
   },
   {
    "duration": 34,
    "start_time": "2023-06-08T09:30:52.105Z"
   },
   {
    "duration": 16,
    "start_time": "2023-06-08T09:31:21.385Z"
   },
   {
    "duration": 25,
    "start_time": "2023-06-08T09:36:27.252Z"
   },
   {
    "duration": 151,
    "start_time": "2023-06-08T09:37:02.204Z"
   },
   {
    "duration": 55,
    "start_time": "2023-06-08T09:40:08.262Z"
   },
   {
    "duration": 52,
    "start_time": "2023-06-08T09:41:02.784Z"
   },
   {
    "duration": 118,
    "start_time": "2023-06-08T09:47:58.185Z"
   },
   {
    "duration": 461,
    "start_time": "2023-06-08T09:48:22.380Z"
   },
   {
    "duration": 37,
    "start_time": "2023-06-08T09:51:08.266Z"
   },
   {
    "duration": 299,
    "start_time": "2023-06-08T09:51:16.546Z"
   },
   {
    "duration": 1974,
    "start_time": "2023-06-08T09:51:57.348Z"
   },
   {
    "duration": 2126,
    "start_time": "2023-06-08T09:52:09.725Z"
   },
   {
    "duration": 11,
    "start_time": "2023-06-08T09:53:45.412Z"
   },
   {
    "duration": 37,
    "start_time": "2023-06-08T09:55:41.543Z"
   },
   {
    "duration": 10,
    "start_time": "2023-06-08T09:57:20.732Z"
   },
   {
    "duration": 3,
    "start_time": "2023-06-08T09:57:48.820Z"
   },
   {
    "duration": 11,
    "start_time": "2023-06-08T09:57:48.825Z"
   },
   {
    "duration": 136,
    "start_time": "2023-06-08T09:57:48.838Z"
   },
   {
    "duration": 61,
    "start_time": "2023-06-08T09:57:48.976Z"
   },
   {
    "duration": 18,
    "start_time": "2023-06-08T09:57:49.039Z"
   },
   {
    "duration": 2,
    "start_time": "2023-06-08T09:57:49.058Z"
   },
   {
    "duration": 98,
    "start_time": "2023-06-08T09:57:49.062Z"
   },
   {
    "duration": 64,
    "start_time": "2023-06-08T09:57:49.162Z"
   },
   {
    "duration": 33,
    "start_time": "2023-06-08T09:57:49.228Z"
   },
   {
    "duration": 20,
    "start_time": "2023-06-08T09:57:49.263Z"
   },
   {
    "duration": 2,
    "start_time": "2023-06-08T09:57:49.285Z"
   },
   {
    "duration": 40,
    "start_time": "2023-06-08T09:57:49.288Z"
   },
   {
    "duration": 905,
    "start_time": "2023-06-08T09:57:49.330Z"
   },
   {
    "duration": 21,
    "start_time": "2023-06-08T09:57:50.236Z"
   },
   {
    "duration": 394,
    "start_time": "2023-06-08T09:57:50.258Z"
   },
   {
    "duration": 16,
    "start_time": "2023-06-08T09:57:50.653Z"
   },
   {
    "duration": 9,
    "start_time": "2023-06-08T09:57:50.671Z"
   },
   {
    "duration": 47,
    "start_time": "2023-06-08T09:57:50.681Z"
   },
   {
    "duration": 10,
    "start_time": "2023-06-08T09:57:50.730Z"
   },
   {
    "duration": 23,
    "start_time": "2023-06-08T09:57:50.742Z"
   },
   {
    "duration": 189,
    "start_time": "2023-06-08T09:57:50.766Z"
   },
   {
    "duration": 50,
    "start_time": "2023-06-08T09:57:50.957Z"
   },
   {
    "duration": 27,
    "start_time": "2023-06-08T09:57:53.665Z"
   },
   {
    "duration": 11,
    "start_time": "2023-06-08T09:58:26.334Z"
   },
   {
    "duration": 19,
    "start_time": "2023-06-08T09:58:48.791Z"
   },
   {
    "duration": 16,
    "start_time": "2023-06-08T09:59:32.132Z"
   },
   {
    "duration": 15,
    "start_time": "2023-06-08T09:59:39.564Z"
   },
   {
    "duration": 12,
    "start_time": "2023-06-08T09:59:53.694Z"
   },
   {
    "duration": 4,
    "start_time": "2023-06-08T10:00:14.001Z"
   },
   {
    "duration": 20,
    "start_time": "2023-06-08T10:00:17.179Z"
   },
   {
    "duration": 42,
    "start_time": "2023-06-08T10:02:05.561Z"
   },
   {
    "duration": 14,
    "start_time": "2023-06-08T10:02:27.122Z"
   },
   {
    "duration": 13,
    "start_time": "2023-06-08T10:02:58.552Z"
   },
   {
    "duration": 40,
    "start_time": "2023-06-08T10:03:03.616Z"
   },
   {
    "duration": 9,
    "start_time": "2023-06-08T10:05:04.172Z"
   },
   {
    "duration": 13,
    "start_time": "2023-06-08T10:05:11.493Z"
   },
   {
    "duration": 10,
    "start_time": "2023-06-08T10:06:26.113Z"
   },
   {
    "duration": 73,
    "start_time": "2023-06-08T10:07:37.729Z"
   },
   {
    "duration": 5,
    "start_time": "2023-06-08T10:09:35.193Z"
   },
   {
    "duration": 5,
    "start_time": "2023-06-08T10:09:44.953Z"
   },
   {
    "duration": 4,
    "start_time": "2023-06-08T10:09:49.301Z"
   },
   {
    "duration": 9,
    "start_time": "2023-06-08T10:09:59.985Z"
   },
   {
    "duration": 11,
    "start_time": "2023-06-08T10:10:21.740Z"
   },
   {
    "duration": 10,
    "start_time": "2023-06-08T10:10:58.191Z"
   },
   {
    "duration": 57,
    "start_time": "2023-06-08T10:14:00.851Z"
   },
   {
    "duration": 42,
    "start_time": "2023-06-08T10:16:07.935Z"
   },
   {
    "duration": 41,
    "start_time": "2023-06-08T10:16:29.740Z"
   },
   {
    "duration": 42,
    "start_time": "2023-06-08T10:19:22.128Z"
   },
   {
    "duration": 31,
    "start_time": "2023-06-08T10:58:37.768Z"
   },
   {
    "duration": 37,
    "start_time": "2023-06-08T10:59:49.633Z"
   },
   {
    "duration": 112,
    "start_time": "2023-06-08T11:17:05.399Z"
   },
   {
    "duration": 235,
    "start_time": "2023-06-08T11:17:17.717Z"
   },
   {
    "duration": 129,
    "start_time": "2023-06-08T11:17:26.939Z"
   },
   {
    "duration": 27,
    "start_time": "2023-06-08T11:17:47.878Z"
   },
   {
    "duration": 101,
    "start_time": "2023-06-08T11:18:26.570Z"
   },
   {
    "duration": 101,
    "start_time": "2023-06-08T11:19:13.069Z"
   },
   {
    "duration": 89,
    "start_time": "2023-06-08T11:21:29.097Z"
   },
   {
    "duration": 85,
    "start_time": "2023-06-08T11:25:21.655Z"
   },
   {
    "duration": 6,
    "start_time": "2023-06-08T11:26:50.797Z"
   },
   {
    "duration": 57,
    "start_time": "2023-06-08T11:41:41.442Z"
   },
   {
    "duration": 56,
    "start_time": "2023-06-08T11:42:43.679Z"
   },
   {
    "duration": 4,
    "start_time": "2023-06-08T11:59:19.611Z"
   },
   {
    "duration": 4,
    "start_time": "2023-06-08T12:00:21.786Z"
   },
   {
    "duration": 22,
    "start_time": "2023-06-08T12:09:47.293Z"
   },
   {
    "duration": 16,
    "start_time": "2023-06-08T12:34:23.630Z"
   },
   {
    "duration": 61,
    "start_time": "2023-06-08T12:34:37.632Z"
   },
   {
    "duration": 63,
    "start_time": "2023-06-08T12:34:43.271Z"
   },
   {
    "duration": 171,
    "start_time": "2023-06-08T12:35:18.376Z"
   },
   {
    "duration": 164,
    "start_time": "2023-06-08T12:37:07.483Z"
   },
   {
    "duration": 170,
    "start_time": "2023-06-08T12:37:29.904Z"
   },
   {
    "duration": 5,
    "start_time": "2023-06-08T12:49:12.692Z"
   },
   {
    "duration": 10,
    "start_time": "2023-06-08T12:55:10.923Z"
   },
   {
    "duration": 25,
    "start_time": "2023-06-08T12:55:24.784Z"
   },
   {
    "duration": 122,
    "start_time": "2023-06-08T12:56:52.718Z"
   },
   {
    "duration": 70,
    "start_time": "2023-06-08T12:57:17.186Z"
   },
   {
    "duration": 64,
    "start_time": "2023-06-08T12:57:29.311Z"
   },
   {
    "duration": 95,
    "start_time": "2023-06-08T12:57:39.730Z"
   },
   {
    "duration": 174,
    "start_time": "2023-06-08T12:58:48.491Z"
   },
   {
    "duration": 173,
    "start_time": "2023-06-08T12:59:14.760Z"
   },
   {
    "duration": 124,
    "start_time": "2023-06-08T13:01:28.403Z"
   },
   {
    "duration": 9,
    "start_time": "2023-06-08T13:03:23.441Z"
   },
   {
    "duration": 129,
    "start_time": "2023-06-08T13:03:36.098Z"
   },
   {
    "duration": 81,
    "start_time": "2023-06-08T13:04:13.721Z"
   },
   {
    "duration": 75,
    "start_time": "2023-06-08T13:04:31.668Z"
   },
   {
    "duration": 78,
    "start_time": "2023-06-08T13:04:46.293Z"
   },
   {
    "duration": 75,
    "start_time": "2023-06-08T13:04:57.106Z"
   },
   {
    "duration": 70,
    "start_time": "2023-06-08T13:06:29.720Z"
   },
   {
    "duration": 178,
    "start_time": "2023-06-08T13:07:57.788Z"
   },
   {
    "duration": 10,
    "start_time": "2023-06-08T13:08:26.644Z"
   },
   {
    "duration": 128,
    "start_time": "2023-06-08T13:08:34.589Z"
   },
   {
    "duration": 172,
    "start_time": "2023-06-08T13:08:52.003Z"
   },
   {
    "duration": 59,
    "start_time": "2023-06-08T13:11:29.289Z"
   },
   {
    "duration": 104,
    "start_time": "2023-06-08T13:11:53.333Z"
   },
   {
    "duration": 141,
    "start_time": "2023-06-08T13:12:50.131Z"
   },
   {
    "duration": 65,
    "start_time": "2023-06-08T13:12:55.405Z"
   },
   {
    "duration": 91,
    "start_time": "2023-06-08T13:13:03.386Z"
   },
   {
    "duration": 89,
    "start_time": "2023-06-08T13:13:06.952Z"
   },
   {
    "duration": 84,
    "start_time": "2023-06-08T13:13:12.831Z"
   },
   {
    "duration": 116,
    "start_time": "2023-06-08T13:13:15.249Z"
   },
   {
    "duration": 79,
    "start_time": "2023-06-08T13:15:17.739Z"
   },
   {
    "duration": 93,
    "start_time": "2023-06-08T13:15:26.348Z"
   },
   {
    "duration": 87,
    "start_time": "2023-06-08T13:15:32.131Z"
   },
   {
    "duration": 118,
    "start_time": "2023-06-08T13:15:37.455Z"
   },
   {
    "duration": 88,
    "start_time": "2023-06-08T13:15:46.015Z"
   },
   {
    "duration": 112,
    "start_time": "2023-06-08T13:15:54.482Z"
   },
   {
    "duration": 88,
    "start_time": "2023-06-08T13:15:58.013Z"
   },
   {
    "duration": 123,
    "start_time": "2023-06-08T13:16:01.325Z"
   },
   {
    "duration": 1123,
    "start_time": "2023-06-08T13:19:15.242Z"
   },
   {
    "duration": 4,
    "start_time": "2023-06-08T13:19:16.366Z"
   },
   {
    "duration": 172,
    "start_time": "2023-06-08T13:19:16.371Z"
   },
   {
    "duration": 89,
    "start_time": "2023-06-08T13:19:16.545Z"
   },
   {
    "duration": 19,
    "start_time": "2023-06-08T13:19:16.636Z"
   },
   {
    "duration": 2,
    "start_time": "2023-06-08T13:19:16.657Z"
   },
   {
    "duration": 112,
    "start_time": "2023-06-08T13:19:16.660Z"
   },
   {
    "duration": 79,
    "start_time": "2023-06-08T13:19:16.773Z"
   },
   {
    "duration": 36,
    "start_time": "2023-06-08T13:19:16.853Z"
   },
   {
    "duration": 36,
    "start_time": "2023-06-08T13:19:16.891Z"
   },
   {
    "duration": 3,
    "start_time": "2023-06-08T13:19:16.929Z"
   },
   {
    "duration": 25,
    "start_time": "2023-06-08T13:19:16.934Z"
   },
   {
    "duration": 1035,
    "start_time": "2023-06-08T13:19:16.961Z"
   },
   {
    "duration": 27,
    "start_time": "2023-06-08T13:19:17.997Z"
   },
   {
    "duration": 391,
    "start_time": "2023-06-08T13:19:18.026Z"
   },
   {
    "duration": 21,
    "start_time": "2023-06-08T13:19:18.419Z"
   },
   {
    "duration": 14,
    "start_time": "2023-06-08T13:19:18.442Z"
   },
   {
    "duration": 28,
    "start_time": "2023-06-08T13:19:18.457Z"
   },
   {
    "duration": 30,
    "start_time": "2023-06-08T13:19:18.487Z"
   },
   {
    "duration": 29,
    "start_time": "2023-06-08T13:19:18.519Z"
   },
   {
    "duration": 174,
    "start_time": "2023-06-08T13:19:18.550Z"
   },
   {
    "duration": 63,
    "start_time": "2023-06-08T13:19:18.725Z"
   },
   {
    "duration": 157,
    "start_time": "2023-06-08T13:19:18.790Z"
   },
   {
    "duration": 91,
    "start_time": "2023-06-08T13:19:18.950Z"
   },
   {
    "duration": 96,
    "start_time": "2023-06-08T13:19:19.042Z"
   },
   {
    "duration": 190,
    "start_time": "2023-06-08T13:19:19.140Z"
   },
   {
    "duration": 51,
    "start_time": "2023-06-08T13:19:19.332Z"
   },
   {
    "duration": 75,
    "start_time": "2023-06-08T13:19:19.386Z"
   },
   {
    "duration": 6,
    "start_time": "2023-06-08T13:19:19.462Z"
   },
   {
    "duration": 97,
    "start_time": "2023-06-08T13:19:19.469Z"
   },
   {
    "duration": 94,
    "start_time": "2023-06-08T13:19:19.568Z"
   },
   {
    "duration": 99,
    "start_time": "2023-06-08T13:19:19.664Z"
   },
   {
    "duration": 137,
    "start_time": "2023-06-08T13:19:19.765Z"
   },
   {
    "duration": 8,
    "start_time": "2023-06-08T13:36:07.034Z"
   },
   {
    "duration": 1106,
    "start_time": "2023-06-08T13:36:17.975Z"
   },
   {
    "duration": 4,
    "start_time": "2023-06-08T13:36:19.082Z"
   },
   {
    "duration": 151,
    "start_time": "2023-06-08T13:36:19.087Z"
   },
   {
    "duration": 82,
    "start_time": "2023-06-08T13:36:19.240Z"
   },
   {
    "duration": 18,
    "start_time": "2023-06-08T13:36:19.325Z"
   },
   {
    "duration": 2,
    "start_time": "2023-06-08T13:36:19.345Z"
   },
   {
    "duration": 116,
    "start_time": "2023-06-08T13:36:19.349Z"
   },
   {
    "duration": 73,
    "start_time": "2023-06-08T13:36:19.467Z"
   },
   {
    "duration": 37,
    "start_time": "2023-06-08T13:36:19.541Z"
   },
   {
    "duration": 38,
    "start_time": "2023-06-08T13:36:19.580Z"
   },
   {
    "duration": 3,
    "start_time": "2023-06-08T13:36:19.619Z"
   },
   {
    "duration": 31,
    "start_time": "2023-06-08T13:36:19.624Z"
   },
   {
    "duration": 988,
    "start_time": "2023-06-08T13:36:19.656Z"
   },
   {
    "duration": 21,
    "start_time": "2023-06-08T13:36:20.647Z"
   },
   {
    "duration": 416,
    "start_time": "2023-06-08T13:36:20.669Z"
   },
   {
    "duration": 16,
    "start_time": "2023-06-08T13:36:21.086Z"
   },
   {
    "duration": 18,
    "start_time": "2023-06-08T13:36:21.103Z"
   },
   {
    "duration": 30,
    "start_time": "2023-06-08T13:36:21.122Z"
   },
   {
    "duration": 8,
    "start_time": "2023-06-08T13:36:21.154Z"
   },
   {
    "duration": 29,
    "start_time": "2023-06-08T13:36:21.163Z"
   },
   {
    "duration": 189,
    "start_time": "2023-06-08T13:36:21.194Z"
   },
   {
    "duration": 68,
    "start_time": "2023-06-08T13:36:21.384Z"
   },
   {
    "duration": 154,
    "start_time": "2023-06-08T13:36:21.454Z"
   },
   {
    "duration": 57,
    "start_time": "2023-06-08T13:36:21.610Z"
   },
   {
    "duration": 50,
    "start_time": "2023-06-08T13:36:21.718Z"
   },
   {
    "duration": 222,
    "start_time": "2023-06-08T13:36:21.770Z"
   },
   {
    "duration": 60,
    "start_time": "2023-06-08T13:36:21.994Z"
   },
   {
    "duration": 72,
    "start_time": "2023-06-08T13:36:22.056Z"
   },
   {
    "duration": 8,
    "start_time": "2023-06-08T13:36:22.130Z"
   },
   {
    "duration": 93,
    "start_time": "2023-06-08T13:36:22.139Z"
   },
   {
    "duration": 93,
    "start_time": "2023-06-08T13:36:22.234Z"
   },
   {
    "duration": 91,
    "start_time": "2023-06-08T13:36:22.328Z"
   },
   {
    "duration": 136,
    "start_time": "2023-06-08T13:36:22.421Z"
   },
   {
    "duration": 1867,
    "start_time": "2023-08-26T15:21:12.695Z"
   },
   {
    "duration": 102,
    "start_time": "2023-08-26T15:22:30.447Z"
   },
   {
    "duration": 18,
    "start_time": "2023-08-26T15:22:38.971Z"
   },
   {
    "duration": 14,
    "start_time": "2023-08-26T15:22:44.286Z"
   },
   {
    "duration": 16,
    "start_time": "2023-08-26T15:23:17.300Z"
   },
   {
    "duration": 55,
    "start_time": "2023-08-26T15:23:27.812Z"
   },
   {
    "duration": 56,
    "start_time": "2023-08-26T15:23:32.617Z"
   },
   {
    "duration": 5,
    "start_time": "2023-08-26T15:32:51.929Z"
   },
   {
    "duration": 4,
    "start_time": "2023-08-26T15:32:58.449Z"
   },
   {
    "duration": 53,
    "start_time": "2023-08-26T15:33:06.453Z"
   },
   {
    "duration": 10,
    "start_time": "2023-08-26T15:33:06.508Z"
   },
   {
    "duration": 9,
    "start_time": "2023-08-26T15:33:07.838Z"
   },
   {
    "duration": 37,
    "start_time": "2023-08-26T15:33:09.106Z"
   },
   {
    "duration": 53,
    "start_time": "2023-08-26T15:34:18.842Z"
   },
   {
    "duration": 42,
    "start_time": "2023-08-26T15:34:44.665Z"
   },
   {
    "duration": 52,
    "start_time": "2023-08-26T15:35:02.297Z"
   },
   {
    "duration": 54,
    "start_time": "2023-08-26T15:35:15.077Z"
   },
   {
    "duration": 578,
    "start_time": "2023-08-26T15:35:39.477Z"
   },
   {
    "duration": 1114,
    "start_time": "2023-08-26T15:58:26.878Z"
   },
   {
    "duration": 3,
    "start_time": "2023-08-26T15:58:27.994Z"
   },
   {
    "duration": 69,
    "start_time": "2023-08-26T15:58:27.998Z"
   },
   {
    "duration": 54,
    "start_time": "2023-08-26T15:58:28.069Z"
   },
   {
    "duration": 525,
    "start_time": "2023-08-26T15:58:28.125Z"
   },
   {
    "duration": 3,
    "start_time": "2023-08-26T15:58:55.519Z"
   },
   {
    "duration": 1180,
    "start_time": "2023-08-26T15:59:37.343Z"
   },
   {
    "duration": 2,
    "start_time": "2023-08-26T15:59:38.525Z"
   },
   {
    "duration": 68,
    "start_time": "2023-08-26T15:59:38.529Z"
   },
   {
    "duration": 53,
    "start_time": "2023-08-26T15:59:38.598Z"
   },
   {
    "duration": 511,
    "start_time": "2023-08-26T15:59:38.653Z"
   },
   {
    "duration": 48,
    "start_time": "2023-08-28T12:17:25.145Z"
   },
   {
    "duration": 1417,
    "start_time": "2023-08-28T12:17:32.956Z"
   },
   {
    "duration": 3,
    "start_time": "2023-08-28T12:17:34.376Z"
   },
   {
    "duration": 83,
    "start_time": "2023-08-28T12:17:34.381Z"
   },
   {
    "duration": 62,
    "start_time": "2023-08-28T12:17:34.467Z"
   },
   {
    "duration": 590,
    "start_time": "2023-08-28T12:17:34.531Z"
   },
   {
    "duration": 6,
    "start_time": "2023-08-28T12:17:35.123Z"
   },
   {
    "duration": 4,
    "start_time": "2023-08-28T12:18:25.375Z"
   },
   {
    "duration": 5,
    "start_time": "2023-08-28T12:18:34.502Z"
   },
   {
    "duration": 6,
    "start_time": "2023-08-28T12:18:53.897Z"
   },
   {
    "duration": 4,
    "start_time": "2023-08-28T12:19:02.628Z"
   },
   {
    "duration": 5,
    "start_time": "2023-08-28T12:20:56.324Z"
   },
   {
    "duration": 5,
    "start_time": "2023-08-28T12:20:58.084Z"
   },
   {
    "duration": 6,
    "start_time": "2023-08-28T12:21:02.345Z"
   },
   {
    "duration": 7,
    "start_time": "2023-08-28T12:21:58.799Z"
   },
   {
    "duration": 6,
    "start_time": "2023-08-28T12:22:08.323Z"
   },
   {
    "duration": 5,
    "start_time": "2023-08-28T12:22:15.260Z"
   },
   {
    "duration": 5,
    "start_time": "2023-08-28T12:22:33.119Z"
   },
   {
    "duration": 5,
    "start_time": "2023-08-28T12:22:52.347Z"
   },
   {
    "duration": 6,
    "start_time": "2023-08-28T12:22:58.937Z"
   },
   {
    "duration": 5,
    "start_time": "2023-08-28T12:24:25.110Z"
   },
   {
    "duration": 9,
    "start_time": "2023-08-28T12:32:05.547Z"
   },
   {
    "duration": 66,
    "start_time": "2023-08-28T12:36:17.241Z"
   },
   {
    "duration": 11,
    "start_time": "2023-08-28T12:39:13.213Z"
   },
   {
    "duration": 13,
    "start_time": "2023-08-28T12:42:03.949Z"
   },
   {
    "duration": 35,
    "start_time": "2023-08-28T12:57:56.912Z"
   },
   {
    "duration": 44,
    "start_time": "2023-08-28T12:58:54.340Z"
   },
   {
    "duration": 100,
    "start_time": "2023-08-28T13:06:06.639Z"
   },
   {
    "duration": 7,
    "start_time": "2023-08-28T13:07:02.763Z"
   },
   {
    "duration": 19,
    "start_time": "2023-08-28T13:07:24.978Z"
   },
   {
    "duration": 19,
    "start_time": "2023-08-28T13:07:52.958Z"
   },
   {
    "duration": 11,
    "start_time": "2023-08-28T13:08:18.837Z"
   },
   {
    "duration": 7,
    "start_time": "2023-08-28T13:08:26.403Z"
   },
   {
    "duration": 9,
    "start_time": "2023-08-28T13:08:55.990Z"
   },
   {
    "duration": 10,
    "start_time": "2023-08-28T13:09:04.600Z"
   },
   {
    "duration": 14,
    "start_time": "2023-08-28T13:09:15.892Z"
   },
   {
    "duration": 6,
    "start_time": "2023-08-28T13:11:04.144Z"
   },
   {
    "duration": 13,
    "start_time": "2023-08-28T13:11:21.067Z"
   },
   {
    "duration": 5,
    "start_time": "2023-08-28T13:31:33.725Z"
   },
   {
    "duration": 5,
    "start_time": "2023-08-28T13:32:50.819Z"
   },
   {
    "duration": 6,
    "start_time": "2023-08-28T13:33:00.124Z"
   },
   {
    "duration": 6,
    "start_time": "2023-08-28T13:46:50.026Z"
   },
   {
    "duration": 28,
    "start_time": "2023-08-28T13:47:36.997Z"
   },
   {
    "duration": 7,
    "start_time": "2023-08-28T13:48:45.089Z"
   },
   {
    "duration": 6,
    "start_time": "2023-08-28T13:48:54.662Z"
   },
   {
    "duration": 20,
    "start_time": "2023-08-28T13:49:15.666Z"
   },
   {
    "duration": 6,
    "start_time": "2023-08-28T13:49:47.530Z"
   },
   {
    "duration": 12,
    "start_time": "2023-08-28T13:50:05.079Z"
   },
   {
    "duration": 13,
    "start_time": "2023-08-28T13:50:37.086Z"
   },
   {
    "duration": 11,
    "start_time": "2023-08-28T13:50:42.912Z"
   },
   {
    "duration": 12,
    "start_time": "2023-08-28T13:50:50.174Z"
   },
   {
    "duration": 10,
    "start_time": "2023-08-28T13:50:59.980Z"
   },
   {
    "duration": 11,
    "start_time": "2023-08-28T13:51:04.678Z"
   },
   {
    "duration": 12,
    "start_time": "2023-08-28T13:51:10.496Z"
   },
   {
    "duration": 11,
    "start_time": "2023-08-28T13:51:18.173Z"
   },
   {
    "duration": 12,
    "start_time": "2023-08-28T13:51:49.449Z"
   },
   {
    "duration": 20,
    "start_time": "2023-08-28T13:53:02.961Z"
   },
   {
    "duration": 6,
    "start_time": "2023-08-28T13:53:28.471Z"
   },
   {
    "duration": 6,
    "start_time": "2023-08-28T13:54:07.733Z"
   },
   {
    "duration": 9,
    "start_time": "2023-08-28T14:09:42.786Z"
   },
   {
    "duration": 6,
    "start_time": "2023-08-28T14:09:48.127Z"
   },
   {
    "duration": 5,
    "start_time": "2023-08-28T14:09:57.824Z"
   },
   {
    "duration": 12,
    "start_time": "2023-08-28T14:17:39.023Z"
   },
   {
    "duration": 34,
    "start_time": "2023-08-28T14:17:47.828Z"
   },
   {
    "duration": 5,
    "start_time": "2023-08-28T14:20:11.985Z"
   },
   {
    "duration": 3,
    "start_time": "2023-08-28T14:20:42.090Z"
   },
   {
    "duration": 18,
    "start_time": "2023-08-28T14:20:45.894Z"
   },
   {
    "duration": 6,
    "start_time": "2023-08-28T14:21:12.683Z"
   },
   {
    "duration": 11,
    "start_time": "2023-08-28T14:21:29.179Z"
   },
   {
    "duration": 6,
    "start_time": "2023-08-28T14:21:39.749Z"
   },
   {
    "duration": 8,
    "start_time": "2023-08-28T14:22:20.006Z"
   },
   {
    "duration": 127,
    "start_time": "2023-08-28T14:22:43.569Z"
   },
   {
    "duration": 44,
    "start_time": "2023-08-28T17:26:38.546Z"
   },
   {
    "duration": 1444,
    "start_time": "2023-08-28T17:30:43.810Z"
   },
   {
    "duration": 2,
    "start_time": "2023-08-28T17:30:45.256Z"
   },
   {
    "duration": 87,
    "start_time": "2023-08-28T17:30:45.260Z"
   },
   {
    "duration": 61,
    "start_time": "2023-08-28T17:30:45.349Z"
   },
   {
    "duration": 547,
    "start_time": "2023-08-28T17:30:45.412Z"
   },
   {
    "duration": 10,
    "start_time": "2023-08-28T17:30:45.961Z"
   },
   {
    "duration": 8,
    "start_time": "2023-08-28T17:30:45.973Z"
   },
   {
    "duration": 4,
    "start_time": "2023-08-28T17:30:45.982Z"
   },
   {
    "duration": 57,
    "start_time": "2023-08-28T17:30:45.988Z"
   },
   {
    "duration": 9,
    "start_time": "2023-08-28T17:30:46.046Z"
   },
   {
    "duration": 14,
    "start_time": "2023-08-28T17:30:46.057Z"
   },
   {
    "duration": 21,
    "start_time": "2023-08-28T17:30:46.073Z"
   },
   {
    "duration": 29,
    "start_time": "2023-08-28T17:30:46.096Z"
   },
   {
    "duration": 21,
    "start_time": "2023-08-28T17:30:46.127Z"
   },
   {
    "duration": 22,
    "start_time": "2023-08-28T17:30:46.150Z"
   },
   {
    "duration": 4,
    "start_time": "2023-08-28T17:30:46.174Z"
   },
   {
    "duration": 8,
    "start_time": "2023-08-28T17:30:46.179Z"
   },
   {
    "duration": 7,
    "start_time": "2023-08-28T17:30:46.189Z"
   },
   {
    "duration": 15,
    "start_time": "2023-08-28T17:30:46.198Z"
   },
   {
    "duration": 41,
    "start_time": "2023-08-28T17:30:46.214Z"
   },
   {
    "duration": 5,
    "start_time": "2023-08-28T17:30:46.256Z"
   },
   {
    "duration": 7,
    "start_time": "2023-08-28T17:30:46.262Z"
   },
   {
    "duration": 8,
    "start_time": "2023-08-28T17:30:46.270Z"
   },
   {
    "duration": 143,
    "start_time": "2023-08-28T17:30:46.280Z"
   },
   {
    "duration": 944,
    "start_time": "2023-08-28T17:30:46.425Z"
   },
   {
    "duration": 6,
    "start_time": "2023-08-28T17:31:55.151Z"
   },
   {
    "duration": 11,
    "start_time": "2023-08-28T17:32:02.336Z"
   },
   {
    "duration": 833,
    "start_time": "2023-08-28T17:34:56.915Z"
   },
   {
    "duration": 904,
    "start_time": "2023-08-28T17:46:00.710Z"
   },
   {
    "duration": 108,
    "start_time": "2023-08-28T17:50:32.027Z"
   },
   {
    "duration": 12,
    "start_time": "2023-08-28T17:51:32.492Z"
   },
   {
    "duration": 133,
    "start_time": "2023-08-28T17:54:54.016Z"
   },
   {
    "duration": 592,
    "start_time": "2023-08-28T17:55:08.802Z"
   },
   {
    "duration": 25,
    "start_time": "2023-08-28T18:01:22.804Z"
   },
   {
    "duration": 83,
    "start_time": "2023-08-28T18:02:02.648Z"
   },
   {
    "duration": 624,
    "start_time": "2023-08-28T18:02:13.040Z"
   },
   {
    "duration": 9,
    "start_time": "2023-08-28T18:04:54.753Z"
   },
   {
    "duration": 16,
    "start_time": "2023-08-28T18:07:41.971Z"
   },
   {
    "duration": 22,
    "start_time": "2023-08-28T18:07:48.868Z"
   },
   {
    "duration": 34,
    "start_time": "2023-08-28T18:08:53.445Z"
   },
   {
    "duration": 21,
    "start_time": "2023-08-28T18:10:36.602Z"
   },
   {
    "duration": 113,
    "start_time": "2023-08-28T18:14:27.683Z"
   },
   {
    "duration": 711,
    "start_time": "2023-08-28T18:14:36.133Z"
   },
   {
    "duration": 896,
    "start_time": "2023-08-28T18:15:23.551Z"
   },
   {
    "duration": 11,
    "start_time": "2023-08-28T18:16:55.404Z"
   },
   {
    "duration": 650,
    "start_time": "2023-08-28T18:17:10.586Z"
   },
   {
    "duration": 19,
    "start_time": "2023-08-28T18:22:14.064Z"
   },
   {
    "duration": 1221,
    "start_time": "2023-08-28T18:22:29.932Z"
   },
   {
    "duration": 1203,
    "start_time": "2023-08-28T18:24:19.834Z"
   },
   {
    "duration": 19,
    "start_time": "2023-08-28T18:24:56.904Z"
   },
   {
    "duration": 14,
    "start_time": "2023-08-28T18:25:26.602Z"
   },
   {
    "duration": 19,
    "start_time": "2023-08-28T18:26:19.231Z"
   },
   {
    "duration": 1225,
    "start_time": "2023-08-28T18:28:58.884Z"
   },
   {
    "duration": 3,
    "start_time": "2023-08-28T18:29:00.111Z"
   },
   {
    "duration": 117,
    "start_time": "2023-08-28T18:29:00.115Z"
   },
   {
    "duration": 58,
    "start_time": "2023-08-28T18:29:00.234Z"
   },
   {
    "duration": 584,
    "start_time": "2023-08-28T18:29:00.295Z"
   },
   {
    "duration": 11,
    "start_time": "2023-08-28T18:29:00.881Z"
   },
   {
    "duration": 27,
    "start_time": "2023-08-28T18:29:00.894Z"
   },
   {
    "duration": 69,
    "start_time": "2023-08-28T18:29:00.923Z"
   },
   {
    "duration": 55,
    "start_time": "2023-08-28T18:29:00.993Z"
   },
   {
    "duration": 10,
    "start_time": "2023-08-28T18:29:01.049Z"
   },
   {
    "duration": 32,
    "start_time": "2023-08-28T18:29:01.060Z"
   },
   {
    "duration": 28,
    "start_time": "2023-08-28T18:29:01.093Z"
   },
   {
    "duration": 34,
    "start_time": "2023-08-28T18:29:01.123Z"
   },
   {
    "duration": 44,
    "start_time": "2023-08-28T18:29:01.160Z"
   },
   {
    "duration": 40,
    "start_time": "2023-08-28T18:29:01.206Z"
   },
   {
    "duration": 14,
    "start_time": "2023-08-28T18:29:01.248Z"
   },
   {
    "duration": 17,
    "start_time": "2023-08-28T18:29:01.264Z"
   },
   {
    "duration": 34,
    "start_time": "2023-08-28T18:29:01.283Z"
   },
   {
    "duration": 75,
    "start_time": "2023-08-28T18:29:01.319Z"
   },
   {
    "duration": 42,
    "start_time": "2023-08-28T18:29:01.396Z"
   },
   {
    "duration": 32,
    "start_time": "2023-08-28T18:29:01.440Z"
   },
   {
    "duration": 69,
    "start_time": "2023-08-28T18:29:01.474Z"
   },
   {
    "duration": 415,
    "start_time": "2023-08-28T18:29:01.545Z"
   },
   {
    "duration": 1567,
    "start_time": "2023-08-28T18:29:01.962Z"
   },
   {
    "duration": 13,
    "start_time": "2023-08-28T18:29:03.531Z"
   },
   {
    "duration": 923,
    "start_time": "2023-08-28T18:29:03.546Z"
   },
   {
    "duration": 1348,
    "start_time": "2023-08-28T18:30:08.294Z"
   },
   {
    "duration": 5,
    "start_time": "2023-08-28T18:30:09.644Z"
   },
   {
    "duration": 107,
    "start_time": "2023-08-28T18:30:09.651Z"
   },
   {
    "duration": 95,
    "start_time": "2023-08-28T18:30:09.760Z"
   },
   {
    "duration": 544,
    "start_time": "2023-08-28T18:30:09.858Z"
   },
   {
    "duration": 13,
    "start_time": "2023-08-28T18:30:10.404Z"
   },
   {
    "duration": 24,
    "start_time": "2023-08-28T18:30:10.418Z"
   },
   {
    "duration": 11,
    "start_time": "2023-08-28T18:30:10.444Z"
   },
   {
    "duration": 66,
    "start_time": "2023-08-28T18:30:10.457Z"
   },
   {
    "duration": 12,
    "start_time": "2023-08-28T18:30:10.526Z"
   },
   {
    "duration": 25,
    "start_time": "2023-08-28T18:30:10.540Z"
   },
   {
    "duration": 6,
    "start_time": "2023-08-28T18:30:10.566Z"
   },
   {
    "duration": 10,
    "start_time": "2023-08-28T18:30:10.574Z"
   },
   {
    "duration": 14,
    "start_time": "2023-08-28T18:30:10.588Z"
   },
   {
    "duration": 49,
    "start_time": "2023-08-28T18:30:10.605Z"
   },
   {
    "duration": 9,
    "start_time": "2023-08-28T18:30:10.657Z"
   },
   {
    "duration": 21,
    "start_time": "2023-08-28T18:30:10.668Z"
   },
   {
    "duration": 27,
    "start_time": "2023-08-28T18:30:10.691Z"
   },
   {
    "duration": 50,
    "start_time": "2023-08-28T18:30:10.720Z"
   },
   {
    "duration": 7,
    "start_time": "2023-08-28T18:30:10.771Z"
   },
   {
    "duration": 23,
    "start_time": "2023-08-28T18:30:10.780Z"
   },
   {
    "duration": 23,
    "start_time": "2023-08-28T18:30:10.805Z"
   },
   {
    "duration": 163,
    "start_time": "2023-08-28T18:30:10.830Z"
   },
   {
    "duration": 944,
    "start_time": "2023-08-28T18:30:10.994Z"
   },
   {
    "duration": 15,
    "start_time": "2023-08-28T18:30:11.940Z"
   },
   {
    "duration": 1035,
    "start_time": "2023-08-28T18:30:11.957Z"
   },
   {
    "duration": 1423,
    "start_time": "2023-08-28T18:30:12.994Z"
   },
   {
    "duration": 10,
    "start_time": "2023-08-28T18:38:41.495Z"
   },
   {
    "duration": 925,
    "start_time": "2023-08-28T18:41:18.683Z"
   },
   {
    "duration": 118,
    "start_time": "2023-08-28T18:42:43.058Z"
   },
   {
    "duration": 2535,
    "start_time": "2023-08-28T18:43:15.464Z"
   },
   {
    "duration": 1043,
    "start_time": "2023-08-28T18:44:13.483Z"
   },
   {
    "duration": 16,
    "start_time": "2023-08-28T18:52:55.357Z"
   },
   {
    "duration": 14,
    "start_time": "2023-08-28T18:53:05.424Z"
   },
   {
    "duration": 14,
    "start_time": "2023-08-28T18:53:19.560Z"
   },
   {
    "duration": 16,
    "start_time": "2023-08-28T18:53:28.077Z"
   },
   {
    "duration": 919,
    "start_time": "2023-08-28T18:53:38.986Z"
   },
   {
    "duration": 12,
    "start_time": "2023-08-28T18:55:37.881Z"
   },
   {
    "duration": 12,
    "start_time": "2023-08-28T18:56:00.746Z"
   },
   {
    "duration": 30,
    "start_time": "2023-08-28T18:56:17.503Z"
   },
   {
    "duration": 1645,
    "start_time": "2023-08-28T18:59:18.432Z"
   },
   {
    "duration": 1032,
    "start_time": "2023-08-28T19:00:11.755Z"
   },
   {
    "duration": 12,
    "start_time": "2023-08-28T19:01:44.076Z"
   },
   {
    "duration": 32,
    "start_time": "2023-08-28T19:03:46.132Z"
   },
   {
    "duration": 366,
    "start_time": "2023-08-28T19:07:05.402Z"
   },
   {
    "duration": 376,
    "start_time": "2023-08-28T19:07:18.071Z"
   },
   {
    "duration": 41,
    "start_time": "2023-08-28T19:07:20.023Z"
   },
   {
    "duration": 31,
    "start_time": "2023-08-28T19:08:04.754Z"
   },
   {
    "duration": 17,
    "start_time": "2023-08-28T19:08:30.080Z"
   },
   {
    "duration": 18,
    "start_time": "2023-08-28T19:08:51.930Z"
   },
   {
    "duration": 18,
    "start_time": "2023-08-28T19:08:53.863Z"
   },
   {
    "duration": 381,
    "start_time": "2023-08-28T19:08:55.099Z"
   },
   {
    "duration": 1430,
    "start_time": "2023-08-28T19:09:00.355Z"
   },
   {
    "duration": 377,
    "start_time": "2023-08-28T19:09:07.614Z"
   },
   {
    "duration": 547,
    "start_time": "2023-08-28T19:09:24.591Z"
   },
   {
    "duration": 21,
    "start_time": "2023-08-28T19:09:41.550Z"
   },
   {
    "duration": 23,
    "start_time": "2023-08-28T19:09:42.615Z"
   },
   {
    "duration": 11501,
    "start_time": "2023-08-28T19:09:43.278Z"
   },
   {
    "duration": 25,
    "start_time": "2023-08-28T19:10:43.659Z"
   },
   {
    "duration": 29,
    "start_time": "2023-08-28T19:10:44.725Z"
   },
   {
    "duration": 403,
    "start_time": "2023-08-28T19:10:45.086Z"
   },
   {
    "duration": 31,
    "start_time": "2023-08-28T19:11:37.371Z"
   },
   {
    "duration": 16,
    "start_time": "2023-08-28T19:12:07.289Z"
   },
   {
    "duration": 276,
    "start_time": "2023-08-28T19:12:20.747Z"
   },
   {
    "duration": 22,
    "start_time": "2023-08-28T19:12:39.458Z"
   },
   {
    "duration": 2052,
    "start_time": "2023-08-28T19:12:40.765Z"
   },
   {
    "duration": 6798,
    "start_time": "2023-08-28T19:13:21.584Z"
   },
   {
    "duration": 53,
    "start_time": "2023-08-29T07:50:00.537Z"
   },
   {
    "duration": 1520,
    "start_time": "2023-08-29T07:50:45.645Z"
   },
   {
    "duration": 3,
    "start_time": "2023-08-29T07:50:47.168Z"
   },
   {
    "duration": 110,
    "start_time": "2023-08-29T07:50:47.172Z"
   },
   {
    "duration": 66,
    "start_time": "2023-08-29T07:50:47.284Z"
   },
   {
    "duration": 620,
    "start_time": "2023-08-29T07:50:47.353Z"
   },
   {
    "duration": 12,
    "start_time": "2023-08-29T07:50:47.974Z"
   },
   {
    "duration": 10,
    "start_time": "2023-08-29T07:50:47.988Z"
   },
   {
    "duration": 6,
    "start_time": "2023-08-29T07:50:48.000Z"
   },
   {
    "duration": 57,
    "start_time": "2023-08-29T07:50:48.008Z"
   },
   {
    "duration": 6,
    "start_time": "2023-08-29T07:50:48.067Z"
   },
   {
    "duration": 17,
    "start_time": "2023-08-29T07:50:48.075Z"
   },
   {
    "duration": 10,
    "start_time": "2023-08-29T07:50:48.094Z"
   },
   {
    "duration": 13,
    "start_time": "2023-08-29T07:50:48.106Z"
   },
   {
    "duration": 25,
    "start_time": "2023-08-29T07:50:48.121Z"
   },
   {
    "duration": 18,
    "start_time": "2023-08-29T07:50:48.148Z"
   },
   {
    "duration": 6,
    "start_time": "2023-08-29T07:50:48.168Z"
   },
   {
    "duration": 9,
    "start_time": "2023-08-29T07:50:48.175Z"
   },
   {
    "duration": 13,
    "start_time": "2023-08-29T07:50:48.185Z"
   },
   {
    "duration": 62,
    "start_time": "2023-08-29T07:50:48.200Z"
   },
   {
    "duration": 5,
    "start_time": "2023-08-29T07:50:48.264Z"
   },
   {
    "duration": 16,
    "start_time": "2023-08-29T07:50:48.270Z"
   },
   {
    "duration": 20,
    "start_time": "2023-08-29T07:50:48.288Z"
   },
   {
    "duration": 155,
    "start_time": "2023-08-29T07:50:48.310Z"
   },
   {
    "duration": 1030,
    "start_time": "2023-08-29T07:50:48.467Z"
   },
   {
    "duration": 12,
    "start_time": "2023-08-29T07:50:49.499Z"
   },
   {
    "duration": 1168,
    "start_time": "2023-08-29T07:50:49.513Z"
   },
   {
    "duration": 23,
    "start_time": "2023-08-29T07:50:50.683Z"
   },
   {
    "duration": 335,
    "start_time": "2023-08-29T07:50:50.707Z"
   },
   {
    "duration": 409,
    "start_time": "2023-08-29T07:50:51.044Z"
   },
   {
    "duration": 103,
    "start_time": "2023-08-29T07:53:41.373Z"
   },
   {
    "duration": 88,
    "start_time": "2023-08-29T07:53:59.715Z"
   },
   {
    "duration": 2134,
    "start_time": "2023-08-29T07:54:15.023Z"
   },
   {
    "duration": 2013,
    "start_time": "2023-08-29T07:55:53.004Z"
   },
   {
    "duration": 1398,
    "start_time": "2023-08-29T07:56:05.761Z"
   },
   {
    "duration": 498,
    "start_time": "2023-08-29T07:56:44.994Z"
   },
   {
    "duration": 17,
    "start_time": "2023-08-29T07:57:55.762Z"
   },
   {
    "duration": 562,
    "start_time": "2023-08-29T07:58:11.108Z"
   },
   {
    "duration": 437,
    "start_time": "2023-08-29T07:58:24.501Z"
   },
   {
    "duration": 440,
    "start_time": "2023-08-29T07:59:53.201Z"
   },
   {
    "duration": 13,
    "start_time": "2023-08-29T08:04:00.375Z"
   },
   {
    "duration": 11,
    "start_time": "2023-08-29T08:04:10.149Z"
   },
   {
    "duration": 7,
    "start_time": "2023-08-29T08:04:38.830Z"
   },
   {
    "duration": 354,
    "start_time": "2023-08-29T08:04:41.394Z"
   },
   {
    "duration": 177,
    "start_time": "2023-08-29T08:05:08.841Z"
   },
   {
    "duration": 183,
    "start_time": "2023-08-29T08:05:22.444Z"
   },
   {
    "duration": 17,
    "start_time": "2023-08-29T08:07:11.100Z"
   },
   {
    "duration": 487,
    "start_time": "2023-08-29T08:07:20.362Z"
   },
   {
    "duration": 529,
    "start_time": "2023-08-29T08:08:04.314Z"
   },
   {
    "duration": 462,
    "start_time": "2023-08-29T08:08:10.565Z"
   },
   {
    "duration": 439,
    "start_time": "2023-08-29T08:09:15.916Z"
   },
   {
    "duration": 197,
    "start_time": "2023-08-29T08:11:33.632Z"
   },
   {
    "duration": 448,
    "start_time": "2023-08-29T08:13:04.456Z"
   },
   {
    "duration": 199,
    "start_time": "2023-08-29T08:13:44.990Z"
   },
   {
    "duration": 1809,
    "start_time": "2023-08-29T08:13:58.855Z"
   },
   {
    "duration": 2208,
    "start_time": "2023-08-29T08:14:11.566Z"
   },
   {
    "duration": 218,
    "start_time": "2023-08-29T08:14:33.656Z"
   },
   {
    "duration": 204,
    "start_time": "2023-08-29T08:14:58.245Z"
   },
   {
    "duration": 207,
    "start_time": "2023-08-29T08:15:12.999Z"
   },
   {
    "duration": 231,
    "start_time": "2023-08-29T08:16:07.711Z"
   },
   {
    "duration": 236,
    "start_time": "2023-08-29T08:16:44.346Z"
   },
   {
    "duration": 154,
    "start_time": "2023-08-29T08:17:21.514Z"
   },
   {
    "duration": 153,
    "start_time": "2023-08-29T08:17:44.622Z"
   },
   {
    "duration": 443,
    "start_time": "2023-08-29T08:20:27.755Z"
   },
   {
    "duration": 20,
    "start_time": "2023-08-29T08:21:28.475Z"
   },
   {
    "duration": 503,
    "start_time": "2023-08-29T08:21:30.429Z"
   },
   {
    "duration": 384,
    "start_time": "2023-08-29T08:21:41.273Z"
   },
   {
    "duration": 106,
    "start_time": "2023-08-29T08:24:07.797Z"
   },
   {
    "duration": 444,
    "start_time": "2023-08-29T08:24:14.705Z"
   },
   {
    "duration": 405,
    "start_time": "2023-08-29T08:24:42.730Z"
   },
   {
    "duration": 406,
    "start_time": "2023-08-29T08:24:52.354Z"
   },
   {
    "duration": 17,
    "start_time": "2023-08-29T08:32:02.070Z"
   },
   {
    "duration": 458,
    "start_time": "2023-08-29T08:32:02.649Z"
   },
   {
    "duration": 19,
    "start_time": "2023-08-29T08:32:11.342Z"
   },
   {
    "duration": 513,
    "start_time": "2023-08-29T08:32:11.767Z"
   },
   {
    "duration": 12,
    "start_time": "2023-08-29T08:32:32.822Z"
   },
   {
    "duration": 121,
    "start_time": "2023-08-29T08:36:32.207Z"
   },
   {
    "duration": 24,
    "start_time": "2023-08-29T08:38:27.442Z"
   },
   {
    "duration": 1539,
    "start_time": "2023-08-29T08:38:58.297Z"
   },
   {
    "duration": 25,
    "start_time": "2023-08-29T08:39:12.359Z"
   },
   {
    "duration": 2064,
    "start_time": "2023-08-29T08:39:47.616Z"
   },
   {
    "duration": 17,
    "start_time": "2023-08-29T08:43:23.772Z"
   },
   {
    "duration": 5,
    "start_time": "2023-08-29T08:44:52.095Z"
   },
   {
    "duration": 14,
    "start_time": "2023-08-29T08:44:55.832Z"
   },
   {
    "duration": 4,
    "start_time": "2023-08-29T08:46:38.017Z"
   },
   {
    "duration": 13,
    "start_time": "2023-08-29T08:46:38.813Z"
   },
   {
    "duration": 13,
    "start_time": "2023-08-29T08:47:01.706Z"
   },
   {
    "duration": 15,
    "start_time": "2023-08-29T08:49:57.404Z"
   },
   {
    "duration": 7,
    "start_time": "2023-08-29T08:50:10.837Z"
   },
   {
    "duration": 6,
    "start_time": "2023-08-29T08:50:12.045Z"
   },
   {
    "duration": 14,
    "start_time": "2023-08-29T08:50:21.813Z"
   },
   {
    "duration": 1332,
    "start_time": "2023-08-29T08:50:46.647Z"
   },
   {
    "duration": 4,
    "start_time": "2023-08-29T08:50:47.981Z"
   },
   {
    "duration": 87,
    "start_time": "2023-08-29T08:50:47.987Z"
   },
   {
    "duration": 84,
    "start_time": "2023-08-29T08:50:48.077Z"
   },
   {
    "duration": 646,
    "start_time": "2023-08-29T08:50:48.163Z"
   },
   {
    "duration": 16,
    "start_time": "2023-08-29T08:50:48.811Z"
   },
   {
    "duration": 20,
    "start_time": "2023-08-29T08:50:48.828Z"
   },
   {
    "duration": 9,
    "start_time": "2023-08-29T08:50:48.849Z"
   },
   {
    "duration": 55,
    "start_time": "2023-08-29T08:50:48.859Z"
   },
   {
    "duration": 116,
    "start_time": "2023-08-29T08:50:54.841Z"
   },
   {
    "duration": 5,
    "start_time": "2023-08-29T08:51:38.440Z"
   },
   {
    "duration": 14,
    "start_time": "2023-08-29T08:51:39.762Z"
   },
   {
    "duration": 6,
    "start_time": "2023-08-29T08:53:09.755Z"
   },
   {
    "duration": 5,
    "start_time": "2023-08-29T08:53:29.668Z"
   },
   {
    "duration": 6,
    "start_time": "2023-08-29T08:53:48.427Z"
   },
   {
    "duration": 4,
    "start_time": "2023-08-29T08:54:08.376Z"
   },
   {
    "duration": 18,
    "start_time": "2023-08-29T08:54:08.382Z"
   },
   {
    "duration": 79,
    "start_time": "2023-08-29T08:54:08.401Z"
   },
   {
    "duration": 60,
    "start_time": "2023-08-29T08:54:08.482Z"
   },
   {
    "duration": 571,
    "start_time": "2023-08-29T08:54:08.544Z"
   },
   {
    "duration": 12,
    "start_time": "2023-08-29T08:54:09.116Z"
   },
   {
    "duration": 19,
    "start_time": "2023-08-29T08:54:09.129Z"
   },
   {
    "duration": 5,
    "start_time": "2023-08-29T08:54:09.150Z"
   },
   {
    "duration": 7,
    "start_time": "2023-08-29T08:54:09.157Z"
   },
   {
    "duration": 18,
    "start_time": "2023-08-29T08:54:09.166Z"
   },
   {
    "duration": 7,
    "start_time": "2023-08-29T08:54:09.185Z"
   },
   {
    "duration": 57,
    "start_time": "2023-08-29T08:54:09.194Z"
   },
   {
    "duration": 5,
    "start_time": "2023-08-29T08:54:09.253Z"
   },
   {
    "duration": 16,
    "start_time": "2023-08-29T08:54:09.261Z"
   },
   {
    "duration": 4,
    "start_time": "2023-08-29T08:54:09.279Z"
   },
   {
    "duration": 14,
    "start_time": "2023-08-29T08:54:09.285Z"
   },
   {
    "duration": 12,
    "start_time": "2023-08-29T08:54:09.301Z"
   },
   {
    "duration": 38,
    "start_time": "2023-08-29T08:54:09.315Z"
   },
   {
    "duration": 16,
    "start_time": "2023-08-29T08:54:09.355Z"
   },
   {
    "duration": 8,
    "start_time": "2023-08-29T08:54:09.372Z"
   },
   {
    "duration": 8,
    "start_time": "2023-08-29T08:54:09.382Z"
   },
   {
    "duration": 54,
    "start_time": "2023-08-29T08:54:09.392Z"
   },
   {
    "duration": 5,
    "start_time": "2023-08-29T08:54:09.449Z"
   },
   {
    "duration": 7,
    "start_time": "2023-08-29T08:54:09.456Z"
   },
   {
    "duration": 15,
    "start_time": "2023-08-29T08:54:09.464Z"
   },
   {
    "duration": 168,
    "start_time": "2023-08-29T08:54:09.481Z"
   },
   {
    "duration": 995,
    "start_time": "2023-08-29T08:54:09.651Z"
   },
   {
    "duration": 13,
    "start_time": "2023-08-29T08:54:10.647Z"
   },
   {
    "duration": 1182,
    "start_time": "2023-08-29T08:54:10.662Z"
   },
   {
    "duration": 12,
    "start_time": "2023-08-29T08:54:11.845Z"
   },
   {
    "duration": 18,
    "start_time": "2023-08-29T08:54:11.859Z"
   },
   {
    "duration": 440,
    "start_time": "2023-08-29T08:54:11.878Z"
   },
   {
    "duration": 30,
    "start_time": "2023-08-29T08:54:12.320Z"
   },
   {
    "duration": 2077,
    "start_time": "2023-08-29T08:54:20.329Z"
   },
   {
    "duration": 14,
    "start_time": "2023-08-29T08:54:29.072Z"
   },
   {
    "duration": 13,
    "start_time": "2023-08-29T08:55:28.100Z"
   },
   {
    "duration": 1343,
    "start_time": "2023-08-29T08:55:52.439Z"
   },
   {
    "duration": 4,
    "start_time": "2023-08-29T08:55:53.784Z"
   },
   {
    "duration": 70,
    "start_time": "2023-08-29T08:55:53.791Z"
   },
   {
    "duration": 70,
    "start_time": "2023-08-29T08:55:53.863Z"
   },
   {
    "duration": 565,
    "start_time": "2023-08-29T08:55:53.948Z"
   },
   {
    "duration": 12,
    "start_time": "2023-08-29T08:55:54.515Z"
   },
   {
    "duration": 22,
    "start_time": "2023-08-29T08:55:54.529Z"
   },
   {
    "duration": 20,
    "start_time": "2023-08-29T08:55:54.553Z"
   },
   {
    "duration": 11,
    "start_time": "2023-08-29T08:55:54.575Z"
   },
   {
    "duration": 8,
    "start_time": "2023-08-29T08:55:54.587Z"
   },
   {
    "duration": 5,
    "start_time": "2023-08-29T08:56:00.437Z"
   },
   {
    "duration": 7,
    "start_time": "2023-08-29T08:56:01.915Z"
   },
   {
    "duration": 12,
    "start_time": "2023-08-29T08:56:14.274Z"
   },
   {
    "duration": 5,
    "start_time": "2023-08-29T08:56:39.083Z"
   },
   {
    "duration": 7,
    "start_time": "2023-08-29T08:57:23.115Z"
   },
   {
    "duration": 5,
    "start_time": "2023-08-29T08:57:24.334Z"
   },
   {
    "duration": 6,
    "start_time": "2023-08-29T08:57:44.548Z"
   },
   {
    "duration": 4,
    "start_time": "2023-08-29T08:57:51.573Z"
   },
   {
    "duration": 5,
    "start_time": "2023-08-29T08:58:55.325Z"
   },
   {
    "duration": 13,
    "start_time": "2023-08-29T08:59:03.110Z"
   },
   {
    "duration": 4,
    "start_time": "2023-08-29T08:59:09.746Z"
   },
   {
    "duration": 12,
    "start_time": "2023-08-29T08:59:11.356Z"
   },
   {
    "duration": 3,
    "start_time": "2023-08-29T08:59:27.052Z"
   },
   {
    "duration": 14,
    "start_time": "2023-08-29T08:59:27.057Z"
   },
   {
    "duration": 87,
    "start_time": "2023-08-29T08:59:27.072Z"
   },
   {
    "duration": 60,
    "start_time": "2023-08-29T08:59:27.161Z"
   },
   {
    "duration": 579,
    "start_time": "2023-08-29T08:59:27.223Z"
   },
   {
    "duration": 11,
    "start_time": "2023-08-29T08:59:27.804Z"
   },
   {
    "duration": 8,
    "start_time": "2023-08-29T08:59:27.817Z"
   },
   {
    "duration": 21,
    "start_time": "2023-08-29T08:59:27.827Z"
   },
   {
    "duration": 11,
    "start_time": "2023-08-29T08:59:27.850Z"
   },
   {
    "duration": 6,
    "start_time": "2023-08-29T08:59:27.863Z"
   },
   {
    "duration": 4,
    "start_time": "2023-08-29T08:59:27.871Z"
   },
   {
    "duration": 35,
    "start_time": "2023-08-29T08:59:27.877Z"
   },
   {
    "duration": 5,
    "start_time": "2023-08-29T08:59:27.914Z"
   },
   {
    "duration": 14,
    "start_time": "2023-08-29T08:59:27.946Z"
   },
   {
    "duration": 4,
    "start_time": "2023-08-29T08:59:27.962Z"
   },
   {
    "duration": 14,
    "start_time": "2023-08-29T08:59:27.968Z"
   },
   {
    "duration": 5,
    "start_time": "2023-08-29T08:59:27.985Z"
   },
   {
    "duration": 22,
    "start_time": "2023-08-29T08:59:27.991Z"
   },
   {
    "duration": 32,
    "start_time": "2023-08-29T08:59:28.015Z"
   },
   {
    "duration": 6,
    "start_time": "2023-08-29T08:59:28.049Z"
   },
   {
    "duration": 9,
    "start_time": "2023-08-29T08:59:28.057Z"
   },
   {
    "duration": 42,
    "start_time": "2023-08-29T08:59:28.067Z"
   },
   {
    "duration": 6,
    "start_time": "2023-08-29T08:59:28.111Z"
   },
   {
    "duration": 32,
    "start_time": "2023-08-29T08:59:28.120Z"
   },
   {
    "duration": 8,
    "start_time": "2023-08-29T08:59:28.154Z"
   },
   {
    "duration": 163,
    "start_time": "2023-08-29T08:59:28.164Z"
   },
   {
    "duration": 1033,
    "start_time": "2023-08-29T08:59:28.329Z"
   },
   {
    "duration": 16,
    "start_time": "2023-08-29T08:59:29.365Z"
   },
   {
    "duration": 1243,
    "start_time": "2023-08-29T08:59:29.383Z"
   },
   {
    "duration": 19,
    "start_time": "2023-08-29T08:59:30.628Z"
   },
   {
    "duration": 34,
    "start_time": "2023-08-29T08:59:30.649Z"
   },
   {
    "duration": 444,
    "start_time": "2023-08-29T08:59:30.685Z"
   },
   {
    "duration": 26,
    "start_time": "2023-08-29T08:59:31.131Z"
   },
   {
    "duration": 2061,
    "start_time": "2023-08-29T08:59:31.159Z"
   },
   {
    "duration": 19,
    "start_time": "2023-08-29T09:00:03.938Z"
   },
   {
    "duration": 12,
    "start_time": "2023-08-29T09:04:12.694Z"
   },
   {
    "duration": 168,
    "start_time": "2023-08-29T09:07:45.707Z"
   },
   {
    "duration": 24,
    "start_time": "2023-08-29T09:07:53.025Z"
   },
   {
    "duration": 73269,
    "start_time": "2023-08-29T09:07:53.748Z"
   },
   {
    "duration": 46,
    "start_time": "2023-08-29T09:10:45.940Z"
   },
   {
    "duration": 1814,
    "start_time": "2023-08-29T09:10:57.743Z"
   },
   {
    "duration": 15,
    "start_time": "2023-08-29T09:17:11.777Z"
   },
   {
    "duration": 344,
    "start_time": "2023-08-29T09:17:21.396Z"
   },
   {
    "duration": 411,
    "start_time": "2023-08-29T09:17:32.163Z"
   },
   {
    "duration": 12,
    "start_time": "2023-08-29T09:17:39.236Z"
   },
   {
    "duration": 12,
    "start_time": "2023-08-29T09:17:46.250Z"
   },
   {
    "duration": 437,
    "start_time": "2023-08-29T09:18:00.631Z"
   },
   {
    "duration": 280,
    "start_time": "2023-08-29T09:21:39.423Z"
   },
   {
    "duration": 380,
    "start_time": "2023-08-29T09:22:05.996Z"
   },
   {
    "duration": 9,
    "start_time": "2023-08-29T09:22:34.988Z"
   },
   {
    "duration": 160,
    "start_time": "2023-08-29T09:24:40.599Z"
   },
   {
    "duration": 137,
    "start_time": "2023-08-29T09:24:44.206Z"
   },
   {
    "duration": 150,
    "start_time": "2023-08-29T09:24:54.646Z"
   },
   {
    "duration": 152,
    "start_time": "2023-08-29T09:25:04.822Z"
   },
   {
    "duration": 140,
    "start_time": "2023-08-29T09:25:11.265Z"
   },
   {
    "duration": 142,
    "start_time": "2023-08-29T09:25:17.849Z"
   },
   {
    "duration": 127,
    "start_time": "2023-08-29T09:25:22.637Z"
   },
   {
    "duration": 148,
    "start_time": "2023-08-29T09:25:26.903Z"
   },
   {
    "duration": 138,
    "start_time": "2023-08-29T09:25:31.812Z"
   },
   {
    "duration": 186,
    "start_time": "2023-08-29T09:25:35.384Z"
   },
   {
    "duration": 140,
    "start_time": "2023-08-29T09:25:43.390Z"
   },
   {
    "duration": 5,
    "start_time": "2023-08-29T09:26:20.206Z"
   },
   {
    "duration": 6,
    "start_time": "2023-08-29T09:26:43.998Z"
   },
   {
    "duration": 857,
    "start_time": "2023-08-29T09:26:57.721Z"
   },
   {
    "duration": 4,
    "start_time": "2023-08-29T09:27:18.768Z"
   },
   {
    "duration": 4,
    "start_time": "2023-08-29T09:27:19.202Z"
   },
   {
    "duration": 1335,
    "start_time": "2023-08-29T09:27:19.763Z"
   },
   {
    "duration": 1636,
    "start_time": "2023-08-29T09:28:07.148Z"
   },
   {
    "duration": 283,
    "start_time": "2023-08-29T09:28:13.800Z"
   },
   {
    "duration": 5,
    "start_time": "2023-08-29T09:28:42.914Z"
   },
   {
    "duration": 6,
    "start_time": "2023-08-29T09:28:43.291Z"
   },
   {
    "duration": 838,
    "start_time": "2023-08-29T09:28:43.803Z"
   },
   {
    "duration": 4,
    "start_time": "2023-08-29T09:28:53.465Z"
   },
   {
    "duration": 4,
    "start_time": "2023-08-29T09:28:53.802Z"
   },
   {
    "duration": 934,
    "start_time": "2023-08-29T09:28:54.268Z"
   },
   {
    "duration": 4,
    "start_time": "2023-08-29T09:28:59.203Z"
   },
   {
    "duration": 5,
    "start_time": "2023-08-29T09:28:59.701Z"
   },
   {
    "duration": 871,
    "start_time": "2023-08-29T09:29:00.093Z"
   },
   {
    "duration": 1292,
    "start_time": "2023-08-29T09:29:21.094Z"
   },
   {
    "duration": 4,
    "start_time": "2023-08-29T09:29:22.387Z"
   },
   {
    "duration": 73,
    "start_time": "2023-08-29T09:29:22.392Z"
   },
   {
    "duration": 63,
    "start_time": "2023-08-29T09:29:22.467Z"
   },
   {
    "duration": 553,
    "start_time": "2023-08-29T09:29:22.532Z"
   },
   {
    "duration": 12,
    "start_time": "2023-08-29T09:29:23.087Z"
   },
   {
    "duration": 18,
    "start_time": "2023-08-29T09:29:23.101Z"
   },
   {
    "duration": 9,
    "start_time": "2023-08-29T09:29:23.121Z"
   },
   {
    "duration": 21,
    "start_time": "2023-08-29T09:29:23.132Z"
   },
   {
    "duration": 27,
    "start_time": "2023-08-29T09:29:23.156Z"
   },
   {
    "duration": 21,
    "start_time": "2023-08-29T09:29:23.185Z"
   },
   {
    "duration": 54,
    "start_time": "2023-08-29T09:29:23.208Z"
   },
   {
    "duration": 6,
    "start_time": "2023-08-29T09:29:23.264Z"
   },
   {
    "duration": 35,
    "start_time": "2023-08-29T09:29:23.271Z"
   },
   {
    "duration": 15,
    "start_time": "2023-08-29T09:29:23.307Z"
   },
   {
    "duration": 21,
    "start_time": "2023-08-29T09:29:23.324Z"
   },
   {
    "duration": 29,
    "start_time": "2023-08-29T09:29:23.347Z"
   },
   {
    "duration": 42,
    "start_time": "2023-08-29T09:29:23.378Z"
   },
   {
    "duration": 7,
    "start_time": "2023-08-29T09:29:23.421Z"
   },
   {
    "duration": 22,
    "start_time": "2023-08-29T09:29:23.429Z"
   },
   {
    "duration": 24,
    "start_time": "2023-08-29T09:29:23.452Z"
   },
   {
    "duration": 56,
    "start_time": "2023-08-29T09:29:23.477Z"
   },
   {
    "duration": 24,
    "start_time": "2023-08-29T09:29:23.535Z"
   },
   {
    "duration": 24,
    "start_time": "2023-08-29T09:29:23.561Z"
   },
   {
    "duration": 14,
    "start_time": "2023-08-29T09:29:23.587Z"
   },
   {
    "duration": 152,
    "start_time": "2023-08-29T09:29:23.603Z"
   },
   {
    "duration": 988,
    "start_time": "2023-08-29T09:29:23.757Z"
   },
   {
    "duration": 12,
    "start_time": "2023-08-29T09:29:24.749Z"
   },
   {
    "duration": 1212,
    "start_time": "2023-08-29T09:29:24.763Z"
   },
   {
    "duration": 19,
    "start_time": "2023-08-29T09:29:25.977Z"
   },
   {
    "duration": 431,
    "start_time": "2023-08-29T09:29:25.998Z"
   },
   {
    "duration": 24,
    "start_time": "2023-08-29T09:29:26.431Z"
   },
   {
    "duration": 1914,
    "start_time": "2023-08-29T09:29:26.456Z"
   },
   {
    "duration": 9,
    "start_time": "2023-08-29T09:29:28.372Z"
   },
   {
    "duration": 26,
    "start_time": "2023-08-29T09:29:28.382Z"
   },
   {
    "duration": 26,
    "start_time": "2023-08-29T09:29:28.409Z"
   },
   {
    "duration": 930,
    "start_time": "2023-08-29T09:29:28.437Z"
   },
   {
    "duration": 48,
    "start_time": "2023-08-31T14:06:10.276Z"
   },
   {
    "duration": 1503,
    "start_time": "2023-08-31T14:06:16.588Z"
   },
   {
    "duration": 3,
    "start_time": "2023-08-31T14:06:18.097Z"
   },
   {
    "duration": 80,
    "start_time": "2023-08-31T14:06:18.103Z"
   },
   {
    "duration": 99,
    "start_time": "2023-08-31T14:06:18.185Z"
   },
   {
    "duration": 644,
    "start_time": "2023-08-31T14:06:18.287Z"
   },
   {
    "duration": 13,
    "start_time": "2023-08-31T14:06:18.933Z"
   },
   {
    "duration": 21,
    "start_time": "2023-08-31T14:06:18.947Z"
   },
   {
    "duration": 5,
    "start_time": "2023-08-31T14:06:18.970Z"
   },
   {
    "duration": 9,
    "start_time": "2023-08-31T14:06:18.977Z"
   },
   {
    "duration": 5,
    "start_time": "2023-08-31T14:06:18.989Z"
   },
   {
    "duration": 9,
    "start_time": "2023-08-31T14:06:18.996Z"
   },
   {
    "duration": 34,
    "start_time": "2023-08-31T14:06:19.007Z"
   },
   {
    "duration": 6,
    "start_time": "2023-08-31T14:06:19.068Z"
   },
   {
    "duration": 21,
    "start_time": "2023-08-31T14:06:19.076Z"
   },
   {
    "duration": 6,
    "start_time": "2023-08-31T14:06:19.099Z"
   },
   {
    "duration": 9,
    "start_time": "2023-08-31T14:06:19.107Z"
   },
   {
    "duration": 13,
    "start_time": "2023-08-31T14:06:19.118Z"
   },
   {
    "duration": 66,
    "start_time": "2023-08-31T14:06:19.135Z"
   },
   {
    "duration": 7,
    "start_time": "2023-08-31T14:06:19.203Z"
   },
   {
    "duration": 8,
    "start_time": "2023-08-31T14:06:19.217Z"
   },
   {
    "duration": 11,
    "start_time": "2023-08-31T14:06:19.226Z"
   },
   {
    "duration": 59,
    "start_time": "2023-08-31T14:06:19.239Z"
   },
   {
    "duration": 6,
    "start_time": "2023-08-31T14:06:19.300Z"
   },
   {
    "duration": 7,
    "start_time": "2023-08-31T14:06:19.308Z"
   },
   {
    "duration": 15,
    "start_time": "2023-08-31T14:06:19.318Z"
   },
   {
    "duration": 164,
    "start_time": "2023-08-31T14:06:19.335Z"
   },
   {
    "duration": 948,
    "start_time": "2023-08-31T14:06:19.501Z"
   },
   {
    "duration": 14,
    "start_time": "2023-08-31T14:06:20.454Z"
   },
   {
    "duration": 1091,
    "start_time": "2023-08-31T14:06:20.469Z"
   },
   {
    "duration": 20,
    "start_time": "2023-08-31T14:06:21.562Z"
   },
   {
    "duration": 392,
    "start_time": "2023-08-31T14:06:21.584Z"
   },
   {
    "duration": 16,
    "start_time": "2023-08-31T14:06:21.978Z"
   },
   {
    "duration": 1833,
    "start_time": "2023-08-31T14:06:21.996Z"
   },
   {
    "duration": 161,
    "start_time": "2023-08-31T14:06:23.831Z"
   },
   {
    "duration": 14,
    "start_time": "2023-08-31T14:09:47.278Z"
   },
   {
    "duration": 188,
    "start_time": "2023-08-31T14:10:25.627Z"
   },
   {
    "duration": 38,
    "start_time": "2023-08-31T14:10:31.313Z"
   },
   {
    "duration": 6,
    "start_time": "2023-08-31T14:10:49.681Z"
   },
   {
    "duration": 35,
    "start_time": "2023-08-31T14:11:09.909Z"
   },
   {
    "duration": 13,
    "start_time": "2023-08-31T14:11:34.403Z"
   },
   {
    "duration": 20,
    "start_time": "2023-08-31T14:11:46.986Z"
   },
   {
    "duration": 31,
    "start_time": "2023-08-31T14:11:57.250Z"
   },
   {
    "duration": 32,
    "start_time": "2023-08-31T14:13:31.922Z"
   },
   {
    "duration": 30,
    "start_time": "2023-08-31T14:18:58.218Z"
   },
   {
    "duration": 33,
    "start_time": "2023-08-31T14:19:12.321Z"
   },
   {
    "duration": 7,
    "start_time": "2023-08-31T14:23:16.091Z"
   },
   {
    "duration": 28,
    "start_time": "2023-08-31T14:25:28.680Z"
   },
   {
    "duration": 33,
    "start_time": "2023-08-31T14:25:37.294Z"
   },
   {
    "duration": 30,
    "start_time": "2023-08-31T14:25:42.985Z"
   },
   {
    "duration": 49,
    "start_time": "2023-08-31T17:14:57.485Z"
   },
   {
    "duration": 127,
    "start_time": "2023-08-31T17:15:30.656Z"
   },
   {
    "duration": 50,
    "start_time": "2023-08-31T17:18:29.513Z"
   },
   {
    "duration": 1429,
    "start_time": "2023-08-31T17:18:38.592Z"
   },
   {
    "duration": 13,
    "start_time": "2023-08-31T17:18:40.023Z"
   },
   {
    "duration": 104,
    "start_time": "2023-08-31T17:18:40.038Z"
   },
   {
    "duration": 60,
    "start_time": "2023-08-31T17:18:40.144Z"
   },
   {
    "duration": 577,
    "start_time": "2023-08-31T17:18:40.206Z"
   },
   {
    "duration": 10,
    "start_time": "2023-08-31T17:18:40.785Z"
   },
   {
    "duration": 13,
    "start_time": "2023-08-31T17:18:40.797Z"
   },
   {
    "duration": 23,
    "start_time": "2023-08-31T17:18:40.811Z"
   },
   {
    "duration": 8,
    "start_time": "2023-08-31T17:18:40.835Z"
   },
   {
    "duration": 20,
    "start_time": "2023-08-31T17:18:40.846Z"
   },
   {
    "duration": 11,
    "start_time": "2023-08-31T17:18:40.868Z"
   },
   {
    "duration": 57,
    "start_time": "2023-08-31T17:18:40.881Z"
   },
   {
    "duration": 6,
    "start_time": "2023-08-31T17:18:40.941Z"
   },
   {
    "duration": 19,
    "start_time": "2023-08-31T17:18:40.948Z"
   },
   {
    "duration": 40,
    "start_time": "2023-08-31T17:18:40.969Z"
   },
   {
    "duration": 26,
    "start_time": "2023-08-31T17:18:41.010Z"
   },
   {
    "duration": 22,
    "start_time": "2023-08-31T17:18:41.038Z"
   },
   {
    "duration": 32,
    "start_time": "2023-08-31T17:18:41.062Z"
   },
   {
    "duration": 11,
    "start_time": "2023-08-31T17:18:41.096Z"
   },
   {
    "duration": 18,
    "start_time": "2023-08-31T17:18:41.109Z"
   },
   {
    "duration": 16,
    "start_time": "2023-08-31T17:18:41.129Z"
   },
   {
    "duration": 37,
    "start_time": "2023-08-31T17:18:41.146Z"
   },
   {
    "duration": 5,
    "start_time": "2023-08-31T17:18:41.184Z"
   },
   {
    "duration": 23,
    "start_time": "2023-08-31T17:18:41.190Z"
   },
   {
    "duration": 22,
    "start_time": "2023-08-31T17:18:41.215Z"
   },
   {
    "duration": 127,
    "start_time": "2023-08-31T17:18:41.239Z"
   },
   {
    "duration": 6,
    "start_time": "2023-08-31T17:18:55.674Z"
   },
   {
    "duration": 12,
    "start_time": "2023-08-31T17:19:18.961Z"
   },
   {
    "duration": 5,
    "start_time": "2023-08-31T17:19:45.293Z"
   },
   {
    "duration": 3,
    "start_time": "2023-08-31T17:27:16.986Z"
   },
   {
    "duration": 4,
    "start_time": "2023-08-31T17:27:24.280Z"
   },
   {
    "duration": 7,
    "start_time": "2023-08-31T17:30:42.087Z"
   },
   {
    "duration": 10,
    "start_time": "2023-08-31T17:30:54.596Z"
   },
   {
    "duration": 12,
    "start_time": "2023-08-31T17:47:13.496Z"
   },
   {
    "duration": 5,
    "start_time": "2023-08-31T17:47:28.584Z"
   },
   {
    "duration": 24,
    "start_time": "2023-08-31T17:47:33.595Z"
   },
   {
    "duration": 22,
    "start_time": "2023-08-31T17:47:40.214Z"
   },
   {
    "duration": 15,
    "start_time": "2023-08-31T17:48:06.449Z"
   },
   {
    "duration": 14,
    "start_time": "2023-08-31T17:49:14.998Z"
   },
   {
    "duration": 15,
    "start_time": "2023-08-31T17:54:23.337Z"
   },
   {
    "duration": 14,
    "start_time": "2023-08-31T17:54:36.264Z"
   },
   {
    "duration": 16,
    "start_time": "2023-08-31T17:55:04.857Z"
   },
   {
    "duration": 1194,
    "start_time": "2023-08-31T17:55:27.502Z"
   },
   {
    "duration": 3,
    "start_time": "2023-08-31T17:55:28.698Z"
   },
   {
    "duration": 130,
    "start_time": "2023-08-31T17:55:28.703Z"
   },
   {
    "duration": 57,
    "start_time": "2023-08-31T17:55:28.835Z"
   },
   {
    "duration": 547,
    "start_time": "2023-08-31T17:55:28.894Z"
   },
   {
    "duration": 11,
    "start_time": "2023-08-31T17:55:29.442Z"
   },
   {
    "duration": 41,
    "start_time": "2023-08-31T17:55:29.454Z"
   },
   {
    "duration": 23,
    "start_time": "2023-08-31T17:55:29.497Z"
   },
   {
    "duration": 29,
    "start_time": "2023-08-31T17:55:29.522Z"
   },
   {
    "duration": 33,
    "start_time": "2023-08-31T17:55:29.553Z"
   },
   {
    "duration": 33,
    "start_time": "2023-08-31T17:55:29.588Z"
   },
   {
    "duration": 100,
    "start_time": "2023-08-31T17:55:29.628Z"
   },
   {
    "duration": 15,
    "start_time": "2023-08-31T17:55:29.730Z"
   },
   {
    "duration": 81,
    "start_time": "2023-08-31T17:55:29.746Z"
   },
   {
    "duration": 46,
    "start_time": "2023-08-31T17:55:29.831Z"
   },
   {
    "duration": 36,
    "start_time": "2023-08-31T17:55:29.879Z"
   },
   {
    "duration": 17,
    "start_time": "2023-08-31T17:55:29.916Z"
   },
   {
    "duration": 127,
    "start_time": "2023-08-31T17:55:29.935Z"
   },
   {
    "duration": 88,
    "start_time": "2023-08-31T17:55:30.064Z"
   },
   {
    "duration": 86,
    "start_time": "2023-08-31T17:55:30.154Z"
   },
   {
    "duration": 174,
    "start_time": "2023-08-31T17:55:30.242Z"
   },
   {
    "duration": 204,
    "start_time": "2023-08-31T17:55:30.418Z"
   },
   {
    "duration": 10,
    "start_time": "2023-08-31T17:55:30.628Z"
   },
   {
    "duration": 69,
    "start_time": "2023-08-31T17:55:30.639Z"
   },
   {
    "duration": 115,
    "start_time": "2023-08-31T17:55:30.709Z"
   },
   {
    "duration": 328,
    "start_time": "2023-08-31T17:55:30.825Z"
   },
   {
    "duration": 12,
    "start_time": "2023-08-31T17:55:31.154Z"
   },
   {
    "duration": 31,
    "start_time": "2023-08-31T17:55:31.169Z"
   },
   {
    "duration": 84,
    "start_time": "2023-08-31T17:55:31.202Z"
   },
   {
    "duration": 1090,
    "start_time": "2023-08-31T17:55:31.288Z"
   },
   {
    "duration": 12,
    "start_time": "2023-08-31T17:55:32.380Z"
   },
   {
    "duration": 1071,
    "start_time": "2023-08-31T17:55:32.393Z"
   },
   {
    "duration": 17,
    "start_time": "2023-08-31T17:55:33.466Z"
   },
   {
    "duration": 506,
    "start_time": "2023-08-31T17:55:33.485Z"
   },
   {
    "duration": 14,
    "start_time": "2023-08-31T17:55:33.993Z"
   },
   {
    "duration": 1955,
    "start_time": "2023-08-31T17:55:34.009Z"
   },
   {
    "duration": 5,
    "start_time": "2023-08-31T17:55:35.966Z"
   },
   {
    "duration": 82,
    "start_time": "2023-08-31T17:55:35.973Z"
   },
   {
    "duration": 63,
    "start_time": "2023-08-31T17:55:36.057Z"
   },
   {
    "duration": 20,
    "start_time": "2023-08-31T17:55:36.121Z"
   },
   {
    "duration": 10,
    "start_time": "2023-08-31T17:57:44.167Z"
   },
   {
    "duration": 20,
    "start_time": "2023-08-31T17:57:55.740Z"
   },
   {
    "duration": 16,
    "start_time": "2023-08-31T17:58:09.300Z"
   },
   {
    "duration": 16,
    "start_time": "2023-08-31T17:58:46.363Z"
   },
   {
    "duration": 17,
    "start_time": "2023-08-31T17:59:37.263Z"
   },
   {
    "duration": 44,
    "start_time": "2023-09-01T17:25:26.197Z"
   },
   {
    "duration": 1520,
    "start_time": "2023-09-01T17:27:17.928Z"
   },
   {
    "duration": 7,
    "start_time": "2023-09-01T17:27:19.450Z"
   },
   {
    "duration": 131,
    "start_time": "2023-09-01T17:27:19.460Z"
   },
   {
    "duration": 69,
    "start_time": "2023-09-01T17:27:19.593Z"
   },
   {
    "duration": 567,
    "start_time": "2023-09-01T17:27:19.664Z"
   },
   {
    "duration": 29,
    "start_time": "2023-09-01T17:27:20.233Z"
   },
   {
    "duration": 7,
    "start_time": "2023-09-01T17:27:20.264Z"
   },
   {
    "duration": 13,
    "start_time": "2023-09-01T17:27:20.273Z"
   },
   {
    "duration": 10,
    "start_time": "2023-09-01T17:27:20.287Z"
   },
   {
    "duration": 5,
    "start_time": "2023-09-01T17:27:20.299Z"
   },
   {
    "duration": 6,
    "start_time": "2023-09-01T17:27:20.305Z"
   },
   {
    "duration": 50,
    "start_time": "2023-09-01T17:27:20.312Z"
   },
   {
    "duration": 6,
    "start_time": "2023-09-01T17:27:20.363Z"
   },
   {
    "duration": 22,
    "start_time": "2023-09-01T17:27:20.370Z"
   },
   {
    "duration": 7,
    "start_time": "2023-09-01T17:27:20.393Z"
   },
   {
    "duration": 8,
    "start_time": "2023-09-01T17:27:20.402Z"
   },
   {
    "duration": 5,
    "start_time": "2023-09-01T17:27:20.412Z"
   },
   {
    "duration": 46,
    "start_time": "2023-09-01T17:27:20.418Z"
   },
   {
    "duration": 6,
    "start_time": "2023-09-01T17:27:20.466Z"
   },
   {
    "duration": 14,
    "start_time": "2023-09-01T17:27:20.474Z"
   },
   {
    "duration": 20,
    "start_time": "2023-09-01T17:27:20.490Z"
   },
   {
    "duration": 56,
    "start_time": "2023-09-01T17:27:20.512Z"
   },
   {
    "duration": 5,
    "start_time": "2023-09-01T17:27:20.570Z"
   },
   {
    "duration": 31,
    "start_time": "2023-09-01T17:27:20.577Z"
   },
   {
    "duration": 30,
    "start_time": "2023-09-01T17:27:20.610Z"
   },
   {
    "duration": 146,
    "start_time": "2023-09-01T17:27:20.641Z"
   },
   {
    "duration": 12,
    "start_time": "2023-09-01T17:27:20.789Z"
   },
   {
    "duration": 37,
    "start_time": "2023-09-01T17:27:20.805Z"
   },
   {
    "duration": 27,
    "start_time": "2023-09-01T17:27:20.844Z"
   },
   {
    "duration": 1160,
    "start_time": "2023-09-01T17:27:20.874Z"
   },
   {
    "duration": 20,
    "start_time": "2023-09-01T17:27:22.036Z"
   },
   {
    "duration": 1156,
    "start_time": "2023-09-01T17:27:22.058Z"
   },
   {
    "duration": 17,
    "start_time": "2023-09-01T17:27:23.216Z"
   },
   {
    "duration": 395,
    "start_time": "2023-09-01T17:27:23.235Z"
   },
   {
    "duration": 25,
    "start_time": "2023-09-01T17:27:23.632Z"
   },
   {
    "duration": 1875,
    "start_time": "2023-09-01T17:27:23.659Z"
   },
   {
    "duration": 6,
    "start_time": "2023-09-01T17:27:45.405Z"
   },
   {
    "duration": 12,
    "start_time": "2023-09-01T17:29:54.360Z"
   },
   {
    "duration": 112,
    "start_time": "2023-09-01T17:30:55.255Z"
   },
   {
    "duration": 19,
    "start_time": "2023-09-01T17:31:13.911Z"
   },
   {
    "duration": 18,
    "start_time": "2023-09-01T17:31:36.563Z"
   },
   {
    "duration": 19,
    "start_time": "2023-09-01T17:31:46.684Z"
   },
   {
    "duration": 17,
    "start_time": "2023-09-01T17:40:38.375Z"
   },
   {
    "duration": 16,
    "start_time": "2023-09-01T17:41:02.661Z"
   },
   {
    "duration": 29,
    "start_time": "2023-09-01T17:41:26.839Z"
   },
   {
    "duration": 20,
    "start_time": "2023-09-01T17:44:12.301Z"
   },
   {
    "duration": 19,
    "start_time": "2023-09-01T17:45:38.286Z"
   },
   {
    "duration": 9,
    "start_time": "2023-09-01T17:54:53.716Z"
   },
   {
    "duration": 5,
    "start_time": "2023-09-01T17:55:24.540Z"
   },
   {
    "duration": 10,
    "start_time": "2023-09-01T17:55:30.159Z"
   },
   {
    "duration": 7,
    "start_time": "2023-09-01T17:55:42.935Z"
   },
   {
    "duration": 10,
    "start_time": "2023-09-01T17:58:33.431Z"
   },
   {
    "duration": 11,
    "start_time": "2023-09-01T17:58:37.486Z"
   },
   {
    "duration": 10,
    "start_time": "2023-09-01T18:02:17.305Z"
   },
   {
    "duration": 111,
    "start_time": "2023-09-01T18:02:53.461Z"
   },
   {
    "duration": 7,
    "start_time": "2023-09-01T18:03:21.381Z"
   },
   {
    "duration": 7,
    "start_time": "2023-09-01T18:04:37.186Z"
   },
   {
    "duration": 1568,
    "start_time": "2023-09-02T10:40:21.788Z"
   },
   {
    "duration": 3,
    "start_time": "2023-09-02T10:40:23.358Z"
   },
   {
    "duration": 124,
    "start_time": "2023-09-02T10:41:11.089Z"
   },
   {
    "duration": 65,
    "start_time": "2023-09-02T10:41:18.848Z"
   },
   {
    "duration": 622,
    "start_time": "2023-09-02T10:44:34.859Z"
   },
   {
    "duration": 13,
    "start_time": "2023-09-02T10:45:50.308Z"
   },
   {
    "duration": 9,
    "start_time": "2023-09-02T10:46:44.610Z"
   },
   {
    "duration": 7,
    "start_time": "2023-09-02T10:46:53.210Z"
   },
   {
    "duration": 7,
    "start_time": "2023-09-02T10:59:55.487Z"
   },
   {
    "duration": 6,
    "start_time": "2023-09-02T11:00:25.196Z"
   },
   {
    "duration": 4,
    "start_time": "2023-09-02T11:00:52.600Z"
   },
   {
    "duration": 33,
    "start_time": "2023-09-02T11:00:56.829Z"
   },
   {
    "duration": 6,
    "start_time": "2023-09-02T11:04:39.072Z"
   },
   {
    "duration": 18,
    "start_time": "2023-09-02T11:04:47.785Z"
   },
   {
    "duration": 5,
    "start_time": "2023-09-02T11:05:13.933Z"
   },
   {
    "duration": 7,
    "start_time": "2023-09-02T11:05:37.482Z"
   },
   {
    "duration": 6,
    "start_time": "2023-09-02T11:05:58.584Z"
   },
   {
    "duration": 27,
    "start_time": "2023-09-02T11:06:00.387Z"
   },
   {
    "duration": 7,
    "start_time": "2023-09-02T11:06:22.476Z"
   },
   {
    "duration": 8,
    "start_time": "2023-09-02T11:10:37.896Z"
   },
   {
    "duration": 7,
    "start_time": "2023-09-02T11:10:40.539Z"
   },
   {
    "duration": 36,
    "start_time": "2023-09-02T11:11:57.127Z"
   },
   {
    "duration": 2,
    "start_time": "2023-09-02T11:15:49.561Z"
   },
   {
    "duration": 48,
    "start_time": "2023-09-02T11:15:53.294Z"
   },
   {
    "duration": 7,
    "start_time": "2023-09-02T11:22:15.502Z"
   },
   {
    "duration": 10,
    "start_time": "2023-09-02T11:22:34.113Z"
   },
   {
    "duration": 8,
    "start_time": "2023-09-02T11:23:11.146Z"
   },
   {
    "duration": 165,
    "start_time": "2023-09-02T11:24:02.129Z"
   },
   {
    "duration": 149,
    "start_time": "2023-09-02T11:24:19.829Z"
   },
   {
    "duration": 9,
    "start_time": "2023-09-02T11:24:23.752Z"
   },
   {
    "duration": 12,
    "start_time": "2023-09-02T11:27:46.927Z"
   },
   {
    "duration": 10,
    "start_time": "2023-09-02T11:28:41.232Z"
   },
   {
    "duration": 25,
    "start_time": "2023-09-02T11:29:04.081Z"
   },
   {
    "duration": 11,
    "start_time": "2023-09-02T11:29:11.453Z"
   },
   {
    "duration": 18,
    "start_time": "2023-09-02T11:29:15.068Z"
   },
   {
    "duration": 15,
    "start_time": "2023-09-02T11:29:33.169Z"
   },
   {
    "duration": 1321,
    "start_time": "2023-09-02T11:40:35.492Z"
   },
   {
    "duration": 1314,
    "start_time": "2023-09-02T11:41:33.155Z"
   },
   {
    "duration": 1257,
    "start_time": "2023-09-02T11:42:02.516Z"
   },
   {
    "duration": 1316,
    "start_time": "2023-09-02T11:42:10.601Z"
   },
   {
    "duration": 146,
    "start_time": "2023-09-02T11:42:39.976Z"
   },
   {
    "duration": 1309,
    "start_time": "2023-09-02T11:42:45.755Z"
   },
   {
    "duration": 1220,
    "start_time": "2023-09-02T11:55:33.960Z"
   },
   {
    "duration": 20,
    "start_time": "2023-09-02T12:00:19.740Z"
   },
   {
    "duration": 517,
    "start_time": "2023-09-02T12:00:44.274Z"
   },
   {
    "duration": 27,
    "start_time": "2023-09-02T12:01:51.366Z"
   },
   {
    "duration": 2230,
    "start_time": "2023-09-02T12:02:11.198Z"
   },
   {
    "duration": 26,
    "start_time": "2023-09-02T12:25:55.080Z"
   },
   {
    "duration": 17,
    "start_time": "2023-09-02T12:26:05.099Z"
   },
   {
    "duration": 23,
    "start_time": "2023-09-02T12:26:13.704Z"
   },
   {
    "duration": 15,
    "start_time": "2023-09-02T12:26:45.632Z"
   },
   {
    "duration": 24,
    "start_time": "2023-09-02T12:26:53.673Z"
   },
   {
    "duration": 20,
    "start_time": "2023-09-02T12:27:01.856Z"
   },
   {
    "duration": 20,
    "start_time": "2023-09-02T12:27:09.916Z"
   },
   {
    "duration": 26,
    "start_time": "2023-09-02T12:27:34.681Z"
   },
   {
    "duration": 16,
    "start_time": "2023-09-02T12:27:40.146Z"
   },
   {
    "duration": 20,
    "start_time": "2023-09-02T12:27:46.869Z"
   },
   {
    "duration": 20,
    "start_time": "2023-09-02T12:27:50.842Z"
   },
   {
    "duration": 19,
    "start_time": "2023-09-02T13:25:42.994Z"
   },
   {
    "duration": 25,
    "start_time": "2023-09-02T13:25:50.170Z"
   },
   {
    "duration": 17,
    "start_time": "2023-09-02T13:27:03.394Z"
   },
   {
    "duration": 486,
    "start_time": "2023-09-02T13:27:03.852Z"
   },
   {
    "duration": 19,
    "start_time": "2023-09-02T13:27:32.441Z"
   },
   {
    "duration": 390,
    "start_time": "2023-09-02T13:27:32.754Z"
   },
   {
    "duration": 21,
    "start_time": "2023-09-02T13:47:35.094Z"
   },
   {
    "duration": 18,
    "start_time": "2023-09-02T13:50:48.828Z"
   },
   {
    "duration": 23,
    "start_time": "2023-09-02T13:54:56.303Z"
   },
   {
    "duration": 26,
    "start_time": "2023-09-02T13:55:52.600Z"
   },
   {
    "duration": 24,
    "start_time": "2023-09-02T13:57:21.989Z"
   },
   {
    "duration": 33,
    "start_time": "2023-09-02T13:57:36.798Z"
   },
   {
    "duration": 8,
    "start_time": "2023-09-02T14:42:30.137Z"
   },
   {
    "duration": 8,
    "start_time": "2023-09-02T14:46:23.792Z"
   },
   {
    "duration": 8,
    "start_time": "2023-09-02T14:51:12.191Z"
   },
   {
    "duration": 11,
    "start_time": "2023-09-02T14:54:14.504Z"
   },
   {
    "duration": 8,
    "start_time": "2023-09-02T14:59:33.012Z"
   },
   {
    "duration": 1664,
    "start_time": "2023-09-03T10:33:33.798Z"
   },
   {
    "duration": 5,
    "start_time": "2023-09-03T10:33:35.466Z"
   },
   {
    "duration": 83,
    "start_time": "2023-09-03T10:33:35.473Z"
   },
   {
    "duration": 101,
    "start_time": "2023-09-03T10:33:35.559Z"
   },
   {
    "duration": 677,
    "start_time": "2023-09-03T10:33:35.663Z"
   },
   {
    "duration": 13,
    "start_time": "2023-09-03T10:33:36.342Z"
   },
   {
    "duration": 9,
    "start_time": "2023-09-03T10:33:36.356Z"
   },
   {
    "duration": 6,
    "start_time": "2023-09-03T10:33:36.367Z"
   },
   {
    "duration": 40,
    "start_time": "2023-09-03T10:33:36.375Z"
   },
   {
    "duration": 10,
    "start_time": "2023-09-03T10:33:36.420Z"
   },
   {
    "duration": 46,
    "start_time": "2023-09-03T10:33:36.433Z"
   },
   {
    "duration": 7,
    "start_time": "2023-09-03T10:33:36.480Z"
   },
   {
    "duration": 42,
    "start_time": "2023-09-03T10:33:36.489Z"
   },
   {
    "duration": 6,
    "start_time": "2023-09-03T10:33:36.533Z"
   },
   {
    "duration": 6,
    "start_time": "2023-09-03T10:33:36.541Z"
   },
   {
    "duration": 6,
    "start_time": "2023-09-03T10:33:36.549Z"
   },
   {
    "duration": 68,
    "start_time": "2023-09-03T10:33:36.557Z"
   },
   {
    "duration": 8,
    "start_time": "2023-09-03T10:33:36.627Z"
   },
   {
    "duration": 10,
    "start_time": "2023-09-03T10:33:36.636Z"
   },
   {
    "duration": 13,
    "start_time": "2023-09-03T10:33:36.647Z"
   },
   {
    "duration": 71,
    "start_time": "2023-09-03T10:33:36.662Z"
   },
   {
    "duration": 7,
    "start_time": "2023-09-03T10:33:36.736Z"
   },
   {
    "duration": 11,
    "start_time": "2023-09-03T10:33:36.745Z"
   },
   {
    "duration": 213,
    "start_time": "2023-09-03T10:33:36.758Z"
   },
   {
    "duration": 8,
    "start_time": "2023-09-03T10:33:36.973Z"
   },
   {
    "duration": 33,
    "start_time": "2023-09-03T10:33:36.982Z"
   },
   {
    "duration": 16,
    "start_time": "2023-09-03T10:33:37.025Z"
   },
   {
    "duration": 1138,
    "start_time": "2023-09-03T10:33:37.045Z"
   },
   {
    "duration": 1123,
    "start_time": "2023-09-03T10:33:38.185Z"
   },
   {
    "duration": 22,
    "start_time": "2023-09-03T10:33:39.310Z"
   },
   {
    "duration": 492,
    "start_time": "2023-09-03T10:33:39.334Z"
   },
   {
    "duration": 18,
    "start_time": "2023-09-03T10:33:39.828Z"
   },
   {
    "duration": 2087,
    "start_time": "2023-09-03T10:33:39.848Z"
   },
   {
    "duration": 24,
    "start_time": "2023-09-03T10:33:41.937Z"
   },
   {
    "duration": 22,
    "start_time": "2023-09-03T10:33:41.963Z"
   },
   {
    "duration": 28,
    "start_time": "2023-09-03T10:33:42.012Z"
   },
   {
    "duration": 26,
    "start_time": "2023-09-03T10:33:42.042Z"
   },
   {
    "duration": 9,
    "start_time": "2023-09-03T10:33:42.070Z"
   },
   {
    "duration": 20,
    "start_time": "2023-09-03T10:33:42.112Z"
   },
   {
    "duration": 13,
    "start_time": "2023-09-03T10:33:42.134Z"
   },
   {
    "duration": 8,
    "start_time": "2023-09-03T10:33:42.149Z"
   }
  ],
  "colab": {
   "name": "final_project_4.ipynb",
   "provenance": []
  },
  "kernelspec": {
   "display_name": "Python 3 (ipykernel)",
   "language": "python",
   "name": "python3"
  },
  "language_info": {
   "codemirror_mode": {
    "name": "ipython",
    "version": 3
   },
   "file_extension": ".py",
   "mimetype": "text/x-python",
   "name": "python",
   "nbconvert_exporter": "python",
   "pygments_lexer": "ipython3",
   "version": "3.9.12"
  },
  "toc": {
   "base_numbering": 1,
   "nav_menu": {},
   "number_sections": true,
   "sideBar": true,
   "skip_h1_title": true,
   "title_cell": "Содержание",
   "title_sidebar": "Contents",
   "toc_cell": true,
   "toc_position": {
    "height": "calc(100% - 180px)",
    "left": "10px",
    "top": "150px",
    "width": "293.225px"
   },
   "toc_section_display": true,
   "toc_window_display": true
  }
 },
 "nbformat": 4,
 "nbformat_minor": 1
}
